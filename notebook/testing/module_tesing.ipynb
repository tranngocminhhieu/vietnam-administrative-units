{
 "cells": [
  {
   "cell_type": "code",
   "execution_count": 1,
   "id": "initial_id",
   "metadata": {
    "collapsed": true,
    "ExecuteTime": {
     "end_time": "2024-09-20T10:22:31.461079Z",
     "start_time": "2024-09-20T10:22:30.630228Z"
    }
   },
   "outputs": [],
   "source": [
    "from vietadminunits import parse_address, get_data\n",
    "import pandas as pd\n",
    "import re\n",
    "\n",
    "from unidecode import unidecode"
   ]
  },
  {
   "cell_type": "code",
   "outputs": [
    {
     "data": {
      "text/plain": "AdministrativeUnit:\nAttribute                      | Value                         \n--------------------------------------------------------------\nprovince                       | Hồ Chí Minh                   \ndistrict                       | Quận 5                        \nward                           | Phường 2                      \n--------------------------------------------------------------\nlong_province                  | Thành phố Hồ Chí Minh         \nlong_district                  | Quận 5                        \nlong_ward                      | Phường 2                      \n--------------------------------------------------------------\nshort_district                 | Quận 5                        \nshort_ward                     | Phường 2                      \n--------------------------------------------------------------\nprovince_english               | Ho Chi Minh                   \ndistrict_english               | District 5                    \nward_english                   | Ward 2                        \n--------------------------------------------------------------\nlong_province_english          | Ho Chi Minh City              \nlong_district_english          | District 5                    \nlong_ward_english              | Ward 2                        \n--------------------------------------------------------------\nshort_district_english         | District 5                    \nshort_ward_english             | Ward 2                        \n--------------------------------------------------------------\ndistrict_level                 | Quận                          \nward_level                     | Phường                        \n--------------------------------------------------------------\ndistrict_level_english         | District                      \nward_level_english             | Ward                          "
     },
     "execution_count": 2,
     "metadata": {},
     "output_type": "execute_result"
    }
   ],
   "source": [
    "parse_address('p2 q5')"
   ],
   "metadata": {
    "collapsed": false,
    "ExecuteTime": {
     "end_time": "2024-09-20T10:22:31.465891Z",
     "start_time": "2024-09-20T10:22:31.461947Z"
    }
   },
   "id": "9d9b97acec9e9367",
   "execution_count": 2
  },
  {
   "cell_type": "code",
   "outputs": [
    {
     "data": {
      "text/plain": "'Huyện Kỳ Anh'"
     },
     "execution_count": 3,
     "metadata": {},
     "output_type": "execute_result"
    }
   ],
   "source": [
    "parse_address('Huyện Kỳ Anh Hà Tĩnh').district\n",
    "# Có Huyện thì Huyện"
   ],
   "metadata": {
    "collapsed": false,
    "ExecuteTime": {
     "end_time": "2024-09-20T10:22:31.470961Z",
     "start_time": "2024-09-20T10:22:31.466582Z"
    }
   },
   "id": "26341837c1197341",
   "execution_count": 3
  },
  {
   "cell_type": "code",
   "outputs": [
    {
     "data": {
      "text/plain": "'Thị xã Kỳ Anh'"
     },
     "execution_count": 4,
     "metadata": {},
     "output_type": "execute_result"
    }
   ],
   "source": [
    "parse_address('Thị xã Kỳ Anh Hà Tĩnh').district\n",
    "# Có Thị xã thì thị xã"
   ],
   "metadata": {
    "collapsed": false,
    "ExecuteTime": {
     "end_time": "2024-09-20T10:22:31.474081Z",
     "start_time": "2024-09-20T10:22:31.471981Z"
    }
   },
   "id": "2e6b3f55fb191613",
   "execution_count": 4
  },
  {
   "cell_type": "code",
   "outputs": [
    {
     "data": {
      "text/plain": "'Thị xã Kỳ Anh'"
     },
     "execution_count": 5,
     "metadata": {},
     "output_type": "execute_result"
    }
   ],
   "source": [
    "parse_address('tx.Kỳ Anh Hà Tĩnh').district\n",
    "# Có Thị xã thì thị xã"
   ],
   "metadata": {
    "collapsed": false,
    "ExecuteTime": {
     "end_time": "2024-09-20T10:22:31.477609Z",
     "start_time": "2024-09-20T10:22:31.474689Z"
    }
   },
   "id": "a708c1598dddf88e",
   "execution_count": 5
  },
  {
   "cell_type": "code",
   "outputs": [
    {
     "data": {
      "text/plain": "'Thị xã Kỳ Anh'"
     },
     "execution_count": 6,
     "metadata": {},
     "output_type": "execute_result"
    }
   ],
   "source": [
    "parse_address('Kỳ Anh Hà Tĩnh').district\n",
    "# Không có gì thì Google Trend"
   ],
   "metadata": {
    "collapsed": false,
    "ExecuteTime": {
     "end_time": "2024-09-20T10:22:31.480412Z",
     "start_time": "2024-09-20T10:22:31.478197Z"
    }
   },
   "id": "944c2e258f716fce",
   "execution_count": 6
  },
  {
   "cell_type": "code",
   "outputs": [
    {
     "data": {
      "text/plain": "'Thị xã Kỳ Anh'"
     },
     "execution_count": 7,
     "metadata": {},
     "output_type": "execute_result"
    }
   ],
   "source": [
    "parse_address('Kỳ Anh').district\n",
    "# Không có gì thì Google Trend, ko có province luôn cũng được"
   ],
   "metadata": {
    "collapsed": false,
    "ExecuteTime": {
     "end_time": "2024-09-20T10:22:31.483100Z",
     "start_time": "2024-09-20T10:22:31.480926Z"
    }
   },
   "id": "7ee7a24f64e10b5",
   "execution_count": 7
  },
  {
   "cell_type": "code",
   "outputs": [
    {
     "data": {
      "text/plain": "'Thị xã Kỳ Anh'"
     },
     "execution_count": 8,
     "metadata": {},
     "output_type": "execute_result"
    }
   ],
   "source": [
    "parse_address('Hưng Trí, Kỳ Anh').district\n",
    "# Có ward thì auto biết"
   ],
   "metadata": {
    "collapsed": false,
    "ExecuteTime": {
     "end_time": "2024-09-20T10:22:31.485977Z",
     "start_time": "2024-09-20T10:22:31.483643Z"
    }
   },
   "id": "d1f882a48735fb56",
   "execution_count": 8
  },
  {
   "cell_type": "code",
   "outputs": [
    {
     "data": {
      "text/plain": "'Huyện Kỳ Anh'"
     },
     "execution_count": 9,
     "metadata": {},
     "output_type": "execute_result"
    }
   ],
   "source": [
    "parse_address('Kỳ Lạc, Kỳ Anh').district\n",
    "# Có ward thì auto biết"
   ],
   "metadata": {
    "collapsed": false,
    "ExecuteTime": {
     "end_time": "2024-09-20T10:22:31.488607Z",
     "start_time": "2024-09-20T10:22:31.486583Z"
    }
   },
   "id": "5e2960b0dac284b3",
   "execution_count": 9
  },
  {
   "cell_type": "markdown",
   "source": [
    "# Demo"
   ],
   "metadata": {
    "collapsed": false
   },
   "id": "5a2fae1f4817088b"
  },
  {
   "cell_type": "code",
   "outputs": [
    {
     "data": {
      "text/plain": "AdministrativeUnit:\nAttribute                      | Value                         \n--------------------------------------------------------------\nprovince                       | Hồ Chí Minh                   \ndistrict                       | Quận 5                        \nward                           | Phường 2                      \n--------------------------------------------------------------\nlong_province                  | Thành phố Hồ Chí Minh         \nlong_district                  | Quận 5                        \nlong_ward                      | Phường 2                      \n--------------------------------------------------------------\nshort_district                 | Quận 5                        \nshort_ward                     | Phường 2                      \n--------------------------------------------------------------\nprovince_english               | Ho Chi Minh                   \ndistrict_english               | District 5                    \nward_english                   | Ward 2                        \n--------------------------------------------------------------\nlong_province_english          | Ho Chi Minh City              \nlong_district_english          | District 5                    \nlong_ward_english              | Ward 2                        \n--------------------------------------------------------------\nshort_district_english         | District 5                    \nshort_ward_english             | Ward 2                        \n--------------------------------------------------------------\ndistrict_level                 | Quận                          \nward_level                     | Phường                        \n--------------------------------------------------------------\ndistrict_level_english         | District                      \nward_level_english             | Ward                          "
     },
     "execution_count": 10,
     "metadata": {},
     "output_type": "execute_result"
    }
   ],
   "source": [
    "parse_address('p2 q5')"
   ],
   "metadata": {
    "collapsed": false,
    "ExecuteTime": {
     "end_time": "2024-09-20T10:22:31.492020Z",
     "start_time": "2024-09-20T10:22:31.490249Z"
    }
   },
   "id": "364a536daa733e10",
   "execution_count": 10
  },
  {
   "cell_type": "code",
   "outputs": [
    {
     "data": {
      "text/plain": "AdministrativeUnit:\nAttribute                      | Value                         \n--------------------------------------------------------------\nprovince                       | Hồ Chí Minh                   \ndistrict                       | Quận 5                        \nward                           | Phường 2                      \n--------------------------------------------------------------\nlong_province                  | Thành phố Hồ Chí Minh         \nlong_district                  | Quận 5                        \nlong_ward                      | Phường 2                      \n--------------------------------------------------------------\nshort_district                 | Quận 5                        \nshort_ward                     | Phường 2                      \n--------------------------------------------------------------\nprovince_english               | Ho Chi Minh                   \ndistrict_english               | District 5                    \nward_english                   | Ward 2                        \n--------------------------------------------------------------\nlong_province_english          | Ho Chi Minh City              \nlong_district_english          | District 5                    \nlong_ward_english              | Ward 2                        \n--------------------------------------------------------------\nshort_district_english         | District 5                    \nshort_ward_english             | Ward 2                        \n--------------------------------------------------------------\ndistrict_level                 | Quận                          \nward_level                     | Phường                        \n--------------------------------------------------------------\ndistrict_level_english         | District                      \nward_level_english             | Ward                          "
     },
     "execution_count": 11,
     "metadata": {},
     "output_type": "execute_result"
    }
   ],
   "source": [
    "parse_address('duong ab p2 q5')"
   ],
   "metadata": {
    "collapsed": false,
    "ExecuteTime": {
     "end_time": "2024-09-20T10:22:31.494921Z",
     "start_time": "2024-09-20T10:22:31.492824Z"
    }
   },
   "id": "dfec4031da7b0204",
   "execution_count": 11
  },
  {
   "cell_type": "code",
   "outputs": [
    {
     "data": {
      "text/plain": "AdministrativeUnit:\nAttribute                      | Value                         \n--------------------------------------------------------------\nprovince                       | Hồ Chí Minh                   \ndistrict                       | Thủ Đức                       \nward                           |                               \n--------------------------------------------------------------\nlong_province                  | Thành phố Hồ Chí Minh         \nlong_district                  | Thành phố Thủ Đức             \nlong_ward                      |                               \n--------------------------------------------------------------\nshort_district                 | Thủ Đức                       \nshort_ward                     |                               \n--------------------------------------------------------------\nprovince_english               | Ho Chi Minh                   \ndistrict_english               | Thu Duc                       \nward_english                   |                               \n--------------------------------------------------------------\nlong_province_english          | Ho Chi Minh City              \nlong_district_english          | Thu Duc City                  \nlong_ward_english              |                               \n--------------------------------------------------------------\nshort_district_english         | Thu Duc                       \nshort_ward_english             |                               \n--------------------------------------------------------------\ndistrict_level                 | Thành phố                     \nward_level                     |                               \n--------------------------------------------------------------\ndistrict_level_english         | City                          \nward_level_english             |                               "
     },
     "execution_count": 12,
     "metadata": {},
     "output_type": "execute_result"
    }
   ],
   "source": [
    "parse_address('thu duc')"
   ],
   "metadata": {
    "collapsed": false,
    "ExecuteTime": {
     "end_time": "2024-09-20T10:22:31.497453Z",
     "start_time": "2024-09-20T10:22:31.495416Z"
    }
   },
   "id": "eab6dd96ced97284",
   "execution_count": 12
  },
  {
   "cell_type": "code",
   "outputs": [
    {
     "data": {
      "text/plain": "AdministrativeUnit:\nAttribute                      | Value                         \n--------------------------------------------------------------\nprovince                       | Bình Thuận                    \ndistrict                       | Phan Thiết                    \nward                           | Phú Trinh                     \n--------------------------------------------------------------\nlong_province                  | Tỉnh Bình Thuận               \nlong_district                  | Thành phố Phan Thiết          \nlong_ward                      | Phường Phú Trinh              \n--------------------------------------------------------------\nshort_district                 | Phan Thiết                    \nshort_ward                     | Phú Trinh                     \n--------------------------------------------------------------\nprovince_english               | Binh Thuan                    \ndistrict_english               | Phan Thiet                    \nward_english                   | Phu Trinh                     \n--------------------------------------------------------------\nlong_province_english          | Binh Thuan Province           \nlong_district_english          | Phan Thiet City               \nlong_ward_english              | Phu Trinh Ward                \n--------------------------------------------------------------\nshort_district_english         | Phan Thiet                    \nshort_ward_english             | Phu Trinh                     \n--------------------------------------------------------------\ndistrict_level                 | Thành phố                     \nward_level                     | Phường                        \n--------------------------------------------------------------\ndistrict_level_english         | City                          \nward_level_english             | Ward                          "
     },
     "execution_count": 13,
     "metadata": {},
     "output_type": "execute_result"
    }
   ],
   "source": [
    "parse_address('phuong phu trinh, phan thiet, binh thuan')"
   ],
   "metadata": {
    "collapsed": false,
    "ExecuteTime": {
     "end_time": "2024-09-20T10:22:31.500868Z",
     "start_time": "2024-09-20T10:22:31.498014Z"
    }
   },
   "id": "c04344ab4b8ee4fa",
   "execution_count": 13
  },
  {
   "cell_type": "code",
   "outputs": [
    {
     "data": {
      "text/plain": "AdministrativeUnit:\nAttribute                      | Value                         \n--------------------------------------------------------------\nprovince                       | Bến Tre                       \ndistrict                       | Mỏ Cày Bắc                    \nward                           | Hòa Lộc                       \n--------------------------------------------------------------\nlong_province                  | Tỉnh Bến Tre                  \nlong_district                  | Huyện Mỏ Cày Bắc              \nlong_ward                      | Xã Hòa Lộc                    \n--------------------------------------------------------------\nshort_district                 | Mỏ Cày Bắc                    \nshort_ward                     | Hòa Lộc                       \n--------------------------------------------------------------\nprovince_english               | Ben Tre                       \ndistrict_english               | Mo Cay Bac                    \nward_english                   | Hoa Loc                       \n--------------------------------------------------------------\nlong_province_english          | Ben Tre Province              \nlong_district_english          | Mo Cay Bac District           \nlong_ward_english              | Hoa Loc Commune               \n--------------------------------------------------------------\nshort_district_english         | Mo Cay Bac                    \nshort_ward_english             | Hoa Loc                       \n--------------------------------------------------------------\ndistrict_level                 | Huyện                         \nward_level                     | Xã                            \n--------------------------------------------------------------\ndistrict_level_english         | District                      \nward_level_english             | Commune                       "
     },
     "execution_count": 14,
     "metadata": {},
     "output_type": "execute_result"
    }
   ],
   "source": [
    "parse_address('Hoa Loc Mo Cay Ben Tre')"
   ],
   "metadata": {
    "collapsed": false,
    "ExecuteTime": {
     "end_time": "2024-09-20T10:22:31.504070Z",
     "start_time": "2024-09-20T10:22:31.501490Z"
    }
   },
   "id": "365a4401b239bf2a",
   "execution_count": 14
  },
  {
   "cell_type": "code",
   "outputs": [
    {
     "data": {
      "text/plain": "AdministrativeUnit:\nAttribute                      | Value                         \n--------------------------------------------------------------\nprovince                       | Bến Tre                       \ndistrict                       | Mỏ Cày Nam                    \nward                           |                               \n--------------------------------------------------------------\nlong_province                  | Tỉnh Bến Tre                  \nlong_district                  | Huyện Mỏ Cày Nam              \nlong_ward                      |                               \n--------------------------------------------------------------\nshort_district                 | Mỏ Cày Nam                    \nshort_ward                     |                               \n--------------------------------------------------------------\nprovince_english               | Ben Tre                       \ndistrict_english               | Mo Cay Nam                    \nward_english                   |                               \n--------------------------------------------------------------\nlong_province_english          | Ben Tre Province              \nlong_district_english          | Mo Cay Nam District           \nlong_ward_english              |                               \n--------------------------------------------------------------\nshort_district_english         | Mo Cay Nam                    \nshort_ward_english             |                               \n--------------------------------------------------------------\ndistrict_level                 | Huyện                         \nward_level                     |                               \n--------------------------------------------------------------\ndistrict_level_english         | District                      \nward_level_english             |                               "
     },
     "execution_count": 15,
     "metadata": {},
     "output_type": "execute_result"
    }
   ],
   "source": [
    "parse_address('Mo Cay Ben Tre')"
   ],
   "metadata": {
    "collapsed": false,
    "ExecuteTime": {
     "end_time": "2024-09-20T10:22:31.508374Z",
     "start_time": "2024-09-20T10:22:31.504692Z"
    }
   },
   "id": "24467602bfea0b8",
   "execution_count": 15
  },
  {
   "cell_type": "code",
   "outputs": [
    {
     "data": {
      "text/plain": "AdministrativeUnit:\nAttribute                      | Value                         \n--------------------------------------------------------------\nprovince                       | Hà Nội                        \ndistrict                       | Bắc Từ Liêm                   \nward                           | Liên Mạc                      \n--------------------------------------------------------------\nlong_province                  | Thành phố Hà Nội              \nlong_district                  | Quận Bắc Từ Liêm              \nlong_ward                      | Phường Liên Mạc               \n--------------------------------------------------------------\nshort_district                 | Bắc Từ Liêm                   \nshort_ward                     | Liên Mạc                      \n--------------------------------------------------------------\nprovince_english               | Ha Noi                        \ndistrict_english               | Bac Tu Liem                   \nward_english                   | Lien Mac                      \n--------------------------------------------------------------\nlong_province_english          | Ha Noi City                   \nlong_district_english          | Bac Tu Liem District          \nlong_ward_english              | Lien Mac Ward                 \n--------------------------------------------------------------\nshort_district_english         | Bac Tu Liem                   \nshort_ward_english             | Lien Mac                      \n--------------------------------------------------------------\ndistrict_level                 | Quận                          \nward_level                     | Phường                        \n--------------------------------------------------------------\ndistrict_level_english         | District                      \nward_level_english             | Ward                          "
     },
     "execution_count": 16,
     "metadata": {},
     "output_type": "execute_result"
    }
   ],
   "source": [
    "parse_address('Lien Mac Tu Liem Ha Noi')"
   ],
   "metadata": {
    "collapsed": false,
    "ExecuteTime": {
     "end_time": "2024-09-20T10:22:31.513512Z",
     "start_time": "2024-09-20T10:22:31.510709Z"
    }
   },
   "id": "6f717af914a28fa4",
   "execution_count": 16
  },
  {
   "cell_type": "code",
   "outputs": [
    {
     "data": {
      "text/plain": "AdministrativeUnit:\nAttribute                      | Value                         \n--------------------------------------------------------------\nprovince                       | Tiền Giang                    \ndistrict                       | Thị xã Cai Lậy                \nward                           |                               \n--------------------------------------------------------------\nlong_province                  | Tỉnh Tiền Giang               \nlong_district                  | Thị xã Cai Lậy                \nlong_ward                      |                               \n--------------------------------------------------------------\nshort_district                 | Cai Lậy                       \nshort_ward                     |                               \n--------------------------------------------------------------\nprovince_english               | Tien Giang                    \ndistrict_english               | Cai Lay Town                  \nward_english                   |                               \n--------------------------------------------------------------\nlong_province_english          | Tien Giang Province           \nlong_district_english          | Cai Lay Town                  \nlong_ward_english              |                               \n--------------------------------------------------------------\nshort_district_english         | Cai Lay                       \nshort_ward_english             |                               \n--------------------------------------------------------------\ndistrict_level                 | Thị xã                        \nward_level                     |                               \n--------------------------------------------------------------\ndistrict_level_english         | Town                          \nward_level_english             |                               "
     },
     "execution_count": 17,
     "metadata": {},
     "output_type": "execute_result"
    }
   ],
   "source": [
    "parse_address('Cai Lay Tien Giang')"
   ],
   "metadata": {
    "collapsed": false,
    "ExecuteTime": {
     "end_time": "2024-09-20T10:22:31.516644Z",
     "start_time": "2024-09-20T10:22:31.514033Z"
    }
   },
   "id": "6dea19bb8b4df67a",
   "execution_count": 17
  },
  {
   "cell_type": "code",
   "outputs": [
    {
     "data": {
      "text/plain": "AdministrativeUnit:\nAttribute                      | Value                         \n--------------------------------------------------------------\nprovince                       | Hà Tĩnh                       \ndistrict                       | Thị xã Kỳ Anh                 \nward                           |                               \n--------------------------------------------------------------\nlong_province                  | Tỉnh Hà Tĩnh                  \nlong_district                  | Thị xã Kỳ Anh                 \nlong_ward                      |                               \n--------------------------------------------------------------\nshort_district                 | Kỳ Anh                        \nshort_ward                     |                               \n--------------------------------------------------------------\nprovince_english               | Ha Tinh                       \ndistrict_english               | Ky Anh Town                   \nward_english                   |                               \n--------------------------------------------------------------\nlong_province_english          | Ha Tinh Province              \nlong_district_english          | Ky Anh Town                   \nlong_ward_english              |                               \n--------------------------------------------------------------\nshort_district_english         | Ky Anh                        \nshort_ward_english             |                               \n--------------------------------------------------------------\ndistrict_level                 | Thị xã                        \nward_level                     |                               \n--------------------------------------------------------------\ndistrict_level_english         | Town                          \nward_level_english             |                               "
     },
     "execution_count": 18,
     "metadata": {},
     "output_type": "execute_result"
    }
   ],
   "source": [
    "parse_address('ky anh ha tinh')"
   ],
   "metadata": {
    "collapsed": false,
    "ExecuteTime": {
     "end_time": "2024-09-20T10:22:31.519590Z",
     "start_time": "2024-09-20T10:22:31.517180Z"
    }
   },
   "id": "57289afc468afdaa",
   "execution_count": 18
  },
  {
   "cell_type": "code",
   "outputs": [
    {
     "data": {
      "text/plain": "AdministrativeUnit:\nAttribute                      | Value                         \n--------------------------------------------------------------\nprovince                       | Sơn La                        \ndistrict                       | Mai Sơn                       \nward                           | Xã Hát Lót                    \n--------------------------------------------------------------\nlong_province                  | Tỉnh Sơn La                   \nlong_district                  | Huyện Mai Sơn                 \nlong_ward                      | Xã Hát Lót                    \n--------------------------------------------------------------\nshort_district                 | Mai Sơn                       \nshort_ward                     | Hát Lót                       \n--------------------------------------------------------------\nprovince_english               | Son La                        \ndistrict_english               | Mai Son                       \nward_english                   | Hat Lot Commune               \n--------------------------------------------------------------\nlong_province_english          | Son La Province               \nlong_district_english          | Mai Son District              \nlong_ward_english              | Hat Lot Commune               \n--------------------------------------------------------------\nshort_district_english         | Mai Son                       \nshort_ward_english             | Hat Lot                       \n--------------------------------------------------------------\ndistrict_level                 | Huyện                         \nward_level                     | Xã                            \n--------------------------------------------------------------\ndistrict_level_english         | District                      \nward_level_english             | Commune                       "
     },
     "execution_count": 19,
     "metadata": {},
     "output_type": "execute_result"
    }
   ],
   "source": [
    "parse_address('hat lot mai son son la')"
   ],
   "metadata": {
    "collapsed": false,
    "ExecuteTime": {
     "end_time": "2024-09-20T10:22:31.522557Z",
     "start_time": "2024-09-20T10:22:31.520165Z"
    }
   },
   "id": "21305f6aa3f21443",
   "execution_count": 19
  },
  {
   "cell_type": "code",
   "outputs": [
    {
     "data": {
      "text/plain": "AdministrativeUnit:\nAttribute                      | Value                         \n--------------------------------------------------------------\nprovince                       | Cà Mau                        \ndistrict                       | Cà Mau                        \nward                           | Phường Tân Thành              \n--------------------------------------------------------------\nlong_province                  | Tỉnh Cà Mau                   \nlong_district                  | Thành phố Cà Mau              \nlong_ward                      | Phường Tân Thành              \n--------------------------------------------------------------\nshort_district                 | Cà Mau                        \nshort_ward                     | Tân Thành                     \n--------------------------------------------------------------\nprovince_english               | Ca Mau                        \ndistrict_english               | Ca Mau                        \nward_english                   | Tan Thanh Ward                \n--------------------------------------------------------------\nlong_province_english          | Ca Mau Province               \nlong_district_english          | Ca Mau City                   \nlong_ward_english              | Tan Thanh Ward                \n--------------------------------------------------------------\nshort_district_english         | Ca Mau                        \nshort_ward_english             | Tan Thanh                     \n--------------------------------------------------------------\ndistrict_level                 | Thành phố                     \nward_level                     | Phường                        \n--------------------------------------------------------------\ndistrict_level_english         | City                          \nward_level_english             | Ward                          "
     },
     "execution_count": 20,
     "metadata": {},
     "output_type": "execute_result"
    }
   ],
   "source": [
    "parse_address('phuong Tan Thanh, Ca Mau, Ca Mau')"
   ],
   "metadata": {
    "collapsed": false,
    "ExecuteTime": {
     "end_time": "2024-09-20T10:22:31.525339Z",
     "start_time": "2024-09-20T10:22:31.523121Z"
    }
   },
   "id": "745e840418e26c0b",
   "execution_count": 20
  },
  {
   "cell_type": "code",
   "outputs": [
    {
     "data": {
      "text/plain": "AdministrativeUnit:\nAttribute                      | Value                         \n--------------------------------------------------------------\nprovince                       | Hà Nội                        \ndistrict                       | Thanh Xuân                    \nward                           | Thượng Đình                   \n--------------------------------------------------------------\nlong_province                  | Thành phố Hà Nội              \nlong_district                  | Quận Thanh Xuân               \nlong_ward                      | Phường Thượng Đình            \n--------------------------------------------------------------\nshort_district                 | Thanh Xuân                    \nshort_ward                     | Thượng Đình                   \n--------------------------------------------------------------\nprovince_english               | Ha Noi                        \ndistrict_english               | Thanh Xuan                    \nward_english                   | Thuong Dinh                   \n--------------------------------------------------------------\nlong_province_english          | Ha Noi City                   \nlong_district_english          | Thanh Xuan District           \nlong_ward_english              | Thuong Dinh Ward              \n--------------------------------------------------------------\nshort_district_english         | Thanh Xuan                    \nshort_ward_english             | Thuong Dinh                   \n--------------------------------------------------------------\ndistrict_level                 | Quận                          \nward_level                     | Phường                        \n--------------------------------------------------------------\ndistrict_level_english         | District                      \nward_level_english             | Ward                          "
     },
     "execution_count": 21,
     "metadata": {},
     "output_type": "execute_result"
    }
   ],
   "source": [
    "parse_address('Ngã Tư Sở Market, Đường Nguyễn Trãi, Thượng Đình Số nhà 28A, Ngõ 72 Nguyễn Trãi , , Phường Thượng Đình, Quận Thanh Xuân , Hà Nội Quận Thanh Xuân')"
   ],
   "metadata": {
    "collapsed": false,
    "ExecuteTime": {
     "end_time": "2024-09-20T10:22:31.529185Z",
     "start_time": "2024-09-20T10:22:31.525849Z"
    }
   },
   "id": "ccfcb3feb70b601d",
   "execution_count": 21
  },
  {
   "cell_type": "code",
   "outputs": [
    {
     "data": {
      "text/plain": "AdministrativeUnit:\nAttribute                      | Value                         \n--------------------------------------------------------------\nprovince                       | Hà Nội                        \ndistrict                       | Bắc Từ Liêm                   \nward                           | Phú Diễn                      \n--------------------------------------------------------------\nlong_province                  | Thành phố Hà Nội              \nlong_district                  | Quận Bắc Từ Liêm              \nlong_ward                      | Phường Phú Diễn               \n--------------------------------------------------------------\nshort_district                 | Bắc Từ Liêm                   \nshort_ward                     | Phú Diễn                      \n--------------------------------------------------------------\nprovince_english               | Ha Noi                        \ndistrict_english               | Bac Tu Liem                   \nward_english                   | Phu Dien                      \n--------------------------------------------------------------\nlong_province_english          | Ha Noi City                   \nlong_district_english          | Bac Tu Liem District          \nlong_ward_english              | Phu Dien Ward                 \n--------------------------------------------------------------\nshort_district_english         | Bac Tu Liem                   \nshort_ward_english             | Phu Dien                      \n--------------------------------------------------------------\ndistrict_level                 | Quận                          \nward_level                     | Phường                        \n--------------------------------------------------------------\ndistrict_level_english         | District                      \nward_level_english             | Ward                          "
     },
     "execution_count": 22,
     "metadata": {},
     "output_type": "execute_result"
    }
   ],
   "source": [
    "parse_address('Cuối đường kiều mai, dự án bệnh viện hạnh phúc  phường phú diễn quận bắc từ liêm hà nội')"
   ],
   "metadata": {
    "collapsed": false,
    "ExecuteTime": {
     "end_time": "2024-09-20T10:22:31.532682Z",
     "start_time": "2024-09-20T10:22:31.529814Z"
    }
   },
   "id": "ac59fdbd592726a1",
   "execution_count": 22
  },
  {
   "cell_type": "code",
   "outputs": [
    {
     "name": "stdout",
     "output_type": "stream",
     "text": [
      "AdministrativeUnit:\n",
      "Attribute                      | Value                         \n",
      "--------------------------------------------------------------\n",
      "province                       | Hà Nội                        \n",
      "district                       | Bắc Từ Liêm                   \n",
      "ward                           | Phú Diễn                      \n",
      "--------------------------------------------------------------\n",
      "long_province                  | Thành phố Hà Nội              \n",
      "long_district                  | Quận Bắc Từ Liêm              \n",
      "long_ward                      | Phường Phú Diễn               \n",
      "--------------------------------------------------------------\n",
      "short_district                 | Bắc Từ Liêm                   \n",
      "short_ward                     | Phú Diễn                      \n",
      "--------------------------------------------------------------\n",
      "province_english               | Ha Noi                        \n",
      "district_english               | Bac Tu Liem                   \n",
      "ward_english                   | Phu Dien                      \n",
      "--------------------------------------------------------------\n",
      "long_province_english          | Ha Noi City                   \n",
      "long_district_english          | Bac Tu Liem District          \n",
      "long_ward_english              | Phu Dien Ward                 \n",
      "--------------------------------------------------------------\n",
      "short_district_english         | Bac Tu Liem                   \n",
      "short_ward_english             | Phu Dien                      \n",
      "--------------------------------------------------------------\n",
      "district_level                 | Quận                          \n",
      "ward_level                     | Phường                        \n",
      "--------------------------------------------------------------\n",
      "district_level_english         | District                      \n",
      "ward_level_english             | Ward                          \n",
      "\n",
      "Phú Diễn, Bắc Từ Liêm, Hà Nội\n"
     ]
    }
   ],
   "source": [
    "address = 'Cuối đường kiều mai, dự án bệnh viện hạnh phúc phường phú diễn quận bắc từ liêm HN'\n",
    "\n",
    "admin_unit = parse_address(address=address, level=3)\n",
    "\n",
    "print(admin_unit)\n",
    "\n",
    "print(admin_unit.ward, admin_unit.district, admin_unit.province, sep=', ')"
   ],
   "metadata": {
    "collapsed": false,
    "ExecuteTime": {
     "end_time": "2024-09-20T10:22:31.535774Z",
     "start_time": "2024-09-20T10:22:31.533317Z"
    }
   },
   "id": "5ef8a354992a293e",
   "execution_count": 23
  },
  {
   "cell_type": "code",
   "outputs": [
    {
     "data": {
      "text/plain": "AdministrativeUnit:\nAttribute                      | Value                         \n--------------------------------------------------------------\nprovince                       | Đà Nẵng                       \ndistrict                       | Sơn Trà                       \nward                           | An Hải Bắc                    \n--------------------------------------------------------------\nlong_province                  | Thành phố Đà Nẵng             \nlong_district                  | Quận Sơn Trà                  \nlong_ward                      | Phường An Hải Bắc             \n--------------------------------------------------------------\nshort_district                 | Sơn Trà                       \nshort_ward                     | An Hải Bắc                    \n--------------------------------------------------------------\nprovince_english               | Da Nang                       \ndistrict_english               | Son Tra                       \nward_english                   | An Hai Bac                    \n--------------------------------------------------------------\nlong_province_english          | Da Nang City                  \nlong_district_english          | Son Tra District              \nlong_ward_english              | An Hai Bac Ward               \n--------------------------------------------------------------\nshort_district_english         | Son Tra                       \nshort_ward_english             | An Hai Bac                    \n--------------------------------------------------------------\ndistrict_level                 | Quận                          \nward_level                     | Phường                        \n--------------------------------------------------------------\ndistrict_level_english         | District                      \nward_level_english             | Ward                          "
     },
     "execution_count": 24,
     "metadata": {},
     "output_type": "execute_result"
    }
   ],
   "source": [
    "parse_address('03 Nguyễn Cao Luyện, An Hải Bắc, Sơn Trà, Đà Nẵng 550000, Việt Nam')"
   ],
   "metadata": {
    "collapsed": false,
    "ExecuteTime": {
     "end_time": "2024-09-20T10:22:31.538310Z",
     "start_time": "2024-09-20T10:22:31.536253Z"
    }
   },
   "id": "6fb98f74ac0bdf8d",
   "execution_count": 24
  },
  {
   "cell_type": "code",
   "outputs": [
    {
     "data": {
      "text/plain": "AdministrativeUnit:\nAttribute                      | Value                         \n--------------------------------------------------------------\nprovince                       | Hồ Chí Minh                   \ndistrict                       | Bình Chánh                    \nward                           | Phạm Văn Hai                  \n--------------------------------------------------------------\nlong_province                  | Thành phố Hồ Chí Minh         \nlong_district                  | Huyện Bình Chánh              \nlong_ward                      | Xã Phạm Văn Hai               \n--------------------------------------------------------------\nshort_district                 | Bình Chánh                    \nshort_ward                     | Phạm Văn Hai                  \n--------------------------------------------------------------\nprovince_english               | Ho Chi Minh                   \ndistrict_english               | Binh Chanh                    \nward_english                   | Pham Van Hai                  \n--------------------------------------------------------------\nlong_province_english          | Ho Chi Minh City              \nlong_district_english          | Binh Chanh District           \nlong_ward_english              | Pham Van Hai Commune          \n--------------------------------------------------------------\nshort_district_english         | Binh Chanh                    \nshort_ward_english             | Pham Van Hai                  \n--------------------------------------------------------------\ndistrict_level                 | Huyện                         \nward_level                     | Xã                            \n--------------------------------------------------------------\ndistrict_level_english         | District                      \nward_level_english             | Commune                       "
     },
     "execution_count": 25,
     "metadata": {},
     "output_type": "execute_result"
    }
   ],
   "source": [
    "parse_address('3c60/10 chợ cầu xấng, xã phạm văn hai, huyện bình chánh HCM')"
   ],
   "metadata": {
    "collapsed": false,
    "ExecuteTime": {
     "end_time": "2024-09-20T10:22:31.541152Z",
     "start_time": "2024-09-20T10:22:31.538824Z"
    }
   },
   "id": "960a61d68549fa75",
   "execution_count": 25
  },
  {
   "cell_type": "code",
   "outputs": [
    {
     "data": {
      "text/plain": "AdministrativeUnit:\nAttribute                      | Value                         \n--------------------------------------------------------------\nprovince                       | Hà Nội                        \ndistrict                       | Nam Từ Liêm                   \nward                           | Mỹ Đình 2                     \n--------------------------------------------------------------\nlong_province                  | Thành phố Hà Nội              \nlong_district                  | Quận Nam Từ Liêm              \nlong_ward                      | Phường Mỹ Đình 2              \n--------------------------------------------------------------\nshort_district                 | Nam Từ Liêm                   \nshort_ward                     | Mỹ Đình 2                     \n--------------------------------------------------------------\nprovince_english               | Ha Noi                        \ndistrict_english               | Nam Tu Liem                   \nward_english                   | My Dinh 2                     \n--------------------------------------------------------------\nlong_province_english          | Ha Noi City                   \nlong_district_english          | Nam Tu Liem District          \nlong_ward_english              | My Dinh 2 Ward                \n--------------------------------------------------------------\nshort_district_english         | Nam Tu Liem                   \nshort_ward_english             | My Dinh 2                     \n--------------------------------------------------------------\ndistrict_level                 | Quận                          \nward_level                     | Phường                        \n--------------------------------------------------------------\ndistrict_level_english         | District                      \nward_level_english             | Ward                          "
     },
     "execution_count": 26,
     "metadata": {},
     "output_type": "execute_result"
    }
   ],
   "source": [
    "parse_address('ngõ 154 Đình Thôn, phường Mỹ Đình 2, Quận Nam Từ Liêm, HN')"
   ],
   "metadata": {
    "collapsed": false,
    "ExecuteTime": {
     "end_time": "2024-09-20T10:22:31.543683Z",
     "start_time": "2024-09-20T10:22:31.541676Z"
    }
   },
   "id": "7ab4dc3d2c704933",
   "execution_count": 26
  },
  {
   "cell_type": "code",
   "outputs": [
    {
     "data": {
      "text/plain": "AdministrativeUnit:\nAttribute                      | Value                         \n--------------------------------------------------------------\nprovince                       | Hà Nội                        \ndistrict                       | Gia Lâm                       \nward                           | Xã Yên Viên                   \n--------------------------------------------------------------\nlong_province                  | Thành phố Hà Nội              \nlong_district                  | Huyện Gia Lâm                 \nlong_ward                      | Xã Yên Viên                   \n--------------------------------------------------------------\nshort_district                 | Gia Lâm                       \nshort_ward                     | Yên Viên                      \n--------------------------------------------------------------\nprovince_english               | Ha Noi                        \ndistrict_english               | Gia Lam                       \nward_english                   | Yen Vien Commune              \n--------------------------------------------------------------\nlong_province_english          | Ha Noi City                   \nlong_district_english          | Gia Lam District              \nlong_ward_english              | Yen Vien Commune              \n--------------------------------------------------------------\nshort_district_english         | Gia Lam                       \nshort_ward_english             | Yen Vien                      \n--------------------------------------------------------------\ndistrict_level                 | Huyện                         \nward_level                     | Xã                            \n--------------------------------------------------------------\ndistrict_level_english         | District                      \nward_level_english             | Commune                       "
     },
     "execution_count": 27,
     "metadata": {},
     "output_type": "execute_result"
    }
   ],
   "source": [
    "parse_address('Ha Noi, Gia Lam, Yen Vien')"
   ],
   "metadata": {
    "collapsed": false,
    "ExecuteTime": {
     "end_time": "2024-09-20T10:22:31.546012Z",
     "start_time": "2024-09-20T10:22:31.544203Z"
    }
   },
   "id": "8928a354ab16a274",
   "execution_count": 27
  },
  {
   "cell_type": "code",
   "outputs": [
    {
     "data": {
      "text/plain": "AdministrativeUnit:\nAttribute                      | Value                         \n--------------------------------------------------------------\nprovince                       | Lào Cai                       \ndistrict                       | Bảo Thắng                     \nward                           | N.T Phong Hải                 \n--------------------------------------------------------------\nlong_province                  | Tỉnh Lào Cai                  \nlong_district                  | Huyện Bảo Thắng               \nlong_ward                      | Thị trấn N.T Phong Hải        \n--------------------------------------------------------------\nshort_district                 | Bảo Thắng                     \nshort_ward                     | N.T Phong Hải                 \n--------------------------------------------------------------\nprovince_english               | Lao Cai                       \ndistrict_english               | Bao Thang                     \nward_english                   | N.T Phong Hai                 \n--------------------------------------------------------------\nlong_province_english          | Lao Cai Province              \nlong_district_english          | Bao Thang District            \nlong_ward_english              | N.T Phong Hai Town            \n--------------------------------------------------------------\nshort_district_english         | Bao Thang                     \nshort_ward_english             | N.T Phong Hai                 \n--------------------------------------------------------------\ndistrict_level                 | Huyện                         \nward_level                     | Thị trấn                      \n--------------------------------------------------------------\ndistrict_level_english         | District                      \nward_level_english             | Town                          "
     },
     "execution_count": 28,
     "metadata": {},
     "output_type": "execute_result"
    }
   ],
   "source": [
    "parse_address('Thị trấn N.T Phong Hải, Huyện Bảo Thắng, Tỉnh Lào Cai')"
   ],
   "metadata": {
    "collapsed": false,
    "ExecuteTime": {
     "end_time": "2024-09-20T10:22:31.552419Z",
     "start_time": "2024-09-20T10:22:31.549494Z"
    }
   },
   "id": "972e0adf53ad859a",
   "execution_count": 28
  },
  {
   "cell_type": "markdown",
   "source": [
    "# Check wrong or missing in bulk"
   ],
   "metadata": {
    "collapsed": false
   },
   "id": "3f7ebf254ffba569"
  },
  {
   "cell_type": "code",
   "outputs": [],
   "source": [
    "df = pd.read_csv('../../data/input/danhmuchanhchinhgso.gov.vn.csv')\n",
    "df.loc[(df.long_province=='Tỉnh Đắk Lắk') & (df.long_ward==\"Xã Ea H'đinh\"), 'long_ward'] = \"Xã Ea H'đing\""
   ],
   "metadata": {
    "collapsed": false,
    "ExecuteTime": {
     "end_time": "2024-09-20T10:22:31.570574Z",
     "start_time": "2024-09-20T10:22:31.553290Z"
    }
   },
   "id": "19018c4a3a7f3491",
   "execution_count": 29
  },
  {
   "cell_type": "code",
   "outputs": [],
   "source": [
    "df['district_address'] = df['long_district'] + ', ' + df['long_province']\n",
    "district_addresses = df['district_address'].tolist()\n",
    "\n",
    "for address in district_addresses:\n",
    "    try:\n",
    "        unit = parse_address(address, level=2)\n",
    "    except:\n",
    "        print(address)\n",
    "    if unit.province == None:\n",
    "        print(address)\n",
    "    elif unit.district == None:\n",
    "        print(address)"
   ],
   "metadata": {
    "collapsed": false,
    "ExecuteTime": {
     "end_time": "2024-09-20T10:22:31.711162Z",
     "start_time": "2024-09-20T10:22:31.571180Z"
    }
   },
   "id": "10f1c4f277648450",
   "execution_count": 30
  },
  {
   "cell_type": "code",
   "outputs": [],
   "source": [
    "df['ward_address'] = df['long_ward'].fillna('') + ', ' + df['long_district'] + ', ' + df['long_province']\n",
    "ward_addresses = df['ward_address'].dropna().tolist()\n",
    "miss = []\n",
    "for ward_address in ward_addresses:\n",
    "    try:\n",
    "        unit = parse_address(ward_address, level=3)\n",
    "    except Exception as e:\n",
    "        print(ward_address)\n",
    "        raise e\n",
    "\n",
    "    if unit.province == None:\n",
    "        print(ward_address)\n",
    "    elif unit.district == None:\n",
    "        print(ward_address)\n",
    "    elif unit.ward == None and unit.district_key not in ['bachlongvi', 'conco', 'hoangsa', 'lyson', 'condao']:\n",
    "        print(ward_address)\n"
   ],
   "metadata": {
    "collapsed": false,
    "ExecuteTime": {
     "end_time": "2024-09-20T10:22:31.973892Z",
     "start_time": "2024-09-20T10:22:31.711756Z"
    }
   },
   "id": "2ce0c17cd4128a3f",
   "execution_count": 31
  },
  {
   "cell_type": "code",
   "outputs": [
    {
     "data": {
      "text/plain": "AdministrativeUnit:\nAttribute                      | Value                         \n--------------------------------------------------------------\nprovince                       | Quảng Nam                     \ndistrict                       | Tây Giang                     \nward                           | A Xan                         \n--------------------------------------------------------------\nlong_province                  | Tỉnh Quảng Nam                \nlong_district                  | Huyện Tây Giang               \nlong_ward                      | Xã A Xan                      \n--------------------------------------------------------------\nshort_district                 | Tây Giang                     \nshort_ward                     | A Xan                         \n--------------------------------------------------------------\nprovince_english               | Quang Nam                     \ndistrict_english               | Tay Giang                     \nward_english                   | A Xan                         \n--------------------------------------------------------------\nlong_province_english          | Quang Nam Province            \nlong_district_english          | Tay Giang District            \nlong_ward_english              | A Xan Commune                 \n--------------------------------------------------------------\nshort_district_english         | Tay Giang                     \nshort_ward_english             | A Xan                         \n--------------------------------------------------------------\ndistrict_level                 | Huyện                         \nward_level                     | Xã                            \n--------------------------------------------------------------\ndistrict_level_english         | District                      \nward_level_english             | Commune                       "
     },
     "execution_count": 32,
     "metadata": {},
     "output_type": "execute_result"
    }
   ],
   "source": [
    "parse_address('Xã A Xan, Huyện Tây Giang, Tỉnh Quảng Nam')"
   ],
   "metadata": {
    "collapsed": false,
    "ExecuteTime": {
     "end_time": "2024-09-20T10:22:31.977181Z",
     "start_time": "2024-09-20T10:22:31.974500Z"
    }
   },
   "id": "77a8aed4601a51fe",
   "execution_count": 32
  },
  {
   "cell_type": "code",
   "outputs": [
    {
     "data": {
      "text/plain": "AdministrativeUnit:\nAttribute                      | Value                         \n--------------------------------------------------------------\nprovince                       | Tuyên Quang                   \ndistrict                       | Sơn Dương                     \nward                           | Sơn Dương                     \n--------------------------------------------------------------\nlong_province                  | Tỉnh Tuyên Quang              \nlong_district                  | Huyện Sơn Dương               \nlong_ward                      | Thị trấn Sơn Dương            \n--------------------------------------------------------------\nshort_district                 | Sơn Dương                     \nshort_ward                     | Sơn Dương                     \n--------------------------------------------------------------\nprovince_english               | Tuyen Quang                   \ndistrict_english               | Son Duong                     \nward_english                   | Son Duong                     \n--------------------------------------------------------------\nlong_province_english          | Tuyen Quang Province          \nlong_district_english          | Son Duong District            \nlong_ward_english              | Son Duong Town                \n--------------------------------------------------------------\nshort_district_english         | Son Duong                     \nshort_ward_english             | Son Duong                     \n--------------------------------------------------------------\ndistrict_level                 | Huyện                         \nward_level                     | Thị trấn                      \n--------------------------------------------------------------\ndistrict_level_english         | District                      \nward_level_english             | Town                          "
     },
     "execution_count": 33,
     "metadata": {},
     "output_type": "execute_result"
    }
   ],
   "source": [
    "parse_address('Thị trấn Sơn Dương, Huyện Sơn Dương, Tỉnh Tuyên Quang')"
   ],
   "metadata": {
    "collapsed": false,
    "ExecuteTime": {
     "end_time": "2024-09-20T10:22:31.980674Z",
     "start_time": "2024-09-20T10:22:31.977754Z"
    }
   },
   "id": "75106f16637f3d36",
   "execution_count": 33
  },
  {
   "cell_type": "code",
   "outputs": [
    {
     "data": {
      "text/plain": "AdministrativeUnit:\nAttribute                      | Value                         \n--------------------------------------------------------------\nprovince                       | Nghệ An                       \ndistrict                       | Thanh Chương                  \nward                           | Thanh Chương                  \n--------------------------------------------------------------\nlong_province                  | Tỉnh Nghệ An                  \nlong_district                  | Huyện Thanh Chương            \nlong_ward                      | Thị trấn Thanh Chương         \n--------------------------------------------------------------\nshort_district                 | Thanh Chương                  \nshort_ward                     | Thanh Chương                  \n--------------------------------------------------------------\nprovince_english               | Nghe An                       \ndistrict_english               | Thanh Chuong                  \nward_english                   | Thanh Chuong                  \n--------------------------------------------------------------\nlong_province_english          | Nghe An Province              \nlong_district_english          | Thanh Chuong District         \nlong_ward_english              | Thanh Chuong Town             \n--------------------------------------------------------------\nshort_district_english         | Thanh Chuong                  \nshort_ward_english             | Thanh Chuong                  \n--------------------------------------------------------------\ndistrict_level                 | Huyện                         \nward_level                     | Thị trấn                      \n--------------------------------------------------------------\ndistrict_level_english         | District                      \nward_level_english             | Town                          "
     },
     "execution_count": 34,
     "metadata": {},
     "output_type": "execute_result"
    }
   ],
   "source": [
    "parse_address('Thị trấn Thanh Chương, Huyện Thanh Chương, Tỉnh Nghệ An')"
   ],
   "metadata": {
    "collapsed": false,
    "ExecuteTime": {
     "end_time": "2024-09-20T10:22:31.984030Z",
     "start_time": "2024-09-20T10:22:31.981528Z"
    }
   },
   "id": "3cb49da069f6acd4",
   "execution_count": 34
  },
  {
   "cell_type": "code",
   "outputs": [],
   "source": [
    "from vietadminunits import get_data"
   ],
   "metadata": {
    "collapsed": false,
    "ExecuteTime": {
     "end_time": "2024-09-20T10:22:31.985890Z",
     "start_time": "2024-09-20T10:22:31.984565Z"
    }
   },
   "id": "e4c1c60cc46a6fce",
   "execution_count": 35
  },
  {
   "cell_type": "code",
   "outputs": [],
   "source": [
    "df_test = pd.DataFrame(get_data())"
   ],
   "metadata": {
    "collapsed": false,
    "ExecuteTime": {
     "end_time": "2024-09-20T10:22:32.094194Z",
     "start_time": "2024-09-20T10:22:31.986488Z"
    }
   },
   "id": "eb002768635b162f",
   "execution_count": 36
  },
  {
   "cell_type": "code",
   "outputs": [
    {
     "data": {
      "text/plain": "     province  district       ward long_province   long_district  \\\n1680   Sơn La  Mộc Châu  Quy Hướng   Tỉnh Sơn La  Huyện Mộc Châu   \n\n         long_ward short_district short_ward province_english  \\\n1680  Xã Quy Hướng       Mộc Châu  Quy Hướng           Son La   \n\n     district_english ward_english long_province_english  \\\n1680         Moc Chau    Quy Huong       Son La Province   \n\n     long_district_english  long_ward_english short_district_english  \\\n1680     Moc Chau District  Quy Huong Commune               Moc Chau   \n\n     short_ward_english district_level ward_level district_level_english  \\\n1680          Quy Huong          Huyện         Xã               District   \n\n     ward_level_english  \n1680            Commune  ",
      "text/html": "<div>\n<style scoped>\n    .dataframe tbody tr th:only-of-type {\n        vertical-align: middle;\n    }\n\n    .dataframe tbody tr th {\n        vertical-align: top;\n    }\n\n    .dataframe thead th {\n        text-align: right;\n    }\n</style>\n<table border=\"1\" class=\"dataframe\">\n  <thead>\n    <tr style=\"text-align: right;\">\n      <th></th>\n      <th>province</th>\n      <th>district</th>\n      <th>ward</th>\n      <th>long_province</th>\n      <th>long_district</th>\n      <th>long_ward</th>\n      <th>short_district</th>\n      <th>short_ward</th>\n      <th>province_english</th>\n      <th>district_english</th>\n      <th>ward_english</th>\n      <th>long_province_english</th>\n      <th>long_district_english</th>\n      <th>long_ward_english</th>\n      <th>short_district_english</th>\n      <th>short_ward_english</th>\n      <th>district_level</th>\n      <th>ward_level</th>\n      <th>district_level_english</th>\n      <th>ward_level_english</th>\n    </tr>\n  </thead>\n  <tbody>\n    <tr>\n      <th>1680</th>\n      <td>Sơn La</td>\n      <td>Mộc Châu</td>\n      <td>Quy Hướng</td>\n      <td>Tỉnh Sơn La</td>\n      <td>Huyện Mộc Châu</td>\n      <td>Xã Quy Hướng</td>\n      <td>Mộc Châu</td>\n      <td>Quy Hướng</td>\n      <td>Son La</td>\n      <td>Moc Chau</td>\n      <td>Quy Huong</td>\n      <td>Son La Province</td>\n      <td>Moc Chau District</td>\n      <td>Quy Huong Commune</td>\n      <td>Moc Chau</td>\n      <td>Quy Huong</td>\n      <td>Huyện</td>\n      <td>Xã</td>\n      <td>District</td>\n      <td>Commune</td>\n    </tr>\n  </tbody>\n</table>\n</div>"
     },
     "execution_count": 37,
     "metadata": {},
     "output_type": "execute_result"
    }
   ],
   "source": [
    "df_test[df_test.ward_english.fillna('').str.contains('Quy Huong')]"
   ],
   "metadata": {
    "collapsed": false,
    "ExecuteTime": {
     "end_time": "2024-09-20T10:22:32.107410Z",
     "start_time": "2024-09-20T10:22:32.094861Z"
    }
   },
   "id": "a24522748d879941",
   "execution_count": 37
  },
  {
   "cell_type": "code",
   "outputs": [
    {
     "data": {
      "text/plain": "     province       district        ward long_province  \\\n7687  Đắk Lắk  Buôn Ma Thuột     Tân Lập  Tỉnh Đắk Lắk   \n7688  Đắk Lắk  Buôn Ma Thuột     Tân Hòa  Tỉnh Đắk Lắk   \n7689  Đắk Lắk  Buôn Ma Thuột      Tân An  Tỉnh Đắk Lắk   \n7690  Đắk Lắk  Buôn Ma Thuột  Thống Nhất  Tỉnh Đắk Lắk   \n7691  Đắk Lắk  Buôn Ma Thuột  Thành Nhất  Tỉnh Đắk Lắk   \n...       ...            ...         ...           ...   \n7866  Đắk Lắk        Cư Kuin     Ea Tiêu  Tỉnh Đắk Lắk   \n7867  Đắk Lắk        Cư Kuin     Ea BHốk  Tỉnh Đắk Lắk   \n7868  Đắk Lắk        Cư Kuin       Ea Hu  Tỉnh Đắk Lắk   \n7869  Đắk Lắk        Cư Kuin  Dray Bhăng  Tỉnh Đắk Lắk   \n7870  Đắk Lắk        Cư Kuin    Hòa Hiệp  Tỉnh Đắk Lắk   \n\n                long_district          long_ward short_district  short_ward  \\\n7687  Thành phố Buôn Ma Thuột     Phường Tân Lập  Buôn Ma Thuột     Tân Lập   \n7688  Thành phố Buôn Ma Thuột     Phường Tân Hòa  Buôn Ma Thuột     Tân Hòa   \n7689  Thành phố Buôn Ma Thuột      Phường Tân An  Buôn Ma Thuột      Tân An   \n7690  Thành phố Buôn Ma Thuột  Phường Thống Nhất  Buôn Ma Thuột  Thống Nhất   \n7691  Thành phố Buôn Ma Thuột  Phường Thành Nhất  Buôn Ma Thuột  Thành Nhất   \n...                       ...                ...            ...         ...   \n7866            Huyện Cư Kuin         Xã Ea Tiêu        Cư Kuin     Ea Tiêu   \n7867            Huyện Cư Kuin         Xã Ea BHốk        Cư Kuin     Ea BHốk   \n7868            Huyện Cư Kuin           Xã Ea Hu        Cư Kuin       Ea Hu   \n7869            Huyện Cư Kuin      Xã Dray Bhăng        Cư Kuin  Dray Bhăng   \n7870            Huyện Cư Kuin        Xã Hòa Hiệp        Cư Kuin    Hòa Hiệp   \n\n     province_english district_english ward_english long_province_english  \\\n7687          Dak Lak    Buon Ma Thuot      Tan Lap      Dak Lak Province   \n7688          Dak Lak    Buon Ma Thuot      Tan Hoa      Dak Lak Province   \n7689          Dak Lak    Buon Ma Thuot       Tan An      Dak Lak Province   \n7690          Dak Lak    Buon Ma Thuot   Thong Nhat      Dak Lak Province   \n7691          Dak Lak    Buon Ma Thuot   Thanh Nhat      Dak Lak Province   \n...               ...              ...          ...                   ...   \n7866          Dak Lak          Cu Kuin      Ea Tieu      Dak Lak Province   \n7867          Dak Lak          Cu Kuin      Ea BHok      Dak Lak Province   \n7868          Dak Lak          Cu Kuin        Ea Hu      Dak Lak Province   \n7869          Dak Lak          Cu Kuin   Dray Bhang      Dak Lak Province   \n7870          Dak Lak          Cu Kuin     Hoa Hiep      Dak Lak Province   \n\n     long_district_english   long_ward_english short_district_english  \\\n7687    Buon Ma Thuot City        Tan Lap Ward          Buon Ma Thuot   \n7688    Buon Ma Thuot City        Tan Hoa Ward          Buon Ma Thuot   \n7689    Buon Ma Thuot City         Tan An Ward          Buon Ma Thuot   \n7690    Buon Ma Thuot City     Thong Nhat Ward          Buon Ma Thuot   \n7691    Buon Ma Thuot City     Thanh Nhat Ward          Buon Ma Thuot   \n...                    ...                 ...                    ...   \n7866      Cu Kuin District     Ea Tieu Commune                Cu Kuin   \n7867      Cu Kuin District     Ea BHok Commune                Cu Kuin   \n7868      Cu Kuin District       Ea Hu Commune                Cu Kuin   \n7869      Cu Kuin District  Dray Bhang Commune                Cu Kuin   \n7870      Cu Kuin District    Hoa Hiep Commune                Cu Kuin   \n\n     short_ward_english district_level ward_level district_level_english  \\\n7687            Tan Lap      Thành phố     Phường                   City   \n7688            Tan Hoa      Thành phố     Phường                   City   \n7689             Tan An      Thành phố     Phường                   City   \n7690         Thong Nhat      Thành phố     Phường                   City   \n7691         Thanh Nhat      Thành phố     Phường                   City   \n...                 ...            ...        ...                    ...   \n7866            Ea Tieu          Huyện         Xã               District   \n7867            Ea BHok          Huyện         Xã               District   \n7868              Ea Hu          Huyện         Xã               District   \n7869         Dray Bhang          Huyện         Xã               District   \n7870           Hoa Hiep          Huyện         Xã               District   \n\n     ward_level_english  \n7687               Ward  \n7688               Ward  \n7689               Ward  \n7690               Ward  \n7691               Ward  \n...                 ...  \n7866            Commune  \n7867            Commune  \n7868            Commune  \n7869            Commune  \n7870            Commune  \n\n[184 rows x 20 columns]",
      "text/html": "<div>\n<style scoped>\n    .dataframe tbody tr th:only-of-type {\n        vertical-align: middle;\n    }\n\n    .dataframe tbody tr th {\n        vertical-align: top;\n    }\n\n    .dataframe thead th {\n        text-align: right;\n    }\n</style>\n<table border=\"1\" class=\"dataframe\">\n  <thead>\n    <tr style=\"text-align: right;\">\n      <th></th>\n      <th>province</th>\n      <th>district</th>\n      <th>ward</th>\n      <th>long_province</th>\n      <th>long_district</th>\n      <th>long_ward</th>\n      <th>short_district</th>\n      <th>short_ward</th>\n      <th>province_english</th>\n      <th>district_english</th>\n      <th>ward_english</th>\n      <th>long_province_english</th>\n      <th>long_district_english</th>\n      <th>long_ward_english</th>\n      <th>short_district_english</th>\n      <th>short_ward_english</th>\n      <th>district_level</th>\n      <th>ward_level</th>\n      <th>district_level_english</th>\n      <th>ward_level_english</th>\n    </tr>\n  </thead>\n  <tbody>\n    <tr>\n      <th>7687</th>\n      <td>Đắk Lắk</td>\n      <td>Buôn Ma Thuột</td>\n      <td>Tân Lập</td>\n      <td>Tỉnh Đắk Lắk</td>\n      <td>Thành phố Buôn Ma Thuột</td>\n      <td>Phường Tân Lập</td>\n      <td>Buôn Ma Thuột</td>\n      <td>Tân Lập</td>\n      <td>Dak Lak</td>\n      <td>Buon Ma Thuot</td>\n      <td>Tan Lap</td>\n      <td>Dak Lak Province</td>\n      <td>Buon Ma Thuot City</td>\n      <td>Tan Lap Ward</td>\n      <td>Buon Ma Thuot</td>\n      <td>Tan Lap</td>\n      <td>Thành phố</td>\n      <td>Phường</td>\n      <td>City</td>\n      <td>Ward</td>\n    </tr>\n    <tr>\n      <th>7688</th>\n      <td>Đắk Lắk</td>\n      <td>Buôn Ma Thuột</td>\n      <td>Tân Hòa</td>\n      <td>Tỉnh Đắk Lắk</td>\n      <td>Thành phố Buôn Ma Thuột</td>\n      <td>Phường Tân Hòa</td>\n      <td>Buôn Ma Thuột</td>\n      <td>Tân Hòa</td>\n      <td>Dak Lak</td>\n      <td>Buon Ma Thuot</td>\n      <td>Tan Hoa</td>\n      <td>Dak Lak Province</td>\n      <td>Buon Ma Thuot City</td>\n      <td>Tan Hoa Ward</td>\n      <td>Buon Ma Thuot</td>\n      <td>Tan Hoa</td>\n      <td>Thành phố</td>\n      <td>Phường</td>\n      <td>City</td>\n      <td>Ward</td>\n    </tr>\n    <tr>\n      <th>7689</th>\n      <td>Đắk Lắk</td>\n      <td>Buôn Ma Thuột</td>\n      <td>Tân An</td>\n      <td>Tỉnh Đắk Lắk</td>\n      <td>Thành phố Buôn Ma Thuột</td>\n      <td>Phường Tân An</td>\n      <td>Buôn Ma Thuột</td>\n      <td>Tân An</td>\n      <td>Dak Lak</td>\n      <td>Buon Ma Thuot</td>\n      <td>Tan An</td>\n      <td>Dak Lak Province</td>\n      <td>Buon Ma Thuot City</td>\n      <td>Tan An Ward</td>\n      <td>Buon Ma Thuot</td>\n      <td>Tan An</td>\n      <td>Thành phố</td>\n      <td>Phường</td>\n      <td>City</td>\n      <td>Ward</td>\n    </tr>\n    <tr>\n      <th>7690</th>\n      <td>Đắk Lắk</td>\n      <td>Buôn Ma Thuột</td>\n      <td>Thống Nhất</td>\n      <td>Tỉnh Đắk Lắk</td>\n      <td>Thành phố Buôn Ma Thuột</td>\n      <td>Phường Thống Nhất</td>\n      <td>Buôn Ma Thuột</td>\n      <td>Thống Nhất</td>\n      <td>Dak Lak</td>\n      <td>Buon Ma Thuot</td>\n      <td>Thong Nhat</td>\n      <td>Dak Lak Province</td>\n      <td>Buon Ma Thuot City</td>\n      <td>Thong Nhat Ward</td>\n      <td>Buon Ma Thuot</td>\n      <td>Thong Nhat</td>\n      <td>Thành phố</td>\n      <td>Phường</td>\n      <td>City</td>\n      <td>Ward</td>\n    </tr>\n    <tr>\n      <th>7691</th>\n      <td>Đắk Lắk</td>\n      <td>Buôn Ma Thuột</td>\n      <td>Thành Nhất</td>\n      <td>Tỉnh Đắk Lắk</td>\n      <td>Thành phố Buôn Ma Thuột</td>\n      <td>Phường Thành Nhất</td>\n      <td>Buôn Ma Thuột</td>\n      <td>Thành Nhất</td>\n      <td>Dak Lak</td>\n      <td>Buon Ma Thuot</td>\n      <td>Thanh Nhat</td>\n      <td>Dak Lak Province</td>\n      <td>Buon Ma Thuot City</td>\n      <td>Thanh Nhat Ward</td>\n      <td>Buon Ma Thuot</td>\n      <td>Thanh Nhat</td>\n      <td>Thành phố</td>\n      <td>Phường</td>\n      <td>City</td>\n      <td>Ward</td>\n    </tr>\n    <tr>\n      <th>...</th>\n      <td>...</td>\n      <td>...</td>\n      <td>...</td>\n      <td>...</td>\n      <td>...</td>\n      <td>...</td>\n      <td>...</td>\n      <td>...</td>\n      <td>...</td>\n      <td>...</td>\n      <td>...</td>\n      <td>...</td>\n      <td>...</td>\n      <td>...</td>\n      <td>...</td>\n      <td>...</td>\n      <td>...</td>\n      <td>...</td>\n      <td>...</td>\n      <td>...</td>\n    </tr>\n    <tr>\n      <th>7866</th>\n      <td>Đắk Lắk</td>\n      <td>Cư Kuin</td>\n      <td>Ea Tiêu</td>\n      <td>Tỉnh Đắk Lắk</td>\n      <td>Huyện Cư Kuin</td>\n      <td>Xã Ea Tiêu</td>\n      <td>Cư Kuin</td>\n      <td>Ea Tiêu</td>\n      <td>Dak Lak</td>\n      <td>Cu Kuin</td>\n      <td>Ea Tieu</td>\n      <td>Dak Lak Province</td>\n      <td>Cu Kuin District</td>\n      <td>Ea Tieu Commune</td>\n      <td>Cu Kuin</td>\n      <td>Ea Tieu</td>\n      <td>Huyện</td>\n      <td>Xã</td>\n      <td>District</td>\n      <td>Commune</td>\n    </tr>\n    <tr>\n      <th>7867</th>\n      <td>Đắk Lắk</td>\n      <td>Cư Kuin</td>\n      <td>Ea BHốk</td>\n      <td>Tỉnh Đắk Lắk</td>\n      <td>Huyện Cư Kuin</td>\n      <td>Xã Ea BHốk</td>\n      <td>Cư Kuin</td>\n      <td>Ea BHốk</td>\n      <td>Dak Lak</td>\n      <td>Cu Kuin</td>\n      <td>Ea BHok</td>\n      <td>Dak Lak Province</td>\n      <td>Cu Kuin District</td>\n      <td>Ea BHok Commune</td>\n      <td>Cu Kuin</td>\n      <td>Ea BHok</td>\n      <td>Huyện</td>\n      <td>Xã</td>\n      <td>District</td>\n      <td>Commune</td>\n    </tr>\n    <tr>\n      <th>7868</th>\n      <td>Đắk Lắk</td>\n      <td>Cư Kuin</td>\n      <td>Ea Hu</td>\n      <td>Tỉnh Đắk Lắk</td>\n      <td>Huyện Cư Kuin</td>\n      <td>Xã Ea Hu</td>\n      <td>Cư Kuin</td>\n      <td>Ea Hu</td>\n      <td>Dak Lak</td>\n      <td>Cu Kuin</td>\n      <td>Ea Hu</td>\n      <td>Dak Lak Province</td>\n      <td>Cu Kuin District</td>\n      <td>Ea Hu Commune</td>\n      <td>Cu Kuin</td>\n      <td>Ea Hu</td>\n      <td>Huyện</td>\n      <td>Xã</td>\n      <td>District</td>\n      <td>Commune</td>\n    </tr>\n    <tr>\n      <th>7869</th>\n      <td>Đắk Lắk</td>\n      <td>Cư Kuin</td>\n      <td>Dray Bhăng</td>\n      <td>Tỉnh Đắk Lắk</td>\n      <td>Huyện Cư Kuin</td>\n      <td>Xã Dray Bhăng</td>\n      <td>Cư Kuin</td>\n      <td>Dray Bhăng</td>\n      <td>Dak Lak</td>\n      <td>Cu Kuin</td>\n      <td>Dray Bhang</td>\n      <td>Dak Lak Province</td>\n      <td>Cu Kuin District</td>\n      <td>Dray Bhang Commune</td>\n      <td>Cu Kuin</td>\n      <td>Dray Bhang</td>\n      <td>Huyện</td>\n      <td>Xã</td>\n      <td>District</td>\n      <td>Commune</td>\n    </tr>\n    <tr>\n      <th>7870</th>\n      <td>Đắk Lắk</td>\n      <td>Cư Kuin</td>\n      <td>Hòa Hiệp</td>\n      <td>Tỉnh Đắk Lắk</td>\n      <td>Huyện Cư Kuin</td>\n      <td>Xã Hòa Hiệp</td>\n      <td>Cư Kuin</td>\n      <td>Hòa Hiệp</td>\n      <td>Dak Lak</td>\n      <td>Cu Kuin</td>\n      <td>Hoa Hiep</td>\n      <td>Dak Lak Province</td>\n      <td>Cu Kuin District</td>\n      <td>Hoa Hiep Commune</td>\n      <td>Cu Kuin</td>\n      <td>Hoa Hiep</td>\n      <td>Huyện</td>\n      <td>Xã</td>\n      <td>District</td>\n      <td>Commune</td>\n    </tr>\n  </tbody>\n</table>\n<p>184 rows × 20 columns</p>\n</div>"
     },
     "execution_count": 38,
     "metadata": {},
     "output_type": "execute_result"
    }
   ],
   "source": [
    "df_test[(df_test.province_english=='Dak Lak')]"
   ],
   "metadata": {
    "collapsed": false,
    "ExecuteTime": {
     "end_time": "2024-09-20T10:22:32.118275Z",
     "start_time": "2024-09-20T10:22:32.108118Z"
    }
   },
   "id": "ecc78a981d8d5096",
   "execution_count": 38
  },
  {
   "cell_type": "code",
   "outputs": [],
   "source": [],
   "metadata": {
    "collapsed": false,
    "ExecuteTime": {
     "end_time": "2024-09-20T10:22:32.120410Z",
     "start_time": "2024-09-20T10:22:32.118999Z"
    }
   },
   "id": "4fef0360884c8e29",
   "execution_count": 38
  }
 ],
 "metadata": {
  "kernelspec": {
   "display_name": "Python 3",
   "language": "python",
   "name": "python3"
  },
  "language_info": {
   "codemirror_mode": {
    "name": "ipython",
    "version": 2
   },
   "file_extension": ".py",
   "mimetype": "text/x-python",
   "name": "python",
   "nbconvert_exporter": "python",
   "pygments_lexer": "ipython2",
   "version": "2.7.6"
  }
 },
 "nbformat": 4,
 "nbformat_minor": 5
}
