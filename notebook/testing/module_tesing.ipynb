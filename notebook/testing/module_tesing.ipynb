{
 "cells": [
  {
   "cell_type": "code",
   "execution_count": 1,
   "id": "initial_id",
   "metadata": {
    "collapsed": true,
    "ExecuteTime": {
     "end_time": "2024-09-18T09:06:55.239377Z",
     "start_time": "2024-09-18T09:06:54.640435Z"
    }
   },
   "outputs": [],
   "source": [
    "from vietadminunits import parse_address, get_data\n",
    "import pandas as pd\n",
    "import re\n",
    "\n",
    "from unidecode import unidecode"
   ]
  },
  {
   "cell_type": "markdown",
   "source": [
    "# Demo"
   ],
   "metadata": {
    "collapsed": false
   },
   "id": "5a2fae1f4817088b"
  },
  {
   "cell_type": "code",
   "outputs": [
    {
     "data": {
      "text/plain": "AdministrativeUnit:\nAttribute                      | Value                         \n--------------------------------------------------------------\nprovince                       | Bến Tre                       \ndistrict                       | Mỏ Cày Bắc                    \nward                           | Hòa Lộc                       \n--------------------------------------------------------------\nlong_province                  | Tỉnh Bến Tre                  \nlong_district                  | Huyện Mỏ Cày Bắc              \nlong_ward                      | Xã Hòa Lộc                    \n--------------------------------------------------------------\nshort_district                 | Mỏ Cày Bắc                    \nshort_ward                     | Hòa Lộc                       \n--------------------------------------------------------------\nprovince_english               | Ben Tre                       \ndistrict_english               | Mo Cay Bac                    \nward_english                   | Hoa Loc                       \n--------------------------------------------------------------\nlong_province_english          | Ben Tre Province              \nlong_district_english          | Mo Cay Bac District           \nlong_ward_english              | Hoa Loc Commune               \n--------------------------------------------------------------\nshort_district_english         | Mo Cay Bac                    \nshort_ward_english             | Hoa Loc                       \n--------------------------------------------------------------\ndistrict_level                 | Huyện                         \nward_level                     | Xã                            \n--------------------------------------------------------------\ndistrict_level_english         | District                      \nward_level_english             | Commune                       "
     },
     "execution_count": 10,
     "metadata": {},
     "output_type": "execute_result"
    }
   ],
   "source": [
    "parse_address('Hoa Loc Mo Cay Ben Tre')"
   ],
   "metadata": {
    "collapsed": false,
    "ExecuteTime": {
     "end_time": "2024-09-18T09:10:28.601760Z",
     "start_time": "2024-09-18T09:10:28.593327Z"
    }
   },
   "id": "365a4401b239bf2a",
   "execution_count": 10
  },
  {
   "cell_type": "code",
   "outputs": [
    {
     "data": {
      "text/plain": "AdministrativeUnit:\nAttribute                      | Value                         \n--------------------------------------------------------------\nprovince                       | Bến Tre                       \ndistrict                       | Mỏ Cày Nam                    \nward                           | Mỏ Cày                        \n--------------------------------------------------------------\nlong_province                  | Tỉnh Bến Tre                  \nlong_district                  | Huyện Mỏ Cày Nam              \nlong_ward                      | Thị trấn Mỏ Cày               \n--------------------------------------------------------------\nshort_district                 | Mỏ Cày Nam                    \nshort_ward                     | Mỏ Cày                        \n--------------------------------------------------------------\nprovince_english               | Ben Tre                       \ndistrict_english               | Mo Cay Nam                    \nward_english                   | Mo Cay                        \n--------------------------------------------------------------\nlong_province_english          | Ben Tre Province              \nlong_district_english          | Mo Cay Nam District           \nlong_ward_english              | Mo Cay Town                   \n--------------------------------------------------------------\nshort_district_english         | Mo Cay Nam                    \nshort_ward_english             | Mo Cay                        \n--------------------------------------------------------------\ndistrict_level                 | Huyện                         \nward_level                     | Thị trấn                      \n--------------------------------------------------------------\ndistrict_level_english         | District                      \nward_level_english             | Town                          "
     },
     "execution_count": 11,
     "metadata": {},
     "output_type": "execute_result"
    }
   ],
   "source": [
    "parse_address('Mo Cay Ben Tre')"
   ],
   "metadata": {
    "collapsed": false,
    "ExecuteTime": {
     "end_time": "2024-09-18T09:10:53.395155Z",
     "start_time": "2024-09-18T09:10:53.388501Z"
    }
   },
   "id": "24467602bfea0b8",
   "execution_count": 11
  },
  {
   "cell_type": "code",
   "outputs": [
    {
     "data": {
      "text/plain": "AdministrativeUnit:\nAttribute                      | Value                         \n--------------------------------------------------------------\nprovince                       | Hà Nội                        \ndistrict                       | Bắc Từ Liêm                   \nward                           | Liên Mạc                      \n--------------------------------------------------------------\nlong_province                  | Thành phố Hà Nội              \nlong_district                  | Quận Bắc Từ Liêm              \nlong_ward                      | Phường Liên Mạc               \n--------------------------------------------------------------\nshort_district                 | Bắc Từ Liêm                   \nshort_ward                     | Liên Mạc                      \n--------------------------------------------------------------\nprovince_english               | Ha Noi                        \ndistrict_english               | Bac Tu Liem                   \nward_english                   | Lien Mac                      \n--------------------------------------------------------------\nlong_province_english          | Ha Noi City                   \nlong_district_english          | Bac Tu Liem District          \nlong_ward_english              | Lien Mac Ward                 \n--------------------------------------------------------------\nshort_district_english         | Bac Tu Liem                   \nshort_ward_english             | Lien Mac                      \n--------------------------------------------------------------\ndistrict_level                 | Quận                          \nward_level                     | Phường                        \n--------------------------------------------------------------\ndistrict_level_english         | District                      \nward_level_english             | Ward                          "
     },
     "execution_count": 6,
     "metadata": {},
     "output_type": "execute_result"
    }
   ],
   "source": [
    "parse_address('Lien Mac Tu Liem Ha Noi')"
   ],
   "metadata": {
    "collapsed": false,
    "ExecuteTime": {
     "end_time": "2024-09-18T09:08:33.360615Z",
     "start_time": "2024-09-18T09:08:33.353965Z"
    }
   },
   "id": "6f717af914a28fa4",
   "execution_count": 6
  },
  {
   "cell_type": "code",
   "outputs": [],
   "source": [
    "parse_address('Cai Lay Tien Giang')"
   ],
   "metadata": {
    "collapsed": false
   },
   "id": "6dea19bb8b4df67a",
   "execution_count": null
  },
  {
   "cell_type": "code",
   "outputs": [],
   "source": [
    "parse_address('ky anh ha tinh')"
   ],
   "metadata": {
    "collapsed": false
   },
   "id": "57289afc468afdaa",
   "execution_count": null
  },
  {
   "cell_type": "code",
   "outputs": [],
   "source": [
    "parse_address('hat lot mai son son la')"
   ],
   "metadata": {
    "collapsed": false
   },
   "id": "21305f6aa3f21443",
   "execution_count": null
  },
  {
   "cell_type": "code",
   "outputs": [],
   "source": [
    "parse_address('phuong Tan Thanh, Ca Mau, Ca Mau')"
   ],
   "metadata": {
    "collapsed": false
   },
   "id": "745e840418e26c0b",
   "execution_count": null
  },
  {
   "cell_type": "code",
   "outputs": [],
   "source": [
    "parse_address('Ngã Tư Sở Market, Đường Nguyễn Trãi, Thượng Đình Số nhà 28A, Ngõ 72 Nguyễn Trãi , , Phường Thượng Đình, Quận Thanh Xuân , Hà Nội Quận Thanh Xuân')"
   ],
   "metadata": {
    "collapsed": false
   },
   "id": "ccfcb3feb70b601d",
   "execution_count": null
  },
  {
   "cell_type": "code",
   "outputs": [],
   "source": [
    "parse_address('Cuối đường kiều mai, dự án bệnh viện hạnh phúc  phường phú diễn quận bắc từ liêm hà nội')"
   ],
   "metadata": {
    "collapsed": false
   },
   "id": "ac59fdbd592726a1",
   "execution_count": null
  },
  {
   "cell_type": "code",
   "outputs": [],
   "source": [
    "address = 'Cuối đường kiều mai, dự án bệnh viện hạnh phúc phường phú diễn quận bắc từ liêm HN'\n",
    "\n",
    "admin_unit = parse_address(address=address, level=3)\n",
    "\n",
    "print(admin_unit)\n",
    "\n",
    "print(admin_unit.ward, admin_unit.district, admin_unit.province, sep=', ')"
   ],
   "metadata": {
    "collapsed": false
   },
   "id": "5ef8a354992a293e",
   "execution_count": null
  },
  {
   "cell_type": "code",
   "outputs": [],
   "source": [
    "parse_address('03 Nguyễn Cao Luyện, An Hải Bắc, Sơn Trà, Đà Nẵng 550000, Việt Nam')"
   ],
   "metadata": {
    "collapsed": false
   },
   "id": "6fb98f74ac0bdf8d",
   "execution_count": null
  },
  {
   "cell_type": "code",
   "outputs": [],
   "source": [
    "parse_address('3c60/10 chợ cầu xấng, xã phạm văn hai, huyện bình chánh HCM')"
   ],
   "metadata": {
    "collapsed": false
   },
   "id": "960a61d68549fa75",
   "execution_count": null
  },
  {
   "cell_type": "code",
   "outputs": [],
   "source": [
    "parse_address('ngõ 154 Đình Thôn, phường Mỹ Đình 2, Quận Nam Từ Liêm, HN')"
   ],
   "metadata": {
    "collapsed": false
   },
   "id": "7ab4dc3d2c704933",
   "execution_count": null
  },
  {
   "cell_type": "code",
   "outputs": [],
   "source": [
    "parse_address('Ha Noi, Gia Lam, Yen Vien')"
   ],
   "metadata": {
    "collapsed": false
   },
   "id": "8928a354ab16a274",
   "execution_count": null
  },
  {
   "cell_type": "markdown",
   "source": [
    "# Check wrong or missing in bulk"
   ],
   "metadata": {
    "collapsed": false
   },
   "id": "3f7ebf254ffba569"
  },
  {
   "cell_type": "code",
   "outputs": [],
   "source": [
    "df = pd.read_csv('../../data/input/danhmuchanhchinhgso.gov.vn.csv')"
   ],
   "metadata": {
    "collapsed": false
   },
   "id": "19018c4a3a7f3491",
   "execution_count": null
  },
  {
   "cell_type": "code",
   "outputs": [],
   "source": [
    "df['district_address'] = df['long_district'] + ', ' + df['long_province']\n",
    "district_addresses = df['district_address'].tolist()\n",
    "\n",
    "for address in district_addresses:\n",
    "    try:\n",
    "        unit = parse_address(address, level=2)\n",
    "    except:\n",
    "        print(address)\n",
    "    if unit.province == None:\n",
    "        print(address)\n",
    "    elif unit.district == None:\n",
    "        print(address)"
   ],
   "metadata": {
    "collapsed": false
   },
   "id": "10f1c4f277648450",
   "execution_count": null
  },
  {
   "cell_type": "code",
   "outputs": [],
   "source": [
    "df['ward_address'] = df['long_ward'].fillna('') + ', ' + df['long_district'] + ', ' + df['long_province']\n",
    "ward_addresses = df['ward_address'].dropna().tolist()\n",
    "miss = []\n",
    "for ward_address in ward_addresses:\n",
    "    try:\n",
    "        unit = parse_address(ward_address, level=3)\n",
    "    except Exception as e:\n",
    "        print(ward_address)\n",
    "        raise e\n",
    "\n",
    "    if unit.province == None:\n",
    "        print(ward_address)\n",
    "    elif unit.district == None:\n",
    "        print(ward_address)\n",
    "    elif unit.ward == None and unit.district_key not in ['bachlongvi', 'conco', 'hoangsa', 'lyson', 'condao']:\n",
    "        print(ward_address)\n"
   ],
   "metadata": {
    "collapsed": false
   },
   "id": "2ce0c17cd4128a3f",
   "execution_count": null
  },
  {
   "cell_type": "code",
   "outputs": [],
   "source": [
    "parse_address('Phường Chi Lăng, Thành phố Lạng Sơn, Tỉnh Lạng Sơn', level=3)"
   ],
   "metadata": {
    "collapsed": false
   },
   "id": "1d56fa8d62f38ed4",
   "execution_count": null
  },
  {
   "cell_type": "code",
   "outputs": [],
   "source": [
    "df_test = pd.DataFrame(get_data())"
   ],
   "metadata": {
    "collapsed": false
   },
   "id": "3cb49da069f6acd4",
   "execution_count": null
  },
  {
   "cell_type": "code",
   "outputs": [],
   "source": [
    "df_test[df_test.district.str.contains('Từ Liêm')]"
   ],
   "metadata": {
    "collapsed": false
   },
   "id": "e59a2ca8a5a70100",
   "execution_count": null
  },
  {
   "cell_type": "code",
   "outputs": [],
   "source": [
    "parse_address('me tri Tu Liem Ha Noi')"
   ],
   "metadata": {
    "collapsed": false
   },
   "id": "f80bafeec8194b53",
   "execution_count": null
  },
  {
   "cell_type": "code",
   "outputs": [],
   "source": [],
   "metadata": {
    "collapsed": false
   },
   "id": "2a9b3169230a0c6c"
  }
 ],
 "metadata": {
  "kernelspec": {
   "display_name": "Python 3",
   "language": "python",
   "name": "python3"
  },
  "language_info": {
   "codemirror_mode": {
    "name": "ipython",
    "version": 2
   },
   "file_extension": ".py",
   "mimetype": "text/x-python",
   "name": "python",
   "nbconvert_exporter": "python",
   "pygments_lexer": "ipython2",
   "version": "2.7.6"
  }
 },
 "nbformat": 4,
 "nbformat_minor": 5
}
