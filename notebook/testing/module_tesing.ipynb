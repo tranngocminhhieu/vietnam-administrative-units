{
 "cells": [
  {
   "cell_type": "code",
   "execution_count": 1,
   "id": "initial_id",
   "metadata": {
    "collapsed": true,
    "ExecuteTime": {
     "end_time": "2024-09-22T18:19:58.897523Z",
     "start_time": "2024-09-22T18:19:58.276103Z"
    }
   },
   "outputs": [],
   "source": [
    "from vietadminunits import parse_address, get_data\n",
    "import pandas as pd\n",
    "import re\n",
    "\n",
    "from unidecode import unidecode"
   ]
  },
  {
   "cell_type": "code",
   "outputs": [
    {
     "data": {
      "text/plain": "AdministrativeUnit:\nAttribute                      | Value                         \n--------------------------------------------------------------\nprovince                       | Hưng Yên                      \ndistrict                       | Văn Giang                     \nward                           | Văn Giang                     \n--------------------------------------------------------------\nlong_province                  | Tỉnh Hưng Yên                 \nlong_district                  | Huyện Văn Giang               \nlong_ward                      | Thị trấn Văn Giang            \n--------------------------------------------------------------\nshort_district                 | Văn Giang                     \nshort_ward                     | Văn Giang                     \n--------------------------------------------------------------\nprovince_english               | Hung Yen                      \ndistrict_english               | Van Giang                     \nward_english                   | Van Giang                     \n--------------------------------------------------------------\nlong_province_english          | Hung Yen Province             \nlong_district_english          | Van Giang District            \nlong_ward_english              | Van Giang Town                \n--------------------------------------------------------------\nshort_district_english         | Van Giang                     \nshort_ward_english             | Van Giang                     \n--------------------------------------------------------------\ndistrict_level                 | Huyện                         \nward_level                     | Thị trấn                      \n--------------------------------------------------------------\ndistrict_level_english         | District                      \nward_level_english             | Town                          "
     },
     "execution_count": 2,
     "metadata": {},
     "output_type": "execute_result"
    }
   ],
   "source": [
    "parse_address('Thị Trấn Văn Giang,Huyện Văn Giang,Tỉnh Hưng Yên')"
   ],
   "metadata": {
    "collapsed": false,
    "ExecuteTime": {
     "end_time": "2024-09-22T18:19:59.378829Z",
     "start_time": "2024-09-22T18:19:59.369549Z"
    }
   },
   "id": "baa59a4759bc3ad",
   "execution_count": 2
  },
  {
   "cell_type": "code",
   "outputs": [
    {
     "data": {
      "text/plain": "AdministrativeUnit:\nAttribute                      | Value                         \n--------------------------------------------------------------\nprovince                       | Hồ Chí Minh                   \ndistrict                       | Quận 7                        \nward                           | Bình Thuận                    \n--------------------------------------------------------------\nlong_province                  | Thành phố Hồ Chí Minh         \nlong_district                  | Quận 7                        \nlong_ward                      | Phường Bình Thuận             \n--------------------------------------------------------------\nshort_district                 | Quận 7                        \nshort_ward                     | Bình Thuận                    \n--------------------------------------------------------------\nprovince_english               | Ho Chi Minh                   \ndistrict_english               | District 7                    \nward_english                   | Binh Thuan                    \n--------------------------------------------------------------\nlong_province_english          | Ho Chi Minh City              \nlong_district_english          | District 7                    \nlong_ward_english              | Binh Thuan Ward               \n--------------------------------------------------------------\nshort_district_english         | District 7                    \nshort_ward_english             | Binh Thuan                    \n--------------------------------------------------------------\ndistrict_level                 | Quận                          \nward_level                     | Phường                        \n--------------------------------------------------------------\ndistrict_level_english         | District                      \nward_level_english             | Ward                          "
     },
     "execution_count": 3,
     "metadata": {},
     "output_type": "execute_result"
    }
   ],
   "source": [
    "parse_address('phuong Binh Thuan quan 7')"
   ],
   "metadata": {
    "collapsed": false,
    "ExecuteTime": {
     "end_time": "2024-09-22T18:20:00.415712Z",
     "start_time": "2024-09-22T18:20:00.409770Z"
    }
   },
   "id": "eadf92fa0adeed1e",
   "execution_count": 3
  },
  {
   "cell_type": "code",
   "outputs": [
    {
     "data": {
      "text/plain": "AdministrativeUnit:\nAttribute                      | Value                         \n--------------------------------------------------------------\nprovince                       | Hồ Chí Minh                   \ndistrict                       | Quận 5                        \nward                           | Phường 2                      \n--------------------------------------------------------------\nlong_province                  | Thành phố Hồ Chí Minh         \nlong_district                  | Quận 5                        \nlong_ward                      | Phường 2                      \n--------------------------------------------------------------\nshort_district                 | Quận 5                        \nshort_ward                     | Phường 2                      \n--------------------------------------------------------------\nprovince_english               | Ho Chi Minh                   \ndistrict_english               | District 5                    \nward_english                   | Ward 2                        \n--------------------------------------------------------------\nlong_province_english          | Ho Chi Minh City              \nlong_district_english          | District 5                    \nlong_ward_english              | Ward 2                        \n--------------------------------------------------------------\nshort_district_english         | District 5                    \nshort_ward_english             | Ward 2                        \n--------------------------------------------------------------\ndistrict_level                 | Quận                          \nward_level                     | Phường                        \n--------------------------------------------------------------\ndistrict_level_english         | District                      \nward_level_english             | Ward                          "
     },
     "execution_count": 4,
     "metadata": {},
     "output_type": "execute_result"
    }
   ],
   "source": [
    "parse_address('p2 q5')"
   ],
   "metadata": {
    "collapsed": false,
    "ExecuteTime": {
     "end_time": "2024-09-22T18:20:01.258838Z",
     "start_time": "2024-09-22T18:20:01.253600Z"
    }
   },
   "id": "9d9b97acec9e9367",
   "execution_count": 4
  },
  {
   "cell_type": "code",
   "outputs": [
    {
     "data": {
      "text/plain": "'Huyện Kỳ Anh'"
     },
     "execution_count": 5,
     "metadata": {},
     "output_type": "execute_result"
    }
   ],
   "source": [
    "parse_address('Huyện Kỳ Anh Hà Tĩnh').district\n",
    "# Có Huyện thì Huyện"
   ],
   "metadata": {
    "collapsed": false,
    "ExecuteTime": {
     "end_time": "2024-09-22T18:20:02.212654Z",
     "start_time": "2024-09-22T18:20:02.206479Z"
    }
   },
   "id": "26341837c1197341",
   "execution_count": 5
  },
  {
   "cell_type": "code",
   "outputs": [
    {
     "data": {
      "text/plain": "'Thị xã Kỳ Anh'"
     },
     "execution_count": 6,
     "metadata": {},
     "output_type": "execute_result"
    }
   ],
   "source": [
    "parse_address('Thị xã Kỳ Anh Hà Tĩnh').district\n",
    "# Có Thị xã thì thị xã"
   ],
   "metadata": {
    "collapsed": false,
    "ExecuteTime": {
     "end_time": "2024-09-22T18:20:05.992957Z",
     "start_time": "2024-09-22T18:20:05.987941Z"
    }
   },
   "id": "2e6b3f55fb191613",
   "execution_count": 6
  },
  {
   "cell_type": "code",
   "outputs": [
    {
     "data": {
      "text/plain": "'Thị xã Kỳ Anh'"
     },
     "execution_count": 7,
     "metadata": {},
     "output_type": "execute_result"
    }
   ],
   "source": [
    "parse_address('tx.Kỳ Anh Hà Tĩnh').district\n",
    "# Có Thị xã thì thị xã"
   ],
   "metadata": {
    "collapsed": false,
    "ExecuteTime": {
     "end_time": "2024-09-22T18:20:07.723395Z",
     "start_time": "2024-09-22T18:20:07.718791Z"
    }
   },
   "id": "a708c1598dddf88e",
   "execution_count": 7
  },
  {
   "cell_type": "code",
   "outputs": [
    {
     "data": {
      "text/plain": "'Thị xã Kỳ Anh'"
     },
     "execution_count": 8,
     "metadata": {},
     "output_type": "execute_result"
    }
   ],
   "source": [
    "parse_address('Kỳ Anh Hà Tĩnh').district\n",
    "# Không có gì thì Google Trend"
   ],
   "metadata": {
    "collapsed": false,
    "ExecuteTime": {
     "end_time": "2024-09-22T18:20:12.596594Z",
     "start_time": "2024-09-22T18:20:12.592266Z"
    }
   },
   "id": "944c2e258f716fce",
   "execution_count": 8
  },
  {
   "cell_type": "code",
   "outputs": [
    {
     "data": {
      "text/plain": "'Thị xã Kỳ Anh'"
     },
     "execution_count": 9,
     "metadata": {},
     "output_type": "execute_result"
    }
   ],
   "source": [
    "parse_address('Kỳ Anh').district\n",
    "# Không có gì thì Google Trend, ko có province luôn cũng được"
   ],
   "metadata": {
    "collapsed": false,
    "ExecuteTime": {
     "end_time": "2024-09-22T18:20:15.262635Z",
     "start_time": "2024-09-22T18:20:15.257572Z"
    }
   },
   "id": "7ee7a24f64e10b5",
   "execution_count": 9
  },
  {
   "cell_type": "code",
   "outputs": [
    {
     "data": {
      "text/plain": "'Thị xã Kỳ Anh'"
     },
     "execution_count": 10,
     "metadata": {},
     "output_type": "execute_result"
    }
   ],
   "source": [
    "parse_address('Hưng Trí, Kỳ Anh').district\n",
    "# Có ward thì auto biết"
   ],
   "metadata": {
    "collapsed": false,
    "ExecuteTime": {
     "end_time": "2024-09-22T18:20:18.726882Z",
     "start_time": "2024-09-22T18:20:18.722225Z"
    }
   },
   "id": "d1f882a48735fb56",
   "execution_count": 10
  },
  {
   "cell_type": "code",
   "outputs": [
    {
     "data": {
      "text/plain": "'Huyện Kỳ Anh'"
     },
     "execution_count": 11,
     "metadata": {},
     "output_type": "execute_result"
    }
   ],
   "source": [
    "parse_address('Kỳ Lạc, Kỳ Anh').district\n",
    "# Có ward thì auto biết"
   ],
   "metadata": {
    "collapsed": false,
    "ExecuteTime": {
     "end_time": "2024-09-22T18:20:20.551427Z",
     "start_time": "2024-09-22T18:20:20.547695Z"
    }
   },
   "id": "5e2960b0dac284b3",
   "execution_count": 11
  },
  {
   "cell_type": "markdown",
   "source": [
    "# Demo"
   ],
   "metadata": {
    "collapsed": false
   },
   "id": "5a2fae1f4817088b"
  },
  {
   "cell_type": "code",
   "outputs": [],
   "source": [
    "parse_address('p2 q5')"
   ],
   "metadata": {
    "collapsed": false
   },
   "id": "364a536daa733e10",
   "execution_count": null
  },
  {
   "cell_type": "code",
   "outputs": [],
   "source": [
    "parse_address('duong ab p2 q5')"
   ],
   "metadata": {
    "collapsed": false
   },
   "id": "dfec4031da7b0204",
   "execution_count": null
  },
  {
   "cell_type": "code",
   "outputs": [],
   "source": [
    "parse_address('thu duc')"
   ],
   "metadata": {
    "collapsed": false
   },
   "id": "eab6dd96ced97284",
   "execution_count": null
  },
  {
   "cell_type": "code",
   "outputs": [],
   "source": [
    "parse_address('phuong phu trinh, phan thiet, binh thuan')"
   ],
   "metadata": {
    "collapsed": false
   },
   "id": "c04344ab4b8ee4fa",
   "execution_count": null
  },
  {
   "cell_type": "code",
   "outputs": [],
   "source": [
    "parse_address('Hoa Loc Mo Cay Ben Tre')"
   ],
   "metadata": {
    "collapsed": false
   },
   "id": "365a4401b239bf2a",
   "execution_count": null
  },
  {
   "cell_type": "code",
   "outputs": [],
   "source": [
    "parse_address('Mo Cay Ben Tre')"
   ],
   "metadata": {
    "collapsed": false
   },
   "id": "24467602bfea0b8",
   "execution_count": null
  },
  {
   "cell_type": "code",
   "outputs": [],
   "source": [
    "parse_address('Lien Mac Tu Liem Ha Noi')"
   ],
   "metadata": {
    "collapsed": false
   },
   "id": "6f717af914a28fa4",
   "execution_count": null
  },
  {
   "cell_type": "code",
   "outputs": [],
   "source": [
    "parse_address('Cai Lay Tien Giang')"
   ],
   "metadata": {
    "collapsed": false
   },
   "id": "6dea19bb8b4df67a",
   "execution_count": null
  },
  {
   "cell_type": "code",
   "outputs": [],
   "source": [
    "parse_address('ky anh ha tinh')"
   ],
   "metadata": {
    "collapsed": false
   },
   "id": "57289afc468afdaa",
   "execution_count": null
  },
  {
   "cell_type": "code",
   "outputs": [],
   "source": [
    "parse_address('hat lot mai son son la')"
   ],
   "metadata": {
    "collapsed": false
   },
   "id": "21305f6aa3f21443",
   "execution_count": null
  },
  {
   "cell_type": "code",
   "outputs": [],
   "source": [
    "parse_address('phuong Tan Thanh, Ca Mau, Ca Mau')"
   ],
   "metadata": {
    "collapsed": false
   },
   "id": "745e840418e26c0b",
   "execution_count": null
  },
  {
   "cell_type": "code",
   "outputs": [],
   "source": [
    "parse_address('Ngã Tư Sở Market, Đường Nguyễn Trãi, Thượng Đình Số nhà 28A, Ngõ 72 Nguyễn Trãi , , Phường Thượng Đình, Quận Thanh Xuân , Hà Nội Quận Thanh Xuân')"
   ],
   "metadata": {
    "collapsed": false
   },
   "id": "ccfcb3feb70b601d",
   "execution_count": null
  },
  {
   "cell_type": "code",
   "outputs": [],
   "source": [
    "parse_address('Cuối đường kiều mai, dự án bệnh viện hạnh phúc  phường phú diễn quận bắc từ liêm hà nội')"
   ],
   "metadata": {
    "collapsed": false
   },
   "id": "ac59fdbd592726a1",
   "execution_count": null
  },
  {
   "cell_type": "code",
   "outputs": [],
   "source": [
    "parse_address('03 Nguyễn Cao Luyện, An Hải Bắc, Sơn Trà, Đà Nẵng 550000, Việt Nam')"
   ],
   "metadata": {
    "collapsed": false
   },
   "id": "6fb98f74ac0bdf8d",
   "execution_count": null
  },
  {
   "cell_type": "code",
   "outputs": [],
   "source": [
    "parse_address('3c60/10 chợ cầu xấng, xã phạm văn hai, huyện bình chánh HCM')"
   ],
   "metadata": {
    "collapsed": false
   },
   "id": "960a61d68549fa75",
   "execution_count": null
  },
  {
   "cell_type": "code",
   "outputs": [],
   "source": [
    "parse_address('ngõ 154 Đình Thôn, phường Mỹ Đình 2, Quận Nam Từ Liêm, HN')"
   ],
   "metadata": {
    "collapsed": false
   },
   "id": "7ab4dc3d2c704933",
   "execution_count": null
  },
  {
   "cell_type": "code",
   "outputs": [],
   "source": [
    "parse_address('Ha Noi, Gia Lam, Yen Vien')"
   ],
   "metadata": {
    "collapsed": false
   },
   "id": "8928a354ab16a274",
   "execution_count": null
  },
  {
   "cell_type": "code",
   "outputs": [],
   "source": [
    "parse_address('Thị trấn N.T Phong Hải, Huyện Bảo Thắng, Tỉnh Lào Cai')"
   ],
   "metadata": {
    "collapsed": false
   },
   "id": "972e0adf53ad859a",
   "execution_count": null
  },
  {
   "cell_type": "markdown",
   "source": [
    "# Check wrong or missing in bulk"
   ],
   "metadata": {
    "collapsed": false
   },
   "id": "3f7ebf254ffba569"
  },
  {
   "cell_type": "code",
   "outputs": [],
   "source": [
    "df = pd.read_csv('../../data/input/danhmuchanhchinhgso.gov.vn.csv')\n",
    "df.loc[(df.long_province=='Tỉnh Đắk Lắk') & (df.long_ward==\"Xã Ea H'đinh\"), 'long_ward'] = \"Xã Ea H'đing\""
   ],
   "metadata": {
    "collapsed": false
   },
   "id": "19018c4a3a7f3491",
   "execution_count": null
  },
  {
   "cell_type": "code",
   "outputs": [],
   "source": [
    "df['district_address'] = df['long_district'] + ', ' + df['long_province']\n",
    "district_addresses = df['district_address'].tolist()\n",
    "\n",
    "for address in district_addresses:\n",
    "    try:\n",
    "        unit = parse_address(address, level=2)\n",
    "    except:\n",
    "        print(address)\n",
    "    if unit.province == None:\n",
    "        print(address)\n",
    "    elif unit.district == None:\n",
    "        print(address)"
   ],
   "metadata": {
    "collapsed": false
   },
   "id": "10f1c4f277648450",
   "execution_count": null
  },
  {
   "cell_type": "code",
   "outputs": [],
   "source": [
    "df['ward_address'] = df['long_ward'].fillna('') + ', ' + df['long_district'] + ', ' + df['long_province']\n",
    "ward_addresses = df['ward_address'].dropna().tolist()\n",
    "miss = []\n",
    "for ward_address in ward_addresses:\n",
    "    try:\n",
    "        unit = parse_address(ward_address, level=3)\n",
    "    except Exception as e:\n",
    "        print(ward_address)\n",
    "        raise e\n",
    "\n",
    "    if unit.province == None:\n",
    "        print(ward_address)\n",
    "    elif unit.district == None:\n",
    "        print(ward_address)\n",
    "    elif unit.ward == None and unit.district_key not in ['bachlongvi', 'conco', 'hoangsa', 'lyson', 'condao']:\n",
    "        print(ward_address)\n"
   ],
   "metadata": {
    "collapsed": false
   },
   "id": "2ce0c17cd4128a3f",
   "execution_count": null
  },
  {
   "cell_type": "code",
   "outputs": [],
   "source": [
    "parse_address('Xã A Xan, Huyện Tây Giang, Tỉnh Quảng Nam')"
   ],
   "metadata": {
    "collapsed": false
   },
   "id": "77a8aed4601a51fe",
   "execution_count": null
  },
  {
   "cell_type": "code",
   "outputs": [],
   "source": [
    "parse_address('Huyện Sơn Dương, Tỉnh Tuyên Quang')"
   ],
   "metadata": {
    "collapsed": false
   },
   "id": "75106f16637f3d36",
   "execution_count": null
  },
  {
   "cell_type": "code",
   "outputs": [],
   "source": [
    "parse_address('Thị trấn Thanh Chương, Huyện Thanh Chương, Tỉnh Nghệ An')"
   ],
   "metadata": {
    "collapsed": false
   },
   "id": "3cb49da069f6acd4",
   "execution_count": null
  },
  {
   "cell_type": "code",
   "outputs": [],
   "source": [
    "from vietadminunits import get_data"
   ],
   "metadata": {
    "collapsed": false
   },
   "id": "e4c1c60cc46a6fce",
   "execution_count": null
  },
  {
   "cell_type": "code",
   "outputs": [],
   "source": [
    "df_test = pd.DataFrame(get_data())"
   ],
   "metadata": {
    "collapsed": false
   },
   "id": "eb002768635b162f",
   "execution_count": null
  },
  {
   "cell_type": "code",
   "outputs": [],
   "source": [
    "df_test[df_test.district_english.fillna('').str.startswith('Huyen ')]"
   ],
   "metadata": {
    "collapsed": false
   },
   "id": "a24522748d879941",
   "execution_count": null
  },
  {
   "cell_type": "code",
   "outputs": [],
   "source": [
    "df_test[(df_test.province_english=='Dak Lak')]"
   ],
   "metadata": {
    "collapsed": false
   },
   "id": "ecc78a981d8d5096",
   "execution_count": null
  },
  {
   "cell_type": "code",
   "outputs": [],
   "source": [
    "df_test[df_test.district_english=='Phu Tho']"
   ],
   "metadata": {
    "collapsed": false
   },
   "id": "4fef0360884c8e29",
   "execution_count": null
  },
  {
   "cell_type": "code",
   "outputs": [],
   "source": [
    "df_test[df_test.ward_english=='Van Giang']"
   ],
   "metadata": {
    "collapsed": false
   },
   "id": "925af2025bbee68",
   "execution_count": null
  },
  {
   "cell_type": "code",
   "outputs": [],
   "source": [
    "parse_address('Dinh Cong Thanh Xuan Ha Noi')"
   ],
   "metadata": {
    "collapsed": false
   },
   "id": "35f65278741bd2a1",
   "execution_count": null
  },
  {
   "cell_type": "code",
   "outputs": [],
   "source": [
    "min(1, -1)"
   ],
   "metadata": {
    "collapsed": false
   },
   "id": "7158b14a3d3d2022",
   "execution_count": null
  },
  {
   "cell_type": "code",
   "outputs": [],
   "source": [
    "start_1 = 5\n",
    "start_2 = None"
   ],
   "metadata": {
    "collapsed": false
   },
   "id": "84065fb861b648ae",
   "execution_count": null
  },
  {
   "cell_type": "code",
   "outputs": [],
   "source": [
    "if start_1 and start_2:\n",
    "    start = min(start_1, start_2)\n",
    "elif start_1 or start_2:\n",
    "    start = start_1 or start_2\n",
    "else:\n",
    "    start = None"
   ],
   "metadata": {
    "collapsed": false
   },
   "id": "f46be7ba2e7082b0",
   "execution_count": null
  },
  {
   "cell_type": "code",
   "outputs": [],
   "source": [
    "start"
   ],
   "metadata": {
    "collapsed": false
   },
   "id": "ab97e6bbf91db3d",
   "execution_count": null
  },
  {
   "cell_type": "code",
   "outputs": [],
   "source": [],
   "metadata": {
    "collapsed": false
   },
   "id": "f049e281bf6d3dfa",
   "execution_count": null
  }
 ],
 "metadata": {
  "kernelspec": {
   "display_name": "Python 3",
   "language": "python",
   "name": "python3"
  },
  "language_info": {
   "codemirror_mode": {
    "name": "ipython",
    "version": 2
   },
   "file_extension": ".py",
   "mimetype": "text/x-python",
   "name": "python",
   "nbconvert_exporter": "python",
   "pygments_lexer": "ipython2",
   "version": "2.7.6"
  }
 },
 "nbformat": 4,
 "nbformat_minor": 5
}
