{
 "cells": [
  {
   "cell_type": "code",
   "execution_count": 1,
   "id": "initial_id",
   "metadata": {
    "collapsed": true,
    "ExecuteTime": {
     "end_time": "2024-09-19T07:13:14.963174Z",
     "start_time": "2024-09-19T07:13:14.338305Z"
    }
   },
   "outputs": [],
   "source": [
    "from vietadminunits import parse_address, get_data\n",
    "import pandas as pd\n",
    "import re\n",
    "\n",
    "from unidecode import unidecode"
   ]
  },
  {
   "cell_type": "markdown",
   "source": [
    "# Demo"
   ],
   "metadata": {
    "collapsed": false
   },
   "id": "5a2fae1f4817088b"
  },
  {
   "cell_type": "code",
   "outputs": [
    {
     "data": {
      "text/plain": "AdministrativeUnit:\nAttribute                      | Value                         \n--------------------------------------------------------------\nprovince                       | Hồ Chí Minh                   \ndistrict                       | Quận 5                        \nward                           | Phường 2                      \n--------------------------------------------------------------\nlong_province                  | Thành phố Hồ Chí Minh         \nlong_district                  | Quận 5                        \nlong_ward                      | Phường 2                      \n--------------------------------------------------------------\nshort_district                 | Quận 5                        \nshort_ward                     | Phường 2                      \n--------------------------------------------------------------\nprovince_english               | Ho Chi Minh                   \ndistrict_english               | District 5                    \nward_english                   | Ward 2                        \n--------------------------------------------------------------\nlong_province_english          | Ho Chi Minh City              \nlong_district_english          | District 5                    \nlong_ward_english              | Ward 2                        \n--------------------------------------------------------------\nshort_district_english         | District 5                    \nshort_ward_english             | Ward 2                        \n--------------------------------------------------------------\ndistrict_level                 | Quận                          \nward_level                     | Phường                        \n--------------------------------------------------------------\ndistrict_level_english         | District                      \nward_level_english             | Ward                          "
     },
     "execution_count": 2,
     "metadata": {},
     "output_type": "execute_result"
    }
   ],
   "source": [
    "parse_address('p2 q5')"
   ],
   "metadata": {
    "collapsed": false,
    "ExecuteTime": {
     "end_time": "2024-09-19T07:13:14.970055Z",
     "start_time": "2024-09-19T07:13:14.964403Z"
    }
   },
   "id": "364a536daa733e10",
   "execution_count": 2
  },
  {
   "cell_type": "code",
   "outputs": [
    {
     "data": {
      "text/plain": "AdministrativeUnit:\nAttribute                      | Value                         \n--------------------------------------------------------------\nprovince                       | Hồ Chí Minh                   \ndistrict                       | Quận 5                        \nward                           |                               \n--------------------------------------------------------------\nlong_province                  | Thành phố Hồ Chí Minh         \nlong_district                  | Quận 5                        \nlong_ward                      |                               \n--------------------------------------------------------------\nshort_district                 | Quận 5                        \nshort_ward                     |                               \n--------------------------------------------------------------\nprovince_english               | Ho Chi Minh                   \ndistrict_english               | District 5                    \nward_english                   |                               \n--------------------------------------------------------------\nlong_province_english          | Ho Chi Minh City              \nlong_district_english          | District 5                    \nlong_ward_english              |                               \n--------------------------------------------------------------\nshort_district_english         | District 5                    \nshort_ward_english             |                               \n--------------------------------------------------------------\ndistrict_level                 | Quận                          \nward_level                     |                               \n--------------------------------------------------------------\ndistrict_level_english         | District                      \nward_level_english             |                               "
     },
     "execution_count": 3,
     "metadata": {},
     "output_type": "execute_result"
    }
   ],
   "source": [
    "parse_address('duong p2 q5')"
   ],
   "metadata": {
    "collapsed": false,
    "ExecuteTime": {
     "end_time": "2024-09-19T07:13:14.973638Z",
     "start_time": "2024-09-19T07:13:14.971032Z"
    }
   },
   "id": "dfec4031da7b0204",
   "execution_count": 3
  },
  {
   "cell_type": "code",
   "outputs": [
    {
     "data": {
      "text/plain": "AdministrativeUnit:\nAttribute                      | Value                         \n--------------------------------------------------------------\nprovince                       | Hồ Chí Minh                   \ndistrict                       | Thủ Đức                       \nward                           |                               \n--------------------------------------------------------------\nlong_province                  | Thành phố Hồ Chí Minh         \nlong_district                  | Thành phố Thủ Đức             \nlong_ward                      |                               \n--------------------------------------------------------------\nshort_district                 | Thủ Đức                       \nshort_ward                     |                               \n--------------------------------------------------------------\nprovince_english               | Ho Chi Minh                   \ndistrict_english               | Thu Duc                       \nward_english                   |                               \n--------------------------------------------------------------\nlong_province_english          | Ho Chi Minh City              \nlong_district_english          | Thu Duc City                  \nlong_ward_english              |                               \n--------------------------------------------------------------\nshort_district_english         | Thu Duc                       \nshort_ward_english             |                               \n--------------------------------------------------------------\ndistrict_level                 | Thành phố                     \nward_level                     |                               \n--------------------------------------------------------------\ndistrict_level_english         | City                          \nward_level_english             |                               "
     },
     "execution_count": 4,
     "metadata": {},
     "output_type": "execute_result"
    }
   ],
   "source": [
    "parse_address('thu duc')"
   ],
   "metadata": {
    "collapsed": false,
    "ExecuteTime": {
     "end_time": "2024-09-19T07:13:14.978412Z",
     "start_time": "2024-09-19T07:13:14.975194Z"
    }
   },
   "id": "eab6dd96ced97284",
   "execution_count": 4
  },
  {
   "cell_type": "code",
   "outputs": [
    {
     "data": {
      "text/plain": "AdministrativeUnit:\nAttribute                      | Value                         \n--------------------------------------------------------------\nprovince                       | Bình Thuận                    \ndistrict                       | Phan Thiết                    \nward                           | Phú Trinh                     \n--------------------------------------------------------------\nlong_province                  | Tỉnh Bình Thuận               \nlong_district                  | Thành phố Phan Thiết          \nlong_ward                      | Phường Phú Trinh              \n--------------------------------------------------------------\nshort_district                 | Phan Thiết                    \nshort_ward                     | Phú Trinh                     \n--------------------------------------------------------------\nprovince_english               | Binh Thuan                    \ndistrict_english               | Phan Thiet                    \nward_english                   | Phu Trinh                     \n--------------------------------------------------------------\nlong_province_english          | Binh Thuan Province           \nlong_district_english          | Phan Thiet City               \nlong_ward_english              | Phu Trinh Ward                \n--------------------------------------------------------------\nshort_district_english         | Phan Thiet                    \nshort_ward_english             | Phu Trinh                     \n--------------------------------------------------------------\ndistrict_level                 | Thành phố                     \nward_level                     | Phường                        \n--------------------------------------------------------------\ndistrict_level_english         | City                          \nward_level_english             | Ward                          "
     },
     "execution_count": 5,
     "metadata": {},
     "output_type": "execute_result"
    }
   ],
   "source": [
    "parse_address('phuong phu trinh, phan thiet, binh thuan')"
   ],
   "metadata": {
    "collapsed": false,
    "ExecuteTime": {
     "end_time": "2024-09-19T07:13:14.982479Z",
     "start_time": "2024-09-19T07:13:14.979315Z"
    }
   },
   "id": "c04344ab4b8ee4fa",
   "execution_count": 5
  },
  {
   "cell_type": "code",
   "outputs": [
    {
     "data": {
      "text/plain": "AdministrativeUnit:\nAttribute                      | Value                         \n--------------------------------------------------------------\nprovince                       | Bến Tre                       \ndistrict                       | Mỏ Cày Bắc                    \nward                           | Hòa Lộc                       \n--------------------------------------------------------------\nlong_province                  | Tỉnh Bến Tre                  \nlong_district                  | Huyện Mỏ Cày Bắc              \nlong_ward                      | Xã Hòa Lộc                    \n--------------------------------------------------------------\nshort_district                 | Mỏ Cày Bắc                    \nshort_ward                     | Hòa Lộc                       \n--------------------------------------------------------------\nprovince_english               | Ben Tre                       \ndistrict_english               | Mo Cay Bac                    \nward_english                   | Hoa Loc                       \n--------------------------------------------------------------\nlong_province_english          | Ben Tre Province              \nlong_district_english          | Mo Cay Bac District           \nlong_ward_english              | Hoa Loc Commune               \n--------------------------------------------------------------\nshort_district_english         | Mo Cay Bac                    \nshort_ward_english             | Hoa Loc                       \n--------------------------------------------------------------\ndistrict_level                 | Huyện                         \nward_level                     | Xã                            \n--------------------------------------------------------------\ndistrict_level_english         | District                      \nward_level_english             | Commune                       "
     },
     "execution_count": 6,
     "metadata": {},
     "output_type": "execute_result"
    }
   ],
   "source": [
    "parse_address('Hoa Loc Mo Cay Ben Tre')"
   ],
   "metadata": {
    "collapsed": false,
    "ExecuteTime": {
     "end_time": "2024-09-19T07:13:14.986705Z",
     "start_time": "2024-09-19T07:13:14.983193Z"
    }
   },
   "id": "365a4401b239bf2a",
   "execution_count": 6
  },
  {
   "cell_type": "code",
   "outputs": [
    {
     "data": {
      "text/plain": "AdministrativeUnit:\nAttribute                      | Value                         \n--------------------------------------------------------------\nprovince                       | Bến Tre                       \ndistrict                       | Mỏ Cày Nam                    \nward                           | Mỏ Cày                        \n--------------------------------------------------------------\nlong_province                  | Tỉnh Bến Tre                  \nlong_district                  | Huyện Mỏ Cày Nam              \nlong_ward                      | Thị trấn Mỏ Cày               \n--------------------------------------------------------------\nshort_district                 | Mỏ Cày Nam                    \nshort_ward                     | Mỏ Cày                        \n--------------------------------------------------------------\nprovince_english               | Ben Tre                       \ndistrict_english               | Mo Cay Nam                    \nward_english                   | Mo Cay                        \n--------------------------------------------------------------\nlong_province_english          | Ben Tre Province              \nlong_district_english          | Mo Cay Nam District           \nlong_ward_english              | Mo Cay Town                   \n--------------------------------------------------------------\nshort_district_english         | Mo Cay Nam                    \nshort_ward_english             | Mo Cay                        \n--------------------------------------------------------------\ndistrict_level                 | Huyện                         \nward_level                     | Thị trấn                      \n--------------------------------------------------------------\ndistrict_level_english         | District                      \nward_level_english             | Town                          "
     },
     "execution_count": 7,
     "metadata": {},
     "output_type": "execute_result"
    }
   ],
   "source": [
    "parse_address('Mo Cay Ben Tre')"
   ],
   "metadata": {
    "collapsed": false,
    "ExecuteTime": {
     "end_time": "2024-09-19T07:13:14.991173Z",
     "start_time": "2024-09-19T07:13:14.987587Z"
    }
   },
   "id": "24467602bfea0b8",
   "execution_count": 7
  },
  {
   "cell_type": "code",
   "outputs": [
    {
     "data": {
      "text/plain": "AdministrativeUnit:\nAttribute                      | Value                         \n--------------------------------------------------------------\nprovince                       | Hà Nội                        \ndistrict                       | Bắc Từ Liêm                   \nward                           | Liên Mạc                      \n--------------------------------------------------------------\nlong_province                  | Thành phố Hà Nội              \nlong_district                  | Quận Bắc Từ Liêm              \nlong_ward                      | Phường Liên Mạc               \n--------------------------------------------------------------\nshort_district                 | Bắc Từ Liêm                   \nshort_ward                     | Liên Mạc                      \n--------------------------------------------------------------\nprovince_english               | Ha Noi                        \ndistrict_english               | Bac Tu Liem                   \nward_english                   | Lien Mac                      \n--------------------------------------------------------------\nlong_province_english          | Ha Noi City                   \nlong_district_english          | Bac Tu Liem District          \nlong_ward_english              | Lien Mac Ward                 \n--------------------------------------------------------------\nshort_district_english         | Bac Tu Liem                   \nshort_ward_english             | Lien Mac                      \n--------------------------------------------------------------\ndistrict_level                 | Quận                          \nward_level                     | Phường                        \n--------------------------------------------------------------\ndistrict_level_english         | District                      \nward_level_english             | Ward                          "
     },
     "execution_count": 8,
     "metadata": {},
     "output_type": "execute_result"
    }
   ],
   "source": [
    "parse_address('Lien Mac Tu Liem Ha Noi')"
   ],
   "metadata": {
    "collapsed": false,
    "ExecuteTime": {
     "end_time": "2024-09-19T07:13:14.996010Z",
     "start_time": "2024-09-19T07:13:14.992007Z"
    }
   },
   "id": "6f717af914a28fa4",
   "execution_count": 8
  },
  {
   "cell_type": "code",
   "outputs": [
    {
     "data": {
      "text/plain": "AdministrativeUnit:\nAttribute                      | Value                         \n--------------------------------------------------------------\nprovince                       | Tiền Giang                    \ndistrict                       | Thị xã Cai Lậy                \nward                           |                               \n--------------------------------------------------------------\nlong_province                  | Tỉnh Tiền Giang               \nlong_district                  | Thị xã Cai Lậy                \nlong_ward                      |                               \n--------------------------------------------------------------\nshort_district                 | Cai Lậy                       \nshort_ward                     |                               \n--------------------------------------------------------------\nprovince_english               | Tien Giang                    \ndistrict_english               | Cai Lay Town                  \nward_english                   |                               \n--------------------------------------------------------------\nlong_province_english          | Tien Giang Province           \nlong_district_english          | Cai Lay Town                  \nlong_ward_english              |                               \n--------------------------------------------------------------\nshort_district_english         | Cai Lay                       \nshort_ward_english             |                               \n--------------------------------------------------------------\ndistrict_level                 | Thị xã                        \nward_level                     |                               \n--------------------------------------------------------------\ndistrict_level_english         | Town                          \nward_level_english             |                               "
     },
     "execution_count": 9,
     "metadata": {},
     "output_type": "execute_result"
    }
   ],
   "source": [
    "parse_address('Cai Lay Tien Giang')"
   ],
   "metadata": {
    "collapsed": false,
    "ExecuteTime": {
     "end_time": "2024-09-19T07:13:15.000029Z",
     "start_time": "2024-09-19T07:13:14.996794Z"
    }
   },
   "id": "6dea19bb8b4df67a",
   "execution_count": 9
  },
  {
   "cell_type": "code",
   "outputs": [
    {
     "data": {
      "text/plain": "AdministrativeUnit:\nAttribute                      | Value                         \n--------------------------------------------------------------\nprovince                       | Hà Tĩnh                       \ndistrict                       | Thị xã Kỳ Anh                 \nward                           |                               \n--------------------------------------------------------------\nlong_province                  | Tỉnh Hà Tĩnh                  \nlong_district                  | Thị xã Kỳ Anh                 \nlong_ward                      |                               \n--------------------------------------------------------------\nshort_district                 | Kỳ Anh                        \nshort_ward                     |                               \n--------------------------------------------------------------\nprovince_english               | Ha Tinh                       \ndistrict_english               | Ky Anh Town                   \nward_english                   |                               \n--------------------------------------------------------------\nlong_province_english          | Ha Tinh Province              \nlong_district_english          | Ky Anh Town                   \nlong_ward_english              |                               \n--------------------------------------------------------------\nshort_district_english         | Ky Anh                        \nshort_ward_english             |                               \n--------------------------------------------------------------\ndistrict_level                 | Thị xã                        \nward_level                     |                               \n--------------------------------------------------------------\ndistrict_level_english         | Town                          \nward_level_english             |                               "
     },
     "execution_count": 10,
     "metadata": {},
     "output_type": "execute_result"
    }
   ],
   "source": [
    "parse_address('ky anh ha tinh')"
   ],
   "metadata": {
    "collapsed": false,
    "ExecuteTime": {
     "end_time": "2024-09-19T07:13:15.005657Z",
     "start_time": "2024-09-19T07:13:15.002380Z"
    }
   },
   "id": "57289afc468afdaa",
   "execution_count": 10
  },
  {
   "cell_type": "code",
   "outputs": [
    {
     "data": {
      "text/plain": "AdministrativeUnit:\nAttribute                      | Value                         \n--------------------------------------------------------------\nprovince                       | Sơn La                        \ndistrict                       | Mai Sơn                       \nward                           | Xã Hát Lót                    \n--------------------------------------------------------------\nlong_province                  | Tỉnh Sơn La                   \nlong_district                  | Huyện Mai Sơn                 \nlong_ward                      | Xã Hát Lót                    \n--------------------------------------------------------------\nshort_district                 | Mai Sơn                       \nshort_ward                     | Hát Lót                       \n--------------------------------------------------------------\nprovince_english               | Son La                        \ndistrict_english               | Mai Son                       \nward_english                   | Hat Lot Commune               \n--------------------------------------------------------------\nlong_province_english          | Son La Province               \nlong_district_english          | Mai Son District              \nlong_ward_english              | Hat Lot Commune               \n--------------------------------------------------------------\nshort_district_english         | Mai Son                       \nshort_ward_english             | Hat Lot                       \n--------------------------------------------------------------\ndistrict_level                 | Huyện                         \nward_level                     | Xã                            \n--------------------------------------------------------------\ndistrict_level_english         | District                      \nward_level_english             | Commune                       "
     },
     "execution_count": 11,
     "metadata": {},
     "output_type": "execute_result"
    }
   ],
   "source": [
    "parse_address('hat lot mai son son la')"
   ],
   "metadata": {
    "collapsed": false,
    "ExecuteTime": {
     "end_time": "2024-09-19T07:13:15.009253Z",
     "start_time": "2024-09-19T07:13:15.006468Z"
    }
   },
   "id": "21305f6aa3f21443",
   "execution_count": 11
  },
  {
   "cell_type": "code",
   "outputs": [
    {
     "data": {
      "text/plain": "AdministrativeUnit:\nAttribute                      | Value                         \n--------------------------------------------------------------\nprovince                       | Cà Mau                        \ndistrict                       | Cà Mau                        \nward                           | Phường Tân Thành              \n--------------------------------------------------------------\nlong_province                  | Tỉnh Cà Mau                   \nlong_district                  | Thành phố Cà Mau              \nlong_ward                      | Phường Tân Thành              \n--------------------------------------------------------------\nshort_district                 | Cà Mau                        \nshort_ward                     | Tân Thành                     \n--------------------------------------------------------------\nprovince_english               | Ca Mau                        \ndistrict_english               | Ca Mau                        \nward_english                   | Tan Thanh Ward                \n--------------------------------------------------------------\nlong_province_english          | Ca Mau Province               \nlong_district_english          | Ca Mau City                   \nlong_ward_english              | Tan Thanh Ward                \n--------------------------------------------------------------\nshort_district_english         | Ca Mau                        \nshort_ward_english             | Tan Thanh                     \n--------------------------------------------------------------\ndistrict_level                 | Thành phố                     \nward_level                     | Phường                        \n--------------------------------------------------------------\ndistrict_level_english         | City                          \nward_level_english             | Ward                          "
     },
     "execution_count": 12,
     "metadata": {},
     "output_type": "execute_result"
    }
   ],
   "source": [
    "parse_address('phuong Tan Thanh, Ca Mau, Ca Mau')"
   ],
   "metadata": {
    "collapsed": false,
    "ExecuteTime": {
     "end_time": "2024-09-19T07:13:15.013001Z",
     "start_time": "2024-09-19T07:13:15.009987Z"
    }
   },
   "id": "745e840418e26c0b",
   "execution_count": 12
  },
  {
   "cell_type": "code",
   "outputs": [
    {
     "data": {
      "text/plain": "AdministrativeUnit:\nAttribute                      | Value                         \n--------------------------------------------------------------\nprovince                       | Hà Nội                        \ndistrict                       | Thanh Xuân                    \nward                           | Thượng Đình                   \n--------------------------------------------------------------\nlong_province                  | Thành phố Hà Nội              \nlong_district                  | Quận Thanh Xuân               \nlong_ward                      | Phường Thượng Đình            \n--------------------------------------------------------------\nshort_district                 | Thanh Xuân                    \nshort_ward                     | Thượng Đình                   \n--------------------------------------------------------------\nprovince_english               | Ha Noi                        \ndistrict_english               | Thanh Xuan                    \nward_english                   | Thuong Dinh                   \n--------------------------------------------------------------\nlong_province_english          | Ha Noi City                   \nlong_district_english          | Thanh Xuan District           \nlong_ward_english              | Thuong Dinh Ward              \n--------------------------------------------------------------\nshort_district_english         | Thanh Xuan                    \nshort_ward_english             | Thuong Dinh                   \n--------------------------------------------------------------\ndistrict_level                 | Quận                          \nward_level                     | Phường                        \n--------------------------------------------------------------\ndistrict_level_english         | District                      \nward_level_english             | Ward                          "
     },
     "execution_count": 13,
     "metadata": {},
     "output_type": "execute_result"
    }
   ],
   "source": [
    "parse_address('Ngã Tư Sở Market, Đường Nguyễn Trãi, Thượng Đình Số nhà 28A, Ngõ 72 Nguyễn Trãi , , Phường Thượng Đình, Quận Thanh Xuân , Hà Nội Quận Thanh Xuân')"
   ],
   "metadata": {
    "collapsed": false,
    "ExecuteTime": {
     "end_time": "2024-09-19T07:13:15.018746Z",
     "start_time": "2024-09-19T07:13:15.013844Z"
    }
   },
   "id": "ccfcb3feb70b601d",
   "execution_count": 13
  },
  {
   "cell_type": "code",
   "outputs": [
    {
     "data": {
      "text/plain": "AdministrativeUnit:\nAttribute                      | Value                         \n--------------------------------------------------------------\nprovince                       | Hà Nội                        \ndistrict                       | Bắc Từ Liêm                   \nward                           | Phú Diễn                      \n--------------------------------------------------------------\nlong_province                  | Thành phố Hà Nội              \nlong_district                  | Quận Bắc Từ Liêm              \nlong_ward                      | Phường Phú Diễn               \n--------------------------------------------------------------\nshort_district                 | Bắc Từ Liêm                   \nshort_ward                     | Phú Diễn                      \n--------------------------------------------------------------\nprovince_english               | Ha Noi                        \ndistrict_english               | Bac Tu Liem                   \nward_english                   | Phu Dien                      \n--------------------------------------------------------------\nlong_province_english          | Ha Noi City                   \nlong_district_english          | Bac Tu Liem District          \nlong_ward_english              | Phu Dien Ward                 \n--------------------------------------------------------------\nshort_district_english         | Bac Tu Liem                   \nshort_ward_english             | Phu Dien                      \n--------------------------------------------------------------\ndistrict_level                 | Quận                          \nward_level                     | Phường                        \n--------------------------------------------------------------\ndistrict_level_english         | District                      \nward_level_english             | Ward                          "
     },
     "execution_count": 14,
     "metadata": {},
     "output_type": "execute_result"
    }
   ],
   "source": [
    "parse_address('Cuối đường kiều mai, dự án bệnh viện hạnh phúc  phường phú diễn quận bắc từ liêm hà nội')"
   ],
   "metadata": {
    "collapsed": false,
    "ExecuteTime": {
     "end_time": "2024-09-19T07:13:15.022022Z",
     "start_time": "2024-09-19T07:13:15.019573Z"
    }
   },
   "id": "ac59fdbd592726a1",
   "execution_count": 14
  },
  {
   "cell_type": "code",
   "outputs": [
    {
     "name": "stdout",
     "output_type": "stream",
     "text": [
      "AdministrativeUnit:\n",
      "Attribute                      | Value                         \n",
      "--------------------------------------------------------------\n",
      "province                       | Hà Nội                        \n",
      "district                       | Bắc Từ Liêm                   \n",
      "ward                           | Phú Diễn                      \n",
      "--------------------------------------------------------------\n",
      "long_province                  | Thành phố Hà Nội              \n",
      "long_district                  | Quận Bắc Từ Liêm              \n",
      "long_ward                      | Phường Phú Diễn               \n",
      "--------------------------------------------------------------\n",
      "short_district                 | Bắc Từ Liêm                   \n",
      "short_ward                     | Phú Diễn                      \n",
      "--------------------------------------------------------------\n",
      "province_english               | Ha Noi                        \n",
      "district_english               | Bac Tu Liem                   \n",
      "ward_english                   | Phu Dien                      \n",
      "--------------------------------------------------------------\n",
      "long_province_english          | Ha Noi City                   \n",
      "long_district_english          | Bac Tu Liem District          \n",
      "long_ward_english              | Phu Dien Ward                 \n",
      "--------------------------------------------------------------\n",
      "short_district_english         | Bac Tu Liem                   \n",
      "short_ward_english             | Phu Dien                      \n",
      "--------------------------------------------------------------\n",
      "district_level                 | Quận                          \n",
      "ward_level                     | Phường                        \n",
      "--------------------------------------------------------------\n",
      "district_level_english         | District                      \n",
      "ward_level_english             | Ward                          \n",
      "\n",
      "Phú Diễn, Bắc Từ Liêm, Hà Nội\n"
     ]
    }
   ],
   "source": [
    "address = 'Cuối đường kiều mai, dự án bệnh viện hạnh phúc phường phú diễn quận bắc từ liêm HN'\n",
    "\n",
    "admin_unit = parse_address(address=address, level=3)\n",
    "\n",
    "print(admin_unit)\n",
    "\n",
    "print(admin_unit.ward, admin_unit.district, admin_unit.province, sep=', ')"
   ],
   "metadata": {
    "collapsed": false,
    "ExecuteTime": {
     "end_time": "2024-09-19T07:13:15.025289Z",
     "start_time": "2024-09-19T07:13:15.022777Z"
    }
   },
   "id": "5ef8a354992a293e",
   "execution_count": 15
  },
  {
   "cell_type": "code",
   "outputs": [
    {
     "data": {
      "text/plain": "AdministrativeUnit:\nAttribute                      | Value                         \n--------------------------------------------------------------\nprovince                       | Đà Nẵng                       \ndistrict                       | Sơn Trà                       \nward                           | An Hải Bắc                    \n--------------------------------------------------------------\nlong_province                  | Thành phố Đà Nẵng             \nlong_district                  | Quận Sơn Trà                  \nlong_ward                      | Phường An Hải Bắc             \n--------------------------------------------------------------\nshort_district                 | Sơn Trà                       \nshort_ward                     | An Hải Bắc                    \n--------------------------------------------------------------\nprovince_english               | Da Nang                       \ndistrict_english               | Son Tra                       \nward_english                   | An Hai Bac                    \n--------------------------------------------------------------\nlong_province_english          | Da Nang City                  \nlong_district_english          | Son Tra District              \nlong_ward_english              | An Hai Bac Ward               \n--------------------------------------------------------------\nshort_district_english         | Son Tra                       \nshort_ward_english             | An Hai Bac                    \n--------------------------------------------------------------\ndistrict_level                 | Quận                          \nward_level                     | Phường                        \n--------------------------------------------------------------\ndistrict_level_english         | District                      \nward_level_english             | Ward                          "
     },
     "execution_count": 16,
     "metadata": {},
     "output_type": "execute_result"
    }
   ],
   "source": [
    "parse_address('03 Nguyễn Cao Luyện, An Hải Bắc, Sơn Trà, Đà Nẵng 550000, Việt Nam')"
   ],
   "metadata": {
    "collapsed": false,
    "ExecuteTime": {
     "end_time": "2024-09-19T07:13:15.028800Z",
     "start_time": "2024-09-19T07:13:15.026049Z"
    }
   },
   "id": "6fb98f74ac0bdf8d",
   "execution_count": 16
  },
  {
   "cell_type": "code",
   "outputs": [
    {
     "data": {
      "text/plain": "AdministrativeUnit:\nAttribute                      | Value                         \n--------------------------------------------------------------\nprovince                       | Hồ Chí Minh                   \ndistrict                       | Bình Chánh                    \nward                           | Phạm Văn Hai                  \n--------------------------------------------------------------\nlong_province                  | Thành phố Hồ Chí Minh         \nlong_district                  | Huyện Bình Chánh              \nlong_ward                      | Xã Phạm Văn Hai               \n--------------------------------------------------------------\nshort_district                 | Bình Chánh                    \nshort_ward                     | Phạm Văn Hai                  \n--------------------------------------------------------------\nprovince_english               | Ho Chi Minh                   \ndistrict_english               | Binh Chanh                    \nward_english                   | Pham Van Hai                  \n--------------------------------------------------------------\nlong_province_english          | Ho Chi Minh City              \nlong_district_english          | Binh Chanh District           \nlong_ward_english              | Pham Van Hai Commune          \n--------------------------------------------------------------\nshort_district_english         | Binh Chanh                    \nshort_ward_english             | Pham Van Hai                  \n--------------------------------------------------------------\ndistrict_level                 | Huyện                         \nward_level                     | Xã                            \n--------------------------------------------------------------\ndistrict_level_english         | District                      \nward_level_english             | Commune                       "
     },
     "execution_count": 17,
     "metadata": {},
     "output_type": "execute_result"
    }
   ],
   "source": [
    "parse_address('3c60/10 chợ cầu xấng, xã phạm văn hai, huyện bình chánh HCM')"
   ],
   "metadata": {
    "collapsed": false,
    "ExecuteTime": {
     "end_time": "2024-09-19T07:13:15.032290Z",
     "start_time": "2024-09-19T07:13:15.029537Z"
    }
   },
   "id": "960a61d68549fa75",
   "execution_count": 17
  },
  {
   "cell_type": "code",
   "outputs": [
    {
     "data": {
      "text/plain": "AdministrativeUnit:\nAttribute                      | Value                         \n--------------------------------------------------------------\nprovince                       | Hà Nội                        \ndistrict                       | Nam Từ Liêm                   \nward                           | Mỹ Đình 2                     \n--------------------------------------------------------------\nlong_province                  | Thành phố Hà Nội              \nlong_district                  | Quận Nam Từ Liêm              \nlong_ward                      | Phường Mỹ Đình 2              \n--------------------------------------------------------------\nshort_district                 | Nam Từ Liêm                   \nshort_ward                     | Mỹ Đình 2                     \n--------------------------------------------------------------\nprovince_english               | Ha Noi                        \ndistrict_english               | Nam Tu Liem                   \nward_english                   | My Dinh 2                     \n--------------------------------------------------------------\nlong_province_english          | Ha Noi City                   \nlong_district_english          | Nam Tu Liem District          \nlong_ward_english              | My Dinh 2 Ward                \n--------------------------------------------------------------\nshort_district_english         | Nam Tu Liem                   \nshort_ward_english             | My Dinh 2                     \n--------------------------------------------------------------\ndistrict_level                 | Quận                          \nward_level                     | Phường                        \n--------------------------------------------------------------\ndistrict_level_english         | District                      \nward_level_english             | Ward                          "
     },
     "execution_count": 18,
     "metadata": {},
     "output_type": "execute_result"
    }
   ],
   "source": [
    "parse_address('ngõ 154 Đình Thôn, phường Mỹ Đình 2, Quận Nam Từ Liêm, HN')"
   ],
   "metadata": {
    "collapsed": false,
    "ExecuteTime": {
     "end_time": "2024-09-19T07:13:15.036266Z",
     "start_time": "2024-09-19T07:13:15.033022Z"
    }
   },
   "id": "7ab4dc3d2c704933",
   "execution_count": 18
  },
  {
   "cell_type": "code",
   "outputs": [
    {
     "data": {
      "text/plain": "AdministrativeUnit:\nAttribute                      | Value                         \n--------------------------------------------------------------\nprovince                       | Hà Nội                        \ndistrict                       | Gia Lâm                       \nward                           | Xã Yên Viên                   \n--------------------------------------------------------------\nlong_province                  | Thành phố Hà Nội              \nlong_district                  | Huyện Gia Lâm                 \nlong_ward                      | Xã Yên Viên                   \n--------------------------------------------------------------\nshort_district                 | Gia Lâm                       \nshort_ward                     | Yên Viên                      \n--------------------------------------------------------------\nprovince_english               | Ha Noi                        \ndistrict_english               | Gia Lam                       \nward_english                   | Yen Vien Commune              \n--------------------------------------------------------------\nlong_province_english          | Ha Noi City                   \nlong_district_english          | Gia Lam District              \nlong_ward_english              | Yen Vien Commune              \n--------------------------------------------------------------\nshort_district_english         | Gia Lam                       \nshort_ward_english             | Yen Vien                      \n--------------------------------------------------------------\ndistrict_level                 | Huyện                         \nward_level                     | Xã                            \n--------------------------------------------------------------\ndistrict_level_english         | District                      \nward_level_english             | Commune                       "
     },
     "execution_count": 19,
     "metadata": {},
     "output_type": "execute_result"
    }
   ],
   "source": [
    "parse_address('Ha Noi, Gia Lam, Yen Vien')"
   ],
   "metadata": {
    "collapsed": false,
    "ExecuteTime": {
     "end_time": "2024-09-19T07:13:15.040172Z",
     "start_time": "2024-09-19T07:13:15.036932Z"
    }
   },
   "id": "8928a354ab16a274",
   "execution_count": 19
  },
  {
   "cell_type": "code",
   "outputs": [
    {
     "data": {
      "text/plain": "AdministrativeUnit:\nAttribute                      | Value                         \n--------------------------------------------------------------\nprovince                       | Lào Cai                       \ndistrict                       | Bảo Thắng                     \nward                           | N.T Phong Hải                 \n--------------------------------------------------------------\nlong_province                  | Tỉnh Lào Cai                  \nlong_district                  | Huyện Bảo Thắng               \nlong_ward                      | Thị trấn N.T Phong Hải        \n--------------------------------------------------------------\nshort_district                 | Bảo Thắng                     \nshort_ward                     | N.T Phong Hải                 \n--------------------------------------------------------------\nprovince_english               | Lao Cai                       \ndistrict_english               | Bao Thang                     \nward_english                   | N.T Phong Hai                 \n--------------------------------------------------------------\nlong_province_english          | Lao Cai Province              \nlong_district_english          | Bao Thang District            \nlong_ward_english              | N.T Phong Hai Town            \n--------------------------------------------------------------\nshort_district_english         | Bao Thang                     \nshort_ward_english             | N.T Phong Hai                 \n--------------------------------------------------------------\ndistrict_level                 | Huyện                         \nward_level                     | Thị trấn                      \n--------------------------------------------------------------\ndistrict_level_english         | District                      \nward_level_english             | Town                          "
     },
     "execution_count": 20,
     "metadata": {},
     "output_type": "execute_result"
    }
   ],
   "source": [
    "parse_address('Thị trấn N.T Phong Hải, Huyện Bảo Thắng, Tỉnh Lào Cai')"
   ],
   "metadata": {
    "collapsed": false,
    "ExecuteTime": {
     "end_time": "2024-09-19T07:13:15.044025Z",
     "start_time": "2024-09-19T07:13:15.040921Z"
    }
   },
   "id": "972e0adf53ad859a",
   "execution_count": 20
  },
  {
   "cell_type": "markdown",
   "source": [
    "# Check wrong or missing in bulk"
   ],
   "metadata": {
    "collapsed": false
   },
   "id": "3f7ebf254ffba569"
  },
  {
   "cell_type": "code",
   "outputs": [],
   "source": [
    "df = pd.read_csv('../../data/input/danhmuchanhchinhgso.gov.vn.csv')"
   ],
   "metadata": {
    "collapsed": false,
    "ExecuteTime": {
     "end_time": "2024-09-19T07:13:15.068187Z",
     "start_time": "2024-09-19T07:13:15.044875Z"
    }
   },
   "id": "19018c4a3a7f3491",
   "execution_count": 21
  },
  {
   "cell_type": "code",
   "outputs": [],
   "source": [
    "df['district_address'] = df['long_district'] + ', ' + df['long_province']\n",
    "district_addresses = df['district_address'].tolist()\n",
    "\n",
    "for address in district_addresses:\n",
    "    try:\n",
    "        unit = parse_address(address, level=2)\n",
    "    except:\n",
    "        print(address)\n",
    "    if unit.province == None:\n",
    "        print(address)\n",
    "    elif unit.district == None:\n",
    "        print(address)"
   ],
   "metadata": {
    "collapsed": false,
    "ExecuteTime": {
     "end_time": "2024-09-19T07:13:15.274387Z",
     "start_time": "2024-09-19T07:13:15.068943Z"
    }
   },
   "id": "10f1c4f277648450",
   "execution_count": 22
  },
  {
   "cell_type": "code",
   "outputs": [],
   "source": [
    "df['ward_address'] = df['long_ward'].fillna('') + ', ' + df['long_district'] + ', ' + df['long_province']\n",
    "ward_addresses = df['ward_address'].dropna().tolist()\n",
    "miss = []\n",
    "for ward_address in ward_addresses:\n",
    "    try:\n",
    "        unit = parse_address(ward_address, level=3)\n",
    "    except Exception as e:\n",
    "        print(ward_address)\n",
    "        raise e\n",
    "\n",
    "    if unit.province == None:\n",
    "        print(ward_address)\n",
    "    elif unit.district == None:\n",
    "        print(ward_address)\n",
    "    elif unit.ward == None and unit.district_key not in ['bachlongvi', 'conco', 'hoangsa', 'lyson', 'condao']:\n",
    "        print(ward_address)\n"
   ],
   "metadata": {
    "collapsed": false,
    "ExecuteTime": {
     "end_time": "2024-09-19T07:13:15.730650Z",
     "start_time": "2024-09-19T07:13:15.275539Z"
    }
   },
   "id": "2ce0c17cd4128a3f",
   "execution_count": 23
  },
  {
   "cell_type": "code",
   "outputs": [],
   "source": [
    "df_test = pd.DataFrame(get_data())"
   ],
   "metadata": {
    "collapsed": false,
    "ExecuteTime": {
     "end_time": "2024-09-19T07:13:15.875059Z",
     "start_time": "2024-09-19T07:13:15.731763Z"
    }
   },
   "id": "3cb49da069f6acd4",
   "execution_count": 24
  },
  {
   "cell_type": "code",
   "outputs": [
    {
     "data": {
      "text/plain": "                province     district            ward           long_province  \\\n477               Hà Nội   Thường Tín        Hòa Bình        Thành phố Hà Nội   \n1952            Hòa Bình     Hòa Bình        Hòa Bình           Tỉnh Hòa Bình   \n2177         Thái Nguyên      Đồng Hỷ        Hòa Bình        Tỉnh Thái Nguyên   \n2312            Lạng Sơn     Bình Gia        Hòa Bình           Tỉnh Lạng Sơn   \n2361            Lạng Sơn     Văn Quan        Hòa Bình           Tỉnh Lạng Sơn   \n2397            Lạng Sơn     Hữu Lũng        Hòa Bình           Tỉnh Lạng Sơn   \n2432            Lạng Sơn     Chi Lăng        Hòa Bình           Tỉnh Lạng Sơn   \n2495          Quảng Ninh      Hạ Long        Hòa Bình         Tỉnh Quảng Ninh   \n3663           Hải Phòng  Thủy Nguyên        Hòa Bình     Thành phố Hải Phòng   \n3775           Hải Phòng     Vĩnh Bảo        Hòa Bình     Thành phố Hải Phòng   \n4036           Thái Bình      Hưng Hà        Hòa Bình          Tỉnh Thái Bình   \n4170           Thái Bình   Kiến Xương        Hòa Bình          Tỉnh Thái Bình   \n4208           Thái Bình       Vũ Thư        Hòa Bình          Tỉnh Thái Bình   \n7009             Phú Yên      Tây Hòa      Hòa Bình 1            Tỉnh Phú Yên   \n7385             Kon Tum      Kon Tum        Hòa Bình            Tỉnh Kon Tum   \n7501             Gia Lai      Ayun Pa        Hòa Bình            Tỉnh Gia Lai   \n8395            Đồng Nai     Biên Hòa        Hòa Bình           Tỉnh Đồng Nai   \n8601   Bà Rịa - Vũng Tàu    Xuyên Mộc        Hòa Bình  Tỉnh Bà Rịa - Vũng Tàu   \n9652           Vĩnh Long       Trà Ôn        Hòa Bình          Tỉnh Vĩnh Long   \n9724           Đồng Tháp     Tam Nông        Hòa Bình          Tỉnh Đồng Tháp   \n9932            An Giang   Châu Thành  Hòa Bình Thạnh           Tỉnh An Giang   \n9953            An Giang      Chợ Mới        Hòa Bình           Tỉnh An Giang   \n10438           Bạc Liêu     Hòa Bình        Hòa Bình           Tỉnh Bạc Liêu   \n\n            long_district          long_ward short_district      short_ward  \\\n477      Huyện Thường Tín        Xã Hòa Bình     Thường Tín        Hòa Bình   \n1952   Thành phố Hòa Bình        Xã Hòa Bình       Hòa Bình        Hòa Bình   \n2177        Huyện Đồng Hỷ        Xã Hòa Bình        Đồng Hỷ        Hòa Bình   \n2312       Huyện Bình Gia        Xã Hòa Bình       Bình Gia        Hòa Bình   \n2361       Huyện Văn Quan        Xã Hòa Bình       Văn Quan        Hòa Bình   \n2397       Huyện Hữu Lũng        Xã Hòa Bình       Hữu Lũng        Hòa Bình   \n2432       Huyện Chi Lăng        Xã Hòa Bình       Chi Lăng        Hòa Bình   \n2495    Thành phố Hạ Long        Xã Hòa Bình        Hạ Long        Hòa Bình   \n3663    Huyện Thủy Nguyên        Xã Hòa Bình    Thủy Nguyên        Hòa Bình   \n3775       Huyện Vĩnh Bảo        Xã Hòa Bình       Vĩnh Bảo        Hòa Bình   \n4036        Huyện Hưng Hà        Xã Hòa Bình        Hưng Hà        Hòa Bình   \n4170     Huyện Kiến Xương        Xã Hòa Bình     Kiến Xương        Hòa Bình   \n4208         Huyện Vũ Thư        Xã Hòa Bình         Vũ Thư        Hòa Bình   \n7009        Huyện Tây Hòa      Xã Hòa Bình 1        Tây Hòa      Hòa Bình 1   \n7385    Thành phố Kon Tum        Xã Hòa Bình        Kon Tum        Hòa Bình   \n7501       Thị xã Ayun Pa    Phường Hòa Bình        Ayun Pa        Hòa Bình   \n8395   Thành phố Biên Hòa    Phường Hòa Bình       Biên Hòa        Hòa Bình   \n8601      Huyện Xuyên Mộc        Xã Hòa Bình      Xuyên Mộc        Hòa Bình   \n9652         Huyện Trà Ôn        Xã Hòa Bình         Trà Ôn        Hòa Bình   \n9724       Huyện Tam Nông        Xã Hòa Bình       Tam Nông        Hòa Bình   \n9932     Huyện Châu Thành  Xã Hòa Bình Thạnh     Châu Thành  Hòa Bình Thạnh   \n9953        Huyện Chợ Mới        Xã Hòa Bình        Chợ Mới        Hòa Bình   \n10438      Huyện Hòa Bình  Thị trấn Hòa Bình       Hòa Bình        Hòa Bình   \n\n        province_english district_english    ward_english  \\\n477               Ha Noi       Thuong Tin        Hoa Binh   \n1952            Hoa Binh         Hoa Binh        Hoa Binh   \n2177         Thai Nguyen          Dong Hy        Hoa Binh   \n2312            Lang Son         Binh Gia        Hoa Binh   \n2361            Lang Son         Van Quan        Hoa Binh   \n2397            Lang Son         Huu Lung        Hoa Binh   \n2432            Lang Son         Chi Lang        Hoa Binh   \n2495          Quang Ninh          Ha Long        Hoa Binh   \n3663           Hai Phong      Thuy Nguyen        Hoa Binh   \n3775           Hai Phong         Vinh Bao        Hoa Binh   \n4036           Thai Binh          Hung Ha        Hoa Binh   \n4170           Thai Binh       Kien Xuong        Hoa Binh   \n4208           Thai Binh           Vu Thu        Hoa Binh   \n7009             Phu Yen          Tay Hoa      Hoa Binh 1   \n7385             Kon Tum          Kon Tum        Hoa Binh   \n7501             Gia Lai          Ayun Pa        Hoa Binh   \n8395            Dong Nai         Bien Hoa        Hoa Binh   \n8601   Ba Ria - Vung Tau        Xuyen Moc        Hoa Binh   \n9652           Vinh Long           Tra On        Hoa Binh   \n9724           Dong Thap         Tam Nong        Hoa Binh   \n9932            An Giang       Chau Thanh  Hoa Binh Thanh   \n9953            An Giang          Cho Moi        Hoa Binh   \n10438           Bac Lieu         Hoa Binh        Hoa Binh   \n\n            long_province_english long_district_english  \\\n477                   Ha Noi City   Thuong Tin District   \n1952            Hoa Binh Province         Hoa Binh City   \n2177         Thai Nguyen Province      Dong Hy District   \n2312            Lang Son Province     Binh Gia District   \n2361            Lang Son Province     Van Quan District   \n2397            Lang Son Province     Huu Lung District   \n2432            Lang Son Province     Chi Lang District   \n2495          Quang Ninh Province          Ha Long City   \n3663               Hai Phong City  Thuy Nguyen District   \n3775               Hai Phong City     Vinh Bao District   \n4036           Thai Binh Province      Hung Ha District   \n4170           Thai Binh Province   Kien Xuong District   \n4208           Thai Binh Province       Vu Thu District   \n7009             Phu Yen Province      Tay Hoa District   \n7385             Kon Tum Province          Kon Tum City   \n7501             Gia Lai Province          Ayun Pa Town   \n8395            Dong Nai Province         Bien Hoa City   \n8601   Ba Ria - Vung Tau Province    Xuyen Moc District   \n9652           Vinh Long Province       Tra On District   \n9724           Dong Thap Province     Tam Nong District   \n9932            An Giang Province   Chau Thanh District   \n9953            An Giang Province      Cho Moi District   \n10438           Bac Lieu Province     Hoa Binh District   \n\n            long_ward_english short_district_english short_ward_english  \\\n477          Hoa Binh Commune             Thuong Tin           Hoa Binh   \n1952         Hoa Binh Commune               Hoa Binh           Hoa Binh   \n2177         Hoa Binh Commune                Dong Hy           Hoa Binh   \n2312         Hoa Binh Commune               Binh Gia           Hoa Binh   \n2361         Hoa Binh Commune               Van Quan           Hoa Binh   \n2397         Hoa Binh Commune               Huu Lung           Hoa Binh   \n2432         Hoa Binh Commune               Chi Lang           Hoa Binh   \n2495         Hoa Binh Commune                Ha Long           Hoa Binh   \n3663         Hoa Binh Commune            Thuy Nguyen           Hoa Binh   \n3775         Hoa Binh Commune               Vinh Bao           Hoa Binh   \n4036         Hoa Binh Commune                Hung Ha           Hoa Binh   \n4170         Hoa Binh Commune             Kien Xuong           Hoa Binh   \n4208         Hoa Binh Commune                 Vu Thu           Hoa Binh   \n7009       Hoa Binh 1 Commune                Tay Hoa         Hoa Binh 1   \n7385         Hoa Binh Commune                Kon Tum           Hoa Binh   \n7501            Hoa Binh Ward                Ayun Pa           Hoa Binh   \n8395            Hoa Binh Ward               Bien Hoa           Hoa Binh   \n8601         Hoa Binh Commune              Xuyen Moc           Hoa Binh   \n9652         Hoa Binh Commune                 Tra On           Hoa Binh   \n9724         Hoa Binh Commune               Tam Nong           Hoa Binh   \n9932   Hoa Binh Thanh Commune             Chau Thanh     Hoa Binh Thanh   \n9953         Hoa Binh Commune                Cho Moi           Hoa Binh   \n10438           Hoa Binh Town               Hoa Binh           Hoa Binh   \n\n      district_level ward_level district_level_english ward_level_english  \n477            Huyện         Xã               District            Commune  \n1952       Thành phố         Xã                   City            Commune  \n2177           Huyện         Xã               District            Commune  \n2312           Huyện         Xã               District            Commune  \n2361           Huyện         Xã               District            Commune  \n2397           Huyện         Xã               District            Commune  \n2432           Huyện         Xã               District            Commune  \n2495       Thành phố         Xã                   City            Commune  \n3663           Huyện         Xã               District            Commune  \n3775           Huyện         Xã               District            Commune  \n4036           Huyện         Xã               District            Commune  \n4170           Huyện         Xã               District            Commune  \n4208           Huyện         Xã               District            Commune  \n7009           Huyện         Xã               District            Commune  \n7385       Thành phố         Xã                   City            Commune  \n7501          Thị xã     Phường                   Town               Ward  \n8395       Thành phố     Phường                   City               Ward  \n8601           Huyện         Xã               District            Commune  \n9652           Huyện         Xã               District            Commune  \n9724           Huyện         Xã               District            Commune  \n9932           Huyện         Xã               District            Commune  \n9953           Huyện         Xã               District            Commune  \n10438          Huyện   Thị trấn               District               Town  ",
      "text/html": "<div>\n<style scoped>\n    .dataframe tbody tr th:only-of-type {\n        vertical-align: middle;\n    }\n\n    .dataframe tbody tr th {\n        vertical-align: top;\n    }\n\n    .dataframe thead th {\n        text-align: right;\n    }\n</style>\n<table border=\"1\" class=\"dataframe\">\n  <thead>\n    <tr style=\"text-align: right;\">\n      <th></th>\n      <th>province</th>\n      <th>district</th>\n      <th>ward</th>\n      <th>long_province</th>\n      <th>long_district</th>\n      <th>long_ward</th>\n      <th>short_district</th>\n      <th>short_ward</th>\n      <th>province_english</th>\n      <th>district_english</th>\n      <th>ward_english</th>\n      <th>long_province_english</th>\n      <th>long_district_english</th>\n      <th>long_ward_english</th>\n      <th>short_district_english</th>\n      <th>short_ward_english</th>\n      <th>district_level</th>\n      <th>ward_level</th>\n      <th>district_level_english</th>\n      <th>ward_level_english</th>\n    </tr>\n  </thead>\n  <tbody>\n    <tr>\n      <th>477</th>\n      <td>Hà Nội</td>\n      <td>Thường Tín</td>\n      <td>Hòa Bình</td>\n      <td>Thành phố Hà Nội</td>\n      <td>Huyện Thường Tín</td>\n      <td>Xã Hòa Bình</td>\n      <td>Thường Tín</td>\n      <td>Hòa Bình</td>\n      <td>Ha Noi</td>\n      <td>Thuong Tin</td>\n      <td>Hoa Binh</td>\n      <td>Ha Noi City</td>\n      <td>Thuong Tin District</td>\n      <td>Hoa Binh Commune</td>\n      <td>Thuong Tin</td>\n      <td>Hoa Binh</td>\n      <td>Huyện</td>\n      <td>Xã</td>\n      <td>District</td>\n      <td>Commune</td>\n    </tr>\n    <tr>\n      <th>1952</th>\n      <td>Hòa Bình</td>\n      <td>Hòa Bình</td>\n      <td>Hòa Bình</td>\n      <td>Tỉnh Hòa Bình</td>\n      <td>Thành phố Hòa Bình</td>\n      <td>Xã Hòa Bình</td>\n      <td>Hòa Bình</td>\n      <td>Hòa Bình</td>\n      <td>Hoa Binh</td>\n      <td>Hoa Binh</td>\n      <td>Hoa Binh</td>\n      <td>Hoa Binh Province</td>\n      <td>Hoa Binh City</td>\n      <td>Hoa Binh Commune</td>\n      <td>Hoa Binh</td>\n      <td>Hoa Binh</td>\n      <td>Thành phố</td>\n      <td>Xã</td>\n      <td>City</td>\n      <td>Commune</td>\n    </tr>\n    <tr>\n      <th>2177</th>\n      <td>Thái Nguyên</td>\n      <td>Đồng Hỷ</td>\n      <td>Hòa Bình</td>\n      <td>Tỉnh Thái Nguyên</td>\n      <td>Huyện Đồng Hỷ</td>\n      <td>Xã Hòa Bình</td>\n      <td>Đồng Hỷ</td>\n      <td>Hòa Bình</td>\n      <td>Thai Nguyen</td>\n      <td>Dong Hy</td>\n      <td>Hoa Binh</td>\n      <td>Thai Nguyen Province</td>\n      <td>Dong Hy District</td>\n      <td>Hoa Binh Commune</td>\n      <td>Dong Hy</td>\n      <td>Hoa Binh</td>\n      <td>Huyện</td>\n      <td>Xã</td>\n      <td>District</td>\n      <td>Commune</td>\n    </tr>\n    <tr>\n      <th>2312</th>\n      <td>Lạng Sơn</td>\n      <td>Bình Gia</td>\n      <td>Hòa Bình</td>\n      <td>Tỉnh Lạng Sơn</td>\n      <td>Huyện Bình Gia</td>\n      <td>Xã Hòa Bình</td>\n      <td>Bình Gia</td>\n      <td>Hòa Bình</td>\n      <td>Lang Son</td>\n      <td>Binh Gia</td>\n      <td>Hoa Binh</td>\n      <td>Lang Son Province</td>\n      <td>Binh Gia District</td>\n      <td>Hoa Binh Commune</td>\n      <td>Binh Gia</td>\n      <td>Hoa Binh</td>\n      <td>Huyện</td>\n      <td>Xã</td>\n      <td>District</td>\n      <td>Commune</td>\n    </tr>\n    <tr>\n      <th>2361</th>\n      <td>Lạng Sơn</td>\n      <td>Văn Quan</td>\n      <td>Hòa Bình</td>\n      <td>Tỉnh Lạng Sơn</td>\n      <td>Huyện Văn Quan</td>\n      <td>Xã Hòa Bình</td>\n      <td>Văn Quan</td>\n      <td>Hòa Bình</td>\n      <td>Lang Son</td>\n      <td>Van Quan</td>\n      <td>Hoa Binh</td>\n      <td>Lang Son Province</td>\n      <td>Van Quan District</td>\n      <td>Hoa Binh Commune</td>\n      <td>Van Quan</td>\n      <td>Hoa Binh</td>\n      <td>Huyện</td>\n      <td>Xã</td>\n      <td>District</td>\n      <td>Commune</td>\n    </tr>\n    <tr>\n      <th>2397</th>\n      <td>Lạng Sơn</td>\n      <td>Hữu Lũng</td>\n      <td>Hòa Bình</td>\n      <td>Tỉnh Lạng Sơn</td>\n      <td>Huyện Hữu Lũng</td>\n      <td>Xã Hòa Bình</td>\n      <td>Hữu Lũng</td>\n      <td>Hòa Bình</td>\n      <td>Lang Son</td>\n      <td>Huu Lung</td>\n      <td>Hoa Binh</td>\n      <td>Lang Son Province</td>\n      <td>Huu Lung District</td>\n      <td>Hoa Binh Commune</td>\n      <td>Huu Lung</td>\n      <td>Hoa Binh</td>\n      <td>Huyện</td>\n      <td>Xã</td>\n      <td>District</td>\n      <td>Commune</td>\n    </tr>\n    <tr>\n      <th>2432</th>\n      <td>Lạng Sơn</td>\n      <td>Chi Lăng</td>\n      <td>Hòa Bình</td>\n      <td>Tỉnh Lạng Sơn</td>\n      <td>Huyện Chi Lăng</td>\n      <td>Xã Hòa Bình</td>\n      <td>Chi Lăng</td>\n      <td>Hòa Bình</td>\n      <td>Lang Son</td>\n      <td>Chi Lang</td>\n      <td>Hoa Binh</td>\n      <td>Lang Son Province</td>\n      <td>Chi Lang District</td>\n      <td>Hoa Binh Commune</td>\n      <td>Chi Lang</td>\n      <td>Hoa Binh</td>\n      <td>Huyện</td>\n      <td>Xã</td>\n      <td>District</td>\n      <td>Commune</td>\n    </tr>\n    <tr>\n      <th>2495</th>\n      <td>Quảng Ninh</td>\n      <td>Hạ Long</td>\n      <td>Hòa Bình</td>\n      <td>Tỉnh Quảng Ninh</td>\n      <td>Thành phố Hạ Long</td>\n      <td>Xã Hòa Bình</td>\n      <td>Hạ Long</td>\n      <td>Hòa Bình</td>\n      <td>Quang Ninh</td>\n      <td>Ha Long</td>\n      <td>Hoa Binh</td>\n      <td>Quang Ninh Province</td>\n      <td>Ha Long City</td>\n      <td>Hoa Binh Commune</td>\n      <td>Ha Long</td>\n      <td>Hoa Binh</td>\n      <td>Thành phố</td>\n      <td>Xã</td>\n      <td>City</td>\n      <td>Commune</td>\n    </tr>\n    <tr>\n      <th>3663</th>\n      <td>Hải Phòng</td>\n      <td>Thủy Nguyên</td>\n      <td>Hòa Bình</td>\n      <td>Thành phố Hải Phòng</td>\n      <td>Huyện Thủy Nguyên</td>\n      <td>Xã Hòa Bình</td>\n      <td>Thủy Nguyên</td>\n      <td>Hòa Bình</td>\n      <td>Hai Phong</td>\n      <td>Thuy Nguyen</td>\n      <td>Hoa Binh</td>\n      <td>Hai Phong City</td>\n      <td>Thuy Nguyen District</td>\n      <td>Hoa Binh Commune</td>\n      <td>Thuy Nguyen</td>\n      <td>Hoa Binh</td>\n      <td>Huyện</td>\n      <td>Xã</td>\n      <td>District</td>\n      <td>Commune</td>\n    </tr>\n    <tr>\n      <th>3775</th>\n      <td>Hải Phòng</td>\n      <td>Vĩnh Bảo</td>\n      <td>Hòa Bình</td>\n      <td>Thành phố Hải Phòng</td>\n      <td>Huyện Vĩnh Bảo</td>\n      <td>Xã Hòa Bình</td>\n      <td>Vĩnh Bảo</td>\n      <td>Hòa Bình</td>\n      <td>Hai Phong</td>\n      <td>Vinh Bao</td>\n      <td>Hoa Binh</td>\n      <td>Hai Phong City</td>\n      <td>Vinh Bao District</td>\n      <td>Hoa Binh Commune</td>\n      <td>Vinh Bao</td>\n      <td>Hoa Binh</td>\n      <td>Huyện</td>\n      <td>Xã</td>\n      <td>District</td>\n      <td>Commune</td>\n    </tr>\n    <tr>\n      <th>4036</th>\n      <td>Thái Bình</td>\n      <td>Hưng Hà</td>\n      <td>Hòa Bình</td>\n      <td>Tỉnh Thái Bình</td>\n      <td>Huyện Hưng Hà</td>\n      <td>Xã Hòa Bình</td>\n      <td>Hưng Hà</td>\n      <td>Hòa Bình</td>\n      <td>Thai Binh</td>\n      <td>Hung Ha</td>\n      <td>Hoa Binh</td>\n      <td>Thai Binh Province</td>\n      <td>Hung Ha District</td>\n      <td>Hoa Binh Commune</td>\n      <td>Hung Ha</td>\n      <td>Hoa Binh</td>\n      <td>Huyện</td>\n      <td>Xã</td>\n      <td>District</td>\n      <td>Commune</td>\n    </tr>\n    <tr>\n      <th>4170</th>\n      <td>Thái Bình</td>\n      <td>Kiến Xương</td>\n      <td>Hòa Bình</td>\n      <td>Tỉnh Thái Bình</td>\n      <td>Huyện Kiến Xương</td>\n      <td>Xã Hòa Bình</td>\n      <td>Kiến Xương</td>\n      <td>Hòa Bình</td>\n      <td>Thai Binh</td>\n      <td>Kien Xuong</td>\n      <td>Hoa Binh</td>\n      <td>Thai Binh Province</td>\n      <td>Kien Xuong District</td>\n      <td>Hoa Binh Commune</td>\n      <td>Kien Xuong</td>\n      <td>Hoa Binh</td>\n      <td>Huyện</td>\n      <td>Xã</td>\n      <td>District</td>\n      <td>Commune</td>\n    </tr>\n    <tr>\n      <th>4208</th>\n      <td>Thái Bình</td>\n      <td>Vũ Thư</td>\n      <td>Hòa Bình</td>\n      <td>Tỉnh Thái Bình</td>\n      <td>Huyện Vũ Thư</td>\n      <td>Xã Hòa Bình</td>\n      <td>Vũ Thư</td>\n      <td>Hòa Bình</td>\n      <td>Thai Binh</td>\n      <td>Vu Thu</td>\n      <td>Hoa Binh</td>\n      <td>Thai Binh Province</td>\n      <td>Vu Thu District</td>\n      <td>Hoa Binh Commune</td>\n      <td>Vu Thu</td>\n      <td>Hoa Binh</td>\n      <td>Huyện</td>\n      <td>Xã</td>\n      <td>District</td>\n      <td>Commune</td>\n    </tr>\n    <tr>\n      <th>7009</th>\n      <td>Phú Yên</td>\n      <td>Tây Hòa</td>\n      <td>Hòa Bình 1</td>\n      <td>Tỉnh Phú Yên</td>\n      <td>Huyện Tây Hòa</td>\n      <td>Xã Hòa Bình 1</td>\n      <td>Tây Hòa</td>\n      <td>Hòa Bình 1</td>\n      <td>Phu Yen</td>\n      <td>Tay Hoa</td>\n      <td>Hoa Binh 1</td>\n      <td>Phu Yen Province</td>\n      <td>Tay Hoa District</td>\n      <td>Hoa Binh 1 Commune</td>\n      <td>Tay Hoa</td>\n      <td>Hoa Binh 1</td>\n      <td>Huyện</td>\n      <td>Xã</td>\n      <td>District</td>\n      <td>Commune</td>\n    </tr>\n    <tr>\n      <th>7385</th>\n      <td>Kon Tum</td>\n      <td>Kon Tum</td>\n      <td>Hòa Bình</td>\n      <td>Tỉnh Kon Tum</td>\n      <td>Thành phố Kon Tum</td>\n      <td>Xã Hòa Bình</td>\n      <td>Kon Tum</td>\n      <td>Hòa Bình</td>\n      <td>Kon Tum</td>\n      <td>Kon Tum</td>\n      <td>Hoa Binh</td>\n      <td>Kon Tum Province</td>\n      <td>Kon Tum City</td>\n      <td>Hoa Binh Commune</td>\n      <td>Kon Tum</td>\n      <td>Hoa Binh</td>\n      <td>Thành phố</td>\n      <td>Xã</td>\n      <td>City</td>\n      <td>Commune</td>\n    </tr>\n    <tr>\n      <th>7501</th>\n      <td>Gia Lai</td>\n      <td>Ayun Pa</td>\n      <td>Hòa Bình</td>\n      <td>Tỉnh Gia Lai</td>\n      <td>Thị xã Ayun Pa</td>\n      <td>Phường Hòa Bình</td>\n      <td>Ayun Pa</td>\n      <td>Hòa Bình</td>\n      <td>Gia Lai</td>\n      <td>Ayun Pa</td>\n      <td>Hoa Binh</td>\n      <td>Gia Lai Province</td>\n      <td>Ayun Pa Town</td>\n      <td>Hoa Binh Ward</td>\n      <td>Ayun Pa</td>\n      <td>Hoa Binh</td>\n      <td>Thị xã</td>\n      <td>Phường</td>\n      <td>Town</td>\n      <td>Ward</td>\n    </tr>\n    <tr>\n      <th>8395</th>\n      <td>Đồng Nai</td>\n      <td>Biên Hòa</td>\n      <td>Hòa Bình</td>\n      <td>Tỉnh Đồng Nai</td>\n      <td>Thành phố Biên Hòa</td>\n      <td>Phường Hòa Bình</td>\n      <td>Biên Hòa</td>\n      <td>Hòa Bình</td>\n      <td>Dong Nai</td>\n      <td>Bien Hoa</td>\n      <td>Hoa Binh</td>\n      <td>Dong Nai Province</td>\n      <td>Bien Hoa City</td>\n      <td>Hoa Binh Ward</td>\n      <td>Bien Hoa</td>\n      <td>Hoa Binh</td>\n      <td>Thành phố</td>\n      <td>Phường</td>\n      <td>City</td>\n      <td>Ward</td>\n    </tr>\n    <tr>\n      <th>8601</th>\n      <td>Bà Rịa - Vũng Tàu</td>\n      <td>Xuyên Mộc</td>\n      <td>Hòa Bình</td>\n      <td>Tỉnh Bà Rịa - Vũng Tàu</td>\n      <td>Huyện Xuyên Mộc</td>\n      <td>Xã Hòa Bình</td>\n      <td>Xuyên Mộc</td>\n      <td>Hòa Bình</td>\n      <td>Ba Ria - Vung Tau</td>\n      <td>Xuyen Moc</td>\n      <td>Hoa Binh</td>\n      <td>Ba Ria - Vung Tau Province</td>\n      <td>Xuyen Moc District</td>\n      <td>Hoa Binh Commune</td>\n      <td>Xuyen Moc</td>\n      <td>Hoa Binh</td>\n      <td>Huyện</td>\n      <td>Xã</td>\n      <td>District</td>\n      <td>Commune</td>\n    </tr>\n    <tr>\n      <th>9652</th>\n      <td>Vĩnh Long</td>\n      <td>Trà Ôn</td>\n      <td>Hòa Bình</td>\n      <td>Tỉnh Vĩnh Long</td>\n      <td>Huyện Trà Ôn</td>\n      <td>Xã Hòa Bình</td>\n      <td>Trà Ôn</td>\n      <td>Hòa Bình</td>\n      <td>Vinh Long</td>\n      <td>Tra On</td>\n      <td>Hoa Binh</td>\n      <td>Vinh Long Province</td>\n      <td>Tra On District</td>\n      <td>Hoa Binh Commune</td>\n      <td>Tra On</td>\n      <td>Hoa Binh</td>\n      <td>Huyện</td>\n      <td>Xã</td>\n      <td>District</td>\n      <td>Commune</td>\n    </tr>\n    <tr>\n      <th>9724</th>\n      <td>Đồng Tháp</td>\n      <td>Tam Nông</td>\n      <td>Hòa Bình</td>\n      <td>Tỉnh Đồng Tháp</td>\n      <td>Huyện Tam Nông</td>\n      <td>Xã Hòa Bình</td>\n      <td>Tam Nông</td>\n      <td>Hòa Bình</td>\n      <td>Dong Thap</td>\n      <td>Tam Nong</td>\n      <td>Hoa Binh</td>\n      <td>Dong Thap Province</td>\n      <td>Tam Nong District</td>\n      <td>Hoa Binh Commune</td>\n      <td>Tam Nong</td>\n      <td>Hoa Binh</td>\n      <td>Huyện</td>\n      <td>Xã</td>\n      <td>District</td>\n      <td>Commune</td>\n    </tr>\n    <tr>\n      <th>9932</th>\n      <td>An Giang</td>\n      <td>Châu Thành</td>\n      <td>Hòa Bình Thạnh</td>\n      <td>Tỉnh An Giang</td>\n      <td>Huyện Châu Thành</td>\n      <td>Xã Hòa Bình Thạnh</td>\n      <td>Châu Thành</td>\n      <td>Hòa Bình Thạnh</td>\n      <td>An Giang</td>\n      <td>Chau Thanh</td>\n      <td>Hoa Binh Thanh</td>\n      <td>An Giang Province</td>\n      <td>Chau Thanh District</td>\n      <td>Hoa Binh Thanh Commune</td>\n      <td>Chau Thanh</td>\n      <td>Hoa Binh Thanh</td>\n      <td>Huyện</td>\n      <td>Xã</td>\n      <td>District</td>\n      <td>Commune</td>\n    </tr>\n    <tr>\n      <th>9953</th>\n      <td>An Giang</td>\n      <td>Chợ Mới</td>\n      <td>Hòa Bình</td>\n      <td>Tỉnh An Giang</td>\n      <td>Huyện Chợ Mới</td>\n      <td>Xã Hòa Bình</td>\n      <td>Chợ Mới</td>\n      <td>Hòa Bình</td>\n      <td>An Giang</td>\n      <td>Cho Moi</td>\n      <td>Hoa Binh</td>\n      <td>An Giang Province</td>\n      <td>Cho Moi District</td>\n      <td>Hoa Binh Commune</td>\n      <td>Cho Moi</td>\n      <td>Hoa Binh</td>\n      <td>Huyện</td>\n      <td>Xã</td>\n      <td>District</td>\n      <td>Commune</td>\n    </tr>\n    <tr>\n      <th>10438</th>\n      <td>Bạc Liêu</td>\n      <td>Hòa Bình</td>\n      <td>Hòa Bình</td>\n      <td>Tỉnh Bạc Liêu</td>\n      <td>Huyện Hòa Bình</td>\n      <td>Thị trấn Hòa Bình</td>\n      <td>Hòa Bình</td>\n      <td>Hòa Bình</td>\n      <td>Bac Lieu</td>\n      <td>Hoa Binh</td>\n      <td>Hoa Binh</td>\n      <td>Bac Lieu Province</td>\n      <td>Hoa Binh District</td>\n      <td>Hoa Binh Town</td>\n      <td>Hoa Binh</td>\n      <td>Hoa Binh</td>\n      <td>Huyện</td>\n      <td>Thị trấn</td>\n      <td>District</td>\n      <td>Town</td>\n    </tr>\n  </tbody>\n</table>\n</div>"
     },
     "execution_count": 25,
     "metadata": {},
     "output_type": "execute_result"
    }
   ],
   "source": [
    "df_test[df_test.ward_english.fillna('').str.contains('Hoa Binh')]"
   ],
   "metadata": {
    "collapsed": false,
    "ExecuteTime": {
     "end_time": "2024-09-19T07:13:15.899557Z",
     "start_time": "2024-09-19T07:13:15.876042Z"
    }
   },
   "id": "676eda6cc2df9a64",
   "execution_count": 25
  },
  {
   "cell_type": "code",
   "outputs": [],
   "source": [
    "df_test = pd.DataFrame(get_data('province, district'))"
   ],
   "metadata": {
    "collapsed": false,
    "ExecuteTime": {
     "end_time": "2024-09-19T07:13:15.915215Z",
     "start_time": "2024-09-19T07:13:15.900477Z"
    }
   },
   "id": "c5481b51157072e9",
   "execution_count": 26
  },
  {
   "cell_type": "code",
   "outputs": [
    {
     "data": {
      "text/plain": "        province district\n560  Hồ Chí Minh   Quận 5",
      "text/html": "<div>\n<style scoped>\n    .dataframe tbody tr th:only-of-type {\n        vertical-align: middle;\n    }\n\n    .dataframe tbody tr th {\n        vertical-align: top;\n    }\n\n    .dataframe thead th {\n        text-align: right;\n    }\n</style>\n<table border=\"1\" class=\"dataframe\">\n  <thead>\n    <tr style=\"text-align: right;\">\n      <th></th>\n      <th>province</th>\n      <th>district</th>\n    </tr>\n  </thead>\n  <tbody>\n    <tr>\n      <th>560</th>\n      <td>Hồ Chí Minh</td>\n      <td>Quận 5</td>\n    </tr>\n  </tbody>\n</table>\n</div>"
     },
     "execution_count": 27,
     "metadata": {},
     "output_type": "execute_result"
    }
   ],
   "source": [
    "df_test[df_test.district.str.contains('Quận 5')]"
   ],
   "metadata": {
    "collapsed": false,
    "ExecuteTime": {
     "end_time": "2024-09-19T07:13:15.921355Z",
     "start_time": "2024-09-19T07:13:15.916220Z"
    }
   },
   "id": "89f35cc5eaa10ac0",
   "execution_count": 27
  },
  {
   "cell_type": "code",
   "outputs": [],
   "source": [
    "import re"
   ],
   "metadata": {
    "collapsed": false,
    "ExecuteTime": {
     "end_time": "2024-09-19T07:13:15.927605Z",
     "start_time": "2024-09-19T07:13:15.925470Z"
    }
   },
   "id": "cb04262ab5091f8",
   "execution_count": 28
  },
  {
   "cell_type": "code",
   "outputs": [],
   "source": [
    "c_address = 'p2q5'"
   ],
   "metadata": {
    "collapsed": false,
    "ExecuteTime": {
     "end_time": "2024-09-19T07:13:15.930791Z",
     "start_time": "2024-09-19T07:13:15.928347Z"
    }
   },
   "id": "b28f52acf1357dd3",
   "execution_count": 29
  },
  {
   "cell_type": "code",
   "outputs": [
    {
     "name": "stdout",
     "output_type": "stream",
     "text": [
      "p.2q.5\n"
     ]
    }
   ],
   "source": [
    "c_address = 'p2q5'\n",
    "\n",
    "# Correct 'p' and 'q' in one pass\n",
    "def correct_abbreviation(c_address, abbr):\n",
    "    pattern = rf'{abbr}\\d{{1,2}}'\n",
    "    match = re.search(pattern, c_address)\n",
    "    if match:\n",
    "        old_text = match.group()\n",
    "        if not re.search(rf'duong\\s?{abbr}\\d{{1,2}}|d\\.\\s?{abbr}\\d{{1,2}}', c_address):\n",
    "            c_address = c_address.replace(old_text, old_text.replace(abbr, f'{abbr}.'))\n",
    "    return c_address\n",
    "\n",
    "# Correct both 'p' (phường) and 'q' (quận)\n",
    "c_address = correct_abbreviation(c_address, 'p')\n",
    "c_address = correct_abbreviation(c_address, 'q')\n",
    "\n",
    "print(c_address)"
   ],
   "metadata": {
    "collapsed": false,
    "ExecuteTime": {
     "end_time": "2024-09-19T07:13:15.935406Z",
     "start_time": "2024-09-19T07:13:15.931594Z"
    }
   },
   "id": "fa06815fd3195720",
   "execution_count": 30
  },
  {
   "cell_type": "code",
   "outputs": [
    {
     "name": "stdout",
     "output_type": "stream",
     "text": [
      "duong p2 ham tan\n"
     ]
    }
   ],
   "source": [
    "c_address = 'duong p2 ham tan'\n",
    "c_address = correct_abbreviation(c_address, 'p')\n",
    "c_address = correct_abbreviation(c_address, 'q')\n",
    "print(c_address)"
   ],
   "metadata": {
    "collapsed": false,
    "ExecuteTime": {
     "end_time": "2024-09-19T07:13:15.938411Z",
     "start_time": "2024-09-19T07:13:15.936146Z"
    }
   },
   "id": "14fd7918ba2d8ff2",
   "execution_count": 31
  },
  {
   "cell_type": "code",
   "outputs": [],
   "source": [],
   "metadata": {
    "collapsed": false,
    "ExecuteTime": {
     "end_time": "2024-09-19T07:13:15.940437Z",
     "start_time": "2024-09-19T07:13:15.939231Z"
    }
   },
   "id": "2e2a7e15a72871db",
   "execution_count": 31
  }
 ],
 "metadata": {
  "kernelspec": {
   "display_name": "Python 3",
   "language": "python",
   "name": "python3"
  },
  "language_info": {
   "codemirror_mode": {
    "name": "ipython",
    "version": 2
   },
   "file_extension": ".py",
   "mimetype": "text/x-python",
   "name": "python",
   "nbconvert_exporter": "python",
   "pygments_lexer": "ipython2",
   "version": "2.7.6"
  }
 },
 "nbformat": 4,
 "nbformat_minor": 5
}
