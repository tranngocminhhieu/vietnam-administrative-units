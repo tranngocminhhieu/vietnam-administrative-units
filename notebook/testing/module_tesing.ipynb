{
 "cells": [
  {
   "cell_type": "code",
   "execution_count": 1,
   "id": "initial_id",
   "metadata": {
    "collapsed": true,
    "ExecuteTime": {
     "end_time": "2024-09-18T19:30:46.877699Z",
     "start_time": "2024-09-18T19:30:46.154868Z"
    }
   },
   "outputs": [],
   "source": [
    "from vietadminunits import parse_address, get_data\n",
    "import pandas as pd\n",
    "import re\n",
    "\n",
    "from unidecode import unidecode"
   ]
  },
  {
   "cell_type": "markdown",
   "source": [
    "# Demo"
   ],
   "metadata": {
    "collapsed": false
   },
   "id": "5a2fae1f4817088b"
  },
  {
   "cell_type": "code",
   "outputs": [
    {
     "data": {
      "text/plain": "AdministrativeUnit:\nAttribute                      | Value                         \n--------------------------------------------------------------\nprovince                       | Hồ Chí Minh                   \ndistrict                       | Thủ Đức                       \nward                           |                               \n--------------------------------------------------------------\nlong_province                  | Thành phố Hồ Chí Minh         \nlong_district                  | Thành phố Thủ Đức             \nlong_ward                      |                               \n--------------------------------------------------------------\nshort_district                 | Thủ Đức                       \nshort_ward                     |                               \n--------------------------------------------------------------\nprovince_english               | Ho Chi Minh                   \ndistrict_english               | Thu Duc                       \nward_english                   |                               \n--------------------------------------------------------------\nlong_province_english          | Ho Chi Minh City              \nlong_district_english          | Thu Duc City                  \nlong_ward_english              |                               \n--------------------------------------------------------------\nshort_district_english         | Thu Duc                       \nshort_ward_english             |                               \n--------------------------------------------------------------\ndistrict_level                 | Thành phố                     \nward_level                     |                               \n--------------------------------------------------------------\ndistrict_level_english         | City                          \nward_level_english             |                               "
     },
     "execution_count": 2,
     "metadata": {},
     "output_type": "execute_result"
    }
   ],
   "source": [
    "parse_address('thu duc')"
   ],
   "metadata": {
    "collapsed": false,
    "ExecuteTime": {
     "end_time": "2024-09-18T19:30:46.890467Z",
     "start_time": "2024-09-18T19:30:46.880609Z"
    }
   },
   "id": "eab6dd96ced97284",
   "execution_count": 2
  },
  {
   "cell_type": "code",
   "outputs": [
    {
     "data": {
      "text/plain": "AdministrativeUnit:\nAttribute                      | Value                         \n--------------------------------------------------------------\nprovince                       | Bình Thuận                    \ndistrict                       | Phan Thiết                    \nward                           | Phú Trinh                     \n--------------------------------------------------------------\nlong_province                  | Tỉnh Bình Thuận               \nlong_district                  | Thành phố Phan Thiết          \nlong_ward                      | Phường Phú Trinh              \n--------------------------------------------------------------\nshort_district                 | Phan Thiết                    \nshort_ward                     | Phú Trinh                     \n--------------------------------------------------------------\nprovince_english               | Binh Thuan                    \ndistrict_english               | Phan Thiet                    \nward_english                   | Phu Trinh                     \n--------------------------------------------------------------\nlong_province_english          | Binh Thuan Province           \nlong_district_english          | Phan Thiet City               \nlong_ward_english              | Phu Trinh Ward                \n--------------------------------------------------------------\nshort_district_english         | Phan Thiet                    \nshort_ward_english             | Phu Trinh                     \n--------------------------------------------------------------\ndistrict_level                 | Thành phố                     \nward_level                     | Phường                        \n--------------------------------------------------------------\ndistrict_level_english         | City                          \nward_level_english             | Ward                          "
     },
     "execution_count": 3,
     "metadata": {},
     "output_type": "execute_result"
    }
   ],
   "source": [
    "parse_address('phuong phu trinh, phan thiet, binh thuan')"
   ],
   "metadata": {
    "collapsed": false,
    "ExecuteTime": {
     "end_time": "2024-09-18T19:30:46.897641Z",
     "start_time": "2024-09-18T19:30:46.894747Z"
    }
   },
   "id": "c04344ab4b8ee4fa",
   "execution_count": 3
  },
  {
   "cell_type": "code",
   "outputs": [
    {
     "data": {
      "text/plain": "AdministrativeUnit:\nAttribute                      | Value                         \n--------------------------------------------------------------\nprovince                       | Bến Tre                       \ndistrict                       | Mỏ Cày Bắc                    \nward                           | Hòa Lộc                       \n--------------------------------------------------------------\nlong_province                  | Tỉnh Bến Tre                  \nlong_district                  | Huyện Mỏ Cày Bắc              \nlong_ward                      | Xã Hòa Lộc                    \n--------------------------------------------------------------\nshort_district                 | Mỏ Cày Bắc                    \nshort_ward                     | Hòa Lộc                       \n--------------------------------------------------------------\nprovince_english               | Ben Tre                       \ndistrict_english               | Mo Cay Bac                    \nward_english                   | Hoa Loc                       \n--------------------------------------------------------------\nlong_province_english          | Ben Tre Province              \nlong_district_english          | Mo Cay Bac District           \nlong_ward_english              | Hoa Loc Commune               \n--------------------------------------------------------------\nshort_district_english         | Mo Cay Bac                    \nshort_ward_english             | Hoa Loc                       \n--------------------------------------------------------------\ndistrict_level                 | Huyện                         \nward_level                     | Xã                            \n--------------------------------------------------------------\ndistrict_level_english         | District                      \nward_level_english             | Commune                       "
     },
     "execution_count": 4,
     "metadata": {},
     "output_type": "execute_result"
    }
   ],
   "source": [
    "parse_address('Hoa Loc Mo Cay Ben Tre')"
   ],
   "metadata": {
    "collapsed": false,
    "ExecuteTime": {
     "end_time": "2024-09-18T19:30:46.901356Z",
     "start_time": "2024-09-18T19:30:46.898832Z"
    }
   },
   "id": "365a4401b239bf2a",
   "execution_count": 4
  },
  {
   "cell_type": "code",
   "outputs": [
    {
     "data": {
      "text/plain": "AdministrativeUnit:\nAttribute                      | Value                         \n--------------------------------------------------------------\nprovince                       | Bến Tre                       \ndistrict                       | Mỏ Cày Nam                    \nward                           | Mỏ Cày                        \n--------------------------------------------------------------\nlong_province                  | Tỉnh Bến Tre                  \nlong_district                  | Huyện Mỏ Cày Nam              \nlong_ward                      | Thị trấn Mỏ Cày               \n--------------------------------------------------------------\nshort_district                 | Mỏ Cày Nam                    \nshort_ward                     | Mỏ Cày                        \n--------------------------------------------------------------\nprovince_english               | Ben Tre                       \ndistrict_english               | Mo Cay Nam                    \nward_english                   | Mo Cay                        \n--------------------------------------------------------------\nlong_province_english          | Ben Tre Province              \nlong_district_english          | Mo Cay Nam District           \nlong_ward_english              | Mo Cay Town                   \n--------------------------------------------------------------\nshort_district_english         | Mo Cay Nam                    \nshort_ward_english             | Mo Cay                        \n--------------------------------------------------------------\ndistrict_level                 | Huyện                         \nward_level                     | Thị trấn                      \n--------------------------------------------------------------\ndistrict_level_english         | District                      \nward_level_english             | Town                          "
     },
     "execution_count": 5,
     "metadata": {},
     "output_type": "execute_result"
    }
   ],
   "source": [
    "parse_address('Mo Cay Ben Tre')"
   ],
   "metadata": {
    "collapsed": false,
    "ExecuteTime": {
     "end_time": "2024-09-18T19:30:46.904469Z",
     "start_time": "2024-09-18T19:30:46.901999Z"
    }
   },
   "id": "24467602bfea0b8",
   "execution_count": 5
  },
  {
   "cell_type": "code",
   "outputs": [
    {
     "data": {
      "text/plain": "AdministrativeUnit:\nAttribute                      | Value                         \n--------------------------------------------------------------\nprovince                       | Hà Nội                        \ndistrict                       | Bắc Từ Liêm                   \nward                           | Liên Mạc                      \n--------------------------------------------------------------\nlong_province                  | Thành phố Hà Nội              \nlong_district                  | Quận Bắc Từ Liêm              \nlong_ward                      | Phường Liên Mạc               \n--------------------------------------------------------------\nshort_district                 | Bắc Từ Liêm                   \nshort_ward                     | Liên Mạc                      \n--------------------------------------------------------------\nprovince_english               | Ha Noi                        \ndistrict_english               | Bac Tu Liem                   \nward_english                   | Lien Mac                      \n--------------------------------------------------------------\nlong_province_english          | Ha Noi City                   \nlong_district_english          | Bac Tu Liem District          \nlong_ward_english              | Lien Mac Ward                 \n--------------------------------------------------------------\nshort_district_english         | Bac Tu Liem                   \nshort_ward_english             | Lien Mac                      \n--------------------------------------------------------------\ndistrict_level                 | Quận                          \nward_level                     | Phường                        \n--------------------------------------------------------------\ndistrict_level_english         | District                      \nward_level_english             | Ward                          "
     },
     "execution_count": 6,
     "metadata": {},
     "output_type": "execute_result"
    }
   ],
   "source": [
    "parse_address('Lien Mac Tu Liem Ha Noi')"
   ],
   "metadata": {
    "collapsed": false,
    "ExecuteTime": {
     "end_time": "2024-09-18T19:30:46.907265Z",
     "start_time": "2024-09-18T19:30:46.904950Z"
    }
   },
   "id": "6f717af914a28fa4",
   "execution_count": 6
  },
  {
   "cell_type": "code",
   "outputs": [
    {
     "data": {
      "text/plain": "AdministrativeUnit:\nAttribute                      | Value                         \n--------------------------------------------------------------\nprovince                       | Tiền Giang                    \ndistrict                       | Thị xã Cai Lậy                \nward                           |                               \n--------------------------------------------------------------\nlong_province                  | Tỉnh Tiền Giang               \nlong_district                  | Thị xã Cai Lậy                \nlong_ward                      |                               \n--------------------------------------------------------------\nshort_district                 | Cai Lậy                       \nshort_ward                     |                               \n--------------------------------------------------------------\nprovince_english               | Tien Giang                    \ndistrict_english               | Cai Lay Town                  \nward_english                   |                               \n--------------------------------------------------------------\nlong_province_english          | Tien Giang Province           \nlong_district_english          | Cai Lay Town                  \nlong_ward_english              |                               \n--------------------------------------------------------------\nshort_district_english         | Cai Lay                       \nshort_ward_english             |                               \n--------------------------------------------------------------\ndistrict_level                 | Thị xã                        \nward_level                     |                               \n--------------------------------------------------------------\ndistrict_level_english         | Town                          \nward_level_english             |                               "
     },
     "execution_count": 7,
     "metadata": {},
     "output_type": "execute_result"
    }
   ],
   "source": [
    "parse_address('Cai Lay Tien Giang')"
   ],
   "metadata": {
    "collapsed": false,
    "ExecuteTime": {
     "end_time": "2024-09-18T19:30:46.910058Z",
     "start_time": "2024-09-18T19:30:46.907737Z"
    }
   },
   "id": "6dea19bb8b4df67a",
   "execution_count": 7
  },
  {
   "cell_type": "code",
   "outputs": [
    {
     "data": {
      "text/plain": "AdministrativeUnit:\nAttribute                      | Value                         \n--------------------------------------------------------------\nprovince                       | Hà Tĩnh                       \ndistrict                       | Thị xã Kỳ Anh                 \nward                           |                               \n--------------------------------------------------------------\nlong_province                  | Tỉnh Hà Tĩnh                  \nlong_district                  | Thị xã Kỳ Anh                 \nlong_ward                      |                               \n--------------------------------------------------------------\nshort_district                 | Kỳ Anh                        \nshort_ward                     |                               \n--------------------------------------------------------------\nprovince_english               | Ha Tinh                       \ndistrict_english               | Ky Anh Town                   \nward_english                   |                               \n--------------------------------------------------------------\nlong_province_english          | Ha Tinh Province              \nlong_district_english          | Ky Anh Town                   \nlong_ward_english              |                               \n--------------------------------------------------------------\nshort_district_english         | Ky Anh                        \nshort_ward_english             |                               \n--------------------------------------------------------------\ndistrict_level                 | Thị xã                        \nward_level                     |                               \n--------------------------------------------------------------\ndistrict_level_english         | Town                          \nward_level_english             |                               "
     },
     "execution_count": 8,
     "metadata": {},
     "output_type": "execute_result"
    }
   ],
   "source": [
    "parse_address('ky anh ha tinh')"
   ],
   "metadata": {
    "collapsed": false,
    "ExecuteTime": {
     "end_time": "2024-09-18T19:30:46.912561Z",
     "start_time": "2024-09-18T19:30:46.910441Z"
    }
   },
   "id": "57289afc468afdaa",
   "execution_count": 8
  },
  {
   "cell_type": "code",
   "outputs": [
    {
     "data": {
      "text/plain": "AdministrativeUnit:\nAttribute                      | Value                         \n--------------------------------------------------------------\nprovince                       | Sơn La                        \ndistrict                       | Mai Sơn                       \nward                           | Xã Hát Lót                    \n--------------------------------------------------------------\nlong_province                  | Tỉnh Sơn La                   \nlong_district                  | Huyện Mai Sơn                 \nlong_ward                      | Xã Hát Lót                    \n--------------------------------------------------------------\nshort_district                 | Mai Sơn                       \nshort_ward                     | Hát Lót                       \n--------------------------------------------------------------\nprovince_english               | Son La                        \ndistrict_english               | Mai Son                       \nward_english                   | Hat Lot Commune               \n--------------------------------------------------------------\nlong_province_english          | Son La Province               \nlong_district_english          | Mai Son District              \nlong_ward_english              | Hat Lot Commune               \n--------------------------------------------------------------\nshort_district_english         | Mai Son                       \nshort_ward_english             | Hat Lot                       \n--------------------------------------------------------------\ndistrict_level                 | Huyện                         \nward_level                     | Xã                            \n--------------------------------------------------------------\ndistrict_level_english         | District                      \nward_level_english             | Commune                       "
     },
     "execution_count": 9,
     "metadata": {},
     "output_type": "execute_result"
    }
   ],
   "source": [
    "parse_address('hat lot mai son son la')"
   ],
   "metadata": {
    "collapsed": false,
    "ExecuteTime": {
     "end_time": "2024-09-18T19:30:46.915152Z",
     "start_time": "2024-09-18T19:30:46.913138Z"
    }
   },
   "id": "21305f6aa3f21443",
   "execution_count": 9
  },
  {
   "cell_type": "code",
   "outputs": [
    {
     "data": {
      "text/plain": "AdministrativeUnit:\nAttribute                      | Value                         \n--------------------------------------------------------------\nprovince                       | Cà Mau                        \ndistrict                       | Cà Mau                        \nward                           | Phường Tân Thành              \n--------------------------------------------------------------\nlong_province                  | Tỉnh Cà Mau                   \nlong_district                  | Thành phố Cà Mau              \nlong_ward                      | Phường Tân Thành              \n--------------------------------------------------------------\nshort_district                 | Cà Mau                        \nshort_ward                     | Tân Thành                     \n--------------------------------------------------------------\nprovince_english               | Ca Mau                        \ndistrict_english               | Ca Mau                        \nward_english                   | Tan Thanh Ward                \n--------------------------------------------------------------\nlong_province_english          | Ca Mau Province               \nlong_district_english          | Ca Mau City                   \nlong_ward_english              | Tan Thanh Ward                \n--------------------------------------------------------------\nshort_district_english         | Ca Mau                        \nshort_ward_english             | Tan Thanh                     \n--------------------------------------------------------------\ndistrict_level                 | Thành phố                     \nward_level                     | Phường                        \n--------------------------------------------------------------\ndistrict_level_english         | City                          \nward_level_english             | Ward                          "
     },
     "execution_count": 10,
     "metadata": {},
     "output_type": "execute_result"
    }
   ],
   "source": [
    "parse_address('phuong Tan Thanh, Ca Mau, Ca Mau')"
   ],
   "metadata": {
    "collapsed": false,
    "ExecuteTime": {
     "end_time": "2024-09-18T19:30:46.918704Z",
     "start_time": "2024-09-18T19:30:46.916710Z"
    }
   },
   "id": "745e840418e26c0b",
   "execution_count": 10
  },
  {
   "cell_type": "code",
   "outputs": [
    {
     "data": {
      "text/plain": "AdministrativeUnit:\nAttribute                      | Value                         \n--------------------------------------------------------------\nprovince                       | Hà Nội                        \ndistrict                       | Thanh Xuân                    \nward                           | Thượng Đình                   \n--------------------------------------------------------------\nlong_province                  | Thành phố Hà Nội              \nlong_district                  | Quận Thanh Xuân               \nlong_ward                      | Phường Thượng Đình            \n--------------------------------------------------------------\nshort_district                 | Thanh Xuân                    \nshort_ward                     | Thượng Đình                   \n--------------------------------------------------------------\nprovince_english               | Ha Noi                        \ndistrict_english               | Thanh Xuan                    \nward_english                   | Thuong Dinh                   \n--------------------------------------------------------------\nlong_province_english          | Ha Noi City                   \nlong_district_english          | Thanh Xuan District           \nlong_ward_english              | Thuong Dinh Ward              \n--------------------------------------------------------------\nshort_district_english         | Thanh Xuan                    \nshort_ward_english             | Thuong Dinh                   \n--------------------------------------------------------------\ndistrict_level                 | Quận                          \nward_level                     | Phường                        \n--------------------------------------------------------------\ndistrict_level_english         | District                      \nward_level_english             | Ward                          "
     },
     "execution_count": 11,
     "metadata": {},
     "output_type": "execute_result"
    }
   ],
   "source": [
    "parse_address('Ngã Tư Sở Market, Đường Nguyễn Trãi, Thượng Đình Số nhà 28A, Ngõ 72 Nguyễn Trãi , , Phường Thượng Đình, Quận Thanh Xuân , Hà Nội Quận Thanh Xuân')"
   ],
   "metadata": {
    "collapsed": false,
    "ExecuteTime": {
     "end_time": "2024-09-18T19:30:46.923200Z",
     "start_time": "2024-09-18T19:30:46.919147Z"
    }
   },
   "id": "ccfcb3feb70b601d",
   "execution_count": 11
  },
  {
   "cell_type": "code",
   "outputs": [
    {
     "data": {
      "text/plain": "AdministrativeUnit:\nAttribute                      | Value                         \n--------------------------------------------------------------\nprovince                       | Hà Nội                        \ndistrict                       | Bắc Từ Liêm                   \nward                           | Phú Diễn                      \n--------------------------------------------------------------\nlong_province                  | Thành phố Hà Nội              \nlong_district                  | Quận Bắc Từ Liêm              \nlong_ward                      | Phường Phú Diễn               \n--------------------------------------------------------------\nshort_district                 | Bắc Từ Liêm                   \nshort_ward                     | Phú Diễn                      \n--------------------------------------------------------------\nprovince_english               | Ha Noi                        \ndistrict_english               | Bac Tu Liem                   \nward_english                   | Phu Dien                      \n--------------------------------------------------------------\nlong_province_english          | Ha Noi City                   \nlong_district_english          | Bac Tu Liem District          \nlong_ward_english              | Phu Dien Ward                 \n--------------------------------------------------------------\nshort_district_english         | Bac Tu Liem                   \nshort_ward_english             | Phu Dien                      \n--------------------------------------------------------------\ndistrict_level                 | Quận                          \nward_level                     | Phường                        \n--------------------------------------------------------------\ndistrict_level_english         | District                      \nward_level_english             | Ward                          "
     },
     "execution_count": 12,
     "metadata": {},
     "output_type": "execute_result"
    }
   ],
   "source": [
    "parse_address('Cuối đường kiều mai, dự án bệnh viện hạnh phúc  phường phú diễn quận bắc từ liêm hà nội')"
   ],
   "metadata": {
    "collapsed": false,
    "ExecuteTime": {
     "end_time": "2024-09-18T19:30:46.925961Z",
     "start_time": "2024-09-18T19:30:46.923784Z"
    }
   },
   "id": "ac59fdbd592726a1",
   "execution_count": 12
  },
  {
   "cell_type": "code",
   "outputs": [
    {
     "name": "stdout",
     "output_type": "stream",
     "text": [
      "AdministrativeUnit:\n",
      "Attribute                      | Value                         \n",
      "--------------------------------------------------------------\n",
      "province                       | Hà Nội                        \n",
      "district                       | Bắc Từ Liêm                   \n",
      "ward                           | Phú Diễn                      \n",
      "--------------------------------------------------------------\n",
      "long_province                  | Thành phố Hà Nội              \n",
      "long_district                  | Quận Bắc Từ Liêm              \n",
      "long_ward                      | Phường Phú Diễn               \n",
      "--------------------------------------------------------------\n",
      "short_district                 | Bắc Từ Liêm                   \n",
      "short_ward                     | Phú Diễn                      \n",
      "--------------------------------------------------------------\n",
      "province_english               | Ha Noi                        \n",
      "district_english               | Bac Tu Liem                   \n",
      "ward_english                   | Phu Dien                      \n",
      "--------------------------------------------------------------\n",
      "long_province_english          | Ha Noi City                   \n",
      "long_district_english          | Bac Tu Liem District          \n",
      "long_ward_english              | Phu Dien Ward                 \n",
      "--------------------------------------------------------------\n",
      "short_district_english         | Bac Tu Liem                   \n",
      "short_ward_english             | Phu Dien                      \n",
      "--------------------------------------------------------------\n",
      "district_level                 | Quận                          \n",
      "ward_level                     | Phường                        \n",
      "--------------------------------------------------------------\n",
      "district_level_english         | District                      \n",
      "ward_level_english             | Ward                          \n",
      "\n",
      "Phú Diễn, Bắc Từ Liêm, Hà Nội\n"
     ]
    }
   ],
   "source": [
    "address = 'Cuối đường kiều mai, dự án bệnh viện hạnh phúc phường phú diễn quận bắc từ liêm HN'\n",
    "\n",
    "admin_unit = parse_address(address=address, level=3)\n",
    "\n",
    "print(admin_unit)\n",
    "\n",
    "print(admin_unit.ward, admin_unit.district, admin_unit.province, sep=', ')"
   ],
   "metadata": {
    "collapsed": false,
    "ExecuteTime": {
     "end_time": "2024-09-18T19:30:46.928742Z",
     "start_time": "2024-09-18T19:30:46.926509Z"
    }
   },
   "id": "5ef8a354992a293e",
   "execution_count": 13
  },
  {
   "cell_type": "code",
   "outputs": [
    {
     "data": {
      "text/plain": "AdministrativeUnit:\nAttribute                      | Value                         \n--------------------------------------------------------------\nprovince                       | Đà Nẵng                       \ndistrict                       | Sơn Trà                       \nward                           | An Hải Bắc                    \n--------------------------------------------------------------\nlong_province                  | Thành phố Đà Nẵng             \nlong_district                  | Quận Sơn Trà                  \nlong_ward                      | Phường An Hải Bắc             \n--------------------------------------------------------------\nshort_district                 | Sơn Trà                       \nshort_ward                     | An Hải Bắc                    \n--------------------------------------------------------------\nprovince_english               | Da Nang                       \ndistrict_english               | Son Tra                       \nward_english                   | An Hai Bac                    \n--------------------------------------------------------------\nlong_province_english          | Da Nang City                  \nlong_district_english          | Son Tra District              \nlong_ward_english              | An Hai Bac Ward               \n--------------------------------------------------------------\nshort_district_english         | Son Tra                       \nshort_ward_english             | An Hai Bac                    \n--------------------------------------------------------------\ndistrict_level                 | Quận                          \nward_level                     | Phường                        \n--------------------------------------------------------------\ndistrict_level_english         | District                      \nward_level_english             | Ward                          "
     },
     "execution_count": 14,
     "metadata": {},
     "output_type": "execute_result"
    }
   ],
   "source": [
    "parse_address('03 Nguyễn Cao Luyện, An Hải Bắc, Sơn Trà, Đà Nẵng 550000, Việt Nam')"
   ],
   "metadata": {
    "collapsed": false,
    "ExecuteTime": {
     "end_time": "2024-09-18T19:30:46.932302Z",
     "start_time": "2024-09-18T19:30:46.929361Z"
    }
   },
   "id": "6fb98f74ac0bdf8d",
   "execution_count": 14
  },
  {
   "cell_type": "code",
   "outputs": [
    {
     "data": {
      "text/plain": "AdministrativeUnit:\nAttribute                      | Value                         \n--------------------------------------------------------------\nprovince                       | Hồ Chí Minh                   \ndistrict                       | Bình Chánh                    \nward                           | Phạm Văn Hai                  \n--------------------------------------------------------------\nlong_province                  | Thành phố Hồ Chí Minh         \nlong_district                  | Huyện Bình Chánh              \nlong_ward                      | Xã Phạm Văn Hai               \n--------------------------------------------------------------\nshort_district                 | Bình Chánh                    \nshort_ward                     | Phạm Văn Hai                  \n--------------------------------------------------------------\nprovince_english               | Ho Chi Minh                   \ndistrict_english               | Binh Chanh                    \nward_english                   | Pham Van Hai                  \n--------------------------------------------------------------\nlong_province_english          | Ho Chi Minh City              \nlong_district_english          | Binh Chanh District           \nlong_ward_english              | Pham Van Hai Commune          \n--------------------------------------------------------------\nshort_district_english         | Binh Chanh                    \nshort_ward_english             | Pham Van Hai                  \n--------------------------------------------------------------\ndistrict_level                 | Huyện                         \nward_level                     | Xã                            \n--------------------------------------------------------------\ndistrict_level_english         | District                      \nward_level_english             | Commune                       "
     },
     "execution_count": 15,
     "metadata": {},
     "output_type": "execute_result"
    }
   ],
   "source": [
    "parse_address('3c60/10 chợ cầu xấng, xã phạm văn hai, huyện bình chánh HCM')"
   ],
   "metadata": {
    "collapsed": false,
    "ExecuteTime": {
     "end_time": "2024-09-18T19:30:46.935262Z",
     "start_time": "2024-09-18T19:30:46.933057Z"
    }
   },
   "id": "960a61d68549fa75",
   "execution_count": 15
  },
  {
   "cell_type": "code",
   "outputs": [
    {
     "data": {
      "text/plain": "AdministrativeUnit:\nAttribute                      | Value                         \n--------------------------------------------------------------\nprovince                       | Hà Nội                        \ndistrict                       | Nam Từ Liêm                   \nward                           | Mỹ Đình 2                     \n--------------------------------------------------------------\nlong_province                  | Thành phố Hà Nội              \nlong_district                  | Quận Nam Từ Liêm              \nlong_ward                      | Phường Mỹ Đình 2              \n--------------------------------------------------------------\nshort_district                 | Nam Từ Liêm                   \nshort_ward                     | Mỹ Đình 2                     \n--------------------------------------------------------------\nprovince_english               | Ha Noi                        \ndistrict_english               | Nam Tu Liem                   \nward_english                   | My Dinh 2                     \n--------------------------------------------------------------\nlong_province_english          | Ha Noi City                   \nlong_district_english          | Nam Tu Liem District          \nlong_ward_english              | My Dinh 2 Ward                \n--------------------------------------------------------------\nshort_district_english         | Nam Tu Liem                   \nshort_ward_english             | My Dinh 2                     \n--------------------------------------------------------------\ndistrict_level                 | Quận                          \nward_level                     | Phường                        \n--------------------------------------------------------------\ndistrict_level_english         | District                      \nward_level_english             | Ward                          "
     },
     "execution_count": 16,
     "metadata": {},
     "output_type": "execute_result"
    }
   ],
   "source": [
    "parse_address('ngõ 154 Đình Thôn, phường Mỹ Đình 2, Quận Nam Từ Liêm, HN')"
   ],
   "metadata": {
    "collapsed": false,
    "ExecuteTime": {
     "end_time": "2024-09-18T19:30:46.938281Z",
     "start_time": "2024-09-18T19:30:46.936179Z"
    }
   },
   "id": "7ab4dc3d2c704933",
   "execution_count": 16
  },
  {
   "cell_type": "code",
   "outputs": [
    {
     "data": {
      "text/plain": "AdministrativeUnit:\nAttribute                      | Value                         \n--------------------------------------------------------------\nprovince                       | Hà Nội                        \ndistrict                       | Gia Lâm                       \nward                           | Xã Yên Viên                   \n--------------------------------------------------------------\nlong_province                  | Thành phố Hà Nội              \nlong_district                  | Huyện Gia Lâm                 \nlong_ward                      | Xã Yên Viên                   \n--------------------------------------------------------------\nshort_district                 | Gia Lâm                       \nshort_ward                     | Yên Viên                      \n--------------------------------------------------------------\nprovince_english               | Ha Noi                        \ndistrict_english               | Gia Lam                       \nward_english                   | Yen Vien Commune              \n--------------------------------------------------------------\nlong_province_english          | Ha Noi City                   \nlong_district_english          | Gia Lam District              \nlong_ward_english              | Yen Vien Commune              \n--------------------------------------------------------------\nshort_district_english         | Gia Lam                       \nshort_ward_english             | Yen Vien                      \n--------------------------------------------------------------\ndistrict_level                 | Huyện                         \nward_level                     | Xã                            \n--------------------------------------------------------------\ndistrict_level_english         | District                      \nward_level_english             | Commune                       "
     },
     "execution_count": 17,
     "metadata": {},
     "output_type": "execute_result"
    }
   ],
   "source": [
    "parse_address('Ha Noi, Gia Lam, Yen Vien')"
   ],
   "metadata": {
    "collapsed": false,
    "ExecuteTime": {
     "end_time": "2024-09-18T19:30:46.941035Z",
     "start_time": "2024-09-18T19:30:46.938861Z"
    }
   },
   "id": "8928a354ab16a274",
   "execution_count": 17
  },
  {
   "cell_type": "code",
   "outputs": [
    {
     "data": {
      "text/plain": "AdministrativeUnit:\nAttribute                      | Value                         \n--------------------------------------------------------------\nprovince                       | Lào Cai                       \ndistrict                       | Bảo Thắng                     \nward                           | N.T Phong Hải                 \n--------------------------------------------------------------\nlong_province                  | Tỉnh Lào Cai                  \nlong_district                  | Huyện Bảo Thắng               \nlong_ward                      | Thị trấn N.T Phong Hải        \n--------------------------------------------------------------\nshort_district                 | Bảo Thắng                     \nshort_ward                     | N.T Phong Hải                 \n--------------------------------------------------------------\nprovince_english               | Lao Cai                       \ndistrict_english               | Bao Thang                     \nward_english                   | N.T Phong Hai                 \n--------------------------------------------------------------\nlong_province_english          | Lao Cai Province              \nlong_district_english          | Bao Thang District            \nlong_ward_english              | N.T Phong Hai Town            \n--------------------------------------------------------------\nshort_district_english         | Bao Thang                     \nshort_ward_english             | N.T Phong Hai                 \n--------------------------------------------------------------\ndistrict_level                 | Huyện                         \nward_level                     | Thị trấn                      \n--------------------------------------------------------------\ndistrict_level_english         | District                      \nward_level_english             | Town                          "
     },
     "execution_count": 18,
     "metadata": {},
     "output_type": "execute_result"
    }
   ],
   "source": [
    "parse_address('Thị trấn N.T Phong Hải, Huyện Bảo Thắng, Tỉnh Lào Cai')"
   ],
   "metadata": {
    "collapsed": false,
    "ExecuteTime": {
     "end_time": "2024-09-18T19:30:46.943479Z",
     "start_time": "2024-09-18T19:30:46.941571Z"
    }
   },
   "id": "972e0adf53ad859a",
   "execution_count": 18
  },
  {
   "cell_type": "markdown",
   "source": [
    "# Check wrong or missing in bulk"
   ],
   "metadata": {
    "collapsed": false
   },
   "id": "3f7ebf254ffba569"
  },
  {
   "cell_type": "code",
   "outputs": [],
   "source": [
    "df = pd.read_csv('../../data/input/danhmuchanhchinhgso.gov.vn.csv')"
   ],
   "metadata": {
    "collapsed": false,
    "ExecuteTime": {
     "end_time": "2024-09-18T19:30:46.962762Z",
     "start_time": "2024-09-18T19:30:46.943908Z"
    }
   },
   "id": "19018c4a3a7f3491",
   "execution_count": 19
  },
  {
   "cell_type": "code",
   "outputs": [],
   "source": [
    "df['district_address'] = df['long_district'] + ', ' + df['long_province']\n",
    "district_addresses = df['district_address'].tolist()\n",
    "\n",
    "for address in district_addresses:\n",
    "    try:\n",
    "        unit = parse_address(address, level=2)\n",
    "    except:\n",
    "        print(address)\n",
    "    if unit.province == None:\n",
    "        print(address)\n",
    "    elif unit.district == None:\n",
    "        print(address)"
   ],
   "metadata": {
    "collapsed": false,
    "ExecuteTime": {
     "end_time": "2024-09-18T19:30:47.094798Z",
     "start_time": "2024-09-18T19:30:46.963546Z"
    }
   },
   "id": "10f1c4f277648450",
   "execution_count": 20
  },
  {
   "cell_type": "code",
   "outputs": [],
   "source": [
    "df['ward_address'] = df['long_ward'].fillna('') + ', ' + df['long_district'] + ', ' + df['long_province']\n",
    "ward_addresses = df['ward_address'].dropna().tolist()\n",
    "miss = []\n",
    "for ward_address in ward_addresses:\n",
    "    try:\n",
    "        unit = parse_address(ward_address, level=3)\n",
    "    except Exception as e:\n",
    "        print(ward_address)\n",
    "        raise e\n",
    "\n",
    "    if unit.province == None:\n",
    "        print(ward_address)\n",
    "    elif unit.district == None:\n",
    "        print(ward_address)\n",
    "    elif unit.ward == None and unit.district_key not in ['bachlongvi', 'conco', 'hoangsa', 'lyson', 'condao']:\n",
    "        print(ward_address)\n"
   ],
   "metadata": {
    "collapsed": false,
    "ExecuteTime": {
     "end_time": "2024-09-18T19:30:47.334436Z",
     "start_time": "2024-09-18T19:30:47.095765Z"
    }
   },
   "id": "2ce0c17cd4128a3f",
   "execution_count": 21
  },
  {
   "cell_type": "code",
   "outputs": [],
   "source": [
    "df_test = pd.DataFrame(get_data())"
   ],
   "metadata": {
    "collapsed": false,
    "ExecuteTime": {
     "end_time": "2024-09-18T19:30:47.466274Z",
     "start_time": "2024-09-18T19:30:47.335160Z"
    }
   },
   "id": "3cb49da069f6acd4",
   "execution_count": 22
  }
 ],
 "metadata": {
  "kernelspec": {
   "display_name": "Python 3",
   "language": "python",
   "name": "python3"
  },
  "language_info": {
   "codemirror_mode": {
    "name": "ipython",
    "version": 2
   },
   "file_extension": ".py",
   "mimetype": "text/x-python",
   "name": "python",
   "nbconvert_exporter": "python",
   "pygments_lexer": "ipython2",
   "version": "2.7.6"
  }
 },
 "nbformat": 4,
 "nbformat_minor": 5
}
