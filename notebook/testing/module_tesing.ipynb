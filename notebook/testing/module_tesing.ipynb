{
 "cells": [
  {
   "cell_type": "code",
   "execution_count": 1,
   "id": "initial_id",
   "metadata": {
    "collapsed": true,
    "ExecuteTime": {
     "end_time": "2024-09-20T20:16:51.391599Z",
     "start_time": "2024-09-20T20:16:50.749476Z"
    }
   },
   "outputs": [],
   "source": [
    "from vietadminunits import parse_address, get_data\n",
    "import pandas as pd\n",
    "import re\n",
    "\n",
    "from unidecode import unidecode"
   ]
  },
  {
   "cell_type": "code",
   "outputs": [
    {
     "data": {
      "text/plain": "AdministrativeUnit:\nAttribute                      | Value                         \n--------------------------------------------------------------\nprovince                       | Hưng Yên                      \ndistrict                       | Văn Giang                     \nward                           | Văn Giang                     \n--------------------------------------------------------------\nlong_province                  | Tỉnh Hưng Yên                 \nlong_district                  | Huyện Văn Giang               \nlong_ward                      | Thị trấn Văn Giang            \n--------------------------------------------------------------\nshort_district                 | Văn Giang                     \nshort_ward                     | Văn Giang                     \n--------------------------------------------------------------\nprovince_english               | Hung Yen                      \ndistrict_english               | Van Giang                     \nward_english                   | Van Giang                     \n--------------------------------------------------------------\nlong_province_english          | Hung Yen Province             \nlong_district_english          | Van Giang District            \nlong_ward_english              | Van Giang Town                \n--------------------------------------------------------------\nshort_district_english         | Van Giang                     \nshort_ward_english             | Van Giang                     \n--------------------------------------------------------------\ndistrict_level                 | Huyện                         \nward_level                     | Thị trấn                      \n--------------------------------------------------------------\ndistrict_level_english         | District                      \nward_level_english             | Town                          "
     },
     "execution_count": 2,
     "metadata": {},
     "output_type": "execute_result"
    }
   ],
   "source": [
    "parse_address('Thị Trấn Văn Giang,Huyện Văn Giang,Tỉnh Hưng Yên')"
   ],
   "metadata": {
    "collapsed": false,
    "ExecuteTime": {
     "end_time": "2024-09-20T20:16:51.400355Z",
     "start_time": "2024-09-20T20:16:51.393265Z"
    }
   },
   "id": "baa59a4759bc3ad",
   "execution_count": 2
  },
  {
   "cell_type": "code",
   "outputs": [
    {
     "data": {
      "text/plain": "AdministrativeUnit:\nAttribute                      | Value                         \n--------------------------------------------------------------\nprovince                       | Hồ Chí Minh                   \ndistrict                       | Quận 7                        \nward                           | Bình Thuận                    \n--------------------------------------------------------------\nlong_province                  | Thành phố Hồ Chí Minh         \nlong_district                  | Quận 7                        \nlong_ward                      | Phường Bình Thuận             \n--------------------------------------------------------------\nshort_district                 | Quận 7                        \nshort_ward                     | Bình Thuận                    \n--------------------------------------------------------------\nprovince_english               | Ho Chi Minh                   \ndistrict_english               | District 7                    \nward_english                   | Binh Thuan                    \n--------------------------------------------------------------\nlong_province_english          | Ho Chi Minh City              \nlong_district_english          | District 7                    \nlong_ward_english              | Binh Thuan Ward               \n--------------------------------------------------------------\nshort_district_english         | District 7                    \nshort_ward_english             | Binh Thuan                    \n--------------------------------------------------------------\ndistrict_level                 | Quận                          \nward_level                     | Phường                        \n--------------------------------------------------------------\ndistrict_level_english         | District                      \nward_level_english             | Ward                          "
     },
     "execution_count": 3,
     "metadata": {},
     "output_type": "execute_result"
    }
   ],
   "source": [
    "parse_address('phuong Binh Thuan quan 7')"
   ],
   "metadata": {
    "collapsed": false,
    "ExecuteTime": {
     "end_time": "2024-09-20T20:16:51.405582Z",
     "start_time": "2024-09-20T20:16:51.401208Z"
    }
   },
   "id": "eadf92fa0adeed1e",
   "execution_count": 3
  },
  {
   "cell_type": "code",
   "outputs": [
    {
     "data": {
      "text/plain": "AdministrativeUnit:\nAttribute                      | Value                         \n--------------------------------------------------------------\nprovince                       | Hồ Chí Minh                   \ndistrict                       | Quận 5                        \nward                           | Phường 2                      \n--------------------------------------------------------------\nlong_province                  | Thành phố Hồ Chí Minh         \nlong_district                  | Quận 5                        \nlong_ward                      | Phường 2                      \n--------------------------------------------------------------\nshort_district                 | Quận 5                        \nshort_ward                     | Phường 2                      \n--------------------------------------------------------------\nprovince_english               | Ho Chi Minh                   \ndistrict_english               | District 5                    \nward_english                   | Ward 2                        \n--------------------------------------------------------------\nlong_province_english          | Ho Chi Minh City              \nlong_district_english          | District 5                    \nlong_ward_english              | Ward 2                        \n--------------------------------------------------------------\nshort_district_english         | District 5                    \nshort_ward_english             | Ward 2                        \n--------------------------------------------------------------\ndistrict_level                 | Quận                          \nward_level                     | Phường                        \n--------------------------------------------------------------\ndistrict_level_english         | District                      \nward_level_english             | Ward                          "
     },
     "execution_count": 4,
     "metadata": {},
     "output_type": "execute_result"
    }
   ],
   "source": [
    "parse_address('p2 q5')"
   ],
   "metadata": {
    "collapsed": false,
    "ExecuteTime": {
     "end_time": "2024-09-20T20:16:51.411759Z",
     "start_time": "2024-09-20T20:16:51.406884Z"
    }
   },
   "id": "9d9b97acec9e9367",
   "execution_count": 4
  },
  {
   "cell_type": "code",
   "outputs": [
    {
     "data": {
      "text/plain": "'Huyện Kỳ Anh'"
     },
     "execution_count": 5,
     "metadata": {},
     "output_type": "execute_result"
    }
   ],
   "source": [
    "parse_address('Huyện Kỳ Anh Hà Tĩnh').district\n",
    "# Có Huyện thì Huyện"
   ],
   "metadata": {
    "collapsed": false,
    "ExecuteTime": {
     "end_time": "2024-09-20T20:16:51.417681Z",
     "start_time": "2024-09-20T20:16:51.414064Z"
    }
   },
   "id": "26341837c1197341",
   "execution_count": 5
  },
  {
   "cell_type": "code",
   "outputs": [
    {
     "data": {
      "text/plain": "'Thị xã Kỳ Anh'"
     },
     "execution_count": 6,
     "metadata": {},
     "output_type": "execute_result"
    }
   ],
   "source": [
    "parse_address('Thị xã Kỳ Anh Hà Tĩnh').district\n",
    "# Có Thị xã thì thị xã"
   ],
   "metadata": {
    "collapsed": false,
    "ExecuteTime": {
     "end_time": "2024-09-20T20:16:51.421873Z",
     "start_time": "2024-09-20T20:16:51.418565Z"
    }
   },
   "id": "2e6b3f55fb191613",
   "execution_count": 6
  },
  {
   "cell_type": "code",
   "outputs": [
    {
     "data": {
      "text/plain": "'Thị xã Kỳ Anh'"
     },
     "execution_count": 7,
     "metadata": {},
     "output_type": "execute_result"
    }
   ],
   "source": [
    "parse_address('tx.Kỳ Anh Hà Tĩnh').district\n",
    "# Có Thị xã thì thị xã"
   ],
   "metadata": {
    "collapsed": false,
    "ExecuteTime": {
     "end_time": "2024-09-20T20:16:51.425489Z",
     "start_time": "2024-09-20T20:16:51.422584Z"
    }
   },
   "id": "a708c1598dddf88e",
   "execution_count": 7
  },
  {
   "cell_type": "code",
   "outputs": [
    {
     "data": {
      "text/plain": "'Thị xã Kỳ Anh'"
     },
     "execution_count": 8,
     "metadata": {},
     "output_type": "execute_result"
    }
   ],
   "source": [
    "parse_address('Kỳ Anh Hà Tĩnh').district\n",
    "# Không có gì thì Google Trend"
   ],
   "metadata": {
    "collapsed": false,
    "ExecuteTime": {
     "end_time": "2024-09-20T20:16:51.429481Z",
     "start_time": "2024-09-20T20:16:51.426182Z"
    }
   },
   "id": "944c2e258f716fce",
   "execution_count": 8
  },
  {
   "cell_type": "code",
   "outputs": [
    {
     "data": {
      "text/plain": "'Thị xã Kỳ Anh'"
     },
     "execution_count": 9,
     "metadata": {},
     "output_type": "execute_result"
    }
   ],
   "source": [
    "parse_address('Kỳ Anh').district\n",
    "# Không có gì thì Google Trend, ko có province luôn cũng được"
   ],
   "metadata": {
    "collapsed": false,
    "ExecuteTime": {
     "end_time": "2024-09-20T20:16:51.433544Z",
     "start_time": "2024-09-20T20:16:51.430583Z"
    }
   },
   "id": "7ee7a24f64e10b5",
   "execution_count": 9
  },
  {
   "cell_type": "code",
   "outputs": [
    {
     "data": {
      "text/plain": "'Thị xã Kỳ Anh'"
     },
     "execution_count": 10,
     "metadata": {},
     "output_type": "execute_result"
    }
   ],
   "source": [
    "parse_address('Hưng Trí, Kỳ Anh').district\n",
    "# Có ward thì auto biết"
   ],
   "metadata": {
    "collapsed": false,
    "ExecuteTime": {
     "end_time": "2024-09-20T20:16:51.437200Z",
     "start_time": "2024-09-20T20:16:51.434378Z"
    }
   },
   "id": "d1f882a48735fb56",
   "execution_count": 10
  },
  {
   "cell_type": "code",
   "outputs": [
    {
     "data": {
      "text/plain": "'Huyện Kỳ Anh'"
     },
     "execution_count": 11,
     "metadata": {},
     "output_type": "execute_result"
    }
   ],
   "source": [
    "parse_address('Kỳ Lạc, Kỳ Anh').district\n",
    "# Có ward thì auto biết"
   ],
   "metadata": {
    "collapsed": false,
    "ExecuteTime": {
     "end_time": "2024-09-20T20:16:51.440898Z",
     "start_time": "2024-09-20T20:16:51.438057Z"
    }
   },
   "id": "5e2960b0dac284b3",
   "execution_count": 11
  },
  {
   "cell_type": "markdown",
   "source": [
    "# Demo"
   ],
   "metadata": {
    "collapsed": false
   },
   "id": "5a2fae1f4817088b"
  },
  {
   "cell_type": "code",
   "outputs": [
    {
     "data": {
      "text/plain": "AdministrativeUnit:\nAttribute                      | Value                         \n--------------------------------------------------------------\nprovince                       | Hồ Chí Minh                   \ndistrict                       | Quận 5                        \nward                           | Phường 2                      \n--------------------------------------------------------------\nlong_province                  | Thành phố Hồ Chí Minh         \nlong_district                  | Quận 5                        \nlong_ward                      | Phường 2                      \n--------------------------------------------------------------\nshort_district                 | Quận 5                        \nshort_ward                     | Phường 2                      \n--------------------------------------------------------------\nprovince_english               | Ho Chi Minh                   \ndistrict_english               | District 5                    \nward_english                   | Ward 2                        \n--------------------------------------------------------------\nlong_province_english          | Ho Chi Minh City              \nlong_district_english          | District 5                    \nlong_ward_english              | Ward 2                        \n--------------------------------------------------------------\nshort_district_english         | District 5                    \nshort_ward_english             | Ward 2                        \n--------------------------------------------------------------\ndistrict_level                 | Quận                          \nward_level                     | Phường                        \n--------------------------------------------------------------\ndistrict_level_english         | District                      \nward_level_english             | Ward                          "
     },
     "execution_count": 12,
     "metadata": {},
     "output_type": "execute_result"
    }
   ],
   "source": [
    "parse_address('p2 q5')"
   ],
   "metadata": {
    "collapsed": false,
    "ExecuteTime": {
     "end_time": "2024-09-20T20:16:51.445292Z",
     "start_time": "2024-09-20T20:16:51.441678Z"
    }
   },
   "id": "364a536daa733e10",
   "execution_count": 12
  },
  {
   "cell_type": "code",
   "outputs": [
    {
     "data": {
      "text/plain": "AdministrativeUnit:\nAttribute                      | Value                         \n--------------------------------------------------------------\nprovince                       | Hồ Chí Minh                   \ndistrict                       | Quận 5                        \nward                           | Phường 2                      \n--------------------------------------------------------------\nlong_province                  | Thành phố Hồ Chí Minh         \nlong_district                  | Quận 5                        \nlong_ward                      | Phường 2                      \n--------------------------------------------------------------\nshort_district                 | Quận 5                        \nshort_ward                     | Phường 2                      \n--------------------------------------------------------------\nprovince_english               | Ho Chi Minh                   \ndistrict_english               | District 5                    \nward_english                   | Ward 2                        \n--------------------------------------------------------------\nlong_province_english          | Ho Chi Minh City              \nlong_district_english          | District 5                    \nlong_ward_english              | Ward 2                        \n--------------------------------------------------------------\nshort_district_english         | District 5                    \nshort_ward_english             | Ward 2                        \n--------------------------------------------------------------\ndistrict_level                 | Quận                          \nward_level                     | Phường                        \n--------------------------------------------------------------\ndistrict_level_english         | District                      \nward_level_english             | Ward                          "
     },
     "execution_count": 13,
     "metadata": {},
     "output_type": "execute_result"
    }
   ],
   "source": [
    "parse_address('duong ab p2 q5')"
   ],
   "metadata": {
    "collapsed": false,
    "ExecuteTime": {
     "end_time": "2024-09-20T20:16:51.449695Z",
     "start_time": "2024-09-20T20:16:51.446254Z"
    }
   },
   "id": "dfec4031da7b0204",
   "execution_count": 13
  },
  {
   "cell_type": "code",
   "outputs": [
    {
     "data": {
      "text/plain": "AdministrativeUnit:\nAttribute                      | Value                         \n--------------------------------------------------------------\nprovince                       | Hồ Chí Minh                   \ndistrict                       | Thủ Đức                       \nward                           |                               \n--------------------------------------------------------------\nlong_province                  | Thành phố Hồ Chí Minh         \nlong_district                  | Thành phố Thủ Đức             \nlong_ward                      |                               \n--------------------------------------------------------------\nshort_district                 | Thủ Đức                       \nshort_ward                     |                               \n--------------------------------------------------------------\nprovince_english               | Ho Chi Minh                   \ndistrict_english               | Thu Duc                       \nward_english                   |                               \n--------------------------------------------------------------\nlong_province_english          | Ho Chi Minh City              \nlong_district_english          | Thu Duc City                  \nlong_ward_english              |                               \n--------------------------------------------------------------\nshort_district_english         | Thu Duc                       \nshort_ward_english             |                               \n--------------------------------------------------------------\ndistrict_level                 | Thành phố                     \nward_level                     |                               \n--------------------------------------------------------------\ndistrict_level_english         | City                          \nward_level_english             |                               "
     },
     "execution_count": 14,
     "metadata": {},
     "output_type": "execute_result"
    }
   ],
   "source": [
    "parse_address('thu duc')"
   ],
   "metadata": {
    "collapsed": false,
    "ExecuteTime": {
     "end_time": "2024-09-20T20:16:51.456783Z",
     "start_time": "2024-09-20T20:16:51.453200Z"
    }
   },
   "id": "eab6dd96ced97284",
   "execution_count": 14
  },
  {
   "cell_type": "code",
   "outputs": [
    {
     "data": {
      "text/plain": "AdministrativeUnit:\nAttribute                      | Value                         \n--------------------------------------------------------------\nprovince                       | Bình Thuận                    \ndistrict                       | Phan Thiết                    \nward                           | Phú Trinh                     \n--------------------------------------------------------------\nlong_province                  | Tỉnh Bình Thuận               \nlong_district                  | Thành phố Phan Thiết          \nlong_ward                      | Phường Phú Trinh              \n--------------------------------------------------------------\nshort_district                 | Phan Thiết                    \nshort_ward                     | Phú Trinh                     \n--------------------------------------------------------------\nprovince_english               | Binh Thuan                    \ndistrict_english               | Phan Thiet                    \nward_english                   | Phu Trinh                     \n--------------------------------------------------------------\nlong_province_english          | Binh Thuan Province           \nlong_district_english          | Phan Thiet City               \nlong_ward_english              | Phu Trinh Ward                \n--------------------------------------------------------------\nshort_district_english         | Phan Thiet                    \nshort_ward_english             | Phu Trinh                     \n--------------------------------------------------------------\ndistrict_level                 | Thành phố                     \nward_level                     | Phường                        \n--------------------------------------------------------------\ndistrict_level_english         | City                          \nward_level_english             | Ward                          "
     },
     "execution_count": 15,
     "metadata": {},
     "output_type": "execute_result"
    }
   ],
   "source": [
    "parse_address('phuong phu trinh, phan thiet, binh thuan')"
   ],
   "metadata": {
    "collapsed": false,
    "ExecuteTime": {
     "end_time": "2024-09-20T20:16:51.461313Z",
     "start_time": "2024-09-20T20:16:51.457824Z"
    }
   },
   "id": "c04344ab4b8ee4fa",
   "execution_count": 15
  },
  {
   "cell_type": "code",
   "outputs": [
    {
     "data": {
      "text/plain": "AdministrativeUnit:\nAttribute                      | Value                         \n--------------------------------------------------------------\nprovince                       | Bến Tre                       \ndistrict                       | Mỏ Cày Bắc                    \nward                           | Hòa Lộc                       \n--------------------------------------------------------------\nlong_province                  | Tỉnh Bến Tre                  \nlong_district                  | Huyện Mỏ Cày Bắc              \nlong_ward                      | Xã Hòa Lộc                    \n--------------------------------------------------------------\nshort_district                 | Mỏ Cày Bắc                    \nshort_ward                     | Hòa Lộc                       \n--------------------------------------------------------------\nprovince_english               | Ben Tre                       \ndistrict_english               | Mo Cay Bac                    \nward_english                   | Hoa Loc                       \n--------------------------------------------------------------\nlong_province_english          | Ben Tre Province              \nlong_district_english          | Mo Cay Bac District           \nlong_ward_english              | Hoa Loc Commune               \n--------------------------------------------------------------\nshort_district_english         | Mo Cay Bac                    \nshort_ward_english             | Hoa Loc                       \n--------------------------------------------------------------\ndistrict_level                 | Huyện                         \nward_level                     | Xã                            \n--------------------------------------------------------------\ndistrict_level_english         | District                      \nward_level_english             | Commune                       "
     },
     "execution_count": 16,
     "metadata": {},
     "output_type": "execute_result"
    }
   ],
   "source": [
    "parse_address('Hoa Loc Mo Cay Ben Tre')"
   ],
   "metadata": {
    "collapsed": false,
    "ExecuteTime": {
     "end_time": "2024-09-20T20:16:51.467160Z",
     "start_time": "2024-09-20T20:16:51.462289Z"
    }
   },
   "id": "365a4401b239bf2a",
   "execution_count": 16
  },
  {
   "cell_type": "code",
   "outputs": [
    {
     "data": {
      "text/plain": "AdministrativeUnit:\nAttribute                      | Value                         \n--------------------------------------------------------------\nprovince                       | Bến Tre                       \ndistrict                       | Mỏ Cày Nam                    \nward                           |                               \n--------------------------------------------------------------\nlong_province                  | Tỉnh Bến Tre                  \nlong_district                  | Huyện Mỏ Cày Nam              \nlong_ward                      |                               \n--------------------------------------------------------------\nshort_district                 | Mỏ Cày Nam                    \nshort_ward                     |                               \n--------------------------------------------------------------\nprovince_english               | Ben Tre                       \ndistrict_english               | Mo Cay Nam                    \nward_english                   |                               \n--------------------------------------------------------------\nlong_province_english          | Ben Tre Province              \nlong_district_english          | Mo Cay Nam District           \nlong_ward_english              |                               \n--------------------------------------------------------------\nshort_district_english         | Mo Cay Nam                    \nshort_ward_english             |                               \n--------------------------------------------------------------\ndistrict_level                 | Huyện                         \nward_level                     |                               \n--------------------------------------------------------------\ndistrict_level_english         | District                      \nward_level_english             |                               "
     },
     "execution_count": 17,
     "metadata": {},
     "output_type": "execute_result"
    }
   ],
   "source": [
    "parse_address('Mo Cay Ben Tre')"
   ],
   "metadata": {
    "collapsed": false,
    "ExecuteTime": {
     "end_time": "2024-09-20T20:16:51.471716Z",
     "start_time": "2024-09-20T20:16:51.468240Z"
    }
   },
   "id": "24467602bfea0b8",
   "execution_count": 17
  },
  {
   "cell_type": "code",
   "outputs": [
    {
     "data": {
      "text/plain": "AdministrativeUnit:\nAttribute                      | Value                         \n--------------------------------------------------------------\nprovince                       | Hà Nội                        \ndistrict                       | Bắc Từ Liêm                   \nward                           | Liên Mạc                      \n--------------------------------------------------------------\nlong_province                  | Thành phố Hà Nội              \nlong_district                  | Quận Bắc Từ Liêm              \nlong_ward                      | Phường Liên Mạc               \n--------------------------------------------------------------\nshort_district                 | Bắc Từ Liêm                   \nshort_ward                     | Liên Mạc                      \n--------------------------------------------------------------\nprovince_english               | Ha Noi                        \ndistrict_english               | Bac Tu Liem                   \nward_english                   | Lien Mac                      \n--------------------------------------------------------------\nlong_province_english          | Ha Noi City                   \nlong_district_english          | Bac Tu Liem District          \nlong_ward_english              | Lien Mac Ward                 \n--------------------------------------------------------------\nshort_district_english         | Bac Tu Liem                   \nshort_ward_english             | Lien Mac                      \n--------------------------------------------------------------\ndistrict_level                 | Quận                          \nward_level                     | Phường                        \n--------------------------------------------------------------\ndistrict_level_english         | District                      \nward_level_english             | Ward                          "
     },
     "execution_count": 18,
     "metadata": {},
     "output_type": "execute_result"
    }
   ],
   "source": [
    "parse_address('Lien Mac Tu Liem Ha Noi')"
   ],
   "metadata": {
    "collapsed": false,
    "ExecuteTime": {
     "end_time": "2024-09-20T20:16:51.476337Z",
     "start_time": "2024-09-20T20:16:51.472452Z"
    }
   },
   "id": "6f717af914a28fa4",
   "execution_count": 18
  },
  {
   "cell_type": "code",
   "outputs": [
    {
     "data": {
      "text/plain": "AdministrativeUnit:\nAttribute                      | Value                         \n--------------------------------------------------------------\nprovince                       | Tiền Giang                    \ndistrict                       | Thị xã Cai Lậy                \nward                           |                               \n--------------------------------------------------------------\nlong_province                  | Tỉnh Tiền Giang               \nlong_district                  | Thị xã Cai Lậy                \nlong_ward                      |                               \n--------------------------------------------------------------\nshort_district                 | Cai Lậy                       \nshort_ward                     |                               \n--------------------------------------------------------------\nprovince_english               | Tien Giang                    \ndistrict_english               | Cai Lay Town                  \nward_english                   |                               \n--------------------------------------------------------------\nlong_province_english          | Tien Giang Province           \nlong_district_english          | Cai Lay Town                  \nlong_ward_english              |                               \n--------------------------------------------------------------\nshort_district_english         | Cai Lay                       \nshort_ward_english             |                               \n--------------------------------------------------------------\ndistrict_level                 | Thị xã                        \nward_level                     |                               \n--------------------------------------------------------------\ndistrict_level_english         | Town                          \nward_level_english             |                               "
     },
     "execution_count": 19,
     "metadata": {},
     "output_type": "execute_result"
    }
   ],
   "source": [
    "parse_address('Cai Lay Tien Giang')"
   ],
   "metadata": {
    "collapsed": false,
    "ExecuteTime": {
     "end_time": "2024-09-20T20:16:51.481409Z",
     "start_time": "2024-09-20T20:16:51.477133Z"
    }
   },
   "id": "6dea19bb8b4df67a",
   "execution_count": 19
  },
  {
   "cell_type": "code",
   "outputs": [
    {
     "data": {
      "text/plain": "AdministrativeUnit:\nAttribute                      | Value                         \n--------------------------------------------------------------\nprovince                       | Hà Tĩnh                       \ndistrict                       | Thị xã Kỳ Anh                 \nward                           |                               \n--------------------------------------------------------------\nlong_province                  | Tỉnh Hà Tĩnh                  \nlong_district                  | Thị xã Kỳ Anh                 \nlong_ward                      |                               \n--------------------------------------------------------------\nshort_district                 | Kỳ Anh                        \nshort_ward                     |                               \n--------------------------------------------------------------\nprovince_english               | Ha Tinh                       \ndistrict_english               | Ky Anh Town                   \nward_english                   |                               \n--------------------------------------------------------------\nlong_province_english          | Ha Tinh Province              \nlong_district_english          | Ky Anh Town                   \nlong_ward_english              |                               \n--------------------------------------------------------------\nshort_district_english         | Ky Anh                        \nshort_ward_english             |                               \n--------------------------------------------------------------\ndistrict_level                 | Thị xã                        \nward_level                     |                               \n--------------------------------------------------------------\ndistrict_level_english         | Town                          \nward_level_english             |                               "
     },
     "execution_count": 20,
     "metadata": {},
     "output_type": "execute_result"
    }
   ],
   "source": [
    "parse_address('ky anh ha tinh')"
   ],
   "metadata": {
    "collapsed": false,
    "ExecuteTime": {
     "end_time": "2024-09-20T20:16:51.485325Z",
     "start_time": "2024-09-20T20:16:51.482223Z"
    }
   },
   "id": "57289afc468afdaa",
   "execution_count": 20
  },
  {
   "cell_type": "code",
   "outputs": [
    {
     "data": {
      "text/plain": "AdministrativeUnit:\nAttribute                      | Value                         \n--------------------------------------------------------------\nprovince                       | Sơn La                        \ndistrict                       | Mai Sơn                       \nward                           | Xã Hát Lót                    \n--------------------------------------------------------------\nlong_province                  | Tỉnh Sơn La                   \nlong_district                  | Huyện Mai Sơn                 \nlong_ward                      | Xã Hát Lót                    \n--------------------------------------------------------------\nshort_district                 | Mai Sơn                       \nshort_ward                     | Hát Lót                       \n--------------------------------------------------------------\nprovince_english               | Son La                        \ndistrict_english               | Mai Son                       \nward_english                   | Hat Lot Commune               \n--------------------------------------------------------------\nlong_province_english          | Son La Province               \nlong_district_english          | Mai Son District              \nlong_ward_english              | Hat Lot Commune               \n--------------------------------------------------------------\nshort_district_english         | Mai Son                       \nshort_ward_english             | Hat Lot                       \n--------------------------------------------------------------\ndistrict_level                 | Huyện                         \nward_level                     | Xã                            \n--------------------------------------------------------------\ndistrict_level_english         | District                      \nward_level_english             | Commune                       "
     },
     "execution_count": 21,
     "metadata": {},
     "output_type": "execute_result"
    }
   ],
   "source": [
    "parse_address('hat lot mai son son la')"
   ],
   "metadata": {
    "collapsed": false,
    "ExecuteTime": {
     "end_time": "2024-09-20T20:16:51.490213Z",
     "start_time": "2024-09-20T20:16:51.486196Z"
    }
   },
   "id": "21305f6aa3f21443",
   "execution_count": 21
  },
  {
   "cell_type": "code",
   "outputs": [
    {
     "data": {
      "text/plain": "AdministrativeUnit:\nAttribute                      | Value                         \n--------------------------------------------------------------\nprovince                       | Cà Mau                        \ndistrict                       | Cà Mau                        \nward                           | Phường Tân Thành              \n--------------------------------------------------------------\nlong_province                  | Tỉnh Cà Mau                   \nlong_district                  | Thành phố Cà Mau              \nlong_ward                      | Phường Tân Thành              \n--------------------------------------------------------------\nshort_district                 | Cà Mau                        \nshort_ward                     | Tân Thành                     \n--------------------------------------------------------------\nprovince_english               | Ca Mau                        \ndistrict_english               | Ca Mau                        \nward_english                   | Tan Thanh Ward                \n--------------------------------------------------------------\nlong_province_english          | Ca Mau Province               \nlong_district_english          | Ca Mau City                   \nlong_ward_english              | Tan Thanh Ward                \n--------------------------------------------------------------\nshort_district_english         | Ca Mau                        \nshort_ward_english             | Tan Thanh                     \n--------------------------------------------------------------\ndistrict_level                 | Thành phố                     \nward_level                     | Phường                        \n--------------------------------------------------------------\ndistrict_level_english         | City                          \nward_level_english             | Ward                          "
     },
     "execution_count": 22,
     "metadata": {},
     "output_type": "execute_result"
    }
   ],
   "source": [
    "parse_address('phuong Tan Thanh, Ca Mau, Ca Mau')"
   ],
   "metadata": {
    "collapsed": false,
    "ExecuteTime": {
     "end_time": "2024-09-20T20:16:51.495002Z",
     "start_time": "2024-09-20T20:16:51.491092Z"
    }
   },
   "id": "745e840418e26c0b",
   "execution_count": 22
  },
  {
   "cell_type": "code",
   "outputs": [
    {
     "data": {
      "text/plain": "AdministrativeUnit:\nAttribute                      | Value                         \n--------------------------------------------------------------\nprovince                       | Hà Nội                        \ndistrict                       | Thanh Xuân                    \nward                           | Thượng Đình                   \n--------------------------------------------------------------\nlong_province                  | Thành phố Hà Nội              \nlong_district                  | Quận Thanh Xuân               \nlong_ward                      | Phường Thượng Đình            \n--------------------------------------------------------------\nshort_district                 | Thanh Xuân                    \nshort_ward                     | Thượng Đình                   \n--------------------------------------------------------------\nprovince_english               | Ha Noi                        \ndistrict_english               | Thanh Xuan                    \nward_english                   | Thuong Dinh                   \n--------------------------------------------------------------\nlong_province_english          | Ha Noi City                   \nlong_district_english          | Thanh Xuan District           \nlong_ward_english              | Thuong Dinh Ward              \n--------------------------------------------------------------\nshort_district_english         | Thanh Xuan                    \nshort_ward_english             | Thuong Dinh                   \n--------------------------------------------------------------\ndistrict_level                 | Quận                          \nward_level                     | Phường                        \n--------------------------------------------------------------\ndistrict_level_english         | District                      \nward_level_english             | Ward                          "
     },
     "execution_count": 23,
     "metadata": {},
     "output_type": "execute_result"
    }
   ],
   "source": [
    "parse_address('Ngã Tư Sở Market, Đường Nguyễn Trãi, Thượng Đình Số nhà 28A, Ngõ 72 Nguyễn Trãi , , Phường Thượng Đình, Quận Thanh Xuân , Hà Nội Quận Thanh Xuân')"
   ],
   "metadata": {
    "collapsed": false,
    "ExecuteTime": {
     "end_time": "2024-09-20T20:16:51.500625Z",
     "start_time": "2024-09-20T20:16:51.495902Z"
    }
   },
   "id": "ccfcb3feb70b601d",
   "execution_count": 23
  },
  {
   "cell_type": "code",
   "outputs": [
    {
     "data": {
      "text/plain": "AdministrativeUnit:\nAttribute                      | Value                         \n--------------------------------------------------------------\nprovince                       | Hà Nội                        \ndistrict                       | Bắc Từ Liêm                   \nward                           | Phú Diễn                      \n--------------------------------------------------------------\nlong_province                  | Thành phố Hà Nội              \nlong_district                  | Quận Bắc Từ Liêm              \nlong_ward                      | Phường Phú Diễn               \n--------------------------------------------------------------\nshort_district                 | Bắc Từ Liêm                   \nshort_ward                     | Phú Diễn                      \n--------------------------------------------------------------\nprovince_english               | Ha Noi                        \ndistrict_english               | Bac Tu Liem                   \nward_english                   | Phu Dien                      \n--------------------------------------------------------------\nlong_province_english          | Ha Noi City                   \nlong_district_english          | Bac Tu Liem District          \nlong_ward_english              | Phu Dien Ward                 \n--------------------------------------------------------------\nshort_district_english         | Bac Tu Liem                   \nshort_ward_english             | Phu Dien                      \n--------------------------------------------------------------\ndistrict_level                 | Quận                          \nward_level                     | Phường                        \n--------------------------------------------------------------\ndistrict_level_english         | District                      \nward_level_english             | Ward                          "
     },
     "execution_count": 24,
     "metadata": {},
     "output_type": "execute_result"
    }
   ],
   "source": [
    "parse_address('Cuối đường kiều mai, dự án bệnh viện hạnh phúc  phường phú diễn quận bắc từ liêm hà nội')"
   ],
   "metadata": {
    "collapsed": false,
    "ExecuteTime": {
     "end_time": "2024-09-20T20:16:51.505021Z",
     "start_time": "2024-09-20T20:16:51.501532Z"
    }
   },
   "id": "ac59fdbd592726a1",
   "execution_count": 24
  },
  {
   "cell_type": "code",
   "outputs": [
    {
     "data": {
      "text/plain": "AdministrativeUnit:\nAttribute                      | Value                         \n--------------------------------------------------------------\nprovince                       | Đà Nẵng                       \ndistrict                       | Sơn Trà                       \nward                           | An Hải Bắc                    \n--------------------------------------------------------------\nlong_province                  | Thành phố Đà Nẵng             \nlong_district                  | Quận Sơn Trà                  \nlong_ward                      | Phường An Hải Bắc             \n--------------------------------------------------------------\nshort_district                 | Sơn Trà                       \nshort_ward                     | An Hải Bắc                    \n--------------------------------------------------------------\nprovince_english               | Da Nang                       \ndistrict_english               | Son Tra                       \nward_english                   | An Hai Bac                    \n--------------------------------------------------------------\nlong_province_english          | Da Nang City                  \nlong_district_english          | Son Tra District              \nlong_ward_english              | An Hai Bac Ward               \n--------------------------------------------------------------\nshort_district_english         | Son Tra                       \nshort_ward_english             | An Hai Bac                    \n--------------------------------------------------------------\ndistrict_level                 | Quận                          \nward_level                     | Phường                        \n--------------------------------------------------------------\ndistrict_level_english         | District                      \nward_level_english             | Ward                          "
     },
     "execution_count": 25,
     "metadata": {},
     "output_type": "execute_result"
    }
   ],
   "source": [
    "parse_address('03 Nguyễn Cao Luyện, An Hải Bắc, Sơn Trà, Đà Nẵng 550000, Việt Nam')"
   ],
   "metadata": {
    "collapsed": false,
    "ExecuteTime": {
     "end_time": "2024-09-20T20:16:51.510038Z",
     "start_time": "2024-09-20T20:16:51.505965Z"
    }
   },
   "id": "6fb98f74ac0bdf8d",
   "execution_count": 25
  },
  {
   "cell_type": "code",
   "outputs": [
    {
     "data": {
      "text/plain": "AdministrativeUnit:\nAttribute                      | Value                         \n--------------------------------------------------------------\nprovince                       | Hồ Chí Minh                   \ndistrict                       | Bình Chánh                    \nward                           | Phạm Văn Hai                  \n--------------------------------------------------------------\nlong_province                  | Thành phố Hồ Chí Minh         \nlong_district                  | Huyện Bình Chánh              \nlong_ward                      | Xã Phạm Văn Hai               \n--------------------------------------------------------------\nshort_district                 | Bình Chánh                    \nshort_ward                     | Phạm Văn Hai                  \n--------------------------------------------------------------\nprovince_english               | Ho Chi Minh                   \ndistrict_english               | Binh Chanh                    \nward_english                   | Pham Van Hai                  \n--------------------------------------------------------------\nlong_province_english          | Ho Chi Minh City              \nlong_district_english          | Binh Chanh District           \nlong_ward_english              | Pham Van Hai Commune          \n--------------------------------------------------------------\nshort_district_english         | Binh Chanh                    \nshort_ward_english             | Pham Van Hai                  \n--------------------------------------------------------------\ndistrict_level                 | Huyện                         \nward_level                     | Xã                            \n--------------------------------------------------------------\ndistrict_level_english         | District                      \nward_level_english             | Commune                       "
     },
     "execution_count": 26,
     "metadata": {},
     "output_type": "execute_result"
    }
   ],
   "source": [
    "parse_address('3c60/10 chợ cầu xấng, xã phạm văn hai, huyện bình chánh HCM')"
   ],
   "metadata": {
    "collapsed": false,
    "ExecuteTime": {
     "end_time": "2024-09-20T20:16:51.514935Z",
     "start_time": "2024-09-20T20:16:51.510845Z"
    }
   },
   "id": "960a61d68549fa75",
   "execution_count": 26
  },
  {
   "cell_type": "code",
   "outputs": [
    {
     "data": {
      "text/plain": "AdministrativeUnit:\nAttribute                      | Value                         \n--------------------------------------------------------------\nprovince                       | Hà Nội                        \ndistrict                       | Nam Từ Liêm                   \nward                           | Mỹ Đình 2                     \n--------------------------------------------------------------\nlong_province                  | Thành phố Hà Nội              \nlong_district                  | Quận Nam Từ Liêm              \nlong_ward                      | Phường Mỹ Đình 2              \n--------------------------------------------------------------\nshort_district                 | Nam Từ Liêm                   \nshort_ward                     | Mỹ Đình 2                     \n--------------------------------------------------------------\nprovince_english               | Ha Noi                        \ndistrict_english               | Nam Tu Liem                   \nward_english                   | My Dinh 2                     \n--------------------------------------------------------------\nlong_province_english          | Ha Noi City                   \nlong_district_english          | Nam Tu Liem District          \nlong_ward_english              | My Dinh 2 Ward                \n--------------------------------------------------------------\nshort_district_english         | Nam Tu Liem                   \nshort_ward_english             | My Dinh 2                     \n--------------------------------------------------------------\ndistrict_level                 | Quận                          \nward_level                     | Phường                        \n--------------------------------------------------------------\ndistrict_level_english         | District                      \nward_level_english             | Ward                          "
     },
     "execution_count": 27,
     "metadata": {},
     "output_type": "execute_result"
    }
   ],
   "source": [
    "parse_address('ngõ 154 Đình Thôn, phường Mỹ Đình 2, Quận Nam Từ Liêm, HN')"
   ],
   "metadata": {
    "collapsed": false,
    "ExecuteTime": {
     "end_time": "2024-09-20T20:16:51.519736Z",
     "start_time": "2024-09-20T20:16:51.515653Z"
    }
   },
   "id": "7ab4dc3d2c704933",
   "execution_count": 27
  },
  {
   "cell_type": "code",
   "outputs": [
    {
     "data": {
      "text/plain": "AdministrativeUnit:\nAttribute                      | Value                         \n--------------------------------------------------------------\nprovince                       | Hà Nội                        \ndistrict                       | Gia Lâm                       \nward                           | Xã Yên Viên                   \n--------------------------------------------------------------\nlong_province                  | Thành phố Hà Nội              \nlong_district                  | Huyện Gia Lâm                 \nlong_ward                      | Xã Yên Viên                   \n--------------------------------------------------------------\nshort_district                 | Gia Lâm                       \nshort_ward                     | Yên Viên                      \n--------------------------------------------------------------\nprovince_english               | Ha Noi                        \ndistrict_english               | Gia Lam                       \nward_english                   | Yen Vien Commune              \n--------------------------------------------------------------\nlong_province_english          | Ha Noi City                   \nlong_district_english          | Gia Lam District              \nlong_ward_english              | Yen Vien Commune              \n--------------------------------------------------------------\nshort_district_english         | Gia Lam                       \nshort_ward_english             | Yen Vien                      \n--------------------------------------------------------------\ndistrict_level                 | Huyện                         \nward_level                     | Xã                            \n--------------------------------------------------------------\ndistrict_level_english         | District                      \nward_level_english             | Commune                       "
     },
     "execution_count": 28,
     "metadata": {},
     "output_type": "execute_result"
    }
   ],
   "source": [
    "parse_address('Ha Noi, Gia Lam, Yen Vien')"
   ],
   "metadata": {
    "collapsed": false,
    "ExecuteTime": {
     "end_time": "2024-09-20T20:16:51.524423Z",
     "start_time": "2024-09-20T20:16:51.520509Z"
    }
   },
   "id": "8928a354ab16a274",
   "execution_count": 28
  },
  {
   "cell_type": "code",
   "outputs": [
    {
     "data": {
      "text/plain": "AdministrativeUnit:\nAttribute                      | Value                         \n--------------------------------------------------------------\nprovince                       | Lào Cai                       \ndistrict                       | Bảo Thắng                     \nward                           | N.T Phong Hải                 \n--------------------------------------------------------------\nlong_province                  | Tỉnh Lào Cai                  \nlong_district                  | Huyện Bảo Thắng               \nlong_ward                      | Thị trấn N.T Phong Hải        \n--------------------------------------------------------------\nshort_district                 | Bảo Thắng                     \nshort_ward                     | N.T Phong Hải                 \n--------------------------------------------------------------\nprovince_english               | Lao Cai                       \ndistrict_english               | Bao Thang                     \nward_english                   | N.T Phong Hai                 \n--------------------------------------------------------------\nlong_province_english          | Lao Cai Province              \nlong_district_english          | Bao Thang District            \nlong_ward_english              | N.T Phong Hai Town            \n--------------------------------------------------------------\nshort_district_english         | Bao Thang                     \nshort_ward_english             | N.T Phong Hai                 \n--------------------------------------------------------------\ndistrict_level                 | Huyện                         \nward_level                     | Thị trấn                      \n--------------------------------------------------------------\ndistrict_level_english         | District                      \nward_level_english             | Town                          "
     },
     "execution_count": 29,
     "metadata": {},
     "output_type": "execute_result"
    }
   ],
   "source": [
    "parse_address('Thị trấn N.T Phong Hải, Huyện Bảo Thắng, Tỉnh Lào Cai')"
   ],
   "metadata": {
    "collapsed": false,
    "ExecuteTime": {
     "end_time": "2024-09-20T20:16:51.530630Z",
     "start_time": "2024-09-20T20:16:51.525681Z"
    }
   },
   "id": "972e0adf53ad859a",
   "execution_count": 29
  },
  {
   "cell_type": "markdown",
   "source": [
    "# Check wrong or missing in bulk"
   ],
   "metadata": {
    "collapsed": false
   },
   "id": "3f7ebf254ffba569"
  },
  {
   "cell_type": "code",
   "outputs": [],
   "source": [
    "df = pd.read_csv('../../data/input/danhmuchanhchinhgso.gov.vn.csv')\n",
    "df.loc[(df.long_province=='Tỉnh Đắk Lắk') & (df.long_ward==\"Xã Ea H'đinh\"), 'long_ward'] = \"Xã Ea H'đing\""
   ],
   "metadata": {
    "collapsed": false,
    "ExecuteTime": {
     "end_time": "2024-09-20T20:16:51.565736Z",
     "start_time": "2024-09-20T20:16:51.531624Z"
    }
   },
   "id": "19018c4a3a7f3491",
   "execution_count": 30
  },
  {
   "cell_type": "code",
   "outputs": [],
   "source": [
    "df['district_address'] = df['long_district'] + ', ' + df['long_province']\n",
    "district_addresses = df['district_address'].tolist()\n",
    "\n",
    "for address in district_addresses:\n",
    "    try:\n",
    "        unit = parse_address(address, level=2)\n",
    "    except:\n",
    "        print(address)\n",
    "    if unit.province == None:\n",
    "        print(address)\n",
    "    elif unit.district == None:\n",
    "        print(address)"
   ],
   "metadata": {
    "collapsed": false,
    "ExecuteTime": {
     "end_time": "2024-09-20T20:16:52.044970Z",
     "start_time": "2024-09-20T20:16:51.567228Z"
    }
   },
   "id": "10f1c4f277648450",
   "execution_count": 31
  },
  {
   "cell_type": "code",
   "outputs": [],
   "source": [
    "df['ward_address'] = df['long_ward'].fillna('') + ', ' + df['long_district'] + ', ' + df['long_province']\n",
    "ward_addresses = df['ward_address'].dropna().tolist()\n",
    "miss = []\n",
    "for ward_address in ward_addresses:\n",
    "    try:\n",
    "        unit = parse_address(ward_address, level=3)\n",
    "    except Exception as e:\n",
    "        print(ward_address)\n",
    "        raise e\n",
    "\n",
    "    if unit.province == None:\n",
    "        print(ward_address)\n",
    "    elif unit.district == None:\n",
    "        print(ward_address)\n",
    "    elif unit.ward == None and unit.district_key not in ['bachlongvi', 'conco', 'hoangsa', 'lyson', 'condao']:\n",
    "        print(ward_address)\n"
   ],
   "metadata": {
    "collapsed": false,
    "ExecuteTime": {
     "end_time": "2024-09-20T20:16:52.595196Z",
     "start_time": "2024-09-20T20:16:52.046238Z"
    }
   },
   "id": "2ce0c17cd4128a3f",
   "execution_count": 32
  },
  {
   "cell_type": "code",
   "outputs": [
    {
     "data": {
      "text/plain": "AdministrativeUnit:\nAttribute                      | Value                         \n--------------------------------------------------------------\nprovince                       | Quảng Nam                     \ndistrict                       | Tây Giang                     \nward                           | A Xan                         \n--------------------------------------------------------------\nlong_province                  | Tỉnh Quảng Nam                \nlong_district                  | Huyện Tây Giang               \nlong_ward                      | Xã A Xan                      \n--------------------------------------------------------------\nshort_district                 | Tây Giang                     \nshort_ward                     | A Xan                         \n--------------------------------------------------------------\nprovince_english               | Quang Nam                     \ndistrict_english               | Tay Giang                     \nward_english                   | A Xan                         \n--------------------------------------------------------------\nlong_province_english          | Quang Nam Province            \nlong_district_english          | Tay Giang District            \nlong_ward_english              | A Xan Commune                 \n--------------------------------------------------------------\nshort_district_english         | Tay Giang                     \nshort_ward_english             | A Xan                         \n--------------------------------------------------------------\ndistrict_level                 | Huyện                         \nward_level                     | Xã                            \n--------------------------------------------------------------\ndistrict_level_english         | District                      \nward_level_english             | Commune                       "
     },
     "execution_count": 33,
     "metadata": {},
     "output_type": "execute_result"
    }
   ],
   "source": [
    "parse_address('Xã A Xan, Huyện Tây Giang, Tỉnh Quảng Nam')"
   ],
   "metadata": {
    "collapsed": false,
    "ExecuteTime": {
     "end_time": "2024-09-20T20:16:52.599915Z",
     "start_time": "2024-09-20T20:16:52.596267Z"
    }
   },
   "id": "77a8aed4601a51fe",
   "execution_count": 33
  },
  {
   "cell_type": "code",
   "outputs": [
    {
     "data": {
      "text/plain": "AdministrativeUnit:\nAttribute                      | Value                         \n--------------------------------------------------------------\nprovince                       | Tuyên Quang                   \ndistrict                       | Sơn Dương                     \nward                           |                               \n--------------------------------------------------------------\nlong_province                  | Tỉnh Tuyên Quang              \nlong_district                  | Huyện Sơn Dương               \nlong_ward                      |                               \n--------------------------------------------------------------\nshort_district                 | Sơn Dương                     \nshort_ward                     |                               \n--------------------------------------------------------------\nprovince_english               | Tuyen Quang                   \ndistrict_english               | Son Duong                     \nward_english                   |                               \n--------------------------------------------------------------\nlong_province_english          | Tuyen Quang Province          \nlong_district_english          | Son Duong District            \nlong_ward_english              |                               \n--------------------------------------------------------------\nshort_district_english         | Son Duong                     \nshort_ward_english             |                               \n--------------------------------------------------------------\ndistrict_level                 | Huyện                         \nward_level                     |                               \n--------------------------------------------------------------\ndistrict_level_english         | District                      \nward_level_english             |                               "
     },
     "execution_count": 34,
     "metadata": {},
     "output_type": "execute_result"
    }
   ],
   "source": [
    "parse_address('Huyện Sơn Dương, Tỉnh Tuyên Quang')"
   ],
   "metadata": {
    "collapsed": false,
    "ExecuteTime": {
     "end_time": "2024-09-20T20:16:52.604850Z",
     "start_time": "2024-09-20T20:16:52.600854Z"
    }
   },
   "id": "75106f16637f3d36",
   "execution_count": 34
  },
  {
   "cell_type": "code",
   "outputs": [
    {
     "data": {
      "text/plain": "AdministrativeUnit:\nAttribute                      | Value                         \n--------------------------------------------------------------\nprovince                       | Nghệ An                       \ndistrict                       | Thanh Chương                  \nward                           | Thanh Chương                  \n--------------------------------------------------------------\nlong_province                  | Tỉnh Nghệ An                  \nlong_district                  | Huyện Thanh Chương            \nlong_ward                      | Thị trấn Thanh Chương         \n--------------------------------------------------------------\nshort_district                 | Thanh Chương                  \nshort_ward                     | Thanh Chương                  \n--------------------------------------------------------------\nprovince_english               | Nghe An                       \ndistrict_english               | Thanh Chuong                  \nward_english                   | Thanh Chuong                  \n--------------------------------------------------------------\nlong_province_english          | Nghe An Province              \nlong_district_english          | Thanh Chuong District         \nlong_ward_english              | Thanh Chuong Town             \n--------------------------------------------------------------\nshort_district_english         | Thanh Chuong                  \nshort_ward_english             | Thanh Chuong                  \n--------------------------------------------------------------\ndistrict_level                 | Huyện                         \nward_level                     | Thị trấn                      \n--------------------------------------------------------------\ndistrict_level_english         | District                      \nward_level_english             | Town                          "
     },
     "execution_count": 35,
     "metadata": {},
     "output_type": "execute_result"
    }
   ],
   "source": [
    "parse_address('Thị trấn Thanh Chương, Huyện Thanh Chương, Tỉnh Nghệ An')"
   ],
   "metadata": {
    "collapsed": false,
    "ExecuteTime": {
     "end_time": "2024-09-20T20:16:52.608847Z",
     "start_time": "2024-09-20T20:16:52.605756Z"
    }
   },
   "id": "3cb49da069f6acd4",
   "execution_count": 35
  },
  {
   "cell_type": "code",
   "outputs": [],
   "source": [
    "from vietadminunits import get_data"
   ],
   "metadata": {
    "collapsed": false,
    "ExecuteTime": {
     "end_time": "2024-09-20T20:16:52.611884Z",
     "start_time": "2024-09-20T20:16:52.609908Z"
    }
   },
   "id": "e4c1c60cc46a6fce",
   "execution_count": 36
  },
  {
   "cell_type": "code",
   "outputs": [],
   "source": [
    "df_test = pd.DataFrame(get_data())"
   ],
   "metadata": {
    "collapsed": false,
    "ExecuteTime": {
     "end_time": "2024-09-20T20:16:52.817831Z",
     "start_time": "2024-09-20T20:16:52.612759Z"
    }
   },
   "id": "eb002768635b162f",
   "execution_count": 37
  },
  {
   "cell_type": "code",
   "outputs": [
    {
     "data": {
      "text/plain": "Empty DataFrame\nColumns: [province, district, ward, long_province, long_district, long_ward, short_district, short_ward, province_english, district_english, ward_english, long_province_english, long_district_english, long_ward_english, short_district_english, short_ward_english, district_level, ward_level, district_level_english, ward_level_english]\nIndex: []",
      "text/html": "<div>\n<style scoped>\n    .dataframe tbody tr th:only-of-type {\n        vertical-align: middle;\n    }\n\n    .dataframe tbody tr th {\n        vertical-align: top;\n    }\n\n    .dataframe thead th {\n        text-align: right;\n    }\n</style>\n<table border=\"1\" class=\"dataframe\">\n  <thead>\n    <tr style=\"text-align: right;\">\n      <th></th>\n      <th>province</th>\n      <th>district</th>\n      <th>ward</th>\n      <th>long_province</th>\n      <th>long_district</th>\n      <th>long_ward</th>\n      <th>short_district</th>\n      <th>short_ward</th>\n      <th>province_english</th>\n      <th>district_english</th>\n      <th>ward_english</th>\n      <th>long_province_english</th>\n      <th>long_district_english</th>\n      <th>long_ward_english</th>\n      <th>short_district_english</th>\n      <th>short_ward_english</th>\n      <th>district_level</th>\n      <th>ward_level</th>\n      <th>district_level_english</th>\n      <th>ward_level_english</th>\n    </tr>\n  </thead>\n  <tbody>\n  </tbody>\n</table>\n</div>"
     },
     "execution_count": 38,
     "metadata": {},
     "output_type": "execute_result"
    }
   ],
   "source": [
    "df_test[df_test.district_english.fillna('').str.startswith('Huyen ')]"
   ],
   "metadata": {
    "collapsed": false,
    "ExecuteTime": {
     "end_time": "2024-09-20T20:16:52.842032Z",
     "start_time": "2024-09-20T20:16:52.819329Z"
    }
   },
   "id": "a24522748d879941",
   "execution_count": 38
  },
  {
   "cell_type": "code",
   "outputs": [
    {
     "data": {
      "text/plain": "     province       district        ward long_province  \\\n7687  Đắk Lắk  Buôn Ma Thuột     Tân Lập  Tỉnh Đắk Lắk   \n7688  Đắk Lắk  Buôn Ma Thuột     Tân Hòa  Tỉnh Đắk Lắk   \n7689  Đắk Lắk  Buôn Ma Thuột      Tân An  Tỉnh Đắk Lắk   \n7690  Đắk Lắk  Buôn Ma Thuột  Thống Nhất  Tỉnh Đắk Lắk   \n7691  Đắk Lắk  Buôn Ma Thuột  Thành Nhất  Tỉnh Đắk Lắk   \n...       ...            ...         ...           ...   \n7866  Đắk Lắk        Cư Kuin     Ea Tiêu  Tỉnh Đắk Lắk   \n7867  Đắk Lắk        Cư Kuin     Ea BHốk  Tỉnh Đắk Lắk   \n7868  Đắk Lắk        Cư Kuin       Ea Hu  Tỉnh Đắk Lắk   \n7869  Đắk Lắk        Cư Kuin  Dray Bhăng  Tỉnh Đắk Lắk   \n7870  Đắk Lắk        Cư Kuin    Hòa Hiệp  Tỉnh Đắk Lắk   \n\n                long_district          long_ward short_district  short_ward  \\\n7687  Thành phố Buôn Ma Thuột     Phường Tân Lập  Buôn Ma Thuột     Tân Lập   \n7688  Thành phố Buôn Ma Thuột     Phường Tân Hòa  Buôn Ma Thuột     Tân Hòa   \n7689  Thành phố Buôn Ma Thuột      Phường Tân An  Buôn Ma Thuột      Tân An   \n7690  Thành phố Buôn Ma Thuột  Phường Thống Nhất  Buôn Ma Thuột  Thống Nhất   \n7691  Thành phố Buôn Ma Thuột  Phường Thành Nhất  Buôn Ma Thuột  Thành Nhất   \n...                       ...                ...            ...         ...   \n7866            Huyện Cư Kuin         Xã Ea Tiêu        Cư Kuin     Ea Tiêu   \n7867            Huyện Cư Kuin         Xã Ea BHốk        Cư Kuin     Ea BHốk   \n7868            Huyện Cư Kuin           Xã Ea Hu        Cư Kuin       Ea Hu   \n7869            Huyện Cư Kuin      Xã Dray Bhăng        Cư Kuin  Dray Bhăng   \n7870            Huyện Cư Kuin        Xã Hòa Hiệp        Cư Kuin    Hòa Hiệp   \n\n     province_english district_english ward_english long_province_english  \\\n7687          Dak Lak    Buon Ma Thuot      Tan Lap      Dak Lak Province   \n7688          Dak Lak    Buon Ma Thuot      Tan Hoa      Dak Lak Province   \n7689          Dak Lak    Buon Ma Thuot       Tan An      Dak Lak Province   \n7690          Dak Lak    Buon Ma Thuot   Thong Nhat      Dak Lak Province   \n7691          Dak Lak    Buon Ma Thuot   Thanh Nhat      Dak Lak Province   \n...               ...              ...          ...                   ...   \n7866          Dak Lak          Cu Kuin      Ea Tieu      Dak Lak Province   \n7867          Dak Lak          Cu Kuin      Ea BHok      Dak Lak Province   \n7868          Dak Lak          Cu Kuin        Ea Hu      Dak Lak Province   \n7869          Dak Lak          Cu Kuin   Dray Bhang      Dak Lak Province   \n7870          Dak Lak          Cu Kuin     Hoa Hiep      Dak Lak Province   \n\n     long_district_english   long_ward_english short_district_english  \\\n7687    Buon Ma Thuot City        Tan Lap Ward          Buon Ma Thuot   \n7688    Buon Ma Thuot City        Tan Hoa Ward          Buon Ma Thuot   \n7689    Buon Ma Thuot City         Tan An Ward          Buon Ma Thuot   \n7690    Buon Ma Thuot City     Thong Nhat Ward          Buon Ma Thuot   \n7691    Buon Ma Thuot City     Thanh Nhat Ward          Buon Ma Thuot   \n...                    ...                 ...                    ...   \n7866      Cu Kuin District     Ea Tieu Commune                Cu Kuin   \n7867      Cu Kuin District     Ea BHok Commune                Cu Kuin   \n7868      Cu Kuin District       Ea Hu Commune                Cu Kuin   \n7869      Cu Kuin District  Dray Bhang Commune                Cu Kuin   \n7870      Cu Kuin District    Hoa Hiep Commune                Cu Kuin   \n\n     short_ward_english district_level ward_level district_level_english  \\\n7687            Tan Lap      Thành phố     Phường                   City   \n7688            Tan Hoa      Thành phố     Phường                   City   \n7689             Tan An      Thành phố     Phường                   City   \n7690         Thong Nhat      Thành phố     Phường                   City   \n7691         Thanh Nhat      Thành phố     Phường                   City   \n...                 ...            ...        ...                    ...   \n7866            Ea Tieu          Huyện         Xã               District   \n7867            Ea BHok          Huyện         Xã               District   \n7868              Ea Hu          Huyện         Xã               District   \n7869         Dray Bhang          Huyện         Xã               District   \n7870           Hoa Hiep          Huyện         Xã               District   \n\n     ward_level_english  \n7687               Ward  \n7688               Ward  \n7689               Ward  \n7690               Ward  \n7691               Ward  \n...                 ...  \n7866            Commune  \n7867            Commune  \n7868            Commune  \n7869            Commune  \n7870            Commune  \n\n[184 rows x 20 columns]",
      "text/html": "<div>\n<style scoped>\n    .dataframe tbody tr th:only-of-type {\n        vertical-align: middle;\n    }\n\n    .dataframe tbody tr th {\n        vertical-align: top;\n    }\n\n    .dataframe thead th {\n        text-align: right;\n    }\n</style>\n<table border=\"1\" class=\"dataframe\">\n  <thead>\n    <tr style=\"text-align: right;\">\n      <th></th>\n      <th>province</th>\n      <th>district</th>\n      <th>ward</th>\n      <th>long_province</th>\n      <th>long_district</th>\n      <th>long_ward</th>\n      <th>short_district</th>\n      <th>short_ward</th>\n      <th>province_english</th>\n      <th>district_english</th>\n      <th>ward_english</th>\n      <th>long_province_english</th>\n      <th>long_district_english</th>\n      <th>long_ward_english</th>\n      <th>short_district_english</th>\n      <th>short_ward_english</th>\n      <th>district_level</th>\n      <th>ward_level</th>\n      <th>district_level_english</th>\n      <th>ward_level_english</th>\n    </tr>\n  </thead>\n  <tbody>\n    <tr>\n      <th>7687</th>\n      <td>Đắk Lắk</td>\n      <td>Buôn Ma Thuột</td>\n      <td>Tân Lập</td>\n      <td>Tỉnh Đắk Lắk</td>\n      <td>Thành phố Buôn Ma Thuột</td>\n      <td>Phường Tân Lập</td>\n      <td>Buôn Ma Thuột</td>\n      <td>Tân Lập</td>\n      <td>Dak Lak</td>\n      <td>Buon Ma Thuot</td>\n      <td>Tan Lap</td>\n      <td>Dak Lak Province</td>\n      <td>Buon Ma Thuot City</td>\n      <td>Tan Lap Ward</td>\n      <td>Buon Ma Thuot</td>\n      <td>Tan Lap</td>\n      <td>Thành phố</td>\n      <td>Phường</td>\n      <td>City</td>\n      <td>Ward</td>\n    </tr>\n    <tr>\n      <th>7688</th>\n      <td>Đắk Lắk</td>\n      <td>Buôn Ma Thuột</td>\n      <td>Tân Hòa</td>\n      <td>Tỉnh Đắk Lắk</td>\n      <td>Thành phố Buôn Ma Thuột</td>\n      <td>Phường Tân Hòa</td>\n      <td>Buôn Ma Thuột</td>\n      <td>Tân Hòa</td>\n      <td>Dak Lak</td>\n      <td>Buon Ma Thuot</td>\n      <td>Tan Hoa</td>\n      <td>Dak Lak Province</td>\n      <td>Buon Ma Thuot City</td>\n      <td>Tan Hoa Ward</td>\n      <td>Buon Ma Thuot</td>\n      <td>Tan Hoa</td>\n      <td>Thành phố</td>\n      <td>Phường</td>\n      <td>City</td>\n      <td>Ward</td>\n    </tr>\n    <tr>\n      <th>7689</th>\n      <td>Đắk Lắk</td>\n      <td>Buôn Ma Thuột</td>\n      <td>Tân An</td>\n      <td>Tỉnh Đắk Lắk</td>\n      <td>Thành phố Buôn Ma Thuột</td>\n      <td>Phường Tân An</td>\n      <td>Buôn Ma Thuột</td>\n      <td>Tân An</td>\n      <td>Dak Lak</td>\n      <td>Buon Ma Thuot</td>\n      <td>Tan An</td>\n      <td>Dak Lak Province</td>\n      <td>Buon Ma Thuot City</td>\n      <td>Tan An Ward</td>\n      <td>Buon Ma Thuot</td>\n      <td>Tan An</td>\n      <td>Thành phố</td>\n      <td>Phường</td>\n      <td>City</td>\n      <td>Ward</td>\n    </tr>\n    <tr>\n      <th>7690</th>\n      <td>Đắk Lắk</td>\n      <td>Buôn Ma Thuột</td>\n      <td>Thống Nhất</td>\n      <td>Tỉnh Đắk Lắk</td>\n      <td>Thành phố Buôn Ma Thuột</td>\n      <td>Phường Thống Nhất</td>\n      <td>Buôn Ma Thuột</td>\n      <td>Thống Nhất</td>\n      <td>Dak Lak</td>\n      <td>Buon Ma Thuot</td>\n      <td>Thong Nhat</td>\n      <td>Dak Lak Province</td>\n      <td>Buon Ma Thuot City</td>\n      <td>Thong Nhat Ward</td>\n      <td>Buon Ma Thuot</td>\n      <td>Thong Nhat</td>\n      <td>Thành phố</td>\n      <td>Phường</td>\n      <td>City</td>\n      <td>Ward</td>\n    </tr>\n    <tr>\n      <th>7691</th>\n      <td>Đắk Lắk</td>\n      <td>Buôn Ma Thuột</td>\n      <td>Thành Nhất</td>\n      <td>Tỉnh Đắk Lắk</td>\n      <td>Thành phố Buôn Ma Thuột</td>\n      <td>Phường Thành Nhất</td>\n      <td>Buôn Ma Thuột</td>\n      <td>Thành Nhất</td>\n      <td>Dak Lak</td>\n      <td>Buon Ma Thuot</td>\n      <td>Thanh Nhat</td>\n      <td>Dak Lak Province</td>\n      <td>Buon Ma Thuot City</td>\n      <td>Thanh Nhat Ward</td>\n      <td>Buon Ma Thuot</td>\n      <td>Thanh Nhat</td>\n      <td>Thành phố</td>\n      <td>Phường</td>\n      <td>City</td>\n      <td>Ward</td>\n    </tr>\n    <tr>\n      <th>...</th>\n      <td>...</td>\n      <td>...</td>\n      <td>...</td>\n      <td>...</td>\n      <td>...</td>\n      <td>...</td>\n      <td>...</td>\n      <td>...</td>\n      <td>...</td>\n      <td>...</td>\n      <td>...</td>\n      <td>...</td>\n      <td>...</td>\n      <td>...</td>\n      <td>...</td>\n      <td>...</td>\n      <td>...</td>\n      <td>...</td>\n      <td>...</td>\n      <td>...</td>\n    </tr>\n    <tr>\n      <th>7866</th>\n      <td>Đắk Lắk</td>\n      <td>Cư Kuin</td>\n      <td>Ea Tiêu</td>\n      <td>Tỉnh Đắk Lắk</td>\n      <td>Huyện Cư Kuin</td>\n      <td>Xã Ea Tiêu</td>\n      <td>Cư Kuin</td>\n      <td>Ea Tiêu</td>\n      <td>Dak Lak</td>\n      <td>Cu Kuin</td>\n      <td>Ea Tieu</td>\n      <td>Dak Lak Province</td>\n      <td>Cu Kuin District</td>\n      <td>Ea Tieu Commune</td>\n      <td>Cu Kuin</td>\n      <td>Ea Tieu</td>\n      <td>Huyện</td>\n      <td>Xã</td>\n      <td>District</td>\n      <td>Commune</td>\n    </tr>\n    <tr>\n      <th>7867</th>\n      <td>Đắk Lắk</td>\n      <td>Cư Kuin</td>\n      <td>Ea BHốk</td>\n      <td>Tỉnh Đắk Lắk</td>\n      <td>Huyện Cư Kuin</td>\n      <td>Xã Ea BHốk</td>\n      <td>Cư Kuin</td>\n      <td>Ea BHốk</td>\n      <td>Dak Lak</td>\n      <td>Cu Kuin</td>\n      <td>Ea BHok</td>\n      <td>Dak Lak Province</td>\n      <td>Cu Kuin District</td>\n      <td>Ea BHok Commune</td>\n      <td>Cu Kuin</td>\n      <td>Ea BHok</td>\n      <td>Huyện</td>\n      <td>Xã</td>\n      <td>District</td>\n      <td>Commune</td>\n    </tr>\n    <tr>\n      <th>7868</th>\n      <td>Đắk Lắk</td>\n      <td>Cư Kuin</td>\n      <td>Ea Hu</td>\n      <td>Tỉnh Đắk Lắk</td>\n      <td>Huyện Cư Kuin</td>\n      <td>Xã Ea Hu</td>\n      <td>Cư Kuin</td>\n      <td>Ea Hu</td>\n      <td>Dak Lak</td>\n      <td>Cu Kuin</td>\n      <td>Ea Hu</td>\n      <td>Dak Lak Province</td>\n      <td>Cu Kuin District</td>\n      <td>Ea Hu Commune</td>\n      <td>Cu Kuin</td>\n      <td>Ea Hu</td>\n      <td>Huyện</td>\n      <td>Xã</td>\n      <td>District</td>\n      <td>Commune</td>\n    </tr>\n    <tr>\n      <th>7869</th>\n      <td>Đắk Lắk</td>\n      <td>Cư Kuin</td>\n      <td>Dray Bhăng</td>\n      <td>Tỉnh Đắk Lắk</td>\n      <td>Huyện Cư Kuin</td>\n      <td>Xã Dray Bhăng</td>\n      <td>Cư Kuin</td>\n      <td>Dray Bhăng</td>\n      <td>Dak Lak</td>\n      <td>Cu Kuin</td>\n      <td>Dray Bhang</td>\n      <td>Dak Lak Province</td>\n      <td>Cu Kuin District</td>\n      <td>Dray Bhang Commune</td>\n      <td>Cu Kuin</td>\n      <td>Dray Bhang</td>\n      <td>Huyện</td>\n      <td>Xã</td>\n      <td>District</td>\n      <td>Commune</td>\n    </tr>\n    <tr>\n      <th>7870</th>\n      <td>Đắk Lắk</td>\n      <td>Cư Kuin</td>\n      <td>Hòa Hiệp</td>\n      <td>Tỉnh Đắk Lắk</td>\n      <td>Huyện Cư Kuin</td>\n      <td>Xã Hòa Hiệp</td>\n      <td>Cư Kuin</td>\n      <td>Hòa Hiệp</td>\n      <td>Dak Lak</td>\n      <td>Cu Kuin</td>\n      <td>Hoa Hiep</td>\n      <td>Dak Lak Province</td>\n      <td>Cu Kuin District</td>\n      <td>Hoa Hiep Commune</td>\n      <td>Cu Kuin</td>\n      <td>Hoa Hiep</td>\n      <td>Huyện</td>\n      <td>Xã</td>\n      <td>District</td>\n      <td>Commune</td>\n    </tr>\n  </tbody>\n</table>\n<p>184 rows × 20 columns</p>\n</div>"
     },
     "execution_count": 39,
     "metadata": {},
     "output_type": "execute_result"
    }
   ],
   "source": [
    "df_test[(df_test.province_english=='Dak Lak')]"
   ],
   "metadata": {
    "collapsed": false,
    "ExecuteTime": {
     "end_time": "2024-09-20T20:16:52.867649Z",
     "start_time": "2024-09-20T20:16:52.843896Z"
    }
   },
   "id": "ecc78a981d8d5096",
   "execution_count": 39
  },
  {
   "cell_type": "code",
   "outputs": [
    {
     "data": {
      "text/plain": "     province district        ward long_province   long_district  \\\n2878  Phú Thọ  Phú Thọ  Hùng Vương  Tỉnh Phú Thọ  Thị xã Phú Thọ   \n2879  Phú Thọ  Phú Thọ  Phong Châu  Tỉnh Phú Thọ  Thị xã Phú Thọ   \n2880  Phú Thọ  Phú Thọ       Âu Cơ  Tỉnh Phú Thọ  Thị xã Phú Thọ   \n2881  Phú Thọ  Phú Thọ      Hà Lộc  Tỉnh Phú Thọ  Thị xã Phú Thọ   \n2882  Phú Thọ  Phú Thọ      Phú Hộ  Tỉnh Phú Thọ  Thị xã Phú Thọ   \n2883  Phú Thọ  Phú Thọ    Văn Lung  Tỉnh Phú Thọ  Thị xã Phú Thọ   \n2884  Phú Thọ  Phú Thọ  Thanh Minh  Tỉnh Phú Thọ  Thị xã Phú Thọ   \n2885  Phú Thọ  Phú Thọ    Hà Thạch  Tỉnh Phú Thọ  Thị xã Phú Thọ   \n2886  Phú Thọ  Phú Thọ  Thanh Vinh  Tỉnh Phú Thọ  Thị xã Phú Thọ   \n\n              long_ward short_district  short_ward province_english  \\\n2878  Phường Hùng Vương        Phú Thọ  Hùng Vương          Phu Tho   \n2879  Phường Phong Châu        Phú Thọ  Phong Châu          Phu Tho   \n2880       Phường Âu Cơ        Phú Thọ       Âu Cơ          Phu Tho   \n2881          Xã Hà Lộc        Phú Thọ      Hà Lộc          Phu Tho   \n2882          Xã Phú Hộ        Phú Thọ      Phú Hộ          Phu Tho   \n2883        Xã Văn Lung        Phú Thọ    Văn Lung          Phu Tho   \n2884      Xã Thanh Minh        Phú Thọ  Thanh Minh          Phu Tho   \n2885        Xã Hà Thạch        Phú Thọ    Hà Thạch          Phu Tho   \n2886  Phường Thanh Vinh        Phú Thọ  Thanh Vinh          Phu Tho   \n\n     district_english ward_english long_province_english  \\\n2878          Phu Tho   Hung Vuong      Phu Tho Province   \n2879          Phu Tho   Phong Chau      Phu Tho Province   \n2880          Phu Tho        Au Co      Phu Tho Province   \n2881          Phu Tho       Ha Loc      Phu Tho Province   \n2882          Phu Tho       Phu Ho      Phu Tho Province   \n2883          Phu Tho     Van Lung      Phu Tho Province   \n2884          Phu Tho   Thanh Minh      Phu Tho Province   \n2885          Phu Tho     Ha Thach      Phu Tho Province   \n2886          Phu Tho   Thanh Vinh      Phu Tho Province   \n\n     long_district_english   long_ward_english short_district_english  \\\n2878          Phu Tho Town     Hung Vuong Ward                Phu Tho   \n2879          Phu Tho Town     Phong Chau Ward                Phu Tho   \n2880          Phu Tho Town          Au Co Ward                Phu Tho   \n2881          Phu Tho Town      Ha Loc Commune                Phu Tho   \n2882          Phu Tho Town      Phu Ho Commune                Phu Tho   \n2883          Phu Tho Town    Van Lung Commune                Phu Tho   \n2884          Phu Tho Town  Thanh Minh Commune                Phu Tho   \n2885          Phu Tho Town    Ha Thach Commune                Phu Tho   \n2886          Phu Tho Town     Thanh Vinh Ward                Phu Tho   \n\n     short_ward_english district_level ward_level district_level_english  \\\n2878         Hung Vuong         Thị xã     Phường                   Town   \n2879         Phong Chau         Thị xã     Phường                   Town   \n2880              Au Co         Thị xã     Phường                   Town   \n2881             Ha Loc         Thị xã         Xã                   Town   \n2882             Phu Ho         Thị xã         Xã                   Town   \n2883           Van Lung         Thị xã         Xã                   Town   \n2884         Thanh Minh         Thị xã         Xã                   Town   \n2885           Ha Thach         Thị xã         Xã                   Town   \n2886         Thanh Vinh         Thị xã     Phường                   Town   \n\n     ward_level_english  \n2878               Ward  \n2879               Ward  \n2880               Ward  \n2881            Commune  \n2882            Commune  \n2883            Commune  \n2884            Commune  \n2885            Commune  \n2886               Ward  ",
      "text/html": "<div>\n<style scoped>\n    .dataframe tbody tr th:only-of-type {\n        vertical-align: middle;\n    }\n\n    .dataframe tbody tr th {\n        vertical-align: top;\n    }\n\n    .dataframe thead th {\n        text-align: right;\n    }\n</style>\n<table border=\"1\" class=\"dataframe\">\n  <thead>\n    <tr style=\"text-align: right;\">\n      <th></th>\n      <th>province</th>\n      <th>district</th>\n      <th>ward</th>\n      <th>long_province</th>\n      <th>long_district</th>\n      <th>long_ward</th>\n      <th>short_district</th>\n      <th>short_ward</th>\n      <th>province_english</th>\n      <th>district_english</th>\n      <th>ward_english</th>\n      <th>long_province_english</th>\n      <th>long_district_english</th>\n      <th>long_ward_english</th>\n      <th>short_district_english</th>\n      <th>short_ward_english</th>\n      <th>district_level</th>\n      <th>ward_level</th>\n      <th>district_level_english</th>\n      <th>ward_level_english</th>\n    </tr>\n  </thead>\n  <tbody>\n    <tr>\n      <th>2878</th>\n      <td>Phú Thọ</td>\n      <td>Phú Thọ</td>\n      <td>Hùng Vương</td>\n      <td>Tỉnh Phú Thọ</td>\n      <td>Thị xã Phú Thọ</td>\n      <td>Phường Hùng Vương</td>\n      <td>Phú Thọ</td>\n      <td>Hùng Vương</td>\n      <td>Phu Tho</td>\n      <td>Phu Tho</td>\n      <td>Hung Vuong</td>\n      <td>Phu Tho Province</td>\n      <td>Phu Tho Town</td>\n      <td>Hung Vuong Ward</td>\n      <td>Phu Tho</td>\n      <td>Hung Vuong</td>\n      <td>Thị xã</td>\n      <td>Phường</td>\n      <td>Town</td>\n      <td>Ward</td>\n    </tr>\n    <tr>\n      <th>2879</th>\n      <td>Phú Thọ</td>\n      <td>Phú Thọ</td>\n      <td>Phong Châu</td>\n      <td>Tỉnh Phú Thọ</td>\n      <td>Thị xã Phú Thọ</td>\n      <td>Phường Phong Châu</td>\n      <td>Phú Thọ</td>\n      <td>Phong Châu</td>\n      <td>Phu Tho</td>\n      <td>Phu Tho</td>\n      <td>Phong Chau</td>\n      <td>Phu Tho Province</td>\n      <td>Phu Tho Town</td>\n      <td>Phong Chau Ward</td>\n      <td>Phu Tho</td>\n      <td>Phong Chau</td>\n      <td>Thị xã</td>\n      <td>Phường</td>\n      <td>Town</td>\n      <td>Ward</td>\n    </tr>\n    <tr>\n      <th>2880</th>\n      <td>Phú Thọ</td>\n      <td>Phú Thọ</td>\n      <td>Âu Cơ</td>\n      <td>Tỉnh Phú Thọ</td>\n      <td>Thị xã Phú Thọ</td>\n      <td>Phường Âu Cơ</td>\n      <td>Phú Thọ</td>\n      <td>Âu Cơ</td>\n      <td>Phu Tho</td>\n      <td>Phu Tho</td>\n      <td>Au Co</td>\n      <td>Phu Tho Province</td>\n      <td>Phu Tho Town</td>\n      <td>Au Co Ward</td>\n      <td>Phu Tho</td>\n      <td>Au Co</td>\n      <td>Thị xã</td>\n      <td>Phường</td>\n      <td>Town</td>\n      <td>Ward</td>\n    </tr>\n    <tr>\n      <th>2881</th>\n      <td>Phú Thọ</td>\n      <td>Phú Thọ</td>\n      <td>Hà Lộc</td>\n      <td>Tỉnh Phú Thọ</td>\n      <td>Thị xã Phú Thọ</td>\n      <td>Xã Hà Lộc</td>\n      <td>Phú Thọ</td>\n      <td>Hà Lộc</td>\n      <td>Phu Tho</td>\n      <td>Phu Tho</td>\n      <td>Ha Loc</td>\n      <td>Phu Tho Province</td>\n      <td>Phu Tho Town</td>\n      <td>Ha Loc Commune</td>\n      <td>Phu Tho</td>\n      <td>Ha Loc</td>\n      <td>Thị xã</td>\n      <td>Xã</td>\n      <td>Town</td>\n      <td>Commune</td>\n    </tr>\n    <tr>\n      <th>2882</th>\n      <td>Phú Thọ</td>\n      <td>Phú Thọ</td>\n      <td>Phú Hộ</td>\n      <td>Tỉnh Phú Thọ</td>\n      <td>Thị xã Phú Thọ</td>\n      <td>Xã Phú Hộ</td>\n      <td>Phú Thọ</td>\n      <td>Phú Hộ</td>\n      <td>Phu Tho</td>\n      <td>Phu Tho</td>\n      <td>Phu Ho</td>\n      <td>Phu Tho Province</td>\n      <td>Phu Tho Town</td>\n      <td>Phu Ho Commune</td>\n      <td>Phu Tho</td>\n      <td>Phu Ho</td>\n      <td>Thị xã</td>\n      <td>Xã</td>\n      <td>Town</td>\n      <td>Commune</td>\n    </tr>\n    <tr>\n      <th>2883</th>\n      <td>Phú Thọ</td>\n      <td>Phú Thọ</td>\n      <td>Văn Lung</td>\n      <td>Tỉnh Phú Thọ</td>\n      <td>Thị xã Phú Thọ</td>\n      <td>Xã Văn Lung</td>\n      <td>Phú Thọ</td>\n      <td>Văn Lung</td>\n      <td>Phu Tho</td>\n      <td>Phu Tho</td>\n      <td>Van Lung</td>\n      <td>Phu Tho Province</td>\n      <td>Phu Tho Town</td>\n      <td>Van Lung Commune</td>\n      <td>Phu Tho</td>\n      <td>Van Lung</td>\n      <td>Thị xã</td>\n      <td>Xã</td>\n      <td>Town</td>\n      <td>Commune</td>\n    </tr>\n    <tr>\n      <th>2884</th>\n      <td>Phú Thọ</td>\n      <td>Phú Thọ</td>\n      <td>Thanh Minh</td>\n      <td>Tỉnh Phú Thọ</td>\n      <td>Thị xã Phú Thọ</td>\n      <td>Xã Thanh Minh</td>\n      <td>Phú Thọ</td>\n      <td>Thanh Minh</td>\n      <td>Phu Tho</td>\n      <td>Phu Tho</td>\n      <td>Thanh Minh</td>\n      <td>Phu Tho Province</td>\n      <td>Phu Tho Town</td>\n      <td>Thanh Minh Commune</td>\n      <td>Phu Tho</td>\n      <td>Thanh Minh</td>\n      <td>Thị xã</td>\n      <td>Xã</td>\n      <td>Town</td>\n      <td>Commune</td>\n    </tr>\n    <tr>\n      <th>2885</th>\n      <td>Phú Thọ</td>\n      <td>Phú Thọ</td>\n      <td>Hà Thạch</td>\n      <td>Tỉnh Phú Thọ</td>\n      <td>Thị xã Phú Thọ</td>\n      <td>Xã Hà Thạch</td>\n      <td>Phú Thọ</td>\n      <td>Hà Thạch</td>\n      <td>Phu Tho</td>\n      <td>Phu Tho</td>\n      <td>Ha Thach</td>\n      <td>Phu Tho Province</td>\n      <td>Phu Tho Town</td>\n      <td>Ha Thach Commune</td>\n      <td>Phu Tho</td>\n      <td>Ha Thach</td>\n      <td>Thị xã</td>\n      <td>Xã</td>\n      <td>Town</td>\n      <td>Commune</td>\n    </tr>\n    <tr>\n      <th>2886</th>\n      <td>Phú Thọ</td>\n      <td>Phú Thọ</td>\n      <td>Thanh Vinh</td>\n      <td>Tỉnh Phú Thọ</td>\n      <td>Thị xã Phú Thọ</td>\n      <td>Phường Thanh Vinh</td>\n      <td>Phú Thọ</td>\n      <td>Thanh Vinh</td>\n      <td>Phu Tho</td>\n      <td>Phu Tho</td>\n      <td>Thanh Vinh</td>\n      <td>Phu Tho Province</td>\n      <td>Phu Tho Town</td>\n      <td>Thanh Vinh Ward</td>\n      <td>Phu Tho</td>\n      <td>Thanh Vinh</td>\n      <td>Thị xã</td>\n      <td>Phường</td>\n      <td>Town</td>\n      <td>Ward</td>\n    </tr>\n  </tbody>\n</table>\n</div>"
     },
     "execution_count": 40,
     "metadata": {},
     "output_type": "execute_result"
    }
   ],
   "source": [
    "df_test[df_test.district_english=='Phu Tho']"
   ],
   "metadata": {
    "collapsed": false,
    "ExecuteTime": {
     "end_time": "2024-09-20T20:16:52.888570Z",
     "start_time": "2024-09-20T20:16:52.869707Z"
    }
   },
   "id": "4fef0360884c8e29",
   "execution_count": 40
  },
  {
   "cell_type": "code",
   "outputs": [
    {
     "data": {
      "text/plain": "       province   district       ward   long_province        long_district  \\\n3824   Hưng Yên  Văn Giang  Văn Giang   Tỉnh Hưng Yên      Huyện Văn Giang   \n4504  Ninh Bình  Ninh Bình  Vân Giang  Tỉnh Ninh Bình  Thành phố Ninh Bình   \n\n               long_ward short_district short_ward province_english  \\\n3824  Thị trấn Văn Giang      Văn Giang  Văn Giang         Hung Yen   \n4504    Phường Vân Giang      Ninh Bình  Vân Giang        Ninh Binh   \n\n     district_english ward_english long_province_english  \\\n3824        Van Giang    Van Giang     Hung Yen Province   \n4504        Ninh Binh    Van Giang    Ninh Binh Province   \n\n     long_district_english long_ward_english short_district_english  \\\n3824    Van Giang District    Van Giang Town              Van Giang   \n4504        Ninh Binh City    Van Giang Ward              Ninh Binh   \n\n     short_ward_english district_level ward_level district_level_english  \\\n3824          Van Giang          Huyện   Thị trấn               District   \n4504          Van Giang      Thành phố     Phường                   City   \n\n     ward_level_english  \n3824               Town  \n4504               Ward  ",
      "text/html": "<div>\n<style scoped>\n    .dataframe tbody tr th:only-of-type {\n        vertical-align: middle;\n    }\n\n    .dataframe tbody tr th {\n        vertical-align: top;\n    }\n\n    .dataframe thead th {\n        text-align: right;\n    }\n</style>\n<table border=\"1\" class=\"dataframe\">\n  <thead>\n    <tr style=\"text-align: right;\">\n      <th></th>\n      <th>province</th>\n      <th>district</th>\n      <th>ward</th>\n      <th>long_province</th>\n      <th>long_district</th>\n      <th>long_ward</th>\n      <th>short_district</th>\n      <th>short_ward</th>\n      <th>province_english</th>\n      <th>district_english</th>\n      <th>ward_english</th>\n      <th>long_province_english</th>\n      <th>long_district_english</th>\n      <th>long_ward_english</th>\n      <th>short_district_english</th>\n      <th>short_ward_english</th>\n      <th>district_level</th>\n      <th>ward_level</th>\n      <th>district_level_english</th>\n      <th>ward_level_english</th>\n    </tr>\n  </thead>\n  <tbody>\n    <tr>\n      <th>3824</th>\n      <td>Hưng Yên</td>\n      <td>Văn Giang</td>\n      <td>Văn Giang</td>\n      <td>Tỉnh Hưng Yên</td>\n      <td>Huyện Văn Giang</td>\n      <td>Thị trấn Văn Giang</td>\n      <td>Văn Giang</td>\n      <td>Văn Giang</td>\n      <td>Hung Yen</td>\n      <td>Van Giang</td>\n      <td>Van Giang</td>\n      <td>Hung Yen Province</td>\n      <td>Van Giang District</td>\n      <td>Van Giang Town</td>\n      <td>Van Giang</td>\n      <td>Van Giang</td>\n      <td>Huyện</td>\n      <td>Thị trấn</td>\n      <td>District</td>\n      <td>Town</td>\n    </tr>\n    <tr>\n      <th>4504</th>\n      <td>Ninh Bình</td>\n      <td>Ninh Bình</td>\n      <td>Vân Giang</td>\n      <td>Tỉnh Ninh Bình</td>\n      <td>Thành phố Ninh Bình</td>\n      <td>Phường Vân Giang</td>\n      <td>Ninh Bình</td>\n      <td>Vân Giang</td>\n      <td>Ninh Binh</td>\n      <td>Ninh Binh</td>\n      <td>Van Giang</td>\n      <td>Ninh Binh Province</td>\n      <td>Ninh Binh City</td>\n      <td>Van Giang Ward</td>\n      <td>Ninh Binh</td>\n      <td>Van Giang</td>\n      <td>Thành phố</td>\n      <td>Phường</td>\n      <td>City</td>\n      <td>Ward</td>\n    </tr>\n  </tbody>\n</table>\n</div>"
     },
     "execution_count": 41,
     "metadata": {},
     "output_type": "execute_result"
    }
   ],
   "source": [
    "df_test[df_test.ward_english=='Van Giang']"
   ],
   "metadata": {
    "collapsed": false,
    "ExecuteTime": {
     "end_time": "2024-09-20T20:16:52.913625Z",
     "start_time": "2024-09-20T20:16:52.898080Z"
    }
   },
   "id": "925af2025bbee68",
   "execution_count": 41
  },
  {
   "cell_type": "code",
   "outputs": [
    {
     "data": {
      "text/plain": "AdministrativeUnit:\nAttribute                      | Value                         \n--------------------------------------------------------------\nprovince                       | Hà Nội                        \ndistrict                       | Thanh Xuân                    \nward                           |                               \n--------------------------------------------------------------\nlong_province                  | Thành phố Hà Nội              \nlong_district                  | Quận Thanh Xuân               \nlong_ward                      |                               \n--------------------------------------------------------------\nshort_district                 | Thanh Xuân                    \nshort_ward                     |                               \n--------------------------------------------------------------\nprovince_english               | Ha Noi                        \ndistrict_english               | Thanh Xuan                    \nward_english                   |                               \n--------------------------------------------------------------\nlong_province_english          | Ha Noi City                   \nlong_district_english          | Thanh Xuan District           \nlong_ward_english              |                               \n--------------------------------------------------------------\nshort_district_english         | Thanh Xuan                    \nshort_ward_english             |                               \n--------------------------------------------------------------\ndistrict_level                 | Quận                          \nward_level                     |                               \n--------------------------------------------------------------\ndistrict_level_english         | District                      \nward_level_english             |                               "
     },
     "execution_count": 42,
     "metadata": {},
     "output_type": "execute_result"
    }
   ],
   "source": [
    "parse_address('Dinh Cong Thanh Xuan Ha Noi')"
   ],
   "metadata": {
    "collapsed": false,
    "ExecuteTime": {
     "end_time": "2024-09-20T20:16:52.920098Z",
     "start_time": "2024-09-20T20:16:52.915040Z"
    }
   },
   "id": "35f65278741bd2a1",
   "execution_count": 42
  },
  {
   "cell_type": "code",
   "outputs": [
    {
     "data": {
      "text/plain": "-1"
     },
     "execution_count": 43,
     "metadata": {},
     "output_type": "execute_result"
    }
   ],
   "source": [
    "min(1, -1)"
   ],
   "metadata": {
    "collapsed": false,
    "ExecuteTime": {
     "end_time": "2024-09-20T20:16:52.925096Z",
     "start_time": "2024-09-20T20:16:52.921373Z"
    }
   },
   "id": "7158b14a3d3d2022",
   "execution_count": 43
  },
  {
   "cell_type": "code",
   "outputs": [],
   "source": [
    "start_1 = 5\n",
    "start_2 = None"
   ],
   "metadata": {
    "collapsed": false,
    "ExecuteTime": {
     "end_time": "2024-09-20T20:16:52.928859Z",
     "start_time": "2024-09-20T20:16:52.926509Z"
    }
   },
   "id": "84065fb861b648ae",
   "execution_count": 44
  },
  {
   "cell_type": "code",
   "outputs": [],
   "source": [
    "if start_1 and start_2:\n",
    "    start = min(start_1, start_2)\n",
    "elif start_1 or start_2:\n",
    "    start = start_1 or start_2\n",
    "else:\n",
    "    start = None"
   ],
   "metadata": {
    "collapsed": false,
    "ExecuteTime": {
     "end_time": "2024-09-20T20:16:52.933385Z",
     "start_time": "2024-09-20T20:16:52.930101Z"
    }
   },
   "id": "f46be7ba2e7082b0",
   "execution_count": 45
  },
  {
   "cell_type": "code",
   "outputs": [
    {
     "data": {
      "text/plain": "5"
     },
     "execution_count": 46,
     "metadata": {},
     "output_type": "execute_result"
    }
   ],
   "source": [
    "start"
   ],
   "metadata": {
    "collapsed": false,
    "ExecuteTime": {
     "end_time": "2024-09-20T20:16:52.938107Z",
     "start_time": "2024-09-20T20:16:52.934737Z"
    }
   },
   "id": "ab97e6bbf91db3d",
   "execution_count": 46
  },
  {
   "cell_type": "code",
   "outputs": [],
   "source": [],
   "metadata": {
    "collapsed": false,
    "ExecuteTime": {
     "end_time": "2024-09-20T20:16:52.941265Z",
     "start_time": "2024-09-20T20:16:52.939438Z"
    }
   },
   "id": "f049e281bf6d3dfa",
   "execution_count": 46
  }
 ],
 "metadata": {
  "kernelspec": {
   "display_name": "Python 3",
   "language": "python",
   "name": "python3"
  },
  "language_info": {
   "codemirror_mode": {
    "name": "ipython",
    "version": 2
   },
   "file_extension": ".py",
   "mimetype": "text/x-python",
   "name": "python",
   "nbconvert_exporter": "python",
   "pygments_lexer": "ipython2",
   "version": "2.7.6"
  }
 },
 "nbformat": 4,
 "nbformat_minor": 5
}
