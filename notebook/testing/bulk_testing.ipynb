{
 "cells": [
  {
   "cell_type": "code",
   "execution_count": 1,
   "id": "initial_id",
   "metadata": {
    "collapsed": true,
    "ExecuteTime": {
     "end_time": "2024-09-29T11:30:31.763724Z",
     "start_time": "2024-09-29T11:30:30.619406Z"
    }
   },
   "outputs": [],
   "source": [
    "import pandas as pd\n",
    "from vietadminunits import parse_address, get_data\n",
    "from vietadminunits.utils import to_key, to_alphanumeric\n",
    "import pickle"
   ]
  },
  {
   "cell_type": "code",
   "outputs": [],
   "source": [
    "df = pd.DataFrame(get_data())"
   ],
   "metadata": {
    "collapsed": false,
    "ExecuteTime": {
     "end_time": "2024-09-29T11:30:31.884282Z",
     "start_time": "2024-09-29T11:30:31.764951Z"
    }
   },
   "id": "b1b52d5aed5034d9",
   "execution_count": 2
  },
  {
   "cell_type": "code",
   "outputs": [],
   "source": [
    "df['long_province_alphanumeric'] = df['long_province'].apply(to_alphanumeric)\n",
    "df['long_district_alphanumeric'] = df['long_district'].apply(to_alphanumeric)\n",
    "df['long_ward_alphanumeric'] = df['long_ward'].fillna('').apply(to_alphanumeric)\n",
    "\n",
    "df['province_alphanumeric'] = df['province'].apply(to_alphanumeric)\n",
    "df['short_district_alphanumeric'] = df['short_district'].apply(to_alphanumeric)\n",
    "df['short_ward_alphanumeric'] = df['short_ward'].fillna('').apply(to_alphanumeric)"
   ],
   "metadata": {
    "collapsed": false,
    "ExecuteTime": {
     "end_time": "2024-09-29T11:30:32.043146Z",
     "start_time": "2024-09-29T11:30:31.884848Z"
    }
   },
   "id": "cf25cc6a682a9e9c",
   "execution_count": 3
  },
  {
   "cell_type": "code",
   "outputs": [],
   "source": [
    "for ward in ['long_ward', 'ward']:\n",
    "    for district in ['long_district', 'district']:\n",
    "        for province in ['long_province', 'province']:\n",
    "            df[f\"address_{ward}_{district}_{province}\"] = df[ward].fillna('') + df[district] + df[province]\n",
    "            df[f\"address_comma_{ward}_{district}_{province}\"] = df[ward].fillna('') + ',' + df[district] + ',' + df[province]\n",
    "            df[f\"address_{ward}_{province}_{district}\"] = df[ward].fillna('') + df[province] + df[district]\n",
    "            df[f\"address_comma_{ward}_{province}_{district}\"] = df[ward].fillna('') + ',' + df[province] + ',' + df[district]"
   ],
   "metadata": {
    "collapsed": false,
    "ExecuteTime": {
     "end_time": "2024-09-29T11:30:32.141814Z",
     "start_time": "2024-09-29T11:30:32.043770Z"
    }
   },
   "id": "2ad328732a0b7fc7",
   "execution_count": 4
  },
  {
   "cell_type": "code",
   "outputs": [],
   "source": [
    "df['province_key'] = df['province'].apply(to_key, args=(1,))\n",
    "df['district_key'] = df['district'].apply(to_key, args=(2,))\n",
    "df['ward_key'] = df['ward'].apply(to_key, args=(3,))"
   ],
   "metadata": {
    "collapsed": false,
    "ExecuteTime": {
     "end_time": "2024-09-29T11:30:32.227578Z",
     "start_time": "2024-09-29T11:30:32.143632Z"
    }
   },
   "id": "3782c5a649aaf6ec",
   "execution_count": 5
  },
  {
   "cell_type": "code",
   "outputs": [],
   "source": [
    "address_cols = [col for col in df.columns if 'address' in col]"
   ],
   "metadata": {
    "collapsed": false,
    "ExecuteTime": {
     "end_time": "2024-09-29T11:30:32.229821Z",
     "start_time": "2024-09-29T11:30:32.228128Z"
    }
   },
   "id": "69039b2628333813",
   "execution_count": 6
  },
  {
   "cell_type": "code",
   "outputs": [
    {
     "data": {
      "text/plain": "32"
     },
     "execution_count": 7,
     "metadata": {},
     "output_type": "execute_result"
    }
   ],
   "source": [
    "len(address_cols)"
   ],
   "metadata": {
    "collapsed": false,
    "ExecuteTime": {
     "end_time": "2024-09-29T11:30:32.238170Z",
     "start_time": "2024-09-29T11:30:32.230355Z"
    }
   },
   "id": "c4d4bd81f84b4a2f",
   "execution_count": 7
  },
  {
   "cell_type": "markdown",
   "source": [
    "## Check wrong province"
   ],
   "metadata": {
    "collapsed": false
   },
   "id": "4a1285958689a4"
  },
  {
   "cell_type": "code",
   "outputs": [],
   "source": [
    "wrong_provinces = []\n",
    "\n",
    "\n",
    "\n",
    "for address_col in address_cols:\n",
    "    for row in df.itertuples():\n",
    "        address = getattr(row, address_col)\n",
    "        unit = parse_address(address, level=1)\n",
    "        data = {\n",
    "            'address': address,\n",
    "            'province': row.province,\n",
    "            'province_key': row.province_key,\n",
    "            'district_key': row.district_key,\n",
    "            'ward_key': row.ward_key,\n",
    "            'wrong_province_key': unit.province_key,\n",
    "        }\n",
    "        \n",
    "        if unit.province != row.province:\n",
    "            print(address)\n",
    "            wrong_provinces.append(data)"
   ],
   "metadata": {
    "collapsed": false,
    "ExecuteTime": {
     "end_time": "2024-09-29T11:31:55.418888Z",
     "start_time": "2024-09-29T11:30:32.239121Z"
    }
   },
   "id": "aca769f749d9adf8",
   "execution_count": 8
  },
  {
   "cell_type": "code",
   "outputs": [],
   "source": [
    "df_wrong_provinces = pd.DataFrame(wrong_provinces)"
   ],
   "metadata": {
    "collapsed": false,
    "ExecuteTime": {
     "end_time": "2024-09-29T11:31:55.438596Z",
     "start_time": "2024-09-29T11:31:55.420435Z"
    }
   },
   "id": "69ce345fefd31da9",
   "execution_count": 9
  },
  {
   "cell_type": "code",
   "outputs": [
    {
     "name": "stdout",
     "output_type": "stream",
     "text": [
      "<class 'pandas.core.frame.DataFrame'>\n",
      "RangeIndex: 0 entries\n",
      "Empty DataFrame\n"
     ]
    }
   ],
   "source": [
    "df_wrong_provinces.info()"
   ],
   "metadata": {
    "collapsed": false,
    "ExecuteTime": {
     "end_time": "2024-09-29T11:31:55.445300Z",
     "start_time": "2024-09-29T11:31:55.440229Z"
    }
   },
   "id": "90893bd387f0b0ad",
   "execution_count": 10
  },
  {
   "cell_type": "code",
   "outputs": [
    {
     "data": {
      "text/plain": "Empty DataFrame\nColumns: []\nIndex: []",
      "text/html": "<div>\n<style scoped>\n    .dataframe tbody tr th:only-of-type {\n        vertical-align: middle;\n    }\n\n    .dataframe tbody tr th {\n        vertical-align: top;\n    }\n\n    .dataframe thead th {\n        text-align: right;\n    }\n</style>\n<table border=\"1\" class=\"dataframe\">\n  <thead>\n    <tr style=\"text-align: right;\">\n      <th></th>\n    </tr>\n  </thead>\n  <tbody>\n  </tbody>\n</table>\n</div>"
     },
     "execution_count": 11,
     "metadata": {},
     "output_type": "execute_result"
    }
   ],
   "source": [
    "df_wrong_provinces"
   ],
   "metadata": {
    "collapsed": false,
    "ExecuteTime": {
     "end_time": "2024-09-29T11:31:55.452896Z",
     "start_time": "2024-09-29T11:31:55.445999Z"
    }
   },
   "id": "e2982a67d046cdd3",
   "execution_count": 11
  },
  {
   "cell_type": "markdown",
   "source": [
    "## Check wrong district"
   ],
   "metadata": {
    "collapsed": false
   },
   "id": "28410b2a00e10e19"
  },
  {
   "cell_type": "code",
   "outputs": [],
   "source": [
    "wrong_districts = []\n",
    "for address_col in address_cols:\n",
    "    for row in df.itertuples():\n",
    "        address = getattr(row, address_col)\n",
    "\n",
    "        unit = parse_address(address, level=2)\n",
    "    \n",
    "        data = {\n",
    "            'address': address,\n",
    "            'province_english': row.province_english,\n",
    "            'province_key': row.province_key,\n",
    "            'wrong_province_key': unit.province_key,\n",
    "            'district_key': row.district_key,\n",
    "            'ward_key': row.ward_key,\n",
    "            'wrong_district_key': unit.district_key,\n",
    "        }\n",
    "        \n",
    "        if unit.district != row.district:\n",
    "            print(address)\n",
    "            wrong_districts.append(data)\n",
    "\n"
   ],
   "metadata": {
    "collapsed": false,
    "ExecuteTime": {
     "end_time": "2024-09-29T11:33:51.275996Z",
     "start_time": "2024-09-29T11:31:55.453503Z"
    }
   },
   "id": "39bf6374b12777a5",
   "execution_count": 12
  },
  {
   "cell_type": "code",
   "outputs": [],
   "source": [
    "df_wrong_districts = pd.DataFrame(wrong_districts)"
   ],
   "metadata": {
    "collapsed": false,
    "ExecuteTime": {
     "end_time": "2024-09-29T11:33:51.284315Z",
     "start_time": "2024-09-29T11:33:51.277441Z"
    }
   },
   "id": "96c5a897813dcae2",
   "execution_count": 13
  },
  {
   "cell_type": "code",
   "outputs": [
    {
     "data": {
      "text/plain": "Empty DataFrame\nColumns: []\nIndex: []",
      "text/html": "<div>\n<style scoped>\n    .dataframe tbody tr th:only-of-type {\n        vertical-align: middle;\n    }\n\n    .dataframe tbody tr th {\n        vertical-align: top;\n    }\n\n    .dataframe thead th {\n        text-align: right;\n    }\n</style>\n<table border=\"1\" class=\"dataframe\">\n  <thead>\n    <tr style=\"text-align: right;\">\n      <th></th>\n    </tr>\n  </thead>\n  <tbody>\n  </tbody>\n</table>\n</div>"
     },
     "execution_count": 14,
     "metadata": {},
     "output_type": "execute_result"
    }
   ],
   "source": [
    "df_wrong_districts"
   ],
   "metadata": {
    "collapsed": false,
    "ExecuteTime": {
     "end_time": "2024-09-29T11:33:51.289119Z",
     "start_time": "2024-09-29T11:33:51.286531Z"
    }
   },
   "id": "f2d89fc8a171bbd9",
   "execution_count": 14
  },
  {
   "cell_type": "code",
   "outputs": [
    {
     "name": "stdout",
     "output_type": "stream",
     "text": [
      "<class 'pandas.core.frame.DataFrame'>\n",
      "RangeIndex: 0 entries\n",
      "Empty DataFrame\n"
     ]
    }
   ],
   "source": [
    "df_wrong_districts.info()"
   ],
   "metadata": {
    "collapsed": false,
    "ExecuteTime": {
     "end_time": "2024-09-29T11:33:51.291339Z",
     "start_time": "2024-09-29T11:33:51.289658Z"
    }
   },
   "id": "8c40511759a60013",
   "execution_count": 15
  },
  {
   "cell_type": "markdown",
   "source": [
    "## Check wrong ward"
   ],
   "metadata": {
    "collapsed": false
   },
   "id": "3467154dca5f6a29"
  },
  {
   "cell_type": "code",
   "outputs": [],
   "source": [
    "wrong_wards = []\n",
    "for address_col in address_cols:\n",
    "    for row in df.itertuples():\n",
    "        address = getattr(row, address_col)\n",
    "\n",
    "        unit = parse_address(address, level=3)\n",
    "    \n",
    "        data = {\n",
    "            'address': address,\n",
    "            'province_english': row.province_english,\n",
    "            'province_key': row.province_key,\n",
    "            'wrong_province_key': unit.province_key,\n",
    "            'district_english': row.district_english,\n",
    "            'district_key': row.district_key,\n",
    "            'wrong_district_key': unit.district_key,\n",
    "            'ward_key': row.ward_key,\n",
    "            'wrong_ward_key': unit.ward_key,\n",
    "            \n",
    "        }\n",
    "        \n",
    "        if unit.ward != row.ward:\n",
    "            print(address, row.ward, unit.ward)\n",
    "            wrong_wards.append(data)"
   ],
   "metadata": {
    "collapsed": false,
    "ExecuteTime": {
     "end_time": "2024-09-29T11:35:55.853771Z",
     "start_time": "2024-09-29T11:33:51.291856Z"
    }
   },
   "id": "806a121cc067a521",
   "execution_count": 16
  },
  {
   "cell_type": "code",
   "outputs": [],
   "source": [
    "df_wrong_wards = pd.DataFrame(wrong_wards)"
   ],
   "metadata": {
    "collapsed": false,
    "ExecuteTime": {
     "end_time": "2024-09-29T11:35:55.858738Z",
     "start_time": "2024-09-29T11:35:55.855046Z"
    }
   },
   "id": "8be6febca72cfb96",
   "execution_count": 17
  },
  {
   "cell_type": "code",
   "outputs": [
    {
     "data": {
      "text/plain": "Empty DataFrame\nColumns: []\nIndex: []",
      "text/html": "<div>\n<style scoped>\n    .dataframe tbody tr th:only-of-type {\n        vertical-align: middle;\n    }\n\n    .dataframe tbody tr th {\n        vertical-align: top;\n    }\n\n    .dataframe thead th {\n        text-align: right;\n    }\n</style>\n<table border=\"1\" class=\"dataframe\">\n  <thead>\n    <tr style=\"text-align: right;\">\n      <th></th>\n    </tr>\n  </thead>\n  <tbody>\n  </tbody>\n</table>\n</div>"
     },
     "execution_count": 18,
     "metadata": {},
     "output_type": "execute_result"
    }
   ],
   "source": [
    "df_wrong_wards"
   ],
   "metadata": {
    "collapsed": false,
    "ExecuteTime": {
     "end_time": "2024-09-29T11:35:55.862910Z",
     "start_time": "2024-09-29T11:35:55.859450Z"
    }
   },
   "id": "82faa8e5c675b4c1",
   "execution_count": 18
  },
  {
   "cell_type": "code",
   "outputs": [
    {
     "name": "stdout",
     "output_type": "stream",
     "text": [
      "<class 'pandas.core.frame.DataFrame'>\n",
      "RangeIndex: 0 entries\n",
      "Empty DataFrame\n"
     ]
    }
   ],
   "source": [
    "df_wrong_wards.info()"
   ],
   "metadata": {
    "collapsed": false,
    "ExecuteTime": {
     "end_time": "2024-09-29T11:35:55.864993Z",
     "start_time": "2024-09-29T11:35:55.863488Z"
    }
   },
   "id": "edd3442cadedead8",
   "execution_count": 19
  }
 ],
 "metadata": {
  "kernelspec": {
   "display_name": "Python 3",
   "language": "python",
   "name": "python3"
  },
  "language_info": {
   "codemirror_mode": {
    "name": "ipython",
    "version": 2
   },
   "file_extension": ".py",
   "mimetype": "text/x-python",
   "name": "python",
   "nbconvert_exporter": "python",
   "pygments_lexer": "ipython2",
   "version": "2.7.6"
  }
 },
 "nbformat": 4,
 "nbformat_minor": 5
}
