{
 "cells": [
  {
   "cell_type": "markdown",
   "source": [
    "# Feature testing"
   ],
   "metadata": {
    "collapsed": false
   },
   "id": "a3e4516382fb9ae2"
  },
  {
   "cell_type": "code",
   "execution_count": 1,
   "id": "initial_id",
   "metadata": {
    "collapsed": true,
    "ExecuteTime": {
     "end_time": "2024-09-29T12:57:29.201540Z",
     "start_time": "2024-09-29T12:57:27.907733Z"
    }
   },
   "outputs": [],
   "source": [
    "from vietadminunits import parse_address, get_data\n",
    "import pandas as pd"
   ]
  },
  {
   "cell_type": "markdown",
   "source": [
    "## get_data"
   ],
   "metadata": {
    "collapsed": false
   },
   "id": "b0407aed56930e5b"
  },
  {
   "cell_type": "code",
   "outputs": [],
   "source": [
    "df = pd.DataFrame(get_data('province, district, ward'))"
   ],
   "metadata": {
    "collapsed": false,
    "ExecuteTime": {
     "end_time": "2024-09-29T12:57:29.239821Z",
     "start_time": "2024-09-29T12:57:29.202864Z"
    }
   },
   "id": "843e5fe3c4acc68d",
   "execution_count": 2
  },
  {
   "cell_type": "code",
   "outputs": [
    {
     "data": {
      "text/plain": "  province district       ward\n0   Hà Nội  Ba Đình    Phúc Xá\n1   Hà Nội  Ba Đình  Trúc Bạch\n2   Hà Nội  Ba Đình  Vĩnh Phúc\n3   Hà Nội  Ba Đình    Cống Vị\n4   Hà Nội  Ba Đình  Liễu Giai",
      "text/html": "<div>\n<style scoped>\n    .dataframe tbody tr th:only-of-type {\n        vertical-align: middle;\n    }\n\n    .dataframe tbody tr th {\n        vertical-align: top;\n    }\n\n    .dataframe thead th {\n        text-align: right;\n    }\n</style>\n<table border=\"1\" class=\"dataframe\">\n  <thead>\n    <tr style=\"text-align: right;\">\n      <th></th>\n      <th>province</th>\n      <th>district</th>\n      <th>ward</th>\n    </tr>\n  </thead>\n  <tbody>\n    <tr>\n      <th>0</th>\n      <td>Hà Nội</td>\n      <td>Ba Đình</td>\n      <td>Phúc Xá</td>\n    </tr>\n    <tr>\n      <th>1</th>\n      <td>Hà Nội</td>\n      <td>Ba Đình</td>\n      <td>Trúc Bạch</td>\n    </tr>\n    <tr>\n      <th>2</th>\n      <td>Hà Nội</td>\n      <td>Ba Đình</td>\n      <td>Vĩnh Phúc</td>\n    </tr>\n    <tr>\n      <th>3</th>\n      <td>Hà Nội</td>\n      <td>Ba Đình</td>\n      <td>Cống Vị</td>\n    </tr>\n    <tr>\n      <th>4</th>\n      <td>Hà Nội</td>\n      <td>Ba Đình</td>\n      <td>Liễu Giai</td>\n    </tr>\n  </tbody>\n</table>\n</div>"
     },
     "execution_count": 3,
     "metadata": {},
     "output_type": "execute_result"
    }
   ],
   "source": [
    "df.head()"
   ],
   "metadata": {
    "collapsed": false,
    "ExecuteTime": {
     "end_time": "2024-09-29T12:57:29.248170Z",
     "start_time": "2024-09-29T12:57:29.240527Z"
    }
   },
   "id": "7a3b6a9c933e4f34",
   "execution_count": 3
  },
  {
   "cell_type": "code",
   "outputs": [
    {
     "data": {
      "text/plain": "(10547, 3)"
     },
     "execution_count": 4,
     "metadata": {},
     "output_type": "execute_result"
    }
   ],
   "source": [
    "df.shape"
   ],
   "metadata": {
    "collapsed": false,
    "ExecuteTime": {
     "end_time": "2024-09-29T12:57:29.250704Z",
     "start_time": "2024-09-29T12:57:29.248766Z"
    }
   },
   "id": "ccd67ba888756879",
   "execution_count": 4
  },
  {
   "cell_type": "markdown",
   "source": [
    "## parse_address"
   ],
   "metadata": {
    "collapsed": false
   },
   "id": "7b285babaafcf9cd"
  },
  {
   "cell_type": "markdown",
   "source": [
    "### Normal address"
   ],
   "metadata": {
    "collapsed": false
   },
   "id": "4ca78f09a558bcc5"
  },
  {
   "cell_type": "code",
   "outputs": [
    {
     "data": {
      "text/plain": "AdministrativeUnit:\nAttribute                 | Value                    \n----------------------------------------------------\nprovince                  | Đà Nẵng                  \ndistrict                  | Sơn Trà                  \nward                      | An Hải Bắc               \n----------------------------------------------------\nlong_province             | Thành phố Đà Nẵng        \nlong_district             | Quận Sơn Trà             \nlong_ward                 | Phường An Hải Bắc        \n----------------------------------------------------\nshort_district            | Sơn Trà                  \nshort_ward                | An Hải Bắc               \n----------------------------------------------------\nprovince_english          | Da Nang                  \ndistrict_english          | Son Tra                  \nward_english              | An Hai Bac               \n----------------------------------------------------\nlong_province_english     | Da Nang City             \nlong_district_english     | Son Tra District         \nlong_ward_english         | An Hai Bac Ward          \n----------------------------------------------------\nshort_district_english    | Son Tra                  \nshort_ward_english        | An Hai Bac               \n----------------------------------------------------\ndistrict_level            | Quận                     \nward_level                | Phường                   \n----------------------------------------------------\ndistrict_level_english    | District                 \nward_level_english        | Ward                     "
     },
     "execution_count": 5,
     "metadata": {},
     "output_type": "execute_result"
    }
   ],
   "source": [
    "parse_address('03 Nguyễn Cao Luyện, An Hải Bắc, Sơn Trà, Đà Nẵng 550000, Việt Nam')"
   ],
   "metadata": {
    "collapsed": false,
    "ExecuteTime": {
     "end_time": "2024-09-29T12:57:29.257279Z",
     "start_time": "2024-09-29T12:57:29.252017Z"
    }
   },
   "id": "518b68d39bed29b9",
   "execution_count": 5
  },
  {
   "cell_type": "code",
   "outputs": [
    {
     "data": {
      "text/plain": "AdministrativeUnit:\nAttribute                 | Value                    \n----------------------------------------------------\nprovince                  | Đà Nẵng                  \ndistrict                  | Sơn Trà                  \nward                      | An Hải Bắc               \n----------------------------------------------------\nlong_province             | Thành phố Đà Nẵng        \nlong_district             | Quận Sơn Trà             \nlong_ward                 | Phường An Hải Bắc        \n----------------------------------------------------\nshort_district            | Sơn Trà                  \nshort_ward                | An Hải Bắc               \n----------------------------------------------------\nprovince_english          | Da Nang                  \ndistrict_english          | Son Tra                  \nward_english              | An Hai Bac               \n----------------------------------------------------\nlong_province_english     | Da Nang City             \nlong_district_english     | Son Tra District         \nlong_ward_english         | An Hai Bac Ward          \n----------------------------------------------------\nshort_district_english    | Son Tra                  \nshort_ward_english        | An Hai Bac               \n----------------------------------------------------\ndistrict_level            | Quận                     \nward_level                | Phường                   \n----------------------------------------------------\ndistrict_level_english    | District                 \nward_level_english        | Ward                     "
     },
     "execution_count": 6,
     "metadata": {},
     "output_type": "execute_result"
    }
   ],
   "source": [
    "parse_address('An Hải Bắc, Sơn Trà')"
   ],
   "metadata": {
    "collapsed": false,
    "ExecuteTime": {
     "end_time": "2024-09-29T12:57:29.260486Z",
     "start_time": "2024-09-29T12:57:29.257803Z"
    }
   },
   "id": "e8d64c1ef004b719",
   "execution_count": 6
  },
  {
   "cell_type": "markdown",
   "source": [
    "### Missing province address"
   ],
   "metadata": {
    "collapsed": false
   },
   "id": "63b0a7ba9b4c97a6"
  },
  {
   "cell_type": "markdown",
   "source": [
    "#### Unique long district alphanumeric"
   ],
   "metadata": {
    "collapsed": false
   },
   "id": "d1cf15a97751edfd"
  },
  {
   "cell_type": "code",
   "outputs": [],
   "source": [
    "from vietadminunits.parse import DICT_unique_long_district_alphanumerics"
   ],
   "metadata": {
    "collapsed": false,
    "ExecuteTime": {
     "end_time": "2024-09-29T12:57:29.262454Z",
     "start_time": "2024-09-29T12:57:29.261144Z"
    }
   },
   "id": "1f5a45ac584386d0",
   "execution_count": 7
  },
  {
   "cell_type": "code",
   "outputs": [
    {
     "name": "stdout",
     "output_type": "stream",
     "text": [
      "thanhphophanrangthapcham\n"
     ]
    },
    {
     "data": {
      "text/plain": "AdministrativeUnit:\nAttribute                 | Value                    \n----------------------------------------------------\nprovince                  | Ninh Thuận               \ndistrict                  | Phan Rang - Tháp Chàm    \nward                      |                          \n----------------------------------------------------\nlong_province             | Tỉnh Ninh Thuận          \nlong_district             | Thành phố Phan Rang - Tháp Chàm\nlong_ward                 |                          \n----------------------------------------------------\nshort_district            | Phan Rang - Tháp Chàm    \nshort_ward                |                          \n----------------------------------------------------\nprovince_english          | Ninh Thuan               \ndistrict_english          | Phan Rang - Thap Cham    \nward_english              |                          \n----------------------------------------------------\nlong_province_english     | Ninh Thuan Province      \nlong_district_english     | Phan Rang - Thap Cham City\nlong_ward_english         |                          \n----------------------------------------------------\nshort_district_english    | Phan Rang - Thap Cham    \nshort_ward_english        |                          \n----------------------------------------------------\ndistrict_level            | Thành phố                \nward_level                |                          \n----------------------------------------------------\ndistrict_level_english    | City                     \nward_level_english        |                          "
     },
     "execution_count": 8,
     "metadata": {},
     "output_type": "execute_result"
    }
   ],
   "source": [
    "district = next(iter(DICT_unique_long_district_alphanumerics))\n",
    "print(district)\n",
    "parse_address(district)"
   ],
   "metadata": {
    "collapsed": false,
    "ExecuteTime": {
     "end_time": "2024-09-29T12:57:29.266504Z",
     "start_time": "2024-09-29T12:57:29.262941Z"
    }
   },
   "id": "73880ff4034afc5a",
   "execution_count": 8
  },
  {
   "cell_type": "markdown",
   "source": [
    "#### Not-unique long district alphanumeric"
   ],
   "metadata": {
    "collapsed": false
   },
   "id": "935d0a6318e03aae"
  },
  {
   "cell_type": "code",
   "outputs": [],
   "source": [
    "from vietadminunits.parse import DICT_not_unique_long_district_alphanumerics"
   ],
   "metadata": {
    "collapsed": false,
    "ExecuteTime": {
     "end_time": "2024-09-29T12:57:29.268530Z",
     "start_time": "2024-09-29T12:57:29.267067Z"
    }
   },
   "id": "fc9b7aba6b17c45f",
   "execution_count": 9
  },
  {
   "cell_type": "code",
   "outputs": [
    {
     "name": "stdout",
     "output_type": "stream",
     "text": [
      "dienhuong phongdiendistrict\n"
     ]
    },
    {
     "data": {
      "text/plain": "AdministrativeUnit:\nAttribute                 | Value                    \n----------------------------------------------------\nprovince                  | Thừa Thiên Huế           \ndistrict                  | Phong Điền               \nward                      | Điền Hương               \n----------------------------------------------------\nlong_province             | Tỉnh Thừa Thiên Huế      \nlong_district             | Huyện Phong Điền         \nlong_ward                 | Xã Điền Hương            \n----------------------------------------------------\nshort_district            | Phong Điền               \nshort_ward                | Điền Hương               \n----------------------------------------------------\nprovince_english          | Thua Thien Hue           \ndistrict_english          | Phong Dien               \nward_english              | Dien Huong               \n----------------------------------------------------\nlong_province_english     | Thua Thien Hue Province  \nlong_district_english     | Phong Dien District      \nlong_ward_english         | Dien Huong Commune       \n----------------------------------------------------\nshort_district_english    | Phong Dien               \nshort_ward_english        | Dien Huong               \n----------------------------------------------------\ndistrict_level            | Huyện                    \nward_level                | Xã                       \n----------------------------------------------------\ndistrict_level_english    | District                 \nward_level_english        | Commune                  "
     },
     "execution_count": 10,
     "metadata": {},
     "output_type": "execute_result"
    }
   ],
   "source": [
    "district = next(iter(DICT_not_unique_long_district_alphanumerics))\n",
    "ward = DICT_not_unique_long_district_alphanumerics[district][next(iter(DICT_not_unique_long_district_alphanumerics[district]))][0]\n",
    "address = f'{ward} {district}'\n",
    "print(address)\n",
    "parse_address(address)"
   ],
   "metadata": {
    "collapsed": false,
    "ExecuteTime": {
     "end_time": "2024-09-29T12:57:29.273939Z",
     "start_time": "2024-09-29T12:57:29.269155Z"
    }
   },
   "id": "7d8866697e48c90a",
   "execution_count": 10
  },
  {
   "cell_type": "markdown",
   "source": [
    "#### Unique district key"
   ],
   "metadata": {
    "collapsed": false
   },
   "id": "8749e7f65c1c989e"
  },
  {
   "cell_type": "code",
   "outputs": [],
   "source": [
    "from vietadminunits.parse import DICT_unique_district_keys"
   ],
   "metadata": {
    "collapsed": false,
    "ExecuteTime": {
     "end_time": "2024-09-29T12:57:29.276448Z",
     "start_time": "2024-09-29T12:57:29.274686Z"
    }
   },
   "id": "b0f1916651a5f200",
   "execution_count": 11
  },
  {
   "cell_type": "code",
   "outputs": [
    {
     "name": "stdout",
     "output_type": "stream",
     "text": [
      "phanrangthapcham\n"
     ]
    },
    {
     "data": {
      "text/plain": "AdministrativeUnit:\nAttribute                 | Value                    \n----------------------------------------------------\nprovince                  | Ninh Thuận               \ndistrict                  | Phan Rang - Tháp Chàm    \nward                      |                          \n----------------------------------------------------\nlong_province             | Tỉnh Ninh Thuận          \nlong_district             | Thành phố Phan Rang - Tháp Chàm\nlong_ward                 |                          \n----------------------------------------------------\nshort_district            | Phan Rang - Tháp Chàm    \nshort_ward                |                          \n----------------------------------------------------\nprovince_english          | Ninh Thuan               \ndistrict_english          | Phan Rang - Thap Cham    \nward_english              |                          \n----------------------------------------------------\nlong_province_english     | Ninh Thuan Province      \nlong_district_english     | Phan Rang - Thap Cham City\nlong_ward_english         |                          \n----------------------------------------------------\nshort_district_english    | Phan Rang - Thap Cham    \nshort_ward_english        |                          \n----------------------------------------------------\ndistrict_level            | Thành phố                \nward_level                |                          \n----------------------------------------------------\ndistrict_level_english    | City                     \nward_level_english        |                          "
     },
     "execution_count": 12,
     "metadata": {},
     "output_type": "execute_result"
    }
   ],
   "source": [
    "district = next(iter(DICT_unique_district_keys))\n",
    "print(district)\n",
    "parse_address(district)"
   ],
   "metadata": {
    "collapsed": false,
    "ExecuteTime": {
     "end_time": "2024-09-29T12:57:29.279809Z",
     "start_time": "2024-09-29T12:57:29.276880Z"
    }
   },
   "id": "15489a3c338cc361",
   "execution_count": 12
  },
  {
   "cell_type": "markdown",
   "source": [
    "#### Not-unique district key"
   ],
   "metadata": {
    "collapsed": false
   },
   "id": "ecd014064d73995b"
  },
  {
   "cell_type": "code",
   "outputs": [],
   "source": [
    "from vietadminunits.parse import DICT_not_unique_district_keys"
   ],
   "metadata": {
    "collapsed": false,
    "ExecuteTime": {
     "end_time": "2024-09-29T12:57:29.281761Z",
     "start_time": "2024-09-29T12:57:29.280370Z"
    }
   },
   "id": "38d50967358fabe4",
   "execution_count": 13
  },
  {
   "cell_type": "code",
   "outputs": [
    {
     "name": "stdout",
     "output_type": "stream",
     "text": [
      "duongminhchau duongminhchau\n"
     ]
    },
    {
     "data": {
      "text/plain": "AdministrativeUnit:\nAttribute                 | Value                    \n----------------------------------------------------\nprovince                  | Tây Ninh                 \ndistrict                  | Dương Minh Châu          \nward                      | Dương Minh Châu          \n----------------------------------------------------\nlong_province             | Tỉnh Tây Ninh            \nlong_district             | Huyện Dương Minh Châu    \nlong_ward                 | Thị trấn Dương Minh Châu \n----------------------------------------------------\nshort_district            | Dương Minh Châu          \nshort_ward                | Dương Minh Châu          \n----------------------------------------------------\nprovince_english          | Tay Ninh                 \ndistrict_english          | Duong Minh Chau          \nward_english              | Duong Minh Chau          \n----------------------------------------------------\nlong_province_english     | Tay Ninh Province        \nlong_district_english     | Duong Minh Chau District \nlong_ward_english         | Duong Minh Chau Town     \n----------------------------------------------------\nshort_district_english    | Duong Minh Chau          \nshort_ward_english        | Duong Minh Chau          \n----------------------------------------------------\ndistrict_level            | Huyện                    \nward_level                | Thị trấn                 \n----------------------------------------------------\ndistrict_level_english    | District                 \nward_level_english        | Town                     "
     },
     "execution_count": 14,
     "metadata": {},
     "output_type": "execute_result"
    }
   ],
   "source": [
    "district = next(iter(DICT_not_unique_district_keys))\n",
    "ward = DICT_not_unique_district_keys[district][next(iter(DICT_not_unique_district_keys[district]))][0]\n",
    "address = f'{ward} {district}'\n",
    "print(address)\n",
    "parse_address(address)"
   ],
   "metadata": {
    "collapsed": false,
    "ExecuteTime": {
     "end_time": "2024-09-29T12:57:29.287833Z",
     "start_time": "2024-09-29T12:57:29.284082Z"
    }
   },
   "id": "935b7f8d058afbce",
   "execution_count": 14
  },
  {
   "cell_type": "markdown",
   "source": [
    "### Abbreviate address"
   ],
   "metadata": {
    "collapsed": false
   },
   "id": "b90f6b599125d611"
  },
  {
   "cell_type": "code",
   "outputs": [
    {
     "data": {
      "text/plain": "AdministrativeUnit:\nAttribute                 | Value                    \n----------------------------------------------------\nprovince                  | Hồ Chí Minh              \ndistrict                  | Quận 5                   \nward                      | Phường 2                 \n----------------------------------------------------\nlong_province             | Thành phố Hồ Chí Minh    \nlong_district             | Quận 5                   \nlong_ward                 | Phường 2                 \n----------------------------------------------------\nshort_district            | Quận 5                   \nshort_ward                | Phường 2                 \n----------------------------------------------------\nprovince_english          | Ho Chi Minh              \ndistrict_english          | District 5               \nward_english              | Ward 2                   \n----------------------------------------------------\nlong_province_english     | Ho Chi Minh City         \nlong_district_english     | District 5               \nlong_ward_english         | Ward 2                   \n----------------------------------------------------\nshort_district_english    | District 5               \nshort_ward_english        | Ward 2                   \n----------------------------------------------------\ndistrict_level            | Quận                     \nward_level                | Phường                   \n----------------------------------------------------\ndistrict_level_english    | District                 \nward_level_english        | Ward                     "
     },
     "execution_count": 15,
     "metadata": {},
     "output_type": "execute_result"
    }
   ],
   "source": [
    "parse_address('p2 q5')"
   ],
   "metadata": {
    "collapsed": false,
    "ExecuteTime": {
     "end_time": "2024-09-29T12:57:29.291788Z",
     "start_time": "2024-09-29T12:57:29.288546Z"
    }
   },
   "id": "45d135ad97c81f4d",
   "execution_count": 15
  },
  {
   "cell_type": "markdown",
   "source": [
    "### Alias key in address"
   ],
   "metadata": {
    "collapsed": false
   },
   "id": "e2f8539473d1fba4"
  },
  {
   "cell_type": "code",
   "outputs": [
    {
     "data": {
      "text/plain": "AdministrativeUnit:\nAttribute                 | Value                    \n----------------------------------------------------\nprovince                  | Hồ Chí Minh              \ndistrict                  | Thủ Đức                  \nward                      |                          \n----------------------------------------------------\nlong_province             | Thành phố Hồ Chí Minh    \nlong_district             | Thành phố Thủ Đức        \nlong_ward                 |                          \n----------------------------------------------------\nshort_district            | Thủ Đức                  \nshort_ward                |                          \n----------------------------------------------------\nprovince_english          | Ho Chi Minh              \ndistrict_english          | Thu Duc                  \nward_english              |                          \n----------------------------------------------------\nlong_province_english     | Ho Chi Minh City         \nlong_district_english     | Thu Duc City             \nlong_ward_english         |                          \n----------------------------------------------------\nshort_district_english    | Thu Duc                  \nshort_ward_english        |                          \n----------------------------------------------------\ndistrict_level            | Thành phố                \nward_level                |                          \n----------------------------------------------------\ndistrict_level_english    | City                     \nward_level_english        |                          "
     },
     "execution_count": 16,
     "metadata": {},
     "output_type": "execute_result"
    }
   ],
   "source": [
    "parse_address('quan 2, hcm')"
   ],
   "metadata": {
    "collapsed": false,
    "ExecuteTime": {
     "end_time": "2024-09-29T12:57:29.295922Z",
     "start_time": "2024-09-29T12:57:29.292368Z"
    }
   },
   "id": "e3358955bc459a59",
   "execution_count": 16
  },
  {
   "cell_type": "markdown",
   "source": [
    "### Half district key in address"
   ],
   "metadata": {
    "collapsed": false
   },
   "id": "9fcc867c9396f490"
  },
  {
   "cell_type": "code",
   "outputs": [
    {
     "data": {
      "text/plain": "AdministrativeUnit:\nAttribute                 | Value                    \n----------------------------------------------------\nprovince                  | Hà Nội                   \ndistrict                  | Nam Từ Liêm              \nward                      |                          \n----------------------------------------------------\nlong_province             | Thành phố Hà Nội         \nlong_district             | Quận Nam Từ Liêm         \nlong_ward                 |                          \n----------------------------------------------------\nshort_district            | Nam Từ Liêm              \nshort_ward                |                          \n----------------------------------------------------\nprovince_english          | Ha Noi                   \ndistrict_english          | Nam Tu Liem              \nward_english              |                          \n----------------------------------------------------\nlong_province_english     | Ha Noi City              \nlong_district_english     | Nam Tu Liem District     \nlong_ward_english         |                          \n----------------------------------------------------\nshort_district_english    | Nam Tu Liem              \nshort_ward_english        |                          \n----------------------------------------------------\ndistrict_level            | Quận                     \nward_level                |                          \n----------------------------------------------------\ndistrict_level_english    | District                 \nward_level_english        |                          "
     },
     "execution_count": 17,
     "metadata": {},
     "output_type": "execute_result"
    }
   ],
   "source": [
    "parse_address('Từ Liêm, Hà Nội')"
   ],
   "metadata": {
    "collapsed": false,
    "ExecuteTime": {
     "end_time": "2024-09-29T12:57:29.300065Z",
     "start_time": "2024-09-29T12:57:29.296511Z"
    }
   },
   "id": "e8751c8a04418a61",
   "execution_count": 17
  },
  {
   "cell_type": "code",
   "outputs": [
    {
     "data": {
      "text/plain": "AdministrativeUnit:\nAttribute                 | Value                    \n----------------------------------------------------\nprovince                  | Hà Nội                   \ndistrict                  | Bắc Từ Liêm              \nward                      | Thượng Cát               \n----------------------------------------------------\nlong_province             | Thành phố Hà Nội         \nlong_district             | Quận Bắc Từ Liêm         \nlong_ward                 | Phường Thượng Cát        \n----------------------------------------------------\nshort_district            | Bắc Từ Liêm              \nshort_ward                | Thượng Cát               \n----------------------------------------------------\nprovince_english          | Ha Noi                   \ndistrict_english          | Bac Tu Liem              \nward_english              | Thuong Cat               \n----------------------------------------------------\nlong_province_english     | Ha Noi City              \nlong_district_english     | Bac Tu Liem District     \nlong_ward_english         | Thuong Cat Ward          \n----------------------------------------------------\nshort_district_english    | Bac Tu Liem              \nshort_ward_english        | Thuong Cat               \n----------------------------------------------------\ndistrict_level            | Quận                     \nward_level                | Phường                   \n----------------------------------------------------\ndistrict_level_english    | District                 \nward_level_english        | Ward                     "
     },
     "execution_count": 18,
     "metadata": {},
     "output_type": "execute_result"
    }
   ],
   "source": [
    "parse_address('Thượng Cát, Từ Liêm, Hà Nội')"
   ],
   "metadata": {
    "collapsed": false,
    "ExecuteTime": {
     "end_time": "2024-09-29T12:57:29.303453Z",
     "start_time": "2024-09-29T12:57:29.300662Z"
    }
   },
   "id": "9b2d81a3b275d9b",
   "execution_count": 18
  },
  {
   "cell_type": "markdown",
   "source": [
    "### Duplicated district key in address (One key has two level)"
   ],
   "metadata": {
    "collapsed": false
   },
   "id": "486158194457ef34"
  },
  {
   "cell_type": "code",
   "outputs": [
    {
     "data": {
      "text/plain": "AdministrativeUnit:\nAttribute                 | Value                    \n----------------------------------------------------\nprovince                  | Hà Tĩnh                  \ndistrict                  | Thị xã Kỳ Anh            \nward                      |                          \n----------------------------------------------------\nlong_province             | Tỉnh Hà Tĩnh             \nlong_district             | Thị xã Kỳ Anh            \nlong_ward                 |                          \n----------------------------------------------------\nshort_district            | Kỳ Anh                   \nshort_ward                |                          \n----------------------------------------------------\nprovince_english          | Ha Tinh                  \ndistrict_english          | Ky Anh Town              \nward_english              |                          \n----------------------------------------------------\nlong_province_english     | Ha Tinh Province         \nlong_district_english     | Ky Anh Town              \nlong_ward_english         |                          \n----------------------------------------------------\nshort_district_english    | Ky Anh                   \nshort_ward_english        |                          \n----------------------------------------------------\ndistrict_level            | Thị xã                   \nward_level                |                          \n----------------------------------------------------\ndistrict_level_english    | Town                     \nward_level_english        |                          "
     },
     "execution_count": 19,
     "metadata": {},
     "output_type": "execute_result"
    }
   ],
   "source": [
    "parse_address('Ky Anh')"
   ],
   "metadata": {
    "collapsed": false,
    "ExecuteTime": {
     "end_time": "2024-09-29T12:57:29.306933Z",
     "start_time": "2024-09-29T12:57:29.304032Z"
    }
   },
   "id": "2e6af37639f4a1ef",
   "execution_count": 19
  },
  {
   "cell_type": "code",
   "outputs": [
    {
     "data": {
      "text/plain": "AdministrativeUnit:\nAttribute                 | Value                    \n----------------------------------------------------\nprovince                  | Hà Tĩnh                  \ndistrict                  | Thị xã Kỳ Anh            \nward                      | Hưng Trí                 \n----------------------------------------------------\nlong_province             | Tỉnh Hà Tĩnh             \nlong_district             | Thị xã Kỳ Anh            \nlong_ward                 | Phường Hưng Trí          \n----------------------------------------------------\nshort_district            | Kỳ Anh                   \nshort_ward                | Hưng Trí                 \n----------------------------------------------------\nprovince_english          | Ha Tinh                  \ndistrict_english          | Ky Anh Town              \nward_english              | Hung Tri                 \n----------------------------------------------------\nlong_province_english     | Ha Tinh Province         \nlong_district_english     | Ky Anh Town              \nlong_ward_english         | Hung Tri Ward            \n----------------------------------------------------\nshort_district_english    | Ky Anh                   \nshort_ward_english        | Hung Tri                 \n----------------------------------------------------\ndistrict_level            | Thị xã                   \nward_level                | Phường                   \n----------------------------------------------------\ndistrict_level_english    | Town                     \nward_level_english        | Ward                     "
     },
     "execution_count": 20,
     "metadata": {},
     "output_type": "execute_result"
    }
   ],
   "source": [
    "parse_address('Hưng Trí, Kỳ Anh')"
   ],
   "metadata": {
    "collapsed": false,
    "ExecuteTime": {
     "end_time": "2024-09-29T12:57:29.309901Z",
     "start_time": "2024-09-29T12:57:29.307513Z"
    }
   },
   "id": "4092498b30f3af6d",
   "execution_count": 20
  },
  {
   "cell_type": "code",
   "outputs": [
    {
     "data": {
      "text/plain": "AdministrativeUnit:\nAttribute                 | Value                    \n----------------------------------------------------\nprovince                  | Hà Tĩnh                  \ndistrict                  | Huyện Kỳ Anh             \nward                      | Kỳ Lạc                   \n----------------------------------------------------\nlong_province             | Tỉnh Hà Tĩnh             \nlong_district             | Huyện Kỳ Anh             \nlong_ward                 | Xã Kỳ Lạc                \n----------------------------------------------------\nshort_district            | Kỳ Anh                   \nshort_ward                | Kỳ Lạc                   \n----------------------------------------------------\nprovince_english          | Ha Tinh                  \ndistrict_english          | Ky Anh District          \nward_english              | Ky Lac                   \n----------------------------------------------------\nlong_province_english     | Ha Tinh Province         \nlong_district_english     | Ky Anh District          \nlong_ward_english         | Ky Lac Commune           \n----------------------------------------------------\nshort_district_english    | Ky Anh                   \nshort_ward_english        | Ky Lac                   \n----------------------------------------------------\ndistrict_level            | Huyện                    \nward_level                | Xã                       \n----------------------------------------------------\ndistrict_level_english    | District                 \nward_level_english        | Commune                  "
     },
     "execution_count": 21,
     "metadata": {},
     "output_type": "execute_result"
    }
   ],
   "source": [
    "parse_address('Kỳ Lạc, Kỳ Anh')"
   ],
   "metadata": {
    "collapsed": false,
    "ExecuteTime": {
     "end_time": "2024-09-29T12:57:29.313319Z",
     "start_time": "2024-09-29T12:57:29.310546Z"
    }
   },
   "id": "ef0fdbfb8a07cbc5",
   "execution_count": 21
  },
  {
   "cell_type": "markdown",
   "source": [
    "### Duplicated ward key in address"
   ],
   "metadata": {
    "collapsed": false
   },
   "id": "2f433d69c57ba332"
  },
  {
   "cell_type": "code",
   "outputs": [],
   "source": [
    "from vietadminunits.parse import DICT_duplicated_ward_keys"
   ],
   "metadata": {
    "collapsed": false,
    "ExecuteTime": {
     "end_time": "2024-09-29T12:57:29.315250Z",
     "start_time": "2024-09-29T12:57:29.313913Z"
    }
   },
   "id": "da834e9d969a5552",
   "execution_count": 22
  },
  {
   "cell_type": "code",
   "outputs": [
    {
     "name": "stdout",
     "output_type": "stream",
     "text": [
      "{'An Giang': {'Phu Tan': {'phuthanh': {'Phú Thạnh': {'default': 'Commune', 'all': ['Commune'], 'total': 1}, 'Phú Thành': {'default': 'Commune', 'all': ['Commune'], 'total': 1}}}}, 'Bac Lieu': {'Phuoc Long': {'phuoclong': {'Phước Long': {'default': 'Commune', 'all': ['Town', 'Commune'], 'total': 2}}}}, 'Binh Phuoc': {'Loc Ninh': {'locthanh': {'Lộc Thạnh': {'default': 'Commune', 'all': ['Commune'], 'total': 1}, 'Lộc Thành': {'default': 'Commune', 'all': ['Commune'], 'total': 1}}}}, 'Ca Mau': {'Ca Mau': {'tanthanh': {'Tân Thành': {'default': 'Ward', 'all': ['Ward', 'Commune'], 'total': 2}}}, 'Thoi Binh': {'thoibinh': {'Thới Bình': {'default': 'Commune', 'all': ['Town', 'Commune'], 'total': 2}}}}, 'Can Tho': {'Vinh Thanh': {'thanhan': {'Thanh An': {'default': 'Town', 'all': ['Town'], 'total': 1}, 'Thạnh An': {'default': 'Commune', 'all': ['Commune'], 'total': 1}}}}, 'Dong Thap': {'Cao Lanh District': {'binhthanh': {'Bình Thạnh': {'default': 'Commune', 'all': ['Commune'], 'total': 1}}, 'mytho': {'Mỹ Thọ': {'default': 'Commune', 'all': ['Town', 'Commune'], 'total': 2}}}, 'Thap Muoi': {'myan': {'Mỹ An': {'default': 'Commune', 'all': ['Town', 'Commune'], 'total': 2}}}}, 'Gia Lai': {'Chu Prong': {'iabang': {'Ia Băng': {'default': 'Commune', 'all': ['Commune'], 'total': 1}, 'Ia Bang': {'default': 'Commune', 'all': ['Commune'], 'total': 1}}}}, 'Ha Noi': {'Gia Lam': {'yenvien': {'Yên Viên': {'default': 'Commune', 'all': ['Town', 'Commune'], 'total': 2}}}}, 'Kien Giang': {'Vinh Thuan': {'vinhthuan': {'Vĩnh Thuận': {'default': 'Commune', 'all': ['Town', 'Commune'], 'total': 2}}}}, 'Lai Chau': {'Muong Te': {'muongte': {'Mường Tè': {'default': 'Commune', 'all': ['Town', 'Commune'], 'total': 2}}}}, 'Lam Dong': {'Da Huoai': {'madaguoi': {'Ma Đa Guôi': {'default': 'Commune', 'all': ['Town', 'Commune'], 'total': 2}}}}, 'Lang Son': {'Chi Lang': {'chilang': {'Chi Lăng': {'default': 'Commune', 'all': ['Town', 'Commune'], 'total': 2}}}, 'Dinh Lap': {'dinhlap': {'Đình Lập': {'default': 'Commune', 'all': ['Town', 'Commune'], 'total': 2}}}}, 'Lao Cai': {'Sa Pa': {'sapa': {'Sa Pa': {'default': 'Ward', 'all': ['Ward'], 'total': 1}, 'Sa Pả': {'default': 'Ward', 'all': ['Ward'], 'total': 1}}}}, 'Long An': {'Duc Hoa': {'hiephoa': {'Hiệp Hòa': {'default': 'Commune', 'all': ['Town', 'Commune'], 'total': 2}}}, 'Tan Thanh': {'tanthanh': {'Tân Thạnh': {'default': 'Town', 'all': ['Town'], 'total': 1}, 'Tân Thành': {'default': 'Commune', 'all': ['Commune'], 'total': 1}}}}, 'Nam Dinh': {'Truc Ninh': {'truchung': {'Trực Hưng': {'default': 'Commune', 'all': ['Commune'], 'total': 1}, 'Trực Hùng': {'default': 'Commune', 'all': ['Commune'], 'total': 1}}}}, 'Nghe An': {'Ky Son': {'namcan': {'Nậm Cắn': {'default': 'Commune', 'all': ['Commune'], 'total': 1}, 'Nậm Càn': {'default': 'Commune', 'all': ['Commune'], 'total': 1}}}, 'Nghi Loc': {'nghivan': {'Nghi Văn': {'default': 'Commune', 'all': ['Commune'], 'total': 1}, 'Nghi Vạn': {'default': 'Commune', 'all': ['Commune'], 'total': 1}}}, 'Quy Chau': {'chaubinh': {'Châu Bính': {'default': 'Commune', 'all': ['Commune'], 'total': 1}, 'Châu Bình': {'default': 'Commune', 'all': ['Commune'], 'total': 1}}}}, 'Quang Nam': {'Nam Tra My': {'tradon': {'Trà Dơn': {'default': 'Commune', 'all': ['Commune'], 'total': 1}, 'Trà Don': {'default': 'Commune', 'all': ['Commune'], 'total': 1}}}, 'Phu Ninh': {'tamdan': {'Tam Đàn': {'default': 'Commune', 'all': ['Commune'], 'total': 1}, 'Tam Dân': {'default': 'Commune', 'all': ['Commune'], 'total': 1}}}}, 'Quang Ngai': {'Ba To': {'bato': {'Ba Tơ': {'default': 'Town', 'all': ['Town'], 'total': 1}, 'Ba Tô': {'default': 'Commune', 'all': ['Commune'], 'total': 1}}}, 'Binh Son': {'binhthanh': {'Bình Thạnh': {'default': 'Commune', 'all': ['Commune'], 'total': 1}, 'Bình Thanh': {'default': 'Commune', 'all': ['Commune'], 'total': 1}}}}, 'Quang Ninh': {'Dam Ha': {'damha': {'Đầm Hà': {'default': 'Commune', 'all': ['Town', 'Commune'], 'total': 2}}}}, 'Soc Trang': {'Long Phu': {'tanthanh': {'Tân Thạnh': {'default': 'Commune', 'all': ['Commune'], 'total': 1}}, 'longphu': {'Long Phú': {'default': 'Commune', 'all': ['Town', 'Commune'], 'total': 2}}}, 'Tran De': {'lichhoithuong': {'Lịch Hội Thượng': {'default': 'Commune', 'all': ['Commune', 'Town'], 'total': 2}}}}, 'Son La': {'Mai Son': {'hatlot': {'Hát Lót': {'default': 'Commune', 'all': ['Town', 'Commune'], 'total': 2}}}}, 'Thanh Hoa': {'Hau Loc': {'hoaloc': {'Hoa Lộc': {'default': 'Commune', 'all': ['Commune'], 'total': 1}, 'Hòa Lộc': {'default': 'Commune', 'all': ['Commune'], 'total': 1}}}, 'Hoang Hoa': {'hoangthanh': {'Hoằng Thành': {'default': 'Commune', 'all': ['Commune'], 'total': 1}, 'Hoằng Thanh': {'default': 'Commune', 'all': ['Commune'], 'total': 1}}, 'hoangdong': {'Hoằng Đồng': {'default': 'Commune', 'all': ['Commune'], 'total': 1}, 'Hoằng Đông': {'default': 'Commune', 'all': ['Commune'], 'total': 1}}, 'hoangphu': {'Hoằng Phú': {'default': 'Commune', 'all': ['Commune'], 'total': 1}, 'Hoằng Phụ': {'default': 'Commune', 'all': ['Commune'], 'total': 1}}, 'hoangquy': {'Hoằng Quỳ': {'default': 'Commune', 'all': ['Commune'], 'total': 1}, 'Hoằng Quý': {'default': 'Commune', 'all': ['Commune'], 'total': 1}}}, 'Nga Son': {'ngathanh': {'Nga Thanh': {'default': 'Commune', 'all': ['Commune'], 'total': 1}, 'Nga Thành': {'default': 'Commune', 'all': ['Commune'], 'total': 1}}}, 'Thieu Hoa': {'thieuhoa': {'Thiệu Hóa': {'default': 'Town', 'all': ['Town'], 'total': 1}, 'Thiệu Hòa': {'default': 'Commune', 'all': ['Commune'], 'total': 1}}}, 'Vinh Loc': {'vinhhung': {'Vĩnh Hưng': {'default': 'Commune', 'all': ['Commune'], 'total': 1}, 'Vĩnh Hùng': {'default': 'Commune', 'all': ['Commune'], 'total': 1}}}}, 'Thua Thien Hue': {'Huong Tra': {'binhthanh': {'Bình Thành': {'default': 'Commune', 'all': ['Commune'], 'total': 1}}, 'huongvan': {'Hương Vân': {'default': 'Ward', 'all': ['Ward'], 'total': 1}, 'Hương Văn': {'default': 'Ward', 'all': ['Ward'], 'total': 1}}}}, 'Tra Vinh': {'Tra Cu': {'dinhan': {'Định An': {'default': 'Commune', 'all': ['Town', 'Commune'], 'total': 2}}}}, 'Vinh Long': {'Binh Minh': {'dongthanh': {'Đông Thạnh': {'default': 'Commune', 'all': ['Commune'], 'total': 1}, 'Đông Thành': {'default': 'Commune', 'all': ['Commune'], 'total': 1}}}}, 'Yen Bai': {'Tram Tau': {'tramtau': {'Trạm Tấu': {'default': 'Commune', 'all': ['Town', 'Commune'], 'total': 2}}}, 'Tran Yen': {'minhquan': {'Minh Quán': {'default': 'Commune', 'all': ['Commune'], 'total': 1}, 'Minh Quân': {'default': 'Commune', 'all': ['Commune'], 'total': 1}}}, 'Yen Binh': {'yenbinh': {'Yên Bình': {'default': 'Commune', 'all': ['Town', 'Commune'], 'total': 2}}}}}\n"
     ]
    }
   ],
   "source": [
    "print(DICT_duplicated_ward_keys)"
   ],
   "metadata": {
    "collapsed": false,
    "ExecuteTime": {
     "end_time": "2024-09-29T12:57:29.318074Z",
     "start_time": "2024-09-29T12:57:29.315815Z"
    }
   },
   "id": "774b1c67b531d244",
   "execution_count": 23
  },
  {
   "cell_type": "markdown",
   "source": [
    "#### One key has two name"
   ],
   "metadata": {
    "collapsed": false
   },
   "id": "3c7dec44a6ad51ff"
  },
  {
   "cell_type": "code",
   "outputs": [
    {
     "data": {
      "text/plain": "AdministrativeUnit:\nAttribute                 | Value                    \n----------------------------------------------------\nprovince                  | An Giang                 \ndistrict                  | Phú Tân                  \nward                      | Phú Thạnh                \n----------------------------------------------------\nlong_province             | Tỉnh An Giang            \nlong_district             | Huyện Phú Tân            \nlong_ward                 | Xã Phú Thạnh             \n----------------------------------------------------\nshort_district            | Phú Tân                  \nshort_ward                | Phú Thạnh                \n----------------------------------------------------\nprovince_english          | An Giang                 \ndistrict_english          | Phu Tan                  \nward_english              | Phu Thanh                \n----------------------------------------------------\nlong_province_english     | An Giang Province        \nlong_district_english     | Phu Tan District         \nlong_ward_english         | Phu Thanh Commune        \n----------------------------------------------------\nshort_district_english    | Phu Tan                  \nshort_ward_english        | Phu Thanh                \n----------------------------------------------------\ndistrict_level            | Huyện                    \nward_level                | Xã                       \n----------------------------------------------------\ndistrict_level_english    | District                 \nward_level_english        | Commune                  "
     },
     "execution_count": 24,
     "metadata": {},
     "output_type": "execute_result"
    }
   ],
   "source": [
    "parse_address('Phú Thạnh, Phú Tân')"
   ],
   "metadata": {
    "collapsed": false,
    "ExecuteTime": {
     "end_time": "2024-09-29T12:57:29.322836Z",
     "start_time": "2024-09-29T12:57:29.318642Z"
    }
   },
   "id": "a362292ea1e7574e",
   "execution_count": 24
  },
  {
   "cell_type": "code",
   "outputs": [
    {
     "data": {
      "text/plain": "AdministrativeUnit:\nAttribute                 | Value                    \n----------------------------------------------------\nprovince                  | An Giang                 \ndistrict                  | Phú Tân                  \nward                      | Phú Thành                \n----------------------------------------------------\nlong_province             | Tỉnh An Giang            \nlong_district             | Huyện Phú Tân            \nlong_ward                 | Xã Phú Thành             \n----------------------------------------------------\nshort_district            | Phú Tân                  \nshort_ward                | Phú Thành                \n----------------------------------------------------\nprovince_english          | An Giang                 \ndistrict_english          | Phu Tan                  \nward_english              | Phu Thanh                \n----------------------------------------------------\nlong_province_english     | An Giang Province        \nlong_district_english     | Phu Tan District         \nlong_ward_english         | Phu Thanh Commune        \n----------------------------------------------------\nshort_district_english    | Phu Tan                  \nshort_ward_english        | Phu Thanh                \n----------------------------------------------------\ndistrict_level            | Huyện                    \nward_level                | Xã                       \n----------------------------------------------------\ndistrict_level_english    | District                 \nward_level_english        | Commune                  "
     },
     "execution_count": 25,
     "metadata": {},
     "output_type": "execute_result"
    }
   ],
   "source": [
    "parse_address('Phú Thành, Phú Tân')"
   ],
   "metadata": {
    "collapsed": false,
    "ExecuteTime": {
     "end_time": "2024-09-29T12:57:29.326570Z",
     "start_time": "2024-09-29T12:57:29.323453Z"
    }
   },
   "id": "16c2512dcba52ab9",
   "execution_count": 25
  },
  {
   "cell_type": "markdown",
   "source": [
    "#### One key has two level"
   ],
   "metadata": {
    "collapsed": false
   },
   "id": "50c1da258242a11b"
  },
  {
   "cell_type": "code",
   "outputs": [
    {
     "data": {
      "text/plain": "AdministrativeUnit:\nAttribute                 | Value                    \n----------------------------------------------------\nprovince                  | Trà Vinh                 \ndistrict                  | Trà Cú                   \nward                      | Xã Định An               \n----------------------------------------------------\nlong_province             | Tỉnh Trà Vinh            \nlong_district             | Huyện Trà Cú             \nlong_ward                 | Xã Định An               \n----------------------------------------------------\nshort_district            | Trà Cú                   \nshort_ward                | Định An                  \n----------------------------------------------------\nprovince_english          | Tra Vinh                 \ndistrict_english          | Tra Cu                   \nward_english              | Dinh An Commune          \n----------------------------------------------------\nlong_province_english     | Tra Vinh Province        \nlong_district_english     | Tra Cu District          \nlong_ward_english         | Dinh An Commune          \n----------------------------------------------------\nshort_district_english    | Tra Cu                   \nshort_ward_english        | Dinh An                  \n----------------------------------------------------\ndistrict_level            | Huyện                    \nward_level                | Xã                       \n----------------------------------------------------\ndistrict_level_english    | District                 \nward_level_english        | Commune                  "
     },
     "execution_count": 26,
     "metadata": {},
     "output_type": "execute_result"
    }
   ],
   "source": [
    "parse_address('Định An, Trà Cú, Trà Vinh')"
   ],
   "metadata": {
    "collapsed": false,
    "ExecuteTime": {
     "end_time": "2024-09-29T12:57:29.330407Z",
     "start_time": "2024-09-29T12:57:29.327120Z"
    }
   },
   "id": "d122b7bb24e1e713",
   "execution_count": 26
  },
  {
   "cell_type": "code",
   "outputs": [
    {
     "data": {
      "text/plain": "AdministrativeUnit:\nAttribute                 | Value                    \n----------------------------------------------------\nprovince                  | Trà Vinh                 \ndistrict                  | Trà Cú                   \nward                      | Xã Định An               \n----------------------------------------------------\nlong_province             | Tỉnh Trà Vinh            \nlong_district             | Huyện Trà Cú             \nlong_ward                 | Xã Định An               \n----------------------------------------------------\nshort_district            | Trà Cú                   \nshort_ward                | Định An                  \n----------------------------------------------------\nprovince_english          | Tra Vinh                 \ndistrict_english          | Tra Cu                   \nward_english              | Dinh An Commune          \n----------------------------------------------------\nlong_province_english     | Tra Vinh Province        \nlong_district_english     | Tra Cu District          \nlong_ward_english         | Dinh An Commune          \n----------------------------------------------------\nshort_district_english    | Tra Cu                   \nshort_ward_english        | Dinh An                  \n----------------------------------------------------\ndistrict_level            | Huyện                    \nward_level                | Xã                       \n----------------------------------------------------\ndistrict_level_english    | District                 \nward_level_english        | Commune                  "
     },
     "execution_count": 27,
     "metadata": {},
     "output_type": "execute_result"
    }
   ],
   "source": [
    "parse_address('Xã Định An, Trà Cú, Trà Vinh')"
   ],
   "metadata": {
    "collapsed": false,
    "ExecuteTime": {
     "end_time": "2024-09-29T12:57:29.333127Z",
     "start_time": "2024-09-29T12:57:29.330961Z"
    }
   },
   "id": "72a62d3eaacf3bf9",
   "execution_count": 27
  },
  {
   "cell_type": "code",
   "outputs": [
    {
     "data": {
      "text/plain": "AdministrativeUnit:\nAttribute                 | Value                    \n----------------------------------------------------\nprovince                  | Trà Vinh                 \ndistrict                  | Trà Cú                   \nward                      | Thị trấn Định An         \n----------------------------------------------------\nlong_province             | Tỉnh Trà Vinh            \nlong_district             | Huyện Trà Cú             \nlong_ward                 | Thị trấn Định An         \n----------------------------------------------------\nshort_district            | Trà Cú                   \nshort_ward                | Định An                  \n----------------------------------------------------\nprovince_english          | Tra Vinh                 \ndistrict_english          | Tra Cu                   \nward_english              | Dinh An Town             \n----------------------------------------------------\nlong_province_english     | Tra Vinh Province        \nlong_district_english     | Tra Cu District          \nlong_ward_english         | Dinh An Town             \n----------------------------------------------------\nshort_district_english    | Tra Cu                   \nshort_ward_english        | Dinh An                  \n----------------------------------------------------\ndistrict_level            | Huyện                    \nward_level                | Thị trấn                 \n----------------------------------------------------\ndistrict_level_english    | District                 \nward_level_english        | Town                     "
     },
     "execution_count": 28,
     "metadata": {},
     "output_type": "execute_result"
    }
   ],
   "source": [
    "parse_address('tt.Định An, Trà Cú, Trà Vinh')"
   ],
   "metadata": {
    "collapsed": false,
    "ExecuteTime": {
     "end_time": "2024-09-29T12:57:29.335864Z",
     "start_time": "2024-09-29T12:57:29.333537Z"
    }
   },
   "id": "694032a31c0363fb",
   "execution_count": 28
  },
  {
   "cell_type": "markdown",
   "source": [
    "### Double check province"
   ],
   "metadata": {
    "collapsed": false
   },
   "id": "d1b60abbe6e7e358"
  },
  {
   "cell_type": "code",
   "outputs": [],
   "source": [
    "from vietadminunits.parse import DICT_double_check_provinces, DICT_double_check_inverted_provinces"
   ],
   "metadata": {
    "collapsed": false,
    "ExecuteTime": {
     "end_time": "2024-09-29T12:57:29.337981Z",
     "start_time": "2024-09-29T12:57:29.336441Z"
    }
   },
   "id": "f9105e068f85bd6f",
   "execution_count": 29
  },
  {
   "cell_type": "code",
   "outputs": [
    {
     "name": "stdout",
     "output_type": "stream",
     "text": [
      "{}\n"
     ]
    }
   ],
   "source": [
    "print(DICT_double_check_provinces)"
   ],
   "metadata": {
    "collapsed": false,
    "ExecuteTime": {
     "end_time": "2024-09-29T12:57:29.340272Z",
     "start_time": "2024-09-29T12:57:29.338468Z"
    }
   },
   "id": "be9810a684ef6a7f",
   "execution_count": 30
  },
  {
   "cell_type": "code",
   "outputs": [
    {
     "name": "stdout",
     "output_type": "stream",
     "text": [
      "{'hatinh': {'quangngai': [['tinhha', 'sontinh']], 'phuyen': [['sonha', 'sonhoa']]}, 'phuyen': {'dongthap': [['caitauha', 'chauthanh'], ['anhiep', 'chauthanh'], ['annhon', 'chauthanh'], ['tannhuandong', 'chauthanh'], ['tanbinh', 'chauthanh'], ['tanphutrung', 'chauthanh'], ['phulong', 'chauthanh'], ['anphuthuan', 'chauthanh'], ['phuhuu', 'chauthanh'], ['ankhanh', 'chauthanh'], ['tanphu', 'chauthanh'], ['hoatan', 'chauthanh']], 'sonla': [['phuyen', 'phuyen'], ['suoito', 'phuyen'], ['muongthai', 'phuyen'], ['muongcoi', 'phuyen'], ['quanghuy', 'phuyen'], ['huybac', 'phuyen'], ['huythuong', 'phuyen'], ['tanlang', 'phuyen'], ['giaphu', 'phuyen'], ['tuongphu', 'phuyen'], ['huyha', 'phuyen'], ['huytan', 'phuyen'], ['muonglang', 'phuyen'], ['suoibau', 'phuyen'], ['huytuong', 'phuyen'], ['muongdo', 'phuyen'], ['sapxa', 'phuyen'], ['tuongthuong', 'phuyen'], ['tuongtien', 'phuyen'], ['tuongphong', 'phuyen'], ['tuongha', 'phuyen'], ['kimbon', 'phuyen'], ['muongbang', 'phuyen'], ['dado', 'phuyen'], ['tanphong', 'phuyen'], ['namphong', 'phuyen'], ['bacphong', 'phuyen']]}, 'quangbinh': {'hagiang': [['xuanminh', 'quangbinh'], ['tiennguyen', 'quangbinh'], ['tannam', 'quangbinh'], ['banria', 'quangbinh'], ['yenthanh', 'quangbinh'], ['yenbinh', 'quangbinh'], ['tantrinh', 'quangbinh'], ['tanbac', 'quangbinh'], ['banglang', 'quangbinh'], ['yenha', 'quangbinh'], ['huongson', 'quangbinh'], ['xuangiang', 'quangbinh'], ['nakhuong', 'quangbinh'], ['tienyen', 'quangbinh'], ['vithuong', 'quangbinh']]}, 'ninhbinh': {'quangninh': [['binhlieu', 'binhlieu'], ['hoanhmo', 'binhlieu'], ['dongtam', 'binhlieu'], ['dongvan', 'binhlieu'], ['vongai', 'binhlieu'], ['luchon', 'binhlieu'], ['hucdong', 'binhlieu']]}, 'ninhthuan': {'bacninh': [['ho', 'thuanthanh'], ['hoaithuong', 'thuanthanh'], ['daidongthanh', 'thuanthanh'], ['maodien', 'thuanthanh'], ['songho', 'thuanthanh'], ['dinhto', 'thuanthanh'], ['anbinh', 'thuanthanh'], ['triqua', 'thuanthanh'], ['giadong', 'thuanthanh'], ['thanhkhuong', 'thuanthanh'], ['tramlo', 'thuanthanh'], ['xuanlam', 'thuanthanh'], ['haman', 'thuanthanh'], ['nguthai', 'thuanthanh'], ['nguyetduc', 'thuanthanh'], ['ninhxa', 'thuanthanh'], ['nghiadao', 'thuanthanh'], ['songlieu', 'thuanthanh']]}, 'angiang': {'hungyen': [['vangiang', 'vangiang'], ['xuanquan', 'vangiang'], ['cuucao', 'vangiang'], ['phungcong', 'vangiang'], ['nghiatru', 'vangiang'], ['longhung', 'vangiang'], ['vinhkhuc', 'vangiang'], ['liennghia', 'vangiang'], ['tantien', 'vangiang'], ['thangloi', 'vangiang'], ['meso', 'vangiang']]}, 'quangninh': {'quangbinh': [['quanhau', 'quangninh'], ['truongson', 'quangninh'], ['luongninh', 'quangninh'], ['vinhninh', 'quangninh'], ['voninh', 'quangninh'], ['haininh', 'quangninh'], ['hamninh', 'quangninh'], ['duyninh', 'quangninh'], ['gianinh', 'quangninh'], ['truongxuan', 'quangninh'], ['hienninh', 'quangninh'], ['tanninh', 'quangninh'], ['xuanninh', 'quangninh'], ['anninh', 'quangninh'], ['vanninh', 'quangninh']]}, 'thanhhoa': {'longan': [['thanhhoa', 'thanhhoa'], ['tanhiep', 'thanhhoa'], ['thuanbinh', 'thanhhoa'], ['thanhphuoc', 'thanhhoa'], ['thanhphu', 'thanhhoa'], ['thuannghiahoa', 'thanhhoa'], ['thuydong', 'thanhhoa'], ['thuytay', 'thanhhoa'], ['tantay', 'thanhhoa'], ['tandong', 'thanhhoa'], ['thanhan', 'thanhhoa']]}, 'hoabinh': {'baclieu': [['hoabinh', 'hoabinh'], ['minhdieu', 'hoabinh'], ['vinhbinh', 'hoabinh'], ['vinhmyb', 'hoabinh'], ['vinhhau', 'hoabinh'], ['vinhhaua', 'hoabinh'], ['vinhmya', 'hoabinh'], ['vinhthinh', 'hoabinh']], 'phuyen': [['hoabinh1', 'tayhoa']]}, 'quangnam': {'phuyen': [['hoaquangnam', 'phuhoa']]}}\n"
     ]
    }
   ],
   "source": [
    "print(DICT_double_check_inverted_provinces)"
   ],
   "metadata": {
    "collapsed": false,
    "ExecuteTime": {
     "end_time": "2024-09-29T12:57:29.342428Z",
     "start_time": "2024-09-29T12:57:29.340893Z"
    }
   },
   "id": "5dff245d0de5db1c",
   "execution_count": 31
  },
  {
   "cell_type": "code",
   "outputs": [
    {
     "data": {
      "text/plain": "AdministrativeUnit:\nAttribute                 | Value                    \n----------------------------------------------------\nprovince                  | Quảng Ngãi               \ndistrict                  | Sơn Tịnh                 \nward                      | Tịnh Hà                  \n----------------------------------------------------\nlong_province             | Tỉnh Quảng Ngãi          \nlong_district             | Huyện Sơn Tịnh           \nlong_ward                 | Xã Tịnh Hà               \n----------------------------------------------------\nshort_district            | Sơn Tịnh                 \nshort_ward                | Tịnh Hà                  \n----------------------------------------------------\nprovince_english          | Quang Ngai               \ndistrict_english          | Son Tinh                 \nward_english              | Tinh Ha                  \n----------------------------------------------------\nlong_province_english     | Quang Ngai Province      \nlong_district_english     | Son Tinh District        \nlong_ward_english         | Tinh Ha Commune          \n----------------------------------------------------\nshort_district_english    | Son Tinh                 \nshort_ward_english        | Tinh Ha                  \n----------------------------------------------------\ndistrict_level            | Huyện                    \nward_level                | Xã                       \n----------------------------------------------------\ndistrict_level_english    | District                 \nward_level_english        | Commune                  "
     },
     "execution_count": 32,
     "metadata": {},
     "output_type": "execute_result"
    }
   ],
   "source": [
    "parse_address('Tịnh Hà Tỉnh Quảng Ngãi Sơn Tịnh')"
   ],
   "metadata": {
    "collapsed": false,
    "ExecuteTime": {
     "end_time": "2024-09-29T12:57:29.347179Z",
     "start_time": "2024-09-29T12:57:29.343021Z"
    }
   },
   "id": "8b031021d30f0eb8",
   "execution_count": 32
  },
  {
   "cell_type": "markdown",
   "source": [
    "### Double check district"
   ],
   "metadata": {
    "collapsed": false
   },
   "id": "305a2ff4559cf8d4"
  },
  {
   "cell_type": "code",
   "outputs": [],
   "source": [
    "from vietadminunits.parse import DICT_double_check_districts"
   ],
   "metadata": {
    "collapsed": false,
    "ExecuteTime": {
     "end_time": "2024-09-29T12:57:29.348968Z",
     "start_time": "2024-09-29T12:57:29.347759Z"
    }
   },
   "id": "d808ae96e7833aa",
   "execution_count": 33
  },
  {
   "cell_type": "code",
   "outputs": [
    {
     "name": "stdout",
     "output_type": "stream",
     "text": [
      "{'Ha Tinh': {'hatinh': ['thachha', 'locha']}, 'Quang Ngai': {'sontinh': ['binhson', 'lyson']}, 'Binh Duong': {'tanuyen': ['bactanuyen']}, 'Ho Chi Minh': {'binhthanh': ['tanbinh']}}\n"
     ]
    }
   ],
   "source": [
    "print(DICT_double_check_districts)"
   ],
   "metadata": {
    "collapsed": false,
    "ExecuteTime": {
     "end_time": "2024-09-29T12:57:29.351285Z",
     "start_time": "2024-09-29T12:57:29.349520Z"
    }
   },
   "id": "2c127ab781d7fcfa",
   "execution_count": 34
  },
  {
   "cell_type": "code",
   "outputs": [
    {
     "data": {
      "text/plain": "AdministrativeUnit:\nAttribute                 | Value                    \n----------------------------------------------------\nprovince                  | Quảng Ngãi               \ndistrict                  | Bình Sơn                 \nward                      |                          \n----------------------------------------------------\nlong_province             | Tỉnh Quảng Ngãi          \nlong_district             | Huyện Bình Sơn           \nlong_ward                 |                          \n----------------------------------------------------\nshort_district            | Bình Sơn                 \nshort_ward                |                          \n----------------------------------------------------\nprovince_english          | Quang Ngai               \ndistrict_english          | Binh Son                 \nward_english              |                          \n----------------------------------------------------\nlong_province_english     | Quang Ngai Province      \nlong_district_english     | Binh Son District        \nlong_ward_english         |                          \n----------------------------------------------------\nshort_district_english    | Binh Son                 \nshort_ward_english        |                          \n----------------------------------------------------\ndistrict_level            | Huyện                    \nward_level                |                          \n----------------------------------------------------\ndistrict_level_english    | District                 \nward_level_english        |                          "
     },
     "execution_count": 35,
     "metadata": {},
     "output_type": "execute_result"
    }
   ],
   "source": [
    "parse_address('Binh Son tinh Quang Ngai')"
   ],
   "metadata": {
    "collapsed": false,
    "ExecuteTime": {
     "end_time": "2024-09-29T12:57:29.354569Z",
     "start_time": "2024-09-29T12:57:29.351834Z"
    }
   },
   "id": "3523e6b9e05e7e04",
   "execution_count": 35
  },
  {
   "cell_type": "code",
   "outputs": [
    {
     "data": {
      "text/plain": "AdministrativeUnit:\nAttribute                 | Value                    \n----------------------------------------------------\nprovince                  | Quảng Ngãi               \ndistrict                  | Sơn Tịnh                 \nward                      | Tịnh Bình                \n----------------------------------------------------\nlong_province             | Tỉnh Quảng Ngãi          \nlong_district             | Huyện Sơn Tịnh           \nlong_ward                 | Xã Tịnh Bình             \n----------------------------------------------------\nshort_district            | Sơn Tịnh                 \nshort_ward                | Tịnh Bình                \n----------------------------------------------------\nprovince_english          | Quang Ngai               \ndistrict_english          | Son Tinh                 \nward_english              | Tinh Binh                \n----------------------------------------------------\nlong_province_english     | Quang Ngai Province      \nlong_district_english     | Son Tinh District        \nlong_ward_english         | Tinh Binh Commune        \n----------------------------------------------------\nshort_district_english    | Son Tinh                 \nshort_ward_english        | Tinh Binh                \n----------------------------------------------------\ndistrict_level            | Huyện                    \nward_level                | Xã                       \n----------------------------------------------------\ndistrict_level_english    | District                 \nward_level_english        | Commune                  "
     },
     "execution_count": 36,
     "metadata": {},
     "output_type": "execute_result"
    }
   ],
   "source": [
    "parse_address('Tinh Binh Son Tinh Quang Ngai')"
   ],
   "metadata": {
    "collapsed": false,
    "ExecuteTime": {
     "end_time": "2024-09-29T12:57:29.358676Z",
     "start_time": "2024-09-29T12:57:29.355214Z"
    }
   },
   "id": "6fbc5f70d80ebf2a",
   "execution_count": 36
  },
  {
   "cell_type": "markdown",
   "source": [
    "### Double check ward"
   ],
   "metadata": {
    "collapsed": false
   },
   "id": "638f348efdfe70f4"
  },
  {
   "cell_type": "code",
   "outputs": [],
   "source": [
    "from vietadminunits.parse import DICT_double_check_wards"
   ],
   "metadata": {
    "collapsed": false,
    "ExecuteTime": {
     "end_time": "2024-09-29T12:57:29.360816Z",
     "start_time": "2024-09-29T12:57:29.359375Z"
    }
   },
   "id": "e1d93172c9d45ee2",
   "execution_count": 37
  },
  {
   "cell_type": "code",
   "outputs": [
    {
     "name": "stdout",
     "output_type": "stream",
     "text": [
      "{'Nam Dinh': {'Hai Hau': {'haianh': ['haian']}}}\n"
     ]
    }
   ],
   "source": [
    "print(DICT_double_check_wards)"
   ],
   "metadata": {
    "collapsed": false,
    "ExecuteTime": {
     "end_time": "2024-09-29T12:57:29.363392Z",
     "start_time": "2024-09-29T12:57:29.361451Z"
    }
   },
   "id": "4048c9c2b6a7d710",
   "execution_count": 38
  },
  {
   "cell_type": "code",
   "outputs": [
    {
     "data": {
      "text/plain": "AdministrativeUnit:\nAttribute                 | Value                    \n----------------------------------------------------\nprovince                  | Nam Định                 \ndistrict                  | Hải Hậu                  \nward                      | Hải Anh                  \n----------------------------------------------------\nlong_province             | Tỉnh Nam Định            \nlong_district             | Huyện Hải Hậu            \nlong_ward                 | Xã Hải Anh               \n----------------------------------------------------\nshort_district            | Hải Hậu                  \nshort_ward                | Hải Anh                  \n----------------------------------------------------\nprovince_english          | Nam Dinh                 \ndistrict_english          | Hai Hau                  \nward_english              | Hai Anh                  \n----------------------------------------------------\nlong_province_english     | Nam Dinh Province        \nlong_district_english     | Hai Hau District         \nlong_ward_english         | Hai Anh Commune          \n----------------------------------------------------\nshort_district_english    | Hai Hau                  \nshort_ward_english        | Hai Anh                  \n----------------------------------------------------\ndistrict_level            | Huyện                    \nward_level                | Xã                       \n----------------------------------------------------\ndistrict_level_english    | District                 \nward_level_english        | Commune                  "
     },
     "execution_count": 39,
     "metadata": {},
     "output_type": "execute_result"
    }
   ],
   "source": [
    "parse_address('Hai Anh Huyen Hai Hau Nam Dinh')"
   ],
   "metadata": {
    "collapsed": false,
    "ExecuteTime": {
     "end_time": "2024-09-29T12:57:29.367096Z",
     "start_time": "2024-09-29T12:57:29.363941Z"
    }
   },
   "id": "ac152d1d9d67a638",
   "execution_count": 39
  },
  {
   "cell_type": "code",
   "outputs": [
    {
     "data": {
      "text/plain": "AdministrativeUnit:\nAttribute                 | Value                    \n----------------------------------------------------\nprovince                  | Nam Định                 \ndistrict                  | Hải Hậu                  \nward                      | Hải An                   \n----------------------------------------------------\nlong_province             | Tỉnh Nam Định            \nlong_district             | Huyện Hải Hậu            \nlong_ward                 | Xã Hải An                \n----------------------------------------------------\nshort_district            | Hải Hậu                  \nshort_ward                | Hải An                   \n----------------------------------------------------\nprovince_english          | Nam Dinh                 \ndistrict_english          | Hai Hau                  \nward_english              | Hai An                   \n----------------------------------------------------\nlong_province_english     | Nam Dinh Province        \nlong_district_english     | Hai Hau District         \nlong_ward_english         | Hai An Commune           \n----------------------------------------------------\nshort_district_english    | Hai Hau                  \nshort_ward_english        | Hai An                   \n----------------------------------------------------\ndistrict_level            | Huyện                    \nward_level                | Xã                       \n----------------------------------------------------\ndistrict_level_english    | District                 \nward_level_english        | Commune                  "
     },
     "execution_count": 40,
     "metadata": {},
     "output_type": "execute_result"
    }
   ],
   "source": [
    "parse_address('Hai An Huyen Hai Hau Nam Dinh')"
   ],
   "metadata": {
    "collapsed": false,
    "ExecuteTime": {
     "end_time": "2024-09-29T12:57:29.369786Z",
     "start_time": "2024-09-29T12:57:29.367618Z"
    }
   },
   "id": "61366f675c14f7cb",
   "execution_count": 40
  }
 ],
 "metadata": {
  "kernelspec": {
   "display_name": "Python 3",
   "language": "python",
   "name": "python3"
  },
  "language_info": {
   "codemirror_mode": {
    "name": "ipython",
    "version": 2
   },
   "file_extension": ".py",
   "mimetype": "text/x-python",
   "name": "python",
   "nbconvert_exporter": "python",
   "pygments_lexer": "ipython2",
   "version": "2.7.6"
  }
 },
 "nbformat": 4,
 "nbformat_minor": 5
}
