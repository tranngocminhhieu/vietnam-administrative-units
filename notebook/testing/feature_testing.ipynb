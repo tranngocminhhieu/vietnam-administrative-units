{
 "cells": [
  {
   "cell_type": "markdown",
   "source": [
    "# Feature testing"
   ],
   "metadata": {
    "collapsed": false
   },
   "id": "a3e4516382fb9ae2"
  },
  {
   "cell_type": "code",
   "execution_count": 1,
   "id": "initial_id",
   "metadata": {
    "collapsed": true,
    "ExecuteTime": {
     "end_time": "2024-09-30T11:10:16.755625Z",
     "start_time": "2024-09-30T11:10:16.474160Z"
    }
   },
   "outputs": [
    {
     "ename": "NameError",
     "evalue": "name 'data_path' is not defined",
     "output_type": "error",
     "traceback": [
      "\u001B[0;31m---------------------------------------------------------------------------\u001B[0m",
      "\u001B[0;31mNameError\u001B[0m                                 Traceback (most recent call last)",
      "Cell \u001B[0;32mIn[1], line 1\u001B[0m\n\u001B[0;32m----> 1\u001B[0m \u001B[38;5;28;01mfrom\u001B[39;00m \u001B[38;5;21;01mvietadminunits\u001B[39;00m \u001B[38;5;28;01mimport\u001B[39;00m parse_address, get_data\n\u001B[1;32m      2\u001B[0m \u001B[38;5;28;01mimport\u001B[39;00m \u001B[38;5;21;01mpandas\u001B[39;00m \u001B[38;5;28;01mas\u001B[39;00m \u001B[38;5;21;01mpd\u001B[39;00m\n",
      "File \u001B[0;32m~/Documents/GitHub/personal/vietnam-administrative-units/vietadminunits/__init__.py:1\u001B[0m\n\u001B[0;32m----> 1\u001B[0m \u001B[38;5;28;01mfrom\u001B[39;00m \u001B[38;5;21;01m.\u001B[39;00m\u001B[38;5;21;01mparse\u001B[39;00m \u001B[38;5;28;01mimport\u001B[39;00m parse_address\n\u001B[1;32m      2\u001B[0m \u001B[38;5;28;01mfrom\u001B[39;00m \u001B[38;5;21;01m.\u001B[39;00m\u001B[38;5;21;01mdatasets\u001B[39;00m \u001B[38;5;28;01mimport\u001B[39;00m get_data\n",
      "File \u001B[0;32m~/Documents/GitHub/personal/vietnam-administrative-units/vietadminunits/parse.py:125\u001B[0m\n\u001B[1;32m    120\u001B[0m     \u001B[38;5;28;01mreturn\u001B[39;00m s\n\u001B[1;32m    122\u001B[0m \u001B[38;5;66;03m# data_path = pkg_resources.files('vietadminunits.data') / 'parse.pkl'\u001B[39;00m\n\u001B[1;32m    123\u001B[0m \n\u001B[1;32m    124\u001B[0m \u001B[38;5;66;03m# Load data from pickle\u001B[39;00m\n\u001B[0;32m--> 125\u001B[0m \u001B[38;5;28;01mwith\u001B[39;00m data_path\u001B[38;5;241m.\u001B[39mopen(\u001B[38;5;124m'\u001B[39m\u001B[38;5;124mrb\u001B[39m\u001B[38;5;124m'\u001B[39m) \u001B[38;5;28;01mas\u001B[39;00m f:\n\u001B[1;32m    126\u001B[0m     data \u001B[38;5;241m=\u001B[39m pickle\u001B[38;5;241m.\u001B[39mload(f)\n\u001B[1;32m    128\u001B[0m \u001B[38;5;66;03m## Part_1_base.ipynb:\u001B[39;00m\n",
      "\u001B[0;31mNameError\u001B[0m: name 'data_path' is not defined"
     ]
    }
   ],
   "source": [
    "from vietadminunits import parse_address, get_data\n",
    "import pandas as pd"
   ]
  },
  {
   "cell_type": "markdown",
   "source": [
    "## get_data"
   ],
   "metadata": {
    "collapsed": false
   },
   "id": "b0407aed56930e5b"
  },
  {
   "cell_type": "code",
   "outputs": [],
   "source": [
    "df = pd.DataFrame(get_data('province, district, ward'))"
   ],
   "metadata": {
    "collapsed": false
   },
   "id": "843e5fe3c4acc68d",
   "execution_count": null
  },
  {
   "cell_type": "code",
   "outputs": [],
   "source": [
    "df.head()"
   ],
   "metadata": {
    "collapsed": false
   },
   "id": "7a3b6a9c933e4f34",
   "execution_count": null
  },
  {
   "cell_type": "code",
   "outputs": [],
   "source": [
    "df.shape"
   ],
   "metadata": {
    "collapsed": false
   },
   "id": "ccd67ba888756879",
   "execution_count": null
  },
  {
   "cell_type": "markdown",
   "source": [
    "## parse_address"
   ],
   "metadata": {
    "collapsed": false
   },
   "id": "7b285babaafcf9cd"
  },
  {
   "cell_type": "markdown",
   "source": [
    "### Normal address"
   ],
   "metadata": {
    "collapsed": false
   },
   "id": "4ca78f09a558bcc5"
  },
  {
   "cell_type": "code",
   "outputs": [],
   "source": [
    "parse_address('03 Nguyễn Cao Luyện, An Hải Bắc, Sơn Trà, Đà Nẵng 550000, Việt Nam')"
   ],
   "metadata": {
    "collapsed": false
   },
   "id": "518b68d39bed29b9",
   "execution_count": null
  },
  {
   "cell_type": "code",
   "outputs": [],
   "source": [
    "parse_address('An Hải Bắc, Sơn Trà')"
   ],
   "metadata": {
    "collapsed": false
   },
   "id": "e8d64c1ef004b719",
   "execution_count": null
  },
  {
   "cell_type": "markdown",
   "source": [
    "### Missing province address"
   ],
   "metadata": {
    "collapsed": false
   },
   "id": "63b0a7ba9b4c97a6"
  },
  {
   "cell_type": "markdown",
   "source": [
    "#### Unique long district alphanumeric"
   ],
   "metadata": {
    "collapsed": false
   },
   "id": "d1cf15a97751edfd"
  },
  {
   "cell_type": "code",
   "outputs": [],
   "source": [
    "from vietadminunits.parse import DICT_unique_long_district_alphanumerics"
   ],
   "metadata": {
    "collapsed": false
   },
   "id": "1f5a45ac584386d0",
   "execution_count": null
  },
  {
   "cell_type": "code",
   "outputs": [],
   "source": [
    "district = next(iter(DICT_unique_long_district_alphanumerics))\n",
    "print(district)\n",
    "parse_address(district)"
   ],
   "metadata": {
    "collapsed": false
   },
   "id": "73880ff4034afc5a",
   "execution_count": null
  },
  {
   "cell_type": "markdown",
   "source": [
    "#### Not-unique long district alphanumeric"
   ],
   "metadata": {
    "collapsed": false
   },
   "id": "935d0a6318e03aae"
  },
  {
   "cell_type": "code",
   "outputs": [],
   "source": [
    "from vietadminunits.parse import DICT_not_unique_long_district_alphanumerics"
   ],
   "metadata": {
    "collapsed": false
   },
   "id": "fc9b7aba6b17c45f",
   "execution_count": null
  },
  {
   "cell_type": "code",
   "outputs": [],
   "source": [
    "district = next(iter(DICT_not_unique_long_district_alphanumerics))\n",
    "ward = DICT_not_unique_long_district_alphanumerics[district][next(iter(DICT_not_unique_long_district_alphanumerics[district]))][0]\n",
    "address = f'{ward} {district}'\n",
    "print(address)\n",
    "parse_address(address)"
   ],
   "metadata": {
    "collapsed": false
   },
   "id": "7d8866697e48c90a",
   "execution_count": null
  },
  {
   "cell_type": "markdown",
   "source": [
    "#### Unique district key"
   ],
   "metadata": {
    "collapsed": false
   },
   "id": "8749e7f65c1c989e"
  },
  {
   "cell_type": "code",
   "outputs": [],
   "source": [
    "from vietadminunits.parse import DICT_unique_district_keys"
   ],
   "metadata": {
    "collapsed": false
   },
   "id": "b0f1916651a5f200",
   "execution_count": null
  },
  {
   "cell_type": "code",
   "outputs": [],
   "source": [
    "district = next(iter(DICT_unique_district_keys))\n",
    "print(district)\n",
    "parse_address(district)"
   ],
   "metadata": {
    "collapsed": false
   },
   "id": "15489a3c338cc361",
   "execution_count": null
  },
  {
   "cell_type": "markdown",
   "source": [
    "#### Not-unique district key"
   ],
   "metadata": {
    "collapsed": false
   },
   "id": "ecd014064d73995b"
  },
  {
   "cell_type": "code",
   "outputs": [],
   "source": [
    "from vietadminunits.parse import DICT_not_unique_district_keys"
   ],
   "metadata": {
    "collapsed": false
   },
   "id": "38d50967358fabe4",
   "execution_count": null
  },
  {
   "cell_type": "code",
   "outputs": [],
   "source": [
    "district = next(iter(DICT_not_unique_district_keys))\n",
    "ward = DICT_not_unique_district_keys[district][next(iter(DICT_not_unique_district_keys[district]))][0]\n",
    "address = f'{ward} {district}'\n",
    "print(address)\n",
    "parse_address(address)"
   ],
   "metadata": {
    "collapsed": false
   },
   "id": "935b7f8d058afbce",
   "execution_count": null
  },
  {
   "cell_type": "markdown",
   "source": [
    "### Abbreviate address"
   ],
   "metadata": {
    "collapsed": false
   },
   "id": "b90f6b599125d611"
  },
  {
   "cell_type": "code",
   "outputs": [],
   "source": [
    "parse_address('p2 q5')"
   ],
   "metadata": {
    "collapsed": false
   },
   "id": "45d135ad97c81f4d",
   "execution_count": null
  },
  {
   "cell_type": "markdown",
   "source": [
    "### Alias key in address"
   ],
   "metadata": {
    "collapsed": false
   },
   "id": "e2f8539473d1fba4"
  },
  {
   "cell_type": "code",
   "outputs": [],
   "source": [
    "parse_address('quan 2, hcm')"
   ],
   "metadata": {
    "collapsed": false
   },
   "id": "e3358955bc459a59",
   "execution_count": null
  },
  {
   "cell_type": "markdown",
   "source": [
    "### Half district key in address"
   ],
   "metadata": {
    "collapsed": false
   },
   "id": "9fcc867c9396f490"
  },
  {
   "cell_type": "code",
   "outputs": [],
   "source": [
    "parse_address('Từ Liêm, Hà Nội')"
   ],
   "metadata": {
    "collapsed": false
   },
   "id": "e8751c8a04418a61",
   "execution_count": null
  },
  {
   "cell_type": "code",
   "outputs": [],
   "source": [
    "parse_address('Thượng Cát, Từ Liêm, Hà Nội')"
   ],
   "metadata": {
    "collapsed": false
   },
   "id": "9b2d81a3b275d9b",
   "execution_count": null
  },
  {
   "cell_type": "markdown",
   "source": [
    "### Duplicated district key in address (One key has two level)"
   ],
   "metadata": {
    "collapsed": false
   },
   "id": "486158194457ef34"
  },
  {
   "cell_type": "code",
   "outputs": [],
   "source": [
    "parse_address('Ky Anh')"
   ],
   "metadata": {
    "collapsed": false
   },
   "id": "2e6af37639f4a1ef",
   "execution_count": null
  },
  {
   "cell_type": "code",
   "outputs": [],
   "source": [
    "parse_address('Hưng Trí, Kỳ Anh')"
   ],
   "metadata": {
    "collapsed": false
   },
   "id": "4092498b30f3af6d",
   "execution_count": null
  },
  {
   "cell_type": "code",
   "outputs": [],
   "source": [
    "parse_address('Kỳ Lạc, Kỳ Anh')"
   ],
   "metadata": {
    "collapsed": false
   },
   "id": "ef0fdbfb8a07cbc5",
   "execution_count": null
  },
  {
   "cell_type": "markdown",
   "source": [
    "### Duplicated ward key in address"
   ],
   "metadata": {
    "collapsed": false
   },
   "id": "2f433d69c57ba332"
  },
  {
   "cell_type": "code",
   "outputs": [],
   "source": [
    "from vietadminunits.parse import DICT_duplicated_ward_keys"
   ],
   "metadata": {
    "collapsed": false
   },
   "id": "da834e9d969a5552",
   "execution_count": null
  },
  {
   "cell_type": "code",
   "outputs": [],
   "source": [
    "print(DICT_duplicated_ward_keys)"
   ],
   "metadata": {
    "collapsed": false
   },
   "id": "774b1c67b531d244",
   "execution_count": null
  },
  {
   "cell_type": "markdown",
   "source": [
    "#### One key has two name"
   ],
   "metadata": {
    "collapsed": false
   },
   "id": "3c7dec44a6ad51ff"
  },
  {
   "cell_type": "code",
   "outputs": [],
   "source": [
    "parse_address('Phú Thạnh, Phú Tân')"
   ],
   "metadata": {
    "collapsed": false
   },
   "id": "a362292ea1e7574e",
   "execution_count": null
  },
  {
   "cell_type": "code",
   "outputs": [],
   "source": [
    "parse_address('Phú Thành, Phú Tân')"
   ],
   "metadata": {
    "collapsed": false
   },
   "id": "16c2512dcba52ab9",
   "execution_count": null
  },
  {
   "cell_type": "markdown",
   "source": [
    "#### One key has two level"
   ],
   "metadata": {
    "collapsed": false
   },
   "id": "50c1da258242a11b"
  },
  {
   "cell_type": "code",
   "outputs": [],
   "source": [
    "parse_address('Định An, Trà Cú, Trà Vinh')"
   ],
   "metadata": {
    "collapsed": false
   },
   "id": "d122b7bb24e1e713",
   "execution_count": null
  },
  {
   "cell_type": "code",
   "outputs": [],
   "source": [
    "parse_address('Xã Định An, Trà Cú, Trà Vinh')"
   ],
   "metadata": {
    "collapsed": false
   },
   "id": "72a62d3eaacf3bf9",
   "execution_count": null
  },
  {
   "cell_type": "code",
   "outputs": [],
   "source": [
    "parse_address('tt.Định An, Trà Cú, Trà Vinh')"
   ],
   "metadata": {
    "collapsed": false
   },
   "id": "694032a31c0363fb",
   "execution_count": null
  },
  {
   "cell_type": "markdown",
   "source": [
    "### Double check province"
   ],
   "metadata": {
    "collapsed": false
   },
   "id": "d1b60abbe6e7e358"
  },
  {
   "cell_type": "code",
   "outputs": [],
   "source": [
    "from vietadminunits.parse import DICT_double_check_provinces, DICT_double_check_inverted_provinces"
   ],
   "metadata": {
    "collapsed": false
   },
   "id": "f9105e068f85bd6f",
   "execution_count": null
  },
  {
   "cell_type": "code",
   "outputs": [],
   "source": [
    "print(DICT_double_check_provinces)"
   ],
   "metadata": {
    "collapsed": false
   },
   "id": "be9810a684ef6a7f",
   "execution_count": null
  },
  {
   "cell_type": "code",
   "outputs": [],
   "source": [
    "print(DICT_double_check_inverted_provinces)"
   ],
   "metadata": {
    "collapsed": false
   },
   "id": "5dff245d0de5db1c",
   "execution_count": null
  },
  {
   "cell_type": "code",
   "outputs": [],
   "source": [
    "parse_address('Tịnh Hà Tỉnh Quảng Ngãi Sơn Tịnh')"
   ],
   "metadata": {
    "collapsed": false
   },
   "id": "8b031021d30f0eb8",
   "execution_count": null
  },
  {
   "cell_type": "markdown",
   "source": [
    "### Double check district"
   ],
   "metadata": {
    "collapsed": false
   },
   "id": "305a2ff4559cf8d4"
  },
  {
   "cell_type": "code",
   "outputs": [],
   "source": [
    "from vietadminunits.parse import DICT_double_check_districts"
   ],
   "metadata": {
    "collapsed": false
   },
   "id": "d808ae96e7833aa",
   "execution_count": null
  },
  {
   "cell_type": "code",
   "outputs": [],
   "source": [
    "print(DICT_double_check_districts)"
   ],
   "metadata": {
    "collapsed": false
   },
   "id": "2c127ab781d7fcfa",
   "execution_count": null
  },
  {
   "cell_type": "code",
   "outputs": [],
   "source": [
    "parse_address('Binh Son tinh Quang Ngai')"
   ],
   "metadata": {
    "collapsed": false
   },
   "id": "3523e6b9e05e7e04",
   "execution_count": null
  },
  {
   "cell_type": "code",
   "outputs": [],
   "source": [
    "parse_address('Tinh Binh Son Tinh Quang Ngai')"
   ],
   "metadata": {
    "collapsed": false
   },
   "id": "6fbc5f70d80ebf2a",
   "execution_count": null
  },
  {
   "cell_type": "markdown",
   "source": [
    "### Double check ward"
   ],
   "metadata": {
    "collapsed": false
   },
   "id": "638f348efdfe70f4"
  },
  {
   "cell_type": "code",
   "outputs": [],
   "source": [
    "from vietadminunits.parse import DICT_double_check_wards"
   ],
   "metadata": {
    "collapsed": false
   },
   "id": "e1d93172c9d45ee2",
   "execution_count": null
  },
  {
   "cell_type": "code",
   "outputs": [],
   "source": [
    "print(DICT_double_check_wards)"
   ],
   "metadata": {
    "collapsed": false
   },
   "id": "4048c9c2b6a7d710",
   "execution_count": null
  },
  {
   "cell_type": "code",
   "outputs": [],
   "source": [
    "parse_address('Hai Anh Huyen Hai Hau Nam Dinh')"
   ],
   "metadata": {
    "collapsed": false
   },
   "id": "ac152d1d9d67a638",
   "execution_count": null
  },
  {
   "cell_type": "code",
   "outputs": [],
   "source": [
    "parse_address('Hai An Huyen Hai Hau Nam Dinh')"
   ],
   "metadata": {
    "collapsed": false
   },
   "id": "61366f675c14f7cb",
   "execution_count": null
  }
 ],
 "metadata": {
  "kernelspec": {
   "display_name": "Python 3",
   "language": "python",
   "name": "python3"
  },
  "language_info": {
   "codemirror_mode": {
    "name": "ipython",
    "version": 2
   },
   "file_extension": ".py",
   "mimetype": "text/x-python",
   "name": "python",
   "nbconvert_exporter": "python",
   "pygments_lexer": "ipython2",
   "version": "2.7.6"
  }
 },
 "nbformat": 4,
 "nbformat_minor": 5
}
