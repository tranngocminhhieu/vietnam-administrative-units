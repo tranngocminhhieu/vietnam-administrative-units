{
 "cells": [
  {
   "cell_type": "code",
   "execution_count": 1,
   "id": "initial_id",
   "metadata": {
    "collapsed": true,
    "ExecuteTime": {
     "end_time": "2024-09-26T11:19:26.305601Z",
     "start_time": "2024-09-26T11:19:25.856088Z"
    }
   },
   "outputs": [],
   "source": [
    "from vietadminunits import parse_address"
   ]
  },
  {
   "cell_type": "code",
   "outputs": [
    {
     "data": {
      "text/plain": "AdministrativeUnit:\nAttribute                 | Value                    \n----------------------------------------------------\nprovince                  | Hà Tĩnh                  \ndistrict                  | Thị xã Kỳ Anh            \nward                      |                          \n----------------------------------------------------\nlong_province             | Tỉnh Hà Tĩnh             \nlong_district             | Thị xã Kỳ Anh            \nlong_ward                 |                          \n----------------------------------------------------\nshort_district            | Kỳ Anh                   \nshort_ward                |                          \n----------------------------------------------------\nprovince_english          | Ha Tinh                  \ndistrict_english          | Ky Anh Town              \nward_english              |                          \n----------------------------------------------------\nlong_province_english     | Ha Tinh Province         \nlong_district_english     | Ky Anh Town              \nlong_ward_english         |                          \n----------------------------------------------------\nshort_district_english    | Ky Anh                   \nshort_ward_english        |                          \n----------------------------------------------------\ndistrict_level            | Thị xã                   \nward_level                |                          \n----------------------------------------------------\ndistrict_level_english    | Town                     \nward_level_english        |                          "
     },
     "execution_count": 5,
     "metadata": {},
     "output_type": "execute_result"
    }
   ],
   "source": [
    "# Tự chọn duplicated district\n",
    "parse_address('Ky Anh, Ha Tinh')"
   ],
   "metadata": {
    "collapsed": false,
    "ExecuteTime": {
     "end_time": "2024-09-26T11:20:09.520363Z",
     "start_time": "2024-09-26T11:20:09.512766Z"
    }
   },
   "id": "35897de0161254e9",
   "execution_count": 5
  },
  {
   "cell_type": "code",
   "outputs": [],
   "source": [
    "parse_address('xatanlonghoihuyenmangthitvinhlong').ward_key"
   ],
   "metadata": {
    "collapsed": false
   },
   "id": "f77d001945620f34",
   "execution_count": null
  },
  {
   "cell_type": "code",
   "outputs": [],
   "source": [
    "# Sai check duplicate ward, ward này là duy nhất\n",
    "parse_address('tanthanh,longphu,soctrang')"
   ],
   "metadata": {
    "collapsed": false
   },
   "id": "c010a8ac6ee651e7",
   "execution_count": null
  },
  {
   "cell_type": "code",
   "outputs": [],
   "source": [
    "# Nhầm Phuong 1, thiếu double check cho ward\n",
    "parse_address('phuong10quan8hochiminh')"
   ],
   "metadata": {
    "collapsed": false
   },
   "id": "dfe0ae269cd5c51",
   "execution_count": null
  },
  {
   "cell_type": "code",
   "outputs": [],
   "source": [
    "# Do xóa \"dienbien\" từ bên phải sau khi tìm được province_key nên không tìm được dienbienphu\n",
    "parse_address('muongphang,dienbien,dienbienphu')"
   ],
   "metadata": {
    "collapsed": false
   },
   "id": "776348eb2c73b099",
   "execution_count": null
  },
  {
   "cell_type": "code",
   "outputs": [],
   "source": [
    "# Vinh Phuc có 2 ward là Dong Tinh, Dong Tam\n",
    "# Remove \"tinhvinhphuc\" con \"xadongtamduong\" sau do bi remove \"xadongtam\" -> Khong tim duoc tam duong --->> Fixed\n",
    "# Tìm được Tam Duong rồi thì vẫn miss xã Dong Tinh vì remove \"tinhvinhphuc\"\n",
    "parse_address('xadongtinhvinhphuctamduong')"
   ],
   "metadata": {
    "collapsed": false
   },
   "id": "1f5832020068cedf",
   "execution_count": null
  },
  {
   "cell_type": "code",
   "outputs": [],
   "source": [
    "# Trúng \"tinhhatinh\"\n",
    "parse_address('xatinhhatinhquangngaihuyensontinh')"
   ],
   "metadata": {
    "collapsed": false
   },
   "id": "fdc0f6e0a7b40bb1",
   "execution_count": null
  },
  {
   "cell_type": "code",
   "outputs": [],
   "source": [
    "\n",
    "# Nhầm key Quận 1\n",
    "parse_address('phuong8quan10thanhphohochiminh')"
   ],
   "metadata": {
    "collapsed": false
   },
   "id": "9585d1eed09776de",
   "execution_count": null
  },
  {
   "cell_type": "code",
   "outputs": [],
   "source": [
    "# Nếu không có double check thì nhầm thành Phú Yên\n",
    "# parse_address('thitrancaitauhadongthaphuyenchauthanh') # Ko hỗ trợ province > district"
   ],
   "metadata": {
    "collapsed": false
   },
   "id": "5368bf20f82a5bc7",
   "execution_count": null
  },
  {
   "cell_type": "code",
   "outputs": [],
   "source": [
    "# Sau khi remove province_key, bị remove \"xatinhbinh\" -> Không tìm được Binh Luc\n",
    "parse_address('donxatinhhanambinhluc')"
   ],
   "metadata": {
    "collapsed": false
   },
   "id": "912cdd220c49a745",
   "execution_count": null
  },
  {
   "cell_type": "code",
   "outputs": [],
   "source": [
    "# Sau khi remove province_key thì còn \"nguyenxatinhdonghung\" nhưng bị remove \"xatinhdong\" -> Không tìm được Dong Hung\n",
    "parse_address('nguyenxatinhthaibinhdonghung')"
   ],
   "metadata": {
    "collapsed": false
   },
   "id": "b2826736f9f1a1c0",
   "execution_count": null
  },
  {
   "cell_type": "code",
   "outputs": [],
   "source": [
    "# Bị remove \"xatongcot\" -> Không tìm được Thuan Chau\n",
    "parse_address('xatongcothuanchautinhsonla')"
   ],
   "metadata": {
    "collapsed": false
   },
   "id": "371dc77965f771ce",
   "execution_count": null
  },
  {
   "cell_type": "code",
   "outputs": [],
   "source": [
    "# Sau khi remove long_ward_alphanumeric thì \"Thị xã Sơn Tây\" bị mất do \"Xã Sơn Tây\" -> Không parse được district\n",
    "parse_address('Phường Trung Hưng Thị xã Sơn Tây Thành phố Hà Nội')"
   ],
   "metadata": {
    "collapsed": false
   },
   "id": "89a9e709f2af7c0f",
   "execution_count": null
  },
  {
   "cell_type": "code",
   "outputs": [],
   "source": [
    "# Bị mất \"Xá Lê Chân H\" do \"Xã Lê Chánh\" -> Không parse được province\n",
    "parse_address('Nghĩa Xá Lê Chân Hải Phòng')"
   ],
   "metadata": {
    "collapsed": false
   },
   "id": "c2a72e40cef87195",
   "execution_count": null
  },
  {
   "cell_type": "code",
   "outputs": [],
   "source": [
    "# Chưa có double check nên nhầm thành tỉnh Sơn La\n",
    "parse_address('Vũ Lăng Bắc Sơn Lạng Sơn')"
   ],
   "metadata": {
    "collapsed": false
   },
   "id": "7440e1109367130b",
   "execution_count": null
  },
  {
   "cell_type": "code",
   "outputs": [],
   "source": [
    "# Bị xóa \"Phương Hải Ninh\" nên không tìm được \"Ninh Hải\"\n",
    "parse_address('Phương Hải Ninh Hải Ninh Thuận')"
   ],
   "metadata": {
    "collapsed": false
   },
   "id": "6ff28f032d33d31d",
   "execution_count": null
  },
  {
   "cell_type": "code",
   "outputs": [],
   "source": [
    "# Sai với số 1\n",
    "parse_address('quan 10')"
   ],
   "metadata": {
    "collapsed": false
   },
   "id": "fbffce460b787739",
   "execution_count": null
  },
  {
   "cell_type": "code",
   "outputs": [],
   "source": [],
   "metadata": {
    "collapsed": false
   },
   "id": "b617963d2f4d99fc"
  }
 ],
 "metadata": {
  "kernelspec": {
   "display_name": "Python 3",
   "language": "python",
   "name": "python3"
  },
  "language_info": {
   "codemirror_mode": {
    "name": "ipython",
    "version": 2
   },
   "file_extension": ".py",
   "mimetype": "text/x-python",
   "name": "python",
   "nbconvert_exporter": "python",
   "pygments_lexer": "ipython2",
   "version": "2.7.6"
  }
 },
 "nbformat": 4,
 "nbformat_minor": 5
}
