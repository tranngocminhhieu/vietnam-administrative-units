{
 "cells": [
  {
   "cell_type": "code",
   "execution_count": 1,
   "id": "initial_id",
   "metadata": {
    "collapsed": true,
    "ExecuteTime": {
     "end_time": "2024-09-23T06:13:55.418694Z",
     "start_time": "2024-09-23T06:13:55.088298Z"
    }
   },
   "outputs": [],
   "source": [
    "from vietadminunits import parse_address"
   ]
  },
  {
   "cell_type": "code",
   "outputs": [
    {
     "name": "stdout",
     "output_type": "stream",
     "text": [
      "Su dung alias province\n",
      "address: p.2q.5\n",
      "re.compile('hcm')\n"
     ]
    },
    {
     "data": {
      "text/plain": "AdministrativeUnit:\nAttribute                 | Value                    \n----------------------------------------------------\nprovince                  | Hồ Chí Minh              \ndistrict                  | Quận 5                   \nward                      | Phường 2                 \n----------------------------------------------------\nlong_province             | Thành phố Hồ Chí Minh    \nlong_district             | Quận 5                   \nlong_ward                 | Phường 2                 \n----------------------------------------------------\nshort_district            | Quận 5                   \nshort_ward                | Phường 2                 \n----------------------------------------------------\nprovince_english          | Ho Chi Minh              \ndistrict_english          | District 5               \nward_english              | Ward 2                   \n----------------------------------------------------\nlong_province_english     | Ho Chi Minh City         \nlong_district_english     | District 5               \nlong_ward_english         | Ward 2                   \n----------------------------------------------------\nshort_district_english    | District 5               \nshort_ward_english        | Ward 2                   \n----------------------------------------------------\ndistrict_level            | Quận                     \nward_level                | Phường                   \n----------------------------------------------------\ndistrict_level_english    | District                 \nward_level_english        | Ward                     "
     },
     "execution_count": 6,
     "metadata": {},
     "output_type": "execute_result"
    }
   ],
   "source": [
    "parse_address('p2 q5')"
   ],
   "metadata": {
    "collapsed": false,
    "ExecuteTime": {
     "end_time": "2024-09-23T06:14:48.696347Z",
     "start_time": "2024-09-23T06:14:48.690594Z"
    }
   },
   "id": "6433bb36e7926c0c",
   "execution_count": 6
  }
 ],
 "metadata": {
  "kernelspec": {
   "display_name": "Python 3",
   "language": "python",
   "name": "python3"
  },
  "language_info": {
   "codemirror_mode": {
    "name": "ipython",
    "version": 2
   },
   "file_extension": ".py",
   "mimetype": "text/x-python",
   "name": "python",
   "nbconvert_exporter": "python",
   "pygments_lexer": "ipython2",
   "version": "2.7.6"
  }
 },
 "nbformat": 4,
 "nbformat_minor": 5
}
