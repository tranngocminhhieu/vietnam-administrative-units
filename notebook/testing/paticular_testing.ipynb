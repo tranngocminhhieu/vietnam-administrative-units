{
 "cells": [
  {
   "cell_type": "code",
   "execution_count": 1,
   "id": "initial_id",
   "metadata": {
    "collapsed": true,
    "ExecuteTime": {
     "end_time": "2024-09-29T14:13:16.787827Z",
     "start_time": "2024-09-29T14:13:16.339327Z"
    }
   },
   "outputs": [],
   "source": [
    "from vietadminunits import parse_address"
   ]
  },
  {
   "cell_type": "code",
   "outputs": [
    {
     "data": {
      "text/plain": "AdministrativeUnit:\nAttribute                 | Value                    \n----------------------------------------------------\nprovince                  | Hải Phòng                \ndistrict                  | Lê Chân                  \nward                      |                          \n----------------------------------------------------\nlong_province             | Thành phố Hải Phòng      \nlong_district             | Quận Lê Chân             \nlong_ward                 |                          \n----------------------------------------------------\nshort_district            | Lê Chân                  \nshort_ward                |                          \n----------------------------------------------------\nprovince_english          | Hai Phong                \ndistrict_english          | Le Chan                  \nward_english              |                          \n----------------------------------------------------\nlong_province_english     | Hai Phong City           \nlong_district_english     | Le Chan District         \nlong_ward_english         |                          \n----------------------------------------------------\nshort_district_english    | Le Chan                  \nshort_ward_english        |                          \n----------------------------------------------------\ndistrict_level            | Quận                     \nward_level                |                          \n----------------------------------------------------\ndistrict_level_english    | District                 \nward_level_english        |                          "
     },
     "execution_count": 3,
     "metadata": {},
     "output_type": "execute_result"
    }
   ],
   "source": [
    "# Không tìm được Hải Phòng dù Lê Chân là một unique district. Do filter bỏ district_key in str(long_ward_alphanumerics)\n",
    "parse_address('Le Chan')"
   ],
   "metadata": {
    "collapsed": false,
    "ExecuteTime": {
     "end_time": "2024-09-29T14:14:28.804541Z",
     "start_time": "2024-09-29T14:14:28.799328Z"
    }
   },
   "id": "7776f9daaac15c63",
   "execution_count": 3
  },
  {
   "cell_type": "code",
   "outputs": [],
   "source": [
    "# Không tìm được Hồ Chí Minh dù Phường và Quận nằm trong DICT_not_unique_district_keys, do dùng tmp_address đã remove phường\n",
    "parse_address('Phường 25, Bình Thạnh')"
   ],
   "metadata": {
    "collapsed": false
   },
   "id": "2ace711d1c2ab3ec",
   "execution_count": null
  },
  {
   "cell_type": "code",
   "outputs": [],
   "source": [
    "# ward_key nằm trong duplicated, tìm được short_name đúng rồi nhưng tìm sai ward_level do nhầm chữ \"xã\" của thị xã\n",
    "parse_address('Phường Sa PaThị xã Sa PaTỉnh Lào Cai')"
   ],
   "metadata": {
    "collapsed": false
   },
   "id": "e809f01e76fadace",
   "execution_count": null
  },
  {
   "cell_type": "code",
   "outputs": [],
   "source": [
    "# Không tìm được ward nằm trong duplicated ward do lấy short_name sai (lấy value thay vì lấy key)\n",
    "parse_address('Thị trấn Yên Viên,Huyện Gia LâmThành phố Hà Nội')"
   ],
   "metadata": {
    "collapsed": false
   },
   "id": "4b5458f9d4cdcecb",
   "execution_count": null
  },
  {
   "cell_type": "code",
   "outputs": [],
   "source": [
    "# khong tim duoc Dan Phuong do cat ten duong\n",
    "parse_address('Thọ Xuân,Đan Phượng,Thành phố Hà Nội')"
   ],
   "metadata": {
    "collapsed": false
   },
   "id": "2e9a3e40f36eb99c",
   "execution_count": null
  },
  {
   "cell_type": "code",
   "outputs": [],
   "source": [
    "# Nhầm kyphu thay vi kyphuong dù đã double check\n",
    "parse_address('phuongkyphuong,kyanh,tinhhatinh')"
   ],
   "metadata": {
    "collapsed": false
   },
   "id": "cae974b12d4f2318",
   "execution_count": null
  },
  {
   "cell_type": "code",
   "outputs": [],
   "source": [
    "# Không tìm được ward do replace p1 thành p.1\n",
    "parse_address('xatanlap1,tanphuoc,tinhtiengiang')"
   ],
   "metadata": {
    "collapsed": false
   },
   "id": "92e35f46c8e020e7",
   "execution_count": null
  },
  {
   "cell_type": "code",
   "outputs": [],
   "source": [
    "# Tự chọn duplicated district\n",
    "parse_address('Ky Anh, Ha Tinh')"
   ],
   "metadata": {
    "collapsed": false
   },
   "id": "35897de0161254e9",
   "execution_count": null
  },
  {
   "cell_type": "code",
   "outputs": [],
   "source": [
    "parse_address('xatanlonghoihuyenmangthitvinhlong')"
   ],
   "metadata": {
    "collapsed": false
   },
   "id": "f77d001945620f34",
   "execution_count": null
  },
  {
   "cell_type": "code",
   "outputs": [],
   "source": [
    "# Sai check duplicate ward, ward này là duy nhất\n",
    "parse_address('tanthanh,longphu,soctrang')"
   ],
   "metadata": {
    "collapsed": false
   },
   "id": "c010a8ac6ee651e7",
   "execution_count": null
  },
  {
   "cell_type": "code",
   "outputs": [],
   "source": [
    "# Nhầm Phuong 1 vì chưa sorted key theo length\n",
    "parse_address('phuong10quan8hochiminh')"
   ],
   "metadata": {
    "collapsed": false
   },
   "id": "dfe0ae269cd5c51",
   "execution_count": null
  },
  {
   "cell_type": "code",
   "outputs": [],
   "source": [
    "# Do xóa \"dienbien\" từ bên phải sau khi tìm được province_key nên không tìm được dienbienphu\n",
    "parse_address('muongphang,dienbien,dienbienphu')"
   ],
   "metadata": {
    "collapsed": false
   },
   "id": "776348eb2c73b099",
   "execution_count": null
  },
  {
   "cell_type": "code",
   "outputs": [],
   "source": [
    "# Vinh Phuc có 2 ward là Dong Tinh, Dong Tam\n",
    "# Remove \"tinhvinhphuc\" con \"xadongtamduong\" sau do bi remove \"xadongtam\" -> Khong tim duoc tam duong --->> Fixed\n",
    "# Tìm được Tam Duong rồi thì vẫn miss xã Dong Tinh vì remove \"tinhvinhphuc\"\n",
    "parse_address('xadongtinhvinhphuctamduong')"
   ],
   "metadata": {
    "collapsed": false
   },
   "id": "1f5832020068cedf",
   "execution_count": null
  },
  {
   "cell_type": "code",
   "outputs": [],
   "source": [
    "# Trúng \"tinhhatinh\"\n",
    "parse_address('xatinhhatinhquangngaihuyensontinh')"
   ],
   "metadata": {
    "collapsed": false
   },
   "id": "fdc0f6e0a7b40bb1",
   "execution_count": null
  },
  {
   "cell_type": "code",
   "outputs": [],
   "source": [
    "\n",
    "# Nhầm key Quận 1\n",
    "parse_address('phuong8quan10thanhphohochiminh')"
   ],
   "metadata": {
    "collapsed": false
   },
   "id": "9585d1eed09776de",
   "execution_count": null
  },
  {
   "cell_type": "code",
   "outputs": [],
   "source": [
    "# Nếu không có double check thì nhầm thành Phú Yên\n",
    "parse_address('thitrancaitauhadongthaphuyenchauthanh') # Ko hỗ trợ province > district"
   ],
   "metadata": {
    "collapsed": false
   },
   "id": "5368bf20f82a5bc7",
   "execution_count": null
  },
  {
   "cell_type": "code",
   "outputs": [],
   "source": [
    "# Sau khi remove province_key, bị remove \"xatinhbinh\" -> Không tìm được Binh Luc\n",
    "parse_address('donxatinhhanambinhluc')"
   ],
   "metadata": {
    "collapsed": false
   },
   "id": "912cdd220c49a745",
   "execution_count": null
  },
  {
   "cell_type": "code",
   "outputs": [],
   "source": [
    "# Sau khi remove province_key thì còn \"nguyenxatinhdonghung\" nhưng bị remove \"xatinhdong\" -> Không tìm được Dong Hung\n",
    "parse_address('nguyenxatinhthaibinhdonghung')"
   ],
   "metadata": {
    "collapsed": false
   },
   "id": "b2826736f9f1a1c0",
   "execution_count": null
  },
  {
   "cell_type": "code",
   "outputs": [],
   "source": [
    "# Bị remove \"xatongcot\" -> Không tìm được Thuan Chau\n",
    "parse_address('xatongcothuanchautinhsonla')"
   ],
   "metadata": {
    "collapsed": false
   },
   "id": "371dc77965f771ce",
   "execution_count": null
  },
  {
   "cell_type": "code",
   "outputs": [],
   "source": [
    "# Sau khi remove long_ward_alphanumeric thì \"Thị xã Sơn Tây\" bị mất do \"Xã Sơn Tây\" -> Không parse được district\n",
    "parse_address('Phường Trung Hưng Thị xã Sơn Tây Thành phố Hà Nội')"
   ],
   "metadata": {
    "collapsed": false
   },
   "id": "89a9e709f2af7c0f",
   "execution_count": null
  },
  {
   "cell_type": "code",
   "outputs": [],
   "source": [
    "# Bị mất \"Xá Lê Chân H\" do \"Xã Lê Chánh\" -> Không parse được province\n",
    "parse_address('Nghĩa Xá Lê Chân Hải Phòng')"
   ],
   "metadata": {
    "collapsed": false
   },
   "id": "c2a72e40cef87195",
   "execution_count": null
  },
  {
   "cell_type": "code",
   "outputs": [],
   "source": [
    "# Chưa có double check nên nhầm thành tỉnh Sơn La\n",
    "parse_address('Vũ Lăng Bắc Sơn Lạng Sơn')"
   ],
   "metadata": {
    "collapsed": false
   },
   "id": "7440e1109367130b",
   "execution_count": null
  },
  {
   "cell_type": "code",
   "outputs": [],
   "source": [
    "# Bị xóa \"Phương Hải Ninh\" nên không tìm được \"Ninh Hải\"\n",
    "parse_address('Phương Hải Ninh Hải Ninh Thuận')"
   ],
   "metadata": {
    "collapsed": false
   },
   "id": "6ff28f032d33d31d",
   "execution_count": null
  },
  {
   "cell_type": "code",
   "outputs": [],
   "source": [
    "# Sai với số 1\n",
    "parse_address('quan 10')"
   ],
   "metadata": {
    "collapsed": false
   },
   "id": "fbffce460b787739",
   "execution_count": null
  },
  {
   "cell_type": "code",
   "outputs": [],
   "source": [
    "parse_address('p2 q5')"
   ],
   "metadata": {
    "collapsed": false
   },
   "id": "b617963d2f4d99fc",
   "execution_count": null
  }
 ],
 "metadata": {
  "kernelspec": {
   "display_name": "Python 3",
   "language": "python",
   "name": "python3"
  },
  "language_info": {
   "codemirror_mode": {
    "name": "ipython",
    "version": 2
   },
   "file_extension": ".py",
   "mimetype": "text/x-python",
   "name": "python",
   "nbconvert_exporter": "python",
   "pygments_lexer": "ipython2",
   "version": "2.7.6"
  }
 },
 "nbformat": 4,
 "nbformat_minor": 5
}
