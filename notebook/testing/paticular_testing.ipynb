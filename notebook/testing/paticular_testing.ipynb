{
 "cells": [
  {
   "cell_type": "code",
   "execution_count": 3,
   "id": "initial_id",
   "metadata": {
    "collapsed": true,
    "ExecuteTime": {
     "end_time": "2024-09-29T06:50:36.936809Z",
     "start_time": "2024-09-29T06:50:36.929752Z"
    }
   },
   "outputs": [],
   "source": [
    "from vietadminunits import parse_address"
   ]
  },
  {
   "cell_type": "code",
   "outputs": [
    {
     "data": {
      "text/plain": "AdministrativeUnit:\nAttribute                 | Value                    \n----------------------------------------------------\nprovince                  | Lào Cai                  \ndistrict                  | Sa Pa                    \nward                      | Sa Pa                    \n----------------------------------------------------\nlong_province             | Tỉnh Lào Cai             \nlong_district             | Thị xã Sa Pa             \nlong_ward                 | Phường Sa Pa             \n----------------------------------------------------\nshort_district            | Sa Pa                    \nshort_ward                | Sa Pa                    \n----------------------------------------------------\nprovince_english          | Lao Cai                  \ndistrict_english          | Sa Pa                    \nward_english              | Sa Pa                    \n----------------------------------------------------\nlong_province_english     | Lao Cai Province         \nlong_district_english     | Sa Pa Town               \nlong_ward_english         | Sa Pa Ward               \n----------------------------------------------------\nshort_district_english    | Sa Pa                    \nshort_ward_english        | Sa Pa                    \n----------------------------------------------------\ndistrict_level            | Thị xã                   \nward_level                | Phường                   \n----------------------------------------------------\ndistrict_level_english    | Town                     \nward_level_english        | Ward                     "
     },
     "execution_count": 4,
     "metadata": {},
     "output_type": "execute_result"
    }
   ],
   "source": [
    "# ward_key nằm trong duplicated, tìm được short_name đúng rồi nhưng tìm sai ward_level do nhầm chữ \"xã\" của thị xã\n",
    "parse_address('Phường Sa PaThị xã Sa PaTỉnh Lào Cai')"
   ],
   "metadata": {
    "collapsed": false,
    "ExecuteTime": {
     "end_time": "2024-09-29T06:50:37.365903Z",
     "start_time": "2024-09-29T06:50:37.342539Z"
    }
   },
   "id": "e809f01e76fadace",
   "execution_count": 4
  },
  {
   "cell_type": "code",
   "outputs": [
    {
     "data": {
      "text/plain": "AdministrativeUnit:\nAttribute                 | Value                    \n----------------------------------------------------\nprovince                  | Hà Nội                   \ndistrict                  | Gia Lâm                  \nward                      | Thị trấn Yên Viên        \n----------------------------------------------------\nlong_province             | Thành phố Hà Nội         \nlong_district             | Huyện Gia Lâm            \nlong_ward                 | Thị trấn Yên Viên        \n----------------------------------------------------\nshort_district            | Gia Lâm                  \nshort_ward                | Yên Viên                 \n----------------------------------------------------\nprovince_english          | Ha Noi                   \ndistrict_english          | Gia Lam                  \nward_english              | Yen Vien Town            \n----------------------------------------------------\nlong_province_english     | Ha Noi City              \nlong_district_english     | Gia Lam District         \nlong_ward_english         | Yen Vien Town            \n----------------------------------------------------\nshort_district_english    | Gia Lam                  \nshort_ward_english        | Yen Vien                 \n----------------------------------------------------\ndistrict_level            | Huyện                    \nward_level                | Thị trấn                 \n----------------------------------------------------\ndistrict_level_english    | District                 \nward_level_english        | Town                     "
     },
     "execution_count": 5,
     "metadata": {},
     "output_type": "execute_result"
    }
   ],
   "source": [
    "# Không tìm được ward nằm trong duplicated ward do lấy short_name sai (lấy value thay vì lấy key)\n",
    "parse_address('Thị trấn Yên Viên,Huyện Gia LâmThành phố Hà Nội')"
   ],
   "metadata": {
    "collapsed": false,
    "ExecuteTime": {
     "end_time": "2024-09-29T06:50:40.228352Z",
     "start_time": "2024-09-29T06:50:40.208223Z"
    }
   },
   "id": "4b5458f9d4cdcecb",
   "execution_count": 5
  },
  {
   "cell_type": "code",
   "outputs": [
    {
     "data": {
      "text/plain": "AdministrativeUnit:\nAttribute                 | Value                    \n----------------------------------------------------\nprovince                  | Hà Nội                   \ndistrict                  | Đan Phượng               \nward                      | Thọ Xuân                 \n----------------------------------------------------\nlong_province             | Thành phố Hà Nội         \nlong_district             | Huyện Đan Phượng         \nlong_ward                 | Xã Thọ Xuân              \n----------------------------------------------------\nshort_district            | Đan Phượng               \nshort_ward                | Thọ Xuân                 \n----------------------------------------------------\nprovince_english          | Ha Noi                   \ndistrict_english          | Dan Phuong               \nward_english              | Tho Xuan                 \n----------------------------------------------------\nlong_province_english     | Ha Noi City              \nlong_district_english     | Dan Phuong District      \nlong_ward_english         | Tho Xuan Commune         \n----------------------------------------------------\nshort_district_english    | Dan Phuong               \nshort_ward_english        | Tho Xuan                 \n----------------------------------------------------\ndistrict_level            | Huyện                    \nward_level                | Xã                       \n----------------------------------------------------\ndistrict_level_english    | District                 \nward_level_english        | Commune                  "
     },
     "execution_count": 6,
     "metadata": {},
     "output_type": "execute_result"
    }
   ],
   "source": [
    "# khong tim duoc Dan Phuong do cat ten duong\n",
    "parse_address('Thọ Xuân,Đan Phượng,Thành phố Hà Nội')"
   ],
   "metadata": {
    "collapsed": false,
    "ExecuteTime": {
     "end_time": "2024-09-29T06:50:43.433987Z",
     "start_time": "2024-09-29T06:50:43.421588Z"
    }
   },
   "id": "2e9a3e40f36eb99c",
   "execution_count": 6
  },
  {
   "cell_type": "code",
   "outputs": [
    {
     "data": {
      "text/plain": "AdministrativeUnit:\nAttribute                 | Value                    \n----------------------------------------------------\nprovince                  | Hà Tĩnh                  \ndistrict                  | Thị xã Kỳ Anh            \nward                      | Kỳ Phương                \n----------------------------------------------------\nlong_province             | Tỉnh Hà Tĩnh             \nlong_district             | Thị xã Kỳ Anh            \nlong_ward                 | Phường Kỳ Phương         \n----------------------------------------------------\nshort_district            | Kỳ Anh                   \nshort_ward                | Kỳ Phương                \n----------------------------------------------------\nprovince_english          | Ha Tinh                  \ndistrict_english          | Ky Anh Town              \nward_english              | Ky Phuong                \n----------------------------------------------------\nlong_province_english     | Ha Tinh Province         \nlong_district_english     | Ky Anh Town              \nlong_ward_english         | Ky Phuong Ward           \n----------------------------------------------------\nshort_district_english    | Ky Anh                   \nshort_ward_english        | Ky Phuong                \n----------------------------------------------------\ndistrict_level            | Thị xã                   \nward_level                | Phường                   \n----------------------------------------------------\ndistrict_level_english    | Town                     \nward_level_english        | Ward                     "
     },
     "execution_count": 7,
     "metadata": {},
     "output_type": "execute_result"
    }
   ],
   "source": [
    "# Nhầm kyphu thay vi kyphuong dù đã double check\n",
    "parse_address('phuongkyphuong,kyanh,tinhhatinh')"
   ],
   "metadata": {
    "collapsed": false,
    "ExecuteTime": {
     "end_time": "2024-09-29T06:50:46.124113Z",
     "start_time": "2024-09-29T06:50:46.116869Z"
    }
   },
   "id": "cae974b12d4f2318",
   "execution_count": 7
  },
  {
   "cell_type": "code",
   "outputs": [
    {
     "data": {
      "text/plain": "AdministrativeUnit:\nAttribute                 | Value                    \n----------------------------------------------------\nprovince                  | Tiền Giang               \ndistrict                  | Tân Phước                \nward                      | Tân Lập 1                \n----------------------------------------------------\nlong_province             | Tỉnh Tiền Giang          \nlong_district             | Huyện Tân Phước          \nlong_ward                 | Xã Tân Lập 1             \n----------------------------------------------------\nshort_district            | Tân Phước                \nshort_ward                | Tân Lập 1                \n----------------------------------------------------\nprovince_english          | Tien Giang               \ndistrict_english          | Tan Phuoc                \nward_english              | Tan Lap 1                \n----------------------------------------------------\nlong_province_english     | Tien Giang Province      \nlong_district_english     | Tan Phuoc District       \nlong_ward_english         | Tan Lap 1 Commune        \n----------------------------------------------------\nshort_district_english    | Tan Phuoc                \nshort_ward_english        | Tan Lap 1                \n----------------------------------------------------\ndistrict_level            | Huyện                    \nward_level                | Xã                       \n----------------------------------------------------\ndistrict_level_english    | District                 \nward_level_english        | Commune                  "
     },
     "execution_count": 8,
     "metadata": {},
     "output_type": "execute_result"
    }
   ],
   "source": [
    "# Không tìm được ward do replace p1 thành p.1\n",
    "parse_address('xatanlap1,tanphuoc,tinhtiengiang')"
   ],
   "metadata": {
    "collapsed": false,
    "ExecuteTime": {
     "end_time": "2024-09-29T06:50:49.006701Z",
     "start_time": "2024-09-29T06:50:48.991042Z"
    }
   },
   "id": "92e35f46c8e020e7",
   "execution_count": 8
  },
  {
   "cell_type": "code",
   "outputs": [
    {
     "data": {
      "text/plain": "AdministrativeUnit:\nAttribute                 | Value                    \n----------------------------------------------------\nprovince                  | Hà Tĩnh                  \ndistrict                  | Thị xã Kỳ Anh            \nward                      |                          \n----------------------------------------------------\nlong_province             | Tỉnh Hà Tĩnh             \nlong_district             | Thị xã Kỳ Anh            \nlong_ward                 |                          \n----------------------------------------------------\nshort_district            | Kỳ Anh                   \nshort_ward                |                          \n----------------------------------------------------\nprovince_english          | Ha Tinh                  \ndistrict_english          | Ky Anh Town              \nward_english              |                          \n----------------------------------------------------\nlong_province_english     | Ha Tinh Province         \nlong_district_english     | Ky Anh Town              \nlong_ward_english         |                          \n----------------------------------------------------\nshort_district_english    | Ky Anh                   \nshort_ward_english        |                          \n----------------------------------------------------\ndistrict_level            | Thị xã                   \nward_level                |                          \n----------------------------------------------------\ndistrict_level_english    | Town                     \nward_level_english        |                          "
     },
     "execution_count": 9,
     "metadata": {},
     "output_type": "execute_result"
    }
   ],
   "source": [
    "# Tự chọn duplicated district\n",
    "parse_address('Ky Anh, Ha Tinh')"
   ],
   "metadata": {
    "collapsed": false,
    "ExecuteTime": {
     "end_time": "2024-09-29T06:50:51.224910Z",
     "start_time": "2024-09-29T06:50:51.221297Z"
    }
   },
   "id": "35897de0161254e9",
   "execution_count": 9
  },
  {
   "cell_type": "code",
   "outputs": [
    {
     "data": {
      "text/plain": "AdministrativeUnit:\nAttribute                 | Value                    \n----------------------------------------------------\nprovince                  | Vĩnh Long                \ndistrict                  | Mang Thít                \nward                      | Tân Long Hội             \n----------------------------------------------------\nlong_province             | Tỉnh Vĩnh Long           \nlong_district             | Huyện Mang Thít          \nlong_ward                 | Xã Tân Long Hội          \n----------------------------------------------------\nshort_district            | Mang Thít                \nshort_ward                | Tân Long Hội             \n----------------------------------------------------\nprovince_english          | Vinh Long                \ndistrict_english          | Mang Thit                \nward_english              | Tan Long Hoi             \n----------------------------------------------------\nlong_province_english     | Vinh Long Province       \nlong_district_english     | Mang Thit District       \nlong_ward_english         | Tan Long Hoi Commune     \n----------------------------------------------------\nshort_district_english    | Mang Thit                \nshort_ward_english        | Tan Long Hoi             \n----------------------------------------------------\ndistrict_level            | Huyện                    \nward_level                | Xã                       \n----------------------------------------------------\ndistrict_level_english    | District                 \nward_level_english        | Commune                  "
     },
     "execution_count": 11,
     "metadata": {},
     "output_type": "execute_result"
    }
   ],
   "source": [
    "parse_address('xatanlonghoihuyenmangthitvinhlong')"
   ],
   "metadata": {
    "collapsed": false,
    "ExecuteTime": {
     "end_time": "2024-09-29T06:51:01.536575Z",
     "start_time": "2024-09-29T06:51:01.495626Z"
    }
   },
   "id": "f77d001945620f34",
   "execution_count": 11
  },
  {
   "cell_type": "code",
   "outputs": [
    {
     "data": {
      "text/plain": "AdministrativeUnit:\nAttribute                 | Value                    \n----------------------------------------------------\nprovince                  | Sóc Trăng                \ndistrict                  | Long Phú                 \nward                      | Tân Thạnh                \n----------------------------------------------------\nlong_province             | Tỉnh Sóc Trăng           \nlong_district             | Huyện Long Phú           \nlong_ward                 | Xã Tân Thạnh             \n----------------------------------------------------\nshort_district            | Long Phú                 \nshort_ward                | Tân Thạnh                \n----------------------------------------------------\nprovince_english          | Soc Trang                \ndistrict_english          | Long Phu                 \nward_english              | Tan Thanh                \n----------------------------------------------------\nlong_province_english     | Soc Trang Province       \nlong_district_english     | Long Phu District        \nlong_ward_english         | Tan Thanh Commune        \n----------------------------------------------------\nshort_district_english    | Long Phu                 \nshort_ward_english        | Tan Thanh                \n----------------------------------------------------\ndistrict_level            | Huyện                    \nward_level                | Xã                       \n----------------------------------------------------\ndistrict_level_english    | District                 \nward_level_english        | Commune                  "
     },
     "execution_count": 12,
     "metadata": {},
     "output_type": "execute_result"
    }
   ],
   "source": [
    "# Sai check duplicate ward, ward này là duy nhất\n",
    "parse_address('tanthanh,longphu,soctrang')"
   ],
   "metadata": {
    "collapsed": false,
    "ExecuteTime": {
     "end_time": "2024-09-29T06:51:07.384981Z",
     "start_time": "2024-09-29T06:51:07.373839Z"
    }
   },
   "id": "c010a8ac6ee651e7",
   "execution_count": 12
  },
  {
   "cell_type": "code",
   "outputs": [
    {
     "data": {
      "text/plain": "AdministrativeUnit:\nAttribute                 | Value                    \n----------------------------------------------------\nprovince                  | Hồ Chí Minh              \ndistrict                  | Quận 8                   \nward                      | Phường 10                \n----------------------------------------------------\nlong_province             | Thành phố Hồ Chí Minh    \nlong_district             | Quận 8                   \nlong_ward                 | Phường 10                \n----------------------------------------------------\nshort_district            | Quận 8                   \nshort_ward                | Phường 10                \n----------------------------------------------------\nprovince_english          | Ho Chi Minh              \ndistrict_english          | District 8               \nward_english              | Ward 10                  \n----------------------------------------------------\nlong_province_english     | Ho Chi Minh City         \nlong_district_english     | District 8               \nlong_ward_english         | Ward 10                  \n----------------------------------------------------\nshort_district_english    | District 8               \nshort_ward_english        | Ward 10                  \n----------------------------------------------------\ndistrict_level            | Quận                     \nward_level                | Phường                   \n----------------------------------------------------\ndistrict_level_english    | District                 \nward_level_english        | Ward                     "
     },
     "execution_count": 14,
     "metadata": {},
     "output_type": "execute_result"
    }
   ],
   "source": [
    "# Nhầm Phuong 1 vì chưa sorted key theo length\n",
    "parse_address('phuong10quan8hochiminh')"
   ],
   "metadata": {
    "collapsed": false,
    "ExecuteTime": {
     "end_time": "2024-09-29T06:51:22.461737Z",
     "start_time": "2024-09-29T06:51:22.452449Z"
    }
   },
   "id": "dfe0ae269cd5c51",
   "execution_count": 14
  },
  {
   "cell_type": "code",
   "outputs": [
    {
     "data": {
      "text/plain": "AdministrativeUnit:\nAttribute                 | Value                    \n----------------------------------------------------\nprovince                  | Điện Biên                \ndistrict                  | Điện Biên Phủ            \nward                      | Mường Phăng              \n----------------------------------------------------\nlong_province             | Tỉnh Điện Biên           \nlong_district             | Thành phố Điện Biên Phủ  \nlong_ward                 | Xã Mường Phăng           \n----------------------------------------------------\nshort_district            | Điện Biên Phủ            \nshort_ward                | Mường Phăng              \n----------------------------------------------------\nprovince_english          | Dien Bien                \ndistrict_english          | Dien Bien Phu            \nward_english              | Muong Phang              \n----------------------------------------------------\nlong_province_english     | Dien Bien Province       \nlong_district_english     | Dien Bien Phu City       \nlong_ward_english         | Muong Phang Commune      \n----------------------------------------------------\nshort_district_english    | Dien Bien Phu            \nshort_ward_english        | Muong Phang              \n----------------------------------------------------\ndistrict_level            | Thành phố                \nward_level                | Xã                       \n----------------------------------------------------\ndistrict_level_english    | City                     \nward_level_english        | Commune                  "
     },
     "execution_count": 15,
     "metadata": {},
     "output_type": "execute_result"
    }
   ],
   "source": [
    "# Do xóa \"dienbien\" từ bên phải sau khi tìm được province_key nên không tìm được dienbienphu\n",
    "parse_address('muongphang,dienbien,dienbienphu')"
   ],
   "metadata": {
    "collapsed": false,
    "ExecuteTime": {
     "end_time": "2024-09-29T06:51:27.143083Z",
     "start_time": "2024-09-29T06:51:27.138608Z"
    }
   },
   "id": "776348eb2c73b099",
   "execution_count": 15
  },
  {
   "cell_type": "code",
   "outputs": [
    {
     "data": {
      "text/plain": "AdministrativeUnit:\nAttribute                 | Value                    \n----------------------------------------------------\nprovince                  | Vĩnh Phúc                \ndistrict                  | Tam Dương                \nward                      | Đồng Tĩnh                \n----------------------------------------------------\nlong_province             | Tỉnh Vĩnh Phúc           \nlong_district             | Huyện Tam Dương          \nlong_ward                 | Xã Đồng Tĩnh             \n----------------------------------------------------\nshort_district            | Tam Dương                \nshort_ward                | Đồng Tĩnh                \n----------------------------------------------------\nprovince_english          | Vinh Phuc                \ndistrict_english          | Tam Duong                \nward_english              | Dong Tinh                \n----------------------------------------------------\nlong_province_english     | Vinh Phuc Province       \nlong_district_english     | Tam Duong District       \nlong_ward_english         | Dong Tinh Commune        \n----------------------------------------------------\nshort_district_english    | Tam Duong                \nshort_ward_english        | Dong Tinh                \n----------------------------------------------------\ndistrict_level            | Huyện                    \nward_level                | Xã                       \n----------------------------------------------------\ndistrict_level_english    | District                 \nward_level_english        | Commune                  "
     },
     "execution_count": 16,
     "metadata": {},
     "output_type": "execute_result"
    }
   ],
   "source": [
    "# Vinh Phuc có 2 ward là Dong Tinh, Dong Tam\n",
    "# Remove \"tinhvinhphuc\" con \"xadongtamduong\" sau do bi remove \"xadongtam\" -> Khong tim duoc tam duong --->> Fixed\n",
    "# Tìm được Tam Duong rồi thì vẫn miss xã Dong Tinh vì remove \"tinhvinhphuc\"\n",
    "parse_address('xadongtinhvinhphuctamduong')"
   ],
   "metadata": {
    "collapsed": false,
    "ExecuteTime": {
     "end_time": "2024-09-29T06:51:33.368710Z",
     "start_time": "2024-09-29T06:51:33.358763Z"
    }
   },
   "id": "1f5832020068cedf",
   "execution_count": 16
  },
  {
   "cell_type": "code",
   "outputs": [
    {
     "data": {
      "text/plain": "AdministrativeUnit:\nAttribute                 | Value                    \n----------------------------------------------------\nprovince                  | Quảng Ngãi               \ndistrict                  | Sơn Tịnh                 \nward                      | Tịnh Hà                  \n----------------------------------------------------\nlong_province             | Tỉnh Quảng Ngãi          \nlong_district             | Huyện Sơn Tịnh           \nlong_ward                 | Xã Tịnh Hà               \n----------------------------------------------------\nshort_district            | Sơn Tịnh                 \nshort_ward                | Tịnh Hà                  \n----------------------------------------------------\nprovince_english          | Quang Ngai               \ndistrict_english          | Son Tinh                 \nward_english              | Tinh Ha                  \n----------------------------------------------------\nlong_province_english     | Quang Ngai Province      \nlong_district_english     | Son Tinh District        \nlong_ward_english         | Tinh Ha Commune          \n----------------------------------------------------\nshort_district_english    | Son Tinh                 \nshort_ward_english        | Tinh Ha                  \n----------------------------------------------------\ndistrict_level            | Huyện                    \nward_level                | Xã                       \n----------------------------------------------------\ndistrict_level_english    | District                 \nward_level_english        | Commune                  "
     },
     "execution_count": 17,
     "metadata": {},
     "output_type": "execute_result"
    }
   ],
   "source": [
    "# Trúng \"tinhhatinh\"\n",
    "parse_address('xatinhhatinhquangngaihuyensontinh')"
   ],
   "metadata": {
    "collapsed": false,
    "ExecuteTime": {
     "end_time": "2024-09-29T06:51:42.720440Z",
     "start_time": "2024-09-29T06:51:42.710569Z"
    }
   },
   "id": "fdc0f6e0a7b40bb1",
   "execution_count": 17
  },
  {
   "cell_type": "code",
   "outputs": [
    {
     "data": {
      "text/plain": "AdministrativeUnit:\nAttribute                 | Value                    \n----------------------------------------------------\nprovince                  | Hồ Chí Minh              \ndistrict                  | Quận 10                  \nward                      | Phường 8                 \n----------------------------------------------------\nlong_province             | Thành phố Hồ Chí Minh    \nlong_district             | Quận 10                  \nlong_ward                 | Phường 8                 \n----------------------------------------------------\nshort_district            | Quận 10                  \nshort_ward                | Phường 8                 \n----------------------------------------------------\nprovince_english          | Ho Chi Minh              \ndistrict_english          | District 10              \nward_english              | Ward 8                   \n----------------------------------------------------\nlong_province_english     | Ho Chi Minh City         \nlong_district_english     | District 10              \nlong_ward_english         | Ward 8                   \n----------------------------------------------------\nshort_district_english    | District 10              \nshort_ward_english        | Ward 8                   \n----------------------------------------------------\ndistrict_level            | Quận                     \nward_level                | Phường                   \n----------------------------------------------------\ndistrict_level_english    | District                 \nward_level_english        | Ward                     "
     },
     "execution_count": 18,
     "metadata": {},
     "output_type": "execute_result"
    }
   ],
   "source": [
    "\n",
    "# Nhầm key Quận 1\n",
    "parse_address('phuong8quan10thanhphohochiminh')"
   ],
   "metadata": {
    "collapsed": false,
    "ExecuteTime": {
     "end_time": "2024-09-29T06:51:45.816746Z",
     "start_time": "2024-09-29T06:51:45.810892Z"
    }
   },
   "id": "9585d1eed09776de",
   "execution_count": 18
  },
  {
   "cell_type": "code",
   "outputs": [
    {
     "data": {
      "text/plain": "AdministrativeUnit:\nAttribute                 | Value                    \n----------------------------------------------------\nprovince                  | Đồng Tháp                \ndistrict                  | Châu Thành               \nward                      | Cái Tàu Hạ               \n----------------------------------------------------\nlong_province             | Tỉnh Đồng Tháp           \nlong_district             | Huyện Châu Thành         \nlong_ward                 | Thị trấn Cái Tàu Hạ      \n----------------------------------------------------\nshort_district            | Châu Thành               \nshort_ward                | Cái Tàu Hạ               \n----------------------------------------------------\nprovince_english          | Dong Thap                \ndistrict_english          | Chau Thanh               \nward_english              | Cai Tau Ha               \n----------------------------------------------------\nlong_province_english     | Dong Thap Province       \nlong_district_english     | Chau Thanh District      \nlong_ward_english         | Cai Tau Ha Town          \n----------------------------------------------------\nshort_district_english    | Chau Thanh               \nshort_ward_english        | Cai Tau Ha               \n----------------------------------------------------\ndistrict_level            | Huyện                    \nward_level                | Thị trấn                 \n----------------------------------------------------\ndistrict_level_english    | District                 \nward_level_english        | Town                     "
     },
     "execution_count": 20,
     "metadata": {},
     "output_type": "execute_result"
    }
   ],
   "source": [
    "# Nếu không có double check thì nhầm thành Phú Yên\n",
    "parse_address('thitrancaitauhadongthaphuyenchauthanh') # Ko hỗ trợ province > district"
   ],
   "metadata": {
    "collapsed": false,
    "ExecuteTime": {
     "end_time": "2024-09-29T06:51:55.621126Z",
     "start_time": "2024-09-29T06:51:55.610674Z"
    }
   },
   "id": "5368bf20f82a5bc7",
   "execution_count": 20
  },
  {
   "cell_type": "code",
   "outputs": [
    {
     "data": {
      "text/plain": "AdministrativeUnit:\nAttribute                 | Value                    \n----------------------------------------------------\nprovince                  | Hà Nam                   \ndistrict                  | Bình Lục                 \nward                      | Đồn Xá                   \n----------------------------------------------------\nlong_province             | Tỉnh Hà Nam              \nlong_district             | Huyện Bình Lục           \nlong_ward                 | Xã Đồn Xá                \n----------------------------------------------------\nshort_district            | Bình Lục                 \nshort_ward                | Đồn Xá                   \n----------------------------------------------------\nprovince_english          | Ha Nam                   \ndistrict_english          | Binh Luc                 \nward_english              | Don Xa                   \n----------------------------------------------------\nlong_province_english     | Ha Nam Province          \nlong_district_english     | Binh Luc District        \nlong_ward_english         | Don Xa Commune           \n----------------------------------------------------\nshort_district_english    | Binh Luc                 \nshort_ward_english        | Don Xa                   \n----------------------------------------------------\ndistrict_level            | Huyện                    \nward_level                | Xã                       \n----------------------------------------------------\ndistrict_level_english    | District                 \nward_level_english        | Commune                  "
     },
     "execution_count": 21,
     "metadata": {},
     "output_type": "execute_result"
    }
   ],
   "source": [
    "# Sau khi remove province_key, bị remove \"xatinhbinh\" -> Không tìm được Binh Luc\n",
    "parse_address('donxatinhhanambinhluc')"
   ],
   "metadata": {
    "collapsed": false,
    "ExecuteTime": {
     "end_time": "2024-09-29T06:52:11.335649Z",
     "start_time": "2024-09-29T06:52:11.327848Z"
    }
   },
   "id": "912cdd220c49a745",
   "execution_count": 21
  },
  {
   "cell_type": "code",
   "outputs": [
    {
     "data": {
      "text/plain": "AdministrativeUnit:\nAttribute                 | Value                    \n----------------------------------------------------\nprovince                  | Thái Bình                \ndistrict                  | Đông Hưng                \nward                      | Nguyên Xá                \n----------------------------------------------------\nlong_province             | Tỉnh Thái Bình           \nlong_district             | Huyện Đông Hưng          \nlong_ward                 | Xã Nguyên Xá             \n----------------------------------------------------\nshort_district            | Đông Hưng                \nshort_ward                | Nguyên Xá                \n----------------------------------------------------\nprovince_english          | Thai Binh                \ndistrict_english          | Dong Hung                \nward_english              | Nguyen Xa                \n----------------------------------------------------\nlong_province_english     | Thai Binh Province       \nlong_district_english     | Dong Hung District       \nlong_ward_english         | Nguyen Xa Commune        \n----------------------------------------------------\nshort_district_english    | Dong Hung                \nshort_ward_english        | Nguyen Xa                \n----------------------------------------------------\ndistrict_level            | Huyện                    \nward_level                | Xã                       \n----------------------------------------------------\ndistrict_level_english    | District                 \nward_level_english        | Commune                  "
     },
     "execution_count": 22,
     "metadata": {},
     "output_type": "execute_result"
    }
   ],
   "source": [
    "# Sau khi remove province_key thì còn \"nguyenxatinhdonghung\" nhưng bị remove \"xatinhdong\" -> Không tìm được Dong Hung\n",
    "parse_address('nguyenxatinhthaibinhdonghung')"
   ],
   "metadata": {
    "collapsed": false,
    "ExecuteTime": {
     "end_time": "2024-09-29T06:52:14.836082Z",
     "start_time": "2024-09-29T06:52:14.829959Z"
    }
   },
   "id": "b2826736f9f1a1c0",
   "execution_count": 22
  },
  {
   "cell_type": "code",
   "outputs": [
    {
     "data": {
      "text/plain": "AdministrativeUnit:\nAttribute                 | Value                    \n----------------------------------------------------\nprovince                  | Sơn La                   \ndistrict                  | Thuận Châu               \nward                      | Tông Cọ                  \n----------------------------------------------------\nlong_province             | Tỉnh Sơn La              \nlong_district             | Huyện Thuận Châu         \nlong_ward                 | Xã Tông Cọ               \n----------------------------------------------------\nshort_district            | Thuận Châu               \nshort_ward                | Tông Cọ                  \n----------------------------------------------------\nprovince_english          | Son La                   \ndistrict_english          | Thuan Chau               \nward_english              | Tong Co                  \n----------------------------------------------------\nlong_province_english     | Son La Province          \nlong_district_english     | Thuan Chau District      \nlong_ward_english         | Tong Co Commune          \n----------------------------------------------------\nshort_district_english    | Thuan Chau               \nshort_ward_english        | Tong Co                  \n----------------------------------------------------\ndistrict_level            | Huyện                    \nward_level                | Xã                       \n----------------------------------------------------\ndistrict_level_english    | District                 \nward_level_english        | Commune                  "
     },
     "execution_count": 23,
     "metadata": {},
     "output_type": "execute_result"
    }
   ],
   "source": [
    "# Bị remove \"xatongcot\" -> Không tìm được Thuan Chau\n",
    "parse_address('xatongcothuanchautinhsonla')"
   ],
   "metadata": {
    "collapsed": false,
    "ExecuteTime": {
     "end_time": "2024-09-29T06:52:17.931816Z",
     "start_time": "2024-09-29T06:52:17.923084Z"
    }
   },
   "id": "371dc77965f771ce",
   "execution_count": 23
  },
  {
   "cell_type": "code",
   "outputs": [
    {
     "data": {
      "text/plain": "AdministrativeUnit:\nAttribute                 | Value                    \n----------------------------------------------------\nprovince                  | Hà Nội                   \ndistrict                  | Sơn Tây                  \nward                      | Trung Hưng               \n----------------------------------------------------\nlong_province             | Thành phố Hà Nội         \nlong_district             | Thị xã Sơn Tây           \nlong_ward                 | Phường Trung Hưng        \n----------------------------------------------------\nshort_district            | Sơn Tây                  \nshort_ward                | Trung Hưng               \n----------------------------------------------------\nprovince_english          | Ha Noi                   \ndistrict_english          | Son Tay                  \nward_english              | Trung Hung               \n----------------------------------------------------\nlong_province_english     | Ha Noi City              \nlong_district_english     | Son Tay Town             \nlong_ward_english         | Trung Hung Ward          \n----------------------------------------------------\nshort_district_english    | Son Tay                  \nshort_ward_english        | Trung Hung               \n----------------------------------------------------\ndistrict_level            | Thị xã                   \nward_level                | Phường                   \n----------------------------------------------------\ndistrict_level_english    | Town                     \nward_level_english        | Ward                     "
     },
     "execution_count": 24,
     "metadata": {},
     "output_type": "execute_result"
    }
   ],
   "source": [
    "# Sau khi remove long_ward_alphanumeric thì \"Thị xã Sơn Tây\" bị mất do \"Xã Sơn Tây\" -> Không parse được district\n",
    "parse_address('Phường Trung Hưng Thị xã Sơn Tây Thành phố Hà Nội')"
   ],
   "metadata": {
    "collapsed": false,
    "ExecuteTime": {
     "end_time": "2024-09-29T06:52:26.435549Z",
     "start_time": "2024-09-29T06:52:26.429467Z"
    }
   },
   "id": "89a9e709f2af7c0f",
   "execution_count": 24
  },
  {
   "cell_type": "code",
   "outputs": [
    {
     "data": {
      "text/plain": "AdministrativeUnit:\nAttribute                 | Value                    \n----------------------------------------------------\nprovince                  | Hải Phòng                \ndistrict                  | Lê Chân                  \nward                      | Nghĩa Xá                 \n----------------------------------------------------\nlong_province             | Thành phố Hải Phòng      \nlong_district             | Quận Lê Chân             \nlong_ward                 | Phường Nghĩa Xá          \n----------------------------------------------------\nshort_district            | Lê Chân                  \nshort_ward                | Nghĩa Xá                 \n----------------------------------------------------\nprovince_english          | Hai Phong                \ndistrict_english          | Le Chan                  \nward_english              | Nghia Xa                 \n----------------------------------------------------\nlong_province_english     | Hai Phong City           \nlong_district_english     | Le Chan District         \nlong_ward_english         | Nghia Xa Ward            \n----------------------------------------------------\nshort_district_english    | Le Chan                  \nshort_ward_english        | Nghia Xa                 \n----------------------------------------------------\ndistrict_level            | Quận                     \nward_level                | Phường                   \n----------------------------------------------------\ndistrict_level_english    | District                 \nward_level_english        | Ward                     "
     },
     "execution_count": 25,
     "metadata": {},
     "output_type": "execute_result"
    }
   ],
   "source": [
    "# Bị mất \"Xá Lê Chân H\" do \"Xã Lê Chánh\" -> Không parse được province\n",
    "parse_address('Nghĩa Xá Lê Chân Hải Phòng')"
   ],
   "metadata": {
    "collapsed": false,
    "ExecuteTime": {
     "end_time": "2024-09-29T06:52:31.883076Z",
     "start_time": "2024-09-29T06:52:31.873897Z"
    }
   },
   "id": "c2a72e40cef87195",
   "execution_count": 25
  },
  {
   "cell_type": "code",
   "outputs": [
    {
     "data": {
      "text/plain": "AdministrativeUnit:\nAttribute                 | Value                    \n----------------------------------------------------\nprovince                  | Lạng Sơn                 \ndistrict                  | Bắc Sơn                  \nward                      | Vũ Lăng                  \n----------------------------------------------------\nlong_province             | Tỉnh Lạng Sơn            \nlong_district             | Huyện Bắc Sơn            \nlong_ward                 | Xã Vũ Lăng               \n----------------------------------------------------\nshort_district            | Bắc Sơn                  \nshort_ward                | Vũ Lăng                  \n----------------------------------------------------\nprovince_english          | Lang Son                 \ndistrict_english          | Bac Son                  \nward_english              | Vu Lang                  \n----------------------------------------------------\nlong_province_english     | Lang Son Province        \nlong_district_english     | Bac Son District         \nlong_ward_english         | Vu Lang Commune          \n----------------------------------------------------\nshort_district_english    | Bac Son                  \nshort_ward_english        | Vu Lang                  \n----------------------------------------------------\ndistrict_level            | Huyện                    \nward_level                | Xã                       \n----------------------------------------------------\ndistrict_level_english    | District                 \nward_level_english        | Commune                  "
     },
     "execution_count": 26,
     "metadata": {},
     "output_type": "execute_result"
    }
   ],
   "source": [
    "# Chưa có double check nên nhầm thành tỉnh Sơn La\n",
    "parse_address('Vũ Lăng Bắc Sơn Lạng Sơn')"
   ],
   "metadata": {
    "collapsed": false,
    "ExecuteTime": {
     "end_time": "2024-09-29T06:52:34.744977Z",
     "start_time": "2024-09-29T06:52:34.738714Z"
    }
   },
   "id": "7440e1109367130b",
   "execution_count": 26
  },
  {
   "cell_type": "code",
   "outputs": [
    {
     "data": {
      "text/plain": "AdministrativeUnit:\nAttribute                 | Value                    \n----------------------------------------------------\nprovince                  | Ninh Thuận               \ndistrict                  | Ninh Hải                 \nward                      | Phương Hải               \n----------------------------------------------------\nlong_province             | Tỉnh Ninh Thuận          \nlong_district             | Huyện Ninh Hải           \nlong_ward                 | Xã Phương Hải            \n----------------------------------------------------\nshort_district            | Ninh Hải                 \nshort_ward                | Phương Hải               \n----------------------------------------------------\nprovince_english          | Ninh Thuan               \ndistrict_english          | Ninh Hai                 \nward_english              | Phuong Hai               \n----------------------------------------------------\nlong_province_english     | Ninh Thuan Province      \nlong_district_english     | Ninh Hai District        \nlong_ward_english         | Phuong Hai Commune       \n----------------------------------------------------\nshort_district_english    | Ninh Hai                 \nshort_ward_english        | Phuong Hai               \n----------------------------------------------------\ndistrict_level            | Huyện                    \nward_level                | Xã                       \n----------------------------------------------------\ndistrict_level_english    | District                 \nward_level_english        | Commune                  "
     },
     "execution_count": 27,
     "metadata": {},
     "output_type": "execute_result"
    }
   ],
   "source": [
    "# Bị xóa \"Phương Hải Ninh\" nên không tìm được \"Ninh Hải\"\n",
    "parse_address('Phương Hải Ninh Hải Ninh Thuận')"
   ],
   "metadata": {
    "collapsed": false,
    "ExecuteTime": {
     "end_time": "2024-09-29T06:52:36.555992Z",
     "start_time": "2024-09-29T06:52:36.548331Z"
    }
   },
   "id": "6ff28f032d33d31d",
   "execution_count": 27
  },
  {
   "cell_type": "code",
   "outputs": [
    {
     "data": {
      "text/plain": "AdministrativeUnit:\nAttribute                 | Value                    \n----------------------------------------------------\nprovince                  | Hồ Chí Minh              \ndistrict                  | Quận 10                  \nward                      |                          \n----------------------------------------------------\nlong_province             | Thành phố Hồ Chí Minh    \nlong_district             | Quận 10                  \nlong_ward                 |                          \n----------------------------------------------------\nshort_district            | Quận 10                  \nshort_ward                |                          \n----------------------------------------------------\nprovince_english          | Ho Chi Minh              \ndistrict_english          | District 10              \nward_english              |                          \n----------------------------------------------------\nlong_province_english     | Ho Chi Minh City         \nlong_district_english     | District 10              \nlong_ward_english         |                          \n----------------------------------------------------\nshort_district_english    | District 10              \nshort_ward_english        |                          \n----------------------------------------------------\ndistrict_level            | Quận                     \nward_level                |                          \n----------------------------------------------------\ndistrict_level_english    | District                 \nward_level_english        |                          "
     },
     "execution_count": 28,
     "metadata": {},
     "output_type": "execute_result"
    }
   ],
   "source": [
    "# Sai với số 1\n",
    "parse_address('quan 10')"
   ],
   "metadata": {
    "collapsed": false,
    "ExecuteTime": {
     "end_time": "2024-09-29T06:52:39.540157Z",
     "start_time": "2024-09-29T06:52:39.535575Z"
    }
   },
   "id": "fbffce460b787739",
   "execution_count": 28
  },
  {
   "cell_type": "code",
   "outputs": [
    {
     "data": {
      "text/plain": "AdministrativeUnit:\nAttribute                 | Value                    \n----------------------------------------------------\nprovince                  | Hồ Chí Minh              \ndistrict                  | Quận 5                   \nward                      | Phường 2                 \n----------------------------------------------------\nlong_province             | Thành phố Hồ Chí Minh    \nlong_district             | Quận 5                   \nlong_ward                 | Phường 2                 \n----------------------------------------------------\nshort_district            | Quận 5                   \nshort_ward                | Phường 2                 \n----------------------------------------------------\nprovince_english          | Ho Chi Minh              \ndistrict_english          | District 5               \nward_english              | Ward 2                   \n----------------------------------------------------\nlong_province_english     | Ho Chi Minh City         \nlong_district_english     | District 5               \nlong_ward_english         | Ward 2                   \n----------------------------------------------------\nshort_district_english    | District 5               \nshort_ward_english        | Ward 2                   \n----------------------------------------------------\ndistrict_level            | Quận                     \nward_level                | Phường                   \n----------------------------------------------------\ndistrict_level_english    | District                 \nward_level_english        | Ward                     "
     },
     "execution_count": 29,
     "metadata": {},
     "output_type": "execute_result"
    }
   ],
   "source": [
    "parse_address('p2 q5')"
   ],
   "metadata": {
    "collapsed": false,
    "ExecuteTime": {
     "end_time": "2024-09-29T06:52:40.828989Z",
     "start_time": "2024-09-29T06:52:40.825461Z"
    }
   },
   "id": "b617963d2f4d99fc",
   "execution_count": 29
  }
 ],
 "metadata": {
  "kernelspec": {
   "display_name": "Python 3",
   "language": "python",
   "name": "python3"
  },
  "language_info": {
   "codemirror_mode": {
    "name": "ipython",
    "version": 2
   },
   "file_extension": ".py",
   "mimetype": "text/x-python",
   "name": "python",
   "nbconvert_exporter": "python",
   "pygments_lexer": "ipython2",
   "version": "2.7.6"
  }
 },
 "nbformat": 4,
 "nbformat_minor": 5
}
