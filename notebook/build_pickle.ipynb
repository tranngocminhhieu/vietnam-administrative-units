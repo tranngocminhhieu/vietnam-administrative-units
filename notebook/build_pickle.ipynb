{
 "cells": [
  {
   "cell_type": "code",
   "execution_count": 1,
   "id": "initial_id",
   "metadata": {
    "collapsed": true,
    "ExecuteTime": {
     "end_time": "2024-09-13T11:19:54.736654Z",
     "start_time": "2024-09-13T11:19:54.292223Z"
    }
   },
   "outputs": [],
   "source": [
    "import pandas as pd\n",
    "import re\n",
    "from unidecode import unidecode\n",
    "import pickle"
   ]
  },
  {
   "cell_type": "code",
   "outputs": [],
   "source": [
    "def create_province_key(text):\n",
    "    u_text = unidecode(text) # Unidecode first help remove special characters\n",
    "    c_text = str(u_text).lower().strip() # Case must be second step\n",
    "    c_text = re.sub(r'\\sProvince$|^Tinh\\s|^Thanh\\sPho\\s|\\sCity$', '', c_text, flags=re.IGNORECASE)\n",
    "    c_text = re.sub(r' \\- |  |\\- | \\-', ' ', c_text)\n",
    "    c_text = c_text.replace(' ', '')\n",
    "    return c_text"
   ],
   "metadata": {
    "collapsed": false,
    "ExecuteTime": {
     "end_time": "2024-09-13T11:19:54.757757Z",
     "start_time": "2024-09-13T11:19:54.742185Z"
    }
   },
   "id": "b6425c6e7e32bfa3",
   "execution_count": 2
  },
  {
   "cell_type": "code",
   "outputs": [],
   "source": [
    "def create_district_key(text):\n",
    "    u_text = unidecode(text) # Unidecode first help remove special characters\n",
    "    c_text = str(u_text).lower().strip() # Case must be second step\n",
    "    c_text = re.sub(r' \\- |  |\\- | \\-', ' ', c_text)\n",
    "    c_text = c_text.replace(' ', '')\n",
    "    return c_text"
   ],
   "metadata": {
    "collapsed": false,
    "ExecuteTime": {
     "end_time": "2024-09-13T11:19:54.763719Z",
     "start_time": "2024-09-13T11:19:54.759624Z"
    }
   },
   "id": "e41767ab291b11eb",
   "execution_count": 3
  },
  {
   "cell_type": "code",
   "outputs": [],
   "source": [
    "def add_province_key(df_province, province_english, province_key):\n",
    "    if province_english not in df_province['province_english'].tolist():\n",
    "        raise ValueError(f'{province_english} is not exist in province_english')\n",
    "    elif province_key in df_province['province_key'].tolist():\n",
    "        raise ValueError(f'{province_key} is exist in province_key')\n",
    "    \n",
    "    df_new = df_province.loc[df_province.province_english==province_english].head(1)\n",
    "    df_new['province_key'] = province_key\n",
    "    df_province = pd.concat([df_province, df_new])\n",
    "    return df_province"
   ],
   "metadata": {
    "collapsed": false,
    "ExecuteTime": {
     "end_time": "2024-09-13T11:19:54.770286Z",
     "start_time": "2024-09-13T11:19:54.765786Z"
    }
   },
   "id": "c90c8f7661a749a1",
   "execution_count": 4
  },
  {
   "cell_type": "code",
   "outputs": [],
   "source": [
    "def add_district_key(df, province_english, district_english, district_key):\n",
    "    if district_english not in df['district_english'].tolist():\n",
    "        raise ValueError(f'{district_english} is not exist in district_english')\n",
    "    elif province_english not in df['province_english'].tolist():\n",
    "        raise ValueError(f'{province_english} is not exist in province_english')\n",
    "    elif district_key in df['district_key'].tolist():\n",
    "        raise ValueError(f'{district_key} is exist in district_key')\n",
    "    \n",
    "    df_new = df.loc[(df.province_english==province_english) & (df.district_english==district_english)].head(1)\n",
    "    df_new['district_key'] = district_key\n",
    "    df = pd.concat([df, df_new])\n",
    "    return df"
   ],
   "metadata": {
    "collapsed": false,
    "ExecuteTime": {
     "end_time": "2024-09-13T11:19:54.776908Z",
     "start_time": "2024-09-13T11:19:54.772960Z"
    }
   },
   "id": "32b1939b896a8f98",
   "execution_count": 5
  },
  {
   "cell_type": "code",
   "outputs": [],
   "source": [
    "# Pickle\n",
    "df = pd.read_csv('../data/output/district_administrative_unit_of_vietnam.csv')"
   ],
   "metadata": {
    "collapsed": false,
    "ExecuteTime": {
     "end_time": "2024-09-13T11:19:54.790061Z",
     "start_time": "2024-09-13T11:19:54.778946Z"
    }
   },
   "id": "3dd43d782abe18a1",
   "execution_count": 6
  },
  {
   "cell_type": "code",
   "outputs": [],
   "source": [
    "district_count = df[['province', 'district']].value_counts().reset_index()"
   ],
   "metadata": {
    "collapsed": false,
    "ExecuteTime": {
     "end_time": "2024-09-13T11:19:54.798854Z",
     "start_time": "2024-09-13T11:19:54.790930Z"
    }
   },
   "id": "a5ac0bb1ca84818b",
   "execution_count": 7
  },
  {
   "cell_type": "code",
   "outputs": [],
   "source": [
    "duplicated_districts = district_count[district_count['count'] > 1]['district'].tolist()"
   ],
   "metadata": {
    "collapsed": false,
    "ExecuteTime": {
     "end_time": "2024-09-13T11:19:54.804503Z",
     "start_time": "2024-09-13T11:19:54.801260Z"
    }
   },
   "id": "8d74dc9e898a7f52",
   "execution_count": 8
  },
  {
   "cell_type": "code",
   "outputs": [],
   "source": [
    "df['province_key'] = df['province'].apply(create_province_key)\n",
    "df['district_key'] = df['district'].apply(create_district_key)\n",
    "df['level_english'].fillna('', inplace=True)"
   ],
   "metadata": {
    "collapsed": false,
    "ExecuteTime": {
     "end_time": "2024-09-13T11:19:54.815381Z",
     "start_time": "2024-09-13T11:19:54.805386Z"
    }
   },
   "id": "36a7552a0c1ac02a",
   "execution_count": 9
  },
  {
   "cell_type": "code",
   "outputs": [],
   "source": [
    "hcm_districts = df[df['district_key'].str.contains(r'quan\\d{1,2}')].copy()\n",
    "hcm_districts['district_key'] = hcm_districts['district_key'].str.replace('quan', 'district')\n",
    "df = pd.concat([df, hcm_districts])"
   ],
   "metadata": {
    "collapsed": false,
    "ExecuteTime": {
     "end_time": "2024-09-13T11:19:54.822152Z",
     "start_time": "2024-09-13T11:19:54.817100Z"
    }
   },
   "id": "7d3e2d2ff78770fc",
   "execution_count": 10
  },
  {
   "cell_type": "code",
   "outputs": [],
   "source": [
    "# After testing module, I added this code\n",
    "# 'Huyện Quang Bình, Tỉnh Hà Giang' -> quangbinh\n",
    "# 'Huyện Phù Yên, Tỉnh Sơn La' -> phuyen\n",
    "# 'Huyện Văn Giang, Tỉnh Hưng Yên' -> angiang\n",
    "# 'Huyện Quảng Ninh, Tỉnh Quảng Bình' -> quangninh\n",
    "province_key_order = {\n",
    "    'hagiang': 1,\n",
    "    'quangbinh': 2,\n",
    "    'sonla': 3,\n",
    "    'phuyen': 4,\n",
    "    'hungyen': 5,\n",
    "    'angiang': 6,\n",
    "    'quangninh': 7\n",
    "}\n",
    "\n",
    "df['province_key_order'] = df['province_key'].map(province_key_order)\n",
    "\n",
    "df.sort_values(by='province_key_order', inplace=True)"
   ],
   "metadata": {
    "collapsed": false,
    "ExecuteTime": {
     "end_time": "2024-09-13T11:19:54.829859Z",
     "start_time": "2024-09-13T11:19:54.824028Z"
    }
   },
   "id": "b8a12456da334b0",
   "execution_count": 11
  },
  {
   "cell_type": "code",
   "outputs": [],
   "source": [
    "# Pickle\n",
    "duplicated_district_keys = df[df.district.isin(duplicated_districts)]['district_key'].unique().tolist()\n",
    "duplicated_district_province_keys = df[df.district.isin(duplicated_districts)]['province_key'].unique().tolist()\n",
    "df_province = df[['province', 'province_english', 'province_key']].drop_duplicates()"
   ],
   "metadata": {
    "collapsed": false,
    "ExecuteTime": {
     "end_time": "2024-09-13T11:19:54.837463Z",
     "start_time": "2024-09-13T11:19:54.831735Z"
    }
   },
   "id": "ad2bd1bd1fc3876d",
   "execution_count": 12
  },
  {
   "cell_type": "code",
   "outputs": [],
   "source": [
    "province_alias_keys = [\n",
    "    ('Ho Chi Minh City', 'hcm'),\n",
    "    ('Ha Noi', 'hn') # Cause wrong with \"Tinh Nghe An\", fixed by adding to the end of province_keys_2\n",
    "]\n",
    "\n",
    "for key in province_alias_keys:\n",
    "    province_english, province_key = key\n",
    "    df_province = add_province_key(df_province, province_english, province_key)"
   ],
   "metadata": {
    "collapsed": false,
    "ExecuteTime": {
     "end_time": "2024-09-13T11:19:54.842777Z",
     "start_time": "2024-09-13T11:19:54.838293Z"
    }
   },
   "id": "2e3e541cf6cffa27",
   "execution_count": 13
  },
  {
   "cell_type": "code",
   "outputs": [],
   "source": [
    "# Pickle\n",
    "province_keys = df_province['province_key'].tolist()"
   ],
   "metadata": {
    "collapsed": false,
    "ExecuteTime": {
     "end_time": "2024-09-13T11:19:54.850965Z",
     "start_time": "2024-09-13T11:19:54.846794Z"
    }
   },
   "id": "d2efb2a87f0234f8",
   "execution_count": 14
  },
  {
   "cell_type": "code",
   "outputs": [],
   "source": [
    "district_alias_keys = [\n",
    "    ('Ha Noi', 'Nam Tu Liem', 'tuliem')\n",
    "]\n",
    "\n",
    "for key in district_alias_keys:\n",
    "    province_english, district_english, district_key = key\n",
    "    df = add_district_key(df, province_english, district_english, district_key)"
   ],
   "metadata": {
    "collapsed": false,
    "ExecuteTime": {
     "end_time": "2024-09-13T11:19:54.856893Z",
     "start_time": "2024-09-13T11:19:54.852321Z"
    }
   },
   "id": "7b4ed620017edf0a",
   "execution_count": 15
  },
  {
   "cell_type": "code",
   "outputs": [],
   "source": [
    "province_keys_1 = []\n",
    "province_keys_2 = []\n",
    "district_keys = str(df.district_key.unique().tolist())\n",
    "for province_key in province_keys:\n",
    "    if province_key not in district_keys:\n",
    "        province_keys_1.append(province_key)\n",
    "    else:\n",
    "        province_keys_2.append(province_key)"
   ],
   "metadata": {
    "collapsed": false,
    "ExecuteTime": {
     "end_time": "2024-09-13T11:19:54.861196Z",
     "start_time": "2024-09-13T11:19:54.858207Z"
    }
   },
   "id": "f1b5241edd87bf58",
   "execution_count": 16
  },
  {
   "cell_type": "code",
   "outputs": [],
   "source": [
    "with open('../unit_parser/data/data.pkl', 'wb') as f:\n",
    "    pickle.dump((df, df_province, duplicated_district_keys, duplicated_district_province_keys, province_keys_1, province_keys_2), f)"
   ],
   "metadata": {
    "collapsed": false,
    "ExecuteTime": {
     "end_time": "2024-09-13T11:19:54.867641Z",
     "start_time": "2024-09-13T11:19:54.862001Z"
    }
   },
   "id": "755934acf0047162",
   "execution_count": 17
  }
 ],
 "metadata": {
  "kernelspec": {
   "display_name": "Python 3",
   "language": "python",
   "name": "python3"
  },
  "language_info": {
   "codemirror_mode": {
    "name": "ipython",
    "version": 2
   },
   "file_extension": ".py",
   "mimetype": "text/x-python",
   "name": "python",
   "nbconvert_exporter": "python",
   "pygments_lexer": "ipython2",
   "version": "2.7.6"
  }
 },
 "nbformat": 4,
 "nbformat_minor": 5
}
