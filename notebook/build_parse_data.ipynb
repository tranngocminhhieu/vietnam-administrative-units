{
 "cells": [
  {
   "cell_type": "markdown",
   "source": [
    "# Build parse data"
   ],
   "metadata": {
    "collapsed": false
   },
   "id": "fcc7247bf129d2a6"
  },
  {
   "cell_type": "code",
   "execution_count": 1,
   "id": "initial_id",
   "metadata": {
    "collapsed": true,
    "ExecuteTime": {
     "end_time": "2024-09-16T15:17:04.229565Z",
     "start_time": "2024-09-16T15:17:03.834341Z"
    }
   },
   "outputs": [],
   "source": [
    "import numpy as np\n",
    "import pandas as pd\n",
    "import re\n",
    "from unidecode import unidecode\n",
    "import pickle"
   ]
  },
  {
   "cell_type": "markdown",
   "source": [
    "## Functions"
   ],
   "metadata": {
    "collapsed": false
   },
   "id": "f575361c4c167ffd"
  },
  {
   "cell_type": "code",
   "outputs": [],
   "source": [
    "def create_province_key(text):\n",
    "    u_text = unidecode(text) # Unidecode first help remove special characters\n",
    "    c_text = str(u_text).lower().strip() # Case must be second step\n",
    "    c_text = re.sub(r'\\sProvince$|^Tinh\\s|^Thanh\\sPho\\s|\\sCity$', '', c_text, flags=re.IGNORECASE)\n",
    "    c_text = re.sub(r\"\\-|\\'\", ' ', c_text)\n",
    "    c_text = c_text.replace(' ', '')\n",
    "    return c_text"
   ],
   "metadata": {
    "collapsed": false,
    "ExecuteTime": {
     "end_time": "2024-09-16T15:17:04.233237Z",
     "start_time": "2024-09-16T15:17:04.230711Z"
    }
   },
   "id": "b6425c6e7e32bfa3",
   "execution_count": 2
  },
  {
   "cell_type": "code",
   "outputs": [],
   "source": [
    "def create_district_key(text):\n",
    "    if not isinstance(text, str):\n",
    "        return text\n",
    "    u_text = unidecode(text) # Unidecode first help remove special characters\n",
    "    c_text = str(u_text).lower().strip() # Case must be second step\n",
    "    c_text = re.sub(r\"\\-|\\'\", ' ', c_text)\n",
    "    c_text = c_text.replace(' ', '')\n",
    "    return c_text"
   ],
   "metadata": {
    "collapsed": false,
    "ExecuteTime": {
     "end_time": "2024-09-16T15:17:04.236676Z",
     "start_time": "2024-09-16T15:17:04.233893Z"
    }
   },
   "id": "e41767ab291b11eb",
   "execution_count": 3
  },
  {
   "cell_type": "code",
   "outputs": [],
   "source": [
    "def add_province_key(df_province, province_english, province_key):\n",
    "    if not df_province[df_province.province_english==province_english].shape[0]:\n",
    "        raise ValueError(f'{province_english} is not exist in province_english')\n",
    "    elif df_province[(df_province.province_english==province_english) & (df_province.province_key==province_key)].shape[0]:\n",
    "        raise ValueError(f'{province_key} is exist in province_key')\n",
    "    \n",
    "    df_new = df_province.loc[df_province.province_english==province_english].head(1)\n",
    "    df_new['province_key'] = province_key\n",
    "    df_province = pd.concat([df_province, df_new])\n",
    "    return df_province"
   ],
   "metadata": {
    "collapsed": false,
    "ExecuteTime": {
     "end_time": "2024-09-16T15:17:04.242243Z",
     "start_time": "2024-09-16T15:17:04.239125Z"
    }
   },
   "id": "c90c8f7661a749a1",
   "execution_count": 4
  },
  {
   "cell_type": "code",
   "outputs": [],
   "source": [
    "def add_district_key(df_district, province_english, district_english, district_key):\n",
    "    if not df_district[df_district.province_english==province_english].shape[0]:\n",
    "        raise ValueError(f'{province_english} is not exist in province_english')\n",
    "    elif not df_district[(df_district.province_english==province_english) & (df_district.district_english==district_english)].shape[0]:\n",
    "        raise ValueError(f'{district_english} is not exist in district_english of {province_english}')\n",
    "    elif df_district[(df_district.province_english==province_english) & (df_district.district_english==district_english) & (df_district.district_key==district_key)].shape[0]:\n",
    "        raise ValueError(f'{district_key} is exist in district_key of {province_english}, {district_english}')\n",
    "    \n",
    "    df_new = df_district.loc[(df_district.province_english==province_english) & (df_district.district_english==district_english)].head(1)\n",
    "    df_new['district_key'] = district_key\n",
    "    df_district = pd.concat([df_district, df_new])\n",
    "    return df_district"
   ],
   "metadata": {
    "collapsed": false,
    "ExecuteTime": {
     "end_time": "2024-09-16T15:17:04.246111Z",
     "start_time": "2024-09-16T15:17:04.243234Z"
    }
   },
   "id": "32b1939b896a8f98",
   "execution_count": 5
  },
  {
   "cell_type": "markdown",
   "source": [
    "## Building"
   ],
   "metadata": {
    "collapsed": false
   },
   "id": "be8d4555bb973d69"
  },
  {
   "cell_type": "code",
   "outputs": [],
   "source": [
    "df = pd.read_csv('../data/output/vietnam_administrative_units.csv')"
   ],
   "metadata": {
    "collapsed": false,
    "ExecuteTime": {
     "end_time": "2024-09-16T15:17:04.329153Z",
     "start_time": "2024-09-16T15:17:04.247449Z"
    }
   },
   "id": "3dd43d782abe18a1",
   "execution_count": 6
  },
  {
   "cell_type": "code",
   "outputs": [
    {
     "data": {
      "text/plain": "  province district       ward     long_province long_district  \\\n0   Hà Nội  Ba Đình    Phúc Xá  Thành phố Hà Nội  Quận Ba Đình   \n1   Hà Nội  Ba Đình  Trúc Bạch  Thành phố Hà Nội  Quận Ba Đình   \n2   Hà Nội  Ba Đình  Vĩnh Phúc  Thành phố Hà Nội  Quận Ba Đình   \n3   Hà Nội  Ba Đình    Cống Vị  Thành phố Hà Nội  Quận Ba Đình   \n4   Hà Nội  Ba Đình  Liễu Giai  Thành phố Hà Nội  Quận Ba Đình   \n\n          long_ward short_district short_ward province_english  \\\n0    Phường Phúc Xá        Ba Đình    Phúc Xá           Ha Noi   \n1  Phường Trúc Bạch        Ba Đình  Trúc Bạch           Ha Noi   \n2  Phường Vĩnh Phúc        Ba Đình  Vĩnh Phúc           Ha Noi   \n3    Phường Cống Vị        Ba Đình    Cống Vị           Ha Noi   \n4  Phường Liễu Giai        Ba Đình  Liễu Giai           Ha Noi   \n\n  district_english ward_english long_province_english long_district_english  \\\n0          Ba Dinh      Phuc Xa           Ha Noi City      Ba Dinh District   \n1          Ba Dinh    Truc Bach           Ha Noi City      Ba Dinh District   \n2          Ba Dinh    Vinh Phuc           Ha Noi City      Ba Dinh District   \n3          Ba Dinh      Cong Vi           Ha Noi City      Ba Dinh District   \n4          Ba Dinh    Lieu Giai           Ha Noi City      Ba Dinh District   \n\n  long_ward_english short_district_english short_ward_english district_level  \\\n0      Phuc Xa Ward                Ba Dinh            Phuc Xa           Quận   \n1    Truc Bach Ward                Ba Dinh          Truc Bach           Quận   \n2    Vinh Phuc Ward                Ba Dinh          Vinh Phuc           Quận   \n3      Cong Vi Ward                Ba Dinh            Cong Vi           Quận   \n4    Lieu Giai Ward                Ba Dinh          Lieu Giai           Quận   \n\n  ward_level district_level_english ward_level_english  \n0     Phường               District               Ward  \n1     Phường               District               Ward  \n2     Phường               District               Ward  \n3     Phường               District               Ward  \n4     Phường               District               Ward  ",
      "text/html": "<div>\n<style scoped>\n    .dataframe tbody tr th:only-of-type {\n        vertical-align: middle;\n    }\n\n    .dataframe tbody tr th {\n        vertical-align: top;\n    }\n\n    .dataframe thead th {\n        text-align: right;\n    }\n</style>\n<table border=\"1\" class=\"dataframe\">\n  <thead>\n    <tr style=\"text-align: right;\">\n      <th></th>\n      <th>province</th>\n      <th>district</th>\n      <th>ward</th>\n      <th>long_province</th>\n      <th>long_district</th>\n      <th>long_ward</th>\n      <th>short_district</th>\n      <th>short_ward</th>\n      <th>province_english</th>\n      <th>district_english</th>\n      <th>ward_english</th>\n      <th>long_province_english</th>\n      <th>long_district_english</th>\n      <th>long_ward_english</th>\n      <th>short_district_english</th>\n      <th>short_ward_english</th>\n      <th>district_level</th>\n      <th>ward_level</th>\n      <th>district_level_english</th>\n      <th>ward_level_english</th>\n    </tr>\n  </thead>\n  <tbody>\n    <tr>\n      <th>0</th>\n      <td>Hà Nội</td>\n      <td>Ba Đình</td>\n      <td>Phúc Xá</td>\n      <td>Thành phố Hà Nội</td>\n      <td>Quận Ba Đình</td>\n      <td>Phường Phúc Xá</td>\n      <td>Ba Đình</td>\n      <td>Phúc Xá</td>\n      <td>Ha Noi</td>\n      <td>Ba Dinh</td>\n      <td>Phuc Xa</td>\n      <td>Ha Noi City</td>\n      <td>Ba Dinh District</td>\n      <td>Phuc Xa Ward</td>\n      <td>Ba Dinh</td>\n      <td>Phuc Xa</td>\n      <td>Quận</td>\n      <td>Phường</td>\n      <td>District</td>\n      <td>Ward</td>\n    </tr>\n    <tr>\n      <th>1</th>\n      <td>Hà Nội</td>\n      <td>Ba Đình</td>\n      <td>Trúc Bạch</td>\n      <td>Thành phố Hà Nội</td>\n      <td>Quận Ba Đình</td>\n      <td>Phường Trúc Bạch</td>\n      <td>Ba Đình</td>\n      <td>Trúc Bạch</td>\n      <td>Ha Noi</td>\n      <td>Ba Dinh</td>\n      <td>Truc Bach</td>\n      <td>Ha Noi City</td>\n      <td>Ba Dinh District</td>\n      <td>Truc Bach Ward</td>\n      <td>Ba Dinh</td>\n      <td>Truc Bach</td>\n      <td>Quận</td>\n      <td>Phường</td>\n      <td>District</td>\n      <td>Ward</td>\n    </tr>\n    <tr>\n      <th>2</th>\n      <td>Hà Nội</td>\n      <td>Ba Đình</td>\n      <td>Vĩnh Phúc</td>\n      <td>Thành phố Hà Nội</td>\n      <td>Quận Ba Đình</td>\n      <td>Phường Vĩnh Phúc</td>\n      <td>Ba Đình</td>\n      <td>Vĩnh Phúc</td>\n      <td>Ha Noi</td>\n      <td>Ba Dinh</td>\n      <td>Vinh Phuc</td>\n      <td>Ha Noi City</td>\n      <td>Ba Dinh District</td>\n      <td>Vinh Phuc Ward</td>\n      <td>Ba Dinh</td>\n      <td>Vinh Phuc</td>\n      <td>Quận</td>\n      <td>Phường</td>\n      <td>District</td>\n      <td>Ward</td>\n    </tr>\n    <tr>\n      <th>3</th>\n      <td>Hà Nội</td>\n      <td>Ba Đình</td>\n      <td>Cống Vị</td>\n      <td>Thành phố Hà Nội</td>\n      <td>Quận Ba Đình</td>\n      <td>Phường Cống Vị</td>\n      <td>Ba Đình</td>\n      <td>Cống Vị</td>\n      <td>Ha Noi</td>\n      <td>Ba Dinh</td>\n      <td>Cong Vi</td>\n      <td>Ha Noi City</td>\n      <td>Ba Dinh District</td>\n      <td>Cong Vi Ward</td>\n      <td>Ba Dinh</td>\n      <td>Cong Vi</td>\n      <td>Quận</td>\n      <td>Phường</td>\n      <td>District</td>\n      <td>Ward</td>\n    </tr>\n    <tr>\n      <th>4</th>\n      <td>Hà Nội</td>\n      <td>Ba Đình</td>\n      <td>Liễu Giai</td>\n      <td>Thành phố Hà Nội</td>\n      <td>Quận Ba Đình</td>\n      <td>Phường Liễu Giai</td>\n      <td>Ba Đình</td>\n      <td>Liễu Giai</td>\n      <td>Ha Noi</td>\n      <td>Ba Dinh</td>\n      <td>Lieu Giai</td>\n      <td>Ha Noi City</td>\n      <td>Ba Dinh District</td>\n      <td>Lieu Giai Ward</td>\n      <td>Ba Dinh</td>\n      <td>Lieu Giai</td>\n      <td>Quận</td>\n      <td>Phường</td>\n      <td>District</td>\n      <td>Ward</td>\n    </tr>\n  </tbody>\n</table>\n</div>"
     },
     "execution_count": 7,
     "metadata": {},
     "output_type": "execute_result"
    }
   ],
   "source": [
    "df.head()"
   ],
   "metadata": {
    "collapsed": false,
    "ExecuteTime": {
     "end_time": "2024-09-16T15:17:04.339503Z",
     "start_time": "2024-09-16T15:17:04.329977Z"
    }
   },
   "id": "e537352f45630d46",
   "execution_count": 7
  },
  {
   "cell_type": "code",
   "outputs": [
    {
     "data": {
      "text/plain": "(10547, 20)"
     },
     "execution_count": 8,
     "metadata": {},
     "output_type": "execute_result"
    }
   ],
   "source": [
    "df.shape"
   ],
   "metadata": {
    "collapsed": false,
    "ExecuteTime": {
     "end_time": "2024-09-16T15:17:04.345441Z",
     "start_time": "2024-09-16T15:17:04.342280Z"
    }
   },
   "id": "7c7865b3c62ec036",
   "execution_count": 8
  },
  {
   "cell_type": "markdown",
   "source": [
    "### Create keyword columns and fillna NULL columns"
   ],
   "metadata": {
    "collapsed": false
   },
   "id": "4abca40454b4b073"
  },
  {
   "cell_type": "code",
   "outputs": [],
   "source": [
    "df['province_key'] = df['province'].apply(create_province_key)\n",
    "df['district_key'] = df['short_district'].apply(create_district_key)\n",
    "df['ward_key'] = df['short_ward'].apply(create_district_key)\n",
    "df['district_level_english'].fillna('', inplace=True)\n",
    "df['ward_level_english'].fillna('', inplace=True)"
   ],
   "metadata": {
    "collapsed": false,
    "ExecuteTime": {
     "end_time": "2024-09-16T15:17:04.420695Z",
     "start_time": "2024-09-16T15:17:04.346383Z"
    }
   },
   "id": "5c5d99ae8b4ce619",
   "execution_count": 9
  },
  {
   "cell_type": "markdown",
   "source": [
    "### Create keyword lists that are duplicated district_keyword"
   ],
   "metadata": {
    "collapsed": false
   },
   "id": "635b3efaecaa2f6e"
  },
  {
   "cell_type": "code",
   "outputs": [],
   "source": [
    "district_count = df[['province', 'long_district', 'short_district']].drop_duplicates()[['province', 'short_district']].value_counts().reset_index()\n",
    "duplicated_districts = district_count[district_count['count'] > 1]['short_district'].tolist()"
   ],
   "metadata": {
    "collapsed": false,
    "ExecuteTime": {
     "end_time": "2024-09-16T15:17:04.433693Z",
     "start_time": "2024-09-16T15:17:04.425569Z"
    }
   },
   "id": "a5ac0bb1ca84818b",
   "execution_count": 10
  },
  {
   "cell_type": "code",
   "outputs": [],
   "source": [
    "df_duplicated_districts = df[df.short_district.isin(duplicated_districts)][['long_province', 'long_district', 'province_key', 'district_key']].drop_duplicates()"
   ],
   "metadata": {
    "collapsed": false,
    "ExecuteTime": {
     "end_time": "2024-09-16T15:17:04.441396Z",
     "start_time": "2024-09-16T15:17:04.436646Z"
    }
   },
   "id": "c19e9d87e6f766ee",
   "execution_count": 11
  },
  {
   "cell_type": "code",
   "outputs": [
    {
     "data": {
      "text/plain": "         long_province       long_district province_key district_key\n5835      Tỉnh Hà Tĩnh        Huyện Kỳ Anh       hatinh        kyanh\n5867      Tỉnh Hà Tĩnh       Thị xã Kỳ Anh       hatinh        kyanh\n9160   Tỉnh Tiền Giang      Thị xã Cai Lậy    tiengiang       cailay\n9213   Tỉnh Tiền Giang       Huyện Cai Lậy    tiengiang       cailay\n9552     Tỉnh Trà Vinh     Huyện Duyên Hải      travinh     duyenhai\n9559     Tỉnh Trà Vinh    Thị xã Duyên Hải      travinh     duyenhai\n9673    Tỉnh Đồng Tháp  Thành phố Cao Lãnh     dongthap      caolanh\n9697    Tỉnh Đồng Tháp  Thành phố Hồng Ngự     dongthap      hongngu\n9713    Tỉnh Đồng Tháp      Huyện Hồng Ngự     dongthap      hongngu\n9748    Tỉnh Đồng Tháp      Huyện Cao Lãnh     dongthap      caolanh\n10257   Tỉnh Hậu Giang       Huyện Long Mỹ     haugiang       longmy\n10265   Tỉnh Hậu Giang      Thị xã Long Mỹ     haugiang       longmy",
      "text/html": "<div>\n<style scoped>\n    .dataframe tbody tr th:only-of-type {\n        vertical-align: middle;\n    }\n\n    .dataframe tbody tr th {\n        vertical-align: top;\n    }\n\n    .dataframe thead th {\n        text-align: right;\n    }\n</style>\n<table border=\"1\" class=\"dataframe\">\n  <thead>\n    <tr style=\"text-align: right;\">\n      <th></th>\n      <th>long_province</th>\n      <th>long_district</th>\n      <th>province_key</th>\n      <th>district_key</th>\n    </tr>\n  </thead>\n  <tbody>\n    <tr>\n      <th>5835</th>\n      <td>Tỉnh Hà Tĩnh</td>\n      <td>Huyện Kỳ Anh</td>\n      <td>hatinh</td>\n      <td>kyanh</td>\n    </tr>\n    <tr>\n      <th>5867</th>\n      <td>Tỉnh Hà Tĩnh</td>\n      <td>Thị xã Kỳ Anh</td>\n      <td>hatinh</td>\n      <td>kyanh</td>\n    </tr>\n    <tr>\n      <th>9160</th>\n      <td>Tỉnh Tiền Giang</td>\n      <td>Thị xã Cai Lậy</td>\n      <td>tiengiang</td>\n      <td>cailay</td>\n    </tr>\n    <tr>\n      <th>9213</th>\n      <td>Tỉnh Tiền Giang</td>\n      <td>Huyện Cai Lậy</td>\n      <td>tiengiang</td>\n      <td>cailay</td>\n    </tr>\n    <tr>\n      <th>9552</th>\n      <td>Tỉnh Trà Vinh</td>\n      <td>Huyện Duyên Hải</td>\n      <td>travinh</td>\n      <td>duyenhai</td>\n    </tr>\n    <tr>\n      <th>9559</th>\n      <td>Tỉnh Trà Vinh</td>\n      <td>Thị xã Duyên Hải</td>\n      <td>travinh</td>\n      <td>duyenhai</td>\n    </tr>\n    <tr>\n      <th>9673</th>\n      <td>Tỉnh Đồng Tháp</td>\n      <td>Thành phố Cao Lãnh</td>\n      <td>dongthap</td>\n      <td>caolanh</td>\n    </tr>\n    <tr>\n      <th>9697</th>\n      <td>Tỉnh Đồng Tháp</td>\n      <td>Thành phố Hồng Ngự</td>\n      <td>dongthap</td>\n      <td>hongngu</td>\n    </tr>\n    <tr>\n      <th>9713</th>\n      <td>Tỉnh Đồng Tháp</td>\n      <td>Huyện Hồng Ngự</td>\n      <td>dongthap</td>\n      <td>hongngu</td>\n    </tr>\n    <tr>\n      <th>9748</th>\n      <td>Tỉnh Đồng Tháp</td>\n      <td>Huyện Cao Lãnh</td>\n      <td>dongthap</td>\n      <td>caolanh</td>\n    </tr>\n    <tr>\n      <th>10257</th>\n      <td>Tỉnh Hậu Giang</td>\n      <td>Huyện Long Mỹ</td>\n      <td>haugiang</td>\n      <td>longmy</td>\n    </tr>\n    <tr>\n      <th>10265</th>\n      <td>Tỉnh Hậu Giang</td>\n      <td>Thị xã Long Mỹ</td>\n      <td>haugiang</td>\n      <td>longmy</td>\n    </tr>\n  </tbody>\n</table>\n</div>"
     },
     "execution_count": 12,
     "metadata": {},
     "output_type": "execute_result"
    }
   ],
   "source": [
    "df_duplicated_districts"
   ],
   "metadata": {
    "collapsed": false,
    "ExecuteTime": {
     "end_time": "2024-09-16T15:17:04.451652Z",
     "start_time": "2024-09-16T15:17:04.443714Z"
    }
   },
   "id": "20495c948239a612",
   "execution_count": 12
  },
  {
   "cell_type": "code",
   "outputs": [],
   "source": [
    "# Pickle\n",
    "# Use Google Trend and search to decide level\n",
    "duplicated_district_keys = {\n",
    "    'kyanh': 'Town',\n",
    "    'cailay': 'Town',\n",
    "    'duyenhai': 'District',\n",
    "    'caolanh': 'City',\n",
    "    'hongngu': 'City',\n",
    "    'longmy': 'District'\n",
    "}\n",
    "\n",
    "duplicated_district_province_keys = df_duplicated_districts['province_key'].unique().tolist()"
   ],
   "metadata": {
    "collapsed": false,
    "ExecuteTime": {
     "end_time": "2024-09-16T15:17:04.520512Z",
     "start_time": "2024-09-16T15:17:04.516882Z"
    }
   },
   "id": "ebaf93ff2e5143f8",
   "execution_count": 13
  },
  {
   "cell_type": "code",
   "outputs": [
    {
     "name": "stdout",
     "output_type": "stream",
     "text": [
      "Provinces: ['hatinh', 'tiengiang', 'travinh', 'dongthap', 'haugiang']\n",
      "Districts: {'kyanh': 'Town', 'cailay': 'Town', 'duyenhai': 'District', 'caolanh': 'City', 'hongngu': 'City', 'longmy': 'District'}\n"
     ]
    }
   ],
   "source": [
    "print('Provinces:', duplicated_district_province_keys)\n",
    "print('Districts:', duplicated_district_keys)"
   ],
   "metadata": {
    "collapsed": false,
    "ExecuteTime": {
     "end_time": "2024-09-16T15:17:04.538137Z",
     "start_time": "2024-09-16T15:17:04.533985Z"
    }
   },
   "id": "969432cad1a18d05",
   "execution_count": 14
  },
  {
   "cell_type": "markdown",
   "source": [
    "### Create keyword lists that are duplicated ward_keyword"
   ],
   "metadata": {
    "collapsed": false
   },
   "id": "8b2e02ce611ed152"
  },
  {
   "cell_type": "code",
   "outputs": [],
   "source": [
    "ward_count = df[['long_province', 'long_district', 'short_ward']].value_counts().reset_index()\n",
    "df_duplicated_wards = ward_count[ward_count['count'] > 1].copy()\n",
    "df_duplicated_wards.sort_values(by=['long_province', 'long_district', 'short_ward'], inplace=True)"
   ],
   "metadata": {
    "collapsed": false,
    "ExecuteTime": {
     "end_time": "2024-09-16T15:17:04.653465Z",
     "start_time": "2024-09-16T15:17:04.642953Z"
    }
   },
   "id": "36d6afa7d76816ea",
   "execution_count": 15
  },
  {
   "cell_type": "code",
   "outputs": [],
   "source": [
    "df_duplicated_wards = df[(df.long_province.isin(df_duplicated_wards.long_province)) & (df.long_district.isin(df_duplicated_wards.long_district)) & (df.short_ward.isin(df_duplicated_wards.short_ward))][['province', 'district', 'ward','ward_level_english', 'district_key', 'ward_key']]"
   ],
   "metadata": {
    "collapsed": false,
    "ExecuteTime": {
     "end_time": "2024-09-16T15:17:04.737939Z",
     "start_time": "2024-09-16T15:17:04.732860Z"
    }
   },
   "id": "4d92faf473be44bb",
   "execution_count": 16
  },
  {
   "cell_type": "code",
   "outputs": [
    {
     "data": {
      "text/plain": "         province        district                      ward  \\\n176        Hà Nội         Gia Lâm         Thị trấn Yên Viên   \n178        Hà Nội         Gia Lâm               Xã Yên Viên   \n1479     Lai Châu        Mường Tè         Thị trấn Mường Tè   \n1484     Lai Châu        Mường Tè               Xã Mường Tè   \n1706       Sơn La         Mai Sơn          Thị trấn Hát Lót   \n1716       Sơn La         Mai Sơn                Xã Hát Lót   \n1882      Yên Bái        Trạm Tấu         Thị trấn Trạm Tấu   \n1887      Yên Bái        Trạm Tấu               Xã Trạm Tấu   \n1918      Yên Bái        Yên Bình         Thị trấn Yên Bình   \n1937      Yên Bái        Yên Bình               Xã Yên Bình   \n2418     Lạng Sơn        Chi Lăng         Thị trấn Chi Lăng   \n2436     Lạng Sơn        Chi Lăng               Xã Chi Lăng   \n2458     Lạng Sơn        Đình Lập         Thị trấn Đình Lập   \n2463     Lạng Sơn        Đình Lập               Xã Đình Lập   \n2564   Quảng Ninh          Đầm Hà           Thị trấn Đầm Hà   \n2570   Quảng Ninh          Đầm Hà                 Xã Đầm Hà   \n8058     Lâm Đồng        Đạ Huoai       Thị trấn Ma Đa Guôi   \n8063     Lâm Đồng        Đạ Huoai             Xã Ma Đa Guôi   \n9032      Long An         Đức Hòa         Thị trấn Hiệp Hòa   \n9038      Long An         Đức Hòa               Xã Hiệp Hòa   \n9536     Trà Vinh          Trà Cú          Thị trấn Định An   \n9548     Trà Vinh          Trà Cú                Xã Định An   \n9735    Đồng Tháp       Tháp Mười            Thị trấn Mỹ An   \n9744    Đồng Tháp       Tháp Mười                  Xã Mỹ An   \n9748    Đồng Tháp  Huyện Cao Lãnh           Thị trấn Mỹ Thọ   \n9756    Đồng Tháp  Huyện Cao Lãnh                 Xã Mỹ Thọ   \n10084  Kiên Giang      Vĩnh Thuận       Thị trấn Vĩnh Thuận   \n10088  Kiên Giang      Vĩnh Thuận             Xã Vĩnh Thuận   \n10321   Sóc Trăng        Long Phú         Thị trấn Long Phú   \n10331   Sóc Trăng        Long Phú               Xã Long Phú   \n10374   Sóc Trăng         Trần Đề        Xã Lịch Hội Thượng   \n10375   Sóc Trăng         Trần Đề  Thị trấn Lịch Hội Thượng   \n10401    Bạc Liêu      Phước Long       Thị trấn Phước Long   \n10404    Bạc Liêu      Phước Long             Xã Phước Long   \n10456      Cà Mau          Cà Mau          Phường Tân Thành   \n10457      Cà Mau          Cà Mau              Xã Tân Thành   \n10471      Cà Mau       Thới Bình        Thị trấn Thới Bình   \n10477      Cà Mau       Thới Bình              Xã Thới Bình   \n\n      ward_level_english district_key       ward_key  \n176                 Town       gialam        yenvien  \n178              Commune       gialam        yenvien  \n1479                Town      muongte        muongte  \n1484             Commune      muongte        muongte  \n1706                Town       maison         hatlot  \n1716             Commune       maison         hatlot  \n1882                Town      tramtau        tramtau  \n1887             Commune      tramtau        tramtau  \n1918                Town      yenbinh        yenbinh  \n1937             Commune      yenbinh        yenbinh  \n2418                Town      chilang        chilang  \n2436             Commune      chilang        chilang  \n2458                Town      dinhlap        dinhlap  \n2463             Commune      dinhlap        dinhlap  \n2564                Town        damha          damha  \n2570             Commune        damha          damha  \n8058                Town      dahuoai       madaguoi  \n8063             Commune      dahuoai       madaguoi  \n9032                Town       duchoa        hiephoa  \n9038             Commune       duchoa        hiephoa  \n9536                Town        tracu         dinhan  \n9548             Commune        tracu         dinhan  \n9735                Town     thapmuoi           myan  \n9744             Commune     thapmuoi           myan  \n9748                Town      caolanh          mytho  \n9756             Commune      caolanh          mytho  \n10084               Town    vinhthuan      vinhthuan  \n10088            Commune    vinhthuan      vinhthuan  \n10321               Town      longphu        longphu  \n10331            Commune      longphu        longphu  \n10374            Commune       trande  lichhoithuong  \n10375               Town       trande  lichhoithuong  \n10401               Town    phuoclong      phuoclong  \n10404            Commune    phuoclong      phuoclong  \n10456               Ward        camau       tanthanh  \n10457            Commune        camau       tanthanh  \n10471               Town     thoibinh       thoibinh  \n10477            Commune     thoibinh       thoibinh  ",
      "text/html": "<div>\n<style scoped>\n    .dataframe tbody tr th:only-of-type {\n        vertical-align: middle;\n    }\n\n    .dataframe tbody tr th {\n        vertical-align: top;\n    }\n\n    .dataframe thead th {\n        text-align: right;\n    }\n</style>\n<table border=\"1\" class=\"dataframe\">\n  <thead>\n    <tr style=\"text-align: right;\">\n      <th></th>\n      <th>province</th>\n      <th>district</th>\n      <th>ward</th>\n      <th>ward_level_english</th>\n      <th>district_key</th>\n      <th>ward_key</th>\n    </tr>\n  </thead>\n  <tbody>\n    <tr>\n      <th>176</th>\n      <td>Hà Nội</td>\n      <td>Gia Lâm</td>\n      <td>Thị trấn Yên Viên</td>\n      <td>Town</td>\n      <td>gialam</td>\n      <td>yenvien</td>\n    </tr>\n    <tr>\n      <th>178</th>\n      <td>Hà Nội</td>\n      <td>Gia Lâm</td>\n      <td>Xã Yên Viên</td>\n      <td>Commune</td>\n      <td>gialam</td>\n      <td>yenvien</td>\n    </tr>\n    <tr>\n      <th>1479</th>\n      <td>Lai Châu</td>\n      <td>Mường Tè</td>\n      <td>Thị trấn Mường Tè</td>\n      <td>Town</td>\n      <td>muongte</td>\n      <td>muongte</td>\n    </tr>\n    <tr>\n      <th>1484</th>\n      <td>Lai Châu</td>\n      <td>Mường Tè</td>\n      <td>Xã Mường Tè</td>\n      <td>Commune</td>\n      <td>muongte</td>\n      <td>muongte</td>\n    </tr>\n    <tr>\n      <th>1706</th>\n      <td>Sơn La</td>\n      <td>Mai Sơn</td>\n      <td>Thị trấn Hát Lót</td>\n      <td>Town</td>\n      <td>maison</td>\n      <td>hatlot</td>\n    </tr>\n    <tr>\n      <th>1716</th>\n      <td>Sơn La</td>\n      <td>Mai Sơn</td>\n      <td>Xã Hát Lót</td>\n      <td>Commune</td>\n      <td>maison</td>\n      <td>hatlot</td>\n    </tr>\n    <tr>\n      <th>1882</th>\n      <td>Yên Bái</td>\n      <td>Trạm Tấu</td>\n      <td>Thị trấn Trạm Tấu</td>\n      <td>Town</td>\n      <td>tramtau</td>\n      <td>tramtau</td>\n    </tr>\n    <tr>\n      <th>1887</th>\n      <td>Yên Bái</td>\n      <td>Trạm Tấu</td>\n      <td>Xã Trạm Tấu</td>\n      <td>Commune</td>\n      <td>tramtau</td>\n      <td>tramtau</td>\n    </tr>\n    <tr>\n      <th>1918</th>\n      <td>Yên Bái</td>\n      <td>Yên Bình</td>\n      <td>Thị trấn Yên Bình</td>\n      <td>Town</td>\n      <td>yenbinh</td>\n      <td>yenbinh</td>\n    </tr>\n    <tr>\n      <th>1937</th>\n      <td>Yên Bái</td>\n      <td>Yên Bình</td>\n      <td>Xã Yên Bình</td>\n      <td>Commune</td>\n      <td>yenbinh</td>\n      <td>yenbinh</td>\n    </tr>\n    <tr>\n      <th>2418</th>\n      <td>Lạng Sơn</td>\n      <td>Chi Lăng</td>\n      <td>Thị trấn Chi Lăng</td>\n      <td>Town</td>\n      <td>chilang</td>\n      <td>chilang</td>\n    </tr>\n    <tr>\n      <th>2436</th>\n      <td>Lạng Sơn</td>\n      <td>Chi Lăng</td>\n      <td>Xã Chi Lăng</td>\n      <td>Commune</td>\n      <td>chilang</td>\n      <td>chilang</td>\n    </tr>\n    <tr>\n      <th>2458</th>\n      <td>Lạng Sơn</td>\n      <td>Đình Lập</td>\n      <td>Thị trấn Đình Lập</td>\n      <td>Town</td>\n      <td>dinhlap</td>\n      <td>dinhlap</td>\n    </tr>\n    <tr>\n      <th>2463</th>\n      <td>Lạng Sơn</td>\n      <td>Đình Lập</td>\n      <td>Xã Đình Lập</td>\n      <td>Commune</td>\n      <td>dinhlap</td>\n      <td>dinhlap</td>\n    </tr>\n    <tr>\n      <th>2564</th>\n      <td>Quảng Ninh</td>\n      <td>Đầm Hà</td>\n      <td>Thị trấn Đầm Hà</td>\n      <td>Town</td>\n      <td>damha</td>\n      <td>damha</td>\n    </tr>\n    <tr>\n      <th>2570</th>\n      <td>Quảng Ninh</td>\n      <td>Đầm Hà</td>\n      <td>Xã Đầm Hà</td>\n      <td>Commune</td>\n      <td>damha</td>\n      <td>damha</td>\n    </tr>\n    <tr>\n      <th>8058</th>\n      <td>Lâm Đồng</td>\n      <td>Đạ Huoai</td>\n      <td>Thị trấn Ma Đa Guôi</td>\n      <td>Town</td>\n      <td>dahuoai</td>\n      <td>madaguoi</td>\n    </tr>\n    <tr>\n      <th>8063</th>\n      <td>Lâm Đồng</td>\n      <td>Đạ Huoai</td>\n      <td>Xã Ma Đa Guôi</td>\n      <td>Commune</td>\n      <td>dahuoai</td>\n      <td>madaguoi</td>\n    </tr>\n    <tr>\n      <th>9032</th>\n      <td>Long An</td>\n      <td>Đức Hòa</td>\n      <td>Thị trấn Hiệp Hòa</td>\n      <td>Town</td>\n      <td>duchoa</td>\n      <td>hiephoa</td>\n    </tr>\n    <tr>\n      <th>9038</th>\n      <td>Long An</td>\n      <td>Đức Hòa</td>\n      <td>Xã Hiệp Hòa</td>\n      <td>Commune</td>\n      <td>duchoa</td>\n      <td>hiephoa</td>\n    </tr>\n    <tr>\n      <th>9536</th>\n      <td>Trà Vinh</td>\n      <td>Trà Cú</td>\n      <td>Thị trấn Định An</td>\n      <td>Town</td>\n      <td>tracu</td>\n      <td>dinhan</td>\n    </tr>\n    <tr>\n      <th>9548</th>\n      <td>Trà Vinh</td>\n      <td>Trà Cú</td>\n      <td>Xã Định An</td>\n      <td>Commune</td>\n      <td>tracu</td>\n      <td>dinhan</td>\n    </tr>\n    <tr>\n      <th>9735</th>\n      <td>Đồng Tháp</td>\n      <td>Tháp Mười</td>\n      <td>Thị trấn Mỹ An</td>\n      <td>Town</td>\n      <td>thapmuoi</td>\n      <td>myan</td>\n    </tr>\n    <tr>\n      <th>9744</th>\n      <td>Đồng Tháp</td>\n      <td>Tháp Mười</td>\n      <td>Xã Mỹ An</td>\n      <td>Commune</td>\n      <td>thapmuoi</td>\n      <td>myan</td>\n    </tr>\n    <tr>\n      <th>9748</th>\n      <td>Đồng Tháp</td>\n      <td>Huyện Cao Lãnh</td>\n      <td>Thị trấn Mỹ Thọ</td>\n      <td>Town</td>\n      <td>caolanh</td>\n      <td>mytho</td>\n    </tr>\n    <tr>\n      <th>9756</th>\n      <td>Đồng Tháp</td>\n      <td>Huyện Cao Lãnh</td>\n      <td>Xã Mỹ Thọ</td>\n      <td>Commune</td>\n      <td>caolanh</td>\n      <td>mytho</td>\n    </tr>\n    <tr>\n      <th>10084</th>\n      <td>Kiên Giang</td>\n      <td>Vĩnh Thuận</td>\n      <td>Thị trấn Vĩnh Thuận</td>\n      <td>Town</td>\n      <td>vinhthuan</td>\n      <td>vinhthuan</td>\n    </tr>\n    <tr>\n      <th>10088</th>\n      <td>Kiên Giang</td>\n      <td>Vĩnh Thuận</td>\n      <td>Xã Vĩnh Thuận</td>\n      <td>Commune</td>\n      <td>vinhthuan</td>\n      <td>vinhthuan</td>\n    </tr>\n    <tr>\n      <th>10321</th>\n      <td>Sóc Trăng</td>\n      <td>Long Phú</td>\n      <td>Thị trấn Long Phú</td>\n      <td>Town</td>\n      <td>longphu</td>\n      <td>longphu</td>\n    </tr>\n    <tr>\n      <th>10331</th>\n      <td>Sóc Trăng</td>\n      <td>Long Phú</td>\n      <td>Xã Long Phú</td>\n      <td>Commune</td>\n      <td>longphu</td>\n      <td>longphu</td>\n    </tr>\n    <tr>\n      <th>10374</th>\n      <td>Sóc Trăng</td>\n      <td>Trần Đề</td>\n      <td>Xã Lịch Hội Thượng</td>\n      <td>Commune</td>\n      <td>trande</td>\n      <td>lichhoithuong</td>\n    </tr>\n    <tr>\n      <th>10375</th>\n      <td>Sóc Trăng</td>\n      <td>Trần Đề</td>\n      <td>Thị trấn Lịch Hội Thượng</td>\n      <td>Town</td>\n      <td>trande</td>\n      <td>lichhoithuong</td>\n    </tr>\n    <tr>\n      <th>10401</th>\n      <td>Bạc Liêu</td>\n      <td>Phước Long</td>\n      <td>Thị trấn Phước Long</td>\n      <td>Town</td>\n      <td>phuoclong</td>\n      <td>phuoclong</td>\n    </tr>\n    <tr>\n      <th>10404</th>\n      <td>Bạc Liêu</td>\n      <td>Phước Long</td>\n      <td>Xã Phước Long</td>\n      <td>Commune</td>\n      <td>phuoclong</td>\n      <td>phuoclong</td>\n    </tr>\n    <tr>\n      <th>10456</th>\n      <td>Cà Mau</td>\n      <td>Cà Mau</td>\n      <td>Phường Tân Thành</td>\n      <td>Ward</td>\n      <td>camau</td>\n      <td>tanthanh</td>\n    </tr>\n    <tr>\n      <th>10457</th>\n      <td>Cà Mau</td>\n      <td>Cà Mau</td>\n      <td>Xã Tân Thành</td>\n      <td>Commune</td>\n      <td>camau</td>\n      <td>tanthanh</td>\n    </tr>\n    <tr>\n      <th>10471</th>\n      <td>Cà Mau</td>\n      <td>Thới Bình</td>\n      <td>Thị trấn Thới Bình</td>\n      <td>Town</td>\n      <td>thoibinh</td>\n      <td>thoibinh</td>\n    </tr>\n    <tr>\n      <th>10477</th>\n      <td>Cà Mau</td>\n      <td>Thới Bình</td>\n      <td>Xã Thới Bình</td>\n      <td>Commune</td>\n      <td>thoibinh</td>\n      <td>thoibinh</td>\n    </tr>\n  </tbody>\n</table>\n</div>"
     },
     "execution_count": 17,
     "metadata": {},
     "output_type": "execute_result"
    }
   ],
   "source": [
    "df_duplicated_wards"
   ],
   "metadata": {
    "collapsed": false,
    "ExecuteTime": {
     "end_time": "2024-09-16T15:17:04.848704Z",
     "start_time": "2024-09-16T15:17:04.843331Z"
    }
   },
   "id": "22024ec0b6c0c44f",
   "execution_count": 17
  },
  {
   "cell_type": "markdown",
   "source": [
    "Following Google Trend, \"xã ...\" is higher \"thị trấn ...\" significant. But \"phường ...\" is higher than \"xã ...\" and we have only one ward in the list."
   ],
   "metadata": {
    "collapsed": false
   },
   "id": "ae2dd5d209a6b301"
  },
  {
   "cell_type": "code",
   "outputs": [],
   "source": [
    "# Pickle\n",
    "duplicated_ward_keys = df_duplicated_wards.ward_key.unique().tolist()\n",
    "duplicated_ward_district_keys = df_duplicated_wards.district_key.unique().tolist()\n",
    "\n",
    "new_data = {}\n",
    "\n",
    "for ward_key in duplicated_ward_keys:\n",
    "    levels = df_duplicated_wards[df_duplicated_wards.ward_key == ward_key]['ward_level_english'].tolist()\n",
    "    if 'Ward' in levels:\n",
    "        ward_level = 'Ward'\n",
    "    elif 'Commune' in levels:\n",
    "        ward_level = 'Commune'\n",
    "    else:\n",
    "        ward_level = 'Town'\n",
    "    new_data[ward_key] = ward_level\n",
    "    \n",
    "duplicated_ward_keys = new_data.copy()"
   ],
   "metadata": {
    "collapsed": false,
    "ExecuteTime": {
     "end_time": "2024-09-16T15:17:04.927885Z",
     "start_time": "2024-09-16T15:17:04.922923Z"
    }
   },
   "id": "3b25c9f8f0985e16",
   "execution_count": 18
  },
  {
   "cell_type": "code",
   "outputs": [
    {
     "name": "stdout",
     "output_type": "stream",
     "text": [
      "Districts: ['gialam', 'muongte', 'maison', 'tramtau', 'yenbinh', 'chilang', 'dinhlap', 'damha', 'dahuoai', 'duchoa', 'tracu', 'thapmuoi', 'caolanh', 'vinhthuan', 'longphu', 'trande', 'phuoclong', 'camau', 'thoibinh']\n",
      "Wards: {'yenvien': 'Commune', 'muongte': 'Commune', 'hatlot': 'Commune', 'tramtau': 'Commune', 'yenbinh': 'Commune', 'chilang': 'Commune', 'dinhlap': 'Commune', 'damha': 'Commune', 'madaguoi': 'Commune', 'hiephoa': 'Commune', 'dinhan': 'Commune', 'myan': 'Commune', 'mytho': 'Commune', 'vinhthuan': 'Commune', 'longphu': 'Commune', 'lichhoithuong': 'Commune', 'phuoclong': 'Commune', 'tanthanh': 'Ward', 'thoibinh': 'Commune'}\n"
     ]
    }
   ],
   "source": [
    "print('Districts:' ,duplicated_ward_district_keys)\n",
    "print('Wards:', duplicated_ward_keys)"
   ],
   "metadata": {
    "collapsed": false,
    "ExecuteTime": {
     "end_time": "2024-09-16T15:17:04.942462Z",
     "start_time": "2024-09-16T15:17:04.940670Z"
    }
   },
   "id": "d2e88418396fed1f",
   "execution_count": 19
  },
  {
   "cell_type": "markdown",
   "source": [
    "### Sort province_key to prioritize some provinces\n",
    "- Some province has districts, or wards that are the same keyword with another province.\n",
    "- We need to run module_testing to check whether any address is wrong > Use ChatGPT to sort keywords > Add manually if we found new wrong keyword."
   ],
   "metadata": {
    "collapsed": false
   },
   "id": "f1e920e2186097aa"
  },
  {
   "cell_type": "code",
   "outputs": [],
   "source": [
    "# After testing module, I added this code\n",
    "# 'Huyện Quang Bình, Tỉnh Hà Giang' -> quangbinh\n",
    "# 'Huyện Phù Yên, Tỉnh Sơn La' -> phuyen\n",
    "# 'Huyện Văn Giang, Tỉnh Hưng Yên' -> angiang\n",
    "# 'Huyện Quảng Ninh, Tỉnh Quảng Bình' -> quangninh\n",
    "# 'Bac Lieu, Hoa Binh District -> hoabinh\n",
    "\n",
    "province_key_order = {\n",
    "    'yenbai': 1,\n",
    "    'khanhhoa': 2,\n",
    "    'binhthuan': 3,\n",
    "    'thainguyen': 4,\n",
    "    'thaibinh': 5,\n",
    "    'longan': 5,\n",
    "    'thanhhoa': 6,\n",
    "    'hagiang': 6,\n",
    "    'quangbinh': 7,\n",
    "    'quangninh': 8,\n",
    "    'quangngai': 8,\n",
    "    'quangtri': 9,\n",
    "    'binhdinh': 10,\n",
    "    'binhduong': 11,\n",
    "    'binhphuoc': 12,\n",
    "    'dongnai': 13,\n",
    "    'lamdong': 14,\n",
    "    'phuyen': 15,\n",
    "    'vinhlong': 16,\n",
    "    'soctrang': 18,\n",
    "    'bacgiang': 19,\n",
    "    'camau': 20,\n",
    "    'angiang': 21,\n",
    "    'haiphong': 22,\n",
    "    'hoabinh': 23,\n",
    "    'ninhbinh': 25,\n",
    "    'cambang': 26,\n",
    "    'backan': 27,\n",
    "    'caobang': 28\n",
    "    \n",
    "    \n",
    "}\n",
    "\n",
    "\n",
    "df['province_key_order'] = df['province_key'].map(province_key_order).fillna(0)\n",
    "\n",
    "df.sort_values(by='province_key_order', inplace=True)"
   ],
   "metadata": {
    "collapsed": false,
    "ExecuteTime": {
     "end_time": "2024-09-16T15:17:05.019062Z",
     "start_time": "2024-09-16T15:17:05.012792Z"
    }
   },
   "id": "b8a12456da334b0",
   "execution_count": 20
  },
  {
   "cell_type": "markdown",
   "source": [
    "### Add alias province_keyword\n",
    "- We should not add \"hn\" because it will cause many wrong matches. I will replace `\\bhn\\b` to `\\bha noi\\b` of the address, this step is in `parse.py`"
   ],
   "metadata": {
    "collapsed": false
   },
   "id": "398029c04e639d54"
  },
  {
   "cell_type": "code",
   "outputs": [],
   "source": [
    "df_province = df[[col for col in df.columns if 'province' in col]].drop_duplicates()\n",
    "\n",
    "province_alias_keys = [\n",
    "    ('Ho Chi Minh', 'hcm')\n",
    "]\n",
    "\n",
    "for key in province_alias_keys:\n",
    "    province_english, province_key = key\n",
    "    df_province = add_province_key(df_province, province_english, province_key)"
   ],
   "metadata": {
    "collapsed": false,
    "ExecuteTime": {
     "end_time": "2024-09-16T15:17:05.145431Z",
     "start_time": "2024-09-16T15:17:05.138985Z"
    }
   },
   "id": "2e3e541cf6cffa27",
   "execution_count": 21
  },
  {
   "cell_type": "markdown",
   "source": [
    "### Add alias district_keyword\n",
    "There are many district was changed it's name or be combined with other districts. For instance: Quan 9 > Thanh pho Thu Duc.\n",
    "\n",
    "Use `find_district_alias_keywords.ipynb` to create a list of tuples."
   ],
   "metadata": {
    "collapsed": false
   },
   "id": "7bc50feab7e6e99d"
  },
  {
   "cell_type": "code",
   "outputs": [],
   "source": [
    "df_district = df[['province_english'] + [col for col in df.columns if 'district' in col]].drop_duplicates()\n",
    "\n",
    "district_alias_keys = [\n",
    "    ('An Giang', 'Chau Thanh', 'hueduc'),\n",
    "    ('Ba Ria - Vung Tau', 'Phu My', 'tanthanh'),\n",
    "    ('Bac Kan', 'Ba Be', 'chora'),\n",
    "    ('Bac Lieu', 'Bac Lieu', 'minhhai'),\n",
    "    ('Binh Duong', 'Tan Uyen', 'chauthanh'),\n",
    "    ('Binh Duong', 'Thuan An', 'laithieu'),\n",
    "    ('Binh Phuoc', 'Phuoc Long', 'phuocbinh'),\n",
    "    ('Ca Mau', 'Dam Doi', 'ngochien'),\n",
    "    ('Cao Bang', 'Quang Hoa', 'phuchoa'),\n",
    "    ('Cao Bang', 'Quang Hoa', 'quanguyen'),\n",
    "    ('Cao Bang', 'Ha Quang', 'thongnong'),\n",
    "    ('Cao Bang', 'Trung Khanh', 'tralinh'),\n",
    "    ('Dien Bien', 'Muong Lay', 'laichau'),\n",
    "    ('Dien Bien', 'Muong Cha', 'muonglay'),\n",
    "    ('Dong Nai', 'Vinh Cuu', 'vinhan'),\n",
    "    ('Dong Thap', 'Lap Vo', 'thanhhung'),\n",
    "    ('Ha Nam', 'Phu Ly', 'hanam'),\n",
    "    ('Ha Noi', 'Soc Son', 'daphuc'),\n",
    "    ('Ha Noi', 'Soc Son', 'kimanh'),\n",
    "    ('Hai Phong', 'Cat Hai', 'catba'),\n",
    "    ('Hau Giang', 'Vi Thanh', 'mythanh'),\n",
    "    ('Hau Giang', 'Nga Bay', 'tanhiep'),\n",
    "    ('Hoa Binh', 'Hoa Binh', 'kyson'),\n",
    "    ('Khanh Hoa', 'Dien Khanh', 'khanhxuong'),\n",
    "    ('Kien Giang', 'Kien Luong', 'hatien'),\n",
    "    ('Lao Cai', 'Lao Cai', 'camduong'),\n",
    "    ('Nam Dinh', 'Nam Dinh', 'myloc'),\n",
    "    ('Ninh Binh', 'Hoa Lu', 'giakhanh'),\n",
    "    ('Ninh Binh', 'Nho Quan', 'hoanglong'),\n",
    "    ('Ninh Binh', 'Yen Mo', 'tamdiep'),\n",
    "    ('Phu Tho', 'Cam Khe', 'songthao'),\n",
    "    ('Quang Nam', 'Nam Giang', 'giang'),\n",
    "    ('Quang Ngai', 'Tra Bong', 'taytra'),\n",
    "    ('Quang Ninh', 'Ha Long', 'honggai'),\n",
    "    ('Quang Ninh', 'Van Don', 'campha'),\n",
    "    ('Quang Ninh', 'Mong Cai', 'haininh'),\n",
    "    ('Quang Ninh', 'Quang Yen', 'yenhung'),\n",
    "    ('Quang Ninh', 'Ha Long', 'hoanhbo'),\n",
    "    ('Tay Ninh', 'Hoa Thanh', 'phukhuong'),\n",
    "    ('Thanh Hoa', 'Dong Son', 'dongthieu'),\n",
    "    ('Thanh Hoa', 'Yen Dinh', 'thieuyen'),\n",
    "    ('Thanh Hoa', 'Nghi Son', 'tinhgia'),\n",
    "    ('Ho Chi Minh', 'Can Gio', 'duyenhai'),\n",
    "    ('Ho Chi Minh', 'Thu Duc', 'quan2'),\n",
    "    ('Ho Chi Minh', 'Thu Duc', 'quan9'),\n",
    "    # ('Ho Chi Minh', 'Thu Duc', 'thuduc(quan)'),\n",
    "    ('Tra Vinh', 'Cang Long', 'chauthanhdong'),\n",
    "    ('Vinh Long', 'Long Ho', 'cainhum'),\n",
    "    ('Vinh Long', 'Long Ho', 'chauthanhtay'),\n",
    "    ('Ben Tre', 'Mo Cay Nam', 'mocay'),\n",
    "    ('Binh Thuan', 'Ham Thuan Nam', 'hamthuan'),\n",
    "    ('Ha Noi', 'Nam Tu Liem', 'tuliem'),\n",
    "    ('Quang Nam', 'Nam Tra My', 'tramy'),\n",
    "    ('Tien Giang', 'Go Cong Tay', 'gocong')\n",
    "\n",
    "]\n",
    "\n",
    "for key in district_alias_keys:\n",
    "    province_english, district_english, district_key = key\n",
    "    df_district = add_district_key(df_district, province_english, district_english, district_key)"
   ],
   "metadata": {
    "collapsed": false,
    "ExecuteTime": {
     "end_time": "2024-09-16T15:17:05.198875Z",
     "start_time": "2024-09-16T15:17:05.146294Z"
    }
   },
   "id": "7b4ed620017edf0a",
   "execution_count": 22
  },
  {
   "cell_type": "markdown",
   "source": [
    "Some districts contain \"quan\" with number in their keywords. We need to make a copy and replace \"quan\" to \"district\"."
   ],
   "metadata": {
    "collapsed": false
   },
   "id": "329dfb4242377ef8"
  },
  {
   "cell_type": "code",
   "outputs": [],
   "source": [
    "hcm_districts = df_district[df_district['district_key'].str.contains(r'quan\\d{1,2}')].copy()\n",
    "hcm_districts['district_key'] = hcm_districts['district_key'].str.replace('quan', 'district')\n",
    "df_district = pd.concat([df_district, hcm_districts])"
   ],
   "metadata": {
    "collapsed": false,
    "ExecuteTime": {
     "end_time": "2024-09-16T15:17:05.203789Z",
     "start_time": "2024-09-16T15:17:05.200Z"
    }
   },
   "id": "9e3870492482a94a",
   "execution_count": 23
  },
  {
   "cell_type": "markdown",
   "source": [
    "### Create alias ward_key\n",
    "Some wards contain \"phuong\" with number in their keywords. We need to make a copy and replace \"phuong\" to \"ward\".\n"
   ],
   "metadata": {
    "collapsed": false
   },
   "id": "5cb518d7ed6fa887"
  },
  {
   "cell_type": "code",
   "outputs": [],
   "source": [
    "df_ward = df[['province_english', 'district_english'] + [col for col in df.columns if 'ward' in col]].drop_duplicates()"
   ],
   "metadata": {
    "collapsed": false,
    "ExecuteTime": {
     "end_time": "2024-09-16T15:17:05.293109Z",
     "start_time": "2024-09-16T15:17:05.280483Z"
    }
   },
   "id": "6e14acc61d1d33a8",
   "execution_count": 24
  },
  {
   "cell_type": "code",
   "outputs": [],
   "source": [
    "number_wards = df_ward[df_ward['ward_key'].fillna('').str.contains(r'phuong\\d{1,2}')].copy()\n",
    "number_wards['ward_key'] = number_wards['ward_key'].str.replace('phuong', 'ward')\n",
    "df_ward = pd.concat([df_ward, number_wards])"
   ],
   "metadata": {
    "collapsed": false,
    "ExecuteTime": {
     "end_time": "2024-09-16T15:17:05.307246Z",
     "start_time": "2024-09-16T15:17:05.300850Z"
    }
   },
   "id": "e7e66b3d54b9f90d",
   "execution_count": 25
  },
  {
   "cell_type": "markdown",
   "source": [
    "### Create province_keys lists\n",
    "We will prioritize provinces that are not in district_key or ward_key when searching a province_key in address."
   ],
   "metadata": {
    "collapsed": false
   },
   "id": "50bfaf3078fc1682"
  },
  {
   "cell_type": "code",
   "outputs": [],
   "source": [
    "province_keys = df_province['province_key'].tolist()\n",
    "\n",
    "# Pickle\n",
    "province_keys_1 = []\n",
    "province_keys_2 = []\n",
    "province_keys_3 = []\n",
    "\n",
    "district_keys = str(df.district_key.unique().tolist())\n",
    "ward_keys = str(df.ward_key.unique().tolist())\n",
    "for province_key in province_keys:\n",
    "    if (province_key not in district_keys) and (province_key not in ward_keys):\n",
    "        province_keys_1.append(province_key)\n",
    "    elif province_key not in ward_keys:\n",
    "        province_keys_2.append(province_key)\n",
    "    else:\n",
    "        province_keys_3.append(province_key)"
   ],
   "metadata": {
    "collapsed": false,
    "ExecuteTime": {
     "end_time": "2024-09-16T15:17:05.331186Z",
     "start_time": "2024-09-16T15:17:05.323947Z"
    }
   },
   "id": "f1b5241edd87bf58",
   "execution_count": 26
  },
  {
   "cell_type": "markdown",
   "source": [
    "### Create mapping dictionaries"
   ],
   "metadata": {
    "collapsed": false
   },
   "id": "aa791b0587c8590a"
  },
  {
   "cell_type": "code",
   "outputs": [],
   "source": [
    "# Pickle\n",
    "province_map = {}\n",
    "\n",
    "for province_key in df_province.province_key.unique():\n",
    "    province = df_province[df_province['province_key'] == province_key]\n",
    "    province_record = province.to_dict(orient='records')[0]\n",
    "    province_map[province_key] = province_record"
   ],
   "metadata": {
    "collapsed": false,
    "ExecuteTime": {
     "end_time": "2024-09-16T15:17:05.378140Z",
     "start_time": "2024-09-16T15:17:05.361074Z"
    }
   },
   "id": "dcb40691af26b797",
   "execution_count": 27
  },
  {
   "cell_type": "code",
   "outputs": [
    {
     "name": "stdout",
     "output_type": "stream",
     "text": [
      "{'hanoi': {'province': 'Hà Nội', 'long_province': 'Thành phố Hà Nội', 'province_english': 'Ha Noi', 'long_province_english': 'Ha Noi City', 'province_key': 'hanoi', 'province_key_order': 0.0}, 'thuathienhue': {'province': 'Thừa Thiên Huế', 'long_province': 'Tỉnh Thừa Thiên Huế', 'province_english': 'Thua Thien Hue', 'long_province_english': 'Thua Thien Hue Province', 'province_key': 'thuathienhue', 'province_key_order': 0.0}, 'quangnam': {'province': 'Quảng Nam', 'long_province': 'Tỉnh Quảng Nam', 'province_english': 'Quang Nam', 'long_province_english': 'Quang Nam Province', 'province_key': 'quangnam', 'province_key_order': 0.0}, 'danang': {'province': 'Đà Nẵng', 'long_province': 'Thành phố Đà Nẵng', 'province_english': 'Da Nang', 'long_province_english': 'Da Nang City', 'province_key': 'danang', 'province_key_order': 0.0}, 'hatinh': {'province': 'Hà Tĩnh', 'long_province': 'Tỉnh Hà Tĩnh', 'province_english': 'Ha Tinh', 'long_province_english': 'Ha Tinh Province', 'province_key': 'hatinh', 'province_key_order': 0.0}, 'kontum': {'province': 'Kon Tum', 'long_province': 'Tỉnh Kon Tum', 'province_english': 'Kon Tum', 'long_province_english': 'Kon Tum Province', 'province_key': 'kontum', 'province_key_order': 0.0}, 'ninhthuan': {'province': 'Ninh Thuận', 'long_province': 'Tỉnh Ninh Thuận', 'province_english': 'Ninh Thuan', 'long_province_english': 'Ninh Thuan Province', 'province_key': 'ninhthuan', 'province_key_order': 0.0}, 'gialai': {'province': 'Gia Lai', 'long_province': 'Tỉnh Gia Lai', 'province_english': 'Gia Lai', 'long_province_english': 'Gia Lai Province', 'province_key': 'gialai', 'province_key_order': 0.0}, 'namdinh': {'province': 'Nam Định', 'long_province': 'Tỉnh Nam Định', 'province_english': 'Nam Dinh', 'long_province_english': 'Nam Dinh Province', 'province_key': 'namdinh', 'province_key_order': 0.0}, 'hanam': {'province': 'Hà Nam', 'long_province': 'Tỉnh Hà Nam', 'province_english': 'Ha Nam', 'long_province_english': 'Ha Nam Province', 'province_key': 'hanam', 'province_key_order': 0.0}, 'nghean': {'province': 'Nghệ An', 'long_province': 'Tỉnh Nghệ An', 'province_english': 'Nghe An', 'long_province_english': 'Nghe An Province', 'province_key': 'nghean', 'province_key_order': 0.0}, 'hungyen': {'province': 'Hưng Yên', 'long_province': 'Tỉnh Hưng Yên', 'province_english': 'Hung Yen', 'long_province_english': 'Hung Yen Province', 'province_key': 'hungyen', 'province_key_order': 0.0}, 'travinh': {'province': 'Trà Vinh', 'long_province': 'Tỉnh Trà Vinh', 'province_english': 'Tra Vinh', 'long_province_english': 'Tra Vinh Province', 'province_key': 'travinh', 'province_key_order': 0.0}, 'bentre': {'province': 'Bến Tre', 'long_province': 'Tỉnh Bến Tre', 'province_english': 'Ben Tre', 'long_province_english': 'Ben Tre Province', 'province_key': 'bentre', 'province_key_order': 0.0}, 'dongthap': {'province': 'Đồng Tháp', 'long_province': 'Tỉnh Đồng Tháp', 'province_english': 'Dong Thap', 'long_province_english': 'Dong Thap Province', 'province_key': 'dongthap', 'province_key_order': 0.0}, 'tiengiang': {'province': 'Tiền Giang', 'long_province': 'Tỉnh Tiền Giang', 'province_english': 'Tien Giang', 'long_province_english': 'Tien Giang Province', 'province_key': 'tiengiang', 'province_key_order': 0.0}, 'cantho': {'province': 'Cần Thơ', 'long_province': 'Thành phố Cần Thơ', 'province_english': 'Can Tho', 'long_province_english': 'Can Tho City', 'province_key': 'cantho', 'province_key_order': 0.0}, 'haugiang': {'province': 'Hậu Giang', 'long_province': 'Tỉnh Hậu Giang', 'province_english': 'Hau Giang', 'long_province_english': 'Hau Giang Province', 'province_key': 'haugiang', 'province_key_order': 0.0}, 'kiengiang': {'province': 'Kiên Giang', 'long_province': 'Tỉnh Kiên Giang', 'province_english': 'Kien Giang', 'long_province_english': 'Kien Giang Province', 'province_key': 'kiengiang', 'province_key_order': 0.0}, 'baclieu': {'province': 'Bạc Liêu', 'long_province': 'Tỉnh Bạc Liêu', 'province_english': 'Bac Lieu', 'long_province_english': 'Bac Lieu Province', 'province_key': 'baclieu', 'province_key_order': 0.0}, 'daklak': {'province': 'Đắk Lắk', 'long_province': 'Tỉnh Đắk Lắk', 'province_english': 'Dak Lak', 'long_province_english': 'Dak Lak Province', 'province_key': 'daklak', 'province_key_order': 0.0}, 'daknong': {'province': 'Đắk Nông', 'long_province': 'Tỉnh Đắk Nông', 'province_english': 'Dak Nong', 'long_province_english': 'Dak Nong Province', 'province_key': 'daknong', 'province_key_order': 0.0}, 'tayninh': {'province': 'Tây Ninh', 'long_province': 'Tỉnh Tây Ninh', 'province_english': 'Tay Ninh', 'long_province_english': 'Tay Ninh Province', 'province_key': 'tayninh', 'province_key_order': 0.0}, 'hochiminh': {'province': 'Hồ Chí Minh', 'long_province': 'Thành phố Hồ Chí Minh', 'province_english': 'Ho Chi Minh', 'long_province_english': 'Ho Chi Minh City', 'province_key': 'hochiminh', 'province_key_order': 0.0}, 'bariavungtau': {'province': 'Bà Rịa - Vũng Tàu', 'long_province': 'Tỉnh Bà Rịa - Vũng Tàu', 'province_english': 'Ba Ria - Vung Tau', 'long_province_english': 'Ba Ria - Vung Tau Province', 'province_key': 'bariavungtau', 'province_key_order': 0.0}, 'laichau': {'province': 'Lai Châu', 'long_province': 'Tỉnh Lai Châu', 'province_english': 'Lai Chau', 'long_province_english': 'Lai Chau Province', 'province_key': 'laichau', 'province_key_order': 0.0}, 'phutho': {'province': 'Phú Thọ', 'long_province': 'Tỉnh Phú Thọ', 'province_english': 'Phu Tho', 'long_province_english': 'Phu Tho Province', 'province_key': 'phutho', 'province_key_order': 0.0}, 'vinhphuc': {'province': 'Vĩnh Phúc', 'long_province': 'Tỉnh Vĩnh Phúc', 'province_english': 'Vinh Phuc', 'long_province_english': 'Vinh Phuc Province', 'province_key': 'vinhphuc', 'province_key_order': 0.0}, 'laocai': {'province': 'Lào Cai', 'long_province': 'Tỉnh Lào Cai', 'province_english': 'Lao Cai', 'long_province_english': 'Lao Cai Province', 'province_key': 'laocai', 'province_key_order': 0.0}, 'dienbien': {'province': 'Điện Biên', 'long_province': 'Tỉnh Điện Biên', 'province_english': 'Dien Bien', 'long_province_english': 'Dien Bien Province', 'province_key': 'dienbien', 'province_key_order': 0.0}, 'langson': {'province': 'Lạng Sơn', 'long_province': 'Tỉnh Lạng Sơn', 'province_english': 'Lang Son', 'long_province_english': 'Lang Son Province', 'province_key': 'langson', 'province_key_order': 0.0}, 'tuyenquang': {'province': 'Tuyên Quang', 'long_province': 'Tỉnh Tuyên Quang', 'province_english': 'Tuyen Quang', 'long_province_english': 'Tuyen Quang Province', 'province_key': 'tuyenquang', 'province_key_order': 0.0}, 'haiduong': {'province': 'Hải Dương', 'long_province': 'Tỉnh Hải Dương', 'province_english': 'Hai Duong', 'long_province_english': 'Hai Duong Province', 'province_key': 'haiduong', 'province_key_order': 0.0}, 'sonla': {'province': 'Sơn La', 'long_province': 'Tỉnh Sơn La', 'province_english': 'Son La', 'long_province_english': 'Son La Province', 'province_key': 'sonla', 'province_key_order': 0.0}, 'bacninh': {'province': 'Bắc Ninh', 'long_province': 'Tỉnh Bắc Ninh', 'province_english': 'Bac Ninh', 'long_province_english': 'Bac Ninh Province', 'province_key': 'bacninh', 'province_key_order': 0.0}, 'yenbai': {'province': 'Yên Bái', 'long_province': 'Tỉnh Yên Bái', 'province_english': 'Yen Bai', 'long_province_english': 'Yen Bai Province', 'province_key': 'yenbai', 'province_key_order': 1.0}, 'khanhhoa': {'province': 'Khánh Hòa', 'long_province': 'Tỉnh Khánh Hòa', 'province_english': 'Khanh Hoa', 'long_province_english': 'Khanh Hoa Province', 'province_key': 'khanhhoa', 'province_key_order': 2.0}, 'binhthuan': {'province': 'Bình Thuận', 'long_province': 'Tỉnh Bình Thuận', 'province_english': 'Binh Thuan', 'long_province_english': 'Binh Thuan Province', 'province_key': 'binhthuan', 'province_key_order': 3.0}, 'thainguyen': {'province': 'Thái Nguyên', 'long_province': 'Tỉnh Thái Nguyên', 'province_english': 'Thai Nguyen', 'long_province_english': 'Thai Nguyen Province', 'province_key': 'thainguyen', 'province_key_order': 4.0}, 'thaibinh': {'province': 'Thái Bình', 'long_province': 'Tỉnh Thái Bình', 'province_english': 'Thai Binh', 'long_province_english': 'Thai Binh Province', 'province_key': 'thaibinh', 'province_key_order': 5.0}, 'longan': {'province': 'Long An', 'long_province': 'Tỉnh Long An', 'province_english': 'Long An', 'long_province_english': 'Long An Province', 'province_key': 'longan', 'province_key_order': 5.0}, 'thanhhoa': {'province': 'Thanh Hóa', 'long_province': 'Tỉnh Thanh Hóa', 'province_english': 'Thanh Hoa', 'long_province_english': 'Thanh Hoa Province', 'province_key': 'thanhhoa', 'province_key_order': 6.0}, 'hagiang': {'province': 'Hà Giang', 'long_province': 'Tỉnh Hà Giang', 'province_english': 'Ha Giang', 'long_province_english': 'Ha Giang Province', 'province_key': 'hagiang', 'province_key_order': 6.0}, 'quangbinh': {'province': 'Quảng Bình', 'long_province': 'Tỉnh Quảng Bình', 'province_english': 'Quang Binh', 'long_province_english': 'Quang Binh Province', 'province_key': 'quangbinh', 'province_key_order': 7.0}, 'quangngai': {'province': 'Quảng Ngãi', 'long_province': 'Tỉnh Quảng Ngãi', 'province_english': 'Quang Ngai', 'long_province_english': 'Quang Ngai Province', 'province_key': 'quangngai', 'province_key_order': 8.0}, 'quangninh': {'province': 'Quảng Ninh', 'long_province': 'Tỉnh Quảng Ninh', 'province_english': 'Quang Ninh', 'long_province_english': 'Quang Ninh Province', 'province_key': 'quangninh', 'province_key_order': 8.0}, 'quangtri': {'province': 'Quảng Trị', 'long_province': 'Tỉnh Quảng Trị', 'province_english': 'Quang Tri', 'long_province_english': 'Quang Tri Province', 'province_key': 'quangtri', 'province_key_order': 9.0}, 'binhdinh': {'province': 'Bình Định', 'long_province': 'Tỉnh Bình Định', 'province_english': 'Binh Dinh', 'long_province_english': 'Binh Dinh Province', 'province_key': 'binhdinh', 'province_key_order': 10.0}, 'binhduong': {'province': 'Bình Dương', 'long_province': 'Tỉnh Bình Dương', 'province_english': 'Binh Duong', 'long_province_english': 'Binh Duong Province', 'province_key': 'binhduong', 'province_key_order': 11.0}, 'binhphuoc': {'province': 'Bình Phước', 'long_province': 'Tỉnh Bình Phước', 'province_english': 'Binh Phuoc', 'long_province_english': 'Binh Phuoc Province', 'province_key': 'binhphuoc', 'province_key_order': 12.0}, 'dongnai': {'province': 'Đồng Nai', 'long_province': 'Tỉnh Đồng Nai', 'province_english': 'Dong Nai', 'long_province_english': 'Dong Nai Province', 'province_key': 'dongnai', 'province_key_order': 13.0}, 'lamdong': {'province': 'Lâm Đồng', 'long_province': 'Tỉnh Lâm Đồng', 'province_english': 'Lam Dong', 'long_province_english': 'Lam Dong Province', 'province_key': 'lamdong', 'province_key_order': 14.0}, 'phuyen': {'province': 'Phú Yên', 'long_province': 'Tỉnh Phú Yên', 'province_english': 'Phu Yen', 'long_province_english': 'Phu Yen Province', 'province_key': 'phuyen', 'province_key_order': 15.0}, 'vinhlong': {'province': 'Vĩnh Long', 'long_province': 'Tỉnh Vĩnh Long', 'province_english': 'Vinh Long', 'long_province_english': 'Vinh Long Province', 'province_key': 'vinhlong', 'province_key_order': 16.0}, 'soctrang': {'province': 'Sóc Trăng', 'long_province': 'Tỉnh Sóc Trăng', 'province_english': 'Soc Trang', 'long_province_english': 'Soc Trang Province', 'province_key': 'soctrang', 'province_key_order': 18.0}, 'bacgiang': {'province': 'Bắc Giang', 'long_province': 'Tỉnh Bắc Giang', 'province_english': 'Bac Giang', 'long_province_english': 'Bac Giang Province', 'province_key': 'bacgiang', 'province_key_order': 19.0}, 'camau': {'province': 'Cà Mau', 'long_province': 'Tỉnh Cà Mau', 'province_english': 'Ca Mau', 'long_province_english': 'Ca Mau Province', 'province_key': 'camau', 'province_key_order': 20.0}, 'angiang': {'province': 'An Giang', 'long_province': 'Tỉnh An Giang', 'province_english': 'An Giang', 'long_province_english': 'An Giang Province', 'province_key': 'angiang', 'province_key_order': 21.0}, 'haiphong': {'province': 'Hải Phòng', 'long_province': 'Thành phố Hải Phòng', 'province_english': 'Hai Phong', 'long_province_english': 'Hai Phong City', 'province_key': 'haiphong', 'province_key_order': 22.0}, 'hoabinh': {'province': 'Hòa Bình', 'long_province': 'Tỉnh Hòa Bình', 'province_english': 'Hoa Binh', 'long_province_english': 'Hoa Binh Province', 'province_key': 'hoabinh', 'province_key_order': 23.0}, 'ninhbinh': {'province': 'Ninh Bình', 'long_province': 'Tỉnh Ninh Bình', 'province_english': 'Ninh Binh', 'long_province_english': 'Ninh Binh Province', 'province_key': 'ninhbinh', 'province_key_order': 25.0}, 'backan': {'province': 'Bắc Kạn', 'long_province': 'Tỉnh Bắc Kạn', 'province_english': 'Bac Kan', 'long_province_english': 'Bac Kan Province', 'province_key': 'backan', 'province_key_order': 27.0}, 'caobang': {'province': 'Cao Bằng', 'long_province': 'Tỉnh Cao Bằng', 'province_english': 'Cao Bang', 'long_province_english': 'Cao Bang Province', 'province_key': 'caobang', 'province_key_order': 28.0}, 'hcm': {'province': 'Hồ Chí Minh', 'long_province': 'Thành phố Hồ Chí Minh', 'province_english': 'Ho Chi Minh', 'long_province_english': 'Ho Chi Minh City', 'province_key': 'hcm', 'province_key_order': 0.0}}\n"
     ]
    }
   ],
   "source": [
    "print(province_map)"
   ],
   "metadata": {
    "collapsed": false,
    "ExecuteTime": {
     "end_time": "2024-09-16T15:17:05.380829Z",
     "start_time": "2024-09-16T15:17:05.378881Z"
    }
   },
   "id": "655b12be0a2ce88a",
   "execution_count": 28
  },
  {
   "cell_type": "code",
   "outputs": [],
   "source": [
    "# Pickle\n",
    "district_map = {}\n",
    "\n",
    "for province_english in df_province.province_english.unique():\n",
    "    district_keys = {}\n",
    "    for district_key in df_district[df_district.province_english == province_english]['district_key'].unique():\n",
    "        district_levels = {}\n",
    "        for district_level_english in df_district[(df_district.province_english == province_english) & (df_district.district_key == district_key)]['district_level_english'].unique():\n",
    "            district = df_district[(df_district.province_english == province_english) & (df_district.district_key == district_key) & (df_district.district_level_english == district_level_english)]\n",
    "            district_record = district[[col for col in district.columns if 'district' in col]].to_dict('records')[0]\n",
    "            district_levels[district_level_english] = district_record\n",
    "        district_keys[district_key] = district_levels\n",
    "        \n",
    "    district_keys = dict(sorted(district_keys.items(), key=lambda item: len(item[0]), reverse=True))\n",
    "    \n",
    "    district_map[province_english] = district_keys"
   ],
   "metadata": {
    "collapsed": false,
    "ExecuteTime": {
     "end_time": "2024-09-16T15:17:06.074418Z",
     "start_time": "2024-09-16T15:17:05.401834Z"
    }
   },
   "id": "57ab1579066f41f5",
   "execution_count": 29
  },
  {
   "cell_type": "code",
   "outputs": [
    {
     "name": "stdout",
     "output_type": "stream",
     "text": [
      "{'district10': {'District': {'district': 'Quận 10', 'long_district': 'Quận 10', 'short_district': 'Quận 10', 'district_english': 'District 10', 'long_district_english': 'District 10', 'short_district_english': 'District 10', 'district_level': 'Quận', 'district_level_english': 'District', 'district_key': 'district10'}}, 'district11': {'District': {'district': 'Quận 11', 'long_district': 'Quận 11', 'short_district': 'Quận 11', 'district_english': 'District 11', 'long_district_english': 'District 11', 'short_district_english': 'District 11', 'district_level': 'Quận', 'district_level_english': 'District', 'district_key': 'district11'}}, 'district12': {'District': {'district': 'Quận 12', 'long_district': 'Quận 12', 'short_district': 'Quận 12', 'district_english': 'District 12', 'long_district_english': 'District 12', 'short_district_english': 'District 12', 'district_level': 'Quận', 'district_level_english': 'District', 'district_key': 'district12'}}, 'binhchanh': {'District': {'district': 'Bình Chánh', 'long_district': 'Huyện Bình Chánh', 'short_district': 'Bình Chánh', 'district_english': 'Binh Chanh', 'long_district_english': 'Binh Chanh District', 'short_district_english': 'Binh Chanh', 'district_level': 'Huyện', 'district_level_english': 'District', 'district_key': 'binhchanh'}}, 'binhthanh': {'District': {'district': 'Bình Thạnh', 'long_district': 'Quận Bình Thạnh', 'short_district': 'Bình Thạnh', 'district_english': 'Binh Thanh', 'long_district_english': 'Binh Thanh District', 'short_district_english': 'Binh Thanh', 'district_level': 'Quận', 'district_level_english': 'District', 'district_key': 'binhthanh'}}, 'district6': {'District': {'district': 'Quận 6', 'long_district': 'Quận 6', 'short_district': 'Quận 6', 'district_english': 'District 6', 'long_district_english': 'District 6', 'short_district_english': 'District 6', 'district_level': 'Quận', 'district_level_english': 'District', 'district_key': 'district6'}}, 'district5': {'District': {'district': 'Quận 5', 'long_district': 'Quận 5', 'short_district': 'Quận 5', 'district_english': 'District 5', 'long_district_english': 'District 5', 'short_district_english': 'District 5', 'district_level': 'Quận', 'district_level_english': 'District', 'district_key': 'district5'}}, 'district4': {'District': {'district': 'Quận 4', 'long_district': 'Quận 4', 'short_district': 'Quận 4', 'district_english': 'District 4', 'long_district_english': 'District 4', 'short_district_english': 'District 4', 'district_level': 'Quận', 'district_level_english': 'District', 'district_key': 'district4'}}, 'district8': {'District': {'district': 'Quận 8', 'long_district': 'Quận 8', 'short_district': 'Quận 8', 'district_english': 'District 8', 'long_district_english': 'District 8', 'short_district_english': 'District 8', 'district_level': 'Quận', 'district_level_english': 'District', 'district_key': 'district8'}}, 'district3': {'District': {'district': 'Quận 3', 'long_district': 'Quận 3', 'short_district': 'Quận 3', 'district_english': 'District 3', 'long_district_english': 'District 3', 'short_district_english': 'District 3', 'district_level': 'Quận', 'district_level_english': 'District', 'district_key': 'district3'}}, 'district7': {'District': {'district': 'Quận 7', 'long_district': 'Quận 7', 'short_district': 'Quận 7', 'district_english': 'District 7', 'long_district_english': 'District 7', 'short_district_english': 'District 7', 'district_level': 'Quận', 'district_level_english': 'District', 'district_key': 'district7'}}, 'district1': {'District': {'district': 'Quận 1', 'long_district': 'Quận 1', 'short_district': 'Quận 1', 'district_english': 'District 1', 'long_district_english': 'District 1', 'short_district_english': 'District 1', 'district_level': 'Quận', 'district_level_english': 'District', 'district_key': 'district1'}}, 'district2': {'City': {'district': 'Thủ Đức', 'long_district': 'Thành phố Thủ Đức', 'short_district': 'Thủ Đức', 'district_english': 'Thu Duc', 'long_district_english': 'Thu Duc City', 'short_district_english': 'Thu Duc', 'district_level': 'Thành phố', 'district_level_english': 'City', 'district_key': 'district2'}}, 'district9': {'City': {'district': 'Thủ Đức', 'long_district': 'Thành phố Thủ Đức', 'short_district': 'Thủ Đức', 'district_english': 'Thu Duc', 'long_district_english': 'Thu Duc City', 'short_district_english': 'Thu Duc', 'district_level': 'Thành phố', 'district_level_english': 'City', 'district_key': 'district9'}}, 'phunhuan': {'District': {'district': 'Phú Nhuận', 'long_district': 'Quận Phú Nhuận', 'short_district': 'Phú Nhuận', 'district_english': 'Phu Nhuan', 'long_district_english': 'Phu Nhuan District', 'short_district_english': 'Phu Nhuan', 'district_level': 'Quận', 'district_level_english': 'District', 'district_key': 'phunhuan'}}, 'duyenhai': {'District': {'district': 'Cần Giờ', 'long_district': 'Huyện Cần Giờ', 'short_district': 'Cần Giờ', 'district_english': 'Can Gio', 'long_district_english': 'Can Gio District', 'short_district_english': 'Can Gio', 'district_level': 'Huyện', 'district_level_english': 'District', 'district_key': 'duyenhai'}}, 'binhtan': {'District': {'district': 'Bình Tân', 'long_district': 'Quận Bình Tân', 'short_district': 'Bình Tân', 'district_english': 'Binh Tan', 'long_district_english': 'Binh Tan District', 'short_district_english': 'Binh Tan', 'district_level': 'Quận', 'district_level_english': 'District', 'district_key': 'binhtan'}}, 'tanbinh': {'District': {'district': 'Tân Bình', 'long_district': 'Quận Tân Bình', 'short_district': 'Tân Bình', 'district_english': 'Tan Binh', 'long_district_english': 'Tan Binh District', 'short_district_english': 'Tan Binh', 'district_level': 'Quận', 'district_level_english': 'District', 'district_key': 'tanbinh'}}, 'quan10': {'District': {'district': 'Quận 10', 'long_district': 'Quận 10', 'short_district': 'Quận 10', 'district_english': 'District 10', 'long_district_english': 'District 10', 'short_district_english': 'District 10', 'district_level': 'Quận', 'district_level_english': 'District', 'district_key': 'quan10'}}, 'thuduc': {'City': {'district': 'Thủ Đức', 'long_district': 'Thành phố Thủ Đức', 'short_district': 'Thủ Đức', 'district_english': 'Thu Duc', 'long_district_english': 'Thu Duc City', 'short_district_english': 'Thu Duc', 'district_level': 'Thành phố', 'district_level_english': 'City', 'district_key': 'thuduc'}}, 'quan11': {'District': {'district': 'Quận 11', 'long_district': 'Quận 11', 'short_district': 'Quận 11', 'district_english': 'District 11', 'long_district_english': 'District 11', 'short_district_english': 'District 11', 'district_level': 'Quận', 'district_level_english': 'District', 'district_key': 'quan11'}}, 'cangio': {'District': {'district': 'Cần Giờ', 'long_district': 'Huyện Cần Giờ', 'short_district': 'Cần Giờ', 'district_english': 'Can Gio', 'long_district_english': 'Can Gio District', 'short_district_english': 'Can Gio', 'district_level': 'Huyện', 'district_level_english': 'District', 'district_key': 'cangio'}}, 'hocmon': {'District': {'district': 'Hóc Môn', 'long_district': 'Huyện Hóc Môn', 'short_district': 'Hóc Môn', 'district_english': 'Hoc Mon', 'long_district_english': 'Hoc Mon District', 'short_district_english': 'Hoc Mon', 'district_level': 'Huyện', 'district_level_english': 'District', 'district_key': 'hocmon'}}, 'tanphu': {'District': {'district': 'Tân Phú', 'long_district': 'Quận Tân Phú', 'short_district': 'Tân Phú', 'district_english': 'Tan Phu', 'long_district_english': 'Tan Phu District', 'short_district_english': 'Tan Phu', 'district_level': 'Quận', 'district_level_english': 'District', 'district_key': 'tanphu'}}, 'quan12': {'District': {'district': 'Quận 12', 'long_district': 'Quận 12', 'short_district': 'Quận 12', 'district_english': 'District 12', 'long_district_english': 'District 12', 'short_district_english': 'District 12', 'district_level': 'Quận', 'district_level_english': 'District', 'district_key': 'quan12'}}, 'quan6': {'District': {'district': 'Quận 6', 'long_district': 'Quận 6', 'short_district': 'Quận 6', 'district_english': 'District 6', 'long_district_english': 'District 6', 'short_district_english': 'District 6', 'district_level': 'Quận', 'district_level_english': 'District', 'district_key': 'quan6'}}, 'quan5': {'District': {'district': 'Quận 5', 'long_district': 'Quận 5', 'short_district': 'Quận 5', 'district_english': 'District 5', 'long_district_english': 'District 5', 'short_district_english': 'District 5', 'district_level': 'Quận', 'district_level_english': 'District', 'district_key': 'quan5'}}, 'quan4': {'District': {'district': 'Quận 4', 'long_district': 'Quận 4', 'short_district': 'Quận 4', 'district_english': 'District 4', 'long_district_english': 'District 4', 'short_district_english': 'District 4', 'district_level': 'Quận', 'district_level_english': 'District', 'district_key': 'quan4'}}, 'quan8': {'District': {'district': 'Quận 8', 'long_district': 'Quận 8', 'short_district': 'Quận 8', 'district_english': 'District 8', 'long_district_english': 'District 8', 'short_district_english': 'District 8', 'district_level': 'Quận', 'district_level_english': 'District', 'district_key': 'quan8'}}, 'quan3': {'District': {'district': 'Quận 3', 'long_district': 'Quận 3', 'short_district': 'Quận 3', 'district_english': 'District 3', 'long_district_english': 'District 3', 'short_district_english': 'District 3', 'district_level': 'Quận', 'district_level_english': 'District', 'district_key': 'quan3'}}, 'nhabe': {'District': {'district': 'Nhà Bè', 'long_district': 'Huyện Nhà Bè', 'short_district': 'Nhà Bè', 'district_english': 'Nha Be', 'long_district_english': 'Nha Be District', 'short_district_english': 'Nha Be', 'district_level': 'Huyện', 'district_level_english': 'District', 'district_key': 'nhabe'}}, 'cuchi': {'District': {'district': 'Củ Chi', 'long_district': 'Huyện Củ Chi', 'short_district': 'Củ Chi', 'district_english': 'Cu Chi', 'long_district_english': 'Cu Chi District', 'short_district_english': 'Cu Chi', 'district_level': 'Huyện', 'district_level_english': 'District', 'district_key': 'cuchi'}}, 'quan7': {'District': {'district': 'Quận 7', 'long_district': 'Quận 7', 'short_district': 'Quận 7', 'district_english': 'District 7', 'long_district_english': 'District 7', 'short_district_english': 'District 7', 'district_level': 'Quận', 'district_level_english': 'District', 'district_key': 'quan7'}}, 'quan1': {'District': {'district': 'Quận 1', 'long_district': 'Quận 1', 'short_district': 'Quận 1', 'district_english': 'District 1', 'long_district_english': 'District 1', 'short_district_english': 'District 1', 'district_level': 'Quận', 'district_level_english': 'District', 'district_key': 'quan1'}}, 'govap': {'District': {'district': 'Gò Vấp', 'long_district': 'Quận Gò Vấp', 'short_district': 'Gò Vấp', 'district_english': 'Go Vap', 'long_district_english': 'Go Vap District', 'short_district_english': 'Go Vap', 'district_level': 'Quận', 'district_level_english': 'District', 'district_key': 'govap'}}, 'quan2': {'City': {'district': 'Thủ Đức', 'long_district': 'Thành phố Thủ Đức', 'short_district': 'Thủ Đức', 'district_english': 'Thu Duc', 'long_district_english': 'Thu Duc City', 'short_district_english': 'Thu Duc', 'district_level': 'Thành phố', 'district_level_english': 'City', 'district_key': 'quan2'}}, 'quan9': {'City': {'district': 'Thủ Đức', 'long_district': 'Thành phố Thủ Đức', 'short_district': 'Thủ Đức', 'district_english': 'Thu Duc', 'long_district_english': 'Thu Duc City', 'short_district_english': 'Thu Duc', 'district_level': 'Thành phố', 'district_level_english': 'City', 'district_key': 'quan9'}}}\n"
     ]
    }
   ],
   "source": [
    "print(district_map['Ho Chi Minh'])"
   ],
   "metadata": {
    "collapsed": false,
    "ExecuteTime": {
     "end_time": "2024-09-16T15:17:06.079413Z",
     "start_time": "2024-09-16T15:17:06.076651Z"
    }
   },
   "id": "caddace33c6defe9",
   "execution_count": 30
  },
  {
   "cell_type": "code",
   "outputs": [],
   "source": [
    "# Pickle\n",
    "ward_map = {}\n",
    "\n",
    "for province_english in df_province.province_english.unique():\n",
    "    districts = {}\n",
    "    for district_english in df_district[df_district.province_english==province_english].district_english.unique():\n",
    "        wards = {}\n",
    "        for ward_key in df_ward[(df_ward.province_english==province_english) & (df_ward.district_english==district_english)].ward_key.dropna().unique():\n",
    "            ward_levels = {}\n",
    "            for ward_level_english in df_ward[(df_ward.province_english==province_english) & (df_ward.district_english==district_english) & (df_ward.ward_key==ward_key)].ward_level_english.unique():\n",
    "                ward = df_ward[(df_ward.province_english==province_english) & (df_ward.district_english==district_english) & (df_ward.ward_key==ward_key) & (df_ward.ward_level_english==ward_level_english)]\n",
    "                ward_record = ward[[col for col in ward.columns if 'ward' in col]].to_dict('records')[0]\n",
    "                ward_levels[ward_level_english] = ward_record\n",
    "            wards[ward_key] = ward_levels\n",
    "        wards = dict(sorted(wards.items(), key=lambda item: len(str(item[0])), reverse=True))\n",
    "        districts[district_english] = wards\n",
    "    ward_map[province_english] = districts"
   ],
   "metadata": {
    "collapsed": false,
    "ExecuteTime": {
     "end_time": "2024-09-16T15:17:37.816113Z",
     "start_time": "2024-09-16T15:17:06.080Z"
    }
   },
   "id": "c0eceda7e27b697e",
   "execution_count": 31
  },
  {
   "cell_type": "code",
   "outputs": [
    {
     "name": "stdout",
     "output_type": "stream",
     "text": [
      "{'phuong15': {'Ward': {'ward': 'Phường 15', 'long_ward': 'Phường 15', 'short_ward': 'Phường 15', 'ward_english': 'Ward 15', 'long_ward_english': 'Ward 15', 'short_ward_english': 'Ward 15', 'ward_level': 'Phường', 'ward_level_english': 'Ward', 'ward_key': 'phuong15'}}, 'phuong14': {'Ward': {'ward': 'Phường 14', 'long_ward': 'Phường 14', 'short_ward': 'Phường 14', 'ward_english': 'Ward 14', 'long_ward_english': 'Ward 14', 'short_ward_english': 'Ward 14', 'ward_level': 'Phường', 'ward_level_english': 'Ward', 'ward_key': 'phuong14'}}, 'phuong10': {'Ward': {'ward': 'Phường 10', 'long_ward': 'Phường 10', 'short_ward': 'Phường 10', 'ward_english': 'Ward 10', 'long_ward_english': 'Ward 10', 'short_ward_english': 'Ward 10', 'ward_level': 'Phường', 'ward_level_english': 'Ward', 'ward_key': 'phuong10'}}, 'phuong13': {'Ward': {'ward': 'Phường 13', 'long_ward': 'Phường 13', 'short_ward': 'Phường 13', 'ward_english': 'Ward 13', 'long_ward_english': 'Ward 13', 'short_ward_english': 'Ward 13', 'ward_level': 'Phường', 'ward_level_english': 'Ward', 'ward_key': 'phuong13'}}, 'phuong12': {'Ward': {'ward': 'Phường 12', 'long_ward': 'Phường 12', 'short_ward': 'Phường 12', 'ward_english': 'Ward 12', 'long_ward_english': 'Ward 12', 'short_ward_english': 'Ward 12', 'ward_level': 'Phường', 'ward_level_english': 'Ward', 'ward_key': 'phuong12'}}, 'phuong11': {'Ward': {'ward': 'Phường 11', 'long_ward': 'Phường 11', 'short_ward': 'Phường 11', 'ward_english': 'Ward 11', 'long_ward_english': 'Ward 11', 'short_ward_english': 'Ward 11', 'ward_level': 'Phường', 'ward_level_english': 'Ward', 'ward_key': 'phuong11'}}, 'phuong9': {'Ward': {'ward': 'Phường 9', 'long_ward': 'Phường 9', 'short_ward': 'Phường 9', 'ward_english': 'Ward 9', 'long_ward_english': 'Ward 9', 'short_ward_english': 'Ward 9', 'ward_level': 'Phường', 'ward_level_english': 'Ward', 'ward_key': 'phuong9'}}, 'phuong8': {'Ward': {'ward': 'Phường 8', 'long_ward': 'Phường 8', 'short_ward': 'Phường 8', 'ward_english': 'Ward 8', 'long_ward_english': 'Ward 8', 'short_ward_english': 'Ward 8', 'ward_level': 'Phường', 'ward_level_english': 'Ward', 'ward_key': 'phuong8'}}, 'phuong6': {'Ward': {'ward': 'Phường 6', 'long_ward': 'Phường 6', 'short_ward': 'Phường 6', 'ward_english': 'Ward 6', 'long_ward_english': 'Ward 6', 'short_ward_english': 'Ward 6', 'ward_level': 'Phường', 'ward_level_english': 'Ward', 'ward_key': 'phuong6'}}, 'phuong5': {'Ward': {'ward': 'Phường 5', 'long_ward': 'Phường 5', 'short_ward': 'Phường 5', 'ward_english': 'Ward 5', 'long_ward_english': 'Ward 5', 'short_ward_english': 'Ward 5', 'ward_level': 'Phường', 'ward_level_english': 'Ward', 'ward_key': 'phuong5'}}, 'phuong7': {'Ward': {'ward': 'Phường 7', 'long_ward': 'Phường 7', 'short_ward': 'Phường 7', 'ward_english': 'Ward 7', 'long_ward_english': 'Ward 7', 'short_ward_english': 'Ward 7', 'ward_level': 'Phường', 'ward_level_english': 'Ward', 'ward_key': 'phuong7'}}, 'phuong3': {'Ward': {'ward': 'Phường 3', 'long_ward': 'Phường 3', 'short_ward': 'Phường 3', 'ward_english': 'Ward 3', 'long_ward_english': 'Ward 3', 'short_ward_english': 'Ward 3', 'ward_level': 'Phường', 'ward_level_english': 'Ward', 'ward_key': 'phuong3'}}, 'phuong1': {'Ward': {'ward': 'Phường 1', 'long_ward': 'Phường 1', 'short_ward': 'Phường 1', 'ward_english': 'Ward 1', 'long_ward_english': 'Ward 1', 'short_ward_english': 'Ward 1', 'ward_level': 'Phường', 'ward_level_english': 'Ward', 'ward_key': 'phuong1'}}, 'phuong4': {'Ward': {'ward': 'Phường 4', 'long_ward': 'Phường 4', 'short_ward': 'Phường 4', 'ward_english': 'Ward 4', 'long_ward_english': 'Ward 4', 'short_ward_english': 'Ward 4', 'ward_level': 'Phường', 'ward_level_english': 'Ward', 'ward_key': 'phuong4'}}, 'phuong2': {'Ward': {'ward': 'Phường 2', 'long_ward': 'Phường 2', 'short_ward': 'Phường 2', 'ward_english': 'Ward 2', 'long_ward_english': 'Ward 2', 'short_ward_english': 'Ward 2', 'ward_level': 'Phường', 'ward_level_english': 'Ward', 'ward_key': 'phuong2'}}, 'ward15': {'Ward': {'ward': 'Phường 15', 'long_ward': 'Phường 15', 'short_ward': 'Phường 15', 'ward_english': 'Ward 15', 'long_ward_english': 'Ward 15', 'short_ward_english': 'Ward 15', 'ward_level': 'Phường', 'ward_level_english': 'Ward', 'ward_key': 'ward15'}}, 'ward14': {'Ward': {'ward': 'Phường 14', 'long_ward': 'Phường 14', 'short_ward': 'Phường 14', 'ward_english': 'Ward 14', 'long_ward_english': 'Ward 14', 'short_ward_english': 'Ward 14', 'ward_level': 'Phường', 'ward_level_english': 'Ward', 'ward_key': 'ward14'}}, 'ward10': {'Ward': {'ward': 'Phường 10', 'long_ward': 'Phường 10', 'short_ward': 'Phường 10', 'ward_english': 'Ward 10', 'long_ward_english': 'Ward 10', 'short_ward_english': 'Ward 10', 'ward_level': 'Phường', 'ward_level_english': 'Ward', 'ward_key': 'ward10'}}, 'ward13': {'Ward': {'ward': 'Phường 13', 'long_ward': 'Phường 13', 'short_ward': 'Phường 13', 'ward_english': 'Ward 13', 'long_ward_english': 'Ward 13', 'short_ward_english': 'Ward 13', 'ward_level': 'Phường', 'ward_level_english': 'Ward', 'ward_key': 'ward13'}}, 'ward12': {'Ward': {'ward': 'Phường 12', 'long_ward': 'Phường 12', 'short_ward': 'Phường 12', 'ward_english': 'Ward 12', 'long_ward_english': 'Ward 12', 'short_ward_english': 'Ward 12', 'ward_level': 'Phường', 'ward_level_english': 'Ward', 'ward_key': 'ward12'}}, 'ward11': {'Ward': {'ward': 'Phường 11', 'long_ward': 'Phường 11', 'short_ward': 'Phường 11', 'ward_english': 'Ward 11', 'long_ward_english': 'Ward 11', 'short_ward_english': 'Ward 11', 'ward_level': 'Phường', 'ward_level_english': 'Ward', 'ward_key': 'ward11'}}, 'ward9': {'Ward': {'ward': 'Phường 9', 'long_ward': 'Phường 9', 'short_ward': 'Phường 9', 'ward_english': 'Ward 9', 'long_ward_english': 'Ward 9', 'short_ward_english': 'Ward 9', 'ward_level': 'Phường', 'ward_level_english': 'Ward', 'ward_key': 'ward9'}}, 'ward8': {'Ward': {'ward': 'Phường 8', 'long_ward': 'Phường 8', 'short_ward': 'Phường 8', 'ward_english': 'Ward 8', 'long_ward_english': 'Ward 8', 'short_ward_english': 'Ward 8', 'ward_level': 'Phường', 'ward_level_english': 'Ward', 'ward_key': 'ward8'}}, 'ward6': {'Ward': {'ward': 'Phường 6', 'long_ward': 'Phường 6', 'short_ward': 'Phường 6', 'ward_english': 'Ward 6', 'long_ward_english': 'Ward 6', 'short_ward_english': 'Ward 6', 'ward_level': 'Phường', 'ward_level_english': 'Ward', 'ward_key': 'ward6'}}, 'ward5': {'Ward': {'ward': 'Phường 5', 'long_ward': 'Phường 5', 'short_ward': 'Phường 5', 'ward_english': 'Ward 5', 'long_ward_english': 'Ward 5', 'short_ward_english': 'Ward 5', 'ward_level': 'Phường', 'ward_level_english': 'Ward', 'ward_key': 'ward5'}}, 'ward7': {'Ward': {'ward': 'Phường 7', 'long_ward': 'Phường 7', 'short_ward': 'Phường 7', 'ward_english': 'Ward 7', 'long_ward_english': 'Ward 7', 'short_ward_english': 'Ward 7', 'ward_level': 'Phường', 'ward_level_english': 'Ward', 'ward_key': 'ward7'}}, 'ward3': {'Ward': {'ward': 'Phường 3', 'long_ward': 'Phường 3', 'short_ward': 'Phường 3', 'ward_english': 'Ward 3', 'long_ward_english': 'Ward 3', 'short_ward_english': 'Ward 3', 'ward_level': 'Phường', 'ward_level_english': 'Ward', 'ward_key': 'ward3'}}, 'ward1': {'Ward': {'ward': 'Phường 1', 'long_ward': 'Phường 1', 'short_ward': 'Phường 1', 'ward_english': 'Ward 1', 'long_ward_english': 'Ward 1', 'short_ward_english': 'Ward 1', 'ward_level': 'Phường', 'ward_level_english': 'Ward', 'ward_key': 'ward1'}}, 'ward4': {'Ward': {'ward': 'Phường 4', 'long_ward': 'Phường 4', 'short_ward': 'Phường 4', 'ward_english': 'Ward 4', 'long_ward_english': 'Ward 4', 'short_ward_english': 'Ward 4', 'ward_level': 'Phường', 'ward_level_english': 'Ward', 'ward_key': 'ward4'}}, 'ward2': {'Ward': {'ward': 'Phường 2', 'long_ward': 'Phường 2', 'short_ward': 'Phường 2', 'ward_english': 'Ward 2', 'long_ward_english': 'Ward 2', 'short_ward_english': 'Ward 2', 'ward_level': 'Phường', 'ward_level_english': 'Ward', 'ward_key': 'ward2'}}}\n"
     ]
    }
   ],
   "source": [
    "print(ward_map['Ho Chi Minh']['Tan Binh'])"
   ],
   "metadata": {
    "collapsed": false,
    "ExecuteTime": {
     "end_time": "2024-09-16T15:17:37.820280Z",
     "start_time": "2024-09-16T15:17:37.817706Z"
    }
   },
   "id": "c78473258c2ed315",
   "execution_count": 32
  },
  {
   "cell_type": "markdown",
   "source": [
    "### Create double check dictionaries\n",
    "Some address will cause wrong mapping because they have ward_key is as same as other province's province_key."
   ],
   "metadata": {
    "collapsed": false
   },
   "id": "7e9f3c281b5238c9"
  },
  {
   "cell_type": "code",
   "outputs": [],
   "source": [
    "double_check_provinces = {'vinhphuc': ['hagiang', 'thanhhoa'],\n",
    " 'thaibinh': ['hoabinh', 'longan'],\n",
    " 'binhthuan': ['thainguyen', 'quangngai', 'binhdinh'],\n",
    " 'lamdong': ['haiphong'],\n",
    " 'vinhlong': ['haiphong'],\n",
    " 'thainguyen': ['thaibinh'],\n",
    " 'tayninh': ['thaibinh'],\n",
    " 'angiang': ['ninhbinh'],\n",
    " 'sonla': ['ninhbinh', 'quangngai', 'khanhhoa'],\n",
    " 'khanhhoa': ['ninhbinh', 'angiang'],\n",
    " 'dienbien': ['thanhhoa'],\n",
    " 'thanhhoa': ['quangbinh', 'binhphuoc'],\n",
    " 'kiengiang': ['quangbinh'],\n",
    " 'haiduong': ['quangtri'],\n",
    " 'quangnam': ['phuyen'],\n",
    " 'quangtri': ['lamdong'],\n",
    " 'quangngai': ['lamdong'],\n",
    " 'dongnai': ['lamdong'],\n",
    " 'phutho': ['binhduong', 'angiang'],\n",
    " 'longan': ['dongnai', 'vinhlong', 'angiang'],\n",
    " 'binhphuoc': ['vinhlong', 'angiang'],\n",
    " 'hungyen': ['kiengiang']}\n",
    "\n",
    "# double_check_provinces = {} # testing"
   ],
   "metadata": {
    "collapsed": false,
    "ExecuteTime": {
     "end_time": "2024-09-16T15:17:37.823401Z",
     "start_time": "2024-09-16T15:17:37.820918Z"
    }
   },
   "id": "583daf5f5624ebf6",
   "execution_count": 33
  },
  {
   "cell_type": "markdown",
   "source": [
    "Some address will cause wrong mapping because they have ward_key is as same as other district's district_key."
   ],
   "metadata": {
    "collapsed": false
   },
   "id": "8ce87f2d7eddb04a"
  },
  {
   "cell_type": "code",
   "outputs": [],
   "source": [
    "double_check_districts = {'unghoa': ['caugiay', 'chuongmy'],\n",
    " 'thanhtri': ['hoangmai'],\n",
    " 'thanhxuan': ['socson'],\n",
    " 'thanhoai': ['thanhtri'],\n",
    " 'muongla': ['phuyen', 'songma', 'sopcop'],\n",
    " 'tranyen': ['lucyen', 'yenbinh'],\n",
    " 'uongbi': ['mongcai'],\n",
    " 'halong': ['vandon'],\n",
    " 'haiduong': ['binhgiang'],\n",
    " 'phucu': ['hungyen'],\n",
    " 'dongson': ['thanhhoa', 'bimson'],\n",
    " 'thanhhoa': ['nhuxuan'],\n",
    " 'kyson': ['tanky'],\n",
    " 'vinh': ['anhson', 'yenthanh', 'hoangmai'],\n",
    " 'huongthuy': ['hue', 'hue', 'hue'],\n",
    " 'giang': ['thangbinh', 'bactramy', 'nuithanh'],\n",
    " 'tramy': ['bactramy'],\n",
    " 'sontinh': ['sontay'],\n",
    " 'ducpho': ['moduc'],\n",
    " 'iapa': ['chuse'],\n",
    " 'krongbuk': ['krongpac'],\n",
    " 'hoathanh': ['chauthanh'],\n",
    " 'thongnhat': ['bienhoa'],\n",
    " 'tanphu': ['thuduc', 'quan7'],\n",
    " 'tanan': ['canduoc'],\n",
    " 'tanphuoc': ['gocongdong'],\n",
    " 'cainhum': ['mangthit'],\n",
    " 'chauphu': ['chaudoc', 'chaudoc'],\n",
    " 'anminh': ['chauthanh', 'uminhthuong']}\n",
    "\n",
    "# double_check_districts = {} # tesing"
   ],
   "metadata": {
    "collapsed": false,
    "ExecuteTime": {
     "end_time": "2024-09-16T15:17:37.826752Z",
     "start_time": "2024-09-16T15:17:37.824004Z"
    }
   },
   "id": "e838dbdf6fd290df",
   "execution_count": 34
  },
  {
   "cell_type": "code",
   "outputs": [],
   "source": [
    "with open('../vietadminunits/data/parse.pkl', 'wb') as f:\n",
    "    pickle.dump((duplicated_district_keys, duplicated_district_province_keys, duplicated_ward_keys, duplicated_ward_district_keys, province_keys_1, province_keys_2, province_keys_3, province_map, district_map, ward_map, double_check_provinces, double_check_districts), f)"
   ],
   "metadata": {
    "collapsed": false,
    "ExecuteTime": {
     "end_time": "2024-09-16T15:17:37.843209Z",
     "start_time": "2024-09-16T15:17:37.827287Z"
    }
   },
   "id": "755934acf0047162",
   "execution_count": 35
  },
  {
   "cell_type": "code",
   "outputs": [
    {
     "data": {
      "text/plain": "{'kyanh': 'Town',\n 'cailay': 'Town',\n 'duyenhai': 'District',\n 'caolanh': 'City',\n 'hongngu': 'City',\n 'longmy': 'District'}"
     },
     "execution_count": 36,
     "metadata": {},
     "output_type": "execute_result"
    }
   ],
   "source": [
    "duplicated_district_keys"
   ],
   "metadata": {
    "collapsed": false,
    "ExecuteTime": {
     "end_time": "2024-09-16T15:17:37.846581Z",
     "start_time": "2024-09-16T15:17:37.843815Z"
    }
   },
   "id": "68d932fcb67e402",
   "execution_count": 36
  },
  {
   "cell_type": "code",
   "outputs": [
    {
     "data": {
      "text/plain": "{'yenvien': 'Commune',\n 'muongte': 'Commune',\n 'hatlot': 'Commune',\n 'tramtau': 'Commune',\n 'yenbinh': 'Commune',\n 'chilang': 'Commune',\n 'dinhlap': 'Commune',\n 'damha': 'Commune',\n 'madaguoi': 'Commune',\n 'hiephoa': 'Commune',\n 'dinhan': 'Commune',\n 'myan': 'Commune',\n 'mytho': 'Commune',\n 'vinhthuan': 'Commune',\n 'longphu': 'Commune',\n 'lichhoithuong': 'Commune',\n 'phuoclong': 'Commune',\n 'tanthanh': 'Ward',\n 'thoibinh': 'Commune'}"
     },
     "execution_count": 37,
     "metadata": {},
     "output_type": "execute_result"
    }
   ],
   "source": [
    "duplicated_ward_keys"
   ],
   "metadata": {
    "collapsed": false,
    "ExecuteTime": {
     "end_time": "2024-09-16T15:17:46.199327Z",
     "start_time": "2024-09-16T15:17:46.195873Z"
    }
   },
   "id": "a5eda0a1b2a29a6e",
   "execution_count": 37
  },
  {
   "cell_type": "code",
   "outputs": [],
   "source": [],
   "metadata": {
    "collapsed": false
   },
   "id": "822ed0382a05c5b2"
  }
 ],
 "metadata": {
  "kernelspec": {
   "display_name": "Python 3",
   "language": "python",
   "name": "python3"
  },
  "language_info": {
   "codemirror_mode": {
    "name": "ipython",
    "version": 2
   },
   "file_extension": ".py",
   "mimetype": "text/x-python",
   "name": "python",
   "nbconvert_exporter": "python",
   "pygments_lexer": "ipython2",
   "version": "2.7.6"
  }
 },
 "nbformat": 4,
 "nbformat_minor": 5
}
