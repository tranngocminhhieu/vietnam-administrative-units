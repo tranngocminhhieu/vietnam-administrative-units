{
 "cells": [
  {
   "cell_type": "markdown",
   "source": [
    "# Build parse data"
   ],
   "metadata": {
    "collapsed": false
   },
   "id": "fcc7247bf129d2a6"
  },
  {
   "cell_type": "code",
   "execution_count": 1,
   "id": "initial_id",
   "metadata": {
    "collapsed": true,
    "ExecuteTime": {
     "end_time": "2024-09-16T10:27:59.558406Z",
     "start_time": "2024-09-16T10:27:58.798570Z"
    }
   },
   "outputs": [],
   "source": [
    "import numpy as np\n",
    "import pandas as pd\n",
    "import re\n",
    "from unidecode import unidecode\n",
    "import pickle"
   ]
  },
  {
   "cell_type": "markdown",
   "source": [
    "## Functions"
   ],
   "metadata": {
    "collapsed": false
   },
   "id": "f575361c4c167ffd"
  },
  {
   "cell_type": "code",
   "outputs": [],
   "source": [
    "def create_province_key(text):\n",
    "    u_text = unidecode(text) # Unidecode first help remove special characters\n",
    "    c_text = str(u_text).lower().strip() # Case must be second step\n",
    "    c_text = re.sub(r'\\sProvince$|^Tinh\\s|^Thanh\\sPho\\s|\\sCity$', '', c_text, flags=re.IGNORECASE)\n",
    "    c_text = re.sub(r\"\\-|\\'\", ' ', c_text)\n",
    "    c_text = c_text.replace(' ', '')\n",
    "    return c_text"
   ],
   "metadata": {
    "collapsed": false,
    "ExecuteTime": {
     "end_time": "2024-09-16T10:27:59.563243Z",
     "start_time": "2024-09-16T10:27:59.560099Z"
    }
   },
   "id": "b6425c6e7e32bfa3",
   "execution_count": 2
  },
  {
   "cell_type": "code",
   "outputs": [],
   "source": [
    "def create_district_key(text):\n",
    "    if not isinstance(text, str):\n",
    "        return text\n",
    "    u_text = unidecode(text) # Unidecode first help remove special characters\n",
    "    c_text = str(u_text).lower().strip() # Case must be second step\n",
    "    c_text = re.sub(r\"\\-|\\'\", ' ', c_text)\n",
    "    c_text = c_text.replace(' ', '')\n",
    "    return c_text"
   ],
   "metadata": {
    "collapsed": false,
    "ExecuteTime": {
     "end_time": "2024-09-16T10:27:59.566538Z",
     "start_time": "2024-09-16T10:27:59.564132Z"
    }
   },
   "id": "e41767ab291b11eb",
   "execution_count": 3
  },
  {
   "cell_type": "code",
   "outputs": [],
   "source": [
    "def add_province_key(df_province, province_english, province_key):\n",
    "    if not df_province[df_province.province_english==province_english].shape[0]:\n",
    "        raise ValueError(f'{province_english} is not exist in province_english')\n",
    "    elif df_province[(df_province.province_english==province_english) & (df_province.province_key==province_key)].shape[0]:\n",
    "        raise ValueError(f'{province_key} is exist in province_key')\n",
    "    \n",
    "    df_new = df_province.loc[df_province.province_english==province_english].head(1)\n",
    "    df_new['province_key'] = province_key\n",
    "    df_province = pd.concat([df_province, df_new])\n",
    "    return df_province"
   ],
   "metadata": {
    "collapsed": false,
    "ExecuteTime": {
     "end_time": "2024-09-16T10:27:59.570950Z",
     "start_time": "2024-09-16T10:27:59.568349Z"
    }
   },
   "id": "c90c8f7661a749a1",
   "execution_count": 4
  },
  {
   "cell_type": "code",
   "outputs": [],
   "source": [
    "def add_district_key(df_district, province_english, district_english, district_key):\n",
    "    if not df_district[df_district.province_english==province_english].shape[0]:\n",
    "        raise ValueError(f'{province_english} is not exist in province_english')\n",
    "    elif not df_district[(df_district.province_english==province_english) & (df_district.district_english==district_english)].shape[0]:\n",
    "        raise ValueError(f'{district_english} is not exist in district_english of {province_english}')\n",
    "    elif df_district[(df_district.province_english==province_english) & (df_district.district_english==district_english) & (df_district.district_key==district_key)].shape[0]:\n",
    "        raise ValueError(f'{district_key} is exist in district_key of {province_english}, {district_english}')\n",
    "    \n",
    "    df_new = df_district.loc[(df_district.province_english==province_english) & (df_district.district_english==district_english)].head(1)\n",
    "    df_new['district_key'] = district_key\n",
    "    df_district = pd.concat([df_district, df_new])\n",
    "    return df_district"
   ],
   "metadata": {
    "collapsed": false,
    "ExecuteTime": {
     "end_time": "2024-09-16T10:27:59.574397Z",
     "start_time": "2024-09-16T10:27:59.571504Z"
    }
   },
   "id": "32b1939b896a8f98",
   "execution_count": 5
  },
  {
   "cell_type": "markdown",
   "source": [
    "## Building"
   ],
   "metadata": {
    "collapsed": false
   },
   "id": "be8d4555bb973d69"
  },
  {
   "cell_type": "code",
   "outputs": [],
   "source": [
    "df = pd.read_csv('../data/output/vietnam_administrative_units.csv')"
   ],
   "metadata": {
    "collapsed": false,
    "ExecuteTime": {
     "end_time": "2024-09-16T10:27:59.658319Z",
     "start_time": "2024-09-16T10:27:59.575706Z"
    }
   },
   "id": "3dd43d782abe18a1",
   "execution_count": 6
  },
  {
   "cell_type": "code",
   "outputs": [
    {
     "data": {
      "text/plain": "  province district       ward     long_province long_district  \\\n0   Hà Nội  Ba Đình    Phúc Xá  Thành phố Hà Nội  Quận Ba Đình   \n1   Hà Nội  Ba Đình  Trúc Bạch  Thành phố Hà Nội  Quận Ba Đình   \n2   Hà Nội  Ba Đình  Vĩnh Phúc  Thành phố Hà Nội  Quận Ba Đình   \n3   Hà Nội  Ba Đình    Cống Vị  Thành phố Hà Nội  Quận Ba Đình   \n4   Hà Nội  Ba Đình  Liễu Giai  Thành phố Hà Nội  Quận Ba Đình   \n\n          long_ward short_district short_ward province_english  \\\n0    Phường Phúc Xá        Ba Đình    Phúc Xá           Ha Noi   \n1  Phường Trúc Bạch        Ba Đình  Trúc Bạch           Ha Noi   \n2  Phường Vĩnh Phúc        Ba Đình  Vĩnh Phúc           Ha Noi   \n3    Phường Cống Vị        Ba Đình    Cống Vị           Ha Noi   \n4  Phường Liễu Giai        Ba Đình  Liễu Giai           Ha Noi   \n\n  district_english ward_english long_province_english long_district_english  \\\n0          Ba Dinh      Phuc Xa           Ha Noi City      Ba Dinh District   \n1          Ba Dinh    Truc Bach           Ha Noi City      Ba Dinh District   \n2          Ba Dinh    Vinh Phuc           Ha Noi City      Ba Dinh District   \n3          Ba Dinh      Cong Vi           Ha Noi City      Ba Dinh District   \n4          Ba Dinh    Lieu Giai           Ha Noi City      Ba Dinh District   \n\n  long_ward_english short_district_english short_ward_english district_level  \\\n0      Phuc Xa Ward                Ba Dinh            Phuc Xa           Quận   \n1    Truc Bach Ward                Ba Dinh          Truc Bach           Quận   \n2    Vinh Phuc Ward                Ba Dinh          Vinh Phuc           Quận   \n3      Cong Vi Ward                Ba Dinh            Cong Vi           Quận   \n4    Lieu Giai Ward                Ba Dinh          Lieu Giai           Quận   \n\n  ward_level district_level_english ward_level_english  \n0     Phường               District               Ward  \n1     Phường               District               Ward  \n2     Phường               District               Ward  \n3     Phường               District               Ward  \n4     Phường               District               Ward  ",
      "text/html": "<div>\n<style scoped>\n    .dataframe tbody tr th:only-of-type {\n        vertical-align: middle;\n    }\n\n    .dataframe tbody tr th {\n        vertical-align: top;\n    }\n\n    .dataframe thead th {\n        text-align: right;\n    }\n</style>\n<table border=\"1\" class=\"dataframe\">\n  <thead>\n    <tr style=\"text-align: right;\">\n      <th></th>\n      <th>province</th>\n      <th>district</th>\n      <th>ward</th>\n      <th>long_province</th>\n      <th>long_district</th>\n      <th>long_ward</th>\n      <th>short_district</th>\n      <th>short_ward</th>\n      <th>province_english</th>\n      <th>district_english</th>\n      <th>ward_english</th>\n      <th>long_province_english</th>\n      <th>long_district_english</th>\n      <th>long_ward_english</th>\n      <th>short_district_english</th>\n      <th>short_ward_english</th>\n      <th>district_level</th>\n      <th>ward_level</th>\n      <th>district_level_english</th>\n      <th>ward_level_english</th>\n    </tr>\n  </thead>\n  <tbody>\n    <tr>\n      <th>0</th>\n      <td>Hà Nội</td>\n      <td>Ba Đình</td>\n      <td>Phúc Xá</td>\n      <td>Thành phố Hà Nội</td>\n      <td>Quận Ba Đình</td>\n      <td>Phường Phúc Xá</td>\n      <td>Ba Đình</td>\n      <td>Phúc Xá</td>\n      <td>Ha Noi</td>\n      <td>Ba Dinh</td>\n      <td>Phuc Xa</td>\n      <td>Ha Noi City</td>\n      <td>Ba Dinh District</td>\n      <td>Phuc Xa Ward</td>\n      <td>Ba Dinh</td>\n      <td>Phuc Xa</td>\n      <td>Quận</td>\n      <td>Phường</td>\n      <td>District</td>\n      <td>Ward</td>\n    </tr>\n    <tr>\n      <th>1</th>\n      <td>Hà Nội</td>\n      <td>Ba Đình</td>\n      <td>Trúc Bạch</td>\n      <td>Thành phố Hà Nội</td>\n      <td>Quận Ba Đình</td>\n      <td>Phường Trúc Bạch</td>\n      <td>Ba Đình</td>\n      <td>Trúc Bạch</td>\n      <td>Ha Noi</td>\n      <td>Ba Dinh</td>\n      <td>Truc Bach</td>\n      <td>Ha Noi City</td>\n      <td>Ba Dinh District</td>\n      <td>Truc Bach Ward</td>\n      <td>Ba Dinh</td>\n      <td>Truc Bach</td>\n      <td>Quận</td>\n      <td>Phường</td>\n      <td>District</td>\n      <td>Ward</td>\n    </tr>\n    <tr>\n      <th>2</th>\n      <td>Hà Nội</td>\n      <td>Ba Đình</td>\n      <td>Vĩnh Phúc</td>\n      <td>Thành phố Hà Nội</td>\n      <td>Quận Ba Đình</td>\n      <td>Phường Vĩnh Phúc</td>\n      <td>Ba Đình</td>\n      <td>Vĩnh Phúc</td>\n      <td>Ha Noi</td>\n      <td>Ba Dinh</td>\n      <td>Vinh Phuc</td>\n      <td>Ha Noi City</td>\n      <td>Ba Dinh District</td>\n      <td>Vinh Phuc Ward</td>\n      <td>Ba Dinh</td>\n      <td>Vinh Phuc</td>\n      <td>Quận</td>\n      <td>Phường</td>\n      <td>District</td>\n      <td>Ward</td>\n    </tr>\n    <tr>\n      <th>3</th>\n      <td>Hà Nội</td>\n      <td>Ba Đình</td>\n      <td>Cống Vị</td>\n      <td>Thành phố Hà Nội</td>\n      <td>Quận Ba Đình</td>\n      <td>Phường Cống Vị</td>\n      <td>Ba Đình</td>\n      <td>Cống Vị</td>\n      <td>Ha Noi</td>\n      <td>Ba Dinh</td>\n      <td>Cong Vi</td>\n      <td>Ha Noi City</td>\n      <td>Ba Dinh District</td>\n      <td>Cong Vi Ward</td>\n      <td>Ba Dinh</td>\n      <td>Cong Vi</td>\n      <td>Quận</td>\n      <td>Phường</td>\n      <td>District</td>\n      <td>Ward</td>\n    </tr>\n    <tr>\n      <th>4</th>\n      <td>Hà Nội</td>\n      <td>Ba Đình</td>\n      <td>Liễu Giai</td>\n      <td>Thành phố Hà Nội</td>\n      <td>Quận Ba Đình</td>\n      <td>Phường Liễu Giai</td>\n      <td>Ba Đình</td>\n      <td>Liễu Giai</td>\n      <td>Ha Noi</td>\n      <td>Ba Dinh</td>\n      <td>Lieu Giai</td>\n      <td>Ha Noi City</td>\n      <td>Ba Dinh District</td>\n      <td>Lieu Giai Ward</td>\n      <td>Ba Dinh</td>\n      <td>Lieu Giai</td>\n      <td>Quận</td>\n      <td>Phường</td>\n      <td>District</td>\n      <td>Ward</td>\n    </tr>\n  </tbody>\n</table>\n</div>"
     },
     "execution_count": 7,
     "metadata": {},
     "output_type": "execute_result"
    }
   ],
   "source": [
    "df.head()"
   ],
   "metadata": {
    "collapsed": false,
    "ExecuteTime": {
     "end_time": "2024-09-16T10:27:59.667367Z",
     "start_time": "2024-09-16T10:27:59.658865Z"
    }
   },
   "id": "e537352f45630d46",
   "execution_count": 7
  },
  {
   "cell_type": "code",
   "outputs": [
    {
     "data": {
      "text/plain": "(10547, 20)"
     },
     "execution_count": 8,
     "metadata": {},
     "output_type": "execute_result"
    }
   ],
   "source": [
    "df.shape"
   ],
   "metadata": {
    "collapsed": false,
    "ExecuteTime": {
     "end_time": "2024-09-16T10:27:59.672391Z",
     "start_time": "2024-09-16T10:27:59.668402Z"
    }
   },
   "id": "7c7865b3c62ec036",
   "execution_count": 8
  },
  {
   "cell_type": "markdown",
   "source": [
    "### Create keyword columns and fillna NULL columns"
   ],
   "metadata": {
    "collapsed": false
   },
   "id": "4abca40454b4b073"
  },
  {
   "cell_type": "code",
   "outputs": [],
   "source": [
    "df['province_key'] = df['province'].apply(create_province_key)\n",
    "df['district_key'] = df['short_district'].apply(create_district_key)\n",
    "df['ward_key'] = df['short_ward'].apply(create_district_key)\n",
    "df['district_level_english'].fillna('', inplace=True)\n",
    "df['ward_level_english'].fillna('', inplace=True)"
   ],
   "metadata": {
    "collapsed": false,
    "ExecuteTime": {
     "end_time": "2024-09-16T10:27:59.759264Z",
     "start_time": "2024-09-16T10:27:59.673034Z"
    }
   },
   "id": "5c5d99ae8b4ce619",
   "execution_count": 9
  },
  {
   "cell_type": "markdown",
   "source": [
    "### Create keyword lists that are duplicated district_keyword"
   ],
   "metadata": {
    "collapsed": false
   },
   "id": "635b3efaecaa2f6e"
  },
  {
   "cell_type": "code",
   "outputs": [],
   "source": [
    "district_count = df[['province', 'long_district', 'short_district']].drop_duplicates()[['province', 'short_district']].value_counts().reset_index()\n",
    "duplicated_districts = district_count[district_count['count'] > 1]['short_district'].tolist()"
   ],
   "metadata": {
    "collapsed": false,
    "ExecuteTime": {
     "end_time": "2024-09-16T10:27:59.777615Z",
     "start_time": "2024-09-16T10:27:59.764953Z"
    }
   },
   "id": "a5ac0bb1ca84818b",
   "execution_count": 10
  },
  {
   "cell_type": "code",
   "outputs": [
    {
     "name": "stdout",
     "output_type": "stream",
     "text": [
      "['Duyên Hải', 'Long Mỹ', 'Hồng Ngự', 'Cao Lãnh', 'Kỳ Anh', 'Cai Lậy']\n"
     ]
    }
   ],
   "source": [
    "print(duplicated_districts)"
   ],
   "metadata": {
    "collapsed": false,
    "ExecuteTime": {
     "end_time": "2024-09-16T10:27:59.780005Z",
     "start_time": "2024-09-16T10:27:59.778136Z"
    }
   },
   "id": "bc842f1af39f255e",
   "execution_count": 11
  },
  {
   "cell_type": "code",
   "outputs": [],
   "source": [
    "# Pickle\n",
    "duplicated_district_keys = df[df.short_district.isin(duplicated_districts)]['district_key'].unique().tolist()\n",
    "duplicated_district_province_keys = df[df.short_district.isin(duplicated_districts)]['province_key'].unique().tolist()"
   ],
   "metadata": {
    "collapsed": false,
    "ExecuteTime": {
     "end_time": "2024-09-16T10:27:59.783761Z",
     "start_time": "2024-09-16T10:27:59.780613Z"
    }
   },
   "id": "ebaf93ff2e5143f8",
   "execution_count": 12
  },
  {
   "cell_type": "code",
   "outputs": [
    {
     "name": "stdout",
     "output_type": "stream",
     "text": [
      "Provinces: ['hatinh', 'tiengiang', 'travinh', 'dongthap', 'haugiang']\n",
      "Districts: ['kyanh', 'cailay', 'duyenhai', 'caolanh', 'hongngu', 'longmy']\n"
     ]
    }
   ],
   "source": [
    "print('Provinces:', duplicated_district_province_keys)\n",
    "print('Districts:', duplicated_district_keys)"
   ],
   "metadata": {
    "collapsed": false,
    "ExecuteTime": {
     "end_time": "2024-09-16T10:27:59.785775Z",
     "start_time": "2024-09-16T10:27:59.784324Z"
    }
   },
   "id": "969432cad1a18d05",
   "execution_count": 13
  },
  {
   "cell_type": "markdown",
   "source": [
    "### Create keyword lists that are duplicated ward_keyword"
   ],
   "metadata": {
    "collapsed": false
   },
   "id": "8b2e02ce611ed152"
  },
  {
   "cell_type": "code",
   "outputs": [],
   "source": [
    "ward_count = df[['long_province', 'long_district', 'short_ward']].value_counts().reset_index()\n",
    "df_duplicated_wards = ward_count[ward_count['count'] > 1].copy()\n",
    "df_duplicated_wards.sort_values(by=['long_province', 'long_district', 'short_ward'], inplace=True)"
   ],
   "metadata": {
    "collapsed": false,
    "ExecuteTime": {
     "end_time": "2024-09-16T10:27:59.796983Z",
     "start_time": "2024-09-16T10:27:59.786342Z"
    }
   },
   "id": "36d6afa7d76816ea",
   "execution_count": 14
  },
  {
   "cell_type": "code",
   "outputs": [],
   "source": [
    "df_duplicated_wards = df[(df.long_province.isin(df_duplicated_wards.long_province)) & (df.long_district.isin(df_duplicated_wards.long_district)) & (df.short_ward.isin(df_duplicated_wards.short_ward))]"
   ],
   "metadata": {
    "collapsed": false,
    "ExecuteTime": {
     "end_time": "2024-09-16T10:27:59.800518Z",
     "start_time": "2024-09-16T10:27:59.797530Z"
    }
   },
   "id": "4d92faf473be44bb",
   "execution_count": 15
  },
  {
   "cell_type": "code",
   "outputs": [
    {
     "data": {
      "text/plain": "         province        district                      ward     long_province  \\\n176        Hà Nội         Gia Lâm         Thị trấn Yên Viên  Thành phố Hà Nội   \n178        Hà Nội         Gia Lâm               Xã Yên Viên  Thành phố Hà Nội   \n1479     Lai Châu        Mường Tè         Thị trấn Mường Tè     Tỉnh Lai Châu   \n1484     Lai Châu        Mường Tè               Xã Mường Tè     Tỉnh Lai Châu   \n1706       Sơn La         Mai Sơn          Thị trấn Hát Lót       Tỉnh Sơn La   \n1716       Sơn La         Mai Sơn                Xã Hát Lót       Tỉnh Sơn La   \n1882      Yên Bái        Trạm Tấu         Thị trấn Trạm Tấu      Tỉnh Yên Bái   \n1887      Yên Bái        Trạm Tấu               Xã Trạm Tấu      Tỉnh Yên Bái   \n1918      Yên Bái        Yên Bình         Thị trấn Yên Bình      Tỉnh Yên Bái   \n1937      Yên Bái        Yên Bình               Xã Yên Bình      Tỉnh Yên Bái   \n2418     Lạng Sơn        Chi Lăng         Thị trấn Chi Lăng     Tỉnh Lạng Sơn   \n2436     Lạng Sơn        Chi Lăng               Xã Chi Lăng     Tỉnh Lạng Sơn   \n2458     Lạng Sơn        Đình Lập         Thị trấn Đình Lập     Tỉnh Lạng Sơn   \n2463     Lạng Sơn        Đình Lập               Xã Đình Lập     Tỉnh Lạng Sơn   \n2564   Quảng Ninh          Đầm Hà           Thị trấn Đầm Hà   Tỉnh Quảng Ninh   \n2570   Quảng Ninh          Đầm Hà                 Xã Đầm Hà   Tỉnh Quảng Ninh   \n8058     Lâm Đồng        Đạ Huoai       Thị trấn Ma Đa Guôi     Tỉnh Lâm Đồng   \n8063     Lâm Đồng        Đạ Huoai             Xã Ma Đa Guôi     Tỉnh Lâm Đồng   \n9032      Long An         Đức Hòa         Thị trấn Hiệp Hòa      Tỉnh Long An   \n9038      Long An         Đức Hòa               Xã Hiệp Hòa      Tỉnh Long An   \n9536     Trà Vinh          Trà Cú          Thị trấn Định An     Tỉnh Trà Vinh   \n9548     Trà Vinh          Trà Cú                Xã Định An     Tỉnh Trà Vinh   \n9735    Đồng Tháp       Tháp Mười            Thị trấn Mỹ An    Tỉnh Đồng Tháp   \n9744    Đồng Tháp       Tháp Mười                  Xã Mỹ An    Tỉnh Đồng Tháp   \n9748    Đồng Tháp  Huyện Cao Lãnh           Thị trấn Mỹ Thọ    Tỉnh Đồng Tháp   \n9756    Đồng Tháp  Huyện Cao Lãnh                 Xã Mỹ Thọ    Tỉnh Đồng Tháp   \n10084  Kiên Giang      Vĩnh Thuận       Thị trấn Vĩnh Thuận   Tỉnh Kiên Giang   \n10088  Kiên Giang      Vĩnh Thuận             Xã Vĩnh Thuận   Tỉnh Kiên Giang   \n10321   Sóc Trăng        Long Phú         Thị trấn Long Phú    Tỉnh Sóc Trăng   \n10331   Sóc Trăng        Long Phú               Xã Long Phú    Tỉnh Sóc Trăng   \n10374   Sóc Trăng         Trần Đề        Xã Lịch Hội Thượng    Tỉnh Sóc Trăng   \n10375   Sóc Trăng         Trần Đề  Thị trấn Lịch Hội Thượng    Tỉnh Sóc Trăng   \n10401    Bạc Liêu      Phước Long       Thị trấn Phước Long     Tỉnh Bạc Liêu   \n10404    Bạc Liêu      Phước Long             Xã Phước Long     Tỉnh Bạc Liêu   \n10456      Cà Mau          Cà Mau          Phường Tân Thành       Tỉnh Cà Mau   \n10457      Cà Mau          Cà Mau              Xã Tân Thành       Tỉnh Cà Mau   \n10471      Cà Mau       Thới Bình        Thị trấn Thới Bình       Tỉnh Cà Mau   \n10477      Cà Mau       Thới Bình              Xã Thới Bình       Tỉnh Cà Mau   \n\n          long_district                 long_ward short_district  \\\n176       Huyện Gia Lâm         Thị trấn Yên Viên        Gia Lâm   \n178       Huyện Gia Lâm               Xã Yên Viên        Gia Lâm   \n1479     Huyện Mường Tè         Thị trấn Mường Tè       Mường Tè   \n1484     Huyện Mường Tè               Xã Mường Tè       Mường Tè   \n1706      Huyện Mai Sơn          Thị trấn Hát Lót        Mai Sơn   \n1716      Huyện Mai Sơn                Xã Hát Lót        Mai Sơn   \n1882     Huyện Trạm Tấu         Thị trấn Trạm Tấu       Trạm Tấu   \n1887     Huyện Trạm Tấu               Xã Trạm Tấu       Trạm Tấu   \n1918     Huyện Yên Bình         Thị trấn Yên Bình       Yên Bình   \n1937     Huyện Yên Bình               Xã Yên Bình       Yên Bình   \n2418     Huyện Chi Lăng         Thị trấn Chi Lăng       Chi Lăng   \n2436     Huyện Chi Lăng               Xã Chi Lăng       Chi Lăng   \n2458     Huyện Đình Lập         Thị trấn Đình Lập       Đình Lập   \n2463     Huyện Đình Lập               Xã Đình Lập       Đình Lập   \n2564       Huyện Đầm Hà           Thị trấn Đầm Hà         Đầm Hà   \n2570       Huyện Đầm Hà                 Xã Đầm Hà         Đầm Hà   \n8058     Huyện Đạ Huoai       Thị trấn Ma Đa Guôi       Đạ Huoai   \n8063     Huyện Đạ Huoai             Xã Ma Đa Guôi       Đạ Huoai   \n9032      Huyện Đức Hòa         Thị trấn Hiệp Hòa        Đức Hòa   \n9038      Huyện Đức Hòa               Xã Hiệp Hòa        Đức Hòa   \n9536       Huyện Trà Cú          Thị trấn Định An         Trà Cú   \n9548       Huyện Trà Cú                Xã Định An         Trà Cú   \n9735    Huyện Tháp Mười            Thị trấn Mỹ An      Tháp Mười   \n9744    Huyện Tháp Mười                  Xã Mỹ An      Tháp Mười   \n9748     Huyện Cao Lãnh           Thị trấn Mỹ Thọ       Cao Lãnh   \n9756     Huyện Cao Lãnh                 Xã Mỹ Thọ       Cao Lãnh   \n10084  Huyện Vĩnh Thuận       Thị trấn Vĩnh Thuận     Vĩnh Thuận   \n10088  Huyện Vĩnh Thuận             Xã Vĩnh Thuận     Vĩnh Thuận   \n10321    Huyện Long Phú         Thị trấn Long Phú       Long Phú   \n10331    Huyện Long Phú               Xã Long Phú       Long Phú   \n10374     Huyện Trần Đề        Xã Lịch Hội Thượng        Trần Đề   \n10375     Huyện Trần Đề  Thị trấn Lịch Hội Thượng        Trần Đề   \n10401  Huyện Phước Long       Thị trấn Phước Long     Phước Long   \n10404  Huyện Phước Long             Xã Phước Long     Phước Long   \n10456  Thành phố Cà Mau          Phường Tân Thành         Cà Mau   \n10457  Thành phố Cà Mau              Xã Tân Thành         Cà Mau   \n10471   Huyện Thới Bình        Thị trấn Thới Bình      Thới Bình   \n10477   Huyện Thới Bình              Xã Thới Bình      Thới Bình   \n\n            short_ward province_english   district_english  ...  \\\n176           Yên Viên           Ha Noi            Gia Lam  ...   \n178           Yên Viên           Ha Noi            Gia Lam  ...   \n1479          Mường Tè         Lai Chau           Muong Te  ...   \n1484          Mường Tè         Lai Chau           Muong Te  ...   \n1706           Hát Lót           Son La            Mai Son  ...   \n1716           Hát Lót           Son La            Mai Son  ...   \n1882          Trạm Tấu          Yen Bai           Tram Tau  ...   \n1887          Trạm Tấu          Yen Bai           Tram Tau  ...   \n1918          Yên Bình          Yen Bai           Yen Binh  ...   \n1937          Yên Bình          Yen Bai           Yen Binh  ...   \n2418          Chi Lăng         Lang Son           Chi Lang  ...   \n2436          Chi Lăng         Lang Son           Chi Lang  ...   \n2458          Đình Lập         Lang Son           Dinh Lap  ...   \n2463          Đình Lập         Lang Son           Dinh Lap  ...   \n2564            Đầm Hà       Quang Ninh             Dam Ha  ...   \n2570            Đầm Hà       Quang Ninh             Dam Ha  ...   \n8058        Ma Đa Guôi         Lam Dong           Da Huoai  ...   \n8063        Ma Đa Guôi         Lam Dong           Da Huoai  ...   \n9032          Hiệp Hòa          Long An            Duc Hoa  ...   \n9038          Hiệp Hòa          Long An            Duc Hoa  ...   \n9536           Định An         Tra Vinh             Tra Cu  ...   \n9548           Định An         Tra Vinh             Tra Cu  ...   \n9735             Mỹ An        Dong Thap          Thap Muoi  ...   \n9744             Mỹ An        Dong Thap          Thap Muoi  ...   \n9748            Mỹ Thọ        Dong Thap  Cao Lanh District  ...   \n9756            Mỹ Thọ        Dong Thap  Cao Lanh District  ...   \n10084       Vĩnh Thuận       Kien Giang         Vinh Thuan  ...   \n10088       Vĩnh Thuận       Kien Giang         Vinh Thuan  ...   \n10321         Long Phú        Soc Trang           Long Phu  ...   \n10331         Long Phú        Soc Trang           Long Phu  ...   \n10374  Lịch Hội Thượng        Soc Trang            Tran De  ...   \n10375  Lịch Hội Thượng        Soc Trang            Tran De  ...   \n10401       Phước Long         Bac Lieu         Phuoc Long  ...   \n10404       Phước Long         Bac Lieu         Phuoc Long  ...   \n10456        Tân Thành           Ca Mau             Ca Mau  ...   \n10457        Tân Thành           Ca Mau             Ca Mau  ...   \n10471        Thới Bình           Ca Mau          Thoi Binh  ...   \n10477        Thới Bình           Ca Mau          Thoi Binh  ...   \n\n             long_ward_english short_district_english short_ward_english  \\\n176              Yen Vien Town                Gia Lam           Yen Vien   \n178           Yen Vien Commune                Gia Lam           Yen Vien   \n1479             Muong Te Town               Muong Te           Muong Te   \n1484          Muong Te Commune               Muong Te           Muong Te   \n1706              Hat Lot Town                Mai Son            Hat Lot   \n1716           Hat Lot Commune                Mai Son            Hat Lot   \n1882             Tram Tau Town               Tram Tau           Tram Tau   \n1887          Tram Tau Commune               Tram Tau           Tram Tau   \n1918             Yen Binh Town               Yen Binh           Yen Binh   \n1937          Yen Binh Commune               Yen Binh           Yen Binh   \n2418             Chi Lang Town               Chi Lang           Chi Lang   \n2436          Chi Lang Commune               Chi Lang           Chi Lang   \n2458             Dinh Lap Town               Dinh Lap           Dinh Lap   \n2463          Dinh Lap Commune               Dinh Lap           Dinh Lap   \n2564               Dam Ha Town                 Dam Ha             Dam Ha   \n2570            Dam Ha Commune                 Dam Ha             Dam Ha   \n8058           Ma Da Guoi Town               Da Huoai         Ma Da Guoi   \n8063        Ma Da Guoi Commune               Da Huoai         Ma Da Guoi   \n9032             Hiep Hoa Town                Duc Hoa           Hiep Hoa   \n9038          Hiep Hoa Commune                Duc Hoa           Hiep Hoa   \n9536              Dinh An Town                 Tra Cu            Dinh An   \n9548           Dinh An Commune                 Tra Cu            Dinh An   \n9735                My An Town              Thap Muoi              My An   \n9744             My An Commune              Thap Muoi              My An   \n9748               My Tho Town               Cao Lanh             My Tho   \n9756            My Tho Commune               Cao Lanh             My Tho   \n10084          Vinh Thuan Town             Vinh Thuan         Vinh Thuan   \n10088       Vinh Thuan Commune             Vinh Thuan         Vinh Thuan   \n10321            Long Phu Town               Long Phu           Long Phu   \n10331         Long Phu Commune               Long Phu           Long Phu   \n10374  Lich Hoi Thuong Commune                Tran De    Lich Hoi Thuong   \n10375     Lich Hoi Thuong Town                Tran De    Lich Hoi Thuong   \n10401          Phuoc Long Town             Phuoc Long         Phuoc Long   \n10404       Phuoc Long Commune             Phuoc Long         Phuoc Long   \n10456           Tan Thanh Ward                 Ca Mau          Tan Thanh   \n10457        Tan Thanh Commune                 Ca Mau          Tan Thanh   \n10471           Thoi Binh Town              Thoi Binh          Thoi Binh   \n10477        Thoi Binh Commune              Thoi Binh          Thoi Binh   \n\n      district_level ward_level district_level_english ward_level_english  \\\n176            Huyện   Thị trấn               District               Town   \n178            Huyện         Xã               District            Commune   \n1479           Huyện   Thị trấn               District               Town   \n1484           Huyện         Xã               District            Commune   \n1706           Huyện   Thị trấn               District               Town   \n1716           Huyện         Xã               District            Commune   \n1882           Huyện   Thị trấn               District               Town   \n1887           Huyện         Xã               District            Commune   \n1918           Huyện   Thị trấn               District               Town   \n1937           Huyện         Xã               District            Commune   \n2418           Huyện   Thị trấn               District               Town   \n2436           Huyện         Xã               District            Commune   \n2458           Huyện   Thị trấn               District               Town   \n2463           Huyện         Xã               District            Commune   \n2564           Huyện   Thị trấn               District               Town   \n2570           Huyện         Xã               District            Commune   \n8058           Huyện   Thị trấn               District               Town   \n8063           Huyện         Xã               District            Commune   \n9032           Huyện   Thị trấn               District               Town   \n9038           Huyện         Xã               District            Commune   \n9536           Huyện   Thị trấn               District               Town   \n9548           Huyện         Xã               District            Commune   \n9735           Huyện   Thị trấn               District               Town   \n9744           Huyện         Xã               District            Commune   \n9748           Huyện   Thị trấn               District               Town   \n9756           Huyện         Xã               District            Commune   \n10084          Huyện   Thị trấn               District               Town   \n10088          Huyện         Xã               District            Commune   \n10321          Huyện   Thị trấn               District               Town   \n10331          Huyện         Xã               District            Commune   \n10374          Huyện         Xã               District            Commune   \n10375          Huyện   Thị trấn               District               Town   \n10401          Huyện   Thị trấn               District               Town   \n10404          Huyện         Xã               District            Commune   \n10456      Thành phố     Phường                   City               Ward   \n10457      Thành phố         Xã                   City            Commune   \n10471          Huyện   Thị trấn               District               Town   \n10477          Huyện         Xã               District            Commune   \n\n      province_key district_key       ward_key  \n176          hanoi       gialam        yenvien  \n178          hanoi       gialam        yenvien  \n1479       laichau      muongte        muongte  \n1484       laichau      muongte        muongte  \n1706         sonla       maison         hatlot  \n1716         sonla       maison         hatlot  \n1882        yenbai      tramtau        tramtau  \n1887        yenbai      tramtau        tramtau  \n1918        yenbai      yenbinh        yenbinh  \n1937        yenbai      yenbinh        yenbinh  \n2418       langson      chilang        chilang  \n2436       langson      chilang        chilang  \n2458       langson      dinhlap        dinhlap  \n2463       langson      dinhlap        dinhlap  \n2564     quangninh        damha          damha  \n2570     quangninh        damha          damha  \n8058       lamdong      dahuoai       madaguoi  \n8063       lamdong      dahuoai       madaguoi  \n9032        longan       duchoa        hiephoa  \n9038        longan       duchoa        hiephoa  \n9536       travinh        tracu         dinhan  \n9548       travinh        tracu         dinhan  \n9735      dongthap     thapmuoi           myan  \n9744      dongthap     thapmuoi           myan  \n9748      dongthap      caolanh          mytho  \n9756      dongthap      caolanh          mytho  \n10084    kiengiang    vinhthuan      vinhthuan  \n10088    kiengiang    vinhthuan      vinhthuan  \n10321     soctrang      longphu        longphu  \n10331     soctrang      longphu        longphu  \n10374     soctrang       trande  lichhoithuong  \n10375     soctrang       trande  lichhoithuong  \n10401      baclieu    phuoclong      phuoclong  \n10404      baclieu    phuoclong      phuoclong  \n10456        camau        camau       tanthanh  \n10457        camau        camau       tanthanh  \n10471        camau     thoibinh       thoibinh  \n10477        camau     thoibinh       thoibinh  \n\n[38 rows x 23 columns]",
      "text/html": "<div>\n<style scoped>\n    .dataframe tbody tr th:only-of-type {\n        vertical-align: middle;\n    }\n\n    .dataframe tbody tr th {\n        vertical-align: top;\n    }\n\n    .dataframe thead th {\n        text-align: right;\n    }\n</style>\n<table border=\"1\" class=\"dataframe\">\n  <thead>\n    <tr style=\"text-align: right;\">\n      <th></th>\n      <th>province</th>\n      <th>district</th>\n      <th>ward</th>\n      <th>long_province</th>\n      <th>long_district</th>\n      <th>long_ward</th>\n      <th>short_district</th>\n      <th>short_ward</th>\n      <th>province_english</th>\n      <th>district_english</th>\n      <th>...</th>\n      <th>long_ward_english</th>\n      <th>short_district_english</th>\n      <th>short_ward_english</th>\n      <th>district_level</th>\n      <th>ward_level</th>\n      <th>district_level_english</th>\n      <th>ward_level_english</th>\n      <th>province_key</th>\n      <th>district_key</th>\n      <th>ward_key</th>\n    </tr>\n  </thead>\n  <tbody>\n    <tr>\n      <th>176</th>\n      <td>Hà Nội</td>\n      <td>Gia Lâm</td>\n      <td>Thị trấn Yên Viên</td>\n      <td>Thành phố Hà Nội</td>\n      <td>Huyện Gia Lâm</td>\n      <td>Thị trấn Yên Viên</td>\n      <td>Gia Lâm</td>\n      <td>Yên Viên</td>\n      <td>Ha Noi</td>\n      <td>Gia Lam</td>\n      <td>...</td>\n      <td>Yen Vien Town</td>\n      <td>Gia Lam</td>\n      <td>Yen Vien</td>\n      <td>Huyện</td>\n      <td>Thị trấn</td>\n      <td>District</td>\n      <td>Town</td>\n      <td>hanoi</td>\n      <td>gialam</td>\n      <td>yenvien</td>\n    </tr>\n    <tr>\n      <th>178</th>\n      <td>Hà Nội</td>\n      <td>Gia Lâm</td>\n      <td>Xã Yên Viên</td>\n      <td>Thành phố Hà Nội</td>\n      <td>Huyện Gia Lâm</td>\n      <td>Xã Yên Viên</td>\n      <td>Gia Lâm</td>\n      <td>Yên Viên</td>\n      <td>Ha Noi</td>\n      <td>Gia Lam</td>\n      <td>...</td>\n      <td>Yen Vien Commune</td>\n      <td>Gia Lam</td>\n      <td>Yen Vien</td>\n      <td>Huyện</td>\n      <td>Xã</td>\n      <td>District</td>\n      <td>Commune</td>\n      <td>hanoi</td>\n      <td>gialam</td>\n      <td>yenvien</td>\n    </tr>\n    <tr>\n      <th>1479</th>\n      <td>Lai Châu</td>\n      <td>Mường Tè</td>\n      <td>Thị trấn Mường Tè</td>\n      <td>Tỉnh Lai Châu</td>\n      <td>Huyện Mường Tè</td>\n      <td>Thị trấn Mường Tè</td>\n      <td>Mường Tè</td>\n      <td>Mường Tè</td>\n      <td>Lai Chau</td>\n      <td>Muong Te</td>\n      <td>...</td>\n      <td>Muong Te Town</td>\n      <td>Muong Te</td>\n      <td>Muong Te</td>\n      <td>Huyện</td>\n      <td>Thị trấn</td>\n      <td>District</td>\n      <td>Town</td>\n      <td>laichau</td>\n      <td>muongte</td>\n      <td>muongte</td>\n    </tr>\n    <tr>\n      <th>1484</th>\n      <td>Lai Châu</td>\n      <td>Mường Tè</td>\n      <td>Xã Mường Tè</td>\n      <td>Tỉnh Lai Châu</td>\n      <td>Huyện Mường Tè</td>\n      <td>Xã Mường Tè</td>\n      <td>Mường Tè</td>\n      <td>Mường Tè</td>\n      <td>Lai Chau</td>\n      <td>Muong Te</td>\n      <td>...</td>\n      <td>Muong Te Commune</td>\n      <td>Muong Te</td>\n      <td>Muong Te</td>\n      <td>Huyện</td>\n      <td>Xã</td>\n      <td>District</td>\n      <td>Commune</td>\n      <td>laichau</td>\n      <td>muongte</td>\n      <td>muongte</td>\n    </tr>\n    <tr>\n      <th>1706</th>\n      <td>Sơn La</td>\n      <td>Mai Sơn</td>\n      <td>Thị trấn Hát Lót</td>\n      <td>Tỉnh Sơn La</td>\n      <td>Huyện Mai Sơn</td>\n      <td>Thị trấn Hát Lót</td>\n      <td>Mai Sơn</td>\n      <td>Hát Lót</td>\n      <td>Son La</td>\n      <td>Mai Son</td>\n      <td>...</td>\n      <td>Hat Lot Town</td>\n      <td>Mai Son</td>\n      <td>Hat Lot</td>\n      <td>Huyện</td>\n      <td>Thị trấn</td>\n      <td>District</td>\n      <td>Town</td>\n      <td>sonla</td>\n      <td>maison</td>\n      <td>hatlot</td>\n    </tr>\n    <tr>\n      <th>1716</th>\n      <td>Sơn La</td>\n      <td>Mai Sơn</td>\n      <td>Xã Hát Lót</td>\n      <td>Tỉnh Sơn La</td>\n      <td>Huyện Mai Sơn</td>\n      <td>Xã Hát Lót</td>\n      <td>Mai Sơn</td>\n      <td>Hát Lót</td>\n      <td>Son La</td>\n      <td>Mai Son</td>\n      <td>...</td>\n      <td>Hat Lot Commune</td>\n      <td>Mai Son</td>\n      <td>Hat Lot</td>\n      <td>Huyện</td>\n      <td>Xã</td>\n      <td>District</td>\n      <td>Commune</td>\n      <td>sonla</td>\n      <td>maison</td>\n      <td>hatlot</td>\n    </tr>\n    <tr>\n      <th>1882</th>\n      <td>Yên Bái</td>\n      <td>Trạm Tấu</td>\n      <td>Thị trấn Trạm Tấu</td>\n      <td>Tỉnh Yên Bái</td>\n      <td>Huyện Trạm Tấu</td>\n      <td>Thị trấn Trạm Tấu</td>\n      <td>Trạm Tấu</td>\n      <td>Trạm Tấu</td>\n      <td>Yen Bai</td>\n      <td>Tram Tau</td>\n      <td>...</td>\n      <td>Tram Tau Town</td>\n      <td>Tram Tau</td>\n      <td>Tram Tau</td>\n      <td>Huyện</td>\n      <td>Thị trấn</td>\n      <td>District</td>\n      <td>Town</td>\n      <td>yenbai</td>\n      <td>tramtau</td>\n      <td>tramtau</td>\n    </tr>\n    <tr>\n      <th>1887</th>\n      <td>Yên Bái</td>\n      <td>Trạm Tấu</td>\n      <td>Xã Trạm Tấu</td>\n      <td>Tỉnh Yên Bái</td>\n      <td>Huyện Trạm Tấu</td>\n      <td>Xã Trạm Tấu</td>\n      <td>Trạm Tấu</td>\n      <td>Trạm Tấu</td>\n      <td>Yen Bai</td>\n      <td>Tram Tau</td>\n      <td>...</td>\n      <td>Tram Tau Commune</td>\n      <td>Tram Tau</td>\n      <td>Tram Tau</td>\n      <td>Huyện</td>\n      <td>Xã</td>\n      <td>District</td>\n      <td>Commune</td>\n      <td>yenbai</td>\n      <td>tramtau</td>\n      <td>tramtau</td>\n    </tr>\n    <tr>\n      <th>1918</th>\n      <td>Yên Bái</td>\n      <td>Yên Bình</td>\n      <td>Thị trấn Yên Bình</td>\n      <td>Tỉnh Yên Bái</td>\n      <td>Huyện Yên Bình</td>\n      <td>Thị trấn Yên Bình</td>\n      <td>Yên Bình</td>\n      <td>Yên Bình</td>\n      <td>Yen Bai</td>\n      <td>Yen Binh</td>\n      <td>...</td>\n      <td>Yen Binh Town</td>\n      <td>Yen Binh</td>\n      <td>Yen Binh</td>\n      <td>Huyện</td>\n      <td>Thị trấn</td>\n      <td>District</td>\n      <td>Town</td>\n      <td>yenbai</td>\n      <td>yenbinh</td>\n      <td>yenbinh</td>\n    </tr>\n    <tr>\n      <th>1937</th>\n      <td>Yên Bái</td>\n      <td>Yên Bình</td>\n      <td>Xã Yên Bình</td>\n      <td>Tỉnh Yên Bái</td>\n      <td>Huyện Yên Bình</td>\n      <td>Xã Yên Bình</td>\n      <td>Yên Bình</td>\n      <td>Yên Bình</td>\n      <td>Yen Bai</td>\n      <td>Yen Binh</td>\n      <td>...</td>\n      <td>Yen Binh Commune</td>\n      <td>Yen Binh</td>\n      <td>Yen Binh</td>\n      <td>Huyện</td>\n      <td>Xã</td>\n      <td>District</td>\n      <td>Commune</td>\n      <td>yenbai</td>\n      <td>yenbinh</td>\n      <td>yenbinh</td>\n    </tr>\n    <tr>\n      <th>2418</th>\n      <td>Lạng Sơn</td>\n      <td>Chi Lăng</td>\n      <td>Thị trấn Chi Lăng</td>\n      <td>Tỉnh Lạng Sơn</td>\n      <td>Huyện Chi Lăng</td>\n      <td>Thị trấn Chi Lăng</td>\n      <td>Chi Lăng</td>\n      <td>Chi Lăng</td>\n      <td>Lang Son</td>\n      <td>Chi Lang</td>\n      <td>...</td>\n      <td>Chi Lang Town</td>\n      <td>Chi Lang</td>\n      <td>Chi Lang</td>\n      <td>Huyện</td>\n      <td>Thị trấn</td>\n      <td>District</td>\n      <td>Town</td>\n      <td>langson</td>\n      <td>chilang</td>\n      <td>chilang</td>\n    </tr>\n    <tr>\n      <th>2436</th>\n      <td>Lạng Sơn</td>\n      <td>Chi Lăng</td>\n      <td>Xã Chi Lăng</td>\n      <td>Tỉnh Lạng Sơn</td>\n      <td>Huyện Chi Lăng</td>\n      <td>Xã Chi Lăng</td>\n      <td>Chi Lăng</td>\n      <td>Chi Lăng</td>\n      <td>Lang Son</td>\n      <td>Chi Lang</td>\n      <td>...</td>\n      <td>Chi Lang Commune</td>\n      <td>Chi Lang</td>\n      <td>Chi Lang</td>\n      <td>Huyện</td>\n      <td>Xã</td>\n      <td>District</td>\n      <td>Commune</td>\n      <td>langson</td>\n      <td>chilang</td>\n      <td>chilang</td>\n    </tr>\n    <tr>\n      <th>2458</th>\n      <td>Lạng Sơn</td>\n      <td>Đình Lập</td>\n      <td>Thị trấn Đình Lập</td>\n      <td>Tỉnh Lạng Sơn</td>\n      <td>Huyện Đình Lập</td>\n      <td>Thị trấn Đình Lập</td>\n      <td>Đình Lập</td>\n      <td>Đình Lập</td>\n      <td>Lang Son</td>\n      <td>Dinh Lap</td>\n      <td>...</td>\n      <td>Dinh Lap Town</td>\n      <td>Dinh Lap</td>\n      <td>Dinh Lap</td>\n      <td>Huyện</td>\n      <td>Thị trấn</td>\n      <td>District</td>\n      <td>Town</td>\n      <td>langson</td>\n      <td>dinhlap</td>\n      <td>dinhlap</td>\n    </tr>\n    <tr>\n      <th>2463</th>\n      <td>Lạng Sơn</td>\n      <td>Đình Lập</td>\n      <td>Xã Đình Lập</td>\n      <td>Tỉnh Lạng Sơn</td>\n      <td>Huyện Đình Lập</td>\n      <td>Xã Đình Lập</td>\n      <td>Đình Lập</td>\n      <td>Đình Lập</td>\n      <td>Lang Son</td>\n      <td>Dinh Lap</td>\n      <td>...</td>\n      <td>Dinh Lap Commune</td>\n      <td>Dinh Lap</td>\n      <td>Dinh Lap</td>\n      <td>Huyện</td>\n      <td>Xã</td>\n      <td>District</td>\n      <td>Commune</td>\n      <td>langson</td>\n      <td>dinhlap</td>\n      <td>dinhlap</td>\n    </tr>\n    <tr>\n      <th>2564</th>\n      <td>Quảng Ninh</td>\n      <td>Đầm Hà</td>\n      <td>Thị trấn Đầm Hà</td>\n      <td>Tỉnh Quảng Ninh</td>\n      <td>Huyện Đầm Hà</td>\n      <td>Thị trấn Đầm Hà</td>\n      <td>Đầm Hà</td>\n      <td>Đầm Hà</td>\n      <td>Quang Ninh</td>\n      <td>Dam Ha</td>\n      <td>...</td>\n      <td>Dam Ha Town</td>\n      <td>Dam Ha</td>\n      <td>Dam Ha</td>\n      <td>Huyện</td>\n      <td>Thị trấn</td>\n      <td>District</td>\n      <td>Town</td>\n      <td>quangninh</td>\n      <td>damha</td>\n      <td>damha</td>\n    </tr>\n    <tr>\n      <th>2570</th>\n      <td>Quảng Ninh</td>\n      <td>Đầm Hà</td>\n      <td>Xã Đầm Hà</td>\n      <td>Tỉnh Quảng Ninh</td>\n      <td>Huyện Đầm Hà</td>\n      <td>Xã Đầm Hà</td>\n      <td>Đầm Hà</td>\n      <td>Đầm Hà</td>\n      <td>Quang Ninh</td>\n      <td>Dam Ha</td>\n      <td>...</td>\n      <td>Dam Ha Commune</td>\n      <td>Dam Ha</td>\n      <td>Dam Ha</td>\n      <td>Huyện</td>\n      <td>Xã</td>\n      <td>District</td>\n      <td>Commune</td>\n      <td>quangninh</td>\n      <td>damha</td>\n      <td>damha</td>\n    </tr>\n    <tr>\n      <th>8058</th>\n      <td>Lâm Đồng</td>\n      <td>Đạ Huoai</td>\n      <td>Thị trấn Ma Đa Guôi</td>\n      <td>Tỉnh Lâm Đồng</td>\n      <td>Huyện Đạ Huoai</td>\n      <td>Thị trấn Ma Đa Guôi</td>\n      <td>Đạ Huoai</td>\n      <td>Ma Đa Guôi</td>\n      <td>Lam Dong</td>\n      <td>Da Huoai</td>\n      <td>...</td>\n      <td>Ma Da Guoi Town</td>\n      <td>Da Huoai</td>\n      <td>Ma Da Guoi</td>\n      <td>Huyện</td>\n      <td>Thị trấn</td>\n      <td>District</td>\n      <td>Town</td>\n      <td>lamdong</td>\n      <td>dahuoai</td>\n      <td>madaguoi</td>\n    </tr>\n    <tr>\n      <th>8063</th>\n      <td>Lâm Đồng</td>\n      <td>Đạ Huoai</td>\n      <td>Xã Ma Đa Guôi</td>\n      <td>Tỉnh Lâm Đồng</td>\n      <td>Huyện Đạ Huoai</td>\n      <td>Xã Ma Đa Guôi</td>\n      <td>Đạ Huoai</td>\n      <td>Ma Đa Guôi</td>\n      <td>Lam Dong</td>\n      <td>Da Huoai</td>\n      <td>...</td>\n      <td>Ma Da Guoi Commune</td>\n      <td>Da Huoai</td>\n      <td>Ma Da Guoi</td>\n      <td>Huyện</td>\n      <td>Xã</td>\n      <td>District</td>\n      <td>Commune</td>\n      <td>lamdong</td>\n      <td>dahuoai</td>\n      <td>madaguoi</td>\n    </tr>\n    <tr>\n      <th>9032</th>\n      <td>Long An</td>\n      <td>Đức Hòa</td>\n      <td>Thị trấn Hiệp Hòa</td>\n      <td>Tỉnh Long An</td>\n      <td>Huyện Đức Hòa</td>\n      <td>Thị trấn Hiệp Hòa</td>\n      <td>Đức Hòa</td>\n      <td>Hiệp Hòa</td>\n      <td>Long An</td>\n      <td>Duc Hoa</td>\n      <td>...</td>\n      <td>Hiep Hoa Town</td>\n      <td>Duc Hoa</td>\n      <td>Hiep Hoa</td>\n      <td>Huyện</td>\n      <td>Thị trấn</td>\n      <td>District</td>\n      <td>Town</td>\n      <td>longan</td>\n      <td>duchoa</td>\n      <td>hiephoa</td>\n    </tr>\n    <tr>\n      <th>9038</th>\n      <td>Long An</td>\n      <td>Đức Hòa</td>\n      <td>Xã Hiệp Hòa</td>\n      <td>Tỉnh Long An</td>\n      <td>Huyện Đức Hòa</td>\n      <td>Xã Hiệp Hòa</td>\n      <td>Đức Hòa</td>\n      <td>Hiệp Hòa</td>\n      <td>Long An</td>\n      <td>Duc Hoa</td>\n      <td>...</td>\n      <td>Hiep Hoa Commune</td>\n      <td>Duc Hoa</td>\n      <td>Hiep Hoa</td>\n      <td>Huyện</td>\n      <td>Xã</td>\n      <td>District</td>\n      <td>Commune</td>\n      <td>longan</td>\n      <td>duchoa</td>\n      <td>hiephoa</td>\n    </tr>\n    <tr>\n      <th>9536</th>\n      <td>Trà Vinh</td>\n      <td>Trà Cú</td>\n      <td>Thị trấn Định An</td>\n      <td>Tỉnh Trà Vinh</td>\n      <td>Huyện Trà Cú</td>\n      <td>Thị trấn Định An</td>\n      <td>Trà Cú</td>\n      <td>Định An</td>\n      <td>Tra Vinh</td>\n      <td>Tra Cu</td>\n      <td>...</td>\n      <td>Dinh An Town</td>\n      <td>Tra Cu</td>\n      <td>Dinh An</td>\n      <td>Huyện</td>\n      <td>Thị trấn</td>\n      <td>District</td>\n      <td>Town</td>\n      <td>travinh</td>\n      <td>tracu</td>\n      <td>dinhan</td>\n    </tr>\n    <tr>\n      <th>9548</th>\n      <td>Trà Vinh</td>\n      <td>Trà Cú</td>\n      <td>Xã Định An</td>\n      <td>Tỉnh Trà Vinh</td>\n      <td>Huyện Trà Cú</td>\n      <td>Xã Định An</td>\n      <td>Trà Cú</td>\n      <td>Định An</td>\n      <td>Tra Vinh</td>\n      <td>Tra Cu</td>\n      <td>...</td>\n      <td>Dinh An Commune</td>\n      <td>Tra Cu</td>\n      <td>Dinh An</td>\n      <td>Huyện</td>\n      <td>Xã</td>\n      <td>District</td>\n      <td>Commune</td>\n      <td>travinh</td>\n      <td>tracu</td>\n      <td>dinhan</td>\n    </tr>\n    <tr>\n      <th>9735</th>\n      <td>Đồng Tháp</td>\n      <td>Tháp Mười</td>\n      <td>Thị trấn Mỹ An</td>\n      <td>Tỉnh Đồng Tháp</td>\n      <td>Huyện Tháp Mười</td>\n      <td>Thị trấn Mỹ An</td>\n      <td>Tháp Mười</td>\n      <td>Mỹ An</td>\n      <td>Dong Thap</td>\n      <td>Thap Muoi</td>\n      <td>...</td>\n      <td>My An Town</td>\n      <td>Thap Muoi</td>\n      <td>My An</td>\n      <td>Huyện</td>\n      <td>Thị trấn</td>\n      <td>District</td>\n      <td>Town</td>\n      <td>dongthap</td>\n      <td>thapmuoi</td>\n      <td>myan</td>\n    </tr>\n    <tr>\n      <th>9744</th>\n      <td>Đồng Tháp</td>\n      <td>Tháp Mười</td>\n      <td>Xã Mỹ An</td>\n      <td>Tỉnh Đồng Tháp</td>\n      <td>Huyện Tháp Mười</td>\n      <td>Xã Mỹ An</td>\n      <td>Tháp Mười</td>\n      <td>Mỹ An</td>\n      <td>Dong Thap</td>\n      <td>Thap Muoi</td>\n      <td>...</td>\n      <td>My An Commune</td>\n      <td>Thap Muoi</td>\n      <td>My An</td>\n      <td>Huyện</td>\n      <td>Xã</td>\n      <td>District</td>\n      <td>Commune</td>\n      <td>dongthap</td>\n      <td>thapmuoi</td>\n      <td>myan</td>\n    </tr>\n    <tr>\n      <th>9748</th>\n      <td>Đồng Tháp</td>\n      <td>Huyện Cao Lãnh</td>\n      <td>Thị trấn Mỹ Thọ</td>\n      <td>Tỉnh Đồng Tháp</td>\n      <td>Huyện Cao Lãnh</td>\n      <td>Thị trấn Mỹ Thọ</td>\n      <td>Cao Lãnh</td>\n      <td>Mỹ Thọ</td>\n      <td>Dong Thap</td>\n      <td>Cao Lanh District</td>\n      <td>...</td>\n      <td>My Tho Town</td>\n      <td>Cao Lanh</td>\n      <td>My Tho</td>\n      <td>Huyện</td>\n      <td>Thị trấn</td>\n      <td>District</td>\n      <td>Town</td>\n      <td>dongthap</td>\n      <td>caolanh</td>\n      <td>mytho</td>\n    </tr>\n    <tr>\n      <th>9756</th>\n      <td>Đồng Tháp</td>\n      <td>Huyện Cao Lãnh</td>\n      <td>Xã Mỹ Thọ</td>\n      <td>Tỉnh Đồng Tháp</td>\n      <td>Huyện Cao Lãnh</td>\n      <td>Xã Mỹ Thọ</td>\n      <td>Cao Lãnh</td>\n      <td>Mỹ Thọ</td>\n      <td>Dong Thap</td>\n      <td>Cao Lanh District</td>\n      <td>...</td>\n      <td>My Tho Commune</td>\n      <td>Cao Lanh</td>\n      <td>My Tho</td>\n      <td>Huyện</td>\n      <td>Xã</td>\n      <td>District</td>\n      <td>Commune</td>\n      <td>dongthap</td>\n      <td>caolanh</td>\n      <td>mytho</td>\n    </tr>\n    <tr>\n      <th>10084</th>\n      <td>Kiên Giang</td>\n      <td>Vĩnh Thuận</td>\n      <td>Thị trấn Vĩnh Thuận</td>\n      <td>Tỉnh Kiên Giang</td>\n      <td>Huyện Vĩnh Thuận</td>\n      <td>Thị trấn Vĩnh Thuận</td>\n      <td>Vĩnh Thuận</td>\n      <td>Vĩnh Thuận</td>\n      <td>Kien Giang</td>\n      <td>Vinh Thuan</td>\n      <td>...</td>\n      <td>Vinh Thuan Town</td>\n      <td>Vinh Thuan</td>\n      <td>Vinh Thuan</td>\n      <td>Huyện</td>\n      <td>Thị trấn</td>\n      <td>District</td>\n      <td>Town</td>\n      <td>kiengiang</td>\n      <td>vinhthuan</td>\n      <td>vinhthuan</td>\n    </tr>\n    <tr>\n      <th>10088</th>\n      <td>Kiên Giang</td>\n      <td>Vĩnh Thuận</td>\n      <td>Xã Vĩnh Thuận</td>\n      <td>Tỉnh Kiên Giang</td>\n      <td>Huyện Vĩnh Thuận</td>\n      <td>Xã Vĩnh Thuận</td>\n      <td>Vĩnh Thuận</td>\n      <td>Vĩnh Thuận</td>\n      <td>Kien Giang</td>\n      <td>Vinh Thuan</td>\n      <td>...</td>\n      <td>Vinh Thuan Commune</td>\n      <td>Vinh Thuan</td>\n      <td>Vinh Thuan</td>\n      <td>Huyện</td>\n      <td>Xã</td>\n      <td>District</td>\n      <td>Commune</td>\n      <td>kiengiang</td>\n      <td>vinhthuan</td>\n      <td>vinhthuan</td>\n    </tr>\n    <tr>\n      <th>10321</th>\n      <td>Sóc Trăng</td>\n      <td>Long Phú</td>\n      <td>Thị trấn Long Phú</td>\n      <td>Tỉnh Sóc Trăng</td>\n      <td>Huyện Long Phú</td>\n      <td>Thị trấn Long Phú</td>\n      <td>Long Phú</td>\n      <td>Long Phú</td>\n      <td>Soc Trang</td>\n      <td>Long Phu</td>\n      <td>...</td>\n      <td>Long Phu Town</td>\n      <td>Long Phu</td>\n      <td>Long Phu</td>\n      <td>Huyện</td>\n      <td>Thị trấn</td>\n      <td>District</td>\n      <td>Town</td>\n      <td>soctrang</td>\n      <td>longphu</td>\n      <td>longphu</td>\n    </tr>\n    <tr>\n      <th>10331</th>\n      <td>Sóc Trăng</td>\n      <td>Long Phú</td>\n      <td>Xã Long Phú</td>\n      <td>Tỉnh Sóc Trăng</td>\n      <td>Huyện Long Phú</td>\n      <td>Xã Long Phú</td>\n      <td>Long Phú</td>\n      <td>Long Phú</td>\n      <td>Soc Trang</td>\n      <td>Long Phu</td>\n      <td>...</td>\n      <td>Long Phu Commune</td>\n      <td>Long Phu</td>\n      <td>Long Phu</td>\n      <td>Huyện</td>\n      <td>Xã</td>\n      <td>District</td>\n      <td>Commune</td>\n      <td>soctrang</td>\n      <td>longphu</td>\n      <td>longphu</td>\n    </tr>\n    <tr>\n      <th>10374</th>\n      <td>Sóc Trăng</td>\n      <td>Trần Đề</td>\n      <td>Xã Lịch Hội Thượng</td>\n      <td>Tỉnh Sóc Trăng</td>\n      <td>Huyện Trần Đề</td>\n      <td>Xã Lịch Hội Thượng</td>\n      <td>Trần Đề</td>\n      <td>Lịch Hội Thượng</td>\n      <td>Soc Trang</td>\n      <td>Tran De</td>\n      <td>...</td>\n      <td>Lich Hoi Thuong Commune</td>\n      <td>Tran De</td>\n      <td>Lich Hoi Thuong</td>\n      <td>Huyện</td>\n      <td>Xã</td>\n      <td>District</td>\n      <td>Commune</td>\n      <td>soctrang</td>\n      <td>trande</td>\n      <td>lichhoithuong</td>\n    </tr>\n    <tr>\n      <th>10375</th>\n      <td>Sóc Trăng</td>\n      <td>Trần Đề</td>\n      <td>Thị trấn Lịch Hội Thượng</td>\n      <td>Tỉnh Sóc Trăng</td>\n      <td>Huyện Trần Đề</td>\n      <td>Thị trấn Lịch Hội Thượng</td>\n      <td>Trần Đề</td>\n      <td>Lịch Hội Thượng</td>\n      <td>Soc Trang</td>\n      <td>Tran De</td>\n      <td>...</td>\n      <td>Lich Hoi Thuong Town</td>\n      <td>Tran De</td>\n      <td>Lich Hoi Thuong</td>\n      <td>Huyện</td>\n      <td>Thị trấn</td>\n      <td>District</td>\n      <td>Town</td>\n      <td>soctrang</td>\n      <td>trande</td>\n      <td>lichhoithuong</td>\n    </tr>\n    <tr>\n      <th>10401</th>\n      <td>Bạc Liêu</td>\n      <td>Phước Long</td>\n      <td>Thị trấn Phước Long</td>\n      <td>Tỉnh Bạc Liêu</td>\n      <td>Huyện Phước Long</td>\n      <td>Thị trấn Phước Long</td>\n      <td>Phước Long</td>\n      <td>Phước Long</td>\n      <td>Bac Lieu</td>\n      <td>Phuoc Long</td>\n      <td>...</td>\n      <td>Phuoc Long Town</td>\n      <td>Phuoc Long</td>\n      <td>Phuoc Long</td>\n      <td>Huyện</td>\n      <td>Thị trấn</td>\n      <td>District</td>\n      <td>Town</td>\n      <td>baclieu</td>\n      <td>phuoclong</td>\n      <td>phuoclong</td>\n    </tr>\n    <tr>\n      <th>10404</th>\n      <td>Bạc Liêu</td>\n      <td>Phước Long</td>\n      <td>Xã Phước Long</td>\n      <td>Tỉnh Bạc Liêu</td>\n      <td>Huyện Phước Long</td>\n      <td>Xã Phước Long</td>\n      <td>Phước Long</td>\n      <td>Phước Long</td>\n      <td>Bac Lieu</td>\n      <td>Phuoc Long</td>\n      <td>...</td>\n      <td>Phuoc Long Commune</td>\n      <td>Phuoc Long</td>\n      <td>Phuoc Long</td>\n      <td>Huyện</td>\n      <td>Xã</td>\n      <td>District</td>\n      <td>Commune</td>\n      <td>baclieu</td>\n      <td>phuoclong</td>\n      <td>phuoclong</td>\n    </tr>\n    <tr>\n      <th>10456</th>\n      <td>Cà Mau</td>\n      <td>Cà Mau</td>\n      <td>Phường Tân Thành</td>\n      <td>Tỉnh Cà Mau</td>\n      <td>Thành phố Cà Mau</td>\n      <td>Phường Tân Thành</td>\n      <td>Cà Mau</td>\n      <td>Tân Thành</td>\n      <td>Ca Mau</td>\n      <td>Ca Mau</td>\n      <td>...</td>\n      <td>Tan Thanh Ward</td>\n      <td>Ca Mau</td>\n      <td>Tan Thanh</td>\n      <td>Thành phố</td>\n      <td>Phường</td>\n      <td>City</td>\n      <td>Ward</td>\n      <td>camau</td>\n      <td>camau</td>\n      <td>tanthanh</td>\n    </tr>\n    <tr>\n      <th>10457</th>\n      <td>Cà Mau</td>\n      <td>Cà Mau</td>\n      <td>Xã Tân Thành</td>\n      <td>Tỉnh Cà Mau</td>\n      <td>Thành phố Cà Mau</td>\n      <td>Xã Tân Thành</td>\n      <td>Cà Mau</td>\n      <td>Tân Thành</td>\n      <td>Ca Mau</td>\n      <td>Ca Mau</td>\n      <td>...</td>\n      <td>Tan Thanh Commune</td>\n      <td>Ca Mau</td>\n      <td>Tan Thanh</td>\n      <td>Thành phố</td>\n      <td>Xã</td>\n      <td>City</td>\n      <td>Commune</td>\n      <td>camau</td>\n      <td>camau</td>\n      <td>tanthanh</td>\n    </tr>\n    <tr>\n      <th>10471</th>\n      <td>Cà Mau</td>\n      <td>Thới Bình</td>\n      <td>Thị trấn Thới Bình</td>\n      <td>Tỉnh Cà Mau</td>\n      <td>Huyện Thới Bình</td>\n      <td>Thị trấn Thới Bình</td>\n      <td>Thới Bình</td>\n      <td>Thới Bình</td>\n      <td>Ca Mau</td>\n      <td>Thoi Binh</td>\n      <td>...</td>\n      <td>Thoi Binh Town</td>\n      <td>Thoi Binh</td>\n      <td>Thoi Binh</td>\n      <td>Huyện</td>\n      <td>Thị trấn</td>\n      <td>District</td>\n      <td>Town</td>\n      <td>camau</td>\n      <td>thoibinh</td>\n      <td>thoibinh</td>\n    </tr>\n    <tr>\n      <th>10477</th>\n      <td>Cà Mau</td>\n      <td>Thới Bình</td>\n      <td>Xã Thới Bình</td>\n      <td>Tỉnh Cà Mau</td>\n      <td>Huyện Thới Bình</td>\n      <td>Xã Thới Bình</td>\n      <td>Thới Bình</td>\n      <td>Thới Bình</td>\n      <td>Ca Mau</td>\n      <td>Thoi Binh</td>\n      <td>...</td>\n      <td>Thoi Binh Commune</td>\n      <td>Thoi Binh</td>\n      <td>Thoi Binh</td>\n      <td>Huyện</td>\n      <td>Xã</td>\n      <td>District</td>\n      <td>Commune</td>\n      <td>camau</td>\n      <td>thoibinh</td>\n      <td>thoibinh</td>\n    </tr>\n  </tbody>\n</table>\n<p>38 rows × 23 columns</p>\n</div>"
     },
     "execution_count": 16,
     "metadata": {},
     "output_type": "execute_result"
    }
   ],
   "source": [
    "df_duplicated_wards"
   ],
   "metadata": {
    "collapsed": false,
    "ExecuteTime": {
     "end_time": "2024-09-16T10:27:59.809962Z",
     "start_time": "2024-09-16T10:27:59.801058Z"
    }
   },
   "id": "22024ec0b6c0c44f",
   "execution_count": 16
  },
  {
   "cell_type": "code",
   "outputs": [],
   "source": [
    "# Pickle\n",
    "duplicated_ward_keys = df_duplicated_wards.ward_key.unique().tolist()\n",
    "duplicated_ward_district_keys = df_duplicated_wards.district_key.unique().tolist()"
   ],
   "metadata": {
    "collapsed": false,
    "ExecuteTime": {
     "end_time": "2024-09-16T10:27:59.812249Z",
     "start_time": "2024-09-16T10:27:59.810551Z"
    }
   },
   "id": "36a7552a0c1ac02a",
   "execution_count": 17
  },
  {
   "cell_type": "code",
   "outputs": [
    {
     "name": "stdout",
     "output_type": "stream",
     "text": [
      "Districts: ['gialam', 'muongte', 'maison', 'tramtau', 'yenbinh', 'chilang', 'dinhlap', 'damha', 'dahuoai', 'duchoa', 'tracu', 'thapmuoi', 'caolanh', 'vinhthuan', 'longphu', 'trande', 'phuoclong', 'camau', 'thoibinh']\n",
      "Wards: ['yenvien', 'muongte', 'hatlot', 'tramtau', 'yenbinh', 'chilang', 'dinhlap', 'damha', 'madaguoi', 'hiephoa', 'dinhan', 'myan', 'mytho', 'vinhthuan', 'longphu', 'lichhoithuong', 'phuoclong', 'tanthanh', 'thoibinh']\n"
     ]
    }
   ],
   "source": [
    "print('Districts:' ,duplicated_ward_district_keys)\n",
    "print('Wards:', duplicated_ward_keys)"
   ],
   "metadata": {
    "collapsed": false,
    "ExecuteTime": {
     "end_time": "2024-09-16T10:27:59.814522Z",
     "start_time": "2024-09-16T10:27:59.812813Z"
    }
   },
   "id": "d2e88418396fed1f",
   "execution_count": 18
  },
  {
   "cell_type": "markdown",
   "source": [
    "### Sort province_key to prioritize some provinces\n",
    "- Some province has districts, or wards that are the same keyword with another province.\n",
    "- We need to run module_testing to check whether any address is wrong > Use ChatGPT to sort keywords > Add manually if we found new wrong keyword."
   ],
   "metadata": {
    "collapsed": false
   },
   "id": "f1e920e2186097aa"
  },
  {
   "cell_type": "code",
   "outputs": [],
   "source": [
    "# After testing module, I added this code\n",
    "# 'Huyện Quang Bình, Tỉnh Hà Giang' -> quangbinh\n",
    "# 'Huyện Phù Yên, Tỉnh Sơn La' -> phuyen\n",
    "# 'Huyện Văn Giang, Tỉnh Hưng Yên' -> angiang\n",
    "# 'Huyện Quảng Ninh, Tỉnh Quảng Bình' -> quangninh\n",
    "# 'Bac Lieu, Hoa Binh District -> hoabinh\n",
    "\n",
    "province_key_order = {\n",
    "    'yenbai': 1,\n",
    "    'khanhhoa': 2,\n",
    "    'binhthuan': 3,\n",
    "    'thainguyen': 4,\n",
    "    'thaibinh': 5,\n",
    "    'longan': 5,\n",
    "    'thanhhoa': 6,\n",
    "    'hagiang': 6,\n",
    "    'quangbinh': 7,\n",
    "    'quangninh': 8,\n",
    "    'quangngai': 8,\n",
    "    'quangtri': 9,\n",
    "    'binhdinh': 10,\n",
    "    'binhduong': 11,\n",
    "    'binhphuoc': 12,\n",
    "    'dongnai': 13,\n",
    "    'lamdong': 14,\n",
    "    'phuyen': 15,\n",
    "    'vinhlong': 16,\n",
    "    'soctrang': 18,\n",
    "    'bacgiang': 19,\n",
    "    'camau': 20,\n",
    "    'angiang': 21,\n",
    "    'haiphong': 22,\n",
    "    'hoabinh': 23,\n",
    "    'ninhbinh': 25,\n",
    "    'cambang': 26,\n",
    "    'backan': 27,\n",
    "    'caobang': 28\n",
    "    \n",
    "    \n",
    "}\n",
    "\n",
    "\n",
    "df['province_key_order'] = df['province_key'].map(province_key_order).fillna(0)\n",
    "\n",
    "df.sort_values(by='province_key_order', inplace=True)"
   ],
   "metadata": {
    "collapsed": false,
    "ExecuteTime": {
     "end_time": "2024-09-16T10:27:59.820749Z",
     "start_time": "2024-09-16T10:27:59.815035Z"
    }
   },
   "id": "b8a12456da334b0",
   "execution_count": 19
  },
  {
   "cell_type": "markdown",
   "source": [
    "### Add alias province_keyword\n",
    "- We should not add \"hn\" because it will cause many wrong matches. I will replace `\\bhn\\b` to `\\bha noi\\b` of the address, this step is in `parse.py`"
   ],
   "metadata": {
    "collapsed": false
   },
   "id": "398029c04e639d54"
  },
  {
   "cell_type": "code",
   "outputs": [],
   "source": [
    "df_province = df[[col for col in df.columns if 'province' in col]].drop_duplicates()\n",
    "\n",
    "province_alias_keys = [\n",
    "    ('Ho Chi Minh', 'hcm')\n",
    "]\n",
    "\n",
    "for key in province_alias_keys:\n",
    "    province_english, province_key = key\n",
    "    df_province = add_province_key(df_province, province_english, province_key)"
   ],
   "metadata": {
    "collapsed": false,
    "ExecuteTime": {
     "end_time": "2024-09-16T10:27:59.828147Z",
     "start_time": "2024-09-16T10:27:59.821350Z"
    }
   },
   "id": "2e3e541cf6cffa27",
   "execution_count": 20
  },
  {
   "cell_type": "markdown",
   "source": [
    "### Add alias district_keyword\n",
    "There are many district was changed it's name or be combined with other districts. For instance: Quan 9 > Thanh pho Thu Duc.\n",
    "\n",
    "Use `find_district_alias_keywords.ipynb` to create a list of tuples."
   ],
   "metadata": {
    "collapsed": false
   },
   "id": "7bc50feab7e6e99d"
  },
  {
   "cell_type": "code",
   "outputs": [],
   "source": [
    "df_district = df[['province_english'] + [col for col in df.columns if 'district' in col]].drop_duplicates()\n",
    "\n",
    "district_alias_keys = [\n",
    "    ('An Giang', 'Chau Thanh', 'hueduc'),\n",
    "    ('Ba Ria - Vung Tau', 'Phu My', 'tanthanh'),\n",
    "    ('Bac Kan', 'Ba Be', 'chora'),\n",
    "    ('Bac Lieu', 'Bac Lieu', 'minhhai'),\n",
    "    ('Binh Duong', 'Tan Uyen', 'chauthanh'),\n",
    "    ('Binh Duong', 'Thuan An', 'laithieu'),\n",
    "    ('Binh Phuoc', 'Phuoc Long', 'phuocbinh'),\n",
    "    ('Ca Mau', 'Dam Doi', 'ngochien'),\n",
    "    ('Cao Bang', 'Quang Hoa', 'phuchoa'),\n",
    "    ('Cao Bang', 'Quang Hoa', 'quanguyen'),\n",
    "    ('Cao Bang', 'Ha Quang', 'thongnong'),\n",
    "    ('Cao Bang', 'Trung Khanh', 'tralinh'),\n",
    "    ('Dien Bien', 'Muong Lay', 'laichau'),\n",
    "    ('Dien Bien', 'Muong Cha', 'muonglay'),\n",
    "    ('Dong Nai', 'Vinh Cuu', 'vinhan'),\n",
    "    ('Dong Thap', 'Lap Vo', 'thanhhung'),\n",
    "    ('Ha Nam', 'Phu Ly', 'hanam'),\n",
    "    ('Ha Noi', 'Soc Son', 'daphuc'),\n",
    "    ('Ha Noi', 'Soc Son', 'kimanh'),\n",
    "    ('Hai Phong', 'Cat Hai', 'catba'),\n",
    "    ('Hau Giang', 'Vi Thanh', 'mythanh'),\n",
    "    ('Hau Giang', 'Nga Bay', 'tanhiep'),\n",
    "    ('Hoa Binh', 'Hoa Binh', 'kyson'),\n",
    "    ('Khanh Hoa', 'Dien Khanh', 'khanhxuong'),\n",
    "    ('Kien Giang', 'Kien Luong', 'hatien'),\n",
    "    ('Lao Cai', 'Lao Cai', 'camduong'),\n",
    "    ('Nam Dinh', 'Nam Dinh', 'myloc'),\n",
    "    ('Ninh Binh', 'Hoa Lu', 'giakhanh'),\n",
    "    ('Ninh Binh', 'Nho Quan', 'hoanglong'),\n",
    "    ('Ninh Binh', 'Yen Mo', 'tamdiep'),\n",
    "    ('Phu Tho', 'Cam Khe', 'songthao'),\n",
    "    ('Quang Nam', 'Nam Giang', 'giang'),\n",
    "    ('Quang Ngai', 'Tra Bong', 'taytra'),\n",
    "    ('Quang Ninh', 'Ha Long', 'honggai'),\n",
    "    ('Quang Ninh', 'Van Don', 'campha'),\n",
    "    ('Quang Ninh', 'Mong Cai', 'haininh'),\n",
    "    ('Quang Ninh', 'Quang Yen', 'yenhung'),\n",
    "    ('Quang Ninh', 'Ha Long', 'hoanhbo'),\n",
    "    ('Tay Ninh', 'Hoa Thanh', 'phukhuong'),\n",
    "    ('Thanh Hoa', 'Dong Son', 'dongthieu'),\n",
    "    ('Thanh Hoa', 'Yen Dinh', 'thieuyen'),\n",
    "    ('Thanh Hoa', 'Nghi Son', 'tinhgia'),\n",
    "    ('Ho Chi Minh', 'Can Gio', 'duyenhai'),\n",
    "    ('Ho Chi Minh', 'Thu Duc', 'quan2'),\n",
    "    ('Ho Chi Minh', 'Thu Duc', 'quan9'),\n",
    "    # ('Ho Chi Minh', 'Thu Duc', 'thuduc(quan)'),\n",
    "    ('Tra Vinh', 'Cang Long', 'chauthanhdong'),\n",
    "    ('Vinh Long', 'Long Ho', 'cainhum'),\n",
    "    ('Vinh Long', 'Long Ho', 'chauthanhtay'),\n",
    "    ('Ben Tre', 'Mo Cay Nam', 'mocay'),\n",
    "    ('Binh Thuan', 'Ham Thuan Nam', 'hamthuan'),\n",
    "    ('Ha Noi', 'Nam Tu Liem', 'tuliem'),\n",
    "    ('Quang Nam', 'Nam Tra My', 'tramy'),\n",
    "    ('Tien Giang', 'Go Cong Tay', 'gocong')\n",
    "\n",
    "]\n",
    "\n",
    "for key in district_alias_keys:\n",
    "    province_english, district_english, district_key = key\n",
    "    df_district = add_district_key(df_district, province_english, district_english, district_key)"
   ],
   "metadata": {
    "collapsed": false,
    "ExecuteTime": {
     "end_time": "2024-09-16T10:27:59.882074Z",
     "start_time": "2024-09-16T10:27:59.828699Z"
    }
   },
   "id": "7b4ed620017edf0a",
   "execution_count": 21
  },
  {
   "cell_type": "markdown",
   "source": [
    "Some districts contain \"quan\" with number in their keywords. We need to make a copy and replace \"quan\" to \"district\"."
   ],
   "metadata": {
    "collapsed": false
   },
   "id": "329dfb4242377ef8"
  },
  {
   "cell_type": "code",
   "outputs": [],
   "source": [
    "hcm_districts = df_district[df_district['district_key'].str.contains(r'quan\\d{1,2}')].copy()\n",
    "hcm_districts['district_key'] = hcm_districts['district_key'].str.replace('quan', 'district')\n",
    "df_district = pd.concat([df_district, hcm_districts])"
   ],
   "metadata": {
    "collapsed": false,
    "ExecuteTime": {
     "end_time": "2024-09-16T10:27:59.885809Z",
     "start_time": "2024-09-16T10:27:59.882638Z"
    }
   },
   "id": "9e3870492482a94a",
   "execution_count": 22
  },
  {
   "cell_type": "markdown",
   "source": [
    "### Create alias ward_key\n",
    "Some wards contain \"phuong\" with number in their keywords. We need to make a copy and replace \"phuong\" to \"ward\".\n"
   ],
   "metadata": {
    "collapsed": false
   },
   "id": "5cb518d7ed6fa887"
  },
  {
   "cell_type": "code",
   "outputs": [],
   "source": [
    "df_ward = df[['province_english', 'district_english'] + [col for col in df.columns if 'ward' in col]].drop_duplicates()"
   ],
   "metadata": {
    "collapsed": false,
    "ExecuteTime": {
     "end_time": "2024-09-16T10:27:59.898244Z",
     "start_time": "2024-09-16T10:27:59.886462Z"
    }
   },
   "id": "6e14acc61d1d33a8",
   "execution_count": 23
  },
  {
   "cell_type": "code",
   "outputs": [],
   "source": [
    "number_wards = df_ward[df_ward['ward_key'].fillna('').str.contains(r'phuong\\d{1,2}')].copy()\n",
    "number_wards['ward_key'] = number_wards['ward_key'].str.replace('phuong', 'ward')\n",
    "df_ward = pd.concat([df_ward, number_wards])"
   ],
   "metadata": {
    "collapsed": false,
    "ExecuteTime": {
     "end_time": "2024-09-16T10:27:59.906611Z",
     "start_time": "2024-09-16T10:27:59.898944Z"
    }
   },
   "id": "e7e66b3d54b9f90d",
   "execution_count": 24
  },
  {
   "cell_type": "markdown",
   "source": [
    "### Create province_keys lists\n",
    "We will prioritize provinces that are not in district_key or ward_key when searching a province_key in address."
   ],
   "metadata": {
    "collapsed": false
   },
   "id": "50bfaf3078fc1682"
  },
  {
   "cell_type": "code",
   "outputs": [],
   "source": [
    "province_keys = df_province['province_key'].tolist()\n",
    "\n",
    "# Pickle\n",
    "province_keys_1 = []\n",
    "province_keys_2 = []\n",
    "province_keys_3 = []\n",
    "\n",
    "district_keys = str(df.district_key.unique().tolist())\n",
    "ward_keys = str(df.ward_key.unique().tolist())\n",
    "for province_key in province_keys:\n",
    "    if (province_key not in district_keys) and (province_key not in ward_keys):\n",
    "        province_keys_1.append(province_key)\n",
    "    elif province_key not in ward_keys:\n",
    "        province_keys_2.append(province_key)\n",
    "    else:\n",
    "        province_keys_3.append(province_key)"
   ],
   "metadata": {
    "collapsed": false,
    "ExecuteTime": {
     "end_time": "2024-09-16T10:27:59.914559Z",
     "start_time": "2024-09-16T10:27:59.907414Z"
    }
   },
   "id": "f1b5241edd87bf58",
   "execution_count": 25
  },
  {
   "cell_type": "markdown",
   "source": [
    "### Create mapping dictionaries"
   ],
   "metadata": {
    "collapsed": false
   },
   "id": "aa791b0587c8590a"
  },
  {
   "cell_type": "code",
   "outputs": [],
   "source": [
    "# Pickle\n",
    "province_map = {}\n",
    "\n",
    "for province_key in df_province.province_key.unique():\n",
    "    province = df_province[df_province['province_key'] == province_key]\n",
    "    province_record = province.to_dict(orient='records')[0]\n",
    "    province_map[province_key] = province_record"
   ],
   "metadata": {
    "collapsed": false,
    "ExecuteTime": {
     "end_time": "2024-09-16T10:27:59.931468Z",
     "start_time": "2024-09-16T10:27:59.915154Z"
    }
   },
   "id": "dcb40691af26b797",
   "execution_count": 26
  },
  {
   "cell_type": "code",
   "outputs": [],
   "source": [
    "# Pickle\n",
    "district_map = {}\n",
    "\n",
    "for province_english in df_province.province_english.unique():\n",
    "    district_keys = {}\n",
    "    for district_key in df_district[df_district.province_english == province_english]['district_key'].unique():\n",
    "        district_levels = {}\n",
    "        for district_level_english in df_district[(df_district.province_english == province_english) & (df_district.district_key == district_key)]['district_level_english'].unique():\n",
    "            district = df_district[(df_district.province_english == province_english) & (df_district.district_key == district_key) & (df_district.district_level_english == district_level_english)]\n",
    "            district_record = district[[col for col in district.columns if 'district' in col]].to_dict('records')[0]\n",
    "            district_levels[district_level_english] = district_record\n",
    "        district_keys[district_key] = district_levels\n",
    "        \n",
    "    district_keys = dict(sorted(district_keys.items(), key=lambda item: len(item[0]), reverse=True))\n",
    "    \n",
    "    district_map[province_english] = district_keys"
   ],
   "metadata": {
    "collapsed": false,
    "ExecuteTime": {
     "end_time": "2024-09-16T10:28:00.549171Z",
     "start_time": "2024-09-16T10:27:59.932101Z"
    }
   },
   "id": "57ab1579066f41f5",
   "execution_count": 27
  },
  {
   "cell_type": "code",
   "outputs": [],
   "source": [
    "# Pickle\n",
    "ward_map = {}\n",
    "\n",
    "for province_english in df_province.province_english.unique():\n",
    "    districts = {}\n",
    "    for district_english in df_district[df_district.province_english==province_english].district_english.unique():\n",
    "        wards = {}\n",
    "        for ward_key in df_ward[(df_ward.province_english==province_english) & (df_ward.district_english==district_english)].ward_key.unique():\n",
    "            ward_levels = {}\n",
    "            for ward_level_english in df_ward[(df_ward.province_english==province_english) & (df_ward.district_english==district_english) & (df_ward.ward_key==ward_key)].ward_level_english.unique():\n",
    "                ward = df_ward[(df_ward.province_english==province_english) & (df_ward.district_english==district_english) & (df_ward.ward_key==ward_key) & (df_ward.ward_level_english==ward_level_english)]\n",
    "                ward_record = ward[[col for col in ward.columns if 'ward' in col]].to_dict('records')[0]\n",
    "                ward_levels[ward_level_english] = ward_record\n",
    "            wards[ward_key] = ward_levels\n",
    "        wards = dict(sorted(wards.items(), key=lambda item: len(str(item[0])), reverse=True))\n",
    "        districts[district_english] = wards\n",
    "    ward_map[province_english] = districts"
   ],
   "metadata": {
    "collapsed": false,
    "ExecuteTime": {
     "end_time": "2024-09-16T10:28:35.230269Z",
     "start_time": "2024-09-16T10:28:00.557865Z"
    }
   },
   "id": "c0eceda7e27b697e",
   "execution_count": 28
  },
  {
   "cell_type": "markdown",
   "source": [
    "### Create double check dictionaries\n",
    "Some address will cause wrong mapping because they have ward_key is as same as other province's province_key."
   ],
   "metadata": {
    "collapsed": false
   },
   "id": "7e9f3c281b5238c9"
  },
  {
   "cell_type": "code",
   "outputs": [],
   "source": [
    "double_check_provinces = {'vinhphuc': ['hagiang', 'thanhhoa'],\n",
    " 'thaibinh': ['hoabinh', 'longan'],\n",
    " 'binhthuan': ['thainguyen', 'quangngai', 'binhdinh'],\n",
    " 'lamdong': ['haiphong'],\n",
    " 'vinhlong': ['haiphong'],\n",
    " 'thainguyen': ['thaibinh'],\n",
    " 'tayninh': ['thaibinh'],\n",
    " 'angiang': ['ninhbinh'],\n",
    " 'sonla': ['ninhbinh', 'quangngai', 'khanhhoa'],\n",
    " 'khanhhoa': ['ninhbinh', 'angiang'],\n",
    " 'dienbien': ['thanhhoa'],\n",
    " 'thanhhoa': ['quangbinh', 'binhphuoc'],\n",
    " 'kiengiang': ['quangbinh'],\n",
    " 'haiduong': ['quangtri'],\n",
    " 'quangnam': ['phuyen'],\n",
    " 'quangtri': ['lamdong'],\n",
    " 'quangngai': ['lamdong'],\n",
    " 'dongnai': ['lamdong'],\n",
    " 'phutho': ['binhduong', 'angiang'],\n",
    " 'longan': ['dongnai', 'vinhlong', 'angiang'],\n",
    " 'binhphuoc': ['vinhlong', 'angiang'],\n",
    " 'hungyen': ['kiengiang']}"
   ],
   "metadata": {
    "collapsed": false,
    "ExecuteTime": {
     "end_time": "2024-09-16T10:28:35.235515Z",
     "start_time": "2024-09-16T10:28:35.231588Z"
    }
   },
   "id": "583daf5f5624ebf6",
   "execution_count": 29
  },
  {
   "cell_type": "markdown",
   "source": [
    "Some address will cause wrong mapping because they have ward_key is as same as other district's district_key."
   ],
   "metadata": {
    "collapsed": false
   },
   "id": "8ce87f2d7eddb04a"
  },
  {
   "cell_type": "code",
   "outputs": [],
   "source": [
    "double_check_districts = {'unghoa': ['caugiay', 'chuongmy'],\n",
    " 'thanhtri': ['hoangmai'],\n",
    " 'thanhxuan': ['socson'],\n",
    " 'thanhoai': ['thanhtri'],\n",
    " 'muongla': ['phuyen', 'songma', 'sopcop'],\n",
    " 'tranyen': ['lucyen', 'yenbinh'],\n",
    " 'uongbi': ['mongcai'],\n",
    " 'halong': ['vandon'],\n",
    " 'haiduong': ['binhgiang'],\n",
    " 'phucu': ['hungyen'],\n",
    " 'dongson': ['thanhhoa', 'bimson'],\n",
    " 'thanhhoa': ['nhuxuan'],\n",
    " 'kyson': ['tanky'],\n",
    " 'vinh': ['anhson', 'yenthanh', 'hoangmai'],\n",
    " 'huongthuy': ['hue', 'hue', 'hue'],\n",
    " 'giang': ['thangbinh', 'bactramy', 'nuithanh'],\n",
    " 'tramy': ['bactramy'],\n",
    " 'sontinh': ['sontay'],\n",
    " 'ducpho': ['moduc'],\n",
    " 'iapa': ['chuse'],\n",
    " 'krongbuk': ['krongpac'],\n",
    " 'hoathanh': ['chauthanh'],\n",
    " 'thongnhat': ['bienhoa'],\n",
    " 'tanphu': ['thuduc', 'quan7'],\n",
    " 'tanan': ['canduoc'],\n",
    " 'tanphuoc': ['gocongdong'],\n",
    " 'cainhum': ['mangthit'],\n",
    " 'chauphu': ['chaudoc', 'chaudoc'],\n",
    " 'anminh': ['chauthanh', 'uminhthuong']}"
   ],
   "metadata": {
    "collapsed": false,
    "ExecuteTime": {
     "end_time": "2024-09-16T10:28:35.240262Z",
     "start_time": "2024-09-16T10:28:35.236308Z"
    }
   },
   "id": "e838dbdf6fd290df",
   "execution_count": 30
  },
  {
   "cell_type": "code",
   "outputs": [],
   "source": [
    "with open('../vietadminunits/data/parse.pkl', 'wb') as f:\n",
    "    pickle.dump((duplicated_district_keys, duplicated_district_province_keys, duplicated_ward_keys, duplicated_ward_district_keys, province_keys_1, province_keys_2, province_keys_3, province_map, district_map, ward_map, double_check_provinces, double_check_districts), f)"
   ],
   "metadata": {
    "collapsed": false,
    "ExecuteTime": {
     "end_time": "2024-09-16T10:28:35.264324Z",
     "start_time": "2024-09-16T10:28:35.241034Z"
    }
   },
   "id": "755934acf0047162",
   "execution_count": 31
  }
 ],
 "metadata": {
  "kernelspec": {
   "display_name": "Python 3",
   "language": "python",
   "name": "python3"
  },
  "language_info": {
   "codemirror_mode": {
    "name": "ipython",
    "version": 2
   },
   "file_extension": ".py",
   "mimetype": "text/x-python",
   "name": "python",
   "nbconvert_exporter": "python",
   "pygments_lexer": "ipython2",
   "version": "2.7.6"
  }
 },
 "nbformat": 4,
 "nbformat_minor": 5
}
