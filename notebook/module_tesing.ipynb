{
 "cells": [
  {
   "cell_type": "code",
   "execution_count": 1,
   "id": "initial_id",
   "metadata": {
    "collapsed": true,
    "ExecuteTime": {
     "end_time": "2024-09-16T15:17:57.758565Z",
     "start_time": "2024-09-16T15:17:57.386661Z"
    }
   },
   "outputs": [],
   "source": [
    "from vietadminunits import parse_address\n",
    "import pandas as pd\n",
    "import re\n",
    "\n",
    "from unidecode import unidecode"
   ]
  },
  {
   "cell_type": "markdown",
   "source": [
    "# Demo"
   ],
   "metadata": {
    "collapsed": false
   },
   "id": "5a2fae1f4817088b"
  },
  {
   "cell_type": "code",
   "outputs": [
    {
     "name": "stdout",
     "output_type": "stream",
     "text": [
      "Town\n"
     ]
    },
    {
     "data": {
      "text/plain": "AdministrativeUnit:\nAttribute                      | Value                         \n--------------------------------------------------------------\nprovince                       | Hà Tĩnh                       \ndistrict                       | Thị xã Kỳ Anh                 \nward                           |                               \n--------------------------------------------------------------\nlong_province                  | Tỉnh Hà Tĩnh                  \nlong_district                  | Thị xã Kỳ Anh                 \nlong_ward                      |                               \n--------------------------------------------------------------\nshort_district                 | Kỳ Anh                        \nshort_ward                     |                               \n--------------------------------------------------------------\nprovince_english               | Ha Tinh                       \ndistrict_english               | Ky Anh Town                   \nward_english                   |                               \n--------------------------------------------------------------\nlong_province_english          | Ha Tinh Province              \nlong_district_english          | Ky Anh Town                   \nlong_ward_english              |                               \n--------------------------------------------------------------\nshort_district_english         | Ky Anh                        \nshort_ward_english             |                               \n--------------------------------------------------------------\ndistrict_level                 | Thị xã                        \nward_level                     |                               \n--------------------------------------------------------------\ndistrict_level_english         | Town                          \nward_level_english             |                               "
     },
     "execution_count": 2,
     "metadata": {},
     "output_type": "execute_result"
    }
   ],
   "source": [
    "parse_address('ky anh ha tinh')"
   ],
   "metadata": {
    "collapsed": false,
    "ExecuteTime": {
     "end_time": "2024-09-16T15:17:58.033573Z",
     "start_time": "2024-09-16T15:17:58.029245Z"
    }
   },
   "id": "57289afc468afdaa",
   "execution_count": 2
  },
  {
   "cell_type": "code",
   "outputs": [
    {
     "name": "stdout",
     "output_type": "stream",
     "text": [
      "maison\n",
      "{'kyanh': 'Town', 'cailay': 'Town', 'duyenhai': 'District', 'caolanh': 'City', 'hongngu': 'City', 'longmy': 'District'}\n"
     ]
    },
    {
     "data": {
      "text/plain": "AdministrativeUnit:\nAttribute                      | Value                         \n--------------------------------------------------------------\nprovince                       | Sơn La                        \ndistrict                       | Mai Sơn                       \nward                           | Xã Hát Lót                    \n--------------------------------------------------------------\nlong_province                  | Tỉnh Sơn La                   \nlong_district                  | Huyện Mai Sơn                 \nlong_ward                      | Xã Hát Lót                    \n--------------------------------------------------------------\nshort_district                 | Mai Sơn                       \nshort_ward                     | Hát Lót                       \n--------------------------------------------------------------\nprovince_english               | Son La                        \ndistrict_english               | Mai Son                       \nward_english                   | Hat Lot Commune               \n--------------------------------------------------------------\nlong_province_english          | Son La Province               \nlong_district_english          | Mai Son District              \nlong_ward_english              | Hat Lot Commune               \n--------------------------------------------------------------\nshort_district_english         | Mai Son                       \nshort_ward_english             | Hat Lot                       \n--------------------------------------------------------------\ndistrict_level                 | Huyện                         \nward_level                     | Xã                            \n--------------------------------------------------------------\ndistrict_level_english         | District                      \nward_level_english             | Commune                       "
     },
     "execution_count": 3,
     "metadata": {},
     "output_type": "execute_result"
    }
   ],
   "source": [
    "parse_address('hat lot mai son son la')"
   ],
   "metadata": {
    "collapsed": false,
    "ExecuteTime": {
     "end_time": "2024-09-16T15:18:00.808032Z",
     "start_time": "2024-09-16T15:18:00.802277Z"
    }
   },
   "id": "21305f6aa3f21443",
   "execution_count": 3
  },
  {
   "cell_type": "code",
   "outputs": [
    {
     "name": "stdout",
     "output_type": "stream",
     "text": [
      "camau\n",
      "{'kyanh': 'Town', 'cailay': 'Town', 'duyenhai': 'District', 'caolanh': 'City', 'hongngu': 'City', 'longmy': 'District'}\n"
     ]
    },
    {
     "data": {
      "text/plain": "AdministrativeUnit:\nAttribute                      | Value                         \n--------------------------------------------------------------\nprovince                       | Cà Mau                        \ndistrict                       | Cà Mau                        \nward                           | Phường Tân Thành              \n--------------------------------------------------------------\nlong_province                  | Tỉnh Cà Mau                   \nlong_district                  | Thành phố Cà Mau              \nlong_ward                      | Phường Tân Thành              \n--------------------------------------------------------------\nshort_district                 | Cà Mau                        \nshort_ward                     | Tân Thành                     \n--------------------------------------------------------------\nprovince_english               | Ca Mau                        \ndistrict_english               | Ca Mau                        \nward_english                   | Tan Thanh Ward                \n--------------------------------------------------------------\nlong_province_english          | Ca Mau Province               \nlong_district_english          | Ca Mau City                   \nlong_ward_english              | Tan Thanh Ward                \n--------------------------------------------------------------\nshort_district_english         | Ca Mau                        \nshort_ward_english             | Tan Thanh                     \n--------------------------------------------------------------\ndistrict_level                 | Thành phố                     \nward_level                     | Phường                        \n--------------------------------------------------------------\ndistrict_level_english         | City                          \nward_level_english             | Ward                          "
     },
     "execution_count": 4,
     "metadata": {},
     "output_type": "execute_result"
    }
   ],
   "source": [
    "parse_address('phuong Tan Thanh, Ca Mau, Ca Mau')"
   ],
   "metadata": {
    "collapsed": false,
    "ExecuteTime": {
     "end_time": "2024-09-16T15:18:02.338538Z",
     "start_time": "2024-09-16T15:18:02.333389Z"
    }
   },
   "id": "745e840418e26c0b",
   "execution_count": 4
  },
  {
   "cell_type": "code",
   "outputs": [],
   "source": [
    "parse_address('Ngã Tư Sở Market, Đường Nguyễn Trãi, Thượng Đình Số nhà 28A, Ngõ 72 Nguyễn Trãi , , Phường Thượng Đình, Quận Thanh Xuân , Hà Nội Quận Thanh Xuân')"
   ],
   "metadata": {
    "collapsed": false
   },
   "id": "ccfcb3feb70b601d",
   "execution_count": null
  },
  {
   "cell_type": "code",
   "outputs": [],
   "source": [
    "parse_address('Cuối đường kiều mai, dự án bệnh viện hạnh phúc  phường phú diễn quận bắc từ liêm hà nội')"
   ],
   "metadata": {
    "collapsed": false
   },
   "id": "ac59fdbd592726a1",
   "execution_count": null
  },
  {
   "cell_type": "code",
   "outputs": [],
   "source": [
    "parse_address('03 Nguyễn Cao Luyện, An Hải Bắc, Sơn Trà, Đà Nẵng 550000, Việt Nam')"
   ],
   "metadata": {
    "collapsed": false
   },
   "id": "6fb98f74ac0bdf8d",
   "execution_count": null
  },
  {
   "cell_type": "code",
   "outputs": [],
   "source": [
    "parse_address('3c60/10 chợ cầu xấng, xã phạm văn hai, huyện bình chánh HCM')"
   ],
   "metadata": {
    "collapsed": false
   },
   "id": "960a61d68549fa75",
   "execution_count": null
  },
  {
   "cell_type": "code",
   "outputs": [],
   "source": [
    "parse_address('ngõ 154 Đình Thôn, phường Mỹ Đình, Quận Nam Từ Liêm, HN')"
   ],
   "metadata": {
    "collapsed": false
   },
   "id": "7ab4dc3d2c704933",
   "execution_count": null
  },
  {
   "cell_type": "code",
   "outputs": [],
   "source": [
    "parse_address('ngõ 154 Đình Thôn, phường Mỹ Đình, Quận Nam Từ Liêm, HN', level=1)"
   ],
   "metadata": {
    "collapsed": false
   },
   "id": "661b50a5aeaf84f7",
   "execution_count": null
  },
  {
   "cell_type": "code",
   "outputs": [],
   "source": [
    "parse_address('Ha Noi, Gia Lam, Yen Vien')"
   ],
   "metadata": {
    "collapsed": false
   },
   "id": "8928a354ab16a274",
   "execution_count": null
  },
  {
   "cell_type": "code",
   "outputs": [],
   "source": [],
   "metadata": {
    "collapsed": false
   },
   "id": "edba1435044ad6bb",
   "execution_count": null
  },
  {
   "cell_type": "markdown",
   "source": [
    "# Check wrong or missing in bulk"
   ],
   "metadata": {
    "collapsed": false
   },
   "id": "3f7ebf254ffba569"
  },
  {
   "cell_type": "code",
   "outputs": [],
   "source": [
    "df = pd.read_csv('../data/input/danhmuchanhchinhgso.gov.vn.csv')"
   ],
   "metadata": {
    "collapsed": false
   },
   "id": "19018c4a3a7f3491",
   "execution_count": null
  },
  {
   "cell_type": "code",
   "outputs": [],
   "source": [
    "df['district_address'] = df['long_district'] + ', ' + df['long_province']\n",
    "district_addresses = df['district_address'].tolist()\n",
    "\n",
    "for address in district_addresses:\n",
    "    try:\n",
    "        unit = parse_address(address, level=2)\n",
    "    except:\n",
    "        print(address)\n",
    "    if unit.province == None:\n",
    "        print(address)\n",
    "    elif unit.district == None:\n",
    "        print(address)"
   ],
   "metadata": {
    "collapsed": false
   },
   "id": "10f1c4f277648450",
   "execution_count": null
  },
  {
   "cell_type": "code",
   "outputs": [],
   "source": [
    "df['ward_address'] = df['long_ward'].fillna('') + ', ' + df['long_district'] + ', ' + df['long_province']\n",
    "ward_addresses = df['ward_address'].dropna().tolist()\n",
    "miss = []\n",
    "for ward_address in ward_addresses:\n",
    "    unit = parse_address(ward_address, level=3)\n",
    "\n",
    "    if unit.province == None:\n",
    "        print(ward_address)\n",
    "    elif unit.district == None:\n",
    "        print(ward_address)\n",
    "    elif unit.ward == None and unit.district_key not in ['bachlongvi', 'conco', 'hoangsa', 'lyson', 'condao']:\n",
    "        print(ward_address)\n"
   ],
   "metadata": {
    "collapsed": false
   },
   "id": "2ce0c17cd4128a3f",
   "execution_count": null
  }
 ],
 "metadata": {
  "kernelspec": {
   "display_name": "Python 3",
   "language": "python",
   "name": "python3"
  },
  "language_info": {
   "codemirror_mode": {
    "name": "ipython",
    "version": 2
   },
   "file_extension": ".py",
   "mimetype": "text/x-python",
   "name": "python",
   "nbconvert_exporter": "python",
   "pygments_lexer": "ipython2",
   "version": "2.7.6"
  }
 },
 "nbformat": 4,
 "nbformat_minor": 5
}
