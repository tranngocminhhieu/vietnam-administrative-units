{
 "cells": [
  {
   "cell_type": "code",
   "execution_count": 1,
   "id": "initial_id",
   "metadata": {
    "collapsed": true,
    "ExecuteTime": {
     "end_time": "2024-09-16T11:38:57.119617Z",
     "start_time": "2024-09-16T11:38:56.614806Z"
    }
   },
   "outputs": [],
   "source": [
    "from vietadminunits import parse_address\n",
    "import pandas as pd\n",
    "import re\n",
    "from unidecode import unidecode"
   ]
  },
  {
   "cell_type": "markdown",
   "source": [
    "# Demo"
   ],
   "metadata": {
    "collapsed": false
   },
   "id": "5a2fae1f4817088b"
  },
  {
   "cell_type": "code",
   "outputs": [
    {
     "data": {
      "text/plain": "AdministrativeUnit:\nAttribute                      | Value                         \n--------------------------------------------------------------\nprovince                       | Hà Nội                        \ndistrict                       | Thanh Xuân                    \nward                           | Thượng Đình                   \n--------------------------------------------------------------\nlong_province                  | Thành phố Hà Nội              \nlong_district                  | Quận Thanh Xuân               \nlong_ward                      | Phường Thượng Đình            \n--------------------------------------------------------------\nshort_district                 | Thanh Xuân                    \nshort_ward                     | Thượng Đình                   \n--------------------------------------------------------------\nprovince_english               | Ha Noi                        \ndistrict_english               | Thanh Xuan                    \nward_english                   | Thuong Dinh                   \n--------------------------------------------------------------\nlong_province_english          | Ha Noi City                   \nlong_district_english          | Thanh Xuan District           \nlong_ward_english              | Thuong Dinh Ward              \n--------------------------------------------------------------\nshort_district_english         | Thanh Xuan                    \nshort_ward_english             | Thuong Dinh                   \n--------------------------------------------------------------\ndistrict_level                 | Quận                          \nward_level                     | Phường                        \n--------------------------------------------------------------\ndistrict_level_english         | District                      \nward_level_english             | Ward                          "
     },
     "execution_count": 2,
     "metadata": {},
     "output_type": "execute_result"
    }
   ],
   "source": [
    "parse_address('Ngã Tư Sở Market, Đường Nguyễn Trãi, Thượng Đình Số nhà 28A, Ngõ 72 Nguyễn Trãi , , Phường Thượng Đình, Quận Thanh Xuân , Hà Nội Quận Thanh Xuân')"
   ],
   "metadata": {
    "collapsed": false,
    "ExecuteTime": {
     "end_time": "2024-09-16T11:38:57.128840Z",
     "start_time": "2024-09-16T11:38:57.120667Z"
    }
   },
   "id": "ccfcb3feb70b601d",
   "execution_count": 2
  },
  {
   "cell_type": "code",
   "outputs": [
    {
     "data": {
      "text/plain": "AdministrativeUnit:\nAttribute                      | Value                         \n--------------------------------------------------------------\nprovince                       | Hà Nội                        \ndistrict                       | Bắc Từ Liêm                   \nward                           | Phú Diễn                      \n--------------------------------------------------------------\nlong_province                  | Thành phố Hà Nội              \nlong_district                  | Quận Bắc Từ Liêm              \nlong_ward                      | Phường Phú Diễn               \n--------------------------------------------------------------\nshort_district                 | Bắc Từ Liêm                   \nshort_ward                     | Phú Diễn                      \n--------------------------------------------------------------\nprovince_english               | Ha Noi                        \ndistrict_english               | Bac Tu Liem                   \nward_english                   | Phu Dien                      \n--------------------------------------------------------------\nlong_province_english          | Ha Noi City                   \nlong_district_english          | Bac Tu Liem District          \nlong_ward_english              | Phu Dien Ward                 \n--------------------------------------------------------------\nshort_district_english         | Bac Tu Liem                   \nshort_ward_english             | Phu Dien                      \n--------------------------------------------------------------\ndistrict_level                 | Quận                          \nward_level                     | Phường                        \n--------------------------------------------------------------\ndistrict_level_english         | District                      \nward_level_english             | Ward                          "
     },
     "execution_count": 3,
     "metadata": {},
     "output_type": "execute_result"
    }
   ],
   "source": [
    "parse_address('Cuối đường kiều mai, dự án bệnh viện hạnh phúc  phường phú diễn quận bắc từ liêm hà nội')"
   ],
   "metadata": {
    "collapsed": false,
    "ExecuteTime": {
     "end_time": "2024-09-16T11:38:57.134083Z",
     "start_time": "2024-09-16T11:38:57.130644Z"
    }
   },
   "id": "ac59fdbd592726a1",
   "execution_count": 3
  },
  {
   "cell_type": "code",
   "outputs": [
    {
     "data": {
      "text/plain": "AdministrativeUnit:\nAttribute                      | Value                         \n--------------------------------------------------------------\nprovince                       | Đà Nẵng                       \ndistrict                       | Sơn Trà                       \nward                           | An Hải Bắc                    \n--------------------------------------------------------------\nlong_province                  | Thành phố Đà Nẵng             \nlong_district                  | Quận Sơn Trà                  \nlong_ward                      | Phường An Hải Bắc             \n--------------------------------------------------------------\nshort_district                 | Sơn Trà                       \nshort_ward                     | An Hải Bắc                    \n--------------------------------------------------------------\nprovince_english               | Da Nang                       \ndistrict_english               | Son Tra                       \nward_english                   | An Hai Bac                    \n--------------------------------------------------------------\nlong_province_english          | Da Nang City                  \nlong_district_english          | Son Tra District              \nlong_ward_english              | An Hai Bac Ward               \n--------------------------------------------------------------\nshort_district_english         | Son Tra                       \nshort_ward_english             | An Hai Bac                    \n--------------------------------------------------------------\ndistrict_level                 | Quận                          \nward_level                     | Phường                        \n--------------------------------------------------------------\ndistrict_level_english         | District                      \nward_level_english             | Ward                          "
     },
     "execution_count": 4,
     "metadata": {},
     "output_type": "execute_result"
    }
   ],
   "source": [
    "parse_address('03 Nguyễn Cao Luyện, An Hải Bắc, Sơn Trà, Đà Nẵng 550000, Việt Nam')"
   ],
   "metadata": {
    "collapsed": false,
    "ExecuteTime": {
     "end_time": "2024-09-16T11:38:57.138203Z",
     "start_time": "2024-09-16T11:38:57.135258Z"
    }
   },
   "id": "6fb98f74ac0bdf8d",
   "execution_count": 4
  },
  {
   "cell_type": "code",
   "outputs": [
    {
     "data": {
      "text/plain": "AdministrativeUnit:\nAttribute                      | Value                         \n--------------------------------------------------------------\nprovince                       | Hồ Chí Minh                   \ndistrict                       | Bình Chánh                    \nward                           | Phạm Văn Hai                  \n--------------------------------------------------------------\nlong_province                  | Thành phố Hồ Chí Minh         \nlong_district                  | Huyện Bình Chánh              \nlong_ward                      | Xã Phạm Văn Hai               \n--------------------------------------------------------------\nshort_district                 | Bình Chánh                    \nshort_ward                     | Phạm Văn Hai                  \n--------------------------------------------------------------\nprovince_english               | Ho Chi Minh                   \ndistrict_english               | Binh Chanh                    \nward_english                   | Pham Van Hai                  \n--------------------------------------------------------------\nlong_province_english          | Ho Chi Minh City              \nlong_district_english          | Binh Chanh District           \nlong_ward_english              | Pham Van Hai Commune          \n--------------------------------------------------------------\nshort_district_english         | Binh Chanh                    \nshort_ward_english             | Pham Van Hai                  \n--------------------------------------------------------------\ndistrict_level                 | Huyện                         \nward_level                     | Xã                            \n--------------------------------------------------------------\ndistrict_level_english         | District                      \nward_level_english             | Commune                       "
     },
     "execution_count": 5,
     "metadata": {},
     "output_type": "execute_result"
    }
   ],
   "source": [
    "parse_address('3c60/10 chợ cầu xấng, xã phạm văn hai, huyện bình chánh HCM')"
   ],
   "metadata": {
    "collapsed": false,
    "ExecuteTime": {
     "end_time": "2024-09-16T11:38:57.141326Z",
     "start_time": "2024-09-16T11:38:57.138767Z"
    }
   },
   "id": "960a61d68549fa75",
   "execution_count": 5
  },
  {
   "cell_type": "code",
   "outputs": [
    {
     "data": {
      "text/plain": "AdministrativeUnit:\nAttribute                      | Value                         \n--------------------------------------------------------------\nprovince                       | Hà Nội                        \ndistrict                       | Nam Từ Liêm                   \nward                           |                               \n--------------------------------------------------------------\nlong_province                  | Thành phố Hà Nội              \nlong_district                  | Quận Nam Từ Liêm              \nlong_ward                      |                               \n--------------------------------------------------------------\nshort_district                 | Nam Từ Liêm                   \nshort_ward                     |                               \n--------------------------------------------------------------\nprovince_english               | Ha Noi                        \ndistrict_english               | Nam Tu Liem                   \nward_english                   |                               \n--------------------------------------------------------------\nlong_province_english          | Ha Noi City                   \nlong_district_english          | Nam Tu Liem District          \nlong_ward_english              |                               \n--------------------------------------------------------------\nshort_district_english         | Nam Tu Liem                   \nshort_ward_english             |                               \n--------------------------------------------------------------\ndistrict_level                 | Quận                          \nward_level                     |                               \n--------------------------------------------------------------\ndistrict_level_english         | District                      \nward_level_english             |                               "
     },
     "execution_count": 6,
     "metadata": {},
     "output_type": "execute_result"
    }
   ],
   "source": [
    "parse_address('ngõ 154 Đình Thôn, phường Mỹ Đình, Quận Nam Từ Liêm, HN')"
   ],
   "metadata": {
    "collapsed": false,
    "ExecuteTime": {
     "end_time": "2024-09-16T11:38:57.144527Z",
     "start_time": "2024-09-16T11:38:57.141967Z"
    }
   },
   "id": "7ab4dc3d2c704933",
   "execution_count": 6
  },
  {
   "cell_type": "code",
   "outputs": [
    {
     "data": {
      "text/plain": "AdministrativeUnit:\nAttribute                      | Value                         \n--------------------------------------------------------------\nprovince                       | Hà Nội                        \ndistrict                       |                               \nward                           |                               \n--------------------------------------------------------------\nlong_province                  | Thành phố Hà Nội              \nlong_district                  |                               \nlong_ward                      |                               \n--------------------------------------------------------------\nshort_district                 |                               \nshort_ward                     |                               \n--------------------------------------------------------------\nprovince_english               | Ha Noi                        \ndistrict_english               |                               \nward_english                   |                               \n--------------------------------------------------------------\nlong_province_english          | Ha Noi City                   \nlong_district_english          |                               \nlong_ward_english              |                               \n--------------------------------------------------------------\nshort_district_english         |                               \nshort_ward_english             |                               \n--------------------------------------------------------------\ndistrict_level                 |                               \nward_level                     |                               \n--------------------------------------------------------------\ndistrict_level_english         |                               \nward_level_english             |                               "
     },
     "execution_count": 7,
     "metadata": {},
     "output_type": "execute_result"
    }
   ],
   "source": [
    "parse_address('ngõ 154 Đình Thôn, phường Mỹ Đình, Quận Nam Từ Liêm, HN', level=1)"
   ],
   "metadata": {
    "collapsed": false,
    "ExecuteTime": {
     "end_time": "2024-09-16T11:38:57.148230Z",
     "start_time": "2024-09-16T11:38:57.145148Z"
    }
   },
   "id": "661b50a5aeaf84f7",
   "execution_count": 7
  },
  {
   "cell_type": "code",
   "outputs": [
    {
     "data": {
      "text/plain": "AdministrativeUnit:\nAttribute                      | Value                         \n--------------------------------------------------------------\nprovince                       | Hà Nội                        \ndistrict                       | Gia Lâm                       \nward                           | Xã Yên Viên                   \n--------------------------------------------------------------\nlong_province                  | Thành phố Hà Nội              \nlong_district                  | Huyện Gia Lâm                 \nlong_ward                      | Xã Yên Viên                   \n--------------------------------------------------------------\nshort_district                 | Gia Lâm                       \nshort_ward                     | Yên Viên                      \n--------------------------------------------------------------\nprovince_english               | Ha Noi                        \ndistrict_english               | Gia Lam                       \nward_english                   | Yen Vien Commune              \n--------------------------------------------------------------\nlong_province_english          | Ha Noi City                   \nlong_district_english          | Gia Lam District              \nlong_ward_english              | Yen Vien Commune              \n--------------------------------------------------------------\nshort_district_english         | Gia Lam                       \nshort_ward_english             | Yen Vien                      \n--------------------------------------------------------------\ndistrict_level                 | Huyện                         \nward_level                     | Xã                            \n--------------------------------------------------------------\ndistrict_level_english         | District                      \nward_level_english             | Commune                       "
     },
     "execution_count": 8,
     "metadata": {},
     "output_type": "execute_result"
    }
   ],
   "source": [
    "parse_address('Ha Noi, Gia Lam, Yen Vien')"
   ],
   "metadata": {
    "collapsed": false,
    "ExecuteTime": {
     "end_time": "2024-09-16T11:38:57.151353Z",
     "start_time": "2024-09-16T11:38:57.149046Z"
    }
   },
   "id": "8928a354ab16a274",
   "execution_count": 8
  },
  {
   "cell_type": "markdown",
   "source": [
    "# Check wrong or missing in bulk"
   ],
   "metadata": {
    "collapsed": false
   },
   "id": "3f7ebf254ffba569"
  },
  {
   "cell_type": "code",
   "outputs": [],
   "source": [
    "df = pd.read_csv('../data/input/danhmuchanhchinhgso.gov.vn.csv')"
   ],
   "metadata": {
    "collapsed": false,
    "ExecuteTime": {
     "end_time": "2024-09-16T11:38:57.172703Z",
     "start_time": "2024-09-16T11:38:57.151923Z"
    }
   },
   "id": "19018c4a3a7f3491",
   "execution_count": 9
  },
  {
   "cell_type": "code",
   "outputs": [],
   "source": [
    "df['district_address'] = df['long_district'] + ', ' + df['long_province']\n",
    "district_addresses = df['district_address'].tolist()\n",
    "\n",
    "for address in district_addresses:\n",
    "    try:\n",
    "        unit = parse_address(address, level=2)\n",
    "    except:\n",
    "        print(address)\n",
    "    if unit.province == None:\n",
    "        print(address)\n",
    "    elif unit.district == None:\n",
    "        print(address)"
   ],
   "metadata": {
    "collapsed": false,
    "ExecuteTime": {
     "end_time": "2024-09-16T11:38:57.283148Z",
     "start_time": "2024-09-16T11:38:57.175010Z"
    }
   },
   "id": "10f1c4f277648450",
   "execution_count": 10
  },
  {
   "cell_type": "code",
   "outputs": [],
   "source": [
    "df['ward_address'] = df['long_ward'].fillna('') + ', ' + df['long_district'] + ', ' + df['long_province']\n",
    "ward_addresses = df['ward_address'].dropna().tolist()\n",
    "miss = []\n",
    "for ward_address in ward_addresses:\n",
    "    unit = parse_address(ward_address, level=3)\n",
    "\n",
    "    if unit.province == None:\n",
    "        print(ward_address)\n",
    "    elif unit.district == None:\n",
    "        print(ward_address)\n",
    "    elif unit.ward == None and unit.district_key not in ['bachlongvi', 'conco', 'hoangsa', 'lyson', 'condao']:\n",
    "        print(ward_address)\n"
   ],
   "metadata": {
    "collapsed": false,
    "ExecuteTime": {
     "end_time": "2024-09-16T11:41:45.135197Z",
     "start_time": "2024-09-16T11:41:44.874772Z"
    }
   },
   "id": "2ce0c17cd4128a3f",
   "execution_count": 18
  }
 ],
 "metadata": {
  "kernelspec": {
   "display_name": "Python 3",
   "language": "python",
   "name": "python3"
  },
  "language_info": {
   "codemirror_mode": {
    "name": "ipython",
    "version": 2
   },
   "file_extension": ".py",
   "mimetype": "text/x-python",
   "name": "python",
   "nbconvert_exporter": "python",
   "pygments_lexer": "ipython2",
   "version": "2.7.6"
  }
 },
 "nbformat": 4,
 "nbformat_minor": 5
}
