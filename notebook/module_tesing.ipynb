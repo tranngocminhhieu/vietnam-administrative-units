{
 "cells": [
  {
   "cell_type": "code",
   "execution_count": 1,
   "id": "initial_id",
   "metadata": {
    "collapsed": true,
    "ExecuteTime": {
     "end_time": "2024-09-13T21:34:31.553393Z",
     "start_time": "2024-09-13T21:34:30.652411Z"
    }
   },
   "outputs": [],
   "source": [
    "from vnau_parser import parse_address\n",
    "import pandas as pd\n",
    "import re"
   ]
  },
  {
   "cell_type": "markdown",
   "source": [
    "# Demo"
   ],
   "metadata": {
    "collapsed": false
   },
   "id": "5a2fae1f4817088b"
  },
  {
   "cell_type": "code",
   "outputs": [
    {
     "data": {
      "text/plain": "AdministrativeUnit(province=Hà Nội, district=Thanh Xuân, province_english=Ha Noi, district_english=Thanh Xuan, ward={'ward': 'Thượng Đình', 'long_ward': 'Phường Thượng Đình', 'short_ward': 'Thượng Đình', 'ward_english': 'Thuong Dinh', 'long_ward_english': 'Thuong Dinh Ward', 'short_ward_english': 'Thuong Dinh', 'ward_level': 'Phường', 'ward_level_english': 'Ward', 'ward_key': 'thuongdinh'})"
     },
     "execution_count": 2,
     "metadata": {},
     "output_type": "execute_result"
    }
   ],
   "source": [
    "parse_address('Ngã Tư Sở Market, Đường Nguyễn Trãi, Thượng Đình Số nhà 28A, Ngõ 72 Nguyễn Trãi , , Phường Thượng Đình, Quận Thanh Xuân , Hà Nội Quận Thanh Xuân')"
   ],
   "metadata": {
    "collapsed": false,
    "ExecuteTime": {
     "end_time": "2024-09-13T21:34:31.565289Z",
     "start_time": "2024-09-13T21:34:31.555227Z"
    }
   },
   "id": "ccfcb3feb70b601d",
   "execution_count": 2
  },
  {
   "cell_type": "code",
   "outputs": [],
   "source": [
    "parse_address('Cuối đường kiều mai, dự án bệnh viện hạnh phúc  phường phú diễn quận bắc từ liêm hà nội')"
   ],
   "metadata": {
    "collapsed": false
   },
   "id": "ac59fdbd592726a1",
   "execution_count": null
  },
  {
   "cell_type": "code",
   "outputs": [],
   "source": [
    "parse_address('03 Nguyễn Cao Luyện, An Hải Bắc, Sơn Trà, Đà Nẵng 550000, Việt Nam')"
   ],
   "metadata": {
    "collapsed": false
   },
   "id": "6fb98f74ac0bdf8d",
   "execution_count": null
  },
  {
   "cell_type": "code",
   "outputs": [],
   "source": [
    "parse_address('3c60/10 chợ cầu xấng, xã phạm văn hai, huyện bình chánh HCM')"
   ],
   "metadata": {
    "collapsed": false
   },
   "id": "960a61d68549fa75",
   "execution_count": null
  },
  {
   "cell_type": "code",
   "outputs": [],
   "source": [
    "parse_address('ngõ 154 Đình Thôn, phường Mỹ Đình, Quận Nam Từ Liêm, HN')"
   ],
   "metadata": {
    "collapsed": false
   },
   "id": "7ab4dc3d2c704933",
   "execution_count": null
  },
  {
   "cell_type": "code",
   "outputs": [],
   "source": [
    "parse_address('ngõ 154 Đình Thôn, phường Mỹ Đình, Quận Nam Từ Liêm, HN', level=1)"
   ],
   "metadata": {
    "collapsed": false
   },
   "id": "661b50a5aeaf84f7",
   "execution_count": null
  },
  {
   "cell_type": "markdown",
   "source": [
    "# Check wrong or missing in bulk"
   ],
   "metadata": {
    "collapsed": false
   },
   "id": "3f7ebf254ffba569"
  },
  {
   "cell_type": "code",
   "outputs": [],
   "source": [
    "df = pd.read_csv('../data/input/danhmuchanhchinhgso.gov.vn.csv')"
   ],
   "metadata": {
    "collapsed": false
   },
   "id": "19018c4a3a7f3491",
   "execution_count": null
  },
  {
   "cell_type": "code",
   "outputs": [],
   "source": [
    "df"
   ],
   "metadata": {
    "collapsed": false
   },
   "id": "19b5681f4b64c970",
   "execution_count": null
  },
  {
   "cell_type": "code",
   "outputs": [],
   "source": [
    "df['address'] = df['long_district'] + ', ' + df['long_province']"
   ],
   "metadata": {
    "collapsed": false
   },
   "id": "b3b949a17d308bde",
   "execution_count": null
  },
  {
   "cell_type": "code",
   "outputs": [],
   "source": [
    "addresses = df['address'].tolist()"
   ],
   "metadata": {
    "collapsed": false
   },
   "id": "c985bc2ac136a597",
   "execution_count": null
  },
  {
   "cell_type": "code",
   "outputs": [],
   "source": [
    "for address in addresses:\n",
    "    try:\n",
    "        unit = parse_address(address, level=2)\n",
    "    except:\n",
    "        print(address)\n",
    "    if unit.province == None:\n",
    "        print(address)\n",
    "    elif unit.district == None:\n",
    "        print(address)"
   ],
   "metadata": {
    "collapsed": false
   },
   "id": "10f1c4f277648450",
   "execution_count": null
  }
 ],
 "metadata": {
  "kernelspec": {
   "display_name": "Python 3",
   "language": "python",
   "name": "python3"
  },
  "language_info": {
   "codemirror_mode": {
    "name": "ipython",
    "version": 2
   },
   "file_extension": ".py",
   "mimetype": "text/x-python",
   "name": "python",
   "nbconvert_exporter": "python",
   "pygments_lexer": "ipython2",
   "version": "2.7.6"
  }
 },
 "nbformat": 4,
 "nbformat_minor": 5
}
