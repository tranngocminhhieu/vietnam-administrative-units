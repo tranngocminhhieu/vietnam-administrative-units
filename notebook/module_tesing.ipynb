{
 "cells": [
  {
   "cell_type": "code",
   "execution_count": 1,
   "id": "initial_id",
   "metadata": {
    "collapsed": true,
    "ExecuteTime": {
     "end_time": "2024-09-13T20:55:58.561122Z",
     "start_time": "2024-09-13T20:55:57.882714Z"
    }
   },
   "outputs": [],
   "source": [
    "from vnau_parser import parse_address\n",
    "import pandas as pd\n",
    "import re"
   ]
  },
  {
   "cell_type": "markdown",
   "source": [
    "# Demo"
   ],
   "metadata": {
    "collapsed": false
   },
   "id": "5a2fae1f4817088b"
  },
  {
   "cell_type": "code",
   "outputs": [
    {
     "data": {
      "text/plain": "AdministrativeUnit(province=Hà Nội, district=Thanh Xuân, province_english=Ha Noi, district_english=Thanh Xuan, ward={'ward': 'Thượng Đình', 'long_ward': 'Phường Thượng Đình', 'short_ward': 'Thượng Đình', 'ward_english': 'Thuong Dinh', 'long_ward_english': 'Thuong Dinh Ward', 'short_ward_english': 'Thuong Dinh', 'ward_level': 'Phường', 'ward_level_english': 'Ward', 'ward_key': 'thuongdinh'})"
     },
     "execution_count": 2,
     "metadata": {},
     "output_type": "execute_result"
    }
   ],
   "source": [
    "parse_address('Ngã Tư Sở Market, Đường Nguyễn Trãi, Thượng Đình Số nhà 28A, Ngõ 72 Nguyễn Trãi , , Phường Thượng Đình, Quận Thanh Xuân , Hà Nội Quận Thanh Xuân')"
   ],
   "metadata": {
    "collapsed": false,
    "ExecuteTime": {
     "end_time": "2024-09-13T20:55:59.796853Z",
     "start_time": "2024-09-13T20:55:59.782277Z"
    }
   },
   "id": "ccfcb3feb70b601d",
   "execution_count": 2
  },
  {
   "cell_type": "code",
   "outputs": [
    {
     "data": {
      "text/plain": "AdministrativeUnit(province=Hà Nội, district=Bắc Từ Liêm, province_english=Ha Noi, district_english=Bac Tu Liem, ward={'ward': 'Phú Diễn', 'long_ward': 'Phường Phú Diễn', 'short_ward': 'Phú Diễn', 'ward_english': 'Phu Dien', 'long_ward_english': 'Phu Dien Ward', 'short_ward_english': 'Phu Dien', 'ward_level': 'Phường', 'ward_level_english': 'Ward', 'ward_key': 'phudien'})"
     },
     "execution_count": 3,
     "metadata": {},
     "output_type": "execute_result"
    }
   ],
   "source": [
    "parse_address('Cuối đường kiều mai, dự án bệnh viện hạnh phúc  phường phú diễn quận bắc từ liêm hà nội')"
   ],
   "metadata": {
    "collapsed": false,
    "ExecuteTime": {
     "end_time": "2024-09-13T20:56:12.418487Z",
     "start_time": "2024-09-13T20:56:12.413769Z"
    }
   },
   "id": "ac59fdbd592726a1",
   "execution_count": 3
  },
  {
   "cell_type": "code",
   "outputs": [
    {
     "data": {
      "text/plain": "AdministrativeUnit(province=Đà Nẵng, district=Sơn Trà, province_english=Da Nang, district_english=Son Tra, ward={'ward': 'An Hải Bắc', 'long_ward': 'Phường An Hải Bắc', 'short_ward': 'An Hải Bắc', 'ward_english': 'An Hai Bac', 'long_ward_english': 'An Hai Bac Ward', 'short_ward_english': 'An Hai Bac', 'ward_level': 'Phường', 'ward_level_english': 'Ward', 'ward_key': 'anhaibac'})"
     },
     "execution_count": 4,
     "metadata": {},
     "output_type": "execute_result"
    }
   ],
   "source": [
    "parse_address('03 Nguyễn Cao Luyện, An Hải Bắc, Sơn Trà, Đà Nẵng 550000, Việt Nam')"
   ],
   "metadata": {
    "collapsed": false,
    "ExecuteTime": {
     "end_time": "2024-09-13T20:56:16.052755Z",
     "start_time": "2024-09-13T20:56:16.043741Z"
    }
   },
   "id": "6fb98f74ac0bdf8d",
   "execution_count": 4
  },
  {
   "cell_type": "code",
   "outputs": [
    {
     "data": {
      "text/plain": "AdministrativeUnit(province=Hồ Chí Minh, district=Bình Chánh, province_english=Ho Chi Minh, district_english=Binh Chanh, ward={'ward': 'Phạm Văn Hai', 'long_ward': 'Xã Phạm Văn Hai', 'short_ward': 'Phạm Văn Hai', 'ward_english': 'Pham Van Hai', 'long_ward_english': 'Pham Van Hai Commune', 'short_ward_english': 'Pham Van Hai', 'ward_level': 'Xã', 'ward_level_english': 'Commune', 'ward_key': 'phamvanhai'})"
     },
     "execution_count": 5,
     "metadata": {},
     "output_type": "execute_result"
    }
   ],
   "source": [
    "parse_address('3c60/10 chợ cầu xấng, xã phạm văn hai, huyện bình chánh HCM')"
   ],
   "metadata": {
    "collapsed": false,
    "ExecuteTime": {
     "end_time": "2024-09-13T20:56:21.575526Z",
     "start_time": "2024-09-13T20:56:21.570961Z"
    }
   },
   "id": "960a61d68549fa75",
   "execution_count": 5
  },
  {
   "cell_type": "code",
   "outputs": [
    {
     "data": {
      "text/plain": "AdministrativeUnit(province=Hà Nội, district=Nam Từ Liêm, province_english=Ha Noi, district_english=Nam Tu Liem, ward=None)"
     },
     "execution_count": 6,
     "metadata": {},
     "output_type": "execute_result"
    }
   ],
   "source": [
    "parse_address('ngõ 154 Đình Thôn, phường Mỹ Đình, Quận Nam Từ Liêm, HN')"
   ],
   "metadata": {
    "collapsed": false,
    "ExecuteTime": {
     "end_time": "2024-09-13T20:56:33.240301Z",
     "start_time": "2024-09-13T20:56:33.231438Z"
    }
   },
   "id": "7ab4dc3d2c704933",
   "execution_count": 6
  },
  {
   "cell_type": "code",
   "outputs": [
    {
     "data": {
      "text/plain": "AdministrativeUnit(province=Hà Nội, district=None, province_english=Ha Noi, district_english=None, ward=None)"
     },
     "execution_count": 7,
     "metadata": {},
     "output_type": "execute_result"
    }
   ],
   "source": [
    "parse_address('ngõ 154 Đình Thôn, phường Mỹ Đình, Quận Nam Từ Liêm, HN', level=1)"
   ],
   "metadata": {
    "collapsed": false,
    "ExecuteTime": {
     "end_time": "2024-09-13T20:56:43.812331Z",
     "start_time": "2024-09-13T20:56:43.807281Z"
    }
   },
   "id": "661b50a5aeaf84f7",
   "execution_count": 7
  },
  {
   "cell_type": "markdown",
   "source": [
    "# Check wrong or missing in bulk"
   ],
   "metadata": {
    "collapsed": false
   },
   "id": "3f7ebf254ffba569"
  },
  {
   "cell_type": "code",
   "outputs": [],
   "source": [
    "df = pd.read_csv('../data/input/danhmuchanhchinhgso.gov.vn.csv')"
   ],
   "metadata": {
    "collapsed": false
   },
   "id": "19018c4a3a7f3491",
   "execution_count": null
  },
  {
   "cell_type": "code",
   "outputs": [],
   "source": [
    "df"
   ],
   "metadata": {
    "collapsed": false
   },
   "id": "19b5681f4b64c970",
   "execution_count": null
  },
  {
   "cell_type": "code",
   "outputs": [],
   "source": [
    "df['address'] = df['long_district'] + ', ' + df['long_province']"
   ],
   "metadata": {
    "collapsed": false
   },
   "id": "b3b949a17d308bde",
   "execution_count": null
  },
  {
   "cell_type": "code",
   "outputs": [],
   "source": [
    "addresses = df['address'].tolist()"
   ],
   "metadata": {
    "collapsed": false
   },
   "id": "c985bc2ac136a597",
   "execution_count": null
  },
  {
   "cell_type": "code",
   "outputs": [],
   "source": [
    "for address in addresses:\n",
    "    try:\n",
    "        unit = parse_address(address, level=2)\n",
    "    except:\n",
    "        print(address)\n",
    "    if unit.province == None:\n",
    "        print(address)\n",
    "    elif unit.district == None:\n",
    "        print(address)"
   ],
   "metadata": {
    "collapsed": false
   },
   "id": "10f1c4f277648450",
   "execution_count": null
  }
 ],
 "metadata": {
  "kernelspec": {
   "display_name": "Python 3",
   "language": "python",
   "name": "python3"
  },
  "language_info": {
   "codemirror_mode": {
    "name": "ipython",
    "version": 2
   },
   "file_extension": ".py",
   "mimetype": "text/x-python",
   "name": "python",
   "nbconvert_exporter": "python",
   "pygments_lexer": "ipython2",
   "version": "2.7.6"
  }
 },
 "nbformat": 4,
 "nbformat_minor": 5
}
