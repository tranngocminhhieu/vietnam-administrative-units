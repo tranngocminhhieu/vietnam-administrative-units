{
 "cells": [
  {
   "cell_type": "code",
   "execution_count": 23,
   "id": "initial_id",
   "metadata": {
    "collapsed": true,
    "ExecuteTime": {
     "end_time": "2024-09-13T14:31:49.837027Z",
     "start_time": "2024-09-13T14:31:49.831546Z"
    }
   },
   "outputs": [],
   "source": [
    "from vnau_parser import parse_address\n",
    "import pandas as pd\n",
    "import re"
   ]
  },
  {
   "cell_type": "markdown",
   "source": [
    "# Demo"
   ],
   "metadata": {
    "collapsed": false
   },
   "id": "5a2fae1f4817088b"
  },
  {
   "cell_type": "code",
   "outputs": [
    {
     "data": {
      "text/plain": "AdministrativeUnit(province=Hà Nội, district=Thanh Xuân, province_english=Ha Noi, district_english=Thanh Xuan)"
     },
     "execution_count": 2,
     "metadata": {},
     "output_type": "execute_result"
    }
   ],
   "source": [
    "parse_address('Ngã Tư Sở Market, Đường Nguyễn Trãi, Thượng Đình Số nhà 28A, Ngõ 72 Nguyễn Trãi , , Phường Thượng Đình, Quận Thanh Xuân , Hà Nội Quận Thanh Xuân')"
   ],
   "metadata": {
    "collapsed": false,
    "ExecuteTime": {
     "end_time": "2024-09-13T14:08:04.369376Z",
     "start_time": "2024-09-13T14:08:04.362249Z"
    }
   },
   "id": "ccfcb3feb70b601d",
   "execution_count": 2
  },
  {
   "cell_type": "code",
   "outputs": [
    {
     "data": {
      "text/plain": "AdministrativeUnit(province=Hà Nội, district=Bắc Từ Liêm, province_english=Ha Noi, district_english=Bac Tu Liem)"
     },
     "execution_count": 3,
     "metadata": {},
     "output_type": "execute_result"
    }
   ],
   "source": [
    "parse_address('Cuối đường kiều mai, dự án bệnh viện hạnh phúc  phường phú diễn quận bắc từ liêm hà nội')"
   ],
   "metadata": {
    "collapsed": false,
    "ExecuteTime": {
     "end_time": "2024-09-13T14:08:05.891966Z",
     "start_time": "2024-09-13T14:08:05.886414Z"
    }
   },
   "id": "ac59fdbd592726a1",
   "execution_count": 3
  },
  {
   "cell_type": "code",
   "outputs": [
    {
     "data": {
      "text/plain": "AdministrativeUnit(province=Đà Nẵng, district=Sơn Trà, province_english=Da Nang, district_english=Son Tra)"
     },
     "execution_count": 4,
     "metadata": {},
     "output_type": "execute_result"
    }
   ],
   "source": [
    "parse_address('03 Nguyễn Cao Luyện, An Hải Bắc, Sơn Trà, Đà Nẵng 550000, Việt Nam')"
   ],
   "metadata": {
    "collapsed": false,
    "ExecuteTime": {
     "end_time": "2024-09-13T14:08:08.232619Z",
     "start_time": "2024-09-13T14:08:08.226610Z"
    }
   },
   "id": "6fb98f74ac0bdf8d",
   "execution_count": 4
  },
  {
   "cell_type": "code",
   "outputs": [
    {
     "data": {
      "text/plain": "AdministrativeUnit(province=Hồ Chí Minh, district=Bình Chánh, province_english=Ho Chi Minh, district_english=Binh Chanh)"
     },
     "execution_count": 5,
     "metadata": {},
     "output_type": "execute_result"
    }
   ],
   "source": [
    "parse_address('3c60/10 chợ cầu xấng, xã phạm văn hai, huyện bình chánh HCM')"
   ],
   "metadata": {
    "collapsed": false,
    "ExecuteTime": {
     "end_time": "2024-09-13T14:08:10.305173Z",
     "start_time": "2024-09-13T14:08:10.299934Z"
    }
   },
   "id": "960a61d68549fa75",
   "execution_count": 5
  },
  {
   "cell_type": "code",
   "outputs": [
    {
     "data": {
      "text/plain": "AdministrativeUnit(province=Hà Nội, district=Nam Từ Liêm, province_english=Ha Noi, district_english=Nam Tu Liem)"
     },
     "execution_count": 6,
     "metadata": {},
     "output_type": "execute_result"
    }
   ],
   "source": [
    "parse_address('ngõ 154 Đình Thôn, phường Mỹ Đình, Quận Nam Từ Liêm, HN')"
   ],
   "metadata": {
    "collapsed": false,
    "ExecuteTime": {
     "end_time": "2024-09-13T14:08:12.220039Z",
     "start_time": "2024-09-13T14:08:12.213841Z"
    }
   },
   "id": "7ab4dc3d2c704933",
   "execution_count": 6
  },
  {
   "cell_type": "code",
   "outputs": [
    {
     "data": {
      "text/plain": "AdministrativeUnit(province=Hà Nội, district=None, province_english=Ha Noi, district_english=None)"
     },
     "execution_count": 7,
     "metadata": {},
     "output_type": "execute_result"
    }
   ],
   "source": [
    "parse_address('ngõ 154 Đình Thôn, phường Mỹ Đình, Quận Nam Từ Liêm, HN', level=1)"
   ],
   "metadata": {
    "collapsed": false,
    "ExecuteTime": {
     "end_time": "2024-09-13T14:08:13.464213Z",
     "start_time": "2024-09-13T14:08:13.458222Z"
    }
   },
   "id": "661b50a5aeaf84f7",
   "execution_count": 7
  },
  {
   "cell_type": "markdown",
   "source": [
    "# Check wrong or missing in bulk"
   ],
   "metadata": {
    "collapsed": false
   },
   "id": "3f7ebf254ffba569"
  },
  {
   "cell_type": "code",
   "outputs": [],
   "source": [
    "df = pd.read_csv('../data/input/danhmuchanhchinhgso.gov.vn.csv')"
   ],
   "metadata": {
    "collapsed": false,
    "ExecuteTime": {
     "end_time": "2024-09-13T14:29:14.048103Z",
     "start_time": "2024-09-13T14:29:13.999194Z"
    }
   },
   "id": "19018c4a3a7f3491",
   "execution_count": 15
  },
  {
   "cell_type": "code",
   "outputs": [
    {
     "data": {
      "text/plain": "               province         district               ward ward_level\n0      Thành phố Hà Nội     Quận Ba Đình     Phường Phúc Xá     Phường\n1      Thành phố Hà Nội     Quận Ba Đình   Phường Trúc Bạch     Phường\n2      Thành phố Hà Nội     Quận Ba Đình   Phường Vĩnh Phúc     Phường\n3      Thành phố Hà Nội     Quận Ba Đình     Phường Cống Vị     Phường\n4      Thành phố Hà Nội     Quận Ba Đình   Phường Liễu Giai     Phường\n...                 ...              ...                ...        ...\n10542       Tỉnh Cà Mau  Huyện Ngọc Hiển    Xã Viên An Đông         Xã\n10543       Tỉnh Cà Mau  Huyện Ngọc Hiển         Xã Viên An         Xã\n10544       Tỉnh Cà Mau  Huyện Ngọc Hiển  Thị trấn Rạch Gốc   Thị trấn\n10545       Tỉnh Cà Mau  Huyện Ngọc Hiển          Xã Tân Ân         Xã\n10546       Tỉnh Cà Mau  Huyện Ngọc Hiển         Xã Đất Mũi         Xã\n\n[10547 rows x 4 columns]",
      "text/html": "<div>\n<style scoped>\n    .dataframe tbody tr th:only-of-type {\n        vertical-align: middle;\n    }\n\n    .dataframe tbody tr th {\n        vertical-align: top;\n    }\n\n    .dataframe thead th {\n        text-align: right;\n    }\n</style>\n<table border=\"1\" class=\"dataframe\">\n  <thead>\n    <tr style=\"text-align: right;\">\n      <th></th>\n      <th>province</th>\n      <th>district</th>\n      <th>ward</th>\n      <th>ward_level</th>\n    </tr>\n  </thead>\n  <tbody>\n    <tr>\n      <th>0</th>\n      <td>Thành phố Hà Nội</td>\n      <td>Quận Ba Đình</td>\n      <td>Phường Phúc Xá</td>\n      <td>Phường</td>\n    </tr>\n    <tr>\n      <th>1</th>\n      <td>Thành phố Hà Nội</td>\n      <td>Quận Ba Đình</td>\n      <td>Phường Trúc Bạch</td>\n      <td>Phường</td>\n    </tr>\n    <tr>\n      <th>2</th>\n      <td>Thành phố Hà Nội</td>\n      <td>Quận Ba Đình</td>\n      <td>Phường Vĩnh Phúc</td>\n      <td>Phường</td>\n    </tr>\n    <tr>\n      <th>3</th>\n      <td>Thành phố Hà Nội</td>\n      <td>Quận Ba Đình</td>\n      <td>Phường Cống Vị</td>\n      <td>Phường</td>\n    </tr>\n    <tr>\n      <th>4</th>\n      <td>Thành phố Hà Nội</td>\n      <td>Quận Ba Đình</td>\n      <td>Phường Liễu Giai</td>\n      <td>Phường</td>\n    </tr>\n    <tr>\n      <th>...</th>\n      <td>...</td>\n      <td>...</td>\n      <td>...</td>\n      <td>...</td>\n    </tr>\n    <tr>\n      <th>10542</th>\n      <td>Tỉnh Cà Mau</td>\n      <td>Huyện Ngọc Hiển</td>\n      <td>Xã Viên An Đông</td>\n      <td>Xã</td>\n    </tr>\n    <tr>\n      <th>10543</th>\n      <td>Tỉnh Cà Mau</td>\n      <td>Huyện Ngọc Hiển</td>\n      <td>Xã Viên An</td>\n      <td>Xã</td>\n    </tr>\n    <tr>\n      <th>10544</th>\n      <td>Tỉnh Cà Mau</td>\n      <td>Huyện Ngọc Hiển</td>\n      <td>Thị trấn Rạch Gốc</td>\n      <td>Thị trấn</td>\n    </tr>\n    <tr>\n      <th>10545</th>\n      <td>Tỉnh Cà Mau</td>\n      <td>Huyện Ngọc Hiển</td>\n      <td>Xã Tân Ân</td>\n      <td>Xã</td>\n    </tr>\n    <tr>\n      <th>10546</th>\n      <td>Tỉnh Cà Mau</td>\n      <td>Huyện Ngọc Hiển</td>\n      <td>Xã Đất Mũi</td>\n      <td>Xã</td>\n    </tr>\n  </tbody>\n</table>\n<p>10547 rows × 4 columns</p>\n</div>"
     },
     "execution_count": 16,
     "metadata": {},
     "output_type": "execute_result"
    }
   ],
   "source": [
    "df"
   ],
   "metadata": {
    "collapsed": false,
    "ExecuteTime": {
     "end_time": "2024-09-13T14:29:15.679099Z",
     "start_time": "2024-09-13T14:29:15.670968Z"
    }
   },
   "id": "19b5681f4b64c970",
   "execution_count": 16
  },
  {
   "cell_type": "code",
   "outputs": [],
   "source": [
    "df['address'] = df['district'] + ', ' + df['province']"
   ],
   "metadata": {
    "collapsed": false,
    "ExecuteTime": {
     "end_time": "2024-09-13T14:29:21.513605Z",
     "start_time": "2024-09-13T14:29:21.503919Z"
    }
   },
   "id": "b3b949a17d308bde",
   "execution_count": 17
  },
  {
   "cell_type": "code",
   "outputs": [],
   "source": [
    "addresses = df['address'].tolist()"
   ],
   "metadata": {
    "collapsed": false,
    "ExecuteTime": {
     "end_time": "2024-09-13T14:29:21.966187Z",
     "start_time": "2024-09-13T14:29:21.963160Z"
    }
   },
   "id": "c985bc2ac136a597",
   "execution_count": 18
  },
  {
   "cell_type": "code",
   "outputs": [],
   "source": [
    "for address in addresses:\n",
    "    try:\n",
    "        unit = parse_address(address, level=2)\n",
    "    except:\n",
    "        print(address)\n",
    "    if unit.province == None:\n",
    "        print(address)\n",
    "    elif unit.district == None:\n",
    "        print(address)"
   ],
   "metadata": {
    "collapsed": false,
    "ExecuteTime": {
     "end_time": "2024-09-13T14:29:37.731346Z",
     "start_time": "2024-09-13T14:29:37.602838Z"
    }
   },
   "id": "10f1c4f277648450",
   "execution_count": 20
  },
  {
   "cell_type": "code",
   "outputs": [
    {
     "data": {
      "text/plain": "Empty DataFrame\nColumns: [province, district, ward, ward_level, address]\nIndex: []",
      "text/html": "<div>\n<style scoped>\n    .dataframe tbody tr th:only-of-type {\n        vertical-align: middle;\n    }\n\n    .dataframe tbody tr th {\n        vertical-align: top;\n    }\n\n    .dataframe thead th {\n        text-align: right;\n    }\n</style>\n<table border=\"1\" class=\"dataframe\">\n  <thead>\n    <tr style=\"text-align: right;\">\n      <th></th>\n      <th>province</th>\n      <th>district</th>\n      <th>ward</th>\n      <th>ward_level</th>\n      <th>address</th>\n    </tr>\n  </thead>\n  <tbody>\n  </tbody>\n</table>\n</div>"
     },
     "execution_count": 22,
     "metadata": {},
     "output_type": "execute_result"
    }
   ],
   "source": [
    "df[df.ward.fillna('').str.contains('-')]"
   ],
   "metadata": {
    "collapsed": false,
    "ExecuteTime": {
     "end_time": "2024-09-13T14:31:30.019284Z",
     "start_time": "2024-09-13T14:31:29.988936Z"
    }
   },
   "id": "29e3d43a26713fde",
   "execution_count": 22
  },
  {
   "cell_type": "code",
   "outputs": [
    {
     "data": {
      "text/plain": "ward_level\nXã          8149\nPhường      1775\nThị trấn     618\nHuyện          5\nName: count, dtype: int64"
     },
     "execution_count": 52,
     "metadata": {},
     "output_type": "execute_result"
    }
   ],
   "source": [
    "df.ward_level.value_counts()"
   ],
   "metadata": {
    "collapsed": false,
    "ExecuteTime": {
     "end_time": "2024-09-13T14:56:24.898997Z",
     "start_time": "2024-09-13T14:56:24.868426Z"
    }
   },
   "id": "a6a58d0ecd6b480c",
   "execution_count": 52
  },
  {
   "cell_type": "code",
   "outputs": [],
   "source": [
    "def clean_ward(text):\n",
    "    if not isinstance(text, str):\n",
    "        return text\n",
    "    c_text = re.sub(r'^Phường |^Thị trấn |^Xã |^Huyện', '', text, flags=re.IGNORECASE)\n",
    "    return c_text"
   ],
   "metadata": {
    "collapsed": false,
    "ExecuteTime": {
     "end_time": "2024-09-13T14:33:51.712527Z",
     "start_time": "2024-09-13T14:33:51.705797Z"
    }
   },
   "id": "925e6ac88d0c8460",
   "execution_count": 27
  },
  {
   "cell_type": "code",
   "outputs": [],
   "source": [
    "df['ward_clean'] = df['ward'].apply(clean_ward)"
   ],
   "metadata": {
    "collapsed": false,
    "ExecuteTime": {
     "end_time": "2024-09-13T14:33:52.289183Z",
     "start_time": "2024-09-13T14:33:52.276028Z"
    }
   },
   "id": "7fba40ac218009ec",
   "execution_count": 28
  },
  {
   "cell_type": "code",
   "outputs": [],
   "source": [
    "ward_count = df[['province', 'district', 'ward_clean']].value_counts().reset_index()"
   ],
   "metadata": {
    "collapsed": false,
    "ExecuteTime": {
     "end_time": "2024-09-13T14:50:55.210867Z",
     "start_time": "2024-09-13T14:50:55.194795Z"
    }
   },
   "id": "3c02b0577ce4fa16",
   "execution_count": 47
  },
  {
   "cell_type": "code",
   "outputs": [
    {
     "data": {
      "text/plain": "               province          district    ward_clean  count\n0           Tỉnh Cà Mau  Thành phố Cà Mau     Tân Thành      2\n1      Thành phố Hà Nội     Huyện Gia Lâm      Yên Viên      2\n2       Tỉnh Kiên Giang  Huyện Vĩnh Thuận    Vĩnh Thuận      2\n3         Tỉnh Lâm Đồng    Huyện Đạ Huoai    Ma Đa Guôi      2\n4        Tỉnh Sóc Trăng    Huyện Long Phú      Long Phú      2\n...                 ...               ...           ...    ...\n10518       Tỉnh Hà Nam     Huyện Lý Nhân      Xuân Khê      1\n10519       Tỉnh Hà Nam     Huyện Lý Nhân        Đạo Lý      1\n10520       Tỉnh Hà Nam     Huyện Lý Nhân        Đức Lý      1\n10521       Tỉnh Hà Nam  Huyện Thanh Liêm      Kiện Khê      1\n10522    Tỉnh Đồng Tháp  Thành phố Sa Đéc  Tân Quy Đông      1\n\n[10523 rows x 4 columns]",
      "text/html": "<div>\n<style scoped>\n    .dataframe tbody tr th:only-of-type {\n        vertical-align: middle;\n    }\n\n    .dataframe tbody tr th {\n        vertical-align: top;\n    }\n\n    .dataframe thead th {\n        text-align: right;\n    }\n</style>\n<table border=\"1\" class=\"dataframe\">\n  <thead>\n    <tr style=\"text-align: right;\">\n      <th></th>\n      <th>province</th>\n      <th>district</th>\n      <th>ward_clean</th>\n      <th>count</th>\n    </tr>\n  </thead>\n  <tbody>\n    <tr>\n      <th>0</th>\n      <td>Tỉnh Cà Mau</td>\n      <td>Thành phố Cà Mau</td>\n      <td>Tân Thành</td>\n      <td>2</td>\n    </tr>\n    <tr>\n      <th>1</th>\n      <td>Thành phố Hà Nội</td>\n      <td>Huyện Gia Lâm</td>\n      <td>Yên Viên</td>\n      <td>2</td>\n    </tr>\n    <tr>\n      <th>2</th>\n      <td>Tỉnh Kiên Giang</td>\n      <td>Huyện Vĩnh Thuận</td>\n      <td>Vĩnh Thuận</td>\n      <td>2</td>\n    </tr>\n    <tr>\n      <th>3</th>\n      <td>Tỉnh Lâm Đồng</td>\n      <td>Huyện Đạ Huoai</td>\n      <td>Ma Đa Guôi</td>\n      <td>2</td>\n    </tr>\n    <tr>\n      <th>4</th>\n      <td>Tỉnh Sóc Trăng</td>\n      <td>Huyện Long Phú</td>\n      <td>Long Phú</td>\n      <td>2</td>\n    </tr>\n    <tr>\n      <th>...</th>\n      <td>...</td>\n      <td>...</td>\n      <td>...</td>\n      <td>...</td>\n    </tr>\n    <tr>\n      <th>10518</th>\n      <td>Tỉnh Hà Nam</td>\n      <td>Huyện Lý Nhân</td>\n      <td>Xuân Khê</td>\n      <td>1</td>\n    </tr>\n    <tr>\n      <th>10519</th>\n      <td>Tỉnh Hà Nam</td>\n      <td>Huyện Lý Nhân</td>\n      <td>Đạo Lý</td>\n      <td>1</td>\n    </tr>\n    <tr>\n      <th>10520</th>\n      <td>Tỉnh Hà Nam</td>\n      <td>Huyện Lý Nhân</td>\n      <td>Đức Lý</td>\n      <td>1</td>\n    </tr>\n    <tr>\n      <th>10521</th>\n      <td>Tỉnh Hà Nam</td>\n      <td>Huyện Thanh Liêm</td>\n      <td>Kiện Khê</td>\n      <td>1</td>\n    </tr>\n    <tr>\n      <th>10522</th>\n      <td>Tỉnh Đồng Tháp</td>\n      <td>Thành phố Sa Đéc</td>\n      <td>Tân Quy Đông</td>\n      <td>1</td>\n    </tr>\n  </tbody>\n</table>\n<p>10523 rows × 4 columns</p>\n</div>"
     },
     "execution_count": 48,
     "metadata": {},
     "output_type": "execute_result"
    }
   ],
   "source": [
    "ward_count"
   ],
   "metadata": {
    "collapsed": false,
    "ExecuteTime": {
     "end_time": "2024-09-13T14:50:55.465537Z",
     "start_time": "2024-09-13T14:50:55.459498Z"
    }
   },
   "id": "5102ba2f06635827",
   "execution_count": 48
  },
  {
   "cell_type": "code",
   "outputs": [],
   "source": [
    "df_duplicated_wards = ward_count[ward_count['count'] > 1]"
   ],
   "metadata": {
    "collapsed": false,
    "ExecuteTime": {
     "end_time": "2024-09-13T14:51:10.968843Z",
     "start_time": "2024-09-13T14:51:10.964383Z"
    }
   },
   "id": "c315c51a95ec411a",
   "execution_count": 49
  },
  {
   "cell_type": "code",
   "outputs": [
    {
     "data": {
      "text/plain": "            province          district       ward_clean  count\n0        Tỉnh Cà Mau  Thành phố Cà Mau        Tân Thành      2\n1   Thành phố Hà Nội     Huyện Gia Lâm         Yên Viên      2\n2    Tỉnh Kiên Giang  Huyện Vĩnh Thuận       Vĩnh Thuận      2\n3      Tỉnh Lâm Đồng    Huyện Đạ Huoai       Ma Đa Guôi      2\n4     Tỉnh Sóc Trăng    Huyện Long Phú         Long Phú      2\n5       Tỉnh Yên Bái    Huyện Yên Bình         Yên Bình      2\n6     Tỉnh Đồng Tháp    Huyện Cao Lãnh           Mỹ Thọ      2\n7     Tỉnh Đồng Tháp   Huyện Tháp Mười            Mỹ An      2\n8        Tỉnh Sơn La     Huyện Mai Sơn          Hát Lót      2\n9      Tỉnh Lai Châu    Huyện Mường Tè         Mường Tè      2\n10     Tỉnh Trà Vinh      Huyện Trà Cú          Định An      2\n11     Tỉnh Lạng Sơn    Huyện Đình Lập         Đình Lập      2\n12       Tỉnh Cà Mau   Huyện Thới Bình        Thới Bình      2\n13    Tỉnh Sóc Trăng     Huyện Trần Đề  Lịch Hội Thượng      2\n14      Tỉnh Yên Bái    Huyện Trạm Tấu         Trạm Tấu      2\n15     Tỉnh Lạng Sơn    Huyện Chi Lăng         Chi Lăng      2\n16      Tỉnh Long An     Huyện Đức Hòa         Hiệp Hòa      2\n17   Tỉnh Quảng Ninh      Huyện Đầm Hà           Đầm Hà      2\n18     Tỉnh Bạc Liêu  Huyện Phước Long       Phước Long      2",
      "text/html": "<div>\n<style scoped>\n    .dataframe tbody tr th:only-of-type {\n        vertical-align: middle;\n    }\n\n    .dataframe tbody tr th {\n        vertical-align: top;\n    }\n\n    .dataframe thead th {\n        text-align: right;\n    }\n</style>\n<table border=\"1\" class=\"dataframe\">\n  <thead>\n    <tr style=\"text-align: right;\">\n      <th></th>\n      <th>province</th>\n      <th>district</th>\n      <th>ward_clean</th>\n      <th>count</th>\n    </tr>\n  </thead>\n  <tbody>\n    <tr>\n      <th>0</th>\n      <td>Tỉnh Cà Mau</td>\n      <td>Thành phố Cà Mau</td>\n      <td>Tân Thành</td>\n      <td>2</td>\n    </tr>\n    <tr>\n      <th>1</th>\n      <td>Thành phố Hà Nội</td>\n      <td>Huyện Gia Lâm</td>\n      <td>Yên Viên</td>\n      <td>2</td>\n    </tr>\n    <tr>\n      <th>2</th>\n      <td>Tỉnh Kiên Giang</td>\n      <td>Huyện Vĩnh Thuận</td>\n      <td>Vĩnh Thuận</td>\n      <td>2</td>\n    </tr>\n    <tr>\n      <th>3</th>\n      <td>Tỉnh Lâm Đồng</td>\n      <td>Huyện Đạ Huoai</td>\n      <td>Ma Đa Guôi</td>\n      <td>2</td>\n    </tr>\n    <tr>\n      <th>4</th>\n      <td>Tỉnh Sóc Trăng</td>\n      <td>Huyện Long Phú</td>\n      <td>Long Phú</td>\n      <td>2</td>\n    </tr>\n    <tr>\n      <th>5</th>\n      <td>Tỉnh Yên Bái</td>\n      <td>Huyện Yên Bình</td>\n      <td>Yên Bình</td>\n      <td>2</td>\n    </tr>\n    <tr>\n      <th>6</th>\n      <td>Tỉnh Đồng Tháp</td>\n      <td>Huyện Cao Lãnh</td>\n      <td>Mỹ Thọ</td>\n      <td>2</td>\n    </tr>\n    <tr>\n      <th>7</th>\n      <td>Tỉnh Đồng Tháp</td>\n      <td>Huyện Tháp Mười</td>\n      <td>Mỹ An</td>\n      <td>2</td>\n    </tr>\n    <tr>\n      <th>8</th>\n      <td>Tỉnh Sơn La</td>\n      <td>Huyện Mai Sơn</td>\n      <td>Hát Lót</td>\n      <td>2</td>\n    </tr>\n    <tr>\n      <th>9</th>\n      <td>Tỉnh Lai Châu</td>\n      <td>Huyện Mường Tè</td>\n      <td>Mường Tè</td>\n      <td>2</td>\n    </tr>\n    <tr>\n      <th>10</th>\n      <td>Tỉnh Trà Vinh</td>\n      <td>Huyện Trà Cú</td>\n      <td>Định An</td>\n      <td>2</td>\n    </tr>\n    <tr>\n      <th>11</th>\n      <td>Tỉnh Lạng Sơn</td>\n      <td>Huyện Đình Lập</td>\n      <td>Đình Lập</td>\n      <td>2</td>\n    </tr>\n    <tr>\n      <th>12</th>\n      <td>Tỉnh Cà Mau</td>\n      <td>Huyện Thới Bình</td>\n      <td>Thới Bình</td>\n      <td>2</td>\n    </tr>\n    <tr>\n      <th>13</th>\n      <td>Tỉnh Sóc Trăng</td>\n      <td>Huyện Trần Đề</td>\n      <td>Lịch Hội Thượng</td>\n      <td>2</td>\n    </tr>\n    <tr>\n      <th>14</th>\n      <td>Tỉnh Yên Bái</td>\n      <td>Huyện Trạm Tấu</td>\n      <td>Trạm Tấu</td>\n      <td>2</td>\n    </tr>\n    <tr>\n      <th>15</th>\n      <td>Tỉnh Lạng Sơn</td>\n      <td>Huyện Chi Lăng</td>\n      <td>Chi Lăng</td>\n      <td>2</td>\n    </tr>\n    <tr>\n      <th>16</th>\n      <td>Tỉnh Long An</td>\n      <td>Huyện Đức Hòa</td>\n      <td>Hiệp Hòa</td>\n      <td>2</td>\n    </tr>\n    <tr>\n      <th>17</th>\n      <td>Tỉnh Quảng Ninh</td>\n      <td>Huyện Đầm Hà</td>\n      <td>Đầm Hà</td>\n      <td>2</td>\n    </tr>\n    <tr>\n      <th>18</th>\n      <td>Tỉnh Bạc Liêu</td>\n      <td>Huyện Phước Long</td>\n      <td>Phước Long</td>\n      <td>2</td>\n    </tr>\n  </tbody>\n</table>\n</div>"
     },
     "execution_count": 50,
     "metadata": {},
     "output_type": "execute_result"
    }
   ],
   "source": [
    "df_duplicated_wards"
   ],
   "metadata": {
    "collapsed": false,
    "ExecuteTime": {
     "end_time": "2024-09-13T14:51:11.883668Z",
     "start_time": "2024-09-13T14:51:11.876724Z"
    }
   },
   "id": "d05a4a8430888449",
   "execution_count": 50
  },
  {
   "cell_type": "code",
   "outputs": [
    {
     "data": {
      "text/plain": "               province          district                      ward  \\\n176    Thành phố Hà Nội     Huyện Gia Lâm         Thị trấn Yên Viên   \n178    Thành phố Hà Nội     Huyện Gia Lâm               Xã Yên Viên   \n1479      Tỉnh Lai Châu    Huyện Mường Tè         Thị trấn Mường Tè   \n1484      Tỉnh Lai Châu    Huyện Mường Tè               Xã Mường Tè   \n1706        Tỉnh Sơn La     Huyện Mai Sơn          Thị trấn Hát Lót   \n1716        Tỉnh Sơn La     Huyện Mai Sơn                Xã Hát Lót   \n1882       Tỉnh Yên Bái    Huyện Trạm Tấu         Thị trấn Trạm Tấu   \n1887       Tỉnh Yên Bái    Huyện Trạm Tấu               Xã Trạm Tấu   \n1918       Tỉnh Yên Bái    Huyện Yên Bình         Thị trấn Yên Bình   \n1937       Tỉnh Yên Bái    Huyện Yên Bình               Xã Yên Bình   \n2418      Tỉnh Lạng Sơn    Huyện Chi Lăng         Thị trấn Chi Lăng   \n2436      Tỉnh Lạng Sơn    Huyện Chi Lăng               Xã Chi Lăng   \n2458      Tỉnh Lạng Sơn    Huyện Đình Lập         Thị trấn Đình Lập   \n2463      Tỉnh Lạng Sơn    Huyện Đình Lập               Xã Đình Lập   \n2564    Tỉnh Quảng Ninh      Huyện Đầm Hà           Thị trấn Đầm Hà   \n2570    Tỉnh Quảng Ninh      Huyện Đầm Hà                 Xã Đầm Hà   \n8058      Tỉnh Lâm Đồng    Huyện Đạ Huoai       Thị trấn Ma Đa Guôi   \n8063      Tỉnh Lâm Đồng    Huyện Đạ Huoai             Xã Ma Đa Guôi   \n9032       Tỉnh Long An     Huyện Đức Hòa         Thị trấn Hiệp Hòa   \n9038       Tỉnh Long An     Huyện Đức Hòa               Xã Hiệp Hòa   \n9536      Tỉnh Trà Vinh      Huyện Trà Cú          Thị trấn Định An   \n9548      Tỉnh Trà Vinh      Huyện Trà Cú                Xã Định An   \n9735     Tỉnh Đồng Tháp   Huyện Tháp Mười            Thị trấn Mỹ An   \n9744     Tỉnh Đồng Tháp   Huyện Tháp Mười                  Xã Mỹ An   \n9748     Tỉnh Đồng Tháp    Huyện Cao Lãnh           Thị trấn Mỹ Thọ   \n9756     Tỉnh Đồng Tháp    Huyện Cao Lãnh                 Xã Mỹ Thọ   \n10084   Tỉnh Kiên Giang  Huyện Vĩnh Thuận       Thị trấn Vĩnh Thuận   \n10088   Tỉnh Kiên Giang  Huyện Vĩnh Thuận             Xã Vĩnh Thuận   \n10321    Tỉnh Sóc Trăng    Huyện Long Phú         Thị trấn Long Phú   \n10331    Tỉnh Sóc Trăng    Huyện Long Phú               Xã Long Phú   \n10374    Tỉnh Sóc Trăng     Huyện Trần Đề        Xã Lịch Hội Thượng   \n10375    Tỉnh Sóc Trăng     Huyện Trần Đề  Thị trấn Lịch Hội Thượng   \n10401     Tỉnh Bạc Liêu  Huyện Phước Long       Thị trấn Phước Long   \n10404     Tỉnh Bạc Liêu  Huyện Phước Long             Xã Phước Long   \n10456       Tỉnh Cà Mau  Thành phố Cà Mau          Phường Tân Thành   \n10457       Tỉnh Cà Mau  Thành phố Cà Mau              Xã Tân Thành   \n10471       Tỉnh Cà Mau   Huyện Thới Bình        Thị trấn Thới Bình   \n10477       Tỉnh Cà Mau   Huyện Thới Bình              Xã Thới Bình   \n\n      ward_level                            address       ward_clean  \n176     Thị trấn    Huyện Gia Lâm, Thành phố Hà Nội         Yên Viên  \n178           Xã    Huyện Gia Lâm, Thành phố Hà Nội         Yên Viên  \n1479    Thị trấn      Huyện Mường Tè, Tỉnh Lai Châu         Mường Tè  \n1484          Xã      Huyện Mường Tè, Tỉnh Lai Châu         Mường Tè  \n1706    Thị trấn         Huyện Mai Sơn, Tỉnh Sơn La          Hát Lót  \n1716          Xã         Huyện Mai Sơn, Tỉnh Sơn La          Hát Lót  \n1882    Thị trấn       Huyện Trạm Tấu, Tỉnh Yên Bái         Trạm Tấu  \n1887          Xã       Huyện Trạm Tấu, Tỉnh Yên Bái         Trạm Tấu  \n1918    Thị trấn       Huyện Yên Bình, Tỉnh Yên Bái         Yên Bình  \n1937          Xã       Huyện Yên Bình, Tỉnh Yên Bái         Yên Bình  \n2418    Thị trấn      Huyện Chi Lăng, Tỉnh Lạng Sơn         Chi Lăng  \n2436          Xã      Huyện Chi Lăng, Tỉnh Lạng Sơn         Chi Lăng  \n2458    Thị trấn      Huyện Đình Lập, Tỉnh Lạng Sơn         Đình Lập  \n2463          Xã      Huyện Đình Lập, Tỉnh Lạng Sơn         Đình Lập  \n2564    Thị trấn      Huyện Đầm Hà, Tỉnh Quảng Ninh           Đầm Hà  \n2570          Xã      Huyện Đầm Hà, Tỉnh Quảng Ninh           Đầm Hà  \n8058    Thị trấn      Huyện Đạ Huoai, Tỉnh Lâm Đồng       Ma Đa Guôi  \n8063          Xã      Huyện Đạ Huoai, Tỉnh Lâm Đồng       Ma Đa Guôi  \n9032    Thị trấn        Huyện Đức Hòa, Tỉnh Long An         Hiệp Hòa  \n9038          Xã        Huyện Đức Hòa, Tỉnh Long An         Hiệp Hòa  \n9536    Thị trấn        Huyện Trà Cú, Tỉnh Trà Vinh          Định An  \n9548          Xã        Huyện Trà Cú, Tỉnh Trà Vinh          Định An  \n9735    Thị trấn    Huyện Tháp Mười, Tỉnh Đồng Tháp            Mỹ An  \n9744          Xã    Huyện Tháp Mười, Tỉnh Đồng Tháp            Mỹ An  \n9748    Thị trấn     Huyện Cao Lãnh, Tỉnh Đồng Tháp           Mỹ Thọ  \n9756          Xã     Huyện Cao Lãnh, Tỉnh Đồng Tháp           Mỹ Thọ  \n10084   Thị trấn  Huyện Vĩnh Thuận, Tỉnh Kiên Giang       Vĩnh Thuận  \n10088         Xã  Huyện Vĩnh Thuận, Tỉnh Kiên Giang       Vĩnh Thuận  \n10321   Thị trấn     Huyện Long Phú, Tỉnh Sóc Trăng         Long Phú  \n10331         Xã     Huyện Long Phú, Tỉnh Sóc Trăng         Long Phú  \n10374         Xã      Huyện Trần Đề, Tỉnh Sóc Trăng  Lịch Hội Thượng  \n10375   Thị trấn      Huyện Trần Đề, Tỉnh Sóc Trăng  Lịch Hội Thượng  \n10401   Thị trấn    Huyện Phước Long, Tỉnh Bạc Liêu       Phước Long  \n10404         Xã    Huyện Phước Long, Tỉnh Bạc Liêu       Phước Long  \n10456     Phường      Thành phố Cà Mau, Tỉnh Cà Mau        Tân Thành  \n10457         Xã      Thành phố Cà Mau, Tỉnh Cà Mau        Tân Thành  \n10471   Thị trấn       Huyện Thới Bình, Tỉnh Cà Mau        Thới Bình  \n10477         Xã       Huyện Thới Bình, Tỉnh Cà Mau        Thới Bình  ",
      "text/html": "<div>\n<style scoped>\n    .dataframe tbody tr th:only-of-type {\n        vertical-align: middle;\n    }\n\n    .dataframe tbody tr th {\n        vertical-align: top;\n    }\n\n    .dataframe thead th {\n        text-align: right;\n    }\n</style>\n<table border=\"1\" class=\"dataframe\">\n  <thead>\n    <tr style=\"text-align: right;\">\n      <th></th>\n      <th>province</th>\n      <th>district</th>\n      <th>ward</th>\n      <th>ward_level</th>\n      <th>address</th>\n      <th>ward_clean</th>\n    </tr>\n  </thead>\n  <tbody>\n    <tr>\n      <th>176</th>\n      <td>Thành phố Hà Nội</td>\n      <td>Huyện Gia Lâm</td>\n      <td>Thị trấn Yên Viên</td>\n      <td>Thị trấn</td>\n      <td>Huyện Gia Lâm, Thành phố Hà Nội</td>\n      <td>Yên Viên</td>\n    </tr>\n    <tr>\n      <th>178</th>\n      <td>Thành phố Hà Nội</td>\n      <td>Huyện Gia Lâm</td>\n      <td>Xã Yên Viên</td>\n      <td>Xã</td>\n      <td>Huyện Gia Lâm, Thành phố Hà Nội</td>\n      <td>Yên Viên</td>\n    </tr>\n    <tr>\n      <th>1479</th>\n      <td>Tỉnh Lai Châu</td>\n      <td>Huyện Mường Tè</td>\n      <td>Thị trấn Mường Tè</td>\n      <td>Thị trấn</td>\n      <td>Huyện Mường Tè, Tỉnh Lai Châu</td>\n      <td>Mường Tè</td>\n    </tr>\n    <tr>\n      <th>1484</th>\n      <td>Tỉnh Lai Châu</td>\n      <td>Huyện Mường Tè</td>\n      <td>Xã Mường Tè</td>\n      <td>Xã</td>\n      <td>Huyện Mường Tè, Tỉnh Lai Châu</td>\n      <td>Mường Tè</td>\n    </tr>\n    <tr>\n      <th>1706</th>\n      <td>Tỉnh Sơn La</td>\n      <td>Huyện Mai Sơn</td>\n      <td>Thị trấn Hát Lót</td>\n      <td>Thị trấn</td>\n      <td>Huyện Mai Sơn, Tỉnh Sơn La</td>\n      <td>Hát Lót</td>\n    </tr>\n    <tr>\n      <th>1716</th>\n      <td>Tỉnh Sơn La</td>\n      <td>Huyện Mai Sơn</td>\n      <td>Xã Hát Lót</td>\n      <td>Xã</td>\n      <td>Huyện Mai Sơn, Tỉnh Sơn La</td>\n      <td>Hát Lót</td>\n    </tr>\n    <tr>\n      <th>1882</th>\n      <td>Tỉnh Yên Bái</td>\n      <td>Huyện Trạm Tấu</td>\n      <td>Thị trấn Trạm Tấu</td>\n      <td>Thị trấn</td>\n      <td>Huyện Trạm Tấu, Tỉnh Yên Bái</td>\n      <td>Trạm Tấu</td>\n    </tr>\n    <tr>\n      <th>1887</th>\n      <td>Tỉnh Yên Bái</td>\n      <td>Huyện Trạm Tấu</td>\n      <td>Xã Trạm Tấu</td>\n      <td>Xã</td>\n      <td>Huyện Trạm Tấu, Tỉnh Yên Bái</td>\n      <td>Trạm Tấu</td>\n    </tr>\n    <tr>\n      <th>1918</th>\n      <td>Tỉnh Yên Bái</td>\n      <td>Huyện Yên Bình</td>\n      <td>Thị trấn Yên Bình</td>\n      <td>Thị trấn</td>\n      <td>Huyện Yên Bình, Tỉnh Yên Bái</td>\n      <td>Yên Bình</td>\n    </tr>\n    <tr>\n      <th>1937</th>\n      <td>Tỉnh Yên Bái</td>\n      <td>Huyện Yên Bình</td>\n      <td>Xã Yên Bình</td>\n      <td>Xã</td>\n      <td>Huyện Yên Bình, Tỉnh Yên Bái</td>\n      <td>Yên Bình</td>\n    </tr>\n    <tr>\n      <th>2418</th>\n      <td>Tỉnh Lạng Sơn</td>\n      <td>Huyện Chi Lăng</td>\n      <td>Thị trấn Chi Lăng</td>\n      <td>Thị trấn</td>\n      <td>Huyện Chi Lăng, Tỉnh Lạng Sơn</td>\n      <td>Chi Lăng</td>\n    </tr>\n    <tr>\n      <th>2436</th>\n      <td>Tỉnh Lạng Sơn</td>\n      <td>Huyện Chi Lăng</td>\n      <td>Xã Chi Lăng</td>\n      <td>Xã</td>\n      <td>Huyện Chi Lăng, Tỉnh Lạng Sơn</td>\n      <td>Chi Lăng</td>\n    </tr>\n    <tr>\n      <th>2458</th>\n      <td>Tỉnh Lạng Sơn</td>\n      <td>Huyện Đình Lập</td>\n      <td>Thị trấn Đình Lập</td>\n      <td>Thị trấn</td>\n      <td>Huyện Đình Lập, Tỉnh Lạng Sơn</td>\n      <td>Đình Lập</td>\n    </tr>\n    <tr>\n      <th>2463</th>\n      <td>Tỉnh Lạng Sơn</td>\n      <td>Huyện Đình Lập</td>\n      <td>Xã Đình Lập</td>\n      <td>Xã</td>\n      <td>Huyện Đình Lập, Tỉnh Lạng Sơn</td>\n      <td>Đình Lập</td>\n    </tr>\n    <tr>\n      <th>2564</th>\n      <td>Tỉnh Quảng Ninh</td>\n      <td>Huyện Đầm Hà</td>\n      <td>Thị trấn Đầm Hà</td>\n      <td>Thị trấn</td>\n      <td>Huyện Đầm Hà, Tỉnh Quảng Ninh</td>\n      <td>Đầm Hà</td>\n    </tr>\n    <tr>\n      <th>2570</th>\n      <td>Tỉnh Quảng Ninh</td>\n      <td>Huyện Đầm Hà</td>\n      <td>Xã Đầm Hà</td>\n      <td>Xã</td>\n      <td>Huyện Đầm Hà, Tỉnh Quảng Ninh</td>\n      <td>Đầm Hà</td>\n    </tr>\n    <tr>\n      <th>8058</th>\n      <td>Tỉnh Lâm Đồng</td>\n      <td>Huyện Đạ Huoai</td>\n      <td>Thị trấn Ma Đa Guôi</td>\n      <td>Thị trấn</td>\n      <td>Huyện Đạ Huoai, Tỉnh Lâm Đồng</td>\n      <td>Ma Đa Guôi</td>\n    </tr>\n    <tr>\n      <th>8063</th>\n      <td>Tỉnh Lâm Đồng</td>\n      <td>Huyện Đạ Huoai</td>\n      <td>Xã Ma Đa Guôi</td>\n      <td>Xã</td>\n      <td>Huyện Đạ Huoai, Tỉnh Lâm Đồng</td>\n      <td>Ma Đa Guôi</td>\n    </tr>\n    <tr>\n      <th>9032</th>\n      <td>Tỉnh Long An</td>\n      <td>Huyện Đức Hòa</td>\n      <td>Thị trấn Hiệp Hòa</td>\n      <td>Thị trấn</td>\n      <td>Huyện Đức Hòa, Tỉnh Long An</td>\n      <td>Hiệp Hòa</td>\n    </tr>\n    <tr>\n      <th>9038</th>\n      <td>Tỉnh Long An</td>\n      <td>Huyện Đức Hòa</td>\n      <td>Xã Hiệp Hòa</td>\n      <td>Xã</td>\n      <td>Huyện Đức Hòa, Tỉnh Long An</td>\n      <td>Hiệp Hòa</td>\n    </tr>\n    <tr>\n      <th>9536</th>\n      <td>Tỉnh Trà Vinh</td>\n      <td>Huyện Trà Cú</td>\n      <td>Thị trấn Định An</td>\n      <td>Thị trấn</td>\n      <td>Huyện Trà Cú, Tỉnh Trà Vinh</td>\n      <td>Định An</td>\n    </tr>\n    <tr>\n      <th>9548</th>\n      <td>Tỉnh Trà Vinh</td>\n      <td>Huyện Trà Cú</td>\n      <td>Xã Định An</td>\n      <td>Xã</td>\n      <td>Huyện Trà Cú, Tỉnh Trà Vinh</td>\n      <td>Định An</td>\n    </tr>\n    <tr>\n      <th>9735</th>\n      <td>Tỉnh Đồng Tháp</td>\n      <td>Huyện Tháp Mười</td>\n      <td>Thị trấn Mỹ An</td>\n      <td>Thị trấn</td>\n      <td>Huyện Tháp Mười, Tỉnh Đồng Tháp</td>\n      <td>Mỹ An</td>\n    </tr>\n    <tr>\n      <th>9744</th>\n      <td>Tỉnh Đồng Tháp</td>\n      <td>Huyện Tháp Mười</td>\n      <td>Xã Mỹ An</td>\n      <td>Xã</td>\n      <td>Huyện Tháp Mười, Tỉnh Đồng Tháp</td>\n      <td>Mỹ An</td>\n    </tr>\n    <tr>\n      <th>9748</th>\n      <td>Tỉnh Đồng Tháp</td>\n      <td>Huyện Cao Lãnh</td>\n      <td>Thị trấn Mỹ Thọ</td>\n      <td>Thị trấn</td>\n      <td>Huyện Cao Lãnh, Tỉnh Đồng Tháp</td>\n      <td>Mỹ Thọ</td>\n    </tr>\n    <tr>\n      <th>9756</th>\n      <td>Tỉnh Đồng Tháp</td>\n      <td>Huyện Cao Lãnh</td>\n      <td>Xã Mỹ Thọ</td>\n      <td>Xã</td>\n      <td>Huyện Cao Lãnh, Tỉnh Đồng Tháp</td>\n      <td>Mỹ Thọ</td>\n    </tr>\n    <tr>\n      <th>10084</th>\n      <td>Tỉnh Kiên Giang</td>\n      <td>Huyện Vĩnh Thuận</td>\n      <td>Thị trấn Vĩnh Thuận</td>\n      <td>Thị trấn</td>\n      <td>Huyện Vĩnh Thuận, Tỉnh Kiên Giang</td>\n      <td>Vĩnh Thuận</td>\n    </tr>\n    <tr>\n      <th>10088</th>\n      <td>Tỉnh Kiên Giang</td>\n      <td>Huyện Vĩnh Thuận</td>\n      <td>Xã Vĩnh Thuận</td>\n      <td>Xã</td>\n      <td>Huyện Vĩnh Thuận, Tỉnh Kiên Giang</td>\n      <td>Vĩnh Thuận</td>\n    </tr>\n    <tr>\n      <th>10321</th>\n      <td>Tỉnh Sóc Trăng</td>\n      <td>Huyện Long Phú</td>\n      <td>Thị trấn Long Phú</td>\n      <td>Thị trấn</td>\n      <td>Huyện Long Phú, Tỉnh Sóc Trăng</td>\n      <td>Long Phú</td>\n    </tr>\n    <tr>\n      <th>10331</th>\n      <td>Tỉnh Sóc Trăng</td>\n      <td>Huyện Long Phú</td>\n      <td>Xã Long Phú</td>\n      <td>Xã</td>\n      <td>Huyện Long Phú, Tỉnh Sóc Trăng</td>\n      <td>Long Phú</td>\n    </tr>\n    <tr>\n      <th>10374</th>\n      <td>Tỉnh Sóc Trăng</td>\n      <td>Huyện Trần Đề</td>\n      <td>Xã Lịch Hội Thượng</td>\n      <td>Xã</td>\n      <td>Huyện Trần Đề, Tỉnh Sóc Trăng</td>\n      <td>Lịch Hội Thượng</td>\n    </tr>\n    <tr>\n      <th>10375</th>\n      <td>Tỉnh Sóc Trăng</td>\n      <td>Huyện Trần Đề</td>\n      <td>Thị trấn Lịch Hội Thượng</td>\n      <td>Thị trấn</td>\n      <td>Huyện Trần Đề, Tỉnh Sóc Trăng</td>\n      <td>Lịch Hội Thượng</td>\n    </tr>\n    <tr>\n      <th>10401</th>\n      <td>Tỉnh Bạc Liêu</td>\n      <td>Huyện Phước Long</td>\n      <td>Thị trấn Phước Long</td>\n      <td>Thị trấn</td>\n      <td>Huyện Phước Long, Tỉnh Bạc Liêu</td>\n      <td>Phước Long</td>\n    </tr>\n    <tr>\n      <th>10404</th>\n      <td>Tỉnh Bạc Liêu</td>\n      <td>Huyện Phước Long</td>\n      <td>Xã Phước Long</td>\n      <td>Xã</td>\n      <td>Huyện Phước Long, Tỉnh Bạc Liêu</td>\n      <td>Phước Long</td>\n    </tr>\n    <tr>\n      <th>10456</th>\n      <td>Tỉnh Cà Mau</td>\n      <td>Thành phố Cà Mau</td>\n      <td>Phường Tân Thành</td>\n      <td>Phường</td>\n      <td>Thành phố Cà Mau, Tỉnh Cà Mau</td>\n      <td>Tân Thành</td>\n    </tr>\n    <tr>\n      <th>10457</th>\n      <td>Tỉnh Cà Mau</td>\n      <td>Thành phố Cà Mau</td>\n      <td>Xã Tân Thành</td>\n      <td>Xã</td>\n      <td>Thành phố Cà Mau, Tỉnh Cà Mau</td>\n      <td>Tân Thành</td>\n    </tr>\n    <tr>\n      <th>10471</th>\n      <td>Tỉnh Cà Mau</td>\n      <td>Huyện Thới Bình</td>\n      <td>Thị trấn Thới Bình</td>\n      <td>Thị trấn</td>\n      <td>Huyện Thới Bình, Tỉnh Cà Mau</td>\n      <td>Thới Bình</td>\n    </tr>\n    <tr>\n      <th>10477</th>\n      <td>Tỉnh Cà Mau</td>\n      <td>Huyện Thới Bình</td>\n      <td>Xã Thới Bình</td>\n      <td>Xã</td>\n      <td>Huyện Thới Bình, Tỉnh Cà Mau</td>\n      <td>Thới Bình</td>\n    </tr>\n  </tbody>\n</table>\n</div>"
     },
     "execution_count": 51,
     "metadata": {},
     "output_type": "execute_result"
    }
   ],
   "source": [
    "df[(df.province.isin(df_duplicated_wards.province)) & (df.district.isin(df_duplicated_wards.district)) & (df.ward_clean.isin(df_duplicated_wards.ward_clean))]"
   ],
   "metadata": {
    "collapsed": false,
    "ExecuteTime": {
     "end_time": "2024-09-13T14:51:39.178219Z",
     "start_time": "2024-09-13T14:51:39.162254Z"
    }
   },
   "id": "d6b80ceec429077e",
   "execution_count": 51
  },
  {
   "cell_type": "code",
   "outputs": [
    {
     "data": {
      "text/plain": "          province          district              ward ward_level  \\\n10456  Tỉnh Cà Mau  Thành phố Cà Mau  Phường Tân Thành     Phường   \n10457  Tỉnh Cà Mau  Thành phố Cà Mau      Xã Tân Thành         Xã   \n\n                             address ward_clean  \n10456  Thành phố Cà Mau, Tỉnh Cà Mau  Tân Thành  \n10457  Thành phố Cà Mau, Tỉnh Cà Mau  Tân Thành  ",
      "text/html": "<div>\n<style scoped>\n    .dataframe tbody tr th:only-of-type {\n        vertical-align: middle;\n    }\n\n    .dataframe tbody tr th {\n        vertical-align: top;\n    }\n\n    .dataframe thead th {\n        text-align: right;\n    }\n</style>\n<table border=\"1\" class=\"dataframe\">\n  <thead>\n    <tr style=\"text-align: right;\">\n      <th></th>\n      <th>province</th>\n      <th>district</th>\n      <th>ward</th>\n      <th>ward_level</th>\n      <th>address</th>\n      <th>ward_clean</th>\n    </tr>\n  </thead>\n  <tbody>\n    <tr>\n      <th>10456</th>\n      <td>Tỉnh Cà Mau</td>\n      <td>Thành phố Cà Mau</td>\n      <td>Phường Tân Thành</td>\n      <td>Phường</td>\n      <td>Thành phố Cà Mau, Tỉnh Cà Mau</td>\n      <td>Tân Thành</td>\n    </tr>\n    <tr>\n      <th>10457</th>\n      <td>Tỉnh Cà Mau</td>\n      <td>Thành phố Cà Mau</td>\n      <td>Xã Tân Thành</td>\n      <td>Xã</td>\n      <td>Thành phố Cà Mau, Tỉnh Cà Mau</td>\n      <td>Tân Thành</td>\n    </tr>\n  </tbody>\n</table>\n</div>"
     },
     "execution_count": 32,
     "metadata": {},
     "output_type": "execute_result"
    }
   ],
   "source": [
    "df[(df.province=='Tỉnh Cà Mau') & (df.district=='Thành phố Cà Mau') & (df.ward_clean=='Tân Thành')]"
   ],
   "metadata": {
    "collapsed": false,
    "ExecuteTime": {
     "end_time": "2024-09-13T14:36:16.155514Z",
     "start_time": "2024-09-13T14:36:16.137599Z"
    }
   },
   "id": "eb4f2e07a9fcddfe",
   "execution_count": 32
  },
  {
   "cell_type": "code",
   "outputs": [
    {
     "data": {
      "text/plain": "             province          district              ward ward_level  \\\n202  Thành phố Hà Nội  Quận Nam Từ Liêm  Phường Mỹ Đình 2     Phường   \n\n                                address ward_clean  \n202  Quận Nam Từ Liêm, Thành phố Hà Nội  Mỹ Đình 2  ",
      "text/html": "<div>\n<style scoped>\n    .dataframe tbody tr th:only-of-type {\n        vertical-align: middle;\n    }\n\n    .dataframe tbody tr th {\n        vertical-align: top;\n    }\n\n    .dataframe thead th {\n        text-align: right;\n    }\n</style>\n<table border=\"1\" class=\"dataframe\">\n  <thead>\n    <tr style=\"text-align: right;\">\n      <th></th>\n      <th>province</th>\n      <th>district</th>\n      <th>ward</th>\n      <th>ward_level</th>\n      <th>address</th>\n      <th>ward_clean</th>\n    </tr>\n  </thead>\n  <tbody>\n    <tr>\n      <th>202</th>\n      <td>Thành phố Hà Nội</td>\n      <td>Quận Nam Từ Liêm</td>\n      <td>Phường Mỹ Đình 2</td>\n      <td>Phường</td>\n      <td>Quận Nam Từ Liêm, Thành phố Hà Nội</td>\n      <td>Mỹ Đình 2</td>\n    </tr>\n  </tbody>\n</table>\n</div>"
     },
     "execution_count": 33,
     "metadata": {},
     "output_type": "execute_result"
    }
   ],
   "source": [
    "df[(df.province.str.contains('Hà Nội')) & (df.district.str.contains('Nam Từ Liêm')) & (df.ward_clean=='Mỹ Đình 2')]"
   ],
   "metadata": {
    "collapsed": false,
    "ExecuteTime": {
     "end_time": "2024-09-13T14:37:44.845169Z",
     "start_time": "2024-09-13T14:37:44.821099Z"
    }
   },
   "id": "b3d81f06dca8d93e",
   "execution_count": 33
  }
 ],
 "metadata": {
  "kernelspec": {
   "display_name": "Python 3",
   "language": "python",
   "name": "python3"
  },
  "language_info": {
   "codemirror_mode": {
    "name": "ipython",
    "version": 2
   },
   "file_extension": ".py",
   "mimetype": "text/x-python",
   "name": "python",
   "nbconvert_exporter": "python",
   "pygments_lexer": "ipython2",
   "version": "2.7.6"
  }
 },
 "nbformat": 4,
 "nbformat_minor": 5
}
