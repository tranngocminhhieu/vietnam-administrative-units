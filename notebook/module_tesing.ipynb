{
 "cells": [
  {
   "cell_type": "code",
   "execution_count": 1,
   "id": "initial_id",
   "metadata": {
    "collapsed": true,
    "ExecuteTime": {
     "end_time": "2024-09-16T09:10:12.719048Z",
     "start_time": "2024-09-16T09:10:12.212202Z"
    }
   },
   "outputs": [],
   "source": [
    "from vietadminunits import parse_address\n",
    "import pandas as pd\n",
    "import re\n",
    "from unidecode import unidecode"
   ]
  },
  {
   "cell_type": "markdown",
   "source": [
    "# Demo"
   ],
   "metadata": {
    "collapsed": false
   },
   "id": "5a2fae1f4817088b"
  },
  {
   "cell_type": "code",
   "outputs": [
    {
     "data": {
      "text/plain": "AdministrativeUnit:\nAttribute                      | Value                         \n--------------------------------------------------------------\nprovince                       | Hà Nội                        \ndistrict                       | Thanh Xuân                    \nward                           | Thượng Đình                   \n--------------------------------------------------------------\nlong_province                  | Thành phố Hà Nội              \nlong_district                  | Quận Thanh Xuân               \nlong_ward                      | Phường Thượng Đình            \n--------------------------------------------------------------\nshort_district                 | Thanh Xuân                    \nshort_ward                     | Thượng Đình                   \n--------------------------------------------------------------\nprovince_english               | Ha Noi                        \ndistrict_english               | Thanh Xuan                    \nward_english                   | Thuong Dinh                   \n--------------------------------------------------------------\nlong_province_english          | Ha Noi City                   \nlong_district_english          | Thanh Xuan District           \nlong_ward_english              | Thuong Dinh Ward              \n--------------------------------------------------------------\nshort_district_english         | Thanh Xuan                    \nshort_ward_english             | Thuong Dinh                   \n--------------------------------------------------------------\ndistrict_level                 | Quận                          \nward_level                     | Phường                        \n--------------------------------------------------------------\ndistrict_level_english         | District                      \nward_level_english             | Ward                          "
     },
     "execution_count": 2,
     "metadata": {},
     "output_type": "execute_result"
    }
   ],
   "source": [
    "parse_address('Ngã Tư Sở Market, Đường Nguyễn Trãi, Thượng Đình Số nhà 28A, Ngõ 72 Nguyễn Trãi , , Phường Thượng Đình, Quận Thanh Xuân , Hà Nội Quận Thanh Xuân')"
   ],
   "metadata": {
    "collapsed": false,
    "ExecuteTime": {
     "end_time": "2024-09-16T09:10:12.726802Z",
     "start_time": "2024-09-16T09:10:12.720222Z"
    }
   },
   "id": "ccfcb3feb70b601d",
   "execution_count": 2
  },
  {
   "cell_type": "code",
   "outputs": [
    {
     "data": {
      "text/plain": "AdministrativeUnit:\nAttribute                      | Value                         \n--------------------------------------------------------------\nprovince                       | Hà Nội                        \ndistrict                       | Bắc Từ Liêm                   \nward                           | Phú Diễn                      \n--------------------------------------------------------------\nlong_province                  | Thành phố Hà Nội              \nlong_district                  | Quận Bắc Từ Liêm              \nlong_ward                      | Phường Phú Diễn               \n--------------------------------------------------------------\nshort_district                 | Bắc Từ Liêm                   \nshort_ward                     | Phú Diễn                      \n--------------------------------------------------------------\nprovince_english               | Ha Noi                        \ndistrict_english               | Bac Tu Liem                   \nward_english                   | Phu Dien                      \n--------------------------------------------------------------\nlong_province_english          | Ha Noi City                   \nlong_district_english          | Bac Tu Liem District          \nlong_ward_english              | Phu Dien Ward                 \n--------------------------------------------------------------\nshort_district_english         | Bac Tu Liem                   \nshort_ward_english             | Phu Dien                      \n--------------------------------------------------------------\ndistrict_level                 | Quận                          \nward_level                     | Phường                        \n--------------------------------------------------------------\ndistrict_level_english         | District                      \nward_level_english             | Ward                          "
     },
     "execution_count": 3,
     "metadata": {},
     "output_type": "execute_result"
    }
   ],
   "source": [
    "parse_address('Cuối đường kiều mai, dự án bệnh viện hạnh phúc  phường phú diễn quận bắc từ liêm hà nội')"
   ],
   "metadata": {
    "collapsed": false,
    "ExecuteTime": {
     "end_time": "2024-09-16T09:10:24.234212Z",
     "start_time": "2024-09-16T09:10:24.229693Z"
    }
   },
   "id": "ac59fdbd592726a1",
   "execution_count": 3
  },
  {
   "cell_type": "code",
   "outputs": [
    {
     "data": {
      "text/plain": "AdministrativeUnit:\nAttribute                      | Value                         \n--------------------------------------------------------------\nprovince                       | Đà Nẵng                       \ndistrict                       | Sơn Trà                       \nward                           | An Hải Bắc                    \n--------------------------------------------------------------\nlong_province                  | Thành phố Đà Nẵng             \nlong_district                  | Quận Sơn Trà                  \nlong_ward                      | Phường An Hải Bắc             \n--------------------------------------------------------------\nshort_district                 | Sơn Trà                       \nshort_ward                     | An Hải Bắc                    \n--------------------------------------------------------------\nprovince_english               | Da Nang                       \ndistrict_english               | Son Tra                       \nward_english                   | An Hai Bac                    \n--------------------------------------------------------------\nlong_province_english          | Da Nang City                  \nlong_district_english          | Son Tra District              \nlong_ward_english              | An Hai Bac Ward               \n--------------------------------------------------------------\nshort_district_english         | Son Tra                       \nshort_ward_english             | An Hai Bac                    \n--------------------------------------------------------------\ndistrict_level                 | Quận                          \nward_level                     | Phường                        \n--------------------------------------------------------------\ndistrict_level_english         | District                      \nward_level_english             | Ward                          "
     },
     "execution_count": 4,
     "metadata": {},
     "output_type": "execute_result"
    }
   ],
   "source": [
    "parse_address('03 Nguyễn Cao Luyện, An Hải Bắc, Sơn Trà, Đà Nẵng 550000, Việt Nam')"
   ],
   "metadata": {
    "collapsed": false,
    "ExecuteTime": {
     "end_time": "2024-09-16T09:10:30.997156Z",
     "start_time": "2024-09-16T09:10:30.989993Z"
    }
   },
   "id": "6fb98f74ac0bdf8d",
   "execution_count": 4
  },
  {
   "cell_type": "code",
   "outputs": [
    {
     "data": {
      "text/plain": "AdministrativeUnit:\nAttribute                      | Value                         \n--------------------------------------------------------------\nprovince                       | Hồ Chí Minh                   \ndistrict                       | Bình Chánh                    \nward                           | Phạm Văn Hai                  \n--------------------------------------------------------------\nlong_province                  | Thành phố Hồ Chí Minh         \nlong_district                  | Huyện Bình Chánh              \nlong_ward                      | Xã Phạm Văn Hai               \n--------------------------------------------------------------\nshort_district                 | Bình Chánh                    \nshort_ward                     | Phạm Văn Hai                  \n--------------------------------------------------------------\nprovince_english               | Ho Chi Minh                   \ndistrict_english               | Binh Chanh                    \nward_english                   | Pham Van Hai                  \n--------------------------------------------------------------\nlong_province_english          | Ho Chi Minh City              \nlong_district_english          | Binh Chanh District           \nlong_ward_english              | Pham Van Hai Commune          \n--------------------------------------------------------------\nshort_district_english         | Binh Chanh                    \nshort_ward_english             | Pham Van Hai                  \n--------------------------------------------------------------\ndistrict_level                 | Huyện                         \nward_level                     | Xã                            \n--------------------------------------------------------------\ndistrict_level_english         | District                      \nward_level_english             | Commune                       "
     },
     "execution_count": 5,
     "metadata": {},
     "output_type": "execute_result"
    }
   ],
   "source": [
    "parse_address('3c60/10 chợ cầu xấng, xã phạm văn hai, huyện bình chánh HCM')"
   ],
   "metadata": {
    "collapsed": false,
    "ExecuteTime": {
     "end_time": "2024-09-16T09:10:37.849253Z",
     "start_time": "2024-09-16T09:10:37.843573Z"
    }
   },
   "id": "960a61d68549fa75",
   "execution_count": 5
  },
  {
   "cell_type": "code",
   "outputs": [
    {
     "data": {
      "text/plain": "AdministrativeUnit:\nAttribute                      | Value                         \n--------------------------------------------------------------\nprovince                       | Hà Nội                        \ndistrict                       | Nam Từ Liêm                   \nward                           |                               \n--------------------------------------------------------------\nlong_province                  | Thành phố Hà Nội              \nlong_district                  | Quận Nam Từ Liêm              \nlong_ward                      |                               \n--------------------------------------------------------------\nshort_district                 | Nam Từ Liêm                   \nshort_ward                     |                               \n--------------------------------------------------------------\nprovince_english               | Ha Noi                        \ndistrict_english               | Nam Tu Liem                   \nward_english                   |                               \n--------------------------------------------------------------\nlong_province_english          | Ha Noi City                   \nlong_district_english          | Nam Tu Liem District          \nlong_ward_english              |                               \n--------------------------------------------------------------\nshort_district_english         | Nam Tu Liem                   \nshort_ward_english             |                               \n--------------------------------------------------------------\ndistrict_level                 | Quận                          \nward_level                     |                               \n--------------------------------------------------------------\ndistrict_level_english         | District                      \nward_level_english             |                               "
     },
     "execution_count": 6,
     "metadata": {},
     "output_type": "execute_result"
    }
   ],
   "source": [
    "parse_address('ngõ 154 Đình Thôn, phường Mỹ Đình, Quận Nam Từ Liêm, HN')"
   ],
   "metadata": {
    "collapsed": false,
    "ExecuteTime": {
     "end_time": "2024-09-16T09:11:21.590468Z",
     "start_time": "2024-09-16T09:11:21.576708Z"
    }
   },
   "id": "7ab4dc3d2c704933",
   "execution_count": 6
  },
  {
   "cell_type": "code",
   "outputs": [
    {
     "data": {
      "text/plain": "AdministrativeUnit:\nAttribute                      | Value                         \n--------------------------------------------------------------\nprovince                       | Hà Nội                        \ndistrict                       |                               \nward                           |                               \n--------------------------------------------------------------\nlong_province                  | Thành phố Hà Nội              \nlong_district                  |                               \nlong_ward                      |                               \n--------------------------------------------------------------\nshort_district                 |                               \nshort_ward                     |                               \n--------------------------------------------------------------\nprovince_english               | Ha Noi                        \ndistrict_english               |                               \nward_english                   |                               \n--------------------------------------------------------------\nlong_province_english          | Ha Noi City                   \nlong_district_english          |                               \nlong_ward_english              |                               \n--------------------------------------------------------------\nshort_district_english         |                               \nshort_ward_english             |                               \n--------------------------------------------------------------\ndistrict_level                 |                               \nward_level                     |                               \n--------------------------------------------------------------\ndistrict_level_english         |                               \nward_level_english             |                               "
     },
     "execution_count": 7,
     "metadata": {},
     "output_type": "execute_result"
    }
   ],
   "source": [
    "parse_address('ngõ 154 Đình Thôn, phường Mỹ Đình, Quận Nam Từ Liêm, HN', level=1)"
   ],
   "metadata": {
    "collapsed": false,
    "ExecuteTime": {
     "end_time": "2024-09-16T09:11:22.020105Z",
     "start_time": "2024-09-16T09:11:22.016851Z"
    }
   },
   "id": "661b50a5aeaf84f7",
   "execution_count": 7
  },
  {
   "cell_type": "code",
   "outputs": [],
   "source": [
    "# parse_address('Ha Noi, Gia Lam, Yen Vien')"
   ],
   "metadata": {
    "collapsed": false,
    "ExecuteTime": {
     "end_time": "2024-09-16T09:11:33.099738Z",
     "start_time": "2024-09-16T09:11:33.094947Z"
    }
   },
   "id": "8928a354ab16a274",
   "execution_count": 8
  },
  {
   "cell_type": "markdown",
   "source": [
    "# Check wrong or missing in bulk"
   ],
   "metadata": {
    "collapsed": false
   },
   "id": "3f7ebf254ffba569"
  },
  {
   "cell_type": "code",
   "outputs": [],
   "source": [
    "df = pd.read_csv('../data/input/danhmuchanhchinhgso.gov.vn.csv')"
   ],
   "metadata": {
    "collapsed": false,
    "ExecuteTime": {
     "end_time": "2024-09-16T09:11:33.807004Z",
     "start_time": "2024-09-16T09:11:33.771912Z"
    }
   },
   "id": "19018c4a3a7f3491",
   "execution_count": 9
  },
  {
   "cell_type": "code",
   "outputs": [
    {
     "data": {
      "text/plain": "          long_province    long_district          long_ward ward_level\n0      Thành phố Hà Nội     Quận Ba Đình     Phường Phúc Xá     Phường\n1      Thành phố Hà Nội     Quận Ba Đình   Phường Trúc Bạch     Phường\n2      Thành phố Hà Nội     Quận Ba Đình   Phường Vĩnh Phúc     Phường\n3      Thành phố Hà Nội     Quận Ba Đình     Phường Cống Vị     Phường\n4      Thành phố Hà Nội     Quận Ba Đình   Phường Liễu Giai     Phường\n...                 ...              ...                ...        ...\n10542       Tỉnh Cà Mau  Huyện Ngọc Hiển    Xã Viên An Đông         Xã\n10543       Tỉnh Cà Mau  Huyện Ngọc Hiển         Xã Viên An         Xã\n10544       Tỉnh Cà Mau  Huyện Ngọc Hiển  Thị trấn Rạch Gốc   Thị trấn\n10545       Tỉnh Cà Mau  Huyện Ngọc Hiển          Xã Tân Ân         Xã\n10546       Tỉnh Cà Mau  Huyện Ngọc Hiển         Xã Đất Mũi         Xã\n\n[10547 rows x 4 columns]",
      "text/html": "<div>\n<style scoped>\n    .dataframe tbody tr th:only-of-type {\n        vertical-align: middle;\n    }\n\n    .dataframe tbody tr th {\n        vertical-align: top;\n    }\n\n    .dataframe thead th {\n        text-align: right;\n    }\n</style>\n<table border=\"1\" class=\"dataframe\">\n  <thead>\n    <tr style=\"text-align: right;\">\n      <th></th>\n      <th>long_province</th>\n      <th>long_district</th>\n      <th>long_ward</th>\n      <th>ward_level</th>\n    </tr>\n  </thead>\n  <tbody>\n    <tr>\n      <th>0</th>\n      <td>Thành phố Hà Nội</td>\n      <td>Quận Ba Đình</td>\n      <td>Phường Phúc Xá</td>\n      <td>Phường</td>\n    </tr>\n    <tr>\n      <th>1</th>\n      <td>Thành phố Hà Nội</td>\n      <td>Quận Ba Đình</td>\n      <td>Phường Trúc Bạch</td>\n      <td>Phường</td>\n    </tr>\n    <tr>\n      <th>2</th>\n      <td>Thành phố Hà Nội</td>\n      <td>Quận Ba Đình</td>\n      <td>Phường Vĩnh Phúc</td>\n      <td>Phường</td>\n    </tr>\n    <tr>\n      <th>3</th>\n      <td>Thành phố Hà Nội</td>\n      <td>Quận Ba Đình</td>\n      <td>Phường Cống Vị</td>\n      <td>Phường</td>\n    </tr>\n    <tr>\n      <th>4</th>\n      <td>Thành phố Hà Nội</td>\n      <td>Quận Ba Đình</td>\n      <td>Phường Liễu Giai</td>\n      <td>Phường</td>\n    </tr>\n    <tr>\n      <th>...</th>\n      <td>...</td>\n      <td>...</td>\n      <td>...</td>\n      <td>...</td>\n    </tr>\n    <tr>\n      <th>10542</th>\n      <td>Tỉnh Cà Mau</td>\n      <td>Huyện Ngọc Hiển</td>\n      <td>Xã Viên An Đông</td>\n      <td>Xã</td>\n    </tr>\n    <tr>\n      <th>10543</th>\n      <td>Tỉnh Cà Mau</td>\n      <td>Huyện Ngọc Hiển</td>\n      <td>Xã Viên An</td>\n      <td>Xã</td>\n    </tr>\n    <tr>\n      <th>10544</th>\n      <td>Tỉnh Cà Mau</td>\n      <td>Huyện Ngọc Hiển</td>\n      <td>Thị trấn Rạch Gốc</td>\n      <td>Thị trấn</td>\n    </tr>\n    <tr>\n      <th>10545</th>\n      <td>Tỉnh Cà Mau</td>\n      <td>Huyện Ngọc Hiển</td>\n      <td>Xã Tân Ân</td>\n      <td>Xã</td>\n    </tr>\n    <tr>\n      <th>10546</th>\n      <td>Tỉnh Cà Mau</td>\n      <td>Huyện Ngọc Hiển</td>\n      <td>Xã Đất Mũi</td>\n      <td>Xã</td>\n    </tr>\n  </tbody>\n</table>\n<p>10547 rows × 4 columns</p>\n</div>"
     },
     "execution_count": 10,
     "metadata": {},
     "output_type": "execute_result"
    }
   ],
   "source": [
    "df"
   ],
   "metadata": {
    "collapsed": false,
    "ExecuteTime": {
     "end_time": "2024-09-16T09:11:34.278033Z",
     "start_time": "2024-09-16T09:11:34.267401Z"
    }
   },
   "id": "19b5681f4b64c970",
   "execution_count": 10
  },
  {
   "cell_type": "code",
   "outputs": [],
   "source": [
    "df['district_address'] = df['long_district'] + ', ' + df['long_province']\n",
    "district_addresses = df['district_address'].tolist()\n",
    "\n",
    "for address in district_addresses:\n",
    "    try:\n",
    "        unit = parse_address(address, level=2)\n",
    "    except:\n",
    "        print(address)\n",
    "    if unit.province == None:\n",
    "        print(address)\n",
    "    elif unit.district == None:\n",
    "        print(address)"
   ],
   "metadata": {
    "collapsed": false,
    "ExecuteTime": {
     "end_time": "2024-09-16T09:11:36.207626Z",
     "start_time": "2024-09-16T09:11:36.040607Z"
    }
   },
   "id": "10f1c4f277648450",
   "execution_count": 13
  },
  {
   "cell_type": "code",
   "outputs": [],
   "source": [
    "df['ward_address'] = df['long_ward'] + ', ' + df['long_district'] + ', ' + df['long_province']\n",
    "ward_addresses = df['ward_address'].dropna().tolist()\n",
    "miss = []\n",
    "for ward_address in ward_addresses:\n",
    "    try:\n",
    "        unit = parse_address(address, level=3)\n",
    "    except:\n",
    "        print(address)\n",
    "        # print(unit)\n",
    "        miss.append((address, unit))\n",
    "    if unit.province == None:\n",
    "        print(address)\n",
    "        # print(unit)\n",
    "        miss.append((address, unit))\n",
    "    elif unit.district == None:\n",
    "        print(address)\n",
    "        # print(unit)\n",
    "        miss.append((address, unit))\n",
    "    elif unit.ward == None:\n",
    "        print(address)\n",
    "        # print(unit)\n",
    "        miss.append((address, unit))"
   ],
   "metadata": {
    "collapsed": false,
    "ExecuteTime": {
     "end_time": "2024-09-16T09:11:36.972217Z",
     "start_time": "2024-09-16T09:11:36.950446Z"
    }
   },
   "id": "2ce0c17cd4128a3f",
   "execution_count": 14
  },
  {
   "cell_type": "code",
   "outputs": [],
   "source": [],
   "metadata": {
    "collapsed": false,
    "ExecuteTime": {
     "end_time": "2024-09-16T09:11:37.494037Z",
     "start_time": "2024-09-16T09:11:37.489634Z"
    }
   },
   "id": "f01bd665d5672071",
   "execution_count": 15
  },
  {
   "cell_type": "code",
   "outputs": [],
   "source": [],
   "metadata": {
    "collapsed": false,
    "ExecuteTime": {
     "end_time": "2024-09-16T09:11:38.337181Z",
     "start_time": "2024-09-16T09:11:37.967002Z"
    }
   },
   "id": "83ccb12c4b33ec42",
   "execution_count": 16
  },
  {
   "cell_type": "code",
   "outputs": [
    {
     "data": {
      "text/plain": "AdministrativeUnit:\nAttribute                      | Value                         \n--------------------------------------------------------------\nprovince                       | Hưng Yên                      \ndistrict                       | Phù Cừ                        \nward                           | Tống Trân                     \n--------------------------------------------------------------\nlong_province                  | Tỉnh Hưng Yên                 \nlong_district                  | Huyện Phù Cừ                  \nlong_ward                      | Xã Tống Trân                  \n--------------------------------------------------------------\nshort_district                 | Phù Cừ                        \nshort_ward                     | Tống Trân                     \n--------------------------------------------------------------\nprovince_english               | Hung Yen                      \ndistrict_english               | Phu Cu                        \nward_english                   | Tong Tran                     \n--------------------------------------------------------------\nlong_province_english          | Hung Yen Province             \nlong_district_english          | Phu Cu District               \nlong_ward_english              | Tong Tran Commune             \n--------------------------------------------------------------\nshort_district_english         | Phu Cu                        \nshort_ward_english             | Tong Tran                     \n--------------------------------------------------------------\ndistrict_level                 | Huyện                         \nward_level                     | Xã                            \n--------------------------------------------------------------\ndistrict_level_english         | District                      \nward_level_english             | Commune                       "
     },
     "execution_count": 17,
     "metadata": {},
     "output_type": "execute_result"
    }
   ],
   "source": [
    "parse_address('Xã Tống Trân, Huyện Phù Cừ, Tỉnh Hưng Yên')"
   ],
   "metadata": {
    "collapsed": false,
    "ExecuteTime": {
     "end_time": "2024-09-16T09:11:38.920774Z",
     "start_time": "2024-09-16T09:11:38.915716Z"
    }
   },
   "id": "35d4f531d8ea0f43",
   "execution_count": 17
  },
  {
   "cell_type": "code",
   "outputs": [],
   "source": [],
   "metadata": {
    "collapsed": false
   },
   "id": "e435966b621016ea",
   "execution_count": null
  }
 ],
 "metadata": {
  "kernelspec": {
   "display_name": "Python 3",
   "language": "python",
   "name": "python3"
  },
  "language_info": {
   "codemirror_mode": {
    "name": "ipython",
    "version": 2
   },
   "file_extension": ".py",
   "mimetype": "text/x-python",
   "name": "python",
   "nbconvert_exporter": "python",
   "pygments_lexer": "ipython2",
   "version": "2.7.6"
  }
 },
 "nbformat": 4,
 "nbformat_minor": 5
}
