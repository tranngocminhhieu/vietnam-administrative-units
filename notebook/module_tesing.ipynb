{
 "cells": [
  {
   "cell_type": "code",
   "execution_count": 1,
   "id": "initial_id",
   "metadata": {
    "collapsed": true,
    "ExecuteTime": {
     "end_time": "2024-09-15T18:20:54.584427Z",
     "start_time": "2024-09-15T18:20:53.946442Z"
    }
   },
   "outputs": [],
   "source": [
    "from vnau_parser import parse_address\n",
    "import pandas as pd\n",
    "import re\n",
    "from unidecode import unidecode"
   ]
  },
  {
   "cell_type": "markdown",
   "source": [
    "# Demo"
   ],
   "metadata": {
    "collapsed": false
   },
   "id": "5a2fae1f4817088b"
  },
  {
   "cell_type": "code",
   "outputs": [
    {
     "data": {
      "text/plain": "AdministrativeUnit(province='Hà Nội', district='Thanh Xuân', ward='Thượng Đình', long_province='Thành phố Hà Nội', long_district='Quận Thanh Xuân', long_ward='Phường Thượng Đình', short_district='Thanh Xuân', short_ward='Thượng Đình', province_english='Ha Noi', district_english='Thanh Xuan', ward_english='Thuong Dinh', long_province_english='Ha Noi City', long_district_english='Thanh Xuan District', long_ward_english='Thuong Dinh Ward', short_district_english='Thanh Xuan', short_ward_english='Thuong Dinh', district_level='Quận', ward_level='Phường', district_level_english='District', ward_level_english='Ward')"
     },
     "execution_count": 2,
     "metadata": {},
     "output_type": "execute_result"
    }
   ],
   "source": [
    "parse_address('Ngã Tư Sở Market, Đường Nguyễn Trãi, Thượng Đình Số nhà 28A, Ngõ 72 Nguyễn Trãi , , Phường Thượng Đình, Quận Thanh Xuân , Hà Nội Quận Thanh Xuân')"
   ],
   "metadata": {
    "collapsed": false,
    "ExecuteTime": {
     "end_time": "2024-09-15T18:20:54.592709Z",
     "start_time": "2024-09-15T18:20:54.585718Z"
    }
   },
   "id": "ccfcb3feb70b601d",
   "execution_count": 2
  },
  {
   "cell_type": "code",
   "outputs": [],
   "source": [
    "admin_unit = parse_address('Ngã Tư Sở Market, Đường Nguyễn Trãi, Thượng Đình Số nhà 28A, Ngõ 72 Nguyễn Trãi , , Phường Thượng Đình, Quận Thanh Xuân , Hà Nội Quận Thanh Xuân')"
   ],
   "metadata": {
    "collapsed": false,
    "ExecuteTime": {
     "end_time": "2024-09-15T18:20:54.595583Z",
     "start_time": "2024-09-15T18:20:54.593545Z"
    }
   },
   "id": "b6c6bb8cc1fbd39a",
   "execution_count": 3
  },
  {
   "cell_type": "code",
   "outputs": [
    {
     "data": {
      "text/plain": "AdministrativeUnit(province='Hà Nội', district='Bắc Từ Liêm', ward='Phú Diễn', long_province='Thành phố Hà Nội', long_district='Quận Bắc Từ Liêm', long_ward='Phường Phú Diễn', short_district='Bắc Từ Liêm', short_ward='Phú Diễn', province_english='Ha Noi', district_english='Bac Tu Liem', ward_english='Phu Dien', long_province_english='Ha Noi City', long_district_english='Bac Tu Liem District', long_ward_english='Phu Dien Ward', short_district_english='Bac Tu Liem', short_ward_english='Phu Dien', district_level='Quận', ward_level='Phường', district_level_english='District', ward_level_english='Ward')"
     },
     "execution_count": 4,
     "metadata": {},
     "output_type": "execute_result"
    }
   ],
   "source": [
    "parse_address('Cuối đường kiều mai, dự án bệnh viện hạnh phúc  phường phú diễn quận bắc từ liêm hà nội')"
   ],
   "metadata": {
    "collapsed": false,
    "ExecuteTime": {
     "end_time": "2024-09-15T18:20:54.599602Z",
     "start_time": "2024-09-15T18:20:54.596975Z"
    }
   },
   "id": "ac59fdbd592726a1",
   "execution_count": 4
  },
  {
   "cell_type": "code",
   "outputs": [
    {
     "data": {
      "text/plain": "AdministrativeUnit(province='Đà Nẵng', district='Sơn Trà', ward='An Hải Bắc', long_province='Thành phố Đà Nẵng', long_district='Quận Sơn Trà', long_ward='Phường An Hải Bắc', short_district='Sơn Trà', short_ward='An Hải Bắc', province_english='Da Nang', district_english='Son Tra', ward_english='An Hai Bac', long_province_english='Da Nang City', long_district_english='Son Tra District', long_ward_english='An Hai Bac Ward', short_district_english='Son Tra', short_ward_english='An Hai Bac', district_level='Quận', ward_level='Phường', district_level_english='District', ward_level_english='Ward')"
     },
     "execution_count": 5,
     "metadata": {},
     "output_type": "execute_result"
    }
   ],
   "source": [
    "parse_address('03 Nguyễn Cao Luyện, An Hải Bắc, Sơn Trà, Đà Nẵng 550000, Việt Nam')"
   ],
   "metadata": {
    "collapsed": false,
    "ExecuteTime": {
     "end_time": "2024-09-15T18:20:54.603276Z",
     "start_time": "2024-09-15T18:20:54.600371Z"
    }
   },
   "id": "6fb98f74ac0bdf8d",
   "execution_count": 5
  },
  {
   "cell_type": "code",
   "outputs": [
    {
     "data": {
      "text/plain": "AdministrativeUnit(province='Hồ Chí Minh', district='Bình Chánh', ward='Phạm Văn Hai', long_province='Thành phố Hồ Chí Minh', long_district='Huyện Bình Chánh', long_ward='Xã Phạm Văn Hai', short_district='Bình Chánh', short_ward='Phạm Văn Hai', province_english='Ho Chi Minh', district_english='Binh Chanh', ward_english='Pham Van Hai', long_province_english='Ho Chi Minh City', long_district_english='Binh Chanh District', long_ward_english='Pham Van Hai Commune', short_district_english='Binh Chanh', short_ward_english='Pham Van Hai', district_level='Huyện', ward_level='Xã', district_level_english='District', ward_level_english='Commune')"
     },
     "execution_count": 6,
     "metadata": {},
     "output_type": "execute_result"
    }
   ],
   "source": [
    "parse_address('3c60/10 chợ cầu xấng, xã phạm văn hai, huyện bình chánh HCM')"
   ],
   "metadata": {
    "collapsed": false,
    "ExecuteTime": {
     "end_time": "2024-09-15T18:20:54.607363Z",
     "start_time": "2024-09-15T18:20:54.604009Z"
    }
   },
   "id": "960a61d68549fa75",
   "execution_count": 6
  },
  {
   "cell_type": "code",
   "outputs": [
    {
     "data": {
      "text/plain": "AdministrativeUnit(province='Hà Nội', district='Nam Từ Liêm', ward=None, long_province='Thành phố Hà Nội', long_district='Quận Nam Từ Liêm', long_ward=None, short_district='Nam Từ Liêm', short_ward=None, province_english='Ha Noi', district_english='Nam Tu Liem', ward_english=None, long_province_english='Ha Noi City', long_district_english='Nam Tu Liem District', long_ward_english=None, short_district_english='Nam Tu Liem', short_ward_english=None, district_level='Quận', ward_level=None, district_level_english='District', ward_level_english=None)"
     },
     "execution_count": 7,
     "metadata": {},
     "output_type": "execute_result"
    }
   ],
   "source": [
    "parse_address('ngõ 154 Đình Thôn, phường Mỹ Đình, Quận Nam Từ Liêm, HN')"
   ],
   "metadata": {
    "collapsed": false,
    "ExecuteTime": {
     "end_time": "2024-09-15T18:20:54.611056Z",
     "start_time": "2024-09-15T18:20:54.608147Z"
    }
   },
   "id": "7ab4dc3d2c704933",
   "execution_count": 7
  },
  {
   "cell_type": "code",
   "outputs": [
    {
     "data": {
      "text/plain": "AdministrativeUnit(province='Hà Nội', district=None, ward=None, long_province='Thành phố Hà Nội', long_district=None, long_ward=None, short_district=None, short_ward=None, province_english='Ha Noi', district_english=None, ward_english=None, long_province_english='Ha Noi City', long_district_english=None, long_ward_english=None, short_district_english=None, short_ward_english=None, district_level=None, ward_level=None, district_level_english=None, ward_level_english=None)"
     },
     "execution_count": 8,
     "metadata": {},
     "output_type": "execute_result"
    }
   ],
   "source": [
    "parse_address('ngõ 154 Đình Thôn, phường Mỹ Đình, Quận Nam Từ Liêm, HN', level=1)"
   ],
   "metadata": {
    "collapsed": false,
    "ExecuteTime": {
     "end_time": "2024-09-15T18:20:54.614077Z",
     "start_time": "2024-09-15T18:20:54.611701Z"
    }
   },
   "id": "661b50a5aeaf84f7",
   "execution_count": 8
  },
  {
   "cell_type": "code",
   "outputs": [
    {
     "data": {
      "text/plain": "AdministrativeUnit(province='Hà Nội', district='Gia Lâm', ward='Xã Yên Viên', long_province='Thành phố Hà Nội', long_district='Huyện Gia Lâm', long_ward='Xã Yên Viên', short_district='Gia Lâm', short_ward='Yên Viên', province_english='Ha Noi', district_english='Gia Lam', ward_english='Yen Vien Commune', long_province_english='Ha Noi City', long_district_english='Gia Lam District', long_ward_english='Yen Vien Commune', short_district_english='Gia Lam', short_ward_english='Yen Vien', district_level='Huyện', ward_level='Xã', district_level_english='District', ward_level_english='Commune')"
     },
     "execution_count": 9,
     "metadata": {},
     "output_type": "execute_result"
    }
   ],
   "source": [
    "parse_address('Ha Noi, Gia Lam, Yen Vien')"
   ],
   "metadata": {
    "collapsed": false,
    "ExecuteTime": {
     "end_time": "2024-09-15T18:20:54.616645Z",
     "start_time": "2024-09-15T18:20:54.614585Z"
    }
   },
   "id": "8928a354ab16a274",
   "execution_count": 9
  },
  {
   "cell_type": "markdown",
   "source": [
    "# Check wrong or missing in bulk"
   ],
   "metadata": {
    "collapsed": false
   },
   "id": "3f7ebf254ffba569"
  },
  {
   "cell_type": "code",
   "outputs": [],
   "source": [
    "df = pd.read_csv('../data/input/danhmuchanhchinhgso.gov.vn.csv')"
   ],
   "metadata": {
    "collapsed": false,
    "ExecuteTime": {
     "end_time": "2024-09-15T18:20:54.634254Z",
     "start_time": "2024-09-15T18:20:54.618378Z"
    }
   },
   "id": "19018c4a3a7f3491",
   "execution_count": 10
  },
  {
   "cell_type": "code",
   "outputs": [
    {
     "data": {
      "text/plain": "          long_province    long_district          long_ward ward_level\n0      Thành phố Hà Nội     Quận Ba Đình     Phường Phúc Xá     Phường\n1      Thành phố Hà Nội     Quận Ba Đình   Phường Trúc Bạch     Phường\n2      Thành phố Hà Nội     Quận Ba Đình   Phường Vĩnh Phúc     Phường\n3      Thành phố Hà Nội     Quận Ba Đình     Phường Cống Vị     Phường\n4      Thành phố Hà Nội     Quận Ba Đình   Phường Liễu Giai     Phường\n...                 ...              ...                ...        ...\n10542       Tỉnh Cà Mau  Huyện Ngọc Hiển    Xã Viên An Đông         Xã\n10543       Tỉnh Cà Mau  Huyện Ngọc Hiển         Xã Viên An         Xã\n10544       Tỉnh Cà Mau  Huyện Ngọc Hiển  Thị trấn Rạch Gốc   Thị trấn\n10545       Tỉnh Cà Mau  Huyện Ngọc Hiển          Xã Tân Ân         Xã\n10546       Tỉnh Cà Mau  Huyện Ngọc Hiển         Xã Đất Mũi         Xã\n\n[10547 rows x 4 columns]",
      "text/html": "<div>\n<style scoped>\n    .dataframe tbody tr th:only-of-type {\n        vertical-align: middle;\n    }\n\n    .dataframe tbody tr th {\n        vertical-align: top;\n    }\n\n    .dataframe thead th {\n        text-align: right;\n    }\n</style>\n<table border=\"1\" class=\"dataframe\">\n  <thead>\n    <tr style=\"text-align: right;\">\n      <th></th>\n      <th>long_province</th>\n      <th>long_district</th>\n      <th>long_ward</th>\n      <th>ward_level</th>\n    </tr>\n  </thead>\n  <tbody>\n    <tr>\n      <th>0</th>\n      <td>Thành phố Hà Nội</td>\n      <td>Quận Ba Đình</td>\n      <td>Phường Phúc Xá</td>\n      <td>Phường</td>\n    </tr>\n    <tr>\n      <th>1</th>\n      <td>Thành phố Hà Nội</td>\n      <td>Quận Ba Đình</td>\n      <td>Phường Trúc Bạch</td>\n      <td>Phường</td>\n    </tr>\n    <tr>\n      <th>2</th>\n      <td>Thành phố Hà Nội</td>\n      <td>Quận Ba Đình</td>\n      <td>Phường Vĩnh Phúc</td>\n      <td>Phường</td>\n    </tr>\n    <tr>\n      <th>3</th>\n      <td>Thành phố Hà Nội</td>\n      <td>Quận Ba Đình</td>\n      <td>Phường Cống Vị</td>\n      <td>Phường</td>\n    </tr>\n    <tr>\n      <th>4</th>\n      <td>Thành phố Hà Nội</td>\n      <td>Quận Ba Đình</td>\n      <td>Phường Liễu Giai</td>\n      <td>Phường</td>\n    </tr>\n    <tr>\n      <th>...</th>\n      <td>...</td>\n      <td>...</td>\n      <td>...</td>\n      <td>...</td>\n    </tr>\n    <tr>\n      <th>10542</th>\n      <td>Tỉnh Cà Mau</td>\n      <td>Huyện Ngọc Hiển</td>\n      <td>Xã Viên An Đông</td>\n      <td>Xã</td>\n    </tr>\n    <tr>\n      <th>10543</th>\n      <td>Tỉnh Cà Mau</td>\n      <td>Huyện Ngọc Hiển</td>\n      <td>Xã Viên An</td>\n      <td>Xã</td>\n    </tr>\n    <tr>\n      <th>10544</th>\n      <td>Tỉnh Cà Mau</td>\n      <td>Huyện Ngọc Hiển</td>\n      <td>Thị trấn Rạch Gốc</td>\n      <td>Thị trấn</td>\n    </tr>\n    <tr>\n      <th>10545</th>\n      <td>Tỉnh Cà Mau</td>\n      <td>Huyện Ngọc Hiển</td>\n      <td>Xã Tân Ân</td>\n      <td>Xã</td>\n    </tr>\n    <tr>\n      <th>10546</th>\n      <td>Tỉnh Cà Mau</td>\n      <td>Huyện Ngọc Hiển</td>\n      <td>Xã Đất Mũi</td>\n      <td>Xã</td>\n    </tr>\n  </tbody>\n</table>\n<p>10547 rows × 4 columns</p>\n</div>"
     },
     "execution_count": 11,
     "metadata": {},
     "output_type": "execute_result"
    }
   ],
   "source": [
    "df"
   ],
   "metadata": {
    "collapsed": false,
    "ExecuteTime": {
     "end_time": "2024-09-15T18:20:54.641641Z",
     "start_time": "2024-09-15T18:20:54.634746Z"
    }
   },
   "id": "19b5681f4b64c970",
   "execution_count": 11
  },
  {
   "cell_type": "code",
   "outputs": [],
   "source": [
    "df['address'] = df['long_district'] + ', ' + df['long_province']"
   ],
   "metadata": {
    "collapsed": false,
    "ExecuteTime": {
     "end_time": "2024-09-15T18:20:54.645814Z",
     "start_time": "2024-09-15T18:20:54.642385Z"
    }
   },
   "id": "b3b949a17d308bde",
   "execution_count": 12
  },
  {
   "cell_type": "code",
   "outputs": [],
   "source": [
    "addresses = df['address'].tolist()"
   ],
   "metadata": {
    "collapsed": false,
    "ExecuteTime": {
     "end_time": "2024-09-15T18:20:54.648037Z",
     "start_time": "2024-09-15T18:20:54.646437Z"
    }
   },
   "id": "c985bc2ac136a597",
   "execution_count": 13
  },
  {
   "cell_type": "code",
   "outputs": [],
   "source": [
    "for address in addresses:\n",
    "    try:\n",
    "        unit = parse_address(address, level=2)\n",
    "    except:\n",
    "        print(address)\n",
    "    if unit.province == None:\n",
    "        print(address)\n",
    "    elif unit.district == None:\n",
    "        print(address)"
   ],
   "metadata": {
    "collapsed": false,
    "ExecuteTime": {
     "end_time": "2024-09-15T18:20:54.740908Z",
     "start_time": "2024-09-15T18:20:54.648673Z"
    }
   },
   "id": "10f1c4f277648450",
   "execution_count": 14
  }
 ],
 "metadata": {
  "kernelspec": {
   "display_name": "Python 3",
   "language": "python",
   "name": "python3"
  },
  "language_info": {
   "codemirror_mode": {
    "name": "ipython",
    "version": 2
   },
   "file_extension": ".py",
   "mimetype": "text/x-python",
   "name": "python",
   "nbconvert_exporter": "python",
   "pygments_lexer": "ipython2",
   "version": "2.7.6"
  }
 },
 "nbformat": 4,
 "nbformat_minor": 5
}
