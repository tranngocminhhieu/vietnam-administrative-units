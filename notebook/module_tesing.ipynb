{
 "cells": [
  {
   "cell_type": "code",
   "execution_count": 1,
   "id": "initial_id",
   "metadata": {
    "collapsed": true,
    "ExecuteTime": {
     "end_time": "2024-09-16T17:46:13.398297Z",
     "start_time": "2024-09-16T17:46:13.048056Z"
    }
   },
   "outputs": [],
   "source": [
    "from vietadminunits import parse_address, get_data\n",
    "import pandas as pd\n",
    "import re\n",
    "\n",
    "from unidecode import unidecode"
   ]
  },
  {
   "cell_type": "markdown",
   "source": [
    "# Demo"
   ],
   "metadata": {
    "collapsed": false
   },
   "id": "5a2fae1f4817088b"
  },
  {
   "cell_type": "code",
   "outputs": [
    {
     "data": {
      "text/plain": "AdministrativeUnit:\nAttribute                      | Value                         \n--------------------------------------------------------------\nprovince                       | Hà Tĩnh                       \ndistrict                       | Thị xã Kỳ Anh                 \nward                           |                               \n--------------------------------------------------------------\nlong_province                  | Tỉnh Hà Tĩnh                  \nlong_district                  | Thị xã Kỳ Anh                 \nlong_ward                      |                               \n--------------------------------------------------------------\nshort_district                 | Kỳ Anh                        \nshort_ward                     |                               \n--------------------------------------------------------------\nprovince_english               | Ha Tinh                       \ndistrict_english               | Ky Anh Town                   \nward_english                   |                               \n--------------------------------------------------------------\nlong_province_english          | Ha Tinh Province              \nlong_district_english          | Ky Anh Town                   \nlong_ward_english              |                               \n--------------------------------------------------------------\nshort_district_english         | Ky Anh                        \nshort_ward_english             |                               \n--------------------------------------------------------------\ndistrict_level                 | Thị xã                        \nward_level                     |                               \n--------------------------------------------------------------\ndistrict_level_english         | Town                          \nward_level_english             |                               "
     },
     "execution_count": 2,
     "metadata": {},
     "output_type": "execute_result"
    }
   ],
   "source": [
    "parse_address('ky anh ha tinh')"
   ],
   "metadata": {
    "collapsed": false,
    "ExecuteTime": {
     "end_time": "2024-09-16T17:46:13.782639Z",
     "start_time": "2024-09-16T17:46:13.776685Z"
    }
   },
   "id": "57289afc468afdaa",
   "execution_count": 2
  },
  {
   "cell_type": "code",
   "outputs": [
    {
     "data": {
      "text/plain": "AdministrativeUnit:\nAttribute                      | Value                         \n--------------------------------------------------------------\nprovince                       | Sơn La                        \ndistrict                       | Mai Sơn                       \nward                           | Xã Hát Lót                    \n--------------------------------------------------------------\nlong_province                  | Tỉnh Sơn La                   \nlong_district                  | Huyện Mai Sơn                 \nlong_ward                      | Xã Hát Lót                    \n--------------------------------------------------------------\nshort_district                 | Mai Sơn                       \nshort_ward                     | Hát Lót                       \n--------------------------------------------------------------\nprovince_english               | Son La                        \ndistrict_english               | Mai Son                       \nward_english                   | Hat Lot Commune               \n--------------------------------------------------------------\nlong_province_english          | Son La Province               \nlong_district_english          | Mai Son District              \nlong_ward_english              | Hat Lot Commune               \n--------------------------------------------------------------\nshort_district_english         | Mai Son                       \nshort_ward_english             | Hat Lot                       \n--------------------------------------------------------------\ndistrict_level                 | Huyện                         \nward_level                     | Xã                            \n--------------------------------------------------------------\ndistrict_level_english         | District                      \nward_level_english             | Commune                       "
     },
     "execution_count": 3,
     "metadata": {},
     "output_type": "execute_result"
    }
   ],
   "source": [
    "parse_address('hat lot mai son son la')"
   ],
   "metadata": {
    "collapsed": false,
    "ExecuteTime": {
     "end_time": "2024-09-16T17:46:14.508393Z",
     "start_time": "2024-09-16T17:46:14.490994Z"
    }
   },
   "id": "21305f6aa3f21443",
   "execution_count": 3
  },
  {
   "cell_type": "code",
   "outputs": [
    {
     "data": {
      "text/plain": "AdministrativeUnit:\nAttribute                      | Value                         \n--------------------------------------------------------------\nprovince                       | Cà Mau                        \ndistrict                       | Cà Mau                        \nward                           | Phường Tân Thành              \n--------------------------------------------------------------\nlong_province                  | Tỉnh Cà Mau                   \nlong_district                  | Thành phố Cà Mau              \nlong_ward                      | Phường Tân Thành              \n--------------------------------------------------------------\nshort_district                 | Cà Mau                        \nshort_ward                     | Tân Thành                     \n--------------------------------------------------------------\nprovince_english               | Ca Mau                        \ndistrict_english               | Ca Mau                        \nward_english                   | Tan Thanh Ward                \n--------------------------------------------------------------\nlong_province_english          | Ca Mau Province               \nlong_district_english          | Ca Mau City                   \nlong_ward_english              | Tan Thanh Ward                \n--------------------------------------------------------------\nshort_district_english         | Ca Mau                        \nshort_ward_english             | Tan Thanh                     \n--------------------------------------------------------------\ndistrict_level                 | Thành phố                     \nward_level                     | Phường                        \n--------------------------------------------------------------\ndistrict_level_english         | City                          \nward_level_english             | Ward                          "
     },
     "execution_count": 4,
     "metadata": {},
     "output_type": "execute_result"
    }
   ],
   "source": [
    "parse_address('phuong Tan Thanh, Ca Mau, Ca Mau')"
   ],
   "metadata": {
    "collapsed": false,
    "ExecuteTime": {
     "end_time": "2024-09-16T17:46:20.970442Z",
     "start_time": "2024-09-16T17:46:20.964600Z"
    }
   },
   "id": "745e840418e26c0b",
   "execution_count": 4
  },
  {
   "cell_type": "code",
   "outputs": [
    {
     "data": {
      "text/plain": "AdministrativeUnit:\nAttribute                      | Value                         \n--------------------------------------------------------------\nprovince                       | Hà Nội                        \ndistrict                       | Thanh Xuân                    \nward                           | Thượng Đình                   \n--------------------------------------------------------------\nlong_province                  | Thành phố Hà Nội              \nlong_district                  | Quận Thanh Xuân               \nlong_ward                      | Phường Thượng Đình            \n--------------------------------------------------------------\nshort_district                 | Thanh Xuân                    \nshort_ward                     | Thượng Đình                   \n--------------------------------------------------------------\nprovince_english               | Ha Noi                        \ndistrict_english               | Thanh Xuan                    \nward_english                   | Thuong Dinh                   \n--------------------------------------------------------------\nlong_province_english          | Ha Noi City                   \nlong_district_english          | Thanh Xuan District           \nlong_ward_english              | Thuong Dinh Ward              \n--------------------------------------------------------------\nshort_district_english         | Thanh Xuan                    \nshort_ward_english             | Thuong Dinh                   \n--------------------------------------------------------------\ndistrict_level                 | Quận                          \nward_level                     | Phường                        \n--------------------------------------------------------------\ndistrict_level_english         | District                      \nward_level_english             | Ward                          "
     },
     "execution_count": 5,
     "metadata": {},
     "output_type": "execute_result"
    }
   ],
   "source": [
    "parse_address('Ngã Tư Sở Market, Đường Nguyễn Trãi, Thượng Đình Số nhà 28A, Ngõ 72 Nguyễn Trãi , , Phường Thượng Đình, Quận Thanh Xuân , Hà Nội Quận Thanh Xuân')"
   ],
   "metadata": {
    "collapsed": false,
    "ExecuteTime": {
     "end_time": "2024-09-16T17:46:23.616867Z",
     "start_time": "2024-09-16T17:46:23.608183Z"
    }
   },
   "id": "ccfcb3feb70b601d",
   "execution_count": 5
  },
  {
   "cell_type": "code",
   "outputs": [
    {
     "data": {
      "text/plain": "AdministrativeUnit:\nAttribute                      | Value                         \n--------------------------------------------------------------\nprovince                       | Hà Nội                        \ndistrict                       | Bắc Từ Liêm                   \nward                           | Phú Diễn                      \n--------------------------------------------------------------\nlong_province                  | Thành phố Hà Nội              \nlong_district                  | Quận Bắc Từ Liêm              \nlong_ward                      | Phường Phú Diễn               \n--------------------------------------------------------------\nshort_district                 | Bắc Từ Liêm                   \nshort_ward                     | Phú Diễn                      \n--------------------------------------------------------------\nprovince_english               | Ha Noi                        \ndistrict_english               | Bac Tu Liem                   \nward_english                   | Phu Dien                      \n--------------------------------------------------------------\nlong_province_english          | Ha Noi City                   \nlong_district_english          | Bac Tu Liem District          \nlong_ward_english              | Phu Dien Ward                 \n--------------------------------------------------------------\nshort_district_english         | Bac Tu Liem                   \nshort_ward_english             | Phu Dien                      \n--------------------------------------------------------------\ndistrict_level                 | Quận                          \nward_level                     | Phường                        \n--------------------------------------------------------------\ndistrict_level_english         | District                      \nward_level_english             | Ward                          "
     },
     "execution_count": 6,
     "metadata": {},
     "output_type": "execute_result"
    }
   ],
   "source": [
    "parse_address('Cuối đường kiều mai, dự án bệnh viện hạnh phúc  phường phú diễn quận bắc từ liêm hà nội')"
   ],
   "metadata": {
    "collapsed": false,
    "ExecuteTime": {
     "end_time": "2024-09-16T17:46:24.966538Z",
     "start_time": "2024-09-16T17:46:24.961814Z"
    }
   },
   "id": "ac59fdbd592726a1",
   "execution_count": 6
  },
  {
   "cell_type": "code",
   "outputs": [
    {
     "name": "stdout",
     "output_type": "stream",
     "text": [
      "AdministrativeUnit:\n",
      "Attribute                      | Value                         \n",
      "--------------------------------------------------------------\n",
      "province                       | Hà Nội                        \n",
      "district                       | Bắc Từ Liêm                   \n",
      "ward                           | Phú Diễn                      \n",
      "--------------------------------------------------------------\n",
      "long_province                  | Thành phố Hà Nội              \n",
      "long_district                  | Quận Bắc Từ Liêm              \n",
      "long_ward                      | Phường Phú Diễn               \n",
      "--------------------------------------------------------------\n",
      "short_district                 | Bắc Từ Liêm                   \n",
      "short_ward                     | Phú Diễn                      \n",
      "--------------------------------------------------------------\n",
      "province_english               | Ha Noi                        \n",
      "district_english               | Bac Tu Liem                   \n",
      "ward_english                   | Phu Dien                      \n",
      "--------------------------------------------------------------\n",
      "long_province_english          | Ha Noi City                   \n",
      "long_district_english          | Bac Tu Liem District          \n",
      "long_ward_english              | Phu Dien Ward                 \n",
      "--------------------------------------------------------------\n",
      "short_district_english         | Bac Tu Liem                   \n",
      "short_ward_english             | Phu Dien                      \n",
      "--------------------------------------------------------------\n",
      "district_level                 | Quận                          \n",
      "ward_level                     | Phường                        \n",
      "--------------------------------------------------------------\n",
      "district_level_english         | District                      \n",
      "ward_level_english             | Ward                          \n",
      "\n",
      "Phú Diễn, Bắc Từ Liêm, Hà Nội\n"
     ]
    }
   ],
   "source": [
    "address = 'Cuối đường kiều mai, dự án bệnh viện hạnh phúc phường phú diễn quận bắc từ liêm HN'\n",
    "\n",
    "admin_unit = parse_address(address=address, level=3)\n",
    "\n",
    "print(admin_unit)\n",
    "\n",
    "print(admin_unit.ward, admin_unit.district, admin_unit.province, sep=', ')"
   ],
   "metadata": {
    "collapsed": false,
    "ExecuteTime": {
     "end_time": "2024-09-16T17:55:54.107076Z",
     "start_time": "2024-09-16T17:55:54.098415Z"
    }
   },
   "id": "5ef8a354992a293e",
   "execution_count": 18
  },
  {
   "cell_type": "code",
   "outputs": [
    {
     "data": {
      "text/plain": "AdministrativeUnit:\nAttribute                      | Value                         \n--------------------------------------------------------------\nprovince                       | Đà Nẵng                       \ndistrict                       | Sơn Trà                       \nward                           | An Hải Bắc                    \n--------------------------------------------------------------\nlong_province                  | Thành phố Đà Nẵng             \nlong_district                  | Quận Sơn Trà                  \nlong_ward                      | Phường An Hải Bắc             \n--------------------------------------------------------------\nshort_district                 | Sơn Trà                       \nshort_ward                     | An Hải Bắc                    \n--------------------------------------------------------------\nprovince_english               | Da Nang                       \ndistrict_english               | Son Tra                       \nward_english                   | An Hai Bac                    \n--------------------------------------------------------------\nlong_province_english          | Da Nang City                  \nlong_district_english          | Son Tra District              \nlong_ward_english              | An Hai Bac Ward               \n--------------------------------------------------------------\nshort_district_english         | Son Tra                       \nshort_ward_english             | An Hai Bac                    \n--------------------------------------------------------------\ndistrict_level                 | Quận                          \nward_level                     | Phường                        \n--------------------------------------------------------------\ndistrict_level_english         | District                      \nward_level_english             | Ward                          "
     },
     "execution_count": 7,
     "metadata": {},
     "output_type": "execute_result"
    }
   ],
   "source": [
    "parse_address('03 Nguyễn Cao Luyện, An Hải Bắc, Sơn Trà, Đà Nẵng 550000, Việt Nam')"
   ],
   "metadata": {
    "collapsed": false,
    "ExecuteTime": {
     "end_time": "2024-09-16T17:46:29.991997Z",
     "start_time": "2024-09-16T17:46:29.987072Z"
    }
   },
   "id": "6fb98f74ac0bdf8d",
   "execution_count": 7
  },
  {
   "cell_type": "code",
   "outputs": [
    {
     "data": {
      "text/plain": "AdministrativeUnit:\nAttribute                      | Value                         \n--------------------------------------------------------------\nprovince                       | Hồ Chí Minh                   \ndistrict                       | Bình Chánh                    \nward                           | Phạm Văn Hai                  \n--------------------------------------------------------------\nlong_province                  | Thành phố Hồ Chí Minh         \nlong_district                  | Huyện Bình Chánh              \nlong_ward                      | Xã Phạm Văn Hai               \n--------------------------------------------------------------\nshort_district                 | Bình Chánh                    \nshort_ward                     | Phạm Văn Hai                  \n--------------------------------------------------------------\nprovince_english               | Ho Chi Minh                   \ndistrict_english               | Binh Chanh                    \nward_english                   | Pham Van Hai                  \n--------------------------------------------------------------\nlong_province_english          | Ho Chi Minh City              \nlong_district_english          | Binh Chanh District           \nlong_ward_english              | Pham Van Hai Commune          \n--------------------------------------------------------------\nshort_district_english         | Binh Chanh                    \nshort_ward_english             | Pham Van Hai                  \n--------------------------------------------------------------\ndistrict_level                 | Huyện                         \nward_level                     | Xã                            \n--------------------------------------------------------------\ndistrict_level_english         | District                      \nward_level_english             | Commune                       "
     },
     "execution_count": 8,
     "metadata": {},
     "output_type": "execute_result"
    }
   ],
   "source": [
    "parse_address('3c60/10 chợ cầu xấng, xã phạm văn hai, huyện bình chánh HCM')"
   ],
   "metadata": {
    "collapsed": false,
    "ExecuteTime": {
     "end_time": "2024-09-16T17:46:32.155053Z",
     "start_time": "2024-09-16T17:46:32.149742Z"
    }
   },
   "id": "960a61d68549fa75",
   "execution_count": 8
  },
  {
   "cell_type": "code",
   "outputs": [
    {
     "data": {
      "text/plain": "AdministrativeUnit:\nAttribute                      | Value                         \n--------------------------------------------------------------\nprovince                       | Hà Nội                        \ndistrict                       | Nam Từ Liêm                   \nward                           | Mỹ Đình 2                     \n--------------------------------------------------------------\nlong_province                  | Thành phố Hà Nội              \nlong_district                  | Quận Nam Từ Liêm              \nlong_ward                      | Phường Mỹ Đình 2              \n--------------------------------------------------------------\nshort_district                 | Nam Từ Liêm                   \nshort_ward                     | Mỹ Đình 2                     \n--------------------------------------------------------------\nprovince_english               | Ha Noi                        \ndistrict_english               | Nam Tu Liem                   \nward_english                   | My Dinh 2                     \n--------------------------------------------------------------\nlong_province_english          | Ha Noi City                   \nlong_district_english          | Nam Tu Liem District          \nlong_ward_english              | My Dinh 2 Ward                \n--------------------------------------------------------------\nshort_district_english         | Nam Tu Liem                   \nshort_ward_english             | My Dinh 2                     \n--------------------------------------------------------------\ndistrict_level                 | Quận                          \nward_level                     | Phường                        \n--------------------------------------------------------------\ndistrict_level_english         | District                      \nward_level_english             | Ward                          "
     },
     "execution_count": 9,
     "metadata": {},
     "output_type": "execute_result"
    }
   ],
   "source": [
    "parse_address('ngõ 154 Đình Thôn, phường Mỹ Đình 2, Quận Nam Từ Liêm, HN')"
   ],
   "metadata": {
    "collapsed": false,
    "ExecuteTime": {
     "end_time": "2024-09-16T17:46:33.889520Z",
     "start_time": "2024-09-16T17:46:33.885069Z"
    }
   },
   "id": "7ab4dc3d2c704933",
   "execution_count": 9
  },
  {
   "cell_type": "code",
   "outputs": [
    {
     "data": {
      "text/plain": "AdministrativeUnit:\nAttribute                      | Value                         \n--------------------------------------------------------------\nprovince                       | Hà Nội                        \ndistrict                       | Gia Lâm                       \nward                           | Xã Yên Viên                   \n--------------------------------------------------------------\nlong_province                  | Thành phố Hà Nội              \nlong_district                  | Huyện Gia Lâm                 \nlong_ward                      | Xã Yên Viên                   \n--------------------------------------------------------------\nshort_district                 | Gia Lâm                       \nshort_ward                     | Yên Viên                      \n--------------------------------------------------------------\nprovince_english               | Ha Noi                        \ndistrict_english               | Gia Lam                       \nward_english                   | Yen Vien Commune              \n--------------------------------------------------------------\nlong_province_english          | Ha Noi City                   \nlong_district_english          | Gia Lam District              \nlong_ward_english              | Yen Vien Commune              \n--------------------------------------------------------------\nshort_district_english         | Gia Lam                       \nshort_ward_english             | Yen Vien                      \n--------------------------------------------------------------\ndistrict_level                 | Huyện                         \nward_level                     | Xã                            \n--------------------------------------------------------------\ndistrict_level_english         | District                      \nward_level_english             | Commune                       "
     },
     "execution_count": 10,
     "metadata": {},
     "output_type": "execute_result"
    }
   ],
   "source": [
    "parse_address('Ha Noi, Gia Lam, Yen Vien')"
   ],
   "metadata": {
    "collapsed": false,
    "ExecuteTime": {
     "end_time": "2024-09-16T17:46:34.748089Z",
     "start_time": "2024-09-16T17:46:34.743684Z"
    }
   },
   "id": "8928a354ab16a274",
   "execution_count": 10
  },
  {
   "cell_type": "markdown",
   "source": [
    "# Check wrong or missing in bulk"
   ],
   "metadata": {
    "collapsed": false
   },
   "id": "3f7ebf254ffba569"
  },
  {
   "cell_type": "code",
   "outputs": [],
   "source": [
    "df = pd.read_csv('../data/input/danhmuchanhchinhgso.gov.vn.csv')"
   ],
   "metadata": {
    "collapsed": false,
    "ExecuteTime": {
     "end_time": "2024-09-16T17:46:39.131235Z",
     "start_time": "2024-09-16T17:46:39.087575Z"
    }
   },
   "id": "19018c4a3a7f3491",
   "execution_count": 11
  },
  {
   "cell_type": "code",
   "outputs": [],
   "source": [
    "df['district_address'] = df['long_district'] + ', ' + df['long_province']\n",
    "district_addresses = df['district_address'].tolist()\n",
    "\n",
    "for address in district_addresses:\n",
    "    try:\n",
    "        unit = parse_address(address, level=2)\n",
    "    except:\n",
    "        print(address)\n",
    "    if unit.province == None:\n",
    "        print(address)\n",
    "    elif unit.district == None:\n",
    "        print(address)"
   ],
   "metadata": {
    "collapsed": false,
    "ExecuteTime": {
     "end_time": "2024-09-16T17:46:39.638349Z",
     "start_time": "2024-09-16T17:46:39.517943Z"
    }
   },
   "id": "10f1c4f277648450",
   "execution_count": 12
  },
  {
   "cell_type": "code",
   "outputs": [],
   "source": [
    "df['ward_address'] = df['long_ward'].fillna('') + ', ' + df['long_district'] + ', ' + df['long_province']\n",
    "ward_addresses = df['ward_address'].dropna().tolist()\n",
    "miss = []\n",
    "for ward_address in ward_addresses:\n",
    "    try:\n",
    "        unit = parse_address(ward_address, level=3)\n",
    "    except Exception as e:\n",
    "        print(ward_address)\n",
    "        raise e\n",
    "\n",
    "    if unit.province == None:\n",
    "        print(ward_address)\n",
    "    elif unit.district == None:\n",
    "        print(ward_address)\n",
    "    elif unit.ward == None and unit.district_key not in ['bachlongvi', 'conco', 'hoangsa', 'lyson', 'condao']:\n",
    "        print(ward_address)\n"
   ],
   "metadata": {
    "collapsed": false,
    "ExecuteTime": {
     "end_time": "2024-09-16T17:46:40.789682Z",
     "start_time": "2024-09-16T17:46:40.552313Z"
    }
   },
   "id": "2ce0c17cd4128a3f",
   "execution_count": 13
  },
  {
   "cell_type": "code",
   "outputs": [
    {
     "data": {
      "text/plain": "AdministrativeUnit:\nAttribute                      | Value                         \n--------------------------------------------------------------\nprovince                       | Lạng Sơn                      \ndistrict                       | Lạng Sơn                      \nward                           | Chi Lăng                      \n--------------------------------------------------------------\nlong_province                  | Tỉnh Lạng Sơn                 \nlong_district                  | Thành phố Lạng Sơn            \nlong_ward                      | Phường Chi Lăng               \n--------------------------------------------------------------\nshort_district                 | Lạng Sơn                      \nshort_ward                     | Chi Lăng                      \n--------------------------------------------------------------\nprovince_english               | Lang Son                      \ndistrict_english               | Lang Son                      \nward_english                   | Chi Lang                      \n--------------------------------------------------------------\nlong_province_english          | Lang Son Province             \nlong_district_english          | Lang Son City                 \nlong_ward_english              | Chi Lang Ward                 \n--------------------------------------------------------------\nshort_district_english         | Lang Son                      \nshort_ward_english             | Chi Lang                      \n--------------------------------------------------------------\ndistrict_level                 | Thành phố                     \nward_level                     | Phường                        \n--------------------------------------------------------------\ndistrict_level_english         | City                          \nward_level_english             | Ward                          "
     },
     "execution_count": 14,
     "metadata": {},
     "output_type": "execute_result"
    }
   ],
   "source": [
    "parse_address('Phường Chi Lăng, Thành phố Lạng Sơn, Tỉnh Lạng Sơn', level=3)"
   ],
   "metadata": {
    "collapsed": false,
    "ExecuteTime": {
     "end_time": "2024-09-16T17:46:42.651500Z",
     "start_time": "2024-09-16T17:46:42.646413Z"
    }
   },
   "id": "1d56fa8d62f38ed4",
   "execution_count": 14
  },
  {
   "cell_type": "code",
   "outputs": [],
   "source": [
    "df_check = pd.DataFrame(get_data('province_english, long_district, long_ward'))"
   ],
   "metadata": {
    "collapsed": false,
    "ExecuteTime": {
     "end_time": "2024-09-16T17:46:49.505854Z",
     "start_time": "2024-09-16T17:46:49.460102Z"
    }
   },
   "id": "27b3befb462d77a3",
   "execution_count": 15
  },
  {
   "cell_type": "code",
   "outputs": [
    {
     "data": {
      "text/plain": "      province_english    long_district          long_ward\n0               Ha Noi     Quận Ba Đình     Phường Phúc Xá\n1               Ha Noi     Quận Ba Đình   Phường Trúc Bạch\n2               Ha Noi     Quận Ba Đình   Phường Vĩnh Phúc\n3               Ha Noi     Quận Ba Đình     Phường Cống Vị\n4               Ha Noi     Quận Ba Đình   Phường Liễu Giai\n...                ...              ...                ...\n10542           Ca Mau  Huyện Ngọc Hiển    Xã Viên An Đông\n10543           Ca Mau  Huyện Ngọc Hiển         Xã Viên An\n10544           Ca Mau  Huyện Ngọc Hiển  Thị trấn Rạch Gốc\n10545           Ca Mau  Huyện Ngọc Hiển          Xã Tân Ân\n10546           Ca Mau  Huyện Ngọc Hiển         Xã Đất Mũi\n\n[10547 rows x 3 columns]",
      "text/html": "<div>\n<style scoped>\n    .dataframe tbody tr th:only-of-type {\n        vertical-align: middle;\n    }\n\n    .dataframe tbody tr th {\n        vertical-align: top;\n    }\n\n    .dataframe thead th {\n        text-align: right;\n    }\n</style>\n<table border=\"1\" class=\"dataframe\">\n  <thead>\n    <tr style=\"text-align: right;\">\n      <th></th>\n      <th>province_english</th>\n      <th>long_district</th>\n      <th>long_ward</th>\n    </tr>\n  </thead>\n  <tbody>\n    <tr>\n      <th>0</th>\n      <td>Ha Noi</td>\n      <td>Quận Ba Đình</td>\n      <td>Phường Phúc Xá</td>\n    </tr>\n    <tr>\n      <th>1</th>\n      <td>Ha Noi</td>\n      <td>Quận Ba Đình</td>\n      <td>Phường Trúc Bạch</td>\n    </tr>\n    <tr>\n      <th>2</th>\n      <td>Ha Noi</td>\n      <td>Quận Ba Đình</td>\n      <td>Phường Vĩnh Phúc</td>\n    </tr>\n    <tr>\n      <th>3</th>\n      <td>Ha Noi</td>\n      <td>Quận Ba Đình</td>\n      <td>Phường Cống Vị</td>\n    </tr>\n    <tr>\n      <th>4</th>\n      <td>Ha Noi</td>\n      <td>Quận Ba Đình</td>\n      <td>Phường Liễu Giai</td>\n    </tr>\n    <tr>\n      <th>...</th>\n      <td>...</td>\n      <td>...</td>\n      <td>...</td>\n    </tr>\n    <tr>\n      <th>10542</th>\n      <td>Ca Mau</td>\n      <td>Huyện Ngọc Hiển</td>\n      <td>Xã Viên An Đông</td>\n    </tr>\n    <tr>\n      <th>10543</th>\n      <td>Ca Mau</td>\n      <td>Huyện Ngọc Hiển</td>\n      <td>Xã Viên An</td>\n    </tr>\n    <tr>\n      <th>10544</th>\n      <td>Ca Mau</td>\n      <td>Huyện Ngọc Hiển</td>\n      <td>Thị trấn Rạch Gốc</td>\n    </tr>\n    <tr>\n      <th>10545</th>\n      <td>Ca Mau</td>\n      <td>Huyện Ngọc Hiển</td>\n      <td>Xã Tân Ân</td>\n    </tr>\n    <tr>\n      <th>10546</th>\n      <td>Ca Mau</td>\n      <td>Huyện Ngọc Hiển</td>\n      <td>Xã Đất Mũi</td>\n    </tr>\n  </tbody>\n</table>\n<p>10547 rows × 3 columns</p>\n</div>"
     },
     "execution_count": 16,
     "metadata": {},
     "output_type": "execute_result"
    }
   ],
   "source": [
    "df_check"
   ],
   "metadata": {
    "collapsed": false,
    "ExecuteTime": {
     "end_time": "2024-09-16T17:46:49.976917Z",
     "start_time": "2024-09-16T17:46:49.971019Z"
    }
   },
   "id": "cdc00f57e745f43",
   "execution_count": 16
  },
  {
   "cell_type": "code",
   "outputs": [
    {
     "data": {
      "text/plain": "    province_english     long_district           long_ward\n198           Ha Noi  Quận Nam Từ Liêm     Phường Cầu Diễn\n199           Ha Noi  Quận Nam Từ Liêm  Phường Xuân Phương\n200           Ha Noi  Quận Nam Từ Liêm  Phường Phương Canh\n201           Ha Noi  Quận Nam Từ Liêm    Phường Mỹ Đình 1\n202           Ha Noi  Quận Nam Từ Liêm    Phường Mỹ Đình 2\n203           Ha Noi  Quận Nam Từ Liêm       Phường Tây Mỗ\n204           Ha Noi  Quận Nam Từ Liêm       Phường Mễ Trì\n205           Ha Noi  Quận Nam Từ Liêm       Phường Phú Đô\n206           Ha Noi  Quận Nam Từ Liêm       Phường Đại Mỗ\n207           Ha Noi  Quận Nam Từ Liêm    Phường Trung Văn",
      "text/html": "<div>\n<style scoped>\n    .dataframe tbody tr th:only-of-type {\n        vertical-align: middle;\n    }\n\n    .dataframe tbody tr th {\n        vertical-align: top;\n    }\n\n    .dataframe thead th {\n        text-align: right;\n    }\n</style>\n<table border=\"1\" class=\"dataframe\">\n  <thead>\n    <tr style=\"text-align: right;\">\n      <th></th>\n      <th>province_english</th>\n      <th>long_district</th>\n      <th>long_ward</th>\n    </tr>\n  </thead>\n  <tbody>\n    <tr>\n      <th>198</th>\n      <td>Ha Noi</td>\n      <td>Quận Nam Từ Liêm</td>\n      <td>Phường Cầu Diễn</td>\n    </tr>\n    <tr>\n      <th>199</th>\n      <td>Ha Noi</td>\n      <td>Quận Nam Từ Liêm</td>\n      <td>Phường Xuân Phương</td>\n    </tr>\n    <tr>\n      <th>200</th>\n      <td>Ha Noi</td>\n      <td>Quận Nam Từ Liêm</td>\n      <td>Phường Phương Canh</td>\n    </tr>\n    <tr>\n      <th>201</th>\n      <td>Ha Noi</td>\n      <td>Quận Nam Từ Liêm</td>\n      <td>Phường Mỹ Đình 1</td>\n    </tr>\n    <tr>\n      <th>202</th>\n      <td>Ha Noi</td>\n      <td>Quận Nam Từ Liêm</td>\n      <td>Phường Mỹ Đình 2</td>\n    </tr>\n    <tr>\n      <th>203</th>\n      <td>Ha Noi</td>\n      <td>Quận Nam Từ Liêm</td>\n      <td>Phường Tây Mỗ</td>\n    </tr>\n    <tr>\n      <th>204</th>\n      <td>Ha Noi</td>\n      <td>Quận Nam Từ Liêm</td>\n      <td>Phường Mễ Trì</td>\n    </tr>\n    <tr>\n      <th>205</th>\n      <td>Ha Noi</td>\n      <td>Quận Nam Từ Liêm</td>\n      <td>Phường Phú Đô</td>\n    </tr>\n    <tr>\n      <th>206</th>\n      <td>Ha Noi</td>\n      <td>Quận Nam Từ Liêm</td>\n      <td>Phường Đại Mỗ</td>\n    </tr>\n    <tr>\n      <th>207</th>\n      <td>Ha Noi</td>\n      <td>Quận Nam Từ Liêm</td>\n      <td>Phường Trung Văn</td>\n    </tr>\n  </tbody>\n</table>\n</div>"
     },
     "execution_count": 17,
     "metadata": {},
     "output_type": "execute_result"
    }
   ],
   "source": [
    "df_check[(df_check.province_english=='Ha Noi') & (df_check.long_district.str.contains('Nam Từ Liêm'))]"
   ],
   "metadata": {
    "collapsed": false,
    "ExecuteTime": {
     "end_time": "2024-09-16T17:46:50.660741Z",
     "start_time": "2024-09-16T17:46:50.651774Z"
    }
   },
   "id": "9fa0e45465e5566f",
   "execution_count": 17
  },
  {
   "cell_type": "code",
   "outputs": [],
   "source": [
    "from tabulate import tabulate"
   ],
   "metadata": {
    "collapsed": false,
    "ExecuteTime": {
     "end_time": "2024-09-16T18:00:08.030107Z",
     "start_time": "2024-09-16T18:00:08.014783Z"
    }
   },
   "id": "8988b7642fb4e938",
   "execution_count": 22
  },
  {
   "cell_type": "code",
   "outputs": [],
   "source": [
    "df = pd.DataFrame(get_data())"
   ],
   "metadata": {
    "collapsed": false,
    "ExecuteTime": {
     "end_time": "2024-09-16T17:59:06.011582Z",
     "start_time": "2024-09-16T17:59:05.826430Z"
    }
   },
   "id": "18ab48ecafbc9e2",
   "execution_count": 19
  },
  {
   "cell_type": "code",
   "outputs": [
    {
     "name": "stdout",
     "output_type": "stream",
     "text": [
      "|    | province   | district   | ward      | long_province    | long_district   | long_ward        | short_district   | short_ward   | province_english   | district_english   | ward_english   | long_province_english   | long_district_english   | long_ward_english   | short_district_english   | short_ward_english   | district_level   | ward_level   | district_level_english   | ward_level_english   |\n",
      "|---:|:-----------|:-----------|:----------|:-----------------|:----------------|:-----------------|:-----------------|:-------------|:-------------------|:-------------------|:---------------|:------------------------|:------------------------|:--------------------|:-------------------------|:---------------------|:-----------------|:-------------|:-------------------------|:---------------------|\n",
      "|  0 | Hà Nội     | Ba Đình    | Phúc Xá   | Thành phố Hà Nội | Quận Ba Đình    | Phường Phúc Xá   | Ba Đình          | Phúc Xá      | Ha Noi             | Ba Dinh            | Phuc Xa        | Ha Noi City             | Ba Dinh District        | Phuc Xa Ward        | Ba Dinh                  | Phuc Xa              | Quận             | Phường       | District                 | Ward                 |\n",
      "|  1 | Hà Nội     | Ba Đình    | Trúc Bạch | Thành phố Hà Nội | Quận Ba Đình    | Phường Trúc Bạch | Ba Đình          | Trúc Bạch    | Ha Noi             | Ba Dinh            | Truc Bach      | Ha Noi City             | Ba Dinh District        | Truc Bach Ward      | Ba Dinh                  | Truc Bach            | Quận             | Phường       | District                 | Ward                 |\n",
      "|  2 | Hà Nội     | Ba Đình    | Vĩnh Phúc | Thành phố Hà Nội | Quận Ba Đình    | Phường Vĩnh Phúc | Ba Đình          | Vĩnh Phúc    | Ha Noi             | Ba Dinh            | Vinh Phuc      | Ha Noi City             | Ba Dinh District        | Vinh Phuc Ward      | Ba Dinh                  | Vinh Phuc            | Quận             | Phường       | District                 | Ward                 |\n",
      "|  3 | Hà Nội     | Ba Đình    | Cống Vị   | Thành phố Hà Nội | Quận Ba Đình    | Phường Cống Vị   | Ba Đình          | Cống Vị      | Ha Noi             | Ba Dinh            | Cong Vi        | Ha Noi City             | Ba Dinh District        | Cong Vi Ward        | Ba Dinh                  | Cong Vi              | Quận             | Phường       | District                 | Ward                 |\n",
      "|  4 | Hà Nội     | Ba Đình    | Liễu Giai | Thành phố Hà Nội | Quận Ba Đình    | Phường Liễu Giai | Ba Đình          | Liễu Giai    | Ha Noi             | Ba Dinh            | Lieu Giai      | Ha Noi City             | Ba Dinh District        | Lieu Giai Ward      | Ba Dinh                  | Lieu Giai            | Quận             | Phường       | District                 | Ward                 |\n"
     ]
    }
   ],
   "source": [
    "markdown_table = tabulate(df.head(), headers='keys', tablefmt='pipe')\n",
    "print(markdown_table)"
   ],
   "metadata": {
    "collapsed": false,
    "ExecuteTime": {
     "end_time": "2024-09-16T18:01:16.566692Z",
     "start_time": "2024-09-16T18:01:16.560630Z"
    }
   },
   "id": "6517831446992700",
   "execution_count": 26
  },
  {
   "cell_type": "code",
   "outputs": [],
   "source": [],
   "metadata": {
    "collapsed": false
   },
   "id": "58f5f999c0108877"
  }
 ],
 "metadata": {
  "kernelspec": {
   "display_name": "Python 3",
   "language": "python",
   "name": "python3"
  },
  "language_info": {
   "codemirror_mode": {
    "name": "ipython",
    "version": 2
   },
   "file_extension": ".py",
   "mimetype": "text/x-python",
   "name": "python",
   "nbconvert_exporter": "python",
   "pygments_lexer": "ipython2",
   "version": "2.7.6"
  }
 },
 "nbformat": 4,
 "nbformat_minor": 5
}
