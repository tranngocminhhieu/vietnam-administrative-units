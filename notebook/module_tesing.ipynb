{
 "cells": [
  {
   "cell_type": "code",
   "execution_count": 1,
   "id": "initial_id",
   "metadata": {
    "collapsed": true,
    "ExecuteTime": {
     "end_time": "2024-09-13T13:49:03.238978Z",
     "start_time": "2024-09-13T13:49:02.861797Z"
    }
   },
   "outputs": [],
   "source": [
    "from vnau_parser import parse_address\n",
    "import pandas as pd"
   ]
  },
  {
   "cell_type": "markdown",
   "source": [
    "# Demo"
   ],
   "metadata": {
    "collapsed": false
   },
   "id": "5a2fae1f4817088b"
  },
  {
   "cell_type": "code",
   "outputs": [
    {
     "data": {
      "text/plain": "AdministrativeUnit(province=Hà Nội, district=Thanh Xuân, province_english=Ha Noi, district_english=Thanh Xuan)"
     },
     "execution_count": 2,
     "metadata": {},
     "output_type": "execute_result"
    }
   ],
   "source": [
    "parse_address('Ngã Tư Sở Market, Đường Nguyễn Trãi, Thượng Đình Số nhà 28A, Ngõ 72 Nguyễn Trãi , , Phường Thượng Đình, Quận Thanh Xuân , Hà Nội Quận Thanh Xuân')"
   ],
   "metadata": {
    "collapsed": false,
    "ExecuteTime": {
     "end_time": "2024-09-13T13:49:03.892247Z",
     "start_time": "2024-09-13T13:49:03.881656Z"
    }
   },
   "id": "ccfcb3feb70b601d",
   "execution_count": 2
  },
  {
   "cell_type": "code",
   "outputs": [
    {
     "data": {
      "text/plain": "AdministrativeUnit(province=Hà Nội, district=Bắc Từ Liêm, province_english=Ha Noi, district_english=Bac Tu Liem)"
     },
     "execution_count": 3,
     "metadata": {},
     "output_type": "execute_result"
    }
   ],
   "source": [
    "parse_address('Cuối đường kiều mai, dự án bệnh viện hạnh phúc  phường phú diễn quận bắc từ liêm hà nội')"
   ],
   "metadata": {
    "collapsed": false,
    "ExecuteTime": {
     "end_time": "2024-09-13T13:49:04.757285Z",
     "start_time": "2024-09-13T13:49:04.752519Z"
    }
   },
   "id": "ac59fdbd592726a1",
   "execution_count": 3
  },
  {
   "cell_type": "code",
   "outputs": [
    {
     "data": {
      "text/plain": "AdministrativeUnit(province=Đà Nẵng, district=Sơn Trà, province_english=Da Nang, district_english=Son Tra)"
     },
     "execution_count": 4,
     "metadata": {},
     "output_type": "execute_result"
    }
   ],
   "source": [
    "parse_address('03 Nguyễn Cao Luyện, An Hải Bắc, Sơn Trà, Đà Nẵng 550000, Việt Nam')"
   ],
   "metadata": {
    "collapsed": false,
    "ExecuteTime": {
     "end_time": "2024-09-13T13:49:05.555862Z",
     "start_time": "2024-09-13T13:49:05.551312Z"
    }
   },
   "id": "6fb98f74ac0bdf8d",
   "execution_count": 4
  },
  {
   "cell_type": "code",
   "outputs": [
    {
     "data": {
      "text/plain": "AdministrativeUnit(province=Thành phố Hồ Chí Minh, district=Bình Chánh, province_english=Ho Chi Minh City, district_english=Binh Chanh)"
     },
     "execution_count": 5,
     "metadata": {},
     "output_type": "execute_result"
    }
   ],
   "source": [
    "parse_address('3c60/10 chợ cầu xấng, xã phạm văn hai, huyện bình chánh HCM')"
   ],
   "metadata": {
    "collapsed": false,
    "ExecuteTime": {
     "end_time": "2024-09-13T13:49:05.888869Z",
     "start_time": "2024-09-13T13:49:05.885581Z"
    }
   },
   "id": "960a61d68549fa75",
   "execution_count": 5
  },
  {
   "cell_type": "code",
   "outputs": [
    {
     "data": {
      "text/plain": "AdministrativeUnit(province=Hà Nội, district=Nam Từ Liêm, province_english=Ha Noi, district_english=Nam Tu Liem)"
     },
     "execution_count": 6,
     "metadata": {},
     "output_type": "execute_result"
    }
   ],
   "source": [
    "parse_address('ngõ 154 Đình Thôn, phường Mỹ Đình, Quận Nam Từ Liêm, HN')"
   ],
   "metadata": {
    "collapsed": false,
    "ExecuteTime": {
     "end_time": "2024-09-13T13:49:06.270819Z",
     "start_time": "2024-09-13T13:49:06.266426Z"
    }
   },
   "id": "7ab4dc3d2c704933",
   "execution_count": 6
  },
  {
   "cell_type": "code",
   "outputs": [
    {
     "data": {
      "text/plain": "AdministrativeUnit(province=Hà Nội, district=None, province_english=Ha Noi, district_english=None)"
     },
     "execution_count": 7,
     "metadata": {},
     "output_type": "execute_result"
    }
   ],
   "source": [
    "parse_address('ngõ 154 Đình Thôn, phường Mỹ Đình, Quận Nam Từ Liêm, HN', level=1)"
   ],
   "metadata": {
    "collapsed": false,
    "ExecuteTime": {
     "end_time": "2024-09-13T13:49:06.953890Z",
     "start_time": "2024-09-13T13:49:06.950275Z"
    }
   },
   "id": "661b50a5aeaf84f7",
   "execution_count": 7
  },
  {
   "cell_type": "markdown",
   "source": [
    "# Check wrong or missing in bulk"
   ],
   "metadata": {
    "collapsed": false
   },
   "id": "3f7ebf254ffba569"
  },
  {
   "cell_type": "code",
   "outputs": [],
   "source": [
    "df = pd.read_csv('../data/input/package_testing_danhmuchanhchinhgso.gov.vn.csv')"
   ],
   "metadata": {
    "collapsed": false,
    "ExecuteTime": {
     "end_time": "2024-09-13T13:49:12.430322Z",
     "start_time": "2024-09-13T13:49:12.420925Z"
    }
   },
   "id": "19018c4a3a7f3491",
   "execution_count": 8
  },
  {
   "cell_type": "code",
   "outputs": [
    {
     "data": {
      "text/plain": "             province         district\n0    Thành phố Hà Nội     Quận Ba Đình\n1    Thành phố Hà Nội   Quận Hoàn Kiếm\n2    Thành phố Hà Nội      Quận Tây Hồ\n3    Thành phố Hà Nội   Quận Long Biên\n4    Thành phố Hà Nội    Quận Cầu Giấy\n..                ...              ...\n699       Tỉnh Cà Mau   Huyện Cái Nước\n700       Tỉnh Cà Mau    Huyện Đầm Dơi\n701       Tỉnh Cà Mau    Huyện Năm Căn\n702       Tỉnh Cà Mau    Huyện Phú Tân\n703       Tỉnh Cà Mau  Huyện Ngọc Hiển\n\n[704 rows x 2 columns]",
      "text/html": "<div>\n<style scoped>\n    .dataframe tbody tr th:only-of-type {\n        vertical-align: middle;\n    }\n\n    .dataframe tbody tr th {\n        vertical-align: top;\n    }\n\n    .dataframe thead th {\n        text-align: right;\n    }\n</style>\n<table border=\"1\" class=\"dataframe\">\n  <thead>\n    <tr style=\"text-align: right;\">\n      <th></th>\n      <th>province</th>\n      <th>district</th>\n    </tr>\n  </thead>\n  <tbody>\n    <tr>\n      <th>0</th>\n      <td>Thành phố Hà Nội</td>\n      <td>Quận Ba Đình</td>\n    </tr>\n    <tr>\n      <th>1</th>\n      <td>Thành phố Hà Nội</td>\n      <td>Quận Hoàn Kiếm</td>\n    </tr>\n    <tr>\n      <th>2</th>\n      <td>Thành phố Hà Nội</td>\n      <td>Quận Tây Hồ</td>\n    </tr>\n    <tr>\n      <th>3</th>\n      <td>Thành phố Hà Nội</td>\n      <td>Quận Long Biên</td>\n    </tr>\n    <tr>\n      <th>4</th>\n      <td>Thành phố Hà Nội</td>\n      <td>Quận Cầu Giấy</td>\n    </tr>\n    <tr>\n      <th>...</th>\n      <td>...</td>\n      <td>...</td>\n    </tr>\n    <tr>\n      <th>699</th>\n      <td>Tỉnh Cà Mau</td>\n      <td>Huyện Cái Nước</td>\n    </tr>\n    <tr>\n      <th>700</th>\n      <td>Tỉnh Cà Mau</td>\n      <td>Huyện Đầm Dơi</td>\n    </tr>\n    <tr>\n      <th>701</th>\n      <td>Tỉnh Cà Mau</td>\n      <td>Huyện Năm Căn</td>\n    </tr>\n    <tr>\n      <th>702</th>\n      <td>Tỉnh Cà Mau</td>\n      <td>Huyện Phú Tân</td>\n    </tr>\n    <tr>\n      <th>703</th>\n      <td>Tỉnh Cà Mau</td>\n      <td>Huyện Ngọc Hiển</td>\n    </tr>\n  </tbody>\n</table>\n<p>704 rows × 2 columns</p>\n</div>"
     },
     "execution_count": 9,
     "metadata": {},
     "output_type": "execute_result"
    }
   ],
   "source": [
    "df"
   ],
   "metadata": {
    "collapsed": false,
    "ExecuteTime": {
     "end_time": "2024-09-13T13:49:12.905832Z",
     "start_time": "2024-09-13T13:49:12.896005Z"
    }
   },
   "id": "19b5681f4b64c970",
   "execution_count": 9
  },
  {
   "cell_type": "code",
   "outputs": [],
   "source": [
    "df['address'] = df['district'] + ', ' + df['province']"
   ],
   "metadata": {
    "collapsed": false,
    "ExecuteTime": {
     "end_time": "2024-09-13T13:49:13.391251Z",
     "start_time": "2024-09-13T13:49:13.388886Z"
    }
   },
   "id": "b3b949a17d308bde",
   "execution_count": 10
  },
  {
   "cell_type": "code",
   "outputs": [],
   "source": [
    "addresses = df['address'].tolist()"
   ],
   "metadata": {
    "collapsed": false,
    "ExecuteTime": {
     "end_time": "2024-09-13T13:49:14.338634Z",
     "start_time": "2024-09-13T13:49:14.335866Z"
    }
   },
   "id": "c985bc2ac136a597",
   "execution_count": 11
  },
  {
   "cell_type": "code",
   "outputs": [],
   "source": [
    "for address in addresses:\n",
    "    try:\n",
    "        unit = parse_address(address)\n",
    "    except:\n",
    "        print(address)\n",
    "    if unit.province == None:\n",
    "        print(address)\n",
    "    elif unit.district == None:\n",
    "        print(address)"
   ],
   "metadata": {
    "collapsed": false,
    "ExecuteTime": {
     "end_time": "2024-09-13T13:49:15.380943Z",
     "start_time": "2024-09-13T13:49:15.356517Z"
    }
   },
   "id": "10f1c4f277648450",
   "execution_count": 12
  }
 ],
 "metadata": {
  "kernelspec": {
   "display_name": "Python 3",
   "language": "python",
   "name": "python3"
  },
  "language_info": {
   "codemirror_mode": {
    "name": "ipython",
    "version": 2
   },
   "file_extension": ".py",
   "mimetype": "text/x-python",
   "name": "python",
   "nbconvert_exporter": "python",
   "pygments_lexer": "ipython2",
   "version": "2.7.6"
  }
 },
 "nbformat": 4,
 "nbformat_minor": 5
}
