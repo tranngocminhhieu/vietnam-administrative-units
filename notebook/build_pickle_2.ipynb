{
 "cells": [
  {
   "cell_type": "code",
   "execution_count": 1,
   "id": "initial_id",
   "metadata": {
    "collapsed": true,
    "ExecuteTime": {
     "end_time": "2024-09-15T17:23:12.281216Z",
     "start_time": "2024-09-15T17:23:11.679581Z"
    }
   },
   "outputs": [],
   "source": [
    "import pandas as pd\n",
    "import re\n",
    "from unidecode import unidecode\n",
    "import pickle"
   ]
  },
  {
   "cell_type": "code",
   "outputs": [],
   "source": [
    "def create_province_key(text):\n",
    "    u_text = unidecode(text) # Unidecode first help remove special characters\n",
    "    c_text = str(u_text).lower().strip() # Case must be second step\n",
    "    c_text = re.sub(r'\\sProvince$|^Tinh\\s|^Thanh\\sPho\\s|\\sCity$', '', c_text, flags=re.IGNORECASE)\n",
    "    c_text = re.sub(r\"\\-|\\'\", ' ', c_text)\n",
    "    c_text = c_text.replace(' ', '')\n",
    "    return c_text"
   ],
   "metadata": {
    "collapsed": false,
    "ExecuteTime": {
     "end_time": "2024-09-15T17:23:12.287809Z",
     "start_time": "2024-09-15T17:23:12.283580Z"
    }
   },
   "id": "b6425c6e7e32bfa3",
   "execution_count": 2
  },
  {
   "cell_type": "code",
   "outputs": [],
   "source": [
    "def create_district_key(text):\n",
    "    if not isinstance(text, str):\n",
    "        return text\n",
    "    u_text = unidecode(text) # Unidecode first help remove special characters\n",
    "    c_text = str(u_text).lower().strip() # Case must be second step\n",
    "    c_text = re.sub(r\"\\-|\\'\", ' ', c_text)\n",
    "    c_text = c_text.replace(' ', '')\n",
    "    return c_text"
   ],
   "metadata": {
    "collapsed": false,
    "ExecuteTime": {
     "end_time": "2024-09-15T17:23:12.291935Z",
     "start_time": "2024-09-15T17:23:12.289540Z"
    }
   },
   "id": "e41767ab291b11eb",
   "execution_count": 3
  },
  {
   "cell_type": "code",
   "outputs": [],
   "source": [
    "def add_province_key(df_province, province_english, province_key):\n",
    "    if not df_province[df_province.province_english==province_english].shape[0]:\n",
    "        raise ValueError(f'{province_english} is not exist in province_english')\n",
    "    elif df_province[(df_province.province_english==province_english) & (df_province.province_key==province_key)].shape[0]:\n",
    "        raise ValueError(f'{province_key} is exist in province_key')\n",
    "    \n",
    "    df_new = df_province.loc[df_province.province_english==province_english].head(1)\n",
    "    df_new['province_key'] = province_key\n",
    "    df_province = pd.concat([df_province, df_new])\n",
    "    return df_province"
   ],
   "metadata": {
    "collapsed": false,
    "ExecuteTime": {
     "end_time": "2024-09-15T17:23:12.296017Z",
     "start_time": "2024-09-15T17:23:12.293035Z"
    }
   },
   "id": "c90c8f7661a749a1",
   "execution_count": 4
  },
  {
   "cell_type": "code",
   "outputs": [],
   "source": [
    "def add_district_key(df_district, province_english, district_english, district_key):\n",
    "    if not df_district[df_district.province_english==province_english].shape[0]:\n",
    "        raise ValueError(f'{province_english} is not exist in province_english')\n",
    "    elif not df_district[(df_district.province_english==province_english) & (df_district.district_english==district_english)].shape[0]:\n",
    "        raise ValueError(f'{district_english} is not exist in district_english of {province_english}')\n",
    "    elif df_district[(df_district.province_english==province_english) & (df_district.district_english==district_english) & (df_district.district_key==district_key)].shape[0]:\n",
    "        raise ValueError(f'{district_key} is exist in district_key of {province_english}, {district_english}')\n",
    "    \n",
    "    df_new = df_district.loc[(df_district.province_english==province_english) & (df_district.district_english==district_english)].head(1)\n",
    "    df_new['district_key'] = district_key\n",
    "    df_district = pd.concat([df_district, df_new])\n",
    "    return df_district"
   ],
   "metadata": {
    "collapsed": false,
    "ExecuteTime": {
     "end_time": "2024-09-15T17:23:12.301023Z",
     "start_time": "2024-09-15T17:23:12.298036Z"
    }
   },
   "id": "32b1939b896a8f98",
   "execution_count": 5
  },
  {
   "cell_type": "code",
   "outputs": [],
   "source": [
    "# Pickle\n",
    "df = pd.read_csv('../data/output/vietnam_administrative_units.csv')"
   ],
   "metadata": {
    "collapsed": false,
    "ExecuteTime": {
     "end_time": "2024-09-15T17:23:12.403043Z",
     "start_time": "2024-09-15T17:23:12.302717Z"
    }
   },
   "id": "3dd43d782abe18a1",
   "execution_count": 6
  },
  {
   "cell_type": "code",
   "outputs": [
    {
     "data": {
      "text/plain": "      province   district          ward     long_province    long_district  \\\n0       Hà Nội    Ba Đình       Phúc Xá  Thành phố Hà Nội     Quận Ba Đình   \n1       Hà Nội    Ba Đình     Trúc Bạch  Thành phố Hà Nội     Quận Ba Đình   \n2       Hà Nội    Ba Đình     Vĩnh Phúc  Thành phố Hà Nội     Quận Ba Đình   \n3       Hà Nội    Ba Đình       Cống Vị  Thành phố Hà Nội     Quận Ba Đình   \n4       Hà Nội    Ba Đình     Liễu Giai  Thành phố Hà Nội     Quận Ba Đình   \n...        ...        ...           ...               ...              ...   \n10542   Cà Mau  Ngọc Hiển  Viên An Đông       Tỉnh Cà Mau  Huyện Ngọc Hiển   \n10543   Cà Mau  Ngọc Hiển       Viên An       Tỉnh Cà Mau  Huyện Ngọc Hiển   \n10544   Cà Mau  Ngọc Hiển      Rạch Gốc       Tỉnh Cà Mau  Huyện Ngọc Hiển   \n10545   Cà Mau  Ngọc Hiển        Tân Ân       Tỉnh Cà Mau  Huyện Ngọc Hiển   \n10546   Cà Mau  Ngọc Hiển       Đất Mũi       Tỉnh Cà Mau  Huyện Ngọc Hiển   \n\n               long_ward short_district    short_ward province_english  \\\n0         Phường Phúc Xá        Ba Đình       Phúc Xá           Ha Noi   \n1       Phường Trúc Bạch        Ba Đình     Trúc Bạch           Ha Noi   \n2       Phường Vĩnh Phúc        Ba Đình     Vĩnh Phúc           Ha Noi   \n3         Phường Cống Vị        Ba Đình       Cống Vị           Ha Noi   \n4       Phường Liễu Giai        Ba Đình     Liễu Giai           Ha Noi   \n...                  ...            ...           ...              ...   \n10542    Xã Viên An Đông      Ngọc Hiển  Viên An Đông           Ca Mau   \n10543         Xã Viên An      Ngọc Hiển       Viên An           Ca Mau   \n10544  Thị trấn Rạch Gốc      Ngọc Hiển      Rạch Gốc           Ca Mau   \n10545          Xã Tân Ân      Ngọc Hiển        Tân Ân           Ca Mau   \n10546         Xã Đất Mũi      Ngọc Hiển       Đất Mũi           Ca Mau   \n\n      district_english  ward_english long_province_english  \\\n0              Ba Dinh       Phuc Xa           Ha Noi City   \n1              Ba Dinh     Truc Bach           Ha Noi City   \n2              Ba Dinh     Vinh Phuc           Ha Noi City   \n3              Ba Dinh       Cong Vi           Ha Noi City   \n4              Ba Dinh     Lieu Giai           Ha Noi City   \n...                ...           ...                   ...   \n10542        Ngoc Hien  Vien An Dong       Ca Mau Province   \n10543        Ngoc Hien       Vien An       Ca Mau Province   \n10544        Ngoc Hien      Rach Goc       Ca Mau Province   \n10545        Ngoc Hien        Tan An       Ca Mau Province   \n10546        Ngoc Hien       Dat Mui       Ca Mau Province   \n\n      long_district_english     long_ward_english short_district_english  \\\n0          Ba Dinh District          Phuc Xa Ward                Ba Dinh   \n1          Ba Dinh District        Truc Bach Ward                Ba Dinh   \n2          Ba Dinh District        Vinh Phuc Ward                Ba Dinh   \n3          Ba Dinh District          Cong Vi Ward                Ba Dinh   \n4          Ba Dinh District        Lieu Giai Ward                Ba Dinh   \n...                     ...                   ...                    ...   \n10542    Ngoc Hien District  Vien An Dong Commune              Ngoc Hien   \n10543    Ngoc Hien District       Vien An Commune              Ngoc Hien   \n10544    Ngoc Hien District         Rach Goc Town              Ngoc Hien   \n10545    Ngoc Hien District        Tan An Commune              Ngoc Hien   \n10546    Ngoc Hien District       Dat Mui Commune              Ngoc Hien   \n\n      short_ward_english district_level ward_level district_level_english  \\\n0                Phuc Xa           Quận     Phường               District   \n1              Truc Bach           Quận     Phường               District   \n2              Vinh Phuc           Quận     Phường               District   \n3                Cong Vi           Quận     Phường               District   \n4              Lieu Giai           Quận     Phường               District   \n...                  ...            ...        ...                    ...   \n10542       Vien An Dong          Huyện         Xã               District   \n10543            Vien An          Huyện         Xã               District   \n10544           Rach Goc          Huyện   Thị trấn               District   \n10545             Tan An          Huyện         Xã               District   \n10546            Dat Mui          Huyện         Xã               District   \n\n      ward_level_english  \n0                   Ward  \n1                   Ward  \n2                   Ward  \n3                   Ward  \n4                   Ward  \n...                  ...  \n10542            Commune  \n10543            Commune  \n10544               Town  \n10545            Commune  \n10546            Commune  \n\n[10547 rows x 20 columns]",
      "text/html": "<div>\n<style scoped>\n    .dataframe tbody tr th:only-of-type {\n        vertical-align: middle;\n    }\n\n    .dataframe tbody tr th {\n        vertical-align: top;\n    }\n\n    .dataframe thead th {\n        text-align: right;\n    }\n</style>\n<table border=\"1\" class=\"dataframe\">\n  <thead>\n    <tr style=\"text-align: right;\">\n      <th></th>\n      <th>province</th>\n      <th>district</th>\n      <th>ward</th>\n      <th>long_province</th>\n      <th>long_district</th>\n      <th>long_ward</th>\n      <th>short_district</th>\n      <th>short_ward</th>\n      <th>province_english</th>\n      <th>district_english</th>\n      <th>ward_english</th>\n      <th>long_province_english</th>\n      <th>long_district_english</th>\n      <th>long_ward_english</th>\n      <th>short_district_english</th>\n      <th>short_ward_english</th>\n      <th>district_level</th>\n      <th>ward_level</th>\n      <th>district_level_english</th>\n      <th>ward_level_english</th>\n    </tr>\n  </thead>\n  <tbody>\n    <tr>\n      <th>0</th>\n      <td>Hà Nội</td>\n      <td>Ba Đình</td>\n      <td>Phúc Xá</td>\n      <td>Thành phố Hà Nội</td>\n      <td>Quận Ba Đình</td>\n      <td>Phường Phúc Xá</td>\n      <td>Ba Đình</td>\n      <td>Phúc Xá</td>\n      <td>Ha Noi</td>\n      <td>Ba Dinh</td>\n      <td>Phuc Xa</td>\n      <td>Ha Noi City</td>\n      <td>Ba Dinh District</td>\n      <td>Phuc Xa Ward</td>\n      <td>Ba Dinh</td>\n      <td>Phuc Xa</td>\n      <td>Quận</td>\n      <td>Phường</td>\n      <td>District</td>\n      <td>Ward</td>\n    </tr>\n    <tr>\n      <th>1</th>\n      <td>Hà Nội</td>\n      <td>Ba Đình</td>\n      <td>Trúc Bạch</td>\n      <td>Thành phố Hà Nội</td>\n      <td>Quận Ba Đình</td>\n      <td>Phường Trúc Bạch</td>\n      <td>Ba Đình</td>\n      <td>Trúc Bạch</td>\n      <td>Ha Noi</td>\n      <td>Ba Dinh</td>\n      <td>Truc Bach</td>\n      <td>Ha Noi City</td>\n      <td>Ba Dinh District</td>\n      <td>Truc Bach Ward</td>\n      <td>Ba Dinh</td>\n      <td>Truc Bach</td>\n      <td>Quận</td>\n      <td>Phường</td>\n      <td>District</td>\n      <td>Ward</td>\n    </tr>\n    <tr>\n      <th>2</th>\n      <td>Hà Nội</td>\n      <td>Ba Đình</td>\n      <td>Vĩnh Phúc</td>\n      <td>Thành phố Hà Nội</td>\n      <td>Quận Ba Đình</td>\n      <td>Phường Vĩnh Phúc</td>\n      <td>Ba Đình</td>\n      <td>Vĩnh Phúc</td>\n      <td>Ha Noi</td>\n      <td>Ba Dinh</td>\n      <td>Vinh Phuc</td>\n      <td>Ha Noi City</td>\n      <td>Ba Dinh District</td>\n      <td>Vinh Phuc Ward</td>\n      <td>Ba Dinh</td>\n      <td>Vinh Phuc</td>\n      <td>Quận</td>\n      <td>Phường</td>\n      <td>District</td>\n      <td>Ward</td>\n    </tr>\n    <tr>\n      <th>3</th>\n      <td>Hà Nội</td>\n      <td>Ba Đình</td>\n      <td>Cống Vị</td>\n      <td>Thành phố Hà Nội</td>\n      <td>Quận Ba Đình</td>\n      <td>Phường Cống Vị</td>\n      <td>Ba Đình</td>\n      <td>Cống Vị</td>\n      <td>Ha Noi</td>\n      <td>Ba Dinh</td>\n      <td>Cong Vi</td>\n      <td>Ha Noi City</td>\n      <td>Ba Dinh District</td>\n      <td>Cong Vi Ward</td>\n      <td>Ba Dinh</td>\n      <td>Cong Vi</td>\n      <td>Quận</td>\n      <td>Phường</td>\n      <td>District</td>\n      <td>Ward</td>\n    </tr>\n    <tr>\n      <th>4</th>\n      <td>Hà Nội</td>\n      <td>Ba Đình</td>\n      <td>Liễu Giai</td>\n      <td>Thành phố Hà Nội</td>\n      <td>Quận Ba Đình</td>\n      <td>Phường Liễu Giai</td>\n      <td>Ba Đình</td>\n      <td>Liễu Giai</td>\n      <td>Ha Noi</td>\n      <td>Ba Dinh</td>\n      <td>Lieu Giai</td>\n      <td>Ha Noi City</td>\n      <td>Ba Dinh District</td>\n      <td>Lieu Giai Ward</td>\n      <td>Ba Dinh</td>\n      <td>Lieu Giai</td>\n      <td>Quận</td>\n      <td>Phường</td>\n      <td>District</td>\n      <td>Ward</td>\n    </tr>\n    <tr>\n      <th>...</th>\n      <td>...</td>\n      <td>...</td>\n      <td>...</td>\n      <td>...</td>\n      <td>...</td>\n      <td>...</td>\n      <td>...</td>\n      <td>...</td>\n      <td>...</td>\n      <td>...</td>\n      <td>...</td>\n      <td>...</td>\n      <td>...</td>\n      <td>...</td>\n      <td>...</td>\n      <td>...</td>\n      <td>...</td>\n      <td>...</td>\n      <td>...</td>\n      <td>...</td>\n    </tr>\n    <tr>\n      <th>10542</th>\n      <td>Cà Mau</td>\n      <td>Ngọc Hiển</td>\n      <td>Viên An Đông</td>\n      <td>Tỉnh Cà Mau</td>\n      <td>Huyện Ngọc Hiển</td>\n      <td>Xã Viên An Đông</td>\n      <td>Ngọc Hiển</td>\n      <td>Viên An Đông</td>\n      <td>Ca Mau</td>\n      <td>Ngoc Hien</td>\n      <td>Vien An Dong</td>\n      <td>Ca Mau Province</td>\n      <td>Ngoc Hien District</td>\n      <td>Vien An Dong Commune</td>\n      <td>Ngoc Hien</td>\n      <td>Vien An Dong</td>\n      <td>Huyện</td>\n      <td>Xã</td>\n      <td>District</td>\n      <td>Commune</td>\n    </tr>\n    <tr>\n      <th>10543</th>\n      <td>Cà Mau</td>\n      <td>Ngọc Hiển</td>\n      <td>Viên An</td>\n      <td>Tỉnh Cà Mau</td>\n      <td>Huyện Ngọc Hiển</td>\n      <td>Xã Viên An</td>\n      <td>Ngọc Hiển</td>\n      <td>Viên An</td>\n      <td>Ca Mau</td>\n      <td>Ngoc Hien</td>\n      <td>Vien An</td>\n      <td>Ca Mau Province</td>\n      <td>Ngoc Hien District</td>\n      <td>Vien An Commune</td>\n      <td>Ngoc Hien</td>\n      <td>Vien An</td>\n      <td>Huyện</td>\n      <td>Xã</td>\n      <td>District</td>\n      <td>Commune</td>\n    </tr>\n    <tr>\n      <th>10544</th>\n      <td>Cà Mau</td>\n      <td>Ngọc Hiển</td>\n      <td>Rạch Gốc</td>\n      <td>Tỉnh Cà Mau</td>\n      <td>Huyện Ngọc Hiển</td>\n      <td>Thị trấn Rạch Gốc</td>\n      <td>Ngọc Hiển</td>\n      <td>Rạch Gốc</td>\n      <td>Ca Mau</td>\n      <td>Ngoc Hien</td>\n      <td>Rach Goc</td>\n      <td>Ca Mau Province</td>\n      <td>Ngoc Hien District</td>\n      <td>Rach Goc Town</td>\n      <td>Ngoc Hien</td>\n      <td>Rach Goc</td>\n      <td>Huyện</td>\n      <td>Thị trấn</td>\n      <td>District</td>\n      <td>Town</td>\n    </tr>\n    <tr>\n      <th>10545</th>\n      <td>Cà Mau</td>\n      <td>Ngọc Hiển</td>\n      <td>Tân Ân</td>\n      <td>Tỉnh Cà Mau</td>\n      <td>Huyện Ngọc Hiển</td>\n      <td>Xã Tân Ân</td>\n      <td>Ngọc Hiển</td>\n      <td>Tân Ân</td>\n      <td>Ca Mau</td>\n      <td>Ngoc Hien</td>\n      <td>Tan An</td>\n      <td>Ca Mau Province</td>\n      <td>Ngoc Hien District</td>\n      <td>Tan An Commune</td>\n      <td>Ngoc Hien</td>\n      <td>Tan An</td>\n      <td>Huyện</td>\n      <td>Xã</td>\n      <td>District</td>\n      <td>Commune</td>\n    </tr>\n    <tr>\n      <th>10546</th>\n      <td>Cà Mau</td>\n      <td>Ngọc Hiển</td>\n      <td>Đất Mũi</td>\n      <td>Tỉnh Cà Mau</td>\n      <td>Huyện Ngọc Hiển</td>\n      <td>Xã Đất Mũi</td>\n      <td>Ngọc Hiển</td>\n      <td>Đất Mũi</td>\n      <td>Ca Mau</td>\n      <td>Ngoc Hien</td>\n      <td>Dat Mui</td>\n      <td>Ca Mau Province</td>\n      <td>Ngoc Hien District</td>\n      <td>Dat Mui Commune</td>\n      <td>Ngoc Hien</td>\n      <td>Dat Mui</td>\n      <td>Huyện</td>\n      <td>Xã</td>\n      <td>District</td>\n      <td>Commune</td>\n    </tr>\n  </tbody>\n</table>\n<p>10547 rows × 20 columns</p>\n</div>"
     },
     "execution_count": 7,
     "metadata": {},
     "output_type": "execute_result"
    }
   ],
   "source": [
    "df"
   ],
   "metadata": {
    "collapsed": false,
    "ExecuteTime": {
     "end_time": "2024-09-15T17:23:12.418033Z",
     "start_time": "2024-09-15T17:23:12.404212Z"
    }
   },
   "id": "e537352f45630d46",
   "execution_count": 7
  },
  {
   "cell_type": "code",
   "outputs": [],
   "source": [
    "df['province_key'] = df['province'].apply(create_province_key)\n",
    "df['district_key'] = df['short_district'].apply(create_district_key)\n",
    "df['ward_key'] = df['short_ward'].apply(create_district_key)\n",
    "df['district_level_english'].fillna('', inplace=True)\n",
    "df['ward_level_english'].fillna('', inplace=True)"
   ],
   "metadata": {
    "collapsed": false,
    "ExecuteTime": {
     "end_time": "2024-09-15T17:23:12.519888Z",
     "start_time": "2024-09-15T17:23:12.419794Z"
    }
   },
   "id": "5c5d99ae8b4ce619",
   "execution_count": 8
  },
  {
   "cell_type": "code",
   "outputs": [],
   "source": [
    "district_count = df[['province', 'long_district', 'short_district']].drop_duplicates()[['province', 'short_district']].value_counts().reset_index()\n",
    "duplicated_districts = district_count[district_count['count'] > 1]['short_district'].tolist()"
   ],
   "metadata": {
    "collapsed": false,
    "ExecuteTime": {
     "end_time": "2024-09-15T17:23:12.528885Z",
     "start_time": "2024-09-15T17:23:12.520531Z"
    }
   },
   "id": "a5ac0bb1ca84818b",
   "execution_count": 9
  },
  {
   "cell_type": "code",
   "outputs": [],
   "source": [
    "# Pickle\n",
    "duplicated_district_keys = df[df.district.isin(duplicated_districts)]['district_key'].unique().tolist()\n",
    "duplicated_district_province_keys = df[df.district.isin(duplicated_districts)]['province_key'].unique().tolist()"
   ],
   "metadata": {
    "collapsed": false,
    "ExecuteTime": {
     "end_time": "2024-09-15T17:23:12.533790Z",
     "start_time": "2024-09-15T17:23:12.529774Z"
    }
   },
   "id": "ebaf93ff2e5143f8",
   "execution_count": 10
  },
  {
   "cell_type": "code",
   "outputs": [],
   "source": [
    "ward_count = df[['long_province', 'long_district', 'short_ward']].value_counts().reset_index()\n",
    "df_duplicated_wards = ward_count[ward_count['count'] > 1].copy()\n",
    "df_duplicated_wards.sort_values(by=['long_province', 'long_district', 'short_ward'], inplace=True)"
   ],
   "metadata": {
    "collapsed": false,
    "ExecuteTime": {
     "end_time": "2024-09-15T17:23:12.544610Z",
     "start_time": "2024-09-15T17:23:12.534599Z"
    }
   },
   "id": "36d6afa7d76816ea",
   "execution_count": 11
  },
  {
   "cell_type": "code",
   "outputs": [],
   "source": [
    "df_duplicated_wards = df[(df.long_province.isin(df_duplicated_wards.long_province)) & (df.long_district.isin(df_duplicated_wards.long_district)) & (df.short_ward.isin(df_duplicated_wards.short_ward))]"
   ],
   "metadata": {
    "collapsed": false,
    "ExecuteTime": {
     "end_time": "2024-09-15T17:23:12.548264Z",
     "start_time": "2024-09-15T17:23:12.545247Z"
    }
   },
   "id": "4d92faf473be44bb",
   "execution_count": 12
  },
  {
   "cell_type": "code",
   "outputs": [
    {
     "data": {
      "text/plain": "         province        district                      ward     long_province  \\\n176        Hà Nội         Gia Lâm         Thị trấn Yên Viên  Thành phố Hà Nội   \n178        Hà Nội         Gia Lâm               Xã Yên Viên  Thành phố Hà Nội   \n1479     Lai Châu        Mường Tè         Thị trấn Mường Tè     Tỉnh Lai Châu   \n1484     Lai Châu        Mường Tè               Xã Mường Tè     Tỉnh Lai Châu   \n1706       Sơn La         Mai Sơn          Thị trấn Hát Lót       Tỉnh Sơn La   \n1716       Sơn La         Mai Sơn                Xã Hát Lót       Tỉnh Sơn La   \n1882      Yên Bái        Trạm Tấu         Thị trấn Trạm Tấu      Tỉnh Yên Bái   \n1887      Yên Bái        Trạm Tấu               Xã Trạm Tấu      Tỉnh Yên Bái   \n1918      Yên Bái        Yên Bình         Thị trấn Yên Bình      Tỉnh Yên Bái   \n1937      Yên Bái        Yên Bình               Xã Yên Bình      Tỉnh Yên Bái   \n2418     Lạng Sơn        Chi Lăng         Thị trấn Chi Lăng     Tỉnh Lạng Sơn   \n2436     Lạng Sơn        Chi Lăng               Xã Chi Lăng     Tỉnh Lạng Sơn   \n2458     Lạng Sơn        Đình Lập         Thị trấn Đình Lập     Tỉnh Lạng Sơn   \n2463     Lạng Sơn        Đình Lập               Xã Đình Lập     Tỉnh Lạng Sơn   \n2564   Quảng Ninh          Đầm Hà           Thị trấn Đầm Hà   Tỉnh Quảng Ninh   \n2570   Quảng Ninh          Đầm Hà                 Xã Đầm Hà   Tỉnh Quảng Ninh   \n8058     Lâm Đồng        Đạ Huoai       Thị trấn Ma Đa Guôi     Tỉnh Lâm Đồng   \n8063     Lâm Đồng        Đạ Huoai             Xã Ma Đa Guôi     Tỉnh Lâm Đồng   \n9032      Long An         Đức Hòa         Thị trấn Hiệp Hòa      Tỉnh Long An   \n9038      Long An         Đức Hòa               Xã Hiệp Hòa      Tỉnh Long An   \n9536     Trà Vinh          Trà Cú          Thị trấn Định An     Tỉnh Trà Vinh   \n9548     Trà Vinh          Trà Cú                Xã Định An     Tỉnh Trà Vinh   \n9735    Đồng Tháp       Tháp Mười            Thị trấn Mỹ An    Tỉnh Đồng Tháp   \n9744    Đồng Tháp       Tháp Mười                  Xã Mỹ An    Tỉnh Đồng Tháp   \n9748    Đồng Tháp  Huyện Cao Lãnh           Thị trấn Mỹ Thọ    Tỉnh Đồng Tháp   \n9756    Đồng Tháp  Huyện Cao Lãnh                 Xã Mỹ Thọ    Tỉnh Đồng Tháp   \n10084  Kiên Giang      Vĩnh Thuận       Thị trấn Vĩnh Thuận   Tỉnh Kiên Giang   \n10088  Kiên Giang      Vĩnh Thuận             Xã Vĩnh Thuận   Tỉnh Kiên Giang   \n10321   Sóc Trăng        Long Phú         Thị trấn Long Phú    Tỉnh Sóc Trăng   \n10331   Sóc Trăng        Long Phú               Xã Long Phú    Tỉnh Sóc Trăng   \n10374   Sóc Trăng         Trần Đề        Xã Lịch Hội Thượng    Tỉnh Sóc Trăng   \n10375   Sóc Trăng         Trần Đề  Thị trấn Lịch Hội Thượng    Tỉnh Sóc Trăng   \n10401    Bạc Liêu      Phước Long       Thị trấn Phước Long     Tỉnh Bạc Liêu   \n10404    Bạc Liêu      Phước Long             Xã Phước Long     Tỉnh Bạc Liêu   \n10456      Cà Mau          Cà Mau          Phường Tân Thành       Tỉnh Cà Mau   \n10457      Cà Mau          Cà Mau              Xã Tân Thành       Tỉnh Cà Mau   \n10471      Cà Mau       Thới Bình        Thị trấn Thới Bình       Tỉnh Cà Mau   \n10477      Cà Mau       Thới Bình              Xã Thới Bình       Tỉnh Cà Mau   \n\n          long_district                 long_ward short_district  \\\n176       Huyện Gia Lâm         Thị trấn Yên Viên        Gia Lâm   \n178       Huyện Gia Lâm               Xã Yên Viên        Gia Lâm   \n1479     Huyện Mường Tè         Thị trấn Mường Tè       Mường Tè   \n1484     Huyện Mường Tè               Xã Mường Tè       Mường Tè   \n1706      Huyện Mai Sơn          Thị trấn Hát Lót        Mai Sơn   \n1716      Huyện Mai Sơn                Xã Hát Lót        Mai Sơn   \n1882     Huyện Trạm Tấu         Thị trấn Trạm Tấu       Trạm Tấu   \n1887     Huyện Trạm Tấu               Xã Trạm Tấu       Trạm Tấu   \n1918     Huyện Yên Bình         Thị trấn Yên Bình       Yên Bình   \n1937     Huyện Yên Bình               Xã Yên Bình       Yên Bình   \n2418     Huyện Chi Lăng         Thị trấn Chi Lăng       Chi Lăng   \n2436     Huyện Chi Lăng               Xã Chi Lăng       Chi Lăng   \n2458     Huyện Đình Lập         Thị trấn Đình Lập       Đình Lập   \n2463     Huyện Đình Lập               Xã Đình Lập       Đình Lập   \n2564       Huyện Đầm Hà           Thị trấn Đầm Hà         Đầm Hà   \n2570       Huyện Đầm Hà                 Xã Đầm Hà         Đầm Hà   \n8058     Huyện Đạ Huoai       Thị trấn Ma Đa Guôi       Đạ Huoai   \n8063     Huyện Đạ Huoai             Xã Ma Đa Guôi       Đạ Huoai   \n9032      Huyện Đức Hòa         Thị trấn Hiệp Hòa        Đức Hòa   \n9038      Huyện Đức Hòa               Xã Hiệp Hòa        Đức Hòa   \n9536       Huyện Trà Cú          Thị trấn Định An         Trà Cú   \n9548       Huyện Trà Cú                Xã Định An         Trà Cú   \n9735    Huyện Tháp Mười            Thị trấn Mỹ An      Tháp Mười   \n9744    Huyện Tháp Mười                  Xã Mỹ An      Tháp Mười   \n9748     Huyện Cao Lãnh           Thị trấn Mỹ Thọ       Cao Lãnh   \n9756     Huyện Cao Lãnh                 Xã Mỹ Thọ       Cao Lãnh   \n10084  Huyện Vĩnh Thuận       Thị trấn Vĩnh Thuận     Vĩnh Thuận   \n10088  Huyện Vĩnh Thuận             Xã Vĩnh Thuận     Vĩnh Thuận   \n10321    Huyện Long Phú         Thị trấn Long Phú       Long Phú   \n10331    Huyện Long Phú               Xã Long Phú       Long Phú   \n10374     Huyện Trần Đề        Xã Lịch Hội Thượng        Trần Đề   \n10375     Huyện Trần Đề  Thị trấn Lịch Hội Thượng        Trần Đề   \n10401  Huyện Phước Long       Thị trấn Phước Long     Phước Long   \n10404  Huyện Phước Long             Xã Phước Long     Phước Long   \n10456  Thành phố Cà Mau          Phường Tân Thành         Cà Mau   \n10457  Thành phố Cà Mau              Xã Tân Thành         Cà Mau   \n10471   Huyện Thới Bình        Thị trấn Thới Bình      Thới Bình   \n10477   Huyện Thới Bình              Xã Thới Bình      Thới Bình   \n\n            short_ward province_english   district_english  ...  \\\n176           Yên Viên           Ha Noi            Gia Lam  ...   \n178           Yên Viên           Ha Noi            Gia Lam  ...   \n1479          Mường Tè         Lai Chau           Muong Te  ...   \n1484          Mường Tè         Lai Chau           Muong Te  ...   \n1706           Hát Lót           Son La            Mai Son  ...   \n1716           Hát Lót           Son La            Mai Son  ...   \n1882          Trạm Tấu          Yen Bai           Tram Tau  ...   \n1887          Trạm Tấu          Yen Bai           Tram Tau  ...   \n1918          Yên Bình          Yen Bai           Yen Binh  ...   \n1937          Yên Bình          Yen Bai           Yen Binh  ...   \n2418          Chi Lăng         Lang Son           Chi Lang  ...   \n2436          Chi Lăng         Lang Son           Chi Lang  ...   \n2458          Đình Lập         Lang Son           Dinh Lap  ...   \n2463          Đình Lập         Lang Son           Dinh Lap  ...   \n2564            Đầm Hà       Quang Ninh             Dam Ha  ...   \n2570            Đầm Hà       Quang Ninh             Dam Ha  ...   \n8058        Ma Đa Guôi         Lam Dong           Da Huoai  ...   \n8063        Ma Đa Guôi         Lam Dong           Da Huoai  ...   \n9032          Hiệp Hòa          Long An            Duc Hoa  ...   \n9038          Hiệp Hòa          Long An            Duc Hoa  ...   \n9536           Định An         Tra Vinh             Tra Cu  ...   \n9548           Định An         Tra Vinh             Tra Cu  ...   \n9735             Mỹ An        Dong Thap          Thap Muoi  ...   \n9744             Mỹ An        Dong Thap          Thap Muoi  ...   \n9748            Mỹ Thọ        Dong Thap  Cao Lanh District  ...   \n9756            Mỹ Thọ        Dong Thap  Cao Lanh District  ...   \n10084       Vĩnh Thuận       Kien Giang         Vinh Thuan  ...   \n10088       Vĩnh Thuận       Kien Giang         Vinh Thuan  ...   \n10321         Long Phú        Soc Trang           Long Phu  ...   \n10331         Long Phú        Soc Trang           Long Phu  ...   \n10374  Lịch Hội Thượng        Soc Trang            Tran De  ...   \n10375  Lịch Hội Thượng        Soc Trang            Tran De  ...   \n10401       Phước Long         Bac Lieu         Phuoc Long  ...   \n10404       Phước Long         Bac Lieu         Phuoc Long  ...   \n10456        Tân Thành           Ca Mau             Ca Mau  ...   \n10457        Tân Thành           Ca Mau             Ca Mau  ...   \n10471        Thới Bình           Ca Mau          Thoi Binh  ...   \n10477        Thới Bình           Ca Mau          Thoi Binh  ...   \n\n             long_ward_english short_district_english short_ward_english  \\\n176              Yen Vien Town                Gia Lam           Yen Vien   \n178           Yen Vien Commune                Gia Lam           Yen Vien   \n1479             Muong Te Town               Muong Te           Muong Te   \n1484          Muong Te Commune               Muong Te           Muong Te   \n1706              Hat Lot Town                Mai Son            Hat Lot   \n1716           Hat Lot Commune                Mai Son            Hat Lot   \n1882             Tram Tau Town               Tram Tau           Tram Tau   \n1887          Tram Tau Commune               Tram Tau           Tram Tau   \n1918             Yen Binh Town               Yen Binh           Yen Binh   \n1937          Yen Binh Commune               Yen Binh           Yen Binh   \n2418             Chi Lang Town               Chi Lang           Chi Lang   \n2436          Chi Lang Commune               Chi Lang           Chi Lang   \n2458             Dinh Lap Town               Dinh Lap           Dinh Lap   \n2463          Dinh Lap Commune               Dinh Lap           Dinh Lap   \n2564               Dam Ha Town                 Dam Ha             Dam Ha   \n2570            Dam Ha Commune                 Dam Ha             Dam Ha   \n8058           Ma Da Guoi Town               Da Huoai         Ma Da Guoi   \n8063        Ma Da Guoi Commune               Da Huoai         Ma Da Guoi   \n9032             Hiep Hoa Town                Duc Hoa           Hiep Hoa   \n9038          Hiep Hoa Commune                Duc Hoa           Hiep Hoa   \n9536              Dinh An Town                 Tra Cu            Dinh An   \n9548           Dinh An Commune                 Tra Cu            Dinh An   \n9735                My An Town              Thap Muoi              My An   \n9744             My An Commune              Thap Muoi              My An   \n9748               My Tho Town               Cao Lanh             My Tho   \n9756            My Tho Commune               Cao Lanh             My Tho   \n10084          Vinh Thuan Town             Vinh Thuan         Vinh Thuan   \n10088       Vinh Thuan Commune             Vinh Thuan         Vinh Thuan   \n10321            Long Phu Town               Long Phu           Long Phu   \n10331         Long Phu Commune               Long Phu           Long Phu   \n10374  Lich Hoi Thuong Commune                Tran De    Lich Hoi Thuong   \n10375     Lich Hoi Thuong Town                Tran De    Lich Hoi Thuong   \n10401          Phuoc Long Town             Phuoc Long         Phuoc Long   \n10404       Phuoc Long Commune             Phuoc Long         Phuoc Long   \n10456           Tan Thanh Ward                 Ca Mau          Tan Thanh   \n10457        Tan Thanh Commune                 Ca Mau          Tan Thanh   \n10471           Thoi Binh Town              Thoi Binh          Thoi Binh   \n10477        Thoi Binh Commune              Thoi Binh          Thoi Binh   \n\n      district_level ward_level district_level_english ward_level_english  \\\n176            Huyện   Thị trấn               District               Town   \n178            Huyện         Xã               District            Commune   \n1479           Huyện   Thị trấn               District               Town   \n1484           Huyện         Xã               District            Commune   \n1706           Huyện   Thị trấn               District               Town   \n1716           Huyện         Xã               District            Commune   \n1882           Huyện   Thị trấn               District               Town   \n1887           Huyện         Xã               District            Commune   \n1918           Huyện   Thị trấn               District               Town   \n1937           Huyện         Xã               District            Commune   \n2418           Huyện   Thị trấn               District               Town   \n2436           Huyện         Xã               District            Commune   \n2458           Huyện   Thị trấn               District               Town   \n2463           Huyện         Xã               District            Commune   \n2564           Huyện   Thị trấn               District               Town   \n2570           Huyện         Xã               District            Commune   \n8058           Huyện   Thị trấn               District               Town   \n8063           Huyện         Xã               District            Commune   \n9032           Huyện   Thị trấn               District               Town   \n9038           Huyện         Xã               District            Commune   \n9536           Huyện   Thị trấn               District               Town   \n9548           Huyện         Xã               District            Commune   \n9735           Huyện   Thị trấn               District               Town   \n9744           Huyện         Xã               District            Commune   \n9748           Huyện   Thị trấn               District               Town   \n9756           Huyện         Xã               District            Commune   \n10084          Huyện   Thị trấn               District               Town   \n10088          Huyện         Xã               District            Commune   \n10321          Huyện   Thị trấn               District               Town   \n10331          Huyện         Xã               District            Commune   \n10374          Huyện         Xã               District            Commune   \n10375          Huyện   Thị trấn               District               Town   \n10401          Huyện   Thị trấn               District               Town   \n10404          Huyện         Xã               District            Commune   \n10456      Thành phố     Phường                   City               Ward   \n10457      Thành phố         Xã                   City            Commune   \n10471          Huyện   Thị trấn               District               Town   \n10477          Huyện         Xã               District            Commune   \n\n      province_key district_key       ward_key  \n176          hanoi       gialam        yenvien  \n178          hanoi       gialam        yenvien  \n1479       laichau      muongte        muongte  \n1484       laichau      muongte        muongte  \n1706         sonla       maison         hatlot  \n1716         sonla       maison         hatlot  \n1882        yenbai      tramtau        tramtau  \n1887        yenbai      tramtau        tramtau  \n1918        yenbai      yenbinh        yenbinh  \n1937        yenbai      yenbinh        yenbinh  \n2418       langson      chilang        chilang  \n2436       langson      chilang        chilang  \n2458       langson      dinhlap        dinhlap  \n2463       langson      dinhlap        dinhlap  \n2564     quangninh        damha          damha  \n2570     quangninh        damha          damha  \n8058       lamdong      dahuoai       madaguoi  \n8063       lamdong      dahuoai       madaguoi  \n9032        longan       duchoa        hiephoa  \n9038        longan       duchoa        hiephoa  \n9536       travinh        tracu         dinhan  \n9548       travinh        tracu         dinhan  \n9735      dongthap     thapmuoi           myan  \n9744      dongthap     thapmuoi           myan  \n9748      dongthap      caolanh          mytho  \n9756      dongthap      caolanh          mytho  \n10084    kiengiang    vinhthuan      vinhthuan  \n10088    kiengiang    vinhthuan      vinhthuan  \n10321     soctrang      longphu        longphu  \n10331     soctrang      longphu        longphu  \n10374     soctrang       trande  lichhoithuong  \n10375     soctrang       trande  lichhoithuong  \n10401      baclieu    phuoclong      phuoclong  \n10404      baclieu    phuoclong      phuoclong  \n10456        camau        camau       tanthanh  \n10457        camau        camau       tanthanh  \n10471        camau     thoibinh       thoibinh  \n10477        camau     thoibinh       thoibinh  \n\n[38 rows x 23 columns]",
      "text/html": "<div>\n<style scoped>\n    .dataframe tbody tr th:only-of-type {\n        vertical-align: middle;\n    }\n\n    .dataframe tbody tr th {\n        vertical-align: top;\n    }\n\n    .dataframe thead th {\n        text-align: right;\n    }\n</style>\n<table border=\"1\" class=\"dataframe\">\n  <thead>\n    <tr style=\"text-align: right;\">\n      <th></th>\n      <th>province</th>\n      <th>district</th>\n      <th>ward</th>\n      <th>long_province</th>\n      <th>long_district</th>\n      <th>long_ward</th>\n      <th>short_district</th>\n      <th>short_ward</th>\n      <th>province_english</th>\n      <th>district_english</th>\n      <th>...</th>\n      <th>long_ward_english</th>\n      <th>short_district_english</th>\n      <th>short_ward_english</th>\n      <th>district_level</th>\n      <th>ward_level</th>\n      <th>district_level_english</th>\n      <th>ward_level_english</th>\n      <th>province_key</th>\n      <th>district_key</th>\n      <th>ward_key</th>\n    </tr>\n  </thead>\n  <tbody>\n    <tr>\n      <th>176</th>\n      <td>Hà Nội</td>\n      <td>Gia Lâm</td>\n      <td>Thị trấn Yên Viên</td>\n      <td>Thành phố Hà Nội</td>\n      <td>Huyện Gia Lâm</td>\n      <td>Thị trấn Yên Viên</td>\n      <td>Gia Lâm</td>\n      <td>Yên Viên</td>\n      <td>Ha Noi</td>\n      <td>Gia Lam</td>\n      <td>...</td>\n      <td>Yen Vien Town</td>\n      <td>Gia Lam</td>\n      <td>Yen Vien</td>\n      <td>Huyện</td>\n      <td>Thị trấn</td>\n      <td>District</td>\n      <td>Town</td>\n      <td>hanoi</td>\n      <td>gialam</td>\n      <td>yenvien</td>\n    </tr>\n    <tr>\n      <th>178</th>\n      <td>Hà Nội</td>\n      <td>Gia Lâm</td>\n      <td>Xã Yên Viên</td>\n      <td>Thành phố Hà Nội</td>\n      <td>Huyện Gia Lâm</td>\n      <td>Xã Yên Viên</td>\n      <td>Gia Lâm</td>\n      <td>Yên Viên</td>\n      <td>Ha Noi</td>\n      <td>Gia Lam</td>\n      <td>...</td>\n      <td>Yen Vien Commune</td>\n      <td>Gia Lam</td>\n      <td>Yen Vien</td>\n      <td>Huyện</td>\n      <td>Xã</td>\n      <td>District</td>\n      <td>Commune</td>\n      <td>hanoi</td>\n      <td>gialam</td>\n      <td>yenvien</td>\n    </tr>\n    <tr>\n      <th>1479</th>\n      <td>Lai Châu</td>\n      <td>Mường Tè</td>\n      <td>Thị trấn Mường Tè</td>\n      <td>Tỉnh Lai Châu</td>\n      <td>Huyện Mường Tè</td>\n      <td>Thị trấn Mường Tè</td>\n      <td>Mường Tè</td>\n      <td>Mường Tè</td>\n      <td>Lai Chau</td>\n      <td>Muong Te</td>\n      <td>...</td>\n      <td>Muong Te Town</td>\n      <td>Muong Te</td>\n      <td>Muong Te</td>\n      <td>Huyện</td>\n      <td>Thị trấn</td>\n      <td>District</td>\n      <td>Town</td>\n      <td>laichau</td>\n      <td>muongte</td>\n      <td>muongte</td>\n    </tr>\n    <tr>\n      <th>1484</th>\n      <td>Lai Châu</td>\n      <td>Mường Tè</td>\n      <td>Xã Mường Tè</td>\n      <td>Tỉnh Lai Châu</td>\n      <td>Huyện Mường Tè</td>\n      <td>Xã Mường Tè</td>\n      <td>Mường Tè</td>\n      <td>Mường Tè</td>\n      <td>Lai Chau</td>\n      <td>Muong Te</td>\n      <td>...</td>\n      <td>Muong Te Commune</td>\n      <td>Muong Te</td>\n      <td>Muong Te</td>\n      <td>Huyện</td>\n      <td>Xã</td>\n      <td>District</td>\n      <td>Commune</td>\n      <td>laichau</td>\n      <td>muongte</td>\n      <td>muongte</td>\n    </tr>\n    <tr>\n      <th>1706</th>\n      <td>Sơn La</td>\n      <td>Mai Sơn</td>\n      <td>Thị trấn Hát Lót</td>\n      <td>Tỉnh Sơn La</td>\n      <td>Huyện Mai Sơn</td>\n      <td>Thị trấn Hát Lót</td>\n      <td>Mai Sơn</td>\n      <td>Hát Lót</td>\n      <td>Son La</td>\n      <td>Mai Son</td>\n      <td>...</td>\n      <td>Hat Lot Town</td>\n      <td>Mai Son</td>\n      <td>Hat Lot</td>\n      <td>Huyện</td>\n      <td>Thị trấn</td>\n      <td>District</td>\n      <td>Town</td>\n      <td>sonla</td>\n      <td>maison</td>\n      <td>hatlot</td>\n    </tr>\n    <tr>\n      <th>1716</th>\n      <td>Sơn La</td>\n      <td>Mai Sơn</td>\n      <td>Xã Hát Lót</td>\n      <td>Tỉnh Sơn La</td>\n      <td>Huyện Mai Sơn</td>\n      <td>Xã Hát Lót</td>\n      <td>Mai Sơn</td>\n      <td>Hát Lót</td>\n      <td>Son La</td>\n      <td>Mai Son</td>\n      <td>...</td>\n      <td>Hat Lot Commune</td>\n      <td>Mai Son</td>\n      <td>Hat Lot</td>\n      <td>Huyện</td>\n      <td>Xã</td>\n      <td>District</td>\n      <td>Commune</td>\n      <td>sonla</td>\n      <td>maison</td>\n      <td>hatlot</td>\n    </tr>\n    <tr>\n      <th>1882</th>\n      <td>Yên Bái</td>\n      <td>Trạm Tấu</td>\n      <td>Thị trấn Trạm Tấu</td>\n      <td>Tỉnh Yên Bái</td>\n      <td>Huyện Trạm Tấu</td>\n      <td>Thị trấn Trạm Tấu</td>\n      <td>Trạm Tấu</td>\n      <td>Trạm Tấu</td>\n      <td>Yen Bai</td>\n      <td>Tram Tau</td>\n      <td>...</td>\n      <td>Tram Tau Town</td>\n      <td>Tram Tau</td>\n      <td>Tram Tau</td>\n      <td>Huyện</td>\n      <td>Thị trấn</td>\n      <td>District</td>\n      <td>Town</td>\n      <td>yenbai</td>\n      <td>tramtau</td>\n      <td>tramtau</td>\n    </tr>\n    <tr>\n      <th>1887</th>\n      <td>Yên Bái</td>\n      <td>Trạm Tấu</td>\n      <td>Xã Trạm Tấu</td>\n      <td>Tỉnh Yên Bái</td>\n      <td>Huyện Trạm Tấu</td>\n      <td>Xã Trạm Tấu</td>\n      <td>Trạm Tấu</td>\n      <td>Trạm Tấu</td>\n      <td>Yen Bai</td>\n      <td>Tram Tau</td>\n      <td>...</td>\n      <td>Tram Tau Commune</td>\n      <td>Tram Tau</td>\n      <td>Tram Tau</td>\n      <td>Huyện</td>\n      <td>Xã</td>\n      <td>District</td>\n      <td>Commune</td>\n      <td>yenbai</td>\n      <td>tramtau</td>\n      <td>tramtau</td>\n    </tr>\n    <tr>\n      <th>1918</th>\n      <td>Yên Bái</td>\n      <td>Yên Bình</td>\n      <td>Thị trấn Yên Bình</td>\n      <td>Tỉnh Yên Bái</td>\n      <td>Huyện Yên Bình</td>\n      <td>Thị trấn Yên Bình</td>\n      <td>Yên Bình</td>\n      <td>Yên Bình</td>\n      <td>Yen Bai</td>\n      <td>Yen Binh</td>\n      <td>...</td>\n      <td>Yen Binh Town</td>\n      <td>Yen Binh</td>\n      <td>Yen Binh</td>\n      <td>Huyện</td>\n      <td>Thị trấn</td>\n      <td>District</td>\n      <td>Town</td>\n      <td>yenbai</td>\n      <td>yenbinh</td>\n      <td>yenbinh</td>\n    </tr>\n    <tr>\n      <th>1937</th>\n      <td>Yên Bái</td>\n      <td>Yên Bình</td>\n      <td>Xã Yên Bình</td>\n      <td>Tỉnh Yên Bái</td>\n      <td>Huyện Yên Bình</td>\n      <td>Xã Yên Bình</td>\n      <td>Yên Bình</td>\n      <td>Yên Bình</td>\n      <td>Yen Bai</td>\n      <td>Yen Binh</td>\n      <td>...</td>\n      <td>Yen Binh Commune</td>\n      <td>Yen Binh</td>\n      <td>Yen Binh</td>\n      <td>Huyện</td>\n      <td>Xã</td>\n      <td>District</td>\n      <td>Commune</td>\n      <td>yenbai</td>\n      <td>yenbinh</td>\n      <td>yenbinh</td>\n    </tr>\n    <tr>\n      <th>2418</th>\n      <td>Lạng Sơn</td>\n      <td>Chi Lăng</td>\n      <td>Thị trấn Chi Lăng</td>\n      <td>Tỉnh Lạng Sơn</td>\n      <td>Huyện Chi Lăng</td>\n      <td>Thị trấn Chi Lăng</td>\n      <td>Chi Lăng</td>\n      <td>Chi Lăng</td>\n      <td>Lang Son</td>\n      <td>Chi Lang</td>\n      <td>...</td>\n      <td>Chi Lang Town</td>\n      <td>Chi Lang</td>\n      <td>Chi Lang</td>\n      <td>Huyện</td>\n      <td>Thị trấn</td>\n      <td>District</td>\n      <td>Town</td>\n      <td>langson</td>\n      <td>chilang</td>\n      <td>chilang</td>\n    </tr>\n    <tr>\n      <th>2436</th>\n      <td>Lạng Sơn</td>\n      <td>Chi Lăng</td>\n      <td>Xã Chi Lăng</td>\n      <td>Tỉnh Lạng Sơn</td>\n      <td>Huyện Chi Lăng</td>\n      <td>Xã Chi Lăng</td>\n      <td>Chi Lăng</td>\n      <td>Chi Lăng</td>\n      <td>Lang Son</td>\n      <td>Chi Lang</td>\n      <td>...</td>\n      <td>Chi Lang Commune</td>\n      <td>Chi Lang</td>\n      <td>Chi Lang</td>\n      <td>Huyện</td>\n      <td>Xã</td>\n      <td>District</td>\n      <td>Commune</td>\n      <td>langson</td>\n      <td>chilang</td>\n      <td>chilang</td>\n    </tr>\n    <tr>\n      <th>2458</th>\n      <td>Lạng Sơn</td>\n      <td>Đình Lập</td>\n      <td>Thị trấn Đình Lập</td>\n      <td>Tỉnh Lạng Sơn</td>\n      <td>Huyện Đình Lập</td>\n      <td>Thị trấn Đình Lập</td>\n      <td>Đình Lập</td>\n      <td>Đình Lập</td>\n      <td>Lang Son</td>\n      <td>Dinh Lap</td>\n      <td>...</td>\n      <td>Dinh Lap Town</td>\n      <td>Dinh Lap</td>\n      <td>Dinh Lap</td>\n      <td>Huyện</td>\n      <td>Thị trấn</td>\n      <td>District</td>\n      <td>Town</td>\n      <td>langson</td>\n      <td>dinhlap</td>\n      <td>dinhlap</td>\n    </tr>\n    <tr>\n      <th>2463</th>\n      <td>Lạng Sơn</td>\n      <td>Đình Lập</td>\n      <td>Xã Đình Lập</td>\n      <td>Tỉnh Lạng Sơn</td>\n      <td>Huyện Đình Lập</td>\n      <td>Xã Đình Lập</td>\n      <td>Đình Lập</td>\n      <td>Đình Lập</td>\n      <td>Lang Son</td>\n      <td>Dinh Lap</td>\n      <td>...</td>\n      <td>Dinh Lap Commune</td>\n      <td>Dinh Lap</td>\n      <td>Dinh Lap</td>\n      <td>Huyện</td>\n      <td>Xã</td>\n      <td>District</td>\n      <td>Commune</td>\n      <td>langson</td>\n      <td>dinhlap</td>\n      <td>dinhlap</td>\n    </tr>\n    <tr>\n      <th>2564</th>\n      <td>Quảng Ninh</td>\n      <td>Đầm Hà</td>\n      <td>Thị trấn Đầm Hà</td>\n      <td>Tỉnh Quảng Ninh</td>\n      <td>Huyện Đầm Hà</td>\n      <td>Thị trấn Đầm Hà</td>\n      <td>Đầm Hà</td>\n      <td>Đầm Hà</td>\n      <td>Quang Ninh</td>\n      <td>Dam Ha</td>\n      <td>...</td>\n      <td>Dam Ha Town</td>\n      <td>Dam Ha</td>\n      <td>Dam Ha</td>\n      <td>Huyện</td>\n      <td>Thị trấn</td>\n      <td>District</td>\n      <td>Town</td>\n      <td>quangninh</td>\n      <td>damha</td>\n      <td>damha</td>\n    </tr>\n    <tr>\n      <th>2570</th>\n      <td>Quảng Ninh</td>\n      <td>Đầm Hà</td>\n      <td>Xã Đầm Hà</td>\n      <td>Tỉnh Quảng Ninh</td>\n      <td>Huyện Đầm Hà</td>\n      <td>Xã Đầm Hà</td>\n      <td>Đầm Hà</td>\n      <td>Đầm Hà</td>\n      <td>Quang Ninh</td>\n      <td>Dam Ha</td>\n      <td>...</td>\n      <td>Dam Ha Commune</td>\n      <td>Dam Ha</td>\n      <td>Dam Ha</td>\n      <td>Huyện</td>\n      <td>Xã</td>\n      <td>District</td>\n      <td>Commune</td>\n      <td>quangninh</td>\n      <td>damha</td>\n      <td>damha</td>\n    </tr>\n    <tr>\n      <th>8058</th>\n      <td>Lâm Đồng</td>\n      <td>Đạ Huoai</td>\n      <td>Thị trấn Ma Đa Guôi</td>\n      <td>Tỉnh Lâm Đồng</td>\n      <td>Huyện Đạ Huoai</td>\n      <td>Thị trấn Ma Đa Guôi</td>\n      <td>Đạ Huoai</td>\n      <td>Ma Đa Guôi</td>\n      <td>Lam Dong</td>\n      <td>Da Huoai</td>\n      <td>...</td>\n      <td>Ma Da Guoi Town</td>\n      <td>Da Huoai</td>\n      <td>Ma Da Guoi</td>\n      <td>Huyện</td>\n      <td>Thị trấn</td>\n      <td>District</td>\n      <td>Town</td>\n      <td>lamdong</td>\n      <td>dahuoai</td>\n      <td>madaguoi</td>\n    </tr>\n    <tr>\n      <th>8063</th>\n      <td>Lâm Đồng</td>\n      <td>Đạ Huoai</td>\n      <td>Xã Ma Đa Guôi</td>\n      <td>Tỉnh Lâm Đồng</td>\n      <td>Huyện Đạ Huoai</td>\n      <td>Xã Ma Đa Guôi</td>\n      <td>Đạ Huoai</td>\n      <td>Ma Đa Guôi</td>\n      <td>Lam Dong</td>\n      <td>Da Huoai</td>\n      <td>...</td>\n      <td>Ma Da Guoi Commune</td>\n      <td>Da Huoai</td>\n      <td>Ma Da Guoi</td>\n      <td>Huyện</td>\n      <td>Xã</td>\n      <td>District</td>\n      <td>Commune</td>\n      <td>lamdong</td>\n      <td>dahuoai</td>\n      <td>madaguoi</td>\n    </tr>\n    <tr>\n      <th>9032</th>\n      <td>Long An</td>\n      <td>Đức Hòa</td>\n      <td>Thị trấn Hiệp Hòa</td>\n      <td>Tỉnh Long An</td>\n      <td>Huyện Đức Hòa</td>\n      <td>Thị trấn Hiệp Hòa</td>\n      <td>Đức Hòa</td>\n      <td>Hiệp Hòa</td>\n      <td>Long An</td>\n      <td>Duc Hoa</td>\n      <td>...</td>\n      <td>Hiep Hoa Town</td>\n      <td>Duc Hoa</td>\n      <td>Hiep Hoa</td>\n      <td>Huyện</td>\n      <td>Thị trấn</td>\n      <td>District</td>\n      <td>Town</td>\n      <td>longan</td>\n      <td>duchoa</td>\n      <td>hiephoa</td>\n    </tr>\n    <tr>\n      <th>9038</th>\n      <td>Long An</td>\n      <td>Đức Hòa</td>\n      <td>Xã Hiệp Hòa</td>\n      <td>Tỉnh Long An</td>\n      <td>Huyện Đức Hòa</td>\n      <td>Xã Hiệp Hòa</td>\n      <td>Đức Hòa</td>\n      <td>Hiệp Hòa</td>\n      <td>Long An</td>\n      <td>Duc Hoa</td>\n      <td>...</td>\n      <td>Hiep Hoa Commune</td>\n      <td>Duc Hoa</td>\n      <td>Hiep Hoa</td>\n      <td>Huyện</td>\n      <td>Xã</td>\n      <td>District</td>\n      <td>Commune</td>\n      <td>longan</td>\n      <td>duchoa</td>\n      <td>hiephoa</td>\n    </tr>\n    <tr>\n      <th>9536</th>\n      <td>Trà Vinh</td>\n      <td>Trà Cú</td>\n      <td>Thị trấn Định An</td>\n      <td>Tỉnh Trà Vinh</td>\n      <td>Huyện Trà Cú</td>\n      <td>Thị trấn Định An</td>\n      <td>Trà Cú</td>\n      <td>Định An</td>\n      <td>Tra Vinh</td>\n      <td>Tra Cu</td>\n      <td>...</td>\n      <td>Dinh An Town</td>\n      <td>Tra Cu</td>\n      <td>Dinh An</td>\n      <td>Huyện</td>\n      <td>Thị trấn</td>\n      <td>District</td>\n      <td>Town</td>\n      <td>travinh</td>\n      <td>tracu</td>\n      <td>dinhan</td>\n    </tr>\n    <tr>\n      <th>9548</th>\n      <td>Trà Vinh</td>\n      <td>Trà Cú</td>\n      <td>Xã Định An</td>\n      <td>Tỉnh Trà Vinh</td>\n      <td>Huyện Trà Cú</td>\n      <td>Xã Định An</td>\n      <td>Trà Cú</td>\n      <td>Định An</td>\n      <td>Tra Vinh</td>\n      <td>Tra Cu</td>\n      <td>...</td>\n      <td>Dinh An Commune</td>\n      <td>Tra Cu</td>\n      <td>Dinh An</td>\n      <td>Huyện</td>\n      <td>Xã</td>\n      <td>District</td>\n      <td>Commune</td>\n      <td>travinh</td>\n      <td>tracu</td>\n      <td>dinhan</td>\n    </tr>\n    <tr>\n      <th>9735</th>\n      <td>Đồng Tháp</td>\n      <td>Tháp Mười</td>\n      <td>Thị trấn Mỹ An</td>\n      <td>Tỉnh Đồng Tháp</td>\n      <td>Huyện Tháp Mười</td>\n      <td>Thị trấn Mỹ An</td>\n      <td>Tháp Mười</td>\n      <td>Mỹ An</td>\n      <td>Dong Thap</td>\n      <td>Thap Muoi</td>\n      <td>...</td>\n      <td>My An Town</td>\n      <td>Thap Muoi</td>\n      <td>My An</td>\n      <td>Huyện</td>\n      <td>Thị trấn</td>\n      <td>District</td>\n      <td>Town</td>\n      <td>dongthap</td>\n      <td>thapmuoi</td>\n      <td>myan</td>\n    </tr>\n    <tr>\n      <th>9744</th>\n      <td>Đồng Tháp</td>\n      <td>Tháp Mười</td>\n      <td>Xã Mỹ An</td>\n      <td>Tỉnh Đồng Tháp</td>\n      <td>Huyện Tháp Mười</td>\n      <td>Xã Mỹ An</td>\n      <td>Tháp Mười</td>\n      <td>Mỹ An</td>\n      <td>Dong Thap</td>\n      <td>Thap Muoi</td>\n      <td>...</td>\n      <td>My An Commune</td>\n      <td>Thap Muoi</td>\n      <td>My An</td>\n      <td>Huyện</td>\n      <td>Xã</td>\n      <td>District</td>\n      <td>Commune</td>\n      <td>dongthap</td>\n      <td>thapmuoi</td>\n      <td>myan</td>\n    </tr>\n    <tr>\n      <th>9748</th>\n      <td>Đồng Tháp</td>\n      <td>Huyện Cao Lãnh</td>\n      <td>Thị trấn Mỹ Thọ</td>\n      <td>Tỉnh Đồng Tháp</td>\n      <td>Huyện Cao Lãnh</td>\n      <td>Thị trấn Mỹ Thọ</td>\n      <td>Cao Lãnh</td>\n      <td>Mỹ Thọ</td>\n      <td>Dong Thap</td>\n      <td>Cao Lanh District</td>\n      <td>...</td>\n      <td>My Tho Town</td>\n      <td>Cao Lanh</td>\n      <td>My Tho</td>\n      <td>Huyện</td>\n      <td>Thị trấn</td>\n      <td>District</td>\n      <td>Town</td>\n      <td>dongthap</td>\n      <td>caolanh</td>\n      <td>mytho</td>\n    </tr>\n    <tr>\n      <th>9756</th>\n      <td>Đồng Tháp</td>\n      <td>Huyện Cao Lãnh</td>\n      <td>Xã Mỹ Thọ</td>\n      <td>Tỉnh Đồng Tháp</td>\n      <td>Huyện Cao Lãnh</td>\n      <td>Xã Mỹ Thọ</td>\n      <td>Cao Lãnh</td>\n      <td>Mỹ Thọ</td>\n      <td>Dong Thap</td>\n      <td>Cao Lanh District</td>\n      <td>...</td>\n      <td>My Tho Commune</td>\n      <td>Cao Lanh</td>\n      <td>My Tho</td>\n      <td>Huyện</td>\n      <td>Xã</td>\n      <td>District</td>\n      <td>Commune</td>\n      <td>dongthap</td>\n      <td>caolanh</td>\n      <td>mytho</td>\n    </tr>\n    <tr>\n      <th>10084</th>\n      <td>Kiên Giang</td>\n      <td>Vĩnh Thuận</td>\n      <td>Thị trấn Vĩnh Thuận</td>\n      <td>Tỉnh Kiên Giang</td>\n      <td>Huyện Vĩnh Thuận</td>\n      <td>Thị trấn Vĩnh Thuận</td>\n      <td>Vĩnh Thuận</td>\n      <td>Vĩnh Thuận</td>\n      <td>Kien Giang</td>\n      <td>Vinh Thuan</td>\n      <td>...</td>\n      <td>Vinh Thuan Town</td>\n      <td>Vinh Thuan</td>\n      <td>Vinh Thuan</td>\n      <td>Huyện</td>\n      <td>Thị trấn</td>\n      <td>District</td>\n      <td>Town</td>\n      <td>kiengiang</td>\n      <td>vinhthuan</td>\n      <td>vinhthuan</td>\n    </tr>\n    <tr>\n      <th>10088</th>\n      <td>Kiên Giang</td>\n      <td>Vĩnh Thuận</td>\n      <td>Xã Vĩnh Thuận</td>\n      <td>Tỉnh Kiên Giang</td>\n      <td>Huyện Vĩnh Thuận</td>\n      <td>Xã Vĩnh Thuận</td>\n      <td>Vĩnh Thuận</td>\n      <td>Vĩnh Thuận</td>\n      <td>Kien Giang</td>\n      <td>Vinh Thuan</td>\n      <td>...</td>\n      <td>Vinh Thuan Commune</td>\n      <td>Vinh Thuan</td>\n      <td>Vinh Thuan</td>\n      <td>Huyện</td>\n      <td>Xã</td>\n      <td>District</td>\n      <td>Commune</td>\n      <td>kiengiang</td>\n      <td>vinhthuan</td>\n      <td>vinhthuan</td>\n    </tr>\n    <tr>\n      <th>10321</th>\n      <td>Sóc Trăng</td>\n      <td>Long Phú</td>\n      <td>Thị trấn Long Phú</td>\n      <td>Tỉnh Sóc Trăng</td>\n      <td>Huyện Long Phú</td>\n      <td>Thị trấn Long Phú</td>\n      <td>Long Phú</td>\n      <td>Long Phú</td>\n      <td>Soc Trang</td>\n      <td>Long Phu</td>\n      <td>...</td>\n      <td>Long Phu Town</td>\n      <td>Long Phu</td>\n      <td>Long Phu</td>\n      <td>Huyện</td>\n      <td>Thị trấn</td>\n      <td>District</td>\n      <td>Town</td>\n      <td>soctrang</td>\n      <td>longphu</td>\n      <td>longphu</td>\n    </tr>\n    <tr>\n      <th>10331</th>\n      <td>Sóc Trăng</td>\n      <td>Long Phú</td>\n      <td>Xã Long Phú</td>\n      <td>Tỉnh Sóc Trăng</td>\n      <td>Huyện Long Phú</td>\n      <td>Xã Long Phú</td>\n      <td>Long Phú</td>\n      <td>Long Phú</td>\n      <td>Soc Trang</td>\n      <td>Long Phu</td>\n      <td>...</td>\n      <td>Long Phu Commune</td>\n      <td>Long Phu</td>\n      <td>Long Phu</td>\n      <td>Huyện</td>\n      <td>Xã</td>\n      <td>District</td>\n      <td>Commune</td>\n      <td>soctrang</td>\n      <td>longphu</td>\n      <td>longphu</td>\n    </tr>\n    <tr>\n      <th>10374</th>\n      <td>Sóc Trăng</td>\n      <td>Trần Đề</td>\n      <td>Xã Lịch Hội Thượng</td>\n      <td>Tỉnh Sóc Trăng</td>\n      <td>Huyện Trần Đề</td>\n      <td>Xã Lịch Hội Thượng</td>\n      <td>Trần Đề</td>\n      <td>Lịch Hội Thượng</td>\n      <td>Soc Trang</td>\n      <td>Tran De</td>\n      <td>...</td>\n      <td>Lich Hoi Thuong Commune</td>\n      <td>Tran De</td>\n      <td>Lich Hoi Thuong</td>\n      <td>Huyện</td>\n      <td>Xã</td>\n      <td>District</td>\n      <td>Commune</td>\n      <td>soctrang</td>\n      <td>trande</td>\n      <td>lichhoithuong</td>\n    </tr>\n    <tr>\n      <th>10375</th>\n      <td>Sóc Trăng</td>\n      <td>Trần Đề</td>\n      <td>Thị trấn Lịch Hội Thượng</td>\n      <td>Tỉnh Sóc Trăng</td>\n      <td>Huyện Trần Đề</td>\n      <td>Thị trấn Lịch Hội Thượng</td>\n      <td>Trần Đề</td>\n      <td>Lịch Hội Thượng</td>\n      <td>Soc Trang</td>\n      <td>Tran De</td>\n      <td>...</td>\n      <td>Lich Hoi Thuong Town</td>\n      <td>Tran De</td>\n      <td>Lich Hoi Thuong</td>\n      <td>Huyện</td>\n      <td>Thị trấn</td>\n      <td>District</td>\n      <td>Town</td>\n      <td>soctrang</td>\n      <td>trande</td>\n      <td>lichhoithuong</td>\n    </tr>\n    <tr>\n      <th>10401</th>\n      <td>Bạc Liêu</td>\n      <td>Phước Long</td>\n      <td>Thị trấn Phước Long</td>\n      <td>Tỉnh Bạc Liêu</td>\n      <td>Huyện Phước Long</td>\n      <td>Thị trấn Phước Long</td>\n      <td>Phước Long</td>\n      <td>Phước Long</td>\n      <td>Bac Lieu</td>\n      <td>Phuoc Long</td>\n      <td>...</td>\n      <td>Phuoc Long Town</td>\n      <td>Phuoc Long</td>\n      <td>Phuoc Long</td>\n      <td>Huyện</td>\n      <td>Thị trấn</td>\n      <td>District</td>\n      <td>Town</td>\n      <td>baclieu</td>\n      <td>phuoclong</td>\n      <td>phuoclong</td>\n    </tr>\n    <tr>\n      <th>10404</th>\n      <td>Bạc Liêu</td>\n      <td>Phước Long</td>\n      <td>Xã Phước Long</td>\n      <td>Tỉnh Bạc Liêu</td>\n      <td>Huyện Phước Long</td>\n      <td>Xã Phước Long</td>\n      <td>Phước Long</td>\n      <td>Phước Long</td>\n      <td>Bac Lieu</td>\n      <td>Phuoc Long</td>\n      <td>...</td>\n      <td>Phuoc Long Commune</td>\n      <td>Phuoc Long</td>\n      <td>Phuoc Long</td>\n      <td>Huyện</td>\n      <td>Xã</td>\n      <td>District</td>\n      <td>Commune</td>\n      <td>baclieu</td>\n      <td>phuoclong</td>\n      <td>phuoclong</td>\n    </tr>\n    <tr>\n      <th>10456</th>\n      <td>Cà Mau</td>\n      <td>Cà Mau</td>\n      <td>Phường Tân Thành</td>\n      <td>Tỉnh Cà Mau</td>\n      <td>Thành phố Cà Mau</td>\n      <td>Phường Tân Thành</td>\n      <td>Cà Mau</td>\n      <td>Tân Thành</td>\n      <td>Ca Mau</td>\n      <td>Ca Mau</td>\n      <td>...</td>\n      <td>Tan Thanh Ward</td>\n      <td>Ca Mau</td>\n      <td>Tan Thanh</td>\n      <td>Thành phố</td>\n      <td>Phường</td>\n      <td>City</td>\n      <td>Ward</td>\n      <td>camau</td>\n      <td>camau</td>\n      <td>tanthanh</td>\n    </tr>\n    <tr>\n      <th>10457</th>\n      <td>Cà Mau</td>\n      <td>Cà Mau</td>\n      <td>Xã Tân Thành</td>\n      <td>Tỉnh Cà Mau</td>\n      <td>Thành phố Cà Mau</td>\n      <td>Xã Tân Thành</td>\n      <td>Cà Mau</td>\n      <td>Tân Thành</td>\n      <td>Ca Mau</td>\n      <td>Ca Mau</td>\n      <td>...</td>\n      <td>Tan Thanh Commune</td>\n      <td>Ca Mau</td>\n      <td>Tan Thanh</td>\n      <td>Thành phố</td>\n      <td>Xã</td>\n      <td>City</td>\n      <td>Commune</td>\n      <td>camau</td>\n      <td>camau</td>\n      <td>tanthanh</td>\n    </tr>\n    <tr>\n      <th>10471</th>\n      <td>Cà Mau</td>\n      <td>Thới Bình</td>\n      <td>Thị trấn Thới Bình</td>\n      <td>Tỉnh Cà Mau</td>\n      <td>Huyện Thới Bình</td>\n      <td>Thị trấn Thới Bình</td>\n      <td>Thới Bình</td>\n      <td>Thới Bình</td>\n      <td>Ca Mau</td>\n      <td>Thoi Binh</td>\n      <td>...</td>\n      <td>Thoi Binh Town</td>\n      <td>Thoi Binh</td>\n      <td>Thoi Binh</td>\n      <td>Huyện</td>\n      <td>Thị trấn</td>\n      <td>District</td>\n      <td>Town</td>\n      <td>camau</td>\n      <td>thoibinh</td>\n      <td>thoibinh</td>\n    </tr>\n    <tr>\n      <th>10477</th>\n      <td>Cà Mau</td>\n      <td>Thới Bình</td>\n      <td>Xã Thới Bình</td>\n      <td>Tỉnh Cà Mau</td>\n      <td>Huyện Thới Bình</td>\n      <td>Xã Thới Bình</td>\n      <td>Thới Bình</td>\n      <td>Thới Bình</td>\n      <td>Ca Mau</td>\n      <td>Thoi Binh</td>\n      <td>...</td>\n      <td>Thoi Binh Commune</td>\n      <td>Thoi Binh</td>\n      <td>Thoi Binh</td>\n      <td>Huyện</td>\n      <td>Xã</td>\n      <td>District</td>\n      <td>Commune</td>\n      <td>camau</td>\n      <td>thoibinh</td>\n      <td>thoibinh</td>\n    </tr>\n  </tbody>\n</table>\n<p>38 rows × 23 columns</p>\n</div>"
     },
     "execution_count": 13,
     "metadata": {},
     "output_type": "execute_result"
    }
   ],
   "source": [
    "df_duplicated_wards"
   ],
   "metadata": {
    "collapsed": false,
    "ExecuteTime": {
     "end_time": "2024-09-15T17:23:12.557537Z",
     "start_time": "2024-09-15T17:23:12.548790Z"
    }
   },
   "id": "22024ec0b6c0c44f",
   "execution_count": 13
  },
  {
   "cell_type": "code",
   "outputs": [],
   "source": [
    "duplicated_ward_keys = df_duplicated_wards.ward_key.unique().tolist()\n",
    "duplicated_ward_district_keys = df_duplicated_wards.district_key.unique().tolist()"
   ],
   "metadata": {
    "collapsed": false,
    "ExecuteTime": {
     "end_time": "2024-09-15T17:23:12.561463Z",
     "start_time": "2024-09-15T17:23:12.559846Z"
    }
   },
   "id": "36a7552a0c1ac02a",
   "execution_count": 14
  },
  {
   "cell_type": "code",
   "outputs": [],
   "source": [
    "# After testing module, I added this code\n",
    "# 'Huyện Quang Bình, Tỉnh Hà Giang' -> quangbinh\n",
    "# 'Huyện Phù Yên, Tỉnh Sơn La' -> phuyen\n",
    "# 'Huyện Văn Giang, Tỉnh Hưng Yên' -> angiang\n",
    "# 'Huyện Quảng Ninh, Tỉnh Quảng Bình' -> quangninh\n",
    "# 'Bac Lieu, Hoa Binh District -> hoabinh\n",
    "province_key_order = {\n",
    "    'hagiang': 1,\n",
    "    'quangbinh': 2,\n",
    "    'sonla': 3,\n",
    "    'phuyen': 4,\n",
    "    'hungyen': 5,\n",
    "    'angiang': 6,\n",
    "    'quangninh': 7,\n",
    "    'baclieu': 8,\n",
    "    'hoabinh': 9\n",
    "}\n",
    "\n",
    "df['province_key_order'] = df['province_key'].map(province_key_order)\n",
    "\n",
    "df.sort_values(by='province_key_order', inplace=True)"
   ],
   "metadata": {
    "collapsed": false,
    "ExecuteTime": {
     "end_time": "2024-09-15T17:23:12.570053Z",
     "start_time": "2024-09-15T17:23:12.561959Z"
    }
   },
   "id": "b8a12456da334b0",
   "execution_count": 15
  },
  {
   "cell_type": "code",
   "outputs": [],
   "source": [
    "df_province = df[[col for col in df.columns if 'province' in col]].drop_duplicates()\n",
    "\n",
    "province_alias_keys = [\n",
    "    ('Ho Chi Minh', 'hcm'),\n",
    "    ('Ha Noi', 'hn') # Cause wrong with \"Tinh Nghe An\", fixed by adding to the end of province_keys_2\n",
    "]\n",
    "\n",
    "for key in province_alias_keys:\n",
    "    province_english, province_key = key\n",
    "    df_province = add_province_key(df_province, province_english, province_key)"
   ],
   "metadata": {
    "collapsed": false,
    "ExecuteTime": {
     "end_time": "2024-09-15T17:23:12.584094Z",
     "start_time": "2024-09-15T17:23:12.570744Z"
    }
   },
   "id": "2e3e541cf6cffa27",
   "execution_count": 16
  },
  {
   "cell_type": "code",
   "outputs": [],
   "source": [
    "df_district = df[['province_english'] + [col for col in df.columns if 'district' in col]].drop_duplicates()\n",
    "\n",
    "district_alias_keys = [\n",
    "    ('An Giang', 'Chau Thanh', 'hueduc'),\n",
    "    ('Ba Ria - Vung Tau', 'Phu My', 'tanthanh'),\n",
    "    ('Bac Kan', 'Ba Be', 'chora'),\n",
    "    ('Bac Lieu', 'Bac Lieu', 'minhhai'),\n",
    "    ('Binh Duong', 'Tan Uyen', 'chauthanh'),\n",
    "    ('Binh Duong', 'Thuan An', 'laithieu'),\n",
    "    ('Binh Phuoc', 'Phuoc Long', 'phuocbinh'),\n",
    "    ('Ca Mau', 'Dam Doi', 'ngochien'),\n",
    "    ('Cao Bang', 'Quang Hoa', 'phuchoa'),\n",
    "    ('Cao Bang', 'Quang Hoa', 'quanguyen'),\n",
    "    ('Cao Bang', 'Ha Quang', 'thongnong'),\n",
    "    ('Cao Bang', 'Trung Khanh', 'tralinh'),\n",
    "    ('Dien Bien', 'Muong Lay', 'laichau'),\n",
    "    ('Dien Bien', 'Muong Cha', 'muonglay'),\n",
    "    ('Dong Nai', 'Vinh Cuu', 'vinhan'),\n",
    "    ('Dong Thap', 'Lap Vo', 'thanhhung'),\n",
    "    ('Ha Nam', 'Phu Ly', 'hanam'),\n",
    "    ('Ha Noi', 'Soc Son', 'daphuc'),\n",
    "    ('Ha Noi', 'Soc Son', 'kimanh'),\n",
    "    ('Hai Phong', 'Cat Hai', 'catba'),\n",
    "    ('Hau Giang', 'Vi Thanh', 'mythanh'),\n",
    "    ('Hau Giang', 'Nga Bay', 'tanhiep'),\n",
    "    ('Hoa Binh', 'Hoa Binh', 'kyson'),\n",
    "    ('Khanh Hoa', 'Dien Khanh', 'khanhxuong'),\n",
    "    ('Kien Giang', 'Kien Luong', 'hatien'),\n",
    "    ('Lao Cai', 'Lao Cai', 'camduong'),\n",
    "    ('Nam Dinh', 'Nam Dinh', 'myloc'),\n",
    "    ('Ninh Binh', 'Hoa Lu', 'giakhanh'),\n",
    "    ('Ninh Binh', 'Nho Quan', 'hoanglong'),\n",
    "    ('Ninh Binh', 'Yen Mo', 'tamdiep'),\n",
    "    ('Phu Tho', 'Cam Khe', 'songthao'),\n",
    "    ('Quang Nam', 'Nam Giang', 'giang'),\n",
    "    ('Quang Ngai', 'Tra Bong', 'taytra'),\n",
    "    ('Quang Ninh', 'Ha Long', 'honggai'),\n",
    "    ('Quang Ninh', 'Van Don', 'campha'),\n",
    "    ('Quang Ninh', 'Mong Cai', 'haininh'),\n",
    "    ('Quang Ninh', 'Quang Yen', 'yenhung'),\n",
    "    ('Quang Ninh', 'Ha Long', 'hoanhbo'),\n",
    "    ('Tay Ninh', 'Hoa Thanh', 'phukhuong'),\n",
    "    ('Thanh Hoa', 'Dong Son', 'dongthieu'),\n",
    "    ('Thanh Hoa', 'Yen Dinh', 'thieuyen'),\n",
    "    ('Thanh Hoa', 'Nghi Son', 'tinhgia'),\n",
    "    ('Ho Chi Minh', 'Can Gio', 'duyenhai'),\n",
    "    ('Ho Chi Minh', 'Thu Duc', 'quan2'),\n",
    "    ('Ho Chi Minh', 'Thu Duc', 'quan9'),\n",
    "    # ('Ho Chi Minh', 'Thu Duc', 'thuduc(quan)'),\n",
    "    ('Tra Vinh', 'Cang Long', 'chauthanhdong'),\n",
    "    ('Vinh Long', 'Long Ho', 'cainhum'),\n",
    "    ('Vinh Long', 'Long Ho', 'chauthanhtay'),\n",
    "    ('Ben Tre', 'Mo Cay Nam', 'mocay'),\n",
    "    ('Binh Thuan', 'Ham Thuan Nam', 'hamthuan'),\n",
    "    ('Ha Noi', 'Nam Tu Liem', 'tuliem'),\n",
    "    ('Quang Nam', 'Nam Tra My', 'tramy'),\n",
    "    ('Tien Giang', 'Go Cong Tay', 'gocong')\n",
    "]\n",
    "\n",
    "for key in district_alias_keys:\n",
    "    province_english, district_english, district_key = key\n",
    "    df_district = add_district_key(df_district, province_english, district_english, district_key)"
   ],
   "metadata": {
    "collapsed": false,
    "ExecuteTime": {
     "end_time": "2024-09-15T17:23:12.639583Z",
     "start_time": "2024-09-15T17:23:12.584826Z"
    }
   },
   "id": "7b4ed620017edf0a",
   "execution_count": 17
  },
  {
   "cell_type": "code",
   "outputs": [
    {
     "data": {
      "text/plain": "     province_english       district        long_district short_district  \\\n579          Ha Giang       Hà Giang   Thành phố Hà Giang       Hà Giang   \n702          Ha Giang   Hoàng Su Phì   Huyện Hoàng Su Phì   Hoàng Su Phì   \n716          Ha Giang        Xín Mần        Huyện Xín Mần        Xín Mần   \n678          Ha Giang       Vị Xuyên       Huyện Vị Xuyên       Vị Xuyên   \n679          Ha Giang         Bắc Mê         Huyện Bắc Mê         Bắc Mê   \n...               ...            ...                  ...            ...   \n9349          Ben Tre     Mỏ Cày Nam     Huyện Mỏ Cày Nam     Mỏ Cày Nam   \n7314       Binh Thuan  Hàm Thuận Nam  Huyện Hàm Thuận Nam  Hàm Thuận Nam   \n198            Ha Noi    Nam Từ Liêm     Quận Nam Từ Liêm    Nam Từ Liêm   \n6550        Quang Nam     Nam Trà My     Huyện Nam Trà My     Nam Trà My   \n9271       Tien Giang    Gò Công Tây    Huyện Gò Công Tây    Gò Công Tây   \n\n     district_english   long_district_english short_district_english  \\\n579          Ha Giang           Ha Giang City               Ha Giang   \n702      Hoang Su Phi   Hoang Su Phi District           Hoang Su Phi   \n716           Xin Man        Xin Man District                Xin Man   \n678          Vi Xuyen       Vi Xuyen District               Vi Xuyen   \n679            Bac Me         Bac Me District                 Bac Me   \n...               ...                     ...                    ...   \n9349       Mo Cay Nam     Mo Cay Nam District             Mo Cay Nam   \n7314    Ham Thuan Nam  Ham Thuan Nam District          Ham Thuan Nam   \n198       Nam Tu Liem    Nam Tu Liem District            Nam Tu Liem   \n6550       Nam Tra My     Nam Tra My District             Nam Tra My   \n9271      Go Cong Tay    Go Cong Tay District            Go Cong Tay   \n\n     district_level district_level_english district_key  \n579       Thành phố                   City      hagiang  \n702           Huyện               District   hoangsuphi  \n716           Huyện               District       xinman  \n678           Huyện               District      vixuyen  \n679           Huyện               District        bacme  \n...             ...                    ...          ...  \n9349          Huyện               District        mocay  \n7314          Huyện               District     hamthuan  \n198            Quận               District       tuliem  \n6550          Huyện               District        tramy  \n9271          Huyện               District       gocong  \n\n[757 rows x 10 columns]",
      "text/html": "<div>\n<style scoped>\n    .dataframe tbody tr th:only-of-type {\n        vertical-align: middle;\n    }\n\n    .dataframe tbody tr th {\n        vertical-align: top;\n    }\n\n    .dataframe thead th {\n        text-align: right;\n    }\n</style>\n<table border=\"1\" class=\"dataframe\">\n  <thead>\n    <tr style=\"text-align: right;\">\n      <th></th>\n      <th>province_english</th>\n      <th>district</th>\n      <th>long_district</th>\n      <th>short_district</th>\n      <th>district_english</th>\n      <th>long_district_english</th>\n      <th>short_district_english</th>\n      <th>district_level</th>\n      <th>district_level_english</th>\n      <th>district_key</th>\n    </tr>\n  </thead>\n  <tbody>\n    <tr>\n      <th>579</th>\n      <td>Ha Giang</td>\n      <td>Hà Giang</td>\n      <td>Thành phố Hà Giang</td>\n      <td>Hà Giang</td>\n      <td>Ha Giang</td>\n      <td>Ha Giang City</td>\n      <td>Ha Giang</td>\n      <td>Thành phố</td>\n      <td>City</td>\n      <td>hagiang</td>\n    </tr>\n    <tr>\n      <th>702</th>\n      <td>Ha Giang</td>\n      <td>Hoàng Su Phì</td>\n      <td>Huyện Hoàng Su Phì</td>\n      <td>Hoàng Su Phì</td>\n      <td>Hoang Su Phi</td>\n      <td>Hoang Su Phi District</td>\n      <td>Hoang Su Phi</td>\n      <td>Huyện</td>\n      <td>District</td>\n      <td>hoangsuphi</td>\n    </tr>\n    <tr>\n      <th>716</th>\n      <td>Ha Giang</td>\n      <td>Xín Mần</td>\n      <td>Huyện Xín Mần</td>\n      <td>Xín Mần</td>\n      <td>Xin Man</td>\n      <td>Xin Man District</td>\n      <td>Xin Man</td>\n      <td>Huyện</td>\n      <td>District</td>\n      <td>xinman</td>\n    </tr>\n    <tr>\n      <th>678</th>\n      <td>Ha Giang</td>\n      <td>Vị Xuyên</td>\n      <td>Huyện Vị Xuyên</td>\n      <td>Vị Xuyên</td>\n      <td>Vi Xuyen</td>\n      <td>Vi Xuyen District</td>\n      <td>Vi Xuyen</td>\n      <td>Huyện</td>\n      <td>District</td>\n      <td>vixuyen</td>\n    </tr>\n    <tr>\n      <th>679</th>\n      <td>Ha Giang</td>\n      <td>Bắc Mê</td>\n      <td>Huyện Bắc Mê</td>\n      <td>Bắc Mê</td>\n      <td>Bac Me</td>\n      <td>Bac Me District</td>\n      <td>Bac Me</td>\n      <td>Huyện</td>\n      <td>District</td>\n      <td>bacme</td>\n    </tr>\n    <tr>\n      <th>...</th>\n      <td>...</td>\n      <td>...</td>\n      <td>...</td>\n      <td>...</td>\n      <td>...</td>\n      <td>...</td>\n      <td>...</td>\n      <td>...</td>\n      <td>...</td>\n      <td>...</td>\n    </tr>\n    <tr>\n      <th>9349</th>\n      <td>Ben Tre</td>\n      <td>Mỏ Cày Nam</td>\n      <td>Huyện Mỏ Cày Nam</td>\n      <td>Mỏ Cày Nam</td>\n      <td>Mo Cay Nam</td>\n      <td>Mo Cay Nam District</td>\n      <td>Mo Cay Nam</td>\n      <td>Huyện</td>\n      <td>District</td>\n      <td>mocay</td>\n    </tr>\n    <tr>\n      <th>7314</th>\n      <td>Binh Thuan</td>\n      <td>Hàm Thuận Nam</td>\n      <td>Huyện Hàm Thuận Nam</td>\n      <td>Hàm Thuận Nam</td>\n      <td>Ham Thuan Nam</td>\n      <td>Ham Thuan Nam District</td>\n      <td>Ham Thuan Nam</td>\n      <td>Huyện</td>\n      <td>District</td>\n      <td>hamthuan</td>\n    </tr>\n    <tr>\n      <th>198</th>\n      <td>Ha Noi</td>\n      <td>Nam Từ Liêm</td>\n      <td>Quận Nam Từ Liêm</td>\n      <td>Nam Từ Liêm</td>\n      <td>Nam Tu Liem</td>\n      <td>Nam Tu Liem District</td>\n      <td>Nam Tu Liem</td>\n      <td>Quận</td>\n      <td>District</td>\n      <td>tuliem</td>\n    </tr>\n    <tr>\n      <th>6550</th>\n      <td>Quang Nam</td>\n      <td>Nam Trà My</td>\n      <td>Huyện Nam Trà My</td>\n      <td>Nam Trà My</td>\n      <td>Nam Tra My</td>\n      <td>Nam Tra My District</td>\n      <td>Nam Tra My</td>\n      <td>Huyện</td>\n      <td>District</td>\n      <td>tramy</td>\n    </tr>\n    <tr>\n      <th>9271</th>\n      <td>Tien Giang</td>\n      <td>Gò Công Tây</td>\n      <td>Huyện Gò Công Tây</td>\n      <td>Gò Công Tây</td>\n      <td>Go Cong Tay</td>\n      <td>Go Cong Tay District</td>\n      <td>Go Cong Tay</td>\n      <td>Huyện</td>\n      <td>District</td>\n      <td>gocong</td>\n    </tr>\n  </tbody>\n</table>\n<p>757 rows × 10 columns</p>\n</div>"
     },
     "execution_count": 18,
     "metadata": {},
     "output_type": "execute_result"
    }
   ],
   "source": [
    "df_district"
   ],
   "metadata": {
    "collapsed": false,
    "ExecuteTime": {
     "end_time": "2024-09-15T17:23:12.644845Z",
     "start_time": "2024-09-15T17:23:12.640188Z"
    }
   },
   "id": "a355d953159f89a2",
   "execution_count": 18
  },
  {
   "cell_type": "code",
   "outputs": [],
   "source": [
    "hcm_districts = df_district[df_district['district_key'].str.contains(r'quan\\d{1,2}')].copy()\n",
    "hcm_districts['district_key'] = hcm_districts['district_key'].str.replace('quan', 'district')\n",
    "df_district = pd.concat([df_district, hcm_districts])"
   ],
   "metadata": {
    "collapsed": false,
    "ExecuteTime": {
     "end_time": "2024-09-15T17:23:12.648213Z",
     "start_time": "2024-09-15T17:23:12.645423Z"
    }
   },
   "id": "9e3870492482a94a",
   "execution_count": 19
  },
  {
   "cell_type": "code",
   "outputs": [],
   "source": [
    "df_ward = df[['province_english', 'district_english'] + [col for col in df.columns if 'ward' in col]].drop_duplicates()"
   ],
   "metadata": {
    "collapsed": false,
    "ExecuteTime": {
     "end_time": "2024-09-15T17:23:12.661180Z",
     "start_time": "2024-09-15T17:23:12.648731Z"
    }
   },
   "id": "6e14acc61d1d33a8",
   "execution_count": 20
  },
  {
   "cell_type": "code",
   "outputs": [],
   "source": [
    "number_wards = df_ward[df_ward['ward_key'].fillna('').str.contains(r'phuong\\d{1,2}')].copy()\n",
    "number_wards['ward_key'] = number_wards['ward_key'].str.replace('phuong', 'ward')\n",
    "df_ward = pd.concat([df_ward, number_wards])"
   ],
   "metadata": {
    "collapsed": false,
    "ExecuteTime": {
     "end_time": "2024-09-15T17:23:12.668779Z",
     "start_time": "2024-09-15T17:23:12.661875Z"
    }
   },
   "id": "e7e66b3d54b9f90d",
   "execution_count": 21
  },
  {
   "cell_type": "code",
   "outputs": [
    {
     "data": {
      "text/plain": "      province_english district_english         ward           long_ward  \\\n579           Ha Giang         Ha Giang  Quang Trung  Phường Quang Trung   \n702           Ha Giang     Hoang Su Phi     Tân Tiến         Xã Tân Tiến   \n703           Ha Giang     Hoang Su Phi     Nàng Đôn         Xã Nàng Đôn   \n704           Ha Giang     Hoang Su Phi   Pờ Ly Ngài       Xã Pờ Ly Ngài   \n705           Ha Giang     Hoang Su Phi    Sán Xả Hồ        Xã Sán Xả Hồ   \n...                ...              ...          ...                 ...   \n10449           Ca Mau           Ca Mau     Phường 5            Phường 5   \n10450           Ca Mau           Ca Mau     Phường 2            Phường 2   \n10451           Ca Mau           Ca Mau     Phường 8            Phường 8   \n10452           Ca Mau           Ca Mau     Phường 6            Phường 6   \n10453           Ca Mau           Ca Mau     Phường 7            Phường 7   \n\n        short_ward ward_english   long_ward_english short_ward_english  \\\n579    Quang Trung  Quang Trung    Quang Trung Ward        Quang Trung   \n702       Tân Tiến     Tan Tien    Tan Tien Commune           Tan Tien   \n703       Nàng Đôn     Nang Don    Nang Don Commune           Nang Don   \n704     Pờ Ly Ngài   Po Ly Ngai  Po Ly Ngai Commune         Po Ly Ngai   \n705      Sán Xả Hồ    San Xa Ho   San Xa Ho Commune          San Xa Ho   \n...            ...          ...                 ...                ...   \n10449     Phường 5       Ward 5              Ward 5             Ward 5   \n10450     Phường 2       Ward 2              Ward 2             Ward 2   \n10451     Phường 8       Ward 8              Ward 8             Ward 8   \n10452     Phường 6       Ward 6              Ward 6             Ward 6   \n10453     Phường 7       Ward 7              Ward 7             Ward 7   \n\n      ward_level ward_level_english    ward_key  \n579       Phường               Ward  quangtrung  \n702           Xã            Commune     tantien  \n703           Xã            Commune     nangdon  \n704           Xã            Commune    polyngai  \n705           Xã            Commune     sanxaho  \n...          ...                ...         ...  \n10449     Phường               Ward       ward5  \n10450     Phường               Ward       ward2  \n10451     Phường               Ward       ward8  \n10452     Phường               Ward       ward6  \n10453     Phường               Ward       ward7  \n\n[10845 rows x 11 columns]",
      "text/html": "<div>\n<style scoped>\n    .dataframe tbody tr th:only-of-type {\n        vertical-align: middle;\n    }\n\n    .dataframe tbody tr th {\n        vertical-align: top;\n    }\n\n    .dataframe thead th {\n        text-align: right;\n    }\n</style>\n<table border=\"1\" class=\"dataframe\">\n  <thead>\n    <tr style=\"text-align: right;\">\n      <th></th>\n      <th>province_english</th>\n      <th>district_english</th>\n      <th>ward</th>\n      <th>long_ward</th>\n      <th>short_ward</th>\n      <th>ward_english</th>\n      <th>long_ward_english</th>\n      <th>short_ward_english</th>\n      <th>ward_level</th>\n      <th>ward_level_english</th>\n      <th>ward_key</th>\n    </tr>\n  </thead>\n  <tbody>\n    <tr>\n      <th>579</th>\n      <td>Ha Giang</td>\n      <td>Ha Giang</td>\n      <td>Quang Trung</td>\n      <td>Phường Quang Trung</td>\n      <td>Quang Trung</td>\n      <td>Quang Trung</td>\n      <td>Quang Trung Ward</td>\n      <td>Quang Trung</td>\n      <td>Phường</td>\n      <td>Ward</td>\n      <td>quangtrung</td>\n    </tr>\n    <tr>\n      <th>702</th>\n      <td>Ha Giang</td>\n      <td>Hoang Su Phi</td>\n      <td>Tân Tiến</td>\n      <td>Xã Tân Tiến</td>\n      <td>Tân Tiến</td>\n      <td>Tan Tien</td>\n      <td>Tan Tien Commune</td>\n      <td>Tan Tien</td>\n      <td>Xã</td>\n      <td>Commune</td>\n      <td>tantien</td>\n    </tr>\n    <tr>\n      <th>703</th>\n      <td>Ha Giang</td>\n      <td>Hoang Su Phi</td>\n      <td>Nàng Đôn</td>\n      <td>Xã Nàng Đôn</td>\n      <td>Nàng Đôn</td>\n      <td>Nang Don</td>\n      <td>Nang Don Commune</td>\n      <td>Nang Don</td>\n      <td>Xã</td>\n      <td>Commune</td>\n      <td>nangdon</td>\n    </tr>\n    <tr>\n      <th>704</th>\n      <td>Ha Giang</td>\n      <td>Hoang Su Phi</td>\n      <td>Pờ Ly Ngài</td>\n      <td>Xã Pờ Ly Ngài</td>\n      <td>Pờ Ly Ngài</td>\n      <td>Po Ly Ngai</td>\n      <td>Po Ly Ngai Commune</td>\n      <td>Po Ly Ngai</td>\n      <td>Xã</td>\n      <td>Commune</td>\n      <td>polyngai</td>\n    </tr>\n    <tr>\n      <th>705</th>\n      <td>Ha Giang</td>\n      <td>Hoang Su Phi</td>\n      <td>Sán Xả Hồ</td>\n      <td>Xã Sán Xả Hồ</td>\n      <td>Sán Xả Hồ</td>\n      <td>San Xa Ho</td>\n      <td>San Xa Ho Commune</td>\n      <td>San Xa Ho</td>\n      <td>Xã</td>\n      <td>Commune</td>\n      <td>sanxaho</td>\n    </tr>\n    <tr>\n      <th>...</th>\n      <td>...</td>\n      <td>...</td>\n      <td>...</td>\n      <td>...</td>\n      <td>...</td>\n      <td>...</td>\n      <td>...</td>\n      <td>...</td>\n      <td>...</td>\n      <td>...</td>\n      <td>...</td>\n    </tr>\n    <tr>\n      <th>10449</th>\n      <td>Ca Mau</td>\n      <td>Ca Mau</td>\n      <td>Phường 5</td>\n      <td>Phường 5</td>\n      <td>Phường 5</td>\n      <td>Ward 5</td>\n      <td>Ward 5</td>\n      <td>Ward 5</td>\n      <td>Phường</td>\n      <td>Ward</td>\n      <td>ward5</td>\n    </tr>\n    <tr>\n      <th>10450</th>\n      <td>Ca Mau</td>\n      <td>Ca Mau</td>\n      <td>Phường 2</td>\n      <td>Phường 2</td>\n      <td>Phường 2</td>\n      <td>Ward 2</td>\n      <td>Ward 2</td>\n      <td>Ward 2</td>\n      <td>Phường</td>\n      <td>Ward</td>\n      <td>ward2</td>\n    </tr>\n    <tr>\n      <th>10451</th>\n      <td>Ca Mau</td>\n      <td>Ca Mau</td>\n      <td>Phường 8</td>\n      <td>Phường 8</td>\n      <td>Phường 8</td>\n      <td>Ward 8</td>\n      <td>Ward 8</td>\n      <td>Ward 8</td>\n      <td>Phường</td>\n      <td>Ward</td>\n      <td>ward8</td>\n    </tr>\n    <tr>\n      <th>10452</th>\n      <td>Ca Mau</td>\n      <td>Ca Mau</td>\n      <td>Phường 6</td>\n      <td>Phường 6</td>\n      <td>Phường 6</td>\n      <td>Ward 6</td>\n      <td>Ward 6</td>\n      <td>Ward 6</td>\n      <td>Phường</td>\n      <td>Ward</td>\n      <td>ward6</td>\n    </tr>\n    <tr>\n      <th>10453</th>\n      <td>Ca Mau</td>\n      <td>Ca Mau</td>\n      <td>Phường 7</td>\n      <td>Phường 7</td>\n      <td>Phường 7</td>\n      <td>Ward 7</td>\n      <td>Ward 7</td>\n      <td>Ward 7</td>\n      <td>Phường</td>\n      <td>Ward</td>\n      <td>ward7</td>\n    </tr>\n  </tbody>\n</table>\n<p>10845 rows × 11 columns</p>\n</div>"
     },
     "execution_count": 22,
     "metadata": {},
     "output_type": "execute_result"
    }
   ],
   "source": [
    "df_ward"
   ],
   "metadata": {
    "collapsed": false,
    "ExecuteTime": {
     "end_time": "2024-09-15T17:23:12.674997Z",
     "start_time": "2024-09-15T17:23:12.669405Z"
    }
   },
   "id": "79d3531d3c22c8f5",
   "execution_count": 22
  },
  {
   "cell_type": "code",
   "outputs": [],
   "source": [
    "province_keys = df_province['province_key'].tolist()\n",
    "\n",
    "# Pickle\n",
    "province_keys_1 = []\n",
    "province_keys_2 = []\n",
    "district_keys = str(df.district_key.unique().tolist())\n",
    "ward_keys = str(df.ward_key.unique().tolist())\n",
    "for province_key in province_keys:\n",
    "    if province_key not in district_keys:\n",
    "        province_keys_1.append(province_key)\n",
    "    else:\n",
    "        province_keys_2.append(province_key)"
   ],
   "metadata": {
    "collapsed": false,
    "ExecuteTime": {
     "end_time": "2024-09-15T17:23:12.679724Z",
     "start_time": "2024-09-15T17:23:12.675740Z"
    }
   },
   "id": "f1b5241edd87bf58",
   "execution_count": 23
  },
  {
   "cell_type": "code",
   "outputs": [],
   "source": [
    "# Pickle\n",
    "province_map = {}\n",
    "for province_key in df_province.province_key.unique():\n",
    "    province = df_province[df_province['province_key'] == province_key]\n",
    "    province_record = province.to_dict(orient='records')[0]\n",
    "    province_map[province_key] = province_record"
   ],
   "metadata": {
    "collapsed": false,
    "ExecuteTime": {
     "end_time": "2024-09-15T17:23:12.697818Z",
     "start_time": "2024-09-15T17:23:12.680227Z"
    }
   },
   "id": "dcb40691af26b797",
   "execution_count": 24
  },
  {
   "cell_type": "code",
   "outputs": [],
   "source": [
    "# Pickle\n",
    "district_map = {}\n",
    "for province_english in df_province.province_english.unique():\n",
    "    district_keys = {}\n",
    "    for district_key in df_district[df_district.province_english == province_english]['district_key'].unique():\n",
    "        district_levels = {}\n",
    "        for district_level_english in df_district[(df_district.province_english == province_english) & (df_district.district_key == district_key)]['district_level_english'].unique():\n",
    "            district = df_district[(df_district.province_english == province_english) & (df_district.district_key == district_key) & (df_district.district_level_english == district_level_english)]\n",
    "            district_record = district[[col for col in district.columns if 'district' in col]].to_dict('records')[0]\n",
    "            district_levels[district_level_english] = district_record\n",
    "        district_keys[district_key] = district_levels\n",
    "    \n",
    "    district_map[province_english] = district_keys"
   ],
   "metadata": {
    "collapsed": false,
    "ExecuteTime": {
     "end_time": "2024-09-15T17:23:13.296599Z",
     "start_time": "2024-09-15T17:23:12.698603Z"
    }
   },
   "id": "57ab1579066f41f5",
   "execution_count": 25
  },
  {
   "cell_type": "code",
   "outputs": [],
   "source": [
    "ward_map = {}\n",
    "for province_english in df_province.province_english.unique():\n",
    "    districts = {}\n",
    "    for district_english in df_district[df_district.province_english==province_english].district_english.unique():\n",
    "        wards = {}\n",
    "        for ward_key in df_ward[(df_ward.province_english==province_english) & (df_ward.district_english==district_english)].ward_key.unique():\n",
    "            ward_levels = {}\n",
    "            for ward_level_english in df_ward[(df_ward.province_english==province_english) & (df_ward.district_english==district_english) & (df_ward.ward_key==ward_key)].ward_level_english.unique():\n",
    "                ward = df_ward[(df_ward.province_english==province_english) & (df_ward.district_english==district_english) & (df_ward.ward_key==ward_key) & (df_ward.ward_level_english==ward_level_english)]\n",
    "                ward_record = ward[[col for col in ward.columns if 'ward' in col]].to_dict('records')[0]\n",
    "                ward_levels[ward_level_english] = ward_record\n",
    "            wards[ward_key] = ward_levels\n",
    "        districts[district_english] = wards\n",
    "    ward_map[province_english] = districts"
   ],
   "metadata": {
    "collapsed": false,
    "ExecuteTime": {
     "end_time": "2024-09-15T17:23:45.776737Z",
     "start_time": "2024-09-15T17:23:13.297155Z"
    }
   },
   "id": "c0eceda7e27b697e",
   "execution_count": 26
  },
  {
   "cell_type": "code",
   "outputs": [],
   "source": [],
   "metadata": {
    "collapsed": false,
    "ExecuteTime": {
     "end_time": "2024-09-15T17:23:45.784539Z",
     "start_time": "2024-09-15T17:23:45.782363Z"
    }
   },
   "id": "3b4cee594fcc203d",
   "execution_count": 26
  },
  {
   "cell_type": "code",
   "outputs": [],
   "source": [],
   "metadata": {
    "collapsed": false,
    "ExecuteTime": {
     "end_time": "2024-09-15T17:23:45.786429Z",
     "start_time": "2024-09-15T17:23:45.785332Z"
    }
   },
   "id": "b22c334c187ad6ca",
   "execution_count": 26
  },
  {
   "cell_type": "code",
   "outputs": [],
   "source": [
    "with open('../vnau_parser/data/parse.pkl', 'wb') as f:\n",
    "    pickle.dump((duplicated_district_keys, duplicated_district_province_keys, duplicated_ward_keys, duplicated_ward_district_keys, province_keys_1, province_keys_2, province_map, district_map, ward_map), f)"
   ],
   "metadata": {
    "collapsed": false,
    "ExecuteTime": {
     "end_time": "2024-09-15T17:23:45.808964Z",
     "start_time": "2024-09-15T17:23:45.787101Z"
    }
   },
   "id": "755934acf0047162",
   "execution_count": 27
  },
  {
   "cell_type": "code",
   "outputs": [],
   "source": [],
   "metadata": {
    "collapsed": false,
    "ExecuteTime": {
     "end_time": "2024-09-15T17:23:45.811228Z",
     "start_time": "2024-09-15T17:23:45.809866Z"
    }
   },
   "id": "61ce15069f74a5fa",
   "execution_count": 27
  }
 ],
 "metadata": {
  "kernelspec": {
   "display_name": "Python 3",
   "language": "python",
   "name": "python3"
  },
  "language_info": {
   "codemirror_mode": {
    "name": "ipython",
    "version": 2
   },
   "file_extension": ".py",
   "mimetype": "text/x-python",
   "name": "python",
   "nbconvert_exporter": "python",
   "pygments_lexer": "ipython2",
   "version": "2.7.6"
  }
 },
 "nbformat": 4,
 "nbformat_minor": 5
}
