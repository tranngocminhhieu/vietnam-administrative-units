{
 "cells": [
  {
   "cell_type": "code",
   "execution_count": 1,
   "id": "initial_id",
   "metadata": {
    "collapsed": true,
    "ExecuteTime": {
     "end_time": "2024-09-27T10:03:18.907451Z",
     "start_time": "2024-09-27T10:03:17.667451Z"
    }
   },
   "outputs": [],
   "source": [
    "import pandas as pd\n",
    "from vietadminunits import parse_address, get_data\n",
    "from vietadminunits.utils import to_key, to_alphanumeric\n",
    "import pickle"
   ]
  },
  {
   "cell_type": "code",
   "outputs": [],
   "source": [
    "df = pd.DataFrame(get_data())"
   ],
   "metadata": {
    "collapsed": false,
    "ExecuteTime": {
     "end_time": "2024-09-27T10:03:19.003906Z",
     "start_time": "2024-09-27T10:03:18.908412Z"
    }
   },
   "id": "b1b52d5aed5034d9",
   "execution_count": 2
  },
  {
   "cell_type": "code",
   "outputs": [],
   "source": [
    "df['long_province_alphanumeric'] = df['long_province'].apply(to_alphanumeric)\n",
    "df['long_district_alphanumeric'] = df['long_district'].apply(to_alphanumeric)\n",
    "df['long_ward_alphanumeric'] = df['long_ward'].fillna('').apply(to_alphanumeric)\n",
    "\n",
    "df['province_alphanumeric'] = df['province'].apply(to_alphanumeric)\n",
    "df['short_district_alphanumeric'] = df['short_district'].apply(to_alphanumeric)\n",
    "df['short_ward_alphanumeric'] = df['short_ward'].fillna('').apply(to_alphanumeric)"
   ],
   "metadata": {
    "collapsed": false,
    "ExecuteTime": {
     "end_time": "2024-09-27T10:03:19.161263Z",
     "start_time": "2024-09-27T10:03:19.004494Z"
    }
   },
   "id": "cf25cc6a682a9e9c",
   "execution_count": 3
  },
  {
   "cell_type": "code",
   "outputs": [],
   "source": [
    "for ward in ['long_ward_alphanumeric', 'short_ward_alphanumeric']:\n",
    "    for district in ['long_district_alphanumeric', 'short_district_alphanumeric']:\n",
    "        for province in ['long_province_alphanumeric', 'province_alphanumeric']:\n",
    "            df[f\"address_{ward}_{district}_{province}\"] = df[ward] + df[district] + df[province]\n",
    "            df[f\"address_comma_{ward}_{district}_{province}\"] = df[ward] + ',' + df[district] + ',' + df[province]"
   ],
   "metadata": {
    "collapsed": false,
    "ExecuteTime": {
     "end_time": "2024-09-27T10:03:19.193611Z",
     "start_time": "2024-09-27T10:03:19.162177Z"
    }
   },
   "id": "2ad328732a0b7fc7",
   "execution_count": 4
  },
  {
   "cell_type": "code",
   "outputs": [],
   "source": [
    "df['province_key'] = df['province'].apply(to_key, args=(1,))\n",
    "df['district_key'] = df['district'].apply(to_key, args=(2,))\n",
    "df['ward_key'] = df['ward'].apply(to_key, args=(3,))"
   ],
   "metadata": {
    "collapsed": false,
    "ExecuteTime": {
     "end_time": "2024-09-27T10:03:19.281602Z",
     "start_time": "2024-09-27T10:03:19.195253Z"
    }
   },
   "id": "3782c5a649aaf6ec",
   "execution_count": 5
  },
  {
   "cell_type": "code",
   "outputs": [],
   "source": [
    "address_cols = [col for col in df.columns if 'address' in col]"
   ],
   "metadata": {
    "collapsed": false,
    "ExecuteTime": {
     "end_time": "2024-09-27T10:03:19.284118Z",
     "start_time": "2024-09-27T10:03:19.282341Z"
    }
   },
   "id": "69039b2628333813",
   "execution_count": 6
  },
  {
   "cell_type": "markdown",
   "source": [
    "## Find wards that are the same keyword with provinces"
   ],
   "metadata": {
    "collapsed": false
   },
   "id": "4a1285958689a4"
  },
  {
   "cell_type": "code",
   "outputs": [],
   "source": [
    "wrong_provinces = []\n",
    "\n",
    "\n",
    "\n",
    "for address_col in address_cols:\n",
    "    for row in df.itertuples():\n",
    "        address = getattr(row, address_col)\n",
    "        unit = parse_address(address, level=1)\n",
    "        data = {\n",
    "            'address': address,\n",
    "            'province': row.province,\n",
    "            'province_key': row.province_key,\n",
    "            'wrong_province_key': unit.province_key,\n",
    "        }\n",
    "        \n",
    "        if unit.province == None:\n",
    "            print(address)\n",
    "            wrong_provinces.append(data)\n",
    "            \n",
    "        elif unit.province_key != row.province_key:\n",
    "            print(address)\n",
    "            wrong_provinces.append(data)"
   ],
   "metadata": {
    "collapsed": false,
    "ExecuteTime": {
     "end_time": "2024-09-27T10:03:56.867077Z",
     "start_time": "2024-09-27T10:03:19.284728Z"
    }
   },
   "id": "aca769f749d9adf8",
   "execution_count": 7
  },
  {
   "cell_type": "code",
   "outputs": [],
   "source": [
    "df_wrong_provinces = pd.DataFrame(wrong_provinces)"
   ],
   "metadata": {
    "collapsed": false,
    "ExecuteTime": {
     "end_time": "2024-09-27T10:03:56.872722Z",
     "start_time": "2024-09-27T10:03:56.868410Z"
    }
   },
   "id": "69ce345fefd31da9",
   "execution_count": 8
  },
  {
   "cell_type": "code",
   "outputs": [
    {
     "name": "stdout",
     "output_type": "stream",
     "text": [
      "<class 'pandas.core.frame.DataFrame'>\n",
      "RangeIndex: 0 entries\n",
      "Empty DataFrame\n"
     ]
    }
   ],
   "source": [
    "df_wrong_provinces.info()"
   ],
   "metadata": {
    "collapsed": false,
    "ExecuteTime": {
     "end_time": "2024-09-27T10:03:56.875706Z",
     "start_time": "2024-09-27T10:03:56.873433Z"
    }
   },
   "id": "90893bd387f0b0ad",
   "execution_count": 9
  },
  {
   "cell_type": "code",
   "outputs": [
    {
     "data": {
      "text/plain": "Empty DataFrame\nColumns: []\nIndex: []",
      "text/html": "<div>\n<style scoped>\n    .dataframe tbody tr th:only-of-type {\n        vertical-align: middle;\n    }\n\n    .dataframe tbody tr th {\n        vertical-align: top;\n    }\n\n    .dataframe thead th {\n        text-align: right;\n    }\n</style>\n<table border=\"1\" class=\"dataframe\">\n  <thead>\n    <tr style=\"text-align: right;\">\n      <th></th>\n    </tr>\n  </thead>\n  <tbody>\n  </tbody>\n</table>\n</div>"
     },
     "execution_count": 10,
     "metadata": {},
     "output_type": "execute_result"
    }
   ],
   "source": [
    "df_wrong_provinces"
   ],
   "metadata": {
    "collapsed": false,
    "ExecuteTime": {
     "end_time": "2024-09-27T10:03:56.882509Z",
     "start_time": "2024-09-27T10:03:56.876274Z"
    }
   },
   "id": "e2982a67d046cdd3",
   "execution_count": 10
  },
  {
   "cell_type": "code",
   "outputs": [],
   "source": [
    "# df_wrong_provinces[df_wrong_provinces.wrong_province_key.isna()]"
   ],
   "metadata": {
    "collapsed": false,
    "ExecuteTime": {
     "end_time": "2024-09-27T10:03:56.884582Z",
     "start_time": "2024-09-27T10:03:56.883122Z"
    }
   },
   "id": "1d7bddbd68a9f8c0",
   "execution_count": 11
  },
  {
   "cell_type": "code",
   "outputs": [],
   "source": [
    "DICT_double_check_provinces = {}\n",
    "for row in df_wrong_provinces.itertuples():\n",
    "    DICT_double_check_provinces[row.wrong_province_key] = df_wrong_provinces[df_wrong_provinces['wrong_province_key']==row.wrong_province_key]['province_key'].unique().tolist()"
   ],
   "metadata": {
    "collapsed": false,
    "ExecuteTime": {
     "end_time": "2024-09-27T10:03:56.887133Z",
     "start_time": "2024-09-27T10:03:56.885339Z"
    }
   },
   "id": "e1a174da9e0799b7",
   "execution_count": 12
  },
  {
   "cell_type": "code",
   "outputs": [
    {
     "data": {
      "text/plain": "{}"
     },
     "execution_count": 13,
     "metadata": {},
     "output_type": "execute_result"
    }
   ],
   "source": [
    "DICT_double_check_provinces"
   ],
   "metadata": {
    "collapsed": false,
    "ExecuteTime": {
     "end_time": "2024-09-27T10:03:56.889885Z",
     "start_time": "2024-09-27T10:03:56.888013Z"
    }
   },
   "id": "3052fc715c1eb74",
   "execution_count": 13
  },
  {
   "cell_type": "markdown",
   "source": [
    "## Find wards that are the same keyword with districts\n",
    "\n",
    "We have to add `double_check_provinces` to module to solve province level before doing this step."
   ],
   "metadata": {
    "collapsed": false
   },
   "id": "28410b2a00e10e19"
  },
  {
   "cell_type": "code",
   "outputs": [
    {
     "name": "stdout",
     "output_type": "stream",
     "text": [
      "thitranthachhathachhatinhhatinh\n",
      "xangocsonthachhatinhhatinh\n",
      "xathachhaithachhatinhhatinh\n",
      "xathachkenhthachhatinhhatinh\n",
      "xathachsonthachhatinhhatinh\n",
      "xathachlienthachhatinhhatinh\n",
      "xadinhbanthachhatinhhatinh\n",
      "xaviettienthachhatinhhatinh\n",
      "xathachkhethachhatinhhatinh\n",
      "xathachlongthachhatinhhatinh\n",
      "xathachtrithachhatinhhatinh\n",
      "xathachlacthachhatinhhatinh\n",
      "xathachngocthachhatinhhatinh\n",
      "xatuongsonthachhatinhhatinh\n",
      "xathachvanthachhatinhhatinh\n",
      "xaluuvinhsonthachhatinhhatinh\n",
      "xathachthangthachhatinhhatinh\n",
      "xathachdaithachhatinhhatinh\n",
      "xathachhoithachhatinhhatinh\n",
      "xatanlamhuongthachhatinhhatinh\n",
      "xathachxuanthachhatinhhatinh\n",
      "xanamdienthachhatinhhatinh\n",
      "xatanloclochatinhhatinh\n",
      "xahongloclochatinhhatinh\n",
      "xathinhloclochatinhhatinh\n",
      "xabinhanlochatinhhatinh\n",
      "xaichhaulochatinhhatinh\n",
      "xaphuluulochatinhhatinh\n",
      "thitranlochalochatinhhatinh\n",
      "xathachmylochatinhhatinh\n",
      "xathachkimlochatinhhatinh\n",
      "xathachchaulochatinhhatinh\n",
      "xahodolochatinhhatinh\n",
      "xamaiphulochatinhhatinh\n",
      "thitranchauobinhsontinhquangngai\n",
      "xabinhthuanbinhsontinhquangngai\n",
      "xabinhthanhbinhsontinhquangngai\n",
      "xabinhdongbinhsontinhquangngai\n",
      "xabinhchanhbinhsontinhquangngai\n",
      "xabinhnguyenbinhsontinhquangngai\n",
      "xabinhkhuongbinhsontinhquangngai\n",
      "xabinhtribinhsontinhquangngai\n",
      "xabinhanbinhsontinhquangngai\n",
      "xabinhhaibinhsontinhquangngai\n",
      "xabinhduongbinhsontinhquangngai\n",
      "xabinhphuocbinhsontinhquangngai\n",
      "xabinhhoabinhsontinhquangngai\n",
      "xabinhtrungbinhsontinhquangngai\n",
      "xabinhminhbinhsontinhquangngai\n",
      "xabinhlongbinhsontinhquangngai\n",
      "xabinhthanhbinhsontinhquangngai\n",
      "xabinhchuongbinhsontinhquangngai\n",
      "xabinhhiepbinhsontinhquangngai\n",
      "xabinhmybinhsontinhquangngai\n",
      "xabinhtanphubinhsontinhquangngai\n",
      "xabinhchaubinhsontinhquangngai\n",
      "lysontinhquangngai\n",
      "xatandinhbactanuyentinhbinhduong\n",
      "xabinhmybactanuyentinhbinhduong\n",
      "thitrantanbinhbactanuyentinhbinhduong\n",
      "xatanlapbactanuyentinhbinhduong\n",
      "thitrantanthanhbactanuyentinhbinhduong\n",
      "xadatcuocbactanuyentinhbinhduong\n",
      "xahieuliembactanuyentinhbinhduong\n",
      "xalacanbactanuyentinhbinhduong\n",
      "xatanmybactanuyentinhbinhduong\n",
      "xathuongtanbactanuyentinhbinhduong\n",
      "phuong2tanbinhthanhphohochiminh\n",
      "phuong4tanbinhthanhphohochiminh\n",
      "phuong12tanbinhthanhphohochiminh\n",
      "phuong13tanbinhthanhphohochiminh\n",
      "phuong1tanbinhthanhphohochiminh\n",
      "phuong3tanbinhthanhphohochiminh\n",
      "phuong11tanbinhthanhphohochiminh\n",
      "phuong7tanbinhthanhphohochiminh\n",
      "phuong5tanbinhthanhphohochiminh\n",
      "phuong10tanbinhthanhphohochiminh\n",
      "phuong6tanbinhthanhphohochiminh\n",
      "phuong8tanbinhthanhphohochiminh\n",
      "phuong9tanbinhthanhphohochiminh\n",
      "phuong14tanbinhthanhphohochiminh\n",
      "phuong15tanbinhthanhphohochiminh\n",
      "xatandinh,bactanuyen,tinhbinhduong\n",
      "xabinhmy,bactanuyen,tinhbinhduong\n",
      "thitrantanbinh,bactanuyen,tinhbinhduong\n",
      "xatanlap,bactanuyen,tinhbinhduong\n",
      "thitrantanthanh,bactanuyen,tinhbinhduong\n",
      "xadatcuoc,bactanuyen,tinhbinhduong\n",
      "xahieuliem,bactanuyen,tinhbinhduong\n",
      "xalacan,bactanuyen,tinhbinhduong\n",
      "xatanmy,bactanuyen,tinhbinhduong\n",
      "xathuongtan,bactanuyen,tinhbinhduong\n",
      "xatandinhbactanuyenbinhduong\n",
      "xabinhmybactanuyenbinhduong\n",
      "thitrantanbinhbactanuyenbinhduong\n",
      "xatanlapbactanuyenbinhduong\n",
      "thitrantanthanhbactanuyenbinhduong\n",
      "xadatcuocbactanuyenbinhduong\n",
      "xahieuliembactanuyenbinhduong\n",
      "xalacanbactanuyenbinhduong\n",
      "xatanmybactanuyenbinhduong\n",
      "xathuongtanbactanuyenbinhduong\n",
      "xatandinh,bactanuyen,binhduong\n",
      "xabinhmy,bactanuyen,binhduong\n",
      "thitrantanbinh,bactanuyen,binhduong\n",
      "xatanlap,bactanuyen,binhduong\n",
      "thitrantanthanh,bactanuyen,binhduong\n",
      "xadatcuoc,bactanuyen,binhduong\n",
      "xahieuliem,bactanuyen,binhduong\n",
      "xalacan,bactanuyen,binhduong\n",
      "xatanmy,bactanuyen,binhduong\n",
      "xathuongtan,bactanuyen,binhduong\n",
      "thachhathachhatinhhatinh\n",
      "ngocsonthachhatinhhatinh\n",
      "thachhaithachhatinhhatinh\n",
      "thachkenhthachhatinhhatinh\n",
      "thachsonthachhatinhhatinh\n",
      "thachlienthachhatinhhatinh\n",
      "dinhbanthachhatinhhatinh\n",
      "viettienthachhatinhhatinh\n",
      "thachkhethachhatinhhatinh\n",
      "thachlongthachhatinhhatinh\n",
      "thachtrithachhatinhhatinh\n",
      "thachlacthachhatinhhatinh\n",
      "thachngocthachhatinhhatinh\n",
      "tuongsonthachhatinhhatinh\n",
      "thachvanthachhatinhhatinh\n",
      "luuvinhsonthachhatinhhatinh\n",
      "thachthangthachhatinhhatinh\n",
      "thachdaithachhatinhhatinh\n",
      "thachhoithachhatinhhatinh\n",
      "tanlamhuongthachhatinhhatinh\n",
      "thachxuanthachhatinhhatinh\n",
      "namdienthachhatinhhatinh\n",
      "tanloclochatinhhatinh\n",
      "hongloclochatinhhatinh\n",
      "thinhloclochatinhhatinh\n",
      "binhanlochatinhhatinh\n",
      "ichhaulochatinhhatinh\n",
      "phuluulochatinhhatinh\n",
      "lochalochatinhhatinh\n",
      "thachmylochatinhhatinh\n",
      "thachkimlochatinhhatinh\n",
      "thachchaulochatinhhatinh\n",
      "hodolochatinhhatinh\n",
      "maiphulochatinhhatinh\n",
      "chauobinhsontinhquangngai\n",
      "binhthuanbinhsontinhquangngai\n",
      "binhthanhbinhsontinhquangngai\n",
      "binhdongbinhsontinhquangngai\n",
      "binhchanhbinhsontinhquangngai\n",
      "binhnguyenbinhsontinhquangngai\n",
      "binhkhuongbinhsontinhquangngai\n",
      "binhtribinhsontinhquangngai\n",
      "binhanbinhsontinhquangngai\n",
      "binhhaibinhsontinhquangngai\n",
      "binhduongbinhsontinhquangngai\n",
      "binhphuocbinhsontinhquangngai\n",
      "binhhoabinhsontinhquangngai\n",
      "binhtrungbinhsontinhquangngai\n",
      "binhminhbinhsontinhquangngai\n",
      "binhlongbinhsontinhquangngai\n",
      "binhthanhbinhsontinhquangngai\n",
      "binhchuongbinhsontinhquangngai\n",
      "binhhiepbinhsontinhquangngai\n",
      "binhmybinhsontinhquangngai\n",
      "binhtanphubinhsontinhquangngai\n",
      "binhchaubinhsontinhquangngai\n",
      "lysontinhquangngai\n",
      "tandinhbactanuyentinhbinhduong\n",
      "binhmybactanuyentinhbinhduong\n",
      "tanbinhbactanuyentinhbinhduong\n",
      "tanlapbactanuyentinhbinhduong\n",
      "tanthanhbactanuyentinhbinhduong\n",
      "datcuocbactanuyentinhbinhduong\n",
      "hieuliembactanuyentinhbinhduong\n",
      "lacanbactanuyentinhbinhduong\n",
      "tanmybactanuyentinhbinhduong\n",
      "thuongtanbactanuyentinhbinhduong\n",
      "phuong2tanbinhthanhphohochiminh\n",
      "phuong4tanbinhthanhphohochiminh\n",
      "phuong12tanbinhthanhphohochiminh\n",
      "phuong13tanbinhthanhphohochiminh\n",
      "phuong1tanbinhthanhphohochiminh\n",
      "phuong3tanbinhthanhphohochiminh\n",
      "phuong11tanbinhthanhphohochiminh\n",
      "phuong7tanbinhthanhphohochiminh\n",
      "phuong5tanbinhthanhphohochiminh\n",
      "phuong10tanbinhthanhphohochiminh\n",
      "phuong6tanbinhthanhphohochiminh\n",
      "phuong8tanbinhthanhphohochiminh\n",
      "phuong9tanbinhthanhphohochiminh\n",
      "phuong14tanbinhthanhphohochiminh\n",
      "phuong15tanbinhthanhphohochiminh\n",
      "tandinh,bactanuyen,tinhbinhduong\n",
      "binhmy,bactanuyen,tinhbinhduong\n",
      "tanbinh,bactanuyen,tinhbinhduong\n",
      "tanlap,bactanuyen,tinhbinhduong\n",
      "tanthanh,bactanuyen,tinhbinhduong\n",
      "datcuoc,bactanuyen,tinhbinhduong\n",
      "hieuliem,bactanuyen,tinhbinhduong\n",
      "lacan,bactanuyen,tinhbinhduong\n",
      "tanmy,bactanuyen,tinhbinhduong\n",
      "thuongtan,bactanuyen,tinhbinhduong\n",
      "tandinhbactanuyenbinhduong\n",
      "binhmybactanuyenbinhduong\n",
      "tanbinhbactanuyenbinhduong\n",
      "tanlapbactanuyenbinhduong\n",
      "tanthanhbactanuyenbinhduong\n",
      "datcuocbactanuyenbinhduong\n",
      "hieuliembactanuyenbinhduong\n",
      "lacanbactanuyenbinhduong\n",
      "tanmybactanuyenbinhduong\n",
      "thuongtanbactanuyenbinhduong\n",
      "tandinh,bactanuyen,binhduong\n",
      "binhmy,bactanuyen,binhduong\n",
      "tanbinh,bactanuyen,binhduong\n",
      "tanlap,bactanuyen,binhduong\n",
      "tanthanh,bactanuyen,binhduong\n",
      "datcuoc,bactanuyen,binhduong\n",
      "hieuliem,bactanuyen,binhduong\n",
      "lacan,bactanuyen,binhduong\n",
      "tanmy,bactanuyen,binhduong\n",
      "thuongtan,bactanuyen,binhduong\n"
     ]
    }
   ],
   "source": [
    "wrong_districts = []\n",
    "for address_col in address_cols:\n",
    "    for row in df.itertuples():\n",
    "        address = getattr(row, address_col)\n",
    "\n",
    "        unit = parse_address(address, level=3)\n",
    "    \n",
    "        data = {\n",
    "            'address': address,\n",
    "            'province_english': row.province_english,\n",
    "            'province_key': row.province_key,\n",
    "            'wrong_province_key': unit.province_key,\n",
    "            'district_key': row.district_key,\n",
    "            'wrong_district_key': unit.district_key,\n",
    "        }\n",
    "        \n",
    "        if unit.province == None:\n",
    "            print(address)\n",
    "            wrong_districts.append(data)\n",
    "        elif unit.district == None:\n",
    "            print(address)\n",
    "            wrong_districts.append(data)\n",
    "                \n",
    "        elif unit.district_key != row.district_key:\n",
    "            print(address)\n",
    "            wrong_districts.append(data)\n",
    "\n"
   ],
   "metadata": {
    "collapsed": false,
    "ExecuteTime": {
     "end_time": "2024-09-27T10:04:56.446614Z",
     "start_time": "2024-09-27T10:03:56.892274Z"
    }
   },
   "id": "39bf6374b12777a5",
   "execution_count": 14
  },
  {
   "cell_type": "code",
   "outputs": [],
   "source": [
    "df_wrong_districts = pd.DataFrame(wrong_districts)"
   ],
   "metadata": {
    "collapsed": false,
    "ExecuteTime": {
     "end_time": "2024-09-27T10:04:56.450954Z",
     "start_time": "2024-09-27T10:04:56.447664Z"
    }
   },
   "id": "96c5a897813dcae2",
   "execution_count": 15
  },
  {
   "cell_type": "code",
   "outputs": [],
   "source": [
    "df_wrong_districts = df_wrong_districts[df_wrong_districts.province_key==df_wrong_districts.wrong_province_key]"
   ],
   "metadata": {
    "collapsed": false,
    "ExecuteTime": {
     "end_time": "2024-09-27T10:04:56.455162Z",
     "start_time": "2024-09-27T10:04:56.451761Z"
    }
   },
   "id": "fd76697d8beb2036",
   "execution_count": 16
  },
  {
   "cell_type": "code",
   "outputs": [
    {
     "data": {
      "text/plain": "                             address province_english province_key  \\\n0    thitranthachhathachhatinhhatinh          Ha Tinh       hatinh   \n1         xangocsonthachhatinhhatinh          Ha Tinh       hatinh   \n2        xathachhaithachhatinhhatinh          Ha Tinh       hatinh   \n3       xathachkenhthachhatinhhatinh          Ha Tinh       hatinh   \n4        xathachsonthachhatinhhatinh          Ha Tinh       hatinh   \n..                               ...              ...          ...   \n219     datcuoc,bactanuyen,binhduong       Binh Duong    binhduong   \n220    hieuliem,bactanuyen,binhduong       Binh Duong    binhduong   \n221       lacan,bactanuyen,binhduong       Binh Duong    binhduong   \n222       tanmy,bactanuyen,binhduong       Binh Duong    binhduong   \n223   thuongtan,bactanuyen,binhduong       Binh Duong    binhduong   \n\n    wrong_province_key district_key wrong_district_key  \n0               hatinh      thachha             hatinh  \n1               hatinh      thachha             hatinh  \n2               hatinh      thachha             hatinh  \n3               hatinh      thachha             hatinh  \n4               hatinh      thachha             hatinh  \n..                 ...          ...                ...  \n219          binhduong   bactanuyen            tanuyen  \n220          binhduong   bactanuyen            tanuyen  \n221          binhduong   bactanuyen            tanuyen  \n222          binhduong   bactanuyen            tanuyen  \n223          binhduong   bactanuyen            tanuyen  \n\n[224 rows x 6 columns]",
      "text/html": "<div>\n<style scoped>\n    .dataframe tbody tr th:only-of-type {\n        vertical-align: middle;\n    }\n\n    .dataframe tbody tr th {\n        vertical-align: top;\n    }\n\n    .dataframe thead th {\n        text-align: right;\n    }\n</style>\n<table border=\"1\" class=\"dataframe\">\n  <thead>\n    <tr style=\"text-align: right;\">\n      <th></th>\n      <th>address</th>\n      <th>province_english</th>\n      <th>province_key</th>\n      <th>wrong_province_key</th>\n      <th>district_key</th>\n      <th>wrong_district_key</th>\n    </tr>\n  </thead>\n  <tbody>\n    <tr>\n      <th>0</th>\n      <td>thitranthachhathachhatinhhatinh</td>\n      <td>Ha Tinh</td>\n      <td>hatinh</td>\n      <td>hatinh</td>\n      <td>thachha</td>\n      <td>hatinh</td>\n    </tr>\n    <tr>\n      <th>1</th>\n      <td>xangocsonthachhatinhhatinh</td>\n      <td>Ha Tinh</td>\n      <td>hatinh</td>\n      <td>hatinh</td>\n      <td>thachha</td>\n      <td>hatinh</td>\n    </tr>\n    <tr>\n      <th>2</th>\n      <td>xathachhaithachhatinhhatinh</td>\n      <td>Ha Tinh</td>\n      <td>hatinh</td>\n      <td>hatinh</td>\n      <td>thachha</td>\n      <td>hatinh</td>\n    </tr>\n    <tr>\n      <th>3</th>\n      <td>xathachkenhthachhatinhhatinh</td>\n      <td>Ha Tinh</td>\n      <td>hatinh</td>\n      <td>hatinh</td>\n      <td>thachha</td>\n      <td>hatinh</td>\n    </tr>\n    <tr>\n      <th>4</th>\n      <td>xathachsonthachhatinhhatinh</td>\n      <td>Ha Tinh</td>\n      <td>hatinh</td>\n      <td>hatinh</td>\n      <td>thachha</td>\n      <td>hatinh</td>\n    </tr>\n    <tr>\n      <th>...</th>\n      <td>...</td>\n      <td>...</td>\n      <td>...</td>\n      <td>...</td>\n      <td>...</td>\n      <td>...</td>\n    </tr>\n    <tr>\n      <th>219</th>\n      <td>datcuoc,bactanuyen,binhduong</td>\n      <td>Binh Duong</td>\n      <td>binhduong</td>\n      <td>binhduong</td>\n      <td>bactanuyen</td>\n      <td>tanuyen</td>\n    </tr>\n    <tr>\n      <th>220</th>\n      <td>hieuliem,bactanuyen,binhduong</td>\n      <td>Binh Duong</td>\n      <td>binhduong</td>\n      <td>binhduong</td>\n      <td>bactanuyen</td>\n      <td>tanuyen</td>\n    </tr>\n    <tr>\n      <th>221</th>\n      <td>lacan,bactanuyen,binhduong</td>\n      <td>Binh Duong</td>\n      <td>binhduong</td>\n      <td>binhduong</td>\n      <td>bactanuyen</td>\n      <td>tanuyen</td>\n    </tr>\n    <tr>\n      <th>222</th>\n      <td>tanmy,bactanuyen,binhduong</td>\n      <td>Binh Duong</td>\n      <td>binhduong</td>\n      <td>binhduong</td>\n      <td>bactanuyen</td>\n      <td>tanuyen</td>\n    </tr>\n    <tr>\n      <th>223</th>\n      <td>thuongtan,bactanuyen,binhduong</td>\n      <td>Binh Duong</td>\n      <td>binhduong</td>\n      <td>binhduong</td>\n      <td>bactanuyen</td>\n      <td>tanuyen</td>\n    </tr>\n  </tbody>\n</table>\n<p>224 rows × 6 columns</p>\n</div>"
     },
     "execution_count": 17,
     "metadata": {},
     "output_type": "execute_result"
    }
   ],
   "source": [
    "df_wrong_districts"
   ],
   "metadata": {
    "collapsed": false,
    "ExecuteTime": {
     "end_time": "2024-09-27T10:04:56.464667Z",
     "start_time": "2024-09-27T10:04:56.455878Z"
    }
   },
   "id": "b99fec6992c3ad40",
   "execution_count": 17
  },
  {
   "cell_type": "code",
   "outputs": [
    {
     "name": "stdout",
     "output_type": "stream",
     "text": [
      "<class 'pandas.core.frame.DataFrame'>\n",
      "RangeIndex: 224 entries, 0 to 223\n",
      "Data columns (total 6 columns):\n",
      " #   Column              Non-Null Count  Dtype \n",
      "---  ------              --------------  ----- \n",
      " 0   address             224 non-null    object\n",
      " 1   province_english    224 non-null    object\n",
      " 2   province_key        224 non-null    object\n",
      " 3   wrong_province_key  224 non-null    object\n",
      " 4   district_key        224 non-null    object\n",
      " 5   wrong_district_key  224 non-null    object\n",
      "dtypes: object(6)\n",
      "memory usage: 10.6+ KB\n"
     ]
    }
   ],
   "source": [
    "df_wrong_districts.info()"
   ],
   "metadata": {
    "collapsed": false,
    "ExecuteTime": {
     "end_time": "2024-09-27T10:04:56.475323Z",
     "start_time": "2024-09-27T10:04:56.465438Z"
    }
   },
   "id": "d2c05045bde11709",
   "execution_count": 18
  },
  {
   "cell_type": "code",
   "outputs": [
    {
     "data": {
      "text/plain": "Empty DataFrame\nColumns: [address, province_english, province_key, wrong_province_key, district_key, wrong_district_key]\nIndex: []",
      "text/html": "<div>\n<style scoped>\n    .dataframe tbody tr th:only-of-type {\n        vertical-align: middle;\n    }\n\n    .dataframe tbody tr th {\n        vertical-align: top;\n    }\n\n    .dataframe thead th {\n        text-align: right;\n    }\n</style>\n<table border=\"1\" class=\"dataframe\">\n  <thead>\n    <tr style=\"text-align: right;\">\n      <th></th>\n      <th>address</th>\n      <th>province_english</th>\n      <th>province_key</th>\n      <th>wrong_province_key</th>\n      <th>district_key</th>\n      <th>wrong_district_key</th>\n    </tr>\n  </thead>\n  <tbody>\n  </tbody>\n</table>\n</div>"
     },
     "execution_count": 19,
     "metadata": {},
     "output_type": "execute_result"
    }
   ],
   "source": [
    "df_wrong_districts[df_wrong_districts.wrong_district_key.isna()]"
   ],
   "metadata": {
    "collapsed": false,
    "ExecuteTime": {
     "end_time": "2024-09-27T10:04:56.479793Z",
     "start_time": "2024-09-27T10:04:56.476100Z"
    }
   },
   "id": "11d84fe09228cabb",
   "execution_count": 19
  },
  {
   "cell_type": "code",
   "outputs": [],
   "source": [
    "DICT_double_check_districts = {}\n",
    "\n",
    "for province_english in df_wrong_districts['province_english'].unique():\n",
    "    district_data = {}\n",
    "    for wrong_district_key in df_wrong_districts[(df_wrong_districts['province_english']==province_english)]['wrong_district_key'].unique():\n",
    "        tmp_district_keys = df_wrong_districts[(df_wrong_districts['province_english']==province_english) & (df_wrong_districts['wrong_district_key']==wrong_district_key)]['district_key'].unique().tolist()\n",
    "        \n",
    "        tmp_district_keys = sorted(tmp_district_keys, key=len, reverse=True)\n",
    "        district_data[wrong_district_key] = tmp_district_keys\n",
    "    \n",
    "    district_data = dict(sorted(district_data.items(), key=lambda x: len(x[0]), reverse=True))\n",
    "    DICT_double_check_districts[province_english] = district_data"
   ],
   "metadata": {
    "collapsed": false,
    "ExecuteTime": {
     "end_time": "2024-09-27T10:04:56.484873Z",
     "start_time": "2024-09-27T10:04:56.480384Z"
    }
   },
   "id": "26abf0cb9952f87b",
   "execution_count": 20
  },
  {
   "cell_type": "code",
   "outputs": [
    {
     "data": {
      "text/plain": "{'Ha Tinh': {'hatinh': ['thachha', 'locha']},\n 'Quang Ngai': {'sontinh': ['binhson', 'lyson']},\n 'Binh Duong': {'tanuyen': ['bactanuyen']},\n 'Ho Chi Minh': {'binhthanh': ['tanbinh']}}"
     },
     "execution_count": 21,
     "metadata": {},
     "output_type": "execute_result"
    }
   ],
   "source": [
    "DICT_double_check_districts"
   ],
   "metadata": {
    "collapsed": false,
    "ExecuteTime": {
     "end_time": "2024-09-27T10:04:56.487553Z",
     "start_time": "2024-09-27T10:04:56.485519Z"
    }
   },
   "id": "ea812f21a18b5e10",
   "execution_count": 21
  },
  {
   "cell_type": "markdown",
   "source": [
    "## Double check ward"
   ],
   "metadata": {
    "collapsed": false
   },
   "id": "da68e4f2aaed27dc"
  },
  {
   "cell_type": "code",
   "outputs": [
    {
     "name": "stdout",
     "output_type": "stream",
     "text": [
      "xahaianhuyenhaihautinhnamdinh\n",
      "xahaianhuyenhaihaunamdinh\n",
      "xangocsonthachhatinhhatinh\n",
      "xathachhaithachhatinhhatinh\n",
      "xathachkenhthachhatinhhatinh\n",
      "xathachsonthachhatinhhatinh\n",
      "xathachlienthachhatinhhatinh\n",
      "xadinhbanthachhatinhhatinh\n",
      "xaviettienthachhatinhhatinh\n",
      "xathachkhethachhatinhhatinh\n",
      "xathachlongthachhatinhhatinh\n",
      "xathachtrithachhatinhhatinh\n",
      "xathachlacthachhatinhhatinh\n",
      "xathachngocthachhatinhhatinh\n",
      "xatuongsonthachhatinhhatinh\n",
      "xathachvanthachhatinhhatinh\n",
      "xaluuvinhsonthachhatinhhatinh\n",
      "xathachthangthachhatinhhatinh\n",
      "xathachdaithachhatinhhatinh\n",
      "xathachhoithachhatinhhatinh\n",
      "xatanlamhuongthachhatinhhatinh\n",
      "xathachxuanthachhatinhhatinh\n",
      "xanamdienthachhatinhhatinh\n",
      "xatanloclochatinhhatinh\n",
      "xahongloclochatinhhatinh\n",
      "xathinhloclochatinhhatinh\n",
      "xabinhanlochatinhhatinh\n",
      "xaichhaulochatinhhatinh\n",
      "xaphuluulochatinhhatinh\n",
      "thitranlochalochatinhhatinh\n",
      "xathachmylochatinhhatinh\n",
      "xathachkimlochatinhhatinh\n",
      "xathachchaulochatinhhatinh\n",
      "xahodolochatinhhatinh\n",
      "xamaiphulochatinhhatinh\n",
      "thitranchauobinhsontinhquangngai\n",
      "xabinhthuanbinhsontinhquangngai\n",
      "xabinhthanhbinhsontinhquangngai\n",
      "xabinhdongbinhsontinhquangngai\n",
      "xabinhchanhbinhsontinhquangngai\n",
      "xabinhnguyenbinhsontinhquangngai\n",
      "xabinhkhuongbinhsontinhquangngai\n",
      "xabinhtribinhsontinhquangngai\n",
      "xabinhanbinhsontinhquangngai\n",
      "xabinhhaibinhsontinhquangngai\n",
      "xabinhduongbinhsontinhquangngai\n",
      "xabinhphuocbinhsontinhquangngai\n",
      "xabinhhoabinhsontinhquangngai\n",
      "xabinhtrungbinhsontinhquangngai\n",
      "xabinhminhbinhsontinhquangngai\n",
      "xabinhlongbinhsontinhquangngai\n",
      "xabinhthanhbinhsontinhquangngai\n",
      "xabinhchuongbinhsontinhquangngai\n",
      "xabinhhiepbinhsontinhquangngai\n",
      "xabinhmybinhsontinhquangngai\n",
      "xabinhtanphubinhsontinhquangngai\n",
      "xabinhchaubinhsontinhquangngai\n",
      "lysontinhquangngai\n",
      "xatandinhbactanuyentinhbinhduong\n",
      "xabinhmybactanuyentinhbinhduong\n",
      "thitrantanbinhbactanuyentinhbinhduong\n",
      "xatanlapbactanuyentinhbinhduong\n",
      "thitrantanthanhbactanuyentinhbinhduong\n",
      "xadatcuocbactanuyentinhbinhduong\n",
      "xahieuliembactanuyentinhbinhduong\n",
      "xalacanbactanuyentinhbinhduong\n",
      "xatanmybactanuyentinhbinhduong\n",
      "xathuongtanbactanuyentinhbinhduong\n",
      "phuong4tanbinhthanhphohochiminh\n",
      "phuong10tanbinhthanhphohochiminh\n",
      "phuong8tanbinhthanhphohochiminh\n",
      "phuong9tanbinhthanhphohochiminh\n",
      "xatandinh,bactanuyen,tinhbinhduong\n",
      "xabinhmy,bactanuyen,tinhbinhduong\n",
      "thitrantanbinh,bactanuyen,tinhbinhduong\n",
      "xatanlap,bactanuyen,tinhbinhduong\n",
      "thitrantanthanh,bactanuyen,tinhbinhduong\n",
      "xadatcuoc,bactanuyen,tinhbinhduong\n",
      "xahieuliem,bactanuyen,tinhbinhduong\n",
      "xalacan,bactanuyen,tinhbinhduong\n",
      "xatanmy,bactanuyen,tinhbinhduong\n",
      "xathuongtan,bactanuyen,tinhbinhduong\n",
      "xatandinhbactanuyenbinhduong\n",
      "xabinhmybactanuyenbinhduong\n",
      "thitrantanbinhbactanuyenbinhduong\n",
      "xatanlapbactanuyenbinhduong\n",
      "thitrantanthanhbactanuyenbinhduong\n",
      "xadatcuocbactanuyenbinhduong\n",
      "xahieuliembactanuyenbinhduong\n",
      "xalacanbactanuyenbinhduong\n",
      "xatanmybactanuyenbinhduong\n",
      "xathuongtanbactanuyenbinhduong\n",
      "xatandinh,bactanuyen,binhduong\n",
      "xabinhmy,bactanuyen,binhduong\n",
      "thitrantanbinh,bactanuyen,binhduong\n",
      "xatanlap,bactanuyen,binhduong\n",
      "thitrantanthanh,bactanuyen,binhduong\n",
      "xadatcuoc,bactanuyen,binhduong\n",
      "xahieuliem,bactanuyen,binhduong\n",
      "xalacan,bactanuyen,binhduong\n",
      "xatanmy,bactanuyen,binhduong\n",
      "xathuongtan,bactanuyen,binhduong\n",
      "haianhuyenhaihautinhnamdinh\n",
      "haianhuyenhaihaunamdinh\n",
      "ngocsonthachhatinhhatinh\n",
      "thachhaithachhatinhhatinh\n",
      "thachkenhthachhatinhhatinh\n",
      "thachsonthachhatinhhatinh\n",
      "thachlienthachhatinhhatinh\n",
      "dinhbanthachhatinhhatinh\n",
      "viettienthachhatinhhatinh\n",
      "thachkhethachhatinhhatinh\n",
      "thachlongthachhatinhhatinh\n",
      "thachtrithachhatinhhatinh\n",
      "thachlacthachhatinhhatinh\n",
      "thachngocthachhatinhhatinh\n",
      "tuongsonthachhatinhhatinh\n",
      "thachvanthachhatinhhatinh\n",
      "luuvinhsonthachhatinhhatinh\n",
      "thachthangthachhatinhhatinh\n",
      "thachdaithachhatinhhatinh\n",
      "thachhoithachhatinhhatinh\n",
      "tanlamhuongthachhatinhhatinh\n",
      "thachxuanthachhatinhhatinh\n",
      "namdienthachhatinhhatinh\n",
      "tanloclochatinhhatinh\n",
      "hongloclochatinhhatinh\n",
      "thinhloclochatinhhatinh\n",
      "binhanlochatinhhatinh\n",
      "ichhaulochatinhhatinh\n",
      "phuluulochatinhhatinh\n",
      "lochalochatinhhatinh\n",
      "thachmylochatinhhatinh\n",
      "thachkimlochatinhhatinh\n",
      "thachchaulochatinhhatinh\n",
      "hodolochatinhhatinh\n",
      "maiphulochatinhhatinh\n",
      "chauobinhsontinhquangngai\n",
      "binhthuanbinhsontinhquangngai\n",
      "binhthanhbinhsontinhquangngai\n",
      "binhdongbinhsontinhquangngai\n",
      "binhchanhbinhsontinhquangngai\n",
      "binhnguyenbinhsontinhquangngai\n",
      "binhkhuongbinhsontinhquangngai\n",
      "binhtribinhsontinhquangngai\n",
      "binhanbinhsontinhquangngai\n",
      "binhhaibinhsontinhquangngai\n",
      "binhduongbinhsontinhquangngai\n",
      "binhphuocbinhsontinhquangngai\n",
      "binhhoabinhsontinhquangngai\n",
      "binhtrungbinhsontinhquangngai\n",
      "binhminhbinhsontinhquangngai\n",
      "binhlongbinhsontinhquangngai\n",
      "binhthanhbinhsontinhquangngai\n",
      "binhchuongbinhsontinhquangngai\n",
      "binhhiepbinhsontinhquangngai\n",
      "binhmybinhsontinhquangngai\n",
      "binhtanphubinhsontinhquangngai\n",
      "binhchaubinhsontinhquangngai\n",
      "lysontinhquangngai\n",
      "tandinhbactanuyentinhbinhduong\n",
      "binhmybactanuyentinhbinhduong\n",
      "tanbinhbactanuyentinhbinhduong\n",
      "tanlapbactanuyentinhbinhduong\n",
      "tanthanhbactanuyentinhbinhduong\n",
      "datcuocbactanuyentinhbinhduong\n",
      "hieuliembactanuyentinhbinhduong\n",
      "lacanbactanuyentinhbinhduong\n",
      "tanmybactanuyentinhbinhduong\n",
      "thuongtanbactanuyentinhbinhduong\n",
      "phuong4tanbinhthanhphohochiminh\n",
      "phuong10tanbinhthanhphohochiminh\n",
      "phuong8tanbinhthanhphohochiminh\n",
      "phuong9tanbinhthanhphohochiminh\n",
      "tandinh,bactanuyen,tinhbinhduong\n",
      "binhmy,bactanuyen,tinhbinhduong\n",
      "tanbinh,bactanuyen,tinhbinhduong\n",
      "tanlap,bactanuyen,tinhbinhduong\n",
      "tanthanh,bactanuyen,tinhbinhduong\n",
      "datcuoc,bactanuyen,tinhbinhduong\n",
      "hieuliem,bactanuyen,tinhbinhduong\n",
      "lacan,bactanuyen,tinhbinhduong\n",
      "tanmy,bactanuyen,tinhbinhduong\n",
      "thuongtan,bactanuyen,tinhbinhduong\n",
      "tandinhbactanuyenbinhduong\n",
      "binhmybactanuyenbinhduong\n",
      "tanbinhbactanuyenbinhduong\n",
      "tanlapbactanuyenbinhduong\n",
      "tanthanhbactanuyenbinhduong\n",
      "datcuocbactanuyenbinhduong\n",
      "hieuliembactanuyenbinhduong\n",
      "lacanbactanuyenbinhduong\n",
      "tanmybactanuyenbinhduong\n",
      "thuongtanbactanuyenbinhduong\n",
      "tandinh,bactanuyen,binhduong\n",
      "binhmy,bactanuyen,binhduong\n",
      "tanbinh,bactanuyen,binhduong\n",
      "tanlap,bactanuyen,binhduong\n",
      "tanthanh,bactanuyen,binhduong\n",
      "datcuoc,bactanuyen,binhduong\n",
      "hieuliem,bactanuyen,binhduong\n",
      "lacan,bactanuyen,binhduong\n",
      "tanmy,bactanuyen,binhduong\n",
      "thuongtan,bactanuyen,binhduong\n"
     ]
    }
   ],
   "source": [
    "wrong_wards = []\n",
    "for address_col in address_cols:\n",
    "    for row in df.itertuples():\n",
    "        address = getattr(row, address_col)\n",
    "        \n",
    "        try:\n",
    "        \n",
    "            unit = parse_address(address, level=3)\n",
    "        \n",
    "            data = {\n",
    "                'address': address,\n",
    "                'province_english': row.province_english,\n",
    "                'province_key': row.province_key,\n",
    "                'wrong_province_key': unit.province_key,\n",
    "                'district_english': row.district_english,\n",
    "                'district_key': row.district_key,\n",
    "                'wrong_district_key': unit.district_key,\n",
    "                'ward_key': row.ward_key,\n",
    "                'wrong_ward_key': unit.ward_key,\n",
    "            }\n",
    "            \n",
    "            if unit.province == None:\n",
    "                print(address)\n",
    "                wrong_wards.append(data)\n",
    "                \n",
    "            elif unit.district == None:\n",
    "                print(address)\n",
    "                wrong_wards.append(data)\n",
    "                \n",
    "            elif (unit.ward == None) and (unit.district_key not in ['bachlongvi', 'conco', 'hoangsa', 'lyson', 'condao']):\n",
    "                print(address)\n",
    "                wrong_wards.append(data)\n",
    "                    \n",
    "            elif (unit.ward_key != row.ward_key) and (unit.district_key not in ['bachlongvi', 'conco', 'hoangsa', 'lyson', 'condao']):\n",
    "                print(address)\n",
    "                wrong_wards.append(data)\n",
    "                \n",
    "                \n",
    "        except Exception as e:\n",
    "            print('ERROR address:', address)\n",
    "            print('ERROR info:', e)"
   ],
   "metadata": {
    "collapsed": false,
    "ExecuteTime": {
     "end_time": "2024-09-27T10:05:57.131667Z",
     "start_time": "2024-09-27T10:04:56.488122Z"
    }
   },
   "id": "48f7e7e2506dd04e",
   "execution_count": 22
  },
  {
   "cell_type": "code",
   "outputs": [],
   "source": [
    "df_wrong_wards = pd.DataFrame(wrong_wards)"
   ],
   "metadata": {
    "collapsed": false,
    "ExecuteTime": {
     "end_time": "2024-09-27T10:05:57.136519Z",
     "start_time": "2024-09-27T10:05:57.132819Z"
    }
   },
   "id": "32691a48ffa8b1dc",
   "execution_count": 23
  },
  {
   "cell_type": "code",
   "outputs": [],
   "source": [
    "df_wrong_wards = df_wrong_wards[(df_wrong_wards.province_key==df_wrong_wards.wrong_province_key) & (df_wrong_wards.district_key==df_wrong_wards.wrong_district_key)]"
   ],
   "metadata": {
    "collapsed": false,
    "ExecuteTime": {
     "end_time": "2024-09-27T10:05:57.139804Z",
     "start_time": "2024-09-27T10:05:57.137055Z"
    }
   },
   "id": "f9b5a4bd5e66946",
   "execution_count": 24
  },
  {
   "cell_type": "code",
   "outputs": [
    {
     "data": {
      "text/plain": "Empty DataFrame\nColumns: [address, province_english, province_key, wrong_province_key, district_english, district_key, wrong_district_key, ward_key, wrong_ward_key]\nIndex: []",
      "text/html": "<div>\n<style scoped>\n    .dataframe tbody tr th:only-of-type {\n        vertical-align: middle;\n    }\n\n    .dataframe tbody tr th {\n        vertical-align: top;\n    }\n\n    .dataframe thead th {\n        text-align: right;\n    }\n</style>\n<table border=\"1\" class=\"dataframe\">\n  <thead>\n    <tr style=\"text-align: right;\">\n      <th></th>\n      <th>address</th>\n      <th>province_english</th>\n      <th>province_key</th>\n      <th>wrong_province_key</th>\n      <th>district_english</th>\n      <th>district_key</th>\n      <th>wrong_district_key</th>\n      <th>ward_key</th>\n      <th>wrong_ward_key</th>\n    </tr>\n  </thead>\n  <tbody>\n  </tbody>\n</table>\n</div>"
     },
     "execution_count": 25,
     "metadata": {},
     "output_type": "execute_result"
    }
   ],
   "source": [
    "df_wrong_wards[df_wrong_wards.wrong_ward_key.isna()]"
   ],
   "metadata": {
    "collapsed": false,
    "ExecuteTime": {
     "end_time": "2024-09-27T10:05:57.144200Z",
     "start_time": "2024-09-27T10:05:57.140440Z"
    }
   },
   "id": "1e20d61d4610be93",
   "execution_count": 25
  },
  {
   "cell_type": "code",
   "outputs": [
    {
     "data": {
      "text/plain": "                           address province_english province_key  \\\n0    xahaianhuyenhaihautinhnamdinh         Nam Dinh      namdinh   \n1        xahaianhuyenhaihaunamdinh         Nam Dinh      namdinh   \n102    haianhuyenhaihautinhnamdinh         Nam Dinh      namdinh   \n103        haianhuyenhaihaunamdinh         Nam Dinh      namdinh   \n\n    wrong_province_key district_english district_key wrong_district_key  \\\n0              namdinh          Hai Hau       haihau             haihau   \n1              namdinh          Hai Hau       haihau             haihau   \n102            namdinh          Hai Hau       haihau             haihau   \n103            namdinh          Hai Hau       haihau             haihau   \n\n    ward_key wrong_ward_key  \n0      haian         haianh  \n1      haian         haianh  \n102    haian         haianh  \n103    haian         haianh  ",
      "text/html": "<div>\n<style scoped>\n    .dataframe tbody tr th:only-of-type {\n        vertical-align: middle;\n    }\n\n    .dataframe tbody tr th {\n        vertical-align: top;\n    }\n\n    .dataframe thead th {\n        text-align: right;\n    }\n</style>\n<table border=\"1\" class=\"dataframe\">\n  <thead>\n    <tr style=\"text-align: right;\">\n      <th></th>\n      <th>address</th>\n      <th>province_english</th>\n      <th>province_key</th>\n      <th>wrong_province_key</th>\n      <th>district_english</th>\n      <th>district_key</th>\n      <th>wrong_district_key</th>\n      <th>ward_key</th>\n      <th>wrong_ward_key</th>\n    </tr>\n  </thead>\n  <tbody>\n    <tr>\n      <th>0</th>\n      <td>xahaianhuyenhaihautinhnamdinh</td>\n      <td>Nam Dinh</td>\n      <td>namdinh</td>\n      <td>namdinh</td>\n      <td>Hai Hau</td>\n      <td>haihau</td>\n      <td>haihau</td>\n      <td>haian</td>\n      <td>haianh</td>\n    </tr>\n    <tr>\n      <th>1</th>\n      <td>xahaianhuyenhaihaunamdinh</td>\n      <td>Nam Dinh</td>\n      <td>namdinh</td>\n      <td>namdinh</td>\n      <td>Hai Hau</td>\n      <td>haihau</td>\n      <td>haihau</td>\n      <td>haian</td>\n      <td>haianh</td>\n    </tr>\n    <tr>\n      <th>102</th>\n      <td>haianhuyenhaihautinhnamdinh</td>\n      <td>Nam Dinh</td>\n      <td>namdinh</td>\n      <td>namdinh</td>\n      <td>Hai Hau</td>\n      <td>haihau</td>\n      <td>haihau</td>\n      <td>haian</td>\n      <td>haianh</td>\n    </tr>\n    <tr>\n      <th>103</th>\n      <td>haianhuyenhaihaunamdinh</td>\n      <td>Nam Dinh</td>\n      <td>namdinh</td>\n      <td>namdinh</td>\n      <td>Hai Hau</td>\n      <td>haihau</td>\n      <td>haihau</td>\n      <td>haian</td>\n      <td>haianh</td>\n    </tr>\n  </tbody>\n</table>\n</div>"
     },
     "execution_count": 26,
     "metadata": {},
     "output_type": "execute_result"
    }
   ],
   "source": [
    "df_wrong_wards"
   ],
   "metadata": {
    "collapsed": false,
    "ExecuteTime": {
     "end_time": "2024-09-27T10:05:57.148437Z",
     "start_time": "2024-09-27T10:05:57.144803Z"
    }
   },
   "id": "b7cd59a7463c8fed",
   "execution_count": 26
  },
  {
   "cell_type": "code",
   "outputs": [],
   "source": [
    "DICT_double_check_wards = {}\n",
    "\n",
    "for province_english in df_wrong_wards.province_english.unique():\n",
    "    district_data = {}\n",
    "    tmp_df_province = df_wrong_wards[df_wrong_wards.province_english ==province_english]\n",
    "    for district_english in tmp_df_province.district_english.unique():\n",
    "        tmp_df_district = tmp_df_province[tmp_df_province.district_english == district_english]\n",
    "        ward_data = {}\n",
    "        for wrong_ward_key in tmp_df_district.wrong_ward_key.unique():\n",
    "            ward_data[wrong_ward_key] = tmp_df_district[tmp_df_district.wrong_ward_key == wrong_ward_key]['ward_key'].unique().tolist()\n",
    "        \n",
    "        ward_data = dict(sorted(ward_data.items(), key=lambda x: len(x[0]), reverse=True))\n",
    "        district_data[district_english] = ward_data\n",
    "    \n",
    "    DICT_double_check_wards[province_english] = district_data"
   ],
   "metadata": {
    "collapsed": false,
    "ExecuteTime": {
     "end_time": "2024-09-27T10:05:57.151823Z",
     "start_time": "2024-09-27T10:05:57.148994Z"
    }
   },
   "id": "fdc854b46800a329",
   "execution_count": 27
  },
  {
   "cell_type": "code",
   "outputs": [
    {
     "data": {
      "text/plain": "{'Nam Dinh': {'Hai Hau': {'haianh': ['haian']}}}"
     },
     "execution_count": 28,
     "metadata": {},
     "output_type": "execute_result"
    }
   ],
   "source": [
    "DICT_double_check_wards"
   ],
   "metadata": {
    "collapsed": false,
    "ExecuteTime": {
     "end_time": "2024-09-27T10:05:57.154201Z",
     "start_time": "2024-09-27T10:05:57.152427Z"
    }
   },
   "id": "db16837019ae5c66",
   "execution_count": 28
  },
  {
   "cell_type": "code",
   "outputs": [],
   "source": [
    "with open('../../vietadminunits/data/parse.pkl', 'rb') as f:\n",
    "    data = pickle.load(f)\n",
    "\n",
    "data['DICT_double_check_provinces'] = DICT_double_check_provinces\n",
    "data['DICT_double_check_districts'] = DICT_double_check_districts\n",
    "data['DICT_double_check_wards'] = DICT_double_check_wards\n",
    "\n",
    "with open('../../vietadminunits/data/parse.pkl', 'wb') as f:\n",
    "    pickle.dump(data, f)"
   ],
   "metadata": {
    "collapsed": false,
    "ExecuteTime": {
     "end_time": "2024-09-27T10:05:57.196766Z",
     "start_time": "2024-09-27T10:05:57.154971Z"
    }
   },
   "id": "f13e20d805caa4ea",
   "execution_count": 29
  }
 ],
 "metadata": {
  "kernelspec": {
   "display_name": "Python 3",
   "language": "python",
   "name": "python3"
  },
  "language_info": {
   "codemirror_mode": {
    "name": "ipython",
    "version": 2
   },
   "file_extension": ".py",
   "mimetype": "text/x-python",
   "name": "python",
   "nbconvert_exporter": "python",
   "pygments_lexer": "ipython2",
   "version": "2.7.6"
  }
 },
 "nbformat": 4,
 "nbformat_minor": 5
}
