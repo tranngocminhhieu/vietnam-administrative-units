{
 "cells": [
  {
   "cell_type": "code",
   "execution_count": 1,
   "id": "initial_id",
   "metadata": {
    "collapsed": true,
    "ExecuteTime": {
     "end_time": "2024-09-26T08:54:13.234887Z",
     "start_time": "2024-09-26T08:54:11.094837Z"
    }
   },
   "outputs": [],
   "source": [
    "import pandas as pd\n",
    "from vietadminunits import parse_address, get_data\n",
    "from vietadminunits.utils import to_key, to_alphanumeric\n",
    "import pickle"
   ]
  },
  {
   "cell_type": "code",
   "outputs": [],
   "source": [
    "df = pd.DataFrame(get_data())"
   ],
   "metadata": {
    "collapsed": false,
    "ExecuteTime": {
     "end_time": "2024-09-26T08:54:13.456061Z",
     "start_time": "2024-09-26T08:54:13.236702Z"
    }
   },
   "id": "b1b52d5aed5034d9",
   "execution_count": 2
  },
  {
   "cell_type": "code",
   "outputs": [],
   "source": [
    "df['long_province_alphanumeric'] = df['long_province'].apply(to_alphanumeric)\n",
    "df['long_district_alphanumeric'] = df['long_district'].apply(to_alphanumeric)\n",
    "df['long_ward_alphanumeric'] = df['long_ward'].fillna('').apply(to_alphanumeric)\n",
    "\n",
    "df['province_alphanumeric'] = df['province'].apply(to_alphanumeric)\n",
    "df['short_district_alphanumeric'] = df['short_district'].apply(to_alphanumeric)\n",
    "df['short_ward_alphanumeric'] = df['short_ward'].fillna('').apply(to_alphanumeric)"
   ],
   "metadata": {
    "collapsed": false,
    "ExecuteTime": {
     "end_time": "2024-09-26T08:54:14.098673Z",
     "start_time": "2024-09-26T08:54:13.461773Z"
    }
   },
   "id": "cf25cc6a682a9e9c",
   "execution_count": 3
  },
  {
   "cell_type": "code",
   "outputs": [],
   "source": [
    "for ward in ['long_ward_alphanumeric', 'short_ward_alphanumeric']:\n",
    "    for district in ['long_district_alphanumeric', 'short_district_alphanumeric']:\n",
    "        for province in ['long_province_alphanumeric', 'province_alphanumeric']:\n",
    "            df[f\"address_{ward}_{district}_{province}\"] = df[ward] + df[district] + df[province]\n",
    "            df[f\"address_comma_{ward}_{district}_{province}\"] = df[ward] + ',' + df[district] + ',' + df[province]"
   ],
   "metadata": {
    "collapsed": false,
    "ExecuteTime": {
     "end_time": "2024-09-26T08:54:14.206341Z",
     "start_time": "2024-09-26T08:54:14.119464Z"
    }
   },
   "id": "2ad328732a0b7fc7",
   "execution_count": 4
  },
  {
   "cell_type": "code",
   "outputs": [],
   "source": [
    "df['province_key'] = df['province'].apply(to_key, args=(1,))\n",
    "df['district_key'] = df['district'].apply(to_key, args=(2,))\n",
    "df['ward_key'] = df['ward'].apply(to_key, args=(3,))"
   ],
   "metadata": {
    "collapsed": false,
    "ExecuteTime": {
     "end_time": "2024-09-26T08:54:14.530165Z",
     "start_time": "2024-09-26T08:54:14.211643Z"
    }
   },
   "id": "3782c5a649aaf6ec",
   "execution_count": 5
  },
  {
   "cell_type": "code",
   "outputs": [],
   "source": [
    "address_cols = [col for col in df.columns if 'address' in col]"
   ],
   "metadata": {
    "collapsed": false,
    "ExecuteTime": {
     "end_time": "2024-09-26T08:54:14.536783Z",
     "start_time": "2024-09-26T08:54:14.532723Z"
    }
   },
   "id": "69039b2628333813",
   "execution_count": 6
  },
  {
   "cell_type": "markdown",
   "source": [
    "## Find wards that are the same keyword with provinces"
   ],
   "metadata": {
    "collapsed": false
   },
   "id": "4a1285958689a4"
  },
  {
   "cell_type": "code",
   "outputs": [],
   "source": [
    "wrong_provinces = []\n",
    "\n",
    "\n",
    "\n",
    "for address_col in address_cols:\n",
    "    for row in df.itertuples():\n",
    "        address = getattr(row, address_col)\n",
    "        unit = parse_address(address, level=1)\n",
    "        data = {\n",
    "            'address': address,\n",
    "            'province': row.province,\n",
    "            'province_key': row.province_key,\n",
    "            'wrong_province_key': unit.province_key,\n",
    "        }\n",
    "        \n",
    "        if unit.province == None:\n",
    "            print(address)\n",
    "            wrong_provinces.append(data)\n",
    "            \n",
    "        elif unit.province_key != row.province_key:\n",
    "            print(address)\n",
    "            wrong_provinces.append(data)"
   ],
   "metadata": {
    "collapsed": false,
    "ExecuteTime": {
     "end_time": "2024-09-26T08:55:15.001303Z",
     "start_time": "2024-09-26T08:54:14.539019Z"
    }
   },
   "id": "aca769f749d9adf8",
   "execution_count": 7
  },
  {
   "cell_type": "code",
   "outputs": [],
   "source": [
    "df_wrong_provinces = pd.DataFrame(wrong_provinces)"
   ],
   "metadata": {
    "collapsed": false,
    "ExecuteTime": {
     "end_time": "2024-09-26T08:55:15.010218Z",
     "start_time": "2024-09-26T08:55:15.003552Z"
    }
   },
   "id": "69ce345fefd31da9",
   "execution_count": 8
  },
  {
   "cell_type": "code",
   "outputs": [
    {
     "name": "stdout",
     "output_type": "stream",
     "text": [
      "<class 'pandas.core.frame.DataFrame'>\n",
      "RangeIndex: 0 entries\n",
      "Empty DataFrame\n"
     ]
    }
   ],
   "source": [
    "df_wrong_provinces.info()"
   ],
   "metadata": {
    "collapsed": false,
    "ExecuteTime": {
     "end_time": "2024-09-26T08:55:15.014122Z",
     "start_time": "2024-09-26T08:55:15.011197Z"
    }
   },
   "id": "90893bd387f0b0ad",
   "execution_count": 9
  },
  {
   "cell_type": "code",
   "outputs": [
    {
     "data": {
      "text/plain": "Empty DataFrame\nColumns: []\nIndex: []",
      "text/html": "<div>\n<style scoped>\n    .dataframe tbody tr th:only-of-type {\n        vertical-align: middle;\n    }\n\n    .dataframe tbody tr th {\n        vertical-align: top;\n    }\n\n    .dataframe thead th {\n        text-align: right;\n    }\n</style>\n<table border=\"1\" class=\"dataframe\">\n  <thead>\n    <tr style=\"text-align: right;\">\n      <th></th>\n    </tr>\n  </thead>\n  <tbody>\n  </tbody>\n</table>\n</div>"
     },
     "execution_count": 10,
     "metadata": {},
     "output_type": "execute_result"
    }
   ],
   "source": [
    "df_wrong_provinces"
   ],
   "metadata": {
    "collapsed": false,
    "ExecuteTime": {
     "end_time": "2024-09-26T08:55:15.028794Z",
     "start_time": "2024-09-26T08:55:15.016731Z"
    }
   },
   "id": "e2982a67d046cdd3",
   "execution_count": 10
  },
  {
   "cell_type": "code",
   "outputs": [],
   "source": [
    "# df_wrong_provinces[df_wrong_provinces.wrong_province_key.isna()]"
   ],
   "metadata": {
    "collapsed": false,
    "ExecuteTime": {
     "end_time": "2024-09-26T08:55:15.031775Z",
     "start_time": "2024-09-26T08:55:15.029625Z"
    }
   },
   "id": "1d7bddbd68a9f8c0",
   "execution_count": 11
  },
  {
   "cell_type": "code",
   "outputs": [],
   "source": [
    "DICT_double_check_provinces = {}\n",
    "for row in df_wrong_provinces.itertuples():\n",
    "    DICT_double_check_provinces[row.wrong_province_key] = df_wrong_provinces[df_wrong_provinces['wrong_province_key']==row.wrong_province_key]['province_key'].unique().tolist()"
   ],
   "metadata": {
    "collapsed": false,
    "ExecuteTime": {
     "end_time": "2024-09-26T08:55:15.034866Z",
     "start_time": "2024-09-26T08:55:15.032619Z"
    }
   },
   "id": "e1a174da9e0799b7",
   "execution_count": 12
  },
  {
   "cell_type": "code",
   "outputs": [
    {
     "data": {
      "text/plain": "{}"
     },
     "execution_count": 13,
     "metadata": {},
     "output_type": "execute_result"
    }
   ],
   "source": [
    "DICT_double_check_provinces"
   ],
   "metadata": {
    "collapsed": false,
    "ExecuteTime": {
     "end_time": "2024-09-26T08:55:15.038211Z",
     "start_time": "2024-09-26T08:55:15.035670Z"
    }
   },
   "id": "3052fc715c1eb74",
   "execution_count": 13
  },
  {
   "cell_type": "markdown",
   "source": [
    "## Find wards that are the same keyword with districts\n",
    "\n",
    "We have to add `double_check_provinces` to module to solve province level before doing this step."
   ],
   "metadata": {
    "collapsed": false
   },
   "id": "28410b2a00e10e19"
  },
  {
   "cell_type": "code",
   "outputs": [
    {
     "ename": "KeyError",
     "evalue": "'Ward'",
     "output_type": "error",
     "traceback": [
      "\u001B[0;31m---------------------------------------------------------------------------\u001B[0m",
      "\u001B[0;31mKeyError\u001B[0m                                  Traceback (most recent call last)",
      "Cell \u001B[0;32mIn[17], line 6\u001B[0m\n\u001B[1;32m      3\u001B[0m \u001B[38;5;28;01mfor\u001B[39;00m row \u001B[38;5;129;01min\u001B[39;00m df\u001B[38;5;241m.\u001B[39mitertuples():\n\u001B[1;32m      4\u001B[0m     address \u001B[38;5;241m=\u001B[39m \u001B[38;5;28mgetattr\u001B[39m(row, address_col)\n\u001B[0;32m----> 6\u001B[0m     unit \u001B[38;5;241m=\u001B[39m parse_address(address, level\u001B[38;5;241m=\u001B[39m\u001B[38;5;241m3\u001B[39m)\n\u001B[1;32m      8\u001B[0m     data \u001B[38;5;241m=\u001B[39m {\n\u001B[1;32m      9\u001B[0m         \u001B[38;5;124m'\u001B[39m\u001B[38;5;124maddress\u001B[39m\u001B[38;5;124m'\u001B[39m: address,\n\u001B[1;32m     10\u001B[0m         \u001B[38;5;124m'\u001B[39m\u001B[38;5;124mprovince_english\u001B[39m\u001B[38;5;124m'\u001B[39m: row\u001B[38;5;241m.\u001B[39mprovince_english,\n\u001B[0;32m   (...)\u001B[0m\n\u001B[1;32m     14\u001B[0m         \u001B[38;5;124m'\u001B[39m\u001B[38;5;124mwrong_district_key\u001B[39m\u001B[38;5;124m'\u001B[39m: unit\u001B[38;5;241m.\u001B[39mdistrict_key,\n\u001B[1;32m     15\u001B[0m     }\n\u001B[1;32m     17\u001B[0m     \u001B[38;5;28;01mif\u001B[39;00m unit\u001B[38;5;241m.\u001B[39mprovince \u001B[38;5;241m==\u001B[39m \u001B[38;5;28;01mNone\u001B[39;00m:\n",
      "File \u001B[0;32m~/Documents/GitHub/personal/vietnam-administrative-units/vietadminunits/parse.py:550\u001B[0m, in \u001B[0;36mparse_address\u001B[0;34m(address, level)\u001B[0m\n\u001B[1;32m    546\u001B[0m     \u001B[38;5;28;01melse\u001B[39;00m:\n\u001B[1;32m    547\u001B[0m         \u001B[38;5;66;03m# If level is not found, we have default level based on Google Trend\u001B[39;00m\n\u001B[1;32m    548\u001B[0m         ward_level \u001B[38;5;241m=\u001B[39m DICT_duplicated_ward_keys[ward_key]\n\u001B[0;32m--> 550\u001B[0m     ward_entry \u001B[38;5;241m=\u001B[39m ward_data[ward_level]\n\u001B[1;32m    552\u001B[0m admin_unit\u001B[38;5;241m.\u001B[39mward \u001B[38;5;241m=\u001B[39m ward_entry[\u001B[38;5;124m'\u001B[39m\u001B[38;5;124mward\u001B[39m\u001B[38;5;124m'\u001B[39m]\n\u001B[1;32m    553\u001B[0m admin_unit\u001B[38;5;241m.\u001B[39mlong_ward \u001B[38;5;241m=\u001B[39m ward_entry[\u001B[38;5;124m'\u001B[39m\u001B[38;5;124mlong_ward\u001B[39m\u001B[38;5;124m'\u001B[39m]\n",
      "\u001B[0;31mKeyError\u001B[0m: 'Ward'"
     ]
    }
   ],
   "source": [
    "wrong_districts = []\n",
    "for address_col in address_cols:\n",
    "    for row in df.itertuples():\n",
    "        address = getattr(row, address_col)\n",
    "\n",
    "        unit = parse_address(address, level=3)\n",
    "    \n",
    "        data = {\n",
    "            'address': address,\n",
    "            'province_english': row.province_english,\n",
    "            'province_key': row.province_key,\n",
    "            'wrong_province_key': unit.province_key,\n",
    "            'district_key': row.district_key,\n",
    "            'wrong_district_key': unit.district_key,\n",
    "        }\n",
    "        \n",
    "        if unit.province == None:\n",
    "            print(address)\n",
    "            wrong_districts.append(data)\n",
    "        elif unit.district == None:\n",
    "            print(address)\n",
    "            wrong_districts.append(data)\n",
    "                \n",
    "        elif unit.district_key != row.district_key:\n",
    "            print(address)\n",
    "            wrong_districts.append(data)\n",
    "\n"
   ],
   "metadata": {
    "collapsed": false,
    "ExecuteTime": {
     "end_time": "2024-09-26T08:57:47.615053Z",
     "start_time": "2024-09-26T08:56:45.727029Z"
    }
   },
   "id": "39bf6374b12777a5",
   "execution_count": 17
  },
  {
   "cell_type": "code",
   "outputs": [],
   "source": [
    "df_wrong_districts = pd.DataFrame(wrong_districts)"
   ],
   "metadata": {
    "collapsed": false,
    "ExecuteTime": {
     "end_time": "2024-09-26T08:56:31.362591Z",
     "start_time": "2024-09-26T08:56:31.357149Z"
    }
   },
   "id": "96c5a897813dcae2",
   "execution_count": 15
  },
  {
   "cell_type": "code",
   "outputs": [
    {
     "ename": "AttributeError",
     "evalue": "'DataFrame' object has no attribute 'province_key'",
     "output_type": "error",
     "traceback": [
      "\u001B[0;31m---------------------------------------------------------------------------\u001B[0m",
      "\u001B[0;31mAttributeError\u001B[0m                            Traceback (most recent call last)",
      "\u001B[0;32m/var/folders/tm/3b72tt2j0rn4tllr8h4bsrlr0000gn/T/ipykernel_7458/435793939.py\u001B[0m in \u001B[0;36m?\u001B[0;34m()\u001B[0m\n\u001B[0;32m----> 1\u001B[0;31m \u001B[0mdf_wrong_districts\u001B[0m \u001B[0;34m=\u001B[0m \u001B[0mdf_wrong_districts\u001B[0m\u001B[0;34m[\u001B[0m\u001B[0mdf_wrong_districts\u001B[0m\u001B[0;34m.\u001B[0m\u001B[0mprovince_key\u001B[0m\u001B[0;34m==\u001B[0m\u001B[0mdf_wrong_districts\u001B[0m\u001B[0;34m.\u001B[0m\u001B[0mwrong_province_key\u001B[0m\u001B[0;34m]\u001B[0m\u001B[0;34m\u001B[0m\u001B[0;34m\u001B[0m\u001B[0m\n\u001B[0m",
      "\u001B[0;32m~/anaconda3/lib/python3.11/site-packages/pandas/core/generic.py\u001B[0m in \u001B[0;36m?\u001B[0;34m(self, name)\u001B[0m\n\u001B[1;32m   5985\u001B[0m             \u001B[0;32mand\u001B[0m \u001B[0mname\u001B[0m \u001B[0;32mnot\u001B[0m \u001B[0;32min\u001B[0m \u001B[0mself\u001B[0m\u001B[0;34m.\u001B[0m\u001B[0m_accessors\u001B[0m\u001B[0;34m\u001B[0m\u001B[0;34m\u001B[0m\u001B[0m\n\u001B[1;32m   5986\u001B[0m             \u001B[0;32mand\u001B[0m \u001B[0mself\u001B[0m\u001B[0;34m.\u001B[0m\u001B[0m_info_axis\u001B[0m\u001B[0;34m.\u001B[0m\u001B[0m_can_hold_identifiers_and_holds_name\u001B[0m\u001B[0;34m(\u001B[0m\u001B[0mname\u001B[0m\u001B[0;34m)\u001B[0m\u001B[0;34m\u001B[0m\u001B[0;34m\u001B[0m\u001B[0m\n\u001B[1;32m   5987\u001B[0m         ):\n\u001B[1;32m   5988\u001B[0m             \u001B[0;32mreturn\u001B[0m \u001B[0mself\u001B[0m\u001B[0;34m[\u001B[0m\u001B[0mname\u001B[0m\u001B[0;34m]\u001B[0m\u001B[0;34m\u001B[0m\u001B[0;34m\u001B[0m\u001B[0m\n\u001B[0;32m-> 5989\u001B[0;31m         \u001B[0;32mreturn\u001B[0m \u001B[0mobject\u001B[0m\u001B[0;34m.\u001B[0m\u001B[0m__getattribute__\u001B[0m\u001B[0;34m(\u001B[0m\u001B[0mself\u001B[0m\u001B[0;34m,\u001B[0m \u001B[0mname\u001B[0m\u001B[0;34m)\u001B[0m\u001B[0;34m\u001B[0m\u001B[0;34m\u001B[0m\u001B[0m\n\u001B[0m",
      "\u001B[0;31mAttributeError\u001B[0m: 'DataFrame' object has no attribute 'province_key'"
     ]
    }
   ],
   "source": [
    "df_wrong_districts = df_wrong_districts[df_wrong_districts.province_key==df_wrong_districts.wrong_province_key]"
   ],
   "metadata": {
    "collapsed": false,
    "ExecuteTime": {
     "end_time": "2024-09-26T08:56:31.662996Z",
     "start_time": "2024-09-26T08:56:31.363555Z"
    }
   },
   "id": "fd76697d8beb2036",
   "execution_count": 16
  },
  {
   "cell_type": "code",
   "outputs": [],
   "source": [
    "df_wrong_districts"
   ],
   "metadata": {
    "collapsed": false
   },
   "id": "b99fec6992c3ad40",
   "execution_count": null
  },
  {
   "cell_type": "code",
   "outputs": [],
   "source": [
    "df_wrong_districts.info()"
   ],
   "metadata": {
    "collapsed": false
   },
   "id": "d2c05045bde11709",
   "execution_count": null
  },
  {
   "cell_type": "code",
   "outputs": [],
   "source": [
    "df_wrong_districts[df_wrong_districts.wrong_district_key.isna()]"
   ],
   "metadata": {
    "collapsed": false
   },
   "id": "11d84fe09228cabb",
   "execution_count": null
  },
  {
   "cell_type": "code",
   "outputs": [],
   "source": [
    "DICT_double_check_districts = {}\n",
    "\n",
    "for province_english in df_wrong_districts['province_english'].unique():\n",
    "    district_data = {}\n",
    "    for wrong_district_key in df_wrong_districts[(df_wrong_districts['province_english']==province_english)]['wrong_district_key'].unique():\n",
    "        tmp_district_keys = df_wrong_districts[(df_wrong_districts['province_english']==province_english) & (df_wrong_districts['wrong_district_key']==wrong_district_key)]['district_key'].unique().tolist()\n",
    "        district_data[wrong_district_key] = tmp_district_keys\n",
    "    \n",
    "    DICT_double_check_districts[province_english] = district_data"
   ],
   "metadata": {
    "collapsed": false
   },
   "id": "26abf0cb9952f87b",
   "execution_count": null
  },
  {
   "cell_type": "code",
   "outputs": [],
   "source": [
    "DICT_double_check_districts"
   ],
   "metadata": {
    "collapsed": false
   },
   "id": "ea812f21a18b5e10",
   "execution_count": null
  },
  {
   "cell_type": "markdown",
   "source": [
    "## Double check ward"
   ],
   "metadata": {
    "collapsed": false
   },
   "id": "da68e4f2aaed27dc"
  },
  {
   "cell_type": "code",
   "outputs": [],
   "source": [
    "wrong_wards = []\n",
    "for address_col in address_cols:\n",
    "    for row in df.itertuples():\n",
    "        address = getattr(row, address_col)\n",
    "        \n",
    "        try:\n",
    "        \n",
    "            unit = parse_address(address, level=3)\n",
    "        \n",
    "            data = {\n",
    "                'address': address,\n",
    "                'province_english': row.province_english,\n",
    "                'province_key': row.province_key,\n",
    "                'wrong_province_key': unit.province_key,\n",
    "                'district_key': row.district_key,\n",
    "                'wrong_district_key': unit.district_key,\n",
    "                'ward_key': row.ward_key,\n",
    "                'wrong_ward_key': unit.ward_key,\n",
    "            }\n",
    "            \n",
    "            if unit.province == None:\n",
    "                print(address)\n",
    "                wrong_wards.append(data)\n",
    "                \n",
    "            elif unit.district == None:\n",
    "                print(address)\n",
    "                wrong_wards.append(data)\n",
    "                \n",
    "            elif (unit.ward == None) and (unit.district_key not in ['bachlongvi', 'conco', 'hoangsa', 'lyson', 'condao']):\n",
    "                print(address)\n",
    "                wrong_wards.append(data)\n",
    "                    \n",
    "            elif (unit.ward_key != row.ward_key) and (unit.district_key not in ['bachlongvi', 'conco', 'hoangsa', 'lyson', 'condao']):\n",
    "                print(address)\n",
    "                wrong_wards.append(data)\n",
    "                \n",
    "                \n",
    "        except Exception as e:\n",
    "            print('ERROR address:', address)\n",
    "            print('ERROR info:', e)"
   ],
   "metadata": {
    "collapsed": false
   },
   "id": "48f7e7e2506dd04e",
   "execution_count": null
  },
  {
   "cell_type": "code",
   "outputs": [],
   "source": [
    "df_wrong_wards = pd.DataFrame(wrong_wards)"
   ],
   "metadata": {
    "collapsed": false
   },
   "id": "32691a48ffa8b1dc",
   "execution_count": null
  },
  {
   "cell_type": "code",
   "outputs": [],
   "source": [
    "df_wrong_wards[df_wrong_wards.district_key != df_wrong_wards.wrong_district_key]"
   ],
   "metadata": {
    "collapsed": false
   },
   "id": "eeb6399af91989fa",
   "execution_count": null
  },
  {
   "cell_type": "code",
   "outputs": [
    {
     "ename": "NameError",
     "evalue": "name 'df_wrong_wards' is not defined",
     "output_type": "error",
     "traceback": [
      "\u001B[0;31m---------------------------------------------------------------------------\u001B[0m",
      "\u001B[0;31mNameError\u001B[0m                                 Traceback (most recent call last)",
      "Cell \u001B[0;32mIn[18], line 1\u001B[0m\n\u001B[0;32m----> 1\u001B[0m df_wrong_wards\n",
      "\u001B[0;31mNameError\u001B[0m: name 'df_wrong_wards' is not defined"
     ]
    }
   ],
   "source": [
    "df_wrong_wards"
   ],
   "metadata": {
    "collapsed": false,
    "ExecuteTime": {
     "end_time": "2024-09-26T09:10:32.616861Z",
     "start_time": "2024-09-26T09:10:32.532211Z"
    }
   },
   "id": "ab62bb7c80cc6dba",
   "execution_count": 18
  },
  {
   "cell_type": "code",
   "outputs": [],
   "source": [],
   "metadata": {
    "collapsed": false
   },
   "id": "1e20d61d4610be93"
  },
  {
   "cell_type": "code",
   "outputs": [],
   "source": [],
   "metadata": {
    "collapsed": false
   },
   "id": "db16837019ae5c66"
  },
  {
   "cell_type": "code",
   "outputs": [],
   "source": [
    "with open('../../vietadminunits/data/parse.pkl', 'rb') as f:\n",
    "    data = pickle.load(f)\n",
    "\n",
    "data['DICT_double_check_provinces'] = DICT_double_check_provinces\n",
    "data['DICT_double_check_districts'] = DICT_double_check_districts\n",
    "\n",
    "with open('../../vietadminunits/data/parse.pkl', 'wb') as f:\n",
    "    pickle.dump(data, f)"
   ],
   "metadata": {
    "collapsed": false
   },
   "id": "f13e20d805caa4ea",
   "execution_count": null
  },
  {
   "cell_type": "code",
   "outputs": [],
   "source": [],
   "metadata": {
    "collapsed": false
   },
   "id": "4d365011f84608d"
  },
  {
   "cell_type": "code",
   "outputs": [],
   "source": [],
   "metadata": {
    "collapsed": false
   },
   "id": "a99e0692aab9aa17",
   "execution_count": null
  }
 ],
 "metadata": {
  "kernelspec": {
   "display_name": "Python 3",
   "language": "python",
   "name": "python3"
  },
  "language_info": {
   "codemirror_mode": {
    "name": "ipython",
    "version": 2
   },
   "file_extension": ".py",
   "mimetype": "text/x-python",
   "name": "python",
   "nbconvert_exporter": "python",
   "pygments_lexer": "ipython2",
   "version": "2.7.6"
  }
 },
 "nbformat": 4,
 "nbformat_minor": 5
}
