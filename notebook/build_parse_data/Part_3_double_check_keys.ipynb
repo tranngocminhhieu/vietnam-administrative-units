{
 "cells": [
  {
   "cell_type": "code",
   "execution_count": 1,
   "id": "initial_id",
   "metadata": {
    "collapsed": true,
    "ExecuteTime": {
     "end_time": "2024-09-29T06:28:11.689204Z",
     "start_time": "2024-09-29T06:28:10.216767Z"
    }
   },
   "outputs": [],
   "source": [
    "import pandas as pd\n",
    "from vietadminunits import parse_address, get_data\n",
    "from vietadminunits.utils import to_key, to_alphanumeric\n",
    "import pickle"
   ]
  },
  {
   "cell_type": "code",
   "outputs": [],
   "source": [
    "df = pd.DataFrame(get_data())"
   ],
   "metadata": {
    "collapsed": false,
    "ExecuteTime": {
     "end_time": "2024-09-29T06:28:11.831728Z",
     "start_time": "2024-09-29T06:28:11.690618Z"
    }
   },
   "id": "b1b52d5aed5034d9",
   "execution_count": 2
  },
  {
   "cell_type": "code",
   "outputs": [],
   "source": [
    "df['long_province_alphanumeric'] = df['long_province'].apply(to_alphanumeric)\n",
    "df['long_district_alphanumeric'] = df['long_district'].apply(to_alphanumeric)\n",
    "df['long_ward_alphanumeric'] = df['long_ward'].fillna('').apply(to_alphanumeric)\n",
    "\n",
    "df['province_alphanumeric'] = df['province'].apply(to_alphanumeric)\n",
    "df['short_district_alphanumeric'] = df['short_district'].apply(to_alphanumeric)\n",
    "df['short_ward_alphanumeric'] = df['short_ward'].fillna('').apply(to_alphanumeric)"
   ],
   "metadata": {
    "collapsed": false,
    "ExecuteTime": {
     "end_time": "2024-09-29T06:28:11.988417Z",
     "start_time": "2024-09-29T06:28:11.833405Z"
    }
   },
   "id": "cf25cc6a682a9e9c",
   "execution_count": 3
  },
  {
   "cell_type": "code",
   "outputs": [],
   "source": [
    "for ward in ['long_ward', 'ward']:\n",
    "    for district in ['long_district', 'district']:\n",
    "        for province in ['long_province', 'province']:\n",
    "            df[f\"address_{ward}_{district}_{province}\"] = df[ward].fillna('') + df[district] + df[province]\n",
    "            df[f\"address_comma_{ward}_{district}_{province}\"] = df[ward].fillna('') + ',' + df[district] + ',' + df[province]"
   ],
   "metadata": {
    "collapsed": false,
    "ExecuteTime": {
     "end_time": "2024-09-29T06:28:12.050572Z",
     "start_time": "2024-09-29T06:28:11.989043Z"
    }
   },
   "id": "2ad328732a0b7fc7",
   "execution_count": 4
  },
  {
   "cell_type": "code",
   "outputs": [],
   "source": [
    "\n",
    "df['province_key'] = df['province'].apply(to_key, args=(1,))\n",
    "df['district_key'] = df['district'].apply(to_key, args=(2,))\n",
    "df['ward_key'] = df['ward'].apply(to_key, args=(3,))"
   ],
   "metadata": {
    "collapsed": false,
    "ExecuteTime": {
     "end_time": "2024-09-29T06:28:12.137388Z",
     "start_time": "2024-09-29T06:28:12.052212Z"
    }
   },
   "id": "3782c5a649aaf6ec",
   "execution_count": 5
  },
  {
   "cell_type": "code",
   "outputs": [],
   "source": [
    "address_cols = [col for col in df.columns if 'address' in col]"
   ],
   "metadata": {
    "collapsed": false,
    "ExecuteTime": {
     "end_time": "2024-09-29T06:28:12.139733Z",
     "start_time": "2024-09-29T06:28:12.138011Z"
    }
   },
   "id": "69039b2628333813",
   "execution_count": 6
  },
  {
   "cell_type": "markdown",
   "source": [
    "## Find wards that are the same keyword with provinces"
   ],
   "metadata": {
    "collapsed": false
   },
   "id": "4a1285958689a4"
  },
  {
   "cell_type": "code",
   "outputs": [],
   "source": [
    "wrong_provinces = []\n",
    "\n",
    "\n",
    "\n",
    "for address_col in address_cols:\n",
    "    for row in df.itertuples():\n",
    "        address = getattr(row, address_col)\n",
    "        unit = parse_address(address, level=1)\n",
    "        data = {\n",
    "            'address': address,\n",
    "            'province': row.province,\n",
    "            'province_key': row.province_key,\n",
    "            'wrong_province_key': unit.province_key,\n",
    "        }\n",
    "        \n",
    "        if unit.province == None:\n",
    "            print(address)\n",
    "            wrong_provinces.append(data)\n",
    "            \n",
    "        elif unit.province != row.province:\n",
    "            print(address)\n",
    "            wrong_provinces.append(data)"
   ],
   "metadata": {
    "collapsed": false,
    "ExecuteTime": {
     "end_time": "2024-09-29T06:28:53.646163Z",
     "start_time": "2024-09-29T06:28:12.378646Z"
    }
   },
   "id": "aca769f749d9adf8",
   "execution_count": 7
  },
  {
   "cell_type": "code",
   "outputs": [],
   "source": [
    "df_wrong_provinces = pd.DataFrame(wrong_provinces)"
   ],
   "metadata": {
    "collapsed": false,
    "ExecuteTime": {
     "end_time": "2024-09-29T06:28:53.672862Z",
     "start_time": "2024-09-29T06:28:53.651739Z"
    }
   },
   "id": "69ce345fefd31da9",
   "execution_count": 8
  },
  {
   "cell_type": "code",
   "outputs": [
    {
     "name": "stdout",
     "output_type": "stream",
     "text": [
      "<class 'pandas.core.frame.DataFrame'>\n",
      "RangeIndex: 0 entries\n",
      "Empty DataFrame\n"
     ]
    }
   ],
   "source": [
    "df_wrong_provinces.info()"
   ],
   "metadata": {
    "collapsed": false,
    "ExecuteTime": {
     "end_time": "2024-09-29T06:28:53.679204Z",
     "start_time": "2024-09-29T06:28:53.675033Z"
    }
   },
   "id": "90893bd387f0b0ad",
   "execution_count": 9
  },
  {
   "cell_type": "code",
   "outputs": [
    {
     "data": {
      "text/plain": "Empty DataFrame\nColumns: []\nIndex: []",
      "text/html": "<div>\n<style scoped>\n    .dataframe tbody tr th:only-of-type {\n        vertical-align: middle;\n    }\n\n    .dataframe tbody tr th {\n        vertical-align: top;\n    }\n\n    .dataframe thead th {\n        text-align: right;\n    }\n</style>\n<table border=\"1\" class=\"dataframe\">\n  <thead>\n    <tr style=\"text-align: right;\">\n      <th></th>\n    </tr>\n  </thead>\n  <tbody>\n  </tbody>\n</table>\n</div>"
     },
     "execution_count": 10,
     "metadata": {},
     "output_type": "execute_result"
    }
   ],
   "source": [
    "df_wrong_provinces"
   ],
   "metadata": {
    "collapsed": false,
    "ExecuteTime": {
     "end_time": "2024-09-29T06:28:53.702724Z",
     "start_time": "2024-09-29T06:28:53.683066Z"
    }
   },
   "id": "e2982a67d046cdd3",
   "execution_count": 10
  },
  {
   "cell_type": "code",
   "outputs": [],
   "source": [
    "# df_wrong_provinces[df_wrong_provinces.wrong_province_key.isna()]"
   ],
   "metadata": {
    "collapsed": false,
    "ExecuteTime": {
     "end_time": "2024-09-29T06:28:53.707839Z",
     "start_time": "2024-09-29T06:28:53.704889Z"
    }
   },
   "id": "1d7bddbd68a9f8c0",
   "execution_count": 11
  },
  {
   "cell_type": "code",
   "outputs": [],
   "source": [
    "DICT_double_check_provinces = {}\n",
    "for row in df_wrong_provinces.itertuples():\n",
    "    DICT_double_check_provinces[row.wrong_province_key] = df_wrong_provinces[df_wrong_provinces['wrong_province_key']==row.wrong_province_key]['province_key'].unique().tolist()"
   ],
   "metadata": {
    "collapsed": false,
    "ExecuteTime": {
     "end_time": "2024-09-29T06:28:53.714690Z",
     "start_time": "2024-09-29T06:28:53.710030Z"
    }
   },
   "id": "e1a174da9e0799b7",
   "execution_count": 12
  },
  {
   "cell_type": "code",
   "outputs": [
    {
     "data": {
      "text/plain": "{}"
     },
     "execution_count": 13,
     "metadata": {},
     "output_type": "execute_result"
    }
   ],
   "source": [
    "DICT_double_check_provinces"
   ],
   "metadata": {
    "collapsed": false,
    "ExecuteTime": {
     "end_time": "2024-09-29T06:28:53.722867Z",
     "start_time": "2024-09-29T06:28:53.716553Z"
    }
   },
   "id": "3052fc715c1eb74",
   "execution_count": 13
  },
  {
   "cell_type": "markdown",
   "source": [
    "## Find wards that are the same keyword with districts\n",
    "\n",
    "We have to add `double_check_provinces` to module to solve province level before doing this step."
   ],
   "metadata": {
    "collapsed": false
   },
   "id": "28410b2a00e10e19"
  },
  {
   "cell_type": "code",
   "outputs": [
    {
     "name": "stdout",
     "output_type": "stream",
     "text": [
      "Thị trấn Thạch HàThạch HàTỉnh Hà Tĩnh\n",
      "Xã Ngọc SơnThạch HàTỉnh Hà Tĩnh\n",
      "Xã Thạch HảiThạch HàTỉnh Hà Tĩnh\n",
      "Xã Thạch KênhThạch HàTỉnh Hà Tĩnh\n",
      "Xã Thạch SơnThạch HàTỉnh Hà Tĩnh\n",
      "Xã Thạch LiênThạch HàTỉnh Hà Tĩnh\n",
      "Xã Đỉnh BànThạch HàTỉnh Hà Tĩnh\n",
      "Xã Việt TiếnThạch HàTỉnh Hà Tĩnh\n",
      "Xã Thạch KhêThạch HàTỉnh Hà Tĩnh\n",
      "Xã Thạch LongThạch HàTỉnh Hà Tĩnh\n",
      "Xã Thạch TrịThạch HàTỉnh Hà Tĩnh\n",
      "Xã Thạch LạcThạch HàTỉnh Hà Tĩnh\n",
      "Xã Thạch NgọcThạch HàTỉnh Hà Tĩnh\n",
      "Xã Tượng SơnThạch HàTỉnh Hà Tĩnh\n",
      "Xã Thạch VănThạch HàTỉnh Hà Tĩnh\n",
      "Xã Lưu Vĩnh SơnThạch HàTỉnh Hà Tĩnh\n",
      "Xã Thạch ThắngThạch HàTỉnh Hà Tĩnh\n",
      "Xã Thạch ĐàiThạch HàTỉnh Hà Tĩnh\n",
      "Xã Thạch HộiThạch HàTỉnh Hà Tĩnh\n",
      "Xã Tân Lâm HươngThạch HàTỉnh Hà Tĩnh\n",
      "Xã Thạch XuânThạch HàTỉnh Hà Tĩnh\n",
      "Xã Nam ĐiềnThạch HàTỉnh Hà Tĩnh\n",
      "Xã Tân LộcLộc HàTỉnh Hà Tĩnh\n",
      "Xã Hồng LộcLộc HàTỉnh Hà Tĩnh\n",
      "Xã Thịnh LộcLộc HàTỉnh Hà Tĩnh\n",
      "Xã Bình AnLộc HàTỉnh Hà Tĩnh\n",
      "Xã Ích HậuLộc HàTỉnh Hà Tĩnh\n",
      "Xã Phù LưuLộc HàTỉnh Hà Tĩnh\n",
      "Thị trấn Lộc HàLộc HàTỉnh Hà Tĩnh\n",
      "Xã Thạch MỹLộc HàTỉnh Hà Tĩnh\n",
      "Xã Thạch KimLộc HàTỉnh Hà Tĩnh\n",
      "Xã Thạch ChâuLộc HàTỉnh Hà Tĩnh\n",
      "Xã Hộ ĐộLộc HàTỉnh Hà Tĩnh\n",
      "Xã Mai PhụLộc HàTỉnh Hà Tĩnh\n",
      "Thị trấn Châu ỔBình SơnTỉnh Quảng Ngãi\n",
      "Xã Bình ThuậnBình SơnTỉnh Quảng Ngãi\n",
      "Xã Bình ThạnhBình SơnTỉnh Quảng Ngãi\n",
      "Xã Bình ĐôngBình SơnTỉnh Quảng Ngãi\n",
      "Xã Bình ChánhBình SơnTỉnh Quảng Ngãi\n",
      "Xã Bình NguyênBình SơnTỉnh Quảng Ngãi\n",
      "Xã Bình KhươngBình SơnTỉnh Quảng Ngãi\n",
      "Xã Bình TrịBình SơnTỉnh Quảng Ngãi\n",
      "Xã Bình AnBình SơnTỉnh Quảng Ngãi\n",
      "Xã Bình HảiBình SơnTỉnh Quảng Ngãi\n",
      "Xã Bình DươngBình SơnTỉnh Quảng Ngãi\n",
      "Xã Bình PhướcBình SơnTỉnh Quảng Ngãi\n",
      "Xã Bình HòaBình SơnTỉnh Quảng Ngãi\n",
      "Xã Bình TrungBình SơnTỉnh Quảng Ngãi\n",
      "Xã Bình MinhBình SơnTỉnh Quảng Ngãi\n",
      "Xã Bình LongBình SơnTỉnh Quảng Ngãi\n",
      "Xã Bình ThanhBình SơnTỉnh Quảng Ngãi\n",
      "Xã Bình ChươngBình SơnTỉnh Quảng Ngãi\n",
      "Xã Bình HiệpBình SơnTỉnh Quảng Ngãi\n",
      "Xã Bình MỹBình SơnTỉnh Quảng Ngãi\n",
      "Xã Bình Tân PhúBình SơnTỉnh Quảng Ngãi\n",
      "Xã Bình ChâuBình SơnTỉnh Quảng Ngãi\n",
      "Lý SơnTỉnh Quảng Ngãi\n",
      "Xã Tân ĐịnhBắc Tân UyênTỉnh Bình Dương\n",
      "Xã Bình MỹBắc Tân UyênTỉnh Bình Dương\n",
      "Thị trấn Tân BìnhBắc Tân UyênTỉnh Bình Dương\n",
      "Xã Tân LậpBắc Tân UyênTỉnh Bình Dương\n",
      "Thị trấn Tân ThànhBắc Tân UyênTỉnh Bình Dương\n",
      "Xã Đất CuốcBắc Tân UyênTỉnh Bình Dương\n",
      "Xã Hiếu LiêmBắc Tân UyênTỉnh Bình Dương\n",
      "Xã Lạc AnBắc Tân UyênTỉnh Bình Dương\n",
      "Xã Tân MỹBắc Tân UyênTỉnh Bình Dương\n",
      "Xã Thường TânBắc Tân UyênTỉnh Bình Dương\n",
      "Phường 2Tân BìnhThành phố Hồ Chí Minh\n",
      "Phường 4Tân BìnhThành phố Hồ Chí Minh\n",
      "Phường 12Tân BìnhThành phố Hồ Chí Minh\n",
      "Phường 13Tân BìnhThành phố Hồ Chí Minh\n",
      "Phường 1Tân BìnhThành phố Hồ Chí Minh\n",
      "Phường 3Tân BìnhThành phố Hồ Chí Minh\n",
      "Phường 11Tân BìnhThành phố Hồ Chí Minh\n",
      "Phường 7Tân BìnhThành phố Hồ Chí Minh\n",
      "Phường 5Tân BìnhThành phố Hồ Chí Minh\n",
      "Phường 10Tân BìnhThành phố Hồ Chí Minh\n",
      "Phường 6Tân BìnhThành phố Hồ Chí Minh\n",
      "Phường 8Tân BìnhThành phố Hồ Chí Minh\n",
      "Phường 9Tân BìnhThành phố Hồ Chí Minh\n",
      "Phường 14Tân BìnhThành phố Hồ Chí Minh\n",
      "Phường 15Tân BìnhThành phố Hồ Chí Minh\n",
      "Xã Tân Định,Bắc Tân Uyên,Tỉnh Bình Dương\n",
      "Xã Bình Mỹ,Bắc Tân Uyên,Tỉnh Bình Dương\n",
      "Thị trấn Tân Bình,Bắc Tân Uyên,Tỉnh Bình Dương\n",
      "Xã Tân Lập,Bắc Tân Uyên,Tỉnh Bình Dương\n",
      "Thị trấn Tân Thành,Bắc Tân Uyên,Tỉnh Bình Dương\n",
      "Xã Đất Cuốc,Bắc Tân Uyên,Tỉnh Bình Dương\n",
      "Xã Hiếu Liêm,Bắc Tân Uyên,Tỉnh Bình Dương\n",
      "Xã Lạc An,Bắc Tân Uyên,Tỉnh Bình Dương\n",
      "Xã Tân Mỹ,Bắc Tân Uyên,Tỉnh Bình Dương\n",
      "Xã Thường Tân,Bắc Tân Uyên,Tỉnh Bình Dương\n",
      "Xã Tân ĐịnhBắc Tân UyênBình Dương\n",
      "Xã Bình MỹBắc Tân UyênBình Dương\n",
      "Thị trấn Tân BìnhBắc Tân UyênBình Dương\n",
      "Xã Tân LậpBắc Tân UyênBình Dương\n",
      "Thị trấn Tân ThànhBắc Tân UyênBình Dương\n",
      "Xã Đất CuốcBắc Tân UyênBình Dương\n",
      "Xã Hiếu LiêmBắc Tân UyênBình Dương\n",
      "Xã Lạc AnBắc Tân UyênBình Dương\n",
      "Xã Tân MỹBắc Tân UyênBình Dương\n",
      "Xã Thường TânBắc Tân UyênBình Dương\n",
      "Xã Tân Định,Bắc Tân Uyên,Bình Dương\n",
      "Xã Bình Mỹ,Bắc Tân Uyên,Bình Dương\n",
      "Thị trấn Tân Bình,Bắc Tân Uyên,Bình Dương\n",
      "Xã Tân Lập,Bắc Tân Uyên,Bình Dương\n",
      "Thị trấn Tân Thành,Bắc Tân Uyên,Bình Dương\n",
      "Xã Đất Cuốc,Bắc Tân Uyên,Bình Dương\n",
      "Xã Hiếu Liêm,Bắc Tân Uyên,Bình Dương\n",
      "Xã Lạc An,Bắc Tân Uyên,Bình Dương\n",
      "Xã Tân Mỹ,Bắc Tân Uyên,Bình Dương\n",
      "Xã Thường Tân,Bắc Tân Uyên,Bình Dương\n",
      "Thạch HàThạch HàTỉnh Hà Tĩnh\n",
      "Ngọc SơnThạch HàTỉnh Hà Tĩnh\n",
      "Thạch HảiThạch HàTỉnh Hà Tĩnh\n",
      "Thạch KênhThạch HàTỉnh Hà Tĩnh\n",
      "Thạch SơnThạch HàTỉnh Hà Tĩnh\n",
      "Thạch LiênThạch HàTỉnh Hà Tĩnh\n",
      "Đỉnh BànThạch HàTỉnh Hà Tĩnh\n",
      "Việt TiếnThạch HàTỉnh Hà Tĩnh\n",
      "Thạch KhêThạch HàTỉnh Hà Tĩnh\n",
      "Thạch LongThạch HàTỉnh Hà Tĩnh\n",
      "Thạch TrịThạch HàTỉnh Hà Tĩnh\n",
      "Thạch LạcThạch HàTỉnh Hà Tĩnh\n",
      "Thạch NgọcThạch HàTỉnh Hà Tĩnh\n",
      "Tượng SơnThạch HàTỉnh Hà Tĩnh\n",
      "Thạch VănThạch HàTỉnh Hà Tĩnh\n",
      "Lưu Vĩnh SơnThạch HàTỉnh Hà Tĩnh\n",
      "Thạch ThắngThạch HàTỉnh Hà Tĩnh\n",
      "Thạch ĐàiThạch HàTỉnh Hà Tĩnh\n",
      "Thạch HộiThạch HàTỉnh Hà Tĩnh\n",
      "Tân Lâm HươngThạch HàTỉnh Hà Tĩnh\n",
      "Thạch XuânThạch HàTỉnh Hà Tĩnh\n",
      "Nam ĐiềnThạch HàTỉnh Hà Tĩnh\n",
      "Tân LộcLộc HàTỉnh Hà Tĩnh\n",
      "Hồng LộcLộc HàTỉnh Hà Tĩnh\n",
      "Thịnh LộcLộc HàTỉnh Hà Tĩnh\n",
      "Bình AnLộc HàTỉnh Hà Tĩnh\n",
      "Ích HậuLộc HàTỉnh Hà Tĩnh\n",
      "Phù LưuLộc HàTỉnh Hà Tĩnh\n",
      "Lộc HàLộc HàTỉnh Hà Tĩnh\n",
      "Thạch MỹLộc HàTỉnh Hà Tĩnh\n",
      "Thạch KimLộc HàTỉnh Hà Tĩnh\n",
      "Thạch ChâuLộc HàTỉnh Hà Tĩnh\n",
      "Hộ ĐộLộc HàTỉnh Hà Tĩnh\n",
      "Mai PhụLộc HàTỉnh Hà Tĩnh\n",
      "Châu ỔBình SơnTỉnh Quảng Ngãi\n",
      "Bình ThuậnBình SơnTỉnh Quảng Ngãi\n",
      "Bình ThạnhBình SơnTỉnh Quảng Ngãi\n",
      "Bình ĐôngBình SơnTỉnh Quảng Ngãi\n",
      "Bình ChánhBình SơnTỉnh Quảng Ngãi\n",
      "Bình NguyênBình SơnTỉnh Quảng Ngãi\n",
      "Bình KhươngBình SơnTỉnh Quảng Ngãi\n",
      "Bình TrịBình SơnTỉnh Quảng Ngãi\n",
      "Bình AnBình SơnTỉnh Quảng Ngãi\n",
      "Bình HảiBình SơnTỉnh Quảng Ngãi\n",
      "Bình DươngBình SơnTỉnh Quảng Ngãi\n",
      "Bình PhướcBình SơnTỉnh Quảng Ngãi\n",
      "Bình HòaBình SơnTỉnh Quảng Ngãi\n",
      "Bình TrungBình SơnTỉnh Quảng Ngãi\n",
      "Bình MinhBình SơnTỉnh Quảng Ngãi\n",
      "Bình LongBình SơnTỉnh Quảng Ngãi\n",
      "Bình ThanhBình SơnTỉnh Quảng Ngãi\n",
      "Bình ChươngBình SơnTỉnh Quảng Ngãi\n",
      "Bình HiệpBình SơnTỉnh Quảng Ngãi\n",
      "Bình MỹBình SơnTỉnh Quảng Ngãi\n",
      "Bình Tân PhúBình SơnTỉnh Quảng Ngãi\n",
      "Bình ChâuBình SơnTỉnh Quảng Ngãi\n",
      "Lý SơnTỉnh Quảng Ngãi\n",
      "Tân ĐịnhBắc Tân UyênTỉnh Bình Dương\n",
      "Bình MỹBắc Tân UyênTỉnh Bình Dương\n",
      "Tân BìnhBắc Tân UyênTỉnh Bình Dương\n",
      "Tân LậpBắc Tân UyênTỉnh Bình Dương\n",
      "Tân ThànhBắc Tân UyênTỉnh Bình Dương\n",
      "Đất CuốcBắc Tân UyênTỉnh Bình Dương\n",
      "Hiếu LiêmBắc Tân UyênTỉnh Bình Dương\n",
      "Lạc AnBắc Tân UyênTỉnh Bình Dương\n",
      "Tân MỹBắc Tân UyênTỉnh Bình Dương\n",
      "Thường TânBắc Tân UyênTỉnh Bình Dương\n",
      "Phường 2Tân BìnhThành phố Hồ Chí Minh\n",
      "Phường 4Tân BìnhThành phố Hồ Chí Minh\n",
      "Phường 12Tân BìnhThành phố Hồ Chí Minh\n",
      "Phường 13Tân BìnhThành phố Hồ Chí Minh\n",
      "Phường 1Tân BìnhThành phố Hồ Chí Minh\n",
      "Phường 3Tân BìnhThành phố Hồ Chí Minh\n",
      "Phường 11Tân BìnhThành phố Hồ Chí Minh\n",
      "Phường 7Tân BìnhThành phố Hồ Chí Minh\n",
      "Phường 5Tân BìnhThành phố Hồ Chí Minh\n",
      "Phường 10Tân BìnhThành phố Hồ Chí Minh\n",
      "Phường 6Tân BìnhThành phố Hồ Chí Minh\n",
      "Phường 8Tân BìnhThành phố Hồ Chí Minh\n",
      "Phường 9Tân BìnhThành phố Hồ Chí Minh\n",
      "Phường 14Tân BìnhThành phố Hồ Chí Minh\n",
      "Phường 15Tân BìnhThành phố Hồ Chí Minh\n",
      "Tân Định,Bắc Tân Uyên,Tỉnh Bình Dương\n",
      "Bình Mỹ,Bắc Tân Uyên,Tỉnh Bình Dương\n",
      "Tân Bình,Bắc Tân Uyên,Tỉnh Bình Dương\n",
      "Tân Lập,Bắc Tân Uyên,Tỉnh Bình Dương\n",
      "Tân Thành,Bắc Tân Uyên,Tỉnh Bình Dương\n",
      "Đất Cuốc,Bắc Tân Uyên,Tỉnh Bình Dương\n",
      "Hiếu Liêm,Bắc Tân Uyên,Tỉnh Bình Dương\n",
      "Lạc An,Bắc Tân Uyên,Tỉnh Bình Dương\n",
      "Tân Mỹ,Bắc Tân Uyên,Tỉnh Bình Dương\n",
      "Thường Tân,Bắc Tân Uyên,Tỉnh Bình Dương\n",
      "Tân ĐịnhBắc Tân UyênBình Dương\n",
      "Bình MỹBắc Tân UyênBình Dương\n",
      "Tân BìnhBắc Tân UyênBình Dương\n",
      "Tân LậpBắc Tân UyênBình Dương\n",
      "Tân ThànhBắc Tân UyênBình Dương\n",
      "Đất CuốcBắc Tân UyênBình Dương\n",
      "Hiếu LiêmBắc Tân UyênBình Dương\n",
      "Lạc AnBắc Tân UyênBình Dương\n",
      "Tân MỹBắc Tân UyênBình Dương\n",
      "Thường TânBắc Tân UyênBình Dương\n",
      "Tân Định,Bắc Tân Uyên,Bình Dương\n",
      "Bình Mỹ,Bắc Tân Uyên,Bình Dương\n",
      "Tân Bình,Bắc Tân Uyên,Bình Dương\n",
      "Tân Lập,Bắc Tân Uyên,Bình Dương\n",
      "Tân Thành,Bắc Tân Uyên,Bình Dương\n",
      "Đất Cuốc,Bắc Tân Uyên,Bình Dương\n",
      "Hiếu Liêm,Bắc Tân Uyên,Bình Dương\n",
      "Lạc An,Bắc Tân Uyên,Bình Dương\n",
      "Tân Mỹ,Bắc Tân Uyên,Bình Dương\n",
      "Thường Tân,Bắc Tân Uyên,Bình Dương\n"
     ]
    }
   ],
   "source": [
    "wrong_districts = []\n",
    "for address_col in address_cols:\n",
    "    for row in df.itertuples():\n",
    "        address = getattr(row, address_col)\n",
    "\n",
    "        unit = parse_address(address, level=3)\n",
    "    \n",
    "        data = {\n",
    "            'address': address,\n",
    "            'province_english': row.province_english,\n",
    "            'province_key': row.province_key,\n",
    "            'wrong_province_key': unit.province_key,\n",
    "            'district_key': row.district_key,\n",
    "            'wrong_district_key': unit.district_key,\n",
    "        }\n",
    "        \n",
    "        if unit.province == None:\n",
    "            print(address)\n",
    "            wrong_districts.append(data)\n",
    "        elif unit.district == None:\n",
    "            print(address)\n",
    "            wrong_districts.append(data)\n",
    "                \n",
    "        elif unit.district != row.district:\n",
    "            print(address)\n",
    "            wrong_districts.append(data)\n",
    "\n"
   ],
   "metadata": {
    "collapsed": false,
    "ExecuteTime": {
     "end_time": "2024-09-29T06:29:56.420402Z",
     "start_time": "2024-09-29T06:28:53.726004Z"
    }
   },
   "id": "39bf6374b12777a5",
   "execution_count": 14
  },
  {
   "cell_type": "code",
   "outputs": [],
   "source": [
    "df_wrong_districts = pd.DataFrame(wrong_districts)"
   ],
   "metadata": {
    "collapsed": false,
    "ExecuteTime": {
     "end_time": "2024-09-29T06:29:56.425203Z",
     "start_time": "2024-09-29T06:29:56.421453Z"
    }
   },
   "id": "96c5a897813dcae2",
   "execution_count": 15
  },
  {
   "cell_type": "code",
   "outputs": [],
   "source": [
    "df_wrong_districts = df_wrong_districts[df_wrong_districts.province_key==df_wrong_districts.wrong_province_key]"
   ],
   "metadata": {
    "collapsed": false,
    "ExecuteTime": {
     "end_time": "2024-09-29T06:29:56.433324Z",
     "start_time": "2024-09-29T06:29:56.428498Z"
    }
   },
   "id": "fd76697d8beb2036",
   "execution_count": 16
  },
  {
   "cell_type": "code",
   "outputs": [
    {
     "data": {
      "text/plain": "                                   address province_english province_key  \\\n0    Thị trấn Thạch HàThạch HàTỉnh Hà Tĩnh          Ha Tinh       hatinh   \n1          Xã Ngọc SơnThạch HàTỉnh Hà Tĩnh          Ha Tinh       hatinh   \n2         Xã Thạch HảiThạch HàTỉnh Hà Tĩnh          Ha Tinh       hatinh   \n3        Xã Thạch KênhThạch HàTỉnh Hà Tĩnh          Ha Tinh       hatinh   \n4         Xã Thạch SơnThạch HàTỉnh Hà Tĩnh          Ha Tinh       hatinh   \n..                                     ...              ...          ...   \n219       Đất Cuốc,Bắc Tân Uyên,Bình Dương       Binh Duong    binhduong   \n220      Hiếu Liêm,Bắc Tân Uyên,Bình Dương       Binh Duong    binhduong   \n221         Lạc An,Bắc Tân Uyên,Bình Dương       Binh Duong    binhduong   \n222         Tân Mỹ,Bắc Tân Uyên,Bình Dương       Binh Duong    binhduong   \n223     Thường Tân,Bắc Tân Uyên,Bình Dương       Binh Duong    binhduong   \n\n    wrong_province_key district_key wrong_district_key  \n0               hatinh      thachha             hatinh  \n1               hatinh      thachha             hatinh  \n2               hatinh      thachha             hatinh  \n3               hatinh      thachha             hatinh  \n4               hatinh      thachha             hatinh  \n..                 ...          ...                ...  \n219          binhduong   bactanuyen            tanuyen  \n220          binhduong   bactanuyen            tanuyen  \n221          binhduong   bactanuyen            tanuyen  \n222          binhduong   bactanuyen            tanuyen  \n223          binhduong   bactanuyen            tanuyen  \n\n[224 rows x 6 columns]",
      "text/html": "<div>\n<style scoped>\n    .dataframe tbody tr th:only-of-type {\n        vertical-align: middle;\n    }\n\n    .dataframe tbody tr th {\n        vertical-align: top;\n    }\n\n    .dataframe thead th {\n        text-align: right;\n    }\n</style>\n<table border=\"1\" class=\"dataframe\">\n  <thead>\n    <tr style=\"text-align: right;\">\n      <th></th>\n      <th>address</th>\n      <th>province_english</th>\n      <th>province_key</th>\n      <th>wrong_province_key</th>\n      <th>district_key</th>\n      <th>wrong_district_key</th>\n    </tr>\n  </thead>\n  <tbody>\n    <tr>\n      <th>0</th>\n      <td>Thị trấn Thạch HàThạch HàTỉnh Hà Tĩnh</td>\n      <td>Ha Tinh</td>\n      <td>hatinh</td>\n      <td>hatinh</td>\n      <td>thachha</td>\n      <td>hatinh</td>\n    </tr>\n    <tr>\n      <th>1</th>\n      <td>Xã Ngọc SơnThạch HàTỉnh Hà Tĩnh</td>\n      <td>Ha Tinh</td>\n      <td>hatinh</td>\n      <td>hatinh</td>\n      <td>thachha</td>\n      <td>hatinh</td>\n    </tr>\n    <tr>\n      <th>2</th>\n      <td>Xã Thạch HảiThạch HàTỉnh Hà Tĩnh</td>\n      <td>Ha Tinh</td>\n      <td>hatinh</td>\n      <td>hatinh</td>\n      <td>thachha</td>\n      <td>hatinh</td>\n    </tr>\n    <tr>\n      <th>3</th>\n      <td>Xã Thạch KênhThạch HàTỉnh Hà Tĩnh</td>\n      <td>Ha Tinh</td>\n      <td>hatinh</td>\n      <td>hatinh</td>\n      <td>thachha</td>\n      <td>hatinh</td>\n    </tr>\n    <tr>\n      <th>4</th>\n      <td>Xã Thạch SơnThạch HàTỉnh Hà Tĩnh</td>\n      <td>Ha Tinh</td>\n      <td>hatinh</td>\n      <td>hatinh</td>\n      <td>thachha</td>\n      <td>hatinh</td>\n    </tr>\n    <tr>\n      <th>...</th>\n      <td>...</td>\n      <td>...</td>\n      <td>...</td>\n      <td>...</td>\n      <td>...</td>\n      <td>...</td>\n    </tr>\n    <tr>\n      <th>219</th>\n      <td>Đất Cuốc,Bắc Tân Uyên,Bình Dương</td>\n      <td>Binh Duong</td>\n      <td>binhduong</td>\n      <td>binhduong</td>\n      <td>bactanuyen</td>\n      <td>tanuyen</td>\n    </tr>\n    <tr>\n      <th>220</th>\n      <td>Hiếu Liêm,Bắc Tân Uyên,Bình Dương</td>\n      <td>Binh Duong</td>\n      <td>binhduong</td>\n      <td>binhduong</td>\n      <td>bactanuyen</td>\n      <td>tanuyen</td>\n    </tr>\n    <tr>\n      <th>221</th>\n      <td>Lạc An,Bắc Tân Uyên,Bình Dương</td>\n      <td>Binh Duong</td>\n      <td>binhduong</td>\n      <td>binhduong</td>\n      <td>bactanuyen</td>\n      <td>tanuyen</td>\n    </tr>\n    <tr>\n      <th>222</th>\n      <td>Tân Mỹ,Bắc Tân Uyên,Bình Dương</td>\n      <td>Binh Duong</td>\n      <td>binhduong</td>\n      <td>binhduong</td>\n      <td>bactanuyen</td>\n      <td>tanuyen</td>\n    </tr>\n    <tr>\n      <th>223</th>\n      <td>Thường Tân,Bắc Tân Uyên,Bình Dương</td>\n      <td>Binh Duong</td>\n      <td>binhduong</td>\n      <td>binhduong</td>\n      <td>bactanuyen</td>\n      <td>tanuyen</td>\n    </tr>\n  </tbody>\n</table>\n<p>224 rows × 6 columns</p>\n</div>"
     },
     "execution_count": 17,
     "metadata": {},
     "output_type": "execute_result"
    }
   ],
   "source": [
    "df_wrong_districts"
   ],
   "metadata": {
    "collapsed": false,
    "ExecuteTime": {
     "end_time": "2024-09-29T06:29:56.440439Z",
     "start_time": "2024-09-29T06:29:56.434011Z"
    }
   },
   "id": "b99fec6992c3ad40",
   "execution_count": 17
  },
  {
   "cell_type": "code",
   "outputs": [
    {
     "name": "stdout",
     "output_type": "stream",
     "text": [
      "<class 'pandas.core.frame.DataFrame'>\n",
      "RangeIndex: 224 entries, 0 to 223\n",
      "Data columns (total 6 columns):\n",
      " #   Column              Non-Null Count  Dtype \n",
      "---  ------              --------------  ----- \n",
      " 0   address             224 non-null    object\n",
      " 1   province_english    224 non-null    object\n",
      " 2   province_key        224 non-null    object\n",
      " 3   wrong_province_key  224 non-null    object\n",
      " 4   district_key        224 non-null    object\n",
      " 5   wrong_district_key  224 non-null    object\n",
      "dtypes: object(6)\n",
      "memory usage: 10.6+ KB\n"
     ]
    }
   ],
   "source": [
    "df_wrong_districts.info()"
   ],
   "metadata": {
    "collapsed": false,
    "ExecuteTime": {
     "end_time": "2024-09-29T06:29:56.455670Z",
     "start_time": "2024-09-29T06:29:56.441032Z"
    }
   },
   "id": "d2c05045bde11709",
   "execution_count": 18
  },
  {
   "cell_type": "code",
   "outputs": [
    {
     "data": {
      "text/plain": "Empty DataFrame\nColumns: [address, province_english, province_key, wrong_province_key, district_key, wrong_district_key]\nIndex: []",
      "text/html": "<div>\n<style scoped>\n    .dataframe tbody tr th:only-of-type {\n        vertical-align: middle;\n    }\n\n    .dataframe tbody tr th {\n        vertical-align: top;\n    }\n\n    .dataframe thead th {\n        text-align: right;\n    }\n</style>\n<table border=\"1\" class=\"dataframe\">\n  <thead>\n    <tr style=\"text-align: right;\">\n      <th></th>\n      <th>address</th>\n      <th>province_english</th>\n      <th>province_key</th>\n      <th>wrong_province_key</th>\n      <th>district_key</th>\n      <th>wrong_district_key</th>\n    </tr>\n  </thead>\n  <tbody>\n  </tbody>\n</table>\n</div>"
     },
     "execution_count": 19,
     "metadata": {},
     "output_type": "execute_result"
    }
   ],
   "source": [
    "df_wrong_districts[df_wrong_districts.wrong_district_key.isna()]"
   ],
   "metadata": {
    "collapsed": false,
    "ExecuteTime": {
     "end_time": "2024-09-29T06:29:56.459325Z",
     "start_time": "2024-09-29T06:29:56.456360Z"
    }
   },
   "id": "11d84fe09228cabb",
   "execution_count": 19
  },
  {
   "cell_type": "code",
   "outputs": [],
   "source": [
    "DICT_double_check_districts = {}\n",
    "\n",
    "for province_english in df_wrong_districts['province_english'].unique():\n",
    "    district_data = {}\n",
    "    for wrong_district_key in df_wrong_districts[(df_wrong_districts['province_english']==province_english)]['wrong_district_key'].unique():\n",
    "        tmp_district_keys = df_wrong_districts[(df_wrong_districts['province_english']==province_english) & (df_wrong_districts['wrong_district_key']==wrong_district_key)]['district_key'].unique().tolist()\n",
    "        \n",
    "        tmp_district_keys = sorted(tmp_district_keys, key=len, reverse=True)\n",
    "        district_data[wrong_district_key] = tmp_district_keys\n",
    "    \n",
    "    district_data = dict(sorted(district_data.items(), key=lambda x: len(x[0]), reverse=True))\n",
    "    DICT_double_check_districts[province_english] = district_data"
   ],
   "metadata": {
    "collapsed": false,
    "ExecuteTime": {
     "end_time": "2024-09-29T06:29:56.464754Z",
     "start_time": "2024-09-29T06:29:56.459878Z"
    }
   },
   "id": "26abf0cb9952f87b",
   "execution_count": 20
  },
  {
   "cell_type": "code",
   "outputs": [
    {
     "data": {
      "text/plain": "{'Ha Tinh': {'hatinh': ['thachha', 'locha']},\n 'Quang Ngai': {'sontinh': ['binhson', 'lyson']},\n 'Binh Duong': {'tanuyen': ['bactanuyen']},\n 'Ho Chi Minh': {'binhthanh': ['tanbinh']}}"
     },
     "execution_count": 21,
     "metadata": {},
     "output_type": "execute_result"
    }
   ],
   "source": [
    "DICT_double_check_districts"
   ],
   "metadata": {
    "collapsed": false,
    "ExecuteTime": {
     "end_time": "2024-09-29T06:29:56.467966Z",
     "start_time": "2024-09-29T06:29:56.465377Z"
    }
   },
   "id": "ea812f21a18b5e10",
   "execution_count": 21
  },
  {
   "cell_type": "markdown",
   "source": [
    "## Double check ward"
   ],
   "metadata": {
    "collapsed": false
   },
   "id": "da68e4f2aaed27dc"
  },
  {
   "cell_type": "code",
   "outputs": [
    {
     "name": "stdout",
     "output_type": "stream",
     "text": [
      "Xã Hải AnHuyện Hải HậuTỉnh Nam Định\n",
      "Xã Hải AnHuyện Hải HậuNam Định\n",
      "Thị trấn Thạch HàThạch HàTỉnh Hà Tĩnh\n",
      "Xã Ngọc SơnThạch HàTỉnh Hà Tĩnh\n",
      "Xã Thạch HảiThạch HàTỉnh Hà Tĩnh\n",
      "Xã Thạch KênhThạch HàTỉnh Hà Tĩnh\n",
      "Xã Thạch SơnThạch HàTỉnh Hà Tĩnh\n",
      "Xã Thạch LiênThạch HàTỉnh Hà Tĩnh\n",
      "Xã Đỉnh BànThạch HàTỉnh Hà Tĩnh\n",
      "Xã Việt TiếnThạch HàTỉnh Hà Tĩnh\n",
      "Xã Thạch KhêThạch HàTỉnh Hà Tĩnh\n",
      "Xã Thạch LongThạch HàTỉnh Hà Tĩnh\n",
      "Xã Thạch TrịThạch HàTỉnh Hà Tĩnh\n",
      "Xã Thạch LạcThạch HàTỉnh Hà Tĩnh\n",
      "Xã Thạch NgọcThạch HàTỉnh Hà Tĩnh\n",
      "Xã Tượng SơnThạch HàTỉnh Hà Tĩnh\n",
      "Xã Thạch VănThạch HàTỉnh Hà Tĩnh\n",
      "Xã Lưu Vĩnh SơnThạch HàTỉnh Hà Tĩnh\n",
      "Xã Thạch ThắngThạch HàTỉnh Hà Tĩnh\n",
      "Xã Thạch ĐàiThạch HàTỉnh Hà Tĩnh\n",
      "Xã Thạch HộiThạch HàTỉnh Hà Tĩnh\n",
      "Xã Tân Lâm HươngThạch HàTỉnh Hà Tĩnh\n",
      "Xã Thạch XuânThạch HàTỉnh Hà Tĩnh\n",
      "Xã Nam ĐiềnThạch HàTỉnh Hà Tĩnh\n",
      "Xã Tân LộcLộc HàTỉnh Hà Tĩnh\n",
      "Xã Hồng LộcLộc HàTỉnh Hà Tĩnh\n",
      "Xã Thịnh LộcLộc HàTỉnh Hà Tĩnh\n",
      "Xã Bình AnLộc HàTỉnh Hà Tĩnh\n",
      "Xã Ích HậuLộc HàTỉnh Hà Tĩnh\n",
      "Xã Phù LưuLộc HàTỉnh Hà Tĩnh\n",
      "Thị trấn Lộc HàLộc HàTỉnh Hà Tĩnh\n",
      "Xã Thạch MỹLộc HàTỉnh Hà Tĩnh\n",
      "Xã Thạch KimLộc HàTỉnh Hà Tĩnh\n",
      "Xã Thạch ChâuLộc HàTỉnh Hà Tĩnh\n",
      "Xã Hộ ĐộLộc HàTỉnh Hà Tĩnh\n",
      "Xã Mai PhụLộc HàTỉnh Hà Tĩnh\n",
      "Thị trấn Châu ỔBình SơnTỉnh Quảng Ngãi\n",
      "Xã Bình ThuậnBình SơnTỉnh Quảng Ngãi\n",
      "Xã Bình ThạnhBình SơnTỉnh Quảng Ngãi\n",
      "Xã Bình ĐôngBình SơnTỉnh Quảng Ngãi\n",
      "Xã Bình ChánhBình SơnTỉnh Quảng Ngãi\n",
      "Xã Bình NguyênBình SơnTỉnh Quảng Ngãi\n",
      "Xã Bình KhươngBình SơnTỉnh Quảng Ngãi\n",
      "Xã Bình TrịBình SơnTỉnh Quảng Ngãi\n",
      "Xã Bình AnBình SơnTỉnh Quảng Ngãi\n",
      "Xã Bình HảiBình SơnTỉnh Quảng Ngãi\n",
      "Xã Bình DươngBình SơnTỉnh Quảng Ngãi\n",
      "Xã Bình PhướcBình SơnTỉnh Quảng Ngãi\n",
      "Xã Bình HòaBình SơnTỉnh Quảng Ngãi\n",
      "Xã Bình TrungBình SơnTỉnh Quảng Ngãi\n",
      "Xã Bình MinhBình SơnTỉnh Quảng Ngãi\n",
      "Xã Bình LongBình SơnTỉnh Quảng Ngãi\n",
      "Xã Bình ThanhBình SơnTỉnh Quảng Ngãi\n",
      "Xã Bình ChươngBình SơnTỉnh Quảng Ngãi\n",
      "Xã Bình HiệpBình SơnTỉnh Quảng Ngãi\n",
      "Xã Bình MỹBình SơnTỉnh Quảng Ngãi\n",
      "Xã Bình Tân PhúBình SơnTỉnh Quảng Ngãi\n",
      "Xã Bình ChâuBình SơnTỉnh Quảng Ngãi\n",
      "Lý SơnTỉnh Quảng Ngãi\n",
      "Xã Tân ĐịnhBắc Tân UyênTỉnh Bình Dương\n",
      "Xã Bình MỹBắc Tân UyênTỉnh Bình Dương\n",
      "Thị trấn Tân BìnhBắc Tân UyênTỉnh Bình Dương\n",
      "Xã Tân LậpBắc Tân UyênTỉnh Bình Dương\n",
      "Thị trấn Tân ThànhBắc Tân UyênTỉnh Bình Dương\n",
      "Xã Đất CuốcBắc Tân UyênTỉnh Bình Dương\n",
      "Xã Hiếu LiêmBắc Tân UyênTỉnh Bình Dương\n",
      "Xã Lạc AnBắc Tân UyênTỉnh Bình Dương\n",
      "Xã Tân MỹBắc Tân UyênTỉnh Bình Dương\n",
      "Xã Thường TânBắc Tân UyênTỉnh Bình Dương\n",
      "Phường 4Tân BìnhThành phố Hồ Chí Minh\n",
      "Phường 10Tân BìnhThành phố Hồ Chí Minh\n",
      "Phường 8Tân BìnhThành phố Hồ Chí Minh\n",
      "Phường 9Tân BìnhThành phố Hồ Chí Minh\n",
      "Xã Tân Định,Bắc Tân Uyên,Tỉnh Bình Dương\n",
      "Xã Bình Mỹ,Bắc Tân Uyên,Tỉnh Bình Dương\n",
      "Thị trấn Tân Bình,Bắc Tân Uyên,Tỉnh Bình Dương\n",
      "Xã Tân Lập,Bắc Tân Uyên,Tỉnh Bình Dương\n",
      "Thị trấn Tân Thành,Bắc Tân Uyên,Tỉnh Bình Dương\n",
      "Xã Đất Cuốc,Bắc Tân Uyên,Tỉnh Bình Dương\n",
      "Xã Hiếu Liêm,Bắc Tân Uyên,Tỉnh Bình Dương\n",
      "Xã Lạc An,Bắc Tân Uyên,Tỉnh Bình Dương\n",
      "Xã Tân Mỹ,Bắc Tân Uyên,Tỉnh Bình Dương\n",
      "Xã Thường Tân,Bắc Tân Uyên,Tỉnh Bình Dương\n",
      "Xã Tân ĐịnhBắc Tân UyênBình Dương\n",
      "Xã Bình MỹBắc Tân UyênBình Dương\n",
      "Thị trấn Tân BìnhBắc Tân UyênBình Dương\n",
      "Xã Tân LậpBắc Tân UyênBình Dương\n",
      "Thị trấn Tân ThànhBắc Tân UyênBình Dương\n",
      "Xã Đất CuốcBắc Tân UyênBình Dương\n",
      "Xã Hiếu LiêmBắc Tân UyênBình Dương\n",
      "Xã Lạc AnBắc Tân UyênBình Dương\n",
      "Xã Tân MỹBắc Tân UyênBình Dương\n",
      "Xã Thường TânBắc Tân UyênBình Dương\n",
      "Xã Tân Định,Bắc Tân Uyên,Bình Dương\n",
      "Xã Bình Mỹ,Bắc Tân Uyên,Bình Dương\n",
      "Thị trấn Tân Bình,Bắc Tân Uyên,Bình Dương\n",
      "Xã Tân Lập,Bắc Tân Uyên,Bình Dương\n",
      "Thị trấn Tân Thành,Bắc Tân Uyên,Bình Dương\n",
      "Xã Đất Cuốc,Bắc Tân Uyên,Bình Dương\n",
      "Xã Hiếu Liêm,Bắc Tân Uyên,Bình Dương\n",
      "Xã Lạc An,Bắc Tân Uyên,Bình Dương\n",
      "Xã Tân Mỹ,Bắc Tân Uyên,Bình Dương\n",
      "Xã Thường Tân,Bắc Tân Uyên,Bình Dương\n",
      "Hải AnHuyện Hải HậuTỉnh Nam Định\n",
      "Hải AnHuyện Hải HậuNam Định\n",
      "Thạch HàThạch HàTỉnh Hà Tĩnh\n",
      "Ngọc SơnThạch HàTỉnh Hà Tĩnh\n",
      "Thạch HảiThạch HàTỉnh Hà Tĩnh\n",
      "Thạch KênhThạch HàTỉnh Hà Tĩnh\n",
      "Thạch SơnThạch HàTỉnh Hà Tĩnh\n",
      "Thạch LiênThạch HàTỉnh Hà Tĩnh\n",
      "Đỉnh BànThạch HàTỉnh Hà Tĩnh\n",
      "Việt TiếnThạch HàTỉnh Hà Tĩnh\n",
      "Thạch KhêThạch HàTỉnh Hà Tĩnh\n",
      "Thạch LongThạch HàTỉnh Hà Tĩnh\n",
      "Thạch TrịThạch HàTỉnh Hà Tĩnh\n",
      "Thạch LạcThạch HàTỉnh Hà Tĩnh\n",
      "Thạch NgọcThạch HàTỉnh Hà Tĩnh\n",
      "Tượng SơnThạch HàTỉnh Hà Tĩnh\n",
      "Thạch VănThạch HàTỉnh Hà Tĩnh\n",
      "Lưu Vĩnh SơnThạch HàTỉnh Hà Tĩnh\n",
      "Thạch ThắngThạch HàTỉnh Hà Tĩnh\n",
      "Thạch ĐàiThạch HàTỉnh Hà Tĩnh\n",
      "Thạch HộiThạch HàTỉnh Hà Tĩnh\n",
      "Tân Lâm HươngThạch HàTỉnh Hà Tĩnh\n",
      "Thạch XuânThạch HàTỉnh Hà Tĩnh\n",
      "Nam ĐiềnThạch HàTỉnh Hà Tĩnh\n",
      "Tân LộcLộc HàTỉnh Hà Tĩnh\n",
      "Hồng LộcLộc HàTỉnh Hà Tĩnh\n",
      "Thịnh LộcLộc HàTỉnh Hà Tĩnh\n",
      "Bình AnLộc HàTỉnh Hà Tĩnh\n",
      "Ích HậuLộc HàTỉnh Hà Tĩnh\n",
      "Phù LưuLộc HàTỉnh Hà Tĩnh\n",
      "Lộc HàLộc HàTỉnh Hà Tĩnh\n",
      "Thạch MỹLộc HàTỉnh Hà Tĩnh\n",
      "Thạch KimLộc HàTỉnh Hà Tĩnh\n",
      "Thạch ChâuLộc HàTỉnh Hà Tĩnh\n",
      "Hộ ĐộLộc HàTỉnh Hà Tĩnh\n",
      "Mai PhụLộc HàTỉnh Hà Tĩnh\n",
      "Châu ỔBình SơnTỉnh Quảng Ngãi\n",
      "Bình ThuậnBình SơnTỉnh Quảng Ngãi\n",
      "Bình ThạnhBình SơnTỉnh Quảng Ngãi\n",
      "Bình ĐôngBình SơnTỉnh Quảng Ngãi\n",
      "Bình ChánhBình SơnTỉnh Quảng Ngãi\n",
      "Bình NguyênBình SơnTỉnh Quảng Ngãi\n",
      "Bình KhươngBình SơnTỉnh Quảng Ngãi\n",
      "Bình TrịBình SơnTỉnh Quảng Ngãi\n",
      "Bình AnBình SơnTỉnh Quảng Ngãi\n",
      "Bình HảiBình SơnTỉnh Quảng Ngãi\n",
      "Bình DươngBình SơnTỉnh Quảng Ngãi\n",
      "Bình PhướcBình SơnTỉnh Quảng Ngãi\n",
      "Bình HòaBình SơnTỉnh Quảng Ngãi\n",
      "Bình TrungBình SơnTỉnh Quảng Ngãi\n",
      "Bình MinhBình SơnTỉnh Quảng Ngãi\n",
      "Bình LongBình SơnTỉnh Quảng Ngãi\n",
      "Bình ThanhBình SơnTỉnh Quảng Ngãi\n",
      "Bình ChươngBình SơnTỉnh Quảng Ngãi\n",
      "Bình HiệpBình SơnTỉnh Quảng Ngãi\n",
      "Bình MỹBình SơnTỉnh Quảng Ngãi\n",
      "Bình Tân PhúBình SơnTỉnh Quảng Ngãi\n",
      "Bình ChâuBình SơnTỉnh Quảng Ngãi\n",
      "Lý SơnTỉnh Quảng Ngãi\n",
      "Tân ĐịnhBắc Tân UyênTỉnh Bình Dương\n",
      "Bình MỹBắc Tân UyênTỉnh Bình Dương\n",
      "Tân BìnhBắc Tân UyênTỉnh Bình Dương\n",
      "Tân LậpBắc Tân UyênTỉnh Bình Dương\n",
      "Tân ThànhBắc Tân UyênTỉnh Bình Dương\n",
      "Đất CuốcBắc Tân UyênTỉnh Bình Dương\n",
      "Hiếu LiêmBắc Tân UyênTỉnh Bình Dương\n",
      "Lạc AnBắc Tân UyênTỉnh Bình Dương\n",
      "Tân MỹBắc Tân UyênTỉnh Bình Dương\n",
      "Thường TânBắc Tân UyênTỉnh Bình Dương\n",
      "Phường 4Tân BìnhThành phố Hồ Chí Minh\n",
      "Phường 10Tân BìnhThành phố Hồ Chí Minh\n",
      "Phường 8Tân BìnhThành phố Hồ Chí Minh\n",
      "Phường 9Tân BìnhThành phố Hồ Chí Minh\n",
      "Tân Định,Bắc Tân Uyên,Tỉnh Bình Dương\n",
      "Bình Mỹ,Bắc Tân Uyên,Tỉnh Bình Dương\n",
      "Tân Bình,Bắc Tân Uyên,Tỉnh Bình Dương\n",
      "Tân Lập,Bắc Tân Uyên,Tỉnh Bình Dương\n",
      "Tân Thành,Bắc Tân Uyên,Tỉnh Bình Dương\n",
      "Đất Cuốc,Bắc Tân Uyên,Tỉnh Bình Dương\n",
      "Hiếu Liêm,Bắc Tân Uyên,Tỉnh Bình Dương\n",
      "Lạc An,Bắc Tân Uyên,Tỉnh Bình Dương\n",
      "Tân Mỹ,Bắc Tân Uyên,Tỉnh Bình Dương\n",
      "Thường Tân,Bắc Tân Uyên,Tỉnh Bình Dương\n",
      "Tân ĐịnhBắc Tân UyênBình Dương\n",
      "Bình MỹBắc Tân UyênBình Dương\n",
      "Tân BìnhBắc Tân UyênBình Dương\n",
      "Tân LậpBắc Tân UyênBình Dương\n",
      "Tân ThànhBắc Tân UyênBình Dương\n",
      "Đất CuốcBắc Tân UyênBình Dương\n",
      "Hiếu LiêmBắc Tân UyênBình Dương\n",
      "Lạc AnBắc Tân UyênBình Dương\n",
      "Tân MỹBắc Tân UyênBình Dương\n",
      "Thường TânBắc Tân UyênBình Dương\n",
      "Tân Định,Bắc Tân Uyên,Bình Dương\n",
      "Bình Mỹ,Bắc Tân Uyên,Bình Dương\n",
      "Tân Bình,Bắc Tân Uyên,Bình Dương\n",
      "Tân Lập,Bắc Tân Uyên,Bình Dương\n",
      "Tân Thành,Bắc Tân Uyên,Bình Dương\n",
      "Đất Cuốc,Bắc Tân Uyên,Bình Dương\n",
      "Hiếu Liêm,Bắc Tân Uyên,Bình Dương\n",
      "Lạc An,Bắc Tân Uyên,Bình Dương\n",
      "Tân Mỹ,Bắc Tân Uyên,Bình Dương\n",
      "Thường Tân,Bắc Tân Uyên,Bình Dương\n"
     ]
    }
   ],
   "source": [
    "wrong_wards = []\n",
    "for address_col in address_cols:\n",
    "    for row in df.itertuples():\n",
    "        address = getattr(row, address_col)\n",
    "        \n",
    "        try:\n",
    "        \n",
    "            unit = parse_address(address, level=3)\n",
    "        \n",
    "            data = {\n",
    "                'address': address,\n",
    "                'province_english': row.province_english,\n",
    "                'province_key': row.province_key,\n",
    "                'wrong_province_key': unit.province_key,\n",
    "                'district_english': row.district_english,\n",
    "                'district_key': row.district_key,\n",
    "                'wrong_district_key': unit.district_key,\n",
    "                'ward_key': row.ward_key,\n",
    "                'wrong_ward_key': unit.ward_key,\n",
    "            }\n",
    "            \n",
    "            if unit.province == None:\n",
    "                print(address)\n",
    "                wrong_wards.append(data)\n",
    "                \n",
    "            elif unit.district == None:\n",
    "                print(address)\n",
    "                wrong_wards.append(data)\n",
    "                \n",
    "            elif (unit.ward == None) and (unit.district_key not in ['bachlongvi', 'conco', 'hoangsa', 'lyson', 'condao']):\n",
    "                print(address)\n",
    "                wrong_wards.append(data)\n",
    "                    \n",
    "            elif (unit.ward != row.ward) and (unit.district_key not in ['bachlongvi', 'conco', 'hoangsa', 'lyson', 'condao']):\n",
    "                print(address)\n",
    "                wrong_wards.append(data)\n",
    "                \n",
    "                \n",
    "        except Exception as e:\n",
    "            print('ERROR address:', address)\n",
    "            print('ERROR info:', e)"
   ],
   "metadata": {
    "collapsed": false,
    "ExecuteTime": {
     "end_time": "2024-09-29T06:30:58.053170Z",
     "start_time": "2024-09-29T06:29:56.468555Z"
    }
   },
   "id": "48f7e7e2506dd04e",
   "execution_count": 22
  },
  {
   "cell_type": "code",
   "outputs": [],
   "source": [
    "df_wrong_wards = pd.DataFrame(wrong_wards)"
   ],
   "metadata": {
    "collapsed": false,
    "ExecuteTime": {
     "end_time": "2024-09-29T06:30:58.057812Z",
     "start_time": "2024-09-29T06:30:58.054425Z"
    }
   },
   "id": "32691a48ffa8b1dc",
   "execution_count": 23
  },
  {
   "cell_type": "code",
   "outputs": [],
   "source": [
    "df_wrong_wards = df_wrong_wards[(df_wrong_wards.province_key==df_wrong_wards.wrong_province_key) & (df_wrong_wards.district_key==df_wrong_wards.wrong_district_key)]"
   ],
   "metadata": {
    "collapsed": false,
    "ExecuteTime": {
     "end_time": "2024-09-29T06:30:58.061317Z",
     "start_time": "2024-09-29T06:30:58.058402Z"
    }
   },
   "id": "f9b5a4bd5e66946",
   "execution_count": 24
  },
  {
   "cell_type": "code",
   "outputs": [
    {
     "data": {
      "text/plain": "Empty DataFrame\nColumns: [address, province_english, province_key, wrong_province_key, district_english, district_key, wrong_district_key, ward_key, wrong_ward_key]\nIndex: []",
      "text/html": "<div>\n<style scoped>\n    .dataframe tbody tr th:only-of-type {\n        vertical-align: middle;\n    }\n\n    .dataframe tbody tr th {\n        vertical-align: top;\n    }\n\n    .dataframe thead th {\n        text-align: right;\n    }\n</style>\n<table border=\"1\" class=\"dataframe\">\n  <thead>\n    <tr style=\"text-align: right;\">\n      <th></th>\n      <th>address</th>\n      <th>province_english</th>\n      <th>province_key</th>\n      <th>wrong_province_key</th>\n      <th>district_english</th>\n      <th>district_key</th>\n      <th>wrong_district_key</th>\n      <th>ward_key</th>\n      <th>wrong_ward_key</th>\n    </tr>\n  </thead>\n  <tbody>\n  </tbody>\n</table>\n</div>"
     },
     "execution_count": 25,
     "metadata": {},
     "output_type": "execute_result"
    }
   ],
   "source": [
    "df_wrong_wards[df_wrong_wards.wrong_ward_key.isna()]"
   ],
   "metadata": {
    "collapsed": false,
    "ExecuteTime": {
     "end_time": "2024-09-29T06:30:58.065989Z",
     "start_time": "2024-09-29T06:30:58.061856Z"
    }
   },
   "id": "1e20d61d4610be93",
   "execution_count": 25
  },
  {
   "cell_type": "code",
   "outputs": [
    {
     "data": {
      "text/plain": "                                 address province_english province_key  \\\n0    Xã Hải AnHuyện Hải HậuTỉnh Nam Định         Nam Dinh      namdinh   \n1         Xã Hải AnHuyện Hải HậuNam Định         Nam Dinh      namdinh   \n103     Hải AnHuyện Hải HậuTỉnh Nam Định         Nam Dinh      namdinh   \n104          Hải AnHuyện Hải HậuNam Định         Nam Dinh      namdinh   \n\n    wrong_province_key district_english district_key wrong_district_key  \\\n0              namdinh          Hai Hau       haihau             haihau   \n1              namdinh          Hai Hau       haihau             haihau   \n103            namdinh          Hai Hau       haihau             haihau   \n104            namdinh          Hai Hau       haihau             haihau   \n\n    ward_key wrong_ward_key  \n0      haian         haianh  \n1      haian         haianh  \n103    haian         haianh  \n104    haian         haianh  ",
      "text/html": "<div>\n<style scoped>\n    .dataframe tbody tr th:only-of-type {\n        vertical-align: middle;\n    }\n\n    .dataframe tbody tr th {\n        vertical-align: top;\n    }\n\n    .dataframe thead th {\n        text-align: right;\n    }\n</style>\n<table border=\"1\" class=\"dataframe\">\n  <thead>\n    <tr style=\"text-align: right;\">\n      <th></th>\n      <th>address</th>\n      <th>province_english</th>\n      <th>province_key</th>\n      <th>wrong_province_key</th>\n      <th>district_english</th>\n      <th>district_key</th>\n      <th>wrong_district_key</th>\n      <th>ward_key</th>\n      <th>wrong_ward_key</th>\n    </tr>\n  </thead>\n  <tbody>\n    <tr>\n      <th>0</th>\n      <td>Xã Hải AnHuyện Hải HậuTỉnh Nam Định</td>\n      <td>Nam Dinh</td>\n      <td>namdinh</td>\n      <td>namdinh</td>\n      <td>Hai Hau</td>\n      <td>haihau</td>\n      <td>haihau</td>\n      <td>haian</td>\n      <td>haianh</td>\n    </tr>\n    <tr>\n      <th>1</th>\n      <td>Xã Hải AnHuyện Hải HậuNam Định</td>\n      <td>Nam Dinh</td>\n      <td>namdinh</td>\n      <td>namdinh</td>\n      <td>Hai Hau</td>\n      <td>haihau</td>\n      <td>haihau</td>\n      <td>haian</td>\n      <td>haianh</td>\n    </tr>\n    <tr>\n      <th>103</th>\n      <td>Hải AnHuyện Hải HậuTỉnh Nam Định</td>\n      <td>Nam Dinh</td>\n      <td>namdinh</td>\n      <td>namdinh</td>\n      <td>Hai Hau</td>\n      <td>haihau</td>\n      <td>haihau</td>\n      <td>haian</td>\n      <td>haianh</td>\n    </tr>\n    <tr>\n      <th>104</th>\n      <td>Hải AnHuyện Hải HậuNam Định</td>\n      <td>Nam Dinh</td>\n      <td>namdinh</td>\n      <td>namdinh</td>\n      <td>Hai Hau</td>\n      <td>haihau</td>\n      <td>haihau</td>\n      <td>haian</td>\n      <td>haianh</td>\n    </tr>\n  </tbody>\n</table>\n</div>"
     },
     "execution_count": 26,
     "metadata": {},
     "output_type": "execute_result"
    }
   ],
   "source": [
    "df_wrong_wards"
   ],
   "metadata": {
    "collapsed": false,
    "ExecuteTime": {
     "end_time": "2024-09-29T06:30:58.070881Z",
     "start_time": "2024-09-29T06:30:58.066776Z"
    }
   },
   "id": "b7cd59a7463c8fed",
   "execution_count": 26
  },
  {
   "cell_type": "code",
   "outputs": [
    {
     "name": "stdout",
     "output_type": "stream",
     "text": [
      "<class 'pandas.core.frame.DataFrame'>\n",
      "Index: 4 entries, 0 to 104\n",
      "Data columns (total 9 columns):\n",
      " #   Column              Non-Null Count  Dtype \n",
      "---  ------              --------------  ----- \n",
      " 0   address             4 non-null      object\n",
      " 1   province_english    4 non-null      object\n",
      " 2   province_key        4 non-null      object\n",
      " 3   wrong_province_key  4 non-null      object\n",
      " 4   district_english    4 non-null      object\n",
      " 5   district_key        4 non-null      object\n",
      " 6   wrong_district_key  4 non-null      object\n",
      " 7   ward_key            4 non-null      object\n",
      " 8   wrong_ward_key      4 non-null      object\n",
      "dtypes: object(9)\n",
      "memory usage: 320.0+ bytes\n"
     ]
    }
   ],
   "source": [
    "df_wrong_wards.info()"
   ],
   "metadata": {
    "collapsed": false,
    "ExecuteTime": {
     "end_time": "2024-09-29T06:30:58.075660Z",
     "start_time": "2024-09-29T06:30:58.071465Z"
    }
   },
   "id": "3ff534f63e188a02",
   "execution_count": 27
  },
  {
   "cell_type": "code",
   "outputs": [],
   "source": [
    "from vietadminunits.parse import DICT_ward_map, DICT_duplicated_ward_keys"
   ],
   "metadata": {
    "collapsed": false
   },
   "id": "b22a4d48a5f13b8a",
   "execution_count": null
  },
  {
   "cell_type": "code",
   "outputs": [],
   "source": [
    "'yenvien' in DICT_ward_map['Ha Noi']['Gia Lam']"
   ],
   "metadata": {
    "collapsed": false
   },
   "id": "64b54f46c615c69e",
   "execution_count": null
  },
  {
   "cell_type": "code",
   "outputs": [],
   "source": [
    "DICT_ward_map['Lao Cai']['Sa Pa']"
   ],
   "metadata": {
    "collapsed": false
   },
   "id": "ffdc40381963d0a",
   "execution_count": null
  },
  {
   "cell_type": "code",
   "outputs": [],
   "source": [
    "DICT_duplicated_ward_keys['Ha Noi']['Gia Lam']"
   ],
   "metadata": {
    "collapsed": false
   },
   "id": "ecff35f7a44f9c2c",
   "execution_count": null
  },
  {
   "cell_type": "code",
   "outputs": [],
   "source": [
    "DICT_double_check_wards = {}\n",
    "\n",
    "for province_english in df_wrong_wards.province_english.unique():\n",
    "    district_data = {}\n",
    "    tmp_df_province = df_wrong_wards[df_wrong_wards.province_english ==province_english]\n",
    "    for district_english in tmp_df_province.district_english.unique():\n",
    "        tmp_df_district = tmp_df_province[tmp_df_province.district_english == district_english]\n",
    "        ward_data = {}\n",
    "        for wrong_ward_key in tmp_df_district.wrong_ward_key.unique():\n",
    "            ward_data[wrong_ward_key] = tmp_df_district[tmp_df_district.wrong_ward_key == wrong_ward_key]['ward_key'].unique().tolist()\n",
    "        \n",
    "        ward_data = dict(sorted(ward_data.items(), key=lambda x: len(x[0]), reverse=True))\n",
    "        district_data[district_english] = ward_data\n",
    "    \n",
    "    DICT_double_check_wards[province_english] = district_data"
   ],
   "metadata": {
    "collapsed": false,
    "ExecuteTime": {
     "end_time": "2024-09-29T06:31:15.014819Z",
     "start_time": "2024-09-29T06:31:15.000389Z"
    }
   },
   "id": "fdc854b46800a329",
   "execution_count": 28
  },
  {
   "cell_type": "code",
   "outputs": [
    {
     "data": {
      "text/plain": "{'Nam Dinh': {'Hai Hau': {'haianh': ['haian']}}}"
     },
     "execution_count": 29,
     "metadata": {},
     "output_type": "execute_result"
    }
   ],
   "source": [
    "DICT_double_check_wards"
   ],
   "metadata": {
    "collapsed": false,
    "ExecuteTime": {
     "end_time": "2024-09-29T06:31:15.551825Z",
     "start_time": "2024-09-29T06:31:15.547515Z"
    }
   },
   "id": "db16837019ae5c66",
   "execution_count": 29
  },
  {
   "cell_type": "code",
   "outputs": [],
   "source": [
    "with open('../../vietadminunits/data/parse.pkl', 'rb') as f:\n",
    "    data = pickle.load(f)\n",
    "\n",
    "data['DICT_double_check_provinces'] = DICT_double_check_provinces\n",
    "data['DICT_double_check_districts'] = DICT_double_check_districts\n",
    "data['DICT_double_check_wards'] = DICT_double_check_wards\n",
    "\n",
    "with open('../../vietadminunits/data/parse.pkl', 'wb') as f:\n",
    "    pickle.dump(data, f)"
   ],
   "metadata": {
    "collapsed": false,
    "ExecuteTime": {
     "end_time": "2024-09-29T14:12:30.829325Z",
     "start_time": "2024-09-29T14:12:30.741642Z"
    }
   },
   "id": "f13e20d805caa4ea",
   "execution_count": 34
  },
  {
   "cell_type": "code",
   "outputs": [],
   "source": [],
   "metadata": {
    "collapsed": false
   },
   "id": "e86e9d88bb20bcd4"
  }
 ],
 "metadata": {
  "kernelspec": {
   "display_name": "Python 3",
   "language": "python",
   "name": "python3"
  },
  "language_info": {
   "codemirror_mode": {
    "name": "ipython",
    "version": 2
   },
   "file_extension": ".py",
   "mimetype": "text/x-python",
   "name": "python",
   "nbconvert_exporter": "python",
   "pygments_lexer": "ipython2",
   "version": "2.7.6"
  }
 },
 "nbformat": 4,
 "nbformat_minor": 5
}
