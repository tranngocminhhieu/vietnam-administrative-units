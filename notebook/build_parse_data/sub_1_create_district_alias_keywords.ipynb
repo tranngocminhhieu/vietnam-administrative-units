{
 "cells": [
  {
   "cell_type": "markdown",
   "source": [
    "# Find district alias keywords\n",
    "\n",
    "Data source: [Danh sách các đơn vị hành chính cấp huyện không còn tồn tại](https://vi.wikipedia.org/wiki/Danh_s%C3%A1ch_%C4%91%C6%A1n_v%E1%BB%8B_h%C3%A0nh_ch%C3%ADnh_c%E1%BA%A5p_huy%E1%BB%87n_c%E1%BB%A7a_Vi%E1%BB%87t_Nam#Danh_s%C3%A1ch_c%C3%A1c_%C4%91%C6%A1n_v%E1%BB%8B_h%C3%A0nh_ch%C3%ADnh_c%E1%BA%A5p_huy%E1%BB%87n_kh%C3%B4ng_c%C3%B2n_t%E1%BB%93n_t%E1%BA%A1i)"
   ],
   "metadata": {
    "collapsed": false
   },
   "id": "35f5dbc437ab5bad"
  },
  {
   "cell_type": "code",
   "execution_count": 2,
   "id": "initial_id",
   "metadata": {
    "collapsed": true,
    "ExecuteTime": {
     "end_time": "2024-09-18T15:41:29.339430Z",
     "start_time": "2024-09-18T15:41:28.427171Z"
    }
   },
   "outputs": [],
   "source": [
    "from vietadminunits import parse_address\n",
    "import pandas as pd\n",
    "import re\n",
    "from unidecode import unidecode"
   ]
  },
  {
   "cell_type": "code",
   "outputs": [],
   "source": [
    "def check_containing_keyword(district, change):\n",
    "    if change.count(district) == 2:\n",
    "        return 1\n",
    "    else:\n",
    "        return 0"
   ],
   "metadata": {
    "collapsed": false,
    "ExecuteTime": {
     "end_time": "2024-09-18T15:41:29.342096Z",
     "start_time": "2024-09-18T15:41:29.340435Z"
    }
   },
   "id": "720868c9bc5d8b74",
   "execution_count": 3
  },
  {
   "cell_type": "code",
   "outputs": [],
   "source": [
    "df = pd.read_csv('../../data/input/district_change.csv')"
   ],
   "metadata": {
    "collapsed": false,
    "ExecuteTime": {
     "end_time": "2024-09-18T15:41:29.354624Z",
     "start_time": "2024-09-18T15:41:29.342695Z"
    }
   },
   "id": "19018c4a3a7f3491",
   "execution_count": 4
  },
  {
   "cell_type": "code",
   "outputs": [
    {
     "data": {
      "text/plain": "              province    old_district    year  \\\n0             An Giang         Huệ Đức  1977.0   \n1             An Giang         Bảy Núi  1979.0   \n2             An Giang        Phú Châu  1991.0   \n3    Bà Rịa – Vũng Tàu      Châu Thành  1994.0   \n4    Bà Rịa – Vũng Tàu        Long Đất  2003.0   \n..                 ...             ...     ...   \n132          Vĩnh Long        Cái Nhum  1977.0   \n133          Vĩnh Long  Châu Thành Tây  1977.0   \n134          Vĩnh Phúc        Yên Lãng  1977.0   \n135          Vĩnh Phúc        Vĩnh Lạc  1995.0   \n136            Yên Bái        không có     NaN   \n\n                                                change  \n0                sáp nhập toàn bộ vào huyện Châu Thành  \n1     chia tách thành huyện Tri Tôn và huyện Tịnh Biên  \n2       chia tách thành huyện An Phú và huyện Tân Châu  \n3    chia tách thành thị xã Bà Rịa, huyện Tân Thành...  \n4      chia tách thành huyện Long Điền và huyện Đất Đỏ  \n..                                                 ...  \n132  sáp nhập với huyện Châu Thành Tây thành huyện ...  \n133    sáp nhập với huyện Cái Nhum thành huyện Long Hồ  \n134  sáp nhập với huyện Bình Xuyên thành huyện Mê Linh  \n135  chia tách thành huyện Vĩnh Tường và huyện Yên Lạc  \n136                                                NaN  \n\n[137 rows x 4 columns]",
      "text/html": "<div>\n<style scoped>\n    .dataframe tbody tr th:only-of-type {\n        vertical-align: middle;\n    }\n\n    .dataframe tbody tr th {\n        vertical-align: top;\n    }\n\n    .dataframe thead th {\n        text-align: right;\n    }\n</style>\n<table border=\"1\" class=\"dataframe\">\n  <thead>\n    <tr style=\"text-align: right;\">\n      <th></th>\n      <th>province</th>\n      <th>old_district</th>\n      <th>year</th>\n      <th>change</th>\n    </tr>\n  </thead>\n  <tbody>\n    <tr>\n      <th>0</th>\n      <td>An Giang</td>\n      <td>Huệ Đức</td>\n      <td>1977.0</td>\n      <td>sáp nhập toàn bộ vào huyện Châu Thành</td>\n    </tr>\n    <tr>\n      <th>1</th>\n      <td>An Giang</td>\n      <td>Bảy Núi</td>\n      <td>1979.0</td>\n      <td>chia tách thành huyện Tri Tôn và huyện Tịnh Biên</td>\n    </tr>\n    <tr>\n      <th>2</th>\n      <td>An Giang</td>\n      <td>Phú Châu</td>\n      <td>1991.0</td>\n      <td>chia tách thành huyện An Phú và huyện Tân Châu</td>\n    </tr>\n    <tr>\n      <th>3</th>\n      <td>Bà Rịa – Vũng Tàu</td>\n      <td>Châu Thành</td>\n      <td>1994.0</td>\n      <td>chia tách thành thị xã Bà Rịa, huyện Tân Thành...</td>\n    </tr>\n    <tr>\n      <th>4</th>\n      <td>Bà Rịa – Vũng Tàu</td>\n      <td>Long Đất</td>\n      <td>2003.0</td>\n      <td>chia tách thành huyện Long Điền và huyện Đất Đỏ</td>\n    </tr>\n    <tr>\n      <th>...</th>\n      <td>...</td>\n      <td>...</td>\n      <td>...</td>\n      <td>...</td>\n    </tr>\n    <tr>\n      <th>132</th>\n      <td>Vĩnh Long</td>\n      <td>Cái Nhum</td>\n      <td>1977.0</td>\n      <td>sáp nhập với huyện Châu Thành Tây thành huyện ...</td>\n    </tr>\n    <tr>\n      <th>133</th>\n      <td>Vĩnh Long</td>\n      <td>Châu Thành Tây</td>\n      <td>1977.0</td>\n      <td>sáp nhập với huyện Cái Nhum thành huyện Long Hồ</td>\n    </tr>\n    <tr>\n      <th>134</th>\n      <td>Vĩnh Phúc</td>\n      <td>Yên Lãng</td>\n      <td>1977.0</td>\n      <td>sáp nhập với huyện Bình Xuyên thành huyện Mê Linh</td>\n    </tr>\n    <tr>\n      <th>135</th>\n      <td>Vĩnh Phúc</td>\n      <td>Vĩnh Lạc</td>\n      <td>1995.0</td>\n      <td>chia tách thành huyện Vĩnh Tường và huyện Yên Lạc</td>\n    </tr>\n    <tr>\n      <th>136</th>\n      <td>Yên Bái</td>\n      <td>không có</td>\n      <td>NaN</td>\n      <td>NaN</td>\n    </tr>\n  </tbody>\n</table>\n<p>137 rows × 4 columns</p>\n</div>"
     },
     "execution_count": 5,
     "metadata": {},
     "output_type": "execute_result"
    }
   ],
   "source": [
    "df"
   ],
   "metadata": {
    "collapsed": false,
    "ExecuteTime": {
     "end_time": "2024-09-18T15:41:29.367737Z",
     "start_time": "2024-09-18T15:41:29.356071Z"
    }
   },
   "id": "63790dc5a3f5f623",
   "execution_count": 5
  },
  {
   "cell_type": "code",
   "outputs": [],
   "source": [
    "df.dropna(inplace=True)"
   ],
   "metadata": {
    "collapsed": false,
    "ExecuteTime": {
     "end_time": "2024-09-18T15:41:30.497648Z",
     "start_time": "2024-09-18T15:41:30.493930Z"
    }
   },
   "id": "6846d2ed541f5b15",
   "execution_count": 6
  },
  {
   "cell_type": "code",
   "outputs": [],
   "source": [
    "df['containing_keyword_two_times'] = df.apply(lambda x: check_containing_keyword(x.old_district, x.change), axis=1)"
   ],
   "metadata": {
    "collapsed": false,
    "ExecuteTime": {
     "end_time": "2024-09-18T15:41:30.983275Z",
     "start_time": "2024-09-18T15:41:30.977285Z"
    }
   },
   "id": "fc14c0b2dc64b82",
   "execution_count": 7
  },
  {
   "cell_type": "code",
   "outputs": [],
   "source": [
    "df_change = df[(df.change.fillna('').str.contains('sáp nhập|đổi tên')) & ~(df.change.fillna('').str.contains('một phần'))].copy()"
   ],
   "metadata": {
    "collapsed": false,
    "ExecuteTime": {
     "end_time": "2024-09-18T15:41:32.155117Z",
     "start_time": "2024-09-18T15:41:32.129585Z"
    }
   },
   "id": "ebd0d929b2ac3b04",
   "execution_count": 8
  },
  {
   "cell_type": "code",
   "outputs": [
    {
     "data": {
      "text/plain": "              province     old_district    year  \\\n0             An Giang          Huệ Đức  1977.0   \n5    Bà Rịa – Vũng Tàu        Tân Thành  2018.0   \n7              Bắc Kạn           Chợ Rã  1984.0   \n9             Bạc Liêu         Minh Hải  1984.0   \n14          Bình Dương       Châu Thành  1977.0   \n15          Bình Dương        Lái Thiêu  1977.0   \n18          Bình Phước       Phước Bình  1977.0   \n23              Cà Mau        Ngọc Hiển  1984.0   \n26            Cao Bằng         Phục Hòa  2020.0   \n27            Cao Bằng       Quảng Uyên  2020.0   \n28            Cao Bằng       Thông Nông  2020.0   \n29            Cao Bằng         Trà Lĩnh  2020.0   \n33           Điện Biên         Lai Châu  2005.0   \n34           Điện Biên        Mường Lay  2005.0   \n35            Đồng Nai          Vĩnh An  1994.0   \n37           Đồng Tháp       Thạnh Hưng  1994.0   \n42              Hà Nam           Hà Nam  1996.0   \n43              Hà Nội          Đa Phúc  1977.0   \n44              Hà Nội          Kim Anh  1977.0   \n52           Hải Phòng           Cát Bà  1977.0   \n57           Hậu Giang         Mỹ Thanh  1982.0   \n59           Hậu Giang         Tân Hiệp  2006.0   \n60            Hòa Bình           Kỳ Sơn  2019.0   \n67           Khánh Hòa      Khánh Xương  1977.0   \n69          Kiên Giang          Hà Tiên  1999.0   \n74             Lào Cai        Cam Đường  2002.0   \n75             Long An         Tân Châu  1980.0   \n80            Nam Định           Mỹ Lộc  2024.0   \n82           Ninh Bình        Gia Khánh  1977.0   \n83           Ninh Bình       Hoàng Long  1993.0   \n84           Ninh Bình         Tam Điệp  1994.0   \n91             Phú Thọ        Sông Thao  2002.0   \n97           Quảng Nam            Giằng  1999.0   \n102         Quảng Ngãi          Tây Trà  2020.0   \n103         Quảng Ninh         Hồng Gai  1993.0   \n104         Quảng Ninh          Cẩm Phả  1994.0   \n105         Quảng Ninh         Hải Ninh  1998.0   \n107         Quảng Ninh         Yên Hưng  2011.0   \n108         Quảng Ninh         Hoành Bồ  2019.0   \n113           Tây Ninh       Phú Khương  1979.0   \n116          Thanh Hóa       Đông Thiệu  1982.0   \n120          Thanh Hóa        Thiệu Yên  1996.0   \n121          Thanh Hóa         Tĩnh Gia  2020.0   \n125    Tp. Hồ Chí Minh        Duyên Hải  1991.0   \n127    Tp. Hồ Chí Minh           Quận 2  2020.0   \n128    Tp. Hồ Chí Minh           Quận 9  2020.0   \n129    Tp. Hồ Chí Minh   Thủ Đức (quận)  2020.0   \n130           Trà Vinh  Châu Thành Đông  1977.0   \n132          Vĩnh Long         Cái Nhum  1977.0   \n133          Vĩnh Long   Châu Thành Tây  1977.0   \n134          Vĩnh Phúc         Yên Lãng  1977.0   \n\n                                                change  \\\n0                sáp nhập toàn bộ vào huyện Châu Thành   \n5        thành lập thị xã, đổi tên thành thị xã Phú Mỹ   \n7                            đổi tên thành huyện Ba Bể   \n9                        đổi tên thành thị xã Bạc Liêu   \n14   sáp nhập vào huyện Tân Uyên và thị xã Thủ Dầu Một   \n15       sáp nhập với huyện Dĩ An thành huyện Thuận An   \n18   sáp nhập với huyện Bù Đăng và huyện Bù Đốp thà...   \n23                         đổi tên thành huyện Đầm Dơi   \n26   sáp nhập với huyện Quảng Uyên thành huyện Quản...   \n27   sáp nhập với huyện Phục Hòa thành huyện Quảng Hòa   \n28                         sáp nhập vào huyện Hà Quảng   \n29                      sáp nhập vào huyện Trùng Khánh   \n33                      đổi tên thành thị xã Mường Lay   \n34                       đổi tên thành huyện Mường Chà   \n35                        đổi tên thành huyện Vĩnh Cửu   \n37                          đổi tên thành huyện Lấp Vò   \n42                         đổi tên thành thị xã Phủ Lý   \n43      sáp nhập với huyện Kim Anh thành huyện Sóc Sơn   \n44      sáp nhập với huyện Đa Phúc thành huyện Sóc Sơn   \n52                          sáp nhập vào huyện Cát Hải   \n57                        đổi tên thành huyện Vị Thanh   \n59                        đổi tên thành thị xã Ngã Bảy   \n60                     sáp nhập vào thành phố Hòa Bình   \n67   sáp nhập với huyện Khánh Vĩnh thành huyện Diên...   \n69                      đổi tên thành huyện Kiên Lương   \n74                         sáp nhập với thị xã Lào Cai   \n75                          đổi tên thành huyện Vàm Cỏ   \n80                     sáp nhập vào thành phố Nam Định   \n82    sáp nhập với thị xã Ninh Bình thành huyện Hoa Lư   \n83                        đổi tên thành huyện Nho Quan   \n84                          đổi tên thành huyện Yên Mô   \n91                         đổi tên thành huyện Cẩm Khê   \n97                       đổi tên thành huyện Nam Giang   \n102                        sáp nhập vào huyện Trà Bồng   \n103  thành lập thành phố, đổi tên thành thành phố H...   \n104                        đổi tên thành huyện Vân Đồn   \n105    thành lập thị xã, đổi tên thành thị xã Móng Cái   \n107   thành lập thị xã, đổi tên thành thị xã Quảng Yên   \n108                     sáp nhập vào thành phố Hạ Long   \n113                      đổi tên thành huyện Hòa Thành   \n116                       đổi tên thành huyện Đông Sơn   \n120                       đổi tên thành huyện Yên Định   \n121    thành lập thị xã, đổi tên thành thị xã Nghi Sơn   \n125                        đổi tên thành huyện Cần Giờ   \n127  sáp nhập với Quận 9 và quận Thủ Đức thành thàn...   \n128  sáp nhập với Quận 2 và quận Thủ Đức thành thàn...   \n129  sáp nhập với Quận 2 và Quận 9 thành thành phố ...   \n130    sáp nhập vào huyện Càng Long và huyện Cầu Ngang   \n132  sáp nhập với huyện Châu Thành Tây thành huyện ...   \n133    sáp nhập với huyện Cái Nhum thành huyện Long Hồ   \n134  sáp nhập với huyện Bình Xuyên thành huyện Mê Linh   \n\n     containing_keyword_two_times  \n0                               0  \n5                               0  \n7                               0  \n9                               0  \n14                              0  \n15                              0  \n18                              0  \n23                              0  \n26                              0  \n27                              0  \n28                              0  \n29                              0  \n33                              0  \n34                              0  \n35                              0  \n37                              0  \n42                              0  \n43                              0  \n44                              0  \n52                              0  \n57                              0  \n59                              0  \n60                              0  \n67                              0  \n69                              0  \n74                              0  \n75                              0  \n80                              0  \n82                              0  \n83                              0  \n84                              0  \n91                              0  \n97                              0  \n102                             0  \n103                             0  \n104                             0  \n105                             0  \n107                             0  \n108                             0  \n113                             0  \n116                             0  \n120                             0  \n121                             0  \n125                             0  \n127                             0  \n128                             0  \n129                             0  \n130                             0  \n132                             0  \n133                             0  \n134                             0  ",
      "text/html": "<div>\n<style scoped>\n    .dataframe tbody tr th:only-of-type {\n        vertical-align: middle;\n    }\n\n    .dataframe tbody tr th {\n        vertical-align: top;\n    }\n\n    .dataframe thead th {\n        text-align: right;\n    }\n</style>\n<table border=\"1\" class=\"dataframe\">\n  <thead>\n    <tr style=\"text-align: right;\">\n      <th></th>\n      <th>province</th>\n      <th>old_district</th>\n      <th>year</th>\n      <th>change</th>\n      <th>containing_keyword_two_times</th>\n    </tr>\n  </thead>\n  <tbody>\n    <tr>\n      <th>0</th>\n      <td>An Giang</td>\n      <td>Huệ Đức</td>\n      <td>1977.0</td>\n      <td>sáp nhập toàn bộ vào huyện Châu Thành</td>\n      <td>0</td>\n    </tr>\n    <tr>\n      <th>5</th>\n      <td>Bà Rịa – Vũng Tàu</td>\n      <td>Tân Thành</td>\n      <td>2018.0</td>\n      <td>thành lập thị xã, đổi tên thành thị xã Phú Mỹ</td>\n      <td>0</td>\n    </tr>\n    <tr>\n      <th>7</th>\n      <td>Bắc Kạn</td>\n      <td>Chợ Rã</td>\n      <td>1984.0</td>\n      <td>đổi tên thành huyện Ba Bể</td>\n      <td>0</td>\n    </tr>\n    <tr>\n      <th>9</th>\n      <td>Bạc Liêu</td>\n      <td>Minh Hải</td>\n      <td>1984.0</td>\n      <td>đổi tên thành thị xã Bạc Liêu</td>\n      <td>0</td>\n    </tr>\n    <tr>\n      <th>14</th>\n      <td>Bình Dương</td>\n      <td>Châu Thành</td>\n      <td>1977.0</td>\n      <td>sáp nhập vào huyện Tân Uyên và thị xã Thủ Dầu Một</td>\n      <td>0</td>\n    </tr>\n    <tr>\n      <th>15</th>\n      <td>Bình Dương</td>\n      <td>Lái Thiêu</td>\n      <td>1977.0</td>\n      <td>sáp nhập với huyện Dĩ An thành huyện Thuận An</td>\n      <td>0</td>\n    </tr>\n    <tr>\n      <th>18</th>\n      <td>Bình Phước</td>\n      <td>Phước Bình</td>\n      <td>1977.0</td>\n      <td>sáp nhập với huyện Bù Đăng và huyện Bù Đốp thà...</td>\n      <td>0</td>\n    </tr>\n    <tr>\n      <th>23</th>\n      <td>Cà Mau</td>\n      <td>Ngọc Hiển</td>\n      <td>1984.0</td>\n      <td>đổi tên thành huyện Đầm Dơi</td>\n      <td>0</td>\n    </tr>\n    <tr>\n      <th>26</th>\n      <td>Cao Bằng</td>\n      <td>Phục Hòa</td>\n      <td>2020.0</td>\n      <td>sáp nhập với huyện Quảng Uyên thành huyện Quản...</td>\n      <td>0</td>\n    </tr>\n    <tr>\n      <th>27</th>\n      <td>Cao Bằng</td>\n      <td>Quảng Uyên</td>\n      <td>2020.0</td>\n      <td>sáp nhập với huyện Phục Hòa thành huyện Quảng Hòa</td>\n      <td>0</td>\n    </tr>\n    <tr>\n      <th>28</th>\n      <td>Cao Bằng</td>\n      <td>Thông Nông</td>\n      <td>2020.0</td>\n      <td>sáp nhập vào huyện Hà Quảng</td>\n      <td>0</td>\n    </tr>\n    <tr>\n      <th>29</th>\n      <td>Cao Bằng</td>\n      <td>Trà Lĩnh</td>\n      <td>2020.0</td>\n      <td>sáp nhập vào huyện Trùng Khánh</td>\n      <td>0</td>\n    </tr>\n    <tr>\n      <th>33</th>\n      <td>Điện Biên</td>\n      <td>Lai Châu</td>\n      <td>2005.0</td>\n      <td>đổi tên thành thị xã Mường Lay</td>\n      <td>0</td>\n    </tr>\n    <tr>\n      <th>34</th>\n      <td>Điện Biên</td>\n      <td>Mường Lay</td>\n      <td>2005.0</td>\n      <td>đổi tên thành huyện Mường Chà</td>\n      <td>0</td>\n    </tr>\n    <tr>\n      <th>35</th>\n      <td>Đồng Nai</td>\n      <td>Vĩnh An</td>\n      <td>1994.0</td>\n      <td>đổi tên thành huyện Vĩnh Cửu</td>\n      <td>0</td>\n    </tr>\n    <tr>\n      <th>37</th>\n      <td>Đồng Tháp</td>\n      <td>Thạnh Hưng</td>\n      <td>1994.0</td>\n      <td>đổi tên thành huyện Lấp Vò</td>\n      <td>0</td>\n    </tr>\n    <tr>\n      <th>42</th>\n      <td>Hà Nam</td>\n      <td>Hà Nam</td>\n      <td>1996.0</td>\n      <td>đổi tên thành thị xã Phủ Lý</td>\n      <td>0</td>\n    </tr>\n    <tr>\n      <th>43</th>\n      <td>Hà Nội</td>\n      <td>Đa Phúc</td>\n      <td>1977.0</td>\n      <td>sáp nhập với huyện Kim Anh thành huyện Sóc Sơn</td>\n      <td>0</td>\n    </tr>\n    <tr>\n      <th>44</th>\n      <td>Hà Nội</td>\n      <td>Kim Anh</td>\n      <td>1977.0</td>\n      <td>sáp nhập với huyện Đa Phúc thành huyện Sóc Sơn</td>\n      <td>0</td>\n    </tr>\n    <tr>\n      <th>52</th>\n      <td>Hải Phòng</td>\n      <td>Cát Bà</td>\n      <td>1977.0</td>\n      <td>sáp nhập vào huyện Cát Hải</td>\n      <td>0</td>\n    </tr>\n    <tr>\n      <th>57</th>\n      <td>Hậu Giang</td>\n      <td>Mỹ Thanh</td>\n      <td>1982.0</td>\n      <td>đổi tên thành huyện Vị Thanh</td>\n      <td>0</td>\n    </tr>\n    <tr>\n      <th>59</th>\n      <td>Hậu Giang</td>\n      <td>Tân Hiệp</td>\n      <td>2006.0</td>\n      <td>đổi tên thành thị xã Ngã Bảy</td>\n      <td>0</td>\n    </tr>\n    <tr>\n      <th>60</th>\n      <td>Hòa Bình</td>\n      <td>Kỳ Sơn</td>\n      <td>2019.0</td>\n      <td>sáp nhập vào thành phố Hòa Bình</td>\n      <td>0</td>\n    </tr>\n    <tr>\n      <th>67</th>\n      <td>Khánh Hòa</td>\n      <td>Khánh Xương</td>\n      <td>1977.0</td>\n      <td>sáp nhập với huyện Khánh Vĩnh thành huyện Diên...</td>\n      <td>0</td>\n    </tr>\n    <tr>\n      <th>69</th>\n      <td>Kiên Giang</td>\n      <td>Hà Tiên</td>\n      <td>1999.0</td>\n      <td>đổi tên thành huyện Kiên Lương</td>\n      <td>0</td>\n    </tr>\n    <tr>\n      <th>74</th>\n      <td>Lào Cai</td>\n      <td>Cam Đường</td>\n      <td>2002.0</td>\n      <td>sáp nhập với thị xã Lào Cai</td>\n      <td>0</td>\n    </tr>\n    <tr>\n      <th>75</th>\n      <td>Long An</td>\n      <td>Tân Châu</td>\n      <td>1980.0</td>\n      <td>đổi tên thành huyện Vàm Cỏ</td>\n      <td>0</td>\n    </tr>\n    <tr>\n      <th>80</th>\n      <td>Nam Định</td>\n      <td>Mỹ Lộc</td>\n      <td>2024.0</td>\n      <td>sáp nhập vào thành phố Nam Định</td>\n      <td>0</td>\n    </tr>\n    <tr>\n      <th>82</th>\n      <td>Ninh Bình</td>\n      <td>Gia Khánh</td>\n      <td>1977.0</td>\n      <td>sáp nhập với thị xã Ninh Bình thành huyện Hoa Lư</td>\n      <td>0</td>\n    </tr>\n    <tr>\n      <th>83</th>\n      <td>Ninh Bình</td>\n      <td>Hoàng Long</td>\n      <td>1993.0</td>\n      <td>đổi tên thành huyện Nho Quan</td>\n      <td>0</td>\n    </tr>\n    <tr>\n      <th>84</th>\n      <td>Ninh Bình</td>\n      <td>Tam Điệp</td>\n      <td>1994.0</td>\n      <td>đổi tên thành huyện Yên Mô</td>\n      <td>0</td>\n    </tr>\n    <tr>\n      <th>91</th>\n      <td>Phú Thọ</td>\n      <td>Sông Thao</td>\n      <td>2002.0</td>\n      <td>đổi tên thành huyện Cẩm Khê</td>\n      <td>0</td>\n    </tr>\n    <tr>\n      <th>97</th>\n      <td>Quảng Nam</td>\n      <td>Giằng</td>\n      <td>1999.0</td>\n      <td>đổi tên thành huyện Nam Giang</td>\n      <td>0</td>\n    </tr>\n    <tr>\n      <th>102</th>\n      <td>Quảng Ngãi</td>\n      <td>Tây Trà</td>\n      <td>2020.0</td>\n      <td>sáp nhập vào huyện Trà Bồng</td>\n      <td>0</td>\n    </tr>\n    <tr>\n      <th>103</th>\n      <td>Quảng Ninh</td>\n      <td>Hồng Gai</td>\n      <td>1993.0</td>\n      <td>thành lập thành phố, đổi tên thành thành phố H...</td>\n      <td>0</td>\n    </tr>\n    <tr>\n      <th>104</th>\n      <td>Quảng Ninh</td>\n      <td>Cẩm Phả</td>\n      <td>1994.0</td>\n      <td>đổi tên thành huyện Vân Đồn</td>\n      <td>0</td>\n    </tr>\n    <tr>\n      <th>105</th>\n      <td>Quảng Ninh</td>\n      <td>Hải Ninh</td>\n      <td>1998.0</td>\n      <td>thành lập thị xã, đổi tên thành thị xã Móng Cái</td>\n      <td>0</td>\n    </tr>\n    <tr>\n      <th>107</th>\n      <td>Quảng Ninh</td>\n      <td>Yên Hưng</td>\n      <td>2011.0</td>\n      <td>thành lập thị xã, đổi tên thành thị xã Quảng Yên</td>\n      <td>0</td>\n    </tr>\n    <tr>\n      <th>108</th>\n      <td>Quảng Ninh</td>\n      <td>Hoành Bồ</td>\n      <td>2019.0</td>\n      <td>sáp nhập vào thành phố Hạ Long</td>\n      <td>0</td>\n    </tr>\n    <tr>\n      <th>113</th>\n      <td>Tây Ninh</td>\n      <td>Phú Khương</td>\n      <td>1979.0</td>\n      <td>đổi tên thành huyện Hòa Thành</td>\n      <td>0</td>\n    </tr>\n    <tr>\n      <th>116</th>\n      <td>Thanh Hóa</td>\n      <td>Đông Thiệu</td>\n      <td>1982.0</td>\n      <td>đổi tên thành huyện Đông Sơn</td>\n      <td>0</td>\n    </tr>\n    <tr>\n      <th>120</th>\n      <td>Thanh Hóa</td>\n      <td>Thiệu Yên</td>\n      <td>1996.0</td>\n      <td>đổi tên thành huyện Yên Định</td>\n      <td>0</td>\n    </tr>\n    <tr>\n      <th>121</th>\n      <td>Thanh Hóa</td>\n      <td>Tĩnh Gia</td>\n      <td>2020.0</td>\n      <td>thành lập thị xã, đổi tên thành thị xã Nghi Sơn</td>\n      <td>0</td>\n    </tr>\n    <tr>\n      <th>125</th>\n      <td>Tp. Hồ Chí Minh</td>\n      <td>Duyên Hải</td>\n      <td>1991.0</td>\n      <td>đổi tên thành huyện Cần Giờ</td>\n      <td>0</td>\n    </tr>\n    <tr>\n      <th>127</th>\n      <td>Tp. Hồ Chí Minh</td>\n      <td>Quận 2</td>\n      <td>2020.0</td>\n      <td>sáp nhập với Quận 9 và quận Thủ Đức thành thàn...</td>\n      <td>0</td>\n    </tr>\n    <tr>\n      <th>128</th>\n      <td>Tp. Hồ Chí Minh</td>\n      <td>Quận 9</td>\n      <td>2020.0</td>\n      <td>sáp nhập với Quận 2 và quận Thủ Đức thành thàn...</td>\n      <td>0</td>\n    </tr>\n    <tr>\n      <th>129</th>\n      <td>Tp. Hồ Chí Minh</td>\n      <td>Thủ Đức (quận)</td>\n      <td>2020.0</td>\n      <td>sáp nhập với Quận 2 và Quận 9 thành thành phố ...</td>\n      <td>0</td>\n    </tr>\n    <tr>\n      <th>130</th>\n      <td>Trà Vinh</td>\n      <td>Châu Thành Đông</td>\n      <td>1977.0</td>\n      <td>sáp nhập vào huyện Càng Long và huyện Cầu Ngang</td>\n      <td>0</td>\n    </tr>\n    <tr>\n      <th>132</th>\n      <td>Vĩnh Long</td>\n      <td>Cái Nhum</td>\n      <td>1977.0</td>\n      <td>sáp nhập với huyện Châu Thành Tây thành huyện ...</td>\n      <td>0</td>\n    </tr>\n    <tr>\n      <th>133</th>\n      <td>Vĩnh Long</td>\n      <td>Châu Thành Tây</td>\n      <td>1977.0</td>\n      <td>sáp nhập với huyện Cái Nhum thành huyện Long Hồ</td>\n      <td>0</td>\n    </tr>\n    <tr>\n      <th>134</th>\n      <td>Vĩnh Phúc</td>\n      <td>Yên Lãng</td>\n      <td>1977.0</td>\n      <td>sáp nhập với huyện Bình Xuyên thành huyện Mê Linh</td>\n      <td>0</td>\n    </tr>\n  </tbody>\n</table>\n</div>"
     },
     "execution_count": 9,
     "metadata": {},
     "output_type": "execute_result"
    }
   ],
   "source": [
    "df_change"
   ],
   "metadata": {
    "collapsed": false,
    "ExecuteTime": {
     "end_time": "2024-09-18T15:41:35.222186Z",
     "start_time": "2024-09-18T15:41:35.204678Z"
    }
   },
   "id": "8c9149580a07b06a",
   "execution_count": 9
  },
  {
   "cell_type": "code",
   "outputs": [],
   "source": [
    "df_split = df[df.containing_keyword_two_times==1].copy()"
   ],
   "metadata": {
    "collapsed": false,
    "ExecuteTime": {
     "end_time": "2024-09-18T15:41:36.661226Z",
     "start_time": "2024-09-18T15:41:36.655700Z"
    }
   },
   "id": "2fcba5bd6e29904b",
   "execution_count": 10
  },
  {
   "cell_type": "code",
   "outputs": [
    {
     "data": {
      "text/plain": "       province old_district    year  \\\n12      Bến Tre       Mỏ Cày  2009.0   \n17   Bình Dương     Tân Uyên  2013.0   \n21   Bình Thuận    Hàm Thuận  1982.0   \n45       Hà Nội      Từ Liêm  2013.0   \n99    Quảng Nam       Trà My  2003.0   \n124  Tiền Giang      Gò Công  1979.0   \n\n                                                change  \\\n12   chia tách thành huyện Mỏ Cày Bắc và huyện Mỏ C...   \n17   chia tách thành thị xã Tân Uyên và huyện Bắc T...   \n21   chia tách thành huyện Hàm Thuận Bắc và huyện H...   \n45     chia tách thành quận Bắc Từ Liêm và Nam Từ Liêm   \n99   chia tách thành huyện Bắc Trà My và huyện Nam ...   \n124  chia tách thành huyện Gò Công Đông và Gò Công Tây   \n\n     containing_keyword_two_times  \n12                              1  \n17                              1  \n21                              1  \n45                              1  \n99                              1  \n124                             1  ",
      "text/html": "<div>\n<style scoped>\n    .dataframe tbody tr th:only-of-type {\n        vertical-align: middle;\n    }\n\n    .dataframe tbody tr th {\n        vertical-align: top;\n    }\n\n    .dataframe thead th {\n        text-align: right;\n    }\n</style>\n<table border=\"1\" class=\"dataframe\">\n  <thead>\n    <tr style=\"text-align: right;\">\n      <th></th>\n      <th>province</th>\n      <th>old_district</th>\n      <th>year</th>\n      <th>change</th>\n      <th>containing_keyword_two_times</th>\n    </tr>\n  </thead>\n  <tbody>\n    <tr>\n      <th>12</th>\n      <td>Bến Tre</td>\n      <td>Mỏ Cày</td>\n      <td>2009.0</td>\n      <td>chia tách thành huyện Mỏ Cày Bắc và huyện Mỏ C...</td>\n      <td>1</td>\n    </tr>\n    <tr>\n      <th>17</th>\n      <td>Bình Dương</td>\n      <td>Tân Uyên</td>\n      <td>2013.0</td>\n      <td>chia tách thành thị xã Tân Uyên và huyện Bắc T...</td>\n      <td>1</td>\n    </tr>\n    <tr>\n      <th>21</th>\n      <td>Bình Thuận</td>\n      <td>Hàm Thuận</td>\n      <td>1982.0</td>\n      <td>chia tách thành huyện Hàm Thuận Bắc và huyện H...</td>\n      <td>1</td>\n    </tr>\n    <tr>\n      <th>45</th>\n      <td>Hà Nội</td>\n      <td>Từ Liêm</td>\n      <td>2013.0</td>\n      <td>chia tách thành quận Bắc Từ Liêm và Nam Từ Liêm</td>\n      <td>1</td>\n    </tr>\n    <tr>\n      <th>99</th>\n      <td>Quảng Nam</td>\n      <td>Trà My</td>\n      <td>2003.0</td>\n      <td>chia tách thành huyện Bắc Trà My và huyện Nam ...</td>\n      <td>1</td>\n    </tr>\n    <tr>\n      <th>124</th>\n      <td>Tiền Giang</td>\n      <td>Gò Công</td>\n      <td>1979.0</td>\n      <td>chia tách thành huyện Gò Công Đông và Gò Công Tây</td>\n      <td>1</td>\n    </tr>\n  </tbody>\n</table>\n</div>"
     },
     "execution_count": 11,
     "metadata": {},
     "output_type": "execute_result"
    }
   ],
   "source": [
    "df_split"
   ],
   "metadata": {
    "collapsed": false,
    "ExecuteTime": {
     "end_time": "2024-09-18T15:41:37.281785Z",
     "start_time": "2024-09-18T15:41:37.275976Z"
    }
   },
   "id": "57a2af94a2b49105",
   "execution_count": 11
  },
  {
   "cell_type": "code",
   "outputs": [],
   "source": [
    "# This is a particular case that is duplicated district_key\n",
    "df_split = df_split[df_split.old_district!='Tân Uyên'].copy()"
   ],
   "metadata": {
    "collapsed": false,
    "ExecuteTime": {
     "end_time": "2024-09-18T15:41:38.017918Z",
     "start_time": "2024-09-18T15:41:38.014407Z"
    }
   },
   "id": "57bc9da978c3e930",
   "execution_count": 12
  },
  {
   "cell_type": "code",
   "outputs": [],
   "source": [
    "# Use Google Trend to decide new district\n",
    "df_split.loc[df_split.old_district=='Mỏ Cày', 'district_english'] = 'Mo Cay Nam'\n",
    "df_split.loc[df_split.old_district=='Hàm Thuận', 'district_english'] = 'Ham Thuan Nam'\n",
    "df_split.loc[df_split.old_district=='Từ Liêm', 'district_english'] = 'Nam Tu Liem'\n",
    "df_split.loc[df_split.old_district=='Trà My', 'district_english'] = 'Nam Tra My'\n",
    "df_split.loc[df_split.old_district=='Gò Công', 'district_english'] = 'Go Cong Tay'"
   ],
   "metadata": {
    "collapsed": false,
    "ExecuteTime": {
     "end_time": "2024-09-18T15:41:38.541756Z",
     "start_time": "2024-09-18T15:41:38.536933Z"
    }
   },
   "id": "3430fbbac4647a63",
   "execution_count": 13
  },
  {
   "cell_type": "code",
   "outputs": [
    {
     "data": {
      "text/plain": "       province old_district    year  \\\n12      Bến Tre       Mỏ Cày  2009.0   \n21   Bình Thuận    Hàm Thuận  1982.0   \n45       Hà Nội      Từ Liêm  2013.0   \n99    Quảng Nam       Trà My  2003.0   \n124  Tiền Giang      Gò Công  1979.0   \n\n                                                change  \\\n12   chia tách thành huyện Mỏ Cày Bắc và huyện Mỏ C...   \n21   chia tách thành huyện Hàm Thuận Bắc và huyện H...   \n45     chia tách thành quận Bắc Từ Liêm và Nam Từ Liêm   \n99   chia tách thành huyện Bắc Trà My và huyện Nam ...   \n124  chia tách thành huyện Gò Công Đông và Gò Công Tây   \n\n     containing_keyword_two_times district_english  \n12                              1       Mo Cay Nam  \n21                              1    Ham Thuan Nam  \n45                              1      Nam Tu Liem  \n99                              1       Nam Tra My  \n124                             1      Go Cong Tay  ",
      "text/html": "<div>\n<style scoped>\n    .dataframe tbody tr th:only-of-type {\n        vertical-align: middle;\n    }\n\n    .dataframe tbody tr th {\n        vertical-align: top;\n    }\n\n    .dataframe thead th {\n        text-align: right;\n    }\n</style>\n<table border=\"1\" class=\"dataframe\">\n  <thead>\n    <tr style=\"text-align: right;\">\n      <th></th>\n      <th>province</th>\n      <th>old_district</th>\n      <th>year</th>\n      <th>change</th>\n      <th>containing_keyword_two_times</th>\n      <th>district_english</th>\n    </tr>\n  </thead>\n  <tbody>\n    <tr>\n      <th>12</th>\n      <td>Bến Tre</td>\n      <td>Mỏ Cày</td>\n      <td>2009.0</td>\n      <td>chia tách thành huyện Mỏ Cày Bắc và huyện Mỏ C...</td>\n      <td>1</td>\n      <td>Mo Cay Nam</td>\n    </tr>\n    <tr>\n      <th>21</th>\n      <td>Bình Thuận</td>\n      <td>Hàm Thuận</td>\n      <td>1982.0</td>\n      <td>chia tách thành huyện Hàm Thuận Bắc và huyện H...</td>\n      <td>1</td>\n      <td>Ham Thuan Nam</td>\n    </tr>\n    <tr>\n      <th>45</th>\n      <td>Hà Nội</td>\n      <td>Từ Liêm</td>\n      <td>2013.0</td>\n      <td>chia tách thành quận Bắc Từ Liêm và Nam Từ Liêm</td>\n      <td>1</td>\n      <td>Nam Tu Liem</td>\n    </tr>\n    <tr>\n      <th>99</th>\n      <td>Quảng Nam</td>\n      <td>Trà My</td>\n      <td>2003.0</td>\n      <td>chia tách thành huyện Bắc Trà My và huyện Nam ...</td>\n      <td>1</td>\n      <td>Nam Tra My</td>\n    </tr>\n    <tr>\n      <th>124</th>\n      <td>Tiền Giang</td>\n      <td>Gò Công</td>\n      <td>1979.0</td>\n      <td>chia tách thành huyện Gò Công Đông và Gò Công Tây</td>\n      <td>1</td>\n      <td>Go Cong Tay</td>\n    </tr>\n  </tbody>\n</table>\n</div>"
     },
     "execution_count": 14,
     "metadata": {},
     "output_type": "execute_result"
    }
   ],
   "source": [
    "df_split"
   ],
   "metadata": {
    "collapsed": false,
    "ExecuteTime": {
     "end_time": "2024-09-18T15:41:39.134961Z",
     "start_time": "2024-09-18T15:41:39.129383Z"
    }
   },
   "id": "f7329105241f372d",
   "execution_count": 14
  },
  {
   "cell_type": "code",
   "outputs": [],
   "source": [
    "from vietadminunits.utils import to_key"
   ],
   "metadata": {
    "collapsed": false,
    "ExecuteTime": {
     "end_time": "2024-09-18T15:41:39.922728Z",
     "start_time": "2024-09-18T15:41:39.920511Z"
    }
   },
   "id": "2bde8df71e649217",
   "execution_count": 15
  },
  {
   "cell_type": "code",
   "outputs": [],
   "source": [
    "def find_new_district_english(text):\n",
    "    au = parse_address(text, 2)\n",
    "    return au.district_english"
   ],
   "metadata": {
    "collapsed": false,
    "ExecuteTime": {
     "end_time": "2024-09-18T15:41:40.608285Z",
     "start_time": "2024-09-18T15:41:40.604849Z"
    }
   },
   "id": "4b9cb3b2d7d5430d",
   "execution_count": 16
  },
  {
   "cell_type": "code",
   "outputs": [],
   "source": [
    "def prepare_address(province, change):\n",
    "    address = province + ' ' + re.sub(f'.* thành ', '', change)\n",
    "    return address"
   ],
   "metadata": {
    "collapsed": false,
    "ExecuteTime": {
     "end_time": "2024-09-18T15:41:41.192856Z",
     "start_time": "2024-09-18T15:41:41.187019Z"
    }
   },
   "id": "656d35ad44bff4a0",
   "execution_count": 17
  },
  {
   "cell_type": "code",
   "outputs": [],
   "source": [
    "def create_province_english(text):\n",
    "    au = parse_address(text, 1)\n",
    "    return au.province_english"
   ],
   "metadata": {
    "collapsed": false,
    "ExecuteTime": {
     "end_time": "2024-09-18T15:41:42.116523Z",
     "start_time": "2024-09-18T15:41:42.110585Z"
    }
   },
   "id": "af136e3f32ba4be8",
   "execution_count": 18
  },
  {
   "cell_type": "code",
   "outputs": [],
   "source": [
    "df_change['address'] = df_change.apply(lambda row: prepare_address(row.province, row.change), axis=1)"
   ],
   "metadata": {
    "collapsed": false,
    "ExecuteTime": {
     "end_time": "2024-09-18T15:41:46.705101Z",
     "start_time": "2024-09-18T15:41:46.688887Z"
    }
   },
   "id": "b686a401722f7520",
   "execution_count": 19
  },
  {
   "cell_type": "code",
   "outputs": [],
   "source": [
    "df_change['district_english'] = df_change.address.apply(find_new_district_english)"
   ],
   "metadata": {
    "collapsed": false,
    "ExecuteTime": {
     "end_time": "2024-09-18T15:41:51.926099Z",
     "start_time": "2024-09-18T15:41:51.908305Z"
    }
   },
   "id": "749f402b8e7e0a7",
   "execution_count": 20
  },
  {
   "cell_type": "code",
   "outputs": [
    {
     "data": {
      "text/plain": "              province     old_district    year  \\\n0             An Giang          Huệ Đức  1977.0   \n5    Bà Rịa – Vũng Tàu        Tân Thành  2018.0   \n7              Bắc Kạn           Chợ Rã  1984.0   \n9             Bạc Liêu         Minh Hải  1984.0   \n14          Bình Dương       Châu Thành  1977.0   \n15          Bình Dương        Lái Thiêu  1977.0   \n18          Bình Phước       Phước Bình  1977.0   \n23              Cà Mau        Ngọc Hiển  1984.0   \n26            Cao Bằng         Phục Hòa  2020.0   \n27            Cao Bằng       Quảng Uyên  2020.0   \n28            Cao Bằng       Thông Nông  2020.0   \n29            Cao Bằng         Trà Lĩnh  2020.0   \n33           Điện Biên         Lai Châu  2005.0   \n34           Điện Biên        Mường Lay  2005.0   \n35            Đồng Nai          Vĩnh An  1994.0   \n37           Đồng Tháp       Thạnh Hưng  1994.0   \n42              Hà Nam           Hà Nam  1996.0   \n43              Hà Nội          Đa Phúc  1977.0   \n44              Hà Nội          Kim Anh  1977.0   \n52           Hải Phòng           Cát Bà  1977.0   \n57           Hậu Giang         Mỹ Thanh  1982.0   \n59           Hậu Giang         Tân Hiệp  2006.0   \n60            Hòa Bình           Kỳ Sơn  2019.0   \n67           Khánh Hòa      Khánh Xương  1977.0   \n69          Kiên Giang          Hà Tiên  1999.0   \n74             Lào Cai        Cam Đường  2002.0   \n75             Long An         Tân Châu  1980.0   \n80            Nam Định           Mỹ Lộc  2024.0   \n82           Ninh Bình        Gia Khánh  1977.0   \n83           Ninh Bình       Hoàng Long  1993.0   \n84           Ninh Bình         Tam Điệp  1994.0   \n91             Phú Thọ        Sông Thao  2002.0   \n97           Quảng Nam            Giằng  1999.0   \n102         Quảng Ngãi          Tây Trà  2020.0   \n103         Quảng Ninh         Hồng Gai  1993.0   \n104         Quảng Ninh          Cẩm Phả  1994.0   \n105         Quảng Ninh         Hải Ninh  1998.0   \n107         Quảng Ninh         Yên Hưng  2011.0   \n108         Quảng Ninh         Hoành Bồ  2019.0   \n113           Tây Ninh       Phú Khương  1979.0   \n116          Thanh Hóa       Đông Thiệu  1982.0   \n120          Thanh Hóa        Thiệu Yên  1996.0   \n121          Thanh Hóa         Tĩnh Gia  2020.0   \n125    Tp. Hồ Chí Minh        Duyên Hải  1991.0   \n127    Tp. Hồ Chí Minh           Quận 2  2020.0   \n128    Tp. Hồ Chí Minh           Quận 9  2020.0   \n129    Tp. Hồ Chí Minh   Thủ Đức (quận)  2020.0   \n130           Trà Vinh  Châu Thành Đông  1977.0   \n132          Vĩnh Long         Cái Nhum  1977.0   \n133          Vĩnh Long   Châu Thành Tây  1977.0   \n134          Vĩnh Phúc         Yên Lãng  1977.0   \n\n                                                change  \\\n0                sáp nhập toàn bộ vào huyện Châu Thành   \n5        thành lập thị xã, đổi tên thành thị xã Phú Mỹ   \n7                            đổi tên thành huyện Ba Bể   \n9                        đổi tên thành thị xã Bạc Liêu   \n14   sáp nhập vào huyện Tân Uyên và thị xã Thủ Dầu Một   \n15       sáp nhập với huyện Dĩ An thành huyện Thuận An   \n18   sáp nhập với huyện Bù Đăng và huyện Bù Đốp thà...   \n23                         đổi tên thành huyện Đầm Dơi   \n26   sáp nhập với huyện Quảng Uyên thành huyện Quản...   \n27   sáp nhập với huyện Phục Hòa thành huyện Quảng Hòa   \n28                         sáp nhập vào huyện Hà Quảng   \n29                      sáp nhập vào huyện Trùng Khánh   \n33                      đổi tên thành thị xã Mường Lay   \n34                       đổi tên thành huyện Mường Chà   \n35                        đổi tên thành huyện Vĩnh Cửu   \n37                          đổi tên thành huyện Lấp Vò   \n42                         đổi tên thành thị xã Phủ Lý   \n43      sáp nhập với huyện Kim Anh thành huyện Sóc Sơn   \n44      sáp nhập với huyện Đa Phúc thành huyện Sóc Sơn   \n52                          sáp nhập vào huyện Cát Hải   \n57                        đổi tên thành huyện Vị Thanh   \n59                        đổi tên thành thị xã Ngã Bảy   \n60                     sáp nhập vào thành phố Hòa Bình   \n67   sáp nhập với huyện Khánh Vĩnh thành huyện Diên...   \n69                      đổi tên thành huyện Kiên Lương   \n74                         sáp nhập với thị xã Lào Cai   \n75                          đổi tên thành huyện Vàm Cỏ   \n80                     sáp nhập vào thành phố Nam Định   \n82    sáp nhập với thị xã Ninh Bình thành huyện Hoa Lư   \n83                        đổi tên thành huyện Nho Quan   \n84                          đổi tên thành huyện Yên Mô   \n91                         đổi tên thành huyện Cẩm Khê   \n97                       đổi tên thành huyện Nam Giang   \n102                        sáp nhập vào huyện Trà Bồng   \n103  thành lập thành phố, đổi tên thành thành phố H...   \n104                        đổi tên thành huyện Vân Đồn   \n105    thành lập thị xã, đổi tên thành thị xã Móng Cái   \n107   thành lập thị xã, đổi tên thành thị xã Quảng Yên   \n108                     sáp nhập vào thành phố Hạ Long   \n113                      đổi tên thành huyện Hòa Thành   \n116                       đổi tên thành huyện Đông Sơn   \n120                       đổi tên thành huyện Yên Định   \n121    thành lập thị xã, đổi tên thành thị xã Nghi Sơn   \n125                        đổi tên thành huyện Cần Giờ   \n127  sáp nhập với Quận 9 và quận Thủ Đức thành thàn...   \n128  sáp nhập với Quận 2 và quận Thủ Đức thành thàn...   \n129  sáp nhập với Quận 2 và Quận 9 thành thành phố ...   \n130    sáp nhập vào huyện Càng Long và huyện Cầu Ngang   \n132  sáp nhập với huyện Châu Thành Tây thành huyện ...   \n133    sáp nhập với huyện Cái Nhum thành huyện Long Hồ   \n134  sáp nhập với huyện Bình Xuyên thành huyện Mê Linh   \n\n     containing_keyword_two_times  \\\n0                               0   \n5                               0   \n7                               0   \n9                               0   \n14                              0   \n15                              0   \n18                              0   \n23                              0   \n26                              0   \n27                              0   \n28                              0   \n29                              0   \n33                              0   \n34                              0   \n35                              0   \n37                              0   \n42                              0   \n43                              0   \n44                              0   \n52                              0   \n57                              0   \n59                              0   \n60                              0   \n67                              0   \n69                              0   \n74                              0   \n75                              0   \n80                              0   \n82                              0   \n83                              0   \n84                              0   \n91                              0   \n97                              0   \n102                             0   \n103                             0   \n104                             0   \n105                             0   \n107                             0   \n108                             0   \n113                             0   \n116                             0   \n120                             0   \n121                             0   \n125                             0   \n127                             0   \n128                             0   \n129                             0   \n130                             0   \n132                             0   \n133                             0   \n134                             0   \n\n                                               address district_english  \n0       An Giang sáp nhập toàn bộ vào huyện Châu Thành       Chau Thanh  \n5                      Bà Rịa – Vũng Tàu thị xã Phú Mỹ           Phu My  \n7                                  Bắc Kạn huyện Ba Bể            Ba Be  \n9                             Bạc Liêu thị xã Bạc Liêu         Bac Lieu  \n14   Bình Dương sáp nhập vào huyện Tân Uyên và thị ...         Tan Uyen  \n15                           Bình Dương huyện Thuận An         Thuan An  \n18                         Bình Phước huyện Phước Long       Phuoc Long  \n23                                Cà Mau huyện Đầm Dơi          Dam Doi  \n26                            Cao Bằng huyện Quảng Hòa        Quang Hoa  \n27                            Cao Bằng huyện Quảng Hòa        Quang Hoa  \n28                Cao Bằng sáp nhập vào huyện Hà Quảng         Ha Quang  \n29             Cao Bằng sáp nhập vào huyện Trùng Khánh      Trung Khanh  \n33                          Điện Biên thị xã Mường Lay        Muong Lay  \n34                           Điện Biên huyện Mường Chà        Muong Cha  \n35                             Đồng Nai huyện Vĩnh Cửu         Vinh Cuu  \n37                              Đồng Tháp huyện Lấp Vò             None  \n42                                Hà Nam thị xã Phủ Lý           Phu Ly  \n43                                Hà Nội huyện Sóc Sơn          Soc Son  \n44                                Hà Nội huyện Sóc Sơn          Soc Son  \n52                Hải Phòng sáp nhập vào huyện Cát Hải          Cat Hai  \n57                            Hậu Giang huyện Vị Thanh         Vi Thanh  \n59                            Hậu Giang thị xã Ngã Bảy          Nga Bay  \n60                               Hòa Bình phố Hòa Bình         Hoa Binh  \n67                          Khánh Hòa huyện Diên Khánh       Dien Khanh  \n69                         Kiên Giang huyện Kiên Lương       Kien Luong  \n74                 Lào Cai sáp nhập với thị xã Lào Cai          Lao Cai  \n75                                Long An huyện Vàm Cỏ             None  \n80                               Nam Định phố Nam Định         Nam Dinh  \n82                              Ninh Bình huyện Hoa Lư           Hoa Lu  \n83                            Ninh Bình huyện Nho Quan         Nho Quan  \n84                              Ninh Bình huyện Yên Mô           Yen Mo  \n91                               Phú Thọ huyện Cẩm Khê          Cam Khe  \n97                           Quảng Nam huyện Nam Giang        Nam Giang  \n102             Quảng Ngãi sáp nhập vào huyện Trà Bồng         Tra Bong  \n103                             Quảng Ninh phố Hạ Long          Ha Long  \n104                           Quảng Ninh huyện Vân Đồn          Van Don  \n105                         Quảng Ninh thị xã Móng Cái         Mong Cai  \n107                        Quảng Ninh thị xã Quảng Yên        Quang Yen  \n108                             Quảng Ninh phố Hạ Long          Ha Long  \n113                           Tây Ninh huyện Hòa Thành        Hoa Thanh  \n116                           Thanh Hóa huyện Đông Sơn         Dong Son  \n120                           Thanh Hóa huyện Yên Định         Yen Dinh  \n121                          Thanh Hóa thị xã Nghi Sơn         Nghi Son  \n125                      Tp. Hồ Chí Minh huyện Cần Giờ          Can Gio  \n127                        Tp. Hồ Chí Minh phố Thủ Đức          Thu Duc  \n128                        Tp. Hồ Chí Minh phố Thủ Đức          Thu Duc  \n129                        Tp. Hồ Chí Minh phố Thủ Đức          Thu Duc  \n130  Trà Vinh sáp nhập vào huyện Càng Long và huyện...        Cang Long  \n132                            Vĩnh Long huyện Long Hồ          Long Ho  \n133                            Vĩnh Long huyện Long Hồ          Long Ho  \n134                            Vĩnh Phúc huyện Mê Linh             None  ",
      "text/html": "<div>\n<style scoped>\n    .dataframe tbody tr th:only-of-type {\n        vertical-align: middle;\n    }\n\n    .dataframe tbody tr th {\n        vertical-align: top;\n    }\n\n    .dataframe thead th {\n        text-align: right;\n    }\n</style>\n<table border=\"1\" class=\"dataframe\">\n  <thead>\n    <tr style=\"text-align: right;\">\n      <th></th>\n      <th>province</th>\n      <th>old_district</th>\n      <th>year</th>\n      <th>change</th>\n      <th>containing_keyword_two_times</th>\n      <th>address</th>\n      <th>district_english</th>\n    </tr>\n  </thead>\n  <tbody>\n    <tr>\n      <th>0</th>\n      <td>An Giang</td>\n      <td>Huệ Đức</td>\n      <td>1977.0</td>\n      <td>sáp nhập toàn bộ vào huyện Châu Thành</td>\n      <td>0</td>\n      <td>An Giang sáp nhập toàn bộ vào huyện Châu Thành</td>\n      <td>Chau Thanh</td>\n    </tr>\n    <tr>\n      <th>5</th>\n      <td>Bà Rịa – Vũng Tàu</td>\n      <td>Tân Thành</td>\n      <td>2018.0</td>\n      <td>thành lập thị xã, đổi tên thành thị xã Phú Mỹ</td>\n      <td>0</td>\n      <td>Bà Rịa – Vũng Tàu thị xã Phú Mỹ</td>\n      <td>Phu My</td>\n    </tr>\n    <tr>\n      <th>7</th>\n      <td>Bắc Kạn</td>\n      <td>Chợ Rã</td>\n      <td>1984.0</td>\n      <td>đổi tên thành huyện Ba Bể</td>\n      <td>0</td>\n      <td>Bắc Kạn huyện Ba Bể</td>\n      <td>Ba Be</td>\n    </tr>\n    <tr>\n      <th>9</th>\n      <td>Bạc Liêu</td>\n      <td>Minh Hải</td>\n      <td>1984.0</td>\n      <td>đổi tên thành thị xã Bạc Liêu</td>\n      <td>0</td>\n      <td>Bạc Liêu thị xã Bạc Liêu</td>\n      <td>Bac Lieu</td>\n    </tr>\n    <tr>\n      <th>14</th>\n      <td>Bình Dương</td>\n      <td>Châu Thành</td>\n      <td>1977.0</td>\n      <td>sáp nhập vào huyện Tân Uyên và thị xã Thủ Dầu Một</td>\n      <td>0</td>\n      <td>Bình Dương sáp nhập vào huyện Tân Uyên và thị ...</td>\n      <td>Tan Uyen</td>\n    </tr>\n    <tr>\n      <th>15</th>\n      <td>Bình Dương</td>\n      <td>Lái Thiêu</td>\n      <td>1977.0</td>\n      <td>sáp nhập với huyện Dĩ An thành huyện Thuận An</td>\n      <td>0</td>\n      <td>Bình Dương huyện Thuận An</td>\n      <td>Thuan An</td>\n    </tr>\n    <tr>\n      <th>18</th>\n      <td>Bình Phước</td>\n      <td>Phước Bình</td>\n      <td>1977.0</td>\n      <td>sáp nhập với huyện Bù Đăng và huyện Bù Đốp thà...</td>\n      <td>0</td>\n      <td>Bình Phước huyện Phước Long</td>\n      <td>Phuoc Long</td>\n    </tr>\n    <tr>\n      <th>23</th>\n      <td>Cà Mau</td>\n      <td>Ngọc Hiển</td>\n      <td>1984.0</td>\n      <td>đổi tên thành huyện Đầm Dơi</td>\n      <td>0</td>\n      <td>Cà Mau huyện Đầm Dơi</td>\n      <td>Dam Doi</td>\n    </tr>\n    <tr>\n      <th>26</th>\n      <td>Cao Bằng</td>\n      <td>Phục Hòa</td>\n      <td>2020.0</td>\n      <td>sáp nhập với huyện Quảng Uyên thành huyện Quản...</td>\n      <td>0</td>\n      <td>Cao Bằng huyện Quảng Hòa</td>\n      <td>Quang Hoa</td>\n    </tr>\n    <tr>\n      <th>27</th>\n      <td>Cao Bằng</td>\n      <td>Quảng Uyên</td>\n      <td>2020.0</td>\n      <td>sáp nhập với huyện Phục Hòa thành huyện Quảng Hòa</td>\n      <td>0</td>\n      <td>Cao Bằng huyện Quảng Hòa</td>\n      <td>Quang Hoa</td>\n    </tr>\n    <tr>\n      <th>28</th>\n      <td>Cao Bằng</td>\n      <td>Thông Nông</td>\n      <td>2020.0</td>\n      <td>sáp nhập vào huyện Hà Quảng</td>\n      <td>0</td>\n      <td>Cao Bằng sáp nhập vào huyện Hà Quảng</td>\n      <td>Ha Quang</td>\n    </tr>\n    <tr>\n      <th>29</th>\n      <td>Cao Bằng</td>\n      <td>Trà Lĩnh</td>\n      <td>2020.0</td>\n      <td>sáp nhập vào huyện Trùng Khánh</td>\n      <td>0</td>\n      <td>Cao Bằng sáp nhập vào huyện Trùng Khánh</td>\n      <td>Trung Khanh</td>\n    </tr>\n    <tr>\n      <th>33</th>\n      <td>Điện Biên</td>\n      <td>Lai Châu</td>\n      <td>2005.0</td>\n      <td>đổi tên thành thị xã Mường Lay</td>\n      <td>0</td>\n      <td>Điện Biên thị xã Mường Lay</td>\n      <td>Muong Lay</td>\n    </tr>\n    <tr>\n      <th>34</th>\n      <td>Điện Biên</td>\n      <td>Mường Lay</td>\n      <td>2005.0</td>\n      <td>đổi tên thành huyện Mường Chà</td>\n      <td>0</td>\n      <td>Điện Biên huyện Mường Chà</td>\n      <td>Muong Cha</td>\n    </tr>\n    <tr>\n      <th>35</th>\n      <td>Đồng Nai</td>\n      <td>Vĩnh An</td>\n      <td>1994.0</td>\n      <td>đổi tên thành huyện Vĩnh Cửu</td>\n      <td>0</td>\n      <td>Đồng Nai huyện Vĩnh Cửu</td>\n      <td>Vinh Cuu</td>\n    </tr>\n    <tr>\n      <th>37</th>\n      <td>Đồng Tháp</td>\n      <td>Thạnh Hưng</td>\n      <td>1994.0</td>\n      <td>đổi tên thành huyện Lấp Vò</td>\n      <td>0</td>\n      <td>Đồng Tháp huyện Lấp Vò</td>\n      <td>None</td>\n    </tr>\n    <tr>\n      <th>42</th>\n      <td>Hà Nam</td>\n      <td>Hà Nam</td>\n      <td>1996.0</td>\n      <td>đổi tên thành thị xã Phủ Lý</td>\n      <td>0</td>\n      <td>Hà Nam thị xã Phủ Lý</td>\n      <td>Phu Ly</td>\n    </tr>\n    <tr>\n      <th>43</th>\n      <td>Hà Nội</td>\n      <td>Đa Phúc</td>\n      <td>1977.0</td>\n      <td>sáp nhập với huyện Kim Anh thành huyện Sóc Sơn</td>\n      <td>0</td>\n      <td>Hà Nội huyện Sóc Sơn</td>\n      <td>Soc Son</td>\n    </tr>\n    <tr>\n      <th>44</th>\n      <td>Hà Nội</td>\n      <td>Kim Anh</td>\n      <td>1977.0</td>\n      <td>sáp nhập với huyện Đa Phúc thành huyện Sóc Sơn</td>\n      <td>0</td>\n      <td>Hà Nội huyện Sóc Sơn</td>\n      <td>Soc Son</td>\n    </tr>\n    <tr>\n      <th>52</th>\n      <td>Hải Phòng</td>\n      <td>Cát Bà</td>\n      <td>1977.0</td>\n      <td>sáp nhập vào huyện Cát Hải</td>\n      <td>0</td>\n      <td>Hải Phòng sáp nhập vào huyện Cát Hải</td>\n      <td>Cat Hai</td>\n    </tr>\n    <tr>\n      <th>57</th>\n      <td>Hậu Giang</td>\n      <td>Mỹ Thanh</td>\n      <td>1982.0</td>\n      <td>đổi tên thành huyện Vị Thanh</td>\n      <td>0</td>\n      <td>Hậu Giang huyện Vị Thanh</td>\n      <td>Vi Thanh</td>\n    </tr>\n    <tr>\n      <th>59</th>\n      <td>Hậu Giang</td>\n      <td>Tân Hiệp</td>\n      <td>2006.0</td>\n      <td>đổi tên thành thị xã Ngã Bảy</td>\n      <td>0</td>\n      <td>Hậu Giang thị xã Ngã Bảy</td>\n      <td>Nga Bay</td>\n    </tr>\n    <tr>\n      <th>60</th>\n      <td>Hòa Bình</td>\n      <td>Kỳ Sơn</td>\n      <td>2019.0</td>\n      <td>sáp nhập vào thành phố Hòa Bình</td>\n      <td>0</td>\n      <td>Hòa Bình phố Hòa Bình</td>\n      <td>Hoa Binh</td>\n    </tr>\n    <tr>\n      <th>67</th>\n      <td>Khánh Hòa</td>\n      <td>Khánh Xương</td>\n      <td>1977.0</td>\n      <td>sáp nhập với huyện Khánh Vĩnh thành huyện Diên...</td>\n      <td>0</td>\n      <td>Khánh Hòa huyện Diên Khánh</td>\n      <td>Dien Khanh</td>\n    </tr>\n    <tr>\n      <th>69</th>\n      <td>Kiên Giang</td>\n      <td>Hà Tiên</td>\n      <td>1999.0</td>\n      <td>đổi tên thành huyện Kiên Lương</td>\n      <td>0</td>\n      <td>Kiên Giang huyện Kiên Lương</td>\n      <td>Kien Luong</td>\n    </tr>\n    <tr>\n      <th>74</th>\n      <td>Lào Cai</td>\n      <td>Cam Đường</td>\n      <td>2002.0</td>\n      <td>sáp nhập với thị xã Lào Cai</td>\n      <td>0</td>\n      <td>Lào Cai sáp nhập với thị xã Lào Cai</td>\n      <td>Lao Cai</td>\n    </tr>\n    <tr>\n      <th>75</th>\n      <td>Long An</td>\n      <td>Tân Châu</td>\n      <td>1980.0</td>\n      <td>đổi tên thành huyện Vàm Cỏ</td>\n      <td>0</td>\n      <td>Long An huyện Vàm Cỏ</td>\n      <td>None</td>\n    </tr>\n    <tr>\n      <th>80</th>\n      <td>Nam Định</td>\n      <td>Mỹ Lộc</td>\n      <td>2024.0</td>\n      <td>sáp nhập vào thành phố Nam Định</td>\n      <td>0</td>\n      <td>Nam Định phố Nam Định</td>\n      <td>Nam Dinh</td>\n    </tr>\n    <tr>\n      <th>82</th>\n      <td>Ninh Bình</td>\n      <td>Gia Khánh</td>\n      <td>1977.0</td>\n      <td>sáp nhập với thị xã Ninh Bình thành huyện Hoa Lư</td>\n      <td>0</td>\n      <td>Ninh Bình huyện Hoa Lư</td>\n      <td>Hoa Lu</td>\n    </tr>\n    <tr>\n      <th>83</th>\n      <td>Ninh Bình</td>\n      <td>Hoàng Long</td>\n      <td>1993.0</td>\n      <td>đổi tên thành huyện Nho Quan</td>\n      <td>0</td>\n      <td>Ninh Bình huyện Nho Quan</td>\n      <td>Nho Quan</td>\n    </tr>\n    <tr>\n      <th>84</th>\n      <td>Ninh Bình</td>\n      <td>Tam Điệp</td>\n      <td>1994.0</td>\n      <td>đổi tên thành huyện Yên Mô</td>\n      <td>0</td>\n      <td>Ninh Bình huyện Yên Mô</td>\n      <td>Yen Mo</td>\n    </tr>\n    <tr>\n      <th>91</th>\n      <td>Phú Thọ</td>\n      <td>Sông Thao</td>\n      <td>2002.0</td>\n      <td>đổi tên thành huyện Cẩm Khê</td>\n      <td>0</td>\n      <td>Phú Thọ huyện Cẩm Khê</td>\n      <td>Cam Khe</td>\n    </tr>\n    <tr>\n      <th>97</th>\n      <td>Quảng Nam</td>\n      <td>Giằng</td>\n      <td>1999.0</td>\n      <td>đổi tên thành huyện Nam Giang</td>\n      <td>0</td>\n      <td>Quảng Nam huyện Nam Giang</td>\n      <td>Nam Giang</td>\n    </tr>\n    <tr>\n      <th>102</th>\n      <td>Quảng Ngãi</td>\n      <td>Tây Trà</td>\n      <td>2020.0</td>\n      <td>sáp nhập vào huyện Trà Bồng</td>\n      <td>0</td>\n      <td>Quảng Ngãi sáp nhập vào huyện Trà Bồng</td>\n      <td>Tra Bong</td>\n    </tr>\n    <tr>\n      <th>103</th>\n      <td>Quảng Ninh</td>\n      <td>Hồng Gai</td>\n      <td>1993.0</td>\n      <td>thành lập thành phố, đổi tên thành thành phố H...</td>\n      <td>0</td>\n      <td>Quảng Ninh phố Hạ Long</td>\n      <td>Ha Long</td>\n    </tr>\n    <tr>\n      <th>104</th>\n      <td>Quảng Ninh</td>\n      <td>Cẩm Phả</td>\n      <td>1994.0</td>\n      <td>đổi tên thành huyện Vân Đồn</td>\n      <td>0</td>\n      <td>Quảng Ninh huyện Vân Đồn</td>\n      <td>Van Don</td>\n    </tr>\n    <tr>\n      <th>105</th>\n      <td>Quảng Ninh</td>\n      <td>Hải Ninh</td>\n      <td>1998.0</td>\n      <td>thành lập thị xã, đổi tên thành thị xã Móng Cái</td>\n      <td>0</td>\n      <td>Quảng Ninh thị xã Móng Cái</td>\n      <td>Mong Cai</td>\n    </tr>\n    <tr>\n      <th>107</th>\n      <td>Quảng Ninh</td>\n      <td>Yên Hưng</td>\n      <td>2011.0</td>\n      <td>thành lập thị xã, đổi tên thành thị xã Quảng Yên</td>\n      <td>0</td>\n      <td>Quảng Ninh thị xã Quảng Yên</td>\n      <td>Quang Yen</td>\n    </tr>\n    <tr>\n      <th>108</th>\n      <td>Quảng Ninh</td>\n      <td>Hoành Bồ</td>\n      <td>2019.0</td>\n      <td>sáp nhập vào thành phố Hạ Long</td>\n      <td>0</td>\n      <td>Quảng Ninh phố Hạ Long</td>\n      <td>Ha Long</td>\n    </tr>\n    <tr>\n      <th>113</th>\n      <td>Tây Ninh</td>\n      <td>Phú Khương</td>\n      <td>1979.0</td>\n      <td>đổi tên thành huyện Hòa Thành</td>\n      <td>0</td>\n      <td>Tây Ninh huyện Hòa Thành</td>\n      <td>Hoa Thanh</td>\n    </tr>\n    <tr>\n      <th>116</th>\n      <td>Thanh Hóa</td>\n      <td>Đông Thiệu</td>\n      <td>1982.0</td>\n      <td>đổi tên thành huyện Đông Sơn</td>\n      <td>0</td>\n      <td>Thanh Hóa huyện Đông Sơn</td>\n      <td>Dong Son</td>\n    </tr>\n    <tr>\n      <th>120</th>\n      <td>Thanh Hóa</td>\n      <td>Thiệu Yên</td>\n      <td>1996.0</td>\n      <td>đổi tên thành huyện Yên Định</td>\n      <td>0</td>\n      <td>Thanh Hóa huyện Yên Định</td>\n      <td>Yen Dinh</td>\n    </tr>\n    <tr>\n      <th>121</th>\n      <td>Thanh Hóa</td>\n      <td>Tĩnh Gia</td>\n      <td>2020.0</td>\n      <td>thành lập thị xã, đổi tên thành thị xã Nghi Sơn</td>\n      <td>0</td>\n      <td>Thanh Hóa thị xã Nghi Sơn</td>\n      <td>Nghi Son</td>\n    </tr>\n    <tr>\n      <th>125</th>\n      <td>Tp. Hồ Chí Minh</td>\n      <td>Duyên Hải</td>\n      <td>1991.0</td>\n      <td>đổi tên thành huyện Cần Giờ</td>\n      <td>0</td>\n      <td>Tp. Hồ Chí Minh huyện Cần Giờ</td>\n      <td>Can Gio</td>\n    </tr>\n    <tr>\n      <th>127</th>\n      <td>Tp. Hồ Chí Minh</td>\n      <td>Quận 2</td>\n      <td>2020.0</td>\n      <td>sáp nhập với Quận 9 và quận Thủ Đức thành thàn...</td>\n      <td>0</td>\n      <td>Tp. Hồ Chí Minh phố Thủ Đức</td>\n      <td>Thu Duc</td>\n    </tr>\n    <tr>\n      <th>128</th>\n      <td>Tp. Hồ Chí Minh</td>\n      <td>Quận 9</td>\n      <td>2020.0</td>\n      <td>sáp nhập với Quận 2 và quận Thủ Đức thành thàn...</td>\n      <td>0</td>\n      <td>Tp. Hồ Chí Minh phố Thủ Đức</td>\n      <td>Thu Duc</td>\n    </tr>\n    <tr>\n      <th>129</th>\n      <td>Tp. Hồ Chí Minh</td>\n      <td>Thủ Đức (quận)</td>\n      <td>2020.0</td>\n      <td>sáp nhập với Quận 2 và Quận 9 thành thành phố ...</td>\n      <td>0</td>\n      <td>Tp. Hồ Chí Minh phố Thủ Đức</td>\n      <td>Thu Duc</td>\n    </tr>\n    <tr>\n      <th>130</th>\n      <td>Trà Vinh</td>\n      <td>Châu Thành Đông</td>\n      <td>1977.0</td>\n      <td>sáp nhập vào huyện Càng Long và huyện Cầu Ngang</td>\n      <td>0</td>\n      <td>Trà Vinh sáp nhập vào huyện Càng Long và huyện...</td>\n      <td>Cang Long</td>\n    </tr>\n    <tr>\n      <th>132</th>\n      <td>Vĩnh Long</td>\n      <td>Cái Nhum</td>\n      <td>1977.0</td>\n      <td>sáp nhập với huyện Châu Thành Tây thành huyện ...</td>\n      <td>0</td>\n      <td>Vĩnh Long huyện Long Hồ</td>\n      <td>Long Ho</td>\n    </tr>\n    <tr>\n      <th>133</th>\n      <td>Vĩnh Long</td>\n      <td>Châu Thành Tây</td>\n      <td>1977.0</td>\n      <td>sáp nhập với huyện Cái Nhum thành huyện Long Hồ</td>\n      <td>0</td>\n      <td>Vĩnh Long huyện Long Hồ</td>\n      <td>Long Ho</td>\n    </tr>\n    <tr>\n      <th>134</th>\n      <td>Vĩnh Phúc</td>\n      <td>Yên Lãng</td>\n      <td>1977.0</td>\n      <td>sáp nhập với huyện Bình Xuyên thành huyện Mê Linh</td>\n      <td>0</td>\n      <td>Vĩnh Phúc huyện Mê Linh</td>\n      <td>None</td>\n    </tr>\n  </tbody>\n</table>\n</div>"
     },
     "execution_count": 21,
     "metadata": {},
     "output_type": "execute_result"
    }
   ],
   "source": [
    "df_change"
   ],
   "metadata": {
    "collapsed": false,
    "ExecuteTime": {
     "end_time": "2024-09-18T15:41:52.660627Z",
     "start_time": "2024-09-18T15:41:52.648667Z"
    }
   },
   "id": "145caa1e518eb3c0",
   "execution_count": 21
  },
  {
   "cell_type": "markdown",
   "source": [
    "After doing research, I found district_english `None` are fine, because they are moved to another province or revert it's changing."
   ],
   "metadata": {
    "collapsed": false
   },
   "id": "1aa06d807e3478ce"
  },
  {
   "cell_type": "code",
   "outputs": [],
   "source": [
    "df_change.dropna(inplace=True)"
   ],
   "metadata": {
    "collapsed": false,
    "ExecuteTime": {
     "end_time": "2024-09-18T15:41:57.845874Z",
     "start_time": "2024-09-18T15:41:57.832160Z"
    }
   },
   "id": "883209e617939a3b",
   "execution_count": 22
  },
  {
   "cell_type": "code",
   "outputs": [],
   "source": [
    "df_all = pd.concat([df_change, df_split])"
   ],
   "metadata": {
    "collapsed": false,
    "ExecuteTime": {
     "end_time": "2024-09-18T15:41:58.379905Z",
     "start_time": "2024-09-18T15:41:58.373466Z"
    }
   },
   "id": "ce646d26f7714901",
   "execution_count": 23
  },
  {
   "cell_type": "code",
   "outputs": [],
   "source": [
    "df_all['province_english'] = df_all.province.apply(create_province_english)"
   ],
   "metadata": {
    "collapsed": false,
    "ExecuteTime": {
     "end_time": "2024-09-18T15:41:59.075328Z",
     "start_time": "2024-09-18T15:41:59.056436Z"
    }
   },
   "id": "8832e0dec958fc74",
   "execution_count": 24
  },
  {
   "cell_type": "code",
   "outputs": [],
   "source": [
    "df_all['district_key'] = df_all.old_district.apply(to_key, args=(2,))"
   ],
   "metadata": {
    "collapsed": false,
    "ExecuteTime": {
     "end_time": "2024-09-18T15:42:00.357170Z",
     "start_time": "2024-09-18T15:42:00.336986Z"
    }
   },
   "id": "5866a51d373f22f5",
   "execution_count": 25
  },
  {
   "cell_type": "code",
   "outputs": [
    {
     "data": {
      "text/plain": "              province     old_district    year  \\\n0             An Giang          Huệ Đức  1977.0   \n5    Bà Rịa – Vũng Tàu        Tân Thành  2018.0   \n7              Bắc Kạn           Chợ Rã  1984.0   \n9             Bạc Liêu         Minh Hải  1984.0   \n14          Bình Dương       Châu Thành  1977.0   \n15          Bình Dương        Lái Thiêu  1977.0   \n18          Bình Phước       Phước Bình  1977.0   \n23              Cà Mau        Ngọc Hiển  1984.0   \n26            Cao Bằng         Phục Hòa  2020.0   \n27            Cao Bằng       Quảng Uyên  2020.0   \n28            Cao Bằng       Thông Nông  2020.0   \n29            Cao Bằng         Trà Lĩnh  2020.0   \n33           Điện Biên         Lai Châu  2005.0   \n34           Điện Biên        Mường Lay  2005.0   \n35            Đồng Nai          Vĩnh An  1994.0   \n42              Hà Nam           Hà Nam  1996.0   \n43              Hà Nội          Đa Phúc  1977.0   \n44              Hà Nội          Kim Anh  1977.0   \n52           Hải Phòng           Cát Bà  1977.0   \n57           Hậu Giang         Mỹ Thanh  1982.0   \n59           Hậu Giang         Tân Hiệp  2006.0   \n60            Hòa Bình           Kỳ Sơn  2019.0   \n67           Khánh Hòa      Khánh Xương  1977.0   \n69          Kiên Giang          Hà Tiên  1999.0   \n74             Lào Cai        Cam Đường  2002.0   \n80            Nam Định           Mỹ Lộc  2024.0   \n82           Ninh Bình        Gia Khánh  1977.0   \n83           Ninh Bình       Hoàng Long  1993.0   \n84           Ninh Bình         Tam Điệp  1994.0   \n91             Phú Thọ        Sông Thao  2002.0   \n97           Quảng Nam            Giằng  1999.0   \n102         Quảng Ngãi          Tây Trà  2020.0   \n103         Quảng Ninh         Hồng Gai  1993.0   \n104         Quảng Ninh          Cẩm Phả  1994.0   \n105         Quảng Ninh         Hải Ninh  1998.0   \n107         Quảng Ninh         Yên Hưng  2011.0   \n108         Quảng Ninh         Hoành Bồ  2019.0   \n113           Tây Ninh       Phú Khương  1979.0   \n116          Thanh Hóa       Đông Thiệu  1982.0   \n120          Thanh Hóa        Thiệu Yên  1996.0   \n121          Thanh Hóa         Tĩnh Gia  2020.0   \n125    Tp. Hồ Chí Minh        Duyên Hải  1991.0   \n127    Tp. Hồ Chí Minh           Quận 2  2020.0   \n128    Tp. Hồ Chí Minh           Quận 9  2020.0   \n129    Tp. Hồ Chí Minh   Thủ Đức (quận)  2020.0   \n130           Trà Vinh  Châu Thành Đông  1977.0   \n132          Vĩnh Long         Cái Nhum  1977.0   \n133          Vĩnh Long   Châu Thành Tây  1977.0   \n12             Bến Tre           Mỏ Cày  2009.0   \n21          Bình Thuận        Hàm Thuận  1982.0   \n45              Hà Nội          Từ Liêm  2013.0   \n99           Quảng Nam           Trà My  2003.0   \n124         Tiền Giang          Gò Công  1979.0   \n\n                                                change  \\\n0                sáp nhập toàn bộ vào huyện Châu Thành   \n5        thành lập thị xã, đổi tên thành thị xã Phú Mỹ   \n7                            đổi tên thành huyện Ba Bể   \n9                        đổi tên thành thị xã Bạc Liêu   \n14   sáp nhập vào huyện Tân Uyên và thị xã Thủ Dầu Một   \n15       sáp nhập với huyện Dĩ An thành huyện Thuận An   \n18   sáp nhập với huyện Bù Đăng và huyện Bù Đốp thà...   \n23                         đổi tên thành huyện Đầm Dơi   \n26   sáp nhập với huyện Quảng Uyên thành huyện Quản...   \n27   sáp nhập với huyện Phục Hòa thành huyện Quảng Hòa   \n28                         sáp nhập vào huyện Hà Quảng   \n29                      sáp nhập vào huyện Trùng Khánh   \n33                      đổi tên thành thị xã Mường Lay   \n34                       đổi tên thành huyện Mường Chà   \n35                        đổi tên thành huyện Vĩnh Cửu   \n42                         đổi tên thành thị xã Phủ Lý   \n43      sáp nhập với huyện Kim Anh thành huyện Sóc Sơn   \n44      sáp nhập với huyện Đa Phúc thành huyện Sóc Sơn   \n52                          sáp nhập vào huyện Cát Hải   \n57                        đổi tên thành huyện Vị Thanh   \n59                        đổi tên thành thị xã Ngã Bảy   \n60                     sáp nhập vào thành phố Hòa Bình   \n67   sáp nhập với huyện Khánh Vĩnh thành huyện Diên...   \n69                      đổi tên thành huyện Kiên Lương   \n74                         sáp nhập với thị xã Lào Cai   \n80                     sáp nhập vào thành phố Nam Định   \n82    sáp nhập với thị xã Ninh Bình thành huyện Hoa Lư   \n83                        đổi tên thành huyện Nho Quan   \n84                          đổi tên thành huyện Yên Mô   \n91                         đổi tên thành huyện Cẩm Khê   \n97                       đổi tên thành huyện Nam Giang   \n102                        sáp nhập vào huyện Trà Bồng   \n103  thành lập thành phố, đổi tên thành thành phố H...   \n104                        đổi tên thành huyện Vân Đồn   \n105    thành lập thị xã, đổi tên thành thị xã Móng Cái   \n107   thành lập thị xã, đổi tên thành thị xã Quảng Yên   \n108                     sáp nhập vào thành phố Hạ Long   \n113                      đổi tên thành huyện Hòa Thành   \n116                       đổi tên thành huyện Đông Sơn   \n120                       đổi tên thành huyện Yên Định   \n121    thành lập thị xã, đổi tên thành thị xã Nghi Sơn   \n125                        đổi tên thành huyện Cần Giờ   \n127  sáp nhập với Quận 9 và quận Thủ Đức thành thàn...   \n128  sáp nhập với Quận 2 và quận Thủ Đức thành thàn...   \n129  sáp nhập với Quận 2 và Quận 9 thành thành phố ...   \n130    sáp nhập vào huyện Càng Long và huyện Cầu Ngang   \n132  sáp nhập với huyện Châu Thành Tây thành huyện ...   \n133    sáp nhập với huyện Cái Nhum thành huyện Long Hồ   \n12   chia tách thành huyện Mỏ Cày Bắc và huyện Mỏ C...   \n21   chia tách thành huyện Hàm Thuận Bắc và huyện H...   \n45     chia tách thành quận Bắc Từ Liêm và Nam Từ Liêm   \n99   chia tách thành huyện Bắc Trà My và huyện Nam ...   \n124  chia tách thành huyện Gò Công Đông và Gò Công Tây   \n\n     containing_keyword_two_times  \\\n0                               0   \n5                               0   \n7                               0   \n9                               0   \n14                              0   \n15                              0   \n18                              0   \n23                              0   \n26                              0   \n27                              0   \n28                              0   \n29                              0   \n33                              0   \n34                              0   \n35                              0   \n42                              0   \n43                              0   \n44                              0   \n52                              0   \n57                              0   \n59                              0   \n60                              0   \n67                              0   \n69                              0   \n74                              0   \n80                              0   \n82                              0   \n83                              0   \n84                              0   \n91                              0   \n97                              0   \n102                             0   \n103                             0   \n104                             0   \n105                             0   \n107                             0   \n108                             0   \n113                             0   \n116                             0   \n120                             0   \n121                             0   \n125                             0   \n127                             0   \n128                             0   \n129                             0   \n130                             0   \n132                             0   \n133                             0   \n12                              1   \n21                              1   \n45                              1   \n99                              1   \n124                             1   \n\n                                               address district_english  \\\n0       An Giang sáp nhập toàn bộ vào huyện Châu Thành       Chau Thanh   \n5                      Bà Rịa – Vũng Tàu thị xã Phú Mỹ           Phu My   \n7                                  Bắc Kạn huyện Ba Bể            Ba Be   \n9                             Bạc Liêu thị xã Bạc Liêu         Bac Lieu   \n14   Bình Dương sáp nhập vào huyện Tân Uyên và thị ...         Tan Uyen   \n15                           Bình Dương huyện Thuận An         Thuan An   \n18                         Bình Phước huyện Phước Long       Phuoc Long   \n23                                Cà Mau huyện Đầm Dơi          Dam Doi   \n26                            Cao Bằng huyện Quảng Hòa        Quang Hoa   \n27                            Cao Bằng huyện Quảng Hòa        Quang Hoa   \n28                Cao Bằng sáp nhập vào huyện Hà Quảng         Ha Quang   \n29             Cao Bằng sáp nhập vào huyện Trùng Khánh      Trung Khanh   \n33                          Điện Biên thị xã Mường Lay        Muong Lay   \n34                           Điện Biên huyện Mường Chà        Muong Cha   \n35                             Đồng Nai huyện Vĩnh Cửu         Vinh Cuu   \n42                                Hà Nam thị xã Phủ Lý           Phu Ly   \n43                                Hà Nội huyện Sóc Sơn          Soc Son   \n44                                Hà Nội huyện Sóc Sơn          Soc Son   \n52                Hải Phòng sáp nhập vào huyện Cát Hải          Cat Hai   \n57                            Hậu Giang huyện Vị Thanh         Vi Thanh   \n59                            Hậu Giang thị xã Ngã Bảy          Nga Bay   \n60                               Hòa Bình phố Hòa Bình         Hoa Binh   \n67                          Khánh Hòa huyện Diên Khánh       Dien Khanh   \n69                         Kiên Giang huyện Kiên Lương       Kien Luong   \n74                 Lào Cai sáp nhập với thị xã Lào Cai          Lao Cai   \n80                               Nam Định phố Nam Định         Nam Dinh   \n82                              Ninh Bình huyện Hoa Lư           Hoa Lu   \n83                            Ninh Bình huyện Nho Quan         Nho Quan   \n84                              Ninh Bình huyện Yên Mô           Yen Mo   \n91                               Phú Thọ huyện Cẩm Khê          Cam Khe   \n97                           Quảng Nam huyện Nam Giang        Nam Giang   \n102             Quảng Ngãi sáp nhập vào huyện Trà Bồng         Tra Bong   \n103                             Quảng Ninh phố Hạ Long          Ha Long   \n104                           Quảng Ninh huyện Vân Đồn          Van Don   \n105                         Quảng Ninh thị xã Móng Cái         Mong Cai   \n107                        Quảng Ninh thị xã Quảng Yên        Quang Yen   \n108                             Quảng Ninh phố Hạ Long          Ha Long   \n113                           Tây Ninh huyện Hòa Thành        Hoa Thanh   \n116                           Thanh Hóa huyện Đông Sơn         Dong Son   \n120                           Thanh Hóa huyện Yên Định         Yen Dinh   \n121                          Thanh Hóa thị xã Nghi Sơn         Nghi Son   \n125                      Tp. Hồ Chí Minh huyện Cần Giờ          Can Gio   \n127                        Tp. Hồ Chí Minh phố Thủ Đức          Thu Duc   \n128                        Tp. Hồ Chí Minh phố Thủ Đức          Thu Duc   \n129                        Tp. Hồ Chí Minh phố Thủ Đức          Thu Duc   \n130  Trà Vinh sáp nhập vào huyện Càng Long và huyện...        Cang Long   \n132                            Vĩnh Long huyện Long Hồ          Long Ho   \n133                            Vĩnh Long huyện Long Hồ          Long Ho   \n12                                                 NaN       Mo Cay Nam   \n21                                                 NaN    Ham Thuan Nam   \n45                                                 NaN      Nam Tu Liem   \n99                                                 NaN       Nam Tra My   \n124                                                NaN      Go Cong Tay   \n\n      province_english   district_key  \n0             An Giang         hueduc  \n5    Ba Ria - Vung Tau       tanthanh  \n7              Bac Kan          chora  \n9             Bac Lieu        minhhai  \n14          Binh Duong      chauthanh  \n15          Binh Duong       laithieu  \n18          Binh Phuoc      phuocbinh  \n23              Ca Mau       ngochien  \n26            Cao Bang        phuchoa  \n27            Cao Bang      quanguyen  \n28            Cao Bang      thongnong  \n29            Cao Bang        tralinh  \n33           Dien Bien        laichau  \n34           Dien Bien       muonglay  \n35            Dong Nai         vinhan  \n42              Ha Nam          hanam  \n43              Ha Noi         daphuc  \n44              Ha Noi         kimanh  \n52           Hai Phong          catba  \n57           Hau Giang        mythanh  \n59           Hau Giang        tanhiep  \n60            Hoa Binh          kyson  \n67           Khanh Hoa     khanhxuong  \n69          Kien Giang         hatien  \n74             Lao Cai       camduong  \n80            Nam Dinh          myloc  \n82           Ninh Binh       giakhanh  \n83           Ninh Binh      hoanglong  \n84           Ninh Binh        tamdiep  \n91             Phu Tho       songthao  \n97           Quang Nam          giang  \n102         Quang Ngai         taytra  \n103         Quang Ninh        honggai  \n104         Quang Ninh         campha  \n105         Quang Ninh        haininh  \n107         Quang Ninh        yenhung  \n108         Quang Ninh        hoanhbo  \n113           Tay Ninh      phukhuong  \n116          Thanh Hoa      dongthieu  \n120          Thanh Hoa       thieuyen  \n121          Thanh Hoa        tinhgia  \n125        Ho Chi Minh       duyenhai  \n127        Ho Chi Minh          quan2  \n128        Ho Chi Minh          quan9  \n129        Ho Chi Minh   thuduc(quan)  \n130           Tra Vinh  chauthanhdong  \n132          Vinh Long        cainhum  \n133          Vinh Long   chauthanhtay  \n12             Ben Tre          mocay  \n21          Binh Thuan       hamthuan  \n45              Ha Noi         tuliem  \n99           Quang Nam          tramy  \n124         Tien Giang         gocong  ",
      "text/html": "<div>\n<style scoped>\n    .dataframe tbody tr th:only-of-type {\n        vertical-align: middle;\n    }\n\n    .dataframe tbody tr th {\n        vertical-align: top;\n    }\n\n    .dataframe thead th {\n        text-align: right;\n    }\n</style>\n<table border=\"1\" class=\"dataframe\">\n  <thead>\n    <tr style=\"text-align: right;\">\n      <th></th>\n      <th>province</th>\n      <th>old_district</th>\n      <th>year</th>\n      <th>change</th>\n      <th>containing_keyword_two_times</th>\n      <th>address</th>\n      <th>district_english</th>\n      <th>province_english</th>\n      <th>district_key</th>\n    </tr>\n  </thead>\n  <tbody>\n    <tr>\n      <th>0</th>\n      <td>An Giang</td>\n      <td>Huệ Đức</td>\n      <td>1977.0</td>\n      <td>sáp nhập toàn bộ vào huyện Châu Thành</td>\n      <td>0</td>\n      <td>An Giang sáp nhập toàn bộ vào huyện Châu Thành</td>\n      <td>Chau Thanh</td>\n      <td>An Giang</td>\n      <td>hueduc</td>\n    </tr>\n    <tr>\n      <th>5</th>\n      <td>Bà Rịa – Vũng Tàu</td>\n      <td>Tân Thành</td>\n      <td>2018.0</td>\n      <td>thành lập thị xã, đổi tên thành thị xã Phú Mỹ</td>\n      <td>0</td>\n      <td>Bà Rịa – Vũng Tàu thị xã Phú Mỹ</td>\n      <td>Phu My</td>\n      <td>Ba Ria - Vung Tau</td>\n      <td>tanthanh</td>\n    </tr>\n    <tr>\n      <th>7</th>\n      <td>Bắc Kạn</td>\n      <td>Chợ Rã</td>\n      <td>1984.0</td>\n      <td>đổi tên thành huyện Ba Bể</td>\n      <td>0</td>\n      <td>Bắc Kạn huyện Ba Bể</td>\n      <td>Ba Be</td>\n      <td>Bac Kan</td>\n      <td>chora</td>\n    </tr>\n    <tr>\n      <th>9</th>\n      <td>Bạc Liêu</td>\n      <td>Minh Hải</td>\n      <td>1984.0</td>\n      <td>đổi tên thành thị xã Bạc Liêu</td>\n      <td>0</td>\n      <td>Bạc Liêu thị xã Bạc Liêu</td>\n      <td>Bac Lieu</td>\n      <td>Bac Lieu</td>\n      <td>minhhai</td>\n    </tr>\n    <tr>\n      <th>14</th>\n      <td>Bình Dương</td>\n      <td>Châu Thành</td>\n      <td>1977.0</td>\n      <td>sáp nhập vào huyện Tân Uyên và thị xã Thủ Dầu Một</td>\n      <td>0</td>\n      <td>Bình Dương sáp nhập vào huyện Tân Uyên và thị ...</td>\n      <td>Tan Uyen</td>\n      <td>Binh Duong</td>\n      <td>chauthanh</td>\n    </tr>\n    <tr>\n      <th>15</th>\n      <td>Bình Dương</td>\n      <td>Lái Thiêu</td>\n      <td>1977.0</td>\n      <td>sáp nhập với huyện Dĩ An thành huyện Thuận An</td>\n      <td>0</td>\n      <td>Bình Dương huyện Thuận An</td>\n      <td>Thuan An</td>\n      <td>Binh Duong</td>\n      <td>laithieu</td>\n    </tr>\n    <tr>\n      <th>18</th>\n      <td>Bình Phước</td>\n      <td>Phước Bình</td>\n      <td>1977.0</td>\n      <td>sáp nhập với huyện Bù Đăng và huyện Bù Đốp thà...</td>\n      <td>0</td>\n      <td>Bình Phước huyện Phước Long</td>\n      <td>Phuoc Long</td>\n      <td>Binh Phuoc</td>\n      <td>phuocbinh</td>\n    </tr>\n    <tr>\n      <th>23</th>\n      <td>Cà Mau</td>\n      <td>Ngọc Hiển</td>\n      <td>1984.0</td>\n      <td>đổi tên thành huyện Đầm Dơi</td>\n      <td>0</td>\n      <td>Cà Mau huyện Đầm Dơi</td>\n      <td>Dam Doi</td>\n      <td>Ca Mau</td>\n      <td>ngochien</td>\n    </tr>\n    <tr>\n      <th>26</th>\n      <td>Cao Bằng</td>\n      <td>Phục Hòa</td>\n      <td>2020.0</td>\n      <td>sáp nhập với huyện Quảng Uyên thành huyện Quản...</td>\n      <td>0</td>\n      <td>Cao Bằng huyện Quảng Hòa</td>\n      <td>Quang Hoa</td>\n      <td>Cao Bang</td>\n      <td>phuchoa</td>\n    </tr>\n    <tr>\n      <th>27</th>\n      <td>Cao Bằng</td>\n      <td>Quảng Uyên</td>\n      <td>2020.0</td>\n      <td>sáp nhập với huyện Phục Hòa thành huyện Quảng Hòa</td>\n      <td>0</td>\n      <td>Cao Bằng huyện Quảng Hòa</td>\n      <td>Quang Hoa</td>\n      <td>Cao Bang</td>\n      <td>quanguyen</td>\n    </tr>\n    <tr>\n      <th>28</th>\n      <td>Cao Bằng</td>\n      <td>Thông Nông</td>\n      <td>2020.0</td>\n      <td>sáp nhập vào huyện Hà Quảng</td>\n      <td>0</td>\n      <td>Cao Bằng sáp nhập vào huyện Hà Quảng</td>\n      <td>Ha Quang</td>\n      <td>Cao Bang</td>\n      <td>thongnong</td>\n    </tr>\n    <tr>\n      <th>29</th>\n      <td>Cao Bằng</td>\n      <td>Trà Lĩnh</td>\n      <td>2020.0</td>\n      <td>sáp nhập vào huyện Trùng Khánh</td>\n      <td>0</td>\n      <td>Cao Bằng sáp nhập vào huyện Trùng Khánh</td>\n      <td>Trung Khanh</td>\n      <td>Cao Bang</td>\n      <td>tralinh</td>\n    </tr>\n    <tr>\n      <th>33</th>\n      <td>Điện Biên</td>\n      <td>Lai Châu</td>\n      <td>2005.0</td>\n      <td>đổi tên thành thị xã Mường Lay</td>\n      <td>0</td>\n      <td>Điện Biên thị xã Mường Lay</td>\n      <td>Muong Lay</td>\n      <td>Dien Bien</td>\n      <td>laichau</td>\n    </tr>\n    <tr>\n      <th>34</th>\n      <td>Điện Biên</td>\n      <td>Mường Lay</td>\n      <td>2005.0</td>\n      <td>đổi tên thành huyện Mường Chà</td>\n      <td>0</td>\n      <td>Điện Biên huyện Mường Chà</td>\n      <td>Muong Cha</td>\n      <td>Dien Bien</td>\n      <td>muonglay</td>\n    </tr>\n    <tr>\n      <th>35</th>\n      <td>Đồng Nai</td>\n      <td>Vĩnh An</td>\n      <td>1994.0</td>\n      <td>đổi tên thành huyện Vĩnh Cửu</td>\n      <td>0</td>\n      <td>Đồng Nai huyện Vĩnh Cửu</td>\n      <td>Vinh Cuu</td>\n      <td>Dong Nai</td>\n      <td>vinhan</td>\n    </tr>\n    <tr>\n      <th>42</th>\n      <td>Hà Nam</td>\n      <td>Hà Nam</td>\n      <td>1996.0</td>\n      <td>đổi tên thành thị xã Phủ Lý</td>\n      <td>0</td>\n      <td>Hà Nam thị xã Phủ Lý</td>\n      <td>Phu Ly</td>\n      <td>Ha Nam</td>\n      <td>hanam</td>\n    </tr>\n    <tr>\n      <th>43</th>\n      <td>Hà Nội</td>\n      <td>Đa Phúc</td>\n      <td>1977.0</td>\n      <td>sáp nhập với huyện Kim Anh thành huyện Sóc Sơn</td>\n      <td>0</td>\n      <td>Hà Nội huyện Sóc Sơn</td>\n      <td>Soc Son</td>\n      <td>Ha Noi</td>\n      <td>daphuc</td>\n    </tr>\n    <tr>\n      <th>44</th>\n      <td>Hà Nội</td>\n      <td>Kim Anh</td>\n      <td>1977.0</td>\n      <td>sáp nhập với huyện Đa Phúc thành huyện Sóc Sơn</td>\n      <td>0</td>\n      <td>Hà Nội huyện Sóc Sơn</td>\n      <td>Soc Son</td>\n      <td>Ha Noi</td>\n      <td>kimanh</td>\n    </tr>\n    <tr>\n      <th>52</th>\n      <td>Hải Phòng</td>\n      <td>Cát Bà</td>\n      <td>1977.0</td>\n      <td>sáp nhập vào huyện Cát Hải</td>\n      <td>0</td>\n      <td>Hải Phòng sáp nhập vào huyện Cát Hải</td>\n      <td>Cat Hai</td>\n      <td>Hai Phong</td>\n      <td>catba</td>\n    </tr>\n    <tr>\n      <th>57</th>\n      <td>Hậu Giang</td>\n      <td>Mỹ Thanh</td>\n      <td>1982.0</td>\n      <td>đổi tên thành huyện Vị Thanh</td>\n      <td>0</td>\n      <td>Hậu Giang huyện Vị Thanh</td>\n      <td>Vi Thanh</td>\n      <td>Hau Giang</td>\n      <td>mythanh</td>\n    </tr>\n    <tr>\n      <th>59</th>\n      <td>Hậu Giang</td>\n      <td>Tân Hiệp</td>\n      <td>2006.0</td>\n      <td>đổi tên thành thị xã Ngã Bảy</td>\n      <td>0</td>\n      <td>Hậu Giang thị xã Ngã Bảy</td>\n      <td>Nga Bay</td>\n      <td>Hau Giang</td>\n      <td>tanhiep</td>\n    </tr>\n    <tr>\n      <th>60</th>\n      <td>Hòa Bình</td>\n      <td>Kỳ Sơn</td>\n      <td>2019.0</td>\n      <td>sáp nhập vào thành phố Hòa Bình</td>\n      <td>0</td>\n      <td>Hòa Bình phố Hòa Bình</td>\n      <td>Hoa Binh</td>\n      <td>Hoa Binh</td>\n      <td>kyson</td>\n    </tr>\n    <tr>\n      <th>67</th>\n      <td>Khánh Hòa</td>\n      <td>Khánh Xương</td>\n      <td>1977.0</td>\n      <td>sáp nhập với huyện Khánh Vĩnh thành huyện Diên...</td>\n      <td>0</td>\n      <td>Khánh Hòa huyện Diên Khánh</td>\n      <td>Dien Khanh</td>\n      <td>Khanh Hoa</td>\n      <td>khanhxuong</td>\n    </tr>\n    <tr>\n      <th>69</th>\n      <td>Kiên Giang</td>\n      <td>Hà Tiên</td>\n      <td>1999.0</td>\n      <td>đổi tên thành huyện Kiên Lương</td>\n      <td>0</td>\n      <td>Kiên Giang huyện Kiên Lương</td>\n      <td>Kien Luong</td>\n      <td>Kien Giang</td>\n      <td>hatien</td>\n    </tr>\n    <tr>\n      <th>74</th>\n      <td>Lào Cai</td>\n      <td>Cam Đường</td>\n      <td>2002.0</td>\n      <td>sáp nhập với thị xã Lào Cai</td>\n      <td>0</td>\n      <td>Lào Cai sáp nhập với thị xã Lào Cai</td>\n      <td>Lao Cai</td>\n      <td>Lao Cai</td>\n      <td>camduong</td>\n    </tr>\n    <tr>\n      <th>80</th>\n      <td>Nam Định</td>\n      <td>Mỹ Lộc</td>\n      <td>2024.0</td>\n      <td>sáp nhập vào thành phố Nam Định</td>\n      <td>0</td>\n      <td>Nam Định phố Nam Định</td>\n      <td>Nam Dinh</td>\n      <td>Nam Dinh</td>\n      <td>myloc</td>\n    </tr>\n    <tr>\n      <th>82</th>\n      <td>Ninh Bình</td>\n      <td>Gia Khánh</td>\n      <td>1977.0</td>\n      <td>sáp nhập với thị xã Ninh Bình thành huyện Hoa Lư</td>\n      <td>0</td>\n      <td>Ninh Bình huyện Hoa Lư</td>\n      <td>Hoa Lu</td>\n      <td>Ninh Binh</td>\n      <td>giakhanh</td>\n    </tr>\n    <tr>\n      <th>83</th>\n      <td>Ninh Bình</td>\n      <td>Hoàng Long</td>\n      <td>1993.0</td>\n      <td>đổi tên thành huyện Nho Quan</td>\n      <td>0</td>\n      <td>Ninh Bình huyện Nho Quan</td>\n      <td>Nho Quan</td>\n      <td>Ninh Binh</td>\n      <td>hoanglong</td>\n    </tr>\n    <tr>\n      <th>84</th>\n      <td>Ninh Bình</td>\n      <td>Tam Điệp</td>\n      <td>1994.0</td>\n      <td>đổi tên thành huyện Yên Mô</td>\n      <td>0</td>\n      <td>Ninh Bình huyện Yên Mô</td>\n      <td>Yen Mo</td>\n      <td>Ninh Binh</td>\n      <td>tamdiep</td>\n    </tr>\n    <tr>\n      <th>91</th>\n      <td>Phú Thọ</td>\n      <td>Sông Thao</td>\n      <td>2002.0</td>\n      <td>đổi tên thành huyện Cẩm Khê</td>\n      <td>0</td>\n      <td>Phú Thọ huyện Cẩm Khê</td>\n      <td>Cam Khe</td>\n      <td>Phu Tho</td>\n      <td>songthao</td>\n    </tr>\n    <tr>\n      <th>97</th>\n      <td>Quảng Nam</td>\n      <td>Giằng</td>\n      <td>1999.0</td>\n      <td>đổi tên thành huyện Nam Giang</td>\n      <td>0</td>\n      <td>Quảng Nam huyện Nam Giang</td>\n      <td>Nam Giang</td>\n      <td>Quang Nam</td>\n      <td>giang</td>\n    </tr>\n    <tr>\n      <th>102</th>\n      <td>Quảng Ngãi</td>\n      <td>Tây Trà</td>\n      <td>2020.0</td>\n      <td>sáp nhập vào huyện Trà Bồng</td>\n      <td>0</td>\n      <td>Quảng Ngãi sáp nhập vào huyện Trà Bồng</td>\n      <td>Tra Bong</td>\n      <td>Quang Ngai</td>\n      <td>taytra</td>\n    </tr>\n    <tr>\n      <th>103</th>\n      <td>Quảng Ninh</td>\n      <td>Hồng Gai</td>\n      <td>1993.0</td>\n      <td>thành lập thành phố, đổi tên thành thành phố H...</td>\n      <td>0</td>\n      <td>Quảng Ninh phố Hạ Long</td>\n      <td>Ha Long</td>\n      <td>Quang Ninh</td>\n      <td>honggai</td>\n    </tr>\n    <tr>\n      <th>104</th>\n      <td>Quảng Ninh</td>\n      <td>Cẩm Phả</td>\n      <td>1994.0</td>\n      <td>đổi tên thành huyện Vân Đồn</td>\n      <td>0</td>\n      <td>Quảng Ninh huyện Vân Đồn</td>\n      <td>Van Don</td>\n      <td>Quang Ninh</td>\n      <td>campha</td>\n    </tr>\n    <tr>\n      <th>105</th>\n      <td>Quảng Ninh</td>\n      <td>Hải Ninh</td>\n      <td>1998.0</td>\n      <td>thành lập thị xã, đổi tên thành thị xã Móng Cái</td>\n      <td>0</td>\n      <td>Quảng Ninh thị xã Móng Cái</td>\n      <td>Mong Cai</td>\n      <td>Quang Ninh</td>\n      <td>haininh</td>\n    </tr>\n    <tr>\n      <th>107</th>\n      <td>Quảng Ninh</td>\n      <td>Yên Hưng</td>\n      <td>2011.0</td>\n      <td>thành lập thị xã, đổi tên thành thị xã Quảng Yên</td>\n      <td>0</td>\n      <td>Quảng Ninh thị xã Quảng Yên</td>\n      <td>Quang Yen</td>\n      <td>Quang Ninh</td>\n      <td>yenhung</td>\n    </tr>\n    <tr>\n      <th>108</th>\n      <td>Quảng Ninh</td>\n      <td>Hoành Bồ</td>\n      <td>2019.0</td>\n      <td>sáp nhập vào thành phố Hạ Long</td>\n      <td>0</td>\n      <td>Quảng Ninh phố Hạ Long</td>\n      <td>Ha Long</td>\n      <td>Quang Ninh</td>\n      <td>hoanhbo</td>\n    </tr>\n    <tr>\n      <th>113</th>\n      <td>Tây Ninh</td>\n      <td>Phú Khương</td>\n      <td>1979.0</td>\n      <td>đổi tên thành huyện Hòa Thành</td>\n      <td>0</td>\n      <td>Tây Ninh huyện Hòa Thành</td>\n      <td>Hoa Thanh</td>\n      <td>Tay Ninh</td>\n      <td>phukhuong</td>\n    </tr>\n    <tr>\n      <th>116</th>\n      <td>Thanh Hóa</td>\n      <td>Đông Thiệu</td>\n      <td>1982.0</td>\n      <td>đổi tên thành huyện Đông Sơn</td>\n      <td>0</td>\n      <td>Thanh Hóa huyện Đông Sơn</td>\n      <td>Dong Son</td>\n      <td>Thanh Hoa</td>\n      <td>dongthieu</td>\n    </tr>\n    <tr>\n      <th>120</th>\n      <td>Thanh Hóa</td>\n      <td>Thiệu Yên</td>\n      <td>1996.0</td>\n      <td>đổi tên thành huyện Yên Định</td>\n      <td>0</td>\n      <td>Thanh Hóa huyện Yên Định</td>\n      <td>Yen Dinh</td>\n      <td>Thanh Hoa</td>\n      <td>thieuyen</td>\n    </tr>\n    <tr>\n      <th>121</th>\n      <td>Thanh Hóa</td>\n      <td>Tĩnh Gia</td>\n      <td>2020.0</td>\n      <td>thành lập thị xã, đổi tên thành thị xã Nghi Sơn</td>\n      <td>0</td>\n      <td>Thanh Hóa thị xã Nghi Sơn</td>\n      <td>Nghi Son</td>\n      <td>Thanh Hoa</td>\n      <td>tinhgia</td>\n    </tr>\n    <tr>\n      <th>125</th>\n      <td>Tp. Hồ Chí Minh</td>\n      <td>Duyên Hải</td>\n      <td>1991.0</td>\n      <td>đổi tên thành huyện Cần Giờ</td>\n      <td>0</td>\n      <td>Tp. Hồ Chí Minh huyện Cần Giờ</td>\n      <td>Can Gio</td>\n      <td>Ho Chi Minh</td>\n      <td>duyenhai</td>\n    </tr>\n    <tr>\n      <th>127</th>\n      <td>Tp. Hồ Chí Minh</td>\n      <td>Quận 2</td>\n      <td>2020.0</td>\n      <td>sáp nhập với Quận 9 và quận Thủ Đức thành thàn...</td>\n      <td>0</td>\n      <td>Tp. Hồ Chí Minh phố Thủ Đức</td>\n      <td>Thu Duc</td>\n      <td>Ho Chi Minh</td>\n      <td>quan2</td>\n    </tr>\n    <tr>\n      <th>128</th>\n      <td>Tp. Hồ Chí Minh</td>\n      <td>Quận 9</td>\n      <td>2020.0</td>\n      <td>sáp nhập với Quận 2 và quận Thủ Đức thành thàn...</td>\n      <td>0</td>\n      <td>Tp. Hồ Chí Minh phố Thủ Đức</td>\n      <td>Thu Duc</td>\n      <td>Ho Chi Minh</td>\n      <td>quan9</td>\n    </tr>\n    <tr>\n      <th>129</th>\n      <td>Tp. Hồ Chí Minh</td>\n      <td>Thủ Đức (quận)</td>\n      <td>2020.0</td>\n      <td>sáp nhập với Quận 2 và Quận 9 thành thành phố ...</td>\n      <td>0</td>\n      <td>Tp. Hồ Chí Minh phố Thủ Đức</td>\n      <td>Thu Duc</td>\n      <td>Ho Chi Minh</td>\n      <td>thuduc(quan)</td>\n    </tr>\n    <tr>\n      <th>130</th>\n      <td>Trà Vinh</td>\n      <td>Châu Thành Đông</td>\n      <td>1977.0</td>\n      <td>sáp nhập vào huyện Càng Long và huyện Cầu Ngang</td>\n      <td>0</td>\n      <td>Trà Vinh sáp nhập vào huyện Càng Long và huyện...</td>\n      <td>Cang Long</td>\n      <td>Tra Vinh</td>\n      <td>chauthanhdong</td>\n    </tr>\n    <tr>\n      <th>132</th>\n      <td>Vĩnh Long</td>\n      <td>Cái Nhum</td>\n      <td>1977.0</td>\n      <td>sáp nhập với huyện Châu Thành Tây thành huyện ...</td>\n      <td>0</td>\n      <td>Vĩnh Long huyện Long Hồ</td>\n      <td>Long Ho</td>\n      <td>Vinh Long</td>\n      <td>cainhum</td>\n    </tr>\n    <tr>\n      <th>133</th>\n      <td>Vĩnh Long</td>\n      <td>Châu Thành Tây</td>\n      <td>1977.0</td>\n      <td>sáp nhập với huyện Cái Nhum thành huyện Long Hồ</td>\n      <td>0</td>\n      <td>Vĩnh Long huyện Long Hồ</td>\n      <td>Long Ho</td>\n      <td>Vinh Long</td>\n      <td>chauthanhtay</td>\n    </tr>\n    <tr>\n      <th>12</th>\n      <td>Bến Tre</td>\n      <td>Mỏ Cày</td>\n      <td>2009.0</td>\n      <td>chia tách thành huyện Mỏ Cày Bắc và huyện Mỏ C...</td>\n      <td>1</td>\n      <td>NaN</td>\n      <td>Mo Cay Nam</td>\n      <td>Ben Tre</td>\n      <td>mocay</td>\n    </tr>\n    <tr>\n      <th>21</th>\n      <td>Bình Thuận</td>\n      <td>Hàm Thuận</td>\n      <td>1982.0</td>\n      <td>chia tách thành huyện Hàm Thuận Bắc và huyện H...</td>\n      <td>1</td>\n      <td>NaN</td>\n      <td>Ham Thuan Nam</td>\n      <td>Binh Thuan</td>\n      <td>hamthuan</td>\n    </tr>\n    <tr>\n      <th>45</th>\n      <td>Hà Nội</td>\n      <td>Từ Liêm</td>\n      <td>2013.0</td>\n      <td>chia tách thành quận Bắc Từ Liêm và Nam Từ Liêm</td>\n      <td>1</td>\n      <td>NaN</td>\n      <td>Nam Tu Liem</td>\n      <td>Ha Noi</td>\n      <td>tuliem</td>\n    </tr>\n    <tr>\n      <th>99</th>\n      <td>Quảng Nam</td>\n      <td>Trà My</td>\n      <td>2003.0</td>\n      <td>chia tách thành huyện Bắc Trà My và huyện Nam ...</td>\n      <td>1</td>\n      <td>NaN</td>\n      <td>Nam Tra My</td>\n      <td>Quang Nam</td>\n      <td>tramy</td>\n    </tr>\n    <tr>\n      <th>124</th>\n      <td>Tiền Giang</td>\n      <td>Gò Công</td>\n      <td>1979.0</td>\n      <td>chia tách thành huyện Gò Công Đông và Gò Công Tây</td>\n      <td>1</td>\n      <td>NaN</td>\n      <td>Go Cong Tay</td>\n      <td>Tien Giang</td>\n      <td>gocong</td>\n    </tr>\n  </tbody>\n</table>\n</div>"
     },
     "execution_count": 27,
     "metadata": {},
     "output_type": "execute_result"
    }
   ],
   "source": [
    "df_all"
   ],
   "metadata": {
    "collapsed": false,
    "ExecuteTime": {
     "end_time": "2024-09-18T15:42:11.019999Z",
     "start_time": "2024-09-18T15:42:10.998943Z"
    }
   },
   "id": "5af6177826ab7793",
   "execution_count": 27
  },
  {
   "cell_type": "code",
   "outputs": [
    {
     "data": {
      "text/plain": "[('An Giang', 'Chau Thanh', 'hueduc'),\n ('Ba Ria - Vung Tau', 'Phu My', 'tanthanh'),\n ('Bac Kan', 'Ba Be', 'chora'),\n ('Bac Lieu', 'Bac Lieu', 'minhhai'),\n ('Binh Duong', 'Tan Uyen', 'chauthanh'),\n ('Binh Duong', 'Thuan An', 'laithieu'),\n ('Binh Phuoc', 'Phuoc Long', 'phuocbinh'),\n ('Ca Mau', 'Dam Doi', 'ngochien'),\n ('Cao Bang', 'Quang Hoa', 'phuchoa'),\n ('Cao Bang', 'Quang Hoa', 'quanguyen'),\n ('Cao Bang', 'Ha Quang', 'thongnong'),\n ('Cao Bang', 'Trung Khanh', 'tralinh'),\n ('Dien Bien', 'Muong Lay', 'laichau'),\n ('Dien Bien', 'Muong Cha', 'muonglay'),\n ('Dong Nai', 'Vinh Cuu', 'vinhan'),\n ('Ha Nam', 'Phu Ly', 'hanam'),\n ('Ha Noi', 'Soc Son', 'daphuc'),\n ('Ha Noi', 'Soc Son', 'kimanh'),\n ('Hai Phong', 'Cat Hai', 'catba'),\n ('Hau Giang', 'Vi Thanh', 'mythanh'),\n ('Hau Giang', 'Nga Bay', 'tanhiep'),\n ('Hoa Binh', 'Hoa Binh', 'kyson'),\n ('Khanh Hoa', 'Dien Khanh', 'khanhxuong'),\n ('Kien Giang', 'Kien Luong', 'hatien'),\n ('Lao Cai', 'Lao Cai', 'camduong'),\n ('Nam Dinh', 'Nam Dinh', 'myloc'),\n ('Ninh Binh', 'Hoa Lu', 'giakhanh'),\n ('Ninh Binh', 'Nho Quan', 'hoanglong'),\n ('Ninh Binh', 'Yen Mo', 'tamdiep'),\n ('Phu Tho', 'Cam Khe', 'songthao'),\n ('Quang Nam', 'Nam Giang', 'giang'),\n ('Quang Ngai', 'Tra Bong', 'taytra'),\n ('Quang Ninh', 'Ha Long', 'honggai'),\n ('Quang Ninh', 'Van Don', 'campha'),\n ('Quang Ninh', 'Mong Cai', 'haininh'),\n ('Quang Ninh', 'Quang Yen', 'yenhung'),\n ('Quang Ninh', 'Ha Long', 'hoanhbo'),\n ('Tay Ninh', 'Hoa Thanh', 'phukhuong'),\n ('Thanh Hoa', 'Dong Son', 'dongthieu'),\n ('Thanh Hoa', 'Yen Dinh', 'thieuyen'),\n ('Thanh Hoa', 'Nghi Son', 'tinhgia'),\n ('Ho Chi Minh', 'Can Gio', 'duyenhai'),\n ('Ho Chi Minh', 'Thu Duc', 'quan2'),\n ('Ho Chi Minh', 'Thu Duc', 'quan9'),\n ('Ho Chi Minh', 'Thu Duc', 'thuduc(quan)'),\n ('Tra Vinh', 'Cang Long', 'chauthanhdong'),\n ('Vinh Long', 'Long Ho', 'cainhum'),\n ('Vinh Long', 'Long Ho', 'chauthanhtay'),\n ('Ben Tre', 'Mo Cay Nam', 'mocay'),\n ('Binh Thuan', 'Ham Thuan Nam', 'hamthuan'),\n ('Ha Noi', 'Nam Tu Liem', 'tuliem'),\n ('Quang Nam', 'Nam Tra My', 'tramy'),\n ('Tien Giang', 'Go Cong Tay', 'gocong')]"
     },
     "execution_count": 28,
     "metadata": {},
     "output_type": "execute_result"
    }
   ],
   "source": [
    "[tuple(i) for i in  df_all[['province_english', 'district_english', 'district_key']].values.tolist()]"
   ],
   "metadata": {
    "collapsed": false,
    "ExecuteTime": {
     "end_time": "2024-09-18T15:42:20.167541Z",
     "start_time": "2024-09-18T15:42:20.157994Z"
    }
   },
   "id": "7f62b2d1c12a21f0",
   "execution_count": 28
  },
  {
   "cell_type": "code",
   "outputs": [
    {
     "data": {
      "text/plain": "[('An Giang', 'Chau Thanh', 'hueduc'),\n ('Ba Ria - Vung Tau', 'Phu My', 'tanthanh'),\n ('Bac Kan', 'Ba Be', 'chora'),\n ('Bac Lieu', 'Bac Lieu', 'minhhai'),\n ('Binh Duong', 'Tan Uyen', 'chauthanh'),\n ('Binh Duong', 'Thuan An', 'laithieu'),\n ('Binh Phuoc', 'Phuoc Long', 'phuocbinh'),\n ('Ca Mau', 'Dam Doi', 'ngochien'),\n ('Cao Bang', 'Quang Hoa', 'phuchoa'),\n ('Cao Bang', 'Quang Hoa', 'quanguyen'),\n ('Cao Bang', 'Ha Quang', 'thongnong'),\n ('Cao Bang', 'Trung Khanh', 'tralinh'),\n ('Dien Bien', 'Muong Lay', 'laichau'),\n ('Dien Bien', 'Muong Cha', 'muonglay'),\n ('Dong Nai', 'Vinh Cuu', 'vinhan'),\n ('Ha Nam', 'Phu Ly', 'hanam'),\n ('Ha Noi', 'Soc Son', 'daphuc'),\n ('Ha Noi', 'Soc Son', 'kimanh'),\n ('Hai Phong', 'Cat Hai', 'catba'),\n ('Hau Giang', 'Vi Thanh', 'mythanh'),\n ('Hau Giang', 'Nga Bay', 'tanhiep'),\n ('Hoa Binh', 'Hoa Binh', 'kyson'),\n ('Khanh Hoa', 'Dien Khanh', 'khanhxuong'),\n ('Kien Giang', 'Kien Luong', 'hatien'),\n ('Lao Cai', 'Lao Cai', 'camduong'),\n ('Nam Dinh', 'Nam Dinh', 'myloc'),\n ('Ninh Binh', 'Hoa Lu', 'giakhanh'),\n ('Ninh Binh', 'Nho Quan', 'hoanglong'),\n ('Ninh Binh', 'Yen Mo', 'tamdiep'),\n ('Phu Tho', 'Cam Khe', 'songthao'),\n ('Quang Nam', 'Nam Giang', 'giang'),\n ('Quang Ngai', 'Tra Bong', 'taytra'),\n ('Quang Ninh', 'Ha Long', 'honggai'),\n ('Quang Ninh', 'Van Don', 'campha'),\n ('Quang Ninh', 'Mong Cai', 'haininh'),\n ('Quang Ninh', 'Quang Yen', 'yenhung'),\n ('Quang Ninh', 'Ha Long', 'hoanhbo'),\n ('Tay Ninh', 'Hoa Thanh', 'phukhuong'),\n ('Thanh Hoa', 'Dong Son', 'dongthieu'),\n ('Thanh Hoa', 'Yen Dinh', 'thieuyen'),\n ('Thanh Hoa', 'Nghi Son', 'tinhgia'),\n ('Ho Chi Minh', 'Can Gio', 'duyenhai'),\n ('Ho Chi Minh', 'Thu Duc', 'quan2'),\n ('Ho Chi Minh', 'Thu Duc', 'quan9'),\n ('Ho Chi Minh', 'Thu Duc', 'thuduc(quan)'),\n ('Tra Vinh', 'Cang Long', 'chauthanhdong'),\n ('Vinh Long', 'Long Ho', 'cainhum'),\n ('Vinh Long', 'Long Ho', 'chauthanhtay'),\n ('Ben Tre', 'Mo Cay Nam', 'mocay'),\n ('Binh Thuan', 'Ham Thuan Nam', 'hamthuan'),\n ('Ha Noi', 'Nam Tu Liem', 'tuliem'),\n ('Quang Nam', 'Nam Tra My', 'tramy'),\n ('Tien Giang', 'Go Cong Tay', 'gocong')]"
     },
     "execution_count": 30,
     "metadata": {},
     "output_type": "execute_result"
    }
   ],
   "source": [
    "[tuple(i) for i in  df_all[['province_english', 'district_english', 'district_key']].values.tolist()]"
   ],
   "metadata": {
    "collapsed": false,
    "ExecuteTime": {
     "end_time": "2024-09-18T08:31:44.432439Z",
     "start_time": "2024-09-18T08:31:44.426667Z"
    }
   },
   "id": "89de09cc680eb96f",
   "execution_count": 30
  },
  {
   "cell_type": "code",
   "outputs": [
    {
     "data": {
      "text/plain": "       province old_district    year  \\\n12      Bến Tre       Mỏ Cày  2009.0   \n21   Bình Thuận    Hàm Thuận  1982.0   \n45       Hà Nội      Từ Liêm  2013.0   \n99    Quảng Nam       Trà My  2003.0   \n124  Tiền Giang      Gò Công  1979.0   \n\n                                                change  \\\n12   chia tách thành huyện Mỏ Cày Bắc và huyện Mỏ C...   \n21   chia tách thành huyện Hàm Thuận Bắc và huyện H...   \n45     chia tách thành quận Bắc Từ Liêm và Nam Từ Liêm   \n99   chia tách thành huyện Bắc Trà My và huyện Nam ...   \n124  chia tách thành huyện Gò Công Đông và Gò Công Tây   \n\n     containing_keyword_two_times district_english old_district_key  \n12                              1       Mo Cay Nam            mocay  \n21                              1    Ham Thuan Nam         hamthuan  \n45                              1      Nam Tu Liem           tuliem  \n99                              1       Nam Tra My            tramy  \n124                             1      Go Cong Tay           gocong  ",
      "text/html": "<div>\n<style scoped>\n    .dataframe tbody tr th:only-of-type {\n        vertical-align: middle;\n    }\n\n    .dataframe tbody tr th {\n        vertical-align: top;\n    }\n\n    .dataframe thead th {\n        text-align: right;\n    }\n</style>\n<table border=\"1\" class=\"dataframe\">\n  <thead>\n    <tr style=\"text-align: right;\">\n      <th></th>\n      <th>province</th>\n      <th>old_district</th>\n      <th>year</th>\n      <th>change</th>\n      <th>containing_keyword_two_times</th>\n      <th>district_english</th>\n      <th>old_district_key</th>\n    </tr>\n  </thead>\n  <tbody>\n    <tr>\n      <th>12</th>\n      <td>Bến Tre</td>\n      <td>Mỏ Cày</td>\n      <td>2009.0</td>\n      <td>chia tách thành huyện Mỏ Cày Bắc và huyện Mỏ C...</td>\n      <td>1</td>\n      <td>Mo Cay Nam</td>\n      <td>mocay</td>\n    </tr>\n    <tr>\n      <th>21</th>\n      <td>Bình Thuận</td>\n      <td>Hàm Thuận</td>\n      <td>1982.0</td>\n      <td>chia tách thành huyện Hàm Thuận Bắc và huyện H...</td>\n      <td>1</td>\n      <td>Ham Thuan Nam</td>\n      <td>hamthuan</td>\n    </tr>\n    <tr>\n      <th>45</th>\n      <td>Hà Nội</td>\n      <td>Từ Liêm</td>\n      <td>2013.0</td>\n      <td>chia tách thành quận Bắc Từ Liêm và Nam Từ Liêm</td>\n      <td>1</td>\n      <td>Nam Tu Liem</td>\n      <td>tuliem</td>\n    </tr>\n    <tr>\n      <th>99</th>\n      <td>Quảng Nam</td>\n      <td>Trà My</td>\n      <td>2003.0</td>\n      <td>chia tách thành huyện Bắc Trà My và huyện Nam ...</td>\n      <td>1</td>\n      <td>Nam Tra My</td>\n      <td>tramy</td>\n    </tr>\n    <tr>\n      <th>124</th>\n      <td>Tiền Giang</td>\n      <td>Gò Công</td>\n      <td>1979.0</td>\n      <td>chia tách thành huyện Gò Công Đông và Gò Công Tây</td>\n      <td>1</td>\n      <td>Go Cong Tay</td>\n      <td>gocong</td>\n    </tr>\n  </tbody>\n</table>\n</div>"
     },
     "execution_count": 49,
     "metadata": {},
     "output_type": "execute_result"
    }
   ],
   "source": [
    "df_split"
   ],
   "metadata": {
    "collapsed": false,
    "ExecuteTime": {
     "end_time": "2024-09-18T08:46:37.359698Z",
     "start_time": "2024-09-18T08:46:37.340039Z"
    }
   },
   "id": "441dcf20d4df44d4",
   "execution_count": 49
  },
  {
   "cell_type": "code",
   "outputs": [],
   "source": [
    "from vietadminunits import get_data, parse_address"
   ],
   "metadata": {
    "collapsed": false,
    "ExecuteTime": {
     "end_time": "2024-09-18T15:43:07.851560Z",
     "start_time": "2024-09-18T15:43:07.833973Z"
    }
   },
   "id": "39a8676f22de9e01",
   "execution_count": 31
  },
  {
   "cell_type": "code",
   "outputs": [],
   "source": [
    "df_test = pd.DataFrame(get_data())"
   ],
   "metadata": {
    "collapsed": false,
    "ExecuteTime": {
     "end_time": "2024-09-18T15:43:48.860291Z",
     "start_time": "2024-09-18T15:43:48.734626Z"
    }
   },
   "id": "82afa2e0968559a",
   "execution_count": 35
  },
  {
   "cell_type": "code",
   "outputs": [],
   "source": [
    "df_test['ward_key'] = df_test['short_ward'].apply(to_key, args=(3,))"
   ],
   "metadata": {
    "collapsed": false,
    "ExecuteTime": {
     "end_time": "2024-09-18T15:43:49.548010Z",
     "start_time": "2024-09-18T15:43:49.491907Z"
    }
   },
   "id": "d5ef387b2e12edbd",
   "execution_count": 36
  },
  {
   "cell_type": "code",
   "outputs": [],
   "source": [
    "df_test['district_key'] = df_test['short_district'].apply(to_key, args=(2,))"
   ],
   "metadata": {
    "collapsed": false,
    "ExecuteTime": {
     "end_time": "2024-09-18T15:43:50.176494Z",
     "start_time": "2024-09-18T15:43:50.129913Z"
    }
   },
   "id": "105849d36f251e98",
   "execution_count": 37
  },
  {
   "cell_type": "code",
   "outputs": [
    {
     "data": {
      "text/plain": "     province    district                ward long_province     long_district  \\\n9349  Bến Tre  Mỏ Cày Nam              Mỏ Cày  Tỉnh Bến Tre  Huyện Mỏ Cày Nam   \n9350  Bến Tre  Mỏ Cày Nam           Định Thủy  Tỉnh Bến Tre  Huyện Mỏ Cày Nam   \n9351  Bến Tre  Mỏ Cày Nam        Đa Phước Hội  Tỉnh Bến Tre  Huyện Mỏ Cày Nam   \n9352  Bến Tre  Mỏ Cày Nam             Tân Hội  Tỉnh Bến Tre  Huyện Mỏ Cày Nam   \n9353  Bến Tre  Mỏ Cày Nam          Phước Hiệp  Tỉnh Bến Tre  Huyện Mỏ Cày Nam   \n9354  Bến Tre  Mỏ Cày Nam          Bình Khánh  Tỉnh Bến Tre  Huyện Mỏ Cày Nam   \n9355  Bến Tre  Mỏ Cày Nam            An Thạnh  Tỉnh Bến Tre  Huyện Mỏ Cày Nam   \n9356  Bến Tre  Mỏ Cày Nam             An Định  Tỉnh Bến Tre  Huyện Mỏ Cày Nam   \n9357  Bến Tre  Mỏ Cày Nam        Thành Thới B  Tỉnh Bến Tre  Huyện Mỏ Cày Nam   \n9358  Bến Tre  Mỏ Cày Nam           Tân Trung  Tỉnh Bến Tre  Huyện Mỏ Cày Nam   \n9359  Bến Tre  Mỏ Cày Nam             An Thới  Tỉnh Bến Tre  Huyện Mỏ Cày Nam   \n9360  Bến Tre  Mỏ Cày Nam        Thành Thới A  Tỉnh Bến Tre  Huyện Mỏ Cày Nam   \n9361  Bến Tre  Mỏ Cày Nam            Minh Đức  Tỉnh Bến Tre  Huyện Mỏ Cày Nam   \n9362  Bến Tre  Mỏ Cày Nam           Ngãi Đăng  Tỉnh Bến Tre  Huyện Mỏ Cày Nam   \n9363  Bến Tre  Mỏ Cày Nam             Cẩm Sơn  Tỉnh Bến Tre  Huyện Mỏ Cày Nam   \n9364  Bến Tre  Mỏ Cày Nam            Hương Mỹ  Tỉnh Bến Tre  Huyện Mỏ Cày Nam   \n9447  Bến Tre  Mỏ Cày Bắc              Phú Mỹ  Tỉnh Bến Tre  Huyện Mỏ Cày Bắc   \n9448  Bến Tre  Mỏ Cày Bắc  Hưng Khánh Trung A  Tỉnh Bến Tre  Huyện Mỏ Cày Bắc   \n9449  Bến Tre  Mỏ Cày Bắc           Thanh Tân  Tỉnh Bến Tre  Huyện Mỏ Cày Bắc   \n9450  Bến Tre  Mỏ Cày Bắc          Thạnh Ngãi  Tỉnh Bến Tre  Huyện Mỏ Cày Bắc   \n9451  Bến Tre  Mỏ Cày Bắc         Tân Phú Tây  Tỉnh Bến Tre  Huyện Mỏ Cày Bắc   \n9452  Bến Tre  Mỏ Cày Bắc      Phước Mỹ Trung  Tỉnh Bến Tre  Huyện Mỏ Cày Bắc   \n9453  Bến Tre  Mỏ Cày Bắc      Tân Thành Bình  Tỉnh Bến Tre  Huyện Mỏ Cày Bắc   \n9454  Bến Tre  Mỏ Cày Bắc            Thành An  Tỉnh Bến Tre  Huyện Mỏ Cày Bắc   \n9455  Bến Tre  Mỏ Cày Bắc             Hòa Lộc  Tỉnh Bến Tre  Huyện Mỏ Cày Bắc   \n9456  Bến Tre  Mỏ Cày Bắc       Tân Thanh Tây  Tỉnh Bến Tre  Huyện Mỏ Cày Bắc   \n9457  Bến Tre  Mỏ Cày Bắc            Tân Bình  Tỉnh Bến Tre  Huyện Mỏ Cày Bắc   \n9458  Bến Tre  Mỏ Cày Bắc       Nhuận Phú Tân  Tỉnh Bến Tre  Huyện Mỏ Cày Bắc   \n9459  Bến Tre  Mỏ Cày Bắc     Khánh Thạnh Tân  Tỉnh Bến Tre  Huyện Mỏ Cày Bắc   \n\n                    long_ward short_district          short_ward  \\\n9349          Thị trấn Mỏ Cày     Mỏ Cày Nam              Mỏ Cày   \n9350             Xã Định Thủy     Mỏ Cày Nam           Định Thủy   \n9351          Xã Đa Phước Hội     Mỏ Cày Nam        Đa Phước Hội   \n9352               Xã Tân Hội     Mỏ Cày Nam             Tân Hội   \n9353            Xã Phước Hiệp     Mỏ Cày Nam          Phước Hiệp   \n9354            Xã Bình Khánh     Mỏ Cày Nam          Bình Khánh   \n9355              Xã An Thạnh     Mỏ Cày Nam            An Thạnh   \n9356               Xã An Định     Mỏ Cày Nam             An Định   \n9357          Xã Thành Thới B     Mỏ Cày Nam        Thành Thới B   \n9358             Xã Tân Trung     Mỏ Cày Nam           Tân Trung   \n9359               Xã An Thới     Mỏ Cày Nam             An Thới   \n9360          Xã Thành Thới A     Mỏ Cày Nam        Thành Thới A   \n9361              Xã Minh Đức     Mỏ Cày Nam            Minh Đức   \n9362             Xã Ngãi Đăng     Mỏ Cày Nam           Ngãi Đăng   \n9363               Xã Cẩm Sơn     Mỏ Cày Nam             Cẩm Sơn   \n9364              Xã Hương Mỹ     Mỏ Cày Nam            Hương Mỹ   \n9447                Xã Phú Mỹ     Mỏ Cày Bắc              Phú Mỹ   \n9448    Xã Hưng Khánh Trung A     Mỏ Cày Bắc  Hưng Khánh Trung A   \n9449             Xã Thanh Tân     Mỏ Cày Bắc           Thanh Tân   \n9450            Xã Thạnh Ngãi     Mỏ Cày Bắc          Thạnh Ngãi   \n9451           Xã Tân Phú Tây     Mỏ Cày Bắc         Tân Phú Tây   \n9452  Thị trấn Phước Mỹ Trung     Mỏ Cày Bắc      Phước Mỹ Trung   \n9453        Xã Tân Thành Bình     Mỏ Cày Bắc      Tân Thành Bình   \n9454              Xã Thành An     Mỏ Cày Bắc            Thành An   \n9455               Xã Hòa Lộc     Mỏ Cày Bắc             Hòa Lộc   \n9456         Xã Tân Thanh Tây     Mỏ Cày Bắc       Tân Thanh Tây   \n9457              Xã Tân Bình     Mỏ Cày Bắc            Tân Bình   \n9458         Xã Nhuận Phú Tân     Mỏ Cày Bắc       Nhuận Phú Tân   \n9459       Xã Khánh Thạnh Tân     Mỏ Cày Bắc     Khánh Thạnh Tân   \n\n     province_english district_english  ... long_district_english  \\\n9349          Ben Tre       Mo Cay Nam  ...   Mo Cay Nam District   \n9350          Ben Tre       Mo Cay Nam  ...   Mo Cay Nam District   \n9351          Ben Tre       Mo Cay Nam  ...   Mo Cay Nam District   \n9352          Ben Tre       Mo Cay Nam  ...   Mo Cay Nam District   \n9353          Ben Tre       Mo Cay Nam  ...   Mo Cay Nam District   \n9354          Ben Tre       Mo Cay Nam  ...   Mo Cay Nam District   \n9355          Ben Tre       Mo Cay Nam  ...   Mo Cay Nam District   \n9356          Ben Tre       Mo Cay Nam  ...   Mo Cay Nam District   \n9357          Ben Tre       Mo Cay Nam  ...   Mo Cay Nam District   \n9358          Ben Tre       Mo Cay Nam  ...   Mo Cay Nam District   \n9359          Ben Tre       Mo Cay Nam  ...   Mo Cay Nam District   \n9360          Ben Tre       Mo Cay Nam  ...   Mo Cay Nam District   \n9361          Ben Tre       Mo Cay Nam  ...   Mo Cay Nam District   \n9362          Ben Tre       Mo Cay Nam  ...   Mo Cay Nam District   \n9363          Ben Tre       Mo Cay Nam  ...   Mo Cay Nam District   \n9364          Ben Tre       Mo Cay Nam  ...   Mo Cay Nam District   \n9447          Ben Tre       Mo Cay Bac  ...   Mo Cay Bac District   \n9448          Ben Tre       Mo Cay Bac  ...   Mo Cay Bac District   \n9449          Ben Tre       Mo Cay Bac  ...   Mo Cay Bac District   \n9450          Ben Tre       Mo Cay Bac  ...   Mo Cay Bac District   \n9451          Ben Tre       Mo Cay Bac  ...   Mo Cay Bac District   \n9452          Ben Tre       Mo Cay Bac  ...   Mo Cay Bac District   \n9453          Ben Tre       Mo Cay Bac  ...   Mo Cay Bac District   \n9454          Ben Tre       Mo Cay Bac  ...   Mo Cay Bac District   \n9455          Ben Tre       Mo Cay Bac  ...   Mo Cay Bac District   \n9456          Ben Tre       Mo Cay Bac  ...   Mo Cay Bac District   \n9457          Ben Tre       Mo Cay Bac  ...   Mo Cay Bac District   \n9458          Ben Tre       Mo Cay Bac  ...   Mo Cay Bac District   \n9459          Ben Tre       Mo Cay Bac  ...   Mo Cay Bac District   \n\n               long_ward_english short_district_english  short_ward_english  \\\n9349                 Mo Cay Town             Mo Cay Nam              Mo Cay   \n9350           Dinh Thuy Commune             Mo Cay Nam           Dinh Thuy   \n9351        Da Phuoc Hoi Commune             Mo Cay Nam        Da Phuoc Hoi   \n9352             Tan Hoi Commune             Mo Cay Nam             Tan Hoi   \n9353          Phuoc Hiep Commune             Mo Cay Nam          Phuoc Hiep   \n9354          Binh Khanh Commune             Mo Cay Nam          Binh Khanh   \n9355            An Thanh Commune             Mo Cay Nam            An Thanh   \n9356             An Dinh Commune             Mo Cay Nam             An Dinh   \n9357        Thanh Thoi B Commune             Mo Cay Nam        Thanh Thoi B   \n9358           Tan Trung Commune             Mo Cay Nam           Tan Trung   \n9359             An Thoi Commune             Mo Cay Nam             An Thoi   \n9360        Thanh Thoi A Commune             Mo Cay Nam        Thanh Thoi A   \n9361            Minh Duc Commune             Mo Cay Nam            Minh Duc   \n9362           Ngai Dang Commune             Mo Cay Nam           Ngai Dang   \n9363             Cam Son Commune             Mo Cay Nam             Cam Son   \n9364            Huong My Commune             Mo Cay Nam            Huong My   \n9447              Phu My Commune             Mo Cay Bac              Phu My   \n9448  Hung Khanh Trung A Commune             Mo Cay Bac  Hung Khanh Trung A   \n9449           Thanh Tan Commune             Mo Cay Bac           Thanh Tan   \n9450          Thanh Ngai Commune             Mo Cay Bac          Thanh Ngai   \n9451         Tan Phu Tay Commune             Mo Cay Bac         Tan Phu Tay   \n9452         Phuoc My Trung Town             Mo Cay Bac      Phuoc My Trung   \n9453      Tan Thanh Binh Commune             Mo Cay Bac      Tan Thanh Binh   \n9454            Thanh An Commune             Mo Cay Bac            Thanh An   \n9455             Hoa Loc Commune             Mo Cay Bac             Hoa Loc   \n9456       Tan Thanh Tay Commune             Mo Cay Bac       Tan Thanh Tay   \n9457            Tan Binh Commune             Mo Cay Bac            Tan Binh   \n9458       Nhuan Phu Tan Commune             Mo Cay Bac       Nhuan Phu Tan   \n9459     Khanh Thanh Tan Commune             Mo Cay Bac     Khanh Thanh Tan   \n\n     district_level ward_level district_level_english ward_level_english  \\\n9349          Huyện   Thị trấn               District               Town   \n9350          Huyện         Xã               District            Commune   \n9351          Huyện         Xã               District            Commune   \n9352          Huyện         Xã               District            Commune   \n9353          Huyện         Xã               District            Commune   \n9354          Huyện         Xã               District            Commune   \n9355          Huyện         Xã               District            Commune   \n9356          Huyện         Xã               District            Commune   \n9357          Huyện         Xã               District            Commune   \n9358          Huyện         Xã               District            Commune   \n9359          Huyện         Xã               District            Commune   \n9360          Huyện         Xã               District            Commune   \n9361          Huyện         Xã               District            Commune   \n9362          Huyện         Xã               District            Commune   \n9363          Huyện         Xã               District            Commune   \n9364          Huyện         Xã               District            Commune   \n9447          Huyện         Xã               District            Commune   \n9448          Huyện         Xã               District            Commune   \n9449          Huyện         Xã               District            Commune   \n9450          Huyện         Xã               District            Commune   \n9451          Huyện         Xã               District            Commune   \n9452          Huyện   Thị trấn               District               Town   \n9453          Huyện         Xã               District            Commune   \n9454          Huyện         Xã               District            Commune   \n9455          Huyện         Xã               District            Commune   \n9456          Huyện         Xã               District            Commune   \n9457          Huyện         Xã               District            Commune   \n9458          Huyện         Xã               District            Commune   \n9459          Huyện         Xã               District            Commune   \n\n             ward_key district_key  \n9349            mocay     mocaynam  \n9350         dinhthuy     mocaynam  \n9351       daphuochoi     mocaynam  \n9352           tanhoi     mocaynam  \n9353        phuochiep     mocaynam  \n9354        binhkhanh     mocaynam  \n9355          anthanh     mocaynam  \n9356           andinh     mocaynam  \n9357       thanhthoib     mocaynam  \n9358         tantrung     mocaynam  \n9359           anthoi     mocaynam  \n9360       thanhthoia     mocaynam  \n9361          minhduc     mocaynam  \n9362         ngaidang     mocaynam  \n9363           camson     mocaynam  \n9364          huongmy     mocaynam  \n9447            phumy     mocaybac  \n9448  hungkhanhtrunga     mocaybac  \n9449         thanhtan     mocaybac  \n9450        thanhngai     mocaybac  \n9451        tanphutay     mocaybac  \n9452     phuocmytrung     mocaybac  \n9453     tanthanhbinh     mocaybac  \n9454          thanhan     mocaybac  \n9455           hoaloc     mocaybac  \n9456      tanthanhtay     mocaybac  \n9457          tanbinh     mocaybac  \n9458      nhuanphutan     mocaybac  \n9459    khanhthanhtan     mocaybac  \n\n[29 rows x 22 columns]",
      "text/html": "<div>\n<style scoped>\n    .dataframe tbody tr th:only-of-type {\n        vertical-align: middle;\n    }\n\n    .dataframe tbody tr th {\n        vertical-align: top;\n    }\n\n    .dataframe thead th {\n        text-align: right;\n    }\n</style>\n<table border=\"1\" class=\"dataframe\">\n  <thead>\n    <tr style=\"text-align: right;\">\n      <th></th>\n      <th>province</th>\n      <th>district</th>\n      <th>ward</th>\n      <th>long_province</th>\n      <th>long_district</th>\n      <th>long_ward</th>\n      <th>short_district</th>\n      <th>short_ward</th>\n      <th>province_english</th>\n      <th>district_english</th>\n      <th>...</th>\n      <th>long_district_english</th>\n      <th>long_ward_english</th>\n      <th>short_district_english</th>\n      <th>short_ward_english</th>\n      <th>district_level</th>\n      <th>ward_level</th>\n      <th>district_level_english</th>\n      <th>ward_level_english</th>\n      <th>ward_key</th>\n      <th>district_key</th>\n    </tr>\n  </thead>\n  <tbody>\n    <tr>\n      <th>9349</th>\n      <td>Bến Tre</td>\n      <td>Mỏ Cày Nam</td>\n      <td>Mỏ Cày</td>\n      <td>Tỉnh Bến Tre</td>\n      <td>Huyện Mỏ Cày Nam</td>\n      <td>Thị trấn Mỏ Cày</td>\n      <td>Mỏ Cày Nam</td>\n      <td>Mỏ Cày</td>\n      <td>Ben Tre</td>\n      <td>Mo Cay Nam</td>\n      <td>...</td>\n      <td>Mo Cay Nam District</td>\n      <td>Mo Cay Town</td>\n      <td>Mo Cay Nam</td>\n      <td>Mo Cay</td>\n      <td>Huyện</td>\n      <td>Thị trấn</td>\n      <td>District</td>\n      <td>Town</td>\n      <td>mocay</td>\n      <td>mocaynam</td>\n    </tr>\n    <tr>\n      <th>9350</th>\n      <td>Bến Tre</td>\n      <td>Mỏ Cày Nam</td>\n      <td>Định Thủy</td>\n      <td>Tỉnh Bến Tre</td>\n      <td>Huyện Mỏ Cày Nam</td>\n      <td>Xã Định Thủy</td>\n      <td>Mỏ Cày Nam</td>\n      <td>Định Thủy</td>\n      <td>Ben Tre</td>\n      <td>Mo Cay Nam</td>\n      <td>...</td>\n      <td>Mo Cay Nam District</td>\n      <td>Dinh Thuy Commune</td>\n      <td>Mo Cay Nam</td>\n      <td>Dinh Thuy</td>\n      <td>Huyện</td>\n      <td>Xã</td>\n      <td>District</td>\n      <td>Commune</td>\n      <td>dinhthuy</td>\n      <td>mocaynam</td>\n    </tr>\n    <tr>\n      <th>9351</th>\n      <td>Bến Tre</td>\n      <td>Mỏ Cày Nam</td>\n      <td>Đa Phước Hội</td>\n      <td>Tỉnh Bến Tre</td>\n      <td>Huyện Mỏ Cày Nam</td>\n      <td>Xã Đa Phước Hội</td>\n      <td>Mỏ Cày Nam</td>\n      <td>Đa Phước Hội</td>\n      <td>Ben Tre</td>\n      <td>Mo Cay Nam</td>\n      <td>...</td>\n      <td>Mo Cay Nam District</td>\n      <td>Da Phuoc Hoi Commune</td>\n      <td>Mo Cay Nam</td>\n      <td>Da Phuoc Hoi</td>\n      <td>Huyện</td>\n      <td>Xã</td>\n      <td>District</td>\n      <td>Commune</td>\n      <td>daphuochoi</td>\n      <td>mocaynam</td>\n    </tr>\n    <tr>\n      <th>9352</th>\n      <td>Bến Tre</td>\n      <td>Mỏ Cày Nam</td>\n      <td>Tân Hội</td>\n      <td>Tỉnh Bến Tre</td>\n      <td>Huyện Mỏ Cày Nam</td>\n      <td>Xã Tân Hội</td>\n      <td>Mỏ Cày Nam</td>\n      <td>Tân Hội</td>\n      <td>Ben Tre</td>\n      <td>Mo Cay Nam</td>\n      <td>...</td>\n      <td>Mo Cay Nam District</td>\n      <td>Tan Hoi Commune</td>\n      <td>Mo Cay Nam</td>\n      <td>Tan Hoi</td>\n      <td>Huyện</td>\n      <td>Xã</td>\n      <td>District</td>\n      <td>Commune</td>\n      <td>tanhoi</td>\n      <td>mocaynam</td>\n    </tr>\n    <tr>\n      <th>9353</th>\n      <td>Bến Tre</td>\n      <td>Mỏ Cày Nam</td>\n      <td>Phước Hiệp</td>\n      <td>Tỉnh Bến Tre</td>\n      <td>Huyện Mỏ Cày Nam</td>\n      <td>Xã Phước Hiệp</td>\n      <td>Mỏ Cày Nam</td>\n      <td>Phước Hiệp</td>\n      <td>Ben Tre</td>\n      <td>Mo Cay Nam</td>\n      <td>...</td>\n      <td>Mo Cay Nam District</td>\n      <td>Phuoc Hiep Commune</td>\n      <td>Mo Cay Nam</td>\n      <td>Phuoc Hiep</td>\n      <td>Huyện</td>\n      <td>Xã</td>\n      <td>District</td>\n      <td>Commune</td>\n      <td>phuochiep</td>\n      <td>mocaynam</td>\n    </tr>\n    <tr>\n      <th>9354</th>\n      <td>Bến Tre</td>\n      <td>Mỏ Cày Nam</td>\n      <td>Bình Khánh</td>\n      <td>Tỉnh Bến Tre</td>\n      <td>Huyện Mỏ Cày Nam</td>\n      <td>Xã Bình Khánh</td>\n      <td>Mỏ Cày Nam</td>\n      <td>Bình Khánh</td>\n      <td>Ben Tre</td>\n      <td>Mo Cay Nam</td>\n      <td>...</td>\n      <td>Mo Cay Nam District</td>\n      <td>Binh Khanh Commune</td>\n      <td>Mo Cay Nam</td>\n      <td>Binh Khanh</td>\n      <td>Huyện</td>\n      <td>Xã</td>\n      <td>District</td>\n      <td>Commune</td>\n      <td>binhkhanh</td>\n      <td>mocaynam</td>\n    </tr>\n    <tr>\n      <th>9355</th>\n      <td>Bến Tre</td>\n      <td>Mỏ Cày Nam</td>\n      <td>An Thạnh</td>\n      <td>Tỉnh Bến Tre</td>\n      <td>Huyện Mỏ Cày Nam</td>\n      <td>Xã An Thạnh</td>\n      <td>Mỏ Cày Nam</td>\n      <td>An Thạnh</td>\n      <td>Ben Tre</td>\n      <td>Mo Cay Nam</td>\n      <td>...</td>\n      <td>Mo Cay Nam District</td>\n      <td>An Thanh Commune</td>\n      <td>Mo Cay Nam</td>\n      <td>An Thanh</td>\n      <td>Huyện</td>\n      <td>Xã</td>\n      <td>District</td>\n      <td>Commune</td>\n      <td>anthanh</td>\n      <td>mocaynam</td>\n    </tr>\n    <tr>\n      <th>9356</th>\n      <td>Bến Tre</td>\n      <td>Mỏ Cày Nam</td>\n      <td>An Định</td>\n      <td>Tỉnh Bến Tre</td>\n      <td>Huyện Mỏ Cày Nam</td>\n      <td>Xã An Định</td>\n      <td>Mỏ Cày Nam</td>\n      <td>An Định</td>\n      <td>Ben Tre</td>\n      <td>Mo Cay Nam</td>\n      <td>...</td>\n      <td>Mo Cay Nam District</td>\n      <td>An Dinh Commune</td>\n      <td>Mo Cay Nam</td>\n      <td>An Dinh</td>\n      <td>Huyện</td>\n      <td>Xã</td>\n      <td>District</td>\n      <td>Commune</td>\n      <td>andinh</td>\n      <td>mocaynam</td>\n    </tr>\n    <tr>\n      <th>9357</th>\n      <td>Bến Tre</td>\n      <td>Mỏ Cày Nam</td>\n      <td>Thành Thới B</td>\n      <td>Tỉnh Bến Tre</td>\n      <td>Huyện Mỏ Cày Nam</td>\n      <td>Xã Thành Thới B</td>\n      <td>Mỏ Cày Nam</td>\n      <td>Thành Thới B</td>\n      <td>Ben Tre</td>\n      <td>Mo Cay Nam</td>\n      <td>...</td>\n      <td>Mo Cay Nam District</td>\n      <td>Thanh Thoi B Commune</td>\n      <td>Mo Cay Nam</td>\n      <td>Thanh Thoi B</td>\n      <td>Huyện</td>\n      <td>Xã</td>\n      <td>District</td>\n      <td>Commune</td>\n      <td>thanhthoib</td>\n      <td>mocaynam</td>\n    </tr>\n    <tr>\n      <th>9358</th>\n      <td>Bến Tre</td>\n      <td>Mỏ Cày Nam</td>\n      <td>Tân Trung</td>\n      <td>Tỉnh Bến Tre</td>\n      <td>Huyện Mỏ Cày Nam</td>\n      <td>Xã Tân Trung</td>\n      <td>Mỏ Cày Nam</td>\n      <td>Tân Trung</td>\n      <td>Ben Tre</td>\n      <td>Mo Cay Nam</td>\n      <td>...</td>\n      <td>Mo Cay Nam District</td>\n      <td>Tan Trung Commune</td>\n      <td>Mo Cay Nam</td>\n      <td>Tan Trung</td>\n      <td>Huyện</td>\n      <td>Xã</td>\n      <td>District</td>\n      <td>Commune</td>\n      <td>tantrung</td>\n      <td>mocaynam</td>\n    </tr>\n    <tr>\n      <th>9359</th>\n      <td>Bến Tre</td>\n      <td>Mỏ Cày Nam</td>\n      <td>An Thới</td>\n      <td>Tỉnh Bến Tre</td>\n      <td>Huyện Mỏ Cày Nam</td>\n      <td>Xã An Thới</td>\n      <td>Mỏ Cày Nam</td>\n      <td>An Thới</td>\n      <td>Ben Tre</td>\n      <td>Mo Cay Nam</td>\n      <td>...</td>\n      <td>Mo Cay Nam District</td>\n      <td>An Thoi Commune</td>\n      <td>Mo Cay Nam</td>\n      <td>An Thoi</td>\n      <td>Huyện</td>\n      <td>Xã</td>\n      <td>District</td>\n      <td>Commune</td>\n      <td>anthoi</td>\n      <td>mocaynam</td>\n    </tr>\n    <tr>\n      <th>9360</th>\n      <td>Bến Tre</td>\n      <td>Mỏ Cày Nam</td>\n      <td>Thành Thới A</td>\n      <td>Tỉnh Bến Tre</td>\n      <td>Huyện Mỏ Cày Nam</td>\n      <td>Xã Thành Thới A</td>\n      <td>Mỏ Cày Nam</td>\n      <td>Thành Thới A</td>\n      <td>Ben Tre</td>\n      <td>Mo Cay Nam</td>\n      <td>...</td>\n      <td>Mo Cay Nam District</td>\n      <td>Thanh Thoi A Commune</td>\n      <td>Mo Cay Nam</td>\n      <td>Thanh Thoi A</td>\n      <td>Huyện</td>\n      <td>Xã</td>\n      <td>District</td>\n      <td>Commune</td>\n      <td>thanhthoia</td>\n      <td>mocaynam</td>\n    </tr>\n    <tr>\n      <th>9361</th>\n      <td>Bến Tre</td>\n      <td>Mỏ Cày Nam</td>\n      <td>Minh Đức</td>\n      <td>Tỉnh Bến Tre</td>\n      <td>Huyện Mỏ Cày Nam</td>\n      <td>Xã Minh Đức</td>\n      <td>Mỏ Cày Nam</td>\n      <td>Minh Đức</td>\n      <td>Ben Tre</td>\n      <td>Mo Cay Nam</td>\n      <td>...</td>\n      <td>Mo Cay Nam District</td>\n      <td>Minh Duc Commune</td>\n      <td>Mo Cay Nam</td>\n      <td>Minh Duc</td>\n      <td>Huyện</td>\n      <td>Xã</td>\n      <td>District</td>\n      <td>Commune</td>\n      <td>minhduc</td>\n      <td>mocaynam</td>\n    </tr>\n    <tr>\n      <th>9362</th>\n      <td>Bến Tre</td>\n      <td>Mỏ Cày Nam</td>\n      <td>Ngãi Đăng</td>\n      <td>Tỉnh Bến Tre</td>\n      <td>Huyện Mỏ Cày Nam</td>\n      <td>Xã Ngãi Đăng</td>\n      <td>Mỏ Cày Nam</td>\n      <td>Ngãi Đăng</td>\n      <td>Ben Tre</td>\n      <td>Mo Cay Nam</td>\n      <td>...</td>\n      <td>Mo Cay Nam District</td>\n      <td>Ngai Dang Commune</td>\n      <td>Mo Cay Nam</td>\n      <td>Ngai Dang</td>\n      <td>Huyện</td>\n      <td>Xã</td>\n      <td>District</td>\n      <td>Commune</td>\n      <td>ngaidang</td>\n      <td>mocaynam</td>\n    </tr>\n    <tr>\n      <th>9363</th>\n      <td>Bến Tre</td>\n      <td>Mỏ Cày Nam</td>\n      <td>Cẩm Sơn</td>\n      <td>Tỉnh Bến Tre</td>\n      <td>Huyện Mỏ Cày Nam</td>\n      <td>Xã Cẩm Sơn</td>\n      <td>Mỏ Cày Nam</td>\n      <td>Cẩm Sơn</td>\n      <td>Ben Tre</td>\n      <td>Mo Cay Nam</td>\n      <td>...</td>\n      <td>Mo Cay Nam District</td>\n      <td>Cam Son Commune</td>\n      <td>Mo Cay Nam</td>\n      <td>Cam Son</td>\n      <td>Huyện</td>\n      <td>Xã</td>\n      <td>District</td>\n      <td>Commune</td>\n      <td>camson</td>\n      <td>mocaynam</td>\n    </tr>\n    <tr>\n      <th>9364</th>\n      <td>Bến Tre</td>\n      <td>Mỏ Cày Nam</td>\n      <td>Hương Mỹ</td>\n      <td>Tỉnh Bến Tre</td>\n      <td>Huyện Mỏ Cày Nam</td>\n      <td>Xã Hương Mỹ</td>\n      <td>Mỏ Cày Nam</td>\n      <td>Hương Mỹ</td>\n      <td>Ben Tre</td>\n      <td>Mo Cay Nam</td>\n      <td>...</td>\n      <td>Mo Cay Nam District</td>\n      <td>Huong My Commune</td>\n      <td>Mo Cay Nam</td>\n      <td>Huong My</td>\n      <td>Huyện</td>\n      <td>Xã</td>\n      <td>District</td>\n      <td>Commune</td>\n      <td>huongmy</td>\n      <td>mocaynam</td>\n    </tr>\n    <tr>\n      <th>9447</th>\n      <td>Bến Tre</td>\n      <td>Mỏ Cày Bắc</td>\n      <td>Phú Mỹ</td>\n      <td>Tỉnh Bến Tre</td>\n      <td>Huyện Mỏ Cày Bắc</td>\n      <td>Xã Phú Mỹ</td>\n      <td>Mỏ Cày Bắc</td>\n      <td>Phú Mỹ</td>\n      <td>Ben Tre</td>\n      <td>Mo Cay Bac</td>\n      <td>...</td>\n      <td>Mo Cay Bac District</td>\n      <td>Phu My Commune</td>\n      <td>Mo Cay Bac</td>\n      <td>Phu My</td>\n      <td>Huyện</td>\n      <td>Xã</td>\n      <td>District</td>\n      <td>Commune</td>\n      <td>phumy</td>\n      <td>mocaybac</td>\n    </tr>\n    <tr>\n      <th>9448</th>\n      <td>Bến Tre</td>\n      <td>Mỏ Cày Bắc</td>\n      <td>Hưng Khánh Trung A</td>\n      <td>Tỉnh Bến Tre</td>\n      <td>Huyện Mỏ Cày Bắc</td>\n      <td>Xã Hưng Khánh Trung A</td>\n      <td>Mỏ Cày Bắc</td>\n      <td>Hưng Khánh Trung A</td>\n      <td>Ben Tre</td>\n      <td>Mo Cay Bac</td>\n      <td>...</td>\n      <td>Mo Cay Bac District</td>\n      <td>Hung Khanh Trung A Commune</td>\n      <td>Mo Cay Bac</td>\n      <td>Hung Khanh Trung A</td>\n      <td>Huyện</td>\n      <td>Xã</td>\n      <td>District</td>\n      <td>Commune</td>\n      <td>hungkhanhtrunga</td>\n      <td>mocaybac</td>\n    </tr>\n    <tr>\n      <th>9449</th>\n      <td>Bến Tre</td>\n      <td>Mỏ Cày Bắc</td>\n      <td>Thanh Tân</td>\n      <td>Tỉnh Bến Tre</td>\n      <td>Huyện Mỏ Cày Bắc</td>\n      <td>Xã Thanh Tân</td>\n      <td>Mỏ Cày Bắc</td>\n      <td>Thanh Tân</td>\n      <td>Ben Tre</td>\n      <td>Mo Cay Bac</td>\n      <td>...</td>\n      <td>Mo Cay Bac District</td>\n      <td>Thanh Tan Commune</td>\n      <td>Mo Cay Bac</td>\n      <td>Thanh Tan</td>\n      <td>Huyện</td>\n      <td>Xã</td>\n      <td>District</td>\n      <td>Commune</td>\n      <td>thanhtan</td>\n      <td>mocaybac</td>\n    </tr>\n    <tr>\n      <th>9450</th>\n      <td>Bến Tre</td>\n      <td>Mỏ Cày Bắc</td>\n      <td>Thạnh Ngãi</td>\n      <td>Tỉnh Bến Tre</td>\n      <td>Huyện Mỏ Cày Bắc</td>\n      <td>Xã Thạnh Ngãi</td>\n      <td>Mỏ Cày Bắc</td>\n      <td>Thạnh Ngãi</td>\n      <td>Ben Tre</td>\n      <td>Mo Cay Bac</td>\n      <td>...</td>\n      <td>Mo Cay Bac District</td>\n      <td>Thanh Ngai Commune</td>\n      <td>Mo Cay Bac</td>\n      <td>Thanh Ngai</td>\n      <td>Huyện</td>\n      <td>Xã</td>\n      <td>District</td>\n      <td>Commune</td>\n      <td>thanhngai</td>\n      <td>mocaybac</td>\n    </tr>\n    <tr>\n      <th>9451</th>\n      <td>Bến Tre</td>\n      <td>Mỏ Cày Bắc</td>\n      <td>Tân Phú Tây</td>\n      <td>Tỉnh Bến Tre</td>\n      <td>Huyện Mỏ Cày Bắc</td>\n      <td>Xã Tân Phú Tây</td>\n      <td>Mỏ Cày Bắc</td>\n      <td>Tân Phú Tây</td>\n      <td>Ben Tre</td>\n      <td>Mo Cay Bac</td>\n      <td>...</td>\n      <td>Mo Cay Bac District</td>\n      <td>Tan Phu Tay Commune</td>\n      <td>Mo Cay Bac</td>\n      <td>Tan Phu Tay</td>\n      <td>Huyện</td>\n      <td>Xã</td>\n      <td>District</td>\n      <td>Commune</td>\n      <td>tanphutay</td>\n      <td>mocaybac</td>\n    </tr>\n    <tr>\n      <th>9452</th>\n      <td>Bến Tre</td>\n      <td>Mỏ Cày Bắc</td>\n      <td>Phước Mỹ Trung</td>\n      <td>Tỉnh Bến Tre</td>\n      <td>Huyện Mỏ Cày Bắc</td>\n      <td>Thị trấn Phước Mỹ Trung</td>\n      <td>Mỏ Cày Bắc</td>\n      <td>Phước Mỹ Trung</td>\n      <td>Ben Tre</td>\n      <td>Mo Cay Bac</td>\n      <td>...</td>\n      <td>Mo Cay Bac District</td>\n      <td>Phuoc My Trung Town</td>\n      <td>Mo Cay Bac</td>\n      <td>Phuoc My Trung</td>\n      <td>Huyện</td>\n      <td>Thị trấn</td>\n      <td>District</td>\n      <td>Town</td>\n      <td>phuocmytrung</td>\n      <td>mocaybac</td>\n    </tr>\n    <tr>\n      <th>9453</th>\n      <td>Bến Tre</td>\n      <td>Mỏ Cày Bắc</td>\n      <td>Tân Thành Bình</td>\n      <td>Tỉnh Bến Tre</td>\n      <td>Huyện Mỏ Cày Bắc</td>\n      <td>Xã Tân Thành Bình</td>\n      <td>Mỏ Cày Bắc</td>\n      <td>Tân Thành Bình</td>\n      <td>Ben Tre</td>\n      <td>Mo Cay Bac</td>\n      <td>...</td>\n      <td>Mo Cay Bac District</td>\n      <td>Tan Thanh Binh Commune</td>\n      <td>Mo Cay Bac</td>\n      <td>Tan Thanh Binh</td>\n      <td>Huyện</td>\n      <td>Xã</td>\n      <td>District</td>\n      <td>Commune</td>\n      <td>tanthanhbinh</td>\n      <td>mocaybac</td>\n    </tr>\n    <tr>\n      <th>9454</th>\n      <td>Bến Tre</td>\n      <td>Mỏ Cày Bắc</td>\n      <td>Thành An</td>\n      <td>Tỉnh Bến Tre</td>\n      <td>Huyện Mỏ Cày Bắc</td>\n      <td>Xã Thành An</td>\n      <td>Mỏ Cày Bắc</td>\n      <td>Thành An</td>\n      <td>Ben Tre</td>\n      <td>Mo Cay Bac</td>\n      <td>...</td>\n      <td>Mo Cay Bac District</td>\n      <td>Thanh An Commune</td>\n      <td>Mo Cay Bac</td>\n      <td>Thanh An</td>\n      <td>Huyện</td>\n      <td>Xã</td>\n      <td>District</td>\n      <td>Commune</td>\n      <td>thanhan</td>\n      <td>mocaybac</td>\n    </tr>\n    <tr>\n      <th>9455</th>\n      <td>Bến Tre</td>\n      <td>Mỏ Cày Bắc</td>\n      <td>Hòa Lộc</td>\n      <td>Tỉnh Bến Tre</td>\n      <td>Huyện Mỏ Cày Bắc</td>\n      <td>Xã Hòa Lộc</td>\n      <td>Mỏ Cày Bắc</td>\n      <td>Hòa Lộc</td>\n      <td>Ben Tre</td>\n      <td>Mo Cay Bac</td>\n      <td>...</td>\n      <td>Mo Cay Bac District</td>\n      <td>Hoa Loc Commune</td>\n      <td>Mo Cay Bac</td>\n      <td>Hoa Loc</td>\n      <td>Huyện</td>\n      <td>Xã</td>\n      <td>District</td>\n      <td>Commune</td>\n      <td>hoaloc</td>\n      <td>mocaybac</td>\n    </tr>\n    <tr>\n      <th>9456</th>\n      <td>Bến Tre</td>\n      <td>Mỏ Cày Bắc</td>\n      <td>Tân Thanh Tây</td>\n      <td>Tỉnh Bến Tre</td>\n      <td>Huyện Mỏ Cày Bắc</td>\n      <td>Xã Tân Thanh Tây</td>\n      <td>Mỏ Cày Bắc</td>\n      <td>Tân Thanh Tây</td>\n      <td>Ben Tre</td>\n      <td>Mo Cay Bac</td>\n      <td>...</td>\n      <td>Mo Cay Bac District</td>\n      <td>Tan Thanh Tay Commune</td>\n      <td>Mo Cay Bac</td>\n      <td>Tan Thanh Tay</td>\n      <td>Huyện</td>\n      <td>Xã</td>\n      <td>District</td>\n      <td>Commune</td>\n      <td>tanthanhtay</td>\n      <td>mocaybac</td>\n    </tr>\n    <tr>\n      <th>9457</th>\n      <td>Bến Tre</td>\n      <td>Mỏ Cày Bắc</td>\n      <td>Tân Bình</td>\n      <td>Tỉnh Bến Tre</td>\n      <td>Huyện Mỏ Cày Bắc</td>\n      <td>Xã Tân Bình</td>\n      <td>Mỏ Cày Bắc</td>\n      <td>Tân Bình</td>\n      <td>Ben Tre</td>\n      <td>Mo Cay Bac</td>\n      <td>...</td>\n      <td>Mo Cay Bac District</td>\n      <td>Tan Binh Commune</td>\n      <td>Mo Cay Bac</td>\n      <td>Tan Binh</td>\n      <td>Huyện</td>\n      <td>Xã</td>\n      <td>District</td>\n      <td>Commune</td>\n      <td>tanbinh</td>\n      <td>mocaybac</td>\n    </tr>\n    <tr>\n      <th>9458</th>\n      <td>Bến Tre</td>\n      <td>Mỏ Cày Bắc</td>\n      <td>Nhuận Phú Tân</td>\n      <td>Tỉnh Bến Tre</td>\n      <td>Huyện Mỏ Cày Bắc</td>\n      <td>Xã Nhuận Phú Tân</td>\n      <td>Mỏ Cày Bắc</td>\n      <td>Nhuận Phú Tân</td>\n      <td>Ben Tre</td>\n      <td>Mo Cay Bac</td>\n      <td>...</td>\n      <td>Mo Cay Bac District</td>\n      <td>Nhuan Phu Tan Commune</td>\n      <td>Mo Cay Bac</td>\n      <td>Nhuan Phu Tan</td>\n      <td>Huyện</td>\n      <td>Xã</td>\n      <td>District</td>\n      <td>Commune</td>\n      <td>nhuanphutan</td>\n      <td>mocaybac</td>\n    </tr>\n    <tr>\n      <th>9459</th>\n      <td>Bến Tre</td>\n      <td>Mỏ Cày Bắc</td>\n      <td>Khánh Thạnh Tân</td>\n      <td>Tỉnh Bến Tre</td>\n      <td>Huyện Mỏ Cày Bắc</td>\n      <td>Xã Khánh Thạnh Tân</td>\n      <td>Mỏ Cày Bắc</td>\n      <td>Khánh Thạnh Tân</td>\n      <td>Ben Tre</td>\n      <td>Mo Cay Bac</td>\n      <td>...</td>\n      <td>Mo Cay Bac District</td>\n      <td>Khanh Thanh Tan Commune</td>\n      <td>Mo Cay Bac</td>\n      <td>Khanh Thanh Tan</td>\n      <td>Huyện</td>\n      <td>Xã</td>\n      <td>District</td>\n      <td>Commune</td>\n      <td>khanhthanhtan</td>\n      <td>mocaybac</td>\n    </tr>\n  </tbody>\n</table>\n<p>29 rows × 22 columns</p>\n</div>"
     },
     "execution_count": 38,
     "metadata": {},
     "output_type": "execute_result"
    }
   ],
   "source": [
    "df_test[df_test.short_district.str.contains('Mỏ Cày')]"
   ],
   "metadata": {
    "collapsed": false,
    "ExecuteTime": {
     "end_time": "2024-09-18T15:43:52.467729Z",
     "start_time": "2024-09-18T15:43:52.441721Z"
    }
   },
   "id": "bb95ada9a93f8459",
   "execution_count": 38
  },
  {
   "cell_type": "code",
   "outputs": [],
   "source": [
    "df_split['old_district_key'] = df_split['old_district'].apply(to_key, args=(2,))"
   ],
   "metadata": {
    "collapsed": false,
    "ExecuteTime": {
     "end_time": "2024-09-18T15:44:13.526193Z",
     "start_time": "2024-09-18T15:44:13.519700Z"
    }
   },
   "id": "d5c904973c0558af",
   "execution_count": 39
  },
  {
   "cell_type": "code",
   "outputs": [],
   "source": [
    "half_district_keys = {}"
   ],
   "metadata": {
    "collapsed": false,
    "ExecuteTime": {
     "end_time": "2024-09-18T15:44:15.729734Z",
     "start_time": "2024-09-18T15:44:15.725850Z"
    }
   },
   "id": "715363195fa4df35",
   "execution_count": 40
  },
  {
   "cell_type": "code",
   "outputs": [],
   "source": [
    "for old_district_key in df_split['old_district_key'].unique().tolist():\n",
    "    df_temp = df_test[df_test.district_key.str.contains(old_district_key)]\n",
    "    district_keys =  df_temp.district_key.unique().tolist()\n",
    "    district_key_data = {}\n",
    "    for district_key in district_keys:\n",
    "        district_key_data[district_key] = df_temp[df_temp.district_key==district_key]['ward_key'].unique().tolist()\n",
    "    half_district_keys[old_district_key] = district_key_data"
   ],
   "metadata": {
    "collapsed": false,
    "ExecuteTime": {
     "end_time": "2024-09-18T15:44:18.197656Z",
     "start_time": "2024-09-18T15:44:18.159007Z"
    }
   },
   "id": "2bc7fe47d4c34cb6",
   "execution_count": 41
  },
  {
   "cell_type": "code",
   "outputs": [
    {
     "data": {
      "text/plain": "{'mocay': {'mocaynam': ['mocay',\n   'dinhthuy',\n   'daphuochoi',\n   'tanhoi',\n   'phuochiep',\n   'binhkhanh',\n   'anthanh',\n   'andinh',\n   'thanhthoib',\n   'tantrung',\n   'anthoi',\n   'thanhthoia',\n   'minhduc',\n   'ngaidang',\n   'camson',\n   'huongmy'],\n  'mocaybac': ['phumy',\n   'hungkhanhtrunga',\n   'thanhtan',\n   'thanhngai',\n   'tanphutay',\n   'phuocmytrung',\n   'tanthanhbinh',\n   'thanhan',\n   'hoaloc',\n   'tanthanhtay',\n   'tanbinh',\n   'nhuanphutan',\n   'khanhthanhtan']},\n 'hamthuan': {'hamthuanbac': ['malam',\n   'phulong',\n   'lada',\n   'dongtien',\n   'thuanhoa',\n   'donggiang',\n   'hamphu',\n   'hongliem',\n   'thuanminh',\n   'hongson',\n   'hamtri',\n   'hamduc',\n   'hamliem',\n   'hamchinh',\n   'hamhiep',\n   'hamthang',\n   'dami'],\n  'hamthuannam': ['thuannam',\n   'mythanh',\n   'hamcan',\n   'muongman',\n   'hamthanh',\n   'hamkiem',\n   'hamcuong',\n   'hammy',\n   'tanlap',\n   'hamminh',\n   'thuanquy',\n   'tanthuan',\n   'tanthanh']},\n 'tuliem': {'namtuliem': ['caudien',\n   'xuanphuong',\n   'phuongcanh',\n   'mydinh1',\n   'mydinh2',\n   'taymo',\n   'metri',\n   'phudo',\n   'daimo',\n   'trungvan'],\n  'bactuliem': ['thuongcat',\n   'lienmac',\n   'dongngac',\n   'ducthang',\n   'thuyphuong',\n   'taytuu',\n   'xuandinh',\n   'xuantao',\n   'minhkhai',\n   'conhue1',\n   'conhue2',\n   'phudien',\n   'phucdien']},\n 'tramy': {'bactramy': ['tramy',\n   'trason',\n   'trakot',\n   'tranu',\n   'tradong',\n   'traduong',\n   'tragiang',\n   'trabui',\n   'tradoc',\n   'tratan',\n   'tragiac',\n   'tragiap',\n   'traka'],\n  'namtramy': ['traleng',\n   'tradon',\n   'tratap',\n   'tramai',\n   'tracang',\n   'tralinh',\n   'tranam',\n   'travan',\n   'travinh']},\n 'gocong': {'gocong': ['phuong2',\n   'phuong1',\n   'phuong5',\n   'longhung',\n   'longthuan',\n   'longchanh',\n   'longhoa',\n   'binhdong',\n   'binhxuan',\n   'tantrung'],\n  'gocongtay': ['vinhbinh',\n   'dongson',\n   'binhphu',\n   'dongthanh',\n   'thanhcong',\n   'binhnhi',\n   'yenluong',\n   'thanhtri',\n   'thanhnhut',\n   'longvinh',\n   'binhtan',\n   'vinhhuu',\n   'longbinh'],\n  'gocongdong': ['tanhoa',\n   'tanghoa',\n   'tanphuoc',\n   'giathuan',\n   'vamlang',\n   'tantay',\n   'kiengphuoc',\n   'tandong',\n   'binhan',\n   'tandien',\n   'binhnghi',\n   'phuoctrung',\n   'tanthanh']}}"
     },
     "execution_count": 44,
     "metadata": {},
     "output_type": "execute_result"
    }
   ],
   "source": [
    "half_district_keys"
   ],
   "metadata": {
    "collapsed": false,
    "ExecuteTime": {
     "end_time": "2024-09-18T15:45:21.485048Z",
     "start_time": "2024-09-18T15:45:21.467976Z"
    }
   },
   "id": "6ebafeb7b73b70ce",
   "execution_count": 44
  }
 ],
 "metadata": {
  "kernelspec": {
   "display_name": "Python 3",
   "language": "python",
   "name": "python3"
  },
  "language_info": {
   "codemirror_mode": {
    "name": "ipython",
    "version": 2
   },
   "file_extension": ".py",
   "mimetype": "text/x-python",
   "name": "python",
   "nbconvert_exporter": "python",
   "pygments_lexer": "ipython2",
   "version": "2.7.6"
  }
 },
 "nbformat": 4,
 "nbformat_minor": 5
}
