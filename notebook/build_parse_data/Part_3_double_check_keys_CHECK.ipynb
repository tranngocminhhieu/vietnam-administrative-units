{
 "cells": [
  {
   "cell_type": "code",
   "execution_count": 1,
   "id": "initial_id",
   "metadata": {
    "collapsed": true,
    "ExecuteTime": {
     "end_time": "2024-09-27T11:09:52.911868Z",
     "start_time": "2024-09-27T11:09:51.719421Z"
    }
   },
   "outputs": [],
   "source": [
    "import re\n",
    "\n",
    "import pandas as pd\n",
    "from vietadminunits import parse_address, get_data\n",
    "from vietadminunits.utils import to_key, to_alphanumeric\n",
    "import pickle"
   ]
  },
  {
   "cell_type": "code",
   "outputs": [],
   "source": [
    "df = pd.DataFrame(get_data())"
   ],
   "metadata": {
    "collapsed": false,
    "ExecuteTime": {
     "end_time": "2024-09-27T11:09:53.010600Z",
     "start_time": "2024-09-27T11:09:52.912768Z"
    }
   },
   "id": "b1b52d5aed5034d9",
   "execution_count": 2
  },
  {
   "cell_type": "code",
   "outputs": [],
   "source": [
    "df['long_province_alphanumeric'] = df['long_province'].apply(to_alphanumeric)\n",
    "df['long_district_alphanumeric'] = df['long_district'].apply(to_alphanumeric)\n",
    "df['long_ward_alphanumeric'] = df['long_ward'].fillna('').apply(to_alphanumeric)\n",
    "\n",
    "df['province_alphanumeric'] = df['province'].apply(to_alphanumeric)\n",
    "df['short_district_alphanumeric'] = df['short_district'].apply(to_alphanumeric)\n",
    "df['short_ward_alphanumeric'] = df['short_ward'].fillna('').apply(to_alphanumeric)"
   ],
   "metadata": {
    "collapsed": false,
    "ExecuteTime": {
     "end_time": "2024-09-27T11:09:53.162142Z",
     "start_time": "2024-09-27T11:09:53.011308Z"
    }
   },
   "id": "cf25cc6a682a9e9c",
   "execution_count": 3
  },
  {
   "cell_type": "code",
   "outputs": [],
   "source": [
    "for ward in ['long_ward_alphanumeric', 'short_ward_alphanumeric']:\n",
    "    for district in ['long_district_alphanumeric', 'short_district_alphanumeric']:\n",
    "        for province in ['long_province_alphanumeric', 'province_alphanumeric']:\n",
    "            df[f\"address_{ward}_{district}_{province}\"] = df[ward] + df[district] + df[province]\n",
    "            df[f\"address_comma_{ward}_{district}_{province}\"] = df[ward] + ',' + df[district] + ',' + df[province]"
   ],
   "metadata": {
    "collapsed": false,
    "ExecuteTime": {
     "end_time": "2024-09-27T11:09:53.190460Z",
     "start_time": "2024-09-27T11:09:53.163349Z"
    }
   },
   "id": "2ad328732a0b7fc7",
   "execution_count": 4
  },
  {
   "cell_type": "code",
   "outputs": [],
   "source": [
    "df['province_key'] = df['province'].apply(to_key, args=(1,))\n",
    "df['district_key'] = df['district'].apply(to_key, args=(2,))\n",
    "df['ward_key'] = df['ward'].apply(to_key, args=(3,))"
   ],
   "metadata": {
    "collapsed": false,
    "ExecuteTime": {
     "end_time": "2024-09-27T11:09:53.279198Z",
     "start_time": "2024-09-27T11:09:53.191277Z"
    }
   },
   "id": "3782c5a649aaf6ec",
   "execution_count": 5
  },
  {
   "cell_type": "code",
   "outputs": [],
   "source": [
    "address_cols = [col for col in df.columns if 'address' in col]"
   ],
   "metadata": {
    "collapsed": false,
    "ExecuteTime": {
     "end_time": "2024-09-27T11:09:53.284683Z",
     "start_time": "2024-09-27T11:09:53.281743Z"
    }
   },
   "id": "69039b2628333813",
   "execution_count": 6
  },
  {
   "cell_type": "markdown",
   "source": [
    "## Find wards that are the same keyword with provinces"
   ],
   "metadata": {
    "collapsed": false
   },
   "id": "4a1285958689a4"
  },
  {
   "cell_type": "code",
   "outputs": [],
   "source": [
    "wrong_provinces = []\n",
    "\n",
    "\n",
    "\n",
    "for address_col in address_cols:\n",
    "    for row in df.itertuples():\n",
    "        address = getattr(row, address_col)\n",
    "        unit = parse_address(address, level=1)\n",
    "        data = {\n",
    "            'address': address,\n",
    "            'province': row.province,\n",
    "            'province_key': row.province_key,\n",
    "            'wrong_province_key': unit.province_key,\n",
    "        }\n",
    "        \n",
    "        if unit.province == None:\n",
    "            print(address)\n",
    "            wrong_provinces.append(data)\n",
    "            \n",
    "        elif unit.province_key != row.province_key:\n",
    "            print(address)\n",
    "            wrong_provinces.append(data)"
   ],
   "metadata": {
    "collapsed": false
   },
   "id": "aca769f749d9adf8",
   "execution_count": null
  },
  {
   "cell_type": "code",
   "outputs": [],
   "source": [
    "df_wrong_provinces = pd.DataFrame(wrong_provinces)"
   ],
   "metadata": {
    "collapsed": false
   },
   "id": "69ce345fefd31da9",
   "execution_count": null
  },
  {
   "cell_type": "code",
   "outputs": [],
   "source": [
    "df_wrong_provinces.info()"
   ],
   "metadata": {
    "collapsed": false
   },
   "id": "90893bd387f0b0ad",
   "execution_count": null
  },
  {
   "cell_type": "code",
   "outputs": [],
   "source": [
    "df_wrong_provinces"
   ],
   "metadata": {
    "collapsed": false
   },
   "id": "e2982a67d046cdd3",
   "execution_count": null
  },
  {
   "cell_type": "code",
   "outputs": [],
   "source": [
    "# df_wrong_provinces[df_wrong_provinces.wrong_province_key.isna()]"
   ],
   "metadata": {
    "collapsed": false
   },
   "id": "1d7bddbd68a9f8c0",
   "execution_count": null
  },
  {
   "cell_type": "code",
   "outputs": [],
   "source": [
    "DICT_double_check_provinces = {}\n",
    "for row in df_wrong_provinces.itertuples():\n",
    "    DICT_double_check_provinces[row.wrong_province_key] = df_wrong_provinces[df_wrong_provinces['wrong_province_key']==row.wrong_province_key]['province_key'].unique().tolist()"
   ],
   "metadata": {
    "collapsed": false
   },
   "id": "e1a174da9e0799b7",
   "execution_count": null
  },
  {
   "cell_type": "code",
   "outputs": [],
   "source": [
    "DICT_double_check_provinces"
   ],
   "metadata": {
    "collapsed": false
   },
   "id": "3052fc715c1eb74",
   "execution_count": null
  },
  {
   "cell_type": "markdown",
   "source": [
    "## Find wards that are the same keyword with districts\n",
    "\n",
    "We have to add `double_check_provinces` to module to solve province level before doing this step."
   ],
   "metadata": {
    "collapsed": false
   },
   "id": "28410b2a00e10e19"
  },
  {
   "cell_type": "code",
   "outputs": [],
   "source": [
    "wrong_districts = []\n",
    "for address_col in address_cols:\n",
    "    for row in df.itertuples():\n",
    "        address = getattr(row, address_col)\n",
    "\n",
    "        unit = parse_address(address, level=3)\n",
    "    \n",
    "        data = {\n",
    "            'address': address,\n",
    "            'province_english': row.province_english,\n",
    "            'province_key': row.province_key,\n",
    "            'wrong_province_key': unit.province_key,\n",
    "            'district_key': row.district_key,\n",
    "            'wrong_district_key': unit.district_key,\n",
    "        }\n",
    "        \n",
    "        if unit.province == None:\n",
    "            print(address)\n",
    "            wrong_districts.append(data)\n",
    "        elif unit.district == None:\n",
    "            print(address)\n",
    "            wrong_districts.append(data)\n",
    "                \n",
    "        elif unit.district_key != row.district_key:\n",
    "            print(address)\n",
    "            wrong_districts.append(data)\n",
    "\n"
   ],
   "metadata": {
    "collapsed": false
   },
   "id": "39bf6374b12777a5",
   "execution_count": null
  },
  {
   "cell_type": "code",
   "outputs": [],
   "source": [
    "df_wrong_districts = pd.DataFrame(wrong_districts)"
   ],
   "metadata": {
    "collapsed": false
   },
   "id": "96c5a897813dcae2",
   "execution_count": null
  },
  {
   "cell_type": "code",
   "outputs": [],
   "source": [
    "df_wrong_districts = df_wrong_districts[df_wrong_districts.province_key==df_wrong_districts.wrong_province_key]"
   ],
   "metadata": {
    "collapsed": false
   },
   "id": "fd76697d8beb2036",
   "execution_count": null
  },
  {
   "cell_type": "code",
   "outputs": [],
   "source": [
    "df_wrong_districts"
   ],
   "metadata": {
    "collapsed": false
   },
   "id": "b99fec6992c3ad40",
   "execution_count": null
  },
  {
   "cell_type": "code",
   "outputs": [],
   "source": [
    "df_wrong_districts.info()"
   ],
   "metadata": {
    "collapsed": false
   },
   "id": "d2c05045bde11709",
   "execution_count": null
  },
  {
   "cell_type": "code",
   "outputs": [],
   "source": [
    "df_wrong_districts[df_wrong_districts.wrong_district_key.isna()]"
   ],
   "metadata": {
    "collapsed": false
   },
   "id": "11d84fe09228cabb",
   "execution_count": null
  },
  {
   "cell_type": "code",
   "outputs": [],
   "source": [
    "DICT_double_check_districts = {}\n",
    "\n",
    "for province_english in df_wrong_districts['province_english'].unique():\n",
    "    district_data = {}\n",
    "    for wrong_district_key in df_wrong_districts[(df_wrong_districts['province_english']==province_english)]['wrong_district_key'].unique():\n",
    "        tmp_district_keys = df_wrong_districts[(df_wrong_districts['province_english']==province_english) & (df_wrong_districts['wrong_district_key']==wrong_district_key)]['district_key'].unique().tolist()\n",
    "        \n",
    "        tmp_district_keys = sorted(tmp_district_keys, key=len, reverse=True)\n",
    "        district_data[wrong_district_key] = tmp_district_keys\n",
    "    \n",
    "    district_data = dict(sorted(district_data.items(), key=lambda x: len(x[0]), reverse=True))\n",
    "    DICT_double_check_districts[province_english] = district_data"
   ],
   "metadata": {
    "collapsed": false
   },
   "id": "26abf0cb9952f87b",
   "execution_count": null
  },
  {
   "cell_type": "code",
   "outputs": [],
   "source": [
    "DICT_double_check_districts"
   ],
   "metadata": {
    "collapsed": false
   },
   "id": "ea812f21a18b5e10",
   "execution_count": null
  },
  {
   "cell_type": "markdown",
   "source": [
    "## Double check ward"
   ],
   "metadata": {
    "collapsed": false
   },
   "id": "da68e4f2aaed27dc"
  },
  {
   "cell_type": "code",
   "outputs": [],
   "source": [
    "wrong_wards = []\n",
    "for address_col in address_cols:\n",
    "    for row in df.itertuples():\n",
    "        address = getattr(row, address_col)\n",
    "        \n",
    "        try:\n",
    "        \n",
    "            unit = parse_address(address, level=3)\n",
    "        \n",
    "            data = {\n",
    "                'address': address,\n",
    "                'province_english': row.province_english,\n",
    "                'province_key': row.province_key,\n",
    "                'wrong_province_key': unit.province_key,\n",
    "                'district_english': row.district_english,\n",
    "                'district_key': row.district_key,\n",
    "                'wrong_district_key': unit.district_key,\n",
    "                'ward_key': row.ward_key,\n",
    "                'wrong_ward_key': unit.ward_key,\n",
    "            }\n",
    "            \n",
    "            if unit.province == None:\n",
    "                print(address)\n",
    "                wrong_wards.append(data)\n",
    "                \n",
    "            elif unit.district == None:\n",
    "                print(address)\n",
    "                wrong_wards.append(data)\n",
    "                \n",
    "            elif (unit.ward == None) and (unit.district_key not in ['bachlongvi', 'conco', 'hoangsa', 'lyson', 'condao']):\n",
    "                print(address)\n",
    "                wrong_wards.append(data)\n",
    "                    \n",
    "            elif (unit.ward_key != row.ward_key) and (unit.district_key not in ['bachlongvi', 'conco', 'hoangsa', 'lyson', 'condao']):\n",
    "                print(address)\n",
    "                wrong_wards.append(data)\n",
    "                \n",
    "                \n",
    "        except Exception as e:\n",
    "            print('ERROR address:', address)\n",
    "            print('ERROR info:', e)"
   ],
   "metadata": {
    "collapsed": false,
    "ExecuteTime": {
     "end_time": "2024-09-27T11:11:01.122075Z",
     "start_time": "2024-09-27T11:09:57.328023Z"
    }
   },
   "id": "48f7e7e2506dd04e",
   "execution_count": 7
  },
  {
   "cell_type": "code",
   "outputs": [],
   "source": [
    "df_wrong_wards = pd.DataFrame(wrong_wards)"
   ],
   "metadata": {
    "collapsed": false,
    "ExecuteTime": {
     "end_time": "2024-09-27T11:11:01.128344Z",
     "start_time": "2024-09-27T11:11:01.123660Z"
    }
   },
   "id": "32691a48ffa8b1dc",
   "execution_count": 8
  },
  {
   "cell_type": "code",
   "outputs": [
    {
     "ename": "AttributeError",
     "evalue": "'DataFrame' object has no attribute 'province_key'",
     "output_type": "error",
     "traceback": [
      "\u001B[0;31m---------------------------------------------------------------------------\u001B[0m",
      "\u001B[0;31mAttributeError\u001B[0m                            Traceback (most recent call last)",
      "\u001B[0;32m/var/folders/tm/3b72tt2j0rn4tllr8h4bsrlr0000gn/T/ipykernel_15564/1782924175.py\u001B[0m in \u001B[0;36m?\u001B[0;34m()\u001B[0m\n\u001B[0;32m----> 1\u001B[0;31m \u001B[0mdf_wrong_wards\u001B[0m \u001B[0;34m=\u001B[0m \u001B[0mdf_wrong_wards\u001B[0m\u001B[0;34m[\u001B[0m\u001B[0;34m(\u001B[0m\u001B[0mdf_wrong_wards\u001B[0m\u001B[0;34m.\u001B[0m\u001B[0mprovince_key\u001B[0m\u001B[0;34m==\u001B[0m\u001B[0mdf_wrong_wards\u001B[0m\u001B[0;34m.\u001B[0m\u001B[0mwrong_province_key\u001B[0m\u001B[0;34m)\u001B[0m \u001B[0;34m&\u001B[0m \u001B[0;34m(\u001B[0m\u001B[0mdf_wrong_wards\u001B[0m\u001B[0;34m.\u001B[0m\u001B[0mdistrict_key\u001B[0m\u001B[0;34m==\u001B[0m\u001B[0mdf_wrong_wards\u001B[0m\u001B[0;34m.\u001B[0m\u001B[0mwrong_district_key\u001B[0m\u001B[0;34m)\u001B[0m\u001B[0;34m]\u001B[0m\u001B[0;34m\u001B[0m\u001B[0;34m\u001B[0m\u001B[0m\n\u001B[0m",
      "\u001B[0;32m~/anaconda3/lib/python3.11/site-packages/pandas/core/generic.py\u001B[0m in \u001B[0;36m?\u001B[0;34m(self, name)\u001B[0m\n\u001B[1;32m   5985\u001B[0m             \u001B[0;32mand\u001B[0m \u001B[0mname\u001B[0m \u001B[0;32mnot\u001B[0m \u001B[0;32min\u001B[0m \u001B[0mself\u001B[0m\u001B[0;34m.\u001B[0m\u001B[0m_accessors\u001B[0m\u001B[0;34m\u001B[0m\u001B[0;34m\u001B[0m\u001B[0m\n\u001B[1;32m   5986\u001B[0m             \u001B[0;32mand\u001B[0m \u001B[0mself\u001B[0m\u001B[0;34m.\u001B[0m\u001B[0m_info_axis\u001B[0m\u001B[0;34m.\u001B[0m\u001B[0m_can_hold_identifiers_and_holds_name\u001B[0m\u001B[0;34m(\u001B[0m\u001B[0mname\u001B[0m\u001B[0;34m)\u001B[0m\u001B[0;34m\u001B[0m\u001B[0;34m\u001B[0m\u001B[0m\n\u001B[1;32m   5987\u001B[0m         ):\n\u001B[1;32m   5988\u001B[0m             \u001B[0;32mreturn\u001B[0m \u001B[0mself\u001B[0m\u001B[0;34m[\u001B[0m\u001B[0mname\u001B[0m\u001B[0;34m]\u001B[0m\u001B[0;34m\u001B[0m\u001B[0;34m\u001B[0m\u001B[0m\n\u001B[0;32m-> 5989\u001B[0;31m         \u001B[0;32mreturn\u001B[0m \u001B[0mobject\u001B[0m\u001B[0;34m.\u001B[0m\u001B[0m__getattribute__\u001B[0m\u001B[0;34m(\u001B[0m\u001B[0mself\u001B[0m\u001B[0;34m,\u001B[0m \u001B[0mname\u001B[0m\u001B[0;34m)\u001B[0m\u001B[0;34m\u001B[0m\u001B[0;34m\u001B[0m\u001B[0m\n\u001B[0m",
      "\u001B[0;31mAttributeError\u001B[0m: 'DataFrame' object has no attribute 'province_key'"
     ]
    }
   ],
   "source": [
    "df_wrong_wards = df_wrong_wards[(df_wrong_wards.province_key==df_wrong_wards.wrong_province_key) & (df_wrong_wards.district_key==df_wrong_wards.wrong_district_key)]"
   ],
   "metadata": {
    "collapsed": false,
    "ExecuteTime": {
     "end_time": "2024-09-27T11:11:01.202196Z",
     "start_time": "2024-09-27T11:11:01.129390Z"
    }
   },
   "id": "f9b5a4bd5e66946",
   "execution_count": 9
  },
  {
   "cell_type": "code",
   "outputs": [],
   "source": [
    "df_wrong_wards[df_wrong_wards.wrong_ward_key.isna()]"
   ],
   "metadata": {
    "collapsed": false,
    "ExecuteTime": {
     "end_time": "2024-09-27T11:11:01.203227Z",
     "start_time": "2024-09-27T11:11:01.203169Z"
    }
   },
   "id": "1e20d61d4610be93",
   "execution_count": null
  },
  {
   "cell_type": "code",
   "outputs": [],
   "source": [
    "df_wrong_wards"
   ],
   "metadata": {
    "collapsed": false
   },
   "id": "b7cd59a7463c8fed",
   "execution_count": null
  },
  {
   "cell_type": "code",
   "outputs": [],
   "source": [
    "DICT_double_check_wards = {}\n",
    "\n",
    "for province_english in df_wrong_wards.province_english.unique():\n",
    "    district_data = {}\n",
    "    tmp_df_province = df_wrong_wards[df_wrong_wards.province_english ==province_english]\n",
    "    for district_english in tmp_df_province.district_english.unique():\n",
    "        tmp_df_district = tmp_df_province[tmp_df_province.district_english == district_english]\n",
    "        ward_data = {}\n",
    "        for wrong_ward_key in tmp_df_district.wrong_ward_key.unique():\n",
    "            ward_data[wrong_ward_key] = tmp_df_district[tmp_df_district.wrong_ward_key == wrong_ward_key]['ward_key'].unique().tolist()\n",
    "        \n",
    "        ward_data = dict(sorted(ward_data.items(), key=lambda x: len(x[0]), reverse=True))\n",
    "        district_data[district_english] = ward_data\n",
    "    \n",
    "    DICT_double_check_wards[province_english] = district_data"
   ],
   "metadata": {
    "collapsed": false
   },
   "id": "fdc854b46800a329",
   "execution_count": null
  },
  {
   "cell_type": "code",
   "outputs": [],
   "source": [
    "DICT_double_check_wards"
   ],
   "metadata": {
    "collapsed": false
   },
   "id": "db16837019ae5c66",
   "execution_count": null
  },
  {
   "cell_type": "code",
   "outputs": [],
   "source": [],
   "metadata": {
    "collapsed": false
   },
   "id": "e13d673f7ae30b31"
  }
 ],
 "metadata": {
  "kernelspec": {
   "display_name": "Python 3",
   "language": "python",
   "name": "python3"
  },
  "language_info": {
   "codemirror_mode": {
    "name": "ipython",
    "version": 2
   },
   "file_extension": ".py",
   "mimetype": "text/x-python",
   "name": "python",
   "nbconvert_exporter": "python",
   "pygments_lexer": "ipython2",
   "version": "2.7.6"
  }
 },
 "nbformat": 4,
 "nbformat_minor": 5
}
