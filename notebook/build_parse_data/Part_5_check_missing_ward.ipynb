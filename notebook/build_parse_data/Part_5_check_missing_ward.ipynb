{
 "cells": [
  {
   "cell_type": "code",
   "execution_count": 9,
   "id": "initial_id",
   "metadata": {
    "collapsed": true,
    "ExecuteTime": {
     "end_time": "2024-09-28T12:42:40.633454Z",
     "start_time": "2024-09-28T12:42:40.620562Z"
    }
   },
   "outputs": [],
   "source": [
    "import pandas as pd\n",
    "from vietadminunits import parse_address, get_data\n",
    "from vietadminunits.utils import to_key, to_alphanumeric\n",
    "import pickle"
   ]
  },
  {
   "cell_type": "code",
   "outputs": [],
   "source": [
    "df = pd.DataFrame(get_data())"
   ],
   "metadata": {
    "collapsed": false,
    "ExecuteTime": {
     "end_time": "2024-09-28T12:42:40.957651Z",
     "start_time": "2024-09-28T12:42:40.636669Z"
    }
   },
   "id": "b1b52d5aed5034d9",
   "execution_count": 10
  },
  {
   "cell_type": "code",
   "outputs": [],
   "source": [
    "df['long_province_alphanumeric'] = df['long_province'].apply(to_alphanumeric)\n",
    "df['long_district_alphanumeric'] = df['long_district'].apply(to_alphanumeric)\n",
    "df['long_ward_alphanumeric'] = df['long_ward'].fillna('').apply(to_alphanumeric)\n",
    "\n",
    "df['province_alphanumeric'] = df['province'].apply(to_alphanumeric)\n",
    "df['short_district_alphanumeric'] = df['short_district'].apply(to_alphanumeric)\n",
    "df['short_ward_alphanumeric'] = df['short_ward'].fillna('').apply(to_alphanumeric)"
   ],
   "metadata": {
    "collapsed": false,
    "ExecuteTime": {
     "end_time": "2024-09-28T12:42:41.204201Z",
     "start_time": "2024-09-28T12:42:40.958768Z"
    }
   },
   "id": "cf25cc6a682a9e9c",
   "execution_count": 11
  },
  {
   "cell_type": "code",
   "outputs": [],
   "source": [
    "for ward in ['long_ward', 'ward']:\n",
    "    for district in ['long_district', 'district']:\n",
    "        for province in ['long_province', 'province']:\n",
    "            df[f\"address_{ward}_{district}_{province}\"] = df[ward] + df[district] + df[province]\n",
    "            df[f\"address_comma_{ward}_{district}_{province}\"] = df[ward] + ',' + df[district] + ',' + df[province]\n",
    "            df[f\"address_{ward}_{province}_{district}\"] = df[ward] + df[province] + df[district]\n",
    "            df[f\"address_comma_{ward}_{province}_{district}\"] = df[ward] + ',' + df[province] + ',' + df[district]"
   ],
   "metadata": {
    "collapsed": false,
    "ExecuteTime": {
     "end_time": "2024-09-28T12:42:41.447467Z",
     "start_time": "2024-09-28T12:42:41.205472Z"
    }
   },
   "id": "2ad328732a0b7fc7",
   "execution_count": 12
  },
  {
   "cell_type": "code",
   "outputs": [],
   "source": [
    "df['province_key'] = df['province'].apply(to_key, args=(1,))\n",
    "df['district_key'] = df['district'].apply(to_key, args=(2,))\n",
    "df['ward_key'] = df['ward'].apply(to_key, args=(3,))"
   ],
   "metadata": {
    "collapsed": false,
    "ExecuteTime": {
     "end_time": "2024-09-28T12:42:41.534788Z",
     "start_time": "2024-09-28T12:42:41.448067Z"
    }
   },
   "id": "3782c5a649aaf6ec",
   "execution_count": 13
  },
  {
   "cell_type": "code",
   "outputs": [],
   "source": [
    "address_cols = [col for col in df.columns if 'address' in col]"
   ],
   "metadata": {
    "collapsed": false,
    "ExecuteTime": {
     "end_time": "2024-09-28T12:42:41.537856Z",
     "start_time": "2024-09-28T12:42:41.535745Z"
    }
   },
   "id": "69039b2628333813",
   "execution_count": 14
  },
  {
   "cell_type": "code",
   "outputs": [
    {
     "data": {
      "text/plain": "32"
     },
     "execution_count": 15,
     "metadata": {},
     "output_type": "execute_result"
    }
   ],
   "source": [
    "len(address_cols)"
   ],
   "metadata": {
    "collapsed": false,
    "ExecuteTime": {
     "end_time": "2024-09-28T12:42:41.540916Z",
     "start_time": "2024-09-28T12:42:41.538378Z"
    }
   },
   "id": "c4d4bd81f84b4a2f",
   "execution_count": 15
  },
  {
   "cell_type": "markdown",
   "source": [
    "## Check wrong province"
   ],
   "metadata": {
    "collapsed": false
   },
   "id": "4a1285958689a4"
  },
  {
   "cell_type": "code",
   "outputs": [
    {
     "ename": "AttributeError",
     "evalue": "'float' object has no attribute 'encode'",
     "output_type": "error",
     "traceback": [
      "\u001B[0;31m---------------------------------------------------------------------------\u001B[0m",
      "\u001B[0;31mAttributeError\u001B[0m                            Traceback (most recent call last)",
      "Cell \u001B[0;32mIn[16], line 8\u001B[0m\n\u001B[1;32m      6\u001B[0m \u001B[38;5;28;01mfor\u001B[39;00m row \u001B[38;5;129;01min\u001B[39;00m df\u001B[38;5;241m.\u001B[39mitertuples():\n\u001B[1;32m      7\u001B[0m     address \u001B[38;5;241m=\u001B[39m \u001B[38;5;28mgetattr\u001B[39m(row, address_col)\n\u001B[0;32m----> 8\u001B[0m     unit \u001B[38;5;241m=\u001B[39m parse_address(address, level\u001B[38;5;241m=\u001B[39m\u001B[38;5;241m1\u001B[39m)\n\u001B[1;32m      9\u001B[0m     data \u001B[38;5;241m=\u001B[39m {\n\u001B[1;32m     10\u001B[0m         \u001B[38;5;124m'\u001B[39m\u001B[38;5;124maddress\u001B[39m\u001B[38;5;124m'\u001B[39m: address,\n\u001B[1;32m     11\u001B[0m         \u001B[38;5;124m'\u001B[39m\u001B[38;5;124mprovince\u001B[39m\u001B[38;5;124m'\u001B[39m: row\u001B[38;5;241m.\u001B[39mprovince,\n\u001B[0;32m   (...)\u001B[0m\n\u001B[1;32m     15\u001B[0m         \u001B[38;5;124m'\u001B[39m\u001B[38;5;124mwrong_province_key\u001B[39m\u001B[38;5;124m'\u001B[39m: unit\u001B[38;5;241m.\u001B[39mprovince_key,\n\u001B[1;32m     16\u001B[0m     }\n\u001B[1;32m     18\u001B[0m     \u001B[38;5;28;01mif\u001B[39;00m unit\u001B[38;5;241m.\u001B[39mprovince \u001B[38;5;241m!=\u001B[39m row\u001B[38;5;241m.\u001B[39mprovince:\n",
      "File \u001B[0;32m~/Documents/GitHub/personal/vietnam-administrative-units/vietadminunits/parse.py:227\u001B[0m, in \u001B[0;36mparse_address\u001B[0;34m(address, level)\u001B[0m\n\u001B[1;32m    222\u001B[0m admin_unit \u001B[38;5;241m=\u001B[39m AdministrativeUnit()\n\u001B[1;32m    226\u001B[0m \u001B[38;5;66;03m# Prepare address\u001B[39;00m\n\u001B[0;32m--> 227\u001B[0m c_address \u001B[38;5;241m=\u001B[39m unidecode(address)\u001B[38;5;241m.\u001B[39mlower()\n\u001B[1;32m    229\u001B[0m \u001B[38;5;66;03m## Apply grammar replacements\u001B[39;00m\n\u001B[1;32m    230\u001B[0m \u001B[38;5;28;01mfor\u001B[39;00m pattern, replacement \u001B[38;5;129;01min\u001B[39;00m grammar_replacements:\n",
      "File \u001B[0;32m~/anaconda3/lib/python3.11/site-packages/unidecode/__init__.py:66\u001B[0m, in \u001B[0;36munidecode_expect_ascii\u001B[0;34m(string, errors, replace_str)\u001B[0m\n\u001B[1;32m     64\u001B[0m _warn_if_not_unicode(string)\n\u001B[1;32m     65\u001B[0m \u001B[38;5;28;01mtry\u001B[39;00m:\n\u001B[0;32m---> 66\u001B[0m     bytestring \u001B[38;5;241m=\u001B[39m string\u001B[38;5;241m.\u001B[39mencode(\u001B[38;5;124m'\u001B[39m\u001B[38;5;124mASCII\u001B[39m\u001B[38;5;124m'\u001B[39m)\n\u001B[1;32m     67\u001B[0m \u001B[38;5;28;01mexcept\u001B[39;00m \u001B[38;5;167;01mUnicodeEncodeError\u001B[39;00m:\n\u001B[1;32m     68\u001B[0m     \u001B[38;5;28;01mpass\u001B[39;00m\n",
      "\u001B[0;31mAttributeError\u001B[0m: 'float' object has no attribute 'encode'"
     ]
    }
   ],
   "source": [
    "wrong_provinces = []\n",
    "\n",
    "\n",
    "\n",
    "for address_col in address_cols:\n",
    "    for row in df.itertuples():\n",
    "        address = getattr(row, address_col)\n",
    "        unit = parse_address(address, level=1)\n",
    "        data = {\n",
    "            'address': address,\n",
    "            'province': row.province,\n",
    "            'province_key': row.province_key,\n",
    "            'district_key': row.district_key,\n",
    "            'ward_key': row.ward_key,\n",
    "            'wrong_province_key': unit.province_key,\n",
    "        }\n",
    "        \n",
    "        if unit.province != row.province:\n",
    "            print(address)\n",
    "            wrong_provinces.append(data)"
   ],
   "metadata": {
    "collapsed": false,
    "ExecuteTime": {
     "end_time": "2024-09-28T12:42:43.404388Z",
     "start_time": "2024-09-28T12:42:41.541394Z"
    }
   },
   "id": "aca769f749d9adf8",
   "execution_count": 16
  },
  {
   "cell_type": "code",
   "outputs": [],
   "source": [
    "df_wrong_provinces = pd.DataFrame(wrong_provinces)"
   ],
   "metadata": {
    "collapsed": false,
    "ExecuteTime": {
     "start_time": "2024-09-28T12:42:43.416128Z"
    }
   },
   "id": "69ce345fefd31da9",
   "execution_count": null
  },
  {
   "cell_type": "code",
   "outputs": [],
   "source": [
    "df_wrong_provinces.info()"
   ],
   "metadata": {
    "collapsed": false,
    "ExecuteTime": {
     "start_time": "2024-09-28T12:42:43.418141Z"
    }
   },
   "id": "90893bd387f0b0ad",
   "execution_count": null
  },
  {
   "cell_type": "code",
   "outputs": [],
   "source": [
    "df_wrong_provinces"
   ],
   "metadata": {
    "collapsed": false,
    "ExecuteTime": {
     "end_time": "2024-09-28T12:42:43.421224Z",
     "start_time": "2024-09-28T12:42:43.421028Z"
    }
   },
   "id": "e2982a67d046cdd3",
   "execution_count": null
  },
  {
   "cell_type": "markdown",
   "source": [
    "## Check wrong district"
   ],
   "metadata": {
    "collapsed": false
   },
   "id": "28410b2a00e10e19"
  },
  {
   "cell_type": "code",
   "outputs": [],
   "source": [
    "wrong_districts = []\n",
    "for address_col in address_cols:\n",
    "    for row in df.itertuples():\n",
    "        address = getattr(row, address_col)\n",
    "\n",
    "        unit = parse_address(address, level=2)\n",
    "    \n",
    "        data = {\n",
    "            'address': address,\n",
    "            'province_english': row.province_english,\n",
    "            'province_key': row.province_key,\n",
    "            'wrong_province_key': unit.province_key,\n",
    "            'district_key': row.district_key,\n",
    "            'ward_key': row.ward_key,\n",
    "            'wrong_district_key': unit.district_key,\n",
    "        }\n",
    "        \n",
    "        if unit.district != row.district:\n",
    "            print(address)\n",
    "            wrong_districts.append(data)\n",
    "\n"
   ],
   "metadata": {
    "collapsed": false,
    "ExecuteTime": {
     "end_time": "2024-09-28T12:42:43.424887Z",
     "start_time": "2024-09-28T12:42:43.424526Z"
    }
   },
   "id": "39bf6374b12777a5",
   "execution_count": null
  },
  {
   "cell_type": "code",
   "outputs": [],
   "source": [
    "df_wrong_districts = pd.DataFrame(wrong_districts)"
   ],
   "metadata": {
    "collapsed": false
   },
   "id": "96c5a897813dcae2",
   "execution_count": null
  },
  {
   "cell_type": "code",
   "outputs": [],
   "source": [
    "df_wrong_districts"
   ],
   "metadata": {
    "collapsed": false
   },
   "id": "f2d89fc8a171bbd9",
   "execution_count": null
  },
  {
   "cell_type": "markdown",
   "source": [
    "## Check wrong ward"
   ],
   "metadata": {
    "collapsed": false
   },
   "id": "3467154dca5f6a29"
  },
  {
   "cell_type": "code",
   "outputs": [],
   "source": [
    "wrong_wards = []\n",
    "for address_col in address_cols:\n",
    "    for row in df.itertuples():\n",
    "        address = getattr(row, address_col)\n",
    "\n",
    "        unit = parse_address(address, level=3)\n",
    "    \n",
    "        data = {\n",
    "            'address': address,\n",
    "            'province_english': row.province_english,\n",
    "            'province_key': row.province_key,\n",
    "            'wrong_province_key': unit.province_key,\n",
    "            'district_english': row.district_english,\n",
    "            'district_key': row.district_key,\n",
    "            'wrong_district_key': unit.district_key,\n",
    "            'ward_key': row.ward_key,\n",
    "            'wrong_ward_key': unit.ward_key,\n",
    "            \n",
    "        }\n",
    "        \n",
    "        if unit.ward != row.ward:\n",
    "            print(address, row.ward, unit.ward)\n",
    "            wrong_wards.append(data)"
   ],
   "metadata": {
    "collapsed": false
   },
   "id": "806a121cc067a521",
   "execution_count": null
  },
  {
   "cell_type": "code",
   "outputs": [],
   "source": [
    "df_wrong_wards = pd.DataFrame(wrong_wards)"
   ],
   "metadata": {
    "collapsed": false
   },
   "id": "8be6febca72cfb96",
   "execution_count": null
  },
  {
   "cell_type": "code",
   "outputs": [],
   "source": [
    "df_wrong_wards"
   ],
   "metadata": {
    "collapsed": false
   },
   "id": "82faa8e5c675b4c1",
   "execution_count": null
  },
  {
   "cell_type": "code",
   "outputs": [],
   "source": [
    "from vietadminunits.parse import DICT_ward_map"
   ],
   "metadata": {
    "collapsed": false
   },
   "id": "6308183371822ac8",
   "execution_count": null
  },
  {
   "cell_type": "code",
   "outputs": [],
   "source": [
    "DICT_ward_map['Thanh Hoa']['Hoang Hoa']"
   ],
   "metadata": {
    "collapsed": false
   },
   "id": "fe74a544b54d53e0",
   "execution_count": null
  },
  {
   "cell_type": "code",
   "outputs": [],
   "source": [
    "df[(df.province_english=='Thanh Hoa') & (df.district_english=='Hoang Hoa')]"
   ],
   "metadata": {
    "collapsed": false
   },
   "id": "e798b97b1e017d2a",
   "execution_count": null
  },
  {
   "cell_type": "code",
   "outputs": [],
   "source": [],
   "metadata": {
    "collapsed": false
   },
   "id": "a1a347176de1de46"
  }
 ],
 "metadata": {
  "kernelspec": {
   "display_name": "Python 3",
   "language": "python",
   "name": "python3"
  },
  "language_info": {
   "codemirror_mode": {
    "name": "ipython",
    "version": 2
   },
   "file_extension": ".py",
   "mimetype": "text/x-python",
   "name": "python",
   "nbconvert_exporter": "python",
   "pygments_lexer": "ipython2",
   "version": "2.7.6"
  }
 },
 "nbformat": 4,
 "nbformat_minor": 5
}
