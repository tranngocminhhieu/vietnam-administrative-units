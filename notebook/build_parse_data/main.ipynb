{
 "cells": [
  {
   "cell_type": "markdown",
   "id": "fcc7247bf129d2a6",
   "metadata": {},
   "source": [
    "# Build parse data"
   ]
  },
  {
   "cell_type": "code",
   "execution_count": 1,
   "id": "initial_id",
   "metadata": {
    "collapsed": true,
    "jupyter": {
     "outputs_hidden": true
    },
    "ExecuteTime": {
     "end_time": "2024-09-21T13:02:33.188260Z",
     "start_time": "2024-09-21T13:02:32.829136Z"
    }
   },
   "outputs": [],
   "source": [
    "import numpy as np\n",
    "import pandas as pd\n",
    "import re\n",
    "from unidecode import unidecode\n",
    "import pickle\n",
    "import sys\n",
    "sys.path.append('../../vietadminunits')\n",
    "from utils import to_alphanumeric, to_key"
   ]
  },
  {
   "cell_type": "markdown",
   "id": "f575361c4c167ffd",
   "metadata": {},
   "source": [
    "## Functions"
   ]
  },
  {
   "cell_type": "code",
   "execution_count": 2,
   "id": "c90c8f7661a749a1",
   "metadata": {
    "collapsed": false,
    "ExecuteTime": {
     "end_time": "2024-09-21T13:02:34.623442Z",
     "start_time": "2024-09-21T13:02:34.620264Z"
    }
   },
   "outputs": [],
   "source": [
    "def add_province_key(df_province, province_english, province_key):\n",
    "    if not df_province[df_province.province_english==province_english].shape[0]:\n",
    "        raise ValueError(f'{province_english} is not exist in province_english')\n",
    "    elif df_province[(df_province.province_english==province_english) & (df_province.province_key==province_key)].shape[0]:\n",
    "        raise ValueError(f'{province_key} is exist in province_key')\n",
    "    \n",
    "    df_new = df_province.loc[df_province.province_english==province_english].head(1)\n",
    "    df_new['province_key'] = province_key\n",
    "    df_province = pd.concat([df_province, df_new])\n",
    "    return df_province"
   ]
  },
  {
   "cell_type": "code",
   "execution_count": 3,
   "id": "32b1939b896a8f98",
   "metadata": {
    "collapsed": false,
    "ExecuteTime": {
     "end_time": "2024-09-21T13:02:35.325114Z",
     "start_time": "2024-09-21T13:02:35.320663Z"
    }
   },
   "outputs": [],
   "source": [
    "def add_district_key(df_district, province_english, district_english, district_key):\n",
    "    if not df_district[df_district.province_english==province_english].shape[0]:\n",
    "        raise ValueError(f'{province_english} is not exist in province_english')\n",
    "    elif not df_district[(df_district.province_english==province_english) & (df_district.district_english==district_english)].shape[0]:\n",
    "        raise ValueError(f'{district_english} is not exist in district_english of {province_english}')\n",
    "    elif df_district[(df_district.province_english==province_english) & (df_district.district_english==district_english) & (df_district.district_key==district_key)].shape[0]:\n",
    "        raise ValueError(f'{district_key} is exist in district_key of {province_english}, {district_english}')\n",
    "    \n",
    "    df_new = df_district.loc[(df_district.province_english==province_english) & (df_district.district_english==district_english)].head(1)\n",
    "    df_new['district_key'] = district_key\n",
    "    df_district = pd.concat([df_district, df_new])\n",
    "    return df_district"
   ]
  },
  {
   "cell_type": "code",
   "execution_count": 4,
   "id": "8f4875c92642bdac",
   "metadata": {
    "collapsed": false,
    "ExecuteTime": {
     "end_time": "2024-09-21T13:02:36.032306Z",
     "start_time": "2024-09-21T13:02:36.027699Z"
    }
   },
   "outputs": [],
   "source": [
    "def add_ward_key(df_ward, province_english, district_english, ward_english, ward_key):\n",
    "    if not df_ward[df_ward.province_english==province_english].shape[0]:\n",
    "        raise ValueError(f'{province_english} is not exist in province_english')\n",
    "    \n",
    "    elif not df_ward[(df_ward.province_english==province_english) & (df_ward.district_english==district_english)].shape[0]:\n",
    "        raise ValueError(f'{district_english} is not exist in district_english of {province_english}')\n",
    "    \n",
    "    elif not df_ward[(df_ward.province_english==province_english) & (df_ward.district_english==district_english) & (df_ward.ward_english==ward_english)].shape[0]:\n",
    "        raise ValueError(f'{ward_english} is not exist in ward_english of {province_english}, {district_english}')\n",
    "    \n",
    "    elif df_ward[(df_ward.province_english==province_english) & (df_ward.district_english==district_english) & (df_ward.ward_english==ward_english) & (df_ward.ward_key==ward_key)].shape[0]:\n",
    "        raise ValueError(f'{ward_key} is exist in ward_key of {province_english}, {district_english}, {ward_english}')\n",
    "    \n",
    "    df_new = df_ward.loc[(df_ward.province_english==province_english) & (df_ward.district_english==district_english) & (df_ward.ward_english==ward_english)].head(1)\n",
    "    df_new['ward_key'] = ward_key\n",
    "    df_ward = pd.concat([df_ward, df_new])\n",
    "    return df_ward"
   ]
  },
  {
   "cell_type": "markdown",
   "id": "be8d4555bb973d69",
   "metadata": {},
   "source": [
    "## Base dataset"
   ]
  },
  {
   "cell_type": "code",
   "execution_count": 5,
   "id": "3dd43d782abe18a1",
   "metadata": {
    "collapsed": false,
    "ExecuteTime": {
     "end_time": "2024-09-21T13:02:42.332088Z",
     "start_time": "2024-09-21T13:02:42.277374Z"
    }
   },
   "outputs": [],
   "source": [
    "df = pd.read_csv('../../data/output/vietnam_administrative_units.csv')"
   ]
  },
  {
   "cell_type": "code",
   "execution_count": 6,
   "id": "e537352f45630d46",
   "metadata": {
    "collapsed": false,
    "ExecuteTime": {
     "end_time": "2024-09-21T13:02:42.995287Z",
     "start_time": "2024-09-21T13:02:42.984274Z"
    }
   },
   "outputs": [
    {
     "data": {
      "text/plain": "  province district       ward     long_province long_district  \\\n0   Hà Nội  Ba Đình    Phúc Xá  Thành phố Hà Nội  Quận Ba Đình   \n1   Hà Nội  Ba Đình  Trúc Bạch  Thành phố Hà Nội  Quận Ba Đình   \n2   Hà Nội  Ba Đình  Vĩnh Phúc  Thành phố Hà Nội  Quận Ba Đình   \n3   Hà Nội  Ba Đình    Cống Vị  Thành phố Hà Nội  Quận Ba Đình   \n4   Hà Nội  Ba Đình  Liễu Giai  Thành phố Hà Nội  Quận Ba Đình   \n\n          long_ward short_district short_ward province_english  \\\n0    Phường Phúc Xá        Ba Đình    Phúc Xá           Ha Noi   \n1  Phường Trúc Bạch        Ba Đình  Trúc Bạch           Ha Noi   \n2  Phường Vĩnh Phúc        Ba Đình  Vĩnh Phúc           Ha Noi   \n3    Phường Cống Vị        Ba Đình    Cống Vị           Ha Noi   \n4  Phường Liễu Giai        Ba Đình  Liễu Giai           Ha Noi   \n\n  district_english ward_english long_province_english long_district_english  \\\n0          Ba Dinh      Phuc Xa           Ha Noi City      Ba Dinh District   \n1          Ba Dinh    Truc Bach           Ha Noi City      Ba Dinh District   \n2          Ba Dinh    Vinh Phuc           Ha Noi City      Ba Dinh District   \n3          Ba Dinh      Cong Vi           Ha Noi City      Ba Dinh District   \n4          Ba Dinh    Lieu Giai           Ha Noi City      Ba Dinh District   \n\n  long_ward_english short_district_english short_ward_english district_level  \\\n0      Phuc Xa Ward                Ba Dinh            Phuc Xa           Quận   \n1    Truc Bach Ward                Ba Dinh          Truc Bach           Quận   \n2    Vinh Phuc Ward                Ba Dinh          Vinh Phuc           Quận   \n3      Cong Vi Ward                Ba Dinh            Cong Vi           Quận   \n4    Lieu Giai Ward                Ba Dinh          Lieu Giai           Quận   \n\n  ward_level district_level_english ward_level_english  \n0     Phường               District               Ward  \n1     Phường               District               Ward  \n2     Phường               District               Ward  \n3     Phường               District               Ward  \n4     Phường               District               Ward  ",
      "text/html": "<div>\n<style scoped>\n    .dataframe tbody tr th:only-of-type {\n        vertical-align: middle;\n    }\n\n    .dataframe tbody tr th {\n        vertical-align: top;\n    }\n\n    .dataframe thead th {\n        text-align: right;\n    }\n</style>\n<table border=\"1\" class=\"dataframe\">\n  <thead>\n    <tr style=\"text-align: right;\">\n      <th></th>\n      <th>province</th>\n      <th>district</th>\n      <th>ward</th>\n      <th>long_province</th>\n      <th>long_district</th>\n      <th>long_ward</th>\n      <th>short_district</th>\n      <th>short_ward</th>\n      <th>province_english</th>\n      <th>district_english</th>\n      <th>ward_english</th>\n      <th>long_province_english</th>\n      <th>long_district_english</th>\n      <th>long_ward_english</th>\n      <th>short_district_english</th>\n      <th>short_ward_english</th>\n      <th>district_level</th>\n      <th>ward_level</th>\n      <th>district_level_english</th>\n      <th>ward_level_english</th>\n    </tr>\n  </thead>\n  <tbody>\n    <tr>\n      <th>0</th>\n      <td>Hà Nội</td>\n      <td>Ba Đình</td>\n      <td>Phúc Xá</td>\n      <td>Thành phố Hà Nội</td>\n      <td>Quận Ba Đình</td>\n      <td>Phường Phúc Xá</td>\n      <td>Ba Đình</td>\n      <td>Phúc Xá</td>\n      <td>Ha Noi</td>\n      <td>Ba Dinh</td>\n      <td>Phuc Xa</td>\n      <td>Ha Noi City</td>\n      <td>Ba Dinh District</td>\n      <td>Phuc Xa Ward</td>\n      <td>Ba Dinh</td>\n      <td>Phuc Xa</td>\n      <td>Quận</td>\n      <td>Phường</td>\n      <td>District</td>\n      <td>Ward</td>\n    </tr>\n    <tr>\n      <th>1</th>\n      <td>Hà Nội</td>\n      <td>Ba Đình</td>\n      <td>Trúc Bạch</td>\n      <td>Thành phố Hà Nội</td>\n      <td>Quận Ba Đình</td>\n      <td>Phường Trúc Bạch</td>\n      <td>Ba Đình</td>\n      <td>Trúc Bạch</td>\n      <td>Ha Noi</td>\n      <td>Ba Dinh</td>\n      <td>Truc Bach</td>\n      <td>Ha Noi City</td>\n      <td>Ba Dinh District</td>\n      <td>Truc Bach Ward</td>\n      <td>Ba Dinh</td>\n      <td>Truc Bach</td>\n      <td>Quận</td>\n      <td>Phường</td>\n      <td>District</td>\n      <td>Ward</td>\n    </tr>\n    <tr>\n      <th>2</th>\n      <td>Hà Nội</td>\n      <td>Ba Đình</td>\n      <td>Vĩnh Phúc</td>\n      <td>Thành phố Hà Nội</td>\n      <td>Quận Ba Đình</td>\n      <td>Phường Vĩnh Phúc</td>\n      <td>Ba Đình</td>\n      <td>Vĩnh Phúc</td>\n      <td>Ha Noi</td>\n      <td>Ba Dinh</td>\n      <td>Vinh Phuc</td>\n      <td>Ha Noi City</td>\n      <td>Ba Dinh District</td>\n      <td>Vinh Phuc Ward</td>\n      <td>Ba Dinh</td>\n      <td>Vinh Phuc</td>\n      <td>Quận</td>\n      <td>Phường</td>\n      <td>District</td>\n      <td>Ward</td>\n    </tr>\n    <tr>\n      <th>3</th>\n      <td>Hà Nội</td>\n      <td>Ba Đình</td>\n      <td>Cống Vị</td>\n      <td>Thành phố Hà Nội</td>\n      <td>Quận Ba Đình</td>\n      <td>Phường Cống Vị</td>\n      <td>Ba Đình</td>\n      <td>Cống Vị</td>\n      <td>Ha Noi</td>\n      <td>Ba Dinh</td>\n      <td>Cong Vi</td>\n      <td>Ha Noi City</td>\n      <td>Ba Dinh District</td>\n      <td>Cong Vi Ward</td>\n      <td>Ba Dinh</td>\n      <td>Cong Vi</td>\n      <td>Quận</td>\n      <td>Phường</td>\n      <td>District</td>\n      <td>Ward</td>\n    </tr>\n    <tr>\n      <th>4</th>\n      <td>Hà Nội</td>\n      <td>Ba Đình</td>\n      <td>Liễu Giai</td>\n      <td>Thành phố Hà Nội</td>\n      <td>Quận Ba Đình</td>\n      <td>Phường Liễu Giai</td>\n      <td>Ba Đình</td>\n      <td>Liễu Giai</td>\n      <td>Ha Noi</td>\n      <td>Ba Dinh</td>\n      <td>Lieu Giai</td>\n      <td>Ha Noi City</td>\n      <td>Ba Dinh District</td>\n      <td>Lieu Giai Ward</td>\n      <td>Ba Dinh</td>\n      <td>Lieu Giai</td>\n      <td>Quận</td>\n      <td>Phường</td>\n      <td>District</td>\n      <td>Ward</td>\n    </tr>\n  </tbody>\n</table>\n</div>"
     },
     "execution_count": 6,
     "metadata": {},
     "output_type": "execute_result"
    }
   ],
   "source": [
    "df.head()"
   ]
  },
  {
   "cell_type": "code",
   "execution_count": 7,
   "id": "7c7865b3c62ec036",
   "metadata": {
    "collapsed": false,
    "ExecuteTime": {
     "end_time": "2024-09-21T13:02:44.333184Z",
     "start_time": "2024-09-21T13:02:44.329156Z"
    }
   },
   "outputs": [
    {
     "data": {
      "text/plain": "(10547, 20)"
     },
     "execution_count": 7,
     "metadata": {},
     "output_type": "execute_result"
    }
   ],
   "source": [
    "df.shape"
   ]
  },
  {
   "cell_type": "code",
   "execution_count": 8,
   "id": "5c5d99ae8b4ce619",
   "metadata": {
    "collapsed": false,
    "ExecuteTime": {
     "end_time": "2024-09-21T13:03:10.717357Z",
     "start_time": "2024-09-21T13:03:10.493687Z"
    }
   },
   "outputs": [],
   "source": [
    "df['province_key'] = df['province'].apply(to_key, args=(1,))\n",
    "df['district_key'] = df['short_district'].apply(to_key, args=(2,))\n",
    "df['ward_key'] = df['short_ward'].apply(to_key, args=(3,))\n",
    "\n",
    "df['province_alphanumeric'] = df['long_province'].apply(to_alphanumeric)\n",
    "df['district_alphanumeric'] = df['long_district'].apply(to_alphanumeric)\n",
    "df['ward_alphanumeric'] = df['long_ward'].apply(to_alphanumeric)\n",
    "\n",
    "df['province_alphanumeric_english'] = df['long_province_english'].apply(to_alphanumeric)\n",
    "df['district_alphanumeric_english'] = df['long_district_english'].apply(to_alphanumeric)\n",
    "df['ward_alphanumeric_english'] = df['long_ward_english'].apply(to_alphanumeric)\n",
    "\n",
    "df['district_level_english'].fillna('', inplace=True)\n",
    "df['ward_level_english'].fillna('', inplace=True)"
   ]
  },
  {
   "cell_type": "markdown",
   "id": "635b3efaecaa2f6e",
   "metadata": {},
   "source": [
    "### Create keyword lists that are duplicated district_keyword\n",
    "\n",
    "Eg: Hà Tĩnh has Huyện Kỳ Anh and Thị xã Kỳ Anh."
   ]
  },
  {
   "cell_type": "code",
   "execution_count": 9,
   "id": "a5ac0bb1ca84818b",
   "metadata": {
    "collapsed": false,
    "ExecuteTime": {
     "end_time": "2024-09-21T13:04:12.925966Z",
     "start_time": "2024-09-21T13:04:12.910987Z"
    }
   },
   "outputs": [],
   "source": [
    "district_count = df[['province', 'long_district', 'district_key']].drop_duplicates()[['province', 'district_key']].value_counts().reset_index()\n",
    "duplicated_districts = district_count[district_count['count'] > 1]['district_key'].tolist()"
   ]
  },
  {
   "cell_type": "code",
   "execution_count": 10,
   "id": "c19e9d87e6f766ee",
   "metadata": {
    "collapsed": false,
    "ExecuteTime": {
     "end_time": "2024-09-21T13:04:16.810233Z",
     "start_time": "2024-09-21T13:04:16.804514Z"
    }
   },
   "outputs": [],
   "source": [
    "df_duplicated_districts = df[df.district_key.isin(duplicated_districts)][['long_province', 'long_district' ,'province_key','district_key']].drop_duplicates()"
   ]
  },
  {
   "cell_type": "code",
   "execution_count": 11,
   "id": "20495c948239a612",
   "metadata": {
    "collapsed": false,
    "ExecuteTime": {
     "end_time": "2024-09-21T13:04:17.650316Z",
     "start_time": "2024-09-21T13:04:17.642015Z"
    }
   },
   "outputs": [
    {
     "data": {
      "text/plain": "         long_province       long_district province_key district_key\n5835      Tỉnh Hà Tĩnh        Huyện Kỳ Anh       hatinh        kyanh\n5867      Tỉnh Hà Tĩnh       Thị xã Kỳ Anh       hatinh        kyanh\n9160   Tỉnh Tiền Giang      Thị xã Cai Lậy    tiengiang       cailay\n9213   Tỉnh Tiền Giang       Huyện Cai Lậy    tiengiang       cailay\n9552     Tỉnh Trà Vinh     Huyện Duyên Hải      travinh     duyenhai\n9559     Tỉnh Trà Vinh    Thị xã Duyên Hải      travinh     duyenhai\n9673    Tỉnh Đồng Tháp  Thành phố Cao Lãnh     dongthap      caolanh\n9697    Tỉnh Đồng Tháp  Thành phố Hồng Ngự     dongthap      hongngu\n9713    Tỉnh Đồng Tháp      Huyện Hồng Ngự     dongthap      hongngu\n9748    Tỉnh Đồng Tháp      Huyện Cao Lãnh     dongthap      caolanh\n10257   Tỉnh Hậu Giang       Huyện Long Mỹ     haugiang       longmy\n10265   Tỉnh Hậu Giang      Thị xã Long Mỹ     haugiang       longmy",
      "text/html": "<div>\n<style scoped>\n    .dataframe tbody tr th:only-of-type {\n        vertical-align: middle;\n    }\n\n    .dataframe tbody tr th {\n        vertical-align: top;\n    }\n\n    .dataframe thead th {\n        text-align: right;\n    }\n</style>\n<table border=\"1\" class=\"dataframe\">\n  <thead>\n    <tr style=\"text-align: right;\">\n      <th></th>\n      <th>long_province</th>\n      <th>long_district</th>\n      <th>province_key</th>\n      <th>district_key</th>\n    </tr>\n  </thead>\n  <tbody>\n    <tr>\n      <th>5835</th>\n      <td>Tỉnh Hà Tĩnh</td>\n      <td>Huyện Kỳ Anh</td>\n      <td>hatinh</td>\n      <td>kyanh</td>\n    </tr>\n    <tr>\n      <th>5867</th>\n      <td>Tỉnh Hà Tĩnh</td>\n      <td>Thị xã Kỳ Anh</td>\n      <td>hatinh</td>\n      <td>kyanh</td>\n    </tr>\n    <tr>\n      <th>9160</th>\n      <td>Tỉnh Tiền Giang</td>\n      <td>Thị xã Cai Lậy</td>\n      <td>tiengiang</td>\n      <td>cailay</td>\n    </tr>\n    <tr>\n      <th>9213</th>\n      <td>Tỉnh Tiền Giang</td>\n      <td>Huyện Cai Lậy</td>\n      <td>tiengiang</td>\n      <td>cailay</td>\n    </tr>\n    <tr>\n      <th>9552</th>\n      <td>Tỉnh Trà Vinh</td>\n      <td>Huyện Duyên Hải</td>\n      <td>travinh</td>\n      <td>duyenhai</td>\n    </tr>\n    <tr>\n      <th>9559</th>\n      <td>Tỉnh Trà Vinh</td>\n      <td>Thị xã Duyên Hải</td>\n      <td>travinh</td>\n      <td>duyenhai</td>\n    </tr>\n    <tr>\n      <th>9673</th>\n      <td>Tỉnh Đồng Tháp</td>\n      <td>Thành phố Cao Lãnh</td>\n      <td>dongthap</td>\n      <td>caolanh</td>\n    </tr>\n    <tr>\n      <th>9697</th>\n      <td>Tỉnh Đồng Tháp</td>\n      <td>Thành phố Hồng Ngự</td>\n      <td>dongthap</td>\n      <td>hongngu</td>\n    </tr>\n    <tr>\n      <th>9713</th>\n      <td>Tỉnh Đồng Tháp</td>\n      <td>Huyện Hồng Ngự</td>\n      <td>dongthap</td>\n      <td>hongngu</td>\n    </tr>\n    <tr>\n      <th>9748</th>\n      <td>Tỉnh Đồng Tháp</td>\n      <td>Huyện Cao Lãnh</td>\n      <td>dongthap</td>\n      <td>caolanh</td>\n    </tr>\n    <tr>\n      <th>10257</th>\n      <td>Tỉnh Hậu Giang</td>\n      <td>Huyện Long Mỹ</td>\n      <td>haugiang</td>\n      <td>longmy</td>\n    </tr>\n    <tr>\n      <th>10265</th>\n      <td>Tỉnh Hậu Giang</td>\n      <td>Thị xã Long Mỹ</td>\n      <td>haugiang</td>\n      <td>longmy</td>\n    </tr>\n  </tbody>\n</table>\n</div>"
     },
     "execution_count": 11,
     "metadata": {},
     "output_type": "execute_result"
    }
   ],
   "source": [
    "df_duplicated_districts"
   ]
  },
  {
   "cell_type": "markdown",
   "id": "8f9ecba309f4fde6",
   "metadata": {},
   "source": [
    "My idea: We will use their wards to decide their district level.\n",
    "\n",
    "To make sure this idea is valid, I will check whether they have some wards with the same ward_key"
   ]
  },
  {
   "cell_type": "code",
   "execution_count": 12,
   "id": "e01c31372792a7a0",
   "metadata": {
    "collapsed": false,
    "ExecuteTime": {
     "end_time": "2024-09-21T13:04:28.659104Z",
     "start_time": "2024-09-21T13:04:28.638297Z"
    }
   },
   "outputs": [],
   "source": [
    "for district_key in duplicated_districts:\n",
    "    long_districts = df[df.district_key==district_key]['long_district'].unique().tolist()\n",
    "    a = []\n",
    "    b = []\n",
    "    long_district_a = long_districts[0]\n",
    "    long_district_b = long_districts[1]\n",
    "    ward_key_a = df[df.long_district==long_district_a]['ward_key'].unique().tolist()\n",
    "    ward_key_b = df[df.long_district==long_district_b]['ward_key'].unique().tolist()\n",
    "    common = list(set(a) & set(b))\n",
    "    if common:\n",
    "        print(district_key, 'has duplicated ward_key')"
   ]
  },
  {
   "cell_type": "markdown",
   "id": "7b8a1edeb2c2f550",
   "metadata": {},
   "source": [
    "Nice! We also have default option if there are no ward in the address, I use Google Trend to decide default district level."
   ]
  },
  {
   "cell_type": "code",
   "execution_count": 13,
   "id": "ebaf93ff2e5143f8",
   "metadata": {
    "collapsed": false,
    "ExecuteTime": {
     "end_time": "2024-09-21T13:04:29.715170Z",
     "start_time": "2024-09-21T13:04:29.686621Z"
    }
   },
   "outputs": [],
   "source": [
    "# Pickle\n",
    "duplicated_district_province_keys = df_duplicated_districts['province_key'].unique().tolist()\n",
    "\n",
    "# Use Google Trend and search to decide level\n",
    "duplicated_district_keys = {\n",
    "    'kyanh': {'default':'Town'},\n",
    "    'cailay': {'default':'Town'},\n",
    "    'duyenhai': {'default':'District'},\n",
    "    'caolanh': {'default':'City'},\n",
    "    'hongngu': {'default':'City'},\n",
    "    'longmy': {'default':'District'}\n",
    "}\n",
    "\n",
    "for district_key in duplicated_districts:\n",
    "    df_temp = df[df.district_key == district_key]\n",
    "    level_data = {}\n",
    "    levels = df_temp.district_level_english.unique().tolist()\n",
    "    for district_level_english in levels:\n",
    "        ward_keys = df_temp[df_temp.district_level_english==district_level_english]['ward_key'].unique().tolist()\n",
    "        level_data[district_level_english] = ward_keys\n",
    "        duplicated_district_keys[district_key]['levels'] = level_data"
   ]
  },
  {
   "cell_type": "code",
   "execution_count": 14,
   "id": "969432cad1a18d05",
   "metadata": {
    "collapsed": false,
    "ExecuteTime": {
     "end_time": "2024-09-21T13:04:30.903846Z",
     "start_time": "2024-09-21T13:04:30.896499Z"
    }
   },
   "outputs": [
    {
     "name": "stdout",
     "output_type": "stream",
     "text": [
      "Provinces: ['hatinh', 'tiengiang', 'travinh', 'dongthap', 'haugiang'] \n",
      "\n",
      "Districts: {'kyanh': {'default': 'Town', 'levels': {'District': ['kyxuan', 'kybac', 'kyphu', 'kyphong', 'kytien', 'kygiang', 'kydong', 'kykhang', 'kyvan', 'kytrung', 'kytho', 'kytay', 'kythuong', 'kyhai', 'kythu', 'kychau', 'kytan', 'lamhop', 'kyson', 'kylac'], 'Town': ['hungtri', 'kyninh', 'kyloi', 'kyha', 'kytrinh', 'kythinh', 'kyhoa', 'kyphuong', 'kylong', 'kylien', 'kynam']}}, 'cailay': {'default': 'Town', 'levels': {'Town': ['phuong1', 'phuong2', 'phuong3', 'phuong4', 'phuong5', 'myphuoctay', 'myhanhdong', 'myhanhtrung', 'tanphu', 'tanbinh', 'tanhoi', 'nhimy', 'nhiquy', 'thanhhoa', 'phuquy', 'longkhanh'], 'District': ['thanhloc', 'mythanhbac', 'phucuong', 'mythanhnam', 'phunhuan', 'binhphu', 'camson', 'phuan', 'mylong', 'longtien', 'hiepduc', 'longtrung', 'hoixuan', 'tanphong', 'tambinh', 'nguhiep']}}, 'duyenhai': {'default': 'District', 'levels': {'District': ['donxuan', 'donchau', 'longthanh', 'longkhanh', 'ngulac', 'longvinh', 'donghai'], 'Town': ['phuong1', 'longtoan', 'phuong2', 'longhuu', 'danthanh', 'truonglonghoa', 'hiepthanh']}}, 'caolanh': {'default': 'City', 'levels': {'City': ['phuong11', 'phuong1', 'phuong2', 'phuong4', 'phuong3', 'phuong6', 'myngai', 'mytan', 'mytra', 'myphu', 'tanthuantay', 'hoathuan', 'hoaan', 'tanthuandong', 'tinhthoi'], 'District': ['mytho', 'gaogiong', 'phuongthinh', 'basao', 'phongmy', 'tannghia', 'phuongtra', 'nhimy', 'tanhoitrung', 'anbinh', 'myhoi', 'myhiep', 'mylong', 'binhhangtrung', 'myxuong', 'binhhangtay', 'binhthanh']}}, 'hongngu': {'default': 'City', 'levels': {'City': ['anloc', 'anthanh', 'binhthanh', 'tanhoi', 'anlac', 'anbinhb', 'anbinha'], 'District': ['thuongphuoc1', 'thuongthoihaua', 'thuongthoitien', 'thuongphuoc2', 'thuonglac', 'longkhanha', 'longkhanhb', 'longthuan', 'phuthuanb', 'phuthuana']}}, 'longmy': {'default': 'District', 'levels': {'District': ['thuanhung', 'thuanhoa', 'vinhthuandong', 'vinhvien', 'vinhviena', 'luongtam', 'luongnghia', 'xaphien'], 'Town': ['thuanan', 'tralong', 'binhthanh', 'longbinh', 'vinhtuong', 'longtri', 'longtria', 'longphu', 'tanphu']}}}\n"
     ]
    }
   ],
   "source": [
    "print('Provinces:', duplicated_district_province_keys, '\\n')\n",
    "print('Districts:', duplicated_district_keys)"
   ]
  },
  {
   "cell_type": "markdown",
   "id": "e2baa6d4821fcd8f",
   "metadata": {},
   "source": [
    "At this step, we collect these data to save to module data:\n",
    "- `duplicated_district_province_keys`\n",
    "- `duplicated_district_keys`"
   ]
  },
  {
   "cell_type": "markdown",
   "id": "c28e8aa6fe18695f",
   "metadata": {},
   "source": [
    "## Find district alias keywords\n",
    "\n",
    "Data source: [Danh sách các đơn vị hành chính cấp huyện không còn tồn tại](https://vi.wikipedia.org/wiki/Danh_s%C3%A1ch_%C4%91%C6%A1n_v%E1%BB%8B_h%C3%A0nh_ch%C3%ADnh_c%E1%BA%A5p_huy%E1%BB%87n_c%E1%BB%A7a_Vi%E1%BB%87t_Nam#Danh_s%C3%A1ch_c%C3%A1c_%C4%91%C6%A1n_v%E1%BB%8B_h%C3%A0nh_ch%C3%ADnh_c%E1%BA%A5p_huy%E1%BB%87n_kh%C3%B4ng_c%C3%B2n_t%E1%BB%93n_t%E1%BA%A1i)"
   ]
  },
  {
   "cell_type": "code",
   "execution_count": null,
   "id": "1c5d412180812c8b",
   "metadata": {
    "collapsed": false
   },
   "outputs": [],
   "source": [
    "def check_containing_keyword(district, change):\n",
    "    if change.count(district) == 2:\n",
    "        return 1\n",
    "    else:\n",
    "        return 0"
   ]
  },
  {
   "cell_type": "code",
   "execution_count": null,
   "id": "8efe6538132de5f9",
   "metadata": {
    "collapsed": false
   },
   "outputs": [],
   "source": [
    "df_district_change = pd.read_csv('../../data/input/district_change.csv')"
   ]
  },
  {
   "cell_type": "code",
   "execution_count": null,
   "id": "3578e97ca63fe0ea",
   "metadata": {
    "collapsed": false
   },
   "outputs": [],
   "source": [
    "df_district_change.dropna(inplace=True)"
   ]
  },
  {
   "cell_type": "code",
   "execution_count": null,
   "id": "68f06a1db08917db",
   "metadata": {
    "collapsed": false
   },
   "outputs": [],
   "source": [
    "df_district_change['containing_keyword_two_times'] = df_district_change.apply(lambda x: check_containing_keyword(x.old_district, x.change), axis=1)"
   ]
  },
  {
   "cell_type": "code",
   "execution_count": null,
   "id": "1e5b6ba08e73c721",
   "metadata": {
    "collapsed": false
   },
   "outputs": [],
   "source": [
    "df_change = df_district_change[(df_district_change.change.fillna('').str.contains('sáp nhập|đổi tên')) & ~(df_district_change.change.fillna('').str.contains('một phần'))].copy()"
   ]
  },
  {
   "cell_type": "code",
   "execution_count": null,
   "id": "eea28fdda69f98dc",
   "metadata": {
    "collapsed": false
   },
   "outputs": [],
   "source": [
    "df_change"
   ]
  },
  {
   "cell_type": "code",
   "execution_count": null,
   "id": "d9d2d3aad4a2a39",
   "metadata": {
    "collapsed": false
   },
   "outputs": [],
   "source": [
    "df_split = df_district_change[df_district_change.containing_keyword_two_times==1].copy()"
   ]
  },
  {
   "cell_type": "code",
   "execution_count": null,
   "id": "d5750584e37cad3c",
   "metadata": {
    "collapsed": false
   },
   "outputs": [],
   "source": [
    "df_split"
   ]
  },
  {
   "cell_type": "code",
   "execution_count": null,
   "id": "5c7a2eb62ed3466f",
   "metadata": {
    "collapsed": false
   },
   "outputs": [],
   "source": [
    "# This is a particular case that is duplicated district_key\n",
    "df_split = df_split[df_split.old_district!='Tân Uyên'].copy()"
   ]
  },
  {
   "cell_type": "code",
   "execution_count": null,
   "id": "abbc8e9419a12522",
   "metadata": {
    "collapsed": false
   },
   "outputs": [],
   "source": [
    "# Use Google Trend to decide new district\n",
    "df_split.loc[df_split.old_district=='Mỏ Cày', 'district_english'] = 'Mo Cay Nam'\n",
    "df_split.loc[df_split.old_district=='Hàm Thuận', 'district_english'] = 'Ham Thuan Nam'\n",
    "df_split.loc[df_split.old_district=='Từ Liêm', 'district_english'] = 'Nam Tu Liem'\n",
    "df_split.loc[df_split.old_district=='Trà My', 'district_english'] = 'Nam Tra My'\n",
    "df_split.loc[df_split.old_district=='Gò Công', 'district_english'] = 'Go Cong Tay'"
   ]
  },
  {
   "cell_type": "code",
   "execution_count": null,
   "id": "d903322b5fea2f07",
   "metadata": {
    "collapsed": false
   },
   "outputs": [],
   "source": [
    "df_split"
   ]
  },
  {
   "cell_type": "code",
   "execution_count": null,
   "id": "130ede664251b2e8",
   "metadata": {
    "collapsed": false
   },
   "outputs": [],
   "source": [
    "def find_new_district_english(text):\n",
    "    au = parse_address(text, 2)\n",
    "    return au.district_english"
   ]
  },
  {
   "cell_type": "code",
   "execution_count": null,
   "id": "f200dbeb4366198",
   "metadata": {
    "collapsed": false
   },
   "outputs": [],
   "source": [
    "def prepare_address(province, change):\n",
    "    address = re.sub(f'.* thành ', '', change) + ', ' + province\n",
    "    return address"
   ]
  },
  {
   "cell_type": "code",
   "execution_count": null,
   "id": "ceecd16d80a84002",
   "metadata": {
    "collapsed": false
   },
   "outputs": [],
   "source": [
    "def create_province_english(text):\n",
    "    au = parse_address(text, 1)\n",
    "    return au.province_english"
   ]
  },
  {
   "cell_type": "code",
   "execution_count": null,
   "id": "80c5a2144f1bf8c8",
   "metadata": {
    "collapsed": false
   },
   "outputs": [],
   "source": [
    "df_change['address'] = df_change.apply(lambda row: prepare_address(row.province, row.change), axis=1)"
   ]
  },
  {
   "cell_type": "code",
   "execution_count": null,
   "id": "7c45627e1f657c72",
   "metadata": {
    "collapsed": false
   },
   "outputs": [],
   "source": [
    "df_change"
   ]
  },
  {
   "cell_type": "code",
   "execution_count": null,
   "id": "5503e7c5bfa6b34d",
   "metadata": {
    "collapsed": false
   },
   "outputs": [],
   "source": [
    "df_change = df_change[df_change.old_district!='Thủ Đức (quận)'].copy()"
   ]
  },
  {
   "cell_type": "code",
   "execution_count": null,
   "id": "dda40bcde7ec5f67",
   "metadata": {
    "collapsed": false
   },
   "outputs": [],
   "source": [
    "df_change['district_english'] = df_change.address.apply(find_new_district_english)"
   ]
  },
  {
   "cell_type": "markdown",
   "id": "b7dec248193b5f14",
   "metadata": {},
   "source": [
    "After doing research, I found district_english `None` are fine, because they are moved to another province or revert it's changing."
   ]
  },
  {
   "cell_type": "code",
   "execution_count": null,
   "id": "7572f49ea48f23f5",
   "metadata": {
    "collapsed": false
   },
   "outputs": [],
   "source": [
    "df_change.dropna(inplace=True)"
   ]
  },
  {
   "cell_type": "code",
   "execution_count": null,
   "id": "cf65efe35a723fbf",
   "metadata": {
    "collapsed": false
   },
   "outputs": [],
   "source": [
    "df_change.dropna(inplace=True)\n",
    "df_all = pd.concat([df_change, df_split])\n",
    "df_all['province_english'] = df_all.province.apply(create_province_english)\n",
    "df_all['district_key'] = df_all.old_district.apply(to_key, args=(2,))"
   ]
  },
  {
   "cell_type": "code",
   "execution_count": null,
   "id": "4792130c8b49ee00",
   "metadata": {
    "collapsed": false
   },
   "outputs": [],
   "source": [
    "df_all"
   ]
  },
  {
   "cell_type": "code",
   "execution_count": null,
   "id": "feef68d87866d4bd",
   "metadata": {
    "collapsed": false
   },
   "outputs": [],
   "source": [
    "district_alias_keys = [tuple(i) for i in  df_all[['province_english', 'district_english', 'district_key']].values.tolist()]"
   ]
  },
  {
   "cell_type": "code",
   "execution_count": null,
   "id": "ac47c7c1aac815c6",
   "metadata": {
    "collapsed": false
   },
   "outputs": [],
   "source": [
    "district_alias_keys"
   ]
  },
  {
   "cell_type": "code",
   "execution_count": null,
   "id": "f4b06b1dd2e7947e",
   "metadata": {
    "collapsed": false
   },
   "outputs": [],
   "source": [
    "df_split['old_district_key'] = df_split['old_district'].apply(to_key, args=(2,))"
   ]
  },
  {
   "cell_type": "code",
   "execution_count": null,
   "id": "b76199d1d5d1f288",
   "metadata": {
    "collapsed": false
   },
   "outputs": [],
   "source": [
    "# Pickle\n",
    "half_district_keys = {}\n",
    "for old_district_key in df_split['old_district_key'].unique().tolist():\n",
    "    df_temp = df[df.district_key.str.contains(old_district_key)]\n",
    "    district_keys =  df_temp.district_key.unique().tolist()\n",
    "    district_key_data = {}\n",
    "    for district_key in district_keys:\n",
    "        district_key_data[district_key] = df_temp[df_temp.district_key==district_key]['ward_key'].unique().tolist()\n",
    "    half_district_keys[old_district_key] = district_key_data"
   ]
  },
  {
   "cell_type": "code",
   "execution_count": null,
   "id": "b173b4d1961a139e",
   "metadata": {
    "collapsed": false
   },
   "outputs": [],
   "source": [
    "half_district_keys"
   ]
  },
  {
   "cell_type": "markdown",
   "id": "9ae4517edb1157b4",
   "metadata": {},
   "source": [
    "After this step, we got `half_district_keys` for module data"
   ]
  },
  {
   "cell_type": "markdown",
   "id": "8b2e02ce611ed152",
   "metadata": {},
   "source": [
    "### Create keyword lists that are duplicated ward_keyword"
   ]
  },
  {
   "cell_type": "code",
   "execution_count": null,
   "id": "36d6afa7d76816ea",
   "metadata": {
    "collapsed": false
   },
   "outputs": [],
   "source": [
    "ward_count = df[['long_province', 'long_district', 'short_ward']].value_counts().reset_index()\n",
    "df_duplicated_wards = ward_count[ward_count['count'] > 1].copy()\n",
    "df_duplicated_wards.sort_values(by=['long_province', 'long_district', 'short_ward'], inplace=True)"
   ]
  },
  {
   "cell_type": "code",
   "execution_count": null,
   "id": "4d92faf473be44bb",
   "metadata": {
    "collapsed": false
   },
   "outputs": [],
   "source": [
    "df_duplicated_wards = df[(df.long_province.isin(df_duplicated_wards.long_province)) & (df.long_district.isin(df_duplicated_wards.long_district)) & (df.short_ward.isin(df_duplicated_wards.short_ward))][['province', 'long_district', 'ward','ward_level_english', 'district_key', 'ward_key']]"
   ]
  },
  {
   "cell_type": "code",
   "execution_count": null,
   "id": "22024ec0b6c0c44f",
   "metadata": {
    "collapsed": false
   },
   "outputs": [],
   "source": [
    "df_duplicated_wards"
   ]
  },
  {
   "cell_type": "markdown",
   "id": "ae2dd5d209a6b301",
   "metadata": {},
   "source": [
    "Following Google Trend, \"xã ...\" is higher \"thị trấn ...\" significant. But \"phường ...\" is higher than \"xã ...\" and we have only one ward in the list."
   ]
  },
  {
   "cell_type": "code",
   "execution_count": null,
   "id": "3b25c9f8f0985e16",
   "metadata": {
    "collapsed": false
   },
   "outputs": [],
   "source": [
    "# Pickle\n",
    "duplicated_ward_keys = df_duplicated_wards.ward_key.unique().tolist()\n",
    "duplicated_ward_district_keys = df_duplicated_wards.district_key.unique().tolist()\n",
    "\n",
    "new_data = {}\n",
    "\n",
    "for ward_key in duplicated_ward_keys:\n",
    "    levels = df_duplicated_wards[df_duplicated_wards.ward_key == ward_key]['ward_level_english'].tolist()\n",
    "    if 'Ward' in levels:\n",
    "        ward_level = 'Ward'\n",
    "    elif 'Commune' in levels:\n",
    "        ward_level = 'Commune'\n",
    "    else:\n",
    "        ward_level = 'Town'\n",
    "    new_data[ward_key] = ward_level\n",
    "    \n",
    "duplicated_ward_keys = new_data.copy()"
   ]
  },
  {
   "cell_type": "code",
   "execution_count": null,
   "id": "d2e88418396fed1f",
   "metadata": {
    "collapsed": false
   },
   "outputs": [],
   "source": [
    "print('Districts:' ,duplicated_ward_district_keys)\n",
    "print('Wards:', duplicated_ward_keys)"
   ]
  },
  {
   "cell_type": "markdown",
   "id": "4b54e61378506981",
   "metadata": {},
   "source": [
    "After this step, we got these data for module:\n",
    "- `duplicated_ward_keys`\n",
    "- `duplicated_ward_district_keys`"
   ]
  },
  {
   "cell_type": "markdown",
   "id": "f1e920e2186097aa",
   "metadata": {},
   "source": [
    "### Sort province_key to prioritize some provinces\n",
    "- Some province has districts, or wards that are the same keyword with another province.\n",
    "- We need to run module_testing to check whether any address is wrong > Use ChatGPT to sort keywords > Add manually if we found new wrong keyword.\n",
    "\n",
    "For example:\n",
    "- 'Huyện Quang Bình, Tỉnh Hà Giang' -> quangbinh\n",
    "- 'Huyện Phù Yên, Tỉnh Sơn La' -> phuyen\n",
    "- 'Huyện Văn Giang, Tỉnh Hưng Yên' -> angiang\n",
    "- 'Huyện Quảng Ninh, Tỉnh Quảng Bình' -> quangninh\n",
    "- Bac Lieu, Hoa Binh District -> hoabinh"
   ]
  },
  {
   "cell_type": "code",
   "execution_count": null,
   "id": "55326a74baf22559",
   "metadata": {
    "collapsed": false
   },
   "outputs": [],
   "source": [
    "province_keys = df.province_key.unique().tolist()"
   ]
  },
  {
   "cell_type": "code",
   "execution_count": null,
   "id": "3eab46036d6d2a6c",
   "metadata": {
    "collapsed": false
   },
   "outputs": [],
   "source": [
    "def find_province_key_match(text):\n",
    "    for province_key in province_keys:\n",
    "        if province_key in text:\n",
    "            return province_key"
   ]
  },
  {
   "cell_type": "code",
   "execution_count": null,
   "id": "349b471c9a67b87a",
   "metadata": {
    "collapsed": false
   },
   "outputs": [],
   "source": [
    "match_district = df[df.district_key.str.contains('|'.join(province_keys))][['province', 'district', 'province_key','district_key']].drop_duplicates()\n",
    "match_ward = df[(~df.ward.isna()) & (df.ward_key.str.contains('|'.join(province_keys)))][['province', 'ward', 'province_key','ward_key']].drop_duplicates()\n",
    "\n",
    "match_district['match_province_key'] = match_district['district_key'].apply(find_province_key_match)\n",
    "match_ward['match_province_key'] = match_ward['ward_key'].apply(find_province_key_match)\n",
    "\n",
    "match_district = match_district[match_district.province_key != match_district.match_province_key]\n",
    "match_ward = match_ward[match_ward.province_key != match_ward.match_province_key]"
   ]
  },
  {
   "cell_type": "code",
   "execution_count": null,
   "id": "a2101b458daa5bb6",
   "metadata": {
    "collapsed": false
   },
   "outputs": [],
   "source": []
  },
  {
   "cell_type": "code",
   "execution_count": null,
   "id": "d7a235615b092279",
   "metadata": {
    "collapsed": false
   },
   "outputs": [],
   "source": []
  },
  {
   "cell_type": "code",
   "execution_count": null,
   "id": "90a5364c7d279ffa",
   "metadata": {
    "collapsed": false
   },
   "outputs": [],
   "source": []
  },
  {
   "cell_type": "code",
   "execution_count": null,
   "id": "e2e38920a24963e7",
   "metadata": {
    "collapsed": false
   },
   "outputs": [],
   "source": []
  },
  {
   "cell_type": "code",
   "execution_count": null,
   "id": "fd8f0dcf755e4a76",
   "metadata": {
    "collapsed": false
   },
   "outputs": [],
   "source": [
    "match_district"
   ]
  },
  {
   "cell_type": "code",
   "execution_count": null,
   "id": "1e8dabbad58575bc",
   "metadata": {
    "collapsed": false
   },
   "outputs": [],
   "source": []
  },
  {
   "cell_type": "code",
   "execution_count": null,
   "id": "a286547162f15df7",
   "metadata": {
    "collapsed": false
   },
   "outputs": [],
   "source": [
    "match_ward"
   ]
  },
  {
   "cell_type": "code",
   "execution_count": null,
   "id": "2c8687cc82b480bf",
   "metadata": {
    "collapsed": false
   },
   "outputs": [],
   "source": [
    "# Should not use list(set()) because it will re-order\n",
    "province_order = []\n",
    "\n",
    "for row in match_district.itertuples():\n",
    "    if row.province_key not in province_order:\n",
    "        province_order.append(row.province_key)\n",
    "    if row.match_province_key not in province_order:\n",
    "        province_order.append(row.match_province_key)\n",
    "        \n",
    "for row in match_ward.itertuples():\n",
    "    if row.province_key not in province_order:\n",
    "        province_order.append(row.province_key)\n",
    "    if row.match_province_key not in province_order:\n",
    "        province_order.append(row.match_province_key)"
   ]
  },
  {
   "cell_type": "code",
   "execution_count": null,
   "id": "5129d80c0bf4f652",
   "metadata": {
    "collapsed": false
   },
   "outputs": [],
   "source": [
    "province_key_order = {}\n",
    "for index, province_key in enumerate(province_order):\n",
    "    province_key_order[province_key] = index + 1\n",
    "    "
   ]
  },
  {
   "cell_type": "code",
   "execution_count": null,
   "id": "21551ef031d6de7b",
   "metadata": {
    "collapsed": false
   },
   "outputs": [],
   "source": [
    "print(province_key_order)"
   ]
  },
  {
   "cell_type": "code",
   "execution_count": null,
   "id": "b8a12456da334b0",
   "metadata": {
    "collapsed": false
   },
   "outputs": [],
   "source": [
    "df['province_key_order'] = df['province_key'].map(province_key_order).fillna(0)\n",
    "\n",
    "df.sort_values(by='province_key_order', inplace=True)"
   ]
  },
  {
   "cell_type": "markdown",
   "id": "398029c04e639d54",
   "metadata": {},
   "source": [
    "### Add alias province_keyword\n",
    "- We should not add \"hn\" because it will cause many wrong matches. I will replace `\\bhn\\b` to `\\bha noi\\b` of the address, this step is in `parse.py`"
   ]
  },
  {
   "cell_type": "code",
   "execution_count": null,
   "id": "2e3e541cf6cffa27",
   "metadata": {
    "collapsed": false
   },
   "outputs": [],
   "source": [
    "df_province = df[[col for col in df.columns if 'province' in col]].drop_duplicates()\n",
    "\n",
    "province_alias_keys = [\n",
    "    ('Ho Chi Minh', 'hcm')\n",
    "]\n",
    "\n",
    "for key in province_alias_keys:\n",
    "    province_english, province_key = key\n",
    "    df_province = add_province_key(df_province, province_english, province_key)"
   ]
  },
  {
   "cell_type": "markdown",
   "id": "7bc50feab7e6e99d",
   "metadata": {},
   "source": [
    "### Add alias district_keyword\n",
    "There are many district was changed it's name or be combined with other districts. For instance: Quan 9 > Thanh pho Thu Duc.\n",
    "\n",
    "Use `find_district_alias_keywords.ipynb` to create a list of tuples."
   ]
  },
  {
   "cell_type": "code",
   "execution_count": null,
   "id": "7b4ed620017edf0a",
   "metadata": {
    "collapsed": false
   },
   "outputs": [],
   "source": [
    "df_district = df[['province_english'] + [col for col in df.columns if 'district' in col]].drop_duplicates()\n",
    "\n",
    "for key in district_alias_keys:\n",
    "    province_english, district_english, district_key = key\n",
    "    df_district = add_district_key(df_district, province_english, district_english, district_key)"
   ]
  },
  {
   "cell_type": "code",
   "execution_count": null,
   "id": "8a556a6c8e8fab88",
   "metadata": {
    "collapsed": false
   },
   "outputs": [],
   "source": [
    "district_alias_keys"
   ]
  },
  {
   "cell_type": "markdown",
   "id": "329dfb4242377ef8",
   "metadata": {},
   "source": [
    "Some districts contain \"quan\" with number in their keywords. We need to make a copy and replace \"quan\" to \"district\"."
   ]
  },
  {
   "cell_type": "code",
   "execution_count": null,
   "id": "9e3870492482a94a",
   "metadata": {
    "collapsed": false
   },
   "outputs": [],
   "source": [
    "hcm_districts = df_district[df_district['district_key'].str.contains(r'quan\\d{1,2}')].copy()\n",
    "hcm_districts['district_key'] = hcm_districts['district_key'].str.replace('quan', 'district')\n",
    "df_district = pd.concat([df_district, hcm_districts])\n",
    "hcm_districts['district_key'] = hcm_districts['district_key'].str.replace('district', 'q.')\n",
    "df_district = pd.concat([df_district, hcm_districts])"
   ]
  },
  {
   "cell_type": "markdown",
   "id": "5cb518d7ed6fa887",
   "metadata": {},
   "source": [
    "### Create alias ward_key\n",
    "Some wards contain \"phuong\" with number in their keywords. We need to make a copy and replace \"phuong\" to \"ward\".\n"
   ]
  },
  {
   "cell_type": "code",
   "execution_count": null,
   "id": "6e14acc61d1d33a8",
   "metadata": {
    "collapsed": false
   },
   "outputs": [],
   "source": [
    "df_ward = df[['province_english', 'district_english'] + [col for col in df.columns if 'ward' in col]].drop_duplicates()"
   ]
  },
  {
   "cell_type": "code",
   "execution_count": null,
   "id": "e7e66b3d54b9f90d",
   "metadata": {
    "collapsed": false
   },
   "outputs": [],
   "source": [
    "number_wards = df_ward[df_ward['ward_key'].fillna('').str.contains(r'phuong\\d{1,2}')].copy()\n",
    "number_wards['ward_key'] = number_wards['ward_key'].str.replace('phuong', 'ward')\n",
    "df_ward = pd.concat([df_ward, number_wards])\n",
    "number_wards['ward_key'] = number_wards['ward_key'].str.replace('ward', 'p.')\n",
    "df_ward = pd.concat([df_ward, number_wards])"
   ]
  },
  {
   "cell_type": "markdown",
   "id": "50bfaf3078fc1682",
   "metadata": {},
   "source": [
    "### Create province_keys lists\n",
    "We will prioritize provinces that are not in district_key or ward_key when searching a province_key in address."
   ]
  },
  {
   "cell_type": "code",
   "execution_count": null,
   "id": "f1b5241edd87bf58",
   "metadata": {
    "collapsed": false
   },
   "outputs": [],
   "source": [
    "province_keys = df_province['province_key'].tolist()\n",
    "\n",
    "# Pickle\n",
    "province_keys_1 = []\n",
    "province_keys_2 = []\n",
    "province_keys_3 = []\n",
    "\n",
    "district_keys = str(df.district_key.unique().tolist())\n",
    "ward_keys = str(df.ward_key.unique().tolist())\n",
    "for province_key in province_keys:\n",
    "    if (province_key not in district_keys) and (province_key not in ward_keys):\n",
    "        province_keys_1.append(province_key)\n",
    "    elif province_key not in ward_keys:\n",
    "        province_keys_2.append(province_key)\n",
    "    else:\n",
    "        province_keys_3.append(province_key)"
   ]
  },
  {
   "cell_type": "code",
   "execution_count": null,
   "id": "ffe28823f4e1bbdb",
   "metadata": {
    "collapsed": false
   },
   "outputs": [],
   "source": [
    "province_alphanumerics = df.province_alphanumeric.unique().tolist() + df.province_alphanumeric_english.unique().tolist()"
   ]
  },
  {
   "cell_type": "markdown",
   "id": "b457a549df7dc7ed",
   "metadata": {},
   "source": [
    "After this step we got these data for module:\n",
    "- `province_keys_1`\n",
    "- `province_keys_2`\n",
    "- `province_keys_3`"
   ]
  },
  {
   "cell_type": "markdown",
   "id": "aa791b0587c8590a",
   "metadata": {},
   "source": [
    "### Create mapping dictionaries\n"
   ]
  },
  {
   "cell_type": "code",
   "execution_count": null,
   "id": "dcb40691af26b797",
   "metadata": {
    "collapsed": false
   },
   "outputs": [],
   "source": [
    "# Pickle\n",
    "province_map = {}\n",
    "\n",
    "for province_key in df_province.province_key.unique():\n",
    "    province = df_province[df_province['province_key'] == province_key]\n",
    "    province_record = province.to_dict(orient='records')[0]\n",
    "    province_map[province_key] = province_record\n",
    "    \n",
    "    \n",
    "for province_alphanumeric in df_province.province_alphanumeric.unique():\n",
    "    province = df_province[df_province['province_alphanumeric'] == province_alphanumeric]\n",
    "    province_record = province.to_dict(orient='records')[0]\n",
    "    province_map[province_alphanumeric] = province_record\n",
    "    \n",
    "    \n",
    "for province_alphanumeric_english in df_province.province_alphanumeric_english.unique():\n",
    "    province = df_province[df_province['province_alphanumeric_english'] == province_alphanumeric_english]\n",
    "    province_record = province.to_dict(orient='records')[0]\n",
    "    province_map[province_alphanumeric_english] = province_record"
   ]
  },
  {
   "cell_type": "code",
   "execution_count": null,
   "id": "655b12be0a2ce88a",
   "metadata": {
    "collapsed": false
   },
   "outputs": [],
   "source": [
    "print(province_map)"
   ]
  },
  {
   "cell_type": "code",
   "execution_count": null,
   "id": "57ab1579066f41f5",
   "metadata": {
    "collapsed": false
   },
   "outputs": [],
   "source": [
    "# Pickle\n",
    "district_map = {}\n",
    "\n",
    "for province_english in df_province.province_english.unique():\n",
    "    district_keys = {}\n",
    "    for district_key in df_district[df_district.province_english == province_english]['district_key'].unique():\n",
    "        district_levels = {}\n",
    "        for district_level_english in df_district[(df_district.province_english == province_english) & (df_district.district_key == district_key)]['district_level_english'].unique():\n",
    "            district = df_district[(df_district.province_english == province_english) & (df_district.district_key == district_key) & (df_district.district_level_english == district_level_english)]\n",
    "            district_record = district[[col for col in district.columns if 'district' in col]].to_dict('records')[0]\n",
    "            district_levels[district_level_english] = district_record\n",
    "        district_keys[district_key] = district_levels\n",
    "        \n",
    "    district_keys = dict(sorted(district_keys.items(), key=lambda item: len(item[0]), reverse=True))\n",
    "    \n",
    "    district_map[province_english] = district_keys"
   ]
  },
  {
   "cell_type": "code",
   "execution_count": null,
   "id": "caddace33c6defe9",
   "metadata": {
    "collapsed": false
   },
   "outputs": [],
   "source": [
    "print(district_map['Ho Chi Minh'])"
   ]
  },
  {
   "cell_type": "code",
   "execution_count": null,
   "id": "c0eceda7e27b697e",
   "metadata": {
    "collapsed": false
   },
   "outputs": [],
   "source": [
    "# Pickle\n",
    "ward_map = {}\n",
    "\n",
    "for province_english in df_province.province_english.unique():\n",
    "    districts = {}\n",
    "    for district_english in df_district[df_district.province_english==province_english].district_english.unique():\n",
    "        wards = {}\n",
    "        for ward_key in df_ward[(df_ward.province_english==province_english) & (df_ward.district_english==district_english)].ward_key.dropna().unique():\n",
    "            ward_levels = {}\n",
    "            for ward_level_english in df_ward[(df_ward.province_english==province_english) & (df_ward.district_english==district_english) & (df_ward.ward_key==ward_key)].ward_level_english.unique():\n",
    "                ward = df_ward[(df_ward.province_english==province_english) & (df_ward.district_english==district_english) & (df_ward.ward_key==ward_key) & (df_ward.ward_level_english==ward_level_english)]\n",
    "                ward_record = ward[[col for col in ward.columns if 'ward' in col]].to_dict('records')[0]\n",
    "                ward_levels[ward_level_english] = ward_record\n",
    "            wards[ward_key] = ward_levels\n",
    "        wards = dict(sorted(wards.items(), key=lambda item: len(str(item[0])), reverse=True))\n",
    "        districts[district_english] = wards\n",
    "    ward_map[province_english] = districts"
   ]
  },
  {
   "cell_type": "code",
   "execution_count": null,
   "id": "c78473258c2ed315",
   "metadata": {
    "collapsed": false
   },
   "outputs": [],
   "source": [
    "print(ward_map['Ho Chi Minh']['Tan Binh'])"
   ]
  },
  {
   "cell_type": "markdown",
   "id": "85ec88362f0bea9",
   "metadata": {},
   "source": [
    "After this step, we got these data for module:\n",
    "- `province_map`\n",
    "- `district_map`\n",
    "- `ward_map`"
   ]
  },
  {
   "cell_type": "markdown",
   "id": "7e9f3c281b5238c9",
   "metadata": {},
   "source": [
    "### Create double check dictionaries\n",
    "Some address will cause wrong mapping because they have ward_key is as same as other province's province_key.\n",
    "- Use **sub_2_create_double_check_keywords.ipynb** to get the data.\n",
    "- Note that after saving this data to module, we can not create the data again."
   ]
  },
  {
   "cell_type": "code",
   "execution_count": null,
   "id": "583daf5f5624ebf6",
   "metadata": {
    "collapsed": false
   },
   "outputs": [],
   "source": [
    "double_check_provinces = {\n",
    "    'angiang': ['thainguyen', 'ninhbinh', 'thanhhoa'],\n",
    "    'hoabinh': ['thainguyen',\n",
    "    'langson',\n",
    "    'haiphong',\n",
    "    'thaibinh',\n",
    "    'dongnai',\n",
    "    'vinhlong',\n",
    "    'dongthap'],\n",
    "    'binhthuan': ['thainguyen', 'quangngai', 'binhdinh'],\n",
    "    'thanhhoa': ['langson', 'binhphuoc', 'travinh', 'kiengiang', 'haugiang'],\n",
    "    'thaibinh': ['langson', 'tayninh'],\n",
    "    'hagiang': ['thaibinh', 'thanhhoa'],\n",
    "    'quangbinh': ['thaibinh', 'thanhhoa'],\n",
    "    'sonla': ['ninhbinh', 'quangngai', 'khanhhoa'],\n",
    "    'khanhhoa': ['ninhbinh', 'kiengiang'],\n",
    "    'longan': ['thanhhoa', 'dongnai', 'vinhlong'],\n",
    "    'quangninh': ['thanhhoa'],\n",
    "    'vinhlong': ['quangtri'],\n",
    "    'haiduong': ['quangtri'],\n",
    "    'haiphong': ['quangtri'],\n",
    "    'binhduong': ['quangnam', 'quangngai', 'binhdinh'],\n",
    "    'binhdinh': ['quangnam'],\n",
    "    'hungyen': ['kiengiang']\n",
    "}\n",
    "\n",
    "# double_check_provinces = {} # testing"
   ]
  },
  {
   "cell_type": "markdown",
   "id": "8ce87f2d7eddb04a",
   "metadata": {},
   "source": [
    "Some address will cause wrong mapping because they have ward_key is as same as other district's district_key."
   ]
  },
  {
   "cell_type": "code",
   "execution_count": null,
   "id": "e838dbdf6fd290df",
   "metadata": {
    "collapsed": false
   },
   "outputs": [],
   "source": [
    "double_check_districts = {'unghoa': ['caugiay', 'chuongmy'],\n",
    " 'thanhtri': ['hoangmai'],\n",
    " 'thanhxuan': ['socson'],\n",
    " 'thanhoai': ['thanhtri'],\n",
    " 'thongnong': ['haquang'],\n",
    " 'tralinh': ['trungkhanh'],\n",
    " 'quanguyen': ['quanghoa'],\n",
    " 'chora': ['babe'],\n",
    " 'yenson': ['sonduong'],\n",
    " 'camduong': ['laocai'],\n",
    " 'muongla': ['phuyen', 'songma', 'sopcop'],\n",
    " 'tranyen': ['lucyen', 'yenbinh'],\n",
    " 'kyson': ['hoabinh', 'tanky'],\n",
    " 'chilang': ['langson', 'trangdinh'],\n",
    " 'honggai': ['halong'],\n",
    " 'hoanhbo': ['halong'],\n",
    " 'uongbi': ['mongcai'],\n",
    " 'halong': ['vandon'],\n",
    " 'haiduong': ['binhgiang'],\n",
    " 'anduong': ['lechan', 'duongkinh', 'thuynguyen', 'vinhbao'],\n",
    " 'catba': ['cathai'],\n",
    " 'phucu': ['hungyen'],\n",
    " 'myloc': ['namdinh'],\n",
    " 'dongson': ['thanhhoa', 'bimson'],\n",
    " 'hatrung': ['bathuoc'],\n",
    " 'thanhhoa': ['nhuxuan', 'benluc'],\n",
    " 'vinh': ['anhson', 'yenthanh', 'hoangmai'],\n",
    " 'yenthanh': ['thanhchuong'],\n",
    " 'anhson': ['thanhchuong', 'namdan'],\n",
    " 'thachha': ['hatinh'],\n",
    " 'huongthuy': ['hue'],\n",
    " 'giang': ['thangbinh', 'bactramy', 'nuithanh'],\n",
    " 'tramy': ['bactramy'],\n",
    " 'sontinh': ['sontay'],\n",
    " 'ducpho': ['moduc'],\n",
    " 'dakto': ['konray', 'tumorong'],\n",
    " 'dakha': ['tumorong'],\n",
    " 'dakpo': ['kongchro'],\n",
    " 'iapa': ['chuse'],\n",
    " 'krongbuk': ['krongpac'],\n",
    " 'phuocbinh': ['phuoclong'],\n",
    " 'hoathanh': ['chauthanh'],\n",
    " 'laithieu': ['thuanan'],\n",
    " 'thongnhat': ['bienhoa'],\n",
    " 'vinhan': ['vinhcuu'],\n",
    " 'binhchanh': ['thuduc'],\n",
    " 'tanphu': ['thuduc', 'quan7', 'cuchi'],\n",
    " 'tanthanh': ['mochoa', 'thuthua'],\n",
    " 'tanan': ['canduoc'],\n",
    " 'tanhung': ['chauthanh'],\n",
    " 'tanphuoc': ['gocongdong'],\n",
    " 'mocay': ['mocaynam'],\n",
    " 'thanhphu': ['giongtrom', 'binhdai'],\n",
    " 'cainhum': ['mangthit'],\n",
    " 'longho': ['mangthit'],\n",
    " 'chauphu': ['chaudoc'],\n",
    " 'anphu': ['phutan', 'tinhbien', 'chauthanh', 'thoaison'],\n",
    " 'anminh': ['chauthanh', 'uminhthuong'],\n",
    " 'vithanh': ['vithuy']}\n",
    "\n",
    "# double_check_districts = {} # tesing"
   ]
  },
  {
   "cell_type": "markdown",
   "id": "d73800f8313ff044",
   "metadata": {},
   "source": [
    "## Support find province from unique districts\n",
    "\n",
    "Điều kiện 1: district_key not in ward_keys.\n",
    "Điều kiện 2: district_count = 1, sau khi đã drop_duplicated [province_key, district_key]\n",
    "Điều kiện 3: district_key not in province_keys của tỉnh khác.\n",
    "\n",
    "Nếu district_key = province_key của chính nó:\n",
    ">> Lấy danh sách long_district_alphanumerices (bao gồm Việt và English), nếu tồn tại trong address thì sau khi tìm được province_key sẽ không bị xóa province_key trong địa chỉ.\n",
    "\n",
    "\n",
    "Nếu district_key != province_key của chính nó, tức là unique tuyệt đối:\n",
    ">> Lấy danh sách unique_district_keys, nếu không tìm được province_key thì tìm unique_district_key để suy ngược ra province_key"
   ]
  },
  {
   "cell_type": "code",
   "execution_count": null,
   "id": "6ebf91a6940e0943",
   "metadata": {
    "collapsed": false
   },
   "outputs": [],
   "source": [
    "df = pd.read_csv('../../data/output/vietnam_administrative_units.csv')\n",
    "df['province_key'] = df['province'].apply(lambda x: to_key(x, 1))\n",
    "df['district_key'] = df['short_district'].apply(lambda x: to_key(x, 2))\n",
    "df['ward_key'] = df['short_ward'].apply(lambda x: to_key(x, 3))\n",
    "df['ward_alphanumeric'] = df['long_ward'].apply(to_alphanumeric)\n",
    "\n",
    "\n",
    "province_keys = df['province_key'].unique().tolist()\n",
    "district_keys = df['district_key'].unique().tolist()\n",
    "ward_keys = df['ward_key'].unique().tolist()\n",
    "ward_alphanumerics = df['ward_alphanumeric'].unique().tolist()\n",
    "str_ward_alphanumerics = str(ward_alphanumerics)"
   ]
  },
  {
   "cell_type": "code",
   "outputs": [],
   "source": [],
   "metadata": {
    "collapsed": false
   },
   "id": "acc95d6de0884c54"
  },
  {
   "cell_type": "code",
   "execution_count": null,
   "id": "7611da640df96696",
   "metadata": {
    "collapsed": false
   },
   "outputs": [],
   "source": [
    "# Add alias key. Eg: Quan 2, Quan 9 are Thu Duc\n",
    "for key in district_alias_keys:\n",
    "    province_english, district_english, district_key = key\n",
    "    df = add_district_key(df, province_english, district_english, district_key)"
   ]
  },
  {
   "cell_type": "code",
   "execution_count": null,
   "id": "7071f69753bef92f",
   "metadata": {
    "collapsed": false
   },
   "outputs": [],
   "source": [
    "df_district_filter = df[~df.district_key.apply(lambda x: x in str_ward_alphanumerics)]"
   ]
  },
  {
   "cell_type": "code",
   "execution_count": null,
   "id": "d2b4db8bf5dd5cfd",
   "metadata": {
    "collapsed": false
   },
   "outputs": [],
   "source": [
    "df_district_filter_count = df_district_filter[['province_key', 'district_key']].drop_duplicates()['district_key'].value_counts().reset_index()\n",
    "one_district_keys = df_district_filter_count[df_district_filter_count['count']==1]['district_key'].tolist()\n",
    "df_district_filter = df_district_filter[df_district_filter.district_key.isin(one_district_keys)][['province_key', 'district_key', 'long_district', 'long_district_english']].drop_duplicates()\n",
    "\n",
    "def check_valid_district_key(district_key, province_key):\n",
    "    if district_key in province_keys and district_key != province_key:\n",
    "        return False\n",
    "    else:\n",
    "        return True\n",
    "    \n",
    "df_district_filter['is_valid_district_key'] = df_district_filter.apply(lambda x: check_valid_district_key(x['district_key'], x['province_key']), axis=1)\n",
    "df_district_filter = df_district_filter[df_district_filter.is_valid_district_key]\n",
    "df_district_filter['same_key'] = np.where(df_district_filter.province_key == df_district_filter.district_key, True, False)\n",
    "\n",
    "long_district_alphanumerics = []\n",
    "for row in df_district_filter[df_district_filter.same_key].itertuples():\n",
    "    long_district_alphanumerics.append(to_alphanumeric(row.long_district))\n",
    "    long_district_alphanumerics.append(to_alphanumeric(row.long_district).replace('thanhpho', 'tp.'))\n",
    "    long_district_alphanumerics.append(to_alphanumeric(row.long_district_english))\n",
    "    \n",
    "    \n",
    "unique_district_keys = {}\n",
    "for row in df_district_filter[~df_district_filter.same_key][['province_key', 'district_key']].drop_duplicates().itertuples():\n",
    "    unique_district_keys[row.district_key] = row.province_key\n",
    "    district_key = row.district_key\n",
    "    if re.search(r'^quan\\d{1,2}', district_key):\n",
    "        district_key = re.sub('^quan', 'q.', district_key)\n",
    "        unique_district_keys[district_key] = row.province_key"
   ]
  },
  {
   "cell_type": "code",
   "execution_count": null,
   "id": "f091f2a7f8420957",
   "metadata": {
    "collapsed": false
   },
   "outputs": [],
   "source": [
    "len(long_district_alphanumerics)"
   ]
  },
  {
   "cell_type": "code",
   "execution_count": null,
   "id": "b2acdb3e7cd4f9e7",
   "metadata": {
    "collapsed": false
   },
   "outputs": [],
   "source": [
    "long_district_alphanumerics"
   ]
  },
  {
   "cell_type": "code",
   "execution_count": null,
   "id": "9607ff5a96564e72",
   "metadata": {
    "collapsed": false
   },
   "outputs": [],
   "source": [
    "len(unique_district_keys)"
   ]
  },
  {
   "cell_type": "code",
   "execution_count": null,
   "id": "7daef7760b5a49eb",
   "metadata": {
    "collapsed": false
   },
   "outputs": [],
   "source": [
    "unique_district_keys"
   ]
  },
  {
   "cell_type": "markdown",
   "id": "9f14467c7737f6b9",
   "metadata": {},
   "source": [
    "## Support find province from unique \"long\" districts"
   ]
  },
  {
   "cell_type": "code",
   "execution_count": null,
   "id": "a667c0208b841f2b",
   "metadata": {
    "collapsed": false
   },
   "outputs": [],
   "source": [
    "df['province_alphanumeric'] = df['long_province'].apply(to_alphanumeric)\n",
    "df['district_alphanumeric'] = df['long_district'].apply(to_alphanumeric)\n",
    "df['ward_alphanumeric'] = df['long_ward'].apply(to_alphanumeric)\n",
    "df['province_alphanumeric_english'] = df['long_province_english'].apply(to_alphanumeric)\n",
    "df['district_alphanumeric_english'] = df['long_district_english'].apply(to_alphanumeric)\n",
    "df['ward_alphanumeric_english'] = df['long_ward_english'].apply(to_alphanumeric)"
   ]
  },
  {
   "cell_type": "code",
   "execution_count": null,
   "id": "e931e01409036401",
   "metadata": {
    "collapsed": false
   },
   "outputs": [],
   "source": [
    "province_alphanumerics = df['province_alphanumeric'].unique().tolist()\n",
    "district_alphanumerics = df['district_alphanumeric'].unique().tolist()\n",
    "ward_alphanumerics = df['ward_alphanumeric'].unique().tolist()"
   ]
  },
  {
   "cell_type": "code",
   "execution_count": null,
   "id": "65d5d30cb362553a",
   "metadata": {
    "collapsed": false
   },
   "outputs": [],
   "source": [
    "df_district_filter = df[~df.district_alphanumeric.isin(ward_alphanumerics)]\n",
    "df_district_filter_count = df_district_filter[['province_alphanumeric', 'district_alphanumeric']].drop_duplicates()['district_alphanumeric'].value_counts().reset_index()\n",
    "one_district_alphanumerics = df_district_filter_count[df_district_filter_count['count']==1]['district_alphanumeric'].tolist()\n",
    "df_district_filter = df_district_filter[df_district_filter.district_alphanumeric.isin(one_district_alphanumerics)][['province_key','province_alphanumeric', 'district_alphanumeric', 'long_district', 'long_district_english', 'district_key', 'district_alphanumeric_english']].drop_duplicates()\n",
    "\n",
    "def check_valid_district_alphanumeric(district_alphanumeric, province_alphanumeric):\n",
    "    if district_alphanumeric in province_alphanumerics and district_alphanumeric != province_alphanumeric:\n",
    "        return False\n",
    "    else:\n",
    "        return True\n",
    "    \n",
    "df_district_filter['is_valid_district_alphanumeric'] = df_district_filter.apply(lambda x: check_valid_district_alphanumeric(x['district_alphanumeric'], x['province_alphanumeric']), axis=1)\n",
    "df_district_filter = df_district_filter[df_district_filter.is_valid_district_alphanumeric]\n",
    "df_district_filter['same_alphanumeric'] = np.where(df_district_filter.province_alphanumeric == df_district_filter.district_alphanumeric, True, False)\n",
    "\n",
    "for row in df_district_filter[df_district_filter.same_alphanumeric].itertuples():\n",
    "    long_district_alphanumerics.append(to_alphanumeric(row.long_district))\n",
    "    long_district_alphanumerics.append(to_alphanumeric(row.long_district).replace('thanhpho', 'tp.'))\n",
    "    long_district_alphanumerics.append(to_alphanumeric(row.long_district_english))\n",
    "    \n",
    "    \n",
    "for row in df_district_filter[~df_district_filter.same_alphanumeric][['province_key', 'district_alphanumeric', 'district_key', 'district_alphanumeric_english']].drop_duplicates().itertuples():\n",
    "    if not row.district_key in unique_district_keys:\n",
    "        unique_district_keys[row.district_alphanumeric] = row.province_key\n",
    "        unique_district_keys[row.district_alphanumeric_english] = row.province_key\n",
    "        district_alphanumeric = row.district_alphanumeric\n",
    "        district_alphanumeric = re.sub('^quan', 'q.', district_alphanumeric)\n",
    "        district_alphanumeric = re.sub('^huyen', 'h.', district_alphanumeric)\n",
    "        district_alphanumeric = re.sub('^thanhpho', 'tp.', district_alphanumeric)\n",
    "        district_alphanumeric = re.sub('^thixa', 'tx.', district_alphanumeric)\n",
    "        unique_district_keys[district_alphanumeric] = row.province_key"
   ]
  },
  {
   "cell_type": "code",
   "execution_count": null,
   "id": "5fa5f7937e7f8591",
   "metadata": {
    "collapsed": false
   },
   "outputs": [],
   "source": [
    "len(unique_district_keys)"
   ]
  },
  {
   "cell_type": "code",
   "execution_count": null,
   "id": "9cb3b2665b921db8",
   "metadata": {
    "collapsed": false
   },
   "outputs": [],
   "source": [
    "len(long_district_alphanumerics)"
   ]
  },
  {
   "cell_type": "code",
   "execution_count": null,
   "id": "e79f0ee5eb98db56",
   "metadata": {
    "collapsed": false
   },
   "outputs": [],
   "source": [
    "print(unique_district_keys)"
   ]
  },
  {
   "cell_type": "markdown",
   "id": "b40969de16fbd5",
   "metadata": {},
   "source": [
    "## Support find province from \"not unique\" district_key\n",
    "\n",
    "Now we can parse \"Phuong 15 Quan Tan Binh\" but \"Phuong 15 Tan Binh\" is not, because \"tanbinh\" is a ward_key of another province.\n",
    "\n",
    "To reach this feature, we will check if any ward_key of the district is in the address, and the ward_key must be placed before the district_key.\n",
    "\n",
    "- Condition 1: ward_key_district_key is unique.\n",
    "- Condition 2: district_key not in `unique_district_keys`"
   ]
  },
  {
   "cell_type": "code",
   "execution_count": null,
   "id": "23aa8b423a305dbc",
   "metadata": {
    "collapsed": false
   },
   "outputs": [],
   "source": [
    "# Data I want\n",
    "{\n",
    "    'tanbinh': {\n",
    "        'hochiminh': ['phuong1', 'phuong2', 'p.1', 'p.2', 'district1', 'district2'],\n",
    "        'otherprovincekey': [...]\n",
    "    }\n",
    "}"
   ]
  },
  {
   "cell_type": "code",
   "execution_count": null,
   "id": "5b33525a977bfeea",
   "metadata": {
    "collapsed": false
   },
   "outputs": [],
   "source": [
    "df['ward_key_district_key'] = df['ward_key'] + '_' + df['district_key']"
   ]
  },
  {
   "cell_type": "code",
   "execution_count": null,
   "id": "d6f42dd0fe089728",
   "metadata": {
    "collapsed": false
   },
   "outputs": [],
   "source": [
    "ward_key_district_key_count = df['ward_key_district_key'].value_counts().reset_index()"
   ]
  },
  {
   "cell_type": "code",
   "execution_count": null,
   "id": "f9264d2424ca0410",
   "metadata": {
    "collapsed": false
   },
   "outputs": [],
   "source": [
    "unique_ward_key_district_keys = ward_key_district_key_count[ward_key_district_key_count['count']==1]['ward_key_district_key'].tolist()"
   ]
  },
  {
   "cell_type": "code",
   "execution_count": null,
   "id": "efe2d16fbcf29aa",
   "metadata": {
    "collapsed": false
   },
   "outputs": [],
   "source": [
    "df_unique_ward_key_district_keys = df[(df['ward_key_district_key'].isin(unique_ward_key_district_keys)) & (~df['district_key'].isin(unique_district_keys))]"
   ]
  },
  {
   "cell_type": "code",
   "execution_count": null,
   "id": "61d68de45b55583",
   "metadata": {
    "collapsed": false
   },
   "outputs": [],
   "source": [
    "not_unique_district_keys = {}\n",
    "for district_key in df_unique_ward_key_district_keys['district_key'].unique().tolist():\n",
    "    data = {}\n",
    "    tmp_province_keys = df_unique_ward_key_district_keys[df_unique_ward_key_district_keys['district_key']==district_key]['province_key'].unique().tolist()\n",
    "    for province_key in tmp_province_keys:\n",
    "        tmp_ward_keys = df_unique_ward_key_district_keys[(df_unique_ward_key_district_keys['district_key']==district_key) & (df_unique_ward_key_district_keys['province_key']==province_key)]['ward_key'].unique().tolist()\n",
    "        tmp_number_wards = [i for i in tmp_ward_keys if re.search('^phuong\\d{1,2}', i)]\n",
    "        for num_ward_key in tmp_number_wards:\n",
    "            tmp_ward_keys.append(num_ward_key.replace('phuong','district'))\n",
    "            tmp_ward_keys.append(num_ward_key.replace('phuong','p.'))\n",
    "        data[province_key] = tmp_ward_keys\n",
    "    not_unique_district_keys[district_key] = data"
   ]
  },
  {
   "cell_type": "code",
   "execution_count": null,
   "id": "d0c08d05e763a5c5",
   "metadata": {
    "collapsed": false
   },
   "outputs": [],
   "source": [
    "not_unique_district_keys['tanbinh']"
   ]
  },
  {
   "cell_type": "code",
   "execution_count": null,
   "id": "8327b6fc9e7c861",
   "metadata": {
    "collapsed": false
   },
   "outputs": [],
   "source": [
    "not_unique_district_keys['chauthanh']"
   ]
  },
  {
   "cell_type": "code",
   "execution_count": null,
   "id": "27f632cca724e519",
   "metadata": {
    "collapsed": false
   },
   "outputs": [],
   "source": [
    "len(province_keys)"
   ]
  },
  {
   "cell_type": "code",
   "execution_count": null,
   "id": "5f0c8f748c98e5d4",
   "metadata": {
    "collapsed": false
   },
   "outputs": [],
   "source": [
    "alphanumeric_long_wards = df[df.ward_key.isin(province_keys)].ward_alphanumeric.unique().tolist() + df[df.ward_key.isin(province_keys)].ward_alphanumeric_english.unique().tolist()"
   ]
  },
  {
   "cell_type": "code",
   "execution_count": null,
   "id": "6ea2bc519fb16053",
   "metadata": {
    "collapsed": false
   },
   "outputs": [],
   "source": [
    "alphanumeric_long_wards"
   ]
  },
  {
   "cell_type": "markdown",
   "id": "ff04fd742ba7ddc6",
   "metadata": {},
   "source": [
    "## Support "
   ]
  },
  {
   "cell_type": "code",
   "execution_count": null,
   "id": "755934acf0047162",
   "metadata": {
    "collapsed": false
   },
   "outputs": [],
   "source": [
    "with open('../../vietadminunits/data/parse.pkl', 'wb') as f:\n",
    "    pickle.dump((duplicated_district_keys, duplicated_district_province_keys, duplicated_ward_keys, duplicated_ward_district_keys, province_keys_1, province_keys_2, province_keys_3, province_map, district_map, ward_map, double_check_provinces, double_check_districts, half_district_keys, long_district_alphanumerics, unique_district_keys, not_unique_district_keys, alphanumeric_long_wards, province_alphanumerics), f)"
   ]
  },
  {
   "cell_type": "code",
   "execution_count": 1,
   "id": "f65d7645c19b3424",
   "metadata": {
    "collapsed": false,
    "ExecuteTime": {
     "end_time": "2024-09-22T17:29:19.762608Z",
     "start_time": "2024-09-22T17:29:19.561758Z"
    }
   },
   "outputs": [
    {
     "ename": "NameError",
     "evalue": "name 'DICT_long_district_alphanumerics' is not defined",
     "output_type": "error",
     "traceback": [
      "\u001B[0;31m---------------------------------------------------------------------------\u001B[0m",
      "\u001B[0;31mNameError\u001B[0m                                 Traceback (most recent call last)",
      "Cell \u001B[0;32mIn[1], line 1\u001B[0m\n\u001B[0;32m----> 1\u001B[0m DICT_long_district_alphanumerics\n",
      "\u001B[0;31mNameError\u001B[0m: name 'DICT_long_district_alphanumerics' is not defined"
     ]
    }
   ],
   "source": [
    "DICT_long_district_alphanumerics"
   ]
  },
  {
   "cell_type": "code",
   "outputs": [],
   "source": [],
   "metadata": {
    "collapsed": false
   },
   "id": "f5df704a06f0258b"
  }
 ],
 "metadata": {
  "kernelspec": {
   "display_name": "Python 3 (ipykernel)",
   "language": "python",
   "name": "python3"
  },
  "language_info": {
   "codemirror_mode": {
    "name": "ipython",
    "version": 3
   },
   "file_extension": ".py",
   "mimetype": "text/x-python",
   "name": "python",
   "nbconvert_exporter": "python",
   "pygments_lexer": "ipython3",
   "version": "3.11.5"
  }
 },
 "nbformat": 4,
 "nbformat_minor": 5
}
