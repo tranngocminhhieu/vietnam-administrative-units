{
 "cells": [
  {
   "cell_type": "markdown",
   "source": [
    "# Build parse data"
   ],
   "metadata": {
    "collapsed": false
   },
   "id": "fcc7247bf129d2a6"
  },
  {
   "cell_type": "code",
   "execution_count": 1,
   "id": "initial_id",
   "metadata": {
    "collapsed": true,
    "ExecuteTime": {
     "end_time": "2024-09-20T09:53:07.180641Z",
     "start_time": "2024-09-20T09:53:06.587360Z"
    }
   },
   "outputs": [],
   "source": [
    "import numpy as np\n",
    "import pandas as pd\n",
    "import re\n",
    "from unidecode import unidecode\n",
    "import pickle\n",
    "import sys\n",
    "sys.path.append('../../vietadminunits')\n",
    "from utils import to_alphanumeric, to_key\n",
    "from parse import parse_address"
   ]
  },
  {
   "cell_type": "markdown",
   "source": [
    "## Functions"
   ],
   "metadata": {
    "collapsed": false
   },
   "id": "f575361c4c167ffd"
  },
  {
   "cell_type": "code",
   "outputs": [],
   "source": [
    "def add_province_key(df_province, province_english, province_key):\n",
    "    if not df_province[df_province.province_english==province_english].shape[0]:\n",
    "        raise ValueError(f'{province_english} is not exist in province_english')\n",
    "    elif df_province[(df_province.province_english==province_english) & (df_province.province_key==province_key)].shape[0]:\n",
    "        raise ValueError(f'{province_key} is exist in province_key')\n",
    "    \n",
    "    df_new = df_province.loc[df_province.province_english==province_english].head(1)\n",
    "    df_new['province_key'] = province_key\n",
    "    df_province = pd.concat([df_province, df_new])\n",
    "    return df_province"
   ],
   "metadata": {
    "collapsed": false,
    "ExecuteTime": {
     "end_time": "2024-09-20T09:53:07.536671Z",
     "start_time": "2024-09-20T09:53:07.533442Z"
    }
   },
   "id": "c90c8f7661a749a1",
   "execution_count": 2
  },
  {
   "cell_type": "code",
   "outputs": [],
   "source": [
    "def add_district_key(df_district, province_english, district_english, district_key):\n",
    "    if not df_district[df_district.province_english==province_english].shape[0]:\n",
    "        raise ValueError(f'{province_english} is not exist in province_english')\n",
    "    elif not df_district[(df_district.province_english==province_english) & (df_district.district_english==district_english)].shape[0]:\n",
    "        raise ValueError(f'{district_english} is not exist in district_english of {province_english}')\n",
    "    elif df_district[(df_district.province_english==province_english) & (df_district.district_english==district_english) & (df_district.district_key==district_key)].shape[0]:\n",
    "        raise ValueError(f'{district_key} is exist in district_key of {province_english}, {district_english}')\n",
    "    \n",
    "    df_new = df_district.loc[(df_district.province_english==province_english) & (df_district.district_english==district_english)].head(1)\n",
    "    df_new['district_key'] = district_key\n",
    "    df_district = pd.concat([df_district, df_new])\n",
    "    return df_district"
   ],
   "metadata": {
    "collapsed": false,
    "ExecuteTime": {
     "end_time": "2024-09-20T09:53:07.631684Z",
     "start_time": "2024-09-20T09:53:07.628403Z"
    }
   },
   "id": "32b1939b896a8f98",
   "execution_count": 3
  },
  {
   "cell_type": "code",
   "outputs": [],
   "source": [
    "def add_ward_key(df_ward, province_english, district_english, ward_english, ward_key):\n",
    "    if not df_ward[df_ward.province_english==province_english].shape[0]:\n",
    "        raise ValueError(f'{province_english} is not exist in province_english')\n",
    "    \n",
    "    elif not df_ward[(df_ward.province_english==province_english) & (df_ward.district_english==district_english)].shape[0]:\n",
    "        raise ValueError(f'{district_english} is not exist in district_english of {province_english}')\n",
    "    \n",
    "    elif not df_ward[(df_ward.province_english==province_english) & (df_ward.district_english==district_english) & (df_ward.ward_english==ward_english)].shape[0]:\n",
    "        raise ValueError(f'{ward_english} is not exist in ward_english of {province_english}, {district_english}')\n",
    "    \n",
    "    elif df_ward[(df_ward.province_english==province_english) & (df_ward.district_english==district_english) & (df_ward.ward_english==ward_english) & (df_ward.ward_key==ward_key)].shape[0]:\n",
    "        raise ValueError(f'{ward_key} is exist in ward_key of {province_english}, {district_english}, {ward_english}')\n",
    "    \n",
    "    df_new = df_ward.loc[(df_ward.province_english==province_english) & (df_ward.district_english==district_english) & (df_ward.ward_english==ward_english)].head(1)\n",
    "    df_new['ward_key'] = ward_key\n",
    "    df_ward = pd.concat([df_ward, df_new])\n",
    "    return df_ward"
   ],
   "metadata": {
    "collapsed": false,
    "ExecuteTime": {
     "end_time": "2024-09-20T09:53:07.771310Z",
     "start_time": "2024-09-20T09:53:07.767838Z"
    }
   },
   "id": "8f4875c92642bdac",
   "execution_count": 4
  },
  {
   "cell_type": "markdown",
   "source": [
    "## Base dataset"
   ],
   "metadata": {
    "collapsed": false
   },
   "id": "be8d4555bb973d69"
  },
  {
   "cell_type": "code",
   "outputs": [],
   "source": [
    "df = pd.read_csv('../../data/output/vietnam_administrative_units.csv')"
   ],
   "metadata": {
    "collapsed": false,
    "ExecuteTime": {
     "end_time": "2024-09-20T09:53:07.862887Z",
     "start_time": "2024-09-20T09:53:07.812003Z"
    }
   },
   "id": "3dd43d782abe18a1",
   "execution_count": 5
  },
  {
   "cell_type": "code",
   "outputs": [
    {
     "data": {
      "text/plain": "  province district       ward     long_province long_district  \\\n0   Hà Nội  Ba Đình    Phúc Xá  Thành phố Hà Nội  Quận Ba Đình   \n1   Hà Nội  Ba Đình  Trúc Bạch  Thành phố Hà Nội  Quận Ba Đình   \n2   Hà Nội  Ba Đình  Vĩnh Phúc  Thành phố Hà Nội  Quận Ba Đình   \n3   Hà Nội  Ba Đình    Cống Vị  Thành phố Hà Nội  Quận Ba Đình   \n4   Hà Nội  Ba Đình  Liễu Giai  Thành phố Hà Nội  Quận Ba Đình   \n\n          long_ward short_district short_ward province_english  \\\n0    Phường Phúc Xá        Ba Đình    Phúc Xá           Ha Noi   \n1  Phường Trúc Bạch        Ba Đình  Trúc Bạch           Ha Noi   \n2  Phường Vĩnh Phúc        Ba Đình  Vĩnh Phúc           Ha Noi   \n3    Phường Cống Vị        Ba Đình    Cống Vị           Ha Noi   \n4  Phường Liễu Giai        Ba Đình  Liễu Giai           Ha Noi   \n\n  district_english ward_english long_province_english long_district_english  \\\n0          Ba Dinh      Phuc Xa           Ha Noi City      Ba Dinh District   \n1          Ba Dinh    Truc Bach           Ha Noi City      Ba Dinh District   \n2          Ba Dinh    Vinh Phuc           Ha Noi City      Ba Dinh District   \n3          Ba Dinh      Cong Vi           Ha Noi City      Ba Dinh District   \n4          Ba Dinh    Lieu Giai           Ha Noi City      Ba Dinh District   \n\n  long_ward_english short_district_english short_ward_english district_level  \\\n0      Phuc Xa Ward                Ba Dinh            Phuc Xa           Quận   \n1    Truc Bach Ward                Ba Dinh          Truc Bach           Quận   \n2    Vinh Phuc Ward                Ba Dinh          Vinh Phuc           Quận   \n3      Cong Vi Ward                Ba Dinh            Cong Vi           Quận   \n4    Lieu Giai Ward                Ba Dinh          Lieu Giai           Quận   \n\n  ward_level district_level_english ward_level_english  \n0     Phường               District               Ward  \n1     Phường               District               Ward  \n2     Phường               District               Ward  \n3     Phường               District               Ward  \n4     Phường               District               Ward  ",
      "text/html": "<div>\n<style scoped>\n    .dataframe tbody tr th:only-of-type {\n        vertical-align: middle;\n    }\n\n    .dataframe tbody tr th {\n        vertical-align: top;\n    }\n\n    .dataframe thead th {\n        text-align: right;\n    }\n</style>\n<table border=\"1\" class=\"dataframe\">\n  <thead>\n    <tr style=\"text-align: right;\">\n      <th></th>\n      <th>province</th>\n      <th>district</th>\n      <th>ward</th>\n      <th>long_province</th>\n      <th>long_district</th>\n      <th>long_ward</th>\n      <th>short_district</th>\n      <th>short_ward</th>\n      <th>province_english</th>\n      <th>district_english</th>\n      <th>ward_english</th>\n      <th>long_province_english</th>\n      <th>long_district_english</th>\n      <th>long_ward_english</th>\n      <th>short_district_english</th>\n      <th>short_ward_english</th>\n      <th>district_level</th>\n      <th>ward_level</th>\n      <th>district_level_english</th>\n      <th>ward_level_english</th>\n    </tr>\n  </thead>\n  <tbody>\n    <tr>\n      <th>0</th>\n      <td>Hà Nội</td>\n      <td>Ba Đình</td>\n      <td>Phúc Xá</td>\n      <td>Thành phố Hà Nội</td>\n      <td>Quận Ba Đình</td>\n      <td>Phường Phúc Xá</td>\n      <td>Ba Đình</td>\n      <td>Phúc Xá</td>\n      <td>Ha Noi</td>\n      <td>Ba Dinh</td>\n      <td>Phuc Xa</td>\n      <td>Ha Noi City</td>\n      <td>Ba Dinh District</td>\n      <td>Phuc Xa Ward</td>\n      <td>Ba Dinh</td>\n      <td>Phuc Xa</td>\n      <td>Quận</td>\n      <td>Phường</td>\n      <td>District</td>\n      <td>Ward</td>\n    </tr>\n    <tr>\n      <th>1</th>\n      <td>Hà Nội</td>\n      <td>Ba Đình</td>\n      <td>Trúc Bạch</td>\n      <td>Thành phố Hà Nội</td>\n      <td>Quận Ba Đình</td>\n      <td>Phường Trúc Bạch</td>\n      <td>Ba Đình</td>\n      <td>Trúc Bạch</td>\n      <td>Ha Noi</td>\n      <td>Ba Dinh</td>\n      <td>Truc Bach</td>\n      <td>Ha Noi City</td>\n      <td>Ba Dinh District</td>\n      <td>Truc Bach Ward</td>\n      <td>Ba Dinh</td>\n      <td>Truc Bach</td>\n      <td>Quận</td>\n      <td>Phường</td>\n      <td>District</td>\n      <td>Ward</td>\n    </tr>\n    <tr>\n      <th>2</th>\n      <td>Hà Nội</td>\n      <td>Ba Đình</td>\n      <td>Vĩnh Phúc</td>\n      <td>Thành phố Hà Nội</td>\n      <td>Quận Ba Đình</td>\n      <td>Phường Vĩnh Phúc</td>\n      <td>Ba Đình</td>\n      <td>Vĩnh Phúc</td>\n      <td>Ha Noi</td>\n      <td>Ba Dinh</td>\n      <td>Vinh Phuc</td>\n      <td>Ha Noi City</td>\n      <td>Ba Dinh District</td>\n      <td>Vinh Phuc Ward</td>\n      <td>Ba Dinh</td>\n      <td>Vinh Phuc</td>\n      <td>Quận</td>\n      <td>Phường</td>\n      <td>District</td>\n      <td>Ward</td>\n    </tr>\n    <tr>\n      <th>3</th>\n      <td>Hà Nội</td>\n      <td>Ba Đình</td>\n      <td>Cống Vị</td>\n      <td>Thành phố Hà Nội</td>\n      <td>Quận Ba Đình</td>\n      <td>Phường Cống Vị</td>\n      <td>Ba Đình</td>\n      <td>Cống Vị</td>\n      <td>Ha Noi</td>\n      <td>Ba Dinh</td>\n      <td>Cong Vi</td>\n      <td>Ha Noi City</td>\n      <td>Ba Dinh District</td>\n      <td>Cong Vi Ward</td>\n      <td>Ba Dinh</td>\n      <td>Cong Vi</td>\n      <td>Quận</td>\n      <td>Phường</td>\n      <td>District</td>\n      <td>Ward</td>\n    </tr>\n    <tr>\n      <th>4</th>\n      <td>Hà Nội</td>\n      <td>Ba Đình</td>\n      <td>Liễu Giai</td>\n      <td>Thành phố Hà Nội</td>\n      <td>Quận Ba Đình</td>\n      <td>Phường Liễu Giai</td>\n      <td>Ba Đình</td>\n      <td>Liễu Giai</td>\n      <td>Ha Noi</td>\n      <td>Ba Dinh</td>\n      <td>Lieu Giai</td>\n      <td>Ha Noi City</td>\n      <td>Ba Dinh District</td>\n      <td>Lieu Giai Ward</td>\n      <td>Ba Dinh</td>\n      <td>Lieu Giai</td>\n      <td>Quận</td>\n      <td>Phường</td>\n      <td>District</td>\n      <td>Ward</td>\n    </tr>\n  </tbody>\n</table>\n</div>"
     },
     "execution_count": 6,
     "metadata": {},
     "output_type": "execute_result"
    }
   ],
   "source": [
    "df.head()"
   ],
   "metadata": {
    "collapsed": false,
    "ExecuteTime": {
     "end_time": "2024-09-20T09:53:07.914118Z",
     "start_time": "2024-09-20T09:53:07.901846Z"
    }
   },
   "id": "e537352f45630d46",
   "execution_count": 6
  },
  {
   "cell_type": "code",
   "outputs": [
    {
     "data": {
      "text/plain": "(10547, 20)"
     },
     "execution_count": 7,
     "metadata": {},
     "output_type": "execute_result"
    }
   ],
   "source": [
    "df.shape"
   ],
   "metadata": {
    "collapsed": false,
    "ExecuteTime": {
     "end_time": "2024-09-20T09:53:07.936256Z",
     "start_time": "2024-09-20T09:53:07.933015Z"
    }
   },
   "id": "7c7865b3c62ec036",
   "execution_count": 7
  },
  {
   "cell_type": "code",
   "outputs": [],
   "source": [
    "df['province_key'] = df['province'].apply(to_key, args=(1,))\n",
    "df['district_key'] = df['short_district'].apply(to_key, args=(2,))\n",
    "df['ward_key'] = df['short_ward'].apply(to_key, args=(3,))\n",
    "df['district_level_english'].fillna('', inplace=True)\n",
    "df['ward_level_english'].fillna('', inplace=True)"
   ],
   "metadata": {
    "collapsed": false,
    "ExecuteTime": {
     "end_time": "2024-09-20T09:53:08.098748Z",
     "start_time": "2024-09-20T09:53:07.996508Z"
    }
   },
   "id": "5c5d99ae8b4ce619",
   "execution_count": 8
  },
  {
   "cell_type": "markdown",
   "source": [
    "### Create keyword lists that are duplicated district_keyword\n",
    "\n",
    "Eg: Hà Tĩnh has Huyện Kỳ Anh and Thị xã Kỳ Anh."
   ],
   "metadata": {
    "collapsed": false
   },
   "id": "635b3efaecaa2f6e"
  },
  {
   "cell_type": "code",
   "outputs": [],
   "source": [
    "district_count = df[['province', 'long_district', 'district_key']].drop_duplicates()[['province', 'district_key']].value_counts().reset_index()\n",
    "duplicated_districts = district_count[district_count['count'] > 1]['district_key'].tolist()"
   ],
   "metadata": {
    "collapsed": false,
    "ExecuteTime": {
     "end_time": "2024-09-20T09:53:08.105942Z",
     "start_time": "2024-09-20T09:53:08.099570Z"
    }
   },
   "id": "a5ac0bb1ca84818b",
   "execution_count": 9
  },
  {
   "cell_type": "code",
   "outputs": [],
   "source": [
    "df_duplicated_districts = df[df.district_key.isin(duplicated_districts)][['long_province', 'long_district' ,'province_key','district_key']].drop_duplicates()"
   ],
   "metadata": {
    "collapsed": false,
    "ExecuteTime": {
     "end_time": "2024-09-20T09:53:08.195409Z",
     "start_time": "2024-09-20T09:53:08.191802Z"
    }
   },
   "id": "c19e9d87e6f766ee",
   "execution_count": 10
  },
  {
   "cell_type": "code",
   "outputs": [
    {
     "data": {
      "text/plain": "         long_province       long_district province_key district_key\n5835      Tỉnh Hà Tĩnh        Huyện Kỳ Anh       hatinh        kyanh\n5867      Tỉnh Hà Tĩnh       Thị xã Kỳ Anh       hatinh        kyanh\n9160   Tỉnh Tiền Giang      Thị xã Cai Lậy    tiengiang       cailay\n9213   Tỉnh Tiền Giang       Huyện Cai Lậy    tiengiang       cailay\n9552     Tỉnh Trà Vinh     Huyện Duyên Hải      travinh     duyenhai\n9559     Tỉnh Trà Vinh    Thị xã Duyên Hải      travinh     duyenhai\n9673    Tỉnh Đồng Tháp  Thành phố Cao Lãnh     dongthap      caolanh\n9697    Tỉnh Đồng Tháp  Thành phố Hồng Ngự     dongthap      hongngu\n9713    Tỉnh Đồng Tháp      Huyện Hồng Ngự     dongthap      hongngu\n9748    Tỉnh Đồng Tháp      Huyện Cao Lãnh     dongthap      caolanh\n10257   Tỉnh Hậu Giang       Huyện Long Mỹ     haugiang       longmy\n10265   Tỉnh Hậu Giang      Thị xã Long Mỹ     haugiang       longmy",
      "text/html": "<div>\n<style scoped>\n    .dataframe tbody tr th:only-of-type {\n        vertical-align: middle;\n    }\n\n    .dataframe tbody tr th {\n        vertical-align: top;\n    }\n\n    .dataframe thead th {\n        text-align: right;\n    }\n</style>\n<table border=\"1\" class=\"dataframe\">\n  <thead>\n    <tr style=\"text-align: right;\">\n      <th></th>\n      <th>long_province</th>\n      <th>long_district</th>\n      <th>province_key</th>\n      <th>district_key</th>\n    </tr>\n  </thead>\n  <tbody>\n    <tr>\n      <th>5835</th>\n      <td>Tỉnh Hà Tĩnh</td>\n      <td>Huyện Kỳ Anh</td>\n      <td>hatinh</td>\n      <td>kyanh</td>\n    </tr>\n    <tr>\n      <th>5867</th>\n      <td>Tỉnh Hà Tĩnh</td>\n      <td>Thị xã Kỳ Anh</td>\n      <td>hatinh</td>\n      <td>kyanh</td>\n    </tr>\n    <tr>\n      <th>9160</th>\n      <td>Tỉnh Tiền Giang</td>\n      <td>Thị xã Cai Lậy</td>\n      <td>tiengiang</td>\n      <td>cailay</td>\n    </tr>\n    <tr>\n      <th>9213</th>\n      <td>Tỉnh Tiền Giang</td>\n      <td>Huyện Cai Lậy</td>\n      <td>tiengiang</td>\n      <td>cailay</td>\n    </tr>\n    <tr>\n      <th>9552</th>\n      <td>Tỉnh Trà Vinh</td>\n      <td>Huyện Duyên Hải</td>\n      <td>travinh</td>\n      <td>duyenhai</td>\n    </tr>\n    <tr>\n      <th>9559</th>\n      <td>Tỉnh Trà Vinh</td>\n      <td>Thị xã Duyên Hải</td>\n      <td>travinh</td>\n      <td>duyenhai</td>\n    </tr>\n    <tr>\n      <th>9673</th>\n      <td>Tỉnh Đồng Tháp</td>\n      <td>Thành phố Cao Lãnh</td>\n      <td>dongthap</td>\n      <td>caolanh</td>\n    </tr>\n    <tr>\n      <th>9697</th>\n      <td>Tỉnh Đồng Tháp</td>\n      <td>Thành phố Hồng Ngự</td>\n      <td>dongthap</td>\n      <td>hongngu</td>\n    </tr>\n    <tr>\n      <th>9713</th>\n      <td>Tỉnh Đồng Tháp</td>\n      <td>Huyện Hồng Ngự</td>\n      <td>dongthap</td>\n      <td>hongngu</td>\n    </tr>\n    <tr>\n      <th>9748</th>\n      <td>Tỉnh Đồng Tháp</td>\n      <td>Huyện Cao Lãnh</td>\n      <td>dongthap</td>\n      <td>caolanh</td>\n    </tr>\n    <tr>\n      <th>10257</th>\n      <td>Tỉnh Hậu Giang</td>\n      <td>Huyện Long Mỹ</td>\n      <td>haugiang</td>\n      <td>longmy</td>\n    </tr>\n    <tr>\n      <th>10265</th>\n      <td>Tỉnh Hậu Giang</td>\n      <td>Thị xã Long Mỹ</td>\n      <td>haugiang</td>\n      <td>longmy</td>\n    </tr>\n  </tbody>\n</table>\n</div>"
     },
     "execution_count": 11,
     "metadata": {},
     "output_type": "execute_result"
    }
   ],
   "source": [
    "df_duplicated_districts"
   ],
   "metadata": {
    "collapsed": false,
    "ExecuteTime": {
     "end_time": "2024-09-20T09:53:08.268418Z",
     "start_time": "2024-09-20T09:53:08.265196Z"
    }
   },
   "id": "20495c948239a612",
   "execution_count": 11
  },
  {
   "cell_type": "markdown",
   "source": [
    "My idea: We will use their wards to decide their district level.\n",
    "\n",
    "To make sure this idea is valid, I will check whether they have some wards with the same ward_key"
   ],
   "metadata": {
    "collapsed": false
   },
   "id": "8f9ecba309f4fde6"
  },
  {
   "cell_type": "code",
   "outputs": [],
   "source": [
    "for district_key in duplicated_districts:\n",
    "    long_districts = df[df.district_key==district_key]['long_district'].unique().tolist()\n",
    "    a = []\n",
    "    b = []\n",
    "    long_district_a = long_districts[0]\n",
    "    long_district_b = long_districts[1]\n",
    "    ward_key_a = df[df.long_district==long_district_a]['ward_key'].unique().tolist()\n",
    "    ward_key_b = df[df.long_district==long_district_b]['ward_key'].unique().tolist()\n",
    "    common = list(set(a) & set(b))\n",
    "    if common:\n",
    "        print(district_key, 'has duplicated ward_key')"
   ],
   "metadata": {
    "collapsed": false,
    "ExecuteTime": {
     "end_time": "2024-09-20T09:53:08.352178Z",
     "start_time": "2024-09-20T09:53:08.338989Z"
    }
   },
   "id": "e01c31372792a7a0",
   "execution_count": 12
  },
  {
   "cell_type": "markdown",
   "source": [
    "Nice! We also have default option if there are no ward in the address, I use Google Trend to decide default district level."
   ],
   "metadata": {
    "collapsed": false
   },
   "id": "7b8a1edeb2c2f550"
  },
  {
   "cell_type": "code",
   "outputs": [],
   "source": [
    "# Pickle\n",
    "duplicated_district_province_keys = df_duplicated_districts['province_key'].unique().tolist()\n",
    "\n",
    "# Use Google Trend and search to decide level\n",
    "duplicated_district_keys = {\n",
    "    'kyanh': {'default':'Town'},\n",
    "    'cailay': {'default':'Town'},\n",
    "    'duyenhai': {'default':'District'},\n",
    "    'caolanh': {'default':'City'},\n",
    "    'hongngu': {'default':'City'},\n",
    "    'longmy': {'default':'District'}\n",
    "}\n",
    "\n",
    "for district_key in duplicated_districts:\n",
    "    df_temp = df[df.district_key == district_key]\n",
    "    level_data = {}\n",
    "    levels = df_temp.district_level_english.unique().tolist()\n",
    "    for district_level_english in levels:\n",
    "        ward_keys = df_temp[df_temp.district_level_english==district_level_english]['ward_key'].unique().tolist()\n",
    "        level_data[district_level_english] = ward_keys\n",
    "        duplicated_district_keys[district_key]['levels'] = level_data"
   ],
   "metadata": {
    "collapsed": false,
    "ExecuteTime": {
     "end_time": "2024-09-20T09:53:08.378142Z",
     "start_time": "2024-09-20T09:53:08.370406Z"
    }
   },
   "id": "ebaf93ff2e5143f8",
   "execution_count": 13
  },
  {
   "cell_type": "code",
   "outputs": [
    {
     "name": "stdout",
     "output_type": "stream",
     "text": [
      "Provinces: ['hatinh', 'tiengiang', 'travinh', 'dongthap', 'haugiang'] \n",
      "\n",
      "Districts: {'kyanh': {'default': 'Town', 'levels': {'District': ['kyxuan', 'kybac', 'kyphu', 'kyphong', 'kytien', 'kygiang', 'kydong', 'kykhang', 'kyvan', 'kytrung', 'kytho', 'kytay', 'kythuong', 'kyhai', 'kythu', 'kychau', 'kytan', 'lamhop', 'kyson', 'kylac'], 'Town': ['hungtri', 'kyninh', 'kyloi', 'kyha', 'kytrinh', 'kythinh', 'kyhoa', 'kyphuong', 'kylong', 'kylien', 'kynam']}}, 'cailay': {'default': 'Town', 'levels': {'Town': ['phuong1', 'phuong2', 'phuong3', 'phuong4', 'phuong5', 'myphuoctay', 'myhanhdong', 'myhanhtrung', 'tanphu', 'tanbinh', 'tanhoi', 'nhimy', 'nhiquy', 'thanhhoa', 'phuquy', 'longkhanh'], 'District': ['thanhloc', 'mythanhbac', 'phucuong', 'mythanhnam', 'phunhuan', 'binhphu', 'camson', 'phuan', 'mylong', 'longtien', 'hiepduc', 'longtrung', 'hoixuan', 'tanphong', 'tambinh', 'nguhiep']}}, 'duyenhai': {'default': 'District', 'levels': {'District': ['donxuan', 'donchau', 'longthanh', 'longkhanh', 'ngulac', 'longvinh', 'donghai'], 'Town': ['phuong1', 'longtoan', 'phuong2', 'longhuu', 'danthanh', 'truonglonghoa', 'hiepthanh']}}, 'caolanh': {'default': 'City', 'levels': {'City': ['phuong11', 'phuong1', 'phuong2', 'phuong4', 'phuong3', 'phuong6', 'myngai', 'mytan', 'mytra', 'myphu', 'tanthuantay', 'hoathuan', 'hoaan', 'tanthuandong', 'tinhthoi'], 'District': ['mytho', 'gaogiong', 'phuongthinh', 'basao', 'phongmy', 'tannghia', 'phuongtra', 'nhimy', 'tanhoitrung', 'anbinh', 'myhoi', 'myhiep', 'mylong', 'binhhangtrung', 'myxuong', 'binhhangtay', 'binhthanh']}}, 'hongngu': {'default': 'City', 'levels': {'City': ['anloc', 'anthanh', 'binhthanh', 'tanhoi', 'anlac', 'anbinhb', 'anbinha'], 'District': ['thuongphuoc1', 'thuongthoihaua', 'thuongthoitien', 'thuongphuoc2', 'thuonglac', 'longkhanha', 'longkhanhb', 'longthuan', 'phuthuanb', 'phuthuana']}}, 'longmy': {'default': 'District', 'levels': {'District': ['thuanhung', 'thuanhoa', 'vinhthuandong', 'vinhvien', 'vinhviena', 'luongtam', 'luongnghia', 'xaphien'], 'Town': ['thuanan', 'tralong', 'binhthanh', 'longbinh', 'vinhtuong', 'longtri', 'longtria', 'longphu', 'tanphu']}}}\n"
     ]
    }
   ],
   "source": [
    "print('Provinces:', duplicated_district_province_keys, '\\n')\n",
    "print('Districts:', duplicated_district_keys)"
   ],
   "metadata": {
    "collapsed": false,
    "ExecuteTime": {
     "end_time": "2024-09-20T09:53:08.445223Z",
     "start_time": "2024-09-20T09:53:08.442207Z"
    }
   },
   "id": "969432cad1a18d05",
   "execution_count": 14
  },
  {
   "cell_type": "markdown",
   "source": [
    "At this step, we collect these data to save to module data:\n",
    "- `duplicated_district_province_keys`\n",
    "- `duplicated_district_keys`"
   ],
   "metadata": {
    "collapsed": false
   },
   "id": "e2baa6d4821fcd8f"
  },
  {
   "cell_type": "markdown",
   "source": [
    "## Find district alias keywords\n",
    "\n",
    "Data source: [Danh sách các đơn vị hành chính cấp huyện không còn tồn tại](https://vi.wikipedia.org/wiki/Danh_s%C3%A1ch_%C4%91%C6%A1n_v%E1%BB%8B_h%C3%A0nh_ch%C3%ADnh_c%E1%BA%A5p_huy%E1%BB%87n_c%E1%BB%A7a_Vi%E1%BB%87t_Nam#Danh_s%C3%A1ch_c%C3%A1c_%C4%91%C6%A1n_v%E1%BB%8B_h%C3%A0nh_ch%C3%ADnh_c%E1%BA%A5p_huy%E1%BB%87n_kh%C3%B4ng_c%C3%B2n_t%E1%BB%93n_t%E1%BA%A1i)"
   ],
   "metadata": {
    "collapsed": false
   },
   "id": "c28e8aa6fe18695f"
  },
  {
   "cell_type": "code",
   "outputs": [],
   "source": [
    "def check_containing_keyword(district, change):\n",
    "    if change.count(district) == 2:\n",
    "        return 1\n",
    "    else:\n",
    "        return 0"
   ],
   "metadata": {
    "collapsed": false,
    "ExecuteTime": {
     "end_time": "2024-09-20T09:53:08.540847Z",
     "start_time": "2024-09-20T09:53:08.538992Z"
    }
   },
   "id": "1c5d412180812c8b",
   "execution_count": 15
  },
  {
   "cell_type": "code",
   "outputs": [],
   "source": [
    "df_district_change = pd.read_csv('../../data/input/district_change.csv')"
   ],
   "metadata": {
    "collapsed": false,
    "ExecuteTime": {
     "end_time": "2024-09-20T09:53:08.638071Z",
     "start_time": "2024-09-20T09:53:08.634971Z"
    }
   },
   "id": "8efe6538132de5f9",
   "execution_count": 16
  },
  {
   "cell_type": "code",
   "outputs": [],
   "source": [
    "df_district_change.dropna(inplace=True)"
   ],
   "metadata": {
    "collapsed": false,
    "ExecuteTime": {
     "end_time": "2024-09-20T09:53:08.775299Z",
     "start_time": "2024-09-20T09:53:08.772209Z"
    }
   },
   "id": "3578e97ca63fe0ea",
   "execution_count": 17
  },
  {
   "cell_type": "code",
   "outputs": [],
   "source": [
    "df_district_change['containing_keyword_two_times'] = df_district_change.apply(lambda x: check_containing_keyword(x.old_district, x.change), axis=1)"
   ],
   "metadata": {
    "collapsed": false,
    "ExecuteTime": {
     "end_time": "2024-09-20T09:53:08.849094Z",
     "start_time": "2024-09-20T09:53:08.846276Z"
    }
   },
   "id": "68f06a1db08917db",
   "execution_count": 18
  },
  {
   "cell_type": "code",
   "outputs": [],
   "source": [
    "df_change = df_district_change[(df_district_change.change.fillna('').str.contains('sáp nhập|đổi tên')) & ~(df_district_change.change.fillna('').str.contains('một phần'))].copy()"
   ],
   "metadata": {
    "collapsed": false,
    "ExecuteTime": {
     "end_time": "2024-09-20T09:53:08.878769Z",
     "start_time": "2024-09-20T09:53:08.875445Z"
    }
   },
   "id": "1e5b6ba08e73c721",
   "execution_count": 19
  },
  {
   "cell_type": "code",
   "outputs": [
    {
     "data": {
      "text/plain": "              province     old_district    year  \\\n0             An Giang          Huệ Đức  1977.0   \n5    Bà Rịa – Vũng Tàu        Tân Thành  2018.0   \n7              Bắc Kạn           Chợ Rã  1984.0   \n9             Bạc Liêu         Minh Hải  1984.0   \n14          Bình Dương       Châu Thành  1977.0   \n15          Bình Dương        Lái Thiêu  1977.0   \n18          Bình Phước       Phước Bình  1977.0   \n23              Cà Mau        Ngọc Hiển  1984.0   \n26            Cao Bằng         Phục Hòa  2020.0   \n27            Cao Bằng       Quảng Uyên  2020.0   \n28            Cao Bằng       Thông Nông  2020.0   \n29            Cao Bằng         Trà Lĩnh  2020.0   \n33           Điện Biên         Lai Châu  2005.0   \n34           Điện Biên        Mường Lay  2005.0   \n35            Đồng Nai          Vĩnh An  1994.0   \n37           Đồng Tháp       Thạnh Hưng  1994.0   \n42              Hà Nam           Hà Nam  1996.0   \n43              Hà Nội          Đa Phúc  1977.0   \n44              Hà Nội          Kim Anh  1977.0   \n52           Hải Phòng           Cát Bà  1977.0   \n57           Hậu Giang         Mỹ Thanh  1982.0   \n59           Hậu Giang         Tân Hiệp  2006.0   \n60            Hòa Bình           Kỳ Sơn  2019.0   \n67           Khánh Hòa      Khánh Xương  1977.0   \n69          Kiên Giang          Hà Tiên  1999.0   \n74             Lào Cai        Cam Đường  2002.0   \n75             Long An         Tân Châu  1980.0   \n80            Nam Định           Mỹ Lộc  2024.0   \n82           Ninh Bình        Gia Khánh  1977.0   \n83           Ninh Bình       Hoàng Long  1993.0   \n84           Ninh Bình         Tam Điệp  1994.0   \n91             Phú Thọ        Sông Thao  2002.0   \n97           Quảng Nam            Giằng  1999.0   \n102         Quảng Ngãi          Tây Trà  2020.0   \n103         Quảng Ninh         Hồng Gai  1993.0   \n104         Quảng Ninh          Cẩm Phả  1994.0   \n105         Quảng Ninh         Hải Ninh  1998.0   \n107         Quảng Ninh         Yên Hưng  2011.0   \n108         Quảng Ninh         Hoành Bồ  2019.0   \n113           Tây Ninh       Phú Khương  1979.0   \n116          Thanh Hóa       Đông Thiệu  1982.0   \n120          Thanh Hóa        Thiệu Yên  1996.0   \n121          Thanh Hóa         Tĩnh Gia  2020.0   \n125    Tp. Hồ Chí Minh        Duyên Hải  1991.0   \n127    Tp. Hồ Chí Minh           Quận 2  2020.0   \n128    Tp. Hồ Chí Minh           Quận 9  2020.0   \n129    Tp. Hồ Chí Minh   Thủ Đức (quận)  2020.0   \n130           Trà Vinh  Châu Thành Đông  1977.0   \n132          Vĩnh Long         Cái Nhum  1977.0   \n133          Vĩnh Long   Châu Thành Tây  1977.0   \n134          Vĩnh Phúc         Yên Lãng  1977.0   \n\n                                                change  \\\n0                sáp nhập toàn bộ vào huyện Châu Thành   \n5        thành lập thị xã, đổi tên thành thị xã Phú Mỹ   \n7                            đổi tên thành huyện Ba Bể   \n9                        đổi tên thành thị xã Bạc Liêu   \n14   sáp nhập vào huyện Tân Uyên và thị xã Thủ Dầu Một   \n15       sáp nhập với huyện Dĩ An thành huyện Thuận An   \n18   sáp nhập với huyện Bù Đăng và huyện Bù Đốp thà...   \n23                         đổi tên thành huyện Đầm Dơi   \n26   sáp nhập với huyện Quảng Uyên thành huyện Quản...   \n27   sáp nhập với huyện Phục Hòa thành huyện Quảng Hòa   \n28                         sáp nhập vào huyện Hà Quảng   \n29                      sáp nhập vào huyện Trùng Khánh   \n33                      đổi tên thành thị xã Mường Lay   \n34                       đổi tên thành huyện Mường Chà   \n35                        đổi tên thành huyện Vĩnh Cửu   \n37                          đổi tên thành huyện Lấp Vò   \n42                         đổi tên thành thị xã Phủ Lý   \n43      sáp nhập với huyện Kim Anh thành huyện Sóc Sơn   \n44      sáp nhập với huyện Đa Phúc thành huyện Sóc Sơn   \n52                          sáp nhập vào huyện Cát Hải   \n57                        đổi tên thành huyện Vị Thanh   \n59                        đổi tên thành thị xã Ngã Bảy   \n60                     sáp nhập vào thành phố Hòa Bình   \n67   sáp nhập với huyện Khánh Vĩnh thành huyện Diên...   \n69                      đổi tên thành huyện Kiên Lương   \n74                         sáp nhập với thị xã Lào Cai   \n75                          đổi tên thành huyện Vàm Cỏ   \n80                     sáp nhập vào thành phố Nam Định   \n82    sáp nhập với thị xã Ninh Bình thành huyện Hoa Lư   \n83                        đổi tên thành huyện Nho Quan   \n84                          đổi tên thành huyện Yên Mô   \n91                         đổi tên thành huyện Cẩm Khê   \n97                       đổi tên thành huyện Nam Giang   \n102                        sáp nhập vào huyện Trà Bồng   \n103  thành lập thành phố, đổi tên thành thành phố H...   \n104                        đổi tên thành huyện Vân Đồn   \n105    thành lập thị xã, đổi tên thành thị xã Móng Cái   \n107   thành lập thị xã, đổi tên thành thị xã Quảng Yên   \n108                     sáp nhập vào thành phố Hạ Long   \n113                      đổi tên thành huyện Hòa Thành   \n116                       đổi tên thành huyện Đông Sơn   \n120                       đổi tên thành huyện Yên Định   \n121    thành lập thị xã, đổi tên thành thị xã Nghi Sơn   \n125                        đổi tên thành huyện Cần Giờ   \n127  sáp nhập với Quận 9 và quận Thủ Đức thành thàn...   \n128  sáp nhập với Quận 2 và quận Thủ Đức thành thàn...   \n129  sáp nhập với Quận 2 và Quận 9 thành thành phố ...   \n130    sáp nhập vào huyện Càng Long và huyện Cầu Ngang   \n132  sáp nhập với huyện Châu Thành Tây thành huyện ...   \n133    sáp nhập với huyện Cái Nhum thành huyện Long Hồ   \n134  sáp nhập với huyện Bình Xuyên thành huyện Mê Linh   \n\n     containing_keyword_two_times  \n0                               0  \n5                               0  \n7                               0  \n9                               0  \n14                              0  \n15                              0  \n18                              0  \n23                              0  \n26                              0  \n27                              0  \n28                              0  \n29                              0  \n33                              0  \n34                              0  \n35                              0  \n37                              0  \n42                              0  \n43                              0  \n44                              0  \n52                              0  \n57                              0  \n59                              0  \n60                              0  \n67                              0  \n69                              0  \n74                              0  \n75                              0  \n80                              0  \n82                              0  \n83                              0  \n84                              0  \n91                              0  \n97                              0  \n102                             0  \n103                             0  \n104                             0  \n105                             0  \n107                             0  \n108                             0  \n113                             0  \n116                             0  \n120                             0  \n121                             0  \n125                             0  \n127                             0  \n128                             0  \n129                             0  \n130                             0  \n132                             0  \n133                             0  \n134                             0  ",
      "text/html": "<div>\n<style scoped>\n    .dataframe tbody tr th:only-of-type {\n        vertical-align: middle;\n    }\n\n    .dataframe tbody tr th {\n        vertical-align: top;\n    }\n\n    .dataframe thead th {\n        text-align: right;\n    }\n</style>\n<table border=\"1\" class=\"dataframe\">\n  <thead>\n    <tr style=\"text-align: right;\">\n      <th></th>\n      <th>province</th>\n      <th>old_district</th>\n      <th>year</th>\n      <th>change</th>\n      <th>containing_keyword_two_times</th>\n    </tr>\n  </thead>\n  <tbody>\n    <tr>\n      <th>0</th>\n      <td>An Giang</td>\n      <td>Huệ Đức</td>\n      <td>1977.0</td>\n      <td>sáp nhập toàn bộ vào huyện Châu Thành</td>\n      <td>0</td>\n    </tr>\n    <tr>\n      <th>5</th>\n      <td>Bà Rịa – Vũng Tàu</td>\n      <td>Tân Thành</td>\n      <td>2018.0</td>\n      <td>thành lập thị xã, đổi tên thành thị xã Phú Mỹ</td>\n      <td>0</td>\n    </tr>\n    <tr>\n      <th>7</th>\n      <td>Bắc Kạn</td>\n      <td>Chợ Rã</td>\n      <td>1984.0</td>\n      <td>đổi tên thành huyện Ba Bể</td>\n      <td>0</td>\n    </tr>\n    <tr>\n      <th>9</th>\n      <td>Bạc Liêu</td>\n      <td>Minh Hải</td>\n      <td>1984.0</td>\n      <td>đổi tên thành thị xã Bạc Liêu</td>\n      <td>0</td>\n    </tr>\n    <tr>\n      <th>14</th>\n      <td>Bình Dương</td>\n      <td>Châu Thành</td>\n      <td>1977.0</td>\n      <td>sáp nhập vào huyện Tân Uyên và thị xã Thủ Dầu Một</td>\n      <td>0</td>\n    </tr>\n    <tr>\n      <th>15</th>\n      <td>Bình Dương</td>\n      <td>Lái Thiêu</td>\n      <td>1977.0</td>\n      <td>sáp nhập với huyện Dĩ An thành huyện Thuận An</td>\n      <td>0</td>\n    </tr>\n    <tr>\n      <th>18</th>\n      <td>Bình Phước</td>\n      <td>Phước Bình</td>\n      <td>1977.0</td>\n      <td>sáp nhập với huyện Bù Đăng và huyện Bù Đốp thà...</td>\n      <td>0</td>\n    </tr>\n    <tr>\n      <th>23</th>\n      <td>Cà Mau</td>\n      <td>Ngọc Hiển</td>\n      <td>1984.0</td>\n      <td>đổi tên thành huyện Đầm Dơi</td>\n      <td>0</td>\n    </tr>\n    <tr>\n      <th>26</th>\n      <td>Cao Bằng</td>\n      <td>Phục Hòa</td>\n      <td>2020.0</td>\n      <td>sáp nhập với huyện Quảng Uyên thành huyện Quản...</td>\n      <td>0</td>\n    </tr>\n    <tr>\n      <th>27</th>\n      <td>Cao Bằng</td>\n      <td>Quảng Uyên</td>\n      <td>2020.0</td>\n      <td>sáp nhập với huyện Phục Hòa thành huyện Quảng Hòa</td>\n      <td>0</td>\n    </tr>\n    <tr>\n      <th>28</th>\n      <td>Cao Bằng</td>\n      <td>Thông Nông</td>\n      <td>2020.0</td>\n      <td>sáp nhập vào huyện Hà Quảng</td>\n      <td>0</td>\n    </tr>\n    <tr>\n      <th>29</th>\n      <td>Cao Bằng</td>\n      <td>Trà Lĩnh</td>\n      <td>2020.0</td>\n      <td>sáp nhập vào huyện Trùng Khánh</td>\n      <td>0</td>\n    </tr>\n    <tr>\n      <th>33</th>\n      <td>Điện Biên</td>\n      <td>Lai Châu</td>\n      <td>2005.0</td>\n      <td>đổi tên thành thị xã Mường Lay</td>\n      <td>0</td>\n    </tr>\n    <tr>\n      <th>34</th>\n      <td>Điện Biên</td>\n      <td>Mường Lay</td>\n      <td>2005.0</td>\n      <td>đổi tên thành huyện Mường Chà</td>\n      <td>0</td>\n    </tr>\n    <tr>\n      <th>35</th>\n      <td>Đồng Nai</td>\n      <td>Vĩnh An</td>\n      <td>1994.0</td>\n      <td>đổi tên thành huyện Vĩnh Cửu</td>\n      <td>0</td>\n    </tr>\n    <tr>\n      <th>37</th>\n      <td>Đồng Tháp</td>\n      <td>Thạnh Hưng</td>\n      <td>1994.0</td>\n      <td>đổi tên thành huyện Lấp Vò</td>\n      <td>0</td>\n    </tr>\n    <tr>\n      <th>42</th>\n      <td>Hà Nam</td>\n      <td>Hà Nam</td>\n      <td>1996.0</td>\n      <td>đổi tên thành thị xã Phủ Lý</td>\n      <td>0</td>\n    </tr>\n    <tr>\n      <th>43</th>\n      <td>Hà Nội</td>\n      <td>Đa Phúc</td>\n      <td>1977.0</td>\n      <td>sáp nhập với huyện Kim Anh thành huyện Sóc Sơn</td>\n      <td>0</td>\n    </tr>\n    <tr>\n      <th>44</th>\n      <td>Hà Nội</td>\n      <td>Kim Anh</td>\n      <td>1977.0</td>\n      <td>sáp nhập với huyện Đa Phúc thành huyện Sóc Sơn</td>\n      <td>0</td>\n    </tr>\n    <tr>\n      <th>52</th>\n      <td>Hải Phòng</td>\n      <td>Cát Bà</td>\n      <td>1977.0</td>\n      <td>sáp nhập vào huyện Cát Hải</td>\n      <td>0</td>\n    </tr>\n    <tr>\n      <th>57</th>\n      <td>Hậu Giang</td>\n      <td>Mỹ Thanh</td>\n      <td>1982.0</td>\n      <td>đổi tên thành huyện Vị Thanh</td>\n      <td>0</td>\n    </tr>\n    <tr>\n      <th>59</th>\n      <td>Hậu Giang</td>\n      <td>Tân Hiệp</td>\n      <td>2006.0</td>\n      <td>đổi tên thành thị xã Ngã Bảy</td>\n      <td>0</td>\n    </tr>\n    <tr>\n      <th>60</th>\n      <td>Hòa Bình</td>\n      <td>Kỳ Sơn</td>\n      <td>2019.0</td>\n      <td>sáp nhập vào thành phố Hòa Bình</td>\n      <td>0</td>\n    </tr>\n    <tr>\n      <th>67</th>\n      <td>Khánh Hòa</td>\n      <td>Khánh Xương</td>\n      <td>1977.0</td>\n      <td>sáp nhập với huyện Khánh Vĩnh thành huyện Diên...</td>\n      <td>0</td>\n    </tr>\n    <tr>\n      <th>69</th>\n      <td>Kiên Giang</td>\n      <td>Hà Tiên</td>\n      <td>1999.0</td>\n      <td>đổi tên thành huyện Kiên Lương</td>\n      <td>0</td>\n    </tr>\n    <tr>\n      <th>74</th>\n      <td>Lào Cai</td>\n      <td>Cam Đường</td>\n      <td>2002.0</td>\n      <td>sáp nhập với thị xã Lào Cai</td>\n      <td>0</td>\n    </tr>\n    <tr>\n      <th>75</th>\n      <td>Long An</td>\n      <td>Tân Châu</td>\n      <td>1980.0</td>\n      <td>đổi tên thành huyện Vàm Cỏ</td>\n      <td>0</td>\n    </tr>\n    <tr>\n      <th>80</th>\n      <td>Nam Định</td>\n      <td>Mỹ Lộc</td>\n      <td>2024.0</td>\n      <td>sáp nhập vào thành phố Nam Định</td>\n      <td>0</td>\n    </tr>\n    <tr>\n      <th>82</th>\n      <td>Ninh Bình</td>\n      <td>Gia Khánh</td>\n      <td>1977.0</td>\n      <td>sáp nhập với thị xã Ninh Bình thành huyện Hoa Lư</td>\n      <td>0</td>\n    </tr>\n    <tr>\n      <th>83</th>\n      <td>Ninh Bình</td>\n      <td>Hoàng Long</td>\n      <td>1993.0</td>\n      <td>đổi tên thành huyện Nho Quan</td>\n      <td>0</td>\n    </tr>\n    <tr>\n      <th>84</th>\n      <td>Ninh Bình</td>\n      <td>Tam Điệp</td>\n      <td>1994.0</td>\n      <td>đổi tên thành huyện Yên Mô</td>\n      <td>0</td>\n    </tr>\n    <tr>\n      <th>91</th>\n      <td>Phú Thọ</td>\n      <td>Sông Thao</td>\n      <td>2002.0</td>\n      <td>đổi tên thành huyện Cẩm Khê</td>\n      <td>0</td>\n    </tr>\n    <tr>\n      <th>97</th>\n      <td>Quảng Nam</td>\n      <td>Giằng</td>\n      <td>1999.0</td>\n      <td>đổi tên thành huyện Nam Giang</td>\n      <td>0</td>\n    </tr>\n    <tr>\n      <th>102</th>\n      <td>Quảng Ngãi</td>\n      <td>Tây Trà</td>\n      <td>2020.0</td>\n      <td>sáp nhập vào huyện Trà Bồng</td>\n      <td>0</td>\n    </tr>\n    <tr>\n      <th>103</th>\n      <td>Quảng Ninh</td>\n      <td>Hồng Gai</td>\n      <td>1993.0</td>\n      <td>thành lập thành phố, đổi tên thành thành phố H...</td>\n      <td>0</td>\n    </tr>\n    <tr>\n      <th>104</th>\n      <td>Quảng Ninh</td>\n      <td>Cẩm Phả</td>\n      <td>1994.0</td>\n      <td>đổi tên thành huyện Vân Đồn</td>\n      <td>0</td>\n    </tr>\n    <tr>\n      <th>105</th>\n      <td>Quảng Ninh</td>\n      <td>Hải Ninh</td>\n      <td>1998.0</td>\n      <td>thành lập thị xã, đổi tên thành thị xã Móng Cái</td>\n      <td>0</td>\n    </tr>\n    <tr>\n      <th>107</th>\n      <td>Quảng Ninh</td>\n      <td>Yên Hưng</td>\n      <td>2011.0</td>\n      <td>thành lập thị xã, đổi tên thành thị xã Quảng Yên</td>\n      <td>0</td>\n    </tr>\n    <tr>\n      <th>108</th>\n      <td>Quảng Ninh</td>\n      <td>Hoành Bồ</td>\n      <td>2019.0</td>\n      <td>sáp nhập vào thành phố Hạ Long</td>\n      <td>0</td>\n    </tr>\n    <tr>\n      <th>113</th>\n      <td>Tây Ninh</td>\n      <td>Phú Khương</td>\n      <td>1979.0</td>\n      <td>đổi tên thành huyện Hòa Thành</td>\n      <td>0</td>\n    </tr>\n    <tr>\n      <th>116</th>\n      <td>Thanh Hóa</td>\n      <td>Đông Thiệu</td>\n      <td>1982.0</td>\n      <td>đổi tên thành huyện Đông Sơn</td>\n      <td>0</td>\n    </tr>\n    <tr>\n      <th>120</th>\n      <td>Thanh Hóa</td>\n      <td>Thiệu Yên</td>\n      <td>1996.0</td>\n      <td>đổi tên thành huyện Yên Định</td>\n      <td>0</td>\n    </tr>\n    <tr>\n      <th>121</th>\n      <td>Thanh Hóa</td>\n      <td>Tĩnh Gia</td>\n      <td>2020.0</td>\n      <td>thành lập thị xã, đổi tên thành thị xã Nghi Sơn</td>\n      <td>0</td>\n    </tr>\n    <tr>\n      <th>125</th>\n      <td>Tp. Hồ Chí Minh</td>\n      <td>Duyên Hải</td>\n      <td>1991.0</td>\n      <td>đổi tên thành huyện Cần Giờ</td>\n      <td>0</td>\n    </tr>\n    <tr>\n      <th>127</th>\n      <td>Tp. Hồ Chí Minh</td>\n      <td>Quận 2</td>\n      <td>2020.0</td>\n      <td>sáp nhập với Quận 9 và quận Thủ Đức thành thàn...</td>\n      <td>0</td>\n    </tr>\n    <tr>\n      <th>128</th>\n      <td>Tp. Hồ Chí Minh</td>\n      <td>Quận 9</td>\n      <td>2020.0</td>\n      <td>sáp nhập với Quận 2 và quận Thủ Đức thành thàn...</td>\n      <td>0</td>\n    </tr>\n    <tr>\n      <th>129</th>\n      <td>Tp. Hồ Chí Minh</td>\n      <td>Thủ Đức (quận)</td>\n      <td>2020.0</td>\n      <td>sáp nhập với Quận 2 và Quận 9 thành thành phố ...</td>\n      <td>0</td>\n    </tr>\n    <tr>\n      <th>130</th>\n      <td>Trà Vinh</td>\n      <td>Châu Thành Đông</td>\n      <td>1977.0</td>\n      <td>sáp nhập vào huyện Càng Long và huyện Cầu Ngang</td>\n      <td>0</td>\n    </tr>\n    <tr>\n      <th>132</th>\n      <td>Vĩnh Long</td>\n      <td>Cái Nhum</td>\n      <td>1977.0</td>\n      <td>sáp nhập với huyện Châu Thành Tây thành huyện ...</td>\n      <td>0</td>\n    </tr>\n    <tr>\n      <th>133</th>\n      <td>Vĩnh Long</td>\n      <td>Châu Thành Tây</td>\n      <td>1977.0</td>\n      <td>sáp nhập với huyện Cái Nhum thành huyện Long Hồ</td>\n      <td>0</td>\n    </tr>\n    <tr>\n      <th>134</th>\n      <td>Vĩnh Phúc</td>\n      <td>Yên Lãng</td>\n      <td>1977.0</td>\n      <td>sáp nhập với huyện Bình Xuyên thành huyện Mê Linh</td>\n      <td>0</td>\n    </tr>\n  </tbody>\n</table>\n</div>"
     },
     "execution_count": 20,
     "metadata": {},
     "output_type": "execute_result"
    }
   ],
   "source": [
    "df_change"
   ],
   "metadata": {
    "collapsed": false,
    "ExecuteTime": {
     "end_time": "2024-09-20T09:53:08.943147Z",
     "start_time": "2024-09-20T09:53:08.937145Z"
    }
   },
   "id": "eea28fdda69f98dc",
   "execution_count": 20
  },
  {
   "cell_type": "code",
   "outputs": [],
   "source": [
    "df_split = df_district_change[df_district_change.containing_keyword_two_times==1].copy()"
   ],
   "metadata": {
    "collapsed": false,
    "ExecuteTime": {
     "end_time": "2024-09-20T09:53:08.975207Z",
     "start_time": "2024-09-20T09:53:08.972583Z"
    }
   },
   "id": "d9d2d3aad4a2a39",
   "execution_count": 21
  },
  {
   "cell_type": "code",
   "outputs": [
    {
     "data": {
      "text/plain": "       province old_district    year  \\\n12      Bến Tre       Mỏ Cày  2009.0   \n17   Bình Dương     Tân Uyên  2013.0   \n21   Bình Thuận    Hàm Thuận  1982.0   \n45       Hà Nội      Từ Liêm  2013.0   \n99    Quảng Nam       Trà My  2003.0   \n124  Tiền Giang      Gò Công  1979.0   \n\n                                                change  \\\n12   chia tách thành huyện Mỏ Cày Bắc và huyện Mỏ C...   \n17   chia tách thành thị xã Tân Uyên và huyện Bắc T...   \n21   chia tách thành huyện Hàm Thuận Bắc và huyện H...   \n45     chia tách thành quận Bắc Từ Liêm và Nam Từ Liêm   \n99   chia tách thành huyện Bắc Trà My và huyện Nam ...   \n124  chia tách thành huyện Gò Công Đông và Gò Công Tây   \n\n     containing_keyword_two_times  \n12                              1  \n17                              1  \n21                              1  \n45                              1  \n99                              1  \n124                             1  ",
      "text/html": "<div>\n<style scoped>\n    .dataframe tbody tr th:only-of-type {\n        vertical-align: middle;\n    }\n\n    .dataframe tbody tr th {\n        vertical-align: top;\n    }\n\n    .dataframe thead th {\n        text-align: right;\n    }\n</style>\n<table border=\"1\" class=\"dataframe\">\n  <thead>\n    <tr style=\"text-align: right;\">\n      <th></th>\n      <th>province</th>\n      <th>old_district</th>\n      <th>year</th>\n      <th>change</th>\n      <th>containing_keyword_two_times</th>\n    </tr>\n  </thead>\n  <tbody>\n    <tr>\n      <th>12</th>\n      <td>Bến Tre</td>\n      <td>Mỏ Cày</td>\n      <td>2009.0</td>\n      <td>chia tách thành huyện Mỏ Cày Bắc và huyện Mỏ C...</td>\n      <td>1</td>\n    </tr>\n    <tr>\n      <th>17</th>\n      <td>Bình Dương</td>\n      <td>Tân Uyên</td>\n      <td>2013.0</td>\n      <td>chia tách thành thị xã Tân Uyên và huyện Bắc T...</td>\n      <td>1</td>\n    </tr>\n    <tr>\n      <th>21</th>\n      <td>Bình Thuận</td>\n      <td>Hàm Thuận</td>\n      <td>1982.0</td>\n      <td>chia tách thành huyện Hàm Thuận Bắc và huyện H...</td>\n      <td>1</td>\n    </tr>\n    <tr>\n      <th>45</th>\n      <td>Hà Nội</td>\n      <td>Từ Liêm</td>\n      <td>2013.0</td>\n      <td>chia tách thành quận Bắc Từ Liêm và Nam Từ Liêm</td>\n      <td>1</td>\n    </tr>\n    <tr>\n      <th>99</th>\n      <td>Quảng Nam</td>\n      <td>Trà My</td>\n      <td>2003.0</td>\n      <td>chia tách thành huyện Bắc Trà My và huyện Nam ...</td>\n      <td>1</td>\n    </tr>\n    <tr>\n      <th>124</th>\n      <td>Tiền Giang</td>\n      <td>Gò Công</td>\n      <td>1979.0</td>\n      <td>chia tách thành huyện Gò Công Đông và Gò Công Tây</td>\n      <td>1</td>\n    </tr>\n  </tbody>\n</table>\n</div>"
     },
     "execution_count": 22,
     "metadata": {},
     "output_type": "execute_result"
    }
   ],
   "source": [
    "df_split"
   ],
   "metadata": {
    "collapsed": false,
    "ExecuteTime": {
     "end_time": "2024-09-20T09:53:09.033169Z",
     "start_time": "2024-09-20T09:53:09.029726Z"
    }
   },
   "id": "d5750584e37cad3c",
   "execution_count": 22
  },
  {
   "cell_type": "code",
   "outputs": [],
   "source": [
    "# This is a particular case that is duplicated district_key\n",
    "df_split = df_split[df_split.old_district!='Tân Uyên'].copy()"
   ],
   "metadata": {
    "collapsed": false,
    "ExecuteTime": {
     "end_time": "2024-09-20T09:53:09.124744Z",
     "start_time": "2024-09-20T09:53:09.122107Z"
    }
   },
   "id": "5c7a2eb62ed3466f",
   "execution_count": 23
  },
  {
   "cell_type": "code",
   "outputs": [],
   "source": [
    "# Use Google Trend to decide new district\n",
    "df_split.loc[df_split.old_district=='Mỏ Cày', 'district_english'] = 'Mo Cay Nam'\n",
    "df_split.loc[df_split.old_district=='Hàm Thuận', 'district_english'] = 'Ham Thuan Nam'\n",
    "df_split.loc[df_split.old_district=='Từ Liêm', 'district_english'] = 'Nam Tu Liem'\n",
    "df_split.loc[df_split.old_district=='Trà My', 'district_english'] = 'Nam Tra My'\n",
    "df_split.loc[df_split.old_district=='Gò Công', 'district_english'] = 'Go Cong Tay'"
   ],
   "metadata": {
    "collapsed": false,
    "ExecuteTime": {
     "end_time": "2024-09-20T09:53:09.229781Z",
     "start_time": "2024-09-20T09:53:09.226545Z"
    }
   },
   "id": "abbc8e9419a12522",
   "execution_count": 24
  },
  {
   "cell_type": "code",
   "outputs": [
    {
     "data": {
      "text/plain": "       province old_district    year  \\\n12      Bến Tre       Mỏ Cày  2009.0   \n21   Bình Thuận    Hàm Thuận  1982.0   \n45       Hà Nội      Từ Liêm  2013.0   \n99    Quảng Nam       Trà My  2003.0   \n124  Tiền Giang      Gò Công  1979.0   \n\n                                                change  \\\n12   chia tách thành huyện Mỏ Cày Bắc và huyện Mỏ C...   \n21   chia tách thành huyện Hàm Thuận Bắc và huyện H...   \n45     chia tách thành quận Bắc Từ Liêm và Nam Từ Liêm   \n99   chia tách thành huyện Bắc Trà My và huyện Nam ...   \n124  chia tách thành huyện Gò Công Đông và Gò Công Tây   \n\n     containing_keyword_two_times district_english  \n12                              1       Mo Cay Nam  \n21                              1    Ham Thuan Nam  \n45                              1      Nam Tu Liem  \n99                              1       Nam Tra My  \n124                             1      Go Cong Tay  ",
      "text/html": "<div>\n<style scoped>\n    .dataframe tbody tr th:only-of-type {\n        vertical-align: middle;\n    }\n\n    .dataframe tbody tr th {\n        vertical-align: top;\n    }\n\n    .dataframe thead th {\n        text-align: right;\n    }\n</style>\n<table border=\"1\" class=\"dataframe\">\n  <thead>\n    <tr style=\"text-align: right;\">\n      <th></th>\n      <th>province</th>\n      <th>old_district</th>\n      <th>year</th>\n      <th>change</th>\n      <th>containing_keyword_two_times</th>\n      <th>district_english</th>\n    </tr>\n  </thead>\n  <tbody>\n    <tr>\n      <th>12</th>\n      <td>Bến Tre</td>\n      <td>Mỏ Cày</td>\n      <td>2009.0</td>\n      <td>chia tách thành huyện Mỏ Cày Bắc và huyện Mỏ C...</td>\n      <td>1</td>\n      <td>Mo Cay Nam</td>\n    </tr>\n    <tr>\n      <th>21</th>\n      <td>Bình Thuận</td>\n      <td>Hàm Thuận</td>\n      <td>1982.0</td>\n      <td>chia tách thành huyện Hàm Thuận Bắc và huyện H...</td>\n      <td>1</td>\n      <td>Ham Thuan Nam</td>\n    </tr>\n    <tr>\n      <th>45</th>\n      <td>Hà Nội</td>\n      <td>Từ Liêm</td>\n      <td>2013.0</td>\n      <td>chia tách thành quận Bắc Từ Liêm và Nam Từ Liêm</td>\n      <td>1</td>\n      <td>Nam Tu Liem</td>\n    </tr>\n    <tr>\n      <th>99</th>\n      <td>Quảng Nam</td>\n      <td>Trà My</td>\n      <td>2003.0</td>\n      <td>chia tách thành huyện Bắc Trà My và huyện Nam ...</td>\n      <td>1</td>\n      <td>Nam Tra My</td>\n    </tr>\n    <tr>\n      <th>124</th>\n      <td>Tiền Giang</td>\n      <td>Gò Công</td>\n      <td>1979.0</td>\n      <td>chia tách thành huyện Gò Công Đông và Gò Công Tây</td>\n      <td>1</td>\n      <td>Go Cong Tay</td>\n    </tr>\n  </tbody>\n</table>\n</div>"
     },
     "execution_count": 25,
     "metadata": {},
     "output_type": "execute_result"
    }
   ],
   "source": [
    "df_split"
   ],
   "metadata": {
    "collapsed": false,
    "ExecuteTime": {
     "end_time": "2024-09-20T09:53:09.383445Z",
     "start_time": "2024-09-20T09:53:09.379524Z"
    }
   },
   "id": "d903322b5fea2f07",
   "execution_count": 25
  },
  {
   "cell_type": "code",
   "outputs": [],
   "source": [
    "def find_new_district_english(text):\n",
    "    au = parse_address(text, 2)\n",
    "    return au.district_english"
   ],
   "metadata": {
    "collapsed": false,
    "ExecuteTime": {
     "end_time": "2024-09-20T09:53:09.447054Z",
     "start_time": "2024-09-20T09:53:09.444853Z"
    }
   },
   "id": "130ede664251b2e8",
   "execution_count": 26
  },
  {
   "cell_type": "code",
   "outputs": [],
   "source": [
    "def prepare_address(province, change):\n",
    "    address = re.sub(f'.* thành ', '', change) + ', ' + province\n",
    "    return address"
   ],
   "metadata": {
    "collapsed": false,
    "ExecuteTime": {
     "end_time": "2024-09-20T09:53:09.554827Z",
     "start_time": "2024-09-20T09:53:09.552042Z"
    }
   },
   "id": "f200dbeb4366198",
   "execution_count": 27
  },
  {
   "cell_type": "code",
   "outputs": [],
   "source": [
    "def create_province_english(text):\n",
    "    au = parse_address(text, 1)\n",
    "    return au.province_english"
   ],
   "metadata": {
    "collapsed": false,
    "ExecuteTime": {
     "end_time": "2024-09-20T09:53:09.618199Z",
     "start_time": "2024-09-20T09:53:09.616436Z"
    }
   },
   "id": "ceecd16d80a84002",
   "execution_count": 28
  },
  {
   "cell_type": "code",
   "outputs": [],
   "source": [
    "df_change['address'] = df_change.apply(lambda row: prepare_address(row.province, row.change), axis=1)"
   ],
   "metadata": {
    "collapsed": false,
    "ExecuteTime": {
     "end_time": "2024-09-20T09:53:09.711211Z",
     "start_time": "2024-09-20T09:53:09.707927Z"
    }
   },
   "id": "80c5a2144f1bf8c8",
   "execution_count": 29
  },
  {
   "cell_type": "code",
   "outputs": [
    {
     "data": {
      "text/plain": "              province     old_district    year  \\\n0             An Giang          Huệ Đức  1977.0   \n5    Bà Rịa – Vũng Tàu        Tân Thành  2018.0   \n7              Bắc Kạn           Chợ Rã  1984.0   \n9             Bạc Liêu         Minh Hải  1984.0   \n14          Bình Dương       Châu Thành  1977.0   \n15          Bình Dương        Lái Thiêu  1977.0   \n18          Bình Phước       Phước Bình  1977.0   \n23              Cà Mau        Ngọc Hiển  1984.0   \n26            Cao Bằng         Phục Hòa  2020.0   \n27            Cao Bằng       Quảng Uyên  2020.0   \n28            Cao Bằng       Thông Nông  2020.0   \n29            Cao Bằng         Trà Lĩnh  2020.0   \n33           Điện Biên         Lai Châu  2005.0   \n34           Điện Biên        Mường Lay  2005.0   \n35            Đồng Nai          Vĩnh An  1994.0   \n37           Đồng Tháp       Thạnh Hưng  1994.0   \n42              Hà Nam           Hà Nam  1996.0   \n43              Hà Nội          Đa Phúc  1977.0   \n44              Hà Nội          Kim Anh  1977.0   \n52           Hải Phòng           Cát Bà  1977.0   \n57           Hậu Giang         Mỹ Thanh  1982.0   \n59           Hậu Giang         Tân Hiệp  2006.0   \n60            Hòa Bình           Kỳ Sơn  2019.0   \n67           Khánh Hòa      Khánh Xương  1977.0   \n69          Kiên Giang          Hà Tiên  1999.0   \n74             Lào Cai        Cam Đường  2002.0   \n75             Long An         Tân Châu  1980.0   \n80            Nam Định           Mỹ Lộc  2024.0   \n82           Ninh Bình        Gia Khánh  1977.0   \n83           Ninh Bình       Hoàng Long  1993.0   \n84           Ninh Bình         Tam Điệp  1994.0   \n91             Phú Thọ        Sông Thao  2002.0   \n97           Quảng Nam            Giằng  1999.0   \n102         Quảng Ngãi          Tây Trà  2020.0   \n103         Quảng Ninh         Hồng Gai  1993.0   \n104         Quảng Ninh          Cẩm Phả  1994.0   \n105         Quảng Ninh         Hải Ninh  1998.0   \n107         Quảng Ninh         Yên Hưng  2011.0   \n108         Quảng Ninh         Hoành Bồ  2019.0   \n113           Tây Ninh       Phú Khương  1979.0   \n116          Thanh Hóa       Đông Thiệu  1982.0   \n120          Thanh Hóa        Thiệu Yên  1996.0   \n121          Thanh Hóa         Tĩnh Gia  2020.0   \n125    Tp. Hồ Chí Minh        Duyên Hải  1991.0   \n127    Tp. Hồ Chí Minh           Quận 2  2020.0   \n128    Tp. Hồ Chí Minh           Quận 9  2020.0   \n129    Tp. Hồ Chí Minh   Thủ Đức (quận)  2020.0   \n130           Trà Vinh  Châu Thành Đông  1977.0   \n132          Vĩnh Long         Cái Nhum  1977.0   \n133          Vĩnh Long   Châu Thành Tây  1977.0   \n134          Vĩnh Phúc         Yên Lãng  1977.0   \n\n                                                change  \\\n0                sáp nhập toàn bộ vào huyện Châu Thành   \n5        thành lập thị xã, đổi tên thành thị xã Phú Mỹ   \n7                            đổi tên thành huyện Ba Bể   \n9                        đổi tên thành thị xã Bạc Liêu   \n14   sáp nhập vào huyện Tân Uyên và thị xã Thủ Dầu Một   \n15       sáp nhập với huyện Dĩ An thành huyện Thuận An   \n18   sáp nhập với huyện Bù Đăng và huyện Bù Đốp thà...   \n23                         đổi tên thành huyện Đầm Dơi   \n26   sáp nhập với huyện Quảng Uyên thành huyện Quản...   \n27   sáp nhập với huyện Phục Hòa thành huyện Quảng Hòa   \n28                         sáp nhập vào huyện Hà Quảng   \n29                      sáp nhập vào huyện Trùng Khánh   \n33                      đổi tên thành thị xã Mường Lay   \n34                       đổi tên thành huyện Mường Chà   \n35                        đổi tên thành huyện Vĩnh Cửu   \n37                          đổi tên thành huyện Lấp Vò   \n42                         đổi tên thành thị xã Phủ Lý   \n43      sáp nhập với huyện Kim Anh thành huyện Sóc Sơn   \n44      sáp nhập với huyện Đa Phúc thành huyện Sóc Sơn   \n52                          sáp nhập vào huyện Cát Hải   \n57                        đổi tên thành huyện Vị Thanh   \n59                        đổi tên thành thị xã Ngã Bảy   \n60                     sáp nhập vào thành phố Hòa Bình   \n67   sáp nhập với huyện Khánh Vĩnh thành huyện Diên...   \n69                      đổi tên thành huyện Kiên Lương   \n74                         sáp nhập với thị xã Lào Cai   \n75                          đổi tên thành huyện Vàm Cỏ   \n80                     sáp nhập vào thành phố Nam Định   \n82    sáp nhập với thị xã Ninh Bình thành huyện Hoa Lư   \n83                        đổi tên thành huyện Nho Quan   \n84                          đổi tên thành huyện Yên Mô   \n91                         đổi tên thành huyện Cẩm Khê   \n97                       đổi tên thành huyện Nam Giang   \n102                        sáp nhập vào huyện Trà Bồng   \n103  thành lập thành phố, đổi tên thành thành phố H...   \n104                        đổi tên thành huyện Vân Đồn   \n105    thành lập thị xã, đổi tên thành thị xã Móng Cái   \n107   thành lập thị xã, đổi tên thành thị xã Quảng Yên   \n108                     sáp nhập vào thành phố Hạ Long   \n113                      đổi tên thành huyện Hòa Thành   \n116                       đổi tên thành huyện Đông Sơn   \n120                       đổi tên thành huyện Yên Định   \n121    thành lập thị xã, đổi tên thành thị xã Nghi Sơn   \n125                        đổi tên thành huyện Cần Giờ   \n127  sáp nhập với Quận 9 và quận Thủ Đức thành thàn...   \n128  sáp nhập với Quận 2 và quận Thủ Đức thành thàn...   \n129  sáp nhập với Quận 2 và Quận 9 thành thành phố ...   \n130    sáp nhập vào huyện Càng Long và huyện Cầu Ngang   \n132  sáp nhập với huyện Châu Thành Tây thành huyện ...   \n133    sáp nhập với huyện Cái Nhum thành huyện Long Hồ   \n134  sáp nhập với huyện Bình Xuyên thành huyện Mê Linh   \n\n     containing_keyword_two_times  \\\n0                               0   \n5                               0   \n7                               0   \n9                               0   \n14                              0   \n15                              0   \n18                              0   \n23                              0   \n26                              0   \n27                              0   \n28                              0   \n29                              0   \n33                              0   \n34                              0   \n35                              0   \n37                              0   \n42                              0   \n43                              0   \n44                              0   \n52                              0   \n57                              0   \n59                              0   \n60                              0   \n67                              0   \n69                              0   \n74                              0   \n75                              0   \n80                              0   \n82                              0   \n83                              0   \n84                              0   \n91                              0   \n97                              0   \n102                             0   \n103                             0   \n104                             0   \n105                             0   \n107                             0   \n108                             0   \n113                             0   \n116                             0   \n120                             0   \n121                             0   \n125                             0   \n127                             0   \n128                             0   \n129                             0   \n130                             0   \n132                             0   \n133                             0   \n134                             0   \n\n                                               address  \n0      sáp nhập toàn bộ vào huyện Châu Thành, An Giang  \n5                     thị xã Phú Mỹ, Bà Rịa – Vũng Tàu  \n7                                 huyện Ba Bể, Bắc Kạn  \n9                            thị xã Bạc Liêu, Bạc Liêu  \n14   sáp nhập vào huyện Tân Uyên và thị xã Thủ Dầu ...  \n15                          huyện Thuận An, Bình Dương  \n18                        huyện Phước Long, Bình Phước  \n23                               huyện Đầm Dơi, Cà Mau  \n26                           huyện Quảng Hòa, Cao Bằng  \n27                           huyện Quảng Hòa, Cao Bằng  \n28               sáp nhập vào huyện Hà Quảng, Cao Bằng  \n29            sáp nhập vào huyện Trùng Khánh, Cao Bằng  \n33                         thị xã Mường Lay, Điện Biên  \n34                          huyện Mường Chà, Điện Biên  \n35                            huyện Vĩnh Cửu, Đồng Nai  \n37                             huyện Lấp Vò, Đồng Tháp  \n42                               thị xã Phủ Lý, Hà Nam  \n43                               huyện Sóc Sơn, Hà Nội  \n44                               huyện Sóc Sơn, Hà Nội  \n52               sáp nhập vào huyện Cát Hải, Hải Phòng  \n57                           huyện Vị Thanh, Hậu Giang  \n59                           thị xã Ngã Bảy, Hậu Giang  \n60                              phố Hòa Bình, Hòa Bình  \n67                         huyện Diên Khánh, Khánh Hòa  \n69                        huyện Kiên Lương, Kiên Giang  \n74                sáp nhập với thị xã Lào Cai, Lào Cai  \n75                               huyện Vàm Cỏ, Long An  \n80                              phố Nam Định, Nam Định  \n82                             huyện Hoa Lư, Ninh Bình  \n83                           huyện Nho Quan, Ninh Bình  \n84                             huyện Yên Mô, Ninh Bình  \n91                              huyện Cẩm Khê, Phú Thọ  \n97                          huyện Nam Giang, Quảng Nam  \n102            sáp nhập vào huyện Trà Bồng, Quảng Ngãi  \n103                            phố Hạ Long, Quảng Ninh  \n104                          huyện Vân Đồn, Quảng Ninh  \n105                        thị xã Móng Cái, Quảng Ninh  \n107                       thị xã Quảng Yên, Quảng Ninh  \n108                            phố Hạ Long, Quảng Ninh  \n113                          huyện Hòa Thành, Tây Ninh  \n116                          huyện Đông Sơn, Thanh Hóa  \n120                          huyện Yên Định, Thanh Hóa  \n121                         thị xã Nghi Sơn, Thanh Hóa  \n125                     huyện Cần Giờ, Tp. Hồ Chí Minh  \n127                       phố Thủ Đức, Tp. Hồ Chí Minh  \n128                       phố Thủ Đức, Tp. Hồ Chí Minh  \n129                       phố Thủ Đức, Tp. Hồ Chí Minh  \n130  sáp nhập vào huyện Càng Long và huyện Cầu Ngan...  \n132                           huyện Long Hồ, Vĩnh Long  \n133                           huyện Long Hồ, Vĩnh Long  \n134                           huyện Mê Linh, Vĩnh Phúc  ",
      "text/html": "<div>\n<style scoped>\n    .dataframe tbody tr th:only-of-type {\n        vertical-align: middle;\n    }\n\n    .dataframe tbody tr th {\n        vertical-align: top;\n    }\n\n    .dataframe thead th {\n        text-align: right;\n    }\n</style>\n<table border=\"1\" class=\"dataframe\">\n  <thead>\n    <tr style=\"text-align: right;\">\n      <th></th>\n      <th>province</th>\n      <th>old_district</th>\n      <th>year</th>\n      <th>change</th>\n      <th>containing_keyword_two_times</th>\n      <th>address</th>\n    </tr>\n  </thead>\n  <tbody>\n    <tr>\n      <th>0</th>\n      <td>An Giang</td>\n      <td>Huệ Đức</td>\n      <td>1977.0</td>\n      <td>sáp nhập toàn bộ vào huyện Châu Thành</td>\n      <td>0</td>\n      <td>sáp nhập toàn bộ vào huyện Châu Thành, An Giang</td>\n    </tr>\n    <tr>\n      <th>5</th>\n      <td>Bà Rịa – Vũng Tàu</td>\n      <td>Tân Thành</td>\n      <td>2018.0</td>\n      <td>thành lập thị xã, đổi tên thành thị xã Phú Mỹ</td>\n      <td>0</td>\n      <td>thị xã Phú Mỹ, Bà Rịa – Vũng Tàu</td>\n    </tr>\n    <tr>\n      <th>7</th>\n      <td>Bắc Kạn</td>\n      <td>Chợ Rã</td>\n      <td>1984.0</td>\n      <td>đổi tên thành huyện Ba Bể</td>\n      <td>0</td>\n      <td>huyện Ba Bể, Bắc Kạn</td>\n    </tr>\n    <tr>\n      <th>9</th>\n      <td>Bạc Liêu</td>\n      <td>Minh Hải</td>\n      <td>1984.0</td>\n      <td>đổi tên thành thị xã Bạc Liêu</td>\n      <td>0</td>\n      <td>thị xã Bạc Liêu, Bạc Liêu</td>\n    </tr>\n    <tr>\n      <th>14</th>\n      <td>Bình Dương</td>\n      <td>Châu Thành</td>\n      <td>1977.0</td>\n      <td>sáp nhập vào huyện Tân Uyên và thị xã Thủ Dầu Một</td>\n      <td>0</td>\n      <td>sáp nhập vào huyện Tân Uyên và thị xã Thủ Dầu ...</td>\n    </tr>\n    <tr>\n      <th>15</th>\n      <td>Bình Dương</td>\n      <td>Lái Thiêu</td>\n      <td>1977.0</td>\n      <td>sáp nhập với huyện Dĩ An thành huyện Thuận An</td>\n      <td>0</td>\n      <td>huyện Thuận An, Bình Dương</td>\n    </tr>\n    <tr>\n      <th>18</th>\n      <td>Bình Phước</td>\n      <td>Phước Bình</td>\n      <td>1977.0</td>\n      <td>sáp nhập với huyện Bù Đăng và huyện Bù Đốp thà...</td>\n      <td>0</td>\n      <td>huyện Phước Long, Bình Phước</td>\n    </tr>\n    <tr>\n      <th>23</th>\n      <td>Cà Mau</td>\n      <td>Ngọc Hiển</td>\n      <td>1984.0</td>\n      <td>đổi tên thành huyện Đầm Dơi</td>\n      <td>0</td>\n      <td>huyện Đầm Dơi, Cà Mau</td>\n    </tr>\n    <tr>\n      <th>26</th>\n      <td>Cao Bằng</td>\n      <td>Phục Hòa</td>\n      <td>2020.0</td>\n      <td>sáp nhập với huyện Quảng Uyên thành huyện Quản...</td>\n      <td>0</td>\n      <td>huyện Quảng Hòa, Cao Bằng</td>\n    </tr>\n    <tr>\n      <th>27</th>\n      <td>Cao Bằng</td>\n      <td>Quảng Uyên</td>\n      <td>2020.0</td>\n      <td>sáp nhập với huyện Phục Hòa thành huyện Quảng Hòa</td>\n      <td>0</td>\n      <td>huyện Quảng Hòa, Cao Bằng</td>\n    </tr>\n    <tr>\n      <th>28</th>\n      <td>Cao Bằng</td>\n      <td>Thông Nông</td>\n      <td>2020.0</td>\n      <td>sáp nhập vào huyện Hà Quảng</td>\n      <td>0</td>\n      <td>sáp nhập vào huyện Hà Quảng, Cao Bằng</td>\n    </tr>\n    <tr>\n      <th>29</th>\n      <td>Cao Bằng</td>\n      <td>Trà Lĩnh</td>\n      <td>2020.0</td>\n      <td>sáp nhập vào huyện Trùng Khánh</td>\n      <td>0</td>\n      <td>sáp nhập vào huyện Trùng Khánh, Cao Bằng</td>\n    </tr>\n    <tr>\n      <th>33</th>\n      <td>Điện Biên</td>\n      <td>Lai Châu</td>\n      <td>2005.0</td>\n      <td>đổi tên thành thị xã Mường Lay</td>\n      <td>0</td>\n      <td>thị xã Mường Lay, Điện Biên</td>\n    </tr>\n    <tr>\n      <th>34</th>\n      <td>Điện Biên</td>\n      <td>Mường Lay</td>\n      <td>2005.0</td>\n      <td>đổi tên thành huyện Mường Chà</td>\n      <td>0</td>\n      <td>huyện Mường Chà, Điện Biên</td>\n    </tr>\n    <tr>\n      <th>35</th>\n      <td>Đồng Nai</td>\n      <td>Vĩnh An</td>\n      <td>1994.0</td>\n      <td>đổi tên thành huyện Vĩnh Cửu</td>\n      <td>0</td>\n      <td>huyện Vĩnh Cửu, Đồng Nai</td>\n    </tr>\n    <tr>\n      <th>37</th>\n      <td>Đồng Tháp</td>\n      <td>Thạnh Hưng</td>\n      <td>1994.0</td>\n      <td>đổi tên thành huyện Lấp Vò</td>\n      <td>0</td>\n      <td>huyện Lấp Vò, Đồng Tháp</td>\n    </tr>\n    <tr>\n      <th>42</th>\n      <td>Hà Nam</td>\n      <td>Hà Nam</td>\n      <td>1996.0</td>\n      <td>đổi tên thành thị xã Phủ Lý</td>\n      <td>0</td>\n      <td>thị xã Phủ Lý, Hà Nam</td>\n    </tr>\n    <tr>\n      <th>43</th>\n      <td>Hà Nội</td>\n      <td>Đa Phúc</td>\n      <td>1977.0</td>\n      <td>sáp nhập với huyện Kim Anh thành huyện Sóc Sơn</td>\n      <td>0</td>\n      <td>huyện Sóc Sơn, Hà Nội</td>\n    </tr>\n    <tr>\n      <th>44</th>\n      <td>Hà Nội</td>\n      <td>Kim Anh</td>\n      <td>1977.0</td>\n      <td>sáp nhập với huyện Đa Phúc thành huyện Sóc Sơn</td>\n      <td>0</td>\n      <td>huyện Sóc Sơn, Hà Nội</td>\n    </tr>\n    <tr>\n      <th>52</th>\n      <td>Hải Phòng</td>\n      <td>Cát Bà</td>\n      <td>1977.0</td>\n      <td>sáp nhập vào huyện Cát Hải</td>\n      <td>0</td>\n      <td>sáp nhập vào huyện Cát Hải, Hải Phòng</td>\n    </tr>\n    <tr>\n      <th>57</th>\n      <td>Hậu Giang</td>\n      <td>Mỹ Thanh</td>\n      <td>1982.0</td>\n      <td>đổi tên thành huyện Vị Thanh</td>\n      <td>0</td>\n      <td>huyện Vị Thanh, Hậu Giang</td>\n    </tr>\n    <tr>\n      <th>59</th>\n      <td>Hậu Giang</td>\n      <td>Tân Hiệp</td>\n      <td>2006.0</td>\n      <td>đổi tên thành thị xã Ngã Bảy</td>\n      <td>0</td>\n      <td>thị xã Ngã Bảy, Hậu Giang</td>\n    </tr>\n    <tr>\n      <th>60</th>\n      <td>Hòa Bình</td>\n      <td>Kỳ Sơn</td>\n      <td>2019.0</td>\n      <td>sáp nhập vào thành phố Hòa Bình</td>\n      <td>0</td>\n      <td>phố Hòa Bình, Hòa Bình</td>\n    </tr>\n    <tr>\n      <th>67</th>\n      <td>Khánh Hòa</td>\n      <td>Khánh Xương</td>\n      <td>1977.0</td>\n      <td>sáp nhập với huyện Khánh Vĩnh thành huyện Diên...</td>\n      <td>0</td>\n      <td>huyện Diên Khánh, Khánh Hòa</td>\n    </tr>\n    <tr>\n      <th>69</th>\n      <td>Kiên Giang</td>\n      <td>Hà Tiên</td>\n      <td>1999.0</td>\n      <td>đổi tên thành huyện Kiên Lương</td>\n      <td>0</td>\n      <td>huyện Kiên Lương, Kiên Giang</td>\n    </tr>\n    <tr>\n      <th>74</th>\n      <td>Lào Cai</td>\n      <td>Cam Đường</td>\n      <td>2002.0</td>\n      <td>sáp nhập với thị xã Lào Cai</td>\n      <td>0</td>\n      <td>sáp nhập với thị xã Lào Cai, Lào Cai</td>\n    </tr>\n    <tr>\n      <th>75</th>\n      <td>Long An</td>\n      <td>Tân Châu</td>\n      <td>1980.0</td>\n      <td>đổi tên thành huyện Vàm Cỏ</td>\n      <td>0</td>\n      <td>huyện Vàm Cỏ, Long An</td>\n    </tr>\n    <tr>\n      <th>80</th>\n      <td>Nam Định</td>\n      <td>Mỹ Lộc</td>\n      <td>2024.0</td>\n      <td>sáp nhập vào thành phố Nam Định</td>\n      <td>0</td>\n      <td>phố Nam Định, Nam Định</td>\n    </tr>\n    <tr>\n      <th>82</th>\n      <td>Ninh Bình</td>\n      <td>Gia Khánh</td>\n      <td>1977.0</td>\n      <td>sáp nhập với thị xã Ninh Bình thành huyện Hoa Lư</td>\n      <td>0</td>\n      <td>huyện Hoa Lư, Ninh Bình</td>\n    </tr>\n    <tr>\n      <th>83</th>\n      <td>Ninh Bình</td>\n      <td>Hoàng Long</td>\n      <td>1993.0</td>\n      <td>đổi tên thành huyện Nho Quan</td>\n      <td>0</td>\n      <td>huyện Nho Quan, Ninh Bình</td>\n    </tr>\n    <tr>\n      <th>84</th>\n      <td>Ninh Bình</td>\n      <td>Tam Điệp</td>\n      <td>1994.0</td>\n      <td>đổi tên thành huyện Yên Mô</td>\n      <td>0</td>\n      <td>huyện Yên Mô, Ninh Bình</td>\n    </tr>\n    <tr>\n      <th>91</th>\n      <td>Phú Thọ</td>\n      <td>Sông Thao</td>\n      <td>2002.0</td>\n      <td>đổi tên thành huyện Cẩm Khê</td>\n      <td>0</td>\n      <td>huyện Cẩm Khê, Phú Thọ</td>\n    </tr>\n    <tr>\n      <th>97</th>\n      <td>Quảng Nam</td>\n      <td>Giằng</td>\n      <td>1999.0</td>\n      <td>đổi tên thành huyện Nam Giang</td>\n      <td>0</td>\n      <td>huyện Nam Giang, Quảng Nam</td>\n    </tr>\n    <tr>\n      <th>102</th>\n      <td>Quảng Ngãi</td>\n      <td>Tây Trà</td>\n      <td>2020.0</td>\n      <td>sáp nhập vào huyện Trà Bồng</td>\n      <td>0</td>\n      <td>sáp nhập vào huyện Trà Bồng, Quảng Ngãi</td>\n    </tr>\n    <tr>\n      <th>103</th>\n      <td>Quảng Ninh</td>\n      <td>Hồng Gai</td>\n      <td>1993.0</td>\n      <td>thành lập thành phố, đổi tên thành thành phố H...</td>\n      <td>0</td>\n      <td>phố Hạ Long, Quảng Ninh</td>\n    </tr>\n    <tr>\n      <th>104</th>\n      <td>Quảng Ninh</td>\n      <td>Cẩm Phả</td>\n      <td>1994.0</td>\n      <td>đổi tên thành huyện Vân Đồn</td>\n      <td>0</td>\n      <td>huyện Vân Đồn, Quảng Ninh</td>\n    </tr>\n    <tr>\n      <th>105</th>\n      <td>Quảng Ninh</td>\n      <td>Hải Ninh</td>\n      <td>1998.0</td>\n      <td>thành lập thị xã, đổi tên thành thị xã Móng Cái</td>\n      <td>0</td>\n      <td>thị xã Móng Cái, Quảng Ninh</td>\n    </tr>\n    <tr>\n      <th>107</th>\n      <td>Quảng Ninh</td>\n      <td>Yên Hưng</td>\n      <td>2011.0</td>\n      <td>thành lập thị xã, đổi tên thành thị xã Quảng Yên</td>\n      <td>0</td>\n      <td>thị xã Quảng Yên, Quảng Ninh</td>\n    </tr>\n    <tr>\n      <th>108</th>\n      <td>Quảng Ninh</td>\n      <td>Hoành Bồ</td>\n      <td>2019.0</td>\n      <td>sáp nhập vào thành phố Hạ Long</td>\n      <td>0</td>\n      <td>phố Hạ Long, Quảng Ninh</td>\n    </tr>\n    <tr>\n      <th>113</th>\n      <td>Tây Ninh</td>\n      <td>Phú Khương</td>\n      <td>1979.0</td>\n      <td>đổi tên thành huyện Hòa Thành</td>\n      <td>0</td>\n      <td>huyện Hòa Thành, Tây Ninh</td>\n    </tr>\n    <tr>\n      <th>116</th>\n      <td>Thanh Hóa</td>\n      <td>Đông Thiệu</td>\n      <td>1982.0</td>\n      <td>đổi tên thành huyện Đông Sơn</td>\n      <td>0</td>\n      <td>huyện Đông Sơn, Thanh Hóa</td>\n    </tr>\n    <tr>\n      <th>120</th>\n      <td>Thanh Hóa</td>\n      <td>Thiệu Yên</td>\n      <td>1996.0</td>\n      <td>đổi tên thành huyện Yên Định</td>\n      <td>0</td>\n      <td>huyện Yên Định, Thanh Hóa</td>\n    </tr>\n    <tr>\n      <th>121</th>\n      <td>Thanh Hóa</td>\n      <td>Tĩnh Gia</td>\n      <td>2020.0</td>\n      <td>thành lập thị xã, đổi tên thành thị xã Nghi Sơn</td>\n      <td>0</td>\n      <td>thị xã Nghi Sơn, Thanh Hóa</td>\n    </tr>\n    <tr>\n      <th>125</th>\n      <td>Tp. Hồ Chí Minh</td>\n      <td>Duyên Hải</td>\n      <td>1991.0</td>\n      <td>đổi tên thành huyện Cần Giờ</td>\n      <td>0</td>\n      <td>huyện Cần Giờ, Tp. Hồ Chí Minh</td>\n    </tr>\n    <tr>\n      <th>127</th>\n      <td>Tp. Hồ Chí Minh</td>\n      <td>Quận 2</td>\n      <td>2020.0</td>\n      <td>sáp nhập với Quận 9 và quận Thủ Đức thành thàn...</td>\n      <td>0</td>\n      <td>phố Thủ Đức, Tp. Hồ Chí Minh</td>\n    </tr>\n    <tr>\n      <th>128</th>\n      <td>Tp. Hồ Chí Minh</td>\n      <td>Quận 9</td>\n      <td>2020.0</td>\n      <td>sáp nhập với Quận 2 và quận Thủ Đức thành thàn...</td>\n      <td>0</td>\n      <td>phố Thủ Đức, Tp. Hồ Chí Minh</td>\n    </tr>\n    <tr>\n      <th>129</th>\n      <td>Tp. Hồ Chí Minh</td>\n      <td>Thủ Đức (quận)</td>\n      <td>2020.0</td>\n      <td>sáp nhập với Quận 2 và Quận 9 thành thành phố ...</td>\n      <td>0</td>\n      <td>phố Thủ Đức, Tp. Hồ Chí Minh</td>\n    </tr>\n    <tr>\n      <th>130</th>\n      <td>Trà Vinh</td>\n      <td>Châu Thành Đông</td>\n      <td>1977.0</td>\n      <td>sáp nhập vào huyện Càng Long và huyện Cầu Ngang</td>\n      <td>0</td>\n      <td>sáp nhập vào huyện Càng Long và huyện Cầu Ngan...</td>\n    </tr>\n    <tr>\n      <th>132</th>\n      <td>Vĩnh Long</td>\n      <td>Cái Nhum</td>\n      <td>1977.0</td>\n      <td>sáp nhập với huyện Châu Thành Tây thành huyện ...</td>\n      <td>0</td>\n      <td>huyện Long Hồ, Vĩnh Long</td>\n    </tr>\n    <tr>\n      <th>133</th>\n      <td>Vĩnh Long</td>\n      <td>Châu Thành Tây</td>\n      <td>1977.0</td>\n      <td>sáp nhập với huyện Cái Nhum thành huyện Long Hồ</td>\n      <td>0</td>\n      <td>huyện Long Hồ, Vĩnh Long</td>\n    </tr>\n    <tr>\n      <th>134</th>\n      <td>Vĩnh Phúc</td>\n      <td>Yên Lãng</td>\n      <td>1977.0</td>\n      <td>sáp nhập với huyện Bình Xuyên thành huyện Mê Linh</td>\n      <td>0</td>\n      <td>huyện Mê Linh, Vĩnh Phúc</td>\n    </tr>\n  </tbody>\n</table>\n</div>"
     },
     "execution_count": 30,
     "metadata": {},
     "output_type": "execute_result"
    }
   ],
   "source": [
    "df_change"
   ],
   "metadata": {
    "collapsed": false,
    "ExecuteTime": {
     "end_time": "2024-09-20T09:53:09.908307Z",
     "start_time": "2024-09-20T09:53:09.901108Z"
    }
   },
   "id": "7c45627e1f657c72",
   "execution_count": 30
  },
  {
   "cell_type": "code",
   "outputs": [],
   "source": [
    "df_change = df_change[df_change.old_district!='Thủ Đức (quận)'].copy()"
   ],
   "metadata": {
    "collapsed": false,
    "ExecuteTime": {
     "end_time": "2024-09-20T09:53:09.987462Z",
     "start_time": "2024-09-20T09:53:09.985428Z"
    }
   },
   "id": "5503e7c5bfa6b34d",
   "execution_count": 31
  },
  {
   "cell_type": "code",
   "outputs": [
    {
     "name": "stdout",
     "output_type": "stream",
     "text": [
      "sapnhaptoanbovaohuyen,\n",
      "thixa,\n",
      "huyen,\n",
      "thixa,\n",
      "sapnhapvaohuyentanuyenvathixa,\n",
      "huyen,\n",
      "huyen,\n",
      "huyen,\n",
      "huyen,\n",
      "huyen,\n",
      "sapnhapvaohuyen,\n",
      "sapnhapvaohuyen,\n",
      "thixa,\n",
      "huyen,\n",
      "huyen,\n",
      "huyen,\n",
      "thixa,\n",
      "huyen,\n",
      "huyen,\n",
      "sapnhapvaohuyen,\n",
      "huyen,\n",
      "thixa,\n",
      "pho,\n",
      "huyen,\n",
      "huyen,\n",
      "sapnhapvoithixa,\n",
      "pho,\n",
      "huyen,\n",
      "huyen,\n",
      "huyen,\n",
      "huyen,\n",
      "huyen,\n",
      "sapnhapvaohuyen,\n",
      "pho,\n",
      "huyen,\n",
      "thixa,\n",
      "thixa,\n",
      "pho,\n",
      "huyen,\n",
      "huyen,\n",
      "huyen,\n",
      "thixa,\n",
      "huyen,tp.\n",
      "pho,tp.\n",
      "pho,tp.\n",
      "sapnhapvaohuyencanglongvahuyen,\n",
      "huyen,\n",
      "huyen,\n"
     ]
    }
   ],
   "source": [
    "df_change['district_english'] = df_change.address.apply(find_new_district_english)"
   ],
   "metadata": {
    "collapsed": false,
    "ExecuteTime": {
     "end_time": "2024-09-20T09:53:10.151618Z",
     "start_time": "2024-09-20T09:53:10.143452Z"
    }
   },
   "id": "dda40bcde7ec5f67",
   "execution_count": 32
  },
  {
   "cell_type": "markdown",
   "source": [
    "After doing research, I found district_english `None` are fine, because they are moved to another province or revert it's changing."
   ],
   "metadata": {
    "collapsed": false
   },
   "id": "b7dec248193b5f14"
  },
  {
   "cell_type": "code",
   "outputs": [],
   "source": [
    "df_change.dropna(inplace=True)"
   ],
   "metadata": {
    "collapsed": false,
    "ExecuteTime": {
     "end_time": "2024-09-20T09:53:10.232982Z",
     "start_time": "2024-09-20T09:53:10.230034Z"
    }
   },
   "id": "7572f49ea48f23f5",
   "execution_count": 33
  },
  {
   "cell_type": "code",
   "outputs": [],
   "source": [
    "df_change.dropna(inplace=True)\n",
    "df_all = pd.concat([df_change, df_split])\n",
    "df_all['province_english'] = df_all.province.apply(create_province_english)\n",
    "df_all['district_key'] = df_all.old_district.apply(to_key, args=(2,))"
   ],
   "metadata": {
    "collapsed": false,
    "ExecuteTime": {
     "end_time": "2024-09-20T09:53:10.538576Z",
     "start_time": "2024-09-20T09:53:10.530235Z"
    }
   },
   "id": "cf65efe35a723fbf",
   "execution_count": 34
  },
  {
   "cell_type": "code",
   "outputs": [],
   "source": [
    "district_alias_keys = [tuple(i) for i in  df_all[['province_english', 'district_english', 'district_key']].values.tolist()]"
   ],
   "metadata": {
    "collapsed": false,
    "ExecuteTime": {
     "end_time": "2024-09-20T09:53:10.712372Z",
     "start_time": "2024-09-20T09:53:10.708984Z"
    }
   },
   "id": "feef68d87866d4bd",
   "execution_count": 35
  },
  {
   "cell_type": "code",
   "outputs": [
    {
     "data": {
      "text/plain": "[('An Giang', 'Chau Thanh', 'hueduc'),\n ('Ba Ria - Vung Tau', 'Phu My', 'tanthanh'),\n ('Bac Kan', 'Ba Be', 'chora'),\n ('Bac Lieu', 'Bac Lieu', 'minhhai'),\n ('Binh Duong', 'Thu Dau Mot', 'chauthanh'),\n ('Binh Duong', 'Thuan An', 'laithieu'),\n ('Binh Phuoc', 'Phuoc Long', 'phuocbinh'),\n ('Ca Mau', 'Dam Doi', 'ngochien'),\n ('Cao Bang', 'Quang Hoa', 'phuchoa'),\n ('Cao Bang', 'Quang Hoa', 'quanguyen'),\n ('Cao Bang', 'Ha Quang', 'thongnong'),\n ('Cao Bang', 'Trung Khanh', 'tralinh'),\n ('Dien Bien', 'Muong Lay', 'laichau'),\n ('Dien Bien', 'Muong Cha', 'muonglay'),\n ('Dong Nai', 'Vinh Cuu', 'vinhan'),\n ('Dong Thap', 'Lap Vo', 'thanhhung'),\n ('Ha Nam', 'Phu Ly', 'hanam'),\n ('Ha Noi', 'Soc Son', 'daphuc'),\n ('Ha Noi', 'Soc Son', 'kimanh'),\n ('Hai Phong', 'Cat Hai', 'catba'),\n ('Hau Giang', 'Vi Thanh', 'mythanh'),\n ('Hau Giang', 'Nga Bay', 'tanhiep'),\n ('Hoa Binh', 'Hoa Binh', 'kyson'),\n ('Khanh Hoa', 'Dien Khanh', 'khanhxuong'),\n ('Kien Giang', 'Kien Luong', 'hatien'),\n ('Lao Cai', 'Lao Cai', 'camduong'),\n ('Nam Dinh', 'Nam Dinh', 'myloc'),\n ('Ninh Binh', 'Hoa Lu', 'giakhanh'),\n ('Ninh Binh', 'Nho Quan', 'hoanglong'),\n ('Ninh Binh', 'Yen Mo', 'tamdiep'),\n ('Phu Tho', 'Cam Khe', 'songthao'),\n ('Quang Nam', 'Nam Giang', 'giang'),\n ('Quang Ngai', 'Tra Bong', 'taytra'),\n ('Quang Ninh', 'Ha Long', 'honggai'),\n ('Quang Ninh', 'Van Don', 'campha'),\n ('Quang Ninh', 'Mong Cai', 'haininh'),\n ('Quang Ninh', 'Quang Yen', 'yenhung'),\n ('Quang Ninh', 'Ha Long', 'hoanhbo'),\n ('Tay Ninh', 'Hoa Thanh', 'phukhuong'),\n ('Thanh Hoa', 'Dong Son', 'dongthieu'),\n ('Thanh Hoa', 'Yen Dinh', 'thieuyen'),\n ('Thanh Hoa', 'Nghi Son', 'tinhgia'),\n ('Ho Chi Minh', 'Can Gio', 'duyenhai'),\n ('Ho Chi Minh', 'Thu Duc', 'quan2'),\n ('Ho Chi Minh', 'Thu Duc', 'quan9'),\n ('Tra Vinh', 'Cau Ngang', 'chauthanhdong'),\n ('Vinh Long', 'Long Ho', 'cainhum'),\n ('Vinh Long', 'Long Ho', 'chauthanhtay'),\n ('Ben Tre', 'Mo Cay Nam', 'mocay'),\n ('Binh Thuan', 'Ham Thuan Nam', 'hamthuan'),\n ('Ha Noi', 'Nam Tu Liem', 'tuliem'),\n ('Quang Nam', 'Nam Tra My', 'tramy'),\n ('Tien Giang', 'Go Cong Tay', 'gocong')]"
     },
     "execution_count": 36,
     "metadata": {},
     "output_type": "execute_result"
    }
   ],
   "source": [
    "district_alias_keys"
   ],
   "metadata": {
    "collapsed": false,
    "ExecuteTime": {
     "end_time": "2024-09-20T09:53:10.804856Z",
     "start_time": "2024-09-20T09:53:10.795963Z"
    }
   },
   "id": "ac47c7c1aac815c6",
   "execution_count": 36
  },
  {
   "cell_type": "code",
   "outputs": [],
   "source": [
    "df_split['old_district_key'] = df_split['old_district'].apply(to_key, args=(2,))"
   ],
   "metadata": {
    "collapsed": false,
    "ExecuteTime": {
     "end_time": "2024-09-20T09:53:10.932721Z",
     "start_time": "2024-09-20T09:53:10.928929Z"
    }
   },
   "id": "f4b06b1dd2e7947e",
   "execution_count": 37
  },
  {
   "cell_type": "code",
   "outputs": [],
   "source": [
    "# Pickle\n",
    "half_district_keys = {}\n",
    "for old_district_key in df_split['old_district_key'].unique().tolist():\n",
    "    df_temp = df[df.district_key.str.contains(old_district_key)]\n",
    "    district_keys =  df_temp.district_key.unique().tolist()\n",
    "    district_key_data = {}\n",
    "    for district_key in district_keys:\n",
    "        district_key_data[district_key] = df_temp[df_temp.district_key==district_key]['ward_key'].unique().tolist()\n",
    "    half_district_keys[old_district_key] = district_key_data"
   ],
   "metadata": {
    "collapsed": false,
    "ExecuteTime": {
     "end_time": "2024-09-20T09:53:11.125094Z",
     "start_time": "2024-09-20T09:53:11.109959Z"
    }
   },
   "id": "b76199d1d5d1f288",
   "execution_count": 38
  },
  {
   "cell_type": "code",
   "outputs": [
    {
     "data": {
      "text/plain": "{'mocay': {'mocaynam': ['mocay',\n   'dinhthuy',\n   'daphuochoi',\n   'tanhoi',\n   'phuochiep',\n   'binhkhanh',\n   'anthanh',\n   'andinh',\n   'thanhthoib',\n   'tantrung',\n   'anthoi',\n   'thanhthoia',\n   'minhduc',\n   'ngaidang',\n   'camson',\n   'huongmy'],\n  'mocaybac': ['phumy',\n   'hungkhanhtrunga',\n   'thanhtan',\n   'thanhngai',\n   'tanphutay',\n   'phuocmytrung',\n   'tanthanhbinh',\n   'thanhan',\n   'hoaloc',\n   'tanthanhtay',\n   'tanbinh',\n   'nhuanphutan',\n   'khanhthanhtan']},\n 'hamthuan': {'hamthuanbac': ['malam',\n   'phulong',\n   'lada',\n   'dongtien',\n   'thuanhoa',\n   'donggiang',\n   'hamphu',\n   'hongliem',\n   'thuanminh',\n   'hongson',\n   'hamtri',\n   'hamduc',\n   'hamliem',\n   'hamchinh',\n   'hamhiep',\n   'hamthang',\n   'dami'],\n  'hamthuannam': ['thuannam',\n   'mythanh',\n   'hamcan',\n   'muongman',\n   'hamthanh',\n   'hamkiem',\n   'hamcuong',\n   'hammy',\n   'tanlap',\n   'hamminh',\n   'thuanquy',\n   'tanthuan',\n   'tanthanh']},\n 'tuliem': {'namtuliem': ['caudien',\n   'xuanphuong',\n   'phuongcanh',\n   'mydinh1',\n   'mydinh2',\n   'taymo',\n   'metri',\n   'phudo',\n   'daimo',\n   'trungvan'],\n  'bactuliem': ['thuongcat',\n   'lienmac',\n   'dongngac',\n   'ducthang',\n   'thuyphuong',\n   'taytuu',\n   'xuandinh',\n   'xuantao',\n   'minhkhai',\n   'conhue1',\n   'conhue2',\n   'phudien',\n   'phucdien']},\n 'tramy': {'bactramy': ['tramy',\n   'trason',\n   'trakot',\n   'tranu',\n   'tradong',\n   'traduong',\n   'tragiang',\n   'trabui',\n   'tradoc',\n   'tratan',\n   'tragiac',\n   'tragiap',\n   'traka'],\n  'namtramy': ['traleng',\n   'tradon',\n   'tratap',\n   'tramai',\n   'tracang',\n   'tralinh',\n   'tranam',\n   'travan',\n   'travinh']},\n 'gocong': {'gocong': ['phuong2',\n   'phuong1',\n   'phuong5',\n   'longhung',\n   'longthuan',\n   'longchanh',\n   'longhoa',\n   'binhdong',\n   'binhxuan',\n   'tantrung'],\n  'gocongtay': ['vinhbinh',\n   'dongson',\n   'binhphu',\n   'dongthanh',\n   'thanhcong',\n   'binhnhi',\n   'yenluong',\n   'thanhtri',\n   'thanhnhut',\n   'longvinh',\n   'binhtan',\n   'vinhhuu',\n   'longbinh'],\n  'gocongdong': ['tanhoa',\n   'tanghoa',\n   'tanphuoc',\n   'giathuan',\n   'vamlang',\n   'tantay',\n   'kiengphuoc',\n   'tandong',\n   'binhan',\n   'tandien',\n   'binhnghi',\n   'phuoctrung',\n   'tanthanh']}}"
     },
     "execution_count": 39,
     "metadata": {},
     "output_type": "execute_result"
    }
   ],
   "source": [
    "half_district_keys"
   ],
   "metadata": {
    "collapsed": false,
    "ExecuteTime": {
     "end_time": "2024-09-20T09:53:11.676248Z",
     "start_time": "2024-09-20T09:53:11.672681Z"
    }
   },
   "id": "b173b4d1961a139e",
   "execution_count": 39
  },
  {
   "cell_type": "markdown",
   "source": [
    "After this step, we got `half_district_keys` for module data"
   ],
   "metadata": {
    "collapsed": false
   },
   "id": "9ae4517edb1157b4"
  },
  {
   "cell_type": "markdown",
   "source": [
    "### Create keyword lists that are duplicated ward_keyword"
   ],
   "metadata": {
    "collapsed": false
   },
   "id": "8b2e02ce611ed152"
  },
  {
   "cell_type": "code",
   "outputs": [],
   "source": [
    "ward_count = df[['long_province', 'long_district', 'short_ward']].value_counts().reset_index()\n",
    "df_duplicated_wards = ward_count[ward_count['count'] > 1].copy()\n",
    "df_duplicated_wards.sort_values(by=['long_province', 'long_district', 'short_ward'], inplace=True)"
   ],
   "metadata": {
    "collapsed": false,
    "ExecuteTime": {
     "end_time": "2024-09-20T09:53:11.976345Z",
     "start_time": "2024-09-20T09:53:11.964045Z"
    }
   },
   "id": "36d6afa7d76816ea",
   "execution_count": 40
  },
  {
   "cell_type": "code",
   "outputs": [],
   "source": [
    "df_duplicated_wards = df[(df.long_province.isin(df_duplicated_wards.long_province)) & (df.long_district.isin(df_duplicated_wards.long_district)) & (df.short_ward.isin(df_duplicated_wards.short_ward))][['province', 'long_district', 'ward','ward_level_english', 'district_key', 'ward_key']]"
   ],
   "metadata": {
    "collapsed": false,
    "ExecuteTime": {
     "end_time": "2024-09-20T09:53:12.085491Z",
     "start_time": "2024-09-20T09:53:12.081451Z"
    }
   },
   "id": "4d92faf473be44bb",
   "execution_count": 41
  },
  {
   "cell_type": "code",
   "outputs": [
    {
     "data": {
      "text/plain": "         province     long_district                      ward  \\\n176        Hà Nội     Huyện Gia Lâm         Thị trấn Yên Viên   \n178        Hà Nội     Huyện Gia Lâm               Xã Yên Viên   \n1479     Lai Châu    Huyện Mường Tè         Thị trấn Mường Tè   \n1484     Lai Châu    Huyện Mường Tè               Xã Mường Tè   \n1706       Sơn La     Huyện Mai Sơn          Thị trấn Hát Lót   \n1716       Sơn La     Huyện Mai Sơn                Xã Hát Lót   \n1882      Yên Bái    Huyện Trạm Tấu         Thị trấn Trạm Tấu   \n1887      Yên Bái    Huyện Trạm Tấu               Xã Trạm Tấu   \n1918      Yên Bái    Huyện Yên Bình         Thị trấn Yên Bình   \n1937      Yên Bái    Huyện Yên Bình               Xã Yên Bình   \n2418     Lạng Sơn    Huyện Chi Lăng         Thị trấn Chi Lăng   \n2436     Lạng Sơn    Huyện Chi Lăng               Xã Chi Lăng   \n2458     Lạng Sơn    Huyện Đình Lập         Thị trấn Đình Lập   \n2463     Lạng Sơn    Huyện Đình Lập               Xã Đình Lập   \n2564   Quảng Ninh      Huyện Đầm Hà           Thị trấn Đầm Hà   \n2570   Quảng Ninh      Huyện Đầm Hà                 Xã Đầm Hà   \n8058     Lâm Đồng    Huyện Đạ Huoai       Thị trấn Ma Đa Guôi   \n8063     Lâm Đồng    Huyện Đạ Huoai             Xã Ma Đa Guôi   \n9032      Long An     Huyện Đức Hòa         Thị trấn Hiệp Hòa   \n9038      Long An     Huyện Đức Hòa               Xã Hiệp Hòa   \n9536     Trà Vinh      Huyện Trà Cú          Thị trấn Định An   \n9548     Trà Vinh      Huyện Trà Cú                Xã Định An   \n9735    Đồng Tháp   Huyện Tháp Mười            Thị trấn Mỹ An   \n9744    Đồng Tháp   Huyện Tháp Mười                  Xã Mỹ An   \n9748    Đồng Tháp    Huyện Cao Lãnh           Thị trấn Mỹ Thọ   \n9756    Đồng Tháp    Huyện Cao Lãnh                 Xã Mỹ Thọ   \n10084  Kiên Giang  Huyện Vĩnh Thuận       Thị trấn Vĩnh Thuận   \n10088  Kiên Giang  Huyện Vĩnh Thuận             Xã Vĩnh Thuận   \n10321   Sóc Trăng    Huyện Long Phú         Thị trấn Long Phú   \n10331   Sóc Trăng    Huyện Long Phú               Xã Long Phú   \n10374   Sóc Trăng     Huyện Trần Đề        Xã Lịch Hội Thượng   \n10375   Sóc Trăng     Huyện Trần Đề  Thị trấn Lịch Hội Thượng   \n10401    Bạc Liêu  Huyện Phước Long       Thị trấn Phước Long   \n10404    Bạc Liêu  Huyện Phước Long             Xã Phước Long   \n10456      Cà Mau  Thành phố Cà Mau          Phường Tân Thành   \n10457      Cà Mau  Thành phố Cà Mau              Xã Tân Thành   \n10471      Cà Mau   Huyện Thới Bình        Thị trấn Thới Bình   \n10477      Cà Mau   Huyện Thới Bình              Xã Thới Bình   \n\n      ward_level_english district_key       ward_key  \n176                 Town       gialam        yenvien  \n178              Commune       gialam        yenvien  \n1479                Town      muongte        muongte  \n1484             Commune      muongte        muongte  \n1706                Town       maison         hatlot  \n1716             Commune       maison         hatlot  \n1882                Town      tramtau        tramtau  \n1887             Commune      tramtau        tramtau  \n1918                Town      yenbinh        yenbinh  \n1937             Commune      yenbinh        yenbinh  \n2418                Town      chilang        chilang  \n2436             Commune      chilang        chilang  \n2458                Town      dinhlap        dinhlap  \n2463             Commune      dinhlap        dinhlap  \n2564                Town        damha          damha  \n2570             Commune        damha          damha  \n8058                Town      dahuoai       madaguoi  \n8063             Commune      dahuoai       madaguoi  \n9032                Town       duchoa        hiephoa  \n9038             Commune       duchoa        hiephoa  \n9536                Town        tracu         dinhan  \n9548             Commune        tracu         dinhan  \n9735                Town     thapmuoi           myan  \n9744             Commune     thapmuoi           myan  \n9748                Town      caolanh          mytho  \n9756             Commune      caolanh          mytho  \n10084               Town    vinhthuan      vinhthuan  \n10088            Commune    vinhthuan      vinhthuan  \n10321               Town      longphu        longphu  \n10331            Commune      longphu        longphu  \n10374            Commune       trande  lichhoithuong  \n10375               Town       trande  lichhoithuong  \n10401               Town    phuoclong      phuoclong  \n10404            Commune    phuoclong      phuoclong  \n10456               Ward        camau       tanthanh  \n10457            Commune        camau       tanthanh  \n10471               Town     thoibinh       thoibinh  \n10477            Commune     thoibinh       thoibinh  ",
      "text/html": "<div>\n<style scoped>\n    .dataframe tbody tr th:only-of-type {\n        vertical-align: middle;\n    }\n\n    .dataframe tbody tr th {\n        vertical-align: top;\n    }\n\n    .dataframe thead th {\n        text-align: right;\n    }\n</style>\n<table border=\"1\" class=\"dataframe\">\n  <thead>\n    <tr style=\"text-align: right;\">\n      <th></th>\n      <th>province</th>\n      <th>long_district</th>\n      <th>ward</th>\n      <th>ward_level_english</th>\n      <th>district_key</th>\n      <th>ward_key</th>\n    </tr>\n  </thead>\n  <tbody>\n    <tr>\n      <th>176</th>\n      <td>Hà Nội</td>\n      <td>Huyện Gia Lâm</td>\n      <td>Thị trấn Yên Viên</td>\n      <td>Town</td>\n      <td>gialam</td>\n      <td>yenvien</td>\n    </tr>\n    <tr>\n      <th>178</th>\n      <td>Hà Nội</td>\n      <td>Huyện Gia Lâm</td>\n      <td>Xã Yên Viên</td>\n      <td>Commune</td>\n      <td>gialam</td>\n      <td>yenvien</td>\n    </tr>\n    <tr>\n      <th>1479</th>\n      <td>Lai Châu</td>\n      <td>Huyện Mường Tè</td>\n      <td>Thị trấn Mường Tè</td>\n      <td>Town</td>\n      <td>muongte</td>\n      <td>muongte</td>\n    </tr>\n    <tr>\n      <th>1484</th>\n      <td>Lai Châu</td>\n      <td>Huyện Mường Tè</td>\n      <td>Xã Mường Tè</td>\n      <td>Commune</td>\n      <td>muongte</td>\n      <td>muongte</td>\n    </tr>\n    <tr>\n      <th>1706</th>\n      <td>Sơn La</td>\n      <td>Huyện Mai Sơn</td>\n      <td>Thị trấn Hát Lót</td>\n      <td>Town</td>\n      <td>maison</td>\n      <td>hatlot</td>\n    </tr>\n    <tr>\n      <th>1716</th>\n      <td>Sơn La</td>\n      <td>Huyện Mai Sơn</td>\n      <td>Xã Hát Lót</td>\n      <td>Commune</td>\n      <td>maison</td>\n      <td>hatlot</td>\n    </tr>\n    <tr>\n      <th>1882</th>\n      <td>Yên Bái</td>\n      <td>Huyện Trạm Tấu</td>\n      <td>Thị trấn Trạm Tấu</td>\n      <td>Town</td>\n      <td>tramtau</td>\n      <td>tramtau</td>\n    </tr>\n    <tr>\n      <th>1887</th>\n      <td>Yên Bái</td>\n      <td>Huyện Trạm Tấu</td>\n      <td>Xã Trạm Tấu</td>\n      <td>Commune</td>\n      <td>tramtau</td>\n      <td>tramtau</td>\n    </tr>\n    <tr>\n      <th>1918</th>\n      <td>Yên Bái</td>\n      <td>Huyện Yên Bình</td>\n      <td>Thị trấn Yên Bình</td>\n      <td>Town</td>\n      <td>yenbinh</td>\n      <td>yenbinh</td>\n    </tr>\n    <tr>\n      <th>1937</th>\n      <td>Yên Bái</td>\n      <td>Huyện Yên Bình</td>\n      <td>Xã Yên Bình</td>\n      <td>Commune</td>\n      <td>yenbinh</td>\n      <td>yenbinh</td>\n    </tr>\n    <tr>\n      <th>2418</th>\n      <td>Lạng Sơn</td>\n      <td>Huyện Chi Lăng</td>\n      <td>Thị trấn Chi Lăng</td>\n      <td>Town</td>\n      <td>chilang</td>\n      <td>chilang</td>\n    </tr>\n    <tr>\n      <th>2436</th>\n      <td>Lạng Sơn</td>\n      <td>Huyện Chi Lăng</td>\n      <td>Xã Chi Lăng</td>\n      <td>Commune</td>\n      <td>chilang</td>\n      <td>chilang</td>\n    </tr>\n    <tr>\n      <th>2458</th>\n      <td>Lạng Sơn</td>\n      <td>Huyện Đình Lập</td>\n      <td>Thị trấn Đình Lập</td>\n      <td>Town</td>\n      <td>dinhlap</td>\n      <td>dinhlap</td>\n    </tr>\n    <tr>\n      <th>2463</th>\n      <td>Lạng Sơn</td>\n      <td>Huyện Đình Lập</td>\n      <td>Xã Đình Lập</td>\n      <td>Commune</td>\n      <td>dinhlap</td>\n      <td>dinhlap</td>\n    </tr>\n    <tr>\n      <th>2564</th>\n      <td>Quảng Ninh</td>\n      <td>Huyện Đầm Hà</td>\n      <td>Thị trấn Đầm Hà</td>\n      <td>Town</td>\n      <td>damha</td>\n      <td>damha</td>\n    </tr>\n    <tr>\n      <th>2570</th>\n      <td>Quảng Ninh</td>\n      <td>Huyện Đầm Hà</td>\n      <td>Xã Đầm Hà</td>\n      <td>Commune</td>\n      <td>damha</td>\n      <td>damha</td>\n    </tr>\n    <tr>\n      <th>8058</th>\n      <td>Lâm Đồng</td>\n      <td>Huyện Đạ Huoai</td>\n      <td>Thị trấn Ma Đa Guôi</td>\n      <td>Town</td>\n      <td>dahuoai</td>\n      <td>madaguoi</td>\n    </tr>\n    <tr>\n      <th>8063</th>\n      <td>Lâm Đồng</td>\n      <td>Huyện Đạ Huoai</td>\n      <td>Xã Ma Đa Guôi</td>\n      <td>Commune</td>\n      <td>dahuoai</td>\n      <td>madaguoi</td>\n    </tr>\n    <tr>\n      <th>9032</th>\n      <td>Long An</td>\n      <td>Huyện Đức Hòa</td>\n      <td>Thị trấn Hiệp Hòa</td>\n      <td>Town</td>\n      <td>duchoa</td>\n      <td>hiephoa</td>\n    </tr>\n    <tr>\n      <th>9038</th>\n      <td>Long An</td>\n      <td>Huyện Đức Hòa</td>\n      <td>Xã Hiệp Hòa</td>\n      <td>Commune</td>\n      <td>duchoa</td>\n      <td>hiephoa</td>\n    </tr>\n    <tr>\n      <th>9536</th>\n      <td>Trà Vinh</td>\n      <td>Huyện Trà Cú</td>\n      <td>Thị trấn Định An</td>\n      <td>Town</td>\n      <td>tracu</td>\n      <td>dinhan</td>\n    </tr>\n    <tr>\n      <th>9548</th>\n      <td>Trà Vinh</td>\n      <td>Huyện Trà Cú</td>\n      <td>Xã Định An</td>\n      <td>Commune</td>\n      <td>tracu</td>\n      <td>dinhan</td>\n    </tr>\n    <tr>\n      <th>9735</th>\n      <td>Đồng Tháp</td>\n      <td>Huyện Tháp Mười</td>\n      <td>Thị trấn Mỹ An</td>\n      <td>Town</td>\n      <td>thapmuoi</td>\n      <td>myan</td>\n    </tr>\n    <tr>\n      <th>9744</th>\n      <td>Đồng Tháp</td>\n      <td>Huyện Tháp Mười</td>\n      <td>Xã Mỹ An</td>\n      <td>Commune</td>\n      <td>thapmuoi</td>\n      <td>myan</td>\n    </tr>\n    <tr>\n      <th>9748</th>\n      <td>Đồng Tháp</td>\n      <td>Huyện Cao Lãnh</td>\n      <td>Thị trấn Mỹ Thọ</td>\n      <td>Town</td>\n      <td>caolanh</td>\n      <td>mytho</td>\n    </tr>\n    <tr>\n      <th>9756</th>\n      <td>Đồng Tháp</td>\n      <td>Huyện Cao Lãnh</td>\n      <td>Xã Mỹ Thọ</td>\n      <td>Commune</td>\n      <td>caolanh</td>\n      <td>mytho</td>\n    </tr>\n    <tr>\n      <th>10084</th>\n      <td>Kiên Giang</td>\n      <td>Huyện Vĩnh Thuận</td>\n      <td>Thị trấn Vĩnh Thuận</td>\n      <td>Town</td>\n      <td>vinhthuan</td>\n      <td>vinhthuan</td>\n    </tr>\n    <tr>\n      <th>10088</th>\n      <td>Kiên Giang</td>\n      <td>Huyện Vĩnh Thuận</td>\n      <td>Xã Vĩnh Thuận</td>\n      <td>Commune</td>\n      <td>vinhthuan</td>\n      <td>vinhthuan</td>\n    </tr>\n    <tr>\n      <th>10321</th>\n      <td>Sóc Trăng</td>\n      <td>Huyện Long Phú</td>\n      <td>Thị trấn Long Phú</td>\n      <td>Town</td>\n      <td>longphu</td>\n      <td>longphu</td>\n    </tr>\n    <tr>\n      <th>10331</th>\n      <td>Sóc Trăng</td>\n      <td>Huyện Long Phú</td>\n      <td>Xã Long Phú</td>\n      <td>Commune</td>\n      <td>longphu</td>\n      <td>longphu</td>\n    </tr>\n    <tr>\n      <th>10374</th>\n      <td>Sóc Trăng</td>\n      <td>Huyện Trần Đề</td>\n      <td>Xã Lịch Hội Thượng</td>\n      <td>Commune</td>\n      <td>trande</td>\n      <td>lichhoithuong</td>\n    </tr>\n    <tr>\n      <th>10375</th>\n      <td>Sóc Trăng</td>\n      <td>Huyện Trần Đề</td>\n      <td>Thị trấn Lịch Hội Thượng</td>\n      <td>Town</td>\n      <td>trande</td>\n      <td>lichhoithuong</td>\n    </tr>\n    <tr>\n      <th>10401</th>\n      <td>Bạc Liêu</td>\n      <td>Huyện Phước Long</td>\n      <td>Thị trấn Phước Long</td>\n      <td>Town</td>\n      <td>phuoclong</td>\n      <td>phuoclong</td>\n    </tr>\n    <tr>\n      <th>10404</th>\n      <td>Bạc Liêu</td>\n      <td>Huyện Phước Long</td>\n      <td>Xã Phước Long</td>\n      <td>Commune</td>\n      <td>phuoclong</td>\n      <td>phuoclong</td>\n    </tr>\n    <tr>\n      <th>10456</th>\n      <td>Cà Mau</td>\n      <td>Thành phố Cà Mau</td>\n      <td>Phường Tân Thành</td>\n      <td>Ward</td>\n      <td>camau</td>\n      <td>tanthanh</td>\n    </tr>\n    <tr>\n      <th>10457</th>\n      <td>Cà Mau</td>\n      <td>Thành phố Cà Mau</td>\n      <td>Xã Tân Thành</td>\n      <td>Commune</td>\n      <td>camau</td>\n      <td>tanthanh</td>\n    </tr>\n    <tr>\n      <th>10471</th>\n      <td>Cà Mau</td>\n      <td>Huyện Thới Bình</td>\n      <td>Thị trấn Thới Bình</td>\n      <td>Town</td>\n      <td>thoibinh</td>\n      <td>thoibinh</td>\n    </tr>\n    <tr>\n      <th>10477</th>\n      <td>Cà Mau</td>\n      <td>Huyện Thới Bình</td>\n      <td>Xã Thới Bình</td>\n      <td>Commune</td>\n      <td>thoibinh</td>\n      <td>thoibinh</td>\n    </tr>\n  </tbody>\n</table>\n</div>"
     },
     "execution_count": 42,
     "metadata": {},
     "output_type": "execute_result"
    }
   ],
   "source": [
    "df_duplicated_wards"
   ],
   "metadata": {
    "collapsed": false,
    "ExecuteTime": {
     "end_time": "2024-09-20T09:53:12.209999Z",
     "start_time": "2024-09-20T09:53:12.204743Z"
    }
   },
   "id": "22024ec0b6c0c44f",
   "execution_count": 42
  },
  {
   "cell_type": "markdown",
   "source": [
    "Following Google Trend, \"xã ...\" is higher \"thị trấn ...\" significant. But \"phường ...\" is higher than \"xã ...\" and we have only one ward in the list."
   ],
   "metadata": {
    "collapsed": false
   },
   "id": "ae2dd5d209a6b301"
  },
  {
   "cell_type": "code",
   "outputs": [],
   "source": [
    "# Pickle\n",
    "duplicated_ward_keys = df_duplicated_wards.ward_key.unique().tolist()\n",
    "duplicated_ward_district_keys = df_duplicated_wards.district_key.unique().tolist()\n",
    "\n",
    "new_data = {}\n",
    "\n",
    "for ward_key in duplicated_ward_keys:\n",
    "    levels = df_duplicated_wards[df_duplicated_wards.ward_key == ward_key]['ward_level_english'].tolist()\n",
    "    if 'Ward' in levels:\n",
    "        ward_level = 'Ward'\n",
    "    elif 'Commune' in levels:\n",
    "        ward_level = 'Commune'\n",
    "    else:\n",
    "        ward_level = 'Town'\n",
    "    new_data[ward_key] = ward_level\n",
    "    \n",
    "duplicated_ward_keys = new_data.copy()"
   ],
   "metadata": {
    "collapsed": false,
    "ExecuteTime": {
     "end_time": "2024-09-20T09:53:12.273612Z",
     "start_time": "2024-09-20T09:53:12.268538Z"
    }
   },
   "id": "3b25c9f8f0985e16",
   "execution_count": 43
  },
  {
   "cell_type": "code",
   "outputs": [
    {
     "name": "stdout",
     "output_type": "stream",
     "text": [
      "Districts: ['gialam', 'muongte', 'maison', 'tramtau', 'yenbinh', 'chilang', 'dinhlap', 'damha', 'dahuoai', 'duchoa', 'tracu', 'thapmuoi', 'caolanh', 'vinhthuan', 'longphu', 'trande', 'phuoclong', 'camau', 'thoibinh']\n",
      "Wards: {'yenvien': 'Commune', 'muongte': 'Commune', 'hatlot': 'Commune', 'tramtau': 'Commune', 'yenbinh': 'Commune', 'chilang': 'Commune', 'dinhlap': 'Commune', 'damha': 'Commune', 'madaguoi': 'Commune', 'hiephoa': 'Commune', 'dinhan': 'Commune', 'myan': 'Commune', 'mytho': 'Commune', 'vinhthuan': 'Commune', 'longphu': 'Commune', 'lichhoithuong': 'Commune', 'phuoclong': 'Commune', 'tanthanh': 'Ward', 'thoibinh': 'Commune'}\n"
     ]
    }
   ],
   "source": [
    "print('Districts:' ,duplicated_ward_district_keys)\n",
    "print('Wards:', duplicated_ward_keys)"
   ],
   "metadata": {
    "collapsed": false,
    "ExecuteTime": {
     "end_time": "2024-09-20T09:53:12.331581Z",
     "start_time": "2024-09-20T09:53:12.329733Z"
    }
   },
   "id": "d2e88418396fed1f",
   "execution_count": 44
  },
  {
   "cell_type": "markdown",
   "source": [
    "After this step, we got these data for module:\n",
    "- `duplicated_ward_keys`\n",
    "- `duplicated_ward_district_keys`"
   ],
   "metadata": {
    "collapsed": false
   },
   "id": "4b54e61378506981"
  },
  {
   "cell_type": "markdown",
   "source": [
    "### Sort province_key to prioritize some provinces\n",
    "- Some province has districts, or wards that are the same keyword with another province.\n",
    "- We need to run module_testing to check whether any address is wrong > Use ChatGPT to sort keywords > Add manually if we found new wrong keyword.\n",
    "\n",
    "For example:\n",
    "- 'Huyện Quang Bình, Tỉnh Hà Giang' -> quangbinh\n",
    "- 'Huyện Phù Yên, Tỉnh Sơn La' -> phuyen\n",
    "- 'Huyện Văn Giang, Tỉnh Hưng Yên' -> angiang\n",
    "- 'Huyện Quảng Ninh, Tỉnh Quảng Bình' -> quangninh\n",
    "- Bac Lieu, Hoa Binh District -> hoabinh"
   ],
   "metadata": {
    "collapsed": false
   },
   "id": "f1e920e2186097aa"
  },
  {
   "cell_type": "code",
   "outputs": [],
   "source": [
    "province_keys = df.province_key.unique().tolist()"
   ],
   "metadata": {
    "collapsed": false,
    "ExecuteTime": {
     "end_time": "2024-09-20T09:53:12.545193Z",
     "start_time": "2024-09-20T09:53:12.542659Z"
    }
   },
   "id": "55326a74baf22559",
   "execution_count": 45
  },
  {
   "cell_type": "code",
   "outputs": [],
   "source": [
    "def find_province_key_match(text):\n",
    "    for province_key in province_keys:\n",
    "        if province_key in text:\n",
    "            return province_key"
   ],
   "metadata": {
    "collapsed": false,
    "ExecuteTime": {
     "end_time": "2024-09-20T09:53:12.775967Z",
     "start_time": "2024-09-20T09:53:12.773981Z"
    }
   },
   "id": "3eab46036d6d2a6c",
   "execution_count": 46
  },
  {
   "cell_type": "code",
   "outputs": [],
   "source": [
    "match_district = df[df.district_key.str.contains('|'.join(province_keys))][['province', 'district', 'province_key','district_key']].drop_duplicates()"
   ],
   "metadata": {
    "collapsed": false,
    "ExecuteTime": {
     "end_time": "2024-09-20T09:53:12.999477Z",
     "start_time": "2024-09-20T09:53:12.984698Z"
    }
   },
   "id": "349b471c9a67b87a",
   "execution_count": 47
  },
  {
   "cell_type": "code",
   "outputs": [],
   "source": [
    "match_ward = df[(~df.ward.isna()) & (df.ward_key.str.contains('|'.join(province_keys)))][['province', 'ward', 'province_key','ward_key']].drop_duplicates()"
   ],
   "metadata": {
    "collapsed": false,
    "ExecuteTime": {
     "end_time": "2024-09-20T09:53:13.106568Z",
     "start_time": "2024-09-20T09:53:13.091286Z"
    }
   },
   "id": "a2101b458daa5bb6",
   "execution_count": 48
  },
  {
   "cell_type": "code",
   "outputs": [],
   "source": [
    "match_district['match_province_key'] = match_district['district_key'].apply(find_province_key_match)"
   ],
   "metadata": {
    "collapsed": false,
    "ExecuteTime": {
     "end_time": "2024-09-20T09:53:13.221106Z",
     "start_time": "2024-09-20T09:53:13.217240Z"
    }
   },
   "id": "d7a235615b092279",
   "execution_count": 49
  },
  {
   "cell_type": "code",
   "outputs": [],
   "source": [
    "match_ward['match_province_key'] = match_ward['ward_key'].apply(find_province_key_match)"
   ],
   "metadata": {
    "collapsed": false,
    "ExecuteTime": {
     "end_time": "2024-09-20T09:53:13.259409Z",
     "start_time": "2024-09-20T09:53:13.257118Z"
    }
   },
   "id": "90a5364c7d279ffa",
   "execution_count": 50
  },
  {
   "cell_type": "code",
   "outputs": [],
   "source": [
    "match_district = match_district[match_district.province_key != match_district.match_province_key]"
   ],
   "metadata": {
    "collapsed": false,
    "ExecuteTime": {
     "end_time": "2024-09-20T09:53:13.364038Z",
     "start_time": "2024-09-20T09:53:13.361649Z"
    }
   },
   "id": "e2e38920a24963e7",
   "execution_count": 51
  },
  {
   "cell_type": "code",
   "outputs": [
    {
     "data": {
      "text/plain": "         province    district province_key district_key match_province_key\n757      Hà Giang  Quang Bình      hagiang    quangbinh          quangbinh\n1649       Sơn La     Phù Yên        sonla       phuyen             phuyen\n3824     Hưng Yên   Văn Giang      hungyen     vangiang            angiang\n5972   Quảng Bình  Quảng Ninh    quangbinh    quangninh          quangninh\n9009      Long An   Thạnh Hóa       longan     thanhhoa           thanhhoa\n10438    Bạc Liêu    Hòa Bình      baclieu      hoabinh            hoabinh",
      "text/html": "<div>\n<style scoped>\n    .dataframe tbody tr th:only-of-type {\n        vertical-align: middle;\n    }\n\n    .dataframe tbody tr th {\n        vertical-align: top;\n    }\n\n    .dataframe thead th {\n        text-align: right;\n    }\n</style>\n<table border=\"1\" class=\"dataframe\">\n  <thead>\n    <tr style=\"text-align: right;\">\n      <th></th>\n      <th>province</th>\n      <th>district</th>\n      <th>province_key</th>\n      <th>district_key</th>\n      <th>match_province_key</th>\n    </tr>\n  </thead>\n  <tbody>\n    <tr>\n      <th>757</th>\n      <td>Hà Giang</td>\n      <td>Quang Bình</td>\n      <td>hagiang</td>\n      <td>quangbinh</td>\n      <td>quangbinh</td>\n    </tr>\n    <tr>\n      <th>1649</th>\n      <td>Sơn La</td>\n      <td>Phù Yên</td>\n      <td>sonla</td>\n      <td>phuyen</td>\n      <td>phuyen</td>\n    </tr>\n    <tr>\n      <th>3824</th>\n      <td>Hưng Yên</td>\n      <td>Văn Giang</td>\n      <td>hungyen</td>\n      <td>vangiang</td>\n      <td>angiang</td>\n    </tr>\n    <tr>\n      <th>5972</th>\n      <td>Quảng Bình</td>\n      <td>Quảng Ninh</td>\n      <td>quangbinh</td>\n      <td>quangninh</td>\n      <td>quangninh</td>\n    </tr>\n    <tr>\n      <th>9009</th>\n      <td>Long An</td>\n      <td>Thạnh Hóa</td>\n      <td>longan</td>\n      <td>thanhhoa</td>\n      <td>thanhhoa</td>\n    </tr>\n    <tr>\n      <th>10438</th>\n      <td>Bạc Liêu</td>\n      <td>Hòa Bình</td>\n      <td>baclieu</td>\n      <td>hoabinh</td>\n      <td>hoabinh</td>\n    </tr>\n  </tbody>\n</table>\n</div>"
     },
     "execution_count": 52,
     "metadata": {},
     "output_type": "execute_result"
    }
   ],
   "source": [
    "match_district"
   ],
   "metadata": {
    "collapsed": false,
    "ExecuteTime": {
     "end_time": "2024-09-20T09:53:13.438700Z",
     "start_time": "2024-09-20T09:53:13.435053Z"
    }
   },
   "id": "fd8f0dcf755e4a76",
   "execution_count": 52
  },
  {
   "cell_type": "code",
   "outputs": [],
   "source": [
    "match_ward = match_ward[match_ward.province_key != match_ward.match_province_key]"
   ],
   "metadata": {
    "collapsed": false,
    "ExecuteTime": {
     "end_time": "2024-09-20T09:53:13.555957Z",
     "start_time": "2024-09-20T09:53:13.553722Z"
    }
   },
   "id": "1e8dabbad58575bc",
   "execution_count": 53
  },
  {
   "cell_type": "code",
   "outputs": [
    {
     "data": {
      "text/plain": "        province        ward province_key   ward_key match_province_key\n2         Hà Nội   Vĩnh Phúc        hanoi   vinhphuc           vinhphuc\n8         Hà Nội   Điện Biên        hanoi   dienbien           dienbien\n142       Hà Nội  Xuân Giang        hanoi  xuangiang            angiang\n316       Hà Nội     Yên Bài        hanoi     yenbai             yenbai\n353       Hà Nội   Đồng Tháp        hanoi   dongthap           dongthap\n...          ...         ...          ...        ...                ...\n10154    Cần Thơ   Thạnh Hòa       cantho   thanhhoa           thanhhoa\n10236  Hậu Giang   Thạnh Hòa     haugiang   thanhhoa           thanhhoa\n10363  Sóc Trăng   Khánh Hòa     soctrang   khanhhoa           khanhhoa\n10438   Bạc Liêu    Hòa Bình      baclieu    hoabinh            hoabinh\n10464     Cà Mau   Khánh Hòa        camau   khanhhoa           khanhhoa\n\n[132 rows x 5 columns]",
      "text/html": "<div>\n<style scoped>\n    .dataframe tbody tr th:only-of-type {\n        vertical-align: middle;\n    }\n\n    .dataframe tbody tr th {\n        vertical-align: top;\n    }\n\n    .dataframe thead th {\n        text-align: right;\n    }\n</style>\n<table border=\"1\" class=\"dataframe\">\n  <thead>\n    <tr style=\"text-align: right;\">\n      <th></th>\n      <th>province</th>\n      <th>ward</th>\n      <th>province_key</th>\n      <th>ward_key</th>\n      <th>match_province_key</th>\n    </tr>\n  </thead>\n  <tbody>\n    <tr>\n      <th>2</th>\n      <td>Hà Nội</td>\n      <td>Vĩnh Phúc</td>\n      <td>hanoi</td>\n      <td>vinhphuc</td>\n      <td>vinhphuc</td>\n    </tr>\n    <tr>\n      <th>8</th>\n      <td>Hà Nội</td>\n      <td>Điện Biên</td>\n      <td>hanoi</td>\n      <td>dienbien</td>\n      <td>dienbien</td>\n    </tr>\n    <tr>\n      <th>142</th>\n      <td>Hà Nội</td>\n      <td>Xuân Giang</td>\n      <td>hanoi</td>\n      <td>xuangiang</td>\n      <td>angiang</td>\n    </tr>\n    <tr>\n      <th>316</th>\n      <td>Hà Nội</td>\n      <td>Yên Bài</td>\n      <td>hanoi</td>\n      <td>yenbai</td>\n      <td>yenbai</td>\n    </tr>\n    <tr>\n      <th>353</th>\n      <td>Hà Nội</td>\n      <td>Đồng Tháp</td>\n      <td>hanoi</td>\n      <td>dongthap</td>\n      <td>dongthap</td>\n    </tr>\n    <tr>\n      <th>...</th>\n      <td>...</td>\n      <td>...</td>\n      <td>...</td>\n      <td>...</td>\n      <td>...</td>\n    </tr>\n    <tr>\n      <th>10154</th>\n      <td>Cần Thơ</td>\n      <td>Thạnh Hòa</td>\n      <td>cantho</td>\n      <td>thanhhoa</td>\n      <td>thanhhoa</td>\n    </tr>\n    <tr>\n      <th>10236</th>\n      <td>Hậu Giang</td>\n      <td>Thạnh Hòa</td>\n      <td>haugiang</td>\n      <td>thanhhoa</td>\n      <td>thanhhoa</td>\n    </tr>\n    <tr>\n      <th>10363</th>\n      <td>Sóc Trăng</td>\n      <td>Khánh Hòa</td>\n      <td>soctrang</td>\n      <td>khanhhoa</td>\n      <td>khanhhoa</td>\n    </tr>\n    <tr>\n      <th>10438</th>\n      <td>Bạc Liêu</td>\n      <td>Hòa Bình</td>\n      <td>baclieu</td>\n      <td>hoabinh</td>\n      <td>hoabinh</td>\n    </tr>\n    <tr>\n      <th>10464</th>\n      <td>Cà Mau</td>\n      <td>Khánh Hòa</td>\n      <td>camau</td>\n      <td>khanhhoa</td>\n      <td>khanhhoa</td>\n    </tr>\n  </tbody>\n</table>\n<p>132 rows × 5 columns</p>\n</div>"
     },
     "execution_count": 54,
     "metadata": {},
     "output_type": "execute_result"
    }
   ],
   "source": [
    "match_ward"
   ],
   "metadata": {
    "collapsed": false,
    "ExecuteTime": {
     "end_time": "2024-09-20T09:53:13.656705Z",
     "start_time": "2024-09-20T09:53:13.652050Z"
    }
   },
   "id": "a286547162f15df7",
   "execution_count": 54
  },
  {
   "cell_type": "code",
   "outputs": [],
   "source": [
    "# Should not use list(set()) because it will re-order\n",
    "province_order = []\n",
    "\n",
    "for row in match_district.itertuples():\n",
    "    if row.province_key not in province_order:\n",
    "        province_order.append(row.province_key)\n",
    "    if row.match_province_key not in province_order:\n",
    "        province_order.append(row.match_province_key)\n",
    "        \n",
    "for row in match_ward.itertuples():\n",
    "    if row.province_key not in province_order:\n",
    "        province_order.append(row.province_key)\n",
    "    if row.match_province_key not in province_order:\n",
    "        province_order.append(row.match_province_key)"
   ],
   "metadata": {
    "collapsed": false,
    "ExecuteTime": {
     "end_time": "2024-09-20T09:53:13.783887Z",
     "start_time": "2024-09-20T09:53:13.780971Z"
    }
   },
   "id": "2c8687cc82b480bf",
   "execution_count": 55
  },
  {
   "cell_type": "code",
   "outputs": [],
   "source": [
    "province_key_order = {}\n",
    "for index, province_key in enumerate(province_order):\n",
    "    province_key_order[province_key] = index + 1\n",
    "    "
   ],
   "metadata": {
    "collapsed": false,
    "ExecuteTime": {
     "end_time": "2024-09-20T09:53:13.974043Z",
     "start_time": "2024-09-20T09:53:13.972283Z"
    }
   },
   "id": "5129d80c0bf4f652",
   "execution_count": 56
  },
  {
   "cell_type": "code",
   "outputs": [
    {
     "name": "stdout",
     "output_type": "stream",
     "text": [
      "{'hagiang': 1, 'quangbinh': 2, 'sonla': 3, 'phuyen': 4, 'hungyen': 5, 'angiang': 6, 'quangninh': 7, 'longan': 8, 'thanhhoa': 9, 'baclieu': 10, 'hoabinh': 11, 'hanoi': 12, 'vinhphuc': 13, 'dienbien': 14, 'yenbai': 15, 'dongthap': 16, 'caobang': 17, 'binhduong': 18, 'backan': 19, 'phutho': 20, 'tuyenquang': 21, 'thaibinh': 22, 'laichau': 23, 'khanhhoa': 24, 'binhthuan': 25, 'thainguyen': 26, 'langson': 27, 'bacgiang': 28, 'hanam': 29, 'binhdinh': 30, 'bacninh': 31, 'haiphong': 32, 'lamdong': 33, 'vinhlong': 34, 'tayninh': 35, 'haugiang': 36, 'namdinh': 37, 'haiduong': 38, 'ninhbinh': 39, 'nghean': 40, 'hatinh': 41, 'kiengiang': 42, 'quangtri': 43, 'thuathienhue': 44, 'danang': 45, 'quangnam': 46, 'travinh': 47, 'quangngai': 48, 'binhphuoc': 49, 'kontum': 50, 'daknong': 51, 'gialai': 52, 'daklak': 53, 'dongnai': 54, 'bariavungtau': 55, 'hochiminh': 56, 'tiengiang': 57, 'cantho': 58, 'soctrang': 59, 'camau': 60}\n"
     ]
    }
   ],
   "source": [
    "print(province_key_order)"
   ],
   "metadata": {
    "collapsed": false,
    "ExecuteTime": {
     "end_time": "2024-09-20T09:53:14.121621Z",
     "start_time": "2024-09-20T09:53:14.119192Z"
    }
   },
   "id": "21551ef031d6de7b",
   "execution_count": 57
  },
  {
   "cell_type": "code",
   "outputs": [],
   "source": [
    "df['province_key_order'] = df['province_key'].map(province_key_order).fillna(0)\n",
    "\n",
    "df.sort_values(by='province_key_order', inplace=True)"
   ],
   "metadata": {
    "collapsed": false,
    "ExecuteTime": {
     "end_time": "2024-09-20T09:53:14.236896Z",
     "start_time": "2024-09-20T09:53:14.228971Z"
    }
   },
   "id": "b8a12456da334b0",
   "execution_count": 58
  },
  {
   "cell_type": "markdown",
   "source": [
    "### Add alias province_keyword\n",
    "- We should not add \"hn\" because it will cause many wrong matches. I will replace `\\bhn\\b` to `\\bha noi\\b` of the address, this step is in `parse.py`"
   ],
   "metadata": {
    "collapsed": false
   },
   "id": "398029c04e639d54"
  },
  {
   "cell_type": "code",
   "outputs": [],
   "source": [
    "df_province = df[[col for col in df.columns if 'province' in col]].drop_duplicates()\n",
    "\n",
    "province_alias_keys = [\n",
    "    ('Ho Chi Minh', 'hcm')\n",
    "]\n",
    "\n",
    "for key in province_alias_keys:\n",
    "    province_english, province_key = key\n",
    "    df_province = add_province_key(df_province, province_english, province_key)"
   ],
   "metadata": {
    "collapsed": false,
    "ExecuteTime": {
     "end_time": "2024-09-20T09:53:14.422729Z",
     "start_time": "2024-09-20T09:53:14.414182Z"
    }
   },
   "id": "2e3e541cf6cffa27",
   "execution_count": 59
  },
  {
   "cell_type": "markdown",
   "source": [
    "### Add alias district_keyword\n",
    "There are many district was changed it's name or be combined with other districts. For instance: Quan 9 > Thanh pho Thu Duc.\n",
    "\n",
    "Use `find_district_alias_keywords.ipynb` to create a list of tuples."
   ],
   "metadata": {
    "collapsed": false
   },
   "id": "7bc50feab7e6e99d"
  },
  {
   "cell_type": "code",
   "outputs": [],
   "source": [
    "df_district = df[['province_english'] + [col for col in df.columns if 'district' in col]].drop_duplicates()\n",
    "\n",
    "for key in district_alias_keys:\n",
    "    province_english, district_english, district_key = key\n",
    "    df_district = add_district_key(df_district, province_english, district_english, district_key)"
   ],
   "metadata": {
    "collapsed": false,
    "ExecuteTime": {
     "end_time": "2024-09-20T09:53:14.570380Z",
     "start_time": "2024-09-20T09:53:14.519247Z"
    }
   },
   "id": "7b4ed620017edf0a",
   "execution_count": 60
  },
  {
   "cell_type": "code",
   "outputs": [
    {
     "data": {
      "text/plain": "[('An Giang', 'Chau Thanh', 'hueduc'),\n ('Ba Ria - Vung Tau', 'Phu My', 'tanthanh'),\n ('Bac Kan', 'Ba Be', 'chora'),\n ('Bac Lieu', 'Bac Lieu', 'minhhai'),\n ('Binh Duong', 'Thu Dau Mot', 'chauthanh'),\n ('Binh Duong', 'Thuan An', 'laithieu'),\n ('Binh Phuoc', 'Phuoc Long', 'phuocbinh'),\n ('Ca Mau', 'Dam Doi', 'ngochien'),\n ('Cao Bang', 'Quang Hoa', 'phuchoa'),\n ('Cao Bang', 'Quang Hoa', 'quanguyen'),\n ('Cao Bang', 'Ha Quang', 'thongnong'),\n ('Cao Bang', 'Trung Khanh', 'tralinh'),\n ('Dien Bien', 'Muong Lay', 'laichau'),\n ('Dien Bien', 'Muong Cha', 'muonglay'),\n ('Dong Nai', 'Vinh Cuu', 'vinhan'),\n ('Dong Thap', 'Lap Vo', 'thanhhung'),\n ('Ha Nam', 'Phu Ly', 'hanam'),\n ('Ha Noi', 'Soc Son', 'daphuc'),\n ('Ha Noi', 'Soc Son', 'kimanh'),\n ('Hai Phong', 'Cat Hai', 'catba'),\n ('Hau Giang', 'Vi Thanh', 'mythanh'),\n ('Hau Giang', 'Nga Bay', 'tanhiep'),\n ('Hoa Binh', 'Hoa Binh', 'kyson'),\n ('Khanh Hoa', 'Dien Khanh', 'khanhxuong'),\n ('Kien Giang', 'Kien Luong', 'hatien'),\n ('Lao Cai', 'Lao Cai', 'camduong'),\n ('Nam Dinh', 'Nam Dinh', 'myloc'),\n ('Ninh Binh', 'Hoa Lu', 'giakhanh'),\n ('Ninh Binh', 'Nho Quan', 'hoanglong'),\n ('Ninh Binh', 'Yen Mo', 'tamdiep'),\n ('Phu Tho', 'Cam Khe', 'songthao'),\n ('Quang Nam', 'Nam Giang', 'giang'),\n ('Quang Ngai', 'Tra Bong', 'taytra'),\n ('Quang Ninh', 'Ha Long', 'honggai'),\n ('Quang Ninh', 'Van Don', 'campha'),\n ('Quang Ninh', 'Mong Cai', 'haininh'),\n ('Quang Ninh', 'Quang Yen', 'yenhung'),\n ('Quang Ninh', 'Ha Long', 'hoanhbo'),\n ('Tay Ninh', 'Hoa Thanh', 'phukhuong'),\n ('Thanh Hoa', 'Dong Son', 'dongthieu'),\n ('Thanh Hoa', 'Yen Dinh', 'thieuyen'),\n ('Thanh Hoa', 'Nghi Son', 'tinhgia'),\n ('Ho Chi Minh', 'Can Gio', 'duyenhai'),\n ('Ho Chi Minh', 'Thu Duc', 'quan2'),\n ('Ho Chi Minh', 'Thu Duc', 'quan9'),\n ('Tra Vinh', 'Cau Ngang', 'chauthanhdong'),\n ('Vinh Long', 'Long Ho', 'cainhum'),\n ('Vinh Long', 'Long Ho', 'chauthanhtay'),\n ('Ben Tre', 'Mo Cay Nam', 'mocay'),\n ('Binh Thuan', 'Ham Thuan Nam', 'hamthuan'),\n ('Ha Noi', 'Nam Tu Liem', 'tuliem'),\n ('Quang Nam', 'Nam Tra My', 'tramy'),\n ('Tien Giang', 'Go Cong Tay', 'gocong')]"
     },
     "execution_count": 61,
     "metadata": {},
     "output_type": "execute_result"
    }
   ],
   "source": [
    "district_alias_keys"
   ],
   "metadata": {
    "collapsed": false,
    "ExecuteTime": {
     "end_time": "2024-09-20T09:53:14.637955Z",
     "start_time": "2024-09-20T09:53:14.634643Z"
    }
   },
   "id": "8a556a6c8e8fab88",
   "execution_count": 61
  },
  {
   "cell_type": "markdown",
   "source": [
    "Some districts contain \"quan\" with number in their keywords. We need to make a copy and replace \"quan\" to \"district\"."
   ],
   "metadata": {
    "collapsed": false
   },
   "id": "329dfb4242377ef8"
  },
  {
   "cell_type": "code",
   "outputs": [],
   "source": [
    "hcm_districts = df_district[df_district['district_key'].str.contains(r'quan\\d{1,2}')].copy()\n",
    "hcm_districts['district_key'] = hcm_districts['district_key'].str.replace('quan', 'district')\n",
    "df_district = pd.concat([df_district, hcm_districts])\n",
    "hcm_districts['district_key'] = hcm_districts['district_key'].str.replace('district', 'q.')\n",
    "df_district = pd.concat([df_district, hcm_districts])"
   ],
   "metadata": {
    "collapsed": false,
    "ExecuteTime": {
     "end_time": "2024-09-20T09:53:14.704996Z",
     "start_time": "2024-09-20T09:53:14.698427Z"
    }
   },
   "id": "9e3870492482a94a",
   "execution_count": 62
  },
  {
   "cell_type": "markdown",
   "source": [
    "### Create alias ward_key\n",
    "Some wards contain \"phuong\" with number in their keywords. We need to make a copy and replace \"phuong\" to \"ward\".\n"
   ],
   "metadata": {
    "collapsed": false
   },
   "id": "5cb518d7ed6fa887"
  },
  {
   "cell_type": "code",
   "outputs": [],
   "source": [
    "df_ward = df[['province_english', 'district_english'] + [col for col in df.columns if 'ward' in col]].drop_duplicates()"
   ],
   "metadata": {
    "collapsed": false,
    "ExecuteTime": {
     "end_time": "2024-09-20T09:53:14.869259Z",
     "start_time": "2024-09-20T09:53:14.855954Z"
    }
   },
   "id": "6e14acc61d1d33a8",
   "execution_count": 63
  },
  {
   "cell_type": "code",
   "outputs": [],
   "source": [
    "number_wards = df_ward[df_ward['ward_key'].fillna('').str.contains(r'phuong\\d{1,2}')].copy()\n",
    "number_wards['ward_key'] = number_wards['ward_key'].str.replace('phuong', 'ward')\n",
    "df_ward = pd.concat([df_ward, number_wards])\n",
    "number_wards['ward_key'] = number_wards['ward_key'].str.replace('ward', 'p.')\n",
    "df_ward = pd.concat([df_ward, number_wards])"
   ],
   "metadata": {
    "collapsed": false,
    "ExecuteTime": {
     "end_time": "2024-09-20T09:53:14.942712Z",
     "start_time": "2024-09-20T09:53:14.932811Z"
    }
   },
   "id": "e7e66b3d54b9f90d",
   "execution_count": 64
  },
  {
   "cell_type": "markdown",
   "source": [
    "### Create province_keys lists\n",
    "We will prioritize provinces that are not in district_key or ward_key when searching a province_key in address."
   ],
   "metadata": {
    "collapsed": false
   },
   "id": "50bfaf3078fc1682"
  },
  {
   "cell_type": "code",
   "outputs": [],
   "source": [
    "province_keys = df_province['province_key'].tolist()\n",
    "\n",
    "# Pickle\n",
    "province_keys_1 = []\n",
    "province_keys_2 = []\n",
    "province_keys_3 = []\n",
    "\n",
    "district_keys = str(df.district_key.unique().tolist())\n",
    "ward_keys = str(df.ward_key.unique().tolist())\n",
    "for province_key in province_keys:\n",
    "    if (province_key not in district_keys) and (province_key not in ward_keys):\n",
    "        province_keys_1.append(province_key)\n",
    "    elif province_key not in ward_keys:\n",
    "        province_keys_2.append(province_key)\n",
    "    else:\n",
    "        province_keys_3.append(province_key)"
   ],
   "metadata": {
    "collapsed": false,
    "ExecuteTime": {
     "end_time": "2024-09-20T09:53:15.033347Z",
     "start_time": "2024-09-20T09:53:15.025002Z"
    }
   },
   "id": "f1b5241edd87bf58",
   "execution_count": 65
  },
  {
   "cell_type": "markdown",
   "source": [
    "After this step we got these data for module:\n",
    "- `province_keys_1`\n",
    "- `province_keys_2`\n",
    "- `province_keys_3`"
   ],
   "metadata": {
    "collapsed": false
   },
   "id": "b457a549df7dc7ed"
  },
  {
   "cell_type": "markdown",
   "source": [
    "### Create mapping dictionaries\n"
   ],
   "metadata": {
    "collapsed": false
   },
   "id": "aa791b0587c8590a"
  },
  {
   "cell_type": "code",
   "outputs": [],
   "source": [
    "# Pickle\n",
    "province_map = {}\n",
    "\n",
    "for province_key in df_province.province_key.unique():\n",
    "    province = df_province[df_province['province_key'] == province_key]\n",
    "    province_record = province.to_dict(orient='records')[0]\n",
    "    province_map[province_key] = province_record"
   ],
   "metadata": {
    "collapsed": false,
    "ExecuteTime": {
     "end_time": "2024-09-20T09:53:15.113328Z",
     "start_time": "2024-09-20T09:53:15.095653Z"
    }
   },
   "id": "dcb40691af26b797",
   "execution_count": 66
  },
  {
   "cell_type": "code",
   "outputs": [
    {
     "name": "stdout",
     "output_type": "stream",
     "text": [
      "{'laocai': {'province': 'Lào Cai', 'long_province': 'Tỉnh Lào Cai', 'province_english': 'Lao Cai', 'long_province_english': 'Lao Cai Province', 'province_key': 'laocai', 'province_key_order': 0.0}, 'bentre': {'province': 'Bến Tre', 'long_province': 'Tỉnh Bến Tre', 'province_english': 'Ben Tre', 'long_province_english': 'Ben Tre Province', 'province_key': 'bentre', 'province_key_order': 0.0}, 'ninhthuan': {'province': 'Ninh Thuận', 'long_province': 'Tỉnh Ninh Thuận', 'province_english': 'Ninh Thuan', 'long_province_english': 'Ninh Thuan Province', 'province_key': 'ninhthuan', 'province_key_order': 0.0}, 'hagiang': {'province': 'Hà Giang', 'long_province': 'Tỉnh Hà Giang', 'province_english': 'Ha Giang', 'long_province_english': 'Ha Giang Province', 'province_key': 'hagiang', 'province_key_order': 1.0}, 'quangbinh': {'province': 'Quảng Bình', 'long_province': 'Tỉnh Quảng Bình', 'province_english': 'Quang Binh', 'long_province_english': 'Quang Binh Province', 'province_key': 'quangbinh', 'province_key_order': 2.0}, 'sonla': {'province': 'Sơn La', 'long_province': 'Tỉnh Sơn La', 'province_english': 'Son La', 'long_province_english': 'Son La Province', 'province_key': 'sonla', 'province_key_order': 3.0}, 'phuyen': {'province': 'Phú Yên', 'long_province': 'Tỉnh Phú Yên', 'province_english': 'Phu Yen', 'long_province_english': 'Phu Yen Province', 'province_key': 'phuyen', 'province_key_order': 4.0}, 'hungyen': {'province': 'Hưng Yên', 'long_province': 'Tỉnh Hưng Yên', 'province_english': 'Hung Yen', 'long_province_english': 'Hung Yen Province', 'province_key': 'hungyen', 'province_key_order': 5.0}, 'angiang': {'province': 'An Giang', 'long_province': 'Tỉnh An Giang', 'province_english': 'An Giang', 'long_province_english': 'An Giang Province', 'province_key': 'angiang', 'province_key_order': 6.0}, 'quangninh': {'province': 'Quảng Ninh', 'long_province': 'Tỉnh Quảng Ninh', 'province_english': 'Quang Ninh', 'long_province_english': 'Quang Ninh Province', 'province_key': 'quangninh', 'province_key_order': 7.0}, 'longan': {'province': 'Long An', 'long_province': 'Tỉnh Long An', 'province_english': 'Long An', 'long_province_english': 'Long An Province', 'province_key': 'longan', 'province_key_order': 8.0}, 'thanhhoa': {'province': 'Thanh Hóa', 'long_province': 'Tỉnh Thanh Hóa', 'province_english': 'Thanh Hoa', 'long_province_english': 'Thanh Hoa Province', 'province_key': 'thanhhoa', 'province_key_order': 9.0}, 'baclieu': {'province': 'Bạc Liêu', 'long_province': 'Tỉnh Bạc Liêu', 'province_english': 'Bac Lieu', 'long_province_english': 'Bac Lieu Province', 'province_key': 'baclieu', 'province_key_order': 10.0}, 'hoabinh': {'province': 'Hòa Bình', 'long_province': 'Tỉnh Hòa Bình', 'province_english': 'Hoa Binh', 'long_province_english': 'Hoa Binh Province', 'province_key': 'hoabinh', 'province_key_order': 11.0}, 'hanoi': {'province': 'Hà Nội', 'long_province': 'Thành phố Hà Nội', 'province_english': 'Ha Noi', 'long_province_english': 'Ha Noi City', 'province_key': 'hanoi', 'province_key_order': 12.0}, 'vinhphuc': {'province': 'Vĩnh Phúc', 'long_province': 'Tỉnh Vĩnh Phúc', 'province_english': 'Vinh Phuc', 'long_province_english': 'Vinh Phuc Province', 'province_key': 'vinhphuc', 'province_key_order': 13.0}, 'dienbien': {'province': 'Điện Biên', 'long_province': 'Tỉnh Điện Biên', 'province_english': 'Dien Bien', 'long_province_english': 'Dien Bien Province', 'province_key': 'dienbien', 'province_key_order': 14.0}, 'yenbai': {'province': 'Yên Bái', 'long_province': 'Tỉnh Yên Bái', 'province_english': 'Yen Bai', 'long_province_english': 'Yen Bai Province', 'province_key': 'yenbai', 'province_key_order': 15.0}, 'dongthap': {'province': 'Đồng Tháp', 'long_province': 'Tỉnh Đồng Tháp', 'province_english': 'Dong Thap', 'long_province_english': 'Dong Thap Province', 'province_key': 'dongthap', 'province_key_order': 16.0}, 'caobang': {'province': 'Cao Bằng', 'long_province': 'Tỉnh Cao Bằng', 'province_english': 'Cao Bang', 'long_province_english': 'Cao Bang Province', 'province_key': 'caobang', 'province_key_order': 17.0}, 'binhduong': {'province': 'Bình Dương', 'long_province': 'Tỉnh Bình Dương', 'province_english': 'Binh Duong', 'long_province_english': 'Binh Duong Province', 'province_key': 'binhduong', 'province_key_order': 18.0}, 'backan': {'province': 'Bắc Kạn', 'long_province': 'Tỉnh Bắc Kạn', 'province_english': 'Bac Kan', 'long_province_english': 'Bac Kan Province', 'province_key': 'backan', 'province_key_order': 19.0}, 'phutho': {'province': 'Phú Thọ', 'long_province': 'Tỉnh Phú Thọ', 'province_english': 'Phu Tho', 'long_province_english': 'Phu Tho Province', 'province_key': 'phutho', 'province_key_order': 20.0}, 'tuyenquang': {'province': 'Tuyên Quang', 'long_province': 'Tỉnh Tuyên Quang', 'province_english': 'Tuyen Quang', 'long_province_english': 'Tuyen Quang Province', 'province_key': 'tuyenquang', 'province_key_order': 21.0}, 'thaibinh': {'province': 'Thái Bình', 'long_province': 'Tỉnh Thái Bình', 'province_english': 'Thai Binh', 'long_province_english': 'Thai Binh Province', 'province_key': 'thaibinh', 'province_key_order': 22.0}, 'laichau': {'province': 'Lai Châu', 'long_province': 'Tỉnh Lai Châu', 'province_english': 'Lai Chau', 'long_province_english': 'Lai Chau Province', 'province_key': 'laichau', 'province_key_order': 23.0}, 'khanhhoa': {'province': 'Khánh Hòa', 'long_province': 'Tỉnh Khánh Hòa', 'province_english': 'Khanh Hoa', 'long_province_english': 'Khanh Hoa Province', 'province_key': 'khanhhoa', 'province_key_order': 24.0}, 'binhthuan': {'province': 'Bình Thuận', 'long_province': 'Tỉnh Bình Thuận', 'province_english': 'Binh Thuan', 'long_province_english': 'Binh Thuan Province', 'province_key': 'binhthuan', 'province_key_order': 25.0}, 'thainguyen': {'province': 'Thái Nguyên', 'long_province': 'Tỉnh Thái Nguyên', 'province_english': 'Thai Nguyen', 'long_province_english': 'Thai Nguyen Province', 'province_key': 'thainguyen', 'province_key_order': 26.0}, 'langson': {'province': 'Lạng Sơn', 'long_province': 'Tỉnh Lạng Sơn', 'province_english': 'Lang Son', 'long_province_english': 'Lang Son Province', 'province_key': 'langson', 'province_key_order': 27.0}, 'bacgiang': {'province': 'Bắc Giang', 'long_province': 'Tỉnh Bắc Giang', 'province_english': 'Bac Giang', 'long_province_english': 'Bac Giang Province', 'province_key': 'bacgiang', 'province_key_order': 28.0}, 'hanam': {'province': 'Hà Nam', 'long_province': 'Tỉnh Hà Nam', 'province_english': 'Ha Nam', 'long_province_english': 'Ha Nam Province', 'province_key': 'hanam', 'province_key_order': 29.0}, 'binhdinh': {'province': 'Bình Định', 'long_province': 'Tỉnh Bình Định', 'province_english': 'Binh Dinh', 'long_province_english': 'Binh Dinh Province', 'province_key': 'binhdinh', 'province_key_order': 30.0}, 'bacninh': {'province': 'Bắc Ninh', 'long_province': 'Tỉnh Bắc Ninh', 'province_english': 'Bac Ninh', 'long_province_english': 'Bac Ninh Province', 'province_key': 'bacninh', 'province_key_order': 31.0}, 'haiphong': {'province': 'Hải Phòng', 'long_province': 'Thành phố Hải Phòng', 'province_english': 'Hai Phong', 'long_province_english': 'Hai Phong City', 'province_key': 'haiphong', 'province_key_order': 32.0}, 'lamdong': {'province': 'Lâm Đồng', 'long_province': 'Tỉnh Lâm Đồng', 'province_english': 'Lam Dong', 'long_province_english': 'Lam Dong Province', 'province_key': 'lamdong', 'province_key_order': 33.0}, 'vinhlong': {'province': 'Vĩnh Long', 'long_province': 'Tỉnh Vĩnh Long', 'province_english': 'Vinh Long', 'long_province_english': 'Vinh Long Province', 'province_key': 'vinhlong', 'province_key_order': 34.0}, 'tayninh': {'province': 'Tây Ninh', 'long_province': 'Tỉnh Tây Ninh', 'province_english': 'Tay Ninh', 'long_province_english': 'Tay Ninh Province', 'province_key': 'tayninh', 'province_key_order': 35.0}, 'haugiang': {'province': 'Hậu Giang', 'long_province': 'Tỉnh Hậu Giang', 'province_english': 'Hau Giang', 'long_province_english': 'Hau Giang Province', 'province_key': 'haugiang', 'province_key_order': 36.0}, 'namdinh': {'province': 'Nam Định', 'long_province': 'Tỉnh Nam Định', 'province_english': 'Nam Dinh', 'long_province_english': 'Nam Dinh Province', 'province_key': 'namdinh', 'province_key_order': 37.0}, 'haiduong': {'province': 'Hải Dương', 'long_province': 'Tỉnh Hải Dương', 'province_english': 'Hai Duong', 'long_province_english': 'Hai Duong Province', 'province_key': 'haiduong', 'province_key_order': 38.0}, 'ninhbinh': {'province': 'Ninh Bình', 'long_province': 'Tỉnh Ninh Bình', 'province_english': 'Ninh Binh', 'long_province_english': 'Ninh Binh Province', 'province_key': 'ninhbinh', 'province_key_order': 39.0}, 'nghean': {'province': 'Nghệ An', 'long_province': 'Tỉnh Nghệ An', 'province_english': 'Nghe An', 'long_province_english': 'Nghe An Province', 'province_key': 'nghean', 'province_key_order': 40.0}, 'hatinh': {'province': 'Hà Tĩnh', 'long_province': 'Tỉnh Hà Tĩnh', 'province_english': 'Ha Tinh', 'long_province_english': 'Ha Tinh Province', 'province_key': 'hatinh', 'province_key_order': 41.0}, 'kiengiang': {'province': 'Kiên Giang', 'long_province': 'Tỉnh Kiên Giang', 'province_english': 'Kien Giang', 'long_province_english': 'Kien Giang Province', 'province_key': 'kiengiang', 'province_key_order': 42.0}, 'quangtri': {'province': 'Quảng Trị', 'long_province': 'Tỉnh Quảng Trị', 'province_english': 'Quang Tri', 'long_province_english': 'Quang Tri Province', 'province_key': 'quangtri', 'province_key_order': 43.0}, 'thuathienhue': {'province': 'Thừa Thiên Huế', 'long_province': 'Tỉnh Thừa Thiên Huế', 'province_english': 'Thua Thien Hue', 'long_province_english': 'Thua Thien Hue Province', 'province_key': 'thuathienhue', 'province_key_order': 44.0}, 'danang': {'province': 'Đà Nẵng', 'long_province': 'Thành phố Đà Nẵng', 'province_english': 'Da Nang', 'long_province_english': 'Da Nang City', 'province_key': 'danang', 'province_key_order': 45.0}, 'quangnam': {'province': 'Quảng Nam', 'long_province': 'Tỉnh Quảng Nam', 'province_english': 'Quang Nam', 'long_province_english': 'Quang Nam Province', 'province_key': 'quangnam', 'province_key_order': 46.0}, 'travinh': {'province': 'Trà Vinh', 'long_province': 'Tỉnh Trà Vinh', 'province_english': 'Tra Vinh', 'long_province_english': 'Tra Vinh Province', 'province_key': 'travinh', 'province_key_order': 47.0}, 'quangngai': {'province': 'Quảng Ngãi', 'long_province': 'Tỉnh Quảng Ngãi', 'province_english': 'Quang Ngai', 'long_province_english': 'Quang Ngai Province', 'province_key': 'quangngai', 'province_key_order': 48.0}, 'binhphuoc': {'province': 'Bình Phước', 'long_province': 'Tỉnh Bình Phước', 'province_english': 'Binh Phuoc', 'long_province_english': 'Binh Phuoc Province', 'province_key': 'binhphuoc', 'province_key_order': 49.0}, 'kontum': {'province': 'Kon Tum', 'long_province': 'Tỉnh Kon Tum', 'province_english': 'Kon Tum', 'long_province_english': 'Kon Tum Province', 'province_key': 'kontum', 'province_key_order': 50.0}, 'daknong': {'province': 'Đắk Nông', 'long_province': 'Tỉnh Đắk Nông', 'province_english': 'Dak Nong', 'long_province_english': 'Dak Nong Province', 'province_key': 'daknong', 'province_key_order': 51.0}, 'gialai': {'province': 'Gia Lai', 'long_province': 'Tỉnh Gia Lai', 'province_english': 'Gia Lai', 'long_province_english': 'Gia Lai Province', 'province_key': 'gialai', 'province_key_order': 52.0}, 'daklak': {'province': 'Đắk Lắk', 'long_province': 'Tỉnh Đắk Lắk', 'province_english': 'Dak Lak', 'long_province_english': 'Dak Lak Province', 'province_key': 'daklak', 'province_key_order': 53.0}, 'dongnai': {'province': 'Đồng Nai', 'long_province': 'Tỉnh Đồng Nai', 'province_english': 'Dong Nai', 'long_province_english': 'Dong Nai Province', 'province_key': 'dongnai', 'province_key_order': 54.0}, 'bariavungtau': {'province': 'Bà Rịa - Vũng Tàu', 'long_province': 'Tỉnh Bà Rịa - Vũng Tàu', 'province_english': 'Ba Ria - Vung Tau', 'long_province_english': 'Ba Ria - Vung Tau Province', 'province_key': 'bariavungtau', 'province_key_order': 55.0}, 'hochiminh': {'province': 'Hồ Chí Minh', 'long_province': 'Thành phố Hồ Chí Minh', 'province_english': 'Ho Chi Minh', 'long_province_english': 'Ho Chi Minh City', 'province_key': 'hochiminh', 'province_key_order': 56.0}, 'tiengiang': {'province': 'Tiền Giang', 'long_province': 'Tỉnh Tiền Giang', 'province_english': 'Tien Giang', 'long_province_english': 'Tien Giang Province', 'province_key': 'tiengiang', 'province_key_order': 57.0}, 'cantho': {'province': 'Cần Thơ', 'long_province': 'Thành phố Cần Thơ', 'province_english': 'Can Tho', 'long_province_english': 'Can Tho City', 'province_key': 'cantho', 'province_key_order': 58.0}, 'soctrang': {'province': 'Sóc Trăng', 'long_province': 'Tỉnh Sóc Trăng', 'province_english': 'Soc Trang', 'long_province_english': 'Soc Trang Province', 'province_key': 'soctrang', 'province_key_order': 59.0}, 'camau': {'province': 'Cà Mau', 'long_province': 'Tỉnh Cà Mau', 'province_english': 'Ca Mau', 'long_province_english': 'Ca Mau Province', 'province_key': 'camau', 'province_key_order': 60.0}, 'hcm': {'province': 'Hồ Chí Minh', 'long_province': 'Thành phố Hồ Chí Minh', 'province_english': 'Ho Chi Minh', 'long_province_english': 'Ho Chi Minh City', 'province_key': 'hcm', 'province_key_order': 56.0}}\n"
     ]
    }
   ],
   "source": [
    "print(province_map)"
   ],
   "metadata": {
    "collapsed": false,
    "ExecuteTime": {
     "end_time": "2024-09-20T09:53:15.196692Z",
     "start_time": "2024-09-20T09:53:15.194873Z"
    }
   },
   "id": "655b12be0a2ce88a",
   "execution_count": 67
  },
  {
   "cell_type": "code",
   "outputs": [],
   "source": [
    "# Pickle\n",
    "district_map = {}\n",
    "\n",
    "for province_english in df_province.province_english.unique():\n",
    "    district_keys = {}\n",
    "    for district_key in df_district[df_district.province_english == province_english]['district_key'].unique():\n",
    "        district_levels = {}\n",
    "        for district_level_english in df_district[(df_district.province_english == province_english) & (df_district.district_key == district_key)]['district_level_english'].unique():\n",
    "            district = df_district[(df_district.province_english == province_english) & (df_district.district_key == district_key) & (df_district.district_level_english == district_level_english)]\n",
    "            district_record = district[[col for col in district.columns if 'district' in col]].to_dict('records')[0]\n",
    "            district_levels[district_level_english] = district_record\n",
    "        district_keys[district_key] = district_levels\n",
    "        \n",
    "    district_keys = dict(sorted(district_keys.items(), key=lambda item: len(item[0]), reverse=True))\n",
    "    \n",
    "    district_map[province_english] = district_keys"
   ],
   "metadata": {
    "collapsed": false,
    "ExecuteTime": {
     "end_time": "2024-09-20T09:53:15.996312Z",
     "start_time": "2024-09-20T09:53:15.312868Z"
    }
   },
   "id": "57ab1579066f41f5",
   "execution_count": 68
  },
  {
   "cell_type": "code",
   "outputs": [
    {
     "name": "stdout",
     "output_type": "stream",
     "text": [
      "{'district10': {'District': {'district': 'Quận 10', 'long_district': 'Quận 10', 'short_district': 'Quận 10', 'district_english': 'District 10', 'long_district_english': 'District 10', 'short_district_english': 'District 10', 'district_level': 'Quận', 'district_level_english': 'District', 'district_key': 'district10'}}, 'district11': {'District': {'district': 'Quận 11', 'long_district': 'Quận 11', 'short_district': 'Quận 11', 'district_english': 'District 11', 'long_district_english': 'District 11', 'short_district_english': 'District 11', 'district_level': 'Quận', 'district_level_english': 'District', 'district_key': 'district11'}}, 'district12': {'District': {'district': 'Quận 12', 'long_district': 'Quận 12', 'short_district': 'Quận 12', 'district_english': 'District 12', 'long_district_english': 'District 12', 'short_district_english': 'District 12', 'district_level': 'Quận', 'district_level_english': 'District', 'district_key': 'district12'}}, 'binhthanh': {'District': {'district': 'Bình Thạnh', 'long_district': 'Quận Bình Thạnh', 'short_district': 'Bình Thạnh', 'district_english': 'Binh Thanh', 'long_district_english': 'Binh Thanh District', 'short_district_english': 'Binh Thanh', 'district_level': 'Quận', 'district_level_english': 'District', 'district_key': 'binhthanh'}}, 'binhchanh': {'District': {'district': 'Bình Chánh', 'long_district': 'Huyện Bình Chánh', 'short_district': 'Bình Chánh', 'district_english': 'Binh Chanh', 'long_district_english': 'Binh Chanh District', 'short_district_english': 'Binh Chanh', 'district_level': 'Huyện', 'district_level_english': 'District', 'district_key': 'binhchanh'}}, 'district8': {'District': {'district': 'Quận 8', 'long_district': 'Quận 8', 'short_district': 'Quận 8', 'district_english': 'District 8', 'long_district_english': 'District 8', 'short_district_english': 'District 8', 'district_level': 'Quận', 'district_level_english': 'District', 'district_key': 'district8'}}, 'district7': {'District': {'district': 'Quận 7', 'long_district': 'Quận 7', 'short_district': 'Quận 7', 'district_english': 'District 7', 'long_district_english': 'District 7', 'short_district_english': 'District 7', 'district_level': 'Quận', 'district_level_english': 'District', 'district_key': 'district7'}}, 'district4': {'District': {'district': 'Quận 4', 'long_district': 'Quận 4', 'short_district': 'Quận 4', 'district_english': 'District 4', 'long_district_english': 'District 4', 'short_district_english': 'District 4', 'district_level': 'Quận', 'district_level_english': 'District', 'district_key': 'district4'}}, 'district1': {'District': {'district': 'Quận 1', 'long_district': 'Quận 1', 'short_district': 'Quận 1', 'district_english': 'District 1', 'long_district_english': 'District 1', 'short_district_english': 'District 1', 'district_level': 'Quận', 'district_level_english': 'District', 'district_key': 'district1'}}, 'district3': {'District': {'district': 'Quận 3', 'long_district': 'Quận 3', 'short_district': 'Quận 3', 'district_english': 'District 3', 'long_district_english': 'District 3', 'short_district_english': 'District 3', 'district_level': 'Quận', 'district_level_english': 'District', 'district_key': 'district3'}}, 'district6': {'District': {'district': 'Quận 6', 'long_district': 'Quận 6', 'short_district': 'Quận 6', 'district_english': 'District 6', 'long_district_english': 'District 6', 'short_district_english': 'District 6', 'district_level': 'Quận', 'district_level_english': 'District', 'district_key': 'district6'}}, 'district5': {'District': {'district': 'Quận 5', 'long_district': 'Quận 5', 'short_district': 'Quận 5', 'district_english': 'District 5', 'long_district_english': 'District 5', 'short_district_english': 'District 5', 'district_level': 'Quận', 'district_level_english': 'District', 'district_key': 'district5'}}, 'district2': {'City': {'district': 'Thủ Đức', 'long_district': 'Thành phố Thủ Đức', 'short_district': 'Thủ Đức', 'district_english': 'Thu Duc', 'long_district_english': 'Thu Duc City', 'short_district_english': 'Thu Duc', 'district_level': 'Thành phố', 'district_level_english': 'City', 'district_key': 'district2'}}, 'district9': {'City': {'district': 'Thủ Đức', 'long_district': 'Thành phố Thủ Đức', 'short_district': 'Thủ Đức', 'district_english': 'Thu Duc', 'long_district_english': 'Thu Duc City', 'short_district_english': 'Thu Duc', 'district_level': 'Thành phố', 'district_level_english': 'City', 'district_key': 'district9'}}, 'phunhuan': {'District': {'district': 'Phú Nhuận', 'long_district': 'Quận Phú Nhuận', 'short_district': 'Phú Nhuận', 'district_english': 'Phu Nhuan', 'long_district_english': 'Phu Nhuan District', 'short_district_english': 'Phu Nhuan', 'district_level': 'Quận', 'district_level_english': 'District', 'district_key': 'phunhuan'}}, 'duyenhai': {'District': {'district': 'Cần Giờ', 'long_district': 'Huyện Cần Giờ', 'short_district': 'Cần Giờ', 'district_english': 'Can Gio', 'long_district_english': 'Can Gio District', 'short_district_english': 'Can Gio', 'district_level': 'Huyện', 'district_level_english': 'District', 'district_key': 'duyenhai'}}, 'binhtan': {'District': {'district': 'Bình Tân', 'long_district': 'Quận Bình Tân', 'short_district': 'Bình Tân', 'district_english': 'Binh Tan', 'long_district_english': 'Binh Tan District', 'short_district_english': 'Binh Tan', 'district_level': 'Quận', 'district_level_english': 'District', 'district_key': 'binhtan'}}, 'tanbinh': {'District': {'district': 'Tân Bình', 'long_district': 'Quận Tân Bình', 'short_district': 'Tân Bình', 'district_english': 'Tan Binh', 'long_district_english': 'Tan Binh District', 'short_district_english': 'Tan Binh', 'district_level': 'Quận', 'district_level_english': 'District', 'district_key': 'tanbinh'}}, 'quan10': {'District': {'district': 'Quận 10', 'long_district': 'Quận 10', 'short_district': 'Quận 10', 'district_english': 'District 10', 'long_district_english': 'District 10', 'short_district_english': 'District 10', 'district_level': 'Quận', 'district_level_english': 'District', 'district_key': 'quan10'}}, 'quan11': {'District': {'district': 'Quận 11', 'long_district': 'Quận 11', 'short_district': 'Quận 11', 'district_english': 'District 11', 'long_district_english': 'District 11', 'short_district_english': 'District 11', 'district_level': 'Quận', 'district_level_english': 'District', 'district_key': 'quan11'}}, 'quan12': {'District': {'district': 'Quận 12', 'long_district': 'Quận 12', 'short_district': 'Quận 12', 'district_english': 'District 12', 'long_district_english': 'District 12', 'short_district_english': 'District 12', 'district_level': 'Quận', 'district_level_english': 'District', 'district_key': 'quan12'}}, 'thuduc': {'City': {'district': 'Thủ Đức', 'long_district': 'Thành phố Thủ Đức', 'short_district': 'Thủ Đức', 'district_english': 'Thu Duc', 'long_district_english': 'Thu Duc City', 'short_district_english': 'Thu Duc', 'district_level': 'Thành phố', 'district_level_english': 'City', 'district_key': 'thuduc'}}, 'tanphu': {'District': {'district': 'Tân Phú', 'long_district': 'Quận Tân Phú', 'short_district': 'Tân Phú', 'district_english': 'Tan Phu', 'long_district_english': 'Tan Phu District', 'short_district_english': 'Tan Phu', 'district_level': 'Quận', 'district_level_english': 'District', 'district_key': 'tanphu'}}, 'hocmon': {'District': {'district': 'Hóc Môn', 'long_district': 'Huyện Hóc Môn', 'short_district': 'Hóc Môn', 'district_english': 'Hoc Mon', 'long_district_english': 'Hoc Mon District', 'short_district_english': 'Hoc Mon', 'district_level': 'Huyện', 'district_level_english': 'District', 'district_key': 'hocmon'}}, 'cangio': {'District': {'district': 'Cần Giờ', 'long_district': 'Huyện Cần Giờ', 'short_district': 'Cần Giờ', 'district_english': 'Can Gio', 'long_district_english': 'Can Gio District', 'short_district_english': 'Can Gio', 'district_level': 'Huyện', 'district_level_english': 'District', 'district_key': 'cangio'}}, 'quan8': {'District': {'district': 'Quận 8', 'long_district': 'Quận 8', 'short_district': 'Quận 8', 'district_english': 'District 8', 'long_district_english': 'District 8', 'short_district_english': 'District 8', 'district_level': 'Quận', 'district_level_english': 'District', 'district_key': 'quan8'}}, 'quan7': {'District': {'district': 'Quận 7', 'long_district': 'Quận 7', 'short_district': 'Quận 7', 'district_english': 'District 7', 'long_district_english': 'District 7', 'short_district_english': 'District 7', 'district_level': 'Quận', 'district_level_english': 'District', 'district_key': 'quan7'}}, 'quan4': {'District': {'district': 'Quận 4', 'long_district': 'Quận 4', 'short_district': 'Quận 4', 'district_english': 'District 4', 'long_district_english': 'District 4', 'short_district_english': 'District 4', 'district_level': 'Quận', 'district_level_english': 'District', 'district_key': 'quan4'}}, 'quan1': {'District': {'district': 'Quận 1', 'long_district': 'Quận 1', 'short_district': 'Quận 1', 'district_english': 'District 1', 'long_district_english': 'District 1', 'short_district_english': 'District 1', 'district_level': 'Quận', 'district_level_english': 'District', 'district_key': 'quan1'}}, 'quan3': {'District': {'district': 'Quận 3', 'long_district': 'Quận 3', 'short_district': 'Quận 3', 'district_english': 'District 3', 'long_district_english': 'District 3', 'short_district_english': 'District 3', 'district_level': 'Quận', 'district_level_english': 'District', 'district_key': 'quan3'}}, 'quan6': {'District': {'district': 'Quận 6', 'long_district': 'Quận 6', 'short_district': 'Quận 6', 'district_english': 'District 6', 'long_district_english': 'District 6', 'short_district_english': 'District 6', 'district_level': 'Quận', 'district_level_english': 'District', 'district_key': 'quan6'}}, 'quan5': {'District': {'district': 'Quận 5', 'long_district': 'Quận 5', 'short_district': 'Quận 5', 'district_english': 'District 5', 'long_district_english': 'District 5', 'short_district_english': 'District 5', 'district_level': 'Quận', 'district_level_english': 'District', 'district_key': 'quan5'}}, 'govap': {'District': {'district': 'Gò Vấp', 'long_district': 'Quận Gò Vấp', 'short_district': 'Gò Vấp', 'district_english': 'Go Vap', 'long_district_english': 'Go Vap District', 'short_district_english': 'Go Vap', 'district_level': 'Quận', 'district_level_english': 'District', 'district_key': 'govap'}}, 'nhabe': {'District': {'district': 'Nhà Bè', 'long_district': 'Huyện Nhà Bè', 'short_district': 'Nhà Bè', 'district_english': 'Nha Be', 'long_district_english': 'Nha Be District', 'short_district_english': 'Nha Be', 'district_level': 'Huyện', 'district_level_english': 'District', 'district_key': 'nhabe'}}, 'cuchi': {'District': {'district': 'Củ Chi', 'long_district': 'Huyện Củ Chi', 'short_district': 'Củ Chi', 'district_english': 'Cu Chi', 'long_district_english': 'Cu Chi District', 'short_district_english': 'Cu Chi', 'district_level': 'Huyện', 'district_level_english': 'District', 'district_key': 'cuchi'}}, 'quan2': {'City': {'district': 'Thủ Đức', 'long_district': 'Thành phố Thủ Đức', 'short_district': 'Thủ Đức', 'district_english': 'Thu Duc', 'long_district_english': 'Thu Duc City', 'short_district_english': 'Thu Duc', 'district_level': 'Thành phố', 'district_level_english': 'City', 'district_key': 'quan2'}}, 'quan9': {'City': {'district': 'Thủ Đức', 'long_district': 'Thành phố Thủ Đức', 'short_district': 'Thủ Đức', 'district_english': 'Thu Duc', 'long_district_english': 'Thu Duc City', 'short_district_english': 'Thu Duc', 'district_level': 'Thành phố', 'district_level_english': 'City', 'district_key': 'quan9'}}, 'q.10': {'District': {'district': 'Quận 10', 'long_district': 'Quận 10', 'short_district': 'Quận 10', 'district_english': 'District 10', 'long_district_english': 'District 10', 'short_district_english': 'District 10', 'district_level': 'Quận', 'district_level_english': 'District', 'district_key': 'q.10'}}, 'q.11': {'District': {'district': 'Quận 11', 'long_district': 'Quận 11', 'short_district': 'Quận 11', 'district_english': 'District 11', 'long_district_english': 'District 11', 'short_district_english': 'District 11', 'district_level': 'Quận', 'district_level_english': 'District', 'district_key': 'q.11'}}, 'q.12': {'District': {'district': 'Quận 12', 'long_district': 'Quận 12', 'short_district': 'Quận 12', 'district_english': 'District 12', 'long_district_english': 'District 12', 'short_district_english': 'District 12', 'district_level': 'Quận', 'district_level_english': 'District', 'district_key': 'q.12'}}, 'q.8': {'District': {'district': 'Quận 8', 'long_district': 'Quận 8', 'short_district': 'Quận 8', 'district_english': 'District 8', 'long_district_english': 'District 8', 'short_district_english': 'District 8', 'district_level': 'Quận', 'district_level_english': 'District', 'district_key': 'q.8'}}, 'q.7': {'District': {'district': 'Quận 7', 'long_district': 'Quận 7', 'short_district': 'Quận 7', 'district_english': 'District 7', 'long_district_english': 'District 7', 'short_district_english': 'District 7', 'district_level': 'Quận', 'district_level_english': 'District', 'district_key': 'q.7'}}, 'q.4': {'District': {'district': 'Quận 4', 'long_district': 'Quận 4', 'short_district': 'Quận 4', 'district_english': 'District 4', 'long_district_english': 'District 4', 'short_district_english': 'District 4', 'district_level': 'Quận', 'district_level_english': 'District', 'district_key': 'q.4'}}, 'q.1': {'District': {'district': 'Quận 1', 'long_district': 'Quận 1', 'short_district': 'Quận 1', 'district_english': 'District 1', 'long_district_english': 'District 1', 'short_district_english': 'District 1', 'district_level': 'Quận', 'district_level_english': 'District', 'district_key': 'q.1'}}, 'q.3': {'District': {'district': 'Quận 3', 'long_district': 'Quận 3', 'short_district': 'Quận 3', 'district_english': 'District 3', 'long_district_english': 'District 3', 'short_district_english': 'District 3', 'district_level': 'Quận', 'district_level_english': 'District', 'district_key': 'q.3'}}, 'q.6': {'District': {'district': 'Quận 6', 'long_district': 'Quận 6', 'short_district': 'Quận 6', 'district_english': 'District 6', 'long_district_english': 'District 6', 'short_district_english': 'District 6', 'district_level': 'Quận', 'district_level_english': 'District', 'district_key': 'q.6'}}, 'q.5': {'District': {'district': 'Quận 5', 'long_district': 'Quận 5', 'short_district': 'Quận 5', 'district_english': 'District 5', 'long_district_english': 'District 5', 'short_district_english': 'District 5', 'district_level': 'Quận', 'district_level_english': 'District', 'district_key': 'q.5'}}, 'q.2': {'City': {'district': 'Thủ Đức', 'long_district': 'Thành phố Thủ Đức', 'short_district': 'Thủ Đức', 'district_english': 'Thu Duc', 'long_district_english': 'Thu Duc City', 'short_district_english': 'Thu Duc', 'district_level': 'Thành phố', 'district_level_english': 'City', 'district_key': 'q.2'}}, 'q.9': {'City': {'district': 'Thủ Đức', 'long_district': 'Thành phố Thủ Đức', 'short_district': 'Thủ Đức', 'district_english': 'Thu Duc', 'long_district_english': 'Thu Duc City', 'short_district_english': 'Thu Duc', 'district_level': 'Thành phố', 'district_level_english': 'City', 'district_key': 'q.9'}}}\n"
     ]
    }
   ],
   "source": [
    "print(district_map['Ho Chi Minh'])"
   ],
   "metadata": {
    "collapsed": false,
    "ExecuteTime": {
     "end_time": "2024-09-20T09:53:16.001909Z",
     "start_time": "2024-09-20T09:53:15.998958Z"
    }
   },
   "id": "caddace33c6defe9",
   "execution_count": 69
  },
  {
   "cell_type": "code",
   "outputs": [],
   "source": [
    "# Pickle\n",
    "ward_map = {}\n",
    "\n",
    "for province_english in df_province.province_english.unique():\n",
    "    districts = {}\n",
    "    for district_english in df_district[df_district.province_english==province_english].district_english.unique():\n",
    "        wards = {}\n",
    "        for ward_key in df_ward[(df_ward.province_english==province_english) & (df_ward.district_english==district_english)].ward_key.dropna().unique():\n",
    "            ward_levels = {}\n",
    "            for ward_level_english in df_ward[(df_ward.province_english==province_english) & (df_ward.district_english==district_english) & (df_ward.ward_key==ward_key)].ward_level_english.unique():\n",
    "                ward = df_ward[(df_ward.province_english==province_english) & (df_ward.district_english==district_english) & (df_ward.ward_key==ward_key) & (df_ward.ward_level_english==ward_level_english)]\n",
    "                ward_record = ward[[col for col in ward.columns if 'ward' in col]].to_dict('records')[0]\n",
    "                ward_levels[ward_level_english] = ward_record\n",
    "            wards[ward_key] = ward_levels\n",
    "        wards = dict(sorted(wards.items(), key=lambda item: len(str(item[0])), reverse=True))\n",
    "        districts[district_english] = wards\n",
    "    ward_map[province_english] = districts"
   ],
   "metadata": {
    "collapsed": false,
    "ExecuteTime": {
     "end_time": "2024-09-20T09:53:52.587814Z",
     "start_time": "2024-09-20T09:53:16.002659Z"
    }
   },
   "id": "c0eceda7e27b697e",
   "execution_count": 70
  },
  {
   "cell_type": "code",
   "outputs": [
    {
     "name": "stdout",
     "output_type": "stream",
     "text": [
      "{'phuong15': {'Ward': {'ward': 'Phường 15', 'long_ward': 'Phường 15', 'short_ward': 'Phường 15', 'ward_english': 'Ward 15', 'long_ward_english': 'Ward 15', 'short_ward_english': 'Ward 15', 'ward_level': 'Phường', 'ward_level_english': 'Ward', 'ward_key': 'phuong15'}}, 'phuong14': {'Ward': {'ward': 'Phường 14', 'long_ward': 'Phường 14', 'short_ward': 'Phường 14', 'ward_english': 'Ward 14', 'long_ward_english': 'Ward 14', 'short_ward_english': 'Ward 14', 'ward_level': 'Phường', 'ward_level_english': 'Ward', 'ward_key': 'phuong14'}}, 'phuong10': {'Ward': {'ward': 'Phường 10', 'long_ward': 'Phường 10', 'short_ward': 'Phường 10', 'ward_english': 'Ward 10', 'long_ward_english': 'Ward 10', 'short_ward_english': 'Ward 10', 'ward_level': 'Phường', 'ward_level_english': 'Ward', 'ward_key': 'phuong10'}}, 'phuong11': {'Ward': {'ward': 'Phường 11', 'long_ward': 'Phường 11', 'short_ward': 'Phường 11', 'ward_english': 'Ward 11', 'long_ward_english': 'Ward 11', 'short_ward_english': 'Ward 11', 'ward_level': 'Phường', 'ward_level_english': 'Ward', 'ward_key': 'phuong11'}}, 'phuong13': {'Ward': {'ward': 'Phường 13', 'long_ward': 'Phường 13', 'short_ward': 'Phường 13', 'ward_english': 'Ward 13', 'long_ward_english': 'Ward 13', 'short_ward_english': 'Ward 13', 'ward_level': 'Phường', 'ward_level_english': 'Ward', 'ward_key': 'phuong13'}}, 'phuong12': {'Ward': {'ward': 'Phường 12', 'long_ward': 'Phường 12', 'short_ward': 'Phường 12', 'ward_english': 'Ward 12', 'long_ward_english': 'Ward 12', 'short_ward_english': 'Ward 12', 'ward_level': 'Phường', 'ward_level_english': 'Ward', 'ward_key': 'phuong12'}}, 'phuong9': {'Ward': {'ward': 'Phường 9', 'long_ward': 'Phường 9', 'short_ward': 'Phường 9', 'ward_english': 'Ward 9', 'long_ward_english': 'Ward 9', 'short_ward_english': 'Ward 9', 'ward_level': 'Phường', 'ward_level_english': 'Ward', 'ward_key': 'phuong9'}}, 'phuong8': {'Ward': {'ward': 'Phường 8', 'long_ward': 'Phường 8', 'short_ward': 'Phường 8', 'ward_english': 'Ward 8', 'long_ward_english': 'Ward 8', 'short_ward_english': 'Ward 8', 'ward_level': 'Phường', 'ward_level_english': 'Ward', 'ward_key': 'phuong8'}}, 'phuong6': {'Ward': {'ward': 'Phường 6', 'long_ward': 'Phường 6', 'short_ward': 'Phường 6', 'ward_english': 'Ward 6', 'long_ward_english': 'Ward 6', 'short_ward_english': 'Ward 6', 'ward_level': 'Phường', 'ward_level_english': 'Ward', 'ward_key': 'phuong6'}}, 'phuong5': {'Ward': {'ward': 'Phường 5', 'long_ward': 'Phường 5', 'short_ward': 'Phường 5', 'ward_english': 'Ward 5', 'long_ward_english': 'Ward 5', 'short_ward_english': 'Ward 5', 'ward_level': 'Phường', 'ward_level_english': 'Ward', 'ward_key': 'phuong5'}}, 'phuong7': {'Ward': {'ward': 'Phường 7', 'long_ward': 'Phường 7', 'short_ward': 'Phường 7', 'ward_english': 'Ward 7', 'long_ward_english': 'Ward 7', 'short_ward_english': 'Ward 7', 'ward_level': 'Phường', 'ward_level_english': 'Ward', 'ward_key': 'phuong7'}}, 'phuong1': {'Ward': {'ward': 'Phường 1', 'long_ward': 'Phường 1', 'short_ward': 'Phường 1', 'ward_english': 'Ward 1', 'long_ward_english': 'Ward 1', 'short_ward_english': 'Ward 1', 'ward_level': 'Phường', 'ward_level_english': 'Ward', 'ward_key': 'phuong1'}}, 'phuong4': {'Ward': {'ward': 'Phường 4', 'long_ward': 'Phường 4', 'short_ward': 'Phường 4', 'ward_english': 'Ward 4', 'long_ward_english': 'Ward 4', 'short_ward_english': 'Ward 4', 'ward_level': 'Phường', 'ward_level_english': 'Ward', 'ward_key': 'phuong4'}}, 'phuong2': {'Ward': {'ward': 'Phường 2', 'long_ward': 'Phường 2', 'short_ward': 'Phường 2', 'ward_english': 'Ward 2', 'long_ward_english': 'Ward 2', 'short_ward_english': 'Ward 2', 'ward_level': 'Phường', 'ward_level_english': 'Ward', 'ward_key': 'phuong2'}}, 'phuong3': {'Ward': {'ward': 'Phường 3', 'long_ward': 'Phường 3', 'short_ward': 'Phường 3', 'ward_english': 'Ward 3', 'long_ward_english': 'Ward 3', 'short_ward_english': 'Ward 3', 'ward_level': 'Phường', 'ward_level_english': 'Ward', 'ward_key': 'phuong3'}}, 'ward15': {'Ward': {'ward': 'Phường 15', 'long_ward': 'Phường 15', 'short_ward': 'Phường 15', 'ward_english': 'Ward 15', 'long_ward_english': 'Ward 15', 'short_ward_english': 'Ward 15', 'ward_level': 'Phường', 'ward_level_english': 'Ward', 'ward_key': 'ward15'}}, 'ward14': {'Ward': {'ward': 'Phường 14', 'long_ward': 'Phường 14', 'short_ward': 'Phường 14', 'ward_english': 'Ward 14', 'long_ward_english': 'Ward 14', 'short_ward_english': 'Ward 14', 'ward_level': 'Phường', 'ward_level_english': 'Ward', 'ward_key': 'ward14'}}, 'ward10': {'Ward': {'ward': 'Phường 10', 'long_ward': 'Phường 10', 'short_ward': 'Phường 10', 'ward_english': 'Ward 10', 'long_ward_english': 'Ward 10', 'short_ward_english': 'Ward 10', 'ward_level': 'Phường', 'ward_level_english': 'Ward', 'ward_key': 'ward10'}}, 'ward11': {'Ward': {'ward': 'Phường 11', 'long_ward': 'Phường 11', 'short_ward': 'Phường 11', 'ward_english': 'Ward 11', 'long_ward_english': 'Ward 11', 'short_ward_english': 'Ward 11', 'ward_level': 'Phường', 'ward_level_english': 'Ward', 'ward_key': 'ward11'}}, 'ward13': {'Ward': {'ward': 'Phường 13', 'long_ward': 'Phường 13', 'short_ward': 'Phường 13', 'ward_english': 'Ward 13', 'long_ward_english': 'Ward 13', 'short_ward_english': 'Ward 13', 'ward_level': 'Phường', 'ward_level_english': 'Ward', 'ward_key': 'ward13'}}, 'ward12': {'Ward': {'ward': 'Phường 12', 'long_ward': 'Phường 12', 'short_ward': 'Phường 12', 'ward_english': 'Ward 12', 'long_ward_english': 'Ward 12', 'short_ward_english': 'Ward 12', 'ward_level': 'Phường', 'ward_level_english': 'Ward', 'ward_key': 'ward12'}}, 'ward9': {'Ward': {'ward': 'Phường 9', 'long_ward': 'Phường 9', 'short_ward': 'Phường 9', 'ward_english': 'Ward 9', 'long_ward_english': 'Ward 9', 'short_ward_english': 'Ward 9', 'ward_level': 'Phường', 'ward_level_english': 'Ward', 'ward_key': 'ward9'}}, 'ward8': {'Ward': {'ward': 'Phường 8', 'long_ward': 'Phường 8', 'short_ward': 'Phường 8', 'ward_english': 'Ward 8', 'long_ward_english': 'Ward 8', 'short_ward_english': 'Ward 8', 'ward_level': 'Phường', 'ward_level_english': 'Ward', 'ward_key': 'ward8'}}, 'ward6': {'Ward': {'ward': 'Phường 6', 'long_ward': 'Phường 6', 'short_ward': 'Phường 6', 'ward_english': 'Ward 6', 'long_ward_english': 'Ward 6', 'short_ward_english': 'Ward 6', 'ward_level': 'Phường', 'ward_level_english': 'Ward', 'ward_key': 'ward6'}}, 'ward5': {'Ward': {'ward': 'Phường 5', 'long_ward': 'Phường 5', 'short_ward': 'Phường 5', 'ward_english': 'Ward 5', 'long_ward_english': 'Ward 5', 'short_ward_english': 'Ward 5', 'ward_level': 'Phường', 'ward_level_english': 'Ward', 'ward_key': 'ward5'}}, 'ward7': {'Ward': {'ward': 'Phường 7', 'long_ward': 'Phường 7', 'short_ward': 'Phường 7', 'ward_english': 'Ward 7', 'long_ward_english': 'Ward 7', 'short_ward_english': 'Ward 7', 'ward_level': 'Phường', 'ward_level_english': 'Ward', 'ward_key': 'ward7'}}, 'ward1': {'Ward': {'ward': 'Phường 1', 'long_ward': 'Phường 1', 'short_ward': 'Phường 1', 'ward_english': 'Ward 1', 'long_ward_english': 'Ward 1', 'short_ward_english': 'Ward 1', 'ward_level': 'Phường', 'ward_level_english': 'Ward', 'ward_key': 'ward1'}}, 'ward4': {'Ward': {'ward': 'Phường 4', 'long_ward': 'Phường 4', 'short_ward': 'Phường 4', 'ward_english': 'Ward 4', 'long_ward_english': 'Ward 4', 'short_ward_english': 'Ward 4', 'ward_level': 'Phường', 'ward_level_english': 'Ward', 'ward_key': 'ward4'}}, 'ward2': {'Ward': {'ward': 'Phường 2', 'long_ward': 'Phường 2', 'short_ward': 'Phường 2', 'ward_english': 'Ward 2', 'long_ward_english': 'Ward 2', 'short_ward_english': 'Ward 2', 'ward_level': 'Phường', 'ward_level_english': 'Ward', 'ward_key': 'ward2'}}, 'ward3': {'Ward': {'ward': 'Phường 3', 'long_ward': 'Phường 3', 'short_ward': 'Phường 3', 'ward_english': 'Ward 3', 'long_ward_english': 'Ward 3', 'short_ward_english': 'Ward 3', 'ward_level': 'Phường', 'ward_level_english': 'Ward', 'ward_key': 'ward3'}}, 'p.15': {'Ward': {'ward': 'Phường 15', 'long_ward': 'Phường 15', 'short_ward': 'Phường 15', 'ward_english': 'Ward 15', 'long_ward_english': 'Ward 15', 'short_ward_english': 'Ward 15', 'ward_level': 'Phường', 'ward_level_english': 'Ward', 'ward_key': 'p.15'}}, 'p.14': {'Ward': {'ward': 'Phường 14', 'long_ward': 'Phường 14', 'short_ward': 'Phường 14', 'ward_english': 'Ward 14', 'long_ward_english': 'Ward 14', 'short_ward_english': 'Ward 14', 'ward_level': 'Phường', 'ward_level_english': 'Ward', 'ward_key': 'p.14'}}, 'p.10': {'Ward': {'ward': 'Phường 10', 'long_ward': 'Phường 10', 'short_ward': 'Phường 10', 'ward_english': 'Ward 10', 'long_ward_english': 'Ward 10', 'short_ward_english': 'Ward 10', 'ward_level': 'Phường', 'ward_level_english': 'Ward', 'ward_key': 'p.10'}}, 'p.11': {'Ward': {'ward': 'Phường 11', 'long_ward': 'Phường 11', 'short_ward': 'Phường 11', 'ward_english': 'Ward 11', 'long_ward_english': 'Ward 11', 'short_ward_english': 'Ward 11', 'ward_level': 'Phường', 'ward_level_english': 'Ward', 'ward_key': 'p.11'}}, 'p.13': {'Ward': {'ward': 'Phường 13', 'long_ward': 'Phường 13', 'short_ward': 'Phường 13', 'ward_english': 'Ward 13', 'long_ward_english': 'Ward 13', 'short_ward_english': 'Ward 13', 'ward_level': 'Phường', 'ward_level_english': 'Ward', 'ward_key': 'p.13'}}, 'p.12': {'Ward': {'ward': 'Phường 12', 'long_ward': 'Phường 12', 'short_ward': 'Phường 12', 'ward_english': 'Ward 12', 'long_ward_english': 'Ward 12', 'short_ward_english': 'Ward 12', 'ward_level': 'Phường', 'ward_level_english': 'Ward', 'ward_key': 'p.12'}}, 'p.9': {'Ward': {'ward': 'Phường 9', 'long_ward': 'Phường 9', 'short_ward': 'Phường 9', 'ward_english': 'Ward 9', 'long_ward_english': 'Ward 9', 'short_ward_english': 'Ward 9', 'ward_level': 'Phường', 'ward_level_english': 'Ward', 'ward_key': 'p.9'}}, 'p.8': {'Ward': {'ward': 'Phường 8', 'long_ward': 'Phường 8', 'short_ward': 'Phường 8', 'ward_english': 'Ward 8', 'long_ward_english': 'Ward 8', 'short_ward_english': 'Ward 8', 'ward_level': 'Phường', 'ward_level_english': 'Ward', 'ward_key': 'p.8'}}, 'p.6': {'Ward': {'ward': 'Phường 6', 'long_ward': 'Phường 6', 'short_ward': 'Phường 6', 'ward_english': 'Ward 6', 'long_ward_english': 'Ward 6', 'short_ward_english': 'Ward 6', 'ward_level': 'Phường', 'ward_level_english': 'Ward', 'ward_key': 'p.6'}}, 'p.5': {'Ward': {'ward': 'Phường 5', 'long_ward': 'Phường 5', 'short_ward': 'Phường 5', 'ward_english': 'Ward 5', 'long_ward_english': 'Ward 5', 'short_ward_english': 'Ward 5', 'ward_level': 'Phường', 'ward_level_english': 'Ward', 'ward_key': 'p.5'}}, 'p.7': {'Ward': {'ward': 'Phường 7', 'long_ward': 'Phường 7', 'short_ward': 'Phường 7', 'ward_english': 'Ward 7', 'long_ward_english': 'Ward 7', 'short_ward_english': 'Ward 7', 'ward_level': 'Phường', 'ward_level_english': 'Ward', 'ward_key': 'p.7'}}, 'p.1': {'Ward': {'ward': 'Phường 1', 'long_ward': 'Phường 1', 'short_ward': 'Phường 1', 'ward_english': 'Ward 1', 'long_ward_english': 'Ward 1', 'short_ward_english': 'Ward 1', 'ward_level': 'Phường', 'ward_level_english': 'Ward', 'ward_key': 'p.1'}}, 'p.4': {'Ward': {'ward': 'Phường 4', 'long_ward': 'Phường 4', 'short_ward': 'Phường 4', 'ward_english': 'Ward 4', 'long_ward_english': 'Ward 4', 'short_ward_english': 'Ward 4', 'ward_level': 'Phường', 'ward_level_english': 'Ward', 'ward_key': 'p.4'}}, 'p.2': {'Ward': {'ward': 'Phường 2', 'long_ward': 'Phường 2', 'short_ward': 'Phường 2', 'ward_english': 'Ward 2', 'long_ward_english': 'Ward 2', 'short_ward_english': 'Ward 2', 'ward_level': 'Phường', 'ward_level_english': 'Ward', 'ward_key': 'p.2'}}, 'p.3': {'Ward': {'ward': 'Phường 3', 'long_ward': 'Phường 3', 'short_ward': 'Phường 3', 'ward_english': 'Ward 3', 'long_ward_english': 'Ward 3', 'short_ward_english': 'Ward 3', 'ward_level': 'Phường', 'ward_level_english': 'Ward', 'ward_key': 'p.3'}}}\n"
     ]
    }
   ],
   "source": [
    "print(ward_map['Ho Chi Minh']['Tan Binh'])"
   ],
   "metadata": {
    "collapsed": false,
    "ExecuteTime": {
     "end_time": "2024-09-20T09:53:52.596378Z",
     "start_time": "2024-09-20T09:53:52.590581Z"
    }
   },
   "id": "c78473258c2ed315",
   "execution_count": 71
  },
  {
   "cell_type": "markdown",
   "source": [
    "After this step, we got these data for module:\n",
    "- `province_map`\n",
    "- `district_map`\n",
    "- `ward_map`"
   ],
   "metadata": {
    "collapsed": false
   },
   "id": "85ec88362f0bea9"
  },
  {
   "cell_type": "markdown",
   "source": [
    "### Create double check dictionaries\n",
    "Some address will cause wrong mapping because they have ward_key is as same as other province's province_key.\n",
    "- Use **sub_2_create_double_check_keywords.ipynb** to get the data.\n",
    "- Note that after saving this data to module, we can not create the data again."
   ],
   "metadata": {
    "collapsed": false
   },
   "id": "7e9f3c281b5238c9"
  },
  {
   "cell_type": "code",
   "outputs": [],
   "source": [
    "double_check_provinces = {\n",
    "    'angiang': ['thainguyen', 'ninhbinh', 'thanhhoa'],\n",
    "    'hoabinh': ['thainguyen',\n",
    "    'langson',\n",
    "    'haiphong',\n",
    "    'thaibinh',\n",
    "    'dongnai',\n",
    "    'vinhlong',\n",
    "    'dongthap'],\n",
    "    'binhthuan': ['thainguyen', 'quangngai', 'binhdinh'],\n",
    "    'thanhhoa': ['langson', 'binhphuoc', 'travinh', 'kiengiang', 'haugiang'],\n",
    "    'thaibinh': ['langson', 'tayninh'],\n",
    "    'hagiang': ['thaibinh', 'thanhhoa'],\n",
    "    'quangbinh': ['thaibinh', 'thanhhoa'],\n",
    "    'sonla': ['ninhbinh', 'quangngai', 'khanhhoa'],\n",
    "    'khanhhoa': ['ninhbinh', 'kiengiang'],\n",
    "    'longan': ['thanhhoa', 'dongnai', 'vinhlong'],\n",
    "    'quangninh': ['thanhhoa'],\n",
    "    'vinhlong': ['quangtri'],\n",
    "    'haiduong': ['quangtri'],\n",
    "    'haiphong': ['quangtri'],\n",
    "    'binhduong': ['quangnam', 'quangngai', 'binhdinh'],\n",
    "    'binhdinh': ['quangnam'],\n",
    "    'hungyen': ['kiengiang']\n",
    "}\n",
    "\n",
    "# double_check_provinces = {} # testing"
   ],
   "metadata": {
    "collapsed": false,
    "ExecuteTime": {
     "end_time": "2024-09-20T09:53:52.599857Z",
     "start_time": "2024-09-20T09:53:52.597007Z"
    }
   },
   "id": "583daf5f5624ebf6",
   "execution_count": 72
  },
  {
   "cell_type": "markdown",
   "source": [
    "Some address will cause wrong mapping because they have ward_key is as same as other district's district_key."
   ],
   "metadata": {
    "collapsed": false
   },
   "id": "8ce87f2d7eddb04a"
  },
  {
   "cell_type": "code",
   "outputs": [],
   "source": [
    "double_check_districts = {'unghoa': ['caugiay', 'chuongmy'],\n",
    " 'thanhtri': ['hoangmai'],\n",
    " 'thanhxuan': ['socson'],\n",
    " 'thanhoai': ['thanhtri'],\n",
    " 'thongnong': ['haquang'],\n",
    " 'tralinh': ['trungkhanh'],\n",
    " 'quanguyen': ['quanghoa'],\n",
    " 'chora': ['babe'],\n",
    " 'yenson': ['sonduong'],\n",
    " 'camduong': ['laocai'],\n",
    " 'muongla': ['phuyen', 'songma', 'sopcop'],\n",
    " 'tranyen': ['lucyen', 'yenbinh'],\n",
    " 'kyson': ['hoabinh', 'tanky'],\n",
    " 'chilang': ['langson', 'trangdinh'],\n",
    " 'honggai': ['halong'],\n",
    " 'hoanhbo': ['halong'],\n",
    " 'uongbi': ['mongcai'],\n",
    " 'halong': ['vandon'],\n",
    " 'haiduong': ['binhgiang'],\n",
    " 'anduong': ['lechan', 'duongkinh', 'thuynguyen', 'vinhbao'],\n",
    " 'catba': ['cathai'],\n",
    " 'phucu': ['hungyen'],\n",
    " 'myloc': ['namdinh'],\n",
    " 'dongson': ['thanhhoa', 'bimson'],\n",
    " 'hatrung': ['bathuoc'],\n",
    " 'thanhhoa': ['nhuxuan', 'benluc'],\n",
    " 'vinh': ['anhson', 'yenthanh', 'hoangmai'],\n",
    " 'yenthanh': ['thanhchuong'],\n",
    " 'anhson': ['thanhchuong', 'namdan'],\n",
    " 'thachha': ['hatinh'],\n",
    " 'huongthuy': ['hue'],\n",
    " 'giang': ['thangbinh', 'bactramy', 'nuithanh'],\n",
    " 'tramy': ['bactramy'],\n",
    " 'sontinh': ['sontay'],\n",
    " 'ducpho': ['moduc'],\n",
    " 'dakto': ['konray', 'tumorong'],\n",
    " 'dakha': ['tumorong'],\n",
    " 'dakpo': ['kongchro'],\n",
    " 'iapa': ['chuse'],\n",
    " 'krongbuk': ['krongpac'],\n",
    " 'phuocbinh': ['phuoclong'],\n",
    " 'hoathanh': ['chauthanh'],\n",
    " 'laithieu': ['thuanan'],\n",
    " 'thongnhat': ['bienhoa'],\n",
    " 'vinhan': ['vinhcuu'],\n",
    " 'binhchanh': ['thuduc'],\n",
    " 'tanphu': ['thuduc', 'quan7', 'cuchi'],\n",
    " 'tanthanh': ['mochoa', 'thuthua'],\n",
    " 'tanan': ['canduoc'],\n",
    " 'tanhung': ['chauthanh'],\n",
    " 'tanphuoc': ['gocongdong'],\n",
    " 'mocay': ['mocaynam'],\n",
    " 'thanhphu': ['giongtrom', 'binhdai'],\n",
    " 'cainhum': ['mangthit'],\n",
    " 'longho': ['mangthit'],\n",
    " 'chauphu': ['chaudoc'],\n",
    " 'anphu': ['phutan', 'tinhbien', 'chauthanh', 'thoaison'],\n",
    " 'anminh': ['chauthanh', 'uminhthuong'],\n",
    " 'vithanh': ['vithuy']}\n",
    "\n",
    "# double_check_districts = {} # tesing"
   ],
   "metadata": {
    "collapsed": false,
    "ExecuteTime": {
     "end_time": "2024-09-20T09:53:52.608962Z",
     "start_time": "2024-09-20T09:53:52.600558Z"
    }
   },
   "id": "e838dbdf6fd290df",
   "execution_count": 73
  },
  {
   "cell_type": "markdown",
   "source": [
    "## Support find province from unique districts\n",
    "\n",
    "Điều kiện 1: district_key not in ward_keys.\n",
    "Điều kiện 2: district_count = 1, sau khi đã drop_duplicated [province_key, district_key]\n",
    "Điều kiện 3: district_key not in province_keys của tỉnh khác.\n",
    "\n",
    "Nếu district_key = province_key của chính nó:\n",
    ">> Lấy danh sách long_district_alphanumerices (bao gồm Việt và English), nếu tồn tại trong address thì sau khi tìm được province_key sẽ không bị xóa province_key trong địa chỉ.\n",
    "\n",
    "\n",
    "Nếu district_key != province_key của chính nó, tức là unique tuyệt đối:\n",
    ">> Lấy danh sách unique_district_keys, nếu không tìm được province_key thì tìm unique_district_key để suy ngược ra province_key"
   ],
   "metadata": {
    "collapsed": false
   },
   "id": "d73800f8313ff044"
  },
  {
   "cell_type": "code",
   "outputs": [],
   "source": [
    "df = pd.read_csv('../../data/output/vietnam_administrative_units.csv')\n",
    "df['province_key'] = df['province'].apply(lambda x: to_key(x, 1))\n",
    "df['district_key'] = df['short_district'].apply(lambda x: to_key(x, 2))\n",
    "df['ward_key'] = df['short_ward'].apply(lambda x: to_key(x, 3))\n",
    "df['ward_alphanumeric'] = df['long_ward'].apply(to_alphanumeric)\n",
    "\n",
    "\n",
    "province_keys = df['province_key'].unique().tolist()\n",
    "district_keys = df['district_key'].unique().tolist()\n",
    "ward_keys = df['ward_key'].unique().tolist()\n",
    "ward_alphanumerics = df['ward_alphanumeric'].unique().tolist()\n",
    "str_ward_alphanumerics = str(ward_alphanumerics)"
   ],
   "metadata": {
    "collapsed": false,
    "ExecuteTime": {
     "end_time": "2024-09-20T09:53:52.787997Z",
     "start_time": "2024-09-20T09:53:52.609471Z"
    }
   },
   "id": "6ebf91a6940e0943",
   "execution_count": 74
  },
  {
   "cell_type": "code",
   "outputs": [],
   "source": [
    "# Add alias key. Eg: Quan 2, Quan 9 are Thu Duc\n",
    "for key in district_alias_keys:\n",
    "    province_english, district_english, district_key = key\n",
    "    df = add_district_key(df, province_english, district_english, district_key)"
   ],
   "metadata": {
    "collapsed": false,
    "ExecuteTime": {
     "end_time": "2024-09-20T09:53:53.035439Z",
     "start_time": "2024-09-20T09:53:52.788541Z"
    }
   },
   "id": "7611da640df96696",
   "execution_count": 75
  },
  {
   "cell_type": "code",
   "outputs": [],
   "source": [
    "df_district_filter = df[~df.district_key.apply(lambda x: x in str_ward_alphanumerics)]"
   ],
   "metadata": {
    "collapsed": false,
    "ExecuteTime": {
     "end_time": "2024-09-20T09:53:53.476090Z",
     "start_time": "2024-09-20T09:53:53.035969Z"
    }
   },
   "id": "7071f69753bef92f",
   "execution_count": 76
  },
  {
   "cell_type": "code",
   "outputs": [],
   "source": [
    "df_district_filter_count = df_district_filter[['province_key', 'district_key']].drop_duplicates()['district_key'].value_counts().reset_index()\n",
    "one_district_keys = df_district_filter_count[df_district_filter_count['count']==1]['district_key'].tolist()\n",
    "df_district_filter = df_district_filter[df_district_filter.district_key.isin(one_district_keys)][['province_key', 'district_key', 'long_district', 'long_district_english']].drop_duplicates()\n",
    "\n",
    "def check_valid_district_key(district_key, province_key):\n",
    "    if district_key in province_keys and district_key != province_key:\n",
    "        return False\n",
    "    else:\n",
    "        return True\n",
    "    \n",
    "df_district_filter['is_valid_district_key'] = df_district_filter.apply(lambda x: check_valid_district_key(x['district_key'], x['province_key']), axis=1)\n",
    "df_district_filter = df_district_filter[df_district_filter.is_valid_district_key]\n",
    "df_district_filter['same_key'] = np.where(df_district_filter.province_key == df_district_filter.district_key, True, False)\n",
    "\n",
    "long_district_alphanumerics = []\n",
    "for row in df_district_filter[df_district_filter.same_key].itertuples():\n",
    "    long_district_alphanumerics.append(to_alphanumeric(row.long_district))\n",
    "    long_district_alphanumerics.append(to_alphanumeric(row.long_district).replace('thanhpho', 'tp.'))\n",
    "    long_district_alphanumerics.append(to_alphanumeric(row.long_district_english))\n",
    "    \n",
    "    \n",
    "unique_district_keys = {}\n",
    "for row in df_district_filter[~df_district_filter.same_key][['province_key', 'district_key']].drop_duplicates().itertuples():\n",
    "    unique_district_keys[row.district_key] = row.province_key\n",
    "    district_key = row.district_key\n",
    "    if re.search(r'^quan\\d{1,2}', district_key):\n",
    "        district_key = re.sub('^quan', 'q.', district_key)\n",
    "        unique_district_keys[district_key] = row.province_key"
   ],
   "metadata": {
    "collapsed": false,
    "ExecuteTime": {
     "end_time": "2024-09-20T09:53:53.492557Z",
     "start_time": "2024-09-20T09:53:53.478005Z"
    }
   },
   "id": "d2b4db8bf5dd5cfd",
   "execution_count": 77
  },
  {
   "cell_type": "code",
   "outputs": [
    {
     "data": {
      "text/plain": "36"
     },
     "execution_count": 78,
     "metadata": {},
     "output_type": "execute_result"
    }
   ],
   "source": [
    "len(long_district_alphanumerics)"
   ],
   "metadata": {
    "collapsed": false,
    "ExecuteTime": {
     "end_time": "2024-09-20T09:53:53.495029Z",
     "start_time": "2024-09-20T09:53:53.493032Z"
    }
   },
   "id": "f091f2a7f8420957",
   "execution_count": 78
  },
  {
   "cell_type": "code",
   "outputs": [
    {
     "data": {
      "text/plain": "['thanhphocaobang',\n 'tp.caobang',\n 'caobangcity',\n 'thanhphobackan',\n 'tp.backan',\n 'backancity',\n 'thanhphotuyenquang',\n 'tp.tuyenquang',\n 'tuyenquangcity',\n 'thanhphobacgiang',\n 'tp.bacgiang',\n 'bacgiangcity',\n 'thanhphobacninh',\n 'tp.bacninh',\n 'bacninhcity',\n 'thanhphonamdinh',\n 'tp.namdinh',\n 'namdinhcity',\n 'thanhphohatinh',\n 'tp.hatinh',\n 'hatinhcity',\n 'thanhphokontum',\n 'tp.kontum',\n 'kontumcity',\n 'thanhphobentre',\n 'tp.bentre',\n 'bentrecity',\n 'thanhphosoctrang',\n 'tp.soctrang',\n 'soctrangcity',\n 'thanhphobaclieu',\n 'tp.baclieu',\n 'baclieucity',\n 'thanhphocamau',\n 'tp.camau',\n 'camaucity']"
     },
     "execution_count": 79,
     "metadata": {},
     "output_type": "execute_result"
    }
   ],
   "source": [
    "long_district_alphanumerics"
   ],
   "metadata": {
    "collapsed": false,
    "ExecuteTime": {
     "end_time": "2024-09-20T09:53:53.497497Z",
     "start_time": "2024-09-20T09:53:53.495527Z"
    }
   },
   "id": "b2acdb3e7cd4f9e7",
   "execution_count": 79
  },
  {
   "cell_type": "code",
   "outputs": [
    {
     "data": {
      "text/plain": "212"
     },
     "execution_count": 80,
     "metadata": {},
     "output_type": "execute_result"
    }
   ],
   "source": [
    "len(unique_district_keys)"
   ],
   "metadata": {
    "collapsed": false,
    "ExecuteTime": {
     "end_time": "2024-09-20T09:53:53.499859Z",
     "start_time": "2024-09-20T09:53:53.498027Z"
    }
   },
   "id": "9607ff5a96564e72",
   "execution_count": 80
  },
  {
   "cell_type": "code",
   "outputs": [
    {
     "data": {
      "text/plain": "{'hoankiem': 'hanoi',\n 'caugiay': 'hanoi',\n 'namtuliem': 'hanoi',\n 'bactuliem': 'hanoi',\n 'thachthat': 'hanoi',\n 'chuongmy': 'hanoi',\n 'bacme': 'hagiang',\n 'hoangsuphi': 'hagiang',\n 'bacquang': 'hagiang',\n 'haquang': 'caobang',\n 'thachan': 'caobang',\n 'pacnam': 'backan',\n 'babe': 'backan',\n 'bachthong': 'backan',\n 'chodon': 'backan',\n 'nari': 'backan',\n 'lambinh': 'tuyenquang',\n 'chiemhoa': 'tuyenquang',\n 'hamyen': 'tuyenquang',\n 'dienbienphu': 'dienbien',\n 'muonglay': 'dienbien',\n 'nampo': 'dienbien',\n 'quynhnhai': 'sonla',\n 'lucyen': 'yenbai',\n 'vanchan': 'yenbai',\n 'yenthuy': 'hoabinh',\n 'lacthuy': 'hoabinh',\n 'songcong': 'thainguyen',\n 'donghy': 'thainguyen',\n 'vonhai': 'thainguyen',\n 'phoyen': 'thainguyen',\n 'trangdinh': 'langson',\n 'mongcai': 'quangninh',\n 'campha': 'quangninh',\n 'lucnam': 'bacgiang',\n 'lucngan': 'bacgiang',\n 'yendung': 'bacgiang',\n 'vietyen': 'bacgiang',\n 'viettri': 'phutho',\n 'quevo': 'bacninh',\n 'chilinh': 'haiduong',\n 'kinhmon': 'haiduong',\n 'hongbang': 'haiphong',\n 'duongkinh': 'haiphong',\n 'thuynguyen': 'haiphong',\n 'kienthuy': 'haiphong',\n 'bachlongvi': 'haiphong',\n 'myhao': 'hungyen',\n 'duytien': 'hanam',\n 'kimbang': 'hanam',\n 'thanhliem': 'hanam',\n 'binhluc': 'hanam',\n 'namtruc': 'namdinh',\n 'trucninh': 'namdinh',\n 'haihau': 'namdinh',\n 'tamdiep': 'ninhbinh',\n 'bimson': 'thanhhoa',\n 'samson': 'thanhhoa',\n 'bathuoc': 'thanhhoa',\n 'thachthanh': 'thanhhoa',\n 'nhuxuan': 'thanhhoa',\n 'nhuthanh': 'thanhhoa',\n 'quangxuong': 'thanhhoa',\n 'cualo': 'nghean',\n 'quychau': 'nghean',\n 'tuongduong': 'nghean',\n 'nghiloc': 'nghean',\n 'canloc': 'hatinh',\n 'kyanh': 'hatinh',\n 'tuyenhoa': 'quangbinh',\n 'botrach': 'quangbinh',\n 'lethuy': 'quangbinh',\n 'vinhlinh': 'quangtri',\n 'trieuphong': 'quangtri',\n 'conco': 'quangtri',\n 'lienchieu': 'danang',\n 'nguhanhson': 'danang',\n 'camle': 'danang',\n 'hoavang': 'danang',\n 'hoangsa': 'danang',\n 'dienban': 'quangnam',\n 'duyxuyen': 'quangnam',\n 'queson': 'quangnam',\n 'tienphuoc': 'quangnam',\n 'bactramy': 'quangnam',\n 'namtramy': 'quangnam',\n 'nongson': 'quangnam',\n 'trabong': 'quangngai',\n 'tunghia': 'quangngai',\n 'lyson': 'quangngai',\n 'quynhon': 'binhdinh',\n 'hoainhon': 'binhdinh',\n 'hoaian': 'binhdinh',\n 'tuyhoa': 'phuyen',\n 'tuyan': 'phuyen',\n 'nhatrang': 'khanhhoa',\n 'camranh': 'khanhhoa',\n 'phanrangthapcham': 'ninhthuan',\n 'bacai': 'ninhthuan',\n 'thuanbac': 'ninhthuan',\n 'lagi': 'binhthuan',\n 'tuyphong': 'binhthuan',\n 'hamthuanbac': 'binhthuan',\n 'hamthuannam': 'binhthuan',\n 'tanhlinh': 'binhthuan',\n 'konplong': 'kontum',\n 'konray': 'kontum',\n 'iahdrai': 'kontum',\n 'pleiku': 'gialai',\n 'ayunpa': 'gialai',\n 'chupah': 'gialai',\n 'iagrai': 'gialai',\n 'mangyang': 'gialai',\n 'ducco': 'gialai',\n 'chupuh': 'gialai',\n 'buonmathuot': 'daklak',\n 'buonho': 'daklak',\n 'buondon': 'daklak',\n 'krongbong': 'daklak',\n 'krongpac': 'daklak',\n 'krongana': 'daklak',\n 'cukuin': 'daklak',\n 'gianghia': 'daknong',\n 'dakglong': 'daknong',\n 'cujut': 'daknong',\n 'dakrlap': 'daknong',\n 'tuyduc': 'daknong',\n 'dalat': 'lamdong',\n 'baoloc': 'lamdong',\n 'donduong': 'lamdong',\n 'ductrong': 'lamdong',\n 'dahuoai': 'lamdong',\n 'dongxoai': 'binhphuoc',\n 'budop': 'binhphuoc',\n 'honquan': 'binhphuoc',\n 'budang': 'binhphuoc',\n 'chonthanh': 'binhphuoc',\n 'thudaumot': 'binhduong',\n 'baubang': 'binhduong',\n 'bencat': 'binhduong',\n 'phugiao': 'binhduong',\n 'bactanuyen': 'binhduong',\n 'bienhoa': 'dongnai',\n 'vinhcuu': 'dongnai',\n 'nhontrach': 'dongnai',\n 'vungtau': 'bariavungtau',\n 'baria': 'bariavungtau',\n 'chauduc': 'bariavungtau',\n 'condao': 'bariavungtau',\n 'quan1': 'hochiminh',\n 'q.1': 'hochiminh',\n 'quan12': 'hochiminh',\n 'q.12': 'hochiminh',\n 'govap': 'hochiminh',\n 'thuduc': 'hochiminh',\n 'quan3': 'hochiminh',\n 'q.3': 'hochiminh',\n 'quan10': 'hochiminh',\n 'q.10': 'hochiminh',\n 'quan11': 'hochiminh',\n 'q.11': 'hochiminh',\n 'quan4': 'hochiminh',\n 'q.4': 'hochiminh',\n 'quan5': 'hochiminh',\n 'q.5': 'hochiminh',\n 'quan6': 'hochiminh',\n 'q.6': 'hochiminh',\n 'quan8': 'hochiminh',\n 'q.8': 'hochiminh',\n 'quan7': 'hochiminh',\n 'q.7': 'hochiminh',\n 'cangio': 'hochiminh',\n 'kientuong': 'longan',\n 'mochoa': 'longan',\n 'duchue': 'longan',\n 'gocong': 'tiengiang',\n 'cailay': 'tiengiang',\n 'gocongtay': 'tiengiang',\n 'gocongdong': 'tiengiang',\n 'mocaynam': 'bentre',\n 'mocaybac': 'bentre',\n 'mangthit': 'vinhlong',\n 'caolanh': 'dongthap',\n 'sadec': 'dongthap',\n 'thapmuoi': 'dongthap',\n 'chaudoc': 'angiang',\n 'thoaison': 'angiang',\n 'rachgia': 'kiengiang',\n 'phuquoc': 'kiengiang',\n 'kienhai': 'kiengiang',\n 'uminhthuong': 'kiengiang',\n 'giangthanh': 'kiengiang',\n 'ninhkieu': 'cantho',\n 'omon': 'cantho',\n 'cairang': 'cantho',\n 'chauthanha': 'haugiang',\n 'nganam': 'soctrang',\n 'hongdan': 'baclieu',\n 'giarai': 'baclieu',\n 'ngochien': 'camau',\n 'hueduc': 'angiang',\n 'khanhxuong': 'khanhhoa',\n 'dongthieu': 'thanhhoa',\n 'thieuyen': 'thanhhoa',\n 'quan2': 'hochiminh',\n 'q.2': 'hochiminh',\n 'quan9': 'hochiminh',\n 'q.9': 'hochiminh',\n 'chauthanhdong': 'travinh',\n 'chauthanhtay': 'vinhlong',\n 'hamthuan': 'binhthuan',\n 'tuliem': 'hanoi'}"
     },
     "execution_count": 81,
     "metadata": {},
     "output_type": "execute_result"
    }
   ],
   "source": [
    "unique_district_keys"
   ],
   "metadata": {
    "collapsed": false,
    "ExecuteTime": {
     "end_time": "2024-09-20T09:53:53.504028Z",
     "start_time": "2024-09-20T09:53:53.500334Z"
    }
   },
   "id": "7daef7760b5a49eb",
   "execution_count": 81
  },
  {
   "cell_type": "markdown",
   "source": [
    "## Support find province from unique \"long\" districts"
   ],
   "metadata": {
    "collapsed": false
   },
   "id": "9f14467c7737f6b9"
  },
  {
   "cell_type": "code",
   "outputs": [],
   "source": [
    "df['province_alphanumeric'] = df['long_province'].apply(to_alphanumeric)\n",
    "df['district_alphanumeric'] = df['long_district'].apply(to_alphanumeric)\n",
    "df['district_alphanumeric_english'] = df['long_district_english'].apply(to_alphanumeric)\n",
    "df['ward_alphanumeric'] = df['long_ward'].apply(to_alphanumeric)"
   ],
   "metadata": {
    "collapsed": false,
    "ExecuteTime": {
     "end_time": "2024-09-20T09:53:53.596946Z",
     "start_time": "2024-09-20T09:53:53.504687Z"
    }
   },
   "id": "a667c0208b841f2b",
   "execution_count": 82
  },
  {
   "cell_type": "code",
   "outputs": [],
   "source": [
    "province_alphanumerics = df['province_alphanumeric'].unique().tolist()\n",
    "district_alphanumerics = df['district_alphanumeric'].unique().tolist()\n",
    "ward_alphanumerics = df['ward_alphanumeric'].unique().tolist()"
   ],
   "metadata": {
    "collapsed": false,
    "ExecuteTime": {
     "end_time": "2024-09-20T09:53:53.600893Z",
     "start_time": "2024-09-20T09:53:53.597473Z"
    }
   },
   "id": "e931e01409036401",
   "execution_count": 83
  },
  {
   "cell_type": "code",
   "outputs": [],
   "source": [
    "df_district_filter = df[~df.district_alphanumeric.isin(ward_alphanumerics)]\n",
    "df_district_filter_count = df_district_filter[['province_alphanumeric', 'district_alphanumeric']].drop_duplicates()['district_alphanumeric'].value_counts().reset_index()\n",
    "one_district_alphanumerics = df_district_filter_count[df_district_filter_count['count']==1]['district_alphanumeric'].tolist()\n",
    "df_district_filter = df_district_filter[df_district_filter.district_alphanumeric.isin(one_district_alphanumerics)][['province_key','province_alphanumeric', 'district_alphanumeric', 'long_district', 'long_district_english', 'district_key', 'district_alphanumeric_english']].drop_duplicates()\n",
    "\n",
    "def check_valid_district_alphanumeric(district_alphanumeric, province_alphanumeric):\n",
    "    if district_alphanumeric in province_alphanumerics and district_alphanumeric != province_alphanumeric:\n",
    "        return False\n",
    "    else:\n",
    "        return True\n",
    "    \n",
    "df_district_filter['is_valid_district_alphanumeric'] = df_district_filter.apply(lambda x: check_valid_district_alphanumeric(x['district_alphanumeric'], x['province_alphanumeric']), axis=1)\n",
    "df_district_filter = df_district_filter[df_district_filter.is_valid_district_alphanumeric]\n",
    "df_district_filter['same_alphanumeric'] = np.where(df_district_filter.province_alphanumeric == df_district_filter.district_alphanumeric, True, False)\n",
    "\n",
    "for row in df_district_filter[df_district_filter.same_alphanumeric].itertuples():\n",
    "    long_district_alphanumerics.append(to_alphanumeric(row.long_district))\n",
    "    long_district_alphanumerics.append(to_alphanumeric(row.long_district).replace('thanhpho', 'tp.'))\n",
    "    long_district_alphanumerics.append(to_alphanumeric(row.long_district_english))\n",
    "    \n",
    "    \n",
    "for row in df_district_filter[~df_district_filter.same_alphanumeric][['province_key', 'district_alphanumeric', 'district_key', 'district_alphanumeric_english']].drop_duplicates().itertuples():\n",
    "    if not row.district_key in unique_district_keys:\n",
    "        unique_district_keys[row.district_alphanumeric] = row.province_key\n",
    "        unique_district_keys[row.district_alphanumeric_english] = row.province_key\n",
    "        district_alphanumeric = row.district_alphanumeric\n",
    "        district_alphanumeric = re.sub('^quan', 'q.', district_alphanumeric)\n",
    "        district_alphanumeric = re.sub('^huyen', 'h.', district_alphanumeric)\n",
    "        district_alphanumeric = re.sub('^thanhpho', 'tp.', district_alphanumeric)\n",
    "        district_alphanumeric = re.sub('^thixa', 'tx.', district_alphanumeric)\n",
    "        unique_district_keys[district_alphanumeric] = row.province_key"
   ],
   "metadata": {
    "collapsed": false,
    "ExecuteTime": {
     "end_time": "2024-09-20T09:53:53.625843Z",
     "start_time": "2024-09-20T09:53:53.601561Z"
    }
   },
   "id": "65d5d30cb362553a",
   "execution_count": 84
  },
  {
   "cell_type": "code",
   "outputs": [
    {
     "data": {
      "text/plain": "1683"
     },
     "execution_count": 85,
     "metadata": {},
     "output_type": "execute_result"
    }
   ],
   "source": [
    "len(unique_district_keys)"
   ],
   "metadata": {
    "collapsed": false,
    "ExecuteTime": {
     "end_time": "2024-09-20T09:53:53.628258Z",
     "start_time": "2024-09-20T09:53:53.626411Z"
    }
   },
   "id": "5fa5f7937e7f8591",
   "execution_count": 85
  },
  {
   "cell_type": "code",
   "outputs": [
    {
     "data": {
      "text/plain": "36"
     },
     "execution_count": 86,
     "metadata": {},
     "output_type": "execute_result"
    }
   ],
   "source": [
    "len(long_district_alphanumerics)"
   ],
   "metadata": {
    "collapsed": false,
    "ExecuteTime": {
     "end_time": "2024-09-20T09:53:53.630604Z",
     "start_time": "2024-09-20T09:53:53.628827Z"
    }
   },
   "id": "9cb3b2665b921db8",
   "execution_count": 86
  },
  {
   "cell_type": "code",
   "outputs": [
    {
     "name": "stdout",
     "output_type": "stream",
     "text": [
      "{'hoankiem': 'hanoi', 'caugiay': 'hanoi', 'namtuliem': 'hanoi', 'bactuliem': 'hanoi', 'thachthat': 'hanoi', 'chuongmy': 'hanoi', 'bacme': 'hagiang', 'hoangsuphi': 'hagiang', 'bacquang': 'hagiang', 'haquang': 'caobang', 'thachan': 'caobang', 'pacnam': 'backan', 'babe': 'backan', 'bachthong': 'backan', 'chodon': 'backan', 'nari': 'backan', 'lambinh': 'tuyenquang', 'chiemhoa': 'tuyenquang', 'hamyen': 'tuyenquang', 'dienbienphu': 'dienbien', 'muonglay': 'dienbien', 'nampo': 'dienbien', 'quynhnhai': 'sonla', 'lucyen': 'yenbai', 'vanchan': 'yenbai', 'yenthuy': 'hoabinh', 'lacthuy': 'hoabinh', 'songcong': 'thainguyen', 'donghy': 'thainguyen', 'vonhai': 'thainguyen', 'phoyen': 'thainguyen', 'trangdinh': 'langson', 'mongcai': 'quangninh', 'campha': 'quangninh', 'lucnam': 'bacgiang', 'lucngan': 'bacgiang', 'yendung': 'bacgiang', 'vietyen': 'bacgiang', 'viettri': 'phutho', 'quevo': 'bacninh', 'chilinh': 'haiduong', 'kinhmon': 'haiduong', 'hongbang': 'haiphong', 'duongkinh': 'haiphong', 'thuynguyen': 'haiphong', 'kienthuy': 'haiphong', 'bachlongvi': 'haiphong', 'myhao': 'hungyen', 'duytien': 'hanam', 'kimbang': 'hanam', 'thanhliem': 'hanam', 'binhluc': 'hanam', 'namtruc': 'namdinh', 'trucninh': 'namdinh', 'haihau': 'namdinh', 'tamdiep': 'ninhbinh', 'bimson': 'thanhhoa', 'samson': 'thanhhoa', 'bathuoc': 'thanhhoa', 'thachthanh': 'thanhhoa', 'nhuxuan': 'thanhhoa', 'nhuthanh': 'thanhhoa', 'quangxuong': 'thanhhoa', 'cualo': 'nghean', 'quychau': 'nghean', 'tuongduong': 'nghean', 'nghiloc': 'nghean', 'canloc': 'hatinh', 'kyanh': 'hatinh', 'tuyenhoa': 'quangbinh', 'botrach': 'quangbinh', 'lethuy': 'quangbinh', 'vinhlinh': 'quangtri', 'trieuphong': 'quangtri', 'conco': 'quangtri', 'lienchieu': 'danang', 'nguhanhson': 'danang', 'camle': 'danang', 'hoavang': 'danang', 'hoangsa': 'danang', 'dienban': 'quangnam', 'duyxuyen': 'quangnam', 'queson': 'quangnam', 'tienphuoc': 'quangnam', 'bactramy': 'quangnam', 'namtramy': 'quangnam', 'nongson': 'quangnam', 'trabong': 'quangngai', 'tunghia': 'quangngai', 'lyson': 'quangngai', 'quynhon': 'binhdinh', 'hoainhon': 'binhdinh', 'hoaian': 'binhdinh', 'tuyhoa': 'phuyen', 'tuyan': 'phuyen', 'nhatrang': 'khanhhoa', 'camranh': 'khanhhoa', 'phanrangthapcham': 'ninhthuan', 'bacai': 'ninhthuan', 'thuanbac': 'ninhthuan', 'lagi': 'binhthuan', 'tuyphong': 'binhthuan', 'hamthuanbac': 'binhthuan', 'hamthuannam': 'binhthuan', 'tanhlinh': 'binhthuan', 'konplong': 'kontum', 'konray': 'kontum', 'iahdrai': 'kontum', 'pleiku': 'gialai', 'ayunpa': 'gialai', 'chupah': 'gialai', 'iagrai': 'gialai', 'mangyang': 'gialai', 'ducco': 'gialai', 'chupuh': 'gialai', 'buonmathuot': 'daklak', 'buonho': 'daklak', 'buondon': 'daklak', 'krongbong': 'daklak', 'krongpac': 'daklak', 'krongana': 'daklak', 'cukuin': 'daklak', 'gianghia': 'daknong', 'dakglong': 'daknong', 'cujut': 'daknong', 'dakrlap': 'daknong', 'tuyduc': 'daknong', 'dalat': 'lamdong', 'baoloc': 'lamdong', 'donduong': 'lamdong', 'ductrong': 'lamdong', 'dahuoai': 'lamdong', 'dongxoai': 'binhphuoc', 'budop': 'binhphuoc', 'honquan': 'binhphuoc', 'budang': 'binhphuoc', 'chonthanh': 'binhphuoc', 'thudaumot': 'binhduong', 'baubang': 'binhduong', 'bencat': 'binhduong', 'phugiao': 'binhduong', 'bactanuyen': 'binhduong', 'bienhoa': 'dongnai', 'vinhcuu': 'dongnai', 'nhontrach': 'dongnai', 'vungtau': 'bariavungtau', 'baria': 'bariavungtau', 'chauduc': 'bariavungtau', 'condao': 'bariavungtau', 'quan1': 'hochiminh', 'q.1': 'hochiminh', 'quan12': 'hochiminh', 'q.12': 'hochiminh', 'govap': 'hochiminh', 'thuduc': 'hochiminh', 'quan3': 'hochiminh', 'q.3': 'hochiminh', 'quan10': 'hochiminh', 'q.10': 'hochiminh', 'quan11': 'hochiminh', 'q.11': 'hochiminh', 'quan4': 'hochiminh', 'q.4': 'hochiminh', 'quan5': 'hochiminh', 'q.5': 'hochiminh', 'quan6': 'hochiminh', 'q.6': 'hochiminh', 'quan8': 'hochiminh', 'q.8': 'hochiminh', 'quan7': 'hochiminh', 'q.7': 'hochiminh', 'cangio': 'hochiminh', 'kientuong': 'longan', 'mochoa': 'longan', 'duchue': 'longan', 'gocong': 'tiengiang', 'cailay': 'tiengiang', 'gocongtay': 'tiengiang', 'gocongdong': 'tiengiang', 'mocaynam': 'bentre', 'mocaybac': 'bentre', 'mangthit': 'vinhlong', 'caolanh': 'dongthap', 'sadec': 'dongthap', 'thapmuoi': 'dongthap', 'chaudoc': 'angiang', 'thoaison': 'angiang', 'rachgia': 'kiengiang', 'phuquoc': 'kiengiang', 'kienhai': 'kiengiang', 'uminhthuong': 'kiengiang', 'giangthanh': 'kiengiang', 'ninhkieu': 'cantho', 'omon': 'cantho', 'cairang': 'cantho', 'chauthanha': 'haugiang', 'nganam': 'soctrang', 'hongdan': 'baclieu', 'giarai': 'baclieu', 'ngochien': 'camau', 'hueduc': 'angiang', 'khanhxuong': 'khanhhoa', 'dongthieu': 'thanhhoa', 'thieuyen': 'thanhhoa', 'quan2': 'hochiminh', 'q.2': 'hochiminh', 'quan9': 'hochiminh', 'q.9': 'hochiminh', 'chauthanhdong': 'travinh', 'chauthanhtay': 'vinhlong', 'hamthuan': 'binhthuan', 'tuliem': 'hanoi', 'quanbadinh': 'hanoi', 'badinhdistrict': 'hanoi', 'q.badinh': 'hanoi', 'quantayho': 'hanoi', 'tayhodistrict': 'hanoi', 'q.tayho': 'hanoi', 'quanlongbien': 'hanoi', 'longbiendistrict': 'hanoi', 'q.longbien': 'hanoi', 'quandongda': 'hanoi', 'dongdadistrict': 'hanoi', 'q.dongda': 'hanoi', 'quanhaibatrung': 'hanoi', 'haibatrungdistrict': 'hanoi', 'q.haibatrung': 'hanoi', 'quanhoangmai': 'hanoi', 'hoangmaidistrict': 'hanoi', 'q.hoangmai': 'hanoi', 'quanthanhxuan': 'hanoi', 'thanhxuandistrict': 'hanoi', 'q.thanhxuan': 'hanoi', 'huyensocson': 'hanoi', 'socsondistrict': 'hanoi', 'h.socson': 'hanoi', 'huyendonganh': 'hanoi', 'donganhdistrict': 'hanoi', 'h.donganh': 'hanoi', 'huyengialam': 'hanoi', 'gialamdistrict': 'hanoi', 'h.gialam': 'hanoi', 'huyenmelinh': 'hanoi', 'melinhdistrict': 'hanoi', 'h.melinh': 'hanoi', 'quanhadong': 'hanoi', 'hadongdistrict': 'hanoi', 'q.hadong': 'hanoi', 'thixasontay': 'hanoi', 'sontaytown': 'hanoi', 'tx.sontay': 'hanoi', 'huyenbavi': 'hanoi', 'bavidistrict': 'hanoi', 'h.bavi': 'hanoi', 'huyenphuctho': 'hanoi', 'phucthodistrict': 'hanoi', 'h.phuctho': 'hanoi', 'huyendanphuong': 'hanoi', 'danphuongdistrict': 'hanoi', 'h.danphuong': 'hanoi', 'huyenhoaiduc': 'hanoi', 'hoaiducdistrict': 'hanoi', 'h.hoaiduc': 'hanoi', 'huyenquocoai': 'hanoi', 'quocoaidistrict': 'hanoi', 'h.quocoai': 'hanoi', 'huyenthanhoai': 'hanoi', 'thanhoaidistrict': 'hanoi', 'h.thanhoai': 'hanoi', 'huyenthuongtin': 'hanoi', 'thuongtindistrict': 'hanoi', 'h.thuongtin': 'hanoi', 'huyenphuxuyen': 'hanoi', 'phuxuyendistrict': 'hanoi', 'h.phuxuyen': 'hanoi', 'huyenunghoa': 'hanoi', 'unghoadistrict': 'hanoi', 'h.unghoa': 'hanoi', 'huyenmyduc': 'hanoi', 'myducdistrict': 'hanoi', 'h.myduc': 'hanoi', 'thanhphohagiang': 'hagiang', 'hagiangcity': 'hagiang', 'tp.hagiang': 'hagiang', 'huyendongvan': 'hagiang', 'dongvandistrict': 'hagiang', 'h.dongvan': 'hagiang', 'huyenmeovac': 'hagiang', 'meovacdistrict': 'hagiang', 'h.meovac': 'hagiang', 'huyenyenminh': 'hagiang', 'yenminhdistrict': 'hagiang', 'h.yenminh': 'hagiang', 'huyenquanba': 'hagiang', 'quanbadistrict': 'hagiang', 'h.quanba': 'hagiang', 'huyenvixuyen': 'hagiang', 'vixuyendistrict': 'hagiang', 'h.vixuyen': 'hagiang', 'huyenxinman': 'hagiang', 'xinmandistrict': 'hagiang', 'h.xinman': 'hagiang', 'huyenquangbinh': 'hagiang', 'quangbinhdistrict': 'hagiang', 'h.quangbinh': 'hagiang', 'thanhphocaobang': 'caobang', 'caobangcity': 'caobang', 'tp.caobang': 'caobang', 'huyenbaolac': 'caobang', 'baolacdistrict': 'caobang', 'h.baolac': 'caobang', 'huyentrungkhanh': 'caobang', 'trungkhanhdistrict': 'caobang', 'h.trungkhanh': 'caobang', 'huyenhalang': 'caobang', 'halangdistrict': 'caobang', 'h.halang': 'caobang', 'huyenquanghoa': 'caobang', 'quanghoadistrict': 'caobang', 'h.quanghoa': 'caobang', 'huyenhoaan': 'caobang', 'hoaandistrict': 'caobang', 'h.hoaan': 'caobang', 'huyennguyenbinh': 'caobang', 'nguyenbinhdistrict': 'caobang', 'h.nguyenbinh': 'caobang', 'thanhphobackan': 'backan', 'backancity': 'backan', 'tp.backan': 'backan', 'huyennganson': 'backan', 'ngansondistrict': 'backan', 'h.nganson': 'backan', 'thanhphotuyenquang': 'tuyenquang', 'tuyenquangcity': 'tuyenquang', 'tp.tuyenquang': 'tuyenquang', 'huyennahang': 'tuyenquang', 'nahangdistrict': 'tuyenquang', 'h.nahang': 'tuyenquang', 'huyenyenson': 'tuyenquang', 'yensondistrict': 'tuyenquang', 'h.yenson': 'tuyenquang', 'huyensonduong': 'tuyenquang', 'sonduongdistrict': 'tuyenquang', 'h.sonduong': 'tuyenquang', 'thanhpholaocai': 'laocai', 'laocaicity': 'laocai', 'tp.laocai': 'laocai', 'huyenbatxat': 'laocai', 'batxatdistrict': 'laocai', 'h.batxat': 'laocai', 'huyenmuongkhuong': 'laocai', 'muongkhuongdistrict': 'laocai', 'h.muongkhuong': 'laocai', 'huyensimacai': 'laocai', 'simacaidistrict': 'laocai', 'h.simacai': 'laocai', 'huyenbacha': 'laocai', 'bachadistrict': 'laocai', 'h.bacha': 'laocai', 'huyenbaothang': 'laocai', 'baothangdistrict': 'laocai', 'h.baothang': 'laocai', 'huyenbaoyen': 'laocai', 'baoyendistrict': 'laocai', 'h.baoyen': 'laocai', 'thixasapa': 'laocai', 'sapatown': 'laocai', 'tx.sapa': 'laocai', 'huyenvanban': 'laocai', 'vanbandistrict': 'laocai', 'h.vanban': 'laocai', 'huyenmuongnhe': 'dienbien', 'muongnhedistrict': 'dienbien', 'h.muongnhe': 'dienbien', 'huyenmuongcha': 'dienbien', 'muongchadistrict': 'dienbien', 'h.muongcha': 'dienbien', 'huyentuachua': 'dienbien', 'tuachuadistrict': 'dienbien', 'h.tuachua': 'dienbien', 'huyentuangiao': 'dienbien', 'tuangiaodistrict': 'dienbien', 'h.tuangiao': 'dienbien', 'huyendienbien': 'dienbien', 'dienbiendistrict': 'dienbien', 'h.dienbien': 'dienbien', 'huyendienbiendong': 'dienbien', 'dienbiendongdistrict': 'dienbien', 'h.dienbiendong': 'dienbien', 'huyenmuongang': 'dienbien', 'muongangdistrict': 'dienbien', 'h.muongang': 'dienbien', 'thanhpholaichau': 'laichau', 'laichaucity': 'laichau', 'tp.laichau': 'laichau', 'huyenmuongte': 'laichau', 'muongtedistrict': 'laichau', 'h.muongte': 'laichau', 'huyensinho': 'laichau', 'sinhodistrict': 'laichau', 'h.sinho': 'laichau', 'huyenphongtho': 'laichau', 'phongthodistrict': 'laichau', 'h.phongtho': 'laichau', 'huyenthanuyen': 'laichau', 'thanuyendistrict': 'laichau', 'h.thanuyen': 'laichau', 'huyentanuyen': 'laichau', 'tanuyendistrict': 'laichau', 'h.tanuyen': 'laichau', 'huyennamnhun': 'laichau', 'namnhundistrict': 'laichau', 'h.namnhun': 'laichau', 'thanhphosonla': 'sonla', 'sonlacity': 'sonla', 'tp.sonla': 'sonla', 'huyenthuanchau': 'sonla', 'thuanchaudistrict': 'sonla', 'h.thuanchau': 'sonla', 'huyenmuongla': 'sonla', 'muongladistrict': 'sonla', 'h.muongla': 'sonla', 'huyenbacyen': 'sonla', 'bacyendistrict': 'sonla', 'h.bacyen': 'sonla', 'huyenphuyen': 'sonla', 'phuyendistrict': 'sonla', 'h.phuyen': 'sonla', 'huyenmocchau': 'sonla', 'mocchaudistrict': 'sonla', 'h.mocchau': 'sonla', 'huyenyenchau': 'sonla', 'yenchaudistrict': 'sonla', 'h.yenchau': 'sonla', 'huyenmaison': 'sonla', 'maisondistrict': 'sonla', 'h.maison': 'sonla', 'huyensongma': 'sonla', 'songmadistrict': 'sonla', 'h.songma': 'sonla', 'huyensopcop': 'sonla', 'sopcopdistrict': 'sonla', 'h.sopcop': 'sonla', 'huyenvanho': 'sonla', 'vanhodistrict': 'sonla', 'h.vanho': 'sonla', 'thanhphoyenbai': 'yenbai', 'yenbaicity': 'yenbai', 'tp.yenbai': 'yenbai', 'thixanghialo': 'yenbai', 'nghialotown': 'yenbai', 'tx.nghialo': 'yenbai', 'huyenvanyen': 'yenbai', 'vanyendistrict': 'yenbai', 'h.vanyen': 'yenbai', 'huyenmucangchai': 'yenbai', 'mucangchaidistrict': 'yenbai', 'h.mucangchai': 'yenbai', 'huyentranyen': 'yenbai', 'tranyendistrict': 'yenbai', 'h.tranyen': 'yenbai', 'huyentramtau': 'yenbai', 'tramtaudistrict': 'yenbai', 'h.tramtau': 'yenbai', 'huyenyenbinh': 'yenbai', 'yenbinhdistrict': 'yenbai', 'h.yenbinh': 'yenbai', 'thanhphohoabinh': 'hoabinh', 'hoabinhcity': 'hoabinh', 'tp.hoabinh': 'hoabinh', 'huyendabac': 'hoabinh', 'dabacdistrict': 'hoabinh', 'h.dabac': 'hoabinh', 'huyenluongson': 'hoabinh', 'luongsondistrict': 'hoabinh', 'h.luongson': 'hoabinh', 'huyenkimboi': 'hoabinh', 'kimboidistrict': 'hoabinh', 'h.kimboi': 'hoabinh', 'huyencaophong': 'hoabinh', 'caophongdistrict': 'hoabinh', 'h.caophong': 'hoabinh', 'huyentanlac': 'hoabinh', 'tanlacdistrict': 'hoabinh', 'h.tanlac': 'hoabinh', 'huyenmaichau': 'hoabinh', 'maichaudistrict': 'hoabinh', 'h.maichau': 'hoabinh', 'huyenlacson': 'hoabinh', 'lacsondistrict': 'hoabinh', 'h.lacson': 'hoabinh', 'thanhphothainguyen': 'thainguyen', 'thainguyencity': 'thainguyen', 'tp.thainguyen': 'thainguyen', 'huyendinhhoa': 'thainguyen', 'dinhhoadistrict': 'thainguyen', 'h.dinhhoa': 'thainguyen', 'huyenphuluong': 'thainguyen', 'phuluongdistrict': 'thainguyen', 'h.phuluong': 'thainguyen', 'huyendaitu': 'thainguyen', 'daitudistrict': 'thainguyen', 'h.daitu': 'thainguyen', 'huyenphubinh': 'thainguyen', 'phubinhdistrict': 'thainguyen', 'h.phubinh': 'thainguyen', 'thanhpholangson': 'langson', 'langsoncity': 'langson', 'tp.langson': 'langson', 'huyenbinhgia': 'langson', 'binhgiadistrict': 'langson', 'h.binhgia': 'langson', 'huyenvanlang': 'langson', 'vanlangdistrict': 'langson', 'h.vanlang': 'langson', 'huyencaoloc': 'langson', 'caolocdistrict': 'langson', 'h.caoloc': 'langson', 'huyenvanquan': 'langson', 'vanquandistrict': 'langson', 'h.vanquan': 'langson', 'huyenbacson': 'langson', 'bacsondistrict': 'langson', 'h.bacson': 'langson', 'huyenhuulung': 'langson', 'huulungdistrict': 'langson', 'h.huulung': 'langson', 'huyenchilang': 'langson', 'chilangdistrict': 'langson', 'h.chilang': 'langson', 'huyenlocbinh': 'langson', 'locbinhdistrict': 'langson', 'h.locbinh': 'langson', 'huyendinhlap': 'langson', 'dinhlapdistrict': 'langson', 'h.dinhlap': 'langson', 'thanhphohalong': 'quangninh', 'halongcity': 'quangninh', 'tp.halong': 'quangninh', 'thanhphouongbi': 'quangninh', 'uongbicity': 'quangninh', 'tp.uongbi': 'quangninh', 'huyenbinhlieu': 'quangninh', 'binhlieudistrict': 'quangninh', 'h.binhlieu': 'quangninh', 'huyentienyen': 'quangninh', 'tienyendistrict': 'quangninh', 'h.tienyen': 'quangninh', 'huyendamha': 'quangninh', 'damhadistrict': 'quangninh', 'h.damha': 'quangninh', 'huyenhaiha': 'quangninh', 'haihadistrict': 'quangninh', 'h.haiha': 'quangninh', 'huyenbache': 'quangninh', 'bachedistrict': 'quangninh', 'h.bache': 'quangninh', 'huyenvandon': 'quangninh', 'vandondistrict': 'quangninh', 'h.vandon': 'quangninh', 'thixadongtrieu': 'quangninh', 'dongtrieutown': 'quangninh', 'tx.dongtrieu': 'quangninh', 'thixaquangyen': 'quangninh', 'quangyentown': 'quangninh', 'tx.quangyen': 'quangninh', 'huyencoto': 'quangninh', 'cotodistrict': 'quangninh', 'h.coto': 'quangninh', 'thanhphobacgiang': 'bacgiang', 'bacgiangcity': 'bacgiang', 'tp.bacgiang': 'bacgiang', 'huyenyenthe': 'bacgiang', 'yenthedistrict': 'bacgiang', 'h.yenthe': 'bacgiang', 'huyentanyen': 'bacgiang', 'tanyendistrict': 'bacgiang', 'h.tanyen': 'bacgiang', 'huyenlanggiang': 'bacgiang', 'langgiangdistrict': 'bacgiang', 'h.langgiang': 'bacgiang', 'huyensondong': 'bacgiang', 'sondongdistrict': 'bacgiang', 'h.sondong': 'bacgiang', 'huyenhiephoa': 'bacgiang', 'hiephoadistrict': 'bacgiang', 'h.hiephoa': 'bacgiang', 'thixaphutho': 'phutho', 'phuthotown': 'phutho', 'tx.phutho': 'phutho', 'huyendoanhung': 'phutho', 'doanhungdistrict': 'phutho', 'h.doanhung': 'phutho', 'huyenhahoa': 'phutho', 'hahoadistrict': 'phutho', 'h.hahoa': 'phutho', 'huyenthanhba': 'phutho', 'thanhbadistrict': 'phutho', 'h.thanhba': 'phutho', 'huyenyenlap': 'phutho', 'yenlapdistrict': 'phutho', 'h.yenlap': 'phutho', 'huyencamkhe': 'phutho', 'camkhedistrict': 'phutho', 'h.camkhe': 'phutho', 'huyenlamthao': 'phutho', 'lamthaodistrict': 'phutho', 'h.lamthao': 'phutho', 'huyenthanhson': 'phutho', 'thanhsondistrict': 'phutho', 'h.thanhson': 'phutho', 'huyenthanhthuy': 'phutho', 'thanhthuydistrict': 'phutho', 'h.thanhthuy': 'phutho', 'huyentanson': 'phutho', 'tansondistrict': 'phutho', 'h.tanson': 'phutho', 'thanhphovinhyen': 'vinhphuc', 'vinhyencity': 'vinhphuc', 'tp.vinhyen': 'vinhphuc', 'thanhphophucyen': 'vinhphuc', 'phucyencity': 'vinhphuc', 'tp.phucyen': 'vinhphuc', 'huyenlapthach': 'vinhphuc', 'lapthachdistrict': 'vinhphuc', 'h.lapthach': 'vinhphuc', 'huyentamdao': 'vinhphuc', 'tamdaodistrict': 'vinhphuc', 'h.tamdao': 'vinhphuc', 'huyenbinhxuyen': 'vinhphuc', 'binhxuyendistrict': 'vinhphuc', 'h.binhxuyen': 'vinhphuc', 'huyenyenlac': 'vinhphuc', 'yenlacdistrict': 'vinhphuc', 'h.yenlac': 'vinhphuc', 'huyenvinhtuong': 'vinhphuc', 'vinhtuongdistrict': 'vinhphuc', 'h.vinhtuong': 'vinhphuc', 'huyensonglo': 'vinhphuc', 'songlodistrict': 'vinhphuc', 'h.songlo': 'vinhphuc', 'thanhphobacninh': 'bacninh', 'bacninhcity': 'bacninh', 'tp.bacninh': 'bacninh', 'huyenyenphong': 'bacninh', 'yenphongdistrict': 'bacninh', 'h.yenphong': 'bacninh', 'huyentiendu': 'bacninh', 'tiendudistrict': 'bacninh', 'h.tiendu': 'bacninh', 'thanhphotuson': 'bacninh', 'tusoncity': 'bacninh', 'tp.tuson': 'bacninh', 'thixathuanthanh': 'bacninh', 'thuanthanhtown': 'bacninh', 'tx.thuanthanh': 'bacninh', 'huyengiabinh': 'bacninh', 'giabinhdistrict': 'bacninh', 'h.giabinh': 'bacninh', 'huyenluongtai': 'bacninh', 'luongtaidistrict': 'bacninh', 'h.luongtai': 'bacninh', 'thanhphohaiduong': 'haiduong', 'haiduongcity': 'haiduong', 'tp.haiduong': 'haiduong', 'huyennamsach': 'haiduong', 'namsachdistrict': 'haiduong', 'h.namsach': 'haiduong', 'huyenkimthanh': 'haiduong', 'kimthanhdistrict': 'haiduong', 'h.kimthanh': 'haiduong', 'huyenthanhha': 'haiduong', 'thanhhadistrict': 'haiduong', 'h.thanhha': 'haiduong', 'huyencamgiang': 'haiduong', 'camgiangdistrict': 'haiduong', 'h.camgiang': 'haiduong', 'huyenbinhgiang': 'haiduong', 'binhgiangdistrict': 'haiduong', 'h.binhgiang': 'haiduong', 'huyengialoc': 'haiduong', 'gialocdistrict': 'haiduong', 'h.gialoc': 'haiduong', 'huyentuky': 'haiduong', 'tukydistrict': 'haiduong', 'h.tuky': 'haiduong', 'huyenninhgiang': 'haiduong', 'ninhgiangdistrict': 'haiduong', 'h.ninhgiang': 'haiduong', 'huyenthanhmien': 'haiduong', 'thanhmiendistrict': 'haiduong', 'h.thanhmien': 'haiduong', 'quanngoquyen': 'haiphong', 'ngoquyendistrict': 'haiphong', 'q.ngoquyen': 'haiphong', 'quanlechan': 'haiphong', 'lechandistrict': 'haiphong', 'q.lechan': 'haiphong', 'quanhaian': 'haiphong', 'haiandistrict': 'haiphong', 'q.haian': 'haiphong', 'quankienan': 'haiphong', 'kienandistrict': 'haiphong', 'q.kienan': 'haiphong', 'quandoson': 'haiphong', 'dosondistrict': 'haiphong', 'q.doson': 'haiphong', 'huyenanduong': 'haiphong', 'anduongdistrict': 'haiphong', 'h.anduong': 'haiphong', 'huyentienlang': 'haiphong', 'tienlangdistrict': 'haiphong', 'h.tienlang': 'haiphong', 'huyenvinhbao': 'haiphong', 'vinhbaodistrict': 'haiphong', 'h.vinhbao': 'haiphong', 'huyencathai': 'haiphong', 'cathaidistrict': 'haiphong', 'h.cathai': 'haiphong', 'thanhphohungyen': 'hungyen', 'hungyencity': 'hungyen', 'tp.hungyen': 'hungyen', 'huyenvanlam': 'hungyen', 'vanlamdistrict': 'hungyen', 'h.vanlam': 'hungyen', 'huyenvangiang': 'hungyen', 'vangiangdistrict': 'hungyen', 'h.vangiang': 'hungyen', 'huyenyenmy': 'hungyen', 'yenmydistrict': 'hungyen', 'h.yenmy': 'hungyen', 'huyenanthi': 'hungyen', 'anthidistrict': 'hungyen', 'h.anthi': 'hungyen', 'huyenkhoaichau': 'hungyen', 'khoaichaudistrict': 'hungyen', 'h.khoaichau': 'hungyen', 'huyenkimdong': 'hungyen', 'kimdongdistrict': 'hungyen', 'h.kimdong': 'hungyen', 'huyentienlu': 'hungyen', 'tienludistrict': 'hungyen', 'h.tienlu': 'hungyen', 'huyenphucu': 'hungyen', 'phucudistrict': 'hungyen', 'h.phucu': 'hungyen', 'thanhphothaibinh': 'thaibinh', 'thaibinhcity': 'thaibinh', 'tp.thaibinh': 'thaibinh', 'huyenquynhphu': 'thaibinh', 'quynhphudistrict': 'thaibinh', 'h.quynhphu': 'thaibinh', 'huyenhungha': 'thaibinh', 'hunghadistrict': 'thaibinh', 'h.hungha': 'thaibinh', 'huyendonghung': 'thaibinh', 'donghungdistrict': 'thaibinh', 'h.donghung': 'thaibinh', 'huyenthaithuy': 'thaibinh', 'thaithuydistrict': 'thaibinh', 'h.thaithuy': 'thaibinh', 'huyentienhai': 'thaibinh', 'tienhaidistrict': 'thaibinh', 'h.tienhai': 'thaibinh', 'huyenkienxuong': 'thaibinh', 'kienxuongdistrict': 'thaibinh', 'h.kienxuong': 'thaibinh', 'huyenvuthu': 'thaibinh', 'vuthudistrict': 'thaibinh', 'h.vuthu': 'thaibinh', 'thanhphophuly': 'hanam', 'phulycity': 'hanam', 'tp.phuly': 'hanam', 'huyenlynhan': 'hanam', 'lynhandistrict': 'hanam', 'h.lynhan': 'hanam', 'thanhphonamdinh': 'namdinh', 'namdinhcity': 'namdinh', 'tp.namdinh': 'namdinh', 'huyenvuban': 'namdinh', 'vubandistrict': 'namdinh', 'h.vuban': 'namdinh', 'huyenyyen': 'namdinh', 'yyendistrict': 'namdinh', 'h.yyen': 'namdinh', 'huyennghiahung': 'namdinh', 'nghiahungdistrict': 'namdinh', 'h.nghiahung': 'namdinh', 'huyenxuantruong': 'namdinh', 'xuantruongdistrict': 'namdinh', 'h.xuantruong': 'namdinh', 'huyengiaothuy': 'namdinh', 'giaothuydistrict': 'namdinh', 'h.giaothuy': 'namdinh', 'thanhphoninhbinh': 'ninhbinh', 'ninhbinhcity': 'ninhbinh', 'tp.ninhbinh': 'ninhbinh', 'huyennhoquan': 'ninhbinh', 'nhoquandistrict': 'ninhbinh', 'h.nhoquan': 'ninhbinh', 'huyengiavien': 'ninhbinh', 'giaviendistrict': 'ninhbinh', 'h.giavien': 'ninhbinh', 'huyenhoalu': 'ninhbinh', 'hoaludistrict': 'ninhbinh', 'h.hoalu': 'ninhbinh', 'huyenyenkhanh': 'ninhbinh', 'yenkhanhdistrict': 'ninhbinh', 'h.yenkhanh': 'ninhbinh', 'huyenkimson': 'ninhbinh', 'kimsondistrict': 'ninhbinh', 'h.kimson': 'ninhbinh', 'huyenyenmo': 'ninhbinh', 'yenmodistrict': 'ninhbinh', 'h.yenmo': 'ninhbinh', 'thanhphothanhhoa': 'thanhhoa', 'thanhhoacity': 'thanhhoa', 'tp.thanhhoa': 'thanhhoa', 'huyenmuonglat': 'thanhhoa', 'muonglatdistrict': 'thanhhoa', 'h.muonglat': 'thanhhoa', 'huyenquanhoa': 'thanhhoa', 'quanhoadistrict': 'thanhhoa', 'h.quanhoa': 'thanhhoa', 'huyenquanson': 'thanhhoa', 'quansondistrict': 'thanhhoa', 'h.quanson': 'thanhhoa', 'huyenlangchanh': 'thanhhoa', 'langchanhdistrict': 'thanhhoa', 'h.langchanh': 'thanhhoa', 'huyenngoclac': 'thanhhoa', 'ngoclacdistrict': 'thanhhoa', 'h.ngoclac': 'thanhhoa', 'huyencamthuy': 'thanhhoa', 'camthuydistrict': 'thanhhoa', 'h.camthuy': 'thanhhoa', 'huyenhatrung': 'thanhhoa', 'hatrungdistrict': 'thanhhoa', 'h.hatrung': 'thanhhoa', 'huyenvinhloc': 'thanhhoa', 'vinhlocdistrict': 'thanhhoa', 'h.vinhloc': 'thanhhoa', 'huyenyendinh': 'thanhhoa', 'yendinhdistrict': 'thanhhoa', 'h.yendinh': 'thanhhoa', 'huyenthoxuan': 'thanhhoa', 'thoxuandistrict': 'thanhhoa', 'h.thoxuan': 'thanhhoa', 'huyenthuongxuan': 'thanhhoa', 'thuongxuandistrict': 'thanhhoa', 'h.thuongxuan': 'thanhhoa', 'huyentrieuson': 'thanhhoa', 'trieusondistrict': 'thanhhoa', 'h.trieuson': 'thanhhoa', 'huyenthieuhoa': 'thanhhoa', 'thieuhoadistrict': 'thanhhoa', 'h.thieuhoa': 'thanhhoa', 'huyenhoanghoa': 'thanhhoa', 'hoanghoadistrict': 'thanhhoa', 'h.hoanghoa': 'thanhhoa', 'huyenhauloc': 'thanhhoa', 'haulocdistrict': 'thanhhoa', 'h.hauloc': 'thanhhoa', 'huyenngason': 'thanhhoa', 'ngasondistrict': 'thanhhoa', 'h.ngason': 'thanhhoa', 'huyennongcong': 'thanhhoa', 'nongcongdistrict': 'thanhhoa', 'h.nongcong': 'thanhhoa', 'huyendongson': 'thanhhoa', 'dongsondistrict': 'thanhhoa', 'h.dongson': 'thanhhoa', 'thixanghison': 'thanhhoa', 'nghisontown': 'thanhhoa', 'tx.nghison': 'thanhhoa', 'thanhphovinh': 'nghean', 'vinhcity': 'nghean', 'tp.vinh': 'nghean', 'thixathaihoa': 'nghean', 'thaihoatown': 'nghean', 'tx.thaihoa': 'nghean', 'huyenquephong': 'nghean', 'quephongdistrict': 'nghean', 'h.quephong': 'nghean', 'huyenkyson': 'nghean', 'kysondistrict': 'nghean', 'h.kyson': 'nghean', 'huyennghiadan': 'nghean', 'nghiadandistrict': 'nghean', 'h.nghiadan': 'nghean', 'huyenquyhop': 'nghean', 'quyhopdistrict': 'nghean', 'h.quyhop': 'nghean', 'huyenquynhluu': 'nghean', 'quynhluudistrict': 'nghean', 'h.quynhluu': 'nghean', 'huyenconcuong': 'nghean', 'concuongdistrict': 'nghean', 'h.concuong': 'nghean', 'huyentanky': 'nghean', 'tankydistrict': 'nghean', 'h.tanky': 'nghean', 'huyenanhson': 'nghean', 'anhsondistrict': 'nghean', 'h.anhson': 'nghean', 'huyendienchau': 'nghean', 'dienchaudistrict': 'nghean', 'h.dienchau': 'nghean', 'huyenyenthanh': 'nghean', 'yenthanhdistrict': 'nghean', 'h.yenthanh': 'nghean', 'huyendoluong': 'nghean', 'doluongdistrict': 'nghean', 'h.doluong': 'nghean', 'huyenthanhchuong': 'nghean', 'thanhchuongdistrict': 'nghean', 'h.thanhchuong': 'nghean', 'huyennamdan': 'nghean', 'namdandistrict': 'nghean', 'h.namdan': 'nghean', 'huyenhungnguyen': 'nghean', 'hungnguyendistrict': 'nghean', 'h.hungnguyen': 'nghean', 'thixahoangmai': 'nghean', 'hoangmaitown': 'nghean', 'tx.hoangmai': 'nghean', 'thanhphohatinh': 'hatinh', 'hatinhcity': 'hatinh', 'tp.hatinh': 'hatinh', 'thixahonglinh': 'hatinh', 'honglinhtown': 'hatinh', 'tx.honglinh': 'hatinh', 'huyenhuongson': 'hatinh', 'huongsondistrict': 'hatinh', 'h.huongson': 'hatinh', 'huyenductho': 'hatinh', 'ducthodistrict': 'hatinh', 'h.ductho': 'hatinh', 'huyenvuquang': 'hatinh', 'vuquangdistrict': 'hatinh', 'h.vuquang': 'hatinh', 'huyennghixuan': 'hatinh', 'nghixuandistrict': 'hatinh', 'h.nghixuan': 'hatinh', 'huyenhuongkhe': 'hatinh', 'huongkhedistrict': 'hatinh', 'h.huongkhe': 'hatinh', 'huyenthachha': 'hatinh', 'thachhadistrict': 'hatinh', 'h.thachha': 'hatinh', 'huyencamxuyen': 'hatinh', 'camxuyendistrict': 'hatinh', 'h.camxuyen': 'hatinh', 'huyenlocha': 'hatinh', 'lochadistrict': 'hatinh', 'h.locha': 'hatinh', 'thanhphodonghoi': 'quangbinh', 'donghoicity': 'quangbinh', 'tp.donghoi': 'quangbinh', 'huyenminhhoa': 'quangbinh', 'minhhoadistrict': 'quangbinh', 'h.minhhoa': 'quangbinh', 'huyenquangtrach': 'quangbinh', 'quangtrachdistrict': 'quangbinh', 'h.quangtrach': 'quangbinh', 'huyenquangninh': 'quangbinh', 'quangninhdistrict': 'quangbinh', 'h.quangninh': 'quangbinh', 'thixabadon': 'quangbinh', 'badontown': 'quangbinh', 'tx.badon': 'quangbinh', 'thanhphodongha': 'quangtri', 'donghacity': 'quangtri', 'tp.dongha': 'quangtri', 'thixaquangtri': 'quangtri', 'quangtritown': 'quangtri', 'tx.quangtri': 'quangtri', 'huyenhuonghoa': 'quangtri', 'huonghoadistrict': 'quangtri', 'h.huonghoa': 'quangtri', 'huyengiolinh': 'quangtri', 'giolinhdistrict': 'quangtri', 'h.giolinh': 'quangtri', 'huyendakrong': 'quangtri', 'dakrongdistrict': 'quangtri', 'h.dakrong': 'quangtri', 'huyencamlo': 'quangtri', 'camlodistrict': 'quangtri', 'h.camlo': 'quangtri', 'huyenhailang': 'quangtri', 'hailangdistrict': 'quangtri', 'h.hailang': 'quangtri', 'thanhphohue': 'thuathienhue', 'huecity': 'thuathienhue', 'tp.hue': 'thuathienhue', 'huyenquangdien': 'thuathienhue', 'quangdiendistrict': 'thuathienhue', 'h.quangdien': 'thuathienhue', 'huyenphuvang': 'thuathienhue', 'phuvangdistrict': 'thuathienhue', 'h.phuvang': 'thuathienhue', 'thixahuongthuy': 'thuathienhue', 'huongthuytown': 'thuathienhue', 'tx.huongthuy': 'thuathienhue', 'thixahuongtra': 'thuathienhue', 'huongtratown': 'thuathienhue', 'tx.huongtra': 'thuathienhue', 'huyenaluoi': 'thuathienhue', 'aluoidistrict': 'thuathienhue', 'h.aluoi': 'thuathienhue', 'huyenphuloc': 'thuathienhue', 'phulocdistrict': 'thuathienhue', 'h.phuloc': 'thuathienhue', 'huyennamdong': 'thuathienhue', 'namdongdistrict': 'thuathienhue', 'h.namdong': 'thuathienhue', 'quanthanhkhe': 'danang', 'thanhkhedistrict': 'danang', 'q.thanhkhe': 'danang', 'quanhaichau': 'danang', 'haichaudistrict': 'danang', 'q.haichau': 'danang', 'quansontra': 'danang', 'sontradistrict': 'danang', 'q.sontra': 'danang', 'thanhphotamky': 'quangnam', 'tamkycity': 'quangnam', 'tp.tamky': 'quangnam', 'thanhphohoian': 'quangnam', 'hoiancity': 'quangnam', 'tp.hoian': 'quangnam', 'huyentaygiang': 'quangnam', 'taygiangdistrict': 'quangnam', 'h.taygiang': 'quangnam', 'huyendonggiang': 'quangnam', 'donggiangdistrict': 'quangnam', 'h.donggiang': 'quangnam', 'huyendailoc': 'quangnam', 'dailocdistrict': 'quangnam', 'h.dailoc': 'quangnam', 'huyennamgiang': 'quangnam', 'namgiangdistrict': 'quangnam', 'h.namgiang': 'quangnam', 'huyenphuocson': 'quangnam', 'phuocsondistrict': 'quangnam', 'h.phuocson': 'quangnam', 'huyenhiepduc': 'quangnam', 'hiepducdistrict': 'quangnam', 'h.hiepduc': 'quangnam', 'huyenthangbinh': 'quangnam', 'thangbinhdistrict': 'quangnam', 'h.thangbinh': 'quangnam', 'huyennuithanh': 'quangnam', 'nuithanhdistrict': 'quangnam', 'h.nuithanh': 'quangnam', 'thanhphoquangngai': 'quangngai', 'quangngaicity': 'quangngai', 'tp.quangngai': 'quangngai', 'huyenbinhson': 'quangngai', 'binhsondistrict': 'quangngai', 'h.binhson': 'quangngai', 'huyensontinh': 'quangngai', 'sontinhdistrict': 'quangngai', 'h.sontinh': 'quangngai', 'huyensonha': 'quangngai', 'sonhadistrict': 'quangngai', 'h.sonha': 'quangngai', 'huyensontay': 'quangngai', 'sontaydistrict': 'quangngai', 'h.sontay': 'quangngai', 'huyenminhlong': 'quangngai', 'minhlongdistrict': 'quangngai', 'h.minhlong': 'quangngai', 'huyennghiahanh': 'quangngai', 'nghiahanhdistrict': 'quangngai', 'h.nghiahanh': 'quangngai', 'huyenmoduc': 'quangngai', 'moducdistrict': 'quangngai', 'h.moduc': 'quangngai', 'thixaducpho': 'quangngai', 'ducphotown': 'quangngai', 'tx.ducpho': 'quangngai', 'huyenbato': 'quangngai', 'batodistrict': 'quangngai', 'h.bato': 'quangngai', 'huyenphumy': 'binhdinh', 'phumydistrict': 'binhdinh', 'h.phumy': 'binhdinh', 'huyentayson': 'binhdinh', 'taysondistrict': 'binhdinh', 'h.tayson': 'binhdinh', 'huyenphucat': 'binhdinh', 'phucatdistrict': 'binhdinh', 'h.phucat': 'binhdinh', 'thixaannhon': 'binhdinh', 'annhontown': 'binhdinh', 'tx.annhon': 'binhdinh', 'huyentuyphuoc': 'binhdinh', 'tuyphuocdistrict': 'binhdinh', 'h.tuyphuoc': 'binhdinh', 'huyenvancanh': 'binhdinh', 'vancanhdistrict': 'binhdinh', 'h.vancanh': 'binhdinh', 'thixasongcau': 'phuyen', 'songcautown': 'phuyen', 'tx.songcau': 'phuyen', 'huyendongxuan': 'phuyen', 'dongxuandistrict': 'phuyen', 'h.dongxuan': 'phuyen', 'huyensonhoa': 'phuyen', 'sonhoadistrict': 'phuyen', 'h.sonhoa': 'phuyen', 'huyensonghinh': 'phuyen', 'songhinhdistrict': 'phuyen', 'h.songhinh': 'phuyen', 'huyentayhoa': 'phuyen', 'tayhoadistrict': 'phuyen', 'h.tayhoa': 'phuyen', 'huyenphuhoa': 'phuyen', 'phuhoadistrict': 'phuyen', 'h.phuhoa': 'phuyen', 'thixadonghoa': 'phuyen', 'donghoatown': 'phuyen', 'tx.donghoa': 'phuyen', 'huyencamlam': 'khanhhoa', 'camlamdistrict': 'khanhhoa', 'h.camlam': 'khanhhoa', 'huyenvanninh': 'khanhhoa', 'vanninhdistrict': 'khanhhoa', 'h.vanninh': 'khanhhoa', 'thixaninhhoa': 'khanhhoa', 'ninhhoatown': 'khanhhoa', 'tx.ninhhoa': 'khanhhoa', 'huyenkhanhvinh': 'khanhhoa', 'khanhvinhdistrict': 'khanhhoa', 'h.khanhvinh': 'khanhhoa', 'huyendienkhanh': 'khanhhoa', 'dienkhanhdistrict': 'khanhhoa', 'h.dienkhanh': 'khanhhoa', 'huyenkhanhson': 'khanhhoa', 'khanhsondistrict': 'khanhhoa', 'h.khanhson': 'khanhhoa', 'huyentruongsa': 'khanhhoa', 'truongsadistrict': 'khanhhoa', 'h.truongsa': 'khanhhoa', 'huyenninhson': 'ninhthuan', 'ninhsondistrict': 'ninhthuan', 'h.ninhson': 'ninhthuan', 'huyenninhhai': 'ninhthuan', 'ninhhaidistrict': 'ninhthuan', 'h.ninhhai': 'ninhthuan', 'huyenninhphuoc': 'ninhthuan', 'ninhphuocdistrict': 'ninhthuan', 'h.ninhphuoc': 'ninhthuan', 'huyenthuannam': 'ninhthuan', 'thuannamdistrict': 'ninhthuan', 'h.thuannam': 'ninhthuan', 'thanhphophanthiet': 'binhthuan', 'phanthietcity': 'binhthuan', 'tp.phanthiet': 'binhthuan', 'huyenbacbinh': 'binhthuan', 'bacbinhdistrict': 'binhthuan', 'h.bacbinh': 'binhthuan', 'huyenduclinh': 'binhthuan', 'duclinhdistrict': 'binhthuan', 'h.duclinh': 'binhthuan', 'huyenhamtan': 'binhthuan', 'hamtandistrict': 'binhthuan', 'h.hamtan': 'binhthuan', 'huyenphuquy': 'binhthuan', 'phuquydistrict': 'binhthuan', 'h.phuquy': 'binhthuan', 'thanhphokontum': 'kontum', 'kontumcity': 'kontum', 'tp.kontum': 'kontum', 'huyendakglei': 'kontum', 'dakgleidistrict': 'kontum', 'h.dakglei': 'kontum', 'huyenngochoi': 'kontum', 'ngochoidistrict': 'kontum', 'h.ngochoi': 'kontum', 'huyendakto': 'kontum', 'daktodistrict': 'kontum', 'h.dakto': 'kontum', 'huyendakha': 'kontum', 'dakhadistrict': 'kontum', 'h.dakha': 'kontum', 'huyensathay': 'kontum', 'sathaydistrict': 'kontum', 'h.sathay': 'kontum', 'huyentumorong': 'kontum', 'tumorongdistrict': 'kontum', 'h.tumorong': 'kontum', 'thixaankhe': 'gialai', 'ankhetown': 'gialai', 'tx.ankhe': 'gialai', 'huyenkbang': 'gialai', 'kbangdistrict': 'gialai', 'h.kbang': 'gialai', 'huyendakdoa': 'gialai', 'dakdoadistrict': 'gialai', 'h.dakdoa': 'gialai', 'huyenkongchro': 'gialai', 'kongchrodistrict': 'gialai', 'h.kongchro': 'gialai', 'huyenchuprong': 'gialai', 'chuprongdistrict': 'gialai', 'h.chuprong': 'gialai', 'huyenchuse': 'gialai', 'chusedistrict': 'gialai', 'h.chuse': 'gialai', 'huyendakpo': 'gialai', 'dakpodistrict': 'gialai', 'h.dakpo': 'gialai', 'huyeniapa': 'gialai', 'iapadistrict': 'gialai', 'h.iapa': 'gialai', 'huyenkrongpa': 'gialai', 'krongpadistrict': 'gialai', 'h.krongpa': 'gialai', 'huyenphuthien': 'gialai', 'phuthiendistrict': 'gialai', 'h.phuthien': 'gialai', 'huyeneahleo': 'daklak', 'eahleodistrict': 'daklak', 'h.eahleo': 'daklak', 'huyeneasup': 'daklak', 'easupdistrict': 'daklak', 'h.easup': 'daklak', 'huyencumgar': 'daklak', 'cumgardistrict': 'daklak', 'h.cumgar': 'daklak', 'huyenkrongbuk': 'daklak', 'krongbukdistrict': 'daklak', 'h.krongbuk': 'daklak', 'huyenkrongnang': 'daklak', 'krongnangdistrict': 'daklak', 'h.krongnang': 'daklak', 'huyeneakar': 'daklak', 'eakardistrict': 'daklak', 'h.eakar': 'daklak', 'huyenmdrak': 'daklak', 'mdrakdistrict': 'daklak', 'h.mdrak': 'daklak', 'huyenlak': 'daklak', 'lakdistrict': 'daklak', 'h.lak': 'daklak', 'huyendakmil': 'daknong', 'dakmildistrict': 'daknong', 'h.dakmil': 'daknong', 'huyenkrongno': 'daknong', 'krongnodistrict': 'daknong', 'h.krongno': 'daknong', 'huyendaksong': 'daknong', 'daksongdistrict': 'daknong', 'h.daksong': 'daknong', 'huyendamrong': 'lamdong', 'damrongdistrict': 'lamdong', 'h.damrong': 'lamdong', 'huyenlacduong': 'lamdong', 'lacduongdistrict': 'lamdong', 'h.lacduong': 'lamdong', 'huyenlamha': 'lamdong', 'lamhadistrict': 'lamdong', 'h.lamha': 'lamdong', 'huyendilinh': 'lamdong', 'dilinhdistrict': 'lamdong', 'h.dilinh': 'lamdong', 'huyendateh': 'lamdong', 'datehdistrict': 'lamdong', 'h.dateh': 'lamdong', 'huyencattien': 'lamdong', 'cattiendistrict': 'lamdong', 'h.cattien': 'lamdong', 'thixaphuoclong': 'binhphuoc', 'phuoclongtown': 'binhphuoc', 'tx.phuoclong': 'binhphuoc', 'thixabinhlong': 'binhphuoc', 'binhlongtown': 'binhphuoc', 'tx.binhlong': 'binhphuoc', 'huyenbugiamap': 'binhphuoc', 'bugiamapdistrict': 'binhphuoc', 'h.bugiamap': 'binhphuoc', 'huyenlocninh': 'binhphuoc', 'locninhdistrict': 'binhphuoc', 'h.locninh': 'binhphuoc', 'huyendongphu': 'binhphuoc', 'dongphudistrict': 'binhphuoc', 'h.dongphu': 'binhphuoc', 'huyenphurieng': 'binhphuoc', 'phuriengdistrict': 'binhphuoc', 'h.phurieng': 'binhphuoc', 'thanhphotayninh': 'tayninh', 'tayninhcity': 'tayninh', 'tp.tayninh': 'tayninh', 'huyentanbien': 'tayninh', 'tanbiendistrict': 'tayninh', 'h.tanbien': 'tayninh', 'huyentanchau': 'tayninh', 'tanchaudistrict': 'tayninh', 'h.tanchau': 'tayninh', 'huyenduongminhchau': 'tayninh', 'duongminhchaudistrict': 'tayninh', 'h.duongminhchau': 'tayninh', 'thixahoathanh': 'tayninh', 'hoathanhtown': 'tayninh', 'tx.hoathanh': 'tayninh', 'huyengodau': 'tayninh', 'godaudistrict': 'tayninh', 'h.godau': 'tayninh', 'huyenbencau': 'tayninh', 'bencaudistrict': 'tayninh', 'h.bencau': 'tayninh', 'thixatrangbang': 'tayninh', 'trangbangtown': 'tayninh', 'tx.trangbang': 'tayninh', 'huyendautieng': 'binhduong', 'dautiengdistrict': 'binhduong', 'h.dautieng': 'binhduong', 'thanhphotanuyen': 'binhduong', 'tanuyencity': 'binhduong', 'tp.tanuyen': 'binhduong', 'thanhphodian': 'binhduong', 'diancity': 'binhduong', 'tp.dian': 'binhduong', 'thanhphothuanan': 'binhduong', 'thuanancity': 'binhduong', 'tp.thuanan': 'binhduong', 'thanhpholongkhanh': 'dongnai', 'longkhanhcity': 'dongnai', 'tp.longkhanh': 'dongnai', 'huyentanphu': 'dongnai', 'tanphudistrict': 'hochiminh', 'h.tanphu': 'dongnai', 'huyendinhquan': 'dongnai', 'dinhquandistrict': 'dongnai', 'h.dinhquan': 'dongnai', 'huyentrangbom': 'dongnai', 'trangbomdistrict': 'dongnai', 'h.trangbom': 'dongnai', 'huyenthongnhat': 'dongnai', 'thongnhatdistrict': 'dongnai', 'h.thongnhat': 'dongnai', 'huyencammy': 'dongnai', 'cammydistrict': 'dongnai', 'h.cammy': 'dongnai', 'huyenlongthanh': 'dongnai', 'longthanhdistrict': 'dongnai', 'h.longthanh': 'dongnai', 'huyenxuanloc': 'dongnai', 'xuanlocdistrict': 'dongnai', 'h.xuanloc': 'dongnai', 'huyenxuyenmoc': 'bariavungtau', 'xuyenmocdistrict': 'bariavungtau', 'h.xuyenmoc': 'bariavungtau', 'huyenlongdien': 'bariavungtau', 'longdiendistrict': 'bariavungtau', 'h.longdien': 'bariavungtau', 'huyendatdo': 'bariavungtau', 'datdodistrict': 'bariavungtau', 'h.datdo': 'bariavungtau', 'thixaphumy': 'bariavungtau', 'phumytown': 'bariavungtau', 'tx.phumy': 'bariavungtau', 'quanbinhthanh': 'hochiminh', 'binhthanhdistrict': 'hochiminh', 'q.binhthanh': 'hochiminh', 'quantanbinh': 'hochiminh', 'tanbinhdistrict': 'hochiminh', 'q.tanbinh': 'hochiminh', 'quantanphu': 'hochiminh', 'q.tanphu': 'hochiminh', 'quanphunhuan': 'hochiminh', 'phunhuandistrict': 'hochiminh', 'q.phunhuan': 'hochiminh', 'quanbinhtan': 'hochiminh', 'binhtandistrict': 'vinhlong', 'q.binhtan': 'hochiminh', 'huyencuchi': 'hochiminh', 'cuchidistrict': 'hochiminh', 'h.cuchi': 'hochiminh', 'huyenhocmon': 'hochiminh', 'hocmondistrict': 'hochiminh', 'h.hocmon': 'hochiminh', 'huyenbinhchanh': 'hochiminh', 'binhchanhdistrict': 'hochiminh', 'h.binhchanh': 'hochiminh', 'huyennhabe': 'hochiminh', 'nhabedistrict': 'hochiminh', 'h.nhabe': 'hochiminh', 'thanhphotanan': 'longan', 'tanancity': 'longan', 'tp.tanan': 'longan', 'huyentanhung': 'longan', 'tanhungdistrict': 'longan', 'h.tanhung': 'longan', 'huyenvinhhung': 'longan', 'vinhhungdistrict': 'longan', 'h.vinhhung': 'longan', 'huyentanthanh': 'longan', 'tanthanhdistrict': 'longan', 'h.tanthanh': 'longan', 'huyenthanhhoa': 'longan', 'thanhhoadistrict': 'longan', 'h.thanhhoa': 'longan', 'huyenduchoa': 'longan', 'duchoadistrict': 'longan', 'h.duchoa': 'longan', 'huyenbenluc': 'longan', 'benlucdistrict': 'longan', 'h.benluc': 'longan', 'huyenthuthua': 'longan', 'thuthuadistrict': 'longan', 'h.thuthua': 'longan', 'huyentantru': 'longan', 'tantrudistrict': 'longan', 'h.tantru': 'longan', 'huyencanduoc': 'longan', 'canduocdistrict': 'longan', 'h.canduoc': 'longan', 'huyencangiuoc': 'longan', 'cangiuocdistrict': 'longan', 'h.cangiuoc': 'longan', 'thanhphomytho': 'tiengiang', 'mythocity': 'tiengiang', 'tp.mytho': 'tiengiang', 'huyentanphuoc': 'tiengiang', 'tanphuocdistrict': 'tiengiang', 'h.tanphuoc': 'tiengiang', 'huyencaibe': 'tiengiang', 'caibedistrict': 'tiengiang', 'h.caibe': 'tiengiang', 'huyenchogao': 'tiengiang', 'chogaodistrict': 'tiengiang', 'h.chogao': 'tiengiang', 'huyentanphudong': 'tiengiang', 'tanphudongdistrict': 'tiengiang', 'h.tanphudong': 'tiengiang', 'thanhphobentre': 'bentre', 'bentrecity': 'bentre', 'tp.bentre': 'bentre', 'huyencholach': 'bentre', 'cholachdistrict': 'bentre', 'h.cholach': 'bentre', 'huyengiongtrom': 'bentre', 'giongtromdistrict': 'bentre', 'h.giongtrom': 'bentre', 'huyenbinhdai': 'bentre', 'binhdaidistrict': 'bentre', 'h.binhdai': 'bentre', 'huyenbatri': 'bentre', 'batridistrict': 'bentre', 'h.batri': 'bentre', 'huyenthanhphu': 'bentre', 'thanhphudistrict': 'bentre', 'h.thanhphu': 'bentre', 'thanhphotravinh': 'travinh', 'travinhcity': 'travinh', 'tp.travinh': 'travinh', 'huyencanglong': 'travinh', 'canglongdistrict': 'travinh', 'h.canglong': 'travinh', 'huyencauke': 'travinh', 'caukedistrict': 'travinh', 'h.cauke': 'travinh', 'huyentieucan': 'travinh', 'tieucandistrict': 'travinh', 'h.tieucan': 'travinh', 'huyencaungang': 'travinh', 'caungangdistrict': 'travinh', 'h.caungang': 'travinh', 'huyentracu': 'travinh', 'tracudistrict': 'travinh', 'h.tracu': 'travinh', 'huyenduyenhai': 'travinh', 'duyenhaidistrict': 'travinh', 'h.duyenhai': 'travinh', 'thixaduyenhai': 'travinh', 'duyenhaitown': 'travinh', 'tx.duyenhai': 'travinh', 'thanhphovinhlong': 'vinhlong', 'vinhlongcity': 'vinhlong', 'tp.vinhlong': 'vinhlong', 'huyenlongho': 'vinhlong', 'longhodistrict': 'vinhlong', 'h.longho': 'vinhlong', 'huyenvungliem': 'vinhlong', 'vungliemdistrict': 'vinhlong', 'h.vungliem': 'vinhlong', 'huyentambinh': 'vinhlong', 'tambinhdistrict': 'vinhlong', 'h.tambinh': 'vinhlong', 'thixabinhminh': 'vinhlong', 'binhminhtown': 'vinhlong', 'tx.binhminh': 'vinhlong', 'huyentraon': 'vinhlong', 'traondistrict': 'vinhlong', 'h.traon': 'vinhlong', 'huyenbinhtan': 'vinhlong', 'h.binhtan': 'vinhlong', 'thanhphohongngu': 'dongthap', 'hongngucity': 'dongthap', 'tp.hongngu': 'dongthap', 'huyentanhong': 'dongthap', 'tanhongdistrict': 'dongthap', 'h.tanhong': 'dongthap', 'huyenhongngu': 'dongthap', 'hongngudistrict': 'dongthap', 'h.hongngu': 'dongthap', 'huyenthanhbinh': 'dongthap', 'thanhbinhdistrict': 'dongthap', 'h.thanhbinh': 'dongthap', 'huyenlapvo': 'dongthap', 'lapvodistrict': 'dongthap', 'h.lapvo': 'dongthap', 'huyenlaivung': 'dongthap', 'laivungdistrict': 'dongthap', 'h.laivung': 'dongthap', 'thanhpholongxuyen': 'angiang', 'longxuyencity': 'angiang', 'tp.longxuyen': 'angiang', 'huyenanphu': 'angiang', 'anphudistrict': 'angiang', 'h.anphu': 'angiang', 'thixatanchau': 'angiang', 'tanchautown': 'angiang', 'tx.tanchau': 'angiang', 'huyenchauphu': 'angiang', 'chauphudistrict': 'angiang', 'h.chauphu': 'angiang', 'thixatinhbien': 'angiang', 'tinhbientown': 'angiang', 'tx.tinhbien': 'angiang', 'huyentriton': 'angiang', 'tritondistrict': 'angiang', 'h.triton': 'angiang', 'thanhphohatien': 'kiengiang', 'hatiencity': 'kiengiang', 'tp.hatien': 'kiengiang', 'huyenkienluong': 'kiengiang', 'kienluongdistrict': 'kiengiang', 'h.kienluong': 'kiengiang', 'huyenhondat': 'kiengiang', 'hondatdistrict': 'kiengiang', 'h.hondat': 'kiengiang', 'huyentanhiep': 'kiengiang', 'tanhiepdistrict': 'kiengiang', 'h.tanhiep': 'kiengiang', 'huyengiongrieng': 'kiengiang', 'giongriengdistrict': 'kiengiang', 'h.giongrieng': 'kiengiang', 'huyengoquao': 'kiengiang', 'goquaodistrict': 'kiengiang', 'h.goquao': 'kiengiang', 'huyenanbien': 'kiengiang', 'anbiendistrict': 'kiengiang', 'h.anbien': 'kiengiang', 'huyenanminh': 'kiengiang', 'anminhdistrict': 'kiengiang', 'h.anminh': 'kiengiang', 'huyenvinhthuan': 'kiengiang', 'vinhthuandistrict': 'kiengiang', 'h.vinhthuan': 'kiengiang', 'quanbinhthuy': 'cantho', 'binhthuydistrict': 'cantho', 'q.binhthuy': 'cantho', 'quanthotnot': 'cantho', 'thotnotdistrict': 'cantho', 'q.thotnot': 'cantho', 'huyencodo': 'cantho', 'cododistrict': 'cantho', 'h.codo': 'cantho', 'huyenthoilai': 'cantho', 'thoilaidistrict': 'cantho', 'h.thoilai': 'cantho', 'thanhphovithanh': 'haugiang', 'vithanhcity': 'haugiang', 'tp.vithanh': 'haugiang', 'thanhphongabay': 'haugiang', 'ngabaycity': 'haugiang', 'tp.ngabay': 'haugiang', 'huyenphunghiep': 'haugiang', 'phunghiepdistrict': 'haugiang', 'h.phunghiep': 'haugiang', 'huyenvithuy': 'haugiang', 'vithuydistrict': 'haugiang', 'h.vithuy': 'haugiang', 'huyenlongmy': 'haugiang', 'longmydistrict': 'haugiang', 'h.longmy': 'haugiang', 'thixalongmy': 'haugiang', 'longmytown': 'haugiang', 'tx.longmy': 'haugiang', 'thanhphosoctrang': 'soctrang', 'soctrangcity': 'soctrang', 'tp.soctrang': 'soctrang', 'huyenkesach': 'soctrang', 'kesachdistrict': 'soctrang', 'h.kesach': 'soctrang', 'huyenmytu': 'soctrang', 'mytudistrict': 'soctrang', 'h.mytu': 'soctrang', 'huyenculaodung': 'soctrang', 'culaodungdistrict': 'soctrang', 'h.culaodung': 'soctrang', 'huyenlongphu': 'soctrang', 'longphudistrict': 'soctrang', 'h.longphu': 'soctrang', 'huyenmyxuyen': 'soctrang', 'myxuyendistrict': 'soctrang', 'h.myxuyen': 'soctrang', 'thixavinhchau': 'soctrang', 'vinhchautown': 'soctrang', 'tx.vinhchau': 'soctrang', 'huyentrande': 'soctrang', 'trandedistrict': 'soctrang', 'h.trande': 'soctrang', 'thanhphobaclieu': 'baclieu', 'baclieucity': 'baclieu', 'tp.baclieu': 'baclieu', 'huyenphuoclong': 'baclieu', 'phuoclongdistrict': 'baclieu', 'h.phuoclong': 'baclieu', 'huyenvinhloi': 'baclieu', 'vinhloidistrict': 'baclieu', 'h.vinhloi': 'baclieu', 'huyendonghai': 'baclieu', 'donghaidistrict': 'baclieu', 'h.donghai': 'baclieu', 'huyenhoabinh': 'baclieu', 'hoabinhdistrict': 'baclieu', 'h.hoabinh': 'baclieu', 'thanhphocamau': 'camau', 'camaucity': 'camau', 'tp.camau': 'camau', 'huyenuminh': 'camau', 'uminhdistrict': 'camau', 'h.uminh': 'camau', 'huyenthoibinh': 'camau', 'thoibinhdistrict': 'camau', 'h.thoibinh': 'camau', 'huyentranvanthoi': 'camau', 'tranvanthoidistrict': 'camau', 'h.tranvanthoi': 'camau', 'huyencainuoc': 'camau', 'cainuocdistrict': 'camau', 'h.cainuoc': 'camau', 'huyendamdoi': 'camau', 'damdoidistrict': 'camau', 'h.damdoi': 'camau', 'huyennamcan': 'camau', 'namcandistrict': 'camau', 'h.namcan': 'camau', 'huyenbabe': 'backan', 'babedistrict': 'backan', 'h.babe': 'backan', 'thanhphothudaumot': 'binhduong', 'thudaumotcity': 'binhduong', 'tp.thudaumot': 'binhduong', 'huyenhaquang': 'caobang', 'haquangdistrict': 'caobang', 'h.haquang': 'caobang', 'thixamuonglay': 'dienbien', 'muonglaytown': 'dienbien', 'tx.muonglay': 'dienbien', 'huyenvinhcuu': 'dongnai', 'vinhcuudistrict': 'dongnai', 'h.vinhcuu': 'dongnai', 'huyentrabong': 'quangngai', 'trabongdistrict': 'quangngai', 'h.trabong': 'quangngai', 'thanhphomongcai': 'quangninh', 'mongcaicity': 'quangninh', 'tp.mongcai': 'quangninh', 'huyencangio': 'hochiminh', 'cangiodistrict': 'hochiminh', 'h.cangio': 'hochiminh', 'huyenmocaynam': 'bentre', 'mocaynamdistrict': 'bentre', 'h.mocaynam': 'bentre', 'huyennamtramy': 'quangnam', 'namtramydistrict': 'quangnam', 'h.namtramy': 'quangnam'}\n"
     ]
    }
   ],
   "source": [
    "print(unique_district_keys)"
   ],
   "metadata": {
    "collapsed": false,
    "ExecuteTime": {
     "end_time": "2024-09-20T09:53:53.633223Z",
     "start_time": "2024-09-20T09:53:53.631063Z"
    }
   },
   "id": "e79f0ee5eb98db56",
   "execution_count": 87
  },
  {
   "cell_type": "markdown",
   "source": [
    "## Support find province from \"not unique\" district_key\n",
    "\n",
    "Now we can parse \"Phuong 15 Quan Tan Binh\" but \"Phuong 15 Tan Binh\" is not, because \"tanbinh\" is a ward_key of another province.\n",
    "\n",
    "To reach this feature, we will check if any ward_key of the district is in the address, and the ward_key must be placed before the district_key.\n",
    "\n",
    "- Condition 1: ward_key_district_key is unique.\n",
    "- Condition 2: district_key not in `unique_district_keys`"
   ],
   "metadata": {
    "collapsed": false
   },
   "id": "b40969de16fbd5"
  },
  {
   "cell_type": "code",
   "outputs": [
    {
     "data": {
      "text/plain": "{'tanbinh': {'hochiminh': ['phuong1',\n   'phuong2',\n   'p.1',\n   'p.2',\n   'district1',\n   'district2'],\n  'otherprovincekey': [Ellipsis]}}"
     },
     "execution_count": 88,
     "metadata": {},
     "output_type": "execute_result"
    }
   ],
   "source": [
    "# Data I want\n",
    "{\n",
    "    'tanbinh': {\n",
    "        'hochiminh': ['phuong1', 'phuong2', 'p.1', 'p.2', 'district1', 'district2'],\n",
    "        'otherprovincekey': [...]\n",
    "    }\n",
    "}"
   ],
   "metadata": {
    "collapsed": false,
    "ExecuteTime": {
     "end_time": "2024-09-20T09:53:53.635917Z",
     "start_time": "2024-09-20T09:53:53.633765Z"
    }
   },
   "id": "23aa8b423a305dbc",
   "execution_count": 88
  },
  {
   "cell_type": "code",
   "outputs": [],
   "source": [
    "df['ward_key_district_key'] = df['ward_key'] + '_' + df['district_key']"
   ],
   "metadata": {
    "collapsed": false,
    "ExecuteTime": {
     "end_time": "2024-09-20T09:53:53.640544Z",
     "start_time": "2024-09-20T09:53:53.636418Z"
    }
   },
   "id": "5b33525a977bfeea",
   "execution_count": 89
  },
  {
   "cell_type": "code",
   "outputs": [],
   "source": [
    "ward_key_district_key_count = df['ward_key_district_key'].value_counts().reset_index()"
   ],
   "metadata": {
    "collapsed": false,
    "ExecuteTime": {
     "end_time": "2024-09-20T09:53:53.644895Z",
     "start_time": "2024-09-20T09:53:53.641163Z"
    }
   },
   "id": "d6f42dd0fe089728",
   "execution_count": 90
  },
  {
   "cell_type": "code",
   "outputs": [],
   "source": [
    "unique_ward_key_district_keys = ward_key_district_key_count[ward_key_district_key_count['count']==1]['ward_key_district_key'].tolist()"
   ],
   "metadata": {
    "collapsed": false,
    "ExecuteTime": {
     "end_time": "2024-09-20T09:53:53.647705Z",
     "start_time": "2024-09-20T09:53:53.645369Z"
    }
   },
   "id": "f9264d2424ca0410",
   "execution_count": 91
  },
  {
   "cell_type": "code",
   "outputs": [],
   "source": [
    "df_unique_ward_key_district_keys = df[(df['ward_key_district_key'].isin(unique_ward_key_district_keys)) & (~df['district_key'].isin(unique_district_keys))]"
   ],
   "metadata": {
    "collapsed": false,
    "ExecuteTime": {
     "end_time": "2024-09-20T09:53:53.654596Z",
     "start_time": "2024-09-20T09:53:53.648251Z"
    }
   },
   "id": "efe2d16fbcf29aa",
   "execution_count": 92
  },
  {
   "cell_type": "code",
   "outputs": [],
   "source": [
    "not_unique_district_keys = {}\n",
    "for district_key in df_unique_ward_key_district_keys['district_key'].unique().tolist():\n",
    "    data = {}\n",
    "    tmp_province_keys = df_unique_ward_key_district_keys[df_unique_ward_key_district_keys['district_key']==district_key]['province_key'].unique().tolist()\n",
    "    for province_key in tmp_province_keys:\n",
    "        tmp_ward_keys = df_unique_ward_key_district_keys[(df_unique_ward_key_district_keys['district_key']==district_key) & (df_unique_ward_key_district_keys['province_key']==province_key)]['ward_key'].unique().tolist()\n",
    "        tmp_number_wards = [i for i in tmp_ward_keys if re.search('^phuong\\d{1,2}', i)]\n",
    "        for num_ward_key in tmp_number_wards:\n",
    "            tmp_ward_keys.append(num_ward_key.replace('phuong','district'))\n",
    "            tmp_ward_keys.append(num_ward_key.replace('phuong','p.'))\n",
    "        data[province_key] = tmp_ward_keys\n",
    "    not_unique_district_keys[district_key] = data"
   ],
   "metadata": {
    "collapsed": false,
    "ExecuteTime": {
     "end_time": "2024-09-20T09:53:54.169140Z",
     "start_time": "2024-09-20T09:53:53.655253Z"
    }
   },
   "id": "61d68de45b55583",
   "execution_count": 93
  },
  {
   "cell_type": "code",
   "outputs": [
    {
     "data": {
      "text/plain": "{'hochiminh': ['phuong2',\n  'phuong4',\n  'phuong12',\n  'phuong13',\n  'phuong1',\n  'phuong3',\n  'phuong11',\n  'phuong7',\n  'phuong5',\n  'phuong10',\n  'phuong6',\n  'phuong8',\n  'phuong9',\n  'phuong14',\n  'phuong15',\n  'district2',\n  'p.2',\n  'district4',\n  'p.4',\n  'district12',\n  'p.12',\n  'district13',\n  'p.13',\n  'district1',\n  'p.1',\n  'district3',\n  'p.3',\n  'district11',\n  'p.11',\n  'district7',\n  'p.7',\n  'district5',\n  'p.5',\n  'district10',\n  'p.10',\n  'district6',\n  'p.6',\n  'district8',\n  'p.8',\n  'district9',\n  'p.9',\n  'district14',\n  'p.14',\n  'district15',\n  'p.15']}"
     },
     "execution_count": 94,
     "metadata": {},
     "output_type": "execute_result"
    }
   ],
   "source": [
    "not_unique_district_keys['tanbinh']"
   ],
   "metadata": {
    "collapsed": false,
    "ExecuteTime": {
     "end_time": "2024-09-20T09:53:54.172158Z",
     "start_time": "2024-09-20T09:53:54.169881Z"
    }
   },
   "id": "d0c08d05e763a5c5",
   "execution_count": 94
  },
  {
   "cell_type": "code",
   "outputs": [
    {
     "data": {
      "text/plain": "{'tayninh': ['haoduoc',\n  'phuocvinh',\n  'dongkhoi',\n  'thaibinh',\n  'anco',\n  'biengioi',\n  'hoathanh',\n  'tribinh',\n  'hoahoi',\n  'anbinh',\n  'thanhdien',\n  'thanhlong',\n  'ninhdien',\n  'longvinh'],\n 'longan': ['tamvu',\n  'binhquoi',\n  'hoaphu',\n  'phungaitri',\n  'vinhcong',\n  'thuanmy',\n  'phuoctanhung',\n  'thanhphulong',\n  'duongxuanhoi',\n  'anluclong',\n  'longtri',\n  'thanhvinhdong'],\n 'tiengiang': ['tanhiep',\n  'tanhoidong',\n  'tanhuong',\n  'tanlydong',\n  'tanlytay',\n  'thancuunghia',\n  'tamhiep',\n  'diemhy',\n  'nhibinh',\n  'duongdiem',\n  'donghoa',\n  'longdinh',\n  'huudao',\n  'longan',\n  'longhung',\n  'binhtrung',\n  'thanhphu',\n  'banlong',\n  'vinhkim',\n  'binhduc',\n  'songthuan',\n  'kimson',\n  'phuphong'],\n 'bentre': ['tanthach',\n  'quoison',\n  'giaolong',\n  'phutuc',\n  'phuduc',\n  'phuanhoa',\n  'anphuoc',\n  'tamphuoc',\n  'thanhtrieu',\n  'tuongda',\n  'quoithanh',\n  'phuocthanh',\n  'tienlong',\n  'huudinh',\n  'tienthuy',\n  'sonhoa'],\n 'travinh': ['daloc',\n  'mychanh',\n  'thanhmy',\n  'luonghoaa',\n  'luonghoa',\n  'songloc',\n  'nguyethoa',\n  'hoathuan',\n  'hoaloi',\n  'phuochao',\n  'hungmy',\n  'hoaminh',\n  'longhoa'],\n 'dongthap': ['caitauha',\n  'annhon',\n  'tannhuandong',\n  'tanbinh',\n  'tanphutrung',\n  'phulong',\n  'anphuthuan',\n  'hoatan'],\n 'angiang': ['anchau',\n  'candang',\n  'vinhhanh',\n  'binhthanh',\n  'vinhbinh',\n  'binhhoa',\n  'vinhan',\n  'hoabinhthanh',\n  'vinhloi',\n  'vinhnhuan',\n  'vinhthanh'],\n 'kiengiang': ['minhluong',\n  'mongthoa',\n  'mongthob',\n  'mongtho',\n  'giuctuong',\n  'vinhhoahiep',\n  'vinhhoaphu',\n  'minhhoa',\n  'binhan',\n  'thanhloc'],\n 'haugiang': ['ngasau',\n  'dongthanh',\n  'dongphu',\n  'maidam',\n  'dongphuoc',\n  'dongphuoca'],\n 'soctrang': ['hodackien', 'phutam', 'thuanhoa', 'thienmy', 'anninh']}"
     },
     "execution_count": 95,
     "metadata": {},
     "output_type": "execute_result"
    }
   ],
   "source": [
    "not_unique_district_keys['chauthanh']"
   ],
   "metadata": {
    "collapsed": false,
    "ExecuteTime": {
     "end_time": "2024-09-20T09:53:54.177393Z",
     "start_time": "2024-09-20T09:53:54.175027Z"
    }
   },
   "id": "8327b6fc9e7c861",
   "execution_count": 95
  },
  {
   "cell_type": "markdown",
   "source": [
    "## Support "
   ],
   "metadata": {
    "collapsed": false
   },
   "id": "ff04fd742ba7ddc6"
  },
  {
   "cell_type": "code",
   "outputs": [],
   "source": [
    "with open('../../vietadminunits/data/parse.pkl', 'wb') as f:\n",
    "    pickle.dump((duplicated_district_keys, duplicated_district_province_keys, duplicated_ward_keys, duplicated_ward_district_keys, province_keys_1, province_keys_2, province_keys_3, province_map, district_map, ward_map, double_check_provinces, double_check_districts, half_district_keys, long_district_alphanumerics, unique_district_keys, not_unique_district_keys), f)"
   ],
   "metadata": {
    "collapsed": false,
    "ExecuteTime": {
     "end_time": "2024-09-20T09:53:54.193571Z",
     "start_time": "2024-09-20T09:53:54.177835Z"
    }
   },
   "id": "755934acf0047162",
   "execution_count": 96
  }
 ],
 "metadata": {
  "kernelspec": {
   "display_name": "Python 3",
   "language": "python",
   "name": "python3"
  },
  "language_info": {
   "codemirror_mode": {
    "name": "ipython",
    "version": 2
   },
   "file_extension": ".py",
   "mimetype": "text/x-python",
   "name": "python",
   "nbconvert_exporter": "python",
   "pygments_lexer": "ipython2",
   "version": "2.7.6"
  }
 },
 "nbformat": 4,
 "nbformat_minor": 5
}
