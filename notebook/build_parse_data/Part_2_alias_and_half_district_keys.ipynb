{
 "cells": [
  {
   "cell_type": "markdown",
   "source": [
    "# Find district alias keywords\n",
    "\n",
    "Data source: [Danh sách các đơn vị hành chính cấp huyện không còn tồn tại](https://vi.wikipedia.org/wiki/Danh_s%C3%A1ch_%C4%91%C6%A1n_v%E1%BB%8B_h%C3%A0nh_ch%C3%ADnh_c%E1%BA%A5p_huy%E1%BB%87n_c%E1%BB%A7a_Vi%E1%BB%87t_Nam#Danh_s%C3%A1ch_c%C3%A1c_%C4%91%C6%A1n_v%E1%BB%8B_h%C3%A0nh_ch%C3%ADnh_c%E1%BA%A5p_huy%E1%BB%87n_kh%C3%B4ng_c%C3%B2n_t%E1%BB%93n_t%E1%BA%A1i)"
   ],
   "metadata": {
    "collapsed": false
   },
   "id": "35f5dbc437ab5bad"
  },
  {
   "cell_type": "code",
   "execution_count": 1,
   "id": "initial_id",
   "metadata": {
    "collapsed": true,
    "ExecuteTime": {
     "end_time": "2024-09-25T16:53:21.646418Z",
     "start_time": "2024-09-25T16:53:20.355995Z"
    }
   },
   "outputs": [],
   "source": [
    "import pandas as pd\n",
    "import re\n",
    "import pickle\n",
    "from vietadminunits.utils import to_key\n",
    "from vietadminunits import get_data, parse_address"
   ]
  },
  {
   "cell_type": "code",
   "outputs": [],
   "source": [
    "def check_containing_keyword(district, change):\n",
    "    if change.count(district) == 2:\n",
    "        return 1\n",
    "    else:\n",
    "        return 0\n",
    "    \n",
    "def get_district_key(text):\n",
    "    au = parse_address(text, 2)\n",
    "    return au.district_key\n",
    "\n",
    "def prepare_address(province, change):\n",
    "    address = re.sub(f'.* thành ', '', change) + ', ' + province\n",
    "    return address\n",
    "\n",
    "def get_province_english(text):\n",
    "    au = parse_address(text, 1)\n",
    "    return au.province_english"
   ],
   "metadata": {
    "collapsed": false
   },
   "id": "720868c9bc5d8b74",
   "execution_count": 2
  },
  {
   "cell_type": "code",
   "outputs": [],
   "source": [
    "df = pd.read_csv('../../data/input/district_change.csv')"
   ],
   "metadata": {
    "collapsed": false,
    "ExecuteTime": {
     "end_time": "2024-09-25T16:53:21.679486Z",
     "start_time": "2024-09-25T16:53:21.657159Z"
    }
   },
   "id": "19018c4a3a7f3491",
   "execution_count": 3
  },
  {
   "cell_type": "code",
   "outputs": [
    {
     "data": {
      "text/plain": "              province    old_district    year  \\\n0             An Giang         Huệ Đức  1977.0   \n1             An Giang         Bảy Núi  1979.0   \n2             An Giang        Phú Châu  1991.0   \n3    Bà Rịa – Vũng Tàu      Châu Thành  1994.0   \n4    Bà Rịa – Vũng Tàu        Long Đất  2003.0   \n..                 ...             ...     ...   \n132          Vĩnh Long        Cái Nhum  1977.0   \n133          Vĩnh Long  Châu Thành Tây  1977.0   \n134          Vĩnh Phúc        Yên Lãng  1977.0   \n135          Vĩnh Phúc        Vĩnh Lạc  1995.0   \n136            Yên Bái        không có     NaN   \n\n                                                change  \n0                sáp nhập toàn bộ vào huyện Châu Thành  \n1     chia tách thành huyện Tri Tôn và huyện Tịnh Biên  \n2       chia tách thành huyện An Phú và huyện Tân Châu  \n3    chia tách thành thị xã Bà Rịa, huyện Tân Thành...  \n4      chia tách thành huyện Long Điền và huyện Đất Đỏ  \n..                                                 ...  \n132  sáp nhập với huyện Châu Thành Tây thành huyện ...  \n133    sáp nhập với huyện Cái Nhum thành huyện Long Hồ  \n134  sáp nhập với huyện Bình Xuyên thành huyện Mê Linh  \n135  chia tách thành huyện Vĩnh Tường và huyện Yên Lạc  \n136                                                NaN  \n\n[137 rows x 4 columns]",
      "text/html": "<div>\n<style scoped>\n    .dataframe tbody tr th:only-of-type {\n        vertical-align: middle;\n    }\n\n    .dataframe tbody tr th {\n        vertical-align: top;\n    }\n\n    .dataframe thead th {\n        text-align: right;\n    }\n</style>\n<table border=\"1\" class=\"dataframe\">\n  <thead>\n    <tr style=\"text-align: right;\">\n      <th></th>\n      <th>province</th>\n      <th>old_district</th>\n      <th>year</th>\n      <th>change</th>\n    </tr>\n  </thead>\n  <tbody>\n    <tr>\n      <th>0</th>\n      <td>An Giang</td>\n      <td>Huệ Đức</td>\n      <td>1977.0</td>\n      <td>sáp nhập toàn bộ vào huyện Châu Thành</td>\n    </tr>\n    <tr>\n      <th>1</th>\n      <td>An Giang</td>\n      <td>Bảy Núi</td>\n      <td>1979.0</td>\n      <td>chia tách thành huyện Tri Tôn và huyện Tịnh Biên</td>\n    </tr>\n    <tr>\n      <th>2</th>\n      <td>An Giang</td>\n      <td>Phú Châu</td>\n      <td>1991.0</td>\n      <td>chia tách thành huyện An Phú và huyện Tân Châu</td>\n    </tr>\n    <tr>\n      <th>3</th>\n      <td>Bà Rịa – Vũng Tàu</td>\n      <td>Châu Thành</td>\n      <td>1994.0</td>\n      <td>chia tách thành thị xã Bà Rịa, huyện Tân Thành...</td>\n    </tr>\n    <tr>\n      <th>4</th>\n      <td>Bà Rịa – Vũng Tàu</td>\n      <td>Long Đất</td>\n      <td>2003.0</td>\n      <td>chia tách thành huyện Long Điền và huyện Đất Đỏ</td>\n    </tr>\n    <tr>\n      <th>...</th>\n      <td>...</td>\n      <td>...</td>\n      <td>...</td>\n      <td>...</td>\n    </tr>\n    <tr>\n      <th>132</th>\n      <td>Vĩnh Long</td>\n      <td>Cái Nhum</td>\n      <td>1977.0</td>\n      <td>sáp nhập với huyện Châu Thành Tây thành huyện ...</td>\n    </tr>\n    <tr>\n      <th>133</th>\n      <td>Vĩnh Long</td>\n      <td>Châu Thành Tây</td>\n      <td>1977.0</td>\n      <td>sáp nhập với huyện Cái Nhum thành huyện Long Hồ</td>\n    </tr>\n    <tr>\n      <th>134</th>\n      <td>Vĩnh Phúc</td>\n      <td>Yên Lãng</td>\n      <td>1977.0</td>\n      <td>sáp nhập với huyện Bình Xuyên thành huyện Mê Linh</td>\n    </tr>\n    <tr>\n      <th>135</th>\n      <td>Vĩnh Phúc</td>\n      <td>Vĩnh Lạc</td>\n      <td>1995.0</td>\n      <td>chia tách thành huyện Vĩnh Tường và huyện Yên Lạc</td>\n    </tr>\n    <tr>\n      <th>136</th>\n      <td>Yên Bái</td>\n      <td>không có</td>\n      <td>NaN</td>\n      <td>NaN</td>\n    </tr>\n  </tbody>\n</table>\n<p>137 rows × 4 columns</p>\n</div>"
     },
     "execution_count": 4,
     "metadata": {},
     "output_type": "execute_result"
    }
   ],
   "source": [
    "df"
   ],
   "metadata": {
    "collapsed": false,
    "ExecuteTime": {
     "end_time": "2024-09-25T16:53:21.698050Z",
     "start_time": "2024-09-25T16:53:21.684140Z"
    }
   },
   "id": "63790dc5a3f5f623",
   "execution_count": 4
  },
  {
   "cell_type": "code",
   "outputs": [],
   "source": [
    "df.dropna(inplace=True)"
   ],
   "metadata": {
    "collapsed": false,
    "ExecuteTime": {
     "end_time": "2024-09-25T16:53:21.709199Z",
     "start_time": "2024-09-25T16:53:21.701976Z"
    }
   },
   "id": "35a74e1381d0d9ef",
   "execution_count": 5
  },
  {
   "cell_type": "code",
   "outputs": [],
   "source": [
    "df['province_english'] = df.province.apply(get_province_english)\n",
    "df['old_district_key'] = df.old_district.apply(to_key, args=(2,))\n",
    "df['containing_keyword_two_times'] = df.apply(lambda x: check_containing_keyword(x.old_district, x.change), axis=1)"
   ],
   "metadata": {
    "collapsed": false,
    "ExecuteTime": {
     "end_time": "2024-09-25T16:53:21.749148Z",
     "start_time": "2024-09-25T16:53:21.713753Z"
    }
   },
   "id": "fc656e0a994b16a4",
   "execution_count": 6
  },
  {
   "cell_type": "markdown",
   "source": [
    "## Create alias district_keys"
   ],
   "metadata": {
    "collapsed": false
   },
   "id": "46fcb81f1cdfceec"
  },
  {
   "cell_type": "code",
   "outputs": [],
   "source": [
    "df_change = df[(df.change.fillna('').str.contains('sáp nhập|đổi tên')) & ~(df.change.fillna('').str.contains('một phần'))].copy()"
   ],
   "metadata": {
    "collapsed": false,
    "ExecuteTime": {
     "end_time": "2024-09-25T16:53:21.761241Z",
     "start_time": "2024-09-25T16:53:21.751102Z"
    }
   },
   "id": "ebd0d929b2ac3b04",
   "execution_count": 7
  },
  {
   "cell_type": "code",
   "outputs": [
    {
     "data": {
      "text/plain": "              province     old_district    year  \\\n0             An Giang          Huệ Đức  1977.0   \n5    Bà Rịa – Vũng Tàu        Tân Thành  2018.0   \n7              Bắc Kạn           Chợ Rã  1984.0   \n9             Bạc Liêu         Minh Hải  1984.0   \n14          Bình Dương       Châu Thành  1977.0   \n15          Bình Dương        Lái Thiêu  1977.0   \n18          Bình Phước       Phước Bình  1977.0   \n23              Cà Mau        Ngọc Hiển  1984.0   \n26            Cao Bằng         Phục Hòa  2020.0   \n27            Cao Bằng       Quảng Uyên  2020.0   \n28            Cao Bằng       Thông Nông  2020.0   \n29            Cao Bằng         Trà Lĩnh  2020.0   \n33           Điện Biên         Lai Châu  2005.0   \n34           Điện Biên        Mường Lay  2005.0   \n35            Đồng Nai          Vĩnh An  1994.0   \n37           Đồng Tháp       Thạnh Hưng  1994.0   \n42              Hà Nam           Hà Nam  1996.0   \n43              Hà Nội          Đa Phúc  1977.0   \n44              Hà Nội          Kim Anh  1977.0   \n52           Hải Phòng           Cát Bà  1977.0   \n57           Hậu Giang         Mỹ Thanh  1982.0   \n59           Hậu Giang         Tân Hiệp  2006.0   \n60            Hòa Bình           Kỳ Sơn  2019.0   \n67           Khánh Hòa      Khánh Xương  1977.0   \n69          Kiên Giang          Hà Tiên  1999.0   \n74             Lào Cai        Cam Đường  2002.0   \n75             Long An         Tân Châu  1980.0   \n80            Nam Định           Mỹ Lộc  2024.0   \n82           Ninh Bình        Gia Khánh  1977.0   \n83           Ninh Bình       Hoàng Long  1993.0   \n84           Ninh Bình         Tam Điệp  1994.0   \n91             Phú Thọ        Sông Thao  2002.0   \n97           Quảng Nam            Giằng  1999.0   \n102         Quảng Ngãi          Tây Trà  2020.0   \n103         Quảng Ninh         Hồng Gai  1993.0   \n104         Quảng Ninh          Cẩm Phả  1994.0   \n105         Quảng Ninh         Hải Ninh  1998.0   \n107         Quảng Ninh         Yên Hưng  2011.0   \n108         Quảng Ninh         Hoành Bồ  2019.0   \n113           Tây Ninh       Phú Khương  1979.0   \n116          Thanh Hóa       Đông Thiệu  1982.0   \n120          Thanh Hóa        Thiệu Yên  1996.0   \n121          Thanh Hóa         Tĩnh Gia  2020.0   \n125    Tp. Hồ Chí Minh        Duyên Hải  1991.0   \n127    Tp. Hồ Chí Minh           Quận 2  2020.0   \n128    Tp. Hồ Chí Minh           Quận 9  2020.0   \n129    Tp. Hồ Chí Minh   Thủ Đức (quận)  2020.0   \n130           Trà Vinh  Châu Thành Đông  1977.0   \n132          Vĩnh Long         Cái Nhum  1977.0   \n133          Vĩnh Long   Châu Thành Tây  1977.0   \n134          Vĩnh Phúc         Yên Lãng  1977.0   \n\n                                                change   province_english  \\\n0                sáp nhập toàn bộ vào huyện Châu Thành           An Giang   \n5        thành lập thị xã, đổi tên thành thị xã Phú Mỹ  Ba Ria - Vung Tau   \n7                            đổi tên thành huyện Ba Bể            Bac Kan   \n9                        đổi tên thành thị xã Bạc Liêu           Bac Lieu   \n14   sáp nhập vào huyện Tân Uyên và thị xã Thủ Dầu Một         Binh Duong   \n15       sáp nhập với huyện Dĩ An thành huyện Thuận An         Binh Duong   \n18   sáp nhập với huyện Bù Đăng và huyện Bù Đốp thà...         Binh Phuoc   \n23                         đổi tên thành huyện Đầm Dơi             Ca Mau   \n26   sáp nhập với huyện Quảng Uyên thành huyện Quản...           Cao Bang   \n27   sáp nhập với huyện Phục Hòa thành huyện Quảng Hòa           Cao Bang   \n28                         sáp nhập vào huyện Hà Quảng           Cao Bang   \n29                      sáp nhập vào huyện Trùng Khánh           Cao Bang   \n33                      đổi tên thành thị xã Mường Lay          Dien Bien   \n34                       đổi tên thành huyện Mường Chà          Dien Bien   \n35                        đổi tên thành huyện Vĩnh Cửu           Dong Nai   \n37                          đổi tên thành huyện Lấp Vò          Dong Thap   \n42                         đổi tên thành thị xã Phủ Lý             Ha Nam   \n43      sáp nhập với huyện Kim Anh thành huyện Sóc Sơn             Ha Noi   \n44      sáp nhập với huyện Đa Phúc thành huyện Sóc Sơn             Ha Noi   \n52                          sáp nhập vào huyện Cát Hải          Hai Phong   \n57                        đổi tên thành huyện Vị Thanh          Hau Giang   \n59                        đổi tên thành thị xã Ngã Bảy          Hau Giang   \n60                     sáp nhập vào thành phố Hòa Bình           Hoa Binh   \n67   sáp nhập với huyện Khánh Vĩnh thành huyện Diên...          Khanh Hoa   \n69                      đổi tên thành huyện Kiên Lương         Kien Giang   \n74                         sáp nhập với thị xã Lào Cai            Lao Cai   \n75                          đổi tên thành huyện Vàm Cỏ            Long An   \n80                     sáp nhập vào thành phố Nam Định           Nam Dinh   \n82    sáp nhập với thị xã Ninh Bình thành huyện Hoa Lư          Ninh Binh   \n83                        đổi tên thành huyện Nho Quan          Ninh Binh   \n84                          đổi tên thành huyện Yên Mô          Ninh Binh   \n91                         đổi tên thành huyện Cẩm Khê            Phu Tho   \n97                       đổi tên thành huyện Nam Giang          Quang Nam   \n102                        sáp nhập vào huyện Trà Bồng         Quang Ngai   \n103  thành lập thành phố, đổi tên thành thành phố H...         Quang Ninh   \n104                        đổi tên thành huyện Vân Đồn         Quang Ninh   \n105    thành lập thị xã, đổi tên thành thị xã Móng Cái         Quang Ninh   \n107   thành lập thị xã, đổi tên thành thị xã Quảng Yên         Quang Ninh   \n108                     sáp nhập vào thành phố Hạ Long         Quang Ninh   \n113                      đổi tên thành huyện Hòa Thành           Tay Ninh   \n116                       đổi tên thành huyện Đông Sơn          Thanh Hoa   \n120                       đổi tên thành huyện Yên Định          Thanh Hoa   \n121    thành lập thị xã, đổi tên thành thị xã Nghi Sơn          Thanh Hoa   \n125                        đổi tên thành huyện Cần Giờ        Ho Chi Minh   \n127  sáp nhập với Quận 9 và quận Thủ Đức thành thàn...        Ho Chi Minh   \n128  sáp nhập với Quận 2 và quận Thủ Đức thành thàn...        Ho Chi Minh   \n129  sáp nhập với Quận 2 và Quận 9 thành thành phố ...        Ho Chi Minh   \n130    sáp nhập vào huyện Càng Long và huyện Cầu Ngang           Tra Vinh   \n132  sáp nhập với huyện Châu Thành Tây thành huyện ...          Vinh Long   \n133    sáp nhập với huyện Cái Nhum thành huyện Long Hồ          Vinh Long   \n134  sáp nhập với huyện Bình Xuyên thành huyện Mê Linh          Vinh Phuc   \n\n    old_district_key  containing_keyword_two_times  \n0             hueduc                             0  \n5           tanthanh                             0  \n7              chora                             0  \n9            minhhai                             0  \n14         chauthanh                             0  \n15          laithieu                             0  \n18         phuocbinh                             0  \n23          ngochien                             0  \n26           phuchoa                             0  \n27         quanguyen                             0  \n28         thongnong                             0  \n29           tralinh                             0  \n33           laichau                             0  \n34          muonglay                             0  \n35            vinhan                             0  \n37         thanhhung                             0  \n42             hanam                             0  \n43            daphuc                             0  \n44            kimanh                             0  \n52             catba                             0  \n57           mythanh                             0  \n59           tanhiep                             0  \n60             kyson                             0  \n67        khanhxuong                             0  \n69            hatien                             0  \n74          camduong                             0  \n75           tanchau                             0  \n80             myloc                             0  \n82          giakhanh                             0  \n83         hoanglong                             0  \n84           tamdiep                             0  \n91          songthao                             0  \n97             giang                             0  \n102           taytra                             0  \n103          honggai                             0  \n104           campha                             0  \n105          haininh                             0  \n107          yenhung                             0  \n108          hoanhbo                             0  \n113        phukhuong                             0  \n116        dongthieu                             0  \n120         thieuyen                             0  \n121          tinhgia                             0  \n125         duyenhai                             0  \n127            quan2                             0  \n128            quan9                             0  \n129       thuducquan                             0  \n130    chauthanhdong                             0  \n132          cainhum                             0  \n133     chauthanhtay                             0  \n134          yenlang                             0  ",
      "text/html": "<div>\n<style scoped>\n    .dataframe tbody tr th:only-of-type {\n        vertical-align: middle;\n    }\n\n    .dataframe tbody tr th {\n        vertical-align: top;\n    }\n\n    .dataframe thead th {\n        text-align: right;\n    }\n</style>\n<table border=\"1\" class=\"dataframe\">\n  <thead>\n    <tr style=\"text-align: right;\">\n      <th></th>\n      <th>province</th>\n      <th>old_district</th>\n      <th>year</th>\n      <th>change</th>\n      <th>province_english</th>\n      <th>old_district_key</th>\n      <th>containing_keyword_two_times</th>\n    </tr>\n  </thead>\n  <tbody>\n    <tr>\n      <th>0</th>\n      <td>An Giang</td>\n      <td>Huệ Đức</td>\n      <td>1977.0</td>\n      <td>sáp nhập toàn bộ vào huyện Châu Thành</td>\n      <td>An Giang</td>\n      <td>hueduc</td>\n      <td>0</td>\n    </tr>\n    <tr>\n      <th>5</th>\n      <td>Bà Rịa – Vũng Tàu</td>\n      <td>Tân Thành</td>\n      <td>2018.0</td>\n      <td>thành lập thị xã, đổi tên thành thị xã Phú Mỹ</td>\n      <td>Ba Ria - Vung Tau</td>\n      <td>tanthanh</td>\n      <td>0</td>\n    </tr>\n    <tr>\n      <th>7</th>\n      <td>Bắc Kạn</td>\n      <td>Chợ Rã</td>\n      <td>1984.0</td>\n      <td>đổi tên thành huyện Ba Bể</td>\n      <td>Bac Kan</td>\n      <td>chora</td>\n      <td>0</td>\n    </tr>\n    <tr>\n      <th>9</th>\n      <td>Bạc Liêu</td>\n      <td>Minh Hải</td>\n      <td>1984.0</td>\n      <td>đổi tên thành thị xã Bạc Liêu</td>\n      <td>Bac Lieu</td>\n      <td>minhhai</td>\n      <td>0</td>\n    </tr>\n    <tr>\n      <th>14</th>\n      <td>Bình Dương</td>\n      <td>Châu Thành</td>\n      <td>1977.0</td>\n      <td>sáp nhập vào huyện Tân Uyên và thị xã Thủ Dầu Một</td>\n      <td>Binh Duong</td>\n      <td>chauthanh</td>\n      <td>0</td>\n    </tr>\n    <tr>\n      <th>15</th>\n      <td>Bình Dương</td>\n      <td>Lái Thiêu</td>\n      <td>1977.0</td>\n      <td>sáp nhập với huyện Dĩ An thành huyện Thuận An</td>\n      <td>Binh Duong</td>\n      <td>laithieu</td>\n      <td>0</td>\n    </tr>\n    <tr>\n      <th>18</th>\n      <td>Bình Phước</td>\n      <td>Phước Bình</td>\n      <td>1977.0</td>\n      <td>sáp nhập với huyện Bù Đăng và huyện Bù Đốp thà...</td>\n      <td>Binh Phuoc</td>\n      <td>phuocbinh</td>\n      <td>0</td>\n    </tr>\n    <tr>\n      <th>23</th>\n      <td>Cà Mau</td>\n      <td>Ngọc Hiển</td>\n      <td>1984.0</td>\n      <td>đổi tên thành huyện Đầm Dơi</td>\n      <td>Ca Mau</td>\n      <td>ngochien</td>\n      <td>0</td>\n    </tr>\n    <tr>\n      <th>26</th>\n      <td>Cao Bằng</td>\n      <td>Phục Hòa</td>\n      <td>2020.0</td>\n      <td>sáp nhập với huyện Quảng Uyên thành huyện Quản...</td>\n      <td>Cao Bang</td>\n      <td>phuchoa</td>\n      <td>0</td>\n    </tr>\n    <tr>\n      <th>27</th>\n      <td>Cao Bằng</td>\n      <td>Quảng Uyên</td>\n      <td>2020.0</td>\n      <td>sáp nhập với huyện Phục Hòa thành huyện Quảng Hòa</td>\n      <td>Cao Bang</td>\n      <td>quanguyen</td>\n      <td>0</td>\n    </tr>\n    <tr>\n      <th>28</th>\n      <td>Cao Bằng</td>\n      <td>Thông Nông</td>\n      <td>2020.0</td>\n      <td>sáp nhập vào huyện Hà Quảng</td>\n      <td>Cao Bang</td>\n      <td>thongnong</td>\n      <td>0</td>\n    </tr>\n    <tr>\n      <th>29</th>\n      <td>Cao Bằng</td>\n      <td>Trà Lĩnh</td>\n      <td>2020.0</td>\n      <td>sáp nhập vào huyện Trùng Khánh</td>\n      <td>Cao Bang</td>\n      <td>tralinh</td>\n      <td>0</td>\n    </tr>\n    <tr>\n      <th>33</th>\n      <td>Điện Biên</td>\n      <td>Lai Châu</td>\n      <td>2005.0</td>\n      <td>đổi tên thành thị xã Mường Lay</td>\n      <td>Dien Bien</td>\n      <td>laichau</td>\n      <td>0</td>\n    </tr>\n    <tr>\n      <th>34</th>\n      <td>Điện Biên</td>\n      <td>Mường Lay</td>\n      <td>2005.0</td>\n      <td>đổi tên thành huyện Mường Chà</td>\n      <td>Dien Bien</td>\n      <td>muonglay</td>\n      <td>0</td>\n    </tr>\n    <tr>\n      <th>35</th>\n      <td>Đồng Nai</td>\n      <td>Vĩnh An</td>\n      <td>1994.0</td>\n      <td>đổi tên thành huyện Vĩnh Cửu</td>\n      <td>Dong Nai</td>\n      <td>vinhan</td>\n      <td>0</td>\n    </tr>\n    <tr>\n      <th>37</th>\n      <td>Đồng Tháp</td>\n      <td>Thạnh Hưng</td>\n      <td>1994.0</td>\n      <td>đổi tên thành huyện Lấp Vò</td>\n      <td>Dong Thap</td>\n      <td>thanhhung</td>\n      <td>0</td>\n    </tr>\n    <tr>\n      <th>42</th>\n      <td>Hà Nam</td>\n      <td>Hà Nam</td>\n      <td>1996.0</td>\n      <td>đổi tên thành thị xã Phủ Lý</td>\n      <td>Ha Nam</td>\n      <td>hanam</td>\n      <td>0</td>\n    </tr>\n    <tr>\n      <th>43</th>\n      <td>Hà Nội</td>\n      <td>Đa Phúc</td>\n      <td>1977.0</td>\n      <td>sáp nhập với huyện Kim Anh thành huyện Sóc Sơn</td>\n      <td>Ha Noi</td>\n      <td>daphuc</td>\n      <td>0</td>\n    </tr>\n    <tr>\n      <th>44</th>\n      <td>Hà Nội</td>\n      <td>Kim Anh</td>\n      <td>1977.0</td>\n      <td>sáp nhập với huyện Đa Phúc thành huyện Sóc Sơn</td>\n      <td>Ha Noi</td>\n      <td>kimanh</td>\n      <td>0</td>\n    </tr>\n    <tr>\n      <th>52</th>\n      <td>Hải Phòng</td>\n      <td>Cát Bà</td>\n      <td>1977.0</td>\n      <td>sáp nhập vào huyện Cát Hải</td>\n      <td>Hai Phong</td>\n      <td>catba</td>\n      <td>0</td>\n    </tr>\n    <tr>\n      <th>57</th>\n      <td>Hậu Giang</td>\n      <td>Mỹ Thanh</td>\n      <td>1982.0</td>\n      <td>đổi tên thành huyện Vị Thanh</td>\n      <td>Hau Giang</td>\n      <td>mythanh</td>\n      <td>0</td>\n    </tr>\n    <tr>\n      <th>59</th>\n      <td>Hậu Giang</td>\n      <td>Tân Hiệp</td>\n      <td>2006.0</td>\n      <td>đổi tên thành thị xã Ngã Bảy</td>\n      <td>Hau Giang</td>\n      <td>tanhiep</td>\n      <td>0</td>\n    </tr>\n    <tr>\n      <th>60</th>\n      <td>Hòa Bình</td>\n      <td>Kỳ Sơn</td>\n      <td>2019.0</td>\n      <td>sáp nhập vào thành phố Hòa Bình</td>\n      <td>Hoa Binh</td>\n      <td>kyson</td>\n      <td>0</td>\n    </tr>\n    <tr>\n      <th>67</th>\n      <td>Khánh Hòa</td>\n      <td>Khánh Xương</td>\n      <td>1977.0</td>\n      <td>sáp nhập với huyện Khánh Vĩnh thành huyện Diên...</td>\n      <td>Khanh Hoa</td>\n      <td>khanhxuong</td>\n      <td>0</td>\n    </tr>\n    <tr>\n      <th>69</th>\n      <td>Kiên Giang</td>\n      <td>Hà Tiên</td>\n      <td>1999.0</td>\n      <td>đổi tên thành huyện Kiên Lương</td>\n      <td>Kien Giang</td>\n      <td>hatien</td>\n      <td>0</td>\n    </tr>\n    <tr>\n      <th>74</th>\n      <td>Lào Cai</td>\n      <td>Cam Đường</td>\n      <td>2002.0</td>\n      <td>sáp nhập với thị xã Lào Cai</td>\n      <td>Lao Cai</td>\n      <td>camduong</td>\n      <td>0</td>\n    </tr>\n    <tr>\n      <th>75</th>\n      <td>Long An</td>\n      <td>Tân Châu</td>\n      <td>1980.0</td>\n      <td>đổi tên thành huyện Vàm Cỏ</td>\n      <td>Long An</td>\n      <td>tanchau</td>\n      <td>0</td>\n    </tr>\n    <tr>\n      <th>80</th>\n      <td>Nam Định</td>\n      <td>Mỹ Lộc</td>\n      <td>2024.0</td>\n      <td>sáp nhập vào thành phố Nam Định</td>\n      <td>Nam Dinh</td>\n      <td>myloc</td>\n      <td>0</td>\n    </tr>\n    <tr>\n      <th>82</th>\n      <td>Ninh Bình</td>\n      <td>Gia Khánh</td>\n      <td>1977.0</td>\n      <td>sáp nhập với thị xã Ninh Bình thành huyện Hoa Lư</td>\n      <td>Ninh Binh</td>\n      <td>giakhanh</td>\n      <td>0</td>\n    </tr>\n    <tr>\n      <th>83</th>\n      <td>Ninh Bình</td>\n      <td>Hoàng Long</td>\n      <td>1993.0</td>\n      <td>đổi tên thành huyện Nho Quan</td>\n      <td>Ninh Binh</td>\n      <td>hoanglong</td>\n      <td>0</td>\n    </tr>\n    <tr>\n      <th>84</th>\n      <td>Ninh Bình</td>\n      <td>Tam Điệp</td>\n      <td>1994.0</td>\n      <td>đổi tên thành huyện Yên Mô</td>\n      <td>Ninh Binh</td>\n      <td>tamdiep</td>\n      <td>0</td>\n    </tr>\n    <tr>\n      <th>91</th>\n      <td>Phú Thọ</td>\n      <td>Sông Thao</td>\n      <td>2002.0</td>\n      <td>đổi tên thành huyện Cẩm Khê</td>\n      <td>Phu Tho</td>\n      <td>songthao</td>\n      <td>0</td>\n    </tr>\n    <tr>\n      <th>97</th>\n      <td>Quảng Nam</td>\n      <td>Giằng</td>\n      <td>1999.0</td>\n      <td>đổi tên thành huyện Nam Giang</td>\n      <td>Quang Nam</td>\n      <td>giang</td>\n      <td>0</td>\n    </tr>\n    <tr>\n      <th>102</th>\n      <td>Quảng Ngãi</td>\n      <td>Tây Trà</td>\n      <td>2020.0</td>\n      <td>sáp nhập vào huyện Trà Bồng</td>\n      <td>Quang Ngai</td>\n      <td>taytra</td>\n      <td>0</td>\n    </tr>\n    <tr>\n      <th>103</th>\n      <td>Quảng Ninh</td>\n      <td>Hồng Gai</td>\n      <td>1993.0</td>\n      <td>thành lập thành phố, đổi tên thành thành phố H...</td>\n      <td>Quang Ninh</td>\n      <td>honggai</td>\n      <td>0</td>\n    </tr>\n    <tr>\n      <th>104</th>\n      <td>Quảng Ninh</td>\n      <td>Cẩm Phả</td>\n      <td>1994.0</td>\n      <td>đổi tên thành huyện Vân Đồn</td>\n      <td>Quang Ninh</td>\n      <td>campha</td>\n      <td>0</td>\n    </tr>\n    <tr>\n      <th>105</th>\n      <td>Quảng Ninh</td>\n      <td>Hải Ninh</td>\n      <td>1998.0</td>\n      <td>thành lập thị xã, đổi tên thành thị xã Móng Cái</td>\n      <td>Quang Ninh</td>\n      <td>haininh</td>\n      <td>0</td>\n    </tr>\n    <tr>\n      <th>107</th>\n      <td>Quảng Ninh</td>\n      <td>Yên Hưng</td>\n      <td>2011.0</td>\n      <td>thành lập thị xã, đổi tên thành thị xã Quảng Yên</td>\n      <td>Quang Ninh</td>\n      <td>yenhung</td>\n      <td>0</td>\n    </tr>\n    <tr>\n      <th>108</th>\n      <td>Quảng Ninh</td>\n      <td>Hoành Bồ</td>\n      <td>2019.0</td>\n      <td>sáp nhập vào thành phố Hạ Long</td>\n      <td>Quang Ninh</td>\n      <td>hoanhbo</td>\n      <td>0</td>\n    </tr>\n    <tr>\n      <th>113</th>\n      <td>Tây Ninh</td>\n      <td>Phú Khương</td>\n      <td>1979.0</td>\n      <td>đổi tên thành huyện Hòa Thành</td>\n      <td>Tay Ninh</td>\n      <td>phukhuong</td>\n      <td>0</td>\n    </tr>\n    <tr>\n      <th>116</th>\n      <td>Thanh Hóa</td>\n      <td>Đông Thiệu</td>\n      <td>1982.0</td>\n      <td>đổi tên thành huyện Đông Sơn</td>\n      <td>Thanh Hoa</td>\n      <td>dongthieu</td>\n      <td>0</td>\n    </tr>\n    <tr>\n      <th>120</th>\n      <td>Thanh Hóa</td>\n      <td>Thiệu Yên</td>\n      <td>1996.0</td>\n      <td>đổi tên thành huyện Yên Định</td>\n      <td>Thanh Hoa</td>\n      <td>thieuyen</td>\n      <td>0</td>\n    </tr>\n    <tr>\n      <th>121</th>\n      <td>Thanh Hóa</td>\n      <td>Tĩnh Gia</td>\n      <td>2020.0</td>\n      <td>thành lập thị xã, đổi tên thành thị xã Nghi Sơn</td>\n      <td>Thanh Hoa</td>\n      <td>tinhgia</td>\n      <td>0</td>\n    </tr>\n    <tr>\n      <th>125</th>\n      <td>Tp. Hồ Chí Minh</td>\n      <td>Duyên Hải</td>\n      <td>1991.0</td>\n      <td>đổi tên thành huyện Cần Giờ</td>\n      <td>Ho Chi Minh</td>\n      <td>duyenhai</td>\n      <td>0</td>\n    </tr>\n    <tr>\n      <th>127</th>\n      <td>Tp. Hồ Chí Minh</td>\n      <td>Quận 2</td>\n      <td>2020.0</td>\n      <td>sáp nhập với Quận 9 và quận Thủ Đức thành thàn...</td>\n      <td>Ho Chi Minh</td>\n      <td>quan2</td>\n      <td>0</td>\n    </tr>\n    <tr>\n      <th>128</th>\n      <td>Tp. Hồ Chí Minh</td>\n      <td>Quận 9</td>\n      <td>2020.0</td>\n      <td>sáp nhập với Quận 2 và quận Thủ Đức thành thàn...</td>\n      <td>Ho Chi Minh</td>\n      <td>quan9</td>\n      <td>0</td>\n    </tr>\n    <tr>\n      <th>129</th>\n      <td>Tp. Hồ Chí Minh</td>\n      <td>Thủ Đức (quận)</td>\n      <td>2020.0</td>\n      <td>sáp nhập với Quận 2 và Quận 9 thành thành phố ...</td>\n      <td>Ho Chi Minh</td>\n      <td>thuducquan</td>\n      <td>0</td>\n    </tr>\n    <tr>\n      <th>130</th>\n      <td>Trà Vinh</td>\n      <td>Châu Thành Đông</td>\n      <td>1977.0</td>\n      <td>sáp nhập vào huyện Càng Long và huyện Cầu Ngang</td>\n      <td>Tra Vinh</td>\n      <td>chauthanhdong</td>\n      <td>0</td>\n    </tr>\n    <tr>\n      <th>132</th>\n      <td>Vĩnh Long</td>\n      <td>Cái Nhum</td>\n      <td>1977.0</td>\n      <td>sáp nhập với huyện Châu Thành Tây thành huyện ...</td>\n      <td>Vinh Long</td>\n      <td>cainhum</td>\n      <td>0</td>\n    </tr>\n    <tr>\n      <th>133</th>\n      <td>Vĩnh Long</td>\n      <td>Châu Thành Tây</td>\n      <td>1977.0</td>\n      <td>sáp nhập với huyện Cái Nhum thành huyện Long Hồ</td>\n      <td>Vinh Long</td>\n      <td>chauthanhtay</td>\n      <td>0</td>\n    </tr>\n    <tr>\n      <th>134</th>\n      <td>Vĩnh Phúc</td>\n      <td>Yên Lãng</td>\n      <td>1977.0</td>\n      <td>sáp nhập với huyện Bình Xuyên thành huyện Mê Linh</td>\n      <td>Vinh Phuc</td>\n      <td>yenlang</td>\n      <td>0</td>\n    </tr>\n  </tbody>\n</table>\n</div>"
     },
     "execution_count": 8,
     "metadata": {},
     "output_type": "execute_result"
    }
   ],
   "source": [
    "df_change"
   ],
   "metadata": {
    "collapsed": false,
    "ExecuteTime": {
     "end_time": "2024-09-25T16:53:21.775699Z",
     "start_time": "2024-09-25T16:53:21.764594Z"
    }
   },
   "id": "23d218af6e7882f4",
   "execution_count": 8
  },
  {
   "cell_type": "code",
   "outputs": [],
   "source": [
    "# Remove Thủ Đức vì không cần\n",
    "df_change = df_change[df_change.old_district!='Thủ Đức (quận)'].copy()"
   ],
   "metadata": {
    "collapsed": false,
    "ExecuteTime": {
     "end_time": "2024-09-25T16:53:21.781020Z",
     "start_time": "2024-09-25T16:53:21.776900Z"
    }
   },
   "id": "9cb1858d2bbef8dd",
   "execution_count": 9
  },
  {
   "cell_type": "code",
   "outputs": [],
   "source": [
    "df_change['address'] = df_change.apply(lambda row: prepare_address(row.province, row.change), axis=1)\n",
    "df_change['district_key'] = df_change.address.apply(get_district_key)"
   ],
   "metadata": {
    "collapsed": false,
    "ExecuteTime": {
     "end_time": "2024-09-25T16:53:21.823407Z",
     "start_time": "2024-09-25T16:53:21.785071Z"
    }
   },
   "id": "cb633fc9f7f09a39",
   "execution_count": 10
  },
  {
   "cell_type": "markdown",
   "source": [
    "After doing research, I found district_english `None` are fine, because they are moved to another province or revert it's changing."
   ],
   "metadata": {
    "collapsed": false
   },
   "id": "2f990c320a6498c1"
  },
  {
   "cell_type": "code",
   "outputs": [],
   "source": [
    "df_change.dropna(inplace=True)"
   ],
   "metadata": {
    "collapsed": false,
    "ExecuteTime": {
     "end_time": "2024-09-25T16:53:21.827006Z",
     "start_time": "2024-09-25T16:53:21.823959Z"
    }
   },
   "id": "a9cc6fd3e65ce6b6",
   "execution_count": 11
  },
  {
   "cell_type": "code",
   "outputs": [],
   "source": [
    "DICT_alias_district_keys = {}\n",
    "for province_english in df_change['province_english'].unique():\n",
    "    district_data = {}\n",
    "    for row in df_change[df_change['province_english']==province_english].itertuples():\n",
    "        district_data[row.old_district_key] = row.district_key\n",
    "    DICT_alias_district_keys[province_english] = district_data"
   ],
   "metadata": {
    "collapsed": false,
    "ExecuteTime": {
     "end_time": "2024-09-25T16:53:21.841733Z",
     "start_time": "2024-09-25T16:53:21.827886Z"
    }
   },
   "id": "c0fe1f781ec283e5",
   "execution_count": 12
  },
  {
   "cell_type": "code",
   "outputs": [
    {
     "data": {
      "text/plain": "{'An Giang': {'hueduc': 'chauthanh'},\n 'Ba Ria - Vung Tau': {'tanthanh': 'phumy'},\n 'Bac Kan': {'chora': 'babe'},\n 'Bac Lieu': {'minhhai': 'baclieu'},\n 'Binh Duong': {'chauthanh': 'tanuyen', 'laithieu': 'thuanan'},\n 'Binh Phuoc': {'phuocbinh': 'phuoclong'},\n 'Ca Mau': {'ngochien': 'damdoi'},\n 'Cao Bang': {'phuchoa': 'quanghoa',\n  'quanguyen': 'quanghoa',\n  'thongnong': 'haquang',\n  'tralinh': 'trungkhanh'},\n 'Dien Bien': {'laichau': 'muonglay', 'muonglay': 'muongcha'},\n 'Dong Nai': {'vinhan': 'vinhcuu'},\n 'Dong Thap': {'thanhhung': 'lapvo'},\n 'Ha Nam': {'hanam': 'phuly'},\n 'Ha Noi': {'daphuc': 'socson', 'kimanh': 'socson'},\n 'Hai Phong': {'catba': 'cathai'},\n 'Hau Giang': {'mythanh': 'vithanh', 'tanhiep': 'ngabay'},\n 'Hoa Binh': {'kyson': 'hoabinh'},\n 'Khanh Hoa': {'khanhxuong': 'dienkhanh'},\n 'Kien Giang': {'hatien': 'kienluong'},\n 'Lao Cai': {'camduong': 'laocai'},\n 'Nam Dinh': {'myloc': 'namdinh'},\n 'Ninh Binh': {'giakhanh': 'hoalu',\n  'hoanglong': 'nhoquan',\n  'tamdiep': 'yenmo'},\n 'Phu Tho': {'songthao': 'camkhe'},\n 'Quang Nam': {'giang': 'namgiang'},\n 'Quang Ngai': {'taytra': 'trabong'},\n 'Quang Ninh': {'honggai': 'halong',\n  'campha': 'vandon',\n  'haininh': 'mongcai',\n  'yenhung': 'quangyen',\n  'hoanhbo': 'halong'},\n 'Tay Ninh': {'phukhuong': 'hoathanh'},\n 'Thanh Hoa': {'dongthieu': 'dongson',\n  'thieuyen': 'yendinh',\n  'tinhgia': 'nghison'},\n 'Ho Chi Minh': {'duyenhai': 'cangio', 'quan2': 'thuduc', 'quan9': 'thuduc'},\n 'Tra Vinh': {'chauthanhdong': 'canglong'},\n 'Vinh Long': {'cainhum': 'longho', 'chauthanhtay': 'longho'}}"
     },
     "execution_count": 13,
     "metadata": {},
     "output_type": "execute_result"
    }
   ],
   "source": [
    "DICT_alias_district_keys"
   ],
   "metadata": {
    "collapsed": false,
    "ExecuteTime": {
     "end_time": "2024-09-25T16:53:21.848440Z",
     "start_time": "2024-09-25T16:53:21.844046Z"
    }
   },
   "id": "dcf7e66c8651563d",
   "execution_count": 13
  },
  {
   "cell_type": "markdown",
   "source": [
    "## Create half district keys"
   ],
   "metadata": {
    "collapsed": false
   },
   "id": "2932e853a5833a9"
  },
  {
   "cell_type": "code",
   "outputs": [],
   "source": [
    "df_split = df[df.containing_keyword_two_times==1].copy()"
   ],
   "metadata": {
    "collapsed": false,
    "ExecuteTime": {
     "end_time": "2024-09-25T16:53:21.853380Z",
     "start_time": "2024-09-25T16:53:21.849814Z"
    }
   },
   "id": "2fcba5bd6e29904b",
   "execution_count": 14
  },
  {
   "cell_type": "code",
   "outputs": [
    {
     "data": {
      "text/plain": "       province old_district    year  \\\n12      Bến Tre       Mỏ Cày  2009.0   \n17   Bình Dương     Tân Uyên  2013.0   \n21   Bình Thuận    Hàm Thuận  1982.0   \n45       Hà Nội      Từ Liêm  2013.0   \n99    Quảng Nam       Trà My  2003.0   \n124  Tiền Giang      Gò Công  1979.0   \n\n                                                change province_english  \\\n12   chia tách thành huyện Mỏ Cày Bắc và huyện Mỏ C...          Ben Tre   \n17   chia tách thành thị xã Tân Uyên và huyện Bắc T...       Binh Duong   \n21   chia tách thành huyện Hàm Thuận Bắc và huyện H...       Binh Thuan   \n45     chia tách thành quận Bắc Từ Liêm và Nam Từ Liêm           Ha Noi   \n99   chia tách thành huyện Bắc Trà My và huyện Nam ...        Quang Nam   \n124  chia tách thành huyện Gò Công Đông và Gò Công Tây       Tien Giang   \n\n    old_district_key  containing_keyword_two_times  \n12             mocay                             1  \n17           tanuyen                             1  \n21          hamthuan                             1  \n45            tuliem                             1  \n99             tramy                             1  \n124           gocong                             1  ",
      "text/html": "<div>\n<style scoped>\n    .dataframe tbody tr th:only-of-type {\n        vertical-align: middle;\n    }\n\n    .dataframe tbody tr th {\n        vertical-align: top;\n    }\n\n    .dataframe thead th {\n        text-align: right;\n    }\n</style>\n<table border=\"1\" class=\"dataframe\">\n  <thead>\n    <tr style=\"text-align: right;\">\n      <th></th>\n      <th>province</th>\n      <th>old_district</th>\n      <th>year</th>\n      <th>change</th>\n      <th>province_english</th>\n      <th>old_district_key</th>\n      <th>containing_keyword_two_times</th>\n    </tr>\n  </thead>\n  <tbody>\n    <tr>\n      <th>12</th>\n      <td>Bến Tre</td>\n      <td>Mỏ Cày</td>\n      <td>2009.0</td>\n      <td>chia tách thành huyện Mỏ Cày Bắc và huyện Mỏ C...</td>\n      <td>Ben Tre</td>\n      <td>mocay</td>\n      <td>1</td>\n    </tr>\n    <tr>\n      <th>17</th>\n      <td>Bình Dương</td>\n      <td>Tân Uyên</td>\n      <td>2013.0</td>\n      <td>chia tách thành thị xã Tân Uyên và huyện Bắc T...</td>\n      <td>Binh Duong</td>\n      <td>tanuyen</td>\n      <td>1</td>\n    </tr>\n    <tr>\n      <th>21</th>\n      <td>Bình Thuận</td>\n      <td>Hàm Thuận</td>\n      <td>1982.0</td>\n      <td>chia tách thành huyện Hàm Thuận Bắc và huyện H...</td>\n      <td>Binh Thuan</td>\n      <td>hamthuan</td>\n      <td>1</td>\n    </tr>\n    <tr>\n      <th>45</th>\n      <td>Hà Nội</td>\n      <td>Từ Liêm</td>\n      <td>2013.0</td>\n      <td>chia tách thành quận Bắc Từ Liêm và Nam Từ Liêm</td>\n      <td>Ha Noi</td>\n      <td>tuliem</td>\n      <td>1</td>\n    </tr>\n    <tr>\n      <th>99</th>\n      <td>Quảng Nam</td>\n      <td>Trà My</td>\n      <td>2003.0</td>\n      <td>chia tách thành huyện Bắc Trà My và huyện Nam ...</td>\n      <td>Quang Nam</td>\n      <td>tramy</td>\n      <td>1</td>\n    </tr>\n    <tr>\n      <th>124</th>\n      <td>Tiền Giang</td>\n      <td>Gò Công</td>\n      <td>1979.0</td>\n      <td>chia tách thành huyện Gò Công Đông và Gò Công Tây</td>\n      <td>Tien Giang</td>\n      <td>gocong</td>\n      <td>1</td>\n    </tr>\n  </tbody>\n</table>\n</div>"
     },
     "execution_count": 15,
     "metadata": {},
     "output_type": "execute_result"
    }
   ],
   "source": [
    "df_split"
   ],
   "metadata": {
    "collapsed": false,
    "ExecuteTime": {
     "end_time": "2024-09-25T16:53:21.864005Z",
     "start_time": "2024-09-25T16:53:21.855374Z"
    }
   },
   "id": "2b45710698f7c97",
   "execution_count": 15
  },
  {
   "cell_type": "code",
   "outputs": [],
   "source": [
    "# This is a particular case that is duplicated district_key\n",
    "df_split = df_split[df_split.old_district!='Tân Uyên'].copy()"
   ],
   "metadata": {
    "collapsed": false,
    "ExecuteTime": {
     "end_time": "2024-09-25T16:53:21.871224Z",
     "start_time": "2024-09-25T16:53:21.865680Z"
    }
   },
   "id": "57bc9da978c3e930",
   "execution_count": 16
  },
  {
   "cell_type": "code",
   "outputs": [],
   "source": [
    "# Use Google Trend to decide new district\n",
    "df_split.loc[df_split.old_district=='Mỏ Cày', 'default'] = 'mocaynam'\n",
    "df_split.loc[df_split.old_district=='Hàm Thuận', 'default'] = 'hamthuannam'\n",
    "df_split.loc[df_split.old_district=='Từ Liêm', 'default'] = 'namtuliem'\n",
    "df_split.loc[df_split.old_district=='Trà My', 'default'] = 'namtramy'\n",
    "df_split.loc[df_split.old_district=='Gò Công', 'default'] = 'gocongtay'"
   ],
   "metadata": {
    "collapsed": false,
    "ExecuteTime": {
     "end_time": "2024-09-25T16:53:21.878947Z",
     "start_time": "2024-09-25T16:53:21.872997Z"
    }
   },
   "id": "3430fbbac4647a63",
   "execution_count": 17
  },
  {
   "cell_type": "code",
   "outputs": [],
   "source": [
    "df_test = pd.DataFrame(get_data())"
   ],
   "metadata": {
    "collapsed": false,
    "ExecuteTime": {
     "end_time": "2024-09-25T16:53:22.006395Z",
     "start_time": "2024-09-25T16:53:21.879918Z"
    }
   },
   "id": "82afa2e0968559a",
   "execution_count": 18
  },
  {
   "cell_type": "code",
   "outputs": [],
   "source": [
    "df_test['ward_key'] = df_test['short_ward'].apply(to_key, args=(3,))"
   ],
   "metadata": {
    "collapsed": false,
    "ExecuteTime": {
     "end_time": "2024-09-25T16:53:22.044993Z",
     "start_time": "2024-09-25T16:53:22.007045Z"
    }
   },
   "id": "d5ef387b2e12edbd",
   "execution_count": 19
  },
  {
   "cell_type": "code",
   "outputs": [],
   "source": [
    "df_test['district_key'] = df_test['short_district'].apply(to_key, args=(2,))"
   ],
   "metadata": {
    "collapsed": false,
    "ExecuteTime": {
     "end_time": "2024-09-25T16:53:22.078565Z",
     "start_time": "2024-09-25T16:53:22.045648Z"
    }
   },
   "id": "105849d36f251e98",
   "execution_count": 20
  },
  {
   "cell_type": "code",
   "outputs": [],
   "source": [
    "df_split['old_district_key'] = df_split['old_district'].apply(to_key, args=(2,))"
   ],
   "metadata": {
    "collapsed": false,
    "ExecuteTime": {
     "end_time": "2024-09-25T16:53:22.081874Z",
     "start_time": "2024-09-25T16:53:22.079245Z"
    }
   },
   "id": "d5c904973c0558af",
   "execution_count": 21
  },
  {
   "cell_type": "code",
   "outputs": [],
   "source": [
    "DICT_half_district_keys = {}\n",
    "\n",
    "for province_english in df_split['province_english'].unique():\n",
    "    half_district_data = {}\n",
    "    for half_district_key in df_split[df_split['province_english']==province_english]['old_district_key'].unique():\n",
    "        district_data = {}\n",
    "        tmp_df = df_test[(df_test['province_english']==province_english) & (df_test['district_key'].str.contains(half_district_key))].copy()\n",
    "        for district_key in tmp_df['district_key'].unique():\n",
    "            tmp_ward_keys = tmp_df[tmp_df['district_key']==district_key]['ward_key'].dropna().tolist()\n",
    "            district_data[district_key] = tmp_ward_keys\n",
    "        half_district_data[half_district_key] = {\n",
    "            'default': df_split[(df_split['province_english']==province_english) & (df_split['old_district_key']==half_district_key)]['default'].values[0],\n",
    "            'district_keys': district_data\n",
    "        }\n",
    "    \n",
    "    DICT_half_district_keys[province_english] = half_district_data"
   ],
   "metadata": {
    "collapsed": false,
    "ExecuteTime": {
     "end_time": "2024-09-25T16:53:22.142602Z",
     "start_time": "2024-09-25T16:53:22.083874Z"
    }
   },
   "id": "715363195fa4df35",
   "execution_count": 22
  },
  {
   "cell_type": "code",
   "outputs": [
    {
     "data": {
      "text/plain": "{'Ben Tre': {'mocay': {'default': 'mocaynam',\n   'district_keys': {'mocaynam': ['mocay',\n     'dinhthuy',\n     'daphuochoi',\n     'tanhoi',\n     'phuochiep',\n     'binhkhanh',\n     'anthanh',\n     'andinh',\n     'thanhthoib',\n     'tantrung',\n     'anthoi',\n     'thanhthoia',\n     'minhduc',\n     'ngaidang',\n     'camson',\n     'huongmy'],\n    'mocaybac': ['phumy',\n     'hungkhanhtrunga',\n     'thanhtan',\n     'thanhngai',\n     'tanphutay',\n     'phuocmytrung',\n     'tanthanhbinh',\n     'thanhan',\n     'hoaloc',\n     'tanthanhtay',\n     'tanbinh',\n     'nhuanphutan',\n     'khanhthanhtan']}}},\n 'Binh Thuan': {'hamthuan': {'default': 'hamthuannam',\n   'district_keys': {'hamthuanbac': ['malam',\n     'phulong',\n     'lada',\n     'dongtien',\n     'thuanhoa',\n     'donggiang',\n     'hamphu',\n     'hongliem',\n     'thuanminh',\n     'hongson',\n     'hamtri',\n     'hamduc',\n     'hamliem',\n     'hamchinh',\n     'hamhiep',\n     'hamthang',\n     'dami'],\n    'hamthuannam': ['thuannam',\n     'mythanh',\n     'hamcan',\n     'muongman',\n     'hamthanh',\n     'hamkiem',\n     'hamcuong',\n     'hammy',\n     'tanlap',\n     'hamminh',\n     'thuanquy',\n     'tanthuan',\n     'tanthanh']}}},\n 'Ha Noi': {'tuliem': {'default': 'namtuliem',\n   'district_keys': {'namtuliem': ['caudien',\n     'xuanphuong',\n     'phuongcanh',\n     'mydinh1',\n     'mydinh2',\n     'taymo',\n     'metri',\n     'phudo',\n     'daimo',\n     'trungvan'],\n    'bactuliem': ['thuongcat',\n     'lienmac',\n     'dongngac',\n     'ducthang',\n     'thuyphuong',\n     'taytuu',\n     'xuandinh',\n     'xuantao',\n     'minhkhai',\n     'conhue1',\n     'conhue2',\n     'phudien',\n     'phucdien']}}},\n 'Quang Nam': {'tramy': {'default': 'namtramy',\n   'district_keys': {'bactramy': ['tramy',\n     'trason',\n     'trakot',\n     'tranu',\n     'tradong',\n     'traduong',\n     'tragiang',\n     'trabui',\n     'tradoc',\n     'tratan',\n     'tragiac',\n     'tragiap',\n     'traka'],\n    'namtramy': ['traleng',\n     'tradon',\n     'tratap',\n     'tramai',\n     'tracang',\n     'tralinh',\n     'tranam',\n     'tradon',\n     'travan',\n     'travinh']}}},\n 'Tien Giang': {'gocong': {'default': 'gocongtay',\n   'district_keys': {'gocong': ['phuong2',\n     'phuong1',\n     'phuong5',\n     'longhung',\n     'longthuan',\n     'longchanh',\n     'longhoa',\n     'binhdong',\n     'binhxuan',\n     'tantrung'],\n    'gocongtay': ['vinhbinh',\n     'dongson',\n     'binhphu',\n     'dongthanh',\n     'thanhcong',\n     'binhnhi',\n     'yenluong',\n     'thanhtri',\n     'thanhnhut',\n     'longvinh',\n     'binhtan',\n     'vinhhuu',\n     'longbinh'],\n    'gocongdong': ['tanhoa',\n     'tanghoa',\n     'tanphuoc',\n     'giathuan',\n     'vamlang',\n     'tantay',\n     'kiengphuoc',\n     'tandong',\n     'binhan',\n     'tandien',\n     'binhnghi',\n     'phuoctrung',\n     'tanthanh']}}}}"
     },
     "execution_count": 23,
     "metadata": {},
     "output_type": "execute_result"
    }
   ],
   "source": [
    "DICT_half_district_keys"
   ],
   "metadata": {
    "collapsed": false,
    "ExecuteTime": {
     "end_time": "2024-09-25T16:53:22.155747Z",
     "start_time": "2024-09-25T16:53:22.145085Z"
    }
   },
   "id": "b1565bf06e5a499d",
   "execution_count": 23
  },
  {
   "cell_type": "code",
   "outputs": [
    {
     "data": {
      "text/plain": "['DICT_long_province_alphanumerics',\n 'DICT_long_district_alphanumerics',\n 'DICT_long_ward_alphanumerics',\n 'LIST_safe_long_district_alphanumerics',\n 'LIST_safe_long_ward_alphanumerics',\n 'LIST_province_keys_1',\n 'LIST_province_keys_2',\n 'LIST_province_keys_3',\n 'DICT_province_map',\n 'DICT_district_map',\n 'DICT_ward_map',\n 'LIST_duplicated_district_province_keys',\n 'DICT_duplicated_district_keys',\n 'LIST_duplicated_ward_district_keys',\n 'DICT_duplicated_ward_keys',\n 'DICT_unique_long_district_alphanumerics',\n 'DICT_not_unique_long_district_alphanumerics',\n 'LIST_contains_province_key_long_district_alphanumerics',\n 'DICT_unique_district_keys',\n 'DICT_not_unique_district_keys',\n 'DICT_alias_province_keys',\n 'DICT_alias_district_keys',\n 'DICT_half_district_keys']"
     },
     "execution_count": 55,
     "metadata": {},
     "output_type": "execute_result"
    }
   ],
   "source": [
    "with open('../../vietadminunits/data/parse.pkl', 'rb') as f:\n",
    "    data = pickle.load(f)\n",
    "    \n",
    "    \n",
    "data['DICT_alias_district_keys'] = DICT_alias_district_keys\n",
    "data['DICT_half_district_keys'] = DICT_half_district_keys\n",
    "\n",
    "with open('../../vietadminunits/data/parse.pkl', 'wb') as f:\n",
    "    pickle.dump(data, f)\n",
    "    \n",
    "    \n",
    "[key for key in data]"
   ],
   "metadata": {
    "collapsed": false,
    "ExecuteTime": {
     "end_time": "2024-09-25T20:14:53.014519Z",
     "start_time": "2024-09-25T20:14:52.843333Z"
    }
   },
   "id": "c90fd26d71772d80",
   "execution_count": 55
  },
  {
   "cell_type": "code",
   "outputs": [],
   "source": [],
   "metadata": {
    "collapsed": false
   },
   "id": "f6c78daf24ea7bf0"
  }
 ],
 "metadata": {
  "kernelspec": {
   "display_name": "Python 3",
   "language": "python",
   "name": "python3"
  },
  "language_info": {
   "codemirror_mode": {
    "name": "ipython",
    "version": 2
   },
   "file_extension": ".py",
   "mimetype": "text/x-python",
   "name": "python",
   "nbconvert_exporter": "python",
   "pygments_lexer": "ipython2",
   "version": "2.7.6"
  }
 },
 "nbformat": 4,
 "nbformat_minor": 5
}
