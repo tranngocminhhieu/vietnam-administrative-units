{
 "cells": [
  {
   "cell_type": "code",
   "execution_count": 1,
   "id": "initial_id",
   "metadata": {
    "collapsed": true,
    "ExecuteTime": {
     "end_time": "2024-09-20T05:09:42.975142Z",
     "start_time": "2024-09-20T05:09:42.040555Z"
    }
   },
   "outputs": [],
   "source": [
    "from vietadminunits import parse_address\n",
    "import pandas as pd\n",
    "import re\n",
    "from unidecode import unidecode"
   ]
  },
  {
   "cell_type": "code",
   "outputs": [],
   "source": [
    "def create_key(text):\n",
    "    if not isinstance(text, str):\n",
    "        return text\n",
    "    u_text = unidecode(text) # Unidecode first help remove special characters\n",
    "    c_text = u_text.lower().strip() # Case must be second step\n",
    "    c_text = re.sub(r\"\\-|\\'\", ' ', c_text)\n",
    "    c_text = c_text.replace(' ', '')\n",
    "    return c_text"
   ],
   "metadata": {
    "collapsed": false,
    "ExecuteTime": {
     "end_time": "2024-09-20T05:09:42.978333Z",
     "start_time": "2024-09-20T05:09:42.976195Z"
    }
   },
   "id": "2bde8df71e649217",
   "execution_count": 2
  },
  {
   "cell_type": "code",
   "outputs": [],
   "source": [
    "def find_new_district_english_module(text):\n",
    "    au = parse_address(text, 2)\n",
    "    return au.district_english"
   ],
   "metadata": {
    "collapsed": false,
    "ExecuteTime": {
     "end_time": "2024-09-20T05:09:42.980502Z",
     "start_time": "2024-09-20T05:09:42.978895Z"
    }
   },
   "id": "4b9cb3b2d7d5430d",
   "execution_count": 3
  },
  {
   "cell_type": "code",
   "outputs": [],
   "source": [
    "def prepare_address(province, change):\n",
    "    address = province + ' ' + re.sub(f'.* thành ', '', change)\n",
    "    return address"
   ],
   "metadata": {
    "collapsed": false,
    "ExecuteTime": {
     "end_time": "2024-09-20T05:09:42.982671Z",
     "start_time": "2024-09-20T05:09:42.981111Z"
    }
   },
   "id": "656d35ad44bff4a0",
   "execution_count": 4
  },
  {
   "cell_type": "code",
   "outputs": [],
   "source": [
    "def create_province_english_module(text):\n",
    "    au = parse_address(text, 1)\n",
    "    return au.province_english"
   ],
   "metadata": {
    "collapsed": false,
    "ExecuteTime": {
     "end_time": "2024-09-20T05:09:42.985369Z",
     "start_time": "2024-09-20T05:09:42.983902Z"
    }
   },
   "id": "af136e3f32ba4be8",
   "execution_count": 5
  },
  {
   "cell_type": "code",
   "outputs": [],
   "source": [
    "def create_district_key_module(text):\n",
    "    au = parse_address(text)\n",
    "    return au.district_key"
   ],
   "metadata": {
    "collapsed": false,
    "ExecuteTime": {
     "end_time": "2024-09-20T05:09:42.987249Z",
     "start_time": "2024-09-20T05:09:42.985892Z"
    }
   },
   "id": "4508d22ba07862fd",
   "execution_count": 6
  },
  {
   "cell_type": "code",
   "outputs": [],
   "source": [
    "def create_province_key_module(text):\n",
    "    au = parse_address(text)\n",
    "    return au.province_key"
   ],
   "metadata": {
    "collapsed": false,
    "ExecuteTime": {
     "end_time": "2024-09-20T05:09:42.989453Z",
     "start_time": "2024-09-20T05:09:42.987822Z"
    }
   },
   "id": "5d331ad827c5c9a6",
   "execution_count": 7
  },
  {
   "cell_type": "code",
   "outputs": [],
   "source": [
    "df = pd.read_csv('../../data/input/danhmuchanhchinhgso.gov.vn.csv')"
   ],
   "metadata": {
    "collapsed": false,
    "ExecuteTime": {
     "end_time": "2024-09-20T05:09:54.361212Z",
     "start_time": "2024-09-20T05:09:54.338777Z"
    }
   },
   "id": "b1b52d5aed5034d9",
   "execution_count": 9
  },
  {
   "cell_type": "code",
   "outputs": [],
   "source": [
    "df['ward_address'] = df['long_ward'].fillna('') + ', ' + df['long_district'] + ', ' + df['long_province']\n",
    "ward_addresses = df['ward_address'].dropna().tolist()"
   ],
   "metadata": {
    "collapsed": false,
    "ExecuteTime": {
     "end_time": "2024-09-20T05:09:54.993550Z",
     "start_time": "2024-09-20T05:09:54.982662Z"
    }
   },
   "id": "6ac69377545e33d",
   "execution_count": 10
  },
  {
   "cell_type": "code",
   "outputs": [],
   "source": [
    "df['district_address'] = df['long_district'] + ', ' + df['long_province']\n",
    "district_addresses = df['district_address'].dropna().tolist()"
   ],
   "metadata": {
    "collapsed": false,
    "ExecuteTime": {
     "end_time": "2024-09-20T05:09:55.328184Z",
     "start_time": "2024-09-20T05:09:55.318093Z"
    }
   },
   "id": "52b99db13672f432",
   "execution_count": 11
  },
  {
   "cell_type": "markdown",
   "source": [
    "## Find wards that are the same keyword with provinces"
   ],
   "metadata": {
    "collapsed": false
   },
   "id": "4a1285958689a4"
  },
  {
   "cell_type": "code",
   "outputs": [],
   "source": [
    "def create_district_key(text):\n",
    "    if not isinstance(text, str):\n",
    "        return text\n",
    "    u_text = unidecode(text) # Unidecode first help remove special characters\n",
    "    c_text = str(u_text).lower().strip() # Case must be second step\n",
    "    if not re.search(r'^Quan \\d{1,2}', c_text, flags=re.IGNORECASE):\n",
    "        c_text = re.sub(r'\\sDistrict$|^Quan\\s|^Huyen\\s|^Thanh\\sPho\\s|\\sCity$|^Thi\\sXa\\s|\\sTown$|\\s0', '', c_text, flags=re.IGNORECASE)\n",
    "    c_text = re.sub(r\"\\-|\\'\", ' ', c_text)\n",
    "    c_text = re.sub(r'\\bqui\\b', 'quy', c_text)\n",
    "    c_text = c_text.replace(' ', '')\n",
    "    return c_text"
   ],
   "metadata": {
    "collapsed": false,
    "ExecuteTime": {
     "end_time": "2024-09-20T05:09:55.946576Z",
     "start_time": "2024-09-20T05:09:55.943633Z"
    }
   },
   "id": "9fa4501b91b883e0",
   "execution_count": 12
  },
  {
   "cell_type": "code",
   "outputs": [],
   "source": [
    "def create_province_key(text):\n",
    "    u_text = unidecode(text) # Unidecode first help remove special characters\n",
    "    c_text = str(u_text).lower().strip() # Case must be second step\n",
    "    c_text = re.sub(r'\\sProvince$|^Tinh\\s|^Thanh\\sPho\\s|\\sCity$', '', c_text, flags=re.IGNORECASE)\n",
    "    c_text = re.sub(r\"\\-|\\'\", ' ', c_text)\n",
    "    c_text = re.sub(r'\\bqui\\b', 'quy', c_text)\n",
    "    c_text = c_text.replace(' ', '')\n",
    "    return c_text"
   ],
   "metadata": {
    "collapsed": false,
    "ExecuteTime": {
     "end_time": "2024-09-20T05:09:56.472324Z",
     "start_time": "2024-09-20T05:09:56.469632Z"
    }
   },
   "id": "fa15a58f19283840",
   "execution_count": 13
  },
  {
   "cell_type": "code",
   "outputs": [],
   "source": [],
   "metadata": {
    "collapsed": false,
    "ExecuteTime": {
     "end_time": "2024-09-20T05:09:57.054693Z",
     "start_time": "2024-09-20T05:09:57.053018Z"
    }
   },
   "id": "b4296e4fffc23bf",
   "execution_count": 13
  },
  {
   "cell_type": "code",
   "outputs": [],
   "source": [
    "wrong_addresses = []\n",
    "for row in df.itertuples():\n",
    "    unit = parse_address(row.ward_address, level=1)\n",
    "    \n",
    "    data = {\n",
    "        'ward_address': row.ward_address,\n",
    "        'province': row.long_province,\n",
    "        'wrong_province_key': unit.province_key,\n",
    "    }\n",
    "    \n",
    "    if unit.province == None:\n",
    "        print(row.ward_address)\n",
    "        wrong_addresses.append(data)\n",
    "        \n",
    "    # elif unit.district == None:\n",
    "    #     print(row.ward_address)\n",
    "    #     wrong_addresses.append(data)\n",
    "    \n",
    "    elif unit.province_key != create_province_key(row.long_province):\n",
    "        print(row.ward_address)\n",
    "        wrong_addresses.append(data)"
   ],
   "metadata": {
    "collapsed": false,
    "ExecuteTime": {
     "end_time": "2024-09-20T05:09:57.654107Z",
     "start_time": "2024-09-20T05:09:57.458657Z"
    }
   },
   "id": "aca769f749d9adf8",
   "execution_count": 14
  },
  {
   "cell_type": "code",
   "outputs": [],
   "source": [
    "wrong_addresses = []\n",
    "for row in df.itertuples():\n",
    "    unit = parse_address(row.district_address, level=1)\n",
    "    \n",
    "    data = {\n",
    "        'ward_address': row.district_address,\n",
    "        'province': row.long_province,\n",
    "        'wrong_province_key': unit.province_key,\n",
    "    }\n",
    "    \n",
    "    if unit.province == None:\n",
    "        print(row.district_address)\n",
    "        wrong_addresses.append(data)\n",
    "        \n",
    "    # elif unit.district == None:\n",
    "    #     print(row.ward_address)\n",
    "    #     wrong_addresses.append(data)\n",
    "    \n",
    "    elif unit.province_key != create_province_key(row.long_province):\n",
    "        print(row.district_address)\n",
    "        wrong_addresses.append(data)"
   ],
   "metadata": {
    "collapsed": false,
    "ExecuteTime": {
     "end_time": "2024-09-20T05:09:58.425256Z",
     "start_time": "2024-09-20T05:09:58.260920Z"
    }
   },
   "id": "2985fae5804ef7c4",
   "execution_count": 15
  },
  {
   "cell_type": "code",
   "outputs": [],
   "source": [
    "df_wrong_provinces = pd.DataFrame(wrong_addresses)"
   ],
   "metadata": {
    "collapsed": false,
    "ExecuteTime": {
     "end_time": "2024-09-20T05:09:59.144129Z",
     "start_time": "2024-09-20T05:09:59.139831Z"
    }
   },
   "id": "69ce345fefd31da9",
   "execution_count": 16
  },
  {
   "cell_type": "code",
   "outputs": [
    {
     "data": {
      "text/plain": "Empty DataFrame\nColumns: []\nIndex: []",
      "text/html": "<div>\n<style scoped>\n    .dataframe tbody tr th:only-of-type {\n        vertical-align: middle;\n    }\n\n    .dataframe tbody tr th {\n        vertical-align: top;\n    }\n\n    .dataframe thead th {\n        text-align: right;\n    }\n</style>\n<table border=\"1\" class=\"dataframe\">\n  <thead>\n    <tr style=\"text-align: right;\">\n      <th></th>\n    </tr>\n  </thead>\n  <tbody>\n  </tbody>\n</table>\n</div>"
     },
     "execution_count": 17,
     "metadata": {},
     "output_type": "execute_result"
    }
   ],
   "source": [
    "df_wrong_provinces"
   ],
   "metadata": {
    "collapsed": false,
    "ExecuteTime": {
     "end_time": "2024-09-20T05:09:59.776638Z",
     "start_time": "2024-09-20T05:09:59.771080Z"
    }
   },
   "id": "e2982a67d046cdd3",
   "execution_count": 17
  },
  {
   "cell_type": "code",
   "outputs": [],
   "source": [
    "double_check_provinces = {}\n",
    "\n",
    "if df_wrong_provinces.shape[0]:\n",
    "    df_wrong_provinces['true_province_key'] = df_wrong_provinces.province.apply(create_province_key)\n",
    "    \n",
    "    \n",
    "    for row in df_wrong_provinces.itertuples():\n",
    "        double_check_provinces[row.wrong_province_key] = df_wrong_provinces[df_wrong_provinces['wrong_province_key']==row.wrong_province_key]['true_province_key'].unique().tolist()"
   ],
   "metadata": {
    "collapsed": false,
    "ExecuteTime": {
     "end_time": "2024-09-20T05:10:00.436599Z",
     "start_time": "2024-09-20T05:10:00.434599Z"
    }
   },
   "id": "e1a174da9e0799b7",
   "execution_count": 18
  },
  {
   "cell_type": "code",
   "outputs": [
    {
     "data": {
      "text/plain": "{}"
     },
     "execution_count": 19,
     "metadata": {},
     "output_type": "execute_result"
    }
   ],
   "source": [
    "double_check_provinces"
   ],
   "metadata": {
    "collapsed": false,
    "ExecuteTime": {
     "end_time": "2024-09-20T05:10:00.861105Z",
     "start_time": "2024-09-20T05:10:00.856746Z"
    }
   },
   "id": "72d2168973253260",
   "execution_count": 19
  },
  {
   "cell_type": "markdown",
   "source": [
    "## Find wards that are the same keyword with districts\n",
    "\n",
    "We have to add `double_check_provinces` to module to solve province level before doing this step."
   ],
   "metadata": {
    "collapsed": false
   },
   "id": "28410b2a00e10e19"
  },
  {
   "cell_type": "code",
   "outputs": [],
   "source": [
    "wrong_addresses = []\n",
    "for row in df.itertuples():\n",
    "    try:\n",
    "        unit = parse_address(str(row.ward_address), level=2)\n",
    "    except Exception as e:\n",
    "        raise Exception(row.ward_address)\n",
    "    \n",
    "    # unit = parse_address(str(row.ward_address), level=3)\n",
    "    \n",
    "    data = {\n",
    "        'ward_address': row.ward_address,\n",
    "        'province': row.long_province,\n",
    "        'district': row.long_district,\n",
    "        'wrong_district_key': unit.district_key,\n",
    "    }\n",
    "    \n",
    "    if unit.province == None:\n",
    "        print(row.ward_address)\n",
    "        wrong_addresses.append(data)\n",
    "    elif unit.district == None:\n",
    "        print(row.ward_address)\n",
    "        wrong_addresses.append(data)\n",
    "    # elif unit.ward == None and unit.district_key not in ['bachlongvi', 'conco', 'hoangsa', 'lyson', 'condao']:\n",
    "    #     print(row.ward_address)\n",
    "    #     wrong_addresses.append(data)\n",
    "    \n",
    "    elif unit.district_key != create_district_key(row.long_district):\n",
    "        print(row.ward_address, unit.district_key, create_district_key(row.long_district))\n",
    "        wrong_addresses.append(data)"
   ],
   "metadata": {
    "collapsed": false,
    "ExecuteTime": {
     "end_time": "2024-09-20T05:10:02.108873Z",
     "start_time": "2024-09-20T05:10:01.868904Z"
    }
   },
   "id": "39bf6374b12777a5",
   "execution_count": 20
  },
  {
   "cell_type": "code",
   "outputs": [],
   "source": [
    "df_wrong_districts = pd.DataFrame(wrong_addresses)"
   ],
   "metadata": {
    "collapsed": false,
    "ExecuteTime": {
     "end_time": "2024-09-20T05:10:02.315477Z",
     "start_time": "2024-09-20T05:10:02.312518Z"
    }
   },
   "id": "96c5a897813dcae2",
   "execution_count": 21
  },
  {
   "cell_type": "code",
   "outputs": [
    {
     "data": {
      "text/plain": "Empty DataFrame\nColumns: []\nIndex: []",
      "text/html": "<div>\n<style scoped>\n    .dataframe tbody tr th:only-of-type {\n        vertical-align: middle;\n    }\n\n    .dataframe tbody tr th {\n        vertical-align: top;\n    }\n\n    .dataframe thead th {\n        text-align: right;\n    }\n</style>\n<table border=\"1\" class=\"dataframe\">\n  <thead>\n    <tr style=\"text-align: right;\">\n      <th></th>\n    </tr>\n  </thead>\n  <tbody>\n  </tbody>\n</table>\n</div>"
     },
     "execution_count": 22,
     "metadata": {},
     "output_type": "execute_result"
    }
   ],
   "source": [
    "df_wrong_districts"
   ],
   "metadata": {
    "collapsed": false,
    "ExecuteTime": {
     "end_time": "2024-09-20T05:10:02.889140Z",
     "start_time": "2024-09-20T05:10:02.884562Z"
    }
   },
   "id": "b8e361ddcbbc6b9c",
   "execution_count": 22
  },
  {
   "cell_type": "code",
   "outputs": [],
   "source": [],
   "metadata": {
    "collapsed": false,
    "ExecuteTime": {
     "end_time": "2024-09-20T05:10:03.338055Z",
     "start_time": "2024-09-20T05:10:03.335091Z"
    }
   },
   "id": "6dc78abeb154a352",
   "execution_count": 22
  },
  {
   "cell_type": "code",
   "outputs": [],
   "source": [
    "double_check_districts = {}\n",
    "if df_wrong_districts.shape[0]:\n",
    "    # df_wrong_districts = df_wrong_districts.drop(columns='ward_address').drop_duplicates()\n",
    "    \n",
    "    df_wrong_districts['district_address'] = df_wrong_districts['district'].apply(create_district_key) + ', ' + df_wrong_districts['province']\n",
    "    \n",
    "    df_wrong_districts['true_district_key'] = df_wrong_districts['district_address'].apply(create_district_key_module)\n",
    "    \n",
    "    for row in df_wrong_districts.itertuples():\n",
    "        double_check_districts[row.wrong_district_key] = df_wrong_districts[df_wrong_districts['wrong_district_key']==row.wrong_district_key]['true_district_key'].unique().tolist()"
   ],
   "metadata": {
    "collapsed": false,
    "ExecuteTime": {
     "end_time": "2024-09-20T05:10:03.741916Z",
     "start_time": "2024-09-20T05:10:03.739406Z"
    }
   },
   "id": "26abf0cb9952f87b",
   "execution_count": 23
  },
  {
   "cell_type": "code",
   "outputs": [
    {
     "data": {
      "text/plain": "{}"
     },
     "execution_count": 24,
     "metadata": {},
     "output_type": "execute_result"
    }
   ],
   "source": [
    "double_check_districts"
   ],
   "metadata": {
    "collapsed": false,
    "ExecuteTime": {
     "end_time": "2024-09-20T05:11:44.642184Z",
     "start_time": "2024-09-20T05:11:44.635699Z"
    }
   },
   "id": "66ed2b7ccd3c6f9",
   "execution_count": 24
  },
  {
   "cell_type": "code",
   "outputs": [
    {
     "ename": "AttributeError",
     "evalue": "'DataFrame' object has no attribute 'true_district_key'",
     "output_type": "error",
     "traceback": [
      "\u001B[0;31m---------------------------------------------------------------------------\u001B[0m",
      "\u001B[0;31mAttributeError\u001B[0m                            Traceback (most recent call last)",
      "\u001B[0;32m/var/folders/tm/3b72tt2j0rn4tllr8h4bsrlr0000gn/T/ipykernel_3688/1442956367.py\u001B[0m in \u001B[0;36m?\u001B[0;34m()\u001B[0m\n\u001B[0;32m----> 1\u001B[0;31m \u001B[0mdf_wrong_districts\u001B[0m\u001B[0;34m[\u001B[0m\u001B[0mdf_wrong_districts\u001B[0m\u001B[0;34m.\u001B[0m\u001B[0mtrue_district_key\u001B[0m\u001B[0;34m==\u001B[0m\u001B[0mdf_wrong_districts\u001B[0m\u001B[0;34m.\u001B[0m\u001B[0mwrong_district_key\u001B[0m\u001B[0;34m]\u001B[0m\u001B[0;34m\u001B[0m\u001B[0;34m\u001B[0m\u001B[0m\n\u001B[0m",
      "\u001B[0;32m~/anaconda3/lib/python3.11/site-packages/pandas/core/generic.py\u001B[0m in \u001B[0;36m?\u001B[0;34m(self, name)\u001B[0m\n\u001B[1;32m   5985\u001B[0m             \u001B[0;32mand\u001B[0m \u001B[0mname\u001B[0m \u001B[0;32mnot\u001B[0m \u001B[0;32min\u001B[0m \u001B[0mself\u001B[0m\u001B[0;34m.\u001B[0m\u001B[0m_accessors\u001B[0m\u001B[0;34m\u001B[0m\u001B[0;34m\u001B[0m\u001B[0m\n\u001B[1;32m   5986\u001B[0m             \u001B[0;32mand\u001B[0m \u001B[0mself\u001B[0m\u001B[0;34m.\u001B[0m\u001B[0m_info_axis\u001B[0m\u001B[0;34m.\u001B[0m\u001B[0m_can_hold_identifiers_and_holds_name\u001B[0m\u001B[0;34m(\u001B[0m\u001B[0mname\u001B[0m\u001B[0;34m)\u001B[0m\u001B[0;34m\u001B[0m\u001B[0;34m\u001B[0m\u001B[0m\n\u001B[1;32m   5987\u001B[0m         ):\n\u001B[1;32m   5988\u001B[0m             \u001B[0;32mreturn\u001B[0m \u001B[0mself\u001B[0m\u001B[0;34m[\u001B[0m\u001B[0mname\u001B[0m\u001B[0;34m]\u001B[0m\u001B[0;34m\u001B[0m\u001B[0;34m\u001B[0m\u001B[0m\n\u001B[0;32m-> 5989\u001B[0;31m         \u001B[0;32mreturn\u001B[0m \u001B[0mobject\u001B[0m\u001B[0;34m.\u001B[0m\u001B[0m__getattribute__\u001B[0m\u001B[0;34m(\u001B[0m\u001B[0mself\u001B[0m\u001B[0;34m,\u001B[0m \u001B[0mname\u001B[0m\u001B[0;34m)\u001B[0m\u001B[0;34m\u001B[0m\u001B[0;34m\u001B[0m\u001B[0m\n\u001B[0m",
      "\u001B[0;31mAttributeError\u001B[0m: 'DataFrame' object has no attribute 'true_district_key'"
     ]
    }
   ],
   "source": [
    "df_wrong_districts[df_wrong_districts.true_district_key==df_wrong_districts.wrong_district_key]"
   ],
   "metadata": {
    "collapsed": false,
    "ExecuteTime": {
     "end_time": "2024-09-20T05:11:45.365879Z",
     "start_time": "2024-09-20T05:11:45.329824Z"
    }
   },
   "id": "8f3dc609e1d14770",
   "execution_count": 25
  },
  {
   "cell_type": "code",
   "outputs": [],
   "source": [],
   "metadata": {
    "collapsed": false
   },
   "id": "df7c58cd0f8cdc7f"
  }
 ],
 "metadata": {
  "kernelspec": {
   "display_name": "Python 3",
   "language": "python",
   "name": "python3"
  },
  "language_info": {
   "codemirror_mode": {
    "name": "ipython",
    "version": 2
   },
   "file_extension": ".py",
   "mimetype": "text/x-python",
   "name": "python",
   "nbconvert_exporter": "python",
   "pygments_lexer": "ipython2",
   "version": "2.7.6"
  }
 },
 "nbformat": 4,
 "nbformat_minor": 5
}
