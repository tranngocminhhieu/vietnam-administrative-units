{
 "cells": [
  {
   "cell_type": "code",
   "execution_count": 1,
   "id": "initial_id",
   "metadata": {
    "collapsed": true,
    "ExecuteTime": {
     "end_time": "2024-09-25T20:03:24.766636Z",
     "start_time": "2024-09-25T20:03:23.323544Z"
    }
   },
   "outputs": [],
   "source": [
    "import pandas as pd\n",
    "from vietadminunits import parse_address, get_data\n",
    "from vietadminunits.utils import to_key, to_alphanumeric"
   ]
  },
  {
   "cell_type": "code",
   "outputs": [],
   "source": [
    "def find_new_district_english_module(text):\n",
    "    au = parse_address(text, 2)\n",
    "    return au.district_english"
   ],
   "metadata": {
    "collapsed": false,
    "ExecuteTime": {
     "end_time": "2024-09-25T20:03:24.776761Z",
     "start_time": "2024-09-25T20:03:24.772278Z"
    }
   },
   "id": "4b9cb3b2d7d5430d",
   "execution_count": 2
  },
  {
   "cell_type": "code",
   "outputs": [],
   "source": [
    "def create_province_english_module(text):\n",
    "    au = parse_address(text, 1)\n",
    "    return au.province_english"
   ],
   "metadata": {
    "collapsed": false,
    "ExecuteTime": {
     "end_time": "2024-09-25T20:03:24.782897Z",
     "start_time": "2024-09-25T20:03:24.779311Z"
    }
   },
   "id": "af136e3f32ba4be8",
   "execution_count": 3
  },
  {
   "cell_type": "code",
   "outputs": [],
   "source": [
    "def create_district_key_module(text):\n",
    "    au = parse_address(text)\n",
    "    return au.district_key"
   ],
   "metadata": {
    "collapsed": false,
    "ExecuteTime": {
     "end_time": "2024-09-25T20:03:24.786143Z",
     "start_time": "2024-09-25T20:03:24.784034Z"
    }
   },
   "id": "4508d22ba07862fd",
   "execution_count": 4
  },
  {
   "cell_type": "code",
   "outputs": [],
   "source": [
    "def create_province_key_module(text):\n",
    "    au = parse_address(text)\n",
    "    return au.province_key"
   ],
   "metadata": {
    "collapsed": false,
    "ExecuteTime": {
     "end_time": "2024-09-25T20:03:24.796565Z",
     "start_time": "2024-09-25T20:03:24.790934Z"
    }
   },
   "id": "5d331ad827c5c9a6",
   "execution_count": 5
  },
  {
   "cell_type": "code",
   "outputs": [],
   "source": [
    "df = pd.DataFrame(get_data())"
   ],
   "metadata": {
    "collapsed": false,
    "ExecuteTime": {
     "end_time": "2024-09-25T20:03:24.920871Z",
     "start_time": "2024-09-25T20:03:24.798705Z"
    }
   },
   "id": "b1b52d5aed5034d9",
   "execution_count": 6
  },
  {
   "cell_type": "code",
   "outputs": [],
   "source": [
    "df['long_province_alphanumeric'] = df['long_province'].apply(to_alphanumeric)\n",
    "df['long_district_alphanumeric'] = df['long_district'].apply(to_alphanumeric)\n",
    "df['long_ward_alphanumeric'] = df['long_ward'].fillna('').apply(to_alphanumeric)\n",
    "\n",
    "df['province_alphanumeric'] = df['province'].apply(to_alphanumeric)\n",
    "df['short_district_alphanumeric'] = df['short_district'].apply(to_alphanumeric)\n",
    "df['short_ward_alphanumeric'] = df['short_ward'].fillna('').apply(to_alphanumeric)"
   ],
   "metadata": {
    "collapsed": false,
    "ExecuteTime": {
     "end_time": "2024-09-25T20:03:25.096215Z",
     "start_time": "2024-09-25T20:03:24.922479Z"
    }
   },
   "id": "cf25cc6a682a9e9c",
   "execution_count": 7
  },
  {
   "cell_type": "code",
   "outputs": [],
   "source": [
    "for ward in ['long_ward_alphanumeric', 'short_ward_alphanumeric']:\n",
    "    for district in ['long_district_alphanumeric', 'short_district_alphanumeric']:\n",
    "        for province in ['long_province_alphanumeric', 'province_alphanumeric']:\n",
    "            df[f\"address_{ward}_{district}_{province}\"] = df[ward] + df[district] + df[province]\n",
    "            df[f\"address_comma_{ward}_{district}_{province}\"] = df[ward] + ',' + df[district] + ',' + df[province]"
   ],
   "metadata": {
    "collapsed": false,
    "ExecuteTime": {
     "end_time": "2024-09-25T20:03:25.125515Z",
     "start_time": "2024-09-25T20:03:25.097479Z"
    }
   },
   "id": "2ad328732a0b7fc7",
   "execution_count": 8
  },
  {
   "cell_type": "code",
   "outputs": [],
   "source": [
    "df['province_key'] = df['province'].apply(to_key, args=(1,))\n",
    "df['district_key'] = df['district'].apply(to_key, args=(2,))"
   ],
   "metadata": {
    "collapsed": false,
    "ExecuteTime": {
     "end_time": "2024-09-25T20:03:25.181341Z",
     "start_time": "2024-09-25T20:03:25.126235Z"
    }
   },
   "id": "3782c5a649aaf6ec",
   "execution_count": 9
  },
  {
   "cell_type": "code",
   "outputs": [],
   "source": [
    "address_cols = [col for col in df.columns if 'address' in col]"
   ],
   "metadata": {
    "collapsed": false,
    "ExecuteTime": {
     "end_time": "2024-09-25T20:03:26.288020Z",
     "start_time": "2024-09-25T20:03:26.266289Z"
    }
   },
   "id": "d90f49f2777b59a4",
   "execution_count": 10
  },
  {
   "cell_type": "markdown",
   "source": [
    "## Find wards that are the same keyword with provinces"
   ],
   "metadata": {
    "collapsed": false
   },
   "id": "4a1285958689a4"
  },
  {
   "cell_type": "code",
   "outputs": [],
   "source": [
    "wrong_provinces = []\n",
    "\n",
    "\n",
    "\n",
    "for address_col in address_cols:\n",
    "    for row in df.itertuples():\n",
    "        address = getattr(row, address_col)\n",
    "        unit = parse_address(address, level=1)\n",
    "        data = {\n",
    "            'address': address,\n",
    "            'province': row.province,\n",
    "            'province_key': row.province_key,\n",
    "            'wrong_province_key': unit.province_key,\n",
    "        }\n",
    "        \n",
    "        if unit.province == None:\n",
    "            print(address)\n",
    "            wrong_provinces.append(data)\n",
    "            \n",
    "        elif unit.province_key != row.province_key:\n",
    "            print(address)\n",
    "            wrong_provinces.append(data)"
   ],
   "metadata": {
    "collapsed": false
   },
   "id": "aca769f749d9adf8",
   "execution_count": null
  },
  {
   "cell_type": "code",
   "outputs": [],
   "source": [
    "df_wrong_provinces = pd.DataFrame(wrong_provinces)"
   ],
   "metadata": {
    "collapsed": false
   },
   "id": "69ce345fefd31da9",
   "execution_count": null
  },
  {
   "cell_type": "code",
   "outputs": [],
   "source": [
    "df_wrong_provinces.info()"
   ],
   "metadata": {
    "collapsed": false
   },
   "id": "90893bd387f0b0ad",
   "execution_count": null
  },
  {
   "cell_type": "code",
   "outputs": [],
   "source": [
    "df_wrong_provinces"
   ],
   "metadata": {
    "collapsed": false
   },
   "id": "e2982a67d046cdd3",
   "execution_count": null
  },
  {
   "cell_type": "code",
   "outputs": [],
   "source": [
    "df_wrong_provinces[df_wrong_provinces['wrong_province_key'].isna()]"
   ],
   "metadata": {
    "collapsed": false
   },
   "id": "1d7bddbd68a9f8c0",
   "execution_count": null
  },
  {
   "cell_type": "code",
   "outputs": [],
   "source": [
    "DICT_double_check_provinces = {}\n",
    "for row in df_wrong_provinces.itertuples():\n",
    "    DICT_double_check_provinces[row.wrong_province_key] = df_wrong_provinces[df_wrong_provinces['wrong_province_key']==row.wrong_province_key]['province_key'].unique().tolist()"
   ],
   "metadata": {
    "collapsed": false
   },
   "id": "e1a174da9e0799b7",
   "execution_count": null
  },
  {
   "cell_type": "code",
   "outputs": [],
   "source": [
    "DICT_double_check_provinces"
   ],
   "metadata": {
    "collapsed": false
   },
   "id": "3052fc715c1eb74",
   "execution_count": null
  },
  {
   "cell_type": "markdown",
   "source": [
    "## Find wards that are the same keyword with districts\n",
    "\n",
    "We have to add `double_check_provinces` to module to solve province level before doing this step."
   ],
   "metadata": {
    "collapsed": false
   },
   "id": "28410b2a00e10e19"
  },
  {
   "cell_type": "code",
   "outputs": [],
   "source": [
    "wrong_districts = []\n",
    "for address_col in address_cols:\n",
    "    for row in df.itertuples():\n",
    "        address = getattr(row, address_col)\n",
    "\n",
    "        unit = parse_address(address, level=2)\n",
    "    \n",
    "        data = {\n",
    "            'address': address,\n",
    "            'province_english': row.province_english,\n",
    "            'province_key': row.province_key,\n",
    "            'wrong_province_key': unit.province_key,\n",
    "            'district_key': row.district_key,\n",
    "            'wrong_district_key': unit.district_key,\n",
    "        }\n",
    "        \n",
    "        if unit.province == None:\n",
    "            print(address)\n",
    "            wrong_districts.append(data)\n",
    "        elif unit.district == None:\n",
    "            print(address)\n",
    "            wrong_districts.append(data)\n",
    "                \n",
    "        elif unit.district_key != row.district_key:\n",
    "            print(address)\n",
    "            wrong_districts.append(data)\n",
    "\n"
   ],
   "metadata": {
    "collapsed": false,
    "ExecuteTime": {
     "end_time": "2024-09-25T20:04:18.604329Z",
     "start_time": "2024-09-25T20:03:31.021218Z"
    }
   },
   "id": "39bf6374b12777a5",
   "execution_count": 11
  },
  {
   "cell_type": "code",
   "outputs": [],
   "source": [
    "df_wrong_districts = pd.DataFrame(wrong_districts)"
   ],
   "metadata": {
    "collapsed": false,
    "ExecuteTime": {
     "end_time": "2024-09-25T20:04:18.623578Z",
     "start_time": "2024-09-25T20:04:18.612661Z"
    }
   },
   "id": "96c5a897813dcae2",
   "execution_count": 12
  },
  {
   "cell_type": "code",
   "outputs": [
    {
     "ename": "AttributeError",
     "evalue": "'DataFrame' object has no attribute 'province_key'",
     "output_type": "error",
     "traceback": [
      "\u001B[0;31m---------------------------------------------------------------------------\u001B[0m",
      "\u001B[0;31mAttributeError\u001B[0m                            Traceback (most recent call last)",
      "\u001B[0;32m/var/folders/tm/3b72tt2j0rn4tllr8h4bsrlr0000gn/T/ipykernel_11051/435793939.py\u001B[0m in \u001B[0;36m?\u001B[0;34m()\u001B[0m\n\u001B[0;32m----> 1\u001B[0;31m \u001B[0mdf_wrong_districts\u001B[0m \u001B[0;34m=\u001B[0m \u001B[0mdf_wrong_districts\u001B[0m\u001B[0;34m[\u001B[0m\u001B[0mdf_wrong_districts\u001B[0m\u001B[0;34m.\u001B[0m\u001B[0mprovince_key\u001B[0m\u001B[0;34m==\u001B[0m\u001B[0mdf_wrong_districts\u001B[0m\u001B[0;34m.\u001B[0m\u001B[0mwrong_province_key\u001B[0m\u001B[0;34m]\u001B[0m\u001B[0;34m\u001B[0m\u001B[0;34m\u001B[0m\u001B[0m\n\u001B[0m",
      "\u001B[0;32m~/anaconda3/lib/python3.11/site-packages/pandas/core/generic.py\u001B[0m in \u001B[0;36m?\u001B[0;34m(self, name)\u001B[0m\n\u001B[1;32m   5985\u001B[0m             \u001B[0;32mand\u001B[0m \u001B[0mname\u001B[0m \u001B[0;32mnot\u001B[0m \u001B[0;32min\u001B[0m \u001B[0mself\u001B[0m\u001B[0;34m.\u001B[0m\u001B[0m_accessors\u001B[0m\u001B[0;34m\u001B[0m\u001B[0;34m\u001B[0m\u001B[0m\n\u001B[1;32m   5986\u001B[0m             \u001B[0;32mand\u001B[0m \u001B[0mself\u001B[0m\u001B[0;34m.\u001B[0m\u001B[0m_info_axis\u001B[0m\u001B[0;34m.\u001B[0m\u001B[0m_can_hold_identifiers_and_holds_name\u001B[0m\u001B[0;34m(\u001B[0m\u001B[0mname\u001B[0m\u001B[0;34m)\u001B[0m\u001B[0;34m\u001B[0m\u001B[0;34m\u001B[0m\u001B[0m\n\u001B[1;32m   5987\u001B[0m         ):\n\u001B[1;32m   5988\u001B[0m             \u001B[0;32mreturn\u001B[0m \u001B[0mself\u001B[0m\u001B[0;34m[\u001B[0m\u001B[0mname\u001B[0m\u001B[0;34m]\u001B[0m\u001B[0;34m\u001B[0m\u001B[0;34m\u001B[0m\u001B[0m\n\u001B[0;32m-> 5989\u001B[0;31m         \u001B[0;32mreturn\u001B[0m \u001B[0mobject\u001B[0m\u001B[0;34m.\u001B[0m\u001B[0m__getattribute__\u001B[0m\u001B[0;34m(\u001B[0m\u001B[0mself\u001B[0m\u001B[0;34m,\u001B[0m \u001B[0mname\u001B[0m\u001B[0;34m)\u001B[0m\u001B[0;34m\u001B[0m\u001B[0;34m\u001B[0m\u001B[0m\n\u001B[0m",
      "\u001B[0;31mAttributeError\u001B[0m: 'DataFrame' object has no attribute 'province_key'"
     ]
    }
   ],
   "source": [
    "df_wrong_districts = df_wrong_districts[df_wrong_districts.province_key==df_wrong_districts.wrong_province_key]"
   ],
   "metadata": {
    "collapsed": false,
    "ExecuteTime": {
     "end_time": "2024-09-25T20:04:18.721467Z",
     "start_time": "2024-09-25T20:04:18.624668Z"
    }
   },
   "id": "fd76697d8beb2036",
   "execution_count": 13
  },
  {
   "cell_type": "code",
   "outputs": [],
   "source": [
    "df_wrong_districts.info()"
   ],
   "metadata": {
    "collapsed": false
   },
   "id": "d2c05045bde11709",
   "execution_count": null
  },
  {
   "cell_type": "code",
   "outputs": [],
   "source": [
    "df_wrong_districts[df_wrong_districts.wrong_district_key.isna()]"
   ],
   "metadata": {
    "collapsed": false
   },
   "id": "11d84fe09228cabb",
   "execution_count": null
  },
  {
   "cell_type": "code",
   "outputs": [],
   "source": [
    "df_wrong_districts"
   ],
   "metadata": {
    "collapsed": false
   },
   "id": "23516252d5fab35f",
   "execution_count": null
  },
  {
   "cell_type": "code",
   "outputs": [],
   "source": [
    "df_wrong_districts['province_key'].unique()"
   ],
   "metadata": {
    "collapsed": false
   },
   "id": "28f63f39d6b03b3c",
   "execution_count": null
  },
  {
   "cell_type": "code",
   "outputs": [],
   "source": [
    "df_wrong_districts[df_wrong_districts.wrong_district_key.isna()]['province_key'].unique()"
   ],
   "metadata": {
    "collapsed": false
   },
   "id": "1026b94f088209a",
   "execution_count": null
  },
  {
   "cell_type": "code",
   "outputs": [],
   "source": [
    "DICT_double_check_districts = {}\n",
    "\n",
    "for province_english in df_wrong_districts['province_english'].unique():\n",
    "    district_data = {}\n",
    "    for wrong_district_key in df_wrong_districts[(df_wrong_districts['province_english']==province_english)]['wrong_district_key'].unique():\n",
    "        tmp_district_keys = df_wrong_districts[(df_wrong_districts['province_english']==province_english) & (df_wrong_districts['wrong_district_key']==wrong_district_key)]['district_key'].unique().tolist()\n",
    "        district_data[wrong_district_key] = tmp_district_keys\n",
    "    \n",
    "    DICT_double_check_districts[province_english] = district_data"
   ],
   "metadata": {
    "collapsed": false
   },
   "id": "26abf0cb9952f87b",
   "execution_count": null
  },
  {
   "cell_type": "code",
   "outputs": [],
   "source": [
    "DICT_double_check_districts"
   ],
   "metadata": {
    "collapsed": false
   },
   "id": "ea812f21a18b5e10",
   "execution_count": null
  },
  {
   "cell_type": "code",
   "outputs": [],
   "source": [],
   "metadata": {
    "collapsed": false
   },
   "id": "2c5e11eb2a15f8ca"
  }
 ],
 "metadata": {
  "kernelspec": {
   "display_name": "Python 3",
   "language": "python",
   "name": "python3"
  },
  "language_info": {
   "codemirror_mode": {
    "name": "ipython",
    "version": 2
   },
   "file_extension": ".py",
   "mimetype": "text/x-python",
   "name": "python",
   "nbconvert_exporter": "python",
   "pygments_lexer": "ipython2",
   "version": "2.7.6"
  }
 },
 "nbformat": 4,
 "nbformat_minor": 5
}
