{
 "cells": [
  {
   "cell_type": "code",
   "execution_count": 1,
   "id": "initial_id",
   "metadata": {
    "collapsed": true,
    "ExecuteTime": {
     "end_time": "2024-09-27T10:25:20.647216Z",
     "start_time": "2024-09-27T10:25:19.505344Z"
    }
   },
   "outputs": [],
   "source": [
    "import pandas as pd\n",
    "from vietadminunits import parse_address, get_data\n",
    "from vietadminunits.utils import to_key, to_alphanumeric\n",
    "import pickle"
   ]
  },
  {
   "cell_type": "code",
   "outputs": [],
   "source": [
    "df = pd.DataFrame(get_data())"
   ],
   "metadata": {
    "collapsed": false,
    "ExecuteTime": {
     "end_time": "2024-09-27T10:25:20.753169Z",
     "start_time": "2024-09-27T10:25:20.648182Z"
    }
   },
   "id": "b1b52d5aed5034d9",
   "execution_count": 2
  },
  {
   "cell_type": "code",
   "outputs": [],
   "source": [
    "df['long_province_alphanumeric'] = df['long_province'].apply(to_alphanumeric)\n",
    "df['long_district_alphanumeric'] = df['long_district'].apply(to_alphanumeric)\n",
    "df['long_ward_alphanumeric'] = df['long_ward'].fillna('').apply(to_alphanumeric)\n",
    "\n",
    "df['province_alphanumeric'] = df['province'].apply(to_alphanumeric)\n",
    "df['short_district_alphanumeric'] = df['short_district'].apply(to_alphanumeric)\n",
    "df['short_ward_alphanumeric'] = df['short_ward'].fillna('').apply(to_alphanumeric)"
   ],
   "metadata": {
    "collapsed": false,
    "ExecuteTime": {
     "end_time": "2024-09-27T10:25:20.904889Z",
     "start_time": "2024-09-27T10:25:20.753913Z"
    }
   },
   "id": "cf25cc6a682a9e9c",
   "execution_count": 3
  },
  {
   "cell_type": "code",
   "outputs": [],
   "source": [
    "for ward in ['long_ward_alphanumeric', 'short_ward_alphanumeric']:\n",
    "    for district in ['long_district_alphanumeric', 'short_district_alphanumeric']:\n",
    "        for province in ['long_province_alphanumeric', 'province_alphanumeric']:\n",
    "            df[f\"address_{ward}_{province}_{district}\"] = df[ward] + df[province] + df[district]\n",
    "            df[f\"address_comma_{ward}_{province}_{district}\"] = df[ward] + ',' + df[province] + ',' + df[district]"
   ],
   "metadata": {
    "collapsed": false,
    "ExecuteTime": {
     "end_time": "2024-09-27T10:25:20.930250Z",
     "start_time": "2024-09-27T10:25:20.905705Z"
    }
   },
   "id": "2ad328732a0b7fc7",
   "execution_count": 4
  },
  {
   "cell_type": "code",
   "outputs": [],
   "source": [
    "df['province_key'] = df['province'].apply(to_key, args=(1,))\n",
    "df['district_key'] = df['district'].apply(to_key, args=(2,))\n",
    "df['ward_key'] = df['ward'].apply(to_key, args=(3,))"
   ],
   "metadata": {
    "collapsed": false,
    "ExecuteTime": {
     "end_time": "2024-09-27T10:25:21.015859Z",
     "start_time": "2024-09-27T10:25:20.931605Z"
    }
   },
   "id": "3782c5a649aaf6ec",
   "execution_count": 5
  },
  {
   "cell_type": "code",
   "outputs": [],
   "source": [
    "address_cols = [col for col in df.columns if 'address' in col]"
   ],
   "metadata": {
    "collapsed": false,
    "ExecuteTime": {
     "end_time": "2024-09-27T10:25:22.078091Z",
     "start_time": "2024-09-27T10:25:22.074702Z"
    }
   },
   "id": "69039b2628333813",
   "execution_count": 6
  },
  {
   "cell_type": "markdown",
   "source": [
    "## Find wards that are the same keyword with provinces"
   ],
   "metadata": {
    "collapsed": false
   },
   "id": "4a1285958689a4"
  },
  {
   "cell_type": "code",
   "outputs": [],
   "source": [
    "wrong_provinces = []\n",
    "\n",
    "\n",
    "\n",
    "for address_col in address_cols:\n",
    "    for row in df.itertuples():\n",
    "        address = getattr(row, address_col)\n",
    "        unit = parse_address(address, level=1)\n",
    "        data = {\n",
    "            'address': address,\n",
    "            'province': row.province,\n",
    "            'province_key': row.province_key,\n",
    "            'district_key': row.district_key,\n",
    "            'ward_key': row.ward_key,\n",
    "            'wrong_province_key': unit.province_key,\n",
    "        }\n",
    "        \n",
    "        if unit.province == None:\n",
    "            print(address)\n",
    "            wrong_provinces.append(data)\n",
    "            \n",
    "        elif unit.province_key != row.province_key:\n",
    "            print(address)\n",
    "            wrong_provinces.append(data)"
   ],
   "metadata": {
    "collapsed": false,
    "ExecuteTime": {
     "end_time": "2024-09-27T10:25:59.801328Z",
     "start_time": "2024-09-27T10:25:23.075387Z"
    }
   },
   "id": "aca769f749d9adf8",
   "execution_count": 7
  },
  {
   "cell_type": "code",
   "outputs": [],
   "source": [
    "df_wrong_provinces = pd.DataFrame(wrong_provinces)"
   ],
   "metadata": {
    "collapsed": false,
    "ExecuteTime": {
     "end_time": "2024-09-27T10:26:01.981502Z",
     "start_time": "2024-09-27T10:26:01.976925Z"
    }
   },
   "id": "69ce345fefd31da9",
   "execution_count": 8
  },
  {
   "cell_type": "code",
   "outputs": [
    {
     "name": "stdout",
     "output_type": "stream",
     "text": [
      "<class 'pandas.core.frame.DataFrame'>\n",
      "RangeIndex: 0 entries\n",
      "Empty DataFrame\n"
     ]
    }
   ],
   "source": [
    "df_wrong_provinces.info()"
   ],
   "metadata": {
    "collapsed": false,
    "ExecuteTime": {
     "end_time": "2024-09-27T10:26:02.439719Z",
     "start_time": "2024-09-27T10:26:02.437240Z"
    }
   },
   "id": "90893bd387f0b0ad",
   "execution_count": 9
  },
  {
   "cell_type": "code",
   "outputs": [],
   "source": [
    "df_wrong_provinces"
   ],
   "metadata": {
    "collapsed": false
   },
   "id": "e2982a67d046cdd3",
   "execution_count": null
  },
  {
   "cell_type": "code",
   "outputs": [],
   "source": [
    "DICT_double_check_inverted_provinces = {}\n",
    "for row in df_wrong_provinces.itertuples():\n",
    "    tmp_df = df_wrong_provinces[df_wrong_provinces['wrong_province_key']==row.wrong_province_key]\n",
    "    tmp_province_keys = tmp_df['province_key'].unique().tolist()\n",
    "    province_data = {}\n",
    "    for province_key in tmp_province_keys:\n",
    "        ward_district_keys = tmp_df[tmp_df['province_key']==province_key][['ward_key', 'district_key']].drop_duplicates().values.tolist()\n",
    "        province_data[province_key] = ward_district_keys\n",
    "    \n",
    "    DICT_double_check_inverted_provinces[row.wrong_province_key] = province_data"
   ],
   "metadata": {
    "collapsed": false
   },
   "id": "def2e70717dbccfd",
   "execution_count": null
  },
  {
   "cell_type": "markdown",
   "source": [
    "## Find wards that are the same keyword with districts\n",
    "\n",
    "We have to add `double_check_provinces` to module to solve province level before doing this step."
   ],
   "metadata": {
    "collapsed": false
   },
   "id": "28410b2a00e10e19"
  },
  {
   "cell_type": "code",
   "outputs": [],
   "source": [
    "wrong_districts = []\n",
    "for address_col in address_cols:\n",
    "    for row in df.itertuples():\n",
    "        address = getattr(row, address_col)\n",
    "\n",
    "        unit = parse_address(address, level=2)\n",
    "    \n",
    "        data = {\n",
    "            'address': address,\n",
    "            'province_english': row.province_english,\n",
    "            'province_key': row.province_key,\n",
    "            'wrong_province_key': unit.province_key,\n",
    "            'district_key': row.district_key,\n",
    "            'ward_key': row.ward_key,\n",
    "            'wrong_district_key': unit.district_key,\n",
    "        }\n",
    "        \n",
    "        if unit.province == None:\n",
    "            print(address)\n",
    "            wrong_districts.append(data)\n",
    "        elif unit.district == None:\n",
    "            print(address)\n",
    "            wrong_districts.append(data)\n",
    "                \n",
    "        elif unit.district_key != row.district_key:\n",
    "            print(address)\n",
    "            wrong_districts.append(data)\n",
    "\n"
   ],
   "metadata": {
    "collapsed": false
   },
   "id": "39bf6374b12777a5",
   "execution_count": null
  },
  {
   "cell_type": "code",
   "outputs": [],
   "source": [
    "df_wrong_districts = pd.DataFrame(wrong_districts)"
   ],
   "metadata": {
    "collapsed": false
   },
   "id": "96c5a897813dcae2",
   "execution_count": null
  },
  {
   "cell_type": "code",
   "outputs": [],
   "source": [
    "df_wrong_districts = df_wrong_districts[df_wrong_districts.province_key==df_wrong_districts.wrong_province_key]"
   ],
   "metadata": {
    "collapsed": false
   },
   "id": "fd76697d8beb2036",
   "execution_count": null
  },
  {
   "cell_type": "code",
   "outputs": [],
   "source": [
    "df_wrong_districts"
   ],
   "metadata": {
    "collapsed": false
   },
   "id": "b99fec6992c3ad40",
   "execution_count": null
  },
  {
   "cell_type": "code",
   "outputs": [],
   "source": [
    "df_wrong_districts[df_wrong_districts.wrong_district_key.isna()]"
   ],
   "metadata": {
    "collapsed": false
   },
   "id": "11d84fe09228cabb",
   "execution_count": null
  },
  {
   "cell_type": "code",
   "outputs": [],
   "source": [
    "DICT_double_check_inverted_districts = {}\n",
    "\n",
    "for province_english in df_wrong_districts['province_english'].unique():\n",
    "    district_data = {}\n",
    "    for wrong_district_key in df_wrong_districts[(df_wrong_districts['province_english']==province_english)]['wrong_district_key'].unique():\n",
    "        tmp_district_keys = df_wrong_districts[(df_wrong_districts['province_english']==province_english) & (df_wrong_districts['wrong_district_key']==wrong_district_key)]['district_key'].unique().tolist()\n",
    "        district_data[wrong_district_key] = tmp_district_keys\n",
    "    \n",
    "    DICT_double_check_inverted_districts[province_english] = district_data"
   ],
   "metadata": {
    "collapsed": false
   },
   "id": "26abf0cb9952f87b",
   "execution_count": null
  },
  {
   "cell_type": "code",
   "outputs": [],
   "source": [
    "DICT_double_check_inverted_districts"
   ],
   "metadata": {
    "collapsed": false
   },
   "id": "ea812f21a18b5e10",
   "execution_count": null
  }
 ],
 "metadata": {
  "kernelspec": {
   "display_name": "Python 3",
   "language": "python",
   "name": "python3"
  },
  "language_info": {
   "codemirror_mode": {
    "name": "ipython",
    "version": 2
   },
   "file_extension": ".py",
   "mimetype": "text/x-python",
   "name": "python",
   "nbconvert_exporter": "python",
   "pygments_lexer": "ipython2",
   "version": "2.7.6"
  }
 },
 "nbformat": 4,
 "nbformat_minor": 5
}
