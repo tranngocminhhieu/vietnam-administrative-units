{
 "cells": [
  {
   "cell_type": "code",
   "execution_count": 1,
   "id": "initial_id",
   "metadata": {
    "collapsed": true,
    "ExecuteTime": {
     "end_time": "2024-09-13T19:34:25.376984Z",
     "start_time": "2024-09-13T19:34:24.714614Z"
    }
   },
   "outputs": [],
   "source": [
    "import numpy as np\n",
    "import pandas as pd\n",
    "import re\n",
    "from unidecode import unidecode"
   ]
  },
  {
   "cell_type": "markdown",
   "source": [
    "Input data source: [Danh sách đơn vị hành chính cấp huyện của Việt Nam - Wikipedia.org](https://vi.wikipedia.org/wiki/Danh_s%C3%A1ch_%C4%91%C6%A1n_v%E1%BB%8B_h%C3%A0nh_ch%C3%ADnh_c%E1%BA%A5p_huy%E1%BB%87n_c%E1%BB%A7a_Vi%E1%BB%87t_Nam)\n",
    "\n",
    "Expected output: province, district, ward, long_province, long_district, long_ward, short_district, short_ward, province_english, district_english, ward_english, long_province_english, long_district_english, long_ward_english, short_district_english, short_ward_english, district_level, ward_level, district_level_english, ward_level_english"
   ],
   "metadata": {
    "collapsed": false
   },
   "id": "178c3299d208d8f"
  },
  {
   "cell_type": "code",
   "outputs": [],
   "source": [
    "expected_cols = ['province', 'district', 'ward', 'long_province', 'long_district', 'long_ward', 'short_district', 'short_ward', 'province_english', 'district_english', 'ward_english', 'long_province_english', 'long_district_english', 'long_ward_english', 'short_district_english', 'short_ward_english', 'district_level', 'ward_level', 'district_level_english', 'ward_level_english']"
   ],
   "metadata": {
    "collapsed": false,
    "ExecuteTime": {
     "end_time": "2024-09-13T19:34:25.380275Z",
     "start_time": "2024-09-13T19:34:25.377993Z"
    }
   },
   "id": "d5caf4f3d3b091d0",
   "execution_count": 2
  },
  {
   "cell_type": "code",
   "outputs": [],
   "source": [
    "df = pd.read_csv('../data/input/wikipedia.csv')"
   ],
   "metadata": {
    "collapsed": false,
    "ExecuteTime": {
     "end_time": "2024-09-13T19:34:25.390212Z",
     "start_time": "2024-09-13T19:34:25.381770Z"
    }
   },
   "id": "e42c286d36b46761",
   "execution_count": 3
  },
  {
   "cell_type": "code",
   "outputs": [
    {
     "data": {
      "text/plain": "    short_district        province district_level\n0           A Lưới  Thừa Thiên Huế            NaN\n1          An Biên      Kiên Giang            NaN\n2         An Dương       Hải Phòng            NaN\n3           An Khê         Gia Lai         thị xã\n4           An Lão       Hải Phòng            NaN\n..             ...             ...            ...\n699      Yên Phong        Bắc Ninh            NaN\n700        Yên Sơn     Tuyên Quang            NaN\n701      Yên Thành         Nghệ An            NaN\n702        Yên Thế       Bắc Giang            NaN\n703       Yên Thủy        Hòa Bình            NaN\n\n[704 rows x 3 columns]",
      "text/html": "<div>\n<style scoped>\n    .dataframe tbody tr th:only-of-type {\n        vertical-align: middle;\n    }\n\n    .dataframe tbody tr th {\n        vertical-align: top;\n    }\n\n    .dataframe thead th {\n        text-align: right;\n    }\n</style>\n<table border=\"1\" class=\"dataframe\">\n  <thead>\n    <tr style=\"text-align: right;\">\n      <th></th>\n      <th>short_district</th>\n      <th>province</th>\n      <th>district_level</th>\n    </tr>\n  </thead>\n  <tbody>\n    <tr>\n      <th>0</th>\n      <td>A Lưới</td>\n      <td>Thừa Thiên Huế</td>\n      <td>NaN</td>\n    </tr>\n    <tr>\n      <th>1</th>\n      <td>An Biên</td>\n      <td>Kiên Giang</td>\n      <td>NaN</td>\n    </tr>\n    <tr>\n      <th>2</th>\n      <td>An Dương</td>\n      <td>Hải Phòng</td>\n      <td>NaN</td>\n    </tr>\n    <tr>\n      <th>3</th>\n      <td>An Khê</td>\n      <td>Gia Lai</td>\n      <td>thị xã</td>\n    </tr>\n    <tr>\n      <th>4</th>\n      <td>An Lão</td>\n      <td>Hải Phòng</td>\n      <td>NaN</td>\n    </tr>\n    <tr>\n      <th>...</th>\n      <td>...</td>\n      <td>...</td>\n      <td>...</td>\n    </tr>\n    <tr>\n      <th>699</th>\n      <td>Yên Phong</td>\n      <td>Bắc Ninh</td>\n      <td>NaN</td>\n    </tr>\n    <tr>\n      <th>700</th>\n      <td>Yên Sơn</td>\n      <td>Tuyên Quang</td>\n      <td>NaN</td>\n    </tr>\n    <tr>\n      <th>701</th>\n      <td>Yên Thành</td>\n      <td>Nghệ An</td>\n      <td>NaN</td>\n    </tr>\n    <tr>\n      <th>702</th>\n      <td>Yên Thế</td>\n      <td>Bắc Giang</td>\n      <td>NaN</td>\n    </tr>\n    <tr>\n      <th>703</th>\n      <td>Yên Thủy</td>\n      <td>Hòa Bình</td>\n      <td>NaN</td>\n    </tr>\n  </tbody>\n</table>\n<p>704 rows × 3 columns</p>\n</div>"
     },
     "execution_count": 4,
     "metadata": {},
     "output_type": "execute_result"
    }
   ],
   "source": [
    "df"
   ],
   "metadata": {
    "collapsed": false,
    "ExecuteTime": {
     "end_time": "2024-09-13T19:34:25.483758Z",
     "start_time": "2024-09-13T19:34:25.477141Z"
    }
   },
   "id": "fe6951d32bc544a8",
   "execution_count": 4
  },
  {
   "cell_type": "code",
   "outputs": [],
   "source": [
    "def create_province_english(text):\n",
    "    u_text = unidecode(text)\n",
    "    c_text = str(u_text).title().strip()\n",
    "    c_text = re.sub(r'\\sProvince$|^Tinh\\s|^Thanh\\sPho\\s|\\sCity$', '', c_text, flags=re.IGNORECASE)\n",
    "    # if c_text == 'Ho Chi Minh':\n",
    "    #     c_text = 'Ho Chi Minh City'\n",
    "    return c_text"
   ],
   "metadata": {
    "collapsed": false,
    "ExecuteTime": {
     "end_time": "2024-09-13T19:34:25.521199Z",
     "start_time": "2024-09-13T19:34:25.519310Z"
    }
   },
   "id": "e5c330986cd35c9a",
   "execution_count": 5
  },
  {
   "cell_type": "code",
   "outputs": [],
   "source": [
    "def create_short_district_english(text):\n",
    "    u_text = unidecode(text)\n",
    "    c_text = str(u_text).title().strip()\n",
    "    \n",
    "    if re.search(r'^Quan \\d{1,2}', c_text, flags=re.IGNORECASE):\n",
    "        c_text = re.sub(r'^Quan ', 'District ', c_text, flags=re.IGNORECASE)\n",
    "    \n",
    "    return c_text"
   ],
   "metadata": {
    "collapsed": false,
    "ExecuteTime": {
     "end_time": "2024-09-13T19:34:25.584381Z",
     "start_time": "2024-09-13T19:34:25.582554Z"
    }
   },
   "id": "1f119cc8be696955",
   "execution_count": 6
  },
  {
   "cell_type": "code",
   "outputs": [],
   "source": [
    "df['province'] = df['province'].str.replace('–', '-').str.replace('Thành phố ', '')\n",
    "df['short_district'] = df['short_district'].str.replace('–', '-')"
   ],
   "metadata": {
    "collapsed": false,
    "ExecuteTime": {
     "end_time": "2024-09-13T19:34:25.657370Z",
     "start_time": "2024-09-13T19:34:25.654584Z"
    }
   },
   "id": "92100e36424991d9",
   "execution_count": 7
  },
  {
   "cell_type": "code",
   "outputs": [],
   "source": [
    "df['district_level'] = df['district_level'].str.capitalize().str.replace('Huyện đảo', 'Huyện').fillna('Huyện')"
   ],
   "metadata": {
    "collapsed": false,
    "ExecuteTime": {
     "end_time": "2024-09-13T19:34:26.108391Z",
     "start_time": "2024-09-13T19:34:26.103996Z"
    }
   },
   "id": "ab607edc97c720b9",
   "execution_count": 8
  },
  {
   "cell_type": "code",
   "outputs": [
    {
     "data": {
      "text/plain": "district_level\nHuyện        522\nThành phố     85\nThị xã        51\nQuận          46\nName: count, dtype: int64"
     },
     "execution_count": 9,
     "metadata": {},
     "output_type": "execute_result"
    }
   ],
   "source": [
    "df['district_level'].value_counts(dropna=False)"
   ],
   "metadata": {
    "collapsed": false,
    "ExecuteTime": {
     "end_time": "2024-09-13T19:34:26.212783Z",
     "start_time": "2024-09-13T19:34:26.208321Z"
    }
   },
   "id": "11f656a68e89f983",
   "execution_count": 9
  },
  {
   "cell_type": "code",
   "outputs": [],
   "source": [
    "district_count = df[['province', 'short_district']].value_counts().reset_index()\n",
    "duplicated_districts = district_count[district_count['count'] > 1]['short_district'].tolist()"
   ],
   "metadata": {
    "collapsed": false,
    "ExecuteTime": {
     "end_time": "2024-09-13T19:34:26.326866Z",
     "start_time": "2024-09-13T19:34:26.320592Z"
    }
   },
   "id": "4c31dd1bcb3deb3b",
   "execution_count": 10
  },
  {
   "cell_type": "code",
   "outputs": [],
   "source": [
    "df_duplicated_districts = df[df.short_district.isin(duplicated_districts)]"
   ],
   "metadata": {
    "collapsed": false,
    "ExecuteTime": {
     "end_time": "2024-09-13T19:34:26.408237Z",
     "start_time": "2024-09-13T19:34:26.404892Z"
    }
   },
   "id": "bbafbed220bc37b0",
   "execution_count": 11
  },
  {
   "cell_type": "code",
   "outputs": [
    {
     "data": {
      "text/plain": "    short_district    province district_level\n74         Cai Lậy  Tiền Giang         Thị xã\n75         Cai Lậy  Tiền Giang          Huyện\n94        Cao Lãnh   Đồng Tháp      Thành phố\n95        Cao Lãnh   Đồng Tháp          Huyện\n205      Duyên Hải    Trà Vinh         Thị xã\n206      Duyên Hải    Trà Vinh          Huyện\n272       Hồng Ngự   Đồng Tháp      Thành phố\n273       Hồng Ngự   Đồng Tháp          Huyện\n315         Kỳ Anh     Hà Tĩnh         Thị xã\n316         Kỳ Anh     Hà Tĩnh          Huyện\n344        Long Mỹ   Hậu Giang         Thị xã\n345        Long Mỹ   Hậu Giang          Huyện",
      "text/html": "<div>\n<style scoped>\n    .dataframe tbody tr th:only-of-type {\n        vertical-align: middle;\n    }\n\n    .dataframe tbody tr th {\n        vertical-align: top;\n    }\n\n    .dataframe thead th {\n        text-align: right;\n    }\n</style>\n<table border=\"1\" class=\"dataframe\">\n  <thead>\n    <tr style=\"text-align: right;\">\n      <th></th>\n      <th>short_district</th>\n      <th>province</th>\n      <th>district_level</th>\n    </tr>\n  </thead>\n  <tbody>\n    <tr>\n      <th>74</th>\n      <td>Cai Lậy</td>\n      <td>Tiền Giang</td>\n      <td>Thị xã</td>\n    </tr>\n    <tr>\n      <th>75</th>\n      <td>Cai Lậy</td>\n      <td>Tiền Giang</td>\n      <td>Huyện</td>\n    </tr>\n    <tr>\n      <th>94</th>\n      <td>Cao Lãnh</td>\n      <td>Đồng Tháp</td>\n      <td>Thành phố</td>\n    </tr>\n    <tr>\n      <th>95</th>\n      <td>Cao Lãnh</td>\n      <td>Đồng Tháp</td>\n      <td>Huyện</td>\n    </tr>\n    <tr>\n      <th>205</th>\n      <td>Duyên Hải</td>\n      <td>Trà Vinh</td>\n      <td>Thị xã</td>\n    </tr>\n    <tr>\n      <th>206</th>\n      <td>Duyên Hải</td>\n      <td>Trà Vinh</td>\n      <td>Huyện</td>\n    </tr>\n    <tr>\n      <th>272</th>\n      <td>Hồng Ngự</td>\n      <td>Đồng Tháp</td>\n      <td>Thành phố</td>\n    </tr>\n    <tr>\n      <th>273</th>\n      <td>Hồng Ngự</td>\n      <td>Đồng Tháp</td>\n      <td>Huyện</td>\n    </tr>\n    <tr>\n      <th>315</th>\n      <td>Kỳ Anh</td>\n      <td>Hà Tĩnh</td>\n      <td>Thị xã</td>\n    </tr>\n    <tr>\n      <th>316</th>\n      <td>Kỳ Anh</td>\n      <td>Hà Tĩnh</td>\n      <td>Huyện</td>\n    </tr>\n    <tr>\n      <th>344</th>\n      <td>Long Mỹ</td>\n      <td>Hậu Giang</td>\n      <td>Thị xã</td>\n    </tr>\n    <tr>\n      <th>345</th>\n      <td>Long Mỹ</td>\n      <td>Hậu Giang</td>\n      <td>Huyện</td>\n    </tr>\n  </tbody>\n</table>\n</div>"
     },
     "execution_count": 12,
     "metadata": {},
     "output_type": "execute_result"
    }
   ],
   "source": [
    "df_duplicated_districts"
   ],
   "metadata": {
    "collapsed": false,
    "ExecuteTime": {
     "end_time": "2024-09-13T19:34:26.533039Z",
     "start_time": "2024-09-13T19:34:26.529189Z"
    }
   },
   "id": "975a973df6c35430",
   "execution_count": 12
  },
  {
   "cell_type": "code",
   "outputs": [],
   "source": [
    "# keep_district_levels = ['Thị xã', 'Thành phố']"
   ],
   "metadata": {
    "collapsed": false,
    "ExecuteTime": {
     "end_time": "2024-09-13T19:34:26.636363Z",
     "start_time": "2024-09-13T19:34:26.634961Z"
    }
   },
   "id": "9fe7eb0dd1dcbf13",
   "execution_count": 13
  },
  {
   "cell_type": "code",
   "outputs": [],
   "source": [
    "district_level_english = {\n",
    "    'Thị xã': 'Town',\n",
    "    'Thành phố': 'City',\n",
    "    'Quận': 'District',\n",
    "    'Huyện': 'District'\n",
    "}"
   ],
   "metadata": {
    "collapsed": false,
    "ExecuteTime": {
     "end_time": "2024-09-13T19:34:26.746559Z",
     "start_time": "2024-09-13T19:34:26.744577Z"
    }
   },
   "id": "de2433dbff7909d0",
   "execution_count": 14
  },
  {
   "cell_type": "code",
   "outputs": [],
   "source": [
    "# df['district_level'] = np.where(df['district_level'].isin(keep_district_levels), df['district_level'], np.nan)\n",
    "df['district_level_english'] = df['district_level'].map(district_level_english)"
   ],
   "metadata": {
    "collapsed": false,
    "ExecuteTime": {
     "end_time": "2024-09-13T19:34:26.860190Z",
     "start_time": "2024-09-13T19:34:26.857372Z"
    }
   },
   "id": "5356da2f1688c633",
   "execution_count": 15
  },
  {
   "cell_type": "code",
   "outputs": [],
   "source": [
    "df['short_district_english'] = df['short_district'].apply(create_short_district_english)"
   ],
   "metadata": {
    "collapsed": false,
    "ExecuteTime": {
     "end_time": "2024-09-13T19:34:27.079782Z",
     "start_time": "2024-09-13T19:34:27.071748Z"
    }
   },
   "id": "d9ff2622a7094912",
   "execution_count": 16
  },
  {
   "cell_type": "code",
   "outputs": [],
   "source": [
    "df['district'] = np.where((df.province.isin(df_duplicated_districts.province)) & (df.short_district.isin(df_duplicated_districts.short_district)), df['district_level'] + ' ' + df['short_district'], df['short_district'])\n",
    "\n",
    "df['district_english'] = np.where((df.province.isin(df_duplicated_districts.province)) & (df.short_district.isin(df_duplicated_districts.short_district)), df['short_district_english'] + ' ' + df['district_level_english'], df['short_district_english'])"
   ],
   "metadata": {
    "collapsed": false,
    "ExecuteTime": {
     "end_time": "2024-09-13T19:34:27.127588Z",
     "start_time": "2024-09-13T19:34:27.122148Z"
    }
   },
   "id": "b2bfa4e6ac610745",
   "execution_count": 17
  },
  {
   "cell_type": "code",
   "outputs": [],
   "source": [],
   "metadata": {
    "collapsed": false,
    "ExecuteTime": {
     "end_time": "2024-09-13T19:34:27.221137Z",
     "start_time": "2024-09-13T19:34:27.219836Z"
    }
   },
   "id": "bc910e24cea6d59e",
   "execution_count": 17
  },
  {
   "cell_type": "code",
   "outputs": [],
   "source": [
    "df['province_english'] = df['province'].apply(create_province_english)"
   ],
   "metadata": {
    "collapsed": false,
    "ExecuteTime": {
     "end_time": "2024-09-13T19:34:27.231627Z",
     "start_time": "2024-09-13T19:34:27.227401Z"
    }
   },
   "id": "1819eca14830bcaa",
   "execution_count": 18
  },
  {
   "cell_type": "code",
   "outputs": [],
   "source": [
    "df['long_district'] = np.where(~df.short_district.str.contains('|'.join(district_level_english)), df['district_level'] + ' ' + df['short_district'], df['short_district'])"
   ],
   "metadata": {
    "collapsed": false,
    "ExecuteTime": {
     "end_time": "2024-09-13T19:34:27.268865Z",
     "start_time": "2024-09-13T19:34:27.264908Z"
    }
   },
   "id": "5297b530030553f1",
   "execution_count": 19
  },
  {
   "cell_type": "code",
   "outputs": [],
   "source": [
    "df['long_district_english'] =  np.where(~df.short_district.str.contains('|'.join(district_level_english)), df['short_district_english'] + ' ' + df['district_level_english'], df['short_district_english'])"
   ],
   "metadata": {
    "collapsed": false,
    "ExecuteTime": {
     "end_time": "2024-09-13T19:34:27.317630Z",
     "start_time": "2024-09-13T19:34:27.315149Z"
    }
   },
   "id": "a04eb93c9f77a796",
   "execution_count": 20
  },
  {
   "cell_type": "code",
   "outputs": [],
   "source": [
    "df = df[[col for col in expected_cols if col in df.columns]]"
   ],
   "metadata": {
    "collapsed": false,
    "ExecuteTime": {
     "end_time": "2024-09-13T19:34:27.357418Z",
     "start_time": "2024-09-13T19:34:27.354574Z"
    }
   },
   "id": "2262bacfd4efa185",
   "execution_count": 21
  },
  {
   "cell_type": "code",
   "outputs": [
    {
     "data": {
      "text/plain": "           province   district    long_district short_district  \\\n0    Thừa Thiên Huế     A Lưới     Huyện A Lưới         A Lưới   \n1        Kiên Giang    An Biên    Huyện An Biên        An Biên   \n2         Hải Phòng   An Dương   Huyện An Dương       An Dương   \n3           Gia Lai     An Khê    Thị xã An Khê         An Khê   \n4         Hải Phòng     An Lão     Huyện An Lão         An Lão   \n..              ...        ...              ...            ...   \n699        Bắc Ninh  Yên Phong  Huyện Yên Phong      Yên Phong   \n700     Tuyên Quang    Yên Sơn    Huyện Yên Sơn        Yên Sơn   \n701         Nghệ An  Yên Thành  Huyện Yên Thành      Yên Thành   \n702       Bắc Giang    Yên Thế    Huyện Yên Thế        Yên Thế   \n703        Hòa Bình   Yên Thủy   Huyện Yên Thủy       Yên Thủy   \n\n    province_english district_english long_district_english  \\\n0     Thua Thien Hue           A Luoi       A Luoi District   \n1         Kien Giang          An Bien      An Bien District   \n2          Hai Phong         An Duong     An Duong District   \n3            Gia Lai           An Khe           An Khe Town   \n4          Hai Phong           An Lao       An Lao District   \n..               ...              ...                   ...   \n699         Bac Ninh        Yen Phong    Yen Phong District   \n700      Tuyen Quang          Yen Son      Yen Son District   \n701          Nghe An        Yen Thanh    Yen Thanh District   \n702        Bac Giang          Yen The      Yen The District   \n703         Hoa Binh         Yen Thuy     Yen Thuy District   \n\n    short_district_english district_level district_level_english  \n0                   A Luoi          Huyện               District  \n1                  An Bien          Huyện               District  \n2                 An Duong          Huyện               District  \n3                   An Khe         Thị xã                   Town  \n4                   An Lao          Huyện               District  \n..                     ...            ...                    ...  \n699              Yen Phong          Huyện               District  \n700                Yen Son          Huyện               District  \n701              Yen Thanh          Huyện               District  \n702                Yen The          Huyện               District  \n703               Yen Thuy          Huyện               District  \n\n[704 rows x 10 columns]",
      "text/html": "<div>\n<style scoped>\n    .dataframe tbody tr th:only-of-type {\n        vertical-align: middle;\n    }\n\n    .dataframe tbody tr th {\n        vertical-align: top;\n    }\n\n    .dataframe thead th {\n        text-align: right;\n    }\n</style>\n<table border=\"1\" class=\"dataframe\">\n  <thead>\n    <tr style=\"text-align: right;\">\n      <th></th>\n      <th>province</th>\n      <th>district</th>\n      <th>long_district</th>\n      <th>short_district</th>\n      <th>province_english</th>\n      <th>district_english</th>\n      <th>long_district_english</th>\n      <th>short_district_english</th>\n      <th>district_level</th>\n      <th>district_level_english</th>\n    </tr>\n  </thead>\n  <tbody>\n    <tr>\n      <th>0</th>\n      <td>Thừa Thiên Huế</td>\n      <td>A Lưới</td>\n      <td>Huyện A Lưới</td>\n      <td>A Lưới</td>\n      <td>Thua Thien Hue</td>\n      <td>A Luoi</td>\n      <td>A Luoi District</td>\n      <td>A Luoi</td>\n      <td>Huyện</td>\n      <td>District</td>\n    </tr>\n    <tr>\n      <th>1</th>\n      <td>Kiên Giang</td>\n      <td>An Biên</td>\n      <td>Huyện An Biên</td>\n      <td>An Biên</td>\n      <td>Kien Giang</td>\n      <td>An Bien</td>\n      <td>An Bien District</td>\n      <td>An Bien</td>\n      <td>Huyện</td>\n      <td>District</td>\n    </tr>\n    <tr>\n      <th>2</th>\n      <td>Hải Phòng</td>\n      <td>An Dương</td>\n      <td>Huyện An Dương</td>\n      <td>An Dương</td>\n      <td>Hai Phong</td>\n      <td>An Duong</td>\n      <td>An Duong District</td>\n      <td>An Duong</td>\n      <td>Huyện</td>\n      <td>District</td>\n    </tr>\n    <tr>\n      <th>3</th>\n      <td>Gia Lai</td>\n      <td>An Khê</td>\n      <td>Thị xã An Khê</td>\n      <td>An Khê</td>\n      <td>Gia Lai</td>\n      <td>An Khe</td>\n      <td>An Khe Town</td>\n      <td>An Khe</td>\n      <td>Thị xã</td>\n      <td>Town</td>\n    </tr>\n    <tr>\n      <th>4</th>\n      <td>Hải Phòng</td>\n      <td>An Lão</td>\n      <td>Huyện An Lão</td>\n      <td>An Lão</td>\n      <td>Hai Phong</td>\n      <td>An Lao</td>\n      <td>An Lao District</td>\n      <td>An Lao</td>\n      <td>Huyện</td>\n      <td>District</td>\n    </tr>\n    <tr>\n      <th>...</th>\n      <td>...</td>\n      <td>...</td>\n      <td>...</td>\n      <td>...</td>\n      <td>...</td>\n      <td>...</td>\n      <td>...</td>\n      <td>...</td>\n      <td>...</td>\n      <td>...</td>\n    </tr>\n    <tr>\n      <th>699</th>\n      <td>Bắc Ninh</td>\n      <td>Yên Phong</td>\n      <td>Huyện Yên Phong</td>\n      <td>Yên Phong</td>\n      <td>Bac Ninh</td>\n      <td>Yen Phong</td>\n      <td>Yen Phong District</td>\n      <td>Yen Phong</td>\n      <td>Huyện</td>\n      <td>District</td>\n    </tr>\n    <tr>\n      <th>700</th>\n      <td>Tuyên Quang</td>\n      <td>Yên Sơn</td>\n      <td>Huyện Yên Sơn</td>\n      <td>Yên Sơn</td>\n      <td>Tuyen Quang</td>\n      <td>Yen Son</td>\n      <td>Yen Son District</td>\n      <td>Yen Son</td>\n      <td>Huyện</td>\n      <td>District</td>\n    </tr>\n    <tr>\n      <th>701</th>\n      <td>Nghệ An</td>\n      <td>Yên Thành</td>\n      <td>Huyện Yên Thành</td>\n      <td>Yên Thành</td>\n      <td>Nghe An</td>\n      <td>Yen Thanh</td>\n      <td>Yen Thanh District</td>\n      <td>Yen Thanh</td>\n      <td>Huyện</td>\n      <td>District</td>\n    </tr>\n    <tr>\n      <th>702</th>\n      <td>Bắc Giang</td>\n      <td>Yên Thế</td>\n      <td>Huyện Yên Thế</td>\n      <td>Yên Thế</td>\n      <td>Bac Giang</td>\n      <td>Yen The</td>\n      <td>Yen The District</td>\n      <td>Yen The</td>\n      <td>Huyện</td>\n      <td>District</td>\n    </tr>\n    <tr>\n      <th>703</th>\n      <td>Hòa Bình</td>\n      <td>Yên Thủy</td>\n      <td>Huyện Yên Thủy</td>\n      <td>Yên Thủy</td>\n      <td>Hoa Binh</td>\n      <td>Yen Thuy</td>\n      <td>Yen Thuy District</td>\n      <td>Yen Thuy</td>\n      <td>Huyện</td>\n      <td>District</td>\n    </tr>\n  </tbody>\n</table>\n<p>704 rows × 10 columns</p>\n</div>"
     },
     "execution_count": 22,
     "metadata": {},
     "output_type": "execute_result"
    }
   ],
   "source": [
    "df"
   ],
   "metadata": {
    "collapsed": false,
    "ExecuteTime": {
     "end_time": "2024-09-13T19:34:27.526950Z",
     "start_time": "2024-09-13T19:34:27.521998Z"
    }
   },
   "id": "45f8ae2722ba74d7",
   "execution_count": 22
  },
  {
   "cell_type": "code",
   "outputs": [],
   "source": [
    "# df.to_csv('../data/output/district_administrative_unit_of_vietnam.csv', index=False, encoding='utf-8')"
   ],
   "metadata": {
    "collapsed": false,
    "ExecuteTime": {
     "end_time": "2024-09-13T19:34:27.580339Z",
     "start_time": "2024-09-13T19:34:27.578687Z"
    }
   },
   "id": "3dd43d782abe18a1",
   "execution_count": 23
  },
  {
   "cell_type": "markdown",
   "source": [
    "# Ward"
   ],
   "metadata": {
    "collapsed": false
   },
   "id": "55f1cb69e232a9e9"
  },
  {
   "cell_type": "code",
   "outputs": [],
   "source": [
    "df_ward = pd.read_csv('../data/input/danhmuchanhchinhgso.gov.vn.csv')"
   ],
   "metadata": {
    "collapsed": false,
    "ExecuteTime": {
     "end_time": "2024-09-13T19:34:27.664752Z",
     "start_time": "2024-09-13T19:34:27.651744Z"
    }
   },
   "id": "bab9539901058bae",
   "execution_count": 24
  },
  {
   "cell_type": "code",
   "outputs": [
    {
     "data": {
      "text/plain": "          long_province    long_district          long_ward ward_level\n0      Thành phố Hà Nội     Quận Ba Đình     Phường Phúc Xá     Phường\n1      Thành phố Hà Nội     Quận Ba Đình   Phường Trúc Bạch     Phường\n2      Thành phố Hà Nội     Quận Ba Đình   Phường Vĩnh Phúc     Phường\n3      Thành phố Hà Nội     Quận Ba Đình     Phường Cống Vị     Phường\n4      Thành phố Hà Nội     Quận Ba Đình   Phường Liễu Giai     Phường\n...                 ...              ...                ...        ...\n10542       Tỉnh Cà Mau  Huyện Ngọc Hiển    Xã Viên An Đông         Xã\n10543       Tỉnh Cà Mau  Huyện Ngọc Hiển         Xã Viên An         Xã\n10544       Tỉnh Cà Mau  Huyện Ngọc Hiển  Thị trấn Rạch Gốc   Thị trấn\n10545       Tỉnh Cà Mau  Huyện Ngọc Hiển          Xã Tân Ân         Xã\n10546       Tỉnh Cà Mau  Huyện Ngọc Hiển         Xã Đất Mũi         Xã\n\n[10547 rows x 4 columns]",
      "text/html": "<div>\n<style scoped>\n    .dataframe tbody tr th:only-of-type {\n        vertical-align: middle;\n    }\n\n    .dataframe tbody tr th {\n        vertical-align: top;\n    }\n\n    .dataframe thead th {\n        text-align: right;\n    }\n</style>\n<table border=\"1\" class=\"dataframe\">\n  <thead>\n    <tr style=\"text-align: right;\">\n      <th></th>\n      <th>long_province</th>\n      <th>long_district</th>\n      <th>long_ward</th>\n      <th>ward_level</th>\n    </tr>\n  </thead>\n  <tbody>\n    <tr>\n      <th>0</th>\n      <td>Thành phố Hà Nội</td>\n      <td>Quận Ba Đình</td>\n      <td>Phường Phúc Xá</td>\n      <td>Phường</td>\n    </tr>\n    <tr>\n      <th>1</th>\n      <td>Thành phố Hà Nội</td>\n      <td>Quận Ba Đình</td>\n      <td>Phường Trúc Bạch</td>\n      <td>Phường</td>\n    </tr>\n    <tr>\n      <th>2</th>\n      <td>Thành phố Hà Nội</td>\n      <td>Quận Ba Đình</td>\n      <td>Phường Vĩnh Phúc</td>\n      <td>Phường</td>\n    </tr>\n    <tr>\n      <th>3</th>\n      <td>Thành phố Hà Nội</td>\n      <td>Quận Ba Đình</td>\n      <td>Phường Cống Vị</td>\n      <td>Phường</td>\n    </tr>\n    <tr>\n      <th>4</th>\n      <td>Thành phố Hà Nội</td>\n      <td>Quận Ba Đình</td>\n      <td>Phường Liễu Giai</td>\n      <td>Phường</td>\n    </tr>\n    <tr>\n      <th>...</th>\n      <td>...</td>\n      <td>...</td>\n      <td>...</td>\n      <td>...</td>\n    </tr>\n    <tr>\n      <th>10542</th>\n      <td>Tỉnh Cà Mau</td>\n      <td>Huyện Ngọc Hiển</td>\n      <td>Xã Viên An Đông</td>\n      <td>Xã</td>\n    </tr>\n    <tr>\n      <th>10543</th>\n      <td>Tỉnh Cà Mau</td>\n      <td>Huyện Ngọc Hiển</td>\n      <td>Xã Viên An</td>\n      <td>Xã</td>\n    </tr>\n    <tr>\n      <th>10544</th>\n      <td>Tỉnh Cà Mau</td>\n      <td>Huyện Ngọc Hiển</td>\n      <td>Thị trấn Rạch Gốc</td>\n      <td>Thị trấn</td>\n    </tr>\n    <tr>\n      <th>10545</th>\n      <td>Tỉnh Cà Mau</td>\n      <td>Huyện Ngọc Hiển</td>\n      <td>Xã Tân Ân</td>\n      <td>Xã</td>\n    </tr>\n    <tr>\n      <th>10546</th>\n      <td>Tỉnh Cà Mau</td>\n      <td>Huyện Ngọc Hiển</td>\n      <td>Xã Đất Mũi</td>\n      <td>Xã</td>\n    </tr>\n  </tbody>\n</table>\n<p>10547 rows × 4 columns</p>\n</div>"
     },
     "execution_count": 25,
     "metadata": {},
     "output_type": "execute_result"
    }
   ],
   "source": [
    "df_ward"
   ],
   "metadata": {
    "collapsed": false,
    "ExecuteTime": {
     "end_time": "2024-09-13T19:34:27.687301Z",
     "start_time": "2024-09-13T19:34:27.683280Z"
    }
   },
   "id": "34860233e7bddc15",
   "execution_count": 25
  },
  {
   "cell_type": "code",
   "outputs": [
    {
     "data": {
      "text/plain": "ward_level\nXã          8149\nPhường      1775\nThị trấn     618\nHuyện          5\nName: count, dtype: int64"
     },
     "execution_count": 26,
     "metadata": {},
     "output_type": "execute_result"
    }
   ],
   "source": [
    "df_ward.ward_level.value_counts(dropna=False)"
   ],
   "metadata": {
    "collapsed": false,
    "ExecuteTime": {
     "end_time": "2024-09-13T19:34:27.973656Z",
     "start_time": "2024-09-13T19:34:27.970504Z"
    }
   },
   "id": "1078d87deb004f06",
   "execution_count": 26
  },
  {
   "cell_type": "code",
   "outputs": [
    {
     "data": {
      "text/plain": "               long_province       long_district long_ward ward_level\n3795     Thành phố Hải Phòng  Huyện Bạch Long Vĩ       NaN      Huyện\n6154          Tỉnh Quảng Trị        Huyện Cồn Cỏ       NaN      Huyện\n6352       Thành phố Đà Nẵng      Huyện Hoàng Sa       NaN      Huyện\n6767         Tỉnh Quảng Ngãi        Huyện Lý Sơn       NaN      Huyện\n8632  Tỉnh Bà Rịa - Vũng Tàu       Huyện Côn Đảo       NaN      Huyện",
      "text/html": "<div>\n<style scoped>\n    .dataframe tbody tr th:only-of-type {\n        vertical-align: middle;\n    }\n\n    .dataframe tbody tr th {\n        vertical-align: top;\n    }\n\n    .dataframe thead th {\n        text-align: right;\n    }\n</style>\n<table border=\"1\" class=\"dataframe\">\n  <thead>\n    <tr style=\"text-align: right;\">\n      <th></th>\n      <th>long_province</th>\n      <th>long_district</th>\n      <th>long_ward</th>\n      <th>ward_level</th>\n    </tr>\n  </thead>\n  <tbody>\n    <tr>\n      <th>3795</th>\n      <td>Thành phố Hải Phòng</td>\n      <td>Huyện Bạch Long Vĩ</td>\n      <td>NaN</td>\n      <td>Huyện</td>\n    </tr>\n    <tr>\n      <th>6154</th>\n      <td>Tỉnh Quảng Trị</td>\n      <td>Huyện Cồn Cỏ</td>\n      <td>NaN</td>\n      <td>Huyện</td>\n    </tr>\n    <tr>\n      <th>6352</th>\n      <td>Thành phố Đà Nẵng</td>\n      <td>Huyện Hoàng Sa</td>\n      <td>NaN</td>\n      <td>Huyện</td>\n    </tr>\n    <tr>\n      <th>6767</th>\n      <td>Tỉnh Quảng Ngãi</td>\n      <td>Huyện Lý Sơn</td>\n      <td>NaN</td>\n      <td>Huyện</td>\n    </tr>\n    <tr>\n      <th>8632</th>\n      <td>Tỉnh Bà Rịa - Vũng Tàu</td>\n      <td>Huyện Côn Đảo</td>\n      <td>NaN</td>\n      <td>Huyện</td>\n    </tr>\n  </tbody>\n</table>\n</div>"
     },
     "execution_count": 27,
     "metadata": {},
     "output_type": "execute_result"
    }
   ],
   "source": [
    "df_ward[df_ward.ward_level == 'Huyện']\n",
    "# These are islands with no wards"
   ],
   "metadata": {
    "collapsed": false,
    "ExecuteTime": {
     "end_time": "2024-09-13T19:34:28.071724Z",
     "start_time": "2024-09-13T19:34:28.066650Z"
    }
   },
   "id": "e112787e4827b5bf",
   "execution_count": 27
  },
  {
   "cell_type": "code",
   "outputs": [],
   "source": [
    "def create_short_ward(text):\n",
    "    if not isinstance(text, str):\n",
    "        return text\n",
    "    \n",
    "    if not re.search(r'^Phường \\d{1,2}', text, flags=re.IGNORECASE):\n",
    "        c_text = re.sub(r'^Phường |^Thị trấn |^Xã |^Huyện', '', text, flags=re.IGNORECASE)\n",
    "    else:\n",
    "        c_text = text\n",
    "        \n",
    "    return c_text"
   ],
   "metadata": {
    "collapsed": false,
    "ExecuteTime": {
     "end_time": "2024-09-13T19:34:28.129182Z",
     "start_time": "2024-09-13T19:34:28.126977Z"
    }
   },
   "id": "66e3b9bdcf71b3cb",
   "execution_count": 28
  },
  {
   "cell_type": "code",
   "outputs": [],
   "source": [
    "def create_short_ward_english(text):\n",
    "    if not isinstance(text, str):\n",
    "        return text\n",
    "    \n",
    "    c_text = create_short_ward(text)\n",
    "    c_text = unidecode(c_text)\n",
    "    \n",
    "    if re.search(r'^Phuong \\d{1,2}', c_text, flags=re.IGNORECASE):\n",
    "        c_text = c_text.replace('Phuong', 'Ward')\n",
    "        \n",
    "    return c_text"
   ],
   "metadata": {
    "collapsed": false,
    "ExecuteTime": {
     "end_time": "2024-09-13T19:34:28.200839Z",
     "start_time": "2024-09-13T19:34:28.198845Z"
    }
   },
   "id": "afc164dfbcfdb492",
   "execution_count": 29
  },
  {
   "cell_type": "code",
   "outputs": [
    {
     "data": {
      "text/plain": "'Ward 5'"
     },
     "execution_count": 30,
     "metadata": {},
     "output_type": "execute_result"
    }
   ],
   "source": [
    "create_short_ward_english('Phường 5')"
   ],
   "metadata": {
    "collapsed": false,
    "ExecuteTime": {
     "end_time": "2024-09-13T19:34:28.457786Z",
     "start_time": "2024-09-13T19:34:28.455519Z"
    }
   },
   "id": "7138a6e36f1bdadf",
   "execution_count": 30
  },
  {
   "cell_type": "code",
   "outputs": [],
   "source": [
    "replacements = [\n",
    "    ('Thuỷ', 'Thủy'),\n",
    "    ('Thuỵ', 'Thụy'),\n",
    "    ('Đa Krông', 'Đakrông'),\n",
    "    ('Đắk Glei', 'Đăk Glei'),\n",
    "    ('Đắk Tô', 'Đăk Tô'),\n",
    "    ('Đắk Hà', 'Đăk Hà'),\n",
    "    ('KBang', 'Kbang'),\n",
    "    ('Quí', 'Quý'),\n",
    "    ('Hoà', 'Hòa'),\n",
    "    ('Đăk Đoa', 'Đak Đoa'),\n",
    "    ('Đăk Pơ', 'Đak Pơ'),\n",
    "    (\"M'Đrắk\", \"M'Drắk\"),\n",
    "    ('Krông A Na', 'Krông Ana'),\n",
    "    ('Đăk Glong', 'Đắk Glong'),\n",
    "    (\"Đắk R'Lấp\", \"Đắk R'lấp\"),\n",
    "    ('Căng Chải', 'Cang Chải')\n",
    "]"
   ],
   "metadata": {
    "collapsed": false,
    "ExecuteTime": {
     "end_time": "2024-09-13T19:34:28.562053Z",
     "start_time": "2024-09-13T19:34:28.559649Z"
    }
   },
   "id": "b3b47be8291f419f",
   "execution_count": 31
  },
  {
   "cell_type": "code",
   "outputs": [],
   "source": [
    "def fix_grammar(text):\n",
    "    if not isinstance(text, str):\n",
    "        return text\n",
    "    c_text = text.strip()\n",
    "    \n",
    "    for replacement in replacements:\n",
    "        c_text = re.sub(rf'\\b{replacement[0]}\\b', replacement[1], c_text)\n",
    "\n",
    "    c_text = re.sub(r'^Thị Xã', 'Thị xã', c_text)\n",
    "    c_text = re.sub(r'^Thành Phố', 'Thành phố', c_text)\n",
    "    c_text = re.sub(r'^Thị Trấn', 'Thị trấn', c_text)\n",
    "    c_text = c_text.replace('-', ' - ').replace('  ', ' ').replace('0', '').replace(\"' \", \"'\")\n",
    "    return c_text"
   ],
   "metadata": {
    "collapsed": false,
    "ExecuteTime": {
     "end_time": "2024-09-13T19:34:28.671234Z",
     "start_time": "2024-09-13T19:34:28.668664Z"
    }
   },
   "id": "2b8a270f56d0a5ea",
   "execution_count": 32
  },
  {
   "cell_type": "code",
   "outputs": [
    {
     "data": {
      "text/plain": "'Thị xã Quý'"
     },
     "execution_count": 33,
     "metadata": {},
     "output_type": "execute_result"
    }
   ],
   "source": [
    "fix_grammar('Thị Xã Quí')"
   ],
   "metadata": {
    "collapsed": false,
    "ExecuteTime": {
     "end_time": "2024-09-13T19:34:28.784145Z",
     "start_time": "2024-09-13T19:34:28.780181Z"
    }
   },
   "id": "768c9c72ce624150",
   "execution_count": 33
  },
  {
   "cell_type": "code",
   "outputs": [],
   "source": [
    "def create_province(text):\n",
    "    c_text = str(text).title().strip()\n",
    "    c_text = re.sub(r'\\sProvince$|^Tỉnh\\s|^Thành\\sPhố\\s|\\sCity$', '', c_text, flags=re.IGNORECASE)\n",
    "\n",
    "    return c_text"
   ],
   "metadata": {
    "collapsed": false,
    "ExecuteTime": {
     "end_time": "2024-09-13T19:34:28.859124Z",
     "start_time": "2024-09-13T19:34:28.856823Z"
    }
   },
   "id": "c2cccd559d924474",
   "execution_count": 34
  },
  {
   "cell_type": "code",
   "outputs": [],
   "source": [
    "df_ward['province'] = df_ward['long_province'].apply(create_province)"
   ],
   "metadata": {
    "collapsed": false,
    "ExecuteTime": {
     "end_time": "2024-09-13T19:34:28.878910Z",
     "start_time": "2024-09-13T19:34:28.867727Z"
    }
   },
   "id": "4225d9e3d7c31c00",
   "execution_count": 35
  },
  {
   "cell_type": "code",
   "outputs": [],
   "source": [
    "for col in df_ward.columns.tolist():\n",
    "    df_ward[col] = df_ward[col].apply(fix_grammar)"
   ],
   "metadata": {
    "collapsed": false,
    "ExecuteTime": {
     "end_time": "2024-09-13T19:34:29.309406Z",
     "start_time": "2024-09-13T19:34:28.937718Z"
    }
   },
   "id": "36ee8794f1ff54f0",
   "execution_count": 36
  },
  {
   "cell_type": "code",
   "outputs": [],
   "source": [
    "df_ward['short_ward'] = df_ward['long_ward'].apply(create_short_ward)\n",
    "df_ward['short_ward_english'] = df_ward['long_ward'].apply(create_short_ward_english)"
   ],
   "metadata": {
    "collapsed": false,
    "ExecuteTime": {
     "end_time": "2024-09-13T19:34:29.348659Z",
     "start_time": "2024-09-13T19:34:29.310252Z"
    }
   },
   "id": "626e67cce1af6e9f",
   "execution_count": 37
  },
  {
   "cell_type": "code",
   "outputs": [
    {
     "data": {
      "text/plain": "          long_province    long_district          long_ward ward_level  \\\n0      Thành phố Hà Nội     Quận Ba Đình     Phường Phúc Xá     Phường   \n1      Thành phố Hà Nội     Quận Ba Đình   Phường Trúc Bạch     Phường   \n2      Thành phố Hà Nội     Quận Ba Đình   Phường Vĩnh Phúc     Phường   \n3      Thành phố Hà Nội     Quận Ba Đình     Phường Cống Vị     Phường   \n4      Thành phố Hà Nội     Quận Ba Đình   Phường Liễu Giai     Phường   \n...                 ...              ...                ...        ...   \n10542       Tỉnh Cà Mau  Huyện Ngọc Hiển    Xã Viên An Đông         Xã   \n10543       Tỉnh Cà Mau  Huyện Ngọc Hiển         Xã Viên An         Xã   \n10544       Tỉnh Cà Mau  Huyện Ngọc Hiển  Thị trấn Rạch Gốc   Thị trấn   \n10545       Tỉnh Cà Mau  Huyện Ngọc Hiển          Xã Tân Ân         Xã   \n10546       Tỉnh Cà Mau  Huyện Ngọc Hiển         Xã Đất Mũi         Xã   \n\n      province    short_ward short_ward_english  \n0       Hà Nội       Phúc Xá            Phuc Xa  \n1       Hà Nội     Trúc Bạch          Truc Bach  \n2       Hà Nội     Vĩnh Phúc          Vinh Phuc  \n3       Hà Nội       Cống Vị            Cong Vi  \n4       Hà Nội     Liễu Giai          Lieu Giai  \n...        ...           ...                ...  \n10542   Cà Mau  Viên An Đông       Vien An Dong  \n10543   Cà Mau       Viên An            Vien An  \n10544   Cà Mau      Rạch Gốc           Rach Goc  \n10545   Cà Mau        Tân Ân             Tan An  \n10546   Cà Mau       Đất Mũi            Dat Mui  \n\n[10547 rows x 7 columns]",
      "text/html": "<div>\n<style scoped>\n    .dataframe tbody tr th:only-of-type {\n        vertical-align: middle;\n    }\n\n    .dataframe tbody tr th {\n        vertical-align: top;\n    }\n\n    .dataframe thead th {\n        text-align: right;\n    }\n</style>\n<table border=\"1\" class=\"dataframe\">\n  <thead>\n    <tr style=\"text-align: right;\">\n      <th></th>\n      <th>long_province</th>\n      <th>long_district</th>\n      <th>long_ward</th>\n      <th>ward_level</th>\n      <th>province</th>\n      <th>short_ward</th>\n      <th>short_ward_english</th>\n    </tr>\n  </thead>\n  <tbody>\n    <tr>\n      <th>0</th>\n      <td>Thành phố Hà Nội</td>\n      <td>Quận Ba Đình</td>\n      <td>Phường Phúc Xá</td>\n      <td>Phường</td>\n      <td>Hà Nội</td>\n      <td>Phúc Xá</td>\n      <td>Phuc Xa</td>\n    </tr>\n    <tr>\n      <th>1</th>\n      <td>Thành phố Hà Nội</td>\n      <td>Quận Ba Đình</td>\n      <td>Phường Trúc Bạch</td>\n      <td>Phường</td>\n      <td>Hà Nội</td>\n      <td>Trúc Bạch</td>\n      <td>Truc Bach</td>\n    </tr>\n    <tr>\n      <th>2</th>\n      <td>Thành phố Hà Nội</td>\n      <td>Quận Ba Đình</td>\n      <td>Phường Vĩnh Phúc</td>\n      <td>Phường</td>\n      <td>Hà Nội</td>\n      <td>Vĩnh Phúc</td>\n      <td>Vinh Phuc</td>\n    </tr>\n    <tr>\n      <th>3</th>\n      <td>Thành phố Hà Nội</td>\n      <td>Quận Ba Đình</td>\n      <td>Phường Cống Vị</td>\n      <td>Phường</td>\n      <td>Hà Nội</td>\n      <td>Cống Vị</td>\n      <td>Cong Vi</td>\n    </tr>\n    <tr>\n      <th>4</th>\n      <td>Thành phố Hà Nội</td>\n      <td>Quận Ba Đình</td>\n      <td>Phường Liễu Giai</td>\n      <td>Phường</td>\n      <td>Hà Nội</td>\n      <td>Liễu Giai</td>\n      <td>Lieu Giai</td>\n    </tr>\n    <tr>\n      <th>...</th>\n      <td>...</td>\n      <td>...</td>\n      <td>...</td>\n      <td>...</td>\n      <td>...</td>\n      <td>...</td>\n      <td>...</td>\n    </tr>\n    <tr>\n      <th>10542</th>\n      <td>Tỉnh Cà Mau</td>\n      <td>Huyện Ngọc Hiển</td>\n      <td>Xã Viên An Đông</td>\n      <td>Xã</td>\n      <td>Cà Mau</td>\n      <td>Viên An Đông</td>\n      <td>Vien An Dong</td>\n    </tr>\n    <tr>\n      <th>10543</th>\n      <td>Tỉnh Cà Mau</td>\n      <td>Huyện Ngọc Hiển</td>\n      <td>Xã Viên An</td>\n      <td>Xã</td>\n      <td>Cà Mau</td>\n      <td>Viên An</td>\n      <td>Vien An</td>\n    </tr>\n    <tr>\n      <th>10544</th>\n      <td>Tỉnh Cà Mau</td>\n      <td>Huyện Ngọc Hiển</td>\n      <td>Thị trấn Rạch Gốc</td>\n      <td>Thị trấn</td>\n      <td>Cà Mau</td>\n      <td>Rạch Gốc</td>\n      <td>Rach Goc</td>\n    </tr>\n    <tr>\n      <th>10545</th>\n      <td>Tỉnh Cà Mau</td>\n      <td>Huyện Ngọc Hiển</td>\n      <td>Xã Tân Ân</td>\n      <td>Xã</td>\n      <td>Cà Mau</td>\n      <td>Tân Ân</td>\n      <td>Tan An</td>\n    </tr>\n    <tr>\n      <th>10546</th>\n      <td>Tỉnh Cà Mau</td>\n      <td>Huyện Ngọc Hiển</td>\n      <td>Xã Đất Mũi</td>\n      <td>Xã</td>\n      <td>Cà Mau</td>\n      <td>Đất Mũi</td>\n      <td>Dat Mui</td>\n    </tr>\n  </tbody>\n</table>\n<p>10547 rows × 7 columns</p>\n</div>"
     },
     "execution_count": 38,
     "metadata": {},
     "output_type": "execute_result"
    }
   ],
   "source": [
    "df_ward"
   ],
   "metadata": {
    "collapsed": false,
    "ExecuteTime": {
     "end_time": "2024-09-13T19:34:29.353849Z",
     "start_time": "2024-09-13T19:34:29.349370Z"
    }
   },
   "id": "7bf394d392ebd7d3",
   "execution_count": 38
  },
  {
   "cell_type": "code",
   "outputs": [],
   "source": [
    "ward_count = df_ward[['long_province', 'long_district', 'short_ward']].value_counts().reset_index()"
   ],
   "metadata": {
    "collapsed": false,
    "ExecuteTime": {
     "end_time": "2024-09-13T19:34:29.365320Z",
     "start_time": "2024-09-13T19:34:29.354946Z"
    }
   },
   "id": "a5d8592c879ed717",
   "execution_count": 39
  },
  {
   "cell_type": "code",
   "outputs": [],
   "source": [
    "df_duplicated_wards = ward_count[ward_count['count'] > 1]"
   ],
   "metadata": {
    "collapsed": false,
    "ExecuteTime": {
     "end_time": "2024-09-13T19:34:29.368319Z",
     "start_time": "2024-09-13T19:34:29.366003Z"
    }
   },
   "id": "f9ddf9a2d60c39f1",
   "execution_count": 40
  },
  {
   "cell_type": "code",
   "outputs": [
    {
     "data": {
      "text/plain": "             long_province        long_district       short_ward  count\n0            Tỉnh Bạc Liêu     Huyện Phước Long       Phước Long      2\n1           Tỉnh Sóc Trăng       Huyện Long Phú         Long Phú      2\n2          Tỉnh Tiền Giang     Thành phố Mỹ Tho         Phường 1      2\n3             Tỉnh Yên Bái       Huyện Trạm Tấu         Trạm Tấu      2\n4             Tỉnh Yên Bái       Huyện Yên Bình         Yên Bình      2\n5   Tỉnh Bà Rịa - Vũng Tàu   Thành phố Vũng Tàu         Phường 1      2\n6    Thành phố Hồ Chí Minh               Quận 6         Phường 1      2\n7            Tỉnh Lai Châu       Huyện Mường Tè         Mường Tè      2\n8            Tỉnh Trà Vinh         Huyện Trà Cú          Định An      2\n9    Thành phố Hồ Chí Minh              Quận 11         Phường 1      2\n10   Thành phố Hồ Chí Minh       Quận Phú Nhuận         Phường 1      2\n11        Thành phố Hà Nội        Huyện Gia Lâm         Yên Viên      2\n12           Tỉnh Lâm Đồng     Thành phố Đà Lạt         Phường 1      2\n13             Tỉnh Sơn La        Huyện Mai Sơn          Hát Lót      2\n14          Tỉnh Đồng Tháp      Huyện Tháp Mười            Mỹ An      2\n15            Tỉnh Long An        Huyện Đức Hòa         Hiệp Hòa      2\n16          Tỉnh Đồng Tháp       Huyện Cao Lãnh           Mỹ Thọ      2\n17   Thành phố Hồ Chí Minh        Quận Tân Bình         Phường 1      2\n18   Thành phố Hồ Chí Minh               Quận 8         Phường 1      2\n19   Thành phố Hồ Chí Minh               Quận 1         Phường 1      2\n20          Tỉnh Sóc Trăng        Huyện Trần Đề  Lịch Hội Thượng      2\n21           Tỉnh Lạng Sơn       Huyện Đình Lập         Đình Lập      2\n22         Tỉnh Quảng Ninh         Huyện Đầm Hà           Đầm Hà      2\n23   Thành phố Hồ Chí Minh               Quận 3         Phường 1      2\n24         Tỉnh Kiên Giang     Huyện Vĩnh Thuận       Vĩnh Thuận      2\n25   Thành phố Hồ Chí Minh          Quận Gò Vấp         Phường 1      2\n26   Thành phố Hồ Chí Minh               Quận 4         Phường 1      2\n27           Tỉnh Lạng Sơn       Huyện Chi Lăng         Chi Lăng      2\n28             Tỉnh Cà Mau      Huyện Thới Bình        Thới Bình      2\n29          Tỉnh Sóc Trăng  Thành phố Sóc Trăng         Phường 1      2\n30             Tỉnh Cà Mau     Thành phố Cà Mau        Tân Thành      2\n31           Tỉnh Lâm Đồng       Huyện Đạ Huoai       Ma Đa Guôi      2\n32   Thành phố Hồ Chí Minh               Quận 5         Phường 1      2",
      "text/html": "<div>\n<style scoped>\n    .dataframe tbody tr th:only-of-type {\n        vertical-align: middle;\n    }\n\n    .dataframe tbody tr th {\n        vertical-align: top;\n    }\n\n    .dataframe thead th {\n        text-align: right;\n    }\n</style>\n<table border=\"1\" class=\"dataframe\">\n  <thead>\n    <tr style=\"text-align: right;\">\n      <th></th>\n      <th>long_province</th>\n      <th>long_district</th>\n      <th>short_ward</th>\n      <th>count</th>\n    </tr>\n  </thead>\n  <tbody>\n    <tr>\n      <th>0</th>\n      <td>Tỉnh Bạc Liêu</td>\n      <td>Huyện Phước Long</td>\n      <td>Phước Long</td>\n      <td>2</td>\n    </tr>\n    <tr>\n      <th>1</th>\n      <td>Tỉnh Sóc Trăng</td>\n      <td>Huyện Long Phú</td>\n      <td>Long Phú</td>\n      <td>2</td>\n    </tr>\n    <tr>\n      <th>2</th>\n      <td>Tỉnh Tiền Giang</td>\n      <td>Thành phố Mỹ Tho</td>\n      <td>Phường 1</td>\n      <td>2</td>\n    </tr>\n    <tr>\n      <th>3</th>\n      <td>Tỉnh Yên Bái</td>\n      <td>Huyện Trạm Tấu</td>\n      <td>Trạm Tấu</td>\n      <td>2</td>\n    </tr>\n    <tr>\n      <th>4</th>\n      <td>Tỉnh Yên Bái</td>\n      <td>Huyện Yên Bình</td>\n      <td>Yên Bình</td>\n      <td>2</td>\n    </tr>\n    <tr>\n      <th>5</th>\n      <td>Tỉnh Bà Rịa - Vũng Tàu</td>\n      <td>Thành phố Vũng Tàu</td>\n      <td>Phường 1</td>\n      <td>2</td>\n    </tr>\n    <tr>\n      <th>6</th>\n      <td>Thành phố Hồ Chí Minh</td>\n      <td>Quận 6</td>\n      <td>Phường 1</td>\n      <td>2</td>\n    </tr>\n    <tr>\n      <th>7</th>\n      <td>Tỉnh Lai Châu</td>\n      <td>Huyện Mường Tè</td>\n      <td>Mường Tè</td>\n      <td>2</td>\n    </tr>\n    <tr>\n      <th>8</th>\n      <td>Tỉnh Trà Vinh</td>\n      <td>Huyện Trà Cú</td>\n      <td>Định An</td>\n      <td>2</td>\n    </tr>\n    <tr>\n      <th>9</th>\n      <td>Thành phố Hồ Chí Minh</td>\n      <td>Quận 11</td>\n      <td>Phường 1</td>\n      <td>2</td>\n    </tr>\n    <tr>\n      <th>10</th>\n      <td>Thành phố Hồ Chí Minh</td>\n      <td>Quận Phú Nhuận</td>\n      <td>Phường 1</td>\n      <td>2</td>\n    </tr>\n    <tr>\n      <th>11</th>\n      <td>Thành phố Hà Nội</td>\n      <td>Huyện Gia Lâm</td>\n      <td>Yên Viên</td>\n      <td>2</td>\n    </tr>\n    <tr>\n      <th>12</th>\n      <td>Tỉnh Lâm Đồng</td>\n      <td>Thành phố Đà Lạt</td>\n      <td>Phường 1</td>\n      <td>2</td>\n    </tr>\n    <tr>\n      <th>13</th>\n      <td>Tỉnh Sơn La</td>\n      <td>Huyện Mai Sơn</td>\n      <td>Hát Lót</td>\n      <td>2</td>\n    </tr>\n    <tr>\n      <th>14</th>\n      <td>Tỉnh Đồng Tháp</td>\n      <td>Huyện Tháp Mười</td>\n      <td>Mỹ An</td>\n      <td>2</td>\n    </tr>\n    <tr>\n      <th>15</th>\n      <td>Tỉnh Long An</td>\n      <td>Huyện Đức Hòa</td>\n      <td>Hiệp Hòa</td>\n      <td>2</td>\n    </tr>\n    <tr>\n      <th>16</th>\n      <td>Tỉnh Đồng Tháp</td>\n      <td>Huyện Cao Lãnh</td>\n      <td>Mỹ Thọ</td>\n      <td>2</td>\n    </tr>\n    <tr>\n      <th>17</th>\n      <td>Thành phố Hồ Chí Minh</td>\n      <td>Quận Tân Bình</td>\n      <td>Phường 1</td>\n      <td>2</td>\n    </tr>\n    <tr>\n      <th>18</th>\n      <td>Thành phố Hồ Chí Minh</td>\n      <td>Quận 8</td>\n      <td>Phường 1</td>\n      <td>2</td>\n    </tr>\n    <tr>\n      <th>19</th>\n      <td>Thành phố Hồ Chí Minh</td>\n      <td>Quận 1</td>\n      <td>Phường 1</td>\n      <td>2</td>\n    </tr>\n    <tr>\n      <th>20</th>\n      <td>Tỉnh Sóc Trăng</td>\n      <td>Huyện Trần Đề</td>\n      <td>Lịch Hội Thượng</td>\n      <td>2</td>\n    </tr>\n    <tr>\n      <th>21</th>\n      <td>Tỉnh Lạng Sơn</td>\n      <td>Huyện Đình Lập</td>\n      <td>Đình Lập</td>\n      <td>2</td>\n    </tr>\n    <tr>\n      <th>22</th>\n      <td>Tỉnh Quảng Ninh</td>\n      <td>Huyện Đầm Hà</td>\n      <td>Đầm Hà</td>\n      <td>2</td>\n    </tr>\n    <tr>\n      <th>23</th>\n      <td>Thành phố Hồ Chí Minh</td>\n      <td>Quận 3</td>\n      <td>Phường 1</td>\n      <td>2</td>\n    </tr>\n    <tr>\n      <th>24</th>\n      <td>Tỉnh Kiên Giang</td>\n      <td>Huyện Vĩnh Thuận</td>\n      <td>Vĩnh Thuận</td>\n      <td>2</td>\n    </tr>\n    <tr>\n      <th>25</th>\n      <td>Thành phố Hồ Chí Minh</td>\n      <td>Quận Gò Vấp</td>\n      <td>Phường 1</td>\n      <td>2</td>\n    </tr>\n    <tr>\n      <th>26</th>\n      <td>Thành phố Hồ Chí Minh</td>\n      <td>Quận 4</td>\n      <td>Phường 1</td>\n      <td>2</td>\n    </tr>\n    <tr>\n      <th>27</th>\n      <td>Tỉnh Lạng Sơn</td>\n      <td>Huyện Chi Lăng</td>\n      <td>Chi Lăng</td>\n      <td>2</td>\n    </tr>\n    <tr>\n      <th>28</th>\n      <td>Tỉnh Cà Mau</td>\n      <td>Huyện Thới Bình</td>\n      <td>Thới Bình</td>\n      <td>2</td>\n    </tr>\n    <tr>\n      <th>29</th>\n      <td>Tỉnh Sóc Trăng</td>\n      <td>Thành phố Sóc Trăng</td>\n      <td>Phường 1</td>\n      <td>2</td>\n    </tr>\n    <tr>\n      <th>30</th>\n      <td>Tỉnh Cà Mau</td>\n      <td>Thành phố Cà Mau</td>\n      <td>Tân Thành</td>\n      <td>2</td>\n    </tr>\n    <tr>\n      <th>31</th>\n      <td>Tỉnh Lâm Đồng</td>\n      <td>Huyện Đạ Huoai</td>\n      <td>Ma Đa Guôi</td>\n      <td>2</td>\n    </tr>\n    <tr>\n      <th>32</th>\n      <td>Thành phố Hồ Chí Minh</td>\n      <td>Quận 5</td>\n      <td>Phường 1</td>\n      <td>2</td>\n    </tr>\n  </tbody>\n</table>\n</div>"
     },
     "execution_count": 41,
     "metadata": {},
     "output_type": "execute_result"
    }
   ],
   "source": [
    "df_duplicated_wards"
   ],
   "metadata": {
    "collapsed": false,
    "ExecuteTime": {
     "end_time": "2024-09-13T19:34:29.372984Z",
     "start_time": "2024-09-13T19:34:29.368805Z"
    }
   },
   "id": "9855a62c6d28ca48",
   "execution_count": 41
  },
  {
   "cell_type": "code",
   "outputs": [
    {
     "data": {
      "text/plain": "          long_province    long_district        long_ward ward_level province  \\\n177    Thành phố Hà Nội    Huyện Gia Lâm    Xã Yên Thường         Xã   Hà Nội   \n179    Thành phố Hà Nội    Huyện Gia Lâm     Xã Ninh Hiệp         Xã   Hà Nội   \n180    Thành phố Hà Nội    Huyện Gia Lâm    Xã Đình Xuyên         Xã   Hà Nội   \n181    Thành phố Hà Nội    Huyện Gia Lâm      Xã Dương Hà         Xã   Hà Nội   \n182    Thành phố Hà Nội    Huyện Gia Lâm      Xã Phù Đổng         Xã   Hà Nội   \n...                 ...              ...              ...        ...      ...   \n10478       Tỉnh Cà Mau  Huyện Thới Bình       Xã Tân Phú         Xã   Cà Mau   \n10479       Tỉnh Cà Mau  Huyện Thới Bình   Xã Tân Lộc Bắc         Xã   Cà Mau   \n10480       Tỉnh Cà Mau  Huyện Thới Bình       Xã Tân Lộc         Xã   Cà Mau   \n10481       Tỉnh Cà Mau  Huyện Thới Bình  Xã Tân Lộc Đông         Xã   Cà Mau   \n10482       Tỉnh Cà Mau  Huyện Thới Bình     Xã Hồ Thị Kỷ         Xã   Cà Mau   \n\n         short_ward short_ward_english  \n177      Yên Thường         Yen Thuong  \n179       Ninh Hiệp          Ninh Hiep  \n180      Đình Xuyên         Dinh Xuyen  \n181        Dương Hà           Duong Ha  \n182        Phù Đổng           Phu Dong  \n...             ...                ...  \n10478       Tân Phú            Tan Phu  \n10479   Tân Lộc Bắc        Tan Loc Bac  \n10480       Tân Lộc            Tan Loc  \n10481  Tân Lộc Đông       Tan Loc Dong  \n10482     Hồ Thị Kỷ          Ho Thi Ky  \n\n[424 rows x 7 columns]",
      "text/html": "<div>\n<style scoped>\n    .dataframe tbody tr th:only-of-type {\n        vertical-align: middle;\n    }\n\n    .dataframe tbody tr th {\n        vertical-align: top;\n    }\n\n    .dataframe thead th {\n        text-align: right;\n    }\n</style>\n<table border=\"1\" class=\"dataframe\">\n  <thead>\n    <tr style=\"text-align: right;\">\n      <th></th>\n      <th>long_province</th>\n      <th>long_district</th>\n      <th>long_ward</th>\n      <th>ward_level</th>\n      <th>province</th>\n      <th>short_ward</th>\n      <th>short_ward_english</th>\n    </tr>\n  </thead>\n  <tbody>\n    <tr>\n      <th>177</th>\n      <td>Thành phố Hà Nội</td>\n      <td>Huyện Gia Lâm</td>\n      <td>Xã Yên Thường</td>\n      <td>Xã</td>\n      <td>Hà Nội</td>\n      <td>Yên Thường</td>\n      <td>Yen Thuong</td>\n    </tr>\n    <tr>\n      <th>179</th>\n      <td>Thành phố Hà Nội</td>\n      <td>Huyện Gia Lâm</td>\n      <td>Xã Ninh Hiệp</td>\n      <td>Xã</td>\n      <td>Hà Nội</td>\n      <td>Ninh Hiệp</td>\n      <td>Ninh Hiep</td>\n    </tr>\n    <tr>\n      <th>180</th>\n      <td>Thành phố Hà Nội</td>\n      <td>Huyện Gia Lâm</td>\n      <td>Xã Đình Xuyên</td>\n      <td>Xã</td>\n      <td>Hà Nội</td>\n      <td>Đình Xuyên</td>\n      <td>Dinh Xuyen</td>\n    </tr>\n    <tr>\n      <th>181</th>\n      <td>Thành phố Hà Nội</td>\n      <td>Huyện Gia Lâm</td>\n      <td>Xã Dương Hà</td>\n      <td>Xã</td>\n      <td>Hà Nội</td>\n      <td>Dương Hà</td>\n      <td>Duong Ha</td>\n    </tr>\n    <tr>\n      <th>182</th>\n      <td>Thành phố Hà Nội</td>\n      <td>Huyện Gia Lâm</td>\n      <td>Xã Phù Đổng</td>\n      <td>Xã</td>\n      <td>Hà Nội</td>\n      <td>Phù Đổng</td>\n      <td>Phu Dong</td>\n    </tr>\n    <tr>\n      <th>...</th>\n      <td>...</td>\n      <td>...</td>\n      <td>...</td>\n      <td>...</td>\n      <td>...</td>\n      <td>...</td>\n      <td>...</td>\n    </tr>\n    <tr>\n      <th>10478</th>\n      <td>Tỉnh Cà Mau</td>\n      <td>Huyện Thới Bình</td>\n      <td>Xã Tân Phú</td>\n      <td>Xã</td>\n      <td>Cà Mau</td>\n      <td>Tân Phú</td>\n      <td>Tan Phu</td>\n    </tr>\n    <tr>\n      <th>10479</th>\n      <td>Tỉnh Cà Mau</td>\n      <td>Huyện Thới Bình</td>\n      <td>Xã Tân Lộc Bắc</td>\n      <td>Xã</td>\n      <td>Cà Mau</td>\n      <td>Tân Lộc Bắc</td>\n      <td>Tan Loc Bac</td>\n    </tr>\n    <tr>\n      <th>10480</th>\n      <td>Tỉnh Cà Mau</td>\n      <td>Huyện Thới Bình</td>\n      <td>Xã Tân Lộc</td>\n      <td>Xã</td>\n      <td>Cà Mau</td>\n      <td>Tân Lộc</td>\n      <td>Tan Loc</td>\n    </tr>\n    <tr>\n      <th>10481</th>\n      <td>Tỉnh Cà Mau</td>\n      <td>Huyện Thới Bình</td>\n      <td>Xã Tân Lộc Đông</td>\n      <td>Xã</td>\n      <td>Cà Mau</td>\n      <td>Tân Lộc Đông</td>\n      <td>Tan Loc Dong</td>\n    </tr>\n    <tr>\n      <th>10482</th>\n      <td>Tỉnh Cà Mau</td>\n      <td>Huyện Thới Bình</td>\n      <td>Xã Hồ Thị Kỷ</td>\n      <td>Xã</td>\n      <td>Cà Mau</td>\n      <td>Hồ Thị Kỷ</td>\n      <td>Ho Thi Ky</td>\n    </tr>\n  </tbody>\n</table>\n<p>424 rows × 7 columns</p>\n</div>"
     },
     "execution_count": 42,
     "metadata": {},
     "output_type": "execute_result"
    }
   ],
   "source": [
    "df_ward[(df_ward.long_province.isin(df_duplicated_wards.long_province)) & (df_ward.long_district.isin(df_duplicated_wards.long_district)) & (~df_ward.short_ward.isin(df_duplicated_wards.short_ward))]"
   ],
   "metadata": {
    "collapsed": false,
    "ExecuteTime": {
     "end_time": "2024-09-13T19:34:29.379794Z",
     "start_time": "2024-09-13T19:34:29.373690Z"
    }
   },
   "id": "d93524369271e3e9",
   "execution_count": 42
  },
  {
   "cell_type": "code",
   "outputs": [],
   "source": [
    "ward_level_english = {\n",
    "    'Xã': 'Commune',\n",
    "    'Thị trấn': 'Town',\n",
    "    'Phường': 'Ward',\n",
    "    'Huyện': 'District'\n",
    "}"
   ],
   "metadata": {
    "collapsed": false,
    "ExecuteTime": {
     "end_time": "2024-09-13T19:34:29.381889Z",
     "start_time": "2024-09-13T19:34:29.380460Z"
    }
   },
   "id": "6706cd6c025dda57",
   "execution_count": 43
  },
  {
   "cell_type": "code",
   "outputs": [],
   "source": [
    "df_ward['ward_level_english'] = df_ward['ward_level'].map(ward_level_english)"
   ],
   "metadata": {
    "collapsed": false,
    "ExecuteTime": {
     "end_time": "2024-09-13T19:34:29.385310Z",
     "start_time": "2024-09-13T19:34:29.383144Z"
    }
   },
   "id": "52b631e0809eb599",
   "execution_count": 44
  },
  {
   "cell_type": "code",
   "outputs": [
    {
     "data": {
      "text/plain": "          long_province    long_district          long_ward ward_level  \\\n0      Thành phố Hà Nội     Quận Ba Đình     Phường Phúc Xá     Phường   \n1      Thành phố Hà Nội     Quận Ba Đình   Phường Trúc Bạch     Phường   \n2      Thành phố Hà Nội     Quận Ba Đình   Phường Vĩnh Phúc     Phường   \n3      Thành phố Hà Nội     Quận Ba Đình     Phường Cống Vị     Phường   \n4      Thành phố Hà Nội     Quận Ba Đình   Phường Liễu Giai     Phường   \n...                 ...              ...                ...        ...   \n10542       Tỉnh Cà Mau  Huyện Ngọc Hiển    Xã Viên An Đông         Xã   \n10543       Tỉnh Cà Mau  Huyện Ngọc Hiển         Xã Viên An         Xã   \n10544       Tỉnh Cà Mau  Huyện Ngọc Hiển  Thị trấn Rạch Gốc   Thị trấn   \n10545       Tỉnh Cà Mau  Huyện Ngọc Hiển          Xã Tân Ân         Xã   \n10546       Tỉnh Cà Mau  Huyện Ngọc Hiển         Xã Đất Mũi         Xã   \n\n      province    short_ward short_ward_english ward_level_english  \n0       Hà Nội       Phúc Xá            Phuc Xa               Ward  \n1       Hà Nội     Trúc Bạch          Truc Bach               Ward  \n2       Hà Nội     Vĩnh Phúc          Vinh Phuc               Ward  \n3       Hà Nội       Cống Vị            Cong Vi               Ward  \n4       Hà Nội     Liễu Giai          Lieu Giai               Ward  \n...        ...           ...                ...                ...  \n10542   Cà Mau  Viên An Đông       Vien An Dong            Commune  \n10543   Cà Mau       Viên An            Vien An            Commune  \n10544   Cà Mau      Rạch Gốc           Rach Goc               Town  \n10545   Cà Mau        Tân Ân             Tan An            Commune  \n10546   Cà Mau       Đất Mũi            Dat Mui            Commune  \n\n[10547 rows x 8 columns]",
      "text/html": "<div>\n<style scoped>\n    .dataframe tbody tr th:only-of-type {\n        vertical-align: middle;\n    }\n\n    .dataframe tbody tr th {\n        vertical-align: top;\n    }\n\n    .dataframe thead th {\n        text-align: right;\n    }\n</style>\n<table border=\"1\" class=\"dataframe\">\n  <thead>\n    <tr style=\"text-align: right;\">\n      <th></th>\n      <th>long_province</th>\n      <th>long_district</th>\n      <th>long_ward</th>\n      <th>ward_level</th>\n      <th>province</th>\n      <th>short_ward</th>\n      <th>short_ward_english</th>\n      <th>ward_level_english</th>\n    </tr>\n  </thead>\n  <tbody>\n    <tr>\n      <th>0</th>\n      <td>Thành phố Hà Nội</td>\n      <td>Quận Ba Đình</td>\n      <td>Phường Phúc Xá</td>\n      <td>Phường</td>\n      <td>Hà Nội</td>\n      <td>Phúc Xá</td>\n      <td>Phuc Xa</td>\n      <td>Ward</td>\n    </tr>\n    <tr>\n      <th>1</th>\n      <td>Thành phố Hà Nội</td>\n      <td>Quận Ba Đình</td>\n      <td>Phường Trúc Bạch</td>\n      <td>Phường</td>\n      <td>Hà Nội</td>\n      <td>Trúc Bạch</td>\n      <td>Truc Bach</td>\n      <td>Ward</td>\n    </tr>\n    <tr>\n      <th>2</th>\n      <td>Thành phố Hà Nội</td>\n      <td>Quận Ba Đình</td>\n      <td>Phường Vĩnh Phúc</td>\n      <td>Phường</td>\n      <td>Hà Nội</td>\n      <td>Vĩnh Phúc</td>\n      <td>Vinh Phuc</td>\n      <td>Ward</td>\n    </tr>\n    <tr>\n      <th>3</th>\n      <td>Thành phố Hà Nội</td>\n      <td>Quận Ba Đình</td>\n      <td>Phường Cống Vị</td>\n      <td>Phường</td>\n      <td>Hà Nội</td>\n      <td>Cống Vị</td>\n      <td>Cong Vi</td>\n      <td>Ward</td>\n    </tr>\n    <tr>\n      <th>4</th>\n      <td>Thành phố Hà Nội</td>\n      <td>Quận Ba Đình</td>\n      <td>Phường Liễu Giai</td>\n      <td>Phường</td>\n      <td>Hà Nội</td>\n      <td>Liễu Giai</td>\n      <td>Lieu Giai</td>\n      <td>Ward</td>\n    </tr>\n    <tr>\n      <th>...</th>\n      <td>...</td>\n      <td>...</td>\n      <td>...</td>\n      <td>...</td>\n      <td>...</td>\n      <td>...</td>\n      <td>...</td>\n      <td>...</td>\n    </tr>\n    <tr>\n      <th>10542</th>\n      <td>Tỉnh Cà Mau</td>\n      <td>Huyện Ngọc Hiển</td>\n      <td>Xã Viên An Đông</td>\n      <td>Xã</td>\n      <td>Cà Mau</td>\n      <td>Viên An Đông</td>\n      <td>Vien An Dong</td>\n      <td>Commune</td>\n    </tr>\n    <tr>\n      <th>10543</th>\n      <td>Tỉnh Cà Mau</td>\n      <td>Huyện Ngọc Hiển</td>\n      <td>Xã Viên An</td>\n      <td>Xã</td>\n      <td>Cà Mau</td>\n      <td>Viên An</td>\n      <td>Vien An</td>\n      <td>Commune</td>\n    </tr>\n    <tr>\n      <th>10544</th>\n      <td>Tỉnh Cà Mau</td>\n      <td>Huyện Ngọc Hiển</td>\n      <td>Thị trấn Rạch Gốc</td>\n      <td>Thị trấn</td>\n      <td>Cà Mau</td>\n      <td>Rạch Gốc</td>\n      <td>Rach Goc</td>\n      <td>Town</td>\n    </tr>\n    <tr>\n      <th>10545</th>\n      <td>Tỉnh Cà Mau</td>\n      <td>Huyện Ngọc Hiển</td>\n      <td>Xã Tân Ân</td>\n      <td>Xã</td>\n      <td>Cà Mau</td>\n      <td>Tân Ân</td>\n      <td>Tan An</td>\n      <td>Commune</td>\n    </tr>\n    <tr>\n      <th>10546</th>\n      <td>Tỉnh Cà Mau</td>\n      <td>Huyện Ngọc Hiển</td>\n      <td>Xã Đất Mũi</td>\n      <td>Xã</td>\n      <td>Cà Mau</td>\n      <td>Đất Mũi</td>\n      <td>Dat Mui</td>\n      <td>Commune</td>\n    </tr>\n  </tbody>\n</table>\n<p>10547 rows × 8 columns</p>\n</div>"
     },
     "execution_count": 45,
     "metadata": {},
     "output_type": "execute_result"
    }
   ],
   "source": [
    "df_ward"
   ],
   "metadata": {
    "collapsed": false,
    "ExecuteTime": {
     "end_time": "2024-09-13T19:34:29.437380Z",
     "start_time": "2024-09-13T19:34:29.432457Z"
    }
   },
   "id": "385dc7618c15408f",
   "execution_count": 45
  },
  {
   "cell_type": "code",
   "outputs": [],
   "source": [
    "df_ward['ward'] = np.where((df_ward.long_province.isin(df_duplicated_wards.long_province)) & (df_ward.long_district.isin(df_duplicated_wards.long_district)) & (df_ward.short_ward.isin(df_duplicated_wards.short_ward)), df_ward['ward_level'] + ' ' + df_ward['short_ward'], df_ward['short_ward'])"
   ],
   "metadata": {
    "collapsed": false,
    "ExecuteTime": {
     "end_time": "2024-09-13T19:34:29.559587Z",
     "start_time": "2024-09-13T19:34:29.554223Z"
    }
   },
   "id": "d7643f81079f9de4",
   "execution_count": 46
  },
  {
   "cell_type": "code",
   "outputs": [],
   "source": [
    "df_ward['ward_english'] = np.where((df_ward.long_province.isin(df_duplicated_wards.long_province)) & (df_ward.long_district.isin(df_duplicated_wards.long_district)) & (df_ward.short_ward.isin(df_duplicated_wards.short_ward)), df_ward['short_ward_english'] + ' ' + df_ward['ward_level_english'], df_ward['short_ward_english'])"
   ],
   "metadata": {
    "collapsed": false,
    "ExecuteTime": {
     "end_time": "2024-09-13T19:34:29.871482Z",
     "start_time": "2024-09-13T19:34:29.866168Z"
    }
   },
   "id": "fedccd5feae9c068",
   "execution_count": 47
  },
  {
   "cell_type": "code",
   "outputs": [],
   "source": [
    "df_ward['long_ward_english'] = np.where(\n",
    "    (df_ward['short_ward'].notna()) & \n",
    "    (~df_ward['short_ward'].astype(str).str.contains('|'.join(ward_level_english))),\n",
    "    df_ward['short_ward_english'].fillna('') + ' ' + df_ward['ward_level_english'],\n",
    "    df_ward['short_ward_english']\n",
    ")"
   ],
   "metadata": {
    "collapsed": false,
    "ExecuteTime": {
     "end_time": "2024-09-13T19:34:30.113026Z",
     "start_time": "2024-09-13T19:34:30.105315Z"
    }
   },
   "id": "76561f5cbb86bd32",
   "execution_count": 48
  },
  {
   "cell_type": "code",
   "outputs": [],
   "source": [
    "def create_long_province_english(text):\n",
    "    u_text = unidecode(text)\n",
    "    c_text = str(u_text).title().strip()\n",
    "    if re.search(r'^Thanh Pho\\s', c_text):\n",
    "        c_text = re.sub(r'^Thanh Pho\\s', '', c_text) + ' City'\n",
    "    elif re.search(r'^Tinh\\s', c_text):\n",
    "        c_text = re.sub(r'^Tinh\\s', '', c_text) + ' Province'\n",
    "    return c_text"
   ],
   "metadata": {
    "collapsed": false,
    "ExecuteTime": {
     "end_time": "2024-09-13T19:34:30.408423Z",
     "start_time": "2024-09-13T19:34:30.406180Z"
    }
   },
   "id": "b671b72ddb7d216",
   "execution_count": 49
  },
  {
   "cell_type": "code",
   "outputs": [
    {
     "data": {
      "text/plain": "'Ha Noi City'"
     },
     "execution_count": 50,
     "metadata": {},
     "output_type": "execute_result"
    }
   ],
   "source": [
    "create_long_province_english('Thành phố Hà Nội')"
   ],
   "metadata": {
    "collapsed": false,
    "ExecuteTime": {
     "end_time": "2024-09-13T19:34:30.467007Z",
     "start_time": "2024-09-13T19:34:30.463733Z"
    }
   },
   "id": "92b41c09d27b432d",
   "execution_count": 50
  },
  {
   "cell_type": "code",
   "outputs": [],
   "source": [
    "df_ward['long_province_english'] = df_ward['long_province'].apply(create_long_province_english)"
   ],
   "metadata": {
    "collapsed": false,
    "ExecuteTime": {
     "end_time": "2024-09-13T19:34:30.633354Z",
     "start_time": "2024-09-13T19:34:30.596880Z"
    }
   },
   "id": "8f808005cdd2e0c4",
   "execution_count": 51
  },
  {
   "cell_type": "code",
   "outputs": [],
   "source": [
    "df_map = pd.merge(df_ward, df, on=['province', 'long_district'], how='left', suffixes=('', '_df'))"
   ],
   "metadata": {
    "collapsed": false,
    "ExecuteTime": {
     "end_time": "2024-09-13T19:34:30.644037Z",
     "start_time": "2024-09-13T19:34:30.635085Z"
    }
   },
   "id": "d7a5fbdd8c3f9e4c",
   "execution_count": 52
  },
  {
   "cell_type": "code",
   "outputs": [
    {
     "data": {
      "text/plain": "          long_province    long_district          long_ward ward_level  \\\n0      Thành phố Hà Nội     Quận Ba Đình     Phường Phúc Xá     Phường   \n1      Thành phố Hà Nội     Quận Ba Đình   Phường Trúc Bạch     Phường   \n2      Thành phố Hà Nội     Quận Ba Đình   Phường Vĩnh Phúc     Phường   \n3      Thành phố Hà Nội     Quận Ba Đình     Phường Cống Vị     Phường   \n4      Thành phố Hà Nội     Quận Ba Đình   Phường Liễu Giai     Phường   \n...                 ...              ...                ...        ...   \n10542       Tỉnh Cà Mau  Huyện Ngọc Hiển    Xã Viên An Đông         Xã   \n10543       Tỉnh Cà Mau  Huyện Ngọc Hiển         Xã Viên An         Xã   \n10544       Tỉnh Cà Mau  Huyện Ngọc Hiển  Thị trấn Rạch Gốc   Thị trấn   \n10545       Tỉnh Cà Mau  Huyện Ngọc Hiển          Xã Tân Ân         Xã   \n10546       Tỉnh Cà Mau  Huyện Ngọc Hiển         Xã Đất Mũi         Xã   \n\n      province    short_ward short_ward_english ward_level_english  \\\n0       Hà Nội       Phúc Xá            Phuc Xa               Ward   \n1       Hà Nội     Trúc Bạch          Truc Bach               Ward   \n2       Hà Nội     Vĩnh Phúc          Vinh Phuc               Ward   \n3       Hà Nội       Cống Vị            Cong Vi               Ward   \n4       Hà Nội     Liễu Giai          Lieu Giai               Ward   \n...        ...           ...                ...                ...   \n10542   Cà Mau  Viên An Đông       Vien An Dong            Commune   \n10543   Cà Mau       Viên An            Vien An            Commune   \n10544   Cà Mau      Rạch Gốc           Rach Goc               Town   \n10545   Cà Mau        Tân Ân             Tan An            Commune   \n10546   Cà Mau       Đất Mũi            Dat Mui            Commune   \n\n               ward  ward_english     long_ward_english long_province_english  \\\n0           Phúc Xá       Phuc Xa          Phuc Xa Ward           Ha Noi City   \n1         Trúc Bạch     Truc Bach        Truc Bach Ward           Ha Noi City   \n2         Vĩnh Phúc     Vinh Phuc        Vinh Phuc Ward           Ha Noi City   \n3           Cống Vị       Cong Vi          Cong Vi Ward           Ha Noi City   \n4         Liễu Giai     Lieu Giai        Lieu Giai Ward           Ha Noi City   \n...             ...           ...                   ...                   ...   \n10542  Viên An Đông  Vien An Dong  Vien An Dong Commune       Ca Mau Province   \n10543       Viên An       Vien An       Vien An Commune       Ca Mau Province   \n10544      Rạch Gốc      Rach Goc         Rach Goc Town       Ca Mau Province   \n10545        Tân Ân        Tan An        Tan An Commune       Ca Mau Province   \n10546       Đất Mũi       Dat Mui       Dat Mui Commune       Ca Mau Province   \n\n        district short_district province_english district_english  \\\n0        Ba Đình        Ba Đình           Ha Noi          Ba Dinh   \n1        Ba Đình        Ba Đình           Ha Noi          Ba Dinh   \n2        Ba Đình        Ba Đình           Ha Noi          Ba Dinh   \n3        Ba Đình        Ba Đình           Ha Noi          Ba Dinh   \n4        Ba Đình        Ba Đình           Ha Noi          Ba Dinh   \n...          ...            ...              ...              ...   \n10542  Ngọc Hiển      Ngọc Hiển           Ca Mau        Ngoc Hien   \n10543  Ngọc Hiển      Ngọc Hiển           Ca Mau        Ngoc Hien   \n10544  Ngọc Hiển      Ngọc Hiển           Ca Mau        Ngoc Hien   \n10545  Ngọc Hiển      Ngọc Hiển           Ca Mau        Ngoc Hien   \n10546  Ngọc Hiển      Ngọc Hiển           Ca Mau        Ngoc Hien   \n\n      long_district_english short_district_english district_level  \\\n0          Ba Dinh District                Ba Dinh           Quận   \n1          Ba Dinh District                Ba Dinh           Quận   \n2          Ba Dinh District                Ba Dinh           Quận   \n3          Ba Dinh District                Ba Dinh           Quận   \n4          Ba Dinh District                Ba Dinh           Quận   \n...                     ...                    ...            ...   \n10542    Ngoc Hien District              Ngoc Hien          Huyện   \n10543    Ngoc Hien District              Ngoc Hien          Huyện   \n10544    Ngoc Hien District              Ngoc Hien          Huyện   \n10545    Ngoc Hien District              Ngoc Hien          Huyện   \n10546    Ngoc Hien District              Ngoc Hien          Huyện   \n\n      district_level_english  \n0                   District  \n1                   District  \n2                   District  \n3                   District  \n4                   District  \n...                      ...  \n10542               District  \n10543               District  \n10544               District  \n10545               District  \n10546               District  \n\n[10547 rows x 20 columns]",
      "text/html": "<div>\n<style scoped>\n    .dataframe tbody tr th:only-of-type {\n        vertical-align: middle;\n    }\n\n    .dataframe tbody tr th {\n        vertical-align: top;\n    }\n\n    .dataframe thead th {\n        text-align: right;\n    }\n</style>\n<table border=\"1\" class=\"dataframe\">\n  <thead>\n    <tr style=\"text-align: right;\">\n      <th></th>\n      <th>long_province</th>\n      <th>long_district</th>\n      <th>long_ward</th>\n      <th>ward_level</th>\n      <th>province</th>\n      <th>short_ward</th>\n      <th>short_ward_english</th>\n      <th>ward_level_english</th>\n      <th>ward</th>\n      <th>ward_english</th>\n      <th>long_ward_english</th>\n      <th>long_province_english</th>\n      <th>district</th>\n      <th>short_district</th>\n      <th>province_english</th>\n      <th>district_english</th>\n      <th>long_district_english</th>\n      <th>short_district_english</th>\n      <th>district_level</th>\n      <th>district_level_english</th>\n    </tr>\n  </thead>\n  <tbody>\n    <tr>\n      <th>0</th>\n      <td>Thành phố Hà Nội</td>\n      <td>Quận Ba Đình</td>\n      <td>Phường Phúc Xá</td>\n      <td>Phường</td>\n      <td>Hà Nội</td>\n      <td>Phúc Xá</td>\n      <td>Phuc Xa</td>\n      <td>Ward</td>\n      <td>Phúc Xá</td>\n      <td>Phuc Xa</td>\n      <td>Phuc Xa Ward</td>\n      <td>Ha Noi City</td>\n      <td>Ba Đình</td>\n      <td>Ba Đình</td>\n      <td>Ha Noi</td>\n      <td>Ba Dinh</td>\n      <td>Ba Dinh District</td>\n      <td>Ba Dinh</td>\n      <td>Quận</td>\n      <td>District</td>\n    </tr>\n    <tr>\n      <th>1</th>\n      <td>Thành phố Hà Nội</td>\n      <td>Quận Ba Đình</td>\n      <td>Phường Trúc Bạch</td>\n      <td>Phường</td>\n      <td>Hà Nội</td>\n      <td>Trúc Bạch</td>\n      <td>Truc Bach</td>\n      <td>Ward</td>\n      <td>Trúc Bạch</td>\n      <td>Truc Bach</td>\n      <td>Truc Bach Ward</td>\n      <td>Ha Noi City</td>\n      <td>Ba Đình</td>\n      <td>Ba Đình</td>\n      <td>Ha Noi</td>\n      <td>Ba Dinh</td>\n      <td>Ba Dinh District</td>\n      <td>Ba Dinh</td>\n      <td>Quận</td>\n      <td>District</td>\n    </tr>\n    <tr>\n      <th>2</th>\n      <td>Thành phố Hà Nội</td>\n      <td>Quận Ba Đình</td>\n      <td>Phường Vĩnh Phúc</td>\n      <td>Phường</td>\n      <td>Hà Nội</td>\n      <td>Vĩnh Phúc</td>\n      <td>Vinh Phuc</td>\n      <td>Ward</td>\n      <td>Vĩnh Phúc</td>\n      <td>Vinh Phuc</td>\n      <td>Vinh Phuc Ward</td>\n      <td>Ha Noi City</td>\n      <td>Ba Đình</td>\n      <td>Ba Đình</td>\n      <td>Ha Noi</td>\n      <td>Ba Dinh</td>\n      <td>Ba Dinh District</td>\n      <td>Ba Dinh</td>\n      <td>Quận</td>\n      <td>District</td>\n    </tr>\n    <tr>\n      <th>3</th>\n      <td>Thành phố Hà Nội</td>\n      <td>Quận Ba Đình</td>\n      <td>Phường Cống Vị</td>\n      <td>Phường</td>\n      <td>Hà Nội</td>\n      <td>Cống Vị</td>\n      <td>Cong Vi</td>\n      <td>Ward</td>\n      <td>Cống Vị</td>\n      <td>Cong Vi</td>\n      <td>Cong Vi Ward</td>\n      <td>Ha Noi City</td>\n      <td>Ba Đình</td>\n      <td>Ba Đình</td>\n      <td>Ha Noi</td>\n      <td>Ba Dinh</td>\n      <td>Ba Dinh District</td>\n      <td>Ba Dinh</td>\n      <td>Quận</td>\n      <td>District</td>\n    </tr>\n    <tr>\n      <th>4</th>\n      <td>Thành phố Hà Nội</td>\n      <td>Quận Ba Đình</td>\n      <td>Phường Liễu Giai</td>\n      <td>Phường</td>\n      <td>Hà Nội</td>\n      <td>Liễu Giai</td>\n      <td>Lieu Giai</td>\n      <td>Ward</td>\n      <td>Liễu Giai</td>\n      <td>Lieu Giai</td>\n      <td>Lieu Giai Ward</td>\n      <td>Ha Noi City</td>\n      <td>Ba Đình</td>\n      <td>Ba Đình</td>\n      <td>Ha Noi</td>\n      <td>Ba Dinh</td>\n      <td>Ba Dinh District</td>\n      <td>Ba Dinh</td>\n      <td>Quận</td>\n      <td>District</td>\n    </tr>\n    <tr>\n      <th>...</th>\n      <td>...</td>\n      <td>...</td>\n      <td>...</td>\n      <td>...</td>\n      <td>...</td>\n      <td>...</td>\n      <td>...</td>\n      <td>...</td>\n      <td>...</td>\n      <td>...</td>\n      <td>...</td>\n      <td>...</td>\n      <td>...</td>\n      <td>...</td>\n      <td>...</td>\n      <td>...</td>\n      <td>...</td>\n      <td>...</td>\n      <td>...</td>\n      <td>...</td>\n    </tr>\n    <tr>\n      <th>10542</th>\n      <td>Tỉnh Cà Mau</td>\n      <td>Huyện Ngọc Hiển</td>\n      <td>Xã Viên An Đông</td>\n      <td>Xã</td>\n      <td>Cà Mau</td>\n      <td>Viên An Đông</td>\n      <td>Vien An Dong</td>\n      <td>Commune</td>\n      <td>Viên An Đông</td>\n      <td>Vien An Dong</td>\n      <td>Vien An Dong Commune</td>\n      <td>Ca Mau Province</td>\n      <td>Ngọc Hiển</td>\n      <td>Ngọc Hiển</td>\n      <td>Ca Mau</td>\n      <td>Ngoc Hien</td>\n      <td>Ngoc Hien District</td>\n      <td>Ngoc Hien</td>\n      <td>Huyện</td>\n      <td>District</td>\n    </tr>\n    <tr>\n      <th>10543</th>\n      <td>Tỉnh Cà Mau</td>\n      <td>Huyện Ngọc Hiển</td>\n      <td>Xã Viên An</td>\n      <td>Xã</td>\n      <td>Cà Mau</td>\n      <td>Viên An</td>\n      <td>Vien An</td>\n      <td>Commune</td>\n      <td>Viên An</td>\n      <td>Vien An</td>\n      <td>Vien An Commune</td>\n      <td>Ca Mau Province</td>\n      <td>Ngọc Hiển</td>\n      <td>Ngọc Hiển</td>\n      <td>Ca Mau</td>\n      <td>Ngoc Hien</td>\n      <td>Ngoc Hien District</td>\n      <td>Ngoc Hien</td>\n      <td>Huyện</td>\n      <td>District</td>\n    </tr>\n    <tr>\n      <th>10544</th>\n      <td>Tỉnh Cà Mau</td>\n      <td>Huyện Ngọc Hiển</td>\n      <td>Thị trấn Rạch Gốc</td>\n      <td>Thị trấn</td>\n      <td>Cà Mau</td>\n      <td>Rạch Gốc</td>\n      <td>Rach Goc</td>\n      <td>Town</td>\n      <td>Rạch Gốc</td>\n      <td>Rach Goc</td>\n      <td>Rach Goc Town</td>\n      <td>Ca Mau Province</td>\n      <td>Ngọc Hiển</td>\n      <td>Ngọc Hiển</td>\n      <td>Ca Mau</td>\n      <td>Ngoc Hien</td>\n      <td>Ngoc Hien District</td>\n      <td>Ngoc Hien</td>\n      <td>Huyện</td>\n      <td>District</td>\n    </tr>\n    <tr>\n      <th>10545</th>\n      <td>Tỉnh Cà Mau</td>\n      <td>Huyện Ngọc Hiển</td>\n      <td>Xã Tân Ân</td>\n      <td>Xã</td>\n      <td>Cà Mau</td>\n      <td>Tân Ân</td>\n      <td>Tan An</td>\n      <td>Commune</td>\n      <td>Tân Ân</td>\n      <td>Tan An</td>\n      <td>Tan An Commune</td>\n      <td>Ca Mau Province</td>\n      <td>Ngọc Hiển</td>\n      <td>Ngọc Hiển</td>\n      <td>Ca Mau</td>\n      <td>Ngoc Hien</td>\n      <td>Ngoc Hien District</td>\n      <td>Ngoc Hien</td>\n      <td>Huyện</td>\n      <td>District</td>\n    </tr>\n    <tr>\n      <th>10546</th>\n      <td>Tỉnh Cà Mau</td>\n      <td>Huyện Ngọc Hiển</td>\n      <td>Xã Đất Mũi</td>\n      <td>Xã</td>\n      <td>Cà Mau</td>\n      <td>Đất Mũi</td>\n      <td>Dat Mui</td>\n      <td>Commune</td>\n      <td>Đất Mũi</td>\n      <td>Dat Mui</td>\n      <td>Dat Mui Commune</td>\n      <td>Ca Mau Province</td>\n      <td>Ngọc Hiển</td>\n      <td>Ngọc Hiển</td>\n      <td>Ca Mau</td>\n      <td>Ngoc Hien</td>\n      <td>Ngoc Hien District</td>\n      <td>Ngoc Hien</td>\n      <td>Huyện</td>\n      <td>District</td>\n    </tr>\n  </tbody>\n</table>\n<p>10547 rows × 20 columns</p>\n</div>"
     },
     "execution_count": 53,
     "metadata": {},
     "output_type": "execute_result"
    }
   ],
   "source": [
    "df_map"
   ],
   "metadata": {
    "collapsed": false,
    "ExecuteTime": {
     "end_time": "2024-09-13T19:34:30.706849Z",
     "start_time": "2024-09-13T19:34:30.697438Z"
    }
   },
   "id": "1e3351163f377180",
   "execution_count": 53
  },
  {
   "cell_type": "code",
   "outputs": [
    {
     "name": "stdout",
     "output_type": "stream",
     "text": [
      "<class 'pandas.core.frame.DataFrame'>\n",
      "RangeIndex: 10547 entries, 0 to 10546\n",
      "Data columns (total 20 columns):\n",
      " #   Column                  Non-Null Count  Dtype \n",
      "---  ------                  --------------  ----- \n",
      " 0   long_province           10547 non-null  object\n",
      " 1   long_district           10547 non-null  object\n",
      " 2   long_ward               10542 non-null  object\n",
      " 3   ward_level              10547 non-null  object\n",
      " 4   province                10547 non-null  object\n",
      " 5   short_ward              10542 non-null  object\n",
      " 6   short_ward_english      10542 non-null  object\n",
      " 7   ward_level_english      10547 non-null  object\n",
      " 8   ward                    10542 non-null  object\n",
      " 9   ward_english            10542 non-null  object\n",
      " 10  long_ward_english       10542 non-null  object\n",
      " 11  long_province_english   10547 non-null  object\n",
      " 12  district                10547 non-null  object\n",
      " 13  short_district          10547 non-null  object\n",
      " 14  province_english        10547 non-null  object\n",
      " 15  district_english        10547 non-null  object\n",
      " 16  long_district_english   10547 non-null  object\n",
      " 17  short_district_english  10547 non-null  object\n",
      " 18  district_level          10547 non-null  object\n",
      " 19  district_level_english  10547 non-null  object\n",
      "dtypes: object(20)\n",
      "memory usage: 1.6+ MB\n"
     ]
    }
   ],
   "source": [
    "df_map.info()"
   ],
   "metadata": {
    "collapsed": false,
    "ExecuteTime": {
     "end_time": "2024-09-13T19:34:30.729342Z",
     "start_time": "2024-09-13T19:34:30.715649Z"
    }
   },
   "id": "5ff4a722a5cfb6bb",
   "execution_count": 54
  },
  {
   "cell_type": "code",
   "outputs": [
    {
     "data": {
      "text/plain": "Empty DataFrame\nColumns: [province, long_district]\nIndex: []",
      "text/html": "<div>\n<style scoped>\n    .dataframe tbody tr th:only-of-type {\n        vertical-align: middle;\n    }\n\n    .dataframe tbody tr th {\n        vertical-align: top;\n    }\n\n    .dataframe thead th {\n        text-align: right;\n    }\n</style>\n<table border=\"1\" class=\"dataframe\">\n  <thead>\n    <tr style=\"text-align: right;\">\n      <th></th>\n      <th>province</th>\n      <th>long_district</th>\n    </tr>\n  </thead>\n  <tbody>\n  </tbody>\n</table>\n</div>"
     },
     "execution_count": 55,
     "metadata": {},
     "output_type": "execute_result"
    }
   ],
   "source": [
    "df_map[df_map.district_english.isna()][['province', 'long_district']].drop_duplicates()"
   ],
   "metadata": {
    "collapsed": false,
    "ExecuteTime": {
     "end_time": "2024-09-13T19:34:30.759970Z",
     "start_time": "2024-09-13T19:34:30.752542Z"
    }
   },
   "id": "4a0fcdf4e6002452",
   "execution_count": 55
  },
  {
   "cell_type": "code",
   "outputs": [
    {
     "data": {
      "text/plain": "     province   district    long_district short_district province_english  \\\n155  Đắk Nông  Đắk R'lấp  Huyện Đắk R'lấp      Đắk R'lấp         Dak Nong   \n\n    district_english long_district_english short_district_english  \\\n155        Dak R'Lap    Dak R'Lap District              Dak R'Lap   \n\n    district_level district_level_english  \n155          Huyện               District  ",
      "text/html": "<div>\n<style scoped>\n    .dataframe tbody tr th:only-of-type {\n        vertical-align: middle;\n    }\n\n    .dataframe tbody tr th {\n        vertical-align: top;\n    }\n\n    .dataframe thead th {\n        text-align: right;\n    }\n</style>\n<table border=\"1\" class=\"dataframe\">\n  <thead>\n    <tr style=\"text-align: right;\">\n      <th></th>\n      <th>province</th>\n      <th>district</th>\n      <th>long_district</th>\n      <th>short_district</th>\n      <th>province_english</th>\n      <th>district_english</th>\n      <th>long_district_english</th>\n      <th>short_district_english</th>\n      <th>district_level</th>\n      <th>district_level_english</th>\n    </tr>\n  </thead>\n  <tbody>\n    <tr>\n      <th>155</th>\n      <td>Đắk Nông</td>\n      <td>Đắk R'lấp</td>\n      <td>Huyện Đắk R'lấp</td>\n      <td>Đắk R'lấp</td>\n      <td>Dak Nong</td>\n      <td>Dak R'Lap</td>\n      <td>Dak R'Lap District</td>\n      <td>Dak R'Lap</td>\n      <td>Huyện</td>\n      <td>District</td>\n    </tr>\n  </tbody>\n</table>\n</div>"
     },
     "execution_count": 56,
     "metadata": {},
     "output_type": "execute_result"
    }
   ],
   "source": [
    "df[df.province_english.str.contains('Dak Nong') & df.district_english.str.contains('Lap')]"
   ],
   "metadata": {
    "collapsed": false,
    "ExecuteTime": {
     "end_time": "2024-09-13T19:34:30.796556Z",
     "start_time": "2024-09-13T19:34:30.787731Z"
    }
   },
   "id": "14accd85d35b2982",
   "execution_count": 56
  },
  {
   "cell_type": "code",
   "outputs": [
    {
     "data": {
      "text/plain": "          long_province    long_district          long_ward ward_level  \\\n0      Thành phố Hà Nội     Quận Ba Đình     Phường Phúc Xá     Phường   \n1      Thành phố Hà Nội     Quận Ba Đình   Phường Trúc Bạch     Phường   \n2      Thành phố Hà Nội     Quận Ba Đình   Phường Vĩnh Phúc     Phường   \n3      Thành phố Hà Nội     Quận Ba Đình     Phường Cống Vị     Phường   \n4      Thành phố Hà Nội     Quận Ba Đình   Phường Liễu Giai     Phường   \n...                 ...              ...                ...        ...   \n10542       Tỉnh Cà Mau  Huyện Ngọc Hiển    Xã Viên An Đông         Xã   \n10543       Tỉnh Cà Mau  Huyện Ngọc Hiển         Xã Viên An         Xã   \n10544       Tỉnh Cà Mau  Huyện Ngọc Hiển  Thị trấn Rạch Gốc   Thị trấn   \n10545       Tỉnh Cà Mau  Huyện Ngọc Hiển          Xã Tân Ân         Xã   \n10546       Tỉnh Cà Mau  Huyện Ngọc Hiển         Xã Đất Mũi         Xã   \n\n      province    short_ward short_ward_english ward_level_english  \\\n0       Hà Nội       Phúc Xá            Phuc Xa               Ward   \n1       Hà Nội     Trúc Bạch          Truc Bach               Ward   \n2       Hà Nội     Vĩnh Phúc          Vinh Phuc               Ward   \n3       Hà Nội       Cống Vị            Cong Vi               Ward   \n4       Hà Nội     Liễu Giai          Lieu Giai               Ward   \n...        ...           ...                ...                ...   \n10542   Cà Mau  Viên An Đông       Vien An Dong            Commune   \n10543   Cà Mau       Viên An            Vien An            Commune   \n10544   Cà Mau      Rạch Gốc           Rach Goc               Town   \n10545   Cà Mau        Tân Ân             Tan An            Commune   \n10546   Cà Mau       Đất Mũi            Dat Mui            Commune   \n\n               ward  ward_english     long_ward_english long_province_english  \\\n0           Phúc Xá       Phuc Xa          Phuc Xa Ward           Ha Noi City   \n1         Trúc Bạch     Truc Bach        Truc Bach Ward           Ha Noi City   \n2         Vĩnh Phúc     Vinh Phuc        Vinh Phuc Ward           Ha Noi City   \n3           Cống Vị       Cong Vi          Cong Vi Ward           Ha Noi City   \n4         Liễu Giai     Lieu Giai        Lieu Giai Ward           Ha Noi City   \n...             ...           ...                   ...                   ...   \n10542  Viên An Đông  Vien An Dong  Vien An Dong Commune       Ca Mau Province   \n10543       Viên An       Vien An       Vien An Commune       Ca Mau Province   \n10544      Rạch Gốc      Rach Goc         Rach Goc Town       Ca Mau Province   \n10545        Tân Ân        Tan An        Tan An Commune       Ca Mau Province   \n10546       Đất Mũi       Dat Mui       Dat Mui Commune       Ca Mau Province   \n\n        district short_district province_english district_english  \\\n0        Ba Đình        Ba Đình           Ha Noi          Ba Dinh   \n1        Ba Đình        Ba Đình           Ha Noi          Ba Dinh   \n2        Ba Đình        Ba Đình           Ha Noi          Ba Dinh   \n3        Ba Đình        Ba Đình           Ha Noi          Ba Dinh   \n4        Ba Đình        Ba Đình           Ha Noi          Ba Dinh   \n...          ...            ...              ...              ...   \n10542  Ngọc Hiển      Ngọc Hiển           Ca Mau        Ngoc Hien   \n10543  Ngọc Hiển      Ngọc Hiển           Ca Mau        Ngoc Hien   \n10544  Ngọc Hiển      Ngọc Hiển           Ca Mau        Ngoc Hien   \n10545  Ngọc Hiển      Ngọc Hiển           Ca Mau        Ngoc Hien   \n10546  Ngọc Hiển      Ngọc Hiển           Ca Mau        Ngoc Hien   \n\n      long_district_english short_district_english district_level  \\\n0          Ba Dinh District                Ba Dinh           Quận   \n1          Ba Dinh District                Ba Dinh           Quận   \n2          Ba Dinh District                Ba Dinh           Quận   \n3          Ba Dinh District                Ba Dinh           Quận   \n4          Ba Dinh District                Ba Dinh           Quận   \n...                     ...                    ...            ...   \n10542    Ngoc Hien District              Ngoc Hien          Huyện   \n10543    Ngoc Hien District              Ngoc Hien          Huyện   \n10544    Ngoc Hien District              Ngoc Hien          Huyện   \n10545    Ngoc Hien District              Ngoc Hien          Huyện   \n10546    Ngoc Hien District              Ngoc Hien          Huyện   \n\n      district_level_english  \n0                   District  \n1                   District  \n2                   District  \n3                   District  \n4                   District  \n...                      ...  \n10542               District  \n10543               District  \n10544               District  \n10545               District  \n10546               District  \n\n[10547 rows x 20 columns]",
      "text/html": "<div>\n<style scoped>\n    .dataframe tbody tr th:only-of-type {\n        vertical-align: middle;\n    }\n\n    .dataframe tbody tr th {\n        vertical-align: top;\n    }\n\n    .dataframe thead th {\n        text-align: right;\n    }\n</style>\n<table border=\"1\" class=\"dataframe\">\n  <thead>\n    <tr style=\"text-align: right;\">\n      <th></th>\n      <th>long_province</th>\n      <th>long_district</th>\n      <th>long_ward</th>\n      <th>ward_level</th>\n      <th>province</th>\n      <th>short_ward</th>\n      <th>short_ward_english</th>\n      <th>ward_level_english</th>\n      <th>ward</th>\n      <th>ward_english</th>\n      <th>long_ward_english</th>\n      <th>long_province_english</th>\n      <th>district</th>\n      <th>short_district</th>\n      <th>province_english</th>\n      <th>district_english</th>\n      <th>long_district_english</th>\n      <th>short_district_english</th>\n      <th>district_level</th>\n      <th>district_level_english</th>\n    </tr>\n  </thead>\n  <tbody>\n    <tr>\n      <th>0</th>\n      <td>Thành phố Hà Nội</td>\n      <td>Quận Ba Đình</td>\n      <td>Phường Phúc Xá</td>\n      <td>Phường</td>\n      <td>Hà Nội</td>\n      <td>Phúc Xá</td>\n      <td>Phuc Xa</td>\n      <td>Ward</td>\n      <td>Phúc Xá</td>\n      <td>Phuc Xa</td>\n      <td>Phuc Xa Ward</td>\n      <td>Ha Noi City</td>\n      <td>Ba Đình</td>\n      <td>Ba Đình</td>\n      <td>Ha Noi</td>\n      <td>Ba Dinh</td>\n      <td>Ba Dinh District</td>\n      <td>Ba Dinh</td>\n      <td>Quận</td>\n      <td>District</td>\n    </tr>\n    <tr>\n      <th>1</th>\n      <td>Thành phố Hà Nội</td>\n      <td>Quận Ba Đình</td>\n      <td>Phường Trúc Bạch</td>\n      <td>Phường</td>\n      <td>Hà Nội</td>\n      <td>Trúc Bạch</td>\n      <td>Truc Bach</td>\n      <td>Ward</td>\n      <td>Trúc Bạch</td>\n      <td>Truc Bach</td>\n      <td>Truc Bach Ward</td>\n      <td>Ha Noi City</td>\n      <td>Ba Đình</td>\n      <td>Ba Đình</td>\n      <td>Ha Noi</td>\n      <td>Ba Dinh</td>\n      <td>Ba Dinh District</td>\n      <td>Ba Dinh</td>\n      <td>Quận</td>\n      <td>District</td>\n    </tr>\n    <tr>\n      <th>2</th>\n      <td>Thành phố Hà Nội</td>\n      <td>Quận Ba Đình</td>\n      <td>Phường Vĩnh Phúc</td>\n      <td>Phường</td>\n      <td>Hà Nội</td>\n      <td>Vĩnh Phúc</td>\n      <td>Vinh Phuc</td>\n      <td>Ward</td>\n      <td>Vĩnh Phúc</td>\n      <td>Vinh Phuc</td>\n      <td>Vinh Phuc Ward</td>\n      <td>Ha Noi City</td>\n      <td>Ba Đình</td>\n      <td>Ba Đình</td>\n      <td>Ha Noi</td>\n      <td>Ba Dinh</td>\n      <td>Ba Dinh District</td>\n      <td>Ba Dinh</td>\n      <td>Quận</td>\n      <td>District</td>\n    </tr>\n    <tr>\n      <th>3</th>\n      <td>Thành phố Hà Nội</td>\n      <td>Quận Ba Đình</td>\n      <td>Phường Cống Vị</td>\n      <td>Phường</td>\n      <td>Hà Nội</td>\n      <td>Cống Vị</td>\n      <td>Cong Vi</td>\n      <td>Ward</td>\n      <td>Cống Vị</td>\n      <td>Cong Vi</td>\n      <td>Cong Vi Ward</td>\n      <td>Ha Noi City</td>\n      <td>Ba Đình</td>\n      <td>Ba Đình</td>\n      <td>Ha Noi</td>\n      <td>Ba Dinh</td>\n      <td>Ba Dinh District</td>\n      <td>Ba Dinh</td>\n      <td>Quận</td>\n      <td>District</td>\n    </tr>\n    <tr>\n      <th>4</th>\n      <td>Thành phố Hà Nội</td>\n      <td>Quận Ba Đình</td>\n      <td>Phường Liễu Giai</td>\n      <td>Phường</td>\n      <td>Hà Nội</td>\n      <td>Liễu Giai</td>\n      <td>Lieu Giai</td>\n      <td>Ward</td>\n      <td>Liễu Giai</td>\n      <td>Lieu Giai</td>\n      <td>Lieu Giai Ward</td>\n      <td>Ha Noi City</td>\n      <td>Ba Đình</td>\n      <td>Ba Đình</td>\n      <td>Ha Noi</td>\n      <td>Ba Dinh</td>\n      <td>Ba Dinh District</td>\n      <td>Ba Dinh</td>\n      <td>Quận</td>\n      <td>District</td>\n    </tr>\n    <tr>\n      <th>...</th>\n      <td>...</td>\n      <td>...</td>\n      <td>...</td>\n      <td>...</td>\n      <td>...</td>\n      <td>...</td>\n      <td>...</td>\n      <td>...</td>\n      <td>...</td>\n      <td>...</td>\n      <td>...</td>\n      <td>...</td>\n      <td>...</td>\n      <td>...</td>\n      <td>...</td>\n      <td>...</td>\n      <td>...</td>\n      <td>...</td>\n      <td>...</td>\n      <td>...</td>\n    </tr>\n    <tr>\n      <th>10542</th>\n      <td>Tỉnh Cà Mau</td>\n      <td>Huyện Ngọc Hiển</td>\n      <td>Xã Viên An Đông</td>\n      <td>Xã</td>\n      <td>Cà Mau</td>\n      <td>Viên An Đông</td>\n      <td>Vien An Dong</td>\n      <td>Commune</td>\n      <td>Viên An Đông</td>\n      <td>Vien An Dong</td>\n      <td>Vien An Dong Commune</td>\n      <td>Ca Mau Province</td>\n      <td>Ngọc Hiển</td>\n      <td>Ngọc Hiển</td>\n      <td>Ca Mau</td>\n      <td>Ngoc Hien</td>\n      <td>Ngoc Hien District</td>\n      <td>Ngoc Hien</td>\n      <td>Huyện</td>\n      <td>District</td>\n    </tr>\n    <tr>\n      <th>10543</th>\n      <td>Tỉnh Cà Mau</td>\n      <td>Huyện Ngọc Hiển</td>\n      <td>Xã Viên An</td>\n      <td>Xã</td>\n      <td>Cà Mau</td>\n      <td>Viên An</td>\n      <td>Vien An</td>\n      <td>Commune</td>\n      <td>Viên An</td>\n      <td>Vien An</td>\n      <td>Vien An Commune</td>\n      <td>Ca Mau Province</td>\n      <td>Ngọc Hiển</td>\n      <td>Ngọc Hiển</td>\n      <td>Ca Mau</td>\n      <td>Ngoc Hien</td>\n      <td>Ngoc Hien District</td>\n      <td>Ngoc Hien</td>\n      <td>Huyện</td>\n      <td>District</td>\n    </tr>\n    <tr>\n      <th>10544</th>\n      <td>Tỉnh Cà Mau</td>\n      <td>Huyện Ngọc Hiển</td>\n      <td>Thị trấn Rạch Gốc</td>\n      <td>Thị trấn</td>\n      <td>Cà Mau</td>\n      <td>Rạch Gốc</td>\n      <td>Rach Goc</td>\n      <td>Town</td>\n      <td>Rạch Gốc</td>\n      <td>Rach Goc</td>\n      <td>Rach Goc Town</td>\n      <td>Ca Mau Province</td>\n      <td>Ngọc Hiển</td>\n      <td>Ngọc Hiển</td>\n      <td>Ca Mau</td>\n      <td>Ngoc Hien</td>\n      <td>Ngoc Hien District</td>\n      <td>Ngoc Hien</td>\n      <td>Huyện</td>\n      <td>District</td>\n    </tr>\n    <tr>\n      <th>10545</th>\n      <td>Tỉnh Cà Mau</td>\n      <td>Huyện Ngọc Hiển</td>\n      <td>Xã Tân Ân</td>\n      <td>Xã</td>\n      <td>Cà Mau</td>\n      <td>Tân Ân</td>\n      <td>Tan An</td>\n      <td>Commune</td>\n      <td>Tân Ân</td>\n      <td>Tan An</td>\n      <td>Tan An Commune</td>\n      <td>Ca Mau Province</td>\n      <td>Ngọc Hiển</td>\n      <td>Ngọc Hiển</td>\n      <td>Ca Mau</td>\n      <td>Ngoc Hien</td>\n      <td>Ngoc Hien District</td>\n      <td>Ngoc Hien</td>\n      <td>Huyện</td>\n      <td>District</td>\n    </tr>\n    <tr>\n      <th>10546</th>\n      <td>Tỉnh Cà Mau</td>\n      <td>Huyện Ngọc Hiển</td>\n      <td>Xã Đất Mũi</td>\n      <td>Xã</td>\n      <td>Cà Mau</td>\n      <td>Đất Mũi</td>\n      <td>Dat Mui</td>\n      <td>Commune</td>\n      <td>Đất Mũi</td>\n      <td>Dat Mui</td>\n      <td>Dat Mui Commune</td>\n      <td>Ca Mau Province</td>\n      <td>Ngọc Hiển</td>\n      <td>Ngọc Hiển</td>\n      <td>Ca Mau</td>\n      <td>Ngoc Hien</td>\n      <td>Ngoc Hien District</td>\n      <td>Ngoc Hien</td>\n      <td>Huyện</td>\n      <td>District</td>\n    </tr>\n  </tbody>\n</table>\n<p>10547 rows × 20 columns</p>\n</div>"
     },
     "execution_count": 57,
     "metadata": {},
     "output_type": "execute_result"
    }
   ],
   "source": [
    "df_map"
   ],
   "metadata": {
    "collapsed": false,
    "ExecuteTime": {
     "end_time": "2024-09-13T19:34:30.851007Z",
     "start_time": "2024-09-13T19:34:30.841638Z"
    }
   },
   "id": "b90cc2fd2f4bb50c",
   "execution_count": 57
  },
  {
   "cell_type": "code",
   "outputs": [
    {
     "data": {
      "text/plain": "20"
     },
     "execution_count": 58,
     "metadata": {},
     "output_type": "execute_result"
    }
   ],
   "source": [
    "len(expected_cols)"
   ],
   "metadata": {
    "collapsed": false,
    "ExecuteTime": {
     "end_time": "2024-09-13T19:34:31.054102Z",
     "start_time": "2024-09-13T19:34:31.050516Z"
    }
   },
   "id": "a0b4790472801341",
   "execution_count": 58
  },
  {
   "cell_type": "code",
   "outputs": [
    {
     "data": {
      "text/plain": "[]"
     },
     "execution_count": 59,
     "metadata": {},
     "output_type": "execute_result"
    }
   ],
   "source": [
    "[i for i in expected_cols if i not in df_map.columns.tolist()]"
   ],
   "metadata": {
    "collapsed": false,
    "ExecuteTime": {
     "end_time": "2024-09-13T19:34:31.123706Z",
     "start_time": "2024-09-13T19:34:31.119987Z"
    }
   },
   "id": "48915c843ba97492",
   "execution_count": 59
  },
  {
   "cell_type": "code",
   "outputs": [],
   "source": [
    "df_map = df_map[expected_cols]"
   ],
   "metadata": {
    "collapsed": false,
    "ExecuteTime": {
     "end_time": "2024-09-13T19:34:31.212298Z",
     "start_time": "2024-09-13T19:34:31.207068Z"
    }
   },
   "id": "3c9d09e9f8f2395a",
   "execution_count": 60
  },
  {
   "cell_type": "code",
   "outputs": [
    {
     "data": {
      "text/plain": "      province   district          ward     long_province    long_district  \\\n0       Hà Nội    Ba Đình       Phúc Xá  Thành phố Hà Nội     Quận Ba Đình   \n1       Hà Nội    Ba Đình     Trúc Bạch  Thành phố Hà Nội     Quận Ba Đình   \n2       Hà Nội    Ba Đình     Vĩnh Phúc  Thành phố Hà Nội     Quận Ba Đình   \n3       Hà Nội    Ba Đình       Cống Vị  Thành phố Hà Nội     Quận Ba Đình   \n4       Hà Nội    Ba Đình     Liễu Giai  Thành phố Hà Nội     Quận Ba Đình   \n...        ...        ...           ...               ...              ...   \n10542   Cà Mau  Ngọc Hiển  Viên An Đông       Tỉnh Cà Mau  Huyện Ngọc Hiển   \n10543   Cà Mau  Ngọc Hiển       Viên An       Tỉnh Cà Mau  Huyện Ngọc Hiển   \n10544   Cà Mau  Ngọc Hiển      Rạch Gốc       Tỉnh Cà Mau  Huyện Ngọc Hiển   \n10545   Cà Mau  Ngọc Hiển        Tân Ân       Tỉnh Cà Mau  Huyện Ngọc Hiển   \n10546   Cà Mau  Ngọc Hiển       Đất Mũi       Tỉnh Cà Mau  Huyện Ngọc Hiển   \n\n               long_ward short_district    short_ward province_english  \\\n0         Phường Phúc Xá        Ba Đình       Phúc Xá           Ha Noi   \n1       Phường Trúc Bạch        Ba Đình     Trúc Bạch           Ha Noi   \n2       Phường Vĩnh Phúc        Ba Đình     Vĩnh Phúc           Ha Noi   \n3         Phường Cống Vị        Ba Đình       Cống Vị           Ha Noi   \n4       Phường Liễu Giai        Ba Đình     Liễu Giai           Ha Noi   \n...                  ...            ...           ...              ...   \n10542    Xã Viên An Đông      Ngọc Hiển  Viên An Đông           Ca Mau   \n10543         Xã Viên An      Ngọc Hiển       Viên An           Ca Mau   \n10544  Thị trấn Rạch Gốc      Ngọc Hiển      Rạch Gốc           Ca Mau   \n10545          Xã Tân Ân      Ngọc Hiển        Tân Ân           Ca Mau   \n10546         Xã Đất Mũi      Ngọc Hiển       Đất Mũi           Ca Mau   \n\n      district_english  ward_english long_province_english  \\\n0              Ba Dinh       Phuc Xa           Ha Noi City   \n1              Ba Dinh     Truc Bach           Ha Noi City   \n2              Ba Dinh     Vinh Phuc           Ha Noi City   \n3              Ba Dinh       Cong Vi           Ha Noi City   \n4              Ba Dinh     Lieu Giai           Ha Noi City   \n...                ...           ...                   ...   \n10542        Ngoc Hien  Vien An Dong       Ca Mau Province   \n10543        Ngoc Hien       Vien An       Ca Mau Province   \n10544        Ngoc Hien      Rach Goc       Ca Mau Province   \n10545        Ngoc Hien        Tan An       Ca Mau Province   \n10546        Ngoc Hien       Dat Mui       Ca Mau Province   \n\n      long_district_english     long_ward_english short_district_english  \\\n0          Ba Dinh District          Phuc Xa Ward                Ba Dinh   \n1          Ba Dinh District        Truc Bach Ward                Ba Dinh   \n2          Ba Dinh District        Vinh Phuc Ward                Ba Dinh   \n3          Ba Dinh District          Cong Vi Ward                Ba Dinh   \n4          Ba Dinh District        Lieu Giai Ward                Ba Dinh   \n...                     ...                   ...                    ...   \n10542    Ngoc Hien District  Vien An Dong Commune              Ngoc Hien   \n10543    Ngoc Hien District       Vien An Commune              Ngoc Hien   \n10544    Ngoc Hien District         Rach Goc Town              Ngoc Hien   \n10545    Ngoc Hien District        Tan An Commune              Ngoc Hien   \n10546    Ngoc Hien District       Dat Mui Commune              Ngoc Hien   \n\n      short_ward_english district_level ward_level district_level_english  \\\n0                Phuc Xa           Quận     Phường               District   \n1              Truc Bach           Quận     Phường               District   \n2              Vinh Phuc           Quận     Phường               District   \n3                Cong Vi           Quận     Phường               District   \n4              Lieu Giai           Quận     Phường               District   \n...                  ...            ...        ...                    ...   \n10542       Vien An Dong          Huyện         Xã               District   \n10543            Vien An          Huyện         Xã               District   \n10544           Rach Goc          Huyện   Thị trấn               District   \n10545             Tan An          Huyện         Xã               District   \n10546            Dat Mui          Huyện         Xã               District   \n\n      ward_level_english  \n0                   Ward  \n1                   Ward  \n2                   Ward  \n3                   Ward  \n4                   Ward  \n...                  ...  \n10542            Commune  \n10543            Commune  \n10544               Town  \n10545            Commune  \n10546            Commune  \n\n[10547 rows x 20 columns]",
      "text/html": "<div>\n<style scoped>\n    .dataframe tbody tr th:only-of-type {\n        vertical-align: middle;\n    }\n\n    .dataframe tbody tr th {\n        vertical-align: top;\n    }\n\n    .dataframe thead th {\n        text-align: right;\n    }\n</style>\n<table border=\"1\" class=\"dataframe\">\n  <thead>\n    <tr style=\"text-align: right;\">\n      <th></th>\n      <th>province</th>\n      <th>district</th>\n      <th>ward</th>\n      <th>long_province</th>\n      <th>long_district</th>\n      <th>long_ward</th>\n      <th>short_district</th>\n      <th>short_ward</th>\n      <th>province_english</th>\n      <th>district_english</th>\n      <th>ward_english</th>\n      <th>long_province_english</th>\n      <th>long_district_english</th>\n      <th>long_ward_english</th>\n      <th>short_district_english</th>\n      <th>short_ward_english</th>\n      <th>district_level</th>\n      <th>ward_level</th>\n      <th>district_level_english</th>\n      <th>ward_level_english</th>\n    </tr>\n  </thead>\n  <tbody>\n    <tr>\n      <th>0</th>\n      <td>Hà Nội</td>\n      <td>Ba Đình</td>\n      <td>Phúc Xá</td>\n      <td>Thành phố Hà Nội</td>\n      <td>Quận Ba Đình</td>\n      <td>Phường Phúc Xá</td>\n      <td>Ba Đình</td>\n      <td>Phúc Xá</td>\n      <td>Ha Noi</td>\n      <td>Ba Dinh</td>\n      <td>Phuc Xa</td>\n      <td>Ha Noi City</td>\n      <td>Ba Dinh District</td>\n      <td>Phuc Xa Ward</td>\n      <td>Ba Dinh</td>\n      <td>Phuc Xa</td>\n      <td>Quận</td>\n      <td>Phường</td>\n      <td>District</td>\n      <td>Ward</td>\n    </tr>\n    <tr>\n      <th>1</th>\n      <td>Hà Nội</td>\n      <td>Ba Đình</td>\n      <td>Trúc Bạch</td>\n      <td>Thành phố Hà Nội</td>\n      <td>Quận Ba Đình</td>\n      <td>Phường Trúc Bạch</td>\n      <td>Ba Đình</td>\n      <td>Trúc Bạch</td>\n      <td>Ha Noi</td>\n      <td>Ba Dinh</td>\n      <td>Truc Bach</td>\n      <td>Ha Noi City</td>\n      <td>Ba Dinh District</td>\n      <td>Truc Bach Ward</td>\n      <td>Ba Dinh</td>\n      <td>Truc Bach</td>\n      <td>Quận</td>\n      <td>Phường</td>\n      <td>District</td>\n      <td>Ward</td>\n    </tr>\n    <tr>\n      <th>2</th>\n      <td>Hà Nội</td>\n      <td>Ba Đình</td>\n      <td>Vĩnh Phúc</td>\n      <td>Thành phố Hà Nội</td>\n      <td>Quận Ba Đình</td>\n      <td>Phường Vĩnh Phúc</td>\n      <td>Ba Đình</td>\n      <td>Vĩnh Phúc</td>\n      <td>Ha Noi</td>\n      <td>Ba Dinh</td>\n      <td>Vinh Phuc</td>\n      <td>Ha Noi City</td>\n      <td>Ba Dinh District</td>\n      <td>Vinh Phuc Ward</td>\n      <td>Ba Dinh</td>\n      <td>Vinh Phuc</td>\n      <td>Quận</td>\n      <td>Phường</td>\n      <td>District</td>\n      <td>Ward</td>\n    </tr>\n    <tr>\n      <th>3</th>\n      <td>Hà Nội</td>\n      <td>Ba Đình</td>\n      <td>Cống Vị</td>\n      <td>Thành phố Hà Nội</td>\n      <td>Quận Ba Đình</td>\n      <td>Phường Cống Vị</td>\n      <td>Ba Đình</td>\n      <td>Cống Vị</td>\n      <td>Ha Noi</td>\n      <td>Ba Dinh</td>\n      <td>Cong Vi</td>\n      <td>Ha Noi City</td>\n      <td>Ba Dinh District</td>\n      <td>Cong Vi Ward</td>\n      <td>Ba Dinh</td>\n      <td>Cong Vi</td>\n      <td>Quận</td>\n      <td>Phường</td>\n      <td>District</td>\n      <td>Ward</td>\n    </tr>\n    <tr>\n      <th>4</th>\n      <td>Hà Nội</td>\n      <td>Ba Đình</td>\n      <td>Liễu Giai</td>\n      <td>Thành phố Hà Nội</td>\n      <td>Quận Ba Đình</td>\n      <td>Phường Liễu Giai</td>\n      <td>Ba Đình</td>\n      <td>Liễu Giai</td>\n      <td>Ha Noi</td>\n      <td>Ba Dinh</td>\n      <td>Lieu Giai</td>\n      <td>Ha Noi City</td>\n      <td>Ba Dinh District</td>\n      <td>Lieu Giai Ward</td>\n      <td>Ba Dinh</td>\n      <td>Lieu Giai</td>\n      <td>Quận</td>\n      <td>Phường</td>\n      <td>District</td>\n      <td>Ward</td>\n    </tr>\n    <tr>\n      <th>...</th>\n      <td>...</td>\n      <td>...</td>\n      <td>...</td>\n      <td>...</td>\n      <td>...</td>\n      <td>...</td>\n      <td>...</td>\n      <td>...</td>\n      <td>...</td>\n      <td>...</td>\n      <td>...</td>\n      <td>...</td>\n      <td>...</td>\n      <td>...</td>\n      <td>...</td>\n      <td>...</td>\n      <td>...</td>\n      <td>...</td>\n      <td>...</td>\n      <td>...</td>\n    </tr>\n    <tr>\n      <th>10542</th>\n      <td>Cà Mau</td>\n      <td>Ngọc Hiển</td>\n      <td>Viên An Đông</td>\n      <td>Tỉnh Cà Mau</td>\n      <td>Huyện Ngọc Hiển</td>\n      <td>Xã Viên An Đông</td>\n      <td>Ngọc Hiển</td>\n      <td>Viên An Đông</td>\n      <td>Ca Mau</td>\n      <td>Ngoc Hien</td>\n      <td>Vien An Dong</td>\n      <td>Ca Mau Province</td>\n      <td>Ngoc Hien District</td>\n      <td>Vien An Dong Commune</td>\n      <td>Ngoc Hien</td>\n      <td>Vien An Dong</td>\n      <td>Huyện</td>\n      <td>Xã</td>\n      <td>District</td>\n      <td>Commune</td>\n    </tr>\n    <tr>\n      <th>10543</th>\n      <td>Cà Mau</td>\n      <td>Ngọc Hiển</td>\n      <td>Viên An</td>\n      <td>Tỉnh Cà Mau</td>\n      <td>Huyện Ngọc Hiển</td>\n      <td>Xã Viên An</td>\n      <td>Ngọc Hiển</td>\n      <td>Viên An</td>\n      <td>Ca Mau</td>\n      <td>Ngoc Hien</td>\n      <td>Vien An</td>\n      <td>Ca Mau Province</td>\n      <td>Ngoc Hien District</td>\n      <td>Vien An Commune</td>\n      <td>Ngoc Hien</td>\n      <td>Vien An</td>\n      <td>Huyện</td>\n      <td>Xã</td>\n      <td>District</td>\n      <td>Commune</td>\n    </tr>\n    <tr>\n      <th>10544</th>\n      <td>Cà Mau</td>\n      <td>Ngọc Hiển</td>\n      <td>Rạch Gốc</td>\n      <td>Tỉnh Cà Mau</td>\n      <td>Huyện Ngọc Hiển</td>\n      <td>Thị trấn Rạch Gốc</td>\n      <td>Ngọc Hiển</td>\n      <td>Rạch Gốc</td>\n      <td>Ca Mau</td>\n      <td>Ngoc Hien</td>\n      <td>Rach Goc</td>\n      <td>Ca Mau Province</td>\n      <td>Ngoc Hien District</td>\n      <td>Rach Goc Town</td>\n      <td>Ngoc Hien</td>\n      <td>Rach Goc</td>\n      <td>Huyện</td>\n      <td>Thị trấn</td>\n      <td>District</td>\n      <td>Town</td>\n    </tr>\n    <tr>\n      <th>10545</th>\n      <td>Cà Mau</td>\n      <td>Ngọc Hiển</td>\n      <td>Tân Ân</td>\n      <td>Tỉnh Cà Mau</td>\n      <td>Huyện Ngọc Hiển</td>\n      <td>Xã Tân Ân</td>\n      <td>Ngọc Hiển</td>\n      <td>Tân Ân</td>\n      <td>Ca Mau</td>\n      <td>Ngoc Hien</td>\n      <td>Tan An</td>\n      <td>Ca Mau Province</td>\n      <td>Ngoc Hien District</td>\n      <td>Tan An Commune</td>\n      <td>Ngoc Hien</td>\n      <td>Tan An</td>\n      <td>Huyện</td>\n      <td>Xã</td>\n      <td>District</td>\n      <td>Commune</td>\n    </tr>\n    <tr>\n      <th>10546</th>\n      <td>Cà Mau</td>\n      <td>Ngọc Hiển</td>\n      <td>Đất Mũi</td>\n      <td>Tỉnh Cà Mau</td>\n      <td>Huyện Ngọc Hiển</td>\n      <td>Xã Đất Mũi</td>\n      <td>Ngọc Hiển</td>\n      <td>Đất Mũi</td>\n      <td>Ca Mau</td>\n      <td>Ngoc Hien</td>\n      <td>Dat Mui</td>\n      <td>Ca Mau Province</td>\n      <td>Ngoc Hien District</td>\n      <td>Dat Mui Commune</td>\n      <td>Ngoc Hien</td>\n      <td>Dat Mui</td>\n      <td>Huyện</td>\n      <td>Xã</td>\n      <td>District</td>\n      <td>Commune</td>\n    </tr>\n  </tbody>\n</table>\n<p>10547 rows × 20 columns</p>\n</div>"
     },
     "execution_count": 61,
     "metadata": {},
     "output_type": "execute_result"
    }
   ],
   "source": [
    "df_map"
   ],
   "metadata": {
    "collapsed": false,
    "ExecuteTime": {
     "end_time": "2024-09-13T19:34:31.509748Z",
     "start_time": "2024-09-13T19:34:31.501365Z"
    }
   },
   "id": "75ab495558f89f26",
   "execution_count": 61
  },
  {
   "cell_type": "code",
   "outputs": [],
   "source": [
    "df_map.to_csv('../data/output/vietnam_administrative_units.csv', index=False, encoding='utf-8')"
   ],
   "metadata": {
    "collapsed": false,
    "ExecuteTime": {
     "end_time": "2024-09-13T19:34:31.617722Z",
     "start_time": "2024-09-13T19:34:31.567264Z"
    }
   },
   "id": "958ad86e130024d5",
   "execution_count": 62
  },
  {
   "cell_type": "code",
   "outputs": [],
   "source": [],
   "metadata": {
    "collapsed": false,
    "ExecuteTime": {
     "end_time": "2024-09-13T19:34:31.636009Z",
     "start_time": "2024-09-13T19:34:31.634684Z"
    }
   },
   "id": "f313cef456722ecb",
   "execution_count": 62
  }
 ],
 "metadata": {
  "kernelspec": {
   "display_name": "Python 3",
   "language": "python",
   "name": "python3"
  },
  "language_info": {
   "codemirror_mode": {
    "name": "ipython",
    "version": 2
   },
   "file_extension": ".py",
   "mimetype": "text/x-python",
   "name": "python",
   "nbconvert_exporter": "python",
   "pygments_lexer": "ipython2",
   "version": "2.7.6"
  }
 },
 "nbformat": 4,
 "nbformat_minor": 5
}
