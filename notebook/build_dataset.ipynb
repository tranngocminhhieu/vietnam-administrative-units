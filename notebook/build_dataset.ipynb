{
 "cells": [
  {
   "cell_type": "code",
   "execution_count": 1,
   "id": "initial_id",
   "metadata": {
    "collapsed": true,
    "ExecuteTime": {
     "end_time": "2024-09-13T09:20:41.748811Z",
     "start_time": "2024-09-13T09:20:41.058068Z"
    }
   },
   "outputs": [],
   "source": [
    "import numpy as np\n",
    "import pandas as pd\n",
    "import re\n",
    "from unidecode import unidecode"
   ]
  },
  {
   "cell_type": "markdown",
   "source": [
    "Input data source: [Danh sách đơn vị hành chính cấp huyện của Việt Nam - Wikipedia.org](https://vi.wikipedia.org/wiki/Danh_s%C3%A1ch_%C4%91%C6%A1n_v%E1%BB%8B_h%C3%A0nh_ch%C3%ADnh_c%E1%BA%A5p_huy%E1%BB%87n_c%E1%BB%A7a_Vi%E1%BB%87t_Nam)"
   ],
   "metadata": {
    "collapsed": false
   },
   "id": "178c3299d208d8f"
  },
  {
   "cell_type": "code",
   "outputs": [],
   "source": [
    "df = pd.read_csv('../data/input/wikipedia.csv')"
   ],
   "metadata": {
    "collapsed": false,
    "ExecuteTime": {
     "end_time": "2024-09-13T09:20:41.759891Z",
     "start_time": "2024-09-13T09:20:41.750147Z"
    }
   },
   "id": "e42c286d36b46761",
   "execution_count": 2
  },
  {
   "cell_type": "code",
   "outputs": [
    {
     "data": {
      "text/plain": "      district        province   level\n0       A Lưới  Thừa Thiên Huế     NaN\n1      An Biên      Kiên Giang     NaN\n2     An Dương       Hải Phòng     NaN\n3       An Khê         Gia Lai  thị xã\n4       An Lão       Hải Phòng     NaN\n..         ...             ...     ...\n699  Yên Phong        Bắc Ninh     NaN\n700    Yên Sơn     Tuyên Quang     NaN\n701  Yên Thành         Nghệ An     NaN\n702    Yên Thế       Bắc Giang     NaN\n703   Yên Thủy        Hòa Bình     NaN\n\n[704 rows x 3 columns]",
      "text/html": "<div>\n<style scoped>\n    .dataframe tbody tr th:only-of-type {\n        vertical-align: middle;\n    }\n\n    .dataframe tbody tr th {\n        vertical-align: top;\n    }\n\n    .dataframe thead th {\n        text-align: right;\n    }\n</style>\n<table border=\"1\" class=\"dataframe\">\n  <thead>\n    <tr style=\"text-align: right;\">\n      <th></th>\n      <th>district</th>\n      <th>province</th>\n      <th>level</th>\n    </tr>\n  </thead>\n  <tbody>\n    <tr>\n      <th>0</th>\n      <td>A Lưới</td>\n      <td>Thừa Thiên Huế</td>\n      <td>NaN</td>\n    </tr>\n    <tr>\n      <th>1</th>\n      <td>An Biên</td>\n      <td>Kiên Giang</td>\n      <td>NaN</td>\n    </tr>\n    <tr>\n      <th>2</th>\n      <td>An Dương</td>\n      <td>Hải Phòng</td>\n      <td>NaN</td>\n    </tr>\n    <tr>\n      <th>3</th>\n      <td>An Khê</td>\n      <td>Gia Lai</td>\n      <td>thị xã</td>\n    </tr>\n    <tr>\n      <th>4</th>\n      <td>An Lão</td>\n      <td>Hải Phòng</td>\n      <td>NaN</td>\n    </tr>\n    <tr>\n      <th>...</th>\n      <td>...</td>\n      <td>...</td>\n      <td>...</td>\n    </tr>\n    <tr>\n      <th>699</th>\n      <td>Yên Phong</td>\n      <td>Bắc Ninh</td>\n      <td>NaN</td>\n    </tr>\n    <tr>\n      <th>700</th>\n      <td>Yên Sơn</td>\n      <td>Tuyên Quang</td>\n      <td>NaN</td>\n    </tr>\n    <tr>\n      <th>701</th>\n      <td>Yên Thành</td>\n      <td>Nghệ An</td>\n      <td>NaN</td>\n    </tr>\n    <tr>\n      <th>702</th>\n      <td>Yên Thế</td>\n      <td>Bắc Giang</td>\n      <td>NaN</td>\n    </tr>\n    <tr>\n      <th>703</th>\n      <td>Yên Thủy</td>\n      <td>Hòa Bình</td>\n      <td>NaN</td>\n    </tr>\n  </tbody>\n</table>\n<p>704 rows × 3 columns</p>\n</div>"
     },
     "execution_count": 3,
     "metadata": {},
     "output_type": "execute_result"
    }
   ],
   "source": [
    "df"
   ],
   "metadata": {
    "collapsed": false,
    "ExecuteTime": {
     "end_time": "2024-09-13T09:20:41.767245Z",
     "start_time": "2024-09-13T09:20:41.760689Z"
    }
   },
   "id": "fe6951d32bc544a8",
   "execution_count": 3
  },
  {
   "cell_type": "code",
   "outputs": [],
   "source": [
    "def create_province_english(text):\n",
    "    u_text = unidecode(text)\n",
    "    c_text = str(u_text).title().strip()\n",
    "    c_text = re.sub(r'\\sProvince$|^Tinh\\s|^Thanh\\sPho\\s|\\sCity$', '', c_text, flags=re.IGNORECASE)\n",
    "    if c_text == 'Ho Chi Minh':\n",
    "        c_text = 'Ho Chi Minh City'\n",
    "    return c_text"
   ],
   "metadata": {
    "collapsed": false,
    "ExecuteTime": {
     "end_time": "2024-09-13T09:20:41.769512Z",
     "start_time": "2024-09-13T09:20:41.767854Z"
    }
   },
   "id": "e5c330986cd35c9a",
   "execution_count": 4
  },
  {
   "cell_type": "code",
   "outputs": [],
   "source": [
    "def create_district_english(text, level=None):\n",
    "    u_text = unidecode(text)\n",
    "    c_text = str(u_text).title().strip()\n",
    "    \n",
    "    if re.search(r'^Quan \\d{1,2}', c_text, flags=re.IGNORECASE):\n",
    "        c_text = re.sub(r'^Quan ', 'District ', c_text, flags=re.IGNORECASE)\n",
    "    \n",
    "    if isinstance(level, str):\n",
    "        c_text = f'{c_text} {level}'\n",
    "        \n",
    "    return c_text"
   ],
   "metadata": {
    "collapsed": false,
    "ExecuteTime": {
     "end_time": "2024-09-13T09:20:41.772939Z",
     "start_time": "2024-09-13T09:20:41.770736Z"
    }
   },
   "id": "1f119cc8be696955",
   "execution_count": 5
  },
  {
   "cell_type": "code",
   "outputs": [],
   "source": [
    "df['province'] = df['province'].str.replace('–', '-')\n",
    "df['district'] = df['district'].str.replace('–', '-')"
   ],
   "metadata": {
    "collapsed": false,
    "ExecuteTime": {
     "end_time": "2024-09-13T09:20:41.777275Z",
     "start_time": "2024-09-13T09:20:41.774117Z"
    }
   },
   "id": "92100e36424991d9",
   "execution_count": 6
  },
  {
   "cell_type": "code",
   "outputs": [],
   "source": [
    "df['level'] = df['level'].str.capitalize()"
   ],
   "metadata": {
    "collapsed": false,
    "ExecuteTime": {
     "end_time": "2024-09-13T09:20:41.779613Z",
     "start_time": "2024-09-13T09:20:41.777900Z"
    }
   },
   "id": "ab607edc97c720b9",
   "execution_count": 7
  },
  {
   "cell_type": "code",
   "outputs": [
    {
     "data": {
      "text/plain": "array([nan, 'Thị xã', 'Quận', 'Thành phố', 'Huyện đảo'], dtype=object)"
     },
     "execution_count": 8,
     "metadata": {},
     "output_type": "execute_result"
    }
   ],
   "source": [
    "df['level'].unique()"
   ],
   "metadata": {
    "collapsed": false,
    "ExecuteTime": {
     "end_time": "2024-09-13T09:20:41.782317Z",
     "start_time": "2024-09-13T09:20:41.780223Z"
    }
   },
   "id": "11f656a68e89f983",
   "execution_count": 8
  },
  {
   "cell_type": "code",
   "outputs": [],
   "source": [
    "keep_level = ['Thị xã', 'Thành phố']"
   ],
   "metadata": {
    "collapsed": false,
    "ExecuteTime": {
     "end_time": "2024-09-13T09:20:41.784419Z",
     "start_time": "2024-09-13T09:20:41.782901Z"
    }
   },
   "id": "9fe7eb0dd1dcbf13",
   "execution_count": 9
  },
  {
   "cell_type": "code",
   "outputs": [],
   "source": [
    "level_english = {\n",
    "    'Thị xã': 'Town',\n",
    "    'Thành phố': 'City'\n",
    "}"
   ],
   "metadata": {
    "collapsed": false,
    "ExecuteTime": {
     "end_time": "2024-09-13T09:20:41.786347Z",
     "start_time": "2024-09-13T09:20:41.785019Z"
    }
   },
   "id": "de2433dbff7909d0",
   "execution_count": 10
  },
  {
   "cell_type": "code",
   "outputs": [],
   "source": [
    "df['level'] = np.where(df['level'].isin(keep_level), df['level'], np.nan)"
   ],
   "metadata": {
    "collapsed": false,
    "ExecuteTime": {
     "end_time": "2024-09-13T09:20:41.789595Z",
     "start_time": "2024-09-13T09:20:41.787002Z"
    }
   },
   "id": "5356da2f1688c633",
   "execution_count": 11
  },
  {
   "cell_type": "code",
   "outputs": [],
   "source": [
    "df['level_english'] = df['level'].map(level_english)"
   ],
   "metadata": {
    "collapsed": false,
    "ExecuteTime": {
     "end_time": "2024-09-13T09:20:41.792155Z",
     "start_time": "2024-09-13T09:20:41.790243Z"
    }
   },
   "id": "d8f0a6940d7d6910",
   "execution_count": 12
  },
  {
   "cell_type": "code",
   "outputs": [],
   "source": [
    "df['district_long'] = np.where(~df['level'].isna(), df['level'] + ' ' + df['district'], df['district'])"
   ],
   "metadata": {
    "collapsed": false,
    "ExecuteTime": {
     "end_time": "2024-09-13T09:20:41.795021Z",
     "start_time": "2024-09-13T09:20:41.792597Z"
    }
   },
   "id": "b2bfa4e6ac610745",
   "execution_count": 13
  },
  {
   "cell_type": "code",
   "outputs": [],
   "source": [
    "df['district_english'] = df['district'].apply(unidecode)"
   ],
   "metadata": {
    "collapsed": false,
    "ExecuteTime": {
     "end_time": "2024-09-13T09:20:41.801100Z",
     "start_time": "2024-09-13T09:20:41.796806Z"
    }
   },
   "id": "5363603e1b5870eb",
   "execution_count": 14
  },
  {
   "cell_type": "code",
   "outputs": [],
   "source": [
    "df['district_long_english'] = df.apply(lambda x: create_district_english(x.district, x.level_english), axis=1)"
   ],
   "metadata": {
    "collapsed": false,
    "ExecuteTime": {
     "end_time": "2024-09-13T09:20:41.808996Z",
     "start_time": "2024-09-13T09:20:41.801629Z"
    }
   },
   "id": "bc910e24cea6d59e",
   "execution_count": 15
  },
  {
   "cell_type": "code",
   "outputs": [],
   "source": [
    "df['province_english'] = df['province'].apply(create_province_english)"
   ],
   "metadata": {
    "collapsed": false,
    "ExecuteTime": {
     "end_time": "2024-09-13T09:20:41.813153Z",
     "start_time": "2024-09-13T09:20:41.809663Z"
    }
   },
   "id": "1819eca14830bcaa",
   "execution_count": 16
  },
  {
   "cell_type": "code",
   "outputs": [
    {
     "data": {
      "text/plain": "      district        province   level level_english  district_long  \\\n0       A Lưới  Thừa Thiên Huế     NaN           NaN         A Lưới   \n1      An Biên      Kiên Giang     NaN           NaN        An Biên   \n2     An Dương       Hải Phòng     NaN           NaN       An Dương   \n3       An Khê         Gia Lai  Thị xã          Town  Thị xã An Khê   \n4       An Lão       Hải Phòng     NaN           NaN         An Lão   \n..         ...             ...     ...           ...            ...   \n699  Yên Phong        Bắc Ninh     NaN           NaN      Yên Phong   \n700    Yên Sơn     Tuyên Quang     NaN           NaN        Yên Sơn   \n701  Yên Thành         Nghệ An     NaN           NaN      Yên Thành   \n702    Yên Thế       Bắc Giang     NaN           NaN        Yên Thế   \n703   Yên Thủy        Hòa Bình     NaN           NaN       Yên Thủy   \n\n    district_english district_long_english province_english  \n0             A Luoi                A Luoi   Thua Thien Hue  \n1            An Bien               An Bien       Kien Giang  \n2           An Duong              An Duong        Hai Phong  \n3             An Khe           An Khe Town          Gia Lai  \n4             An Lao                An Lao        Hai Phong  \n..               ...                   ...              ...  \n699        Yen Phong             Yen Phong         Bac Ninh  \n700          Yen Son               Yen Son      Tuyen Quang  \n701        Yen Thanh             Yen Thanh          Nghe An  \n702          Yen The               Yen The        Bac Giang  \n703         Yen Thuy              Yen Thuy         Hoa Binh  \n\n[704 rows x 8 columns]",
      "text/html": "<div>\n<style scoped>\n    .dataframe tbody tr th:only-of-type {\n        vertical-align: middle;\n    }\n\n    .dataframe tbody tr th {\n        vertical-align: top;\n    }\n\n    .dataframe thead th {\n        text-align: right;\n    }\n</style>\n<table border=\"1\" class=\"dataframe\">\n  <thead>\n    <tr style=\"text-align: right;\">\n      <th></th>\n      <th>district</th>\n      <th>province</th>\n      <th>level</th>\n      <th>level_english</th>\n      <th>district_long</th>\n      <th>district_english</th>\n      <th>district_long_english</th>\n      <th>province_english</th>\n    </tr>\n  </thead>\n  <tbody>\n    <tr>\n      <th>0</th>\n      <td>A Lưới</td>\n      <td>Thừa Thiên Huế</td>\n      <td>NaN</td>\n      <td>NaN</td>\n      <td>A Lưới</td>\n      <td>A Luoi</td>\n      <td>A Luoi</td>\n      <td>Thua Thien Hue</td>\n    </tr>\n    <tr>\n      <th>1</th>\n      <td>An Biên</td>\n      <td>Kiên Giang</td>\n      <td>NaN</td>\n      <td>NaN</td>\n      <td>An Biên</td>\n      <td>An Bien</td>\n      <td>An Bien</td>\n      <td>Kien Giang</td>\n    </tr>\n    <tr>\n      <th>2</th>\n      <td>An Dương</td>\n      <td>Hải Phòng</td>\n      <td>NaN</td>\n      <td>NaN</td>\n      <td>An Dương</td>\n      <td>An Duong</td>\n      <td>An Duong</td>\n      <td>Hai Phong</td>\n    </tr>\n    <tr>\n      <th>3</th>\n      <td>An Khê</td>\n      <td>Gia Lai</td>\n      <td>Thị xã</td>\n      <td>Town</td>\n      <td>Thị xã An Khê</td>\n      <td>An Khe</td>\n      <td>An Khe Town</td>\n      <td>Gia Lai</td>\n    </tr>\n    <tr>\n      <th>4</th>\n      <td>An Lão</td>\n      <td>Hải Phòng</td>\n      <td>NaN</td>\n      <td>NaN</td>\n      <td>An Lão</td>\n      <td>An Lao</td>\n      <td>An Lao</td>\n      <td>Hai Phong</td>\n    </tr>\n    <tr>\n      <th>...</th>\n      <td>...</td>\n      <td>...</td>\n      <td>...</td>\n      <td>...</td>\n      <td>...</td>\n      <td>...</td>\n      <td>...</td>\n      <td>...</td>\n    </tr>\n    <tr>\n      <th>699</th>\n      <td>Yên Phong</td>\n      <td>Bắc Ninh</td>\n      <td>NaN</td>\n      <td>NaN</td>\n      <td>Yên Phong</td>\n      <td>Yen Phong</td>\n      <td>Yen Phong</td>\n      <td>Bac Ninh</td>\n    </tr>\n    <tr>\n      <th>700</th>\n      <td>Yên Sơn</td>\n      <td>Tuyên Quang</td>\n      <td>NaN</td>\n      <td>NaN</td>\n      <td>Yên Sơn</td>\n      <td>Yen Son</td>\n      <td>Yen Son</td>\n      <td>Tuyen Quang</td>\n    </tr>\n    <tr>\n      <th>701</th>\n      <td>Yên Thành</td>\n      <td>Nghệ An</td>\n      <td>NaN</td>\n      <td>NaN</td>\n      <td>Yên Thành</td>\n      <td>Yen Thanh</td>\n      <td>Yen Thanh</td>\n      <td>Nghe An</td>\n    </tr>\n    <tr>\n      <th>702</th>\n      <td>Yên Thế</td>\n      <td>Bắc Giang</td>\n      <td>NaN</td>\n      <td>NaN</td>\n      <td>Yên Thế</td>\n      <td>Yen The</td>\n      <td>Yen The</td>\n      <td>Bac Giang</td>\n    </tr>\n    <tr>\n      <th>703</th>\n      <td>Yên Thủy</td>\n      <td>Hòa Bình</td>\n      <td>NaN</td>\n      <td>NaN</td>\n      <td>Yên Thủy</td>\n      <td>Yen Thuy</td>\n      <td>Yen Thuy</td>\n      <td>Hoa Binh</td>\n    </tr>\n  </tbody>\n</table>\n<p>704 rows × 8 columns</p>\n</div>"
     },
     "execution_count": 17,
     "metadata": {},
     "output_type": "execute_result"
    }
   ],
   "source": [
    "df"
   ],
   "metadata": {
    "collapsed": false,
    "ExecuteTime": {
     "end_time": "2024-09-13T09:20:41.818717Z",
     "start_time": "2024-09-13T09:20:41.813780Z"
    }
   },
   "id": "2262bacfd4efa185",
   "execution_count": 17
  },
  {
   "cell_type": "code",
   "outputs": [],
   "source": [
    "df.to_csv('../data/output/district_administrative_unit_of_vietnam.csv', index=False, encoding='utf-8')"
   ],
   "metadata": {
    "collapsed": false,
    "ExecuteTime": {
     "end_time": "2024-09-13T09:20:41.825217Z",
     "start_time": "2024-09-13T09:20:41.819339Z"
    }
   },
   "id": "3dd43d782abe18a1",
   "execution_count": 18
  }
 ],
 "metadata": {
  "kernelspec": {
   "display_name": "Python 3",
   "language": "python",
   "name": "python3"
  },
  "language_info": {
   "codemirror_mode": {
    "name": "ipython",
    "version": 2
   },
   "file_extension": ".py",
   "mimetype": "text/x-python",
   "name": "python",
   "nbconvert_exporter": "python",
   "pygments_lexer": "ipython2",
   "version": "2.7.6"
  }
 },
 "nbformat": 4,
 "nbformat_minor": 5
}
