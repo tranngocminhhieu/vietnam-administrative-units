{
 "cells": [
  {
   "cell_type": "markdown",
   "source": [
    "# Check spelling\n",
    "\n",
    "We will use CocCoc API to check each single word."
   ],
   "metadata": {
    "collapsed": false
   },
   "id": "2bf94bb165fadf32"
  },
  {
   "cell_type": "code",
   "execution_count": null,
   "id": "initial_id",
   "metadata": {
    "collapsed": true
   },
   "outputs": [],
   "source": [
    "import requests\n",
    "import pandas as pd\n",
    "from tqdm.auto import tqdm\n",
    "\n",
    "df = pd.read_csv('../data/output/vietnam_administrative_units.csv')\n",
    "\n",
    "texts = ' '.join(df.ward.dropna().unique().tolist())\n",
    "texts = texts.split(' ')\n",
    "texts = list(set(texts))\n",
    "url = 'https://hoctap.coccoc.com/composer/spellchecker'\n",
    "\n",
    "\n",
    "wrong_texts = []\n",
    "for text in tqdm(texts):\n",
    "    params = {\"params\":{\"text\":text}}\n",
    "    res = requests.post(url, json=params)\n",
    "    data = res.json()\n",
    "    if data['spellchecker']['result']['spellingCheckResponse'] != {}:\n",
    "        suggestion = data['spellchecker']['result']['spellingCheckResponse']['misspellings'][0]['suggestions'][-1]['suggestion']\n",
    "        print(text, '>', suggestion)\n",
    "        wrong_texts.append({'text': text, 'suggestion': suggestion})"
   ]
  }
 ],
 "metadata": {
  "kernelspec": {
   "display_name": "Python 3",
   "language": "python",
   "name": "python3"
  },
  "language_info": {
   "codemirror_mode": {
    "name": "ipython",
    "version": 2
   },
   "file_extension": ".py",
   "mimetype": "text/x-python",
   "name": "python",
   "nbconvert_exporter": "python",
   "pygments_lexer": "ipython2",
   "version": "2.7.6"
  }
 },
 "nbformat": 4,
 "nbformat_minor": 5
}
