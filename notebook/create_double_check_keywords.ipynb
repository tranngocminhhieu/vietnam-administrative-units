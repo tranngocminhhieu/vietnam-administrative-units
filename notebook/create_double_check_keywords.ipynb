{
 "cells": [
  {
   "cell_type": "code",
   "execution_count": 1,
   "id": "initial_id",
   "metadata": {
    "collapsed": true,
    "ExecuteTime": {
     "end_time": "2024-09-16T11:30:57.715863Z",
     "start_time": "2024-09-16T11:30:57.345261Z"
    }
   },
   "outputs": [],
   "source": [
    "from vietadminunits import parse_address\n",
    "import pandas as pd\n",
    "import re\n",
    "from unidecode import unidecode"
   ]
  },
  {
   "cell_type": "code",
   "outputs": [],
   "source": [
    "def create_key(text):\n",
    "    if not isinstance(text, str):\n",
    "        return text\n",
    "    u_text = unidecode(text) # Unidecode first help remove special characters\n",
    "    c_text = u_text.lower().strip() # Case must be second step\n",
    "    c_text = re.sub(r\"\\-|\\'\", ' ', c_text)\n",
    "    c_text = c_text.replace(' ', '')\n",
    "    return c_text"
   ],
   "metadata": {
    "collapsed": false,
    "ExecuteTime": {
     "end_time": "2024-09-16T11:30:57.720812Z",
     "start_time": "2024-09-16T11:30:57.718127Z"
    }
   },
   "id": "2bde8df71e649217",
   "execution_count": 2
  },
  {
   "cell_type": "code",
   "outputs": [],
   "source": [
    "def find_new_district_english(text):\n",
    "    au = parse_address(text, 2)\n",
    "    return au.district_english"
   ],
   "metadata": {
    "collapsed": false,
    "ExecuteTime": {
     "end_time": "2024-09-16T11:30:57.724168Z",
     "start_time": "2024-09-16T11:30:57.722128Z"
    }
   },
   "id": "4b9cb3b2d7d5430d",
   "execution_count": 3
  },
  {
   "cell_type": "code",
   "outputs": [],
   "source": [
    "def prepare_address(province, change):\n",
    "    address = province + ' ' + re.sub(f'.* thành ', '', change)\n",
    "    return address"
   ],
   "metadata": {
    "collapsed": false,
    "ExecuteTime": {
     "end_time": "2024-09-16T11:30:57.729112Z",
     "start_time": "2024-09-16T11:30:57.726812Z"
    }
   },
   "id": "656d35ad44bff4a0",
   "execution_count": 4
  },
  {
   "cell_type": "code",
   "outputs": [],
   "source": [
    "def create_province_english(text):\n",
    "    au = parse_address(text, 1)\n",
    "    return au.province_english"
   ],
   "metadata": {
    "collapsed": false,
    "ExecuteTime": {
     "end_time": "2024-09-16T11:30:57.736149Z",
     "start_time": "2024-09-16T11:30:57.730633Z"
    }
   },
   "id": "af136e3f32ba4be8",
   "execution_count": 5
  },
  {
   "cell_type": "code",
   "outputs": [],
   "source": [
    "def create_district_key(text):\n",
    "    au = parse_address(text)\n",
    "    return au.district_key"
   ],
   "metadata": {
    "collapsed": false,
    "ExecuteTime": {
     "end_time": "2024-09-16T11:30:57.741236Z",
     "start_time": "2024-09-16T11:30:57.738038Z"
    }
   },
   "id": "4508d22ba07862fd",
   "execution_count": 6
  },
  {
   "cell_type": "code",
   "outputs": [],
   "source": [
    "def create_province_key(text):\n",
    "    au = parse_address(text)\n",
    "    return au.province_key"
   ],
   "metadata": {
    "collapsed": false,
    "ExecuteTime": {
     "end_time": "2024-09-16T11:30:57.745415Z",
     "start_time": "2024-09-16T11:30:57.742666Z"
    }
   },
   "id": "5d331ad827c5c9a6",
   "execution_count": 7
  },
  {
   "cell_type": "code",
   "outputs": [],
   "source": [
    "df = pd.read_csv('../data/input/danhmuchanhchinhgso.gov.vn.csv')"
   ],
   "metadata": {
    "collapsed": false,
    "ExecuteTime": {
     "end_time": "2024-09-16T11:30:57.761360Z",
     "start_time": "2024-09-16T11:30:57.746883Z"
    }
   },
   "id": "b1b52d5aed5034d9",
   "execution_count": 8
  },
  {
   "cell_type": "code",
   "outputs": [],
   "source": [
    "df['ward_address'] = df['long_ward'].fillna('') + ', ' + df['long_district'] + ', ' + df['long_province']\n",
    "ward_addresses = df['ward_address'].dropna().tolist()"
   ],
   "metadata": {
    "collapsed": false,
    "ExecuteTime": {
     "end_time": "2024-09-16T11:30:57.767224Z",
     "start_time": "2024-09-16T11:30:57.761976Z"
    }
   },
   "id": "6ac69377545e33d",
   "execution_count": 9
  },
  {
   "cell_type": "code",
   "outputs": [
    {
     "data": {
      "text/plain": "          long_province    long_district          long_ward ward_level  \\\n0      Thành phố Hà Nội     Quận Ba Đình     Phường Phúc Xá     Phường   \n1      Thành phố Hà Nội     Quận Ba Đình   Phường Trúc Bạch     Phường   \n2      Thành phố Hà Nội     Quận Ba Đình   Phường Vĩnh Phúc     Phường   \n3      Thành phố Hà Nội     Quận Ba Đình     Phường Cống Vị     Phường   \n4      Thành phố Hà Nội     Quận Ba Đình   Phường Liễu Giai     Phường   \n...                 ...              ...                ...        ...   \n10542       Tỉnh Cà Mau  Huyện Ngọc Hiển    Xã Viên An Đông         Xã   \n10543       Tỉnh Cà Mau  Huyện Ngọc Hiển         Xã Viên An         Xã   \n10544       Tỉnh Cà Mau  Huyện Ngọc Hiển  Thị trấn Rạch Gốc   Thị trấn   \n10545       Tỉnh Cà Mau  Huyện Ngọc Hiển          Xã Tân Ân         Xã   \n10546       Tỉnh Cà Mau  Huyện Ngọc Hiển         Xã Đất Mũi         Xã   \n\n                                           ward_address  \n0        Phường Phúc Xá, Quận Ba Đình, Thành phố Hà Nội  \n1      Phường Trúc Bạch, Quận Ba Đình, Thành phố Hà Nội  \n2      Phường Vĩnh Phúc, Quận Ba Đình, Thành phố Hà Nội  \n3        Phường Cống Vị, Quận Ba Đình, Thành phố Hà Nội  \n4      Phường Liễu Giai, Quận Ba Đình, Thành phố Hà Nội  \n...                                                 ...  \n10542     Xã Viên An Đông, Huyện Ngọc Hiển, Tỉnh Cà Mau  \n10543          Xã Viên An, Huyện Ngọc Hiển, Tỉnh Cà Mau  \n10544   Thị trấn Rạch Gốc, Huyện Ngọc Hiển, Tỉnh Cà Mau  \n10545           Xã Tân Ân, Huyện Ngọc Hiển, Tỉnh Cà Mau  \n10546          Xã Đất Mũi, Huyện Ngọc Hiển, Tỉnh Cà Mau  \n\n[10547 rows x 5 columns]",
      "text/html": "<div>\n<style scoped>\n    .dataframe tbody tr th:only-of-type {\n        vertical-align: middle;\n    }\n\n    .dataframe tbody tr th {\n        vertical-align: top;\n    }\n\n    .dataframe thead th {\n        text-align: right;\n    }\n</style>\n<table border=\"1\" class=\"dataframe\">\n  <thead>\n    <tr style=\"text-align: right;\">\n      <th></th>\n      <th>long_province</th>\n      <th>long_district</th>\n      <th>long_ward</th>\n      <th>ward_level</th>\n      <th>ward_address</th>\n    </tr>\n  </thead>\n  <tbody>\n    <tr>\n      <th>0</th>\n      <td>Thành phố Hà Nội</td>\n      <td>Quận Ba Đình</td>\n      <td>Phường Phúc Xá</td>\n      <td>Phường</td>\n      <td>Phường Phúc Xá, Quận Ba Đình, Thành phố Hà Nội</td>\n    </tr>\n    <tr>\n      <th>1</th>\n      <td>Thành phố Hà Nội</td>\n      <td>Quận Ba Đình</td>\n      <td>Phường Trúc Bạch</td>\n      <td>Phường</td>\n      <td>Phường Trúc Bạch, Quận Ba Đình, Thành phố Hà Nội</td>\n    </tr>\n    <tr>\n      <th>2</th>\n      <td>Thành phố Hà Nội</td>\n      <td>Quận Ba Đình</td>\n      <td>Phường Vĩnh Phúc</td>\n      <td>Phường</td>\n      <td>Phường Vĩnh Phúc, Quận Ba Đình, Thành phố Hà Nội</td>\n    </tr>\n    <tr>\n      <th>3</th>\n      <td>Thành phố Hà Nội</td>\n      <td>Quận Ba Đình</td>\n      <td>Phường Cống Vị</td>\n      <td>Phường</td>\n      <td>Phường Cống Vị, Quận Ba Đình, Thành phố Hà Nội</td>\n    </tr>\n    <tr>\n      <th>4</th>\n      <td>Thành phố Hà Nội</td>\n      <td>Quận Ba Đình</td>\n      <td>Phường Liễu Giai</td>\n      <td>Phường</td>\n      <td>Phường Liễu Giai, Quận Ba Đình, Thành phố Hà Nội</td>\n    </tr>\n    <tr>\n      <th>...</th>\n      <td>...</td>\n      <td>...</td>\n      <td>...</td>\n      <td>...</td>\n      <td>...</td>\n    </tr>\n    <tr>\n      <th>10542</th>\n      <td>Tỉnh Cà Mau</td>\n      <td>Huyện Ngọc Hiển</td>\n      <td>Xã Viên An Đông</td>\n      <td>Xã</td>\n      <td>Xã Viên An Đông, Huyện Ngọc Hiển, Tỉnh Cà Mau</td>\n    </tr>\n    <tr>\n      <th>10543</th>\n      <td>Tỉnh Cà Mau</td>\n      <td>Huyện Ngọc Hiển</td>\n      <td>Xã Viên An</td>\n      <td>Xã</td>\n      <td>Xã Viên An, Huyện Ngọc Hiển, Tỉnh Cà Mau</td>\n    </tr>\n    <tr>\n      <th>10544</th>\n      <td>Tỉnh Cà Mau</td>\n      <td>Huyện Ngọc Hiển</td>\n      <td>Thị trấn Rạch Gốc</td>\n      <td>Thị trấn</td>\n      <td>Thị trấn Rạch Gốc, Huyện Ngọc Hiển, Tỉnh Cà Mau</td>\n    </tr>\n    <tr>\n      <th>10545</th>\n      <td>Tỉnh Cà Mau</td>\n      <td>Huyện Ngọc Hiển</td>\n      <td>Xã Tân Ân</td>\n      <td>Xã</td>\n      <td>Xã Tân Ân, Huyện Ngọc Hiển, Tỉnh Cà Mau</td>\n    </tr>\n    <tr>\n      <th>10546</th>\n      <td>Tỉnh Cà Mau</td>\n      <td>Huyện Ngọc Hiển</td>\n      <td>Xã Đất Mũi</td>\n      <td>Xã</td>\n      <td>Xã Đất Mũi, Huyện Ngọc Hiển, Tỉnh Cà Mau</td>\n    </tr>\n  </tbody>\n</table>\n<p>10547 rows × 5 columns</p>\n</div>"
     },
     "execution_count": 10,
     "metadata": {},
     "output_type": "execute_result"
    }
   ],
   "source": [
    "df"
   ],
   "metadata": {
    "collapsed": false,
    "ExecuteTime": {
     "end_time": "2024-09-16T11:30:57.776365Z",
     "start_time": "2024-09-16T11:30:57.768975Z"
    }
   },
   "id": "52b99db13672f432",
   "execution_count": 10
  },
  {
   "cell_type": "markdown",
   "source": [
    "## Find wards that are the same keyword with provinces"
   ],
   "metadata": {
    "collapsed": false
   },
   "id": "4a1285958689a4"
  },
  {
   "cell_type": "code",
   "outputs": [
    {
     "name": "stdout",
     "output_type": "stream",
     "text": [
      "Xã Vĩnh Phúc, Huyện Bắc Quang, Tỉnh Hà Giang\n",
      "Phường Thái Bình, Thành phố Hòa Bình, Tỉnh Hoà Bình\n",
      "Xã Bình Thuận, Huyện Đại Từ, Tỉnh Thái Nguyên\n",
      "Xã Lâm Động, Huyện Thuỷ Nguyên, Thành phố Hải Phòng\n",
      "Xã Vĩnh Long, Huyện Vĩnh Bảo, Thành phố Hải Phòng\n",
      "Xã Thái Nguyên, Huyện Thái Thụy, Tỉnh Thái Bình\n",
      "Xã Tây Ninh, Huyện Tiền Hải, Tỉnh Thái Bình\n",
      "Phường Vân Giang, Thành phố Ninh Bình, Tỉnh Ninh Bình\n",
      "Xã Sơn Lai, Huyện Nho Quan, Tỉnh Ninh Bình\n",
      "Xã Khánh Hòa, Huyện Yên Khánh, Tỉnh Ninh Bình\n",
      "Phường Điện Biên, Thành phố Thanh Hóa, Tỉnh Thanh Hóa\n",
      "Xã Vĩnh Phúc, Huyện Vĩnh Lộc, Tỉnh Thanh Hóa\n",
      "Xã Thanh Hóa, Huyện Tuyên Hóa, Tỉnh Quảng Bình\n",
      "Thị trấn Kiến Giang, Huyện Lệ Thủy, Tỉnh Quảng Bình\n",
      "Xã Hải Dương, Huyện Hải Lăng, Tỉnh Quảng Trị\n",
      "Xã Bình Thuận, Huyện Bình Sơn, Tỉnh Quảng Ngãi\n",
      "Xã Sơn Lập, Huyện Sơn Tây, Tỉnh Quảng Ngãi\n",
      "Xã Bình Thuận, Huyện Tây Sơn, Tỉnh Bình Định\n",
      "Xã Hòa Quang Nam, Huyện Phú Hoà, Tỉnh Phú Yên\n",
      "Xã Sơn Lâm, Huyện Khánh Sơn, Tỉnh Khánh Hòa\n",
      "Xã Quảng Trị, Huyện Đạ Tẻh, Tỉnh Lâm Đồng\n",
      "Xã Quảng Ngãi, Huyện Cát Tiên, Tỉnh Lâm Đồng\n",
      "Xã Đồng Nai Thượng, Huyện Cát Tiên, Tỉnh Lâm Đồng\n",
      "Xã Thanh Hòa, Huyện Bù Đốp, Tỉnh Bình Phước\n",
      "Phường Phú Thọ, Thành phố Thủ Dầu Một, Tỉnh Bình Dương\n",
      "Xã Long An, Huyện Long Thành, Tỉnh Đồng Nai\n",
      "Xã Thái Bình Trung, Huyện Vĩnh Hưng, Tỉnh Long An\n",
      "Xã Long An, Huyện Long Hồ, Tỉnh Vĩnh Long\n",
      "Xã Bình Phước, Huyện Mang Thít, Tỉnh Vĩnh Long\n",
      "Xã Long An, Thị xã Tân Châu, Tỉnh An Giang\n",
      "Xã Phú Thọ, Huyện Phú Tân, Tỉnh An Giang\n",
      "Xã Khánh Hòa, Huyện Châu Phú, Tỉnh An Giang\n",
      "Xã Bình Phước Xuân, Huyện Chợ Mới, Tỉnh An Giang\n",
      "Xã Hưng Yên, Huyện An Biên, Tỉnh Kiên Giang\n"
     ]
    }
   ],
   "source": [
    "wrong_addresses = []\n",
    "for row in df.itertuples():\n",
    "    unit = parse_address(row.ward_address, level=2)\n",
    "    \n",
    "    data = {\n",
    "        'ward_address': row.ward_address,\n",
    "        'province': row.long_province,\n",
    "        'wrong_province_key': unit.province_key,\n",
    "    }\n",
    "    \n",
    "    if unit.province == None:\n",
    "        print(row.ward_address)\n",
    "\n",
    "        wrong_addresses.append(data)\n",
    "    elif unit.district == None:\n",
    "        print(row.ward_address)\n",
    "\n",
    "        wrong_addresses.append(data)\n",
    "    # elif unit.ward == None:\n",
    "    #     print(ward_address)\n",
    "    #     wrong_addresses.append(data)"
   ],
   "metadata": {
    "collapsed": false,
    "ExecuteTime": {
     "end_time": "2024-09-16T11:30:57.919Z",
     "start_time": "2024-09-16T11:30:57.776877Z"
    }
   },
   "id": "aca769f749d9adf8",
   "execution_count": 11
  },
  {
   "cell_type": "code",
   "outputs": [],
   "source": [
    "df_wrong_provinces = pd.DataFrame(wrong_addresses)"
   ],
   "metadata": {
    "collapsed": false,
    "ExecuteTime": {
     "end_time": "2024-09-16T11:30:57.921691Z",
     "start_time": "2024-09-16T11:30:57.919723Z"
    }
   },
   "id": "69ce345fefd31da9",
   "execution_count": 12
  },
  {
   "cell_type": "code",
   "outputs": [
    {
     "data": {
      "text/plain": "                                         ward_address             province  \\\n0        Xã Vĩnh Phúc, Huyện Bắc Quang, Tỉnh Hà Giang        Tỉnh Hà Giang   \n1   Phường Thái Bình, Thành phố Hòa Bình, Tỉnh Hoà...        Tỉnh Hoà Bình   \n2       Xã Bình Thuận, Huyện Đại Từ, Tỉnh Thái Nguyên     Tỉnh Thái Nguyên   \n3   Xã Lâm Động, Huyện Thuỷ Nguyên, Thành phố Hải ...  Thành phố Hải Phòng   \n4   Xã Vĩnh Long, Huyện Vĩnh Bảo, Thành phố Hải Phòng  Thành phố Hải Phòng   \n5     Xã Thái Nguyên, Huyện Thái Thụy, Tỉnh Thái Bình       Tỉnh Thái Bình   \n6         Xã Tây Ninh, Huyện Tiền Hải, Tỉnh Thái Bình       Tỉnh Thái Bình   \n7   Phường Vân Giang, Thành phố Ninh Bình, Tỉnh Ni...       Tỉnh Ninh Bình   \n8          Xã Sơn Lai, Huyện Nho Quan, Tỉnh Ninh Bình       Tỉnh Ninh Bình   \n9       Xã Khánh Hòa, Huyện Yên Khánh, Tỉnh Ninh Bình       Tỉnh Ninh Bình   \n10  Phường Điện Biên, Thành phố Thanh Hóa, Tỉnh Th...       Tỉnh Thanh Hóa   \n11       Xã Vĩnh Phúc, Huyện Vĩnh Lộc, Tỉnh Thanh Hóa       Tỉnh Thanh Hóa   \n12     Xã Thanh Hóa, Huyện Tuyên Hóa, Tỉnh Quảng Bình      Tỉnh Quảng Bình   \n13  Thị trấn Kiến Giang, Huyện Lệ Thủy, Tỉnh Quảng...      Tỉnh Quảng Bình   \n14       Xã Hải Dương, Huyện Hải Lăng, Tỉnh Quảng Trị       Tỉnh Quảng Trị   \n15     Xã Bình Thuận, Huyện Bình Sơn, Tỉnh Quảng Ngãi      Tỉnh Quảng Ngãi   \n16         Xã Sơn Lập, Huyện Sơn Tây, Tỉnh Quảng Ngãi      Tỉnh Quảng Ngãi   \n17       Xã Bình Thuận, Huyện Tây Sơn, Tỉnh Bình Định       Tỉnh Bình Định   \n18      Xã Hòa Quang Nam, Huyện Phú Hoà, Tỉnh Phú Yên         Tỉnh Phú Yên   \n19        Xã Sơn Lâm, Huyện Khánh Sơn, Tỉnh Khánh Hòa       Tỉnh Khánh Hòa   \n20          Xã Quảng Trị, Huyện Đạ Tẻh, Tỉnh Lâm Đồng        Tỉnh Lâm Đồng   \n21       Xã Quảng Ngãi, Huyện Cát Tiên, Tỉnh Lâm Đồng        Tỉnh Lâm Đồng   \n22  Xã Đồng Nai Thượng, Huyện Cát Tiên, Tỉnh Lâm Đồng        Tỉnh Lâm Đồng   \n23        Xã Thanh Hòa, Huyện Bù Đốp, Tỉnh Bình Phước      Tỉnh Bình Phước   \n24  Phường Phú Thọ, Thành phố Thủ Dầu Một, Tỉnh Bì...      Tỉnh Bình Dương   \n25        Xã Long An, Huyện Long Thành, Tỉnh Đồng Nai        Tỉnh Đồng Nai   \n26  Xã Thái Bình Trung, Huyện Vĩnh Hưng, Tỉnh Long An         Tỉnh Long An   \n27          Xã Long An, Huyện Long Hồ, Tỉnh Vĩnh Long       Tỉnh Vĩnh Long   \n28     Xã Bình Phước, Huyện Mang Thít, Tỉnh Vĩnh Long       Tỉnh Vĩnh Long   \n29         Xã Long An, Thị xã Tân Châu, Tỉnh An Giang        Tỉnh An Giang   \n30           Xã Phú Thọ, Huyện Phú Tân, Tỉnh An Giang        Tỉnh An Giang   \n31        Xã Khánh Hòa, Huyện Châu Phú, Tỉnh An Giang        Tỉnh An Giang   \n32   Xã Bình Phước Xuân, Huyện Chợ Mới, Tỉnh An Giang        Tỉnh An Giang   \n33        Xã Hưng Yên, Huyện An Biên, Tỉnh Kiên Giang      Tỉnh Kiên Giang   \n\n   wrong_province_key  \n0            vinhphuc  \n1            thaibinh  \n2           binhthuan  \n3             lamdong  \n4            vinhlong  \n5          thainguyen  \n6             tayninh  \n7             angiang  \n8               sonla  \n9            khanhhoa  \n10           dienbien  \n11           vinhphuc  \n12           thanhhoa  \n13          kiengiang  \n14           haiduong  \n15          binhthuan  \n16              sonla  \n17          binhthuan  \n18           quangnam  \n19              sonla  \n20           quangtri  \n21          quangngai  \n22            dongnai  \n23           thanhhoa  \n24             phutho  \n25             longan  \n26           thaibinh  \n27             longan  \n28          binhphuoc  \n29             longan  \n30             phutho  \n31           khanhhoa  \n32          binhphuoc  \n33            hungyen  ",
      "text/html": "<div>\n<style scoped>\n    .dataframe tbody tr th:only-of-type {\n        vertical-align: middle;\n    }\n\n    .dataframe tbody tr th {\n        vertical-align: top;\n    }\n\n    .dataframe thead th {\n        text-align: right;\n    }\n</style>\n<table border=\"1\" class=\"dataframe\">\n  <thead>\n    <tr style=\"text-align: right;\">\n      <th></th>\n      <th>ward_address</th>\n      <th>province</th>\n      <th>wrong_province_key</th>\n    </tr>\n  </thead>\n  <tbody>\n    <tr>\n      <th>0</th>\n      <td>Xã Vĩnh Phúc, Huyện Bắc Quang, Tỉnh Hà Giang</td>\n      <td>Tỉnh Hà Giang</td>\n      <td>vinhphuc</td>\n    </tr>\n    <tr>\n      <th>1</th>\n      <td>Phường Thái Bình, Thành phố Hòa Bình, Tỉnh Hoà...</td>\n      <td>Tỉnh Hoà Bình</td>\n      <td>thaibinh</td>\n    </tr>\n    <tr>\n      <th>2</th>\n      <td>Xã Bình Thuận, Huyện Đại Từ, Tỉnh Thái Nguyên</td>\n      <td>Tỉnh Thái Nguyên</td>\n      <td>binhthuan</td>\n    </tr>\n    <tr>\n      <th>3</th>\n      <td>Xã Lâm Động, Huyện Thuỷ Nguyên, Thành phố Hải ...</td>\n      <td>Thành phố Hải Phòng</td>\n      <td>lamdong</td>\n    </tr>\n    <tr>\n      <th>4</th>\n      <td>Xã Vĩnh Long, Huyện Vĩnh Bảo, Thành phố Hải Phòng</td>\n      <td>Thành phố Hải Phòng</td>\n      <td>vinhlong</td>\n    </tr>\n    <tr>\n      <th>5</th>\n      <td>Xã Thái Nguyên, Huyện Thái Thụy, Tỉnh Thái Bình</td>\n      <td>Tỉnh Thái Bình</td>\n      <td>thainguyen</td>\n    </tr>\n    <tr>\n      <th>6</th>\n      <td>Xã Tây Ninh, Huyện Tiền Hải, Tỉnh Thái Bình</td>\n      <td>Tỉnh Thái Bình</td>\n      <td>tayninh</td>\n    </tr>\n    <tr>\n      <th>7</th>\n      <td>Phường Vân Giang, Thành phố Ninh Bình, Tỉnh Ni...</td>\n      <td>Tỉnh Ninh Bình</td>\n      <td>angiang</td>\n    </tr>\n    <tr>\n      <th>8</th>\n      <td>Xã Sơn Lai, Huyện Nho Quan, Tỉnh Ninh Bình</td>\n      <td>Tỉnh Ninh Bình</td>\n      <td>sonla</td>\n    </tr>\n    <tr>\n      <th>9</th>\n      <td>Xã Khánh Hòa, Huyện Yên Khánh, Tỉnh Ninh Bình</td>\n      <td>Tỉnh Ninh Bình</td>\n      <td>khanhhoa</td>\n    </tr>\n    <tr>\n      <th>10</th>\n      <td>Phường Điện Biên, Thành phố Thanh Hóa, Tỉnh Th...</td>\n      <td>Tỉnh Thanh Hóa</td>\n      <td>dienbien</td>\n    </tr>\n    <tr>\n      <th>11</th>\n      <td>Xã Vĩnh Phúc, Huyện Vĩnh Lộc, Tỉnh Thanh Hóa</td>\n      <td>Tỉnh Thanh Hóa</td>\n      <td>vinhphuc</td>\n    </tr>\n    <tr>\n      <th>12</th>\n      <td>Xã Thanh Hóa, Huyện Tuyên Hóa, Tỉnh Quảng Bình</td>\n      <td>Tỉnh Quảng Bình</td>\n      <td>thanhhoa</td>\n    </tr>\n    <tr>\n      <th>13</th>\n      <td>Thị trấn Kiến Giang, Huyện Lệ Thủy, Tỉnh Quảng...</td>\n      <td>Tỉnh Quảng Bình</td>\n      <td>kiengiang</td>\n    </tr>\n    <tr>\n      <th>14</th>\n      <td>Xã Hải Dương, Huyện Hải Lăng, Tỉnh Quảng Trị</td>\n      <td>Tỉnh Quảng Trị</td>\n      <td>haiduong</td>\n    </tr>\n    <tr>\n      <th>15</th>\n      <td>Xã Bình Thuận, Huyện Bình Sơn, Tỉnh Quảng Ngãi</td>\n      <td>Tỉnh Quảng Ngãi</td>\n      <td>binhthuan</td>\n    </tr>\n    <tr>\n      <th>16</th>\n      <td>Xã Sơn Lập, Huyện Sơn Tây, Tỉnh Quảng Ngãi</td>\n      <td>Tỉnh Quảng Ngãi</td>\n      <td>sonla</td>\n    </tr>\n    <tr>\n      <th>17</th>\n      <td>Xã Bình Thuận, Huyện Tây Sơn, Tỉnh Bình Định</td>\n      <td>Tỉnh Bình Định</td>\n      <td>binhthuan</td>\n    </tr>\n    <tr>\n      <th>18</th>\n      <td>Xã Hòa Quang Nam, Huyện Phú Hoà, Tỉnh Phú Yên</td>\n      <td>Tỉnh Phú Yên</td>\n      <td>quangnam</td>\n    </tr>\n    <tr>\n      <th>19</th>\n      <td>Xã Sơn Lâm, Huyện Khánh Sơn, Tỉnh Khánh Hòa</td>\n      <td>Tỉnh Khánh Hòa</td>\n      <td>sonla</td>\n    </tr>\n    <tr>\n      <th>20</th>\n      <td>Xã Quảng Trị, Huyện Đạ Tẻh, Tỉnh Lâm Đồng</td>\n      <td>Tỉnh Lâm Đồng</td>\n      <td>quangtri</td>\n    </tr>\n    <tr>\n      <th>21</th>\n      <td>Xã Quảng Ngãi, Huyện Cát Tiên, Tỉnh Lâm Đồng</td>\n      <td>Tỉnh Lâm Đồng</td>\n      <td>quangngai</td>\n    </tr>\n    <tr>\n      <th>22</th>\n      <td>Xã Đồng Nai Thượng, Huyện Cát Tiên, Tỉnh Lâm Đồng</td>\n      <td>Tỉnh Lâm Đồng</td>\n      <td>dongnai</td>\n    </tr>\n    <tr>\n      <th>23</th>\n      <td>Xã Thanh Hòa, Huyện Bù Đốp, Tỉnh Bình Phước</td>\n      <td>Tỉnh Bình Phước</td>\n      <td>thanhhoa</td>\n    </tr>\n    <tr>\n      <th>24</th>\n      <td>Phường Phú Thọ, Thành phố Thủ Dầu Một, Tỉnh Bì...</td>\n      <td>Tỉnh Bình Dương</td>\n      <td>phutho</td>\n    </tr>\n    <tr>\n      <th>25</th>\n      <td>Xã Long An, Huyện Long Thành, Tỉnh Đồng Nai</td>\n      <td>Tỉnh Đồng Nai</td>\n      <td>longan</td>\n    </tr>\n    <tr>\n      <th>26</th>\n      <td>Xã Thái Bình Trung, Huyện Vĩnh Hưng, Tỉnh Long An</td>\n      <td>Tỉnh Long An</td>\n      <td>thaibinh</td>\n    </tr>\n    <tr>\n      <th>27</th>\n      <td>Xã Long An, Huyện Long Hồ, Tỉnh Vĩnh Long</td>\n      <td>Tỉnh Vĩnh Long</td>\n      <td>longan</td>\n    </tr>\n    <tr>\n      <th>28</th>\n      <td>Xã Bình Phước, Huyện Mang Thít, Tỉnh Vĩnh Long</td>\n      <td>Tỉnh Vĩnh Long</td>\n      <td>binhphuoc</td>\n    </tr>\n    <tr>\n      <th>29</th>\n      <td>Xã Long An, Thị xã Tân Châu, Tỉnh An Giang</td>\n      <td>Tỉnh An Giang</td>\n      <td>longan</td>\n    </tr>\n    <tr>\n      <th>30</th>\n      <td>Xã Phú Thọ, Huyện Phú Tân, Tỉnh An Giang</td>\n      <td>Tỉnh An Giang</td>\n      <td>phutho</td>\n    </tr>\n    <tr>\n      <th>31</th>\n      <td>Xã Khánh Hòa, Huyện Châu Phú, Tỉnh An Giang</td>\n      <td>Tỉnh An Giang</td>\n      <td>khanhhoa</td>\n    </tr>\n    <tr>\n      <th>32</th>\n      <td>Xã Bình Phước Xuân, Huyện Chợ Mới, Tỉnh An Giang</td>\n      <td>Tỉnh An Giang</td>\n      <td>binhphuoc</td>\n    </tr>\n    <tr>\n      <th>33</th>\n      <td>Xã Hưng Yên, Huyện An Biên, Tỉnh Kiên Giang</td>\n      <td>Tỉnh Kiên Giang</td>\n      <td>hungyen</td>\n    </tr>\n  </tbody>\n</table>\n</div>"
     },
     "execution_count": 13,
     "metadata": {},
     "output_type": "execute_result"
    }
   ],
   "source": [
    "df_wrong_provinces"
   ],
   "metadata": {
    "collapsed": false,
    "ExecuteTime": {
     "end_time": "2024-09-16T11:30:57.927345Z",
     "start_time": "2024-09-16T11:30:57.922315Z"
    }
   },
   "id": "e2982a67d046cdd3",
   "execution_count": 13
  },
  {
   "cell_type": "code",
   "outputs": [],
   "source": [
    "double_check_provinces = {}\n",
    "\n",
    "if df_wrong_provinces.shape[0]:\n",
    "    df_wrong_provinces['true_province_key'] = df_wrong_provinces.province.apply(create_province_key)\n",
    "    \n",
    "    \n",
    "    for row in df_wrong_provinces.itertuples():\n",
    "        double_check_provinces[row.wrong_province_key] = df_wrong_provinces[df_wrong_provinces['wrong_province_key']==row.wrong_province_key]['true_province_key'].tolist()"
   ],
   "metadata": {
    "collapsed": false,
    "ExecuteTime": {
     "end_time": "2024-09-16T11:30:57.937513Z",
     "start_time": "2024-09-16T11:30:57.928290Z"
    }
   },
   "id": "e1a174da9e0799b7",
   "execution_count": 14
  },
  {
   "cell_type": "code",
   "outputs": [
    {
     "data": {
      "text/plain": "{'vinhphuc': ['hagiang', 'thanhhoa'],\n 'thaibinh': ['hoabinh', 'longan'],\n 'binhthuan': ['thainguyen', 'quangngai', 'binhdinh'],\n 'lamdong': ['haiphong'],\n 'vinhlong': ['haiphong'],\n 'thainguyen': ['thaibinh'],\n 'tayninh': ['thaibinh'],\n 'angiang': ['ninhbinh'],\n 'sonla': ['ninhbinh', 'quangngai', 'khanhhoa'],\n 'khanhhoa': ['ninhbinh', 'angiang'],\n 'dienbien': ['thanhhoa'],\n 'thanhhoa': ['quangbinh', 'binhphuoc'],\n 'kiengiang': ['quangbinh'],\n 'haiduong': ['quangtri'],\n 'quangnam': ['phuyen'],\n 'quangtri': ['lamdong'],\n 'quangngai': ['lamdong'],\n 'dongnai': ['lamdong'],\n 'phutho': ['binhduong', 'angiang'],\n 'longan': ['dongnai', 'vinhlong', 'angiang'],\n 'binhphuoc': ['vinhlong', 'angiang'],\n 'hungyen': ['kiengiang']}"
     },
     "execution_count": 15,
     "metadata": {},
     "output_type": "execute_result"
    }
   ],
   "source": [
    "double_check_provinces"
   ],
   "metadata": {
    "collapsed": false,
    "ExecuteTime": {
     "end_time": "2024-09-16T11:30:57.943234Z",
     "start_time": "2024-09-16T11:30:57.938525Z"
    }
   },
   "id": "72d2168973253260",
   "execution_count": 15
  },
  {
   "cell_type": "markdown",
   "source": [
    "## Find wards that are the same keyword with districts\n",
    "\n",
    "We have to add `double_check_provinces` to module to solve province level before doing this step."
   ],
   "metadata": {
    "collapsed": false
   },
   "id": "28410b2a00e10e19"
  },
  {
   "cell_type": "code",
   "outputs": [
    {
     "name": "stdout",
     "output_type": "stream",
     "text": [
      "Phường Trung Hoà, Quận Cầu Giấy, Thành phố Hà Nội\n",
      "Phường Thanh Trì, Quận Hoàng Mai, Thành phố Hà Nội\n",
      "Xã Thanh Xuân, Huyện Sóc Sơn, Thành phố Hà Nội\n",
      "Xã Tả Thanh Oai, Huyện Thanh Trì, Thành phố Hà Nội\n",
      "Xã Trung Hòa, Huyện Chương Mỹ, Thành phố Hà Nội\n",
      "Xã Vĩnh Phúc, Huyện Bắc Quang, Tỉnh Hà Giang\n",
      "Xã Mường Lang, Huyện Phù Yên, Tỉnh Sơn La\n",
      "Xã Mường Lầm, Huyện Sông Mã, Tỉnh Sơn La\n",
      "Xã Mường Lạn, Huyện Sốp Cộp, Tỉnh Sơn La\n",
      "Thị trấn Yên Thế, Huyện Lục Yên, Tỉnh Yên Bái\n",
      "Thị trấn Yên Bình, Huyện Yên Bình, Tỉnh Yên Bái\n",
      "Phường Thái Bình, Thành phố Hòa Bình, Tỉnh Hoà Bình\n",
      "Xã Bình Thuận, Huyện Đại Từ, Tỉnh Thái Nguyên\n",
      "Phường Bình Ngọc, Thành phố Móng Cái, Tỉnh Quảng Ninh\n",
      "Xã Hạ Long, Huyện Vân Đồn, Tỉnh Quảng Ninh\n",
      "Xã Thái Dương, Huyện Bình Giang, Tỉnh Hải Dương\n",
      "Xã Lâm Động, Huyện Thuỷ Nguyên, Thành phố Hải Phòng\n",
      "Xã Vĩnh Long, Huyện Vĩnh Bảo, Thành phố Hải Phòng\n",
      "Xã Phú Cường, Thành phố Hưng Yên, Tỉnh Hưng Yên\n",
      "Xã Thái Nguyên, Huyện Thái Thụy, Tỉnh Thái Bình\n",
      "Xã Tây Ninh, Huyện Tiền Hải, Tỉnh Thái Bình\n",
      "Phường Vân Giang, Thành phố Ninh Bình, Tỉnh Ninh Bình\n",
      "Xã Sơn Lai, Huyện Nho Quan, Tỉnh Ninh Bình\n",
      "Xã Khánh Hòa, Huyện Yên Khánh, Tỉnh Ninh Bình\n",
      "Phường Điện Biên, Thành phố Thanh Hóa, Tỉnh Thanh Hóa\n",
      "Phường Đông Sơn, Thành phố Thanh Hóa, Tỉnh Thanh Hóa\n",
      "Phường Đông Sơn, Thị xã Bỉm Sơn, Tỉnh Thanh Hóa\n",
      "Xã Vĩnh Phúc, Huyện Vĩnh Lộc, Tỉnh Thanh Hóa\n",
      "Xã Thanh Hòa, Huyện Như Xuân, Tỉnh Thanh Hóa\n",
      "Xã Kỳ Sơn, Huyện Tân Kỳ, Tỉnh Nghệ An\n",
      "Xã Vĩnh Sơn, Huyện Anh Sơn, Tỉnh Nghệ An\n",
      "Xã Vĩnh Thành, Huyện Yên Thành, Tỉnh Nghệ An\n",
      "Xã Quỳnh Vinh, Thị xã Hoàng Mai, Tỉnh Nghệ An\n",
      "Xã Thanh Hóa, Huyện Tuyên Hóa, Tỉnh Quảng Bình\n",
      "Thị trấn Kiến Giang, Huyện Lệ Thủy, Tỉnh Quảng Bình\n",
      "Xã Hải Dương, Huyện Hải Lăng, Tỉnh Quảng Trị\n",
      "Phường Thuỷ Biều, Thành phố Huế, Tỉnh Thừa Thiên Huế\n",
      "Phường Thuỷ Xuân, Thành phố Huế, Tỉnh Thừa Thiên Huế\n",
      "Phường Thủy Vân, Thành phố Huế, Tỉnh Thừa Thiên Huế\n",
      "Xã Bình Giang, Huyện Thăng Bình, Tỉnh Quảng Nam\n",
      "Thị trấn Trà My, Huyện Bắc Trà My, Tỉnh Quảng Nam\n",
      "Xã Trà Giang, Huyện Bắc Trà My, Tỉnh Quảng Nam\n",
      "Xã Tam Giang, Huyện Núi Thành, Tỉnh Quảng Nam\n",
      "Xã Bình Thuận, Huyện Bình Sơn, Tỉnh Quảng Ngãi\n",
      "Xã Sơn Tinh, Huyện Sơn Tây, Tỉnh Quảng Ngãi\n",
      "Xã Sơn Lập, Huyện Sơn Tây, Tỉnh Quảng Ngãi\n",
      "Xã Đức Phong, Huyện Mộ Đức, Tỉnh Quảng Ngãi\n",
      "Xã Bình Thuận, Huyện Tây Sơn, Tỉnh Bình Định\n",
      "Xã Hòa Quang Nam, Huyện Phú Hoà, Tỉnh Phú Yên\n",
      "Xã Sơn Lâm, Huyện Khánh Sơn, Tỉnh Khánh Hòa\n",
      "Xã Ia Pal, Huyện Chư Sê, Tỉnh Gia Lai\n",
      "Xã KRông Búk, Huyện Krông Pắc, Tỉnh Đắk Lắk\n",
      "Xã Quảng Trị, Huyện Đạ Tẻh, Tỉnh Lâm Đồng\n",
      "Xã Quảng Ngãi, Huyện Cát Tiên, Tỉnh Lâm Đồng\n",
      "Xã Đồng Nai Thượng, Huyện Cát Tiên, Tỉnh Lâm Đồng\n",
      "Xã Thanh Hòa, Huyện Bù Đốp, Tỉnh Bình Phước\n",
      "Xã Hòa Thạnh, Huyện Châu Thành, Tỉnh Tây Ninh\n",
      "Phường Phú Thọ, Thành phố Thủ Dầu Một, Tỉnh Bình Dương\n",
      "Phường Thống Nhất, Thành phố Biên Hòa, Tỉnh Đồng Nai\n",
      "Xã Long An, Huyện Long Thành, Tỉnh Đồng Nai\n",
      "Phường Tân Phú, Thành phố Thủ Đức, Thành phố Hồ Chí Minh\n",
      "Phường Tân Phú, Quận 7, Thành phố Hồ Chí Minh\n",
      "Xã Thái Bình Trung, Huyện Vĩnh Hưng, Tỉnh Long An\n",
      "Xã Tân Ân, Huyện Cần Đước, Tỉnh Long An\n",
      "Xã Tân Phước, Huyện Gò Công Đông, Tỉnh Tiền Giang\n",
      "Xã Long An, Huyện Long Hồ, Tỉnh Vĩnh Long\n",
      "Thị trấn Cái Nhum, Huyện Mang Thít, Tỉnh Vĩnh Long\n",
      "Xã Bình Phước, Huyện Mang Thít, Tỉnh Vĩnh Long\n",
      "Phường Châu Phú B, Thành phố Châu Đốc, Tỉnh An Giang\n",
      "Phường Châu Phú A, Thành phố Châu Đốc, Tỉnh An Giang\n",
      "Xã Long An, Thị xã Tân Châu, Tỉnh An Giang\n",
      "Xã Phú Thọ, Huyện Phú Tân, Tỉnh An Giang\n",
      "Xã Khánh Hòa, Huyện Châu Phú, Tỉnh An Giang\n",
      "Xã Bình Phước Xuân, Huyện Chợ Mới, Tỉnh An Giang\n",
      "Thị trấn Minh Lương, Huyện Châu Thành, Tỉnh Kiên Giang\n",
      "Xã Hưng Yên, Huyện An Biên, Tỉnh Kiên Giang\n",
      "Xã An Minh Bắc, Huyện U Minh Thượng, Tỉnh Kiên Giang\n"
     ]
    }
   ],
   "source": [
    "wrong_addresses = []\n",
    "for row in df.itertuples():\n",
    "    # try:\n",
    "    #     unit = parse_address(str(row.ward_address), level=3)\n",
    "    # except Exception as e:\n",
    "    #     raise Exception(row.ward_address)\n",
    "    \n",
    "    unit = parse_address(str(row.ward_address), level=3)\n",
    "    \n",
    "    data = {\n",
    "        'ward_address': row.ward_address,\n",
    "        'province': row.long_province,\n",
    "        'district': row.long_district,\n",
    "        'wrong_district_key': unit.district_key,\n",
    "    }\n",
    "    \n",
    "    if unit.province == None:\n",
    "        print(row.ward_address)\n",
    "        wrong_addresses.append(data)\n",
    "    elif unit.district == None:\n",
    "        print(row.ward_address)\n",
    "        wrong_addresses.append(data)\n",
    "    elif unit.ward == None and unit.district_key not in ['bachlongvi', 'conco', 'hoangsa', 'lyson', 'condao']:\n",
    "        print(row.ward_address)\n",
    "        wrong_addresses.append(data)"
   ],
   "metadata": {
    "collapsed": false,
    "ExecuteTime": {
     "end_time": "2024-09-16T11:30:58.202944Z",
     "start_time": "2024-09-16T11:30:57.944659Z"
    }
   },
   "id": "39bf6374b12777a5",
   "execution_count": 16
  },
  {
   "cell_type": "code",
   "outputs": [],
   "source": [
    "df_wrong_districts = pd.DataFrame(wrong_addresses)"
   ],
   "metadata": {
    "collapsed": false,
    "ExecuteTime": {
     "end_time": "2024-09-16T11:30:58.207486Z",
     "start_time": "2024-09-16T11:30:58.204261Z"
    }
   },
   "id": "96c5a897813dcae2",
   "execution_count": 17
  },
  {
   "cell_type": "code",
   "outputs": [
    {
     "data": {
      "text/plain": "                                         ward_address          province  \\\n0   Phường Trung Hoà, Quận Cầu Giấy, Thành phố Hà Nội  Thành phố Hà Nội   \n1   Phường Thanh Trì, Quận Hoàng Mai, Thành phố Hà...  Thành phố Hà Nội   \n2      Xã Thanh Xuân, Huyện Sóc Sơn, Thành phố Hà Nội  Thành phố Hà Nội   \n3   Xã Tả Thanh Oai, Huyện Thanh Trì, Thành phố Hà...  Thành phố Hà Nội   \n4     Xã Trung Hòa, Huyện Chương Mỹ, Thành phố Hà Nội  Thành phố Hà Nội   \n..                                                ...               ...   \n72        Xã Khánh Hòa, Huyện Châu Phú, Tỉnh An Giang     Tỉnh An Giang   \n73   Xã Bình Phước Xuân, Huyện Chợ Mới, Tỉnh An Giang     Tỉnh An Giang   \n74  Thị trấn Minh Lương, Huyện Châu Thành, Tỉnh Ki...   Tỉnh Kiên Giang   \n75        Xã Hưng Yên, Huyện An Biên, Tỉnh Kiên Giang   Tỉnh Kiên Giang   \n76  Xã An Minh Bắc, Huyện U Minh Thượng, Tỉnh Kiên...   Tỉnh Kiên Giang   \n\n               district wrong_district_key  \n0         Quận Cầu Giấy             unghoa  \n1        Quận Hoàng Mai           thanhtri  \n2         Huyện Sóc Sơn          thanhxuan  \n3       Huyện Thanh Trì           thanhoai  \n4       Huyện Chương Mỹ             unghoa  \n..                  ...                ...  \n72       Huyện Châu Phú               None  \n73        Huyện Chợ Mới               None  \n74     Huyện Châu Thành             anminh  \n75        Huyện An Biên               None  \n76  Huyện U Minh Thượng             anminh  \n\n[77 rows x 4 columns]",
      "text/html": "<div>\n<style scoped>\n    .dataframe tbody tr th:only-of-type {\n        vertical-align: middle;\n    }\n\n    .dataframe tbody tr th {\n        vertical-align: top;\n    }\n\n    .dataframe thead th {\n        text-align: right;\n    }\n</style>\n<table border=\"1\" class=\"dataframe\">\n  <thead>\n    <tr style=\"text-align: right;\">\n      <th></th>\n      <th>ward_address</th>\n      <th>province</th>\n      <th>district</th>\n      <th>wrong_district_key</th>\n    </tr>\n  </thead>\n  <tbody>\n    <tr>\n      <th>0</th>\n      <td>Phường Trung Hoà, Quận Cầu Giấy, Thành phố Hà Nội</td>\n      <td>Thành phố Hà Nội</td>\n      <td>Quận Cầu Giấy</td>\n      <td>unghoa</td>\n    </tr>\n    <tr>\n      <th>1</th>\n      <td>Phường Thanh Trì, Quận Hoàng Mai, Thành phố Hà...</td>\n      <td>Thành phố Hà Nội</td>\n      <td>Quận Hoàng Mai</td>\n      <td>thanhtri</td>\n    </tr>\n    <tr>\n      <th>2</th>\n      <td>Xã Thanh Xuân, Huyện Sóc Sơn, Thành phố Hà Nội</td>\n      <td>Thành phố Hà Nội</td>\n      <td>Huyện Sóc Sơn</td>\n      <td>thanhxuan</td>\n    </tr>\n    <tr>\n      <th>3</th>\n      <td>Xã Tả Thanh Oai, Huyện Thanh Trì, Thành phố Hà...</td>\n      <td>Thành phố Hà Nội</td>\n      <td>Huyện Thanh Trì</td>\n      <td>thanhoai</td>\n    </tr>\n    <tr>\n      <th>4</th>\n      <td>Xã Trung Hòa, Huyện Chương Mỹ, Thành phố Hà Nội</td>\n      <td>Thành phố Hà Nội</td>\n      <td>Huyện Chương Mỹ</td>\n      <td>unghoa</td>\n    </tr>\n    <tr>\n      <th>...</th>\n      <td>...</td>\n      <td>...</td>\n      <td>...</td>\n      <td>...</td>\n    </tr>\n    <tr>\n      <th>72</th>\n      <td>Xã Khánh Hòa, Huyện Châu Phú, Tỉnh An Giang</td>\n      <td>Tỉnh An Giang</td>\n      <td>Huyện Châu Phú</td>\n      <td>None</td>\n    </tr>\n    <tr>\n      <th>73</th>\n      <td>Xã Bình Phước Xuân, Huyện Chợ Mới, Tỉnh An Giang</td>\n      <td>Tỉnh An Giang</td>\n      <td>Huyện Chợ Mới</td>\n      <td>None</td>\n    </tr>\n    <tr>\n      <th>74</th>\n      <td>Thị trấn Minh Lương, Huyện Châu Thành, Tỉnh Ki...</td>\n      <td>Tỉnh Kiên Giang</td>\n      <td>Huyện Châu Thành</td>\n      <td>anminh</td>\n    </tr>\n    <tr>\n      <th>75</th>\n      <td>Xã Hưng Yên, Huyện An Biên, Tỉnh Kiên Giang</td>\n      <td>Tỉnh Kiên Giang</td>\n      <td>Huyện An Biên</td>\n      <td>None</td>\n    </tr>\n    <tr>\n      <th>76</th>\n      <td>Xã An Minh Bắc, Huyện U Minh Thượng, Tỉnh Kiên...</td>\n      <td>Tỉnh Kiên Giang</td>\n      <td>Huyện U Minh Thượng</td>\n      <td>anminh</td>\n    </tr>\n  </tbody>\n</table>\n<p>77 rows × 4 columns</p>\n</div>"
     },
     "execution_count": 18,
     "metadata": {},
     "output_type": "execute_result"
    }
   ],
   "source": [
    "df_wrong_districts"
   ],
   "metadata": {
    "collapsed": false,
    "ExecuteTime": {
     "end_time": "2024-09-16T11:30:58.212600Z",
     "start_time": "2024-09-16T11:30:58.208105Z"
    }
   },
   "id": "68d27ebd4c0913d6",
   "execution_count": 18
  },
  {
   "cell_type": "code",
   "outputs": [],
   "source": [
    "double_check_districts = {}\n",
    "if df_wrong_districts.shape[0]:\n",
    "    df_wrong_districts['district_address'] = df_wrong_districts['district'] + ', ' + df_wrong_districts['province']\n",
    "    \n",
    "    df_wrong_districts['true_district_key'] = df_wrong_districts['district_address'].apply(create_district_key)\n",
    "    \n",
    "    \n",
    "    for row in df_wrong_districts.itertuples():\n",
    "        double_check_districts[row.wrong_district_key] = df_wrong_districts[df_wrong_districts['wrong_district_key']==row.wrong_district_key]['true_district_key'].tolist()"
   ],
   "metadata": {
    "collapsed": false,
    "ExecuteTime": {
     "end_time": "2024-09-16T11:30:58.230160Z",
     "start_time": "2024-09-16T11:30:58.214541Z"
    }
   },
   "id": "26abf0cb9952f87b",
   "execution_count": 19
  },
  {
   "cell_type": "code",
   "outputs": [
    {
     "data": {
      "text/plain": "{'unghoa': ['caugiay', 'chuongmy'],\n 'thanhtri': ['hoangmai'],\n 'thanhxuan': ['socson'],\n 'thanhoai': ['thanhtri'],\n None: [],\n 'muongla': ['phuyen', 'songma', 'sopcop'],\n 'tranyen': ['lucyen', 'yenbinh'],\n 'uongbi': ['mongcai'],\n 'halong': ['vandon'],\n 'haiduong': ['binhgiang'],\n 'phucu': ['hungyen'],\n 'dongson': ['thanhhoa', 'bimson'],\n 'thanhhoa': ['nhuxuan'],\n 'kyson': ['tanky'],\n 'vinh': ['anhson', 'yenthanh', 'hoangmai'],\n 'huongthuy': ['hue', 'hue', 'hue'],\n 'giang': ['thangbinh', 'bactramy', 'nuithanh'],\n 'tramy': ['bactramy'],\n 'sontinh': ['sontay'],\n 'ducpho': ['moduc'],\n 'iapa': ['chuse'],\n 'krongbuk': ['krongpac'],\n 'hoathanh': ['chauthanh'],\n 'thongnhat': ['bienhoa'],\n 'tanphu': ['thuduc', 'quan7'],\n 'tanan': ['canduoc'],\n 'tanphuoc': ['gocongdong'],\n 'cainhum': ['mangthit'],\n 'chauphu': ['chaudoc', 'chaudoc'],\n 'anminh': ['chauthanh', 'uminhthuong']}"
     },
     "execution_count": 20,
     "metadata": {},
     "output_type": "execute_result"
    }
   ],
   "source": [
    "double_check_districts"
   ],
   "metadata": {
    "collapsed": false,
    "ExecuteTime": {
     "end_time": "2024-09-16T11:30:58.232867Z",
     "start_time": "2024-09-16T11:30:58.230651Z"
    }
   },
   "id": "66ed2b7ccd3c6f9",
   "execution_count": 20
  },
  {
   "cell_type": "code",
   "outputs": [
    {
     "data": {
      "text/plain": "Empty DataFrame\nColumns: [ward_address, province, district, wrong_district_key, district_address, true_district_key]\nIndex: []",
      "text/html": "<div>\n<style scoped>\n    .dataframe tbody tr th:only-of-type {\n        vertical-align: middle;\n    }\n\n    .dataframe tbody tr th {\n        vertical-align: top;\n    }\n\n    .dataframe thead th {\n        text-align: right;\n    }\n</style>\n<table border=\"1\" class=\"dataframe\">\n  <thead>\n    <tr style=\"text-align: right;\">\n      <th></th>\n      <th>ward_address</th>\n      <th>province</th>\n      <th>district</th>\n      <th>wrong_district_key</th>\n      <th>district_address</th>\n      <th>true_district_key</th>\n    </tr>\n  </thead>\n  <tbody>\n  </tbody>\n</table>\n</div>"
     },
     "execution_count": 21,
     "metadata": {},
     "output_type": "execute_result"
    }
   ],
   "source": [
    "df_wrong_districts[df_wrong_districts.true_district_key==df_wrong_districts.wrong_district_key]"
   ],
   "metadata": {
    "collapsed": false,
    "ExecuteTime": {
     "end_time": "2024-09-16T11:30:58.236525Z",
     "start_time": "2024-09-16T11:30:58.233375Z"
    }
   },
   "id": "8f3dc609e1d14770",
   "execution_count": 21
  }
 ],
 "metadata": {
  "kernelspec": {
   "display_name": "Python 3",
   "language": "python",
   "name": "python3"
  },
  "language_info": {
   "codemirror_mode": {
    "name": "ipython",
    "version": 2
   },
   "file_extension": ".py",
   "mimetype": "text/x-python",
   "name": "python",
   "nbconvert_exporter": "python",
   "pygments_lexer": "ipython2",
   "version": "2.7.6"
  }
 },
 "nbformat": 4,
 "nbformat_minor": 5
}
