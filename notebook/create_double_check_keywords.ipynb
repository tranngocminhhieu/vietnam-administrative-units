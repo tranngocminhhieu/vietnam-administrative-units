{
 "cells": [
  {
   "cell_type": "code",
   "execution_count": 1,
   "id": "initial_id",
   "metadata": {
    "collapsed": true,
    "ExecuteTime": {
     "end_time": "2024-09-16T16:57:10.768342Z",
     "start_time": "2024-09-16T16:57:10.210753Z"
    }
   },
   "outputs": [],
   "source": [
    "from vietadminunits import parse_address\n",
    "import pandas as pd\n",
    "import re\n",
    "from unidecode import unidecode"
   ]
  },
  {
   "cell_type": "code",
   "outputs": [],
   "source": [
    "def create_key(text):\n",
    "    if not isinstance(text, str):\n",
    "        return text\n",
    "    u_text = unidecode(text) # Unidecode first help remove special characters\n",
    "    c_text = u_text.lower().strip() # Case must be second step\n",
    "    c_text = re.sub(r\"\\-|\\'\", ' ', c_text)\n",
    "    c_text = c_text.replace(' ', '')\n",
    "    return c_text"
   ],
   "metadata": {
    "collapsed": false,
    "ExecuteTime": {
     "end_time": "2024-09-16T16:57:10.773917Z",
     "start_time": "2024-09-16T16:57:10.769590Z"
    }
   },
   "id": "2bde8df71e649217",
   "execution_count": 2
  },
  {
   "cell_type": "code",
   "outputs": [],
   "source": [
    "def find_new_district_english_module(text):\n",
    "    au = parse_address(text, 2)\n",
    "    return au.district_english"
   ],
   "metadata": {
    "collapsed": false,
    "ExecuteTime": {
     "end_time": "2024-09-16T16:57:10.777362Z",
     "start_time": "2024-09-16T16:57:10.774966Z"
    }
   },
   "id": "4b9cb3b2d7d5430d",
   "execution_count": 3
  },
  {
   "cell_type": "code",
   "outputs": [],
   "source": [
    "def prepare_address(province, change):\n",
    "    address = province + ' ' + re.sub(f'.* thành ', '', change)\n",
    "    return address"
   ],
   "metadata": {
    "collapsed": false,
    "ExecuteTime": {
     "end_time": "2024-09-16T16:57:11.016747Z",
     "start_time": "2024-09-16T16:57:11.013974Z"
    }
   },
   "id": "656d35ad44bff4a0",
   "execution_count": 4
  },
  {
   "cell_type": "code",
   "outputs": [],
   "source": [
    "def create_province_english_module(text):\n",
    "    au = parse_address(text, 1)\n",
    "    return au.province_english"
   ],
   "metadata": {
    "collapsed": false,
    "ExecuteTime": {
     "end_time": "2024-09-16T16:57:11.261008Z",
     "start_time": "2024-09-16T16:57:11.259187Z"
    }
   },
   "id": "af136e3f32ba4be8",
   "execution_count": 5
  },
  {
   "cell_type": "code",
   "outputs": [],
   "source": [
    "def create_district_key_module(text):\n",
    "    au = parse_address(text)\n",
    "    return au.district_key"
   ],
   "metadata": {
    "collapsed": false,
    "ExecuteTime": {
     "end_time": "2024-09-16T16:57:11.516865Z",
     "start_time": "2024-09-16T16:57:11.514926Z"
    }
   },
   "id": "4508d22ba07862fd",
   "execution_count": 6
  },
  {
   "cell_type": "code",
   "outputs": [],
   "source": [
    "def create_province_key_module(text):\n",
    "    au = parse_address(text)\n",
    "    return au.province_key"
   ],
   "metadata": {
    "collapsed": false,
    "ExecuteTime": {
     "end_time": "2024-09-16T16:57:11.782316Z",
     "start_time": "2024-09-16T16:57:11.780237Z"
    }
   },
   "id": "5d331ad827c5c9a6",
   "execution_count": 7
  },
  {
   "cell_type": "code",
   "outputs": [],
   "source": [
    "df = pd.read_csv('../data/input/danhmuchanhchinhgso.gov.vn.csv')"
   ],
   "metadata": {
    "collapsed": false,
    "ExecuteTime": {
     "end_time": "2024-09-16T16:57:12.040772Z",
     "start_time": "2024-09-16T16:57:12.023565Z"
    }
   },
   "id": "b1b52d5aed5034d9",
   "execution_count": 8
  },
  {
   "cell_type": "code",
   "outputs": [],
   "source": [
    "df['ward_address'] = df['long_ward'].fillna('') + ', ' + df['long_district'] + ', ' + df['long_province']\n",
    "ward_addresses = df['ward_address'].dropna().tolist()"
   ],
   "metadata": {
    "collapsed": false,
    "ExecuteTime": {
     "end_time": "2024-09-16T16:57:12.382934Z",
     "start_time": "2024-09-16T16:57:12.374168Z"
    }
   },
   "id": "6ac69377545e33d",
   "execution_count": 9
  },
  {
   "cell_type": "code",
   "outputs": [
    {
     "data": {
      "text/plain": "          long_province    long_district          long_ward ward_level  \\\n0      Thành phố Hà Nội     Quận Ba Đình     Phường Phúc Xá     Phường   \n1      Thành phố Hà Nội     Quận Ba Đình   Phường Trúc Bạch     Phường   \n2      Thành phố Hà Nội     Quận Ba Đình   Phường Vĩnh Phúc     Phường   \n3      Thành phố Hà Nội     Quận Ba Đình     Phường Cống Vị     Phường   \n4      Thành phố Hà Nội     Quận Ba Đình   Phường Liễu Giai     Phường   \n...                 ...              ...                ...        ...   \n10542       Tỉnh Cà Mau  Huyện Ngọc Hiển    Xã Viên An Đông         Xã   \n10543       Tỉnh Cà Mau  Huyện Ngọc Hiển         Xã Viên An         Xã   \n10544       Tỉnh Cà Mau  Huyện Ngọc Hiển  Thị trấn Rạch Gốc   Thị trấn   \n10545       Tỉnh Cà Mau  Huyện Ngọc Hiển          Xã Tân Ân         Xã   \n10546       Tỉnh Cà Mau  Huyện Ngọc Hiển         Xã Đất Mũi         Xã   \n\n                                           ward_address  \n0        Phường Phúc Xá, Quận Ba Đình, Thành phố Hà Nội  \n1      Phường Trúc Bạch, Quận Ba Đình, Thành phố Hà Nội  \n2      Phường Vĩnh Phúc, Quận Ba Đình, Thành phố Hà Nội  \n3        Phường Cống Vị, Quận Ba Đình, Thành phố Hà Nội  \n4      Phường Liễu Giai, Quận Ba Đình, Thành phố Hà Nội  \n...                                                 ...  \n10542     Xã Viên An Đông, Huyện Ngọc Hiển, Tỉnh Cà Mau  \n10543          Xã Viên An, Huyện Ngọc Hiển, Tỉnh Cà Mau  \n10544   Thị trấn Rạch Gốc, Huyện Ngọc Hiển, Tỉnh Cà Mau  \n10545           Xã Tân Ân, Huyện Ngọc Hiển, Tỉnh Cà Mau  \n10546          Xã Đất Mũi, Huyện Ngọc Hiển, Tỉnh Cà Mau  \n\n[10547 rows x 5 columns]",
      "text/html": "<div>\n<style scoped>\n    .dataframe tbody tr th:only-of-type {\n        vertical-align: middle;\n    }\n\n    .dataframe tbody tr th {\n        vertical-align: top;\n    }\n\n    .dataframe thead th {\n        text-align: right;\n    }\n</style>\n<table border=\"1\" class=\"dataframe\">\n  <thead>\n    <tr style=\"text-align: right;\">\n      <th></th>\n      <th>long_province</th>\n      <th>long_district</th>\n      <th>long_ward</th>\n      <th>ward_level</th>\n      <th>ward_address</th>\n    </tr>\n  </thead>\n  <tbody>\n    <tr>\n      <th>0</th>\n      <td>Thành phố Hà Nội</td>\n      <td>Quận Ba Đình</td>\n      <td>Phường Phúc Xá</td>\n      <td>Phường</td>\n      <td>Phường Phúc Xá, Quận Ba Đình, Thành phố Hà Nội</td>\n    </tr>\n    <tr>\n      <th>1</th>\n      <td>Thành phố Hà Nội</td>\n      <td>Quận Ba Đình</td>\n      <td>Phường Trúc Bạch</td>\n      <td>Phường</td>\n      <td>Phường Trúc Bạch, Quận Ba Đình, Thành phố Hà Nội</td>\n    </tr>\n    <tr>\n      <th>2</th>\n      <td>Thành phố Hà Nội</td>\n      <td>Quận Ba Đình</td>\n      <td>Phường Vĩnh Phúc</td>\n      <td>Phường</td>\n      <td>Phường Vĩnh Phúc, Quận Ba Đình, Thành phố Hà Nội</td>\n    </tr>\n    <tr>\n      <th>3</th>\n      <td>Thành phố Hà Nội</td>\n      <td>Quận Ba Đình</td>\n      <td>Phường Cống Vị</td>\n      <td>Phường</td>\n      <td>Phường Cống Vị, Quận Ba Đình, Thành phố Hà Nội</td>\n    </tr>\n    <tr>\n      <th>4</th>\n      <td>Thành phố Hà Nội</td>\n      <td>Quận Ba Đình</td>\n      <td>Phường Liễu Giai</td>\n      <td>Phường</td>\n      <td>Phường Liễu Giai, Quận Ba Đình, Thành phố Hà Nội</td>\n    </tr>\n    <tr>\n      <th>...</th>\n      <td>...</td>\n      <td>...</td>\n      <td>...</td>\n      <td>...</td>\n      <td>...</td>\n    </tr>\n    <tr>\n      <th>10542</th>\n      <td>Tỉnh Cà Mau</td>\n      <td>Huyện Ngọc Hiển</td>\n      <td>Xã Viên An Đông</td>\n      <td>Xã</td>\n      <td>Xã Viên An Đông, Huyện Ngọc Hiển, Tỉnh Cà Mau</td>\n    </tr>\n    <tr>\n      <th>10543</th>\n      <td>Tỉnh Cà Mau</td>\n      <td>Huyện Ngọc Hiển</td>\n      <td>Xã Viên An</td>\n      <td>Xã</td>\n      <td>Xã Viên An, Huyện Ngọc Hiển, Tỉnh Cà Mau</td>\n    </tr>\n    <tr>\n      <th>10544</th>\n      <td>Tỉnh Cà Mau</td>\n      <td>Huyện Ngọc Hiển</td>\n      <td>Thị trấn Rạch Gốc</td>\n      <td>Thị trấn</td>\n      <td>Thị trấn Rạch Gốc, Huyện Ngọc Hiển, Tỉnh Cà Mau</td>\n    </tr>\n    <tr>\n      <th>10545</th>\n      <td>Tỉnh Cà Mau</td>\n      <td>Huyện Ngọc Hiển</td>\n      <td>Xã Tân Ân</td>\n      <td>Xã</td>\n      <td>Xã Tân Ân, Huyện Ngọc Hiển, Tỉnh Cà Mau</td>\n    </tr>\n    <tr>\n      <th>10546</th>\n      <td>Tỉnh Cà Mau</td>\n      <td>Huyện Ngọc Hiển</td>\n      <td>Xã Đất Mũi</td>\n      <td>Xã</td>\n      <td>Xã Đất Mũi, Huyện Ngọc Hiển, Tỉnh Cà Mau</td>\n    </tr>\n  </tbody>\n</table>\n<p>10547 rows × 5 columns</p>\n</div>"
     },
     "execution_count": 10,
     "metadata": {},
     "output_type": "execute_result"
    }
   ],
   "source": [
    "df"
   ],
   "metadata": {
    "collapsed": false,
    "ExecuteTime": {
     "end_time": "2024-09-16T16:57:12.867490Z",
     "start_time": "2024-09-16T16:57:12.859774Z"
    }
   },
   "id": "52b99db13672f432",
   "execution_count": 10
  },
  {
   "cell_type": "markdown",
   "source": [
    "## Find wards that are the same keyword with provinces"
   ],
   "metadata": {
    "collapsed": false
   },
   "id": "4a1285958689a4"
  },
  {
   "cell_type": "code",
   "outputs": [],
   "source": [
    "def create_district_key(text):\n",
    "    if not isinstance(text, str):\n",
    "        return text\n",
    "    u_text = unidecode(text) # Unidecode first help remove special characters\n",
    "    c_text = str(u_text).lower().strip() # Case must be second step\n",
    "    if not re.search(r'^Quan \\d{1,2}', c_text, flags=re.IGNORECASE):\n",
    "        c_text = re.sub(r'\\sDistrict$|^Quan\\s|^Huyen\\s|^Thanh\\sPho\\s|\\sCity$|^Thi\\sXa\\s|\\sTown$|\\s0', '', c_text, flags=re.IGNORECASE)\n",
    "    c_text = re.sub(r\"\\-|\\'\", ' ', c_text)\n",
    "    c_text = re.sub(r'\\bqui\\b', 'quy', c_text)\n",
    "    c_text = c_text.replace(' ', '')\n",
    "    return c_text"
   ],
   "metadata": {
    "collapsed": false,
    "ExecuteTime": {
     "end_time": "2024-09-16T16:59:23.179540Z",
     "start_time": "2024-09-16T16:59:23.174218Z"
    }
   },
   "id": "9fa4501b91b883e0",
   "execution_count": 35
  },
  {
   "cell_type": "code",
   "outputs": [],
   "source": [
    "def create_province_key(text):\n",
    "    u_text = unidecode(text) # Unidecode first help remove special characters\n",
    "    c_text = str(u_text).lower().strip() # Case must be second step\n",
    "    c_text = re.sub(r'\\sProvince$|^Tinh\\s|^Thanh\\sPho\\s|\\sCity$', '', c_text, flags=re.IGNORECASE)\n",
    "    c_text = re.sub(r\"\\-|\\'\", ' ', c_text)\n",
    "    c_text = re.sub(r'\\bqui\\b', 'quy', c_text)\n",
    "    c_text = c_text.replace(' ', '')\n",
    "    return c_text"
   ],
   "metadata": {
    "collapsed": false,
    "ExecuteTime": {
     "end_time": "2024-09-16T16:59:23.487396Z",
     "start_time": "2024-09-16T16:59:23.484045Z"
    }
   },
   "id": "fa15a58f19283840",
   "execution_count": 36
  },
  {
   "cell_type": "code",
   "outputs": [],
   "source": [],
   "metadata": {
    "collapsed": false,
    "ExecuteTime": {
     "end_time": "2024-09-16T16:59:23.840763Z",
     "start_time": "2024-09-16T16:59:23.838952Z"
    }
   },
   "id": "b4296e4fffc23bf",
   "execution_count": 36
  },
  {
   "cell_type": "code",
   "outputs": [],
   "source": [
    "wrong_addresses = []\n",
    "for row in df.itertuples():\n",
    "    unit = parse_address(row.ward_address, level=1)\n",
    "    \n",
    "    data = {\n",
    "        'ward_address': row.ward_address,\n",
    "        'province': row.long_province,\n",
    "        'wrong_province_key': unit.province_key,\n",
    "    }\n",
    "    \n",
    "    if unit.province == None:\n",
    "        print(row.ward_address)\n",
    "        wrong_addresses.append(data)\n",
    "        \n",
    "    # elif unit.district == None:\n",
    "    #     print(row.ward_address)\n",
    "    #     wrong_addresses.append(data)\n",
    "    \n",
    "    elif unit.province_key != create_province_key(row.long_province):\n",
    "        print(row.ward_address)\n",
    "        wrong_addresses.append(data)"
   ],
   "metadata": {
    "collapsed": false,
    "ExecuteTime": {
     "end_time": "2024-09-16T16:59:24.548095Z",
     "start_time": "2024-09-16T16:59:24.384881Z"
    }
   },
   "id": "aca769f749d9adf8",
   "execution_count": 37
  },
  {
   "cell_type": "code",
   "outputs": [],
   "source": [
    "df_wrong_provinces = pd.DataFrame(wrong_addresses)"
   ],
   "metadata": {
    "collapsed": false,
    "ExecuteTime": {
     "end_time": "2024-09-16T16:59:25.081283Z",
     "start_time": "2024-09-16T16:59:25.078610Z"
    }
   },
   "id": "69ce345fefd31da9",
   "execution_count": 38
  },
  {
   "cell_type": "code",
   "outputs": [
    {
     "data": {
      "text/plain": "Empty DataFrame\nColumns: []\nIndex: []",
      "text/html": "<div>\n<style scoped>\n    .dataframe tbody tr th:only-of-type {\n        vertical-align: middle;\n    }\n\n    .dataframe tbody tr th {\n        vertical-align: top;\n    }\n\n    .dataframe thead th {\n        text-align: right;\n    }\n</style>\n<table border=\"1\" class=\"dataframe\">\n  <thead>\n    <tr style=\"text-align: right;\">\n      <th></th>\n    </tr>\n  </thead>\n  <tbody>\n  </tbody>\n</table>\n</div>"
     },
     "execution_count": 39,
     "metadata": {},
     "output_type": "execute_result"
    }
   ],
   "source": [
    "df_wrong_provinces"
   ],
   "metadata": {
    "collapsed": false,
    "ExecuteTime": {
     "end_time": "2024-09-16T16:59:25.240584Z",
     "start_time": "2024-09-16T16:59:25.237706Z"
    }
   },
   "id": "e2982a67d046cdd3",
   "execution_count": 39
  },
  {
   "cell_type": "code",
   "outputs": [],
   "source": [
    "double_check_provinces = {}\n",
    "\n",
    "if df_wrong_provinces.shape[0]:\n",
    "    df_wrong_provinces['true_province_key'] = df_wrong_provinces.province.apply(create_province_key)\n",
    "    \n",
    "    \n",
    "    for row in df_wrong_provinces.itertuples():\n",
    "        double_check_provinces[row.wrong_province_key] = df_wrong_provinces[df_wrong_provinces['wrong_province_key']==row.wrong_province_key]['true_province_key'].tolist()"
   ],
   "metadata": {
    "collapsed": false,
    "ExecuteTime": {
     "end_time": "2024-09-16T16:59:25.545762Z",
     "start_time": "2024-09-16T16:59:25.543221Z"
    }
   },
   "id": "e1a174da9e0799b7",
   "execution_count": 40
  },
  {
   "cell_type": "code",
   "outputs": [
    {
     "data": {
      "text/plain": "{}"
     },
     "execution_count": 41,
     "metadata": {},
     "output_type": "execute_result"
    }
   ],
   "source": [
    "double_check_provinces"
   ],
   "metadata": {
    "collapsed": false,
    "ExecuteTime": {
     "end_time": "2024-09-16T16:59:25.760897Z",
     "start_time": "2024-09-16T16:59:25.758146Z"
    }
   },
   "id": "72d2168973253260",
   "execution_count": 41
  },
  {
   "cell_type": "markdown",
   "source": [
    "## Find wards that are the same keyword with districts\n",
    "\n",
    "We have to add `double_check_provinces` to module to solve province level before doing this step."
   ],
   "metadata": {
    "collapsed": false
   },
   "id": "28410b2a00e10e19"
  },
  {
   "cell_type": "code",
   "outputs": [],
   "source": [
    "wrong_addresses = []\n",
    "for row in df.itertuples():\n",
    "    try:\n",
    "        unit = parse_address(str(row.ward_address), level=2)\n",
    "    except Exception as e:\n",
    "        raise Exception(row.ward_address)\n",
    "    \n",
    "    # unit = parse_address(str(row.ward_address), level=3)\n",
    "    \n",
    "    data = {\n",
    "        'ward_address': row.ward_address,\n",
    "        'province': row.long_province,\n",
    "        'district': row.long_district,\n",
    "        'wrong_district_key': unit.district_key,\n",
    "    }\n",
    "    \n",
    "    if unit.province == None:\n",
    "        print(row.ward_address)\n",
    "        wrong_addresses.append(data)\n",
    "    elif unit.district == None:\n",
    "        print(row.ward_address)\n",
    "        wrong_addresses.append(data)\n",
    "    # elif unit.ward == None and unit.district_key not in ['bachlongvi', 'conco', 'hoangsa', 'lyson', 'condao']:\n",
    "    #     print(row.ward_address)\n",
    "    #     wrong_addresses.append(data)\n",
    "    \n",
    "    elif unit.district_key != create_district_key(row.long_district):\n",
    "        print(row.ward_address, unit.district_key, create_district_key(row.long_district))\n",
    "        wrong_addresses.append(data)"
   ],
   "metadata": {
    "collapsed": false,
    "ExecuteTime": {
     "end_time": "2024-09-16T16:59:26.328600Z",
     "start_time": "2024-09-16T16:59:26.146726Z"
    }
   },
   "id": "39bf6374b12777a5",
   "execution_count": 42
  },
  {
   "cell_type": "code",
   "outputs": [],
   "source": [
    "df_wrong_districts = pd.DataFrame(wrong_addresses)"
   ],
   "metadata": {
    "collapsed": false,
    "ExecuteTime": {
     "end_time": "2024-09-16T16:59:43.392314Z",
     "start_time": "2024-09-16T16:59:43.382349Z"
    }
   },
   "id": "96c5a897813dcae2",
   "execution_count": 44
  },
  {
   "cell_type": "code",
   "outputs": [
    {
     "data": {
      "text/plain": "Empty DataFrame\nColumns: []\nIndex: []",
      "text/html": "<div>\n<style scoped>\n    .dataframe tbody tr th:only-of-type {\n        vertical-align: middle;\n    }\n\n    .dataframe tbody tr th {\n        vertical-align: top;\n    }\n\n    .dataframe thead th {\n        text-align: right;\n    }\n</style>\n<table border=\"1\" class=\"dataframe\">\n  <thead>\n    <tr style=\"text-align: right;\">\n      <th></th>\n    </tr>\n  </thead>\n  <tbody>\n  </tbody>\n</table>\n</div>"
     },
     "execution_count": 45,
     "metadata": {},
     "output_type": "execute_result"
    }
   ],
   "source": [
    "df_wrong_districts"
   ],
   "metadata": {
    "collapsed": false,
    "ExecuteTime": {
     "end_time": "2024-09-16T16:59:45.384745Z",
     "start_time": "2024-09-16T16:59:45.379880Z"
    }
   },
   "id": "b8e361ddcbbc6b9c",
   "execution_count": 45
  },
  {
   "cell_type": "code",
   "outputs": [],
   "source": [],
   "metadata": {
    "collapsed": false
   },
   "id": "6dc78abeb154a352"
  },
  {
   "cell_type": "code",
   "outputs": [],
   "source": [
    "double_check_districts = {}\n",
    "if df_wrong_districts.shape[0]:\n",
    "    df_wrong_districts = df_wrong_districts.drop(columns='ward_address').drop_duplicates()\n",
    "    \n",
    "    df_wrong_districts['district_address'] = df_wrong_districts['district'].apply(create_district_key) + ', ' + df_wrong_districts['province']\n",
    "    \n",
    "    df_wrong_districts['true_district_key'] = df_wrong_districts['district_address'].apply(create_district_key_module)\n",
    "    \n",
    "    for row in df_wrong_districts.itertuples():\n",
    "        double_check_districts[row.wrong_district_key] = df_wrong_districts[df_wrong_districts['wrong_district_key']==row.wrong_district_key]['true_district_key'].tolist()"
   ],
   "metadata": {
    "collapsed": false,
    "ExecuteTime": {
     "end_time": "2024-09-16T17:00:19.941900Z",
     "start_time": "2024-09-16T17:00:19.934892Z"
    }
   },
   "id": "26abf0cb9952f87b",
   "execution_count": 46
  },
  {
   "cell_type": "code",
   "outputs": [
    {
     "data": {
      "text/plain": "{}"
     },
     "execution_count": 47,
     "metadata": {},
     "output_type": "execute_result"
    }
   ],
   "source": [
    "double_check_districts"
   ],
   "metadata": {
    "collapsed": false,
    "ExecuteTime": {
     "end_time": "2024-09-16T17:00:20.531667Z",
     "start_time": "2024-09-16T17:00:20.528533Z"
    }
   },
   "id": "66ed2b7ccd3c6f9",
   "execution_count": 47
  },
  {
   "cell_type": "code",
   "outputs": [
    {
     "ename": "AttributeError",
     "evalue": "'DataFrame' object has no attribute 'true_district_key'",
     "output_type": "error",
     "traceback": [
      "\u001B[0;31m---------------------------------------------------------------------------\u001B[0m",
      "\u001B[0;31mAttributeError\u001B[0m                            Traceback (most recent call last)",
      "\u001B[0;32m/var/folders/tm/3b72tt2j0rn4tllr8h4bsrlr0000gn/T/ipykernel_6144/1442956367.py\u001B[0m in \u001B[0;36m?\u001B[0;34m()\u001B[0m\n\u001B[0;32m----> 1\u001B[0;31m \u001B[0mdf_wrong_districts\u001B[0m\u001B[0;34m[\u001B[0m\u001B[0mdf_wrong_districts\u001B[0m\u001B[0;34m.\u001B[0m\u001B[0mtrue_district_key\u001B[0m\u001B[0;34m==\u001B[0m\u001B[0mdf_wrong_districts\u001B[0m\u001B[0;34m.\u001B[0m\u001B[0mwrong_district_key\u001B[0m\u001B[0;34m]\u001B[0m\u001B[0;34m\u001B[0m\u001B[0;34m\u001B[0m\u001B[0m\n\u001B[0m",
      "\u001B[0;32m~/anaconda3/lib/python3.11/site-packages/pandas/core/generic.py\u001B[0m in \u001B[0;36m?\u001B[0;34m(self, name)\u001B[0m\n\u001B[1;32m   5985\u001B[0m             \u001B[0;32mand\u001B[0m \u001B[0mname\u001B[0m \u001B[0;32mnot\u001B[0m \u001B[0;32min\u001B[0m \u001B[0mself\u001B[0m\u001B[0;34m.\u001B[0m\u001B[0m_accessors\u001B[0m\u001B[0;34m\u001B[0m\u001B[0;34m\u001B[0m\u001B[0m\n\u001B[1;32m   5986\u001B[0m             \u001B[0;32mand\u001B[0m \u001B[0mself\u001B[0m\u001B[0;34m.\u001B[0m\u001B[0m_info_axis\u001B[0m\u001B[0;34m.\u001B[0m\u001B[0m_can_hold_identifiers_and_holds_name\u001B[0m\u001B[0;34m(\u001B[0m\u001B[0mname\u001B[0m\u001B[0;34m)\u001B[0m\u001B[0;34m\u001B[0m\u001B[0;34m\u001B[0m\u001B[0m\n\u001B[1;32m   5987\u001B[0m         ):\n\u001B[1;32m   5988\u001B[0m             \u001B[0;32mreturn\u001B[0m \u001B[0mself\u001B[0m\u001B[0;34m[\u001B[0m\u001B[0mname\u001B[0m\u001B[0;34m]\u001B[0m\u001B[0;34m\u001B[0m\u001B[0;34m\u001B[0m\u001B[0m\n\u001B[0;32m-> 5989\u001B[0;31m         \u001B[0;32mreturn\u001B[0m \u001B[0mobject\u001B[0m\u001B[0;34m.\u001B[0m\u001B[0m__getattribute__\u001B[0m\u001B[0;34m(\u001B[0m\u001B[0mself\u001B[0m\u001B[0;34m,\u001B[0m \u001B[0mname\u001B[0m\u001B[0;34m)\u001B[0m\u001B[0;34m\u001B[0m\u001B[0;34m\u001B[0m\u001B[0m\n\u001B[0m",
      "\u001B[0;31mAttributeError\u001B[0m: 'DataFrame' object has no attribute 'true_district_key'"
     ]
    }
   ],
   "source": [
    "df_wrong_districts[df_wrong_districts.true_district_key==df_wrong_districts.wrong_district_key]"
   ],
   "metadata": {
    "collapsed": false,
    "ExecuteTime": {
     "end_time": "2024-09-16T17:00:21.927671Z",
     "start_time": "2024-09-16T17:00:21.903621Z"
    }
   },
   "id": "8f3dc609e1d14770",
   "execution_count": 48
  },
  {
   "cell_type": "code",
   "outputs": [],
   "source": [],
   "metadata": {
    "collapsed": false
   },
   "id": "cf3a157b87337684"
  }
 ],
 "metadata": {
  "kernelspec": {
   "display_name": "Python 3",
   "language": "python",
   "name": "python3"
  },
  "language_info": {
   "codemirror_mode": {
    "name": "ipython",
    "version": 2
   },
   "file_extension": ".py",
   "mimetype": "text/x-python",
   "name": "python",
   "nbconvert_exporter": "python",
   "pygments_lexer": "ipython2",
   "version": "2.7.6"
  }
 },
 "nbformat": 4,
 "nbformat_minor": 5
}
