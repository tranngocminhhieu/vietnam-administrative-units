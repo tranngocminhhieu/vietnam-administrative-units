{
 "cells": [
  {
   "cell_type": "code",
   "execution_count": 1,
   "id": "initial_id",
   "metadata": {
    "collapsed": true,
    "ExecuteTime": {
     "end_time": "2024-09-16T08:25:07.405353Z",
     "start_time": "2024-09-16T08:25:06.892091Z"
    }
   },
   "outputs": [],
   "source": [
    "from vietadminunits import parse_address\n",
    "import pandas as pd\n",
    "import re\n",
    "from unidecode import unidecode"
   ]
  },
  {
   "cell_type": "code",
   "outputs": [],
   "source": [
    "def create_key(text):\n",
    "    if not isinstance(text, str):\n",
    "        return text\n",
    "    u_text = unidecode(text) # Unidecode first help remove special characters\n",
    "    c_text = u_text.lower().strip() # Case must be second step\n",
    "    c_text = re.sub(r\"\\-|\\'\", ' ', c_text)\n",
    "    c_text = c_text.replace(' ', '')\n",
    "    return c_text"
   ],
   "metadata": {
    "collapsed": false
   },
   "id": "2bde8df71e649217",
   "execution_count": 0
  },
  {
   "cell_type": "code",
   "outputs": [],
   "source": [
    "def find_new_district_english(text):\n",
    "    au = parse_address(text, 2)\n",
    "    return au.district_english"
   ],
   "metadata": {
    "collapsed": false
   },
   "id": "4b9cb3b2d7d5430d",
   "execution_count": null
  },
  {
   "cell_type": "code",
   "outputs": [],
   "source": [
    "def prepare_address(province, change):\n",
    "    address = province + ' ' + re.sub(f'.* thành ', '', change)\n",
    "    return address"
   ],
   "metadata": {
    "collapsed": false
   },
   "id": "656d35ad44bff4a0",
   "execution_count": null
  },
  {
   "cell_type": "code",
   "outputs": [],
   "source": [
    "def create_province_english(text):\n",
    "    au = parse_address(text, 1)\n",
    "    return au.province_english"
   ],
   "metadata": {
    "collapsed": false
   },
   "id": "af136e3f32ba4be8",
   "execution_count": null
  },
  {
   "cell_type": "code",
   "outputs": [],
   "source": [
    "df = pd.read_clipboard()"
   ],
   "metadata": {
    "collapsed": false
   },
   "id": "3f2edb20f81b4fa8",
   "execution_count": null
  },
  {
   "cell_type": "code",
   "outputs": [],
   "source": [
    "df"
   ],
   "metadata": {
    "collapsed": false
   },
   "id": "5932c539d0a292a1",
   "execution_count": null
  },
  {
   "cell_type": "code",
   "outputs": [],
   "source": [
    "df['wrong_province'] = df.ward.apply(create_province_english)"
   ],
   "metadata": {
    "collapsed": false
   },
   "id": "8957ff07d5a2014a",
   "execution_count": null
  },
  {
   "cell_type": "code",
   "outputs": [],
   "source": [
    "df['true_province'] = df.province.apply(create_province_english)"
   ],
   "metadata": {
    "collapsed": false
   },
   "id": "72d2168973253260",
   "execution_count": null
  },
  {
   "cell_type": "code",
   "outputs": [],
   "source": [
    "df['wrong_province_key'] = df['wrong_province'].apply(create_key)"
   ],
   "metadata": {
    "collapsed": false
   },
   "id": "c9682c6ebe53efa2",
   "execution_count": null
  },
  {
   "cell_type": "code",
   "outputs": [],
   "source": [
    "df['true_province_key'] = df['true_province'].apply(create_key)"
   ],
   "metadata": {
    "collapsed": false
   },
   "id": "6c565de6f2a46ebb",
   "execution_count": null
  },
  {
   "cell_type": "code",
   "outputs": [],
   "source": [
    "data = {}"
   ],
   "metadata": {
    "collapsed": false
   },
   "id": "1d2944dcdc912a3c",
   "execution_count": null
  },
  {
   "cell_type": "code",
   "outputs": [],
   "source": [
    "for row in df.itertuples():\n",
    "    data[row.wrong_province_key] = df[df['wrong_province_key']==row.wrong_province_key]['true_province_key'].tolist()"
   ],
   "metadata": {
    "collapsed": false
   },
   "id": "f12496426249ba15",
   "execution_count": null
  },
  {
   "cell_type": "code",
   "outputs": [],
   "source": [
    "data"
   ],
   "metadata": {
    "collapsed": false
   },
   "id": "74a2da55b113530",
   "execution_count": null
  },
  {
   "cell_type": "code",
   "outputs": [],
   "source": [
    "df = pd.read_clipboard()"
   ],
   "metadata": {
    "collapsed": false,
    "ExecuteTime": {
     "end_time": "2024-09-16T08:25:13.405563Z",
     "start_time": "2024-09-16T08:25:13.053661Z"
    }
   },
   "id": "68d27ebd4c0913d6",
   "execution_count": 2
  },
  {
   "cell_type": "code",
   "outputs": [],
   "source": [
    "df['full_address'] = df['ward'] + ', ' + df['district'] + ', ' + df['province']"
   ],
   "metadata": {
    "collapsed": false,
    "ExecuteTime": {
     "end_time": "2024-09-16T08:25:13.410571Z",
     "start_time": "2024-09-16T08:25:13.407152Z"
    }
   },
   "id": "8961ec98ae6fe893",
   "execution_count": 3
  },
  {
   "cell_type": "code",
   "outputs": [],
   "source": [],
   "metadata": {
    "collapsed": false,
    "ExecuteTime": {
     "end_time": "2024-09-16T08:25:13.413091Z",
     "start_time": "2024-09-16T08:25:13.411558Z"
    }
   },
   "id": "c4bfbbe47e4b674",
   "execution_count": 3
  },
  {
   "cell_type": "code",
   "outputs": [],
   "source": [
    "df['district_address'] = df['district'] + ', ' + df['province']"
   ],
   "metadata": {
    "collapsed": false,
    "ExecuteTime": {
     "end_time": "2024-09-16T08:25:13.622032Z",
     "start_time": "2024-09-16T08:25:13.618788Z"
    }
   },
   "id": "66ed2b7ccd3c6f9",
   "execution_count": 4
  },
  {
   "cell_type": "code",
   "outputs": [],
   "source": [
    "def create_district_key(text):\n",
    "    au = parse_address(text)\n",
    "    return au.district_key"
   ],
   "metadata": {
    "collapsed": false,
    "ExecuteTime": {
     "end_time": "2024-09-16T08:25:13.848943Z",
     "start_time": "2024-09-16T08:25:13.846922Z"
    }
   },
   "id": "2b63c1c8e229897b",
   "execution_count": 5
  },
  {
   "cell_type": "code",
   "outputs": [],
   "source": [
    "df['true_district_key'] = df['district_address'].apply(create_district_key)"
   ],
   "metadata": {
    "collapsed": false,
    "ExecuteTime": {
     "end_time": "2024-09-16T08:25:14.144970Z",
     "start_time": "2024-09-16T08:25:14.128089Z"
    }
   },
   "id": "54044d4d164257bf",
   "execution_count": 6
  },
  {
   "cell_type": "code",
   "outputs": [],
   "source": [
    "df['wrong_district_key'] = df['full_address'].apply(create_district_key)"
   ],
   "metadata": {
    "collapsed": false,
    "ExecuteTime": {
     "end_time": "2024-09-16T08:25:14.412864Z",
     "start_time": "2024-09-16T08:25:14.404679Z"
    }
   },
   "id": "bafb3eaeb5445733",
   "execution_count": 7
  },
  {
   "cell_type": "code",
   "outputs": [
    {
     "data": {
      "text/plain": "                   ward             district               province  \\\n0      Phường Trung Hoà        Quận Cầu Giấy       Thành phố Hà Nội   \n1      Phường Thanh Trì       Quận Hoàng Mai       Thành phố Hà Nội   \n2         Xã Thanh Xuân        Huyện Sóc Sơn       Thành phố Hà Nội   \n3       Xã Tả Thanh Oai      Huyện Thanh Trì       Thành phố Hà Nội   \n4          Xã Trung Hòa      Huyện Chương Mỹ       Thành phố Hà Nội   \n5         Xã Mường Lang        Huyện Phù Yên            Tỉnh Sơn La   \n6          Xã Mường Lầm        Huyện Sông Mã            Tỉnh Sơn La   \n7          Xã Mường Lạn        Huyện Sốp Cộp            Tỉnh Sơn La   \n8      Thị trấn Yên Thế        Huyện Lục Yên           Tỉnh Yên Bái   \n9     Thị trấn Yên Bình       Huyện Yên Bình           Tỉnh Yên Bái   \n10     Phường Bình Ngọc   Thành phố Móng Cái        Tỉnh Quảng Ninh   \n11           Xã Hạ Long        Huyện Vân Đồn        Tỉnh Quảng Ninh   \n12        Xã Thái Dương     Huyện Bình Giang         Tỉnh Hải Dương   \n13         Xã Phú Cường   Thành phố Hưng Yên          Tỉnh Hưng Yên   \n14      Phường Đông Sơn  Thành phố Thanh Hóa         Tỉnh Thanh Hóa   \n15      Phường Đông Sơn       Thị xã Bỉm Sơn         Tỉnh Thanh Hóa   \n16         Xã Thanh Hòa       Huyện Như Xuân         Tỉnh Thanh Hóa   \n17            Xã Kỳ Sơn         Huyện Tân Kỳ           Tỉnh Nghệ An   \n18          Xã Vĩnh Sơn        Huyện Anh Sơn           Tỉnh Nghệ An   \n19        Xã Vĩnh Thành      Huyện Yên Thành           Tỉnh Nghệ An   \n20        Xã Quỳnh Vinh     Thị xã Hoàng Mai           Tỉnh Nghệ An   \n21     Phường Thuỷ Biều        Thành phố Huế    Tỉnh Thừa Thiên Huế   \n22     Phường Thuỷ Xuân        Thành phố Huế    Tỉnh Thừa Thiên Huế   \n23      Phường Thủy Vân        Thành phố Huế    Tỉnh Thừa Thiên Huế   \n24        Xã Bình Giang     Huyện Thăng Bình         Tỉnh Quảng Nam   \n25      Thị trấn Trà My     Huyện Bắc Trà My         Tỉnh Quảng Nam   \n26         Xã Trà Giang     Huyện Bắc Trà My         Tỉnh Quảng Nam   \n27         Xã Tam Giang      Huyện Núi Thành         Tỉnh Quảng Nam   \n28          Xã Sơn Tinh        Huyện Sơn Tây        Tỉnh Quảng Ngãi   \n29         Xã Đức Phong         Huyện Mộ Đức        Tỉnh Quảng Ngãi   \n30            Xã Ia Pal         Huyện Chư Sê           Tỉnh Gia Lai   \n31         Xã KRông Búk      Huyện Krông Pắc           Tỉnh Đắk Lắk   \n32         Xã Hòa Thạnh     Huyện Châu Thành          Tỉnh Tây Ninh   \n33    Phường Thống Nhất   Thành phố Biên Hòa          Tỉnh Đồng Nai   \n34       Phường Tân Phú    Thành phố Thủ Đức  Thành phố Hồ Chí Minh   \n35       Phường Tân Phú               Quận 7  Thành phố Hồ Chí Minh   \n36            Xã Tân Ân       Huyện Cần Đước           Tỉnh Long An   \n37         Xã Tân Phước   Huyện Gò Công Đông        Tỉnh Tiền Giang   \n38    Thị trấn Cái Nhum      Huyện Mang Thít         Tỉnh Vĩnh Long   \n39    Phường Châu Phú B   Thành phố Châu Đốc          Tỉnh An Giang   \n40    Phường Châu Phú A   Thành phố Châu Đốc          Tỉnh An Giang   \n41  Thị trấn Minh Lương     Huyện Châu Thành        Tỉnh Kiên Giang   \n42       Xã An Minh Bắc  Huyện U Minh Thượng        Tỉnh Kiên Giang   \n\n                                         full_address  \\\n0   Phường Trung Hoà, Quận Cầu Giấy, Thành phố Hà Nội   \n1   Phường Thanh Trì, Quận Hoàng Mai, Thành phố Hà...   \n2      Xã Thanh Xuân, Huyện Sóc Sơn, Thành phố Hà Nội   \n3   Xã Tả Thanh Oai, Huyện Thanh Trì, Thành phố Hà...   \n4     Xã Trung Hòa, Huyện Chương Mỹ, Thành phố Hà Nội   \n5           Xã Mường Lang, Huyện Phù Yên, Tỉnh Sơn La   \n6            Xã Mường Lầm, Huyện Sông Mã, Tỉnh Sơn La   \n7            Xã Mường Lạn, Huyện Sốp Cộp, Tỉnh Sơn La   \n8       Thị trấn Yên Thế, Huyện Lục Yên, Tỉnh Yên Bái   \n9     Thị trấn Yên Bình, Huyện Yên Bình, Tỉnh Yên Bái   \n10  Phường Bình Ngọc, Thành phố Móng Cái, Tỉnh Quả...   \n11         Xã Hạ Long, Huyện Vân Đồn, Tỉnh Quảng Ninh   \n12    Xã Thái Dương, Huyện Bình Giang, Tỉnh Hải Dương   \n13    Xã Phú Cường, Thành phố Hưng Yên, Tỉnh Hưng Yên   \n14  Phường Đông Sơn, Thành phố Thanh Hóa, Tỉnh Tha...   \n15    Phường Đông Sơn, Thị xã Bỉm Sơn, Tỉnh Thanh Hóa   \n16       Xã Thanh Hòa, Huyện Như Xuân, Tỉnh Thanh Hóa   \n17              Xã Kỳ Sơn, Huyện Tân Kỳ, Tỉnh Nghệ An   \n18           Xã Vĩnh Sơn, Huyện Anh Sơn, Tỉnh Nghệ An   \n19       Xã Vĩnh Thành, Huyện Yên Thành, Tỉnh Nghệ An   \n20      Xã Quỳnh Vinh, Thị xã Hoàng Mai, Tỉnh Nghệ An   \n21  Phường Thuỷ Biều, Thành phố Huế, Tỉnh Thừa Thi...   \n22  Phường Thuỷ Xuân, Thành phố Huế, Tỉnh Thừa Thi...   \n23  Phường Thủy Vân, Thành phố Huế, Tỉnh Thừa Thiê...   \n24    Xã Bình Giang, Huyện Thăng Bình, Tỉnh Quảng Nam   \n25  Thị trấn Trà My, Huyện Bắc Trà My, Tỉnh Quảng Nam   \n26     Xã Trà Giang, Huyện Bắc Trà My, Tỉnh Quảng Nam   \n27      Xã Tam Giang, Huyện Núi Thành, Tỉnh Quảng Nam   \n28        Xã Sơn Tinh, Huyện Sơn Tây, Tỉnh Quảng Ngãi   \n29        Xã Đức Phong, Huyện Mộ Đức, Tỉnh Quảng Ngãi   \n30              Xã Ia Pal, Huyện Chư Sê, Tỉnh Gia Lai   \n31        Xã KRông Búk, Huyện Krông Pắc, Tỉnh Đắk Lắk   \n32      Xã Hòa Thạnh, Huyện Châu Thành, Tỉnh Tây Ninh   \n33  Phường Thống Nhất, Thành phố Biên Hòa, Tỉnh Đồ...   \n34  Phường Tân Phú, Thành phố Thủ Đức, Thành phố H...   \n35      Phường Tân Phú, Quận 7, Thành phố Hồ Chí Minh   \n36            Xã Tân Ân, Huyện Cần Đước, Tỉnh Long An   \n37  Xã Tân Phước, Huyện Gò Công Đông, Tỉnh Tiền Giang   \n38  Thị trấn Cái Nhum, Huyện Mang Thít, Tỉnh Vĩnh ...   \n39  Phường Châu Phú B, Thành phố Châu Đốc, Tỉnh An...   \n40  Phường Châu Phú A, Thành phố Châu Đốc, Tỉnh An...   \n41  Thị trấn Minh Lương, Huyện Châu Thành, Tỉnh Ki...   \n42  Xã An Minh Bắc, Huyện U Minh Thượng, Tỉnh Kiên...   \n\n                            district_address true_district_key  \\\n0            Quận Cầu Giấy, Thành phố Hà Nội           caugiay   \n1           Quận Hoàng Mai, Thành phố Hà Nội          hoangmai   \n2            Huyện Sóc Sơn, Thành phố Hà Nội            socson   \n3          Huyện Thanh Trì, Thành phố Hà Nội          thanhtri   \n4          Huyện Chương Mỹ, Thành phố Hà Nội          chuongmy   \n5                 Huyện Phù Yên, Tỉnh Sơn La            phuyen   \n6                 Huyện Sông Mã, Tỉnh Sơn La            songma   \n7                 Huyện Sốp Cộp, Tỉnh Sơn La            sopcop   \n8                Huyện Lục Yên, Tỉnh Yên Bái            lucyen   \n9               Huyện Yên Bình, Tỉnh Yên Bái           yenbinh   \n10       Thành phố Móng Cái, Tỉnh Quảng Ninh           mongcai   \n11            Huyện Vân Đồn, Tỉnh Quảng Ninh            vandon   \n12          Huyện Bình Giang, Tỉnh Hải Dương         binhgiang   \n13         Thành phố Hưng Yên, Tỉnh Hưng Yên           hungyen   \n14       Thành phố Thanh Hóa, Tỉnh Thanh Hóa          thanhhoa   \n15            Thị xã Bỉm Sơn, Tỉnh Thanh Hóa            bimson   \n16            Huyện Như Xuân, Tỉnh Thanh Hóa           nhuxuan   \n17                Huyện Tân Kỳ, Tỉnh Nghệ An             tanky   \n18               Huyện Anh Sơn, Tỉnh Nghệ An            anhson   \n19             Huyện Yên Thành, Tỉnh Nghệ An          yenthanh   \n20            Thị xã Hoàng Mai, Tỉnh Nghệ An          hoangmai   \n21        Thành phố Huế, Tỉnh Thừa Thiên Huế               hue   \n22        Thành phố Huế, Tỉnh Thừa Thiên Huế               hue   \n23        Thành phố Huế, Tỉnh Thừa Thiên Huế               hue   \n24          Huyện Thăng Bình, Tỉnh Quảng Nam         thangbinh   \n25          Huyện Bắc Trà My, Tỉnh Quảng Nam          bactramy   \n26          Huyện Bắc Trà My, Tỉnh Quảng Nam          bactramy   \n27           Huyện Núi Thành, Tỉnh Quảng Nam          nuithanh   \n28            Huyện Sơn Tây, Tỉnh Quảng Ngãi            sontay   \n29             Huyện Mộ Đức, Tỉnh Quảng Ngãi             moduc   \n30                Huyện Chư Sê, Tỉnh Gia Lai             chuse   \n31             Huyện Krông Pắc, Tỉnh Đắk Lắk          krongpac   \n32           Huyện Châu Thành, Tỉnh Tây Ninh         chauthanh   \n33         Thành phố Biên Hòa, Tỉnh Đồng Nai           bienhoa   \n34  Thành phố Thủ Đức, Thành phố Hồ Chí Minh            thuduc   \n35             Quận 7, Thành phố Hồ Chí Minh             quan7   \n36              Huyện Cần Đước, Tỉnh Long An           canduoc   \n37       Huyện Gò Công Đông, Tỉnh Tiền Giang        gocongdong   \n38           Huyện Mang Thít, Tỉnh Vĩnh Long          mangthit   \n39         Thành phố Châu Đốc, Tỉnh An Giang           chaudoc   \n40         Thành phố Châu Đốc, Tỉnh An Giang           chaudoc   \n41         Huyện Châu Thành, Tỉnh Kiên Giang         chauthanh   \n42      Huyện U Minh Thượng, Tỉnh Kiên Giang       uminhthuong   \n\n   wrong_district_key  \n0              unghoa  \n1            thanhtri  \n2           thanhxuan  \n3            thanhoai  \n4              unghoa  \n5             muongla  \n6             muongla  \n7             muongla  \n8             tranyen  \n9             tranyen  \n10             uongbi  \n11             halong  \n12           haiduong  \n13              phucu  \n14            dongson  \n15            dongson  \n16           thanhhoa  \n17              kyson  \n18               vinh  \n19               vinh  \n20               vinh  \n21          huongthuy  \n22          huongthuy  \n23          huongthuy  \n24              giang  \n25              tramy  \n26              giang  \n27              giang  \n28            sontinh  \n29             ducpho  \n30               iapa  \n31           krongbuk  \n32           hoathanh  \n33          thongnhat  \n34             tanphu  \n35             tanphu  \n36              tanan  \n37           tanphuoc  \n38            cainhum  \n39            chauphu  \n40            chauphu  \n41             anminh  \n42             anminh  ",
      "text/html": "<div>\n<style scoped>\n    .dataframe tbody tr th:only-of-type {\n        vertical-align: middle;\n    }\n\n    .dataframe tbody tr th {\n        vertical-align: top;\n    }\n\n    .dataframe thead th {\n        text-align: right;\n    }\n</style>\n<table border=\"1\" class=\"dataframe\">\n  <thead>\n    <tr style=\"text-align: right;\">\n      <th></th>\n      <th>ward</th>\n      <th>district</th>\n      <th>province</th>\n      <th>full_address</th>\n      <th>district_address</th>\n      <th>true_district_key</th>\n      <th>wrong_district_key</th>\n    </tr>\n  </thead>\n  <tbody>\n    <tr>\n      <th>0</th>\n      <td>Phường Trung Hoà</td>\n      <td>Quận Cầu Giấy</td>\n      <td>Thành phố Hà Nội</td>\n      <td>Phường Trung Hoà, Quận Cầu Giấy, Thành phố Hà Nội</td>\n      <td>Quận Cầu Giấy, Thành phố Hà Nội</td>\n      <td>caugiay</td>\n      <td>unghoa</td>\n    </tr>\n    <tr>\n      <th>1</th>\n      <td>Phường Thanh Trì</td>\n      <td>Quận Hoàng Mai</td>\n      <td>Thành phố Hà Nội</td>\n      <td>Phường Thanh Trì, Quận Hoàng Mai, Thành phố Hà...</td>\n      <td>Quận Hoàng Mai, Thành phố Hà Nội</td>\n      <td>hoangmai</td>\n      <td>thanhtri</td>\n    </tr>\n    <tr>\n      <th>2</th>\n      <td>Xã Thanh Xuân</td>\n      <td>Huyện Sóc Sơn</td>\n      <td>Thành phố Hà Nội</td>\n      <td>Xã Thanh Xuân, Huyện Sóc Sơn, Thành phố Hà Nội</td>\n      <td>Huyện Sóc Sơn, Thành phố Hà Nội</td>\n      <td>socson</td>\n      <td>thanhxuan</td>\n    </tr>\n    <tr>\n      <th>3</th>\n      <td>Xã Tả Thanh Oai</td>\n      <td>Huyện Thanh Trì</td>\n      <td>Thành phố Hà Nội</td>\n      <td>Xã Tả Thanh Oai, Huyện Thanh Trì, Thành phố Hà...</td>\n      <td>Huyện Thanh Trì, Thành phố Hà Nội</td>\n      <td>thanhtri</td>\n      <td>thanhoai</td>\n    </tr>\n    <tr>\n      <th>4</th>\n      <td>Xã Trung Hòa</td>\n      <td>Huyện Chương Mỹ</td>\n      <td>Thành phố Hà Nội</td>\n      <td>Xã Trung Hòa, Huyện Chương Mỹ, Thành phố Hà Nội</td>\n      <td>Huyện Chương Mỹ, Thành phố Hà Nội</td>\n      <td>chuongmy</td>\n      <td>unghoa</td>\n    </tr>\n    <tr>\n      <th>5</th>\n      <td>Xã Mường Lang</td>\n      <td>Huyện Phù Yên</td>\n      <td>Tỉnh Sơn La</td>\n      <td>Xã Mường Lang, Huyện Phù Yên, Tỉnh Sơn La</td>\n      <td>Huyện Phù Yên, Tỉnh Sơn La</td>\n      <td>phuyen</td>\n      <td>muongla</td>\n    </tr>\n    <tr>\n      <th>6</th>\n      <td>Xã Mường Lầm</td>\n      <td>Huyện Sông Mã</td>\n      <td>Tỉnh Sơn La</td>\n      <td>Xã Mường Lầm, Huyện Sông Mã, Tỉnh Sơn La</td>\n      <td>Huyện Sông Mã, Tỉnh Sơn La</td>\n      <td>songma</td>\n      <td>muongla</td>\n    </tr>\n    <tr>\n      <th>7</th>\n      <td>Xã Mường Lạn</td>\n      <td>Huyện Sốp Cộp</td>\n      <td>Tỉnh Sơn La</td>\n      <td>Xã Mường Lạn, Huyện Sốp Cộp, Tỉnh Sơn La</td>\n      <td>Huyện Sốp Cộp, Tỉnh Sơn La</td>\n      <td>sopcop</td>\n      <td>muongla</td>\n    </tr>\n    <tr>\n      <th>8</th>\n      <td>Thị trấn Yên Thế</td>\n      <td>Huyện Lục Yên</td>\n      <td>Tỉnh Yên Bái</td>\n      <td>Thị trấn Yên Thế, Huyện Lục Yên, Tỉnh Yên Bái</td>\n      <td>Huyện Lục Yên, Tỉnh Yên Bái</td>\n      <td>lucyen</td>\n      <td>tranyen</td>\n    </tr>\n    <tr>\n      <th>9</th>\n      <td>Thị trấn Yên Bình</td>\n      <td>Huyện Yên Bình</td>\n      <td>Tỉnh Yên Bái</td>\n      <td>Thị trấn Yên Bình, Huyện Yên Bình, Tỉnh Yên Bái</td>\n      <td>Huyện Yên Bình, Tỉnh Yên Bái</td>\n      <td>yenbinh</td>\n      <td>tranyen</td>\n    </tr>\n    <tr>\n      <th>10</th>\n      <td>Phường Bình Ngọc</td>\n      <td>Thành phố Móng Cái</td>\n      <td>Tỉnh Quảng Ninh</td>\n      <td>Phường Bình Ngọc, Thành phố Móng Cái, Tỉnh Quả...</td>\n      <td>Thành phố Móng Cái, Tỉnh Quảng Ninh</td>\n      <td>mongcai</td>\n      <td>uongbi</td>\n    </tr>\n    <tr>\n      <th>11</th>\n      <td>Xã Hạ Long</td>\n      <td>Huyện Vân Đồn</td>\n      <td>Tỉnh Quảng Ninh</td>\n      <td>Xã Hạ Long, Huyện Vân Đồn, Tỉnh Quảng Ninh</td>\n      <td>Huyện Vân Đồn, Tỉnh Quảng Ninh</td>\n      <td>vandon</td>\n      <td>halong</td>\n    </tr>\n    <tr>\n      <th>12</th>\n      <td>Xã Thái Dương</td>\n      <td>Huyện Bình Giang</td>\n      <td>Tỉnh Hải Dương</td>\n      <td>Xã Thái Dương, Huyện Bình Giang, Tỉnh Hải Dương</td>\n      <td>Huyện Bình Giang, Tỉnh Hải Dương</td>\n      <td>binhgiang</td>\n      <td>haiduong</td>\n    </tr>\n    <tr>\n      <th>13</th>\n      <td>Xã Phú Cường</td>\n      <td>Thành phố Hưng Yên</td>\n      <td>Tỉnh Hưng Yên</td>\n      <td>Xã Phú Cường, Thành phố Hưng Yên, Tỉnh Hưng Yên</td>\n      <td>Thành phố Hưng Yên, Tỉnh Hưng Yên</td>\n      <td>hungyen</td>\n      <td>phucu</td>\n    </tr>\n    <tr>\n      <th>14</th>\n      <td>Phường Đông Sơn</td>\n      <td>Thành phố Thanh Hóa</td>\n      <td>Tỉnh Thanh Hóa</td>\n      <td>Phường Đông Sơn, Thành phố Thanh Hóa, Tỉnh Tha...</td>\n      <td>Thành phố Thanh Hóa, Tỉnh Thanh Hóa</td>\n      <td>thanhhoa</td>\n      <td>dongson</td>\n    </tr>\n    <tr>\n      <th>15</th>\n      <td>Phường Đông Sơn</td>\n      <td>Thị xã Bỉm Sơn</td>\n      <td>Tỉnh Thanh Hóa</td>\n      <td>Phường Đông Sơn, Thị xã Bỉm Sơn, Tỉnh Thanh Hóa</td>\n      <td>Thị xã Bỉm Sơn, Tỉnh Thanh Hóa</td>\n      <td>bimson</td>\n      <td>dongson</td>\n    </tr>\n    <tr>\n      <th>16</th>\n      <td>Xã Thanh Hòa</td>\n      <td>Huyện Như Xuân</td>\n      <td>Tỉnh Thanh Hóa</td>\n      <td>Xã Thanh Hòa, Huyện Như Xuân, Tỉnh Thanh Hóa</td>\n      <td>Huyện Như Xuân, Tỉnh Thanh Hóa</td>\n      <td>nhuxuan</td>\n      <td>thanhhoa</td>\n    </tr>\n    <tr>\n      <th>17</th>\n      <td>Xã Kỳ Sơn</td>\n      <td>Huyện Tân Kỳ</td>\n      <td>Tỉnh Nghệ An</td>\n      <td>Xã Kỳ Sơn, Huyện Tân Kỳ, Tỉnh Nghệ An</td>\n      <td>Huyện Tân Kỳ, Tỉnh Nghệ An</td>\n      <td>tanky</td>\n      <td>kyson</td>\n    </tr>\n    <tr>\n      <th>18</th>\n      <td>Xã Vĩnh Sơn</td>\n      <td>Huyện Anh Sơn</td>\n      <td>Tỉnh Nghệ An</td>\n      <td>Xã Vĩnh Sơn, Huyện Anh Sơn, Tỉnh Nghệ An</td>\n      <td>Huyện Anh Sơn, Tỉnh Nghệ An</td>\n      <td>anhson</td>\n      <td>vinh</td>\n    </tr>\n    <tr>\n      <th>19</th>\n      <td>Xã Vĩnh Thành</td>\n      <td>Huyện Yên Thành</td>\n      <td>Tỉnh Nghệ An</td>\n      <td>Xã Vĩnh Thành, Huyện Yên Thành, Tỉnh Nghệ An</td>\n      <td>Huyện Yên Thành, Tỉnh Nghệ An</td>\n      <td>yenthanh</td>\n      <td>vinh</td>\n    </tr>\n    <tr>\n      <th>20</th>\n      <td>Xã Quỳnh Vinh</td>\n      <td>Thị xã Hoàng Mai</td>\n      <td>Tỉnh Nghệ An</td>\n      <td>Xã Quỳnh Vinh, Thị xã Hoàng Mai, Tỉnh Nghệ An</td>\n      <td>Thị xã Hoàng Mai, Tỉnh Nghệ An</td>\n      <td>hoangmai</td>\n      <td>vinh</td>\n    </tr>\n    <tr>\n      <th>21</th>\n      <td>Phường Thuỷ Biều</td>\n      <td>Thành phố Huế</td>\n      <td>Tỉnh Thừa Thiên Huế</td>\n      <td>Phường Thuỷ Biều, Thành phố Huế, Tỉnh Thừa Thi...</td>\n      <td>Thành phố Huế, Tỉnh Thừa Thiên Huế</td>\n      <td>hue</td>\n      <td>huongthuy</td>\n    </tr>\n    <tr>\n      <th>22</th>\n      <td>Phường Thuỷ Xuân</td>\n      <td>Thành phố Huế</td>\n      <td>Tỉnh Thừa Thiên Huế</td>\n      <td>Phường Thuỷ Xuân, Thành phố Huế, Tỉnh Thừa Thi...</td>\n      <td>Thành phố Huế, Tỉnh Thừa Thiên Huế</td>\n      <td>hue</td>\n      <td>huongthuy</td>\n    </tr>\n    <tr>\n      <th>23</th>\n      <td>Phường Thủy Vân</td>\n      <td>Thành phố Huế</td>\n      <td>Tỉnh Thừa Thiên Huế</td>\n      <td>Phường Thủy Vân, Thành phố Huế, Tỉnh Thừa Thiê...</td>\n      <td>Thành phố Huế, Tỉnh Thừa Thiên Huế</td>\n      <td>hue</td>\n      <td>huongthuy</td>\n    </tr>\n    <tr>\n      <th>24</th>\n      <td>Xã Bình Giang</td>\n      <td>Huyện Thăng Bình</td>\n      <td>Tỉnh Quảng Nam</td>\n      <td>Xã Bình Giang, Huyện Thăng Bình, Tỉnh Quảng Nam</td>\n      <td>Huyện Thăng Bình, Tỉnh Quảng Nam</td>\n      <td>thangbinh</td>\n      <td>giang</td>\n    </tr>\n    <tr>\n      <th>25</th>\n      <td>Thị trấn Trà My</td>\n      <td>Huyện Bắc Trà My</td>\n      <td>Tỉnh Quảng Nam</td>\n      <td>Thị trấn Trà My, Huyện Bắc Trà My, Tỉnh Quảng Nam</td>\n      <td>Huyện Bắc Trà My, Tỉnh Quảng Nam</td>\n      <td>bactramy</td>\n      <td>tramy</td>\n    </tr>\n    <tr>\n      <th>26</th>\n      <td>Xã Trà Giang</td>\n      <td>Huyện Bắc Trà My</td>\n      <td>Tỉnh Quảng Nam</td>\n      <td>Xã Trà Giang, Huyện Bắc Trà My, Tỉnh Quảng Nam</td>\n      <td>Huyện Bắc Trà My, Tỉnh Quảng Nam</td>\n      <td>bactramy</td>\n      <td>giang</td>\n    </tr>\n    <tr>\n      <th>27</th>\n      <td>Xã Tam Giang</td>\n      <td>Huyện Núi Thành</td>\n      <td>Tỉnh Quảng Nam</td>\n      <td>Xã Tam Giang, Huyện Núi Thành, Tỉnh Quảng Nam</td>\n      <td>Huyện Núi Thành, Tỉnh Quảng Nam</td>\n      <td>nuithanh</td>\n      <td>giang</td>\n    </tr>\n    <tr>\n      <th>28</th>\n      <td>Xã Sơn Tinh</td>\n      <td>Huyện Sơn Tây</td>\n      <td>Tỉnh Quảng Ngãi</td>\n      <td>Xã Sơn Tinh, Huyện Sơn Tây, Tỉnh Quảng Ngãi</td>\n      <td>Huyện Sơn Tây, Tỉnh Quảng Ngãi</td>\n      <td>sontay</td>\n      <td>sontinh</td>\n    </tr>\n    <tr>\n      <th>29</th>\n      <td>Xã Đức Phong</td>\n      <td>Huyện Mộ Đức</td>\n      <td>Tỉnh Quảng Ngãi</td>\n      <td>Xã Đức Phong, Huyện Mộ Đức, Tỉnh Quảng Ngãi</td>\n      <td>Huyện Mộ Đức, Tỉnh Quảng Ngãi</td>\n      <td>moduc</td>\n      <td>ducpho</td>\n    </tr>\n    <tr>\n      <th>30</th>\n      <td>Xã Ia Pal</td>\n      <td>Huyện Chư Sê</td>\n      <td>Tỉnh Gia Lai</td>\n      <td>Xã Ia Pal, Huyện Chư Sê, Tỉnh Gia Lai</td>\n      <td>Huyện Chư Sê, Tỉnh Gia Lai</td>\n      <td>chuse</td>\n      <td>iapa</td>\n    </tr>\n    <tr>\n      <th>31</th>\n      <td>Xã KRông Búk</td>\n      <td>Huyện Krông Pắc</td>\n      <td>Tỉnh Đắk Lắk</td>\n      <td>Xã KRông Búk, Huyện Krông Pắc, Tỉnh Đắk Lắk</td>\n      <td>Huyện Krông Pắc, Tỉnh Đắk Lắk</td>\n      <td>krongpac</td>\n      <td>krongbuk</td>\n    </tr>\n    <tr>\n      <th>32</th>\n      <td>Xã Hòa Thạnh</td>\n      <td>Huyện Châu Thành</td>\n      <td>Tỉnh Tây Ninh</td>\n      <td>Xã Hòa Thạnh, Huyện Châu Thành, Tỉnh Tây Ninh</td>\n      <td>Huyện Châu Thành, Tỉnh Tây Ninh</td>\n      <td>chauthanh</td>\n      <td>hoathanh</td>\n    </tr>\n    <tr>\n      <th>33</th>\n      <td>Phường Thống Nhất</td>\n      <td>Thành phố Biên Hòa</td>\n      <td>Tỉnh Đồng Nai</td>\n      <td>Phường Thống Nhất, Thành phố Biên Hòa, Tỉnh Đồ...</td>\n      <td>Thành phố Biên Hòa, Tỉnh Đồng Nai</td>\n      <td>bienhoa</td>\n      <td>thongnhat</td>\n    </tr>\n    <tr>\n      <th>34</th>\n      <td>Phường Tân Phú</td>\n      <td>Thành phố Thủ Đức</td>\n      <td>Thành phố Hồ Chí Minh</td>\n      <td>Phường Tân Phú, Thành phố Thủ Đức, Thành phố H...</td>\n      <td>Thành phố Thủ Đức, Thành phố Hồ Chí Minh</td>\n      <td>thuduc</td>\n      <td>tanphu</td>\n    </tr>\n    <tr>\n      <th>35</th>\n      <td>Phường Tân Phú</td>\n      <td>Quận 7</td>\n      <td>Thành phố Hồ Chí Minh</td>\n      <td>Phường Tân Phú, Quận 7, Thành phố Hồ Chí Minh</td>\n      <td>Quận 7, Thành phố Hồ Chí Minh</td>\n      <td>quan7</td>\n      <td>tanphu</td>\n    </tr>\n    <tr>\n      <th>36</th>\n      <td>Xã Tân Ân</td>\n      <td>Huyện Cần Đước</td>\n      <td>Tỉnh Long An</td>\n      <td>Xã Tân Ân, Huyện Cần Đước, Tỉnh Long An</td>\n      <td>Huyện Cần Đước, Tỉnh Long An</td>\n      <td>canduoc</td>\n      <td>tanan</td>\n    </tr>\n    <tr>\n      <th>37</th>\n      <td>Xã Tân Phước</td>\n      <td>Huyện Gò Công Đông</td>\n      <td>Tỉnh Tiền Giang</td>\n      <td>Xã Tân Phước, Huyện Gò Công Đông, Tỉnh Tiền Giang</td>\n      <td>Huyện Gò Công Đông, Tỉnh Tiền Giang</td>\n      <td>gocongdong</td>\n      <td>tanphuoc</td>\n    </tr>\n    <tr>\n      <th>38</th>\n      <td>Thị trấn Cái Nhum</td>\n      <td>Huyện Mang Thít</td>\n      <td>Tỉnh Vĩnh Long</td>\n      <td>Thị trấn Cái Nhum, Huyện Mang Thít, Tỉnh Vĩnh ...</td>\n      <td>Huyện Mang Thít, Tỉnh Vĩnh Long</td>\n      <td>mangthit</td>\n      <td>cainhum</td>\n    </tr>\n    <tr>\n      <th>39</th>\n      <td>Phường Châu Phú B</td>\n      <td>Thành phố Châu Đốc</td>\n      <td>Tỉnh An Giang</td>\n      <td>Phường Châu Phú B, Thành phố Châu Đốc, Tỉnh An...</td>\n      <td>Thành phố Châu Đốc, Tỉnh An Giang</td>\n      <td>chaudoc</td>\n      <td>chauphu</td>\n    </tr>\n    <tr>\n      <th>40</th>\n      <td>Phường Châu Phú A</td>\n      <td>Thành phố Châu Đốc</td>\n      <td>Tỉnh An Giang</td>\n      <td>Phường Châu Phú A, Thành phố Châu Đốc, Tỉnh An...</td>\n      <td>Thành phố Châu Đốc, Tỉnh An Giang</td>\n      <td>chaudoc</td>\n      <td>chauphu</td>\n    </tr>\n    <tr>\n      <th>41</th>\n      <td>Thị trấn Minh Lương</td>\n      <td>Huyện Châu Thành</td>\n      <td>Tỉnh Kiên Giang</td>\n      <td>Thị trấn Minh Lương, Huyện Châu Thành, Tỉnh Ki...</td>\n      <td>Huyện Châu Thành, Tỉnh Kiên Giang</td>\n      <td>chauthanh</td>\n      <td>anminh</td>\n    </tr>\n    <tr>\n      <th>42</th>\n      <td>Xã An Minh Bắc</td>\n      <td>Huyện U Minh Thượng</td>\n      <td>Tỉnh Kiên Giang</td>\n      <td>Xã An Minh Bắc, Huyện U Minh Thượng, Tỉnh Kiên...</td>\n      <td>Huyện U Minh Thượng, Tỉnh Kiên Giang</td>\n      <td>uminhthuong</td>\n      <td>anminh</td>\n    </tr>\n  </tbody>\n</table>\n</div>"
     },
     "execution_count": 8,
     "metadata": {},
     "output_type": "execute_result"
    }
   ],
   "source": [
    "df"
   ],
   "metadata": {
    "collapsed": false,
    "ExecuteTime": {
     "end_time": "2024-09-16T08:25:14.872608Z",
     "start_time": "2024-09-16T08:25:14.859276Z"
    }
   },
   "id": "dbeffe6021326b09",
   "execution_count": 8
  },
  {
   "cell_type": "code",
   "outputs": [],
   "source": [
    "data = {}\n",
    "for row in df.itertuples():\n",
    "    data[row.wrong_district_key] = df[df['wrong_district_key']==row.wrong_district_key]['true_district_key'].tolist()"
   ],
   "metadata": {
    "collapsed": false,
    "ExecuteTime": {
     "end_time": "2024-09-16T08:26:33.885782Z",
     "start_time": "2024-09-16T08:26:33.858788Z"
    }
   },
   "id": "7176742e5a21954f",
   "execution_count": 12
  },
  {
   "cell_type": "code",
   "outputs": [
    {
     "data": {
      "text/plain": "Empty DataFrame\nColumns: [ward, district, province, full_address, district_address, true_district_key, wrong_district_key]\nIndex: []",
      "text/html": "<div>\n<style scoped>\n    .dataframe tbody tr th:only-of-type {\n        vertical-align: middle;\n    }\n\n    .dataframe tbody tr th {\n        vertical-align: top;\n    }\n\n    .dataframe thead th {\n        text-align: right;\n    }\n</style>\n<table border=\"1\" class=\"dataframe\">\n  <thead>\n    <tr style=\"text-align: right;\">\n      <th></th>\n      <th>ward</th>\n      <th>district</th>\n      <th>province</th>\n      <th>full_address</th>\n      <th>district_address</th>\n      <th>true_district_key</th>\n      <th>wrong_district_key</th>\n    </tr>\n  </thead>\n  <tbody>\n  </tbody>\n</table>\n</div>"
     },
     "execution_count": 9,
     "metadata": {},
     "output_type": "execute_result"
    }
   ],
   "source": [
    "df[df.true_district_key==df.wrong_district_key]"
   ],
   "metadata": {
    "collapsed": false,
    "ExecuteTime": {
     "end_time": "2024-09-16T08:25:15.282277Z",
     "start_time": "2024-09-16T08:25:15.275691Z"
    }
   },
   "id": "8f3dc609e1d14770",
   "execution_count": 9
  },
  {
   "cell_type": "code",
   "outputs": [
    {
     "data": {
      "text/plain": "{'unghoa': ['caugiay', 'chuongmy'],\n 'thanhtri': ['hoangmai'],\n 'thanhxuan': ['socson'],\n 'thanhoai': ['thanhtri'],\n 'muongla': ['phuyen', 'songma', 'sopcop'],\n 'tranyen': ['lucyen', 'yenbinh'],\n 'uongbi': ['mongcai'],\n 'halong': ['vandon'],\n 'haiduong': ['binhgiang'],\n 'phucu': ['hungyen'],\n 'dongson': ['thanhhoa', 'bimson'],\n 'thanhhoa': ['nhuxuan'],\n 'kyson': ['tanky'],\n 'vinh': ['anhson', 'yenthanh', 'hoangmai'],\n 'huongthuy': ['hue', 'hue', 'hue'],\n 'giang': ['thangbinh', 'bactramy', 'nuithanh'],\n 'tramy': ['bactramy'],\n 'sontinh': ['sontay'],\n 'ducpho': ['moduc'],\n 'iapa': ['chuse'],\n 'krongbuk': ['krongpac'],\n 'hoathanh': ['chauthanh'],\n 'thongnhat': ['bienhoa'],\n 'tanphu': ['thuduc', 'quan7'],\n 'tanan': ['canduoc'],\n 'tanphuoc': ['gocongdong'],\n 'cainhum': ['mangthit'],\n 'chauphu': ['chaudoc', 'chaudoc'],\n 'anminh': ['chauthanh', 'uminhthuong']}"
     },
     "execution_count": 13,
     "metadata": {},
     "output_type": "execute_result"
    }
   ],
   "source": [
    "data"
   ],
   "metadata": {
    "collapsed": false,
    "ExecuteTime": {
     "end_time": "2024-09-16T08:26:37.234315Z",
     "start_time": "2024-09-16T08:26:37.230944Z"
    }
   },
   "id": "ab972de15ff21dd2",
   "execution_count": 13
  }
 ],
 "metadata": {
  "kernelspec": {
   "display_name": "Python 3",
   "language": "python",
   "name": "python3"
  },
  "language_info": {
   "codemirror_mode": {
    "name": "ipython",
    "version": 2
   },
   "file_extension": ".py",
   "mimetype": "text/x-python",
   "name": "python",
   "nbconvert_exporter": "python",
   "pygments_lexer": "ipython2",
   "version": "2.7.6"
  }
 },
 "nbformat": 4,
 "nbformat_minor": 5
}
